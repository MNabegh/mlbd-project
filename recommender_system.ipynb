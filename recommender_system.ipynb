{
  "nbformat": 4,
  "nbformat_minor": 5,
  "metadata": {
    "kernelspec": {
      "display_name": "Python 3",
      "language": "python",
      "name": "python3"
    },
    "language_info": {
      "codemirror_mode": {
        "name": "ipython",
        "version": 3
      },
      "file_extension": ".py",
      "mimetype": "text/x-python",
      "name": "python",
      "nbconvert_exporter": "python",
      "pygments_lexer": "ipython3",
      "version": "3.7.10"
    },
    "colab": {
      "name": "recommender_system.ipynb",
      "provenance": [],
      "include_colab_link": true
    }
  },
  "cells": [
    {
      "cell_type": "markdown",
      "metadata": {
        "id": "view-in-github",
        "colab_type": "text"
      },
      "source": [
        "<a href=\"https://colab.research.google.com/github/MNabegh/mlbd-project/blob/master/recommender_system.ipynb\" target=\"_parent\"><img src=\"https://colab.research.google.com/assets/colab-badge.svg\" alt=\"Open In Colab\"/></a>"
      ]
    },
    {
      "cell_type": "code",
      "metadata": {
        "id": "0VEXgpNp1Cqi"
      },
      "source": [
        "import os\n",
        "\n",
        "path = 'lastfm-dataset-1K'\n",
        "\n",
        "if not os.path.exists(path):\n",
        "\n",
        "  !wget http://mtg.upf.edu/static/datasets/last.fm/lastfm-dataset-1K.tar.gz\n",
        "  !tar -xvzf lastfm-dataset-1K.tar.gz\n"
      ],
      "id": "0VEXgpNp1Cqi",
      "execution_count": 1,
      "outputs": []
    },
    {
      "cell_type": "code",
      "metadata": {
        "colab": {
          "base_uri": "https://localhost:8080/"
        },
        "id": "dHPzdYY01CTs",
        "outputId": "f60d677b-8781-4f1a-9c9e-70386e337b22"
      },
      "source": [
        "!ls"
      ],
      "id": "dHPzdYY01CTs",
      "execution_count": 2,
      "outputs": [
        {
          "output_type": "stream",
          "text": [
            "drive\t\t   lastfm-dataset-1K.tar.gz  sample_data\n",
            "lastfm-dataset-1K  ratings_fig.eps\n"
          ],
          "name": "stdout"
        }
      ]
    },
    {
      "cell_type": "code",
      "metadata": {
        "id": "PQ162BxguWhK",
        "colab": {
          "base_uri": "https://localhost:8080/"
        },
        "outputId": "051a3e7b-3755-4ed5-f4d1-59827440b1e4"
      },
      "source": [
        "import os\n",
        "from google.colab import drive\n",
        "drive.mount('/content/drive')"
      ],
      "id": "PQ162BxguWhK",
      "execution_count": 3,
      "outputs": [
        {
          "output_type": "stream",
          "text": [
            "Drive already mounted at /content/drive; to attempt to forcibly remount, call drive.mount(\"/content/drive\", force_remount=True).\n"
          ],
          "name": "stdout"
        }
      ]
    },
    {
      "cell_type": "code",
      "metadata": {
        "id": "IkLzfmKxv1nY",
        "colab": {
          "base_uri": "https://localhost:8080/"
        },
        "outputId": "23d1ae0d-e4f5-4d5c-ff24-02ee4e7b0672"
      },
      "source": [
        "!ls drive/MyDrive/data"
      ],
      "id": "IkLzfmKxv1nY",
      "execution_count": 4,
      "outputs": [
        {
          "output_type": "stream",
          "text": [
            "feature_df_with_emb_clean.csv  song_map_reduced.csv\n",
            "feature_df_with_emb.csv        spotify_features_cleaned.csv\n",
            "genres_3d_mapping.json\t       spotify_features.csv\n",
            "genres_map.html\t\t       spotify_uris.csv\n",
            "ratings_fig.eps\t\t       topics_embedded.pkl\n",
            "song_map.csv\t\t       umap.csv\n"
          ],
          "name": "stdout"
        }
      ]
    },
    {
      "cell_type": "code",
      "metadata": {
        "id": "legislative-photography",
        "colab": {
          "base_uri": "https://localhost:8080/"
        },
        "outputId": "86e39f76-5c97-46cd-cc1c-d5b51de31b5c"
      },
      "source": [
        "import pandas as pd\n",
        "import matplotlib.pyplot as plt\n",
        "import seaborn as sns\n",
        "from io import StringIO\n",
        "import numpy as np\n",
        "from tqdm import tqdm\n",
        "from sklearn.model_selection import train_test_split\n",
        "from sklearn.metrics import roc_auc_score\n",
        "import scipy.sparse as sp\n",
        "import tensorflow as tf\n",
        "from tqdm import tqdm\n",
        "import pandas as pd\n",
        "import numpy as np\n",
        "\n",
        "from keras.utils.vis_utils import model_to_dot\n",
        "from IPython.display import SVG\n",
        "import matplotlib.pyplot as plt\n",
        "import matplotlib as mpl\n",
        "mpl.style.use('seaborn')\n",
        "%matplotlib inline\n",
        "\n",
        "import datetime\n",
        "import time \n",
        "import math\n",
        "import os\n",
        "%config Completer.use_jedi = False"
      ],
      "id": "legislative-photography",
      "execution_count": 5,
      "outputs": [
        {
          "output_type": "stream",
          "text": [
            "/usr/local/lib/python3.7/dist-packages/ipykernel_launcher.py:26: UserWarning: Config option `use_jedi` not recognized by `IPCompleter`.\n"
          ],
          "name": "stderr"
        }
      ]
    },
    {
      "cell_type": "code",
      "metadata": {
        "id": "y6JENn92JzyY"
      },
      "source": [
        "path = \"drive/MyDrive/data/feature_df_with_emb_clean.csv\"\n",
        "\n",
        "feature_df_with_emb = pd.read_csv(path)\n",
        "feature_df_with_emb = feature_df_with_emb.drop(columns=['Unnamed: 0', 'genres', 'genres_emb'])\n",
        "feature_df_with_emb = feature_df_with_emb.dropna()"
      ],
      "id": "y6JENn92JzyY",
      "execution_count": 6,
      "outputs": []
    },
    {
      "cell_type": "code",
      "metadata": {
        "id": "9MPlx151Mo_8",
        "colab": {
          "base_uri": "https://localhost:8080/",
          "height": 204
        },
        "outputId": "4b2ad8b2-fe36-47ba-e44a-f52eb676d636"
      },
      "source": [
        "feature_df_with_emb.head()"
      ],
      "id": "9MPlx151Mo_8",
      "execution_count": 7,
      "outputs": [
        {
          "output_type": "execute_result",
          "data": {
            "text/html": [
              "<div>\n",
              "<style scoped>\n",
              "    .dataframe tbody tr th:only-of-type {\n",
              "        vertical-align: middle;\n",
              "    }\n",
              "\n",
              "    .dataframe tbody tr th {\n",
              "        vertical-align: top;\n",
              "    }\n",
              "\n",
              "    .dataframe thead th {\n",
              "        text-align: right;\n",
              "    }\n",
              "</style>\n",
              "<table border=\"1\" class=\"dataframe\">\n",
              "  <thead>\n",
              "    <tr style=\"text-align: right;\">\n",
              "      <th></th>\n",
              "      <th>artist</th>\n",
              "      <th>track</th>\n",
              "      <th>danceability</th>\n",
              "      <th>energy</th>\n",
              "      <th>key</th>\n",
              "      <th>loudness</th>\n",
              "      <th>mode</th>\n",
              "      <th>speechiness</th>\n",
              "      <th>acousticness</th>\n",
              "      <th>instrumentalness</th>\n",
              "      <th>liveness</th>\n",
              "      <th>valence</th>\n",
              "      <th>tempo</th>\n",
              "      <th>duration_ms</th>\n",
              "      <th>popularity</th>\n",
              "      <th>emb_x</th>\n",
              "      <th>emb_y</th>\n",
              "      <th>emb_z</th>\n",
              "    </tr>\n",
              "  </thead>\n",
              "  <tbody>\n",
              "    <tr>\n",
              "      <th>0</th>\n",
              "      <td>坂本龍一</td>\n",
              "      <td>Composition 0919 (Live_2009_4_15)</td>\n",
              "      <td>0.806</td>\n",
              "      <td>0.413</td>\n",
              "      <td>5.0</td>\n",
              "      <td>-12.883</td>\n",
              "      <td>1.0</td>\n",
              "      <td>0.1560</td>\n",
              "      <td>0.987</td>\n",
              "      <td>0.794</td>\n",
              "      <td>0.1130</td>\n",
              "      <td>0.5290</td>\n",
              "      <td>105.089</td>\n",
              "      <td>330253.0</td>\n",
              "      <td>62</td>\n",
              "      <td>7.375277</td>\n",
              "      <td>4.894493</td>\n",
              "      <td>0.943493</td>\n",
              "    </tr>\n",
              "    <tr>\n",
              "      <th>1</th>\n",
              "      <td>坂本龍一</td>\n",
              "      <td>Hibari (Live_2009_4_15)</td>\n",
              "      <td>0.604</td>\n",
              "      <td>0.283</td>\n",
              "      <td>9.0</td>\n",
              "      <td>-19.811</td>\n",
              "      <td>0.0</td>\n",
              "      <td>0.0583</td>\n",
              "      <td>0.996</td>\n",
              "      <td>0.916</td>\n",
              "      <td>0.1140</td>\n",
              "      <td>0.2700</td>\n",
              "      <td>137.802</td>\n",
              "      <td>540133.0</td>\n",
              "      <td>62</td>\n",
              "      <td>7.375277</td>\n",
              "      <td>4.894493</td>\n",
              "      <td>0.943493</td>\n",
              "    </tr>\n",
              "    <tr>\n",
              "      <th>2</th>\n",
              "      <td>坂本龍一</td>\n",
              "      <td>To Stanford (Live_2009_4_15)</td>\n",
              "      <td>0.453</td>\n",
              "      <td>0.163</td>\n",
              "      <td>5.0</td>\n",
              "      <td>-20.922</td>\n",
              "      <td>1.0</td>\n",
              "      <td>0.0519</td>\n",
              "      <td>0.990</td>\n",
              "      <td>0.939</td>\n",
              "      <td>0.1010</td>\n",
              "      <td>0.0703</td>\n",
              "      <td>73.926</td>\n",
              "      <td>216853.0</td>\n",
              "      <td>39</td>\n",
              "      <td>7.375277</td>\n",
              "      <td>4.894493</td>\n",
              "      <td>0.943493</td>\n",
              "    </tr>\n",
              "    <tr>\n",
              "      <th>3</th>\n",
              "      <td>坂本龍一</td>\n",
              "      <td>Improvisation (Live_2009_4_15)</td>\n",
              "      <td>0.217</td>\n",
              "      <td>0.012</td>\n",
              "      <td>5.0</td>\n",
              "      <td>-36.464</td>\n",
              "      <td>1.0</td>\n",
              "      <td>0.0376</td>\n",
              "      <td>0.991</td>\n",
              "      <td>0.859</td>\n",
              "      <td>0.0866</td>\n",
              "      <td>0.0376</td>\n",
              "      <td>80.714</td>\n",
              "      <td>384707.0</td>\n",
              "      <td>62</td>\n",
              "      <td>7.375277</td>\n",
              "      <td>4.894493</td>\n",
              "      <td>0.943493</td>\n",
              "    </tr>\n",
              "    <tr>\n",
              "      <th>4</th>\n",
              "      <td>坂本龍一</td>\n",
              "      <td>Glacier (Live_2009_4_15)</td>\n",
              "      <td>0.518</td>\n",
              "      <td>0.213</td>\n",
              "      <td>9.0</td>\n",
              "      <td>-28.790</td>\n",
              "      <td>0.0</td>\n",
              "      <td>0.2090</td>\n",
              "      <td>0.869</td>\n",
              "      <td>0.898</td>\n",
              "      <td>0.1030</td>\n",
              "      <td>0.0920</td>\n",
              "      <td>104.191</td>\n",
              "      <td>580707.0</td>\n",
              "      <td>62</td>\n",
              "      <td>7.375277</td>\n",
              "      <td>4.894493</td>\n",
              "      <td>0.943493</td>\n",
              "    </tr>\n",
              "  </tbody>\n",
              "</table>\n",
              "</div>"
            ],
            "text/plain": [
              "  artist                              track  ...     emb_y     emb_z\n",
              "0   坂本龍一  Composition 0919 (Live_2009_4_15)  ...  4.894493  0.943493\n",
              "1   坂本龍一            Hibari (Live_2009_4_15)  ...  4.894493  0.943493\n",
              "2   坂本龍一       To Stanford (Live_2009_4_15)  ...  4.894493  0.943493\n",
              "3   坂本龍一     Improvisation (Live_2009_4_15)  ...  4.894493  0.943493\n",
              "4   坂本龍一           Glacier (Live_2009_4_15)  ...  4.894493  0.943493\n",
              "\n",
              "[5 rows x 18 columns]"
            ]
          },
          "metadata": {
            "tags": []
          },
          "execution_count": 7
        }
      ]
    },
    {
      "cell_type": "code",
      "metadata": {
        "colab": {
          "base_uri": "https://localhost:8080/"
        },
        "id": "pbPM69yFJeLO",
        "outputId": "7cbba0f3-cae6-4451-bef0-644096ff8762"
      },
      "source": [
        "feature_df_with_emb.isna().sum()"
      ],
      "id": "pbPM69yFJeLO",
      "execution_count": 8,
      "outputs": [
        {
          "output_type": "execute_result",
          "data": {
            "text/plain": [
              "artist              0\n",
              "track               0\n",
              "danceability        0\n",
              "energy              0\n",
              "key                 0\n",
              "loudness            0\n",
              "mode                0\n",
              "speechiness         0\n",
              "acousticness        0\n",
              "instrumentalness    0\n",
              "liveness            0\n",
              "valence             0\n",
              "tempo               0\n",
              "duration_ms         0\n",
              "popularity          0\n",
              "emb_x               0\n",
              "emb_y               0\n",
              "emb_z               0\n",
              "dtype: int64"
            ]
          },
          "metadata": {
            "tags": []
          },
          "execution_count": 8
        }
      ]
    },
    {
      "cell_type": "code",
      "metadata": {
        "id": "greatest-invitation"
      },
      "source": [
        "# Load the dataset\n",
        "df = pd.read_table('lastfm-dataset-1K/userid-timestamp-artid-artname-traid-traname.tsv', lineterminator='\\n', warn_bad_lines=True, names=['user', 'timestamp', 'artist-id', 'artist', 'song-id', 'song'])\n",
        "df_profile = pd.read_csv('lastfm-dataset-1K/userid-profile.tsv', sep='\\t', error_bad_lines=False, warn_bad_lines=True, skiprows=1, names=['user', 'gender', 'age', 'country', 'signup'])"
      ],
      "id": "greatest-invitation",
      "execution_count": 9,
      "outputs": []
    },
    {
      "cell_type": "code",
      "metadata": {
        "id": "union-season"
      },
      "source": [
        "# Check if some songs share a common ID\n",
        "grouped = df[['song-id', 'song']].groupby(['song-id']).nunique()"
      ],
      "id": "union-season",
      "execution_count": 10,
      "outputs": []
    },
    {
      "cell_type": "code",
      "metadata": {
        "id": "aerial-damages"
      },
      "source": [
        "# Get rows with song names containing multiple rows\n",
        "duplicated = df.loc[df['song-id'].isin(grouped[grouped['song'] > 1].index)]\n",
        "duplicated = duplicated.drop(columns=['user', 'timestamp', 'artist', 'artist-id'])\n",
        "containis_extra_rows = duplicated.apply(lambda x: pd.Series({'id': x[0], 'song': x[1], 'flag':'\\n' in x[1]}), axis=1)\n",
        "containis_extra_rows = containis_extra_rows.loc[containis_extra_rows['flag']]"
      ],
      "id": "aerial-damages",
      "execution_count": 11,
      "outputs": []
    },
    {
      "cell_type": "code",
      "metadata": {
        "id": "smoking-vanilla"
      },
      "source": [
        "# Iterate over those 5k rows to get the extra rows and correct the song name\n",
        "for index, row in containis_extra_rows.iterrows():\n",
        "    row_break = row['song'].split('\\n', 1)\n",
        "    song_name = row_break[0]\n",
        "    df.loc[df['song-id'] == row['id'], 'song'] = song_name\n",
        "    \n",
        "    tsv = StringIO(row_break[1])\n",
        "    df_extra = pd.read_csv(tsv, sep=\"\\t\", warn_bad_lines=True, names=['user', 'timestamp', 'artist-id', 'artist', 'song-id', 'song'])\n",
        "    df = df.append(df_extra, ignore_index=True)"
      ],
      "id": "smoking-vanilla",
      "execution_count": 12,
      "outputs": []
    },
    {
      "cell_type": "markdown",
      "metadata": {
        "id": "green-cloud"
      },
      "source": [
        "### Fix names"
      ],
      "id": "green-cloud"
    },
    {
      "cell_type": "code",
      "metadata": {
        "id": "marked-return"
      },
      "source": [
        "# Check if some songs share a common ID\n",
        "grouped = df[['song-id', 'song']].groupby(['song-id']).nunique()"
      ],
      "id": "marked-return",
      "execution_count": 13,
      "outputs": []
    },
    {
      "cell_type": "code",
      "metadata": {
        "id": "developing-roots",
        "colab": {
          "base_uri": "https://localhost:8080/"
        },
        "outputId": "9cbeccf2-b753-4b75-cb2f-2a21e58f46de"
      },
      "source": [
        "# Check how many ids has more than 1 song name\n",
        "grouped[grouped['song'] > 1].shape[0]"
      ],
      "id": "developing-roots",
      "execution_count": 14,
      "outputs": [
        {
          "output_type": "execute_result",
          "data": {
            "text/plain": [
              "200"
            ]
          },
          "metadata": {
            "tags": []
          },
          "execution_count": 14
        }
      ]
    },
    {
      "cell_type": "code",
      "metadata": {
        "id": "million-deputy"
      },
      "source": [
        "ids_to_be_fixed = grouped[grouped['song'] > 1].index"
      ],
      "id": "million-deputy",
      "execution_count": 15,
      "outputs": []
    },
    {
      "cell_type": "code",
      "metadata": {
        "id": "compact-standing"
      },
      "source": [
        "df = df.set_index('song-id')"
      ],
      "id": "compact-standing",
      "execution_count": 16,
      "outputs": []
    },
    {
      "cell_type": "code",
      "metadata": {
        "id": "waiting-efficiency"
      },
      "source": [
        "map_to_fix = df.groupby(df.index)['song'].head(1)"
      ],
      "id": "waiting-efficiency",
      "execution_count": 17,
      "outputs": []
    },
    {
      "cell_type": "code",
      "metadata": {
        "id": "satellite-chile"
      },
      "source": [
        "df.loc[ids_to_be_fixed, 'song'] = df.loc[ids_to_be_fixed].reset_index()['song-id'].map(lambda x: map_to_fix[x])\n",
        "df = df.reset_index()"
      ],
      "id": "satellite-chile",
      "execution_count": 18,
      "outputs": []
    },
    {
      "cell_type": "markdown",
      "metadata": {
        "id": "experimental-canal"
      },
      "source": [
        "### Create matrix"
      ],
      "id": "experimental-canal"
    },
    {
      "cell_type": "code",
      "metadata": {
        "id": "approved-episode"
      },
      "source": [
        "matrix_init = df.groupby(['user', 'artist', 'song']).count()"
      ],
      "id": "approved-episode",
      "execution_count": 19,
      "outputs": []
    },
    {
      "cell_type": "code",
      "metadata": {
        "id": "streaming-platform"
      },
      "source": [
        "matrix_init = matrix_init['timestamp']\n",
        "matrix_init = matrix_init.map(lambda x: np.log(x))"
      ],
      "id": "streaming-platform",
      "execution_count": 20,
      "outputs": []
    },
    {
      "cell_type": "code",
      "metadata": {
        "id": "wired-master"
      },
      "source": [
        "matrix_init = matrix_init.reset_index()"
      ],
      "id": "wired-master",
      "execution_count": 21,
      "outputs": []
    },
    {
      "cell_type": "code",
      "metadata": {
        "id": "peaceful-uzbekistan"
      },
      "source": [
        "def rating_scaler(row):\n",
        "    row_array = np.array(row)\n",
        "    lower_bound, new_range= 3, 7\n",
        "    min_, max_ = row_array.min(), row_array.max()\n",
        "    old_range = max_ - min_\n",
        "    \n",
        "    \n",
        "    scaled_row = (new_range * (row_array - min_)) / (old_range + 1e-6)  + lower_bound\n",
        "    scaled_row[scaled_row == -1] = 0\n",
        "    return pd.Series(scaled_row)"
      ],
      "id": "peaceful-uzbekistan",
      "execution_count": 22,
      "outputs": []
    },
    {
      "cell_type": "code",
      "metadata": {
        "id": "jwZGo8Gx4LG8"
      },
      "source": [
        ""
      ],
      "id": "jwZGo8Gx4LG8",
      "execution_count": 22,
      "outputs": []
    },
    {
      "cell_type": "code",
      "metadata": {
        "id": "sunrise-article"
      },
      "source": [
        "matrix_init_scaled = matrix_init.groupby('user')['timestamp'].apply(rating_scaler)"
      ],
      "id": "sunrise-article",
      "execution_count": 23,
      "outputs": []
    },
    {
      "cell_type": "code",
      "metadata": {
        "id": "promising-sussex"
      },
      "source": [
        "matrix_init['timestamp'] = matrix_init_scaled.reset_index()['timestamp']"
      ],
      "id": "promising-sussex",
      "execution_count": 24,
      "outputs": []
    },
    {
      "cell_type": "code",
      "metadata": {
        "id": "1xz9agnu2Acj",
        "colab": {
          "base_uri": "https://localhost:8080/"
        },
        "outputId": "5556df69-67fe-45ff-d083-b7e74cfd30ce"
      },
      "source": [
        "matrix_init['timestamp'].describe()"
      ],
      "id": "1xz9agnu2Acj",
      "execution_count": 25,
      "outputs": [
        {
          "output_type": "execute_result",
          "data": {
            "text/plain": [
              "count    4.613822e+06\n",
              "mean     4.247989e+00\n",
              "std      1.477874e+00\n",
              "min      3.000000e+00\n",
              "25%      3.000000e+00\n",
              "50%      3.937382e+00\n",
              "75%      5.201265e+00\n",
              "max      9.999999e+00\n",
              "Name: timestamp, dtype: float64"
            ]
          },
          "metadata": {
            "tags": []
          },
          "execution_count": 25
        }
      ]
    },
    {
      "cell_type": "code",
      "metadata": {
        "colab": {
          "base_uri": "https://localhost:8080/"
        },
        "id": "H4U2zX1mFFJh",
        "outputId": "0640fffe-cbf7-4ac0-de63-990c3005a948"
      },
      "source": [
        "(matrix_init['timestamp'] == 0).sum() / matrix_init.shape[0]"
      ],
      "id": "H4U2zX1mFFJh",
      "execution_count": 26,
      "outputs": [
        {
          "output_type": "execute_result",
          "data": {
            "text/plain": [
              "0.0"
            ]
          },
          "metadata": {
            "tags": []
          },
          "execution_count": 26
        }
      ]
    },
    {
      "cell_type": "code",
      "metadata": {
        "id": "RegnknnLcdpr"
      },
      "source": [
        "feature_df_with_emb['item'] = feature_df_with_emb.apply(lambda row: row[1]+' '+row[0], axis=1)"
      ],
      "id": "RegnknnLcdpr",
      "execution_count": 27,
      "outputs": []
    },
    {
      "cell_type": "code",
      "metadata": {
        "id": "Ilcbgky8mxyH"
      },
      "source": [
        "topics_df = pd.read_pickle('drive/MyDrive/data/topics_embedded.pkl')\n",
        "topics_df[['topic_1', 'topic_2', 'topic_3', 'topic_4', 'topic_5', 'topic_6']] = pd.DataFrame(topics_df['topics'].tolist(), index= topics_df.index)\n",
        "topics_df = topics_df.drop(columns=['Lyrics', 'Lyrics_en', 'topics'])\n",
        "topics_df = topics_df.rename({'Song_Artist':'item'}, axis=1)"
      ],
      "id": "Ilcbgky8mxyH",
      "execution_count": 28,
      "outputs": []
    },
    {
      "cell_type": "code",
      "metadata": {
        "colab": {
          "base_uri": "https://localhost:8080/",
          "height": 204
        },
        "id": "Pj18D6cemzuc",
        "outputId": "810f1096-8ce4-4f75-d84d-121e0e256ab1"
      },
      "source": [
        "topics_df.head()"
      ],
      "id": "Pj18D6cemzuc",
      "execution_count": 29,
      "outputs": [
        {
          "output_type": "execute_result",
          "data": {
            "text/html": [
              "<div>\n",
              "<style scoped>\n",
              "    .dataframe tbody tr th:only-of-type {\n",
              "        vertical-align: middle;\n",
              "    }\n",
              "\n",
              "    .dataframe tbody tr th {\n",
              "        vertical-align: top;\n",
              "    }\n",
              "\n",
              "    .dataframe thead th {\n",
              "        text-align: right;\n",
              "    }\n",
              "</style>\n",
              "<table border=\"1\" class=\"dataframe\">\n",
              "  <thead>\n",
              "    <tr style=\"text-align: right;\">\n",
              "      <th></th>\n",
              "      <th>item</th>\n",
              "      <th>topic_1</th>\n",
              "      <th>topic_2</th>\n",
              "      <th>topic_3</th>\n",
              "      <th>topic_4</th>\n",
              "      <th>topic_5</th>\n",
              "      <th>topic_6</th>\n",
              "    </tr>\n",
              "  </thead>\n",
              "  <tbody>\n",
              "    <tr>\n",
              "      <th>220800</th>\n",
              "      <td>The Real Thing Kylie Minogue</td>\n",
              "      <td>0.908270</td>\n",
              "      <td>0.016006</td>\n",
              "      <td>0.015615</td>\n",
              "      <td>0.024251</td>\n",
              "      <td>0.019674</td>\n",
              "      <td>0.016184</td>\n",
              "    </tr>\n",
              "    <tr>\n",
              "      <th>220803</th>\n",
              "      <td>I Surrender The Adverts</td>\n",
              "      <td>0.082533</td>\n",
              "      <td>0.075666</td>\n",
              "      <td>0.303093</td>\n",
              "      <td>0.092924</td>\n",
              "      <td>0.151675</td>\n",
              "      <td>0.294109</td>\n",
              "    </tr>\n",
              "    <tr>\n",
              "      <th>220806</th>\n",
              "      <td>Woebegone Anneli Drecker</td>\n",
              "      <td>0.221403</td>\n",
              "      <td>0.041089</td>\n",
              "      <td>0.072499</td>\n",
              "      <td>0.088735</td>\n",
              "      <td>0.032662</td>\n",
              "      <td>0.543613</td>\n",
              "    </tr>\n",
              "    <tr>\n",
              "      <th>220807</th>\n",
              "      <td>Aina Nälkä Sielun Veljet</td>\n",
              "      <td>0.242173</td>\n",
              "      <td>0.342328</td>\n",
              "      <td>0.270193</td>\n",
              "      <td>0.018940</td>\n",
              "      <td>0.025390</td>\n",
              "      <td>0.100976</td>\n",
              "    </tr>\n",
              "    <tr>\n",
              "      <th>220808</th>\n",
              "      <td>Bla Bla Bla Toots &amp; The Maytals</td>\n",
              "      <td>0.681251</td>\n",
              "      <td>0.119072</td>\n",
              "      <td>0.000000</td>\n",
              "      <td>0.017217</td>\n",
              "      <td>0.167817</td>\n",
              "      <td>0.000000</td>\n",
              "    </tr>\n",
              "  </tbody>\n",
              "</table>\n",
              "</div>"
            ],
            "text/plain": [
              "                                   item   topic_1  ...   topic_5   topic_6\n",
              "220800     The Real Thing Kylie Minogue  0.908270  ...  0.019674  0.016184\n",
              "220803          I Surrender The Adverts  0.082533  ...  0.151675  0.294109\n",
              "220806         Woebegone Anneli Drecker  0.221403  ...  0.032662  0.543613\n",
              "220807         Aina Nälkä Sielun Veljet  0.242173  ...  0.025390  0.100976\n",
              "220808  Bla Bla Bla Toots & The Maytals  0.681251  ...  0.167817  0.000000\n",
              "\n",
              "[5 rows x 7 columns]"
            ]
          },
          "metadata": {
            "tags": []
          },
          "execution_count": 29
        }
      ]
    },
    {
      "cell_type": "markdown",
      "metadata": {
        "id": "working-dylan"
      },
      "source": [
        "### Merge data"
      ],
      "id": "working-dylan"
    },
    {
      "cell_type": "code",
      "metadata": {
        "id": "silent-present"
      },
      "source": [
        "matrix_init = matrix_init.rename({'timestamp':'rating', 'song':'track'}, axis=1)"
      ],
      "id": "silent-present",
      "execution_count": 30,
      "outputs": []
    },
    {
      "cell_type": "code",
      "metadata": {
        "colab": {
          "base_uri": "https://localhost:8080/",
          "height": 290
        },
        "id": "-PVh-RlLpxEB",
        "outputId": "37b30bb4-2d99-49f6-8007-c29e8461b81c"
      },
      "source": [
        "matrix_init['rating'].plot.hist()\n",
        "plt.xlabel('Rating')\n",
        "plt.savefig('drive/MyDrive/data/ratings_fig.eps', format='eps')\n",
        "plt.show()"
      ],
      "id": "-PVh-RlLpxEB",
      "execution_count": 31,
      "outputs": [
        {
          "output_type": "display_data",
          "data": {
            "image/png": "[encoded data removed]",
            "text/plain": [
              "<Figure size 432x288 with 1 Axes>"
            ]
          },
          "metadata": {
            "tags": [],
            "needs_background": "light"
          }
        }
      ]
    },
    {
      "cell_type": "code",
      "metadata": {
        "id": "potential-replica"
      },
      "source": [
        "matrix_extended = matrix_init.merge(feature_df_with_emb, on=['artist', 'track'])"
      ],
      "id": "potential-replica",
      "execution_count": 32,
      "outputs": []
    },
    {
      "cell_type": "code",
      "metadata": {
        "id": "formal-token",
        "colab": {
          "base_uri": "https://localhost:8080/",
          "height": 374
        },
        "outputId": "f2ff2986-d34f-4e2d-eb4a-7d51fae2c183"
      },
      "source": [
        "matrix_extended.head()"
      ],
      "id": "formal-token",
      "execution_count": 33,
      "outputs": [
        {
          "output_type": "execute_result",
          "data": {
            "text/html": [
              "<div>\n",
              "<style scoped>\n",
              "    .dataframe tbody tr th:only-of-type {\n",
              "        vertical-align: middle;\n",
              "    }\n",
              "\n",
              "    .dataframe tbody tr th {\n",
              "        vertical-align: top;\n",
              "    }\n",
              "\n",
              "    .dataframe thead th {\n",
              "        text-align: right;\n",
              "    }\n",
              "</style>\n",
              "<table border=\"1\" class=\"dataframe\">\n",
              "  <thead>\n",
              "    <tr style=\"text-align: right;\">\n",
              "      <th></th>\n",
              "      <th>user</th>\n",
              "      <th>artist</th>\n",
              "      <th>track</th>\n",
              "      <th>rating</th>\n",
              "      <th>danceability</th>\n",
              "      <th>energy</th>\n",
              "      <th>key</th>\n",
              "      <th>loudness</th>\n",
              "      <th>mode</th>\n",
              "      <th>speechiness</th>\n",
              "      <th>acousticness</th>\n",
              "      <th>instrumentalness</th>\n",
              "      <th>liveness</th>\n",
              "      <th>valence</th>\n",
              "      <th>tempo</th>\n",
              "      <th>duration_ms</th>\n",
              "      <th>popularity</th>\n",
              "      <th>emb_x</th>\n",
              "      <th>emb_y</th>\n",
              "      <th>emb_z</th>\n",
              "      <th>item</th>\n",
              "    </tr>\n",
              "  </thead>\n",
              "  <tbody>\n",
              "    <tr>\n",
              "      <th>0</th>\n",
              "      <td>user_000001</td>\n",
              "      <td>2562</td>\n",
              "      <td>Basin Dub</td>\n",
              "      <td>4.142058</td>\n",
              "      <td>0.644</td>\n",
              "      <td>0.431</td>\n",
              "      <td>11.0</td>\n",
              "      <td>-7.676</td>\n",
              "      <td>1.0</td>\n",
              "      <td>0.206</td>\n",
              "      <td>0.0393</td>\n",
              "      <td>0.3</td>\n",
              "      <td>0.159</td>\n",
              "      <td>0.347</td>\n",
              "      <td>139.998</td>\n",
              "      <td>292769.0</td>\n",
              "      <td>19</td>\n",
              "      <td>5.311094</td>\n",
              "      <td>6.10387</td>\n",
              "      <td>3.313273</td>\n",
              "      <td>Basin Dub 2562</td>\n",
              "    </tr>\n",
              "    <tr>\n",
              "      <th>1</th>\n",
              "      <td>user_000451</td>\n",
              "      <td>2562</td>\n",
              "      <td>Basin Dub</td>\n",
              "      <td>4.080958</td>\n",
              "      <td>0.644</td>\n",
              "      <td>0.431</td>\n",
              "      <td>11.0</td>\n",
              "      <td>-7.676</td>\n",
              "      <td>1.0</td>\n",
              "      <td>0.206</td>\n",
              "      <td>0.0393</td>\n",
              "      <td>0.3</td>\n",
              "      <td>0.159</td>\n",
              "      <td>0.347</td>\n",
              "      <td>139.998</td>\n",
              "      <td>292769.0</td>\n",
              "      <td>19</td>\n",
              "      <td>5.311094</td>\n",
              "      <td>6.10387</td>\n",
              "      <td>3.313273</td>\n",
              "      <td>Basin Dub 2562</td>\n",
              "    </tr>\n",
              "    <tr>\n",
              "      <th>2</th>\n",
              "      <td>user_000471</td>\n",
              "      <td>2562</td>\n",
              "      <td>Basin Dub</td>\n",
              "      <td>3.000000</td>\n",
              "      <td>0.644</td>\n",
              "      <td>0.431</td>\n",
              "      <td>11.0</td>\n",
              "      <td>-7.676</td>\n",
              "      <td>1.0</td>\n",
              "      <td>0.206</td>\n",
              "      <td>0.0393</td>\n",
              "      <td>0.3</td>\n",
              "      <td>0.159</td>\n",
              "      <td>0.347</td>\n",
              "      <td>139.998</td>\n",
              "      <td>292769.0</td>\n",
              "      <td>19</td>\n",
              "      <td>5.311094</td>\n",
              "      <td>6.10387</td>\n",
              "      <td>3.313273</td>\n",
              "      <td>Basin Dub 2562</td>\n",
              "    </tr>\n",
              "    <tr>\n",
              "      <th>3</th>\n",
              "      <td>user_000508</td>\n",
              "      <td>2562</td>\n",
              "      <td>Basin Dub</td>\n",
              "      <td>4.976012</td>\n",
              "      <td>0.644</td>\n",
              "      <td>0.431</td>\n",
              "      <td>11.0</td>\n",
              "      <td>-7.676</td>\n",
              "      <td>1.0</td>\n",
              "      <td>0.206</td>\n",
              "      <td>0.0393</td>\n",
              "      <td>0.3</td>\n",
              "      <td>0.159</td>\n",
              "      <td>0.347</td>\n",
              "      <td>139.998</td>\n",
              "      <td>292769.0</td>\n",
              "      <td>19</td>\n",
              "      <td>5.311094</td>\n",
              "      <td>6.10387</td>\n",
              "      <td>3.313273</td>\n",
              "      <td>Basin Dub 2562</td>\n",
              "    </tr>\n",
              "    <tr>\n",
              "      <th>4</th>\n",
              "      <td>user_000515</td>\n",
              "      <td>2562</td>\n",
              "      <td>Basin Dub</td>\n",
              "      <td>3.973598</td>\n",
              "      <td>0.644</td>\n",
              "      <td>0.431</td>\n",
              "      <td>11.0</td>\n",
              "      <td>-7.676</td>\n",
              "      <td>1.0</td>\n",
              "      <td>0.206</td>\n",
              "      <td>0.0393</td>\n",
              "      <td>0.3</td>\n",
              "      <td>0.159</td>\n",
              "      <td>0.347</td>\n",
              "      <td>139.998</td>\n",
              "      <td>292769.0</td>\n",
              "      <td>19</td>\n",
              "      <td>5.311094</td>\n",
              "      <td>6.10387</td>\n",
              "      <td>3.313273</td>\n",
              "      <td>Basin Dub 2562</td>\n",
              "    </tr>\n",
              "  </tbody>\n",
              "</table>\n",
              "</div>"
            ],
            "text/plain": [
              "          user artist      track  ...    emb_y     emb_z            item\n",
              "0  user_000001   2562  Basin Dub  ...  6.10387  3.313273  Basin Dub 2562\n",
              "1  user_000451   2562  Basin Dub  ...  6.10387  3.313273  Basin Dub 2562\n",
              "2  user_000471   2562  Basin Dub  ...  6.10387  3.313273  Basin Dub 2562\n",
              "3  user_000508   2562  Basin Dub  ...  6.10387  3.313273  Basin Dub 2562\n",
              "4  user_000515   2562  Basin Dub  ...  6.10387  3.313273  Basin Dub 2562\n",
              "\n",
              "[5 rows x 21 columns]"
            ]
          },
          "metadata": {
            "tags": []
          },
          "execution_count": 33
        }
      ]
    },
    {
      "cell_type": "markdown",
      "metadata": {
        "id": "w-BObyTK8dft"
      },
      "source": [
        "### Filter the dataset"
      ],
      "id": "w-BObyTK8dft"
    },
    {
      "cell_type": "code",
      "metadata": {
        "colab": {
          "base_uri": "https://localhost:8080/"
        },
        "id": "bmxgAsts8dSB",
        "outputId": "72264920-3e55-4069-b5e5-d18b28e7801a"
      },
      "source": [
        "matrix_extended.groupby('user').count()['rating'].describe()"
      ],
      "id": "bmxgAsts8dSB",
      "execution_count": 34,
      "outputs": [
        {
          "output_type": "execute_result",
          "data": {
            "text/plain": [
              "count      991.000000\n",
              "mean      3901.116044\n",
              "std       4556.333601\n",
              "min          3.000000\n",
              "25%       1128.000000\n",
              "50%       2654.000000\n",
              "75%       4951.000000\n",
              "max      58844.000000\n",
              "Name: rating, dtype: float64"
            ]
          },
          "metadata": {
            "tags": []
          },
          "execution_count": 34
        }
      ]
    },
    {
      "cell_type": "code",
      "metadata": {
        "colab": {
          "base_uri": "https://localhost:8080/",
          "height": 268
        },
        "id": "RVJT_7Qi8cyB",
        "outputId": "6c0cf9d0-ddef-414a-fa3d-e9f96473fb4b"
      },
      "source": [
        "matrix_extended.groupby('user').count()['rating'].plot.hist()\n",
        "plt.yscale('log')\n",
        "plt.show()"
      ],
      "id": "RVJT_7Qi8cyB",
      "execution_count": 35,
      "outputs": [
        {
          "output_type": "display_data",
          "data": {
            "image/png": "[encoded data removed]",
            "text/plain": [
              "<Figure size 432x288 with 1 Axes>"
            ]
          },
          "metadata": {
            "tags": [],
            "needs_background": "light"
          }
        }
      ]
    },
    {
      "cell_type": "code",
      "metadata": {
        "colab": {
          "base_uri": "https://localhost:8080/"
        },
        "id": "u9l3wRhoGL4i",
        "outputId": "9d131785-33c4-4001-8c03-2df7b41656e8"
      },
      "source": [
        "matrix_extended.groupby('item').count()['rating'].describe()"
      ],
      "id": "u9l3wRhoGL4i",
      "execution_count": 36,
      "outputs": [
        {
          "output_type": "execute_result",
          "data": {
            "text/plain": [
              "count    750791.000000\n",
              "mean          5.149244\n",
              "std          11.747020\n",
              "min           1.000000\n",
              "25%           1.000000\n",
              "50%           2.000000\n",
              "75%           4.000000\n",
              "max         346.000000\n",
              "Name: rating, dtype: float64"
            ]
          },
          "metadata": {
            "tags": []
          },
          "execution_count": 36
        }
      ]
    },
    {
      "cell_type": "code",
      "metadata": {
        "colab": {
          "base_uri": "https://localhost:8080/",
          "height": 267
        },
        "id": "EGlGtGXN8cPj",
        "outputId": "0f78b4d1-73e9-47a2-b882-ce055510cc56"
      },
      "source": [
        "matrix_extended.groupby('item').count()['rating'].plot.hist()\n",
        "plt.yscale('log')\n",
        "plt.show()"
      ],
      "id": "EGlGtGXN8cPj",
      "execution_count": 37,
      "outputs": [
        {
          "output_type": "display_data",
          "data": {
            "image/png": "[encoded data removed]",
            "text/plain": [
              "<Figure size 432x288 with 1 Axes>"
            ]
          },
          "metadata": {
            "tags": [],
            "needs_background": "light"
          }
        }
      ]
    },
    {
      "cell_type": "code",
      "metadata": {
        "colab": {
          "base_uri": "https://localhost:8080/",
          "height": 265
        },
        "id": "O3Mpjco08cCg",
        "outputId": "b9e5b28d-8e48-4fe7-bd95-32f9a86b47fb"
      },
      "source": [
        "matrix_extended['rating'].plot.hist()\n",
        "plt.yscale('log')\n",
        "plt.show()"
      ],
      "id": "O3Mpjco08cCg",
      "execution_count": 38,
      "outputs": [
        {
          "output_type": "display_data",
          "data": {
            "image/png": "[encoded data removed]",
            "text/plain": [
              "<Figure size 432x288 with 1 Axes>"
            ]
          },
          "metadata": {
            "tags": [],
            "needs_background": "light"
          }
        }
      ]
    },
    {
      "cell_type": "code",
      "metadata": {
        "id": "06x7G_3cGW2J"
      },
      "source": [
        "items_app = matrix_extended.groupby('item').count()['rating']\n",
        "items_app = items_app.loc[items_app > 3.99].index\n",
        "matrix_sampled = matrix_extended.copy()\n",
        "matrix_sampled = matrix_sampled.set_index('item')\n",
        "matrix_sampled = matrix_sampled.loc[items_app]\n",
        "matrix_sampled = matrix_sampled.reset_index()\n",
        "matrix_sampled = matrix_sampled.sample(frac=1)"
      ],
      "id": "06x7G_3cGW2J",
      "execution_count": 39,
      "outputs": []
    },
    {
      "cell_type": "code",
      "metadata": {
        "id": "x9MFL9ZoIB-n",
        "colab": {
          "base_uri": "https://localhost:8080/"
        },
        "outputId": "7990be90-cd11-4525-9a13-8c979f6ea116"
      },
      "source": [
        "matrix_sampled.groupby('user').count()['rating'].describe()"
      ],
      "id": "x9MFL9ZoIB-n",
      "execution_count": 40,
      "outputs": [
        {
          "output_type": "execute_result",
          "data": {
            "text/plain": [
              "count      991.000000\n",
              "mean      3130.442987\n",
              "std       3484.796843\n",
              "min          3.000000\n",
              "25%        972.000000\n",
              "50%       2182.000000\n",
              "75%       3987.000000\n",
              "max      44191.000000\n",
              "Name: rating, dtype: float64"
            ]
          },
          "metadata": {
            "tags": []
          },
          "execution_count": 40
        }
      ]
    },
    {
      "cell_type": "code",
      "metadata": {
        "id": "Fa1J689p3mOi",
        "colab": {
          "base_uri": "https://localhost:8080/"
        },
        "outputId": "b239227d-ed25-44ee-ec71-9788e0f3d822"
      },
      "source": [
        "matrix_sampled.groupby('item').count()['rating'].describe()"
      ],
      "id": "Fa1J689p3mOi",
      "execution_count": 41,
      "outputs": [
        {
          "output_type": "execute_result",
          "data": {
            "text/plain": [
              "count    217058.000000\n",
              "mean         14.292350\n",
              "std          18.938571\n",
              "min           4.000000\n",
              "25%           5.000000\n",
              "50%           8.000000\n",
              "75%          16.000000\n",
              "max         346.000000\n",
              "Name: rating, dtype: float64"
            ]
          },
          "metadata": {
            "tags": []
          },
          "execution_count": 41
        }
      ]
    },
    {
      "cell_type": "code",
      "metadata": {
        "id": "tYWZcgEnyASj"
      },
      "source": [
        "matrix_sampled_merged = matrix_sampled.merge(topics_df, on='item')"
      ],
      "id": "tYWZcgEnyASj",
      "execution_count": 42,
      "outputs": []
    },
    {
      "cell_type": "markdown",
      "metadata": {
        "id": "tribal-batch"
      },
      "source": [
        "### Sample Users"
      ],
      "id": "tribal-batch"
    },
    {
      "cell_type": "code",
      "metadata": {
        "id": "YRKwgOyJdfQb"
      },
      "source": [
        "# no_users = 200\n",
        "# users_list = matrix_sampled.user.unique()\n",
        "# users_sampled = np.random.choice(users_list, replace=False, size=no_users)\n",
        "# matrix_sampled_agg = matrix_sampled.copy()\n",
        "# matrix_sampled_agg = matrix_sampled_agg.set_index('user')\n",
        "# matrix_sampled_agg = matrix_sampled_agg.loc[users_sampled]\n",
        "# matrix_sampled_agg = matrix_sampled_agg.reset_index()\n",
        "# matrix_sampled_agg = matrix_sampled_agg.sample(frac=1)"
      ],
      "id": "YRKwgOyJdfQb",
      "execution_count": 43,
      "outputs": []
    },
    {
      "cell_type": "markdown",
      "metadata": {
        "id": "qGp8lrRx2raQ"
      },
      "source": [
        "### Sample items\n"
      ],
      "id": "qGp8lrRx2raQ"
    },
    {
      "cell_type": "code",
      "metadata": {
        "id": "qXvEYoqP2kdR"
      },
      "source": [
        "# no_items = 10000\n",
        "# items_app_count = matrix_sampled_agg.groupby('item').count()['rating'].reset_index()\n",
        "# items_list = items_app_count.loc[items_app_count['rating'] > 8, 'item'].values\n",
        "# items_sampled = np.random.choice(items_list, replace=False, size=no_items)\n",
        "# matrix_sampled_agg = matrix_sampled_agg.set_index('item')\n",
        "# matrix_sampled_agg = matrix_sampled_agg.loc[items_sampled]\n",
        "# matrix_sampled_agg = matrix_sampled_agg.reset_index()\n",
        "# matrix_sampled_agg = matrix_sampled_agg.sample(frac=1)"
      ],
      "id": "qXvEYoqP2kdR",
      "execution_count": 44,
      "outputs": []
    },
    {
      "cell_type": "code",
      "metadata": {
        "id": "GlgOyabZiDQ7"
      },
      "source": [
        "matrix_sampled_merged['user_id'] = matrix_sampled_merged['user'].astype('category').cat.codes\n",
        "matrix_sampled_merged['item_id'] = matrix_sampled_merged['item'].astype('category').cat.codes"
      ],
      "id": "GlgOyabZiDQ7",
      "execution_count": 45,
      "outputs": []
    },
    {
      "cell_type": "code",
      "metadata": {
        "id": "eJKdudq4uizF"
      },
      "source": [
        "# from random import choices\n",
        "# indices_to_upsample = matrix_sampled_agg.index[matrix_sampled_agg['rating'] > 8].tolist()\n",
        "# indices_upsampled = choices(indices_to_upsample, k=len(indices_to_upsample) * 10)\n",
        "# samples_df = matrix_sampled_agg.loc[indices_upsampled]\n",
        "# matrix_sampled_agg = pd.concat([matrix_sampled_agg, samples_df], axis=0)"
      ],
      "id": "eJKdudq4uizF",
      "execution_count": 46,
      "outputs": []
    },
    {
      "cell_type": "code",
      "metadata": {
        "id": "lyric-crash"
      },
      "source": [
        "X = matrix_sampled_merged[['user_id', \n",
        "              'item_id',\n",
        "              'danceability',\n",
        "              'energy',\n",
        "              'speechiness', \n",
        "              'acousticness', \n",
        "              'instrumentalness', \n",
        "              'liveness',\n",
        "              'valence', \n",
        "              'tempo', \n",
        "              'popularity', \n",
        "              'emb_x', \n",
        "              'emb_y',\n",
        "              'emb_z',\n",
        "              'topic_1',\n",
        "              'topic_2',\n",
        "              'topic_3',\n",
        "              'topic_4',\n",
        "              'topic_5',\n",
        "              'topic_6']]\n",
        "y = matrix_sampled_merged['rating']\n",
        "groups = matrix_sampled_merged['user_id']"
      ],
      "id": "lyric-crash",
      "execution_count": 47,
      "outputs": []
    },
    {
      "cell_type": "code",
      "metadata": {
        "id": "divine-boston"
      },
      "source": [
        "# Change splitting to be by index using https://stackoverflow.com/questions/53490497/getting-validation-set-from-train-set-by-using-percentage-from-groupby-in-pand\n",
        "X_train, X_test, y_train, y_test = train_test_split(X, y, test_size=0.2, stratify=groups)"
      ],
      "id": "divine-boston",
      "execution_count": 48,
      "outputs": []
    },
    {
      "cell_type": "code",
      "metadata": {
        "id": "organic-irish"
      },
      "source": [
        "no_users, no_items, no_factors = matrix_sampled_merged['user_id'].nunique(), matrix_sampled_merged['item_id'].nunique(), 100"
      ],
      "id": "organic-irish",
      "execution_count": 49,
      "outputs": []
    },
    {
      "cell_type": "code",
      "metadata": {
        "colab": {
          "base_uri": "https://localhost:8080/"
        },
        "id": "BzGeolQgIrYM",
        "outputId": "a49c65ce-6c77-426d-a5a9-3add5fae9033"
      },
      "source": [
        "no_users"
      ],
      "id": "BzGeolQgIrYM",
      "execution_count": 50,
      "outputs": [
        {
          "output_type": "execute_result",
          "data": {
            "text/plain": [
              "991"
            ]
          },
          "metadata": {
            "tags": []
          },
          "execution_count": 50
        }
      ]
    },
    {
      "cell_type": "code",
      "metadata": {
        "colab": {
          "base_uri": "https://localhost:8080/"
        },
        "id": "oK5iQ0TdIssx",
        "outputId": "0ab0864d-0628-4c12-d5db-1d1f1e4c8b30"
      },
      "source": [
        "no_items"
      ],
      "id": "oK5iQ0TdIssx",
      "execution_count": 51,
      "outputs": [
        {
          "output_type": "execute_result",
          "data": {
            "text/plain": [
              "157194"
            ]
          },
          "metadata": {
            "tags": []
          },
          "execution_count": 51
        }
      ]
    },
    {
      "cell_type": "code",
      "metadata": {
        "colab": {
          "base_uri": "https://localhost:8080/"
        },
        "id": "aHCn-jhE0tNx",
        "outputId": "b78818c5-a641-4423-df63-bdc745eb1c32"
      },
      "source": [
        "X.shape"
      ],
      "id": "aHCn-jhE0tNx",
      "execution_count": 52,
      "outputs": [
        {
          "output_type": "execute_result",
          "data": {
            "text/plain": [
              "(2532354, 20)"
            ]
          },
          "metadata": {
            "tags": []
          },
          "execution_count": 52
        }
      ]
    },
    {
      "cell_type": "markdown",
      "metadata": {
        "id": "super-dynamics"
      },
      "source": [
        "### Models"
      ],
      "id": "super-dynamics"
    },
    {
      "cell_type": "code",
      "metadata": {
        "id": "guilty-louisiana"
      },
      "source": [
        "def create_shallow_model(no_factors, no_users, no_items):\n",
        "    # User branch\n",
        "    user_id = tf.keras.layers.Input(shape=[1], name='user_id')\n",
        "    user_matrix = tf.keras.layers.Embedding(no_users+1, no_factors, name='user_matrix')(user_id)\n",
        "    user_vector = tf.keras.layers.Flatten(name='user_vector')(user_matrix)\n",
        "    # Item branch\n",
        "    item_id = tf.keras.layers.Input(shape=[1], name='item_id')\n",
        "    item_matrix = tf.keras.layers.Embedding(no_items+1, no_factors, name='item_matrix')(item_id)\n",
        "    item_vector = tf.keras.layers.Flatten(name='item_vector')(item_matrix)\n",
        "    # Dot product \n",
        "    vectors_product = tf.keras.layers.dot([user_vector, item_vector], axes=1, normalize=False)\n",
        "    # Model definition\n",
        "    model = tf.keras.models.Model(inputs=[user_id, item_id], outputs=[vectors_product], name='shallow_model')\n",
        "    return model"
      ],
      "id": "guilty-louisiana",
      "execution_count": 53,
      "outputs": []
    },
    {
      "cell_type": "code",
      "metadata": {
        "id": "needed-energy"
      },
      "source": [
        "model = create_shallow_model(no_factors, no_users, no_items)"
      ],
      "id": "needed-energy",
      "execution_count": 54,
      "outputs": []
    },
    {
      "cell_type": "code",
      "metadata": {
        "id": "concrete-mediterranean",
        "colab": {
          "base_uri": "https://localhost:8080/"
        },
        "outputId": "1d0d8272-7b21-4d5a-8b54-969f8ac3824b"
      },
      "source": [
        "model.summary()"
      ],
      "id": "concrete-mediterranean",
      "execution_count": 55,
      "outputs": [
        {
          "output_type": "stream",
          "text": [
            "Model: \"shallow_model\"\n",
            "__________________________________________________________________________________________________\n",
            "Layer (type)                    Output Shape         Param #     Connected to                     \n",
            "==================================================================================================\n",
            "user_id (InputLayer)            [(None, 1)]          0                                            \n",
            "__________________________________________________________________________________________________\n",
            "item_id (InputLayer)            [(None, 1)]          0                                            \n",
            "__________________________________________________________________________________________________\n",
            "user_matrix (Embedding)         (None, 1, 100)       99200       user_id[0][0]                    \n",
            "__________________________________________________________________________________________________\n",
            "item_matrix (Embedding)         (None, 1, 100)       15719500    item_id[0][0]                    \n",
            "__________________________________________________________________________________________________\n",
            "user_vector (Flatten)           (None, 100)          0           user_matrix[0][0]                \n",
            "__________________________________________________________________________________________________\n",
            "item_vector (Flatten)           (None, 100)          0           item_matrix[0][0]                \n",
            "__________________________________________________________________________________________________\n",
            "dot (Dot)                       (None, 1)            0           user_vector[0][0]                \n",
            "                                                                 item_vector[0][0]                \n",
            "==================================================================================================\n",
            "Total params: 15,818,700\n",
            "Trainable params: 15,818,700\n",
            "Non-trainable params: 0\n",
            "__________________________________________________________________________________________________\n"
          ],
          "name": "stdout"
        }
      ]
    },
    {
      "cell_type": "code",
      "metadata": {
        "id": "million-delaware"
      },
      "source": [
        "def create_deep_model(no_factors, no_users, no_items):\n",
        "    all_input = tf.keras.layers.Input(shape=[20], name='input')\n",
        "    input_reshaped = tf.keras.layers.Reshape((20,1), input_shape=(20,))(all_input)\n",
        "\n",
        "    # Process input\n",
        "    user_id_vec = tf.keras.layers.Cropping1D(cropping=(0,19))(input_reshaped)\n",
        "    user_id = tf.keras.layers.Reshape((1,), input_shape=(1,1))(user_id_vec)\n",
        "\n",
        "    item_id_vec = tf.keras.layers.Cropping1D(cropping=(1,18))(input_reshaped)\n",
        "    item_id = tf.keras.layers.Reshape((1,), input_shape=(1,1))(item_id_vec)\n",
        "    # User branch\n",
        "    user_matrix = tf.keras.layers.Embedding(no_users+1, no_factors, name='user_matrix')(user_id)\n",
        "    user_vector = tf.keras.layers.Flatten(name='user_vector')(user_matrix)\n",
        "    # Item branch\n",
        "    item_matrix = tf.keras.layers.Embedding(no_items+1, no_factors, name='item_matrix')(item_id)\n",
        "    item_vector = tf.keras.layers.Flatten(name='item_vector')(item_matrix)\n",
        "    # Concantenation\n",
        "    vectors_concat = tf.keras.layers.Concatenate()([user_vector, item_vector])\n",
        "    vectors_concat_dropout = tf.keras.layers.Dropout(0.2)(vectors_concat)\n",
        "    # Backbone \n",
        "    dense_1 = tf.keras.layers.Dense(64,name='fc3')(vectors_concat_dropout)\n",
        "    dropout_1 = tf.keras.layers.Dropout(0.2,name='d3')(dense_1)\n",
        "    dense_2 = tf.keras.layers.Dense(32,name='fc4', activation='relu')(dropout_1)\n",
        "    dropout_2 = tf.keras.layers.Dropout(0.2,name='d4')(dense_2)\n",
        "    dense_3 = tf.keras.layers.Dense(16,name='fc5', activation='relu')(dropout_2)\n",
        "    dropout_3 = tf.keras.layers.Dropout(0.2,name='d5')(dense_3)\n",
        "    dense_4 = tf.keras.layers.Dense(8,name='fc6', activation='relu')(dropout_3)\n",
        "    dense_4_output = tf.keras.layers.Dense(1, activation='relu', name='activation')(dense_4)\n",
        "    # Model definition\n",
        "    model = tf.keras.models.Model(inputs=[all_input], outputs=[dense_4_output], name='deep_model')\n",
        "    return model"
      ],
      "id": "million-delaware",
      "execution_count": 56,
      "outputs": []
    },
    {
      "cell_type": "code",
      "metadata": {
        "id": "TUwPHkkm004I"
      },
      "source": [
        "def create_deep_hybird_model(no_factors, no_users, no_items):\n",
        "    all_input = tf.keras.layers.Input(shape=[20], name='input')\n",
        "    input_reshaped = tf.keras.layers.Reshape((20,1), input_shape=(20,))(all_input)\n",
        "\n",
        "    # Process input\n",
        "    user_id_vec = tf.keras.layers.Cropping1D(cropping=(0,19))(input_reshaped)\n",
        "    user_id = tf.keras.layers.Reshape((1,), input_shape=(1,1))(user_id_vec)\n",
        "\n",
        "    item_id_vec = tf.keras.layers.Cropping1D(cropping=(1,18))(input_reshaped)\n",
        "    item_id = tf.keras.layers.Reshape((1,), input_shape=(1,1))(item_id_vec)\n",
        "\n",
        "    metadata_vec = tf.keras.layers.Cropping1D(cropping=(2,0))(input_reshaped)\n",
        "    metadata = tf.keras.layers.Reshape((18,), input_shape=(18,1))(metadata_vec)\n",
        "\n",
        "    # User branch\n",
        "    user_matrix = tf.keras.layers.Embedding(no_users+1, no_factors, name='user_matrix')(user_id)\n",
        "    user_vector = tf.keras.layers.Flatten(name='user_vector')(user_matrix)\n",
        "    # Item branch\n",
        "    item_matrix = tf.keras.layers.Embedding(no_items+1, no_factors, name='item_matrix')(item_id)\n",
        "    item_vector = tf.keras.layers.Flatten(name='item_vector')(item_matrix)\n",
        "    # Concantenation\n",
        "    vectors_concat = tf.keras.layers.Concatenate()([user_vector, item_vector])\n",
        "    vectors_concat_dropout = tf.keras.layers.Dropout(0.2)(vectors_concat)\n",
        "    # Preprocess metadata\n",
        "    dense_meta_1 = tf.keras.layers.Dense(12,name='fc1')(metadata)\n",
        "    dense_meta_2 = tf.keras.layers.Dense(8,name='fc2')(dense_meta_1)\n",
        "    # Metadata concat\n",
        "    vectors_concat_meta = tf.keras.layers.Concatenate() ([vectors_concat_dropout, dense_meta_2])\n",
        "    # Backbone \n",
        "    dense_1 = tf.keras.layers.Dense(256,name='fc3')(vectors_concat_meta)\n",
        "    dropout_1 = tf.keras.layers.Dropout(0.2,name='d3')(dense_1)\n",
        "    dense_2 = tf.keras.layers.Dense(128,name='fc4', activation='relu')(dropout_1)\n",
        "    dropout_2 = tf.keras.layers.Dropout(0.2,name='d4')(dense_2)\n",
        "    dense_3 = tf.keras.layers.Dense(64,name='fc5', activation='relu')(dropout_2)\n",
        "    dropout_3 = tf.keras.layers.Dropout(0.2,name='d5')(dense_3)\n",
        "    dense_4 = tf.keras.layers.Dense(32,name='fc6', activation='relu')(dropout_3)\n",
        "    dropout_4 = tf.keras.layers.Dropout(0.2,name='d6')(dense_4)\n",
        "    dense_5 = tf.keras.layers.Dense(16,name='fc7', activation='relu')(dropout_4)\n",
        "    dropout_5 = tf.keras.layers.Dropout(0.2,name='d7')(dense_5)\n",
        "    dense_6 = tf.keras.layers.Dense(8,name='fc8', activation='relu')(dropout_5)    \n",
        "    dense_6_output = tf.keras.layers.Dense(1, activation='relu', name='activation')(dense_6)\n",
        "    # Model definition\n",
        "    model = tf.keras.models.Model(inputs=[all_input], outputs=[dense_6_output], name='deep_model')\n",
        "    return model"
      ],
      "id": "TUwPHkkm004I",
      "execution_count": 57,
      "outputs": []
    },
    {
      "cell_type": "code",
      "metadata": {
        "id": "canadian-boulder"
      },
      "source": [
        "model = create_deep_model(no_factors, no_users, no_items)"
      ],
      "id": "canadian-boulder",
      "execution_count": 58,
      "outputs": []
    },
    {
      "cell_type": "code",
      "metadata": {
        "colab": {
          "base_uri": "https://localhost:8080/"
        },
        "id": "ZLjAekay3bs3",
        "outputId": "baa84729-1764-4552-ff85-a94a3376b129"
      },
      "source": [
        "model = create_deep_hybird_model(no_factors, no_users, no_items)\n",
        "model.summary()"
      ],
      "id": "ZLjAekay3bs3",
      "execution_count": 59,
      "outputs": [
        {
          "output_type": "stream",
          "text": [
            "Model: \"deep_model\"\n",
            "__________________________________________________________________________________________________\n",
            "Layer (type)                    Output Shape         Param #     Connected to                     \n",
            "==================================================================================================\n",
            "input (InputLayer)              [(None, 20)]         0                                            \n",
            "__________________________________________________________________________________________________\n",
            "reshape_3 (Reshape)             (None, 20, 1)        0           input[0][0]                      \n",
            "__________________________________________________________________________________________________\n",
            "cropping1d_2 (Cropping1D)       (None, 1, 1)         0           reshape_3[0][0]                  \n",
            "__________________________________________________________________________________________________\n",
            "cropping1d_3 (Cropping1D)       (None, 1, 1)         0           reshape_3[0][0]                  \n",
            "__________________________________________________________________________________________________\n",
            "reshape_4 (Reshape)             (None, 1)            0           cropping1d_2[0][0]               \n",
            "__________________________________________________________________________________________________\n",
            "reshape_5 (Reshape)             (None, 1)            0           cropping1d_3[0][0]               \n",
            "__________________________________________________________________________________________________\n",
            "user_matrix (Embedding)         (None, 1, 100)       99200       reshape_4[0][0]                  \n",
            "__________________________________________________________________________________________________\n",
            "item_matrix (Embedding)         (None, 1, 100)       15719500    reshape_5[0][0]                  \n",
            "__________________________________________________________________________________________________\n",
            "cropping1d_4 (Cropping1D)       (None, 18, 1)        0           reshape_3[0][0]                  \n",
            "__________________________________________________________________________________________________\n",
            "user_vector (Flatten)           (None, 100)          0           user_matrix[0][0]                \n",
            "__________________________________________________________________________________________________\n",
            "item_vector (Flatten)           (None, 100)          0           item_matrix[0][0]                \n",
            "__________________________________________________________________________________________________\n",
            "reshape_6 (Reshape)             (None, 18)           0           cropping1d_4[0][0]               \n",
            "__________________________________________________________________________________________________\n",
            "concatenate_1 (Concatenate)     (None, 200)          0           user_vector[0][0]                \n",
            "                                                                 item_vector[0][0]                \n",
            "__________________________________________________________________________________________________\n",
            "fc1 (Dense)                     (None, 12)           228         reshape_6[0][0]                  \n",
            "__________________________________________________________________________________________________\n",
            "dropout_1 (Dropout)             (None, 200)          0           concatenate_1[0][0]              \n",
            "__________________________________________________________________________________________________\n",
            "fc2 (Dense)                     (None, 8)            104         fc1[0][0]                        \n",
            "__________________________________________________________________________________________________\n",
            "concatenate_2 (Concatenate)     (None, 208)          0           dropout_1[0][0]                  \n",
            "                                                                 fc2[0][0]                        \n",
            "__________________________________________________________________________________________________\n",
            "fc3 (Dense)                     (None, 256)          53504       concatenate_2[0][0]              \n",
            "__________________________________________________________________________________________________\n",
            "d3 (Dropout)                    (None, 256)          0           fc3[0][0]                        \n",
            "__________________________________________________________________________________________________\n",
            "fc4 (Dense)                     (None, 128)          32896       d3[0][0]                         \n",
            "__________________________________________________________________________________________________\n",
            "d4 (Dropout)                    (None, 128)          0           fc4[0][0]                        \n",
            "__________________________________________________________________________________________________\n",
            "fc5 (Dense)                     (None, 64)           8256        d4[0][0]                         \n",
            "__________________________________________________________________________________________________\n",
            "d5 (Dropout)                    (None, 64)           0           fc5[0][0]                        \n",
            "__________________________________________________________________________________________________\n",
            "fc6 (Dense)                     (None, 32)           2080        d5[0][0]                         \n",
            "__________________________________________________________________________________________________\n",
            "d6 (Dropout)                    (None, 32)           0           fc6[0][0]                        \n",
            "__________________________________________________________________________________________________\n",
            "fc7 (Dense)                     (None, 16)           528         d6[0][0]                         \n",
            "__________________________________________________________________________________________________\n",
            "d7 (Dropout)                    (None, 16)           0           fc7[0][0]                        \n",
            "__________________________________________________________________________________________________\n",
            "fc8 (Dense)                     (None, 8)            136         d7[0][0]                         \n",
            "__________________________________________________________________________________________________\n",
            "activation (Dense)              (None, 1)            9           fc8[0][0]                        \n",
            "==================================================================================================\n",
            "Total params: 15,916,441\n",
            "Trainable params: 15,916,441\n",
            "Non-trainable params: 0\n",
            "__________________________________________________________________________________________________\n"
          ],
          "name": "stdout"
        }
      ]
    },
    {
      "cell_type": "markdown",
      "metadata": {
        "id": "minute-manual"
      },
      "source": [
        "### Model training"
      ],
      "id": "minute-manual"
    },
    {
      "cell_type": "code",
      "metadata": {
        "id": "confident-conviction",
        "colab": {
          "base_uri": "https://localhost:8080/"
        },
        "outputId": "54aa0a95-9743-4629-c155-b4e4f77d82b4"
      },
      "source": [
        "# Input-output data definition\n",
        " \n",
        "# X_train_arr = X_train.values.tolist()\n",
        "# Try a decaying learning rate\n",
        "\n",
        "lr_schedule = tf.keras.optimizers.schedules.ExponentialDecay(\n",
        "    initial_learning_rate=1e-2,\n",
        "    decay_steps=1800,\n",
        "    decay_rate=0.1)\n",
        "\n",
        "opt = tf.keras.optimizers.RMSprop()#learning_rate=lr_schedule)\n",
        "\n",
        "# Model creation\n",
        "model = create_deep_hybird_model(no_factors, no_users, no_items)\n",
        "\n",
        "# callback = tf.keras.callbacks.EarlyStopping(monitor='loss', patience=2, min_delta=0.2)model.fit(callbacks=[callback],)\n",
        "\n",
        "# Model compiling \n",
        "model.compile(loss=tf.keras.losses.MeanSquaredError(), optimizer=opt)\n",
        "\n",
        "# Model training\n",
        "model.fit(X_train, y_train, epochs=30, batch_size=2048, shuffle=True)"
      ],
      "id": "confident-conviction",
      "execution_count": 60,
      "outputs": [
        {
          "output_type": "stream",
          "text": [
            "Epoch 1/30\n",
            "990/990 [==============================] - 71s 70ms/step - loss: 3.1984\n",
            "Epoch 2/30\n",
            "990/990 [==============================] - 69s 70ms/step - loss: 2.2625\n",
            "Epoch 3/30\n",
            "990/990 [==============================] - 70s 70ms/step - loss: 2.0934\n",
            "Epoch 4/30\n",
            "990/990 [==============================] - 70s 71ms/step - loss: 1.9969\n",
            "Epoch 5/30\n",
            "990/990 [==============================] - 74s 75ms/step - loss: 1.9518\n",
            "Epoch 6/30\n",
            "990/990 [==============================] - 71s 71ms/step - loss: 1.9300\n",
            "Epoch 7/30\n",
            "990/990 [==============================] - 71s 72ms/step - loss: 1.9158\n",
            "Epoch 8/30\n",
            "990/990 [==============================] - 71s 72ms/step - loss: 1.8954\n",
            "Epoch 9/30\n",
            "990/990 [==============================] - 71s 72ms/step - loss: 1.8694\n",
            "Epoch 10/30\n",
            "990/990 [==============================] - 70s 71ms/step - loss: 1.8373\n",
            "Epoch 11/30\n",
            "990/990 [==============================] - 71s 71ms/step - loss: 1.8042\n",
            "Epoch 12/30\n",
            "990/990 [==============================] - 70s 71ms/step - loss: 1.7745\n",
            "Epoch 13/30\n",
            "990/990 [==============================] - 70s 71ms/step - loss: 1.7436\n",
            "Epoch 14/30\n",
            "990/990 [==============================] - 71s 71ms/step - loss: 1.7100\n",
            "Epoch 15/30\n",
            "990/990 [==============================] - 70s 71ms/step - loss: 1.6755\n",
            "Epoch 16/30\n",
            "990/990 [==============================] - 73s 74ms/step - loss: 1.6402\n",
            "Epoch 17/30\n",
            "990/990 [==============================] - 70s 71ms/step - loss: 1.6074\n",
            "Epoch 18/30\n",
            "990/990 [==============================] - 71s 71ms/step - loss: 1.5767\n",
            "Epoch 19/30\n",
            "990/990 [==============================] - 71s 71ms/step - loss: 1.5486\n",
            "Epoch 20/30\n",
            "990/990 [==============================] - 71s 72ms/step - loss: 1.5239\n",
            "Epoch 21/30\n",
            "990/990 [==============================] - 71s 72ms/step - loss: 1.4994\n",
            "Epoch 22/30\n",
            "990/990 [==============================] - 71s 72ms/step - loss: 1.4776\n",
            "Epoch 23/30\n",
            "990/990 [==============================] - 71s 72ms/step - loss: 1.4566\n",
            "Epoch 24/30\n",
            "990/990 [==============================] - 71s 71ms/step - loss: 1.4395\n",
            "Epoch 25/30\n",
            "990/990 [==============================] - 70s 71ms/step - loss: 1.4205\n",
            "Epoch 26/30\n",
            "990/990 [==============================] - 70s 71ms/step - loss: 1.4036\n",
            "Epoch 27/30\n",
            "990/990 [==============================] - 70s 71ms/step - loss: 1.3883\n",
            "Epoch 28/30\n",
            "990/990 [==============================] - 71s 72ms/step - loss: 1.3719\n",
            "Epoch 29/30\n",
            "990/990 [==============================] - 71s 71ms/step - loss: 1.3562\n",
            "Epoch 30/30\n",
            "990/990 [==============================] - 73s 74ms/step - loss: 1.3390\n"
          ],
          "name": "stdout"
        },
        {
          "output_type": "execute_result",
          "data": {
            "text/plain": [
              "<tensorflow.python.keras.callbacks.History at 0x7f70fabe43d0>"
            ]
          },
          "metadata": {
            "tags": []
          },
          "execution_count": 60
        }
      ]
    },
    {
      "cell_type": "markdown",
      "metadata": {
        "id": "separate-magic"
      },
      "source": [
        "### Prediction"
      ],
      "id": "separate-magic"
    },
    {
      "cell_type": "code",
      "metadata": {
        "id": "atlantic-maria"
      },
      "source": [
        "# Predictions in the training set\n",
        "# X_train = [X_train.user_id, X_train.item_id]\n",
        "y_train_pred = model.predict(X_train, batch_size=2048)"
      ],
      "id": "atlantic-maria",
      "execution_count": 61,
      "outputs": []
    },
    {
      "cell_type": "code",
      "metadata": {
        "id": "6IC4nrL_tcJ6",
        "colab": {
          "base_uri": "https://localhost:8080/",
          "height": 224
        },
        "outputId": "319b5775-21ac-41a1-a478-201378d1d980"
      },
      "source": [
        "X_test.head()"
      ],
      "id": "6IC4nrL_tcJ6",
      "execution_count": 62,
      "outputs": [
        {
          "output_type": "execute_result",
          "data": {
            "text/html": [
              "<div>\n",
              "<style scoped>\n",
              "    .dataframe tbody tr th:only-of-type {\n",
              "        vertical-align: middle;\n",
              "    }\n",
              "\n",
              "    .dataframe tbody tr th {\n",
              "        vertical-align: top;\n",
              "    }\n",
              "\n",
              "    .dataframe thead th {\n",
              "        text-align: right;\n",
              "    }\n",
              "</style>\n",
              "<table border=\"1\" class=\"dataframe\">\n",
              "  <thead>\n",
              "    <tr style=\"text-align: right;\">\n",
              "      <th></th>\n",
              "      <th>user_id</th>\n",
              "      <th>item_id</th>\n",
              "      <th>danceability</th>\n",
              "      <th>energy</th>\n",
              "      <th>speechiness</th>\n",
              "      <th>acousticness</th>\n",
              "      <th>instrumentalness</th>\n",
              "      <th>liveness</th>\n",
              "      <th>valence</th>\n",
              "      <th>tempo</th>\n",
              "      <th>popularity</th>\n",
              "      <th>emb_x</th>\n",
              "      <th>emb_y</th>\n",
              "      <th>emb_z</th>\n",
              "      <th>topic_1</th>\n",
              "      <th>topic_2</th>\n",
              "      <th>topic_3</th>\n",
              "      <th>topic_4</th>\n",
              "      <th>topic_5</th>\n",
              "      <th>topic_6</th>\n",
              "    </tr>\n",
              "  </thead>\n",
              "  <tbody>\n",
              "    <tr>\n",
              "      <th>2480540</th>\n",
              "      <td>341</td>\n",
              "      <td>821</td>\n",
              "      <td>0.348</td>\n",
              "      <td>0.981</td>\n",
              "      <td>0.0660</td>\n",
              "      <td>0.007260</td>\n",
              "      <td>0.03900</td>\n",
              "      <td>0.0541</td>\n",
              "      <td>0.553</td>\n",
              "      <td>150.233</td>\n",
              "      <td>30</td>\n",
              "      <td>5.812782</td>\n",
              "      <td>9.054956</td>\n",
              "      <td>-0.070815</td>\n",
              "      <td>0.440280</td>\n",
              "      <td>0.148170</td>\n",
              "      <td>0.288491</td>\n",
              "      <td>0.032085</td>\n",
              "      <td>0.054676</td>\n",
              "      <td>0.036297</td>\n",
              "    </tr>\n",
              "    <tr>\n",
              "      <th>198076</th>\n",
              "      <td>557</td>\n",
              "      <td>44234</td>\n",
              "      <td>0.539</td>\n",
              "      <td>0.866</td>\n",
              "      <td>0.0483</td>\n",
              "      <td>0.086600</td>\n",
              "      <td>0.00414</td>\n",
              "      <td>0.0953</td>\n",
              "      <td>0.761</td>\n",
              "      <td>130.345</td>\n",
              "      <td>82</td>\n",
              "      <td>5.510838</td>\n",
              "      <td>7.793929</td>\n",
              "      <td>0.740887</td>\n",
              "      <td>0.310476</td>\n",
              "      <td>0.019884</td>\n",
              "      <td>0.000000</td>\n",
              "      <td>0.022727</td>\n",
              "      <td>0.206537</td>\n",
              "      <td>0.431363</td>\n",
              "    </tr>\n",
              "    <tr>\n",
              "      <th>639793</th>\n",
              "      <td>422</td>\n",
              "      <td>124840</td>\n",
              "      <td>0.712</td>\n",
              "      <td>0.928</td>\n",
              "      <td>0.0529</td>\n",
              "      <td>0.418000</td>\n",
              "      <td>0.91400</td>\n",
              "      <td>0.5640</td>\n",
              "      <td>0.971</td>\n",
              "      <td>120.012</td>\n",
              "      <td>65</td>\n",
              "      <td>5.035921</td>\n",
              "      <td>5.686561</td>\n",
              "      <td>2.928960</td>\n",
              "      <td>0.229040</td>\n",
              "      <td>0.125004</td>\n",
              "      <td>0.125004</td>\n",
              "      <td>0.125004</td>\n",
              "      <td>0.250001</td>\n",
              "      <td>0.145945</td>\n",
              "    </tr>\n",
              "    <tr>\n",
              "      <th>2077080</th>\n",
              "      <td>496</td>\n",
              "      <td>43855</td>\n",
              "      <td>0.556</td>\n",
              "      <td>0.835</td>\n",
              "      <td>0.0281</td>\n",
              "      <td>0.000151</td>\n",
              "      <td>0.02480</td>\n",
              "      <td>0.1580</td>\n",
              "      <td>0.788</td>\n",
              "      <td>125.100</td>\n",
              "      <td>54</td>\n",
              "      <td>5.829162</td>\n",
              "      <td>8.492619</td>\n",
              "      <td>1.352088</td>\n",
              "      <td>0.051687</td>\n",
              "      <td>0.051908</td>\n",
              "      <td>0.226080</td>\n",
              "      <td>0.024919</td>\n",
              "      <td>0.048725</td>\n",
              "      <td>0.596680</td>\n",
              "    </tr>\n",
              "    <tr>\n",
              "      <th>1944172</th>\n",
              "      <td>325</td>\n",
              "      <td>4818</td>\n",
              "      <td>0.386</td>\n",
              "      <td>0.974</td>\n",
              "      <td>0.0713</td>\n",
              "      <td>0.000768</td>\n",
              "      <td>0.83100</td>\n",
              "      <td>0.2630</td>\n",
              "      <td>0.378</td>\n",
              "      <td>173.997</td>\n",
              "      <td>66</td>\n",
              "      <td>5.040722</td>\n",
              "      <td>5.381567</td>\n",
              "      <td>3.711018</td>\n",
              "      <td>0.165158</td>\n",
              "      <td>0.158105</td>\n",
              "      <td>0.114543</td>\n",
              "      <td>0.106412</td>\n",
              "      <td>0.104870</td>\n",
              "      <td>0.350913</td>\n",
              "    </tr>\n",
              "  </tbody>\n",
              "</table>\n",
              "</div>"
            ],
            "text/plain": [
              "         user_id  item_id  danceability  ...   topic_4   topic_5   topic_6\n",
              "2480540      341      821         0.348  ...  0.032085  0.054676  0.036297\n",
              "198076       557    44234         0.539  ...  0.022727  0.206537  0.431363\n",
              "639793       422   124840         0.712  ...  0.125004  0.250001  0.145945\n",
              "2077080      496    43855         0.556  ...  0.024919  0.048725  0.596680\n",
              "1944172      325     4818         0.386  ...  0.106412  0.104870  0.350913\n",
              "\n",
              "[5 rows x 20 columns]"
            ]
          },
          "metadata": {
            "tags": []
          },
          "execution_count": 62
        }
      ]
    },
    {
      "cell_type": "code",
      "metadata": {
        "id": "smoking-apparel"
      },
      "source": [
        "# Predictions in the test set\n",
        "# X_test_arr = [X_test.user_id, X_test.item_id]\n",
        "y_test_pred = model.predict(X_test, batch_size=2048)"
      ],
      "id": "smoking-apparel",
      "execution_count": 63,
      "outputs": []
    },
    {
      "cell_type": "markdown",
      "metadata": {
        "id": "single-gospel"
      },
      "source": [
        "### Evaluation"
      ],
      "id": "single-gospel"
    },
    {
      "cell_type": "code",
      "metadata": {
        "id": "hired-webcam",
        "colab": {
          "base_uri": "https://localhost:8080/"
        },
        "outputId": "a2156055-1e5d-4dab-c4a2-a2ab28cf9c1a"
      },
      "source": [
        "from sklearn.metrics import mean_squared_error\n",
        "print('Train RMSE:', mean_squared_error(y_train.values, y_train_pred, squared=False))\n",
        "print('Test RMSE:', mean_squared_error(y_test.values, y_test_pred, squared=False))"
      ],
      "id": "hired-webcam",
      "execution_count": 64,
      "outputs": [
        {
          "output_type": "stream",
          "text": [
            "Train RMSE: 1.280401805128314\n",
            "Test RMSE: 1.481508963505959\n"
          ],
          "name": "stdout"
        }
      ]
    },
    {
      "cell_type": "code",
      "metadata": {
        "id": "K_Pljoaoz-jo"
      },
      "source": [
        "def get_test_predictions(model, X_test):\n",
        "  predictions_li = []\n",
        "  for user_id, test_user in tqdm(X_test.groupby('user_id'), position=0, leave=True):    \n",
        "    # Retrieve the unseen items\n",
        "    user_df = test_user[['item_id', 'rating']].copy()\n",
        "    test_pids = user_df['item_id'].values\n",
        "    relevant_pids = set(user_df.loc[user_df['rating'] > 1, 'item_id'].values)\n",
        "    if len(relevant_pids) == 0:\n",
        "      continue\n",
        "    # Make rating predictions for all items for that user\n",
        "    predictions = model.predict(test_user.drop(columns=['rating']), batch_size=2048)\n",
        "    # predictions = pred_func(model, user_id, pid_array, train_ratings)\n",
        "    predictions = predictions.reshape(-1)\n",
        "    irrelevant_pids = set(test_pids).difference(relevant_pids)\n",
        "    predictions_relevant = predictions[user_df['rating'] > 3]\n",
        "    predictions_irrelevant = predictions[user_df['rating'] == 3]\n",
        "    predictions_dict = {'user_id': user_id,\n",
        "                        'predictions': predictions,\n",
        "                        'test_pids': test_pids,\n",
        "                        'relevant_pids': relevant_pids,\n",
        "                        'irrelevant_pids': irrelevant_pids,\n",
        "                        'predictions_relevant': predictions_relevant,\n",
        "                        'predictions_irrelevant': predictions_irrelevant}\n",
        "    predictions_li.append(predictions_dict)\n",
        "\n",
        "  return pd.DataFrame(predictions_li)\n"
      ],
      "id": "K_Pljoaoz-jo",
      "execution_count": 65,
      "outputs": []
    },
    {
      "cell_type": "code",
      "metadata": {
        "colab": {
          "base_uri": "https://localhost:8080/",
          "height": 224
        },
        "id": "DWS4A9h4V2Ws",
        "outputId": "649ff237-da03-41da-e3c6-3f7cc7e2f8ae"
      },
      "source": [
        "X_test.head()"
      ],
      "id": "DWS4A9h4V2Ws",
      "execution_count": 66,
      "outputs": [
        {
          "output_type": "execute_result",
          "data": {
            "text/html": [
              "<div>\n",
              "<style scoped>\n",
              "    .dataframe tbody tr th:only-of-type {\n",
              "        vertical-align: middle;\n",
              "    }\n",
              "\n",
              "    .dataframe tbody tr th {\n",
              "        vertical-align: top;\n",
              "    }\n",
              "\n",
              "    .dataframe thead th {\n",
              "        text-align: right;\n",
              "    }\n",
              "</style>\n",
              "<table border=\"1\" class=\"dataframe\">\n",
              "  <thead>\n",
              "    <tr style=\"text-align: right;\">\n",
              "      <th></th>\n",
              "      <th>user_id</th>\n",
              "      <th>item_id</th>\n",
              "      <th>danceability</th>\n",
              "      <th>energy</th>\n",
              "      <th>speechiness</th>\n",
              "      <th>acousticness</th>\n",
              "      <th>instrumentalness</th>\n",
              "      <th>liveness</th>\n",
              "      <th>valence</th>\n",
              "      <th>tempo</th>\n",
              "      <th>popularity</th>\n",
              "      <th>emb_x</th>\n",
              "      <th>emb_y</th>\n",
              "      <th>emb_z</th>\n",
              "      <th>topic_1</th>\n",
              "      <th>topic_2</th>\n",
              "      <th>topic_3</th>\n",
              "      <th>topic_4</th>\n",
              "      <th>topic_5</th>\n",
              "      <th>topic_6</th>\n",
              "    </tr>\n",
              "  </thead>\n",
              "  <tbody>\n",
              "    <tr>\n",
              "      <th>2480540</th>\n",
              "      <td>341</td>\n",
              "      <td>821</td>\n",
              "      <td>0.348</td>\n",
              "      <td>0.981</td>\n",
              "      <td>0.0660</td>\n",
              "      <td>0.007260</td>\n",
              "      <td>0.03900</td>\n",
              "      <td>0.0541</td>\n",
              "      <td>0.553</td>\n",
              "      <td>150.233</td>\n",
              "      <td>30</td>\n",
              "      <td>5.812782</td>\n",
              "      <td>9.054956</td>\n",
              "      <td>-0.070815</td>\n",
              "      <td>0.440280</td>\n",
              "      <td>0.148170</td>\n",
              "      <td>0.288491</td>\n",
              "      <td>0.032085</td>\n",
              "      <td>0.054676</td>\n",
              "      <td>0.036297</td>\n",
              "    </tr>\n",
              "    <tr>\n",
              "      <th>198076</th>\n",
              "      <td>557</td>\n",
              "      <td>44234</td>\n",
              "      <td>0.539</td>\n",
              "      <td>0.866</td>\n",
              "      <td>0.0483</td>\n",
              "      <td>0.086600</td>\n",
              "      <td>0.00414</td>\n",
              "      <td>0.0953</td>\n",
              "      <td>0.761</td>\n",
              "      <td>130.345</td>\n",
              "      <td>82</td>\n",
              "      <td>5.510838</td>\n",
              "      <td>7.793929</td>\n",
              "      <td>0.740887</td>\n",
              "      <td>0.310476</td>\n",
              "      <td>0.019884</td>\n",
              "      <td>0.000000</td>\n",
              "      <td>0.022727</td>\n",
              "      <td>0.206537</td>\n",
              "      <td>0.431363</td>\n",
              "    </tr>\n",
              "    <tr>\n",
              "      <th>639793</th>\n",
              "      <td>422</td>\n",
              "      <td>124840</td>\n",
              "      <td>0.712</td>\n",
              "      <td>0.928</td>\n",
              "      <td>0.0529</td>\n",
              "      <td>0.418000</td>\n",
              "      <td>0.91400</td>\n",
              "      <td>0.5640</td>\n",
              "      <td>0.971</td>\n",
              "      <td>120.012</td>\n",
              "      <td>65</td>\n",
              "      <td>5.035921</td>\n",
              "      <td>5.686561</td>\n",
              "      <td>2.928960</td>\n",
              "      <td>0.229040</td>\n",
              "      <td>0.125004</td>\n",
              "      <td>0.125004</td>\n",
              "      <td>0.125004</td>\n",
              "      <td>0.250001</td>\n",
              "      <td>0.145945</td>\n",
              "    </tr>\n",
              "    <tr>\n",
              "      <th>2077080</th>\n",
              "      <td>496</td>\n",
              "      <td>43855</td>\n",
              "      <td>0.556</td>\n",
              "      <td>0.835</td>\n",
              "      <td>0.0281</td>\n",
              "      <td>0.000151</td>\n",
              "      <td>0.02480</td>\n",
              "      <td>0.1580</td>\n",
              "      <td>0.788</td>\n",
              "      <td>125.100</td>\n",
              "      <td>54</td>\n",
              "      <td>5.829162</td>\n",
              "      <td>8.492619</td>\n",
              "      <td>1.352088</td>\n",
              "      <td>0.051687</td>\n",
              "      <td>0.051908</td>\n",
              "      <td>0.226080</td>\n",
              "      <td>0.024919</td>\n",
              "      <td>0.048725</td>\n",
              "      <td>0.596680</td>\n",
              "    </tr>\n",
              "    <tr>\n",
              "      <th>1944172</th>\n",
              "      <td>325</td>\n",
              "      <td>4818</td>\n",
              "      <td>0.386</td>\n",
              "      <td>0.974</td>\n",
              "      <td>0.0713</td>\n",
              "      <td>0.000768</td>\n",
              "      <td>0.83100</td>\n",
              "      <td>0.2630</td>\n",
              "      <td>0.378</td>\n",
              "      <td>173.997</td>\n",
              "      <td>66</td>\n",
              "      <td>5.040722</td>\n",
              "      <td>5.381567</td>\n",
              "      <td>3.711018</td>\n",
              "      <td>0.165158</td>\n",
              "      <td>0.158105</td>\n",
              "      <td>0.114543</td>\n",
              "      <td>0.106412</td>\n",
              "      <td>0.104870</td>\n",
              "      <td>0.350913</td>\n",
              "    </tr>\n",
              "  </tbody>\n",
              "</table>\n",
              "</div>"
            ],
            "text/plain": [
              "         user_id  item_id  danceability  ...   topic_4   topic_5   topic_6\n",
              "2480540      341      821         0.348  ...  0.032085  0.054676  0.036297\n",
              "198076       557    44234         0.539  ...  0.022727  0.206537  0.431363\n",
              "639793       422   124840         0.712  ...  0.125004  0.250001  0.145945\n",
              "2077080      496    43855         0.556  ...  0.024919  0.048725  0.596680\n",
              "1944172      325     4818         0.386  ...  0.106412  0.104870  0.350913\n",
              "\n",
              "[5 rows x 20 columns]"
            ]
          },
          "metadata": {
            "tags": []
          },
          "execution_count": 66
        }
      ]
    },
    {
      "cell_type": "code",
      "metadata": {
        "id": "Rhkj5qFG0HsO",
        "colab": {
          "base_uri": "https://localhost:8080/"
        },
        "outputId": "fe123870-f887-4d08-bb89-1c82cd8e6308"
      },
      "source": [
        "# X_test_arr = np.array(X_test_arr)\n",
        "# test_ratings = pd.DataFrame({'user_id': X_test_arr[0, :], 'item_id':X_test_arr[1, :], 'rating': y_test})\\item Deep architecture trained on embeddings for the users and items based on ratings for items\n",
        "X_test_copy = X_test.copy()\n",
        "X_test_copy['rating'] = y_test \n",
        "predictions_df = get_test_predictions(model, X_test_copy)"
      ],
      "id": "Rhkj5qFG0HsO",
      "execution_count": 67,
      "outputs": [
        {
          "output_type": "stream",
          "text": [
            "100%|██████████| 989/989 [01:18<00:00, 12.61it/s]\n"
          ],
          "name": "stderr"
        }
      ]
    },
    {
      "cell_type": "code",
      "metadata": {
        "id": "IyGGzKIm3Z-6"
      },
      "source": [
        "def plot_predictions(predictions_df):\n",
        "  pred_arr = [predictions_df[['predictions_relevant']].apply(lambda x: np.hstack(x), axis=0).values.reshape(-1),\n",
        "              predictions_df[['predictions_irrelevant']].apply(lambda x: np.hstack(x), axis=0).values.reshape(-1)]\n",
        "\n",
        "  f, ax = plt.subplots(1, 1)\n",
        "  ax.set_title('Predictions distribution', color='C0')\n",
        "  c = 'red'\n",
        "  bplot = plt.boxplot(pred_arr, labels=['Relevant', 'Irrelevant'], vert=True, patch_artist=True)\n",
        "  # fill with colors\n",
        "  colors = ['C4', 'C2']\n",
        "  for patch, color in zip(bplot['boxes'], colors):\n",
        "    patch.set_facecolor(color)\n",
        "\n",
        "  for median in bplot['medians']:\n",
        "    median.set(color='k', linewidth=1.5)\n",
        "\n",
        "  plt.show()"
      ],
      "id": "IyGGzKIm3Z-6",
      "execution_count": 69,
      "outputs": []
    },
    {
      "cell_type": "code",
      "metadata": {
        "colab": {
          "base_uri": "https://localhost:8080/",
          "height": 336
        },
        "id": "H8pqqFPa4PdW",
        "outputId": "fe16197e-819d-4e7b-dcb5-9a234e38c4cb"
      },
      "source": [
        "plot_predictions(predictions_df)"
      ],
      "id": "H8pqqFPa4PdW",
      "execution_count": 70,
      "outputs": [
        {
          "output_type": "stream",
          "text": [
            "/usr/local/lib/python3.7/dist-packages/numpy/core/_asarray.py:83: VisibleDeprecationWarning: Creating an ndarray from ragged nested sequences (which is a list-or-tuple of lists-or-tuples-or ndarrays with different lengths or shapes) is deprecated. If you meant to do this, you must specify 'dtype=object' when creating the ndarray\n",
            "  return array(a, dtype, copy=False, order=order)\n"
          ],
          "name": "stderr"
        },
        {
          "output_type": "display_data",
          "data": {
            "image/png": "[encoded data removed]",
            "text/plain": [
              "<Figure size 432x288 with 1 Axes>"
            ]
          },
          "metadata": {
            "tags": [],
            "needs_background": "light"
          }
        }
      ]
    },
    {
      "cell_type": "code",
      "metadata": {
        "id": "rVOVWBCjYEJw",
        "outputId": "4fb5bf6b-e475-4e57-b60b-3a309e1f51fc",
        "colab": {
          "base_uri": "https://localhost:8080/",
          "height": 289
        }
      },
      "source": [
        "predictions_df.head()"
      ],
      "id": "rVOVWBCjYEJw",
      "execution_count": 72,
      "outputs": [
        {
          "output_type": "execute_result",
          "data": {
            "text/html": [
              "<div>\n",
              "<style scoped>\n",
              "    .dataframe tbody tr th:only-of-type {\n",
              "        vertical-align: middle;\n",
              "    }\n",
              "\n",
              "    .dataframe tbody tr th {\n",
              "        vertical-align: top;\n",
              "    }\n",
              "\n",
              "    .dataframe thead th {\n",
              "        text-align: right;\n",
              "    }\n",
              "</style>\n",
              "<table border=\"1\" class=\"dataframe\">\n",
              "  <thead>\n",
              "    <tr style=\"text-align: right;\">\n",
              "      <th></th>\n",
              "      <th>user_id</th>\n",
              "      <th>predictions</th>\n",
              "      <th>test_pids</th>\n",
              "      <th>relevant_pids</th>\n",
              "      <th>irrelevant_pids</th>\n",
              "      <th>predictions_relevant</th>\n",
              "      <th>predictions_irrelevant</th>\n",
              "    </tr>\n",
              "  </thead>\n",
              "  <tbody>\n",
              "    <tr>\n",
              "      <th>0</th>\n",
              "      <td>0</td>\n",
              "      <td>[4.3028717, 3.971012, 3.652516, 4.22668, 4.303...</td>\n",
              "      <td>[21699, 4138, 148369, 100643, 96881, 81571, 14...</td>\n",
              "      <td>{41987, 156168, 70156, 140813, 89100, 140839, ...</td>\n",
              "      <td>{}</td>\n",
              "      <td>[4.3028717, 3.652516, 4.22668, 4.3031025, 4.39...</td>\n",
              "      <td>[3.971012, 3.8298523, 4.8326383, 3.4735565, 4....</td>\n",
              "    </tr>\n",
              "    <tr>\n",
              "      <th>1</th>\n",
              "      <td>1</td>\n",
              "      <td>[4.502187, 4.2506895, 4.585867, 4.32623, 4.482...</td>\n",
              "      <td>[40902, 19, 20117, 17816, 15123, 86930, 156718...</td>\n",
              "      <td>{30721, 49154, 139267, 77829, 26630, 63495, 14...</td>\n",
              "      <td>{}</td>\n",
              "      <td>[4.502187, 4.2506895, 4.32623, 4.482934, 3.734...</td>\n",
              "      <td>[4.585867, 4.2395964, 3.4215837, 4.595461, 4.4...</td>\n",
              "    </tr>\n",
              "    <tr>\n",
              "      <th>2</th>\n",
              "      <td>2</td>\n",
              "      <td>[3.320291, 4.2998924, 3.3502374, 3.9728785, 4....</td>\n",
              "      <td>[27114, 132955, 32485, 50519, 42407, 136818, 4...</td>\n",
              "      <td>{20486, 88075, 124939, 38925, 81937, 116754, 4...</td>\n",
              "      <td>{}</td>\n",
              "      <td>[3.320291, 4.2998924, 3.3502374, 3.9728785, 4....</td>\n",
              "      <td>[3.9790046, 3.8289204, 4.1270814, 4.7561054, 3...</td>\n",
              "    </tr>\n",
              "    <tr>\n",
              "      <th>3</th>\n",
              "      <td>3</td>\n",
              "      <td>[4.167271, 3.9191787, 3.4398284, 4.706645, 3.4...</td>\n",
              "      <td>[106486, 115286, 110256, 32931, 21505, 88471, ...</td>\n",
              "      <td>{20484, 12293, 20490, 155660, 18444, 20494, 24...</td>\n",
              "      <td>{}</td>\n",
              "      <td>[3.9191787, 4.706645, 3.587603, 4.1287594, 3.5...</td>\n",
              "      <td>[4.167271, 3.4398284, 3.4644752, 3.5321724, 4....</td>\n",
              "    </tr>\n",
              "    <tr>\n",
              "      <th>4</th>\n",
              "      <td>4</td>\n",
              "      <td>[4.49529, 3.089515, 4.521181, 4.012911, 4.0044...</td>\n",
              "      <td>[106740, 118634, 32193, 95283, 77507, 22051, 5...</td>\n",
              "      <td>{49154, 106503, 5641, 107532, 7699, 40980, 100...</td>\n",
              "      <td>{}</td>\n",
              "      <td>[4.49529, 3.089515, 4.521181, 4.012911, 4.5781...</td>\n",
              "      <td>[4.004443, 4.545348, 3.9630654, 3.3771894, 4.4...</td>\n",
              "    </tr>\n",
              "  </tbody>\n",
              "</table>\n",
              "</div>"
            ],
            "text/plain": [
              "   user_id  ...                             predictions_irrelevant\n",
              "0        0  ...  [3.971012, 3.8298523, 4.8326383, 3.4735565, 4....\n",
              "1        1  ...  [4.585867, 4.2395964, 3.4215837, 4.595461, 4.4...\n",
              "2        2  ...  [3.9790046, 3.8289204, 4.1270814, 4.7561054, 3...\n",
              "3        3  ...  [4.167271, 3.4398284, 3.4644752, 3.5321724, 4....\n",
              "4        4  ...  [4.004443, 4.545348, 3.9630654, 3.3771894, 4.4...\n",
              "\n",
              "[5 rows x 7 columns]"
            ]
          },
          "metadata": {
            "tags": []
          },
          "execution_count": 72
        }
      ]
    },
    {
      "cell_type": "code",
      "metadata": {
        "id": "RgqRv6VhayMN"
      },
      "source": [
        "matrix_sampled_merged.head()"
      ],
      "id": "RgqRv6VhayMN",
      "execution_count": null,
      "outputs": []
    },
    {
      "cell_type": "code",
      "metadata": {
        "id": "honest-globe"
      },
      "source": [
        "def precision_at_k(predictions_df):\n",
        "    precisions = []\n",
        "    # For each user\n",
        "    for row in predictions_df.iterrows():\n",
        "      predictions = row[1][1]\n",
        "      test_pids = row[1][2]\n",
        "      relevant_pids = set(row[1][3])\n",
        "      if len(relevant_pids) == 0:\n",
        "          continue\n",
        "      # Sort the items and het the top k\n",
        "      top_k = predictions > 3.5\n",
        "      if top_k.sum() == 0:\n",
        "         precisions.append(0)\n",
        "         continue\n",
        "      top_k_items = set(np.array(test_pids)[top_k])\n",
        "      # Compute precision as per definition\n",
        "      precisions.append(len(top_k_items & relevant_pids) / top_k.sum())\n",
        "    return precisions"
      ],
      "id": "honest-globe",
      "execution_count": 92,
      "outputs": []
    },
    {
      "cell_type": "code",
      "metadata": {
        "id": "asian-divide"
      },
      "source": [
        "precisions = precision_at_k(predictions_df)"
      ],
      "id": "asian-divide",
      "execution_count": 93,
      "outputs": []
    },
    {
      "cell_type": "code",
      "metadata": {
        "id": "muslim-sphere",
        "colab": {
          "base_uri": "https://localhost:8080/"
        },
        "outputId": "3c9da066-4eec-41a4-b1ff-fc44a5ce1a23"
      },
      "source": [
        "np.mean(precisions), np.std(precisions)"
      ],
      "id": "muslim-sphere",
      "execution_count": 94,
      "outputs": [
        {
          "output_type": "execute_result",
          "data": {
            "text/plain": [
              "(0.9635730884675162, 0.1265702047955309)"
            ]
          },
          "metadata": {
            "tags": []
          },
          "execution_count": 94
        }
      ]
    },
    {
      "cell_type": "code",
      "metadata": {
        "id": "cosmetic-enhancement"
      },
      "source": [
        "### EXERCISE CELL ###\n",
        "def recall_at_k(predictions_df):\n",
        "    recalls = []\n",
        "    # For each user\n",
        "    for row in predictions_df.iterrows():\n",
        "      predictions = row[1][1]\n",
        "      test_pids = row[1][2]\n",
        "      relevant_pids = set(row[1][3])\n",
        "      if len(relevant_pids) == 0:\n",
        "          continue\n",
        "      # Sort the items and het the top k\n",
        "      top_k = predictions > 3.5\n",
        "      if top_k.sum() == 0:\n",
        "         recalls.append(0)\n",
        "         continue\n",
        "      top_k_items = set(np.array(test_pids)[top_k])\n",
        "      recalls.append(len(top_k_items & relevant_pids) / len(relevant_pids))\n",
        "    return recalls"
      ],
      "id": "cosmetic-enhancement",
      "execution_count": 95,
      "outputs": []
    },
    {
      "cell_type": "code",
      "metadata": {
        "id": "collected-universal"
      },
      "source": [
        "recalls = recall_at_k(predictions_df)"
      ],
      "id": "collected-universal",
      "execution_count": 96,
      "outputs": []
    },
    {
      "cell_type": "code",
      "metadata": {
        "id": "hourly-skiing",
        "colab": {
          "base_uri": "https://localhost:8080/"
        },
        "outputId": "93dc9c9e-8cb3-474c-b06e-ccbb33bf6d0c"
      },
      "source": [
        "np.mean(recalls), np.std(recalls)"
      ],
      "id": "hourly-skiing",
      "execution_count": 97,
      "outputs": [
        {
          "output_type": "execute_result",
          "data": {
            "text/plain": [
              "(0.7039629661550522, 0.265482016387124)"
            ]
          },
          "metadata": {
            "tags": []
          },
          "execution_count": 97
        }
      ]
    },
    {
      "cell_type": "code",
      "metadata": {
        "id": "answering-drink"
      },
      "source": [
        "### EXERCISE CELL ###\n",
        "def map_at_k(predictions_df, k=100):\n",
        "    maps = []\n",
        "    for row in predictions_df.iterrows():\n",
        "      predictions = row[1][1]\n",
        "      test_pids = row[1][2]\n",
        "      relevant_pids = set(row[1][3])\n",
        "      if len(relevant_pids) == 0:\n",
        "          continue\n",
        "      partial_maps = []\n",
        "      top_k = list(np.argsort(predictions)[:k])\n",
        "      top_k_items = np.array(test_pids)[top_k]\n",
        "      for rank, item_id in enumerate(top_k_items):\n",
        "          if item_id in relevant_pids:\n",
        "              partial_maps.append(len(set(top_k_items[:rank+1]) & relevant_pids) / float(rank+1))\n",
        "      maps.append(.0 if len(partial_maps) == 0 else np.sum(partial_maps) / float(k))\n",
        "    return maps"
      ],
      "id": "answering-drink",
      "execution_count": 98,
      "outputs": []
    },
    {
      "cell_type": "code",
      "metadata": {
        "id": "fantastic-sender"
      },
      "source": [
        "maps = map_at_k(predictions_df, k=100)"
      ],
      "id": "fantastic-sender",
      "execution_count": 99,
      "outputs": []
    },
    {
      "cell_type": "code",
      "metadata": {
        "id": "changing-israel",
        "colab": {
          "base_uri": "https://localhost:8080/"
        },
        "outputId": "aee92eb6-f3d8-4f2b-ea44-463ef4f6aa7a"
      },
      "source": [
        "np.mean(maps), np.std(maps)"
      ],
      "id": "changing-israel",
      "execution_count": 100,
      "outputs": [
        {
          "output_type": "execute_result",
          "data": {
            "text/plain": [
              "(0.8848112937444789, 0.22950920766171087)"
            ]
          },
          "metadata": {
            "tags": []
          },
          "execution_count": 100
        }
      ]
    },
    {
      "cell_type": "code",
      "metadata": {
        "id": "least-brooklyn"
      },
      "source": [
        ""
      ],
      "id": "least-brooklyn",
      "execution_count": null,
      "outputs": []
    }
  ]
}