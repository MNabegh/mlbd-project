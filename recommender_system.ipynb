{
  "nbformat": 4,
  "nbformat_minor": 5,
  "metadata": {
    "kernelspec": {
      "display_name": "Python 3",
      "language": "python",
      "name": "python3"
    },
    "language_info": {
      "codemirror_mode": {
        "name": "ipython",
        "version": 3
      },
      "file_extension": ".py",
      "mimetype": "text/x-python",
      "name": "python",
      "nbconvert_exporter": "python",
      "pygments_lexer": "ipython3",
      "version": "3.7.10"
    },
    "colab": {
      "name": "recommender_system.ipynb",
      "provenance": []
    }
  },
  "cells": [
    {
      "cell_type": "code",
      "metadata": {
        "id": "0VEXgpNp1Cqi"
      },
      "source": [
        "import os\n",
        "\n",
        "path = 'lastfm-dataset-1K'\n",
        "\n",
        "if not os.path.exists(path):\n",
        "\n",
        "  !wget http://mtg.upf.edu/static/datasets/last.fm/lastfm-dataset-1K.tar.gz\n",
        "  !tar -xvzf lastfm-dataset-1K.tar.gz\n"
      ],
      "id": "0VEXgpNp1Cqi",
      "execution_count": 3,
      "outputs": []
    },
    {
      "cell_type": "code",
      "metadata": {
        "colab": {
          "base_uri": "https://localhost:8080/"
        },
        "id": "dHPzdYY01CTs",
        "outputId": "c2c67dd4-9af3-4190-8da8-b54b894035cc"
      },
      "source": [
        "!ls"
      ],
      "id": "dHPzdYY01CTs",
      "execution_count": 4,
      "outputs": [
        {
          "output_type": "stream",
          "text": [
            "drive  lastfm-dataset-1K  lastfm-dataset-1K.tar.gz  sample_data\n"
          ],
          "name": "stdout"
        }
      ]
    },
    {
      "cell_type": "code",
      "metadata": {
        "id": "PQ162BxguWhK",
        "colab": {
          "base_uri": "https://localhost:8080/"
        },
        "outputId": "ec2bf560-9cd7-45bb-f9d9-581f0dae5df1"
      },
      "source": [
        "import os\n",
        "from google.colab import drive\n",
        "drive.mount('/content/drive')"
      ],
      "id": "PQ162BxguWhK",
      "execution_count": 5,
      "outputs": [
        {
          "output_type": "stream",
          "text": [
            "Drive already mounted at /content/drive; to attempt to forcibly remount, call drive.mount(\"/content/drive\", force_remount=True).\n"
          ],
          "name": "stdout"
        }
      ]
    },
    {
      "cell_type": "code",
      "metadata": {
        "id": "IkLzfmKxv1nY",
        "colab": {
          "base_uri": "https://localhost:8080/"
        },
        "outputId": "e5cddb53-d331-4e2f-820c-c9887c9d8b8f"
      },
      "source": [
        "!ls drive/MyDrive/data"
      ],
      "id": "IkLzfmKxv1nY",
      "execution_count": 6,
      "outputs": [
        {
          "output_type": "stream",
          "text": [
            "feature_df_with_emb.csv  spotify_features.csv\n"
          ],
          "name": "stdout"
        }
      ]
    },
    {
      "cell_type": "code",
      "metadata": {
        "id": "legislative-photography",
        "colab": {
          "base_uri": "https://localhost:8080/"
        },
        "outputId": "03cb51c0-7f5b-4df5-99f7-d5535b8e5221"
      },
      "source": [
        "import pandas as pd\n",
        "import matplotlib.pyplot as plt\n",
        "import seaborn as sns\n",
        "from io import StringIO\n",
        "import numpy as np\n",
        "from tqdm import tqdm\n",
        "from sklearn.model_selection import train_test_split\n",
        "from sklearn.metrics import roc_auc_score\n",
        "import scipy.sparse as sp\n",
        "import tensorflow as tf\n",
        "from tqdm import tqdm\n",
        "import pandas as pd\n",
        "import numpy as np\n",
        "\n",
        "from keras.utils.vis_utils import model_to_dot\n",
        "from IPython.display import SVG\n",
        "import matplotlib.pyplot as plt\n",
        "import matplotlib\n",
        "%matplotlib inline\n",
        "\n",
        "import datetime\n",
        "import time \n",
        "import math\n",
        "import os\n",
        "%config Completer.use_jedi = False"
      ],
      "id": "legislative-photography",
      "execution_count": 7,
      "outputs": [
        {
          "output_type": "stream",
          "text": [
            "/usr/local/lib/python3.7/dist-packages/ipykernel_launcher.py:25: UserWarning: Config option `use_jedi` not recognized by `IPCompleter`.\n"
          ],
          "name": "stderr"
        }
      ]
    },
    {
      "cell_type": "code",
      "metadata": {
        "id": "y6JENn92JzyY"
      },
      "source": [
        "path = \"drive/MyDrive/data/feature_df_with_emb.csv\"\n",
        "\n",
        "feature_df_with_emb = pd.read_csv(path)"
      ],
      "id": "y6JENn92JzyY",
      "execution_count": 8,
      "outputs": []
    },
    {
      "cell_type": "code",
      "metadata": {
        "id": "9MPlx151Mo_8",
        "colab": {
          "base_uri": "https://localhost:8080/",
          "height": 496
        },
        "outputId": "dc2f8051-50a0-418d-8695-5e576f74fb72"
      },
      "source": [
        "feature_df_with_emb.head()"
      ],
      "id": "9MPlx151Mo_8",
      "execution_count": 9,
      "outputs": [
        {
          "output_type": "execute_result",
          "data": {
            "text/html": [
              "<div>\n",
              "<style scoped>\n",
              "    .dataframe tbody tr th:only-of-type {\n",
              "        vertical-align: middle;\n",
              "    }\n",
              "\n",
              "    .dataframe tbody tr th {\n",
              "        vertical-align: top;\n",
              "    }\n",
              "\n",
              "    .dataframe thead th {\n",
              "        text-align: right;\n",
              "    }\n",
              "</style>\n",
              "<table border=\"1\" class=\"dataframe\">\n",
              "  <thead>\n",
              "    <tr style=\"text-align: right;\">\n",
              "      <th></th>\n",
              "      <th>Unnamed: 0</th>\n",
              "      <th>artist</th>\n",
              "      <th>track</th>\n",
              "      <th>danceability</th>\n",
              "      <th>energy</th>\n",
              "      <th>key</th>\n",
              "      <th>loudness</th>\n",
              "      <th>mode</th>\n",
              "      <th>speechiness</th>\n",
              "      <th>acousticness</th>\n",
              "      <th>instrumentalness</th>\n",
              "      <th>liveness</th>\n",
              "      <th>valence</th>\n",
              "      <th>tempo</th>\n",
              "      <th>duration_ms</th>\n",
              "      <th>genres</th>\n",
              "      <th>popularity</th>\n",
              "      <th>genres_emb</th>\n",
              "      <th>emb_x</th>\n",
              "      <th>emb_y</th>\n",
              "      <th>emb_z</th>\n",
              "    </tr>\n",
              "  </thead>\n",
              "  <tbody>\n",
              "    <tr>\n",
              "      <th>0</th>\n",
              "      <td>0</td>\n",
              "      <td>坂本龍一</td>\n",
              "      <td>Composition 0919 (Live_2009_4_15)</td>\n",
              "      <td>0.806</td>\n",
              "      <td>0.413</td>\n",
              "      <td>5.0</td>\n",
              "      <td>-12.883</td>\n",
              "      <td>1.0</td>\n",
              "      <td>0.1560</td>\n",
              "      <td>0.987</td>\n",
              "      <td>0.794</td>\n",
              "      <td>0.1130</td>\n",
              "      <td>0.5290</td>\n",
              "      <td>105.089</td>\n",
              "      <td>330253.0</td>\n",
              "      <td>['japanese soundtrack', 'japanese classical', ...</td>\n",
              "      <td>62</td>\n",
              "      <td>[7.3752766  4.8944925  0.94349271]</td>\n",
              "      <td>7.375277</td>\n",
              "      <td>4.894493</td>\n",
              "      <td>0.943493</td>\n",
              "    </tr>\n",
              "    <tr>\n",
              "      <th>1</th>\n",
              "      <td>1</td>\n",
              "      <td>坂本龍一</td>\n",
              "      <td>Hibari (Live_2009_4_15)</td>\n",
              "      <td>0.604</td>\n",
              "      <td>0.283</td>\n",
              "      <td>9.0</td>\n",
              "      <td>-19.811</td>\n",
              "      <td>0.0</td>\n",
              "      <td>0.0583</td>\n",
              "      <td>0.996</td>\n",
              "      <td>0.916</td>\n",
              "      <td>0.1140</td>\n",
              "      <td>0.2700</td>\n",
              "      <td>137.802</td>\n",
              "      <td>540133.0</td>\n",
              "      <td>['japanese soundtrack', 'japanese classical', ...</td>\n",
              "      <td>62</td>\n",
              "      <td>[7.3752766  4.8944925  0.94349271]</td>\n",
              "      <td>7.375277</td>\n",
              "      <td>4.894493</td>\n",
              "      <td>0.943493</td>\n",
              "    </tr>\n",
              "    <tr>\n",
              "      <th>2</th>\n",
              "      <td>2</td>\n",
              "      <td>坂本龍一</td>\n",
              "      <td>To Stanford (Live_2009_4_15)</td>\n",
              "      <td>0.453</td>\n",
              "      <td>0.163</td>\n",
              "      <td>5.0</td>\n",
              "      <td>-20.922</td>\n",
              "      <td>1.0</td>\n",
              "      <td>0.0519</td>\n",
              "      <td>0.990</td>\n",
              "      <td>0.939</td>\n",
              "      <td>0.1010</td>\n",
              "      <td>0.0703</td>\n",
              "      <td>73.926</td>\n",
              "      <td>216853.0</td>\n",
              "      <td>['japanese indie folk', 'japanese soundtrack',...</td>\n",
              "      <td>39</td>\n",
              "      <td>[7.3752766  4.8944925  0.94349271]</td>\n",
              "      <td>7.375277</td>\n",
              "      <td>4.894493</td>\n",
              "      <td>0.943493</td>\n",
              "    </tr>\n",
              "    <tr>\n",
              "      <th>3</th>\n",
              "      <td>3</td>\n",
              "      <td>坂本龍一</td>\n",
              "      <td>Improvisation (Live_2009_4_15)</td>\n",
              "      <td>0.217</td>\n",
              "      <td>0.012</td>\n",
              "      <td>5.0</td>\n",
              "      <td>-36.464</td>\n",
              "      <td>1.0</td>\n",
              "      <td>0.0376</td>\n",
              "      <td>0.991</td>\n",
              "      <td>0.859</td>\n",
              "      <td>0.0866</td>\n",
              "      <td>0.0376</td>\n",
              "      <td>80.714</td>\n",
              "      <td>384707.0</td>\n",
              "      <td>['japanese soundtrack', 'japanese classical', ...</td>\n",
              "      <td>62</td>\n",
              "      <td>[7.3752766  4.8944925  0.94349271]</td>\n",
              "      <td>7.375277</td>\n",
              "      <td>4.894493</td>\n",
              "      <td>0.943493</td>\n",
              "    </tr>\n",
              "    <tr>\n",
              "      <th>4</th>\n",
              "      <td>4</td>\n",
              "      <td>坂本龍一</td>\n",
              "      <td>Glacier (Live_2009_4_15)</td>\n",
              "      <td>0.518</td>\n",
              "      <td>0.213</td>\n",
              "      <td>9.0</td>\n",
              "      <td>-28.790</td>\n",
              "      <td>0.0</td>\n",
              "      <td>0.2090</td>\n",
              "      <td>0.869</td>\n",
              "      <td>0.898</td>\n",
              "      <td>0.1030</td>\n",
              "      <td>0.0920</td>\n",
              "      <td>104.191</td>\n",
              "      <td>580707.0</td>\n",
              "      <td>['japanese soundtrack', 'japanese classical', ...</td>\n",
              "      <td>62</td>\n",
              "      <td>[7.3752766  4.8944925  0.94349271]</td>\n",
              "      <td>7.375277</td>\n",
              "      <td>4.894493</td>\n",
              "      <td>0.943493</td>\n",
              "    </tr>\n",
              "  </tbody>\n",
              "</table>\n",
              "</div>"
            ],
            "text/plain": [
              "   Unnamed: 0 artist  ...     emb_y     emb_z\n",
              "0           0   坂本龍一  ...  4.894493  0.943493\n",
              "1           1   坂本龍一  ...  4.894493  0.943493\n",
              "2           2   坂本龍一  ...  4.894493  0.943493\n",
              "3           3   坂本龍一  ...  4.894493  0.943493\n",
              "4           4   坂本龍一  ...  4.894493  0.943493\n",
              "\n",
              "[5 rows x 21 columns]"
            ]
          },
          "metadata": {
            "tags": []
          },
          "execution_count": 9
        }
      ]
    },
    {
      "cell_type": "code",
      "metadata": {
        "id": "greatest-invitation"
      },
      "source": [
        "# Load the dataset\n",
        "df = pd.read_table('lastfm-dataset-1K/userid-timestamp-artid-artname-traid-traname.tsv', lineterminator='\\n', warn_bad_lines=True, names=['user', 'timestamp', 'artist-id', 'artist', 'song-id', 'song'])\n",
        "df_profile = pd.read_csv('lastfm-dataset-1K/userid-profile.tsv', sep='\\t', error_bad_lines=False, warn_bad_lines=True, skiprows=1, names=['user', 'gender', 'age', 'country', 'signup'])"
      ],
      "id": "greatest-invitation",
      "execution_count": 10,
      "outputs": []
    },
    {
      "cell_type": "code",
      "metadata": {
        "id": "union-season"
      },
      "source": [
        "# Check if some songs share a common ID\n",
        "grouped = df[['song-id', 'song']].groupby(['song-id']).nunique()"
      ],
      "id": "union-season",
      "execution_count": 11,
      "outputs": []
    },
    {
      "cell_type": "code",
      "metadata": {
        "id": "aerial-damages"
      },
      "source": [
        "# Get rows with song names containing multiple rows\n",
        "duplicated = df.loc[df['song-id'].isin(grouped[grouped['song'] > 1].index)]\n",
        "duplicated = duplicated.drop(columns=['user', 'timestamp', 'artist', 'artist-id'])\n",
        "containis_extra_rows = duplicated.apply(lambda x: pd.Series({'id': x[0], 'song': x[1], 'flag':'\\n' in x[1]}), axis=1)\n",
        "containis_extra_rows = containis_extra_rows.loc[containis_extra_rows['flag']]"
      ],
      "id": "aerial-damages",
      "execution_count": 12,
      "outputs": []
    },
    {
      "cell_type": "code",
      "metadata": {
        "id": "smoking-vanilla"
      },
      "source": [
        "# Iterate over those 5k rows to get the extra rows and correct the song name\n",
        "for index, row in containis_extra_rows.iterrows():\n",
        "    row_break = row['song'].split('\\n', 1)\n",
        "    song_name = row_break[0]\n",
        "    df.loc[df['song-id'] == row['id'], 'song'] = song_name\n",
        "    \n",
        "    tsv = StringIO(row_break[1])\n",
        "    df_extra = pd.read_csv(tsv, sep=\"\\t\", warn_bad_lines=True, names=['user', 'timestamp', 'artist-id', 'artist', 'song-id', 'song'])\n",
        "    df = df.append(df_extra, ignore_index=True)"
      ],
      "id": "smoking-vanilla",
      "execution_count": 13,
      "outputs": []
    },
    {
      "cell_type": "markdown",
      "metadata": {
        "id": "green-cloud"
      },
      "source": [
        "### Fix names"
      ],
      "id": "green-cloud"
    },
    {
      "cell_type": "code",
      "metadata": {
        "id": "marked-return"
      },
      "source": [
        "# Check if some songs share a common ID\n",
        "grouped = df[['song-id', 'song']].groupby(['song-id']).nunique()"
      ],
      "id": "marked-return",
      "execution_count": 14,
      "outputs": []
    },
    {
      "cell_type": "code",
      "metadata": {
        "id": "developing-roots",
        "outputId": "c828d565-2dd8-48fb-8355-835b38578f8f",
        "colab": {
          "base_uri": "https://localhost:8080/"
        }
      },
      "source": [
        "# Check how many ids has more than 1 song name\n",
        "grouped[grouped['song'] > 1].shape[0]"
      ],
      "id": "developing-roots",
      "execution_count": 15,
      "outputs": [
        {
          "output_type": "execute_result",
          "data": {
            "text/plain": [
              "200"
            ]
          },
          "metadata": {
            "tags": []
          },
          "execution_count": 15
        }
      ]
    },
    {
      "cell_type": "code",
      "metadata": {
        "id": "million-deputy"
      },
      "source": [
        "ids_to_be_fixed = grouped[grouped['song'] > 1].index"
      ],
      "id": "million-deputy",
      "execution_count": 16,
      "outputs": []
    },
    {
      "cell_type": "code",
      "metadata": {
        "id": "compact-standing"
      },
      "source": [
        "df = df.set_index('song-id')"
      ],
      "id": "compact-standing",
      "execution_count": 17,
      "outputs": []
    },
    {
      "cell_type": "code",
      "metadata": {
        "id": "waiting-efficiency"
      },
      "source": [
        "map_to_fix = df.groupby(df.index)['song'].head(1)"
      ],
      "id": "waiting-efficiency",
      "execution_count": 18,
      "outputs": []
    },
    {
      "cell_type": "code",
      "metadata": {
        "id": "satellite-chile"
      },
      "source": [
        "df.loc[ids_to_be_fixed, 'song'] = df.loc[ids_to_be_fixed].reset_index()['song-id'].map(lambda x: map_to_fix[x])\n",
        "df = df.reset_index()"
      ],
      "id": "satellite-chile",
      "execution_count": 19,
      "outputs": []
    },
    {
      "cell_type": "markdown",
      "metadata": {
        "id": "experimental-canal"
      },
      "source": [
        "### Create matrix"
      ],
      "id": "experimental-canal"
    },
    {
      "cell_type": "code",
      "metadata": {
        "id": "approved-episode"
      },
      "source": [
        "matrix_init = df.groupby(['user', 'artist', 'song']).count()"
      ],
      "id": "approved-episode",
      "execution_count": 20,
      "outputs": []
    },
    {
      "cell_type": "code",
      "metadata": {
        "id": "streaming-platform"
      },
      "source": [
        "matrix_init = matrix_init['timestamp']"
      ],
      "id": "streaming-platform",
      "execution_count": 21,
      "outputs": []
    },
    {
      "cell_type": "code",
      "metadata": {
        "id": "wired-master"
      },
      "source": [
        "matrix_init = matrix_init.reset_index()"
      ],
      "id": "wired-master",
      "execution_count": 22,
      "outputs": []
    },
    {
      "cell_type": "code",
      "metadata": {
        "id": "peaceful-uzbekistan"
      },
      "source": [
        "def rating_scaler(row):\n",
        "    row_array = np.array(row)\n",
        "    a, new_range= 1, 4\n",
        "    min_, max_ = row_array.min(), row_array.max()\n",
        "    old_range = max_ - min_\n",
        "    \n",
        "    \n",
        "    scaled_row = (new_range * (row_array - min_)) / (old_range + 1e-6)  + a\n",
        "    return pd.Series(scaled_row)"
      ],
      "id": "peaceful-uzbekistan",
      "execution_count": 23,
      "outputs": []
    },
    {
      "cell_type": "code",
      "metadata": {
        "id": "sunrise-article"
      },
      "source": [
        "matrix_init_scaled = matrix_init.groupby('user')['timestamp'].apply(rating_scaler)"
      ],
      "id": "sunrise-article",
      "execution_count": 24,
      "outputs": []
    },
    {
      "cell_type": "code",
      "metadata": {
        "id": "promising-sussex"
      },
      "source": [
        "matrix_init['timestamp'] = matrix_init_scaled.reset_index()['timestamp']"
      ],
      "id": "promising-sussex",
      "execution_count": 25,
      "outputs": []
    },
    {
      "cell_type": "code",
      "metadata": {
        "id": "RegnknnLcdpr",
        "outputId": "dfee4360-b06f-460e-c2cb-d25b96a8f960",
        "colab": {
          "base_uri": "https://localhost:8080/",
          "height": 496
        }
      },
      "source": [
        "feature_df_with_emb.head()"
      ],
      "id": "RegnknnLcdpr",
      "execution_count": 26,
      "outputs": [
        {
          "output_type": "execute_result",
          "data": {
            "text/html": [
              "<div>\n",
              "<style scoped>\n",
              "    .dataframe tbody tr th:only-of-type {\n",
              "        vertical-align: middle;\n",
              "    }\n",
              "\n",
              "    .dataframe tbody tr th {\n",
              "        vertical-align: top;\n",
              "    }\n",
              "\n",
              "    .dataframe thead th {\n",
              "        text-align: right;\n",
              "    }\n",
              "</style>\n",
              "<table border=\"1\" class=\"dataframe\">\n",
              "  <thead>\n",
              "    <tr style=\"text-align: right;\">\n",
              "      <th></th>\n",
              "      <th>Unnamed: 0</th>\n",
              "      <th>artist</th>\n",
              "      <th>track</th>\n",
              "      <th>danceability</th>\n",
              "      <th>energy</th>\n",
              "      <th>key</th>\n",
              "      <th>loudness</th>\n",
              "      <th>mode</th>\n",
              "      <th>speechiness</th>\n",
              "      <th>acousticness</th>\n",
              "      <th>instrumentalness</th>\n",
              "      <th>liveness</th>\n",
              "      <th>valence</th>\n",
              "      <th>tempo</th>\n",
              "      <th>duration_ms</th>\n",
              "      <th>genres</th>\n",
              "      <th>popularity</th>\n",
              "      <th>genres_emb</th>\n",
              "      <th>emb_x</th>\n",
              "      <th>emb_y</th>\n",
              "      <th>emb_z</th>\n",
              "    </tr>\n",
              "  </thead>\n",
              "  <tbody>\n",
              "    <tr>\n",
              "      <th>0</th>\n",
              "      <td>0</td>\n",
              "      <td>坂本龍一</td>\n",
              "      <td>Composition 0919 (Live_2009_4_15)</td>\n",
              "      <td>0.806</td>\n",
              "      <td>0.413</td>\n",
              "      <td>5.0</td>\n",
              "      <td>-12.883</td>\n",
              "      <td>1.0</td>\n",
              "      <td>0.1560</td>\n",
              "      <td>0.987</td>\n",
              "      <td>0.794</td>\n",
              "      <td>0.1130</td>\n",
              "      <td>0.5290</td>\n",
              "      <td>105.089</td>\n",
              "      <td>330253.0</td>\n",
              "      <td>['japanese soundtrack', 'japanese classical', ...</td>\n",
              "      <td>62</td>\n",
              "      <td>[7.3752766  4.8944925  0.94349271]</td>\n",
              "      <td>7.375277</td>\n",
              "      <td>4.894493</td>\n",
              "      <td>0.943493</td>\n",
              "    </tr>\n",
              "    <tr>\n",
              "      <th>1</th>\n",
              "      <td>1</td>\n",
              "      <td>坂本龍一</td>\n",
              "      <td>Hibari (Live_2009_4_15)</td>\n",
              "      <td>0.604</td>\n",
              "      <td>0.283</td>\n",
              "      <td>9.0</td>\n",
              "      <td>-19.811</td>\n",
              "      <td>0.0</td>\n",
              "      <td>0.0583</td>\n",
              "      <td>0.996</td>\n",
              "      <td>0.916</td>\n",
              "      <td>0.1140</td>\n",
              "      <td>0.2700</td>\n",
              "      <td>137.802</td>\n",
              "      <td>540133.0</td>\n",
              "      <td>['japanese soundtrack', 'japanese classical', ...</td>\n",
              "      <td>62</td>\n",
              "      <td>[7.3752766  4.8944925  0.94349271]</td>\n",
              "      <td>7.375277</td>\n",
              "      <td>4.894493</td>\n",
              "      <td>0.943493</td>\n",
              "    </tr>\n",
              "    <tr>\n",
              "      <th>2</th>\n",
              "      <td>2</td>\n",
              "      <td>坂本龍一</td>\n",
              "      <td>To Stanford (Live_2009_4_15)</td>\n",
              "      <td>0.453</td>\n",
              "      <td>0.163</td>\n",
              "      <td>5.0</td>\n",
              "      <td>-20.922</td>\n",
              "      <td>1.0</td>\n",
              "      <td>0.0519</td>\n",
              "      <td>0.990</td>\n",
              "      <td>0.939</td>\n",
              "      <td>0.1010</td>\n",
              "      <td>0.0703</td>\n",
              "      <td>73.926</td>\n",
              "      <td>216853.0</td>\n",
              "      <td>['japanese indie folk', 'japanese soundtrack',...</td>\n",
              "      <td>39</td>\n",
              "      <td>[7.3752766  4.8944925  0.94349271]</td>\n",
              "      <td>7.375277</td>\n",
              "      <td>4.894493</td>\n",
              "      <td>0.943493</td>\n",
              "    </tr>\n",
              "    <tr>\n",
              "      <th>3</th>\n",
              "      <td>3</td>\n",
              "      <td>坂本龍一</td>\n",
              "      <td>Improvisation (Live_2009_4_15)</td>\n",
              "      <td>0.217</td>\n",
              "      <td>0.012</td>\n",
              "      <td>5.0</td>\n",
              "      <td>-36.464</td>\n",
              "      <td>1.0</td>\n",
              "      <td>0.0376</td>\n",
              "      <td>0.991</td>\n",
              "      <td>0.859</td>\n",
              "      <td>0.0866</td>\n",
              "      <td>0.0376</td>\n",
              "      <td>80.714</td>\n",
              "      <td>384707.0</td>\n",
              "      <td>['japanese soundtrack', 'japanese classical', ...</td>\n",
              "      <td>62</td>\n",
              "      <td>[7.3752766  4.8944925  0.94349271]</td>\n",
              "      <td>7.375277</td>\n",
              "      <td>4.894493</td>\n",
              "      <td>0.943493</td>\n",
              "    </tr>\n",
              "    <tr>\n",
              "      <th>4</th>\n",
              "      <td>4</td>\n",
              "      <td>坂本龍一</td>\n",
              "      <td>Glacier (Live_2009_4_15)</td>\n",
              "      <td>0.518</td>\n",
              "      <td>0.213</td>\n",
              "      <td>9.0</td>\n",
              "      <td>-28.790</td>\n",
              "      <td>0.0</td>\n",
              "      <td>0.2090</td>\n",
              "      <td>0.869</td>\n",
              "      <td>0.898</td>\n",
              "      <td>0.1030</td>\n",
              "      <td>0.0920</td>\n",
              "      <td>104.191</td>\n",
              "      <td>580707.0</td>\n",
              "      <td>['japanese soundtrack', 'japanese classical', ...</td>\n",
              "      <td>62</td>\n",
              "      <td>[7.3752766  4.8944925  0.94349271]</td>\n",
              "      <td>7.375277</td>\n",
              "      <td>4.894493</td>\n",
              "      <td>0.943493</td>\n",
              "    </tr>\n",
              "  </tbody>\n",
              "</table>\n",
              "</div>"
            ],
            "text/plain": [
              "   Unnamed: 0 artist  ...     emb_y     emb_z\n",
              "0           0   坂本龍一  ...  4.894493  0.943493\n",
              "1           1   坂本龍一  ...  4.894493  0.943493\n",
              "2           2   坂本龍一  ...  4.894493  0.943493\n",
              "3           3   坂本龍一  ...  4.894493  0.943493\n",
              "4           4   坂本龍一  ...  4.894493  0.943493\n",
              "\n",
              "[5 rows x 21 columns]"
            ]
          },
          "metadata": {
            "tags": []
          },
          "execution_count": 26
        }
      ]
    },
    {
      "cell_type": "markdown",
      "metadata": {
        "id": "working-dylan"
      },
      "source": [
        "### Merge data"
      ],
      "id": "working-dylan"
    },
    {
      "cell_type": "code",
      "metadata": {
        "id": "silent-present"
      },
      "source": [
        "matrix_init = matrix_init.rename({'timestamp':'rating', 'song':'track'}, axis=1)"
      ],
      "id": "silent-present",
      "execution_count": 27,
      "outputs": []
    },
    {
      "cell_type": "code",
      "metadata": {
        "id": "potential-replica"
      },
      "source": [
        "matrix_extended = matrix_init.merge(feature_df_with_emb, on=['artist', 'track'])"
      ],
      "id": "potential-replica",
      "execution_count": 28,
      "outputs": []
    },
    {
      "cell_type": "code",
      "metadata": {
        "id": "formal-token",
        "outputId": "d8c018bf-6789-43b2-9055-399a874e9587",
        "colab": {
          "base_uri": "https://localhost:8080/",
          "height": 666
        }
      },
      "source": [
        "matrix_extended.head()"
      ],
      "id": "formal-token",
      "execution_count": 29,
      "outputs": [
        {
          "output_type": "execute_result",
          "data": {
            "text/html": [
              "<div>\n",
              "<style scoped>\n",
              "    .dataframe tbody tr th:only-of-type {\n",
              "        vertical-align: middle;\n",
              "    }\n",
              "\n",
              "    .dataframe tbody tr th {\n",
              "        vertical-align: top;\n",
              "    }\n",
              "\n",
              "    .dataframe thead th {\n",
              "        text-align: right;\n",
              "    }\n",
              "</style>\n",
              "<table border=\"1\" class=\"dataframe\">\n",
              "  <thead>\n",
              "    <tr style=\"text-align: right;\">\n",
              "      <th></th>\n",
              "      <th>user</th>\n",
              "      <th>artist</th>\n",
              "      <th>track</th>\n",
              "      <th>rating</th>\n",
              "      <th>Unnamed: 0</th>\n",
              "      <th>danceability</th>\n",
              "      <th>energy</th>\n",
              "      <th>key</th>\n",
              "      <th>loudness</th>\n",
              "      <th>mode</th>\n",
              "      <th>speechiness</th>\n",
              "      <th>acousticness</th>\n",
              "      <th>instrumentalness</th>\n",
              "      <th>liveness</th>\n",
              "      <th>valence</th>\n",
              "      <th>tempo</th>\n",
              "      <th>duration_ms</th>\n",
              "      <th>genres</th>\n",
              "      <th>popularity</th>\n",
              "      <th>genres_emb</th>\n",
              "      <th>emb_x</th>\n",
              "      <th>emb_y</th>\n",
              "      <th>emb_z</th>\n",
              "    </tr>\n",
              "  </thead>\n",
              "  <tbody>\n",
              "    <tr>\n",
              "      <th>0</th>\n",
              "      <td>user_000001</td>\n",
              "      <td>2562</td>\n",
              "      <td>Basin Dub</td>\n",
              "      <td>1.057971</td>\n",
              "      <td>1056</td>\n",
              "      <td>0.644</td>\n",
              "      <td>0.431</td>\n",
              "      <td>11.0</td>\n",
              "      <td>-7.676</td>\n",
              "      <td>1.0</td>\n",
              "      <td>0.206</td>\n",
              "      <td>0.0393</td>\n",
              "      <td>0.3</td>\n",
              "      <td>0.159</td>\n",
              "      <td>0.347</td>\n",
              "      <td>139.998</td>\n",
              "      <td>292769.0</td>\n",
              "      <td>['classic dubstep', 'future garage', 'bass mus...</td>\n",
              "      <td>19</td>\n",
              "      <td>[5.3110935  6.1038699  3.31327275]</td>\n",
              "      <td>5.311094</td>\n",
              "      <td>6.10387</td>\n",
              "      <td>3.313273</td>\n",
              "    </tr>\n",
              "    <tr>\n",
              "      <th>1</th>\n",
              "      <td>user_000451</td>\n",
              "      <td>2562</td>\n",
              "      <td>Basin Dub</td>\n",
              "      <td>1.045455</td>\n",
              "      <td>1056</td>\n",
              "      <td>0.644</td>\n",
              "      <td>0.431</td>\n",
              "      <td>11.0</td>\n",
              "      <td>-7.676</td>\n",
              "      <td>1.0</td>\n",
              "      <td>0.206</td>\n",
              "      <td>0.0393</td>\n",
              "      <td>0.3</td>\n",
              "      <td>0.159</td>\n",
              "      <td>0.347</td>\n",
              "      <td>139.998</td>\n",
              "      <td>292769.0</td>\n",
              "      <td>['classic dubstep', 'future garage', 'bass mus...</td>\n",
              "      <td>19</td>\n",
              "      <td>[5.3110935  6.1038699  3.31327275]</td>\n",
              "      <td>5.311094</td>\n",
              "      <td>6.10387</td>\n",
              "      <td>3.313273</td>\n",
              "    </tr>\n",
              "    <tr>\n",
              "      <th>2</th>\n",
              "      <td>user_000471</td>\n",
              "      <td>2562</td>\n",
              "      <td>Basin Dub</td>\n",
              "      <td>1.000000</td>\n",
              "      <td>1056</td>\n",
              "      <td>0.644</td>\n",
              "      <td>0.431</td>\n",
              "      <td>11.0</td>\n",
              "      <td>-7.676</td>\n",
              "      <td>1.0</td>\n",
              "      <td>0.206</td>\n",
              "      <td>0.0393</td>\n",
              "      <td>0.3</td>\n",
              "      <td>0.159</td>\n",
              "      <td>0.347</td>\n",
              "      <td>139.998</td>\n",
              "      <td>292769.0</td>\n",
              "      <td>['classic dubstep', 'future garage', 'bass mus...</td>\n",
              "      <td>19</td>\n",
              "      <td>[5.3110935  6.1038699  3.31327275]</td>\n",
              "      <td>5.311094</td>\n",
              "      <td>6.10387</td>\n",
              "      <td>3.313273</td>\n",
              "    </tr>\n",
              "    <tr>\n",
              "      <th>3</th>\n",
              "      <td>user_000508</td>\n",
              "      <td>2562</td>\n",
              "      <td>Basin Dub</td>\n",
              "      <td>1.166667</td>\n",
              "      <td>1056</td>\n",
              "      <td>0.644</td>\n",
              "      <td>0.431</td>\n",
              "      <td>11.0</td>\n",
              "      <td>-7.676</td>\n",
              "      <td>1.0</td>\n",
              "      <td>0.206</td>\n",
              "      <td>0.0393</td>\n",
              "      <td>0.3</td>\n",
              "      <td>0.159</td>\n",
              "      <td>0.347</td>\n",
              "      <td>139.998</td>\n",
              "      <td>292769.0</td>\n",
              "      <td>['classic dubstep', 'future garage', 'bass mus...</td>\n",
              "      <td>19</td>\n",
              "      <td>[5.3110935  6.1038699  3.31327275]</td>\n",
              "      <td>5.311094</td>\n",
              "      <td>6.10387</td>\n",
              "      <td>3.313273</td>\n",
              "    </tr>\n",
              "    <tr>\n",
              "      <th>4</th>\n",
              "      <td>user_000515</td>\n",
              "      <td>2562</td>\n",
              "      <td>Basin Dub</td>\n",
              "      <td>1.027586</td>\n",
              "      <td>1056</td>\n",
              "      <td>0.644</td>\n",
              "      <td>0.431</td>\n",
              "      <td>11.0</td>\n",
              "      <td>-7.676</td>\n",
              "      <td>1.0</td>\n",
              "      <td>0.206</td>\n",
              "      <td>0.0393</td>\n",
              "      <td>0.3</td>\n",
              "      <td>0.159</td>\n",
              "      <td>0.347</td>\n",
              "      <td>139.998</td>\n",
              "      <td>292769.0</td>\n",
              "      <td>['classic dubstep', 'future garage', 'bass mus...</td>\n",
              "      <td>19</td>\n",
              "      <td>[5.3110935  6.1038699  3.31327275]</td>\n",
              "      <td>5.311094</td>\n",
              "      <td>6.10387</td>\n",
              "      <td>3.313273</td>\n",
              "    </tr>\n",
              "  </tbody>\n",
              "</table>\n",
              "</div>"
            ],
            "text/plain": [
              "          user artist      track  ...     emb_x    emb_y     emb_z\n",
              "0  user_000001   2562  Basin Dub  ...  5.311094  6.10387  3.313273\n",
              "1  user_000451   2562  Basin Dub  ...  5.311094  6.10387  3.313273\n",
              "2  user_000471   2562  Basin Dub  ...  5.311094  6.10387  3.313273\n",
              "3  user_000508   2562  Basin Dub  ...  5.311094  6.10387  3.313273\n",
              "4  user_000515   2562  Basin Dub  ...  5.311094  6.10387  3.313273\n",
              "\n",
              "[5 rows x 23 columns]"
            ]
          },
          "metadata": {
            "tags": []
          },
          "execution_count": 29
        }
      ]
    },
    {
      "cell_type": "markdown",
      "metadata": {
        "id": "tribal-batch"
      },
      "source": [
        "### Sample Users"
      ],
      "id": "tribal-batch"
    },
    {
      "cell_type": "code",
      "metadata": {
        "id": "YRKwgOyJdfQb"
      },
      "source": [
        "no_users = 200\n",
        "users_list = matrix_extended.user.unique()\n",
        "users_sampled = np.random.choice(users_list, replace=False, size=no_users)\n",
        "matrix_sampled = matrix_extended.copy()\n",
        "matrix_sampled = matrix_sampled.set_index('user')\n",
        "matrix_sampled = matrix_sampled.loc[users_sampled]\n",
        "matrix_sampled = matrix_sampled.reset_index()\n",
        "matrix_sampled = matrix_sampled.sample(frac=1)"
      ],
      "id": "YRKwgOyJdfQb",
      "execution_count": 30,
      "outputs": []
    },
    {
      "cell_type": "code",
      "metadata": {
        "id": "yRJeB1Y_hPM0",
        "outputId": "0e8b0192-589a-428c-ed3a-6dd184651633",
        "colab": {
          "base_uri": "https://localhost:8080/",
          "height": 564
        }
      },
      "source": [
        "matrix_sampled.head()"
      ],
      "id": "yRJeB1Y_hPM0",
      "execution_count": 31,
      "outputs": [
        {
          "output_type": "execute_result",
          "data": {
            "text/html": [
              "<div>\n",
              "<style scoped>\n",
              "    .dataframe tbody tr th:only-of-type {\n",
              "        vertical-align: middle;\n",
              "    }\n",
              "\n",
              "    .dataframe tbody tr th {\n",
              "        vertical-align: top;\n",
              "    }\n",
              "\n",
              "    .dataframe thead th {\n",
              "        text-align: right;\n",
              "    }\n",
              "</style>\n",
              "<table border=\"1\" class=\"dataframe\">\n",
              "  <thead>\n",
              "    <tr style=\"text-align: right;\">\n",
              "      <th></th>\n",
              "      <th>user</th>\n",
              "      <th>artist</th>\n",
              "      <th>track</th>\n",
              "      <th>rating</th>\n",
              "      <th>Unnamed: 0</th>\n",
              "      <th>danceability</th>\n",
              "      <th>energy</th>\n",
              "      <th>key</th>\n",
              "      <th>loudness</th>\n",
              "      <th>mode</th>\n",
              "      <th>speechiness</th>\n",
              "      <th>acousticness</th>\n",
              "      <th>instrumentalness</th>\n",
              "      <th>liveness</th>\n",
              "      <th>valence</th>\n",
              "      <th>tempo</th>\n",
              "      <th>duration_ms</th>\n",
              "      <th>genres</th>\n",
              "      <th>popularity</th>\n",
              "      <th>genres_emb</th>\n",
              "      <th>emb_x</th>\n",
              "      <th>emb_y</th>\n",
              "      <th>emb_z</th>\n",
              "    </tr>\n",
              "  </thead>\n",
              "  <tbody>\n",
              "    <tr>\n",
              "      <th>237902</th>\n",
              "      <td>user_000108</td>\n",
              "      <td>The Beatles</td>\n",
              "      <td>We Can Work It Out</td>\n",
              "      <td>1.000000</td>\n",
              "      <td>4640</td>\n",
              "      <td>0.378</td>\n",
              "      <td>0.677</td>\n",
              "      <td>2.0</td>\n",
              "      <td>-8.630</td>\n",
              "      <td>1.0</td>\n",
              "      <td>0.0298</td>\n",
              "      <td>0.0635</td>\n",
              "      <td>0.000000</td>\n",
              "      <td>0.1830</td>\n",
              "      <td>0.648</td>\n",
              "      <td>106.071</td>\n",
              "      <td>135693.0</td>\n",
              "      <td>['rock', 'british invasion', 'psychedelic rock...</td>\n",
              "      <td>89</td>\n",
              "      <td>[4.9554676 7.5659605 0.6434101]</td>\n",
              "      <td>4.955468</td>\n",
              "      <td>7.565960</td>\n",
              "      <td>0.643410</td>\n",
              "    </tr>\n",
              "    <tr>\n",
              "      <th>696273</th>\n",
              "      <td>user_000125</td>\n",
              "      <td>Datarock</td>\n",
              "      <td>Nightflight To Uranus</td>\n",
              "      <td>1.027586</td>\n",
              "      <td>108180</td>\n",
              "      <td>0.554</td>\n",
              "      <td>0.782</td>\n",
              "      <td>0.0</td>\n",
              "      <td>-7.085</td>\n",
              "      <td>0.0</td>\n",
              "      <td>0.0699</td>\n",
              "      <td>0.0136</td>\n",
              "      <td>0.071600</td>\n",
              "      <td>0.1050</td>\n",
              "      <td>0.512</td>\n",
              "      <td>133.428</td>\n",
              "      <td>256632.0</td>\n",
              "      <td>['alternative dance', 'dance-punk', 'bergen in...</td>\n",
              "      <td>40</td>\n",
              "      <td>[5.7524385  7.5104457  2.26829565]</td>\n",
              "      <td>5.752439</td>\n",
              "      <td>7.510446</td>\n",
              "      <td>2.268296</td>\n",
              "    </tr>\n",
              "    <tr>\n",
              "      <th>42234</th>\n",
              "      <td>user_000205</td>\n",
              "      <td>Shakira</td>\n",
              "      <td>Antologia</td>\n",
              "      <td>1.258065</td>\n",
              "      <td>190887</td>\n",
              "      <td>0.839</td>\n",
              "      <td>0.403</td>\n",
              "      <td>0.0</td>\n",
              "      <td>-11.059</td>\n",
              "      <td>1.0</td>\n",
              "      <td>0.0308</td>\n",
              "      <td>0.5000</td>\n",
              "      <td>0.000002</td>\n",
              "      <td>0.0786</td>\n",
              "      <td>0.575</td>\n",
              "      <td>97.967</td>\n",
              "      <td>254240.0</td>\n",
              "      <td>['latin pop', 'dance pop', 'pop', 'colombian p...</td>\n",
              "      <td>88</td>\n",
              "      <td>[-1.1042608   6.972612    2.37171375]</td>\n",
              "      <td>-1.104261</td>\n",
              "      <td>6.972612</td>\n",
              "      <td>2.371714</td>\n",
              "    </tr>\n",
              "    <tr>\n",
              "      <th>134649</th>\n",
              "      <td>user_000799</td>\n",
              "      <td>Shakira</td>\n",
              "      <td>Ojos Así</td>\n",
              "      <td>1.000000</td>\n",
              "      <td>367733</td>\n",
              "      <td>0.717</td>\n",
              "      <td>0.952</td>\n",
              "      <td>6.0</td>\n",
              "      <td>-4.902</td>\n",
              "      <td>1.0</td>\n",
              "      <td>0.0481</td>\n",
              "      <td>0.1500</td>\n",
              "      <td>0.000000</td>\n",
              "      <td>0.1660</td>\n",
              "      <td>0.665</td>\n",
              "      <td>126.993</td>\n",
              "      <td>235733.0</td>\n",
              "      <td>['latin', 'dance pop', 'colombian pop', 'latin...</td>\n",
              "      <td>88</td>\n",
              "      <td>[-1.1042608   6.972612    2.37171375]</td>\n",
              "      <td>-1.104261</td>\n",
              "      <td>6.972612</td>\n",
              "      <td>2.371714</td>\n",
              "    </tr>\n",
              "    <tr>\n",
              "      <th>104497</th>\n",
              "      <td>user_000675</td>\n",
              "      <td>Bob Sinclar</td>\n",
              "      <td>Life</td>\n",
              "      <td>1.026490</td>\n",
              "      <td>390407</td>\n",
              "      <td>0.833</td>\n",
              "      <td>0.795</td>\n",
              "      <td>8.0</td>\n",
              "      <td>-7.699</td>\n",
              "      <td>1.0</td>\n",
              "      <td>0.0876</td>\n",
              "      <td>0.0384</td>\n",
              "      <td>0.008140</td>\n",
              "      <td>0.0380</td>\n",
              "      <td>0.895</td>\n",
              "      <td>130.003</td>\n",
              "      <td>342169.0</td>\n",
              "      <td>['edm', 'dance pop', 'disco house', 'filter ho...</td>\n",
              "      <td>69</td>\n",
              "      <td>[5.641451   5.9498002  3.87226375]</td>\n",
              "      <td>5.641451</td>\n",
              "      <td>5.949800</td>\n",
              "      <td>3.872264</td>\n",
              "    </tr>\n",
              "  </tbody>\n",
              "</table>\n",
              "</div>"
            ],
            "text/plain": [
              "               user       artist  ...     emb_y     emb_z\n",
              "237902  user_000108  The Beatles  ...  7.565960  0.643410\n",
              "696273  user_000125     Datarock  ...  7.510446  2.268296\n",
              "42234   user_000205      Shakira  ...  6.972612  2.371714\n",
              "134649  user_000799      Shakira  ...  6.972612  2.371714\n",
              "104497  user_000675  Bob Sinclar  ...  5.949800  3.872264\n",
              "\n",
              "[5 rows x 23 columns]"
            ]
          },
          "metadata": {
            "tags": []
          },
          "execution_count": 31
        }
      ]
    },
    {
      "cell_type": "code",
      "metadata": {
        "id": "GlgOyabZiDQ7"
      },
      "source": [
        "matrix_sampled['user_id'] = matrix_sampled['user'].astype('category').cat.codes\n",
        "matrix_sampled['item_id'] = matrix_sampled['track'].astype('category').cat.codes"
      ],
      "id": "GlgOyabZiDQ7",
      "execution_count": 32,
      "outputs": []
    },
    {
      "cell_type": "code",
      "metadata": {
        "id": "lyric-crash"
      },
      "source": [
        "X = matrix_sampled[['user_id', \n",
        "              'item_id',\n",
        "              'danceability',\n",
        "              'energy',\n",
        "              'speechiness', \n",
        "              'acousticness', \n",
        "              'instrumentalness', \n",
        "              'liveness',\n",
        "              'valence', \n",
        "              'tempo', \n",
        "              'popularity', \n",
        "              'emb_x', \n",
        "              'emb_y',\n",
        "              'emb_z']]\n",
        "y = matrix_sampled['rating']\n",
        "groups = matrix_sampled['user_id']"
      ],
      "id": "lyric-crash",
      "execution_count": 197,
      "outputs": []
    },
    {
      "cell_type": "code",
      "metadata": {
        "id": "divine-boston"
      },
      "source": [
        "# Change splitting to be by index using https://stackoverflow.com/questions/53490497/getting-validation-set-from-train-set-by-using-percentage-from-groupby-in-pand\n",
        "X_train, X_test, y_train, y_test = train_test_split(X, y, test_size=0.2, stratify=groups)"
      ],
      "id": "divine-boston",
      "execution_count": 198,
      "outputs": []
    },
    {
      "cell_type": "code",
      "metadata": {
        "id": "organic-irish"
      },
      "source": [
        "no_users, no_items, no_factors = matrix_sampled['user_id'].nunique(), matrix_sampled['item_id'].nunique(), 20"
      ],
      "id": "organic-irish",
      "execution_count": 199,
      "outputs": []
    },
    {
      "cell_type": "markdown",
      "metadata": {
        "id": "super-dynamics"
      },
      "source": [
        "### Models"
      ],
      "id": "super-dynamics"
    },
    {
      "cell_type": "code",
      "metadata": {
        "id": "guilty-louisiana"
      },
      "source": [
        "def create_shallow_model(no_factors, no_users, no_items):\n",
        "    # User branch\n",
        "    user_id = tf.keras.layers.Input(shape=[1], name='user_id')\n",
        "    user_matrix = tf.keras.layers.Embedding(no_users+1, no_factors, name='user_matrix')(user_id)\n",
        "    user_vector = tf.keras.layers.Flatten(name='user_vector')(user_matrix)\n",
        "    # Item branch\n",
        "    item_id = tf.keras.layers.Input(shape=[1], name='item_id')\n",
        "    item_matrix = tf.keras.layers.Embedding(no_items+1, no_factors, name='item_matrix')(item_id)\n",
        "    item_vector = tf.keras.layers.Flatten(name='item_vector')(item_matrix)\n",
        "    # Dot product \n",
        "    vectors_product = tf.keras.layers.dot([user_vector, item_vector], axes=1, normalize=False)\n",
        "    # Model definition\n",
        "    model = tf.keras.models.Model(inputs=[user_id, item_id], outputs=[vectors_product], name='shallow_model')\n",
        "    return model"
      ],
      "id": "guilty-louisiana",
      "execution_count": 200,
      "outputs": []
    },
    {
      "cell_type": "code",
      "metadata": {
        "id": "needed-energy"
      },
      "source": [
        "model = create_shallow_model(no_factors, no_users, no_items)"
      ],
      "id": "needed-energy",
      "execution_count": 201,
      "outputs": []
    },
    {
      "cell_type": "code",
      "metadata": {
        "id": "concrete-mediterranean",
        "outputId": "47247cef-04e4-4bd7-99e3-af8f78412fb9",
        "colab": {
          "base_uri": "https://localhost:8080/"
        }
      },
      "source": [
        "model.summary()"
      ],
      "id": "concrete-mediterranean",
      "execution_count": 202,
      "outputs": [
        {
          "output_type": "stream",
          "text": [
            "Model: \"shallow_model\"\n",
            "__________________________________________________________________________________________________\n",
            "Layer (type)                    Output Shape         Param #     Connected to                     \n",
            "==================================================================================================\n",
            "user_id (InputLayer)            [(None, 1)]          0                                            \n",
            "__________________________________________________________________________________________________\n",
            "item_id (InputLayer)            [(None, 1)]          0                                            \n",
            "__________________________________________________________________________________________________\n",
            "user_matrix (Embedding)         (None, 1, 20)        4020        user_id[0][0]                    \n",
            "__________________________________________________________________________________________________\n",
            "item_matrix (Embedding)         (None, 1, 20)        4877080     item_id[0][0]                    \n",
            "__________________________________________________________________________________________________\n",
            "user_vector (Flatten)           (None, 20)           0           user_matrix[0][0]                \n",
            "__________________________________________________________________________________________________\n",
            "item_vector (Flatten)           (None, 20)           0           item_matrix[0][0]                \n",
            "__________________________________________________________________________________________________\n",
            "dot_9 (Dot)                     (None, 1)            0           user_vector[0][0]                \n",
            "                                                                 item_vector[0][0]                \n",
            "==================================================================================================\n",
            "Total params: 4,881,100\n",
            "Trainable params: 4,881,100\n",
            "Non-trainable params: 0\n",
            "__________________________________________________________________________________________________\n"
          ],
          "name": "stdout"
        }
      ]
    },
    {
      "cell_type": "code",
      "metadata": {
        "id": "million-delaware"
      },
      "source": [
        "def create_deep_model(no_factors, no_users, no_items):\n",
        "    # User branch\n",
        "    user_id = tf.keras.layers.Input(shape=[1], name='user_id')\n",
        "    user_matrix = tf.keras.layers.Embedding(no_users+1, no_factors, name='user_matrix')(user_id)\n",
        "    user_vector = tf.keras.layers.Flatten(name='user_vector')(user_matrix)\n",
        "    # Item branch\n",
        "    item_id = tf.keras.layers.Input(shape=[1], name='item_id')\n",
        "    item_matrix = tf.keras.layers.Embedding(no_items+1, no_factors, name='item_matrix')(item_id)\n",
        "    item_vector = tf.keras.layers.Flatten(name='item_vector')(item_matrix)\n",
        "    # Concantenation\n",
        "    vectors_concat = tf.keras.layers.Concatenate()([user_vector, item_vector])\n",
        "    vectors_concat_dropout = tf.keras.layers.Dropout(0.2)(vectors_concat)\n",
        "    # Backbone \n",
        "    dense_1 = tf.keras.layers.Dense(16,name='fc3')(vectors_concat_dropout)\n",
        "    dropout_1 = tf.keras.layers.Dropout(0.2,name='d3')(dense_1)\n",
        "    dense_2 = tf.keras.layers.Dense(8,name='fc4', activation='relu')(dropout_1)\n",
        "    dense_2_output = tf.keras.layers.Dense(1, activation='relu', name='activation')(dense_2)\n",
        "    # Model definition\n",
        "    model = tf.keras.models.Model(inputs=[user_id, item_id], outputs=[dense_2_output], name='deep_model')\n",
        "    return model"
      ],
      "id": "million-delaware",
      "execution_count": 203,
      "outputs": []
    },
    {
      "cell_type": "code",
      "metadata": {
        "id": "canadian-boulder"
      },
      "source": [
        "model = create_deep_model(no_factors, no_users, no_items)"
      ],
      "id": "canadian-boulder",
      "execution_count": 204,
      "outputs": []
    },
    {
      "cell_type": "markdown",
      "metadata": {
        "id": "minute-manual"
      },
      "source": [
        "### Model training"
      ],
      "id": "minute-manual"
    },
    {
      "cell_type": "code",
      "metadata": {
        "id": "sufficient-brook",
        "outputId": "2a0e3a55-4dad-4f31-a9f1-9948f8a38631",
        "colab": {
          "base_uri": "https://localhost:8080/"
        }
      },
      "source": [
        "y_train.head()"
      ],
      "id": "sufficient-brook",
      "execution_count": 205,
      "outputs": [
        {
          "output_type": "execute_result",
          "data": {
            "text/plain": [
              "288204    1.102564\n",
              "383279    1.131148\n",
              "315291    2.400000\n",
              "359867    1.000000\n",
              "610089    1.000000\n",
              "Name: rating, dtype: float64"
            ]
          },
          "metadata": {
            "tags": []
          },
          "execution_count": 205
        }
      ]
    },
    {
      "cell_type": "code",
      "metadata": {
        "id": "confident-conviction",
        "outputId": "ba728d15-a843-4d76-fe2d-e14a433b175d",
        "colab": {
          "base_uri": "https://localhost:8080/"
        }
      },
      "source": [
        "# Input-output data definition\n",
        "X_train_arr = [X_train.user_id, X_train.item_id]\n",
        "\n",
        "# Model creation\n",
        "model = create_deep_model(no_factors, no_users, no_items)\n",
        "\n",
        "# Model compiling \n",
        "model.compile(loss=tf.keras.losses.MeanSquaredError())\n",
        "\n",
        "# Model training\n",
        "model.fit(X_train_arr, y_train, epochs=10, batch_size=2048, shuffle=True)"
      ],
      "id": "confident-conviction",
      "execution_count": 206,
      "outputs": [
        {
          "output_type": "stream",
          "text": [
            "Epoch 1/10\n",
            "310/310 [==============================] - 9s 25ms/step - loss: 0.1840\n",
            "Epoch 2/10\n",
            "310/310 [==============================] - 8s 25ms/step - loss: 0.1086\n",
            "Epoch 3/10\n",
            "310/310 [==============================] - 8s 25ms/step - loss: 0.1045\n",
            "Epoch 4/10\n",
            "310/310 [==============================] - 8s 25ms/step - loss: 0.1002\n",
            "Epoch 5/10\n",
            "310/310 [==============================] - 8s 25ms/step - loss: 0.0960\n",
            "Epoch 6/10\n",
            "310/310 [==============================] - 8s 25ms/step - loss: 0.0928\n",
            "Epoch 7/10\n",
            "310/310 [==============================] - 8s 25ms/step - loss: 0.0900\n",
            "Epoch 8/10\n",
            "310/310 [==============================] - 8s 25ms/step - loss: 0.0877\n",
            "Epoch 9/10\n",
            "310/310 [==============================] - 8s 25ms/step - loss: 0.0858\n",
            "Epoch 10/10\n",
            "310/310 [==============================] - 8s 25ms/step - loss: 0.0841\n"
          ],
          "name": "stdout"
        },
        {
          "output_type": "execute_result",
          "data": {
            "text/plain": [
              "<tensorflow.python.keras.callbacks.History at 0x7f89cc6a2190>"
            ]
          },
          "metadata": {
            "tags": []
          },
          "execution_count": 206
        }
      ]
    },
    {
      "cell_type": "markdown",
      "metadata": {
        "id": "separate-magic"
      },
      "source": [
        "### Prediction"
      ],
      "id": "separate-magic"
    },
    {
      "cell_type": "code",
      "metadata": {
        "id": "atlantic-maria"
      },
      "source": [
        "# Predictions in the training set\n",
        "# X_train = [X_train.user_id, X_train.item_id]\n",
        "y_train_pred = model.predict(X_train_arr, batch_size=2048)"
      ],
      "id": "atlantic-maria",
      "execution_count": 207,
      "outputs": []
    },
    {
      "cell_type": "code",
      "metadata": {
        "id": "6IC4nrL_tcJ6",
        "outputId": "670644f1-971d-4711-d201-c666af8f7b9f",
        "colab": {
          "base_uri": "https://localhost:8080/",
          "height": 204
        }
      },
      "source": [
        "X_test.head()"
      ],
      "id": "6IC4nrL_tcJ6",
      "execution_count": 208,
      "outputs": [
        {
          "output_type": "execute_result",
          "data": {
            "text/html": [
              "<div>\n",
              "<style scoped>\n",
              "    .dataframe tbody tr th:only-of-type {\n",
              "        vertical-align: middle;\n",
              "    }\n",
              "\n",
              "    .dataframe tbody tr th {\n",
              "        vertical-align: top;\n",
              "    }\n",
              "\n",
              "    .dataframe thead th {\n",
              "        text-align: right;\n",
              "    }\n",
              "</style>\n",
              "<table border=\"1\" class=\"dataframe\">\n",
              "  <thead>\n",
              "    <tr style=\"text-align: right;\">\n",
              "      <th></th>\n",
              "      <th>user_id</th>\n",
              "      <th>item_id</th>\n",
              "      <th>danceability</th>\n",
              "      <th>energy</th>\n",
              "      <th>speechiness</th>\n",
              "      <th>acousticness</th>\n",
              "      <th>instrumentalness</th>\n",
              "      <th>liveness</th>\n",
              "      <th>valence</th>\n",
              "      <th>tempo</th>\n",
              "      <th>popularity</th>\n",
              "      <th>emb_x</th>\n",
              "      <th>emb_y</th>\n",
              "      <th>emb_z</th>\n",
              "    </tr>\n",
              "  </thead>\n",
              "  <tbody>\n",
              "    <tr>\n",
              "      <th>99280</th>\n",
              "      <td>150</td>\n",
              "      <td>143236</td>\n",
              "      <td>0.602</td>\n",
              "      <td>0.5760</td>\n",
              "      <td>0.0345</td>\n",
              "      <td>0.1820</td>\n",
              "      <td>0.00840</td>\n",
              "      <td>0.5770</td>\n",
              "      <td>0.2130</td>\n",
              "      <td>129.020</td>\n",
              "      <td>58</td>\n",
              "      <td>6.103456</td>\n",
              "      <td>5.685407</td>\n",
              "      <td>3.022125</td>\n",
              "    </tr>\n",
              "    <tr>\n",
              "      <th>103073</th>\n",
              "      <td>150</td>\n",
              "      <td>223570</td>\n",
              "      <td>0.431</td>\n",
              "      <td>0.4050</td>\n",
              "      <td>0.0390</td>\n",
              "      <td>0.9440</td>\n",
              "      <td>0.86200</td>\n",
              "      <td>0.3480</td>\n",
              "      <td>0.8880</td>\n",
              "      <td>91.583</td>\n",
              "      <td>22</td>\n",
              "      <td>5.595990</td>\n",
              "      <td>8.315579</td>\n",
              "      <td>1.584192</td>\n",
              "    </tr>\n",
              "    <tr>\n",
              "      <th>679335</th>\n",
              "      <td>177</td>\n",
              "      <td>213186</td>\n",
              "      <td>0.127</td>\n",
              "      <td>0.0941</td>\n",
              "      <td>0.0338</td>\n",
              "      <td>0.7240</td>\n",
              "      <td>0.00159</td>\n",
              "      <td>0.0561</td>\n",
              "      <td>0.1360</td>\n",
              "      <td>175.492</td>\n",
              "      <td>42</td>\n",
              "      <td>4.635859</td>\n",
              "      <td>8.002898</td>\n",
              "      <td>0.684818</td>\n",
              "    </tr>\n",
              "    <tr>\n",
              "      <th>605104</th>\n",
              "      <td>85</td>\n",
              "      <td>143700</td>\n",
              "      <td>0.472</td>\n",
              "      <td>0.1180</td>\n",
              "      <td>0.0341</td>\n",
              "      <td>0.9870</td>\n",
              "      <td>0.00537</td>\n",
              "      <td>0.1210</td>\n",
              "      <td>0.0688</td>\n",
              "      <td>159.858</td>\n",
              "      <td>54</td>\n",
              "      <td>5.289314</td>\n",
              "      <td>6.018984</td>\n",
              "      <td>2.850651</td>\n",
              "    </tr>\n",
              "    <tr>\n",
              "      <th>12616</th>\n",
              "      <td>7</td>\n",
              "      <td>126006</td>\n",
              "      <td>0.195</td>\n",
              "      <td>0.0524</td>\n",
              "      <td>0.0524</td>\n",
              "      <td>0.0107</td>\n",
              "      <td>0.96600</td>\n",
              "      <td>0.0756</td>\n",
              "      <td>0.0356</td>\n",
              "      <td>74.721</td>\n",
              "      <td>48</td>\n",
              "      <td>7.460937</td>\n",
              "      <td>4.877966</td>\n",
              "      <td>0.994511</td>\n",
              "    </tr>\n",
              "  </tbody>\n",
              "</table>\n",
              "</div>"
            ],
            "text/plain": [
              "        user_id  item_id  danceability  ...     emb_x     emb_y     emb_z\n",
              "99280       150   143236         0.602  ...  6.103456  5.685407  3.022125\n",
              "103073      150   223570         0.431  ...  5.595990  8.315579  1.584192\n",
              "679335      177   213186         0.127  ...  4.635859  8.002898  0.684818\n",
              "605104       85   143700         0.472  ...  5.289314  6.018984  2.850651\n",
              "12616         7   126006         0.195  ...  7.460937  4.877966  0.994511\n",
              "\n",
              "[5 rows x 14 columns]"
            ]
          },
          "metadata": {
            "tags": []
          },
          "execution_count": 208
        }
      ]
    },
    {
      "cell_type": "code",
      "metadata": {
        "id": "smoking-apparel"
      },
      "source": [
        "# Predictions in the test set\n",
        "X_test_arr = [X_test.user_id, X_test.item_id]\n",
        "y_test_pred = model.predict(X_test_arr, batch_size=2048)"
      ],
      "id": "smoking-apparel",
      "execution_count": 209,
      "outputs": []
    },
    {
      "cell_type": "markdown",
      "metadata": {
        "id": "single-gospel"
      },
      "source": [
        "### Evaluation"
      ],
      "id": "single-gospel"
    },
    {
      "cell_type": "code",
      "metadata": {
        "id": "hired-webcam",
        "outputId": "80c7d119-50b0-4182-ae8c-f8ab2d266e1b",
        "colab": {
          "base_uri": "https://localhost:8080/"
        }
      },
      "source": [
        "from sklearn.metrics import mean_squared_error\n",
        "print('Train RMSE:', mean_squared_error(y_train.values, y_train_pred, squared=False))\n",
        "print('Test RMSE:', mean_squared_error(y_test.values, y_test_pred, squared=False))"
      ],
      "id": "hired-webcam",
      "execution_count": 210,
      "outputs": [
        {
          "output_type": "stream",
          "text": [
            "Train RMSE: 0.2794109985714386\n",
            "Test RMSE: 0.3367240328038402\n"
          ],
          "name": "stdout"
        }
      ]
    },
    {
      "cell_type": "code",
      "metadata": {
        "id": "written-boutique"
      },
      "source": [
        "def predict_from_latent(model, uid, pids, train_ratings=None):\n",
        "    user_vector = model.get_layer('user_matrix').get_weights()[0][uid]\n",
        "    item_vectors = model.get_layer('item_matrix').get_weights()[0][pids]\n",
        "    scores = (np.dot(user_vector, item_vectors.T))\n",
        "    return scores"
      ],
      "id": "written-boutique",
      "execution_count": 211,
      "outputs": []
    },
    {
      "cell_type": "code",
      "metadata": {
        "id": "honest-globe"
      },
      "source": [
        "def precision_at_k(model, pred_func, train_ratings, test_ratings, no_users, no_items, k=5):\n",
        "    pid_array = np.arange(no_items, dtype=np.int32)\n",
        "    precisions = []\n",
        "    # For each user\n",
        "    for user_id, user_test_rating in tqdm(test_ratings.groupby('user_id')):\n",
        "        # Retrieve already-seen items\n",
        "        train_pids = train_ratings[train_ratings['user_id'] == user_id]['item_id'].values\n",
        "        # Retrieve the unseen items\n",
        "        test_pids = set(user_test_rating['item_id'].values)\n",
        "        test_set = pd.DataFrame({'user_id': user_id, 'item_id': pid_array})\n",
        "        test_set = [test_set.user_id, test_set.item_id]\n",
        "        # Make rating predictions for all items for that user\n",
        "        predictions = model.predict(test_set, batch_size=2048)\n",
        "        # predictions = pred_func(model, user_id, pid_array, train_ratings)\n",
        "        predictions = predictions.reshape(-1)\n",
        "        # Force a low rating to already-seen items\n",
        "        predictions[train_pids] = - math.inf\n",
        "        # Sort the items and het the top k\n",
        "        top_k = set(np.argsort(-predictions)[:k])\n",
        "        # Compute precision as per definition\n",
        "        precisions.append(len(top_k & test_pids) / float(k))\n",
        "    return precisions"
      ],
      "id": "honest-globe",
      "execution_count": 212,
      "outputs": []
    },
    {
      "cell_type": "code",
      "metadata": {
        "id": "committed-trunk"
      },
      "source": [
        "X_train_arr = np.array(X_train_arr)\n",
        "X_test_arr = np.array(X_test_arr)"
      ],
      "id": "committed-trunk",
      "execution_count": 213,
      "outputs": []
    },
    {
      "cell_type": "code",
      "metadata": {
        "id": "modern-denmark",
        "outputId": "d3a592a3-b172-42ed-8309-ce869c9ead65",
        "colab": {
          "base_uri": "https://localhost:8080/",
          "height": 340
        }
      },
      "source": [
        "train_ratings = pd.DataFrame({'user_id': X_train_arr[0, :], 'item_id':X_train_arr[1, :], 'rating': y_train})\n",
        "test_ratings = pd.DataFrame({'user_id': X_test_arr[0, :], 'item_id':X_test_arr[1, :], 'rating': y_test})"
      ],
      "id": "modern-denmark",
      "execution_count": 215,
      "outputs": [
        {
          "output_type": "error",
          "ename": "ValueError",
          "evalue": "ignored",
          "traceback": [
            "\u001b[0;31m---------------------------------------------------------------------------\u001b[0m",
            "\u001b[0;31mValueError\u001b[0m                                Traceback (most recent call last)",
            "\u001b[0;32m<ipython-input-215-59691241f049>\u001b[0m in \u001b[0;36m<module>\u001b[0;34m()\u001b[0m\n\u001b[0;32m----> 1\u001b[0;31m \u001b[0mtrain_ratings\u001b[0m \u001b[0;34m=\u001b[0m \u001b[0mpd\u001b[0m\u001b[0;34m.\u001b[0m\u001b[0mDataFrame\u001b[0m\u001b[0;34m(\u001b[0m\u001b[0;34m{\u001b[0m\u001b[0;34m'user_id'\u001b[0m\u001b[0;34m:\u001b[0m \u001b[0mX_train_arr\u001b[0m\u001b[0;34m[\u001b[0m\u001b[0;36m0\u001b[0m\u001b[0;34m,\u001b[0m \u001b[0;34m:\u001b[0m\u001b[0;34m]\u001b[0m\u001b[0;34m,\u001b[0m \u001b[0;34m'item_id'\u001b[0m\u001b[0;34m:\u001b[0m\u001b[0mX_train_arr\u001b[0m\u001b[0;34m[\u001b[0m\u001b[0;36m1\u001b[0m\u001b[0;34m,\u001b[0m \u001b[0;34m:\u001b[0m\u001b[0;34m]\u001b[0m\u001b[0;34m,\u001b[0m \u001b[0;34m'rating'\u001b[0m\u001b[0;34m:\u001b[0m \u001b[0my_train\u001b[0m\u001b[0;34m}\u001b[0m\u001b[0;34m)\u001b[0m\u001b[0;34m\u001b[0m\u001b[0;34m\u001b[0m\u001b[0m\n\u001b[0m\u001b[1;32m      2\u001b[0m \u001b[0mtest_ratings\u001b[0m \u001b[0;34m=\u001b[0m \u001b[0mpd\u001b[0m\u001b[0;34m.\u001b[0m\u001b[0mDataFrame\u001b[0m\u001b[0;34m(\u001b[0m\u001b[0;34m{\u001b[0m\u001b[0;34m'user_id'\u001b[0m\u001b[0;34m:\u001b[0m \u001b[0mX_test_arr\u001b[0m\u001b[0;34m[\u001b[0m\u001b[0;36m0\u001b[0m\u001b[0;34m,\u001b[0m \u001b[0;34m:\u001b[0m\u001b[0;34m]\u001b[0m\u001b[0;34m,\u001b[0m \u001b[0;34m'item_id'\u001b[0m\u001b[0;34m:\u001b[0m\u001b[0mX_test_arr\u001b[0m\u001b[0;34m[\u001b[0m\u001b[0;36m1\u001b[0m\u001b[0;34m,\u001b[0m \u001b[0;34m:\u001b[0m\u001b[0;34m]\u001b[0m\u001b[0;34m,\u001b[0m \u001b[0;34m'rating'\u001b[0m\u001b[0;34m:\u001b[0m \u001b[0my_test\u001b[0m\u001b[0;34m}\u001b[0m\u001b[0;34m)\u001b[0m\u001b[0;34m\u001b[0m\u001b[0;34m\u001b[0m\u001b[0m\n",
            "\u001b[0;32m/usr/local/lib/python3.7/dist-packages/pandas/core/frame.py\u001b[0m in \u001b[0;36m__init__\u001b[0;34m(self, data, index, columns, dtype, copy)\u001b[0m\n\u001b[1;32m    466\u001b[0m \u001b[0;34m\u001b[0m\u001b[0m\n\u001b[1;32m    467\u001b[0m         \u001b[0;32melif\u001b[0m \u001b[0misinstance\u001b[0m\u001b[0;34m(\u001b[0m\u001b[0mdata\u001b[0m\u001b[0;34m,\u001b[0m \u001b[0mdict\u001b[0m\u001b[0;34m)\u001b[0m\u001b[0;34m:\u001b[0m\u001b[0;34m\u001b[0m\u001b[0;34m\u001b[0m\u001b[0m\n\u001b[0;32m--> 468\u001b[0;31m             \u001b[0mmgr\u001b[0m \u001b[0;34m=\u001b[0m \u001b[0minit_dict\u001b[0m\u001b[0;34m(\u001b[0m\u001b[0mdata\u001b[0m\u001b[0;34m,\u001b[0m \u001b[0mindex\u001b[0m\u001b[0;34m,\u001b[0m \u001b[0mcolumns\u001b[0m\u001b[0;34m,\u001b[0m \u001b[0mdtype\u001b[0m\u001b[0;34m=\u001b[0m\u001b[0mdtype\u001b[0m\u001b[0;34m)\u001b[0m\u001b[0;34m\u001b[0m\u001b[0;34m\u001b[0m\u001b[0m\n\u001b[0m\u001b[1;32m    469\u001b[0m         \u001b[0;32melif\u001b[0m \u001b[0misinstance\u001b[0m\u001b[0;34m(\u001b[0m\u001b[0mdata\u001b[0m\u001b[0;34m,\u001b[0m \u001b[0mma\u001b[0m\u001b[0;34m.\u001b[0m\u001b[0mMaskedArray\u001b[0m\u001b[0;34m)\u001b[0m\u001b[0;34m:\u001b[0m\u001b[0;34m\u001b[0m\u001b[0;34m\u001b[0m\u001b[0m\n\u001b[1;32m    470\u001b[0m             \u001b[0;32mimport\u001b[0m \u001b[0mnumpy\u001b[0m\u001b[0;34m.\u001b[0m\u001b[0mma\u001b[0m\u001b[0;34m.\u001b[0m\u001b[0mmrecords\u001b[0m \u001b[0;32mas\u001b[0m \u001b[0mmrecords\u001b[0m\u001b[0;34m\u001b[0m\u001b[0;34m\u001b[0m\u001b[0m\n",
            "\u001b[0;32m/usr/local/lib/python3.7/dist-packages/pandas/core/internals/construction.py\u001b[0m in \u001b[0;36minit_dict\u001b[0;34m(data, index, columns, dtype)\u001b[0m\n\u001b[1;32m    281\u001b[0m             \u001b[0marr\u001b[0m \u001b[0;32mif\u001b[0m \u001b[0;32mnot\u001b[0m \u001b[0mis_datetime64tz_dtype\u001b[0m\u001b[0;34m(\u001b[0m\u001b[0marr\u001b[0m\u001b[0;34m)\u001b[0m \u001b[0;32melse\u001b[0m \u001b[0marr\u001b[0m\u001b[0;34m.\u001b[0m\u001b[0mcopy\u001b[0m\u001b[0;34m(\u001b[0m\u001b[0;34m)\u001b[0m \u001b[0;32mfor\u001b[0m \u001b[0marr\u001b[0m \u001b[0;32min\u001b[0m \u001b[0marrays\u001b[0m\u001b[0;34m\u001b[0m\u001b[0;34m\u001b[0m\u001b[0m\n\u001b[1;32m    282\u001b[0m         ]\n\u001b[0;32m--> 283\u001b[0;31m     \u001b[0;32mreturn\u001b[0m \u001b[0marrays_to_mgr\u001b[0m\u001b[0;34m(\u001b[0m\u001b[0marrays\u001b[0m\u001b[0;34m,\u001b[0m \u001b[0mdata_names\u001b[0m\u001b[0;34m,\u001b[0m \u001b[0mindex\u001b[0m\u001b[0;34m,\u001b[0m \u001b[0mcolumns\u001b[0m\u001b[0;34m,\u001b[0m \u001b[0mdtype\u001b[0m\u001b[0;34m=\u001b[0m\u001b[0mdtype\u001b[0m\u001b[0;34m)\u001b[0m\u001b[0;34m\u001b[0m\u001b[0;34m\u001b[0m\u001b[0m\n\u001b[0m\u001b[1;32m    284\u001b[0m \u001b[0;34m\u001b[0m\u001b[0m\n\u001b[1;32m    285\u001b[0m \u001b[0;34m\u001b[0m\u001b[0m\n",
            "\u001b[0;32m/usr/local/lib/python3.7/dist-packages/pandas/core/internals/construction.py\u001b[0m in \u001b[0;36marrays_to_mgr\u001b[0;34m(arrays, arr_names, index, columns, dtype, verify_integrity)\u001b[0m\n\u001b[1;32m     76\u001b[0m         \u001b[0;31m# figure out the index, if necessary\u001b[0m\u001b[0;34m\u001b[0m\u001b[0;34m\u001b[0m\u001b[0;34m\u001b[0m\u001b[0m\n\u001b[1;32m     77\u001b[0m         \u001b[0;32mif\u001b[0m \u001b[0mindex\u001b[0m \u001b[0;32mis\u001b[0m \u001b[0;32mNone\u001b[0m\u001b[0;34m:\u001b[0m\u001b[0;34m\u001b[0m\u001b[0;34m\u001b[0m\u001b[0m\n\u001b[0;32m---> 78\u001b[0;31m             \u001b[0mindex\u001b[0m \u001b[0;34m=\u001b[0m \u001b[0mextract_index\u001b[0m\u001b[0;34m(\u001b[0m\u001b[0marrays\u001b[0m\u001b[0;34m)\u001b[0m\u001b[0;34m\u001b[0m\u001b[0;34m\u001b[0m\u001b[0m\n\u001b[0m\u001b[1;32m     79\u001b[0m         \u001b[0;32melse\u001b[0m\u001b[0;34m:\u001b[0m\u001b[0;34m\u001b[0m\u001b[0;34m\u001b[0m\u001b[0m\n\u001b[1;32m     80\u001b[0m             \u001b[0mindex\u001b[0m \u001b[0;34m=\u001b[0m \u001b[0mensure_index\u001b[0m\u001b[0;34m(\u001b[0m\u001b[0mindex\u001b[0m\u001b[0;34m)\u001b[0m\u001b[0;34m\u001b[0m\u001b[0;34m\u001b[0m\u001b[0m\n",
            "\u001b[0;32m/usr/local/lib/python3.7/dist-packages/pandas/core/internals/construction.py\u001b[0m in \u001b[0;36mextract_index\u001b[0;34m(data)\u001b[0m\n\u001b[1;32m    409\u001b[0m                         \u001b[0;34mf\"length {len(index)}\"\u001b[0m\u001b[0;34m\u001b[0m\u001b[0;34m\u001b[0m\u001b[0m\n\u001b[1;32m    410\u001b[0m                     )\n\u001b[0;32m--> 411\u001b[0;31m                     \u001b[0;32mraise\u001b[0m \u001b[0mValueError\u001b[0m\u001b[0;34m(\u001b[0m\u001b[0mmsg\u001b[0m\u001b[0;34m)\u001b[0m\u001b[0;34m\u001b[0m\u001b[0;34m\u001b[0m\u001b[0m\n\u001b[0m\u001b[1;32m    412\u001b[0m             \u001b[0;32melse\u001b[0m\u001b[0;34m:\u001b[0m\u001b[0;34m\u001b[0m\u001b[0;34m\u001b[0m\u001b[0m\n\u001b[1;32m    413\u001b[0m                 \u001b[0mindex\u001b[0m \u001b[0;34m=\u001b[0m \u001b[0mibase\u001b[0m\u001b[0;34m.\u001b[0m\u001b[0mdefault_index\u001b[0m\u001b[0;34m(\u001b[0m\u001b[0mlengths\u001b[0m\u001b[0;34m[\u001b[0m\u001b[0;36m0\u001b[0m\u001b[0;34m]\u001b[0m\u001b[0;34m)\u001b[0m\u001b[0;34m\u001b[0m\u001b[0;34m\u001b[0m\u001b[0m\n",
            "\u001b[0;31mValueError\u001b[0m: array length 14 does not match index length 634068"
          ]
        }
      ]
    },
    {
      "cell_type": "code",
      "metadata": {
        "id": "asian-divide",
        "outputId": "7f683d06-ae0a-4883-ce1e-6e9620e9b51a",
        "colab": {
          "base_uri": "https://localhost:8080/"
        }
      },
      "source": [
        "precisions = precision_at_k(model, predict_from_latent, train_ratings, test_ratings, no_users, no_items, k=10)"
      ],
      "id": "asian-divide",
      "execution_count": 216,
      "outputs": [
        {
          "output_type": "stream",
          "text": [
            "100%|██████████| 200/200 [01:08<00:00,  2.91it/s]\n"
          ],
          "name": "stderr"
        }
      ]
    },
    {
      "cell_type": "code",
      "metadata": {
        "id": "muslim-sphere",
        "outputId": "1e0ae9ba-9692-4932-8df4-19d07025eafa",
        "colab": {
          "base_uri": "https://localhost:8080/"
        }
      },
      "source": [
        "np.mean(precisions), np.std(precisions)"
      ],
      "id": "muslim-sphere",
      "execution_count": 217,
      "outputs": [
        {
          "output_type": "execute_result",
          "data": {
            "text/plain": [
              "(0.0005, 0.007053367989832943)"
            ]
          },
          "metadata": {
            "tags": []
          },
          "execution_count": 217
        }
      ]
    },
    {
      "cell_type": "code",
      "metadata": {
        "id": "cosmetic-enhancement"
      },
      "source": [
        "### EXERCISE CELL ###\n",
        "def recall_at_k(model, pred_func, train_ratings, test_ratings, no_users, no_items, k=10):\n",
        "    pid_array = np.arange(no_items, dtype=np.int32)\n",
        "    recalls = []\n",
        "    for user_id, user_test_rating in tqdm(test_ratings.groupby('user_id')):\n",
        "        train_pids = train_ratings[train_ratings['user_id'] == user_id]['item_id'].values\n",
        "        test_pids = set(user_test_rating['item_id'].values)\n",
        "        test_set = pd.DataFrame({'user_id': user_id, 'item_id': pid_array})\n",
        "        test_set = [test_set.user_id, test_set.item_id]\n",
        "        # Make rating predictions for all items for that user\n",
        "        predictions = model.predict(test_set, batch_size=2048)\n",
        "        predictions = predictions.reshape(-1)\n",
        "        predictions[train_pids] = - math.inf\n",
        "        top_k = set(np.argsort(-predictions)[:k])\n",
        "        recalls.append(len(top_k & test_pids) / len(test_pids))\n",
        "    return recalls"
      ],
      "id": "cosmetic-enhancement",
      "execution_count": 218,
      "outputs": []
    },
    {
      "cell_type": "code",
      "metadata": {
        "id": "collected-universal",
        "outputId": "300946b7-6c6c-405a-9918-2e88faf95c7b",
        "colab": {
          "base_uri": "https://localhost:8080/"
        }
      },
      "source": [
        "recalls = recall_at_k(model, predict_from_latent, train_ratings, test_ratings, no_users, no_items, k=10)"
      ],
      "id": "collected-universal",
      "execution_count": 219,
      "outputs": [
        {
          "output_type": "stream",
          "text": [
            "100%|██████████| 200/200 [01:07<00:00,  2.95it/s]\n"
          ],
          "name": "stderr"
        }
      ]
    },
    {
      "cell_type": "code",
      "metadata": {
        "id": "hourly-skiing",
        "outputId": "3edbf2a7-16c0-4347-ccc6-e12e390de152",
        "colab": {
          "base_uri": "https://localhost:8080/"
        }
      },
      "source": [
        "np.mean(recalls), np.std(recalls)"
      ],
      "id": "hourly-skiing",
      "execution_count": 220,
      "outputs": [
        {
          "output_type": "execute_result",
          "data": {
            "text/plain": [
              "(4.340277777777778e-06, 6.122715268952207e-05)"
            ]
          },
          "metadata": {
            "tags": []
          },
          "execution_count": 220
        }
      ]
    },
    {
      "cell_type": "code",
      "metadata": {
        "id": "answering-drink"
      },
      "source": [
        "### EXERCISE CELL ###\n",
        "def map_at_k(model, pred_func, train_ratings, test_ratings, no_users, no_items, k=10):\n",
        "    pid_array = np.arange(no_items, dtype=np.int32)\n",
        "    maps = []\n",
        "    for user_id, user_test_rating in tqdm(test_ratings.groupby('user_id')):\n",
        "        train_pids = train_ratings[train_ratings['user_id'] == user_id]['item_id'].values\n",
        "        test_pids = set(user_test_rating['item_id'].values)\n",
        "        test_set = pd.DataFrame({'user_id': user_id, 'item_id': pid_array})\n",
        "        test_set = [test_set.user_id, test_set.item_id]\n",
        "        # Make rating predictions for all items for that user\n",
        "        predictions = model.predict(test_set, batch_size=2048)\n",
        "        predictions = predictions.reshape(-1)\n",
        "        predictions[train_pids] = - math.inf\n",
        "        partial_maps = []\n",
        "        top_k = list(np.argsort(-predictions)[:k])\n",
        "        for rank, item_id in enumerate(top_k):\n",
        "            if item_id in test_pids:\n",
        "                partial_maps.append(len(set(top_k[:rank+1]) & test_pids) / float(rank+1))\n",
        "        maps.append(.0 if len(partial_maps) == 0 else np.sum(partial_maps) / float(k))\n",
        "    return maps"
      ],
      "id": "answering-drink",
      "execution_count": 221,
      "outputs": []
    },
    {
      "cell_type": "code",
      "metadata": {
        "id": "fantastic-sender",
        "outputId": "fb63c1a9-1b58-4e41-8c82-9bb38c3bebc1",
        "colab": {
          "base_uri": "https://localhost:8080/"
        }
      },
      "source": [
        "maps = map_at_k(model, predict_from_latent, train_ratings, test_ratings, no_users, no_items, k=10)"
      ],
      "id": "fantastic-sender",
      "execution_count": 222,
      "outputs": [
        {
          "output_type": "stream",
          "text": [
            "100%|██████████| 200/200 [01:07<00:00,  2.96it/s]\n"
          ],
          "name": "stderr"
        }
      ]
    },
    {
      "cell_type": "code",
      "metadata": {
        "id": "changing-israel",
        "outputId": "3484a26c-2b0e-423b-fb73-21f9f62cded1",
        "colab": {
          "base_uri": "https://localhost:8080/"
        }
      },
      "source": [
        "np.mean(maps), np.std(maps)"
      ],
      "id": "changing-israel",
      "execution_count": 223,
      "outputs": [
        {
          "output_type": "execute_result",
          "data": {
            "text/plain": [
              "(8.333333333333333e-05, 0.0011755613316388237)"
            ]
          },
          "metadata": {
            "tags": []
          },
          "execution_count": 223
        }
      ]
    },
    {
      "cell_type": "code",
      "metadata": {
        "id": "least-brooklyn"
      },
      "source": [
        ""
      ],
      "id": "least-brooklyn",
      "execution_count": 223,
      "outputs": []
    }
  ]
}