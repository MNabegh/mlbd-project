{
  "nbformat": 4,
  "nbformat_minor": 5,
  "metadata": {
    "kernelspec": {
      "display_name": "Python 3",
      "language": "python",
      "name": "python3"
    },
    "language_info": {
      "codemirror_mode": {
        "name": "ipython",
        "version": 3
      },
      "file_extension": ".py",
      "mimetype": "text/x-python",
      "name": "python",
      "nbconvert_exporter": "python",
      "pygments_lexer": "ipython3",
      "version": "3.7.10"
    },
    "colab": {
      "name": "recommender_system.ipynb",
      "provenance": []
    }
  },
  "cells": [
    {
      "cell_type": "code",
      "metadata": {
        "id": "0VEXgpNp1Cqi",
        "colab": {
          "base_uri": "https://localhost:8080/"
        },
        "outputId": "1ee5c8e5-9d65-44df-84f0-86c46442425d"
      },
      "source": [
        "import os\n",
        "\n",
        "path = 'lastfm-dataset-1K'\n",
        "\n",
        "if not os.path.exists(path):\n",
        "\n",
        "  !wget http://mtg.upf.edu/static/datasets/last.fm/lastfm-dataset-1K.tar.gz\n",
        "  !tar -xvzf lastfm-dataset-1K.tar.gz\n"
      ],
      "id": "0VEXgpNp1Cqi",
      "execution_count": 1,
      "outputs": [
        {
          "output_type": "stream",
          "text": [
            "--2021-05-29 21:37:34--  http://mtg.upf.edu/static/datasets/last.fm/lastfm-dataset-1K.tar.gz\n",
            "Resolving mtg.upf.edu (mtg.upf.edu)... 84.89.139.55\n",
            "Connecting to mtg.upf.edu (mtg.upf.edu)|84.89.139.55|:80... connected.\n",
            "HTTP request sent, awaiting response... 200 OK\n",
            "Length: 672741554 (642M) [application/x-gzip]\n",
            "Saving to: ‘lastfm-dataset-1K.tar.gz’\n",
            "\n",
            "lastfm-dataset-1K.t 100%[===================>] 641.58M  1.26MB/s    in 10m 46s \n",
            "\n",
            "2021-05-29 21:48:20 (1017 KB/s) - ‘lastfm-dataset-1K.tar.gz’ saved [672741554/672741554]\n",
            "\n",
            "lastfm-dataset-1K/\n",
            "lastfm-dataset-1K/userid-profile.tsv\n",
            "lastfm-dataset-1K/README.txt\n",
            "lastfm-dataset-1K/userid-timestamp-artid-artname-traid-traname.tsv\n"
          ],
          "name": "stdout"
        }
      ]
    },
    {
      "cell_type": "code",
      "metadata": {
        "colab": {
          "base_uri": "https://localhost:8080/"
        },
        "id": "dHPzdYY01CTs",
        "outputId": "204caba0-3119-48ed-8333-4b9fa90cfce7"
      },
      "source": [
        "!ls"
      ],
      "id": "dHPzdYY01CTs",
      "execution_count": 2,
      "outputs": [
        {
          "output_type": "stream",
          "text": [
            "lastfm-dataset-1K  lastfm-dataset-1K.tar.gz  sample_data\n"
          ],
          "name": "stdout"
        }
      ]
    },
    {
      "cell_type": "code",
      "metadata": {
        "id": "PQ162BxguWhK",
        "colab": {
          "base_uri": "https://localhost:8080/"
        },
        "outputId": "c6c3ff76-04ef-4985-8687-2c834538e3af"
      },
      "source": [
        "import os\n",
        "from google.colab import drive\n",
        "drive.mount('/content/drive')"
      ],
      "id": "PQ162BxguWhK",
      "execution_count": 3,
      "outputs": [
        {
          "output_type": "stream",
          "text": [
            "Mounted at /content/drive\n"
          ],
          "name": "stdout"
        }
      ]
    },
    {
      "cell_type": "code",
      "metadata": {
        "id": "IkLzfmKxv1nY",
        "colab": {
          "base_uri": "https://localhost:8080/"
        },
        "outputId": "14185ef1-59b4-41dc-f07d-321e14c47137"
      },
      "source": [
        "!ls drive/MyDrive/data"
      ],
      "id": "IkLzfmKxv1nY",
      "execution_count": 4,
      "outputs": [
        {
          "output_type": "stream",
          "text": [
            "feature_df_with_emb.csv  spotify_features.csv\n"
          ],
          "name": "stdout"
        }
      ]
    },
    {
      "cell_type": "code",
      "metadata": {
        "id": "legislative-photography",
        "colab": {
          "base_uri": "https://localhost:8080/"
        },
        "outputId": "09ffd348-41e4-4ac9-b317-f9cb889dd2ed"
      },
      "source": [
        "import pandas as pd\n",
        "import matplotlib.pyplot as plt\n",
        "import seaborn as sns\n",
        "from io import StringIO\n",
        "import numpy as np\n",
        "from tqdm import tqdm\n",
        "from sklearn.model_selection import train_test_split\n",
        "from sklearn.metrics import roc_auc_score\n",
        "import scipy.sparse as sp\n",
        "import tensorflow as tf\n",
        "from tqdm import tqdm\n",
        "import pandas as pd\n",
        "import numpy as np\n",
        "\n",
        "from keras.utils.vis_utils import model_to_dot\n",
        "from IPython.display import SVG\n",
        "import matplotlib.pyplot as plt\n",
        "import matplotlib\n",
        "%matplotlib inline\n",
        "\n",
        "import datetime\n",
        "import time \n",
        "import math\n",
        "import os\n",
        "%config Completer.use_jedi = False"
      ],
      "id": "legislative-photography",
      "execution_count": 5,
      "outputs": [
        {
          "output_type": "stream",
          "text": [
            "/usr/local/lib/python3.7/dist-packages/ipykernel_launcher.py:25: UserWarning: Config option `use_jedi` not recognized by `IPCompleter`.\n"
          ],
          "name": "stderr"
        }
      ]
    },
    {
      "cell_type": "code",
      "metadata": {
        "id": "y6JENn92JzyY"
      },
      "source": [
        "path = \"drive/MyDrive/data/feature_df_with_emb.csv\"\n",
        "\n",
        "feature_df_with_emb = pd.read_csv(path)"
      ],
      "id": "y6JENn92JzyY",
      "execution_count": 6,
      "outputs": []
    },
    {
      "cell_type": "code",
      "metadata": {
        "id": "9MPlx151Mo_8",
        "colab": {
          "base_uri": "https://localhost:8080/",
          "height": 496
        },
        "outputId": "385d7263-9061-4d4a-de0e-9973cba30742"
      },
      "source": [
        "feature_df_with_emb.head()"
      ],
      "id": "9MPlx151Mo_8",
      "execution_count": 7,
      "outputs": [
        {
          "output_type": "execute_result",
          "data": {
            "text/html": [
              "<div>\n",
              "<style scoped>\n",
              "    .dataframe tbody tr th:only-of-type {\n",
              "        vertical-align: middle;\n",
              "    }\n",
              "\n",
              "    .dataframe tbody tr th {\n",
              "        vertical-align: top;\n",
              "    }\n",
              "\n",
              "    .dataframe thead th {\n",
              "        text-align: right;\n",
              "    }\n",
              "</style>\n",
              "<table border=\"1\" class=\"dataframe\">\n",
              "  <thead>\n",
              "    <tr style=\"text-align: right;\">\n",
              "      <th></th>\n",
              "      <th>Unnamed: 0</th>\n",
              "      <th>artist</th>\n",
              "      <th>track</th>\n",
              "      <th>danceability</th>\n",
              "      <th>energy</th>\n",
              "      <th>key</th>\n",
              "      <th>loudness</th>\n",
              "      <th>mode</th>\n",
              "      <th>speechiness</th>\n",
              "      <th>acousticness</th>\n",
              "      <th>instrumentalness</th>\n",
              "      <th>liveness</th>\n",
              "      <th>valence</th>\n",
              "      <th>tempo</th>\n",
              "      <th>duration_ms</th>\n",
              "      <th>genres</th>\n",
              "      <th>popularity</th>\n",
              "      <th>genres_emb</th>\n",
              "      <th>emb_x</th>\n",
              "      <th>emb_y</th>\n",
              "      <th>emb_z</th>\n",
              "    </tr>\n",
              "  </thead>\n",
              "  <tbody>\n",
              "    <tr>\n",
              "      <th>0</th>\n",
              "      <td>0</td>\n",
              "      <td>坂本龍一</td>\n",
              "      <td>Composition 0919 (Live_2009_4_15)</td>\n",
              "      <td>0.806</td>\n",
              "      <td>0.413</td>\n",
              "      <td>5.0</td>\n",
              "      <td>-12.883</td>\n",
              "      <td>1.0</td>\n",
              "      <td>0.1560</td>\n",
              "      <td>0.987</td>\n",
              "      <td>0.794</td>\n",
              "      <td>0.1130</td>\n",
              "      <td>0.5290</td>\n",
              "      <td>105.089</td>\n",
              "      <td>330253.0</td>\n",
              "      <td>['japanese soundtrack', 'japanese classical', ...</td>\n",
              "      <td>62</td>\n",
              "      <td>[7.3752766  4.8944925  0.94349271]</td>\n",
              "      <td>7.375277</td>\n",
              "      <td>4.894493</td>\n",
              "      <td>0.943493</td>\n",
              "    </tr>\n",
              "    <tr>\n",
              "      <th>1</th>\n",
              "      <td>1</td>\n",
              "      <td>坂本龍一</td>\n",
              "      <td>Hibari (Live_2009_4_15)</td>\n",
              "      <td>0.604</td>\n",
              "      <td>0.283</td>\n",
              "      <td>9.0</td>\n",
              "      <td>-19.811</td>\n",
              "      <td>0.0</td>\n",
              "      <td>0.0583</td>\n",
              "      <td>0.996</td>\n",
              "      <td>0.916</td>\n",
              "      <td>0.1140</td>\n",
              "      <td>0.2700</td>\n",
              "      <td>137.802</td>\n",
              "      <td>540133.0</td>\n",
              "      <td>['japanese soundtrack', 'japanese classical', ...</td>\n",
              "      <td>62</td>\n",
              "      <td>[7.3752766  4.8944925  0.94349271]</td>\n",
              "      <td>7.375277</td>\n",
              "      <td>4.894493</td>\n",
              "      <td>0.943493</td>\n",
              "    </tr>\n",
              "    <tr>\n",
              "      <th>2</th>\n",
              "      <td>2</td>\n",
              "      <td>坂本龍一</td>\n",
              "      <td>To Stanford (Live_2009_4_15)</td>\n",
              "      <td>0.453</td>\n",
              "      <td>0.163</td>\n",
              "      <td>5.0</td>\n",
              "      <td>-20.922</td>\n",
              "      <td>1.0</td>\n",
              "      <td>0.0519</td>\n",
              "      <td>0.990</td>\n",
              "      <td>0.939</td>\n",
              "      <td>0.1010</td>\n",
              "      <td>0.0703</td>\n",
              "      <td>73.926</td>\n",
              "      <td>216853.0</td>\n",
              "      <td>['japanese indie folk', 'japanese soundtrack',...</td>\n",
              "      <td>39</td>\n",
              "      <td>[7.3752766  4.8944925  0.94349271]</td>\n",
              "      <td>7.375277</td>\n",
              "      <td>4.894493</td>\n",
              "      <td>0.943493</td>\n",
              "    </tr>\n",
              "    <tr>\n",
              "      <th>3</th>\n",
              "      <td>3</td>\n",
              "      <td>坂本龍一</td>\n",
              "      <td>Improvisation (Live_2009_4_15)</td>\n",
              "      <td>0.217</td>\n",
              "      <td>0.012</td>\n",
              "      <td>5.0</td>\n",
              "      <td>-36.464</td>\n",
              "      <td>1.0</td>\n",
              "      <td>0.0376</td>\n",
              "      <td>0.991</td>\n",
              "      <td>0.859</td>\n",
              "      <td>0.0866</td>\n",
              "      <td>0.0376</td>\n",
              "      <td>80.714</td>\n",
              "      <td>384707.0</td>\n",
              "      <td>['japanese soundtrack', 'japanese classical', ...</td>\n",
              "      <td>62</td>\n",
              "      <td>[7.3752766  4.8944925  0.94349271]</td>\n",
              "      <td>7.375277</td>\n",
              "      <td>4.894493</td>\n",
              "      <td>0.943493</td>\n",
              "    </tr>\n",
              "    <tr>\n",
              "      <th>4</th>\n",
              "      <td>4</td>\n",
              "      <td>坂本龍一</td>\n",
              "      <td>Glacier (Live_2009_4_15)</td>\n",
              "      <td>0.518</td>\n",
              "      <td>0.213</td>\n",
              "      <td>9.0</td>\n",
              "      <td>-28.790</td>\n",
              "      <td>0.0</td>\n",
              "      <td>0.2090</td>\n",
              "      <td>0.869</td>\n",
              "      <td>0.898</td>\n",
              "      <td>0.1030</td>\n",
              "      <td>0.0920</td>\n",
              "      <td>104.191</td>\n",
              "      <td>580707.0</td>\n",
              "      <td>['japanese soundtrack', 'japanese classical', ...</td>\n",
              "      <td>62</td>\n",
              "      <td>[7.3752766  4.8944925  0.94349271]</td>\n",
              "      <td>7.375277</td>\n",
              "      <td>4.894493</td>\n",
              "      <td>0.943493</td>\n",
              "    </tr>\n",
              "  </tbody>\n",
              "</table>\n",
              "</div>"
            ],
            "text/plain": [
              "   Unnamed: 0 artist  ...     emb_y     emb_z\n",
              "0           0   坂本龍一  ...  4.894493  0.943493\n",
              "1           1   坂本龍一  ...  4.894493  0.943493\n",
              "2           2   坂本龍一  ...  4.894493  0.943493\n",
              "3           3   坂本龍一  ...  4.894493  0.943493\n",
              "4           4   坂本龍一  ...  4.894493  0.943493\n",
              "\n",
              "[5 rows x 21 columns]"
            ]
          },
          "metadata": {
            "tags": []
          },
          "execution_count": 7
        }
      ]
    },
    {
      "cell_type": "code",
      "metadata": {
        "id": "greatest-invitation"
      },
      "source": [
        "# Load the dataset\n",
        "df = pd.read_table('lastfm-dataset-1K/userid-timestamp-artid-artname-traid-traname.tsv', lineterminator='\\n', warn_bad_lines=True, names=['user', 'timestamp', 'artist-id', 'artist', 'song-id', 'song'])\n",
        "df_profile = pd.read_csv('lastfm-dataset-1K/userid-profile.tsv', sep='\\t', error_bad_lines=False, warn_bad_lines=True, skiprows=1, names=['user', 'gender', 'age', 'country', 'signup'])"
      ],
      "id": "greatest-invitation",
      "execution_count": 8,
      "outputs": []
    },
    {
      "cell_type": "code",
      "metadata": {
        "id": "union-season"
      },
      "source": [
        "# Check if some songs share a common ID\n",
        "grouped = df[['song-id', 'song']].groupby(['song-id']).nunique()"
      ],
      "id": "union-season",
      "execution_count": 9,
      "outputs": []
    },
    {
      "cell_type": "code",
      "metadata": {
        "id": "aerial-damages"
      },
      "source": [
        "# Get rows with song names containing multiple rows\n",
        "duplicated = df.loc[df['song-id'].isin(grouped[grouped['song'] > 1].index)]\n",
        "duplicated = duplicated.drop(columns=['user', 'timestamp', 'artist', 'artist-id'])\n",
        "containis_extra_rows = duplicated.apply(lambda x: pd.Series({'id': x[0], 'song': x[1], 'flag':'\\n' in x[1]}), axis=1)\n",
        "containis_extra_rows = containis_extra_rows.loc[containis_extra_rows['flag']]"
      ],
      "id": "aerial-damages",
      "execution_count": 10,
      "outputs": []
    },
    {
      "cell_type": "code",
      "metadata": {
        "id": "smoking-vanilla"
      },
      "source": [
        "# Iterate over those 5k rows to get the extra rows and correct the song name\n",
        "for index, row in containis_extra_rows.iterrows():\n",
        "    row_break = row['song'].split('\\n', 1)\n",
        "    song_name = row_break[0]\n",
        "    df.loc[df['song-id'] == row['id'], 'song'] = song_name\n",
        "    \n",
        "    tsv = StringIO(row_break[1])\n",
        "    df_extra = pd.read_csv(tsv, sep=\"\\t\", warn_bad_lines=True, names=['user', 'timestamp', 'artist-id', 'artist', 'song-id', 'song'])\n",
        "    df = df.append(df_extra, ignore_index=True)"
      ],
      "id": "smoking-vanilla",
      "execution_count": 11,
      "outputs": []
    },
    {
      "cell_type": "markdown",
      "metadata": {
        "id": "green-cloud"
      },
      "source": [
        "### Fix names"
      ],
      "id": "green-cloud"
    },
    {
      "cell_type": "code",
      "metadata": {
        "id": "marked-return"
      },
      "source": [
        "# Check if some songs share a common ID\n",
        "grouped = df[['song-id', 'song']].groupby(['song-id']).nunique()"
      ],
      "id": "marked-return",
      "execution_count": 12,
      "outputs": []
    },
    {
      "cell_type": "code",
      "metadata": {
        "id": "developing-roots",
        "colab": {
          "base_uri": "https://localhost:8080/"
        },
        "outputId": "a178052e-a61a-4644-a8f1-5767db36453a"
      },
      "source": [
        "# Check how many ids has more than 1 song name\n",
        "grouped[grouped['song'] > 1].shape[0]"
      ],
      "id": "developing-roots",
      "execution_count": 13,
      "outputs": [
        {
          "output_type": "execute_result",
          "data": {
            "text/plain": [
              "200"
            ]
          },
          "metadata": {
            "tags": []
          },
          "execution_count": 13
        }
      ]
    },
    {
      "cell_type": "code",
      "metadata": {
        "id": "million-deputy"
      },
      "source": [
        "ids_to_be_fixed = grouped[grouped['song'] > 1].index"
      ],
      "id": "million-deputy",
      "execution_count": 14,
      "outputs": []
    },
    {
      "cell_type": "code",
      "metadata": {
        "id": "compact-standing"
      },
      "source": [
        "df = df.set_index('song-id')"
      ],
      "id": "compact-standing",
      "execution_count": 15,
      "outputs": []
    },
    {
      "cell_type": "code",
      "metadata": {
        "id": "waiting-efficiency"
      },
      "source": [
        "map_to_fix = df.groupby(df.index)['song'].head(1)"
      ],
      "id": "waiting-efficiency",
      "execution_count": 16,
      "outputs": []
    },
    {
      "cell_type": "code",
      "metadata": {
        "id": "satellite-chile"
      },
      "source": [
        "df.loc[ids_to_be_fixed, 'song'] = df.loc[ids_to_be_fixed].reset_index()['song-id'].map(lambda x: map_to_fix[x])\n",
        "df = df.reset_index()"
      ],
      "id": "satellite-chile",
      "execution_count": 17,
      "outputs": []
    },
    {
      "cell_type": "markdown",
      "metadata": {
        "id": "experimental-canal"
      },
      "source": [
        "### Create matrix"
      ],
      "id": "experimental-canal"
    },
    {
      "cell_type": "code",
      "metadata": {
        "id": "approved-episode"
      },
      "source": [
        "matrix_init = df.groupby(['user', 'artist', 'song']).count()"
      ],
      "id": "approved-episode",
      "execution_count": 18,
      "outputs": []
    },
    {
      "cell_type": "code",
      "metadata": {
        "id": "streaming-platform"
      },
      "source": [
        "matrix_init = matrix_init['timestamp']\n",
        "matrix_init = matrix_init.map(lambda x: np.log(x))"
      ],
      "id": "streaming-platform",
      "execution_count": 19,
      "outputs": []
    },
    {
      "cell_type": "code",
      "metadata": {
        "id": "wired-master"
      },
      "source": [
        "matrix_init = matrix_init.reset_index()"
      ],
      "id": "wired-master",
      "execution_count": 20,
      "outputs": []
    },
    {
      "cell_type": "code",
      "metadata": {
        "id": "peaceful-uzbekistan"
      },
      "source": [
        "def rating_scaler(row):\n",
        "    row_array = np.array(row)\n",
        "    a, new_range= 1, 4\n",
        "    min_, max_ = row_array.min(), row_array.max()\n",
        "    old_range = max_ - min_\n",
        "    \n",
        "    \n",
        "    scaled_row = (new_range * (row_array - min_)) / (old_range + 1e-6)  + a\n",
        "    return pd.Series(scaled_row)"
      ],
      "id": "peaceful-uzbekistan",
      "execution_count": 21,
      "outputs": []
    },
    {
      "cell_type": "code",
      "metadata": {
        "id": "sunrise-article"
      },
      "source": [
        "matrix_init_scaled = matrix_init.groupby('user')['timestamp'].apply(rating_scaler)"
      ],
      "id": "sunrise-article",
      "execution_count": 22,
      "outputs": []
    },
    {
      "cell_type": "code",
      "metadata": {
        "id": "promising-sussex"
      },
      "source": [
        "matrix_init['timestamp'] = matrix_init_scaled.reset_index()['timestamp']"
      ],
      "id": "promising-sussex",
      "execution_count": 23,
      "outputs": []
    },
    {
      "cell_type": "code",
      "metadata": {
        "id": "RegnknnLcdpr"
      },
      "source": [
        "feature_df_with_emb.head()\n",
        "feature_df_with_emb['item'] = feature_df_with_emb.apply(lambda row: row[1]+'-'+row[2], axis=1)"
      ],
      "id": "RegnknnLcdpr",
      "execution_count": 24,
      "outputs": []
    },
    {
      "cell_type": "markdown",
      "metadata": {
        "id": "working-dylan"
      },
      "source": [
        "### Merge data"
      ],
      "id": "working-dylan"
    },
    {
      "cell_type": "code",
      "metadata": {
        "id": "silent-present"
      },
      "source": [
        "matrix_init = matrix_init.rename({'timestamp':'rating', 'song':'track'}, axis=1)"
      ],
      "id": "silent-present",
      "execution_count": 25,
      "outputs": []
    },
    {
      "cell_type": "code",
      "metadata": {
        "id": "potential-replica"
      },
      "source": [
        "matrix_extended = matrix_init.merge(feature_df_with_emb, on=['artist', 'track'])"
      ],
      "id": "potential-replica",
      "execution_count": 26,
      "outputs": []
    },
    {
      "cell_type": "code",
      "metadata": {
        "id": "formal-token",
        "colab": {
          "base_uri": "https://localhost:8080/",
          "height": 666
        },
        "outputId": "eb3ffd49-d9dd-475c-c64d-5f438b089623"
      },
      "source": [
        "matrix_extended.head()"
      ],
      "id": "formal-token",
      "execution_count": 27,
      "outputs": [
        {
          "output_type": "execute_result",
          "data": {
            "text/html": [
              "<div>\n",
              "<style scoped>\n",
              "    .dataframe tbody tr th:only-of-type {\n",
              "        vertical-align: middle;\n",
              "    }\n",
              "\n",
              "    .dataframe tbody tr th {\n",
              "        vertical-align: top;\n",
              "    }\n",
              "\n",
              "    .dataframe thead th {\n",
              "        text-align: right;\n",
              "    }\n",
              "</style>\n",
              "<table border=\"1\" class=\"dataframe\">\n",
              "  <thead>\n",
              "    <tr style=\"text-align: right;\">\n",
              "      <th></th>\n",
              "      <th>user</th>\n",
              "      <th>artist</th>\n",
              "      <th>track</th>\n",
              "      <th>rating</th>\n",
              "      <th>Unnamed: 0</th>\n",
              "      <th>danceability</th>\n",
              "      <th>energy</th>\n",
              "      <th>key</th>\n",
              "      <th>loudness</th>\n",
              "      <th>mode</th>\n",
              "      <th>speechiness</th>\n",
              "      <th>acousticness</th>\n",
              "      <th>instrumentalness</th>\n",
              "      <th>liveness</th>\n",
              "      <th>valence</th>\n",
              "      <th>tempo</th>\n",
              "      <th>duration_ms</th>\n",
              "      <th>genres</th>\n",
              "      <th>popularity</th>\n",
              "      <th>genres_emb</th>\n",
              "      <th>emb_x</th>\n",
              "      <th>emb_y</th>\n",
              "      <th>emb_z</th>\n",
              "      <th>item</th>\n",
              "    </tr>\n",
              "  </thead>\n",
              "  <tbody>\n",
              "    <tr>\n",
              "      <th>0</th>\n",
              "      <td>user_000001</td>\n",
              "      <td>2562</td>\n",
              "      <td>Basin Dub</td>\n",
              "      <td>1.652605</td>\n",
              "      <td>1056</td>\n",
              "      <td>0.644</td>\n",
              "      <td>0.431</td>\n",
              "      <td>11.0</td>\n",
              "      <td>-7.676</td>\n",
              "      <td>1.0</td>\n",
              "      <td>0.206</td>\n",
              "      <td>0.0393</td>\n",
              "      <td>0.3</td>\n",
              "      <td>0.159</td>\n",
              "      <td>0.347</td>\n",
              "      <td>139.998</td>\n",
              "      <td>292769.0</td>\n",
              "      <td>['classic dubstep', 'future garage', 'bass mus...</td>\n",
              "      <td>19</td>\n",
              "      <td>[5.3110935  6.1038699  3.31327275]</td>\n",
              "      <td>5.311094</td>\n",
              "      <td>6.10387</td>\n",
              "      <td>3.313273</td>\n",
              "      <td>2562-Basin Dub</td>\n",
              "    </tr>\n",
              "    <tr>\n",
              "      <th>1</th>\n",
              "      <td>user_000451</td>\n",
              "      <td>2562</td>\n",
              "      <td>Basin Dub</td>\n",
              "      <td>1.617691</td>\n",
              "      <td>1056</td>\n",
              "      <td>0.644</td>\n",
              "      <td>0.431</td>\n",
              "      <td>11.0</td>\n",
              "      <td>-7.676</td>\n",
              "      <td>1.0</td>\n",
              "      <td>0.206</td>\n",
              "      <td>0.0393</td>\n",
              "      <td>0.3</td>\n",
              "      <td>0.159</td>\n",
              "      <td>0.347</td>\n",
              "      <td>139.998</td>\n",
              "      <td>292769.0</td>\n",
              "      <td>['classic dubstep', 'future garage', 'bass mus...</td>\n",
              "      <td>19</td>\n",
              "      <td>[5.3110935  6.1038699  3.31327275]</td>\n",
              "      <td>5.311094</td>\n",
              "      <td>6.10387</td>\n",
              "      <td>3.313273</td>\n",
              "      <td>2562-Basin Dub</td>\n",
              "    </tr>\n",
              "    <tr>\n",
              "      <th>2</th>\n",
              "      <td>user_000471</td>\n",
              "      <td>2562</td>\n",
              "      <td>Basin Dub</td>\n",
              "      <td>1.000000</td>\n",
              "      <td>1056</td>\n",
              "      <td>0.644</td>\n",
              "      <td>0.431</td>\n",
              "      <td>11.0</td>\n",
              "      <td>-7.676</td>\n",
              "      <td>1.0</td>\n",
              "      <td>0.206</td>\n",
              "      <td>0.0393</td>\n",
              "      <td>0.3</td>\n",
              "      <td>0.159</td>\n",
              "      <td>0.347</td>\n",
              "      <td>139.998</td>\n",
              "      <td>292769.0</td>\n",
              "      <td>['classic dubstep', 'future garage', 'bass mus...</td>\n",
              "      <td>19</td>\n",
              "      <td>[5.3110935  6.1038699  3.31327275]</td>\n",
              "      <td>5.311094</td>\n",
              "      <td>6.10387</td>\n",
              "      <td>3.313273</td>\n",
              "      <td>2562-Basin Dub</td>\n",
              "    </tr>\n",
              "    <tr>\n",
              "      <th>3</th>\n",
              "      <td>user_000508</td>\n",
              "      <td>2562</td>\n",
              "      <td>Basin Dub</td>\n",
              "      <td>2.129150</td>\n",
              "      <td>1056</td>\n",
              "      <td>0.644</td>\n",
              "      <td>0.431</td>\n",
              "      <td>11.0</td>\n",
              "      <td>-7.676</td>\n",
              "      <td>1.0</td>\n",
              "      <td>0.206</td>\n",
              "      <td>0.0393</td>\n",
              "      <td>0.3</td>\n",
              "      <td>0.159</td>\n",
              "      <td>0.347</td>\n",
              "      <td>139.998</td>\n",
              "      <td>292769.0</td>\n",
              "      <td>['classic dubstep', 'future garage', 'bass mus...</td>\n",
              "      <td>19</td>\n",
              "      <td>[5.3110935  6.1038699  3.31327275]</td>\n",
              "      <td>5.311094</td>\n",
              "      <td>6.10387</td>\n",
              "      <td>3.313273</td>\n",
              "      <td>2562-Basin Dub</td>\n",
              "    </tr>\n",
              "    <tr>\n",
              "      <th>4</th>\n",
              "      <td>user_000515</td>\n",
              "      <td>2562</td>\n",
              "      <td>Basin Dub</td>\n",
              "      <td>1.556342</td>\n",
              "      <td>1056</td>\n",
              "      <td>0.644</td>\n",
              "      <td>0.431</td>\n",
              "      <td>11.0</td>\n",
              "      <td>-7.676</td>\n",
              "      <td>1.0</td>\n",
              "      <td>0.206</td>\n",
              "      <td>0.0393</td>\n",
              "      <td>0.3</td>\n",
              "      <td>0.159</td>\n",
              "      <td>0.347</td>\n",
              "      <td>139.998</td>\n",
              "      <td>292769.0</td>\n",
              "      <td>['classic dubstep', 'future garage', 'bass mus...</td>\n",
              "      <td>19</td>\n",
              "      <td>[5.3110935  6.1038699  3.31327275]</td>\n",
              "      <td>5.311094</td>\n",
              "      <td>6.10387</td>\n",
              "      <td>3.313273</td>\n",
              "      <td>2562-Basin Dub</td>\n",
              "    </tr>\n",
              "  </tbody>\n",
              "</table>\n",
              "</div>"
            ],
            "text/plain": [
              "          user artist      track  ...    emb_y     emb_z            item\n",
              "0  user_000001   2562  Basin Dub  ...  6.10387  3.313273  2562-Basin Dub\n",
              "1  user_000451   2562  Basin Dub  ...  6.10387  3.313273  2562-Basin Dub\n",
              "2  user_000471   2562  Basin Dub  ...  6.10387  3.313273  2562-Basin Dub\n",
              "3  user_000508   2562  Basin Dub  ...  6.10387  3.313273  2562-Basin Dub\n",
              "4  user_000515   2562  Basin Dub  ...  6.10387  3.313273  2562-Basin Dub\n",
              "\n",
              "[5 rows x 24 columns]"
            ]
          },
          "metadata": {
            "tags": []
          },
          "execution_count": 27
        }
      ]
    },
    {
      "cell_type": "markdown",
      "metadata": {
        "id": "w-BObyTK8dft"
      },
      "source": [
        "### Filter the dataset"
      ],
      "id": "w-BObyTK8dft"
    },
    {
      "cell_type": "code",
      "metadata": {
        "colab": {
          "base_uri": "https://localhost:8080/"
        },
        "id": "bmxgAsts8dSB",
        "outputId": "07a4430e-07e2-424e-aa47-8a4d8b435f49"
      },
      "source": [
        "matrix_extended.groupby('user').count()['rating'].describe()"
      ],
      "id": "bmxgAsts8dSB",
      "execution_count": 28,
      "outputs": [
        {
          "output_type": "execute_result",
          "data": {
            "text/plain": [
              "count      992.000000\n",
              "mean      4367.426411\n",
              "std       5152.289753\n",
              "min          1.000000\n",
              "25%       1265.500000\n",
              "50%       2945.000000\n",
              "75%       5524.500000\n",
              "max      65246.000000\n",
              "Name: rating, dtype: float64"
            ]
          },
          "metadata": {
            "tags": []
          },
          "execution_count": 28
        }
      ]
    },
    {
      "cell_type": "code",
      "metadata": {
        "colab": {
          "base_uri": "https://localhost:8080/",
          "height": 268
        },
        "id": "RVJT_7Qi8cyB",
        "outputId": "fb73b309-ec71-4eea-e433-a649539b283f"
      },
      "source": [
        "matrix_extended.groupby('user').count()['rating'].plot.hist()\n",
        "plt.yscale('log')\n",
        "plt.show()"
      ],
      "id": "RVJT_7Qi8cyB",
      "execution_count": 29,
      "outputs": [
        {
          "output_type": "display_data",
          "data": {
            "image/png": "[encoded data removed]",
            "text/plain": [
              "<Figure size 432x288 with 1 Axes>"
            ]
          },
          "metadata": {
            "tags": [],
            "needs_background": "light"
          }
        }
      ]
    },
    {
      "cell_type": "code",
      "metadata": {
        "colab": {
          "base_uri": "https://localhost:8080/"
        },
        "id": "u9l3wRhoGL4i",
        "outputId": "638ffd23-c4fe-444e-fe2d-9f836a4d25b6"
      },
      "source": [
        "matrix_extended.groupby('item').count()['rating'].describe()"
      ],
      "id": "u9l3wRhoGL4i",
      "execution_count": 30,
      "outputs": [
        {
          "output_type": "execute_result",
          "data": {
            "text/plain": [
              "count    929536.000000\n",
              "mean          4.660914\n",
              "std          10.819621\n",
              "min           1.000000\n",
              "25%           1.000000\n",
              "50%           2.000000\n",
              "75%           4.000000\n",
              "max         346.000000\n",
              "Name: rating, dtype: float64"
            ]
          },
          "metadata": {
            "tags": []
          },
          "execution_count": 30
        }
      ]
    },
    {
      "cell_type": "code",
      "metadata": {
        "colab": {
          "base_uri": "https://localhost:8080/",
          "height": 265
        },
        "id": "EGlGtGXN8cPj",
        "outputId": "fb0b5a1d-0b21-4f97-81ac-365033a4f15d"
      },
      "source": [
        "matrix_extended.groupby('item').count()['rating'].plot.hist()\n",
        "plt.yscale('log')\n",
        "plt.show()"
      ],
      "id": "EGlGtGXN8cPj",
      "execution_count": 31,
      "outputs": [
        {
          "output_type": "display_data",
          "data": {
            "image/png": "[encoded data removed]",
            "text/plain": [
              "<Figure size 432x288 with 1 Axes>"
            ]
          },
          "metadata": {
            "tags": [],
            "needs_background": "light"
          }
        }
      ]
    },
    {
      "cell_type": "code",
      "metadata": {
        "colab": {
          "base_uri": "https://localhost:8080/",
          "height": 265
        },
        "id": "O3Mpjco08cCg",
        "outputId": "f4aa8da8-8388-4ea3-82c7-cf5210cd5974"
      },
      "source": [
        "matrix_extended['rating'].plot.hist()\n",
        "plt.yscale('log')\n",
        "plt.show()"
      ],
      "id": "O3Mpjco08cCg",
      "execution_count": 50,
      "outputs": [
        {
          "output_type": "display_data",
          "data": {
            "image/png": "[encoded data removed]",
            "text/plain": [
              "<Figure size 432x288 with 1 Axes>"
            ]
          },
          "metadata": {
            "tags": [],
            "needs_background": "light"
          }
        }
      ]
    },
    {
      "cell_type": "code",
      "metadata": {
        "id": "06x7G_3cGW2J"
      },
      "source": [
        "items_app = matrix_extended.groupby('item').count()['rating']\n",
        "items_app = items_app.loc[items_app > 3.99].index\n",
        "matrix_sampled = matrix_extended.copy()\n",
        "matrix_sampled = matrix_sampled.set_index('item')\n",
        "matrix_sampled = matrix_sampled.loc[items_app]\n",
        "matrix_sampled = matrix_sampled.reset_index()\n",
        "matrix_sampled = matrix_sampled.sample(frac=1)"
      ],
      "id": "06x7G_3cGW2J",
      "execution_count": 33,
      "outputs": []
    },
    {
      "cell_type": "code",
      "metadata": {
        "id": "x9MFL9ZoIB-n",
        "colab": {
          "base_uri": "https://localhost:8080/"
        },
        "outputId": "2c48767a-c6b3-492a-c1f0-1f40578fd369"
      },
      "source": [
        "matrix_sampled.groupby('user').count()['rating'].describe()"
      ],
      "id": "x9MFL9ZoIB-n",
      "execution_count": 34,
      "outputs": [
        {
          "output_type": "execute_result",
          "data": {
            "text/plain": [
              "count      991.000000\n",
              "mean      3399.972755\n",
              "std       3809.005245\n",
              "min          3.000000\n",
              "25%       1064.500000\n",
              "50%       2344.000000\n",
              "75%       4265.000000\n",
              "max      47788.000000\n",
              "Name: rating, dtype: float64"
            ]
          },
          "metadata": {
            "tags": []
          },
          "execution_count": 34
        }
      ]
    },
    {
      "cell_type": "markdown",
      "metadata": {
        "id": "tribal-batch"
      },
      "source": [
        "### Sample Users"
      ],
      "id": "tribal-batch"
    },
    {
      "cell_type": "code",
      "metadata": {
        "id": "YRKwgOyJdfQb"
      },
      "source": [
        "# no_users = 200\n",
        "# users_list = matrix_extended.user.unique()\n",
        "# users_sampled = np.random.choice(users_list, replace=False, size=no_users)\n",
        "# matrix_sampled = matrix_extended.copy()\n",
        "# matrix_sampled = matrix_sampled.set_index('user')\n",
        "# matrix_sampled = matrix_sampled.loc[users_sampled]\n",
        "# matrix_sampled = matrix_sampled.reset_index()\n",
        "# matrix_sampled = matrix_sampled.sample(frac=1)\n",
        "# matrix_sampled['item'] = matrix_sampled.apply(lambda row: row[1]+'-'+row[2], axis=1)"
      ],
      "id": "YRKwgOyJdfQb",
      "execution_count": 35,
      "outputs": []
    },
    {
      "cell_type": "code",
      "metadata": {
        "id": "yRJeB1Y_hPM0",
        "colab": {
          "base_uri": "https://localhost:8080/",
          "height": 496
        },
        "outputId": "42e6c660-1da8-4d35-ff60-cedc3a9d2591"
      },
      "source": [
        "matrix_sampled.head()"
      ],
      "id": "yRJeB1Y_hPM0",
      "execution_count": 36,
      "outputs": [
        {
          "output_type": "execute_result",
          "data": {
            "text/html": [
              "<div>\n",
              "<style scoped>\n",
              "    .dataframe tbody tr th:only-of-type {\n",
              "        vertical-align: middle;\n",
              "    }\n",
              "\n",
              "    .dataframe tbody tr th {\n",
              "        vertical-align: top;\n",
              "    }\n",
              "\n",
              "    .dataframe thead th {\n",
              "        text-align: right;\n",
              "    }\n",
              "</style>\n",
              "<table border=\"1\" class=\"dataframe\">\n",
              "  <thead>\n",
              "    <tr style=\"text-align: right;\">\n",
              "      <th></th>\n",
              "      <th>item</th>\n",
              "      <th>user</th>\n",
              "      <th>artist</th>\n",
              "      <th>track</th>\n",
              "      <th>rating</th>\n",
              "      <th>Unnamed: 0</th>\n",
              "      <th>danceability</th>\n",
              "      <th>energy</th>\n",
              "      <th>key</th>\n",
              "      <th>loudness</th>\n",
              "      <th>mode</th>\n",
              "      <th>speechiness</th>\n",
              "      <th>acousticness</th>\n",
              "      <th>instrumentalness</th>\n",
              "      <th>liveness</th>\n",
              "      <th>valence</th>\n",
              "      <th>tempo</th>\n",
              "      <th>duration_ms</th>\n",
              "      <th>genres</th>\n",
              "      <th>popularity</th>\n",
              "      <th>genres_emb</th>\n",
              "      <th>emb_x</th>\n",
              "      <th>emb_y</th>\n",
              "      <th>emb_z</th>\n",
              "    </tr>\n",
              "  </thead>\n",
              "  <tbody>\n",
              "    <tr>\n",
              "      <th>1525460</th>\n",
              "      <td>Ladytron-Kletva</td>\n",
              "      <td>user_000215</td>\n",
              "      <td>Ladytron</td>\n",
              "      <td>Kletva</td>\n",
              "      <td>1.0</td>\n",
              "      <td>19905</td>\n",
              "      <td>0.452</td>\n",
              "      <td>0.789</td>\n",
              "      <td>2.0</td>\n",
              "      <td>-4.413</td>\n",
              "      <td>1.0</td>\n",
              "      <td>0.0344</td>\n",
              "      <td>0.002330</td>\n",
              "      <td>0.224000</td>\n",
              "      <td>0.5440</td>\n",
              "      <td>0.2520</td>\n",
              "      <td>97.477</td>\n",
              "      <td>162693.0</td>\n",
              "      <td>['electroclash', 'alternative dance', 'new rav...</td>\n",
              "      <td>58</td>\n",
              "      <td>[5.9564935  7.30105835 2.5005095 ]</td>\n",
              "      <td>5.956494</td>\n",
              "      <td>7.301058</td>\n",
              "      <td>2.500510</td>\n",
              "    </tr>\n",
              "    <tr>\n",
              "      <th>3146017</th>\n",
              "      <td>Tiger Trap-Supreme Nothing</td>\n",
              "      <td>user_000670</td>\n",
              "      <td>Tiger Trap</td>\n",
              "      <td>Supreme Nothing</td>\n",
              "      <td>1.0</td>\n",
              "      <td>260319</td>\n",
              "      <td>0.441</td>\n",
              "      <td>0.843</td>\n",
              "      <td>7.0</td>\n",
              "      <td>-6.687</td>\n",
              "      <td>1.0</td>\n",
              "      <td>0.0401</td>\n",
              "      <td>0.001460</td>\n",
              "      <td>0.815000</td>\n",
              "      <td>0.0968</td>\n",
              "      <td>0.6120</td>\n",
              "      <td>136.389</td>\n",
              "      <td>131933.0</td>\n",
              "      <td>['riot grrrl', 'twee pop', 'tape club', 'sacra...</td>\n",
              "      <td>29</td>\n",
              "      <td>[6.0325904 8.323377  1.8079653]</td>\n",
              "      <td>6.032590</td>\n",
              "      <td>8.323377</td>\n",
              "      <td>1.807965</td>\n",
              "    </tr>\n",
              "    <tr>\n",
              "      <th>426028</th>\n",
              "      <td>Boom Bip &amp; Doseone-Fence Hopping</td>\n",
              "      <td>user_000397</td>\n",
              "      <td>Boom Bip &amp; Doseone</td>\n",
              "      <td>Fence Hopping</td>\n",
              "      <td>1.0</td>\n",
              "      <td>355214</td>\n",
              "      <td>0.389</td>\n",
              "      <td>0.759</td>\n",
              "      <td>11.0</td>\n",
              "      <td>-21.935</td>\n",
              "      <td>0.0</td>\n",
              "      <td>0.8230</td>\n",
              "      <td>0.486000</td>\n",
              "      <td>0.116000</td>\n",
              "      <td>0.3740</td>\n",
              "      <td>0.0792</td>\n",
              "      <td>84.911</td>\n",
              "      <td>95627.0</td>\n",
              "      <td>['abstract hip hop', 'psychedelic hip hop', 'i...</td>\n",
              "      <td>29</td>\n",
              "      <td>[4.2508288  7.48125465 4.22295815]</td>\n",
              "      <td>4.250829</td>\n",
              "      <td>7.481255</td>\n",
              "      <td>4.222958</td>\n",
              "    </tr>\n",
              "    <tr>\n",
              "      <th>1948867</th>\n",
              "      <td>Nine Inch Nails-Big Man With A Gun</td>\n",
              "      <td>user_000082</td>\n",
              "      <td>Nine Inch Nails</td>\n",
              "      <td>Big Man With A Gun</td>\n",
              "      <td>1.0</td>\n",
              "      <td>37728</td>\n",
              "      <td>0.336</td>\n",
              "      <td>0.985</td>\n",
              "      <td>9.0</td>\n",
              "      <td>-4.023</td>\n",
              "      <td>1.0</td>\n",
              "      <td>0.1100</td>\n",
              "      <td>0.000252</td>\n",
              "      <td>0.068000</td>\n",
              "      <td>0.8110</td>\n",
              "      <td>0.3800</td>\n",
              "      <td>199.865</td>\n",
              "      <td>96200.0</td>\n",
              "      <td>['cyberpunk', 'rock', 'alternative metal', 'in...</td>\n",
              "      <td>71</td>\n",
              "      <td>[7.2162992 7.7143175 1.3324544]</td>\n",
              "      <td>7.216299</td>\n",
              "      <td>7.714317</td>\n",
              "      <td>1.332454</td>\n",
              "    </tr>\n",
              "    <tr>\n",
              "      <th>510925</th>\n",
              "      <td>Cannonball Adderley-Limehouse Blues</td>\n",
              "      <td>user_000012</td>\n",
              "      <td>Cannonball Adderley</td>\n",
              "      <td>Limehouse Blues</td>\n",
              "      <td>1.0</td>\n",
              "      <td>38231</td>\n",
              "      <td>0.422</td>\n",
              "      <td>0.506</td>\n",
              "      <td>9.0</td>\n",
              "      <td>-12.187</td>\n",
              "      <td>0.0</td>\n",
              "      <td>0.0498</td>\n",
              "      <td>0.728000</td>\n",
              "      <td>0.000062</td>\n",
              "      <td>0.0945</td>\n",
              "      <td>0.6990</td>\n",
              "      <td>160.672</td>\n",
              "      <td>280227.0</td>\n",
              "      <td>['hard bop', 'jazz', 'jazz funk', 'soul jazz',...</td>\n",
              "      <td>37</td>\n",
              "      <td>[3.7134242  5.6224515  0.38689909]</td>\n",
              "      <td>3.713424</td>\n",
              "      <td>5.622452</td>\n",
              "      <td>0.386899</td>\n",
              "    </tr>\n",
              "  </tbody>\n",
              "</table>\n",
              "</div>"
            ],
            "text/plain": [
              "                                        item         user  ...     emb_y     emb_z\n",
              "1525460                      Ladytron-Kletva  user_000215  ...  7.301058  2.500510\n",
              "3146017           Tiger Trap-Supreme Nothing  user_000670  ...  8.323377  1.807965\n",
              "426028      Boom Bip & Doseone-Fence Hopping  user_000397  ...  7.481255  4.222958\n",
              "1948867   Nine Inch Nails-Big Man With A Gun  user_000082  ...  7.714317  1.332454\n",
              "510925   Cannonball Adderley-Limehouse Blues  user_000012  ...  5.622452  0.386899\n",
              "\n",
              "[5 rows x 24 columns]"
            ]
          },
          "metadata": {
            "tags": []
          },
          "execution_count": 36
        }
      ]
    },
    {
      "cell_type": "code",
      "metadata": {
        "id": "GlgOyabZiDQ7"
      },
      "source": [
        "matrix_sampled['user_id'] = matrix_sampled['user'].astype('category').cat.codes\n",
        "matrix_sampled['item_id'] = matrix_sampled['item'].astype('category').cat.codes"
      ],
      "id": "GlgOyabZiDQ7",
      "execution_count": 37,
      "outputs": []
    },
    {
      "cell_type": "code",
      "metadata": {
        "id": "lyric-crash"
      },
      "source": [
        "X = matrix_sampled[['user_id', \n",
        "              'item_id',\n",
        "              'danceability',\n",
        "              'energy',\n",
        "              'speechiness', \n",
        "              'acousticness', \n",
        "              'instrumentalness', \n",
        "              'liveness',\n",
        "              'valence', \n",
        "              'tempo', \n",
        "              'popularity', \n",
        "              'emb_x', \n",
        "              'emb_y',\n",
        "              'emb_z']]\n",
        "y = matrix_sampled['rating']\n",
        "groups = matrix_sampled['user_id']"
      ],
      "id": "lyric-crash",
      "execution_count": 38,
      "outputs": []
    },
    {
      "cell_type": "code",
      "metadata": {
        "id": "divine-boston"
      },
      "source": [
        "# Change splitting to be by index using https://stackoverflow.com/questions/53490497/getting-validation-set-from-train-set-by-using-percentage-from-groupby-in-pand\n",
        "X_train, X_test, y_train, y_test = train_test_split(X, y, test_size=0.2, stratify=groups)"
      ],
      "id": "divine-boston",
      "execution_count": 39,
      "outputs": []
    },
    {
      "cell_type": "code",
      "metadata": {
        "id": "organic-irish"
      },
      "source": [
        "no_users, no_items, no_factors = matrix_sampled['user_id'].nunique(), matrix_sampled['item_id'].nunique(), 100"
      ],
      "id": "organic-irish",
      "execution_count": 40,
      "outputs": []
    },
    {
      "cell_type": "code",
      "metadata": {
        "colab": {
          "base_uri": "https://localhost:8080/"
        },
        "id": "BzGeolQgIrYM",
        "outputId": "2100c7c0-9e0d-4d85-9721-ffbda932075f"
      },
      "source": [
        "no_users"
      ],
      "id": "BzGeolQgIrYM",
      "execution_count": 41,
      "outputs": [
        {
          "output_type": "execute_result",
          "data": {
            "text/plain": [
              "991"
            ]
          },
          "metadata": {
            "tags": []
          },
          "execution_count": 41
        }
      ]
    },
    {
      "cell_type": "code",
      "metadata": {
        "colab": {
          "base_uri": "https://localhost:8080/"
        },
        "id": "oK5iQ0TdIssx",
        "outputId": "197ac96d-55ed-4b44-b7a9-9ff3187948e4"
      },
      "source": [
        "no_items"
      ],
      "id": "oK5iQ0TdIssx",
      "execution_count": 42,
      "outputs": [
        {
          "output_type": "execute_result",
          "data": {
            "text/plain": [
              "246166"
            ]
          },
          "metadata": {
            "tags": []
          },
          "execution_count": 42
        }
      ]
    },
    {
      "cell_type": "markdown",
      "metadata": {
        "id": "super-dynamics"
      },
      "source": [
        "### Models"
      ],
      "id": "super-dynamics"
    },
    {
      "cell_type": "code",
      "metadata": {
        "id": "guilty-louisiana"
      },
      "source": [
        "def create_shallow_model(no_factors, no_users, no_items):\n",
        "    # User branch\n",
        "    user_id = tf.keras.layers.Input(shape=[1], name='user_id')\n",
        "    user_matrix = tf.keras.layers.Embedding(no_users+1, no_factors, name='user_matrix')(user_id)\n",
        "    user_vector = tf.keras.layers.Flatten(name='user_vector')(user_matrix)\n",
        "    # Item branch\n",
        "    item_id = tf.keras.layers.Input(shape=[1], name='item_id')\n",
        "    item_matrix = tf.keras.layers.Embedding(no_items+1, no_factors, name='item_matrix')(item_id)\n",
        "    item_vector = tf.keras.layers.Flatten(name='item_vector')(item_matrix)\n",
        "    # Dot product \n",
        "    vectors_product = tf.keras.layers.dot([user_vector, item_vector], axes=1, normalize=False)\n",
        "    # Model definition\n",
        "    model = tf.keras.models.Model(inputs=[user_id, item_id], outputs=[vectors_product], name='shallow_model')\n",
        "    return model"
      ],
      "id": "guilty-louisiana",
      "execution_count": 43,
      "outputs": []
    },
    {
      "cell_type": "code",
      "metadata": {
        "id": "needed-energy"
      },
      "source": [
        "model = create_shallow_model(no_factors, no_users, no_items)"
      ],
      "id": "needed-energy",
      "execution_count": 44,
      "outputs": []
    },
    {
      "cell_type": "code",
      "metadata": {
        "id": "concrete-mediterranean",
        "colab": {
          "base_uri": "https://localhost:8080/"
        },
        "outputId": "b5e8ffb6-3a2e-4cb0-9a61-b0676a789651"
      },
      "source": [
        "model.summary()"
      ],
      "id": "concrete-mediterranean",
      "execution_count": 45,
      "outputs": [
        {
          "output_type": "stream",
          "text": [
            "Model: \"shallow_model\"\n",
            "__________________________________________________________________________________________________\n",
            "Layer (type)                    Output Shape         Param #     Connected to                     \n",
            "==================================================================================================\n",
            "user_id (InputLayer)            [(None, 1)]          0                                            \n",
            "__________________________________________________________________________________________________\n",
            "item_id (InputLayer)            [(None, 1)]          0                                            \n",
            "__________________________________________________________________________________________________\n",
            "user_matrix (Embedding)         (None, 1, 100)       99200       user_id[0][0]                    \n",
            "__________________________________________________________________________________________________\n",
            "item_matrix (Embedding)         (None, 1, 100)       24616700    item_id[0][0]                    \n",
            "__________________________________________________________________________________________________\n",
            "user_vector (Flatten)           (None, 100)          0           user_matrix[0][0]                \n",
            "__________________________________________________________________________________________________\n",
            "item_vector (Flatten)           (None, 100)          0           item_matrix[0][0]                \n",
            "__________________________________________________________________________________________________\n",
            "dot (Dot)                       (None, 1)            0           user_vector[0][0]                \n",
            "                                                                 item_vector[0][0]                \n",
            "==================================================================================================\n",
            "Total params: 24,715,900\n",
            "Trainable params: 24,715,900\n",
            "Non-trainable params: 0\n",
            "__________________________________________________________________________________________________\n"
          ],
          "name": "stdout"
        }
      ]
    },
    {
      "cell_type": "code",
      "metadata": {
        "id": "million-delaware"
      },
      "source": [
        "def create_deep_model(no_factors, no_users, no_items):\n",
        "    # User branch\n",
        "    user_id = tf.keras.layers.Input(shape=[1], name='user_id')\n",
        "    user_matrix = tf.keras.layers.Embedding(no_users+1, no_factors, name='user_matrix')(user_id)\n",
        "    user_vector = tf.keras.layers.Flatten(name='user_vector')(user_matrix)\n",
        "    # Item branch\n",
        "    item_id = tf.keras.layers.Input(shape=[1], name='item_id')\n",
        "    item_matrix = tf.keras.layers.Embedding(no_items+1, no_factors, name='item_matrix')(item_id)\n",
        "    item_vector = tf.keras.layers.Flatten(name='item_vector')(item_matrix)\n",
        "    # Concantenation\n",
        "    vectors_concat = tf.keras.layers.Concatenate()([user_vector, item_vector])\n",
        "    vectors_concat_dropout = tf.keras.layers.Dropout(0.2)(vectors_concat)\n",
        "    # Backbone \n",
        "    dense_1 = tf.keras.layers.Dense(64,name='fc3')(vectors_concat_dropout)\n",
        "    dropout_1 = tf.keras.layers.Dropout(0.2,name='d3')(dense_1)\n",
        "    dense_2 = tf.keras.layers.Dense(32,name='fc4', activation='relu')(dropout_1)\n",
        "    dropout_2 = tf.keras.layers.Dropout(0.2,name='d4')(dense_2)\n",
        "    dense_3 = tf.keras.layers.Dense(16,name='fc5', activation='relu')(dropout_2)\n",
        "    dropout_3 = tf.keras.layers.Dropout(0.2,name='d5')(dense_3)\n",
        "    dense_4 = tf.keras.layers.Dense(8,name='fc6', activation='relu')(dropout_3)\n",
        "    dense_4_output = tf.keras.layers.Dense(1, activation='relu', name='activation')(dense_4)\n",
        "    # Model definition\n",
        "    model = tf.keras.models.Model(inputs=[user_id, item_id], outputs=[dense_4_output], name='deep_model')\n",
        "    return model"
      ],
      "id": "million-delaware",
      "execution_count": 92,
      "outputs": []
    },
    {
      "cell_type": "code",
      "metadata": {
        "id": "canadian-boulder"
      },
      "source": [
        "model = create_deep_model(no_factors, no_users, no_items)"
      ],
      "id": "canadian-boulder",
      "execution_count": 93,
      "outputs": []
    },
    {
      "cell_type": "markdown",
      "metadata": {
        "id": "minute-manual"
      },
      "source": [
        "### Model training"
      ],
      "id": "minute-manual"
    },
    {
      "cell_type": "code",
      "metadata": {
        "id": "confident-conviction",
        "colab": {
          "base_uri": "https://localhost:8080/"
        },
        "outputId": "b7f0add0-cd34-490c-e654-289c9f881091"
      },
      "source": [
        "# Input-output data definition\n",
        "X_train_arr = [X_train.user_id, X_train.item_id]\n",
        "\n",
        "# Model creation\n",
        "model = create_deep_model(no_factors, no_users, no_items)\n",
        "\n",
        "# Model compiling \n",
        "model.compile(loss=tf.keras.losses.MeanSquaredError())\n",
        "\n",
        "# Model training\n",
        "model.fit(X_train_arr, y_train, epochs=10, batch_size=2048, shuffle=True)"
      ],
      "id": "confident-conviction",
      "execution_count": null,
      "outputs": [
        {
          "output_type": "stream",
          "text": [
            "Epoch 1/10\n",
            "1274/1317 [============================>.] - ETA: 4s - loss: 0.7005"
          ],
          "name": "stdout"
        }
      ]
    },
    {
      "cell_type": "markdown",
      "metadata": {
        "id": "separate-magic"
      },
      "source": [
        "### Prediction"
      ],
      "id": "separate-magic"
    },
    {
      "cell_type": "code",
      "metadata": {
        "id": "atlantic-maria"
      },
      "source": [
        "# Predictions in the training set\n",
        "# X_train = [X_train.user_id, X_train.item_id]\n",
        "y_train_pred = model.predict(X_train_arr, batch_size=2048)"
      ],
      "id": "atlantic-maria",
      "execution_count": 52,
      "outputs": []
    },
    {
      "cell_type": "code",
      "metadata": {
        "id": "6IC4nrL_tcJ6",
        "colab": {
          "base_uri": "https://localhost:8080/",
          "height": 204
        },
        "outputId": "9d2f3494-71bd-408c-8f6d-de3c93a4424e"
      },
      "source": [
        "X_test.head()"
      ],
      "id": "6IC4nrL_tcJ6",
      "execution_count": 53,
      "outputs": [
        {
          "output_type": "execute_result",
          "data": {
            "text/html": [
              "<div>\n",
              "<style scoped>\n",
              "    .dataframe tbody tr th:only-of-type {\n",
              "        vertical-align: middle;\n",
              "    }\n",
              "\n",
              "    .dataframe tbody tr th {\n",
              "        vertical-align: top;\n",
              "    }\n",
              "\n",
              "    .dataframe thead th {\n",
              "        text-align: right;\n",
              "    }\n",
              "</style>\n",
              "<table border=\"1\" class=\"dataframe\">\n",
              "  <thead>\n",
              "    <tr style=\"text-align: right;\">\n",
              "      <th></th>\n",
              "      <th>user_id</th>\n",
              "      <th>item_id</th>\n",
              "      <th>danceability</th>\n",
              "      <th>energy</th>\n",
              "      <th>speechiness</th>\n",
              "      <th>acousticness</th>\n",
              "      <th>instrumentalness</th>\n",
              "      <th>liveness</th>\n",
              "      <th>valence</th>\n",
              "      <th>tempo</th>\n",
              "      <th>popularity</th>\n",
              "      <th>emb_x</th>\n",
              "      <th>emb_y</th>\n",
              "      <th>emb_z</th>\n",
              "    </tr>\n",
              "  </thead>\n",
              "  <tbody>\n",
              "    <tr>\n",
              "      <th>2422236</th>\n",
              "      <td>425</td>\n",
              "      <td>180479</td>\n",
              "      <td>0.119</td>\n",
              "      <td>0.0588</td>\n",
              "      <td>0.0456</td>\n",
              "      <td>0.89400</td>\n",
              "      <td>0.8950</td>\n",
              "      <td>0.1370</td>\n",
              "      <td>0.0371</td>\n",
              "      <td>67.721</td>\n",
              "      <td>62</td>\n",
              "      <td>6.479939</td>\n",
              "      <td>6.907063</td>\n",
              "      <td>1.268857</td>\n",
              "    </tr>\n",
              "    <tr>\n",
              "      <th>3092752</th>\n",
              "      <td>308</td>\n",
              "      <td>224243</td>\n",
              "      <td>0.635</td>\n",
              "      <td>0.6560</td>\n",
              "      <td>0.0255</td>\n",
              "      <td>0.25500</td>\n",
              "      <td>0.5870</td>\n",
              "      <td>0.1470</td>\n",
              "      <td>0.4830</td>\n",
              "      <td>116.347</td>\n",
              "      <td>48</td>\n",
              "      <td>5.669039</td>\n",
              "      <td>8.249524</td>\n",
              "      <td>1.645145</td>\n",
              "    </tr>\n",
              "    <tr>\n",
              "      <th>2471221</th>\n",
              "      <td>197</td>\n",
              "      <td>183933</td>\n",
              "      <td>0.685</td>\n",
              "      <td>0.6260</td>\n",
              "      <td>0.2040</td>\n",
              "      <td>0.81200</td>\n",
              "      <td>0.0346</td>\n",
              "      <td>0.0910</td>\n",
              "      <td>0.5210</td>\n",
              "      <td>81.769</td>\n",
              "      <td>47</td>\n",
              "      <td>4.980367</td>\n",
              "      <td>5.765692</td>\n",
              "      <td>2.834097</td>\n",
              "    </tr>\n",
              "    <tr>\n",
              "      <th>1513524</th>\n",
              "      <td>609</td>\n",
              "      <td>115660</td>\n",
              "      <td>0.423</td>\n",
              "      <td>0.6090</td>\n",
              "      <td>0.0358</td>\n",
              "      <td>0.15800</td>\n",
              "      <td>0.7550</td>\n",
              "      <td>0.4070</td>\n",
              "      <td>0.5000</td>\n",
              "      <td>177.494</td>\n",
              "      <td>56</td>\n",
              "      <td>6.785480</td>\n",
              "      <td>8.212117</td>\n",
              "      <td>-0.411513</td>\n",
              "    </tr>\n",
              "    <tr>\n",
              "      <th>13773</th>\n",
              "      <td>569</td>\n",
              "      <td>1100</td>\n",
              "      <td>0.699</td>\n",
              "      <td>0.6210</td>\n",
              "      <td>0.0435</td>\n",
              "      <td>0.00672</td>\n",
              "      <td>0.0000</td>\n",
              "      <td>0.0429</td>\n",
              "      <td>0.7890</td>\n",
              "      <td>156.036</td>\n",
              "      <td>68</td>\n",
              "      <td>7.096012</td>\n",
              "      <td>9.167090</td>\n",
              "      <td>0.351937</td>\n",
              "    </tr>\n",
              "  </tbody>\n",
              "</table>\n",
              "</div>"
            ],
            "text/plain": [
              "         user_id  item_id  danceability  ...     emb_x     emb_y     emb_z\n",
              "2422236      425   180479         0.119  ...  6.479939  6.907063  1.268857\n",
              "3092752      308   224243         0.635  ...  5.669039  8.249524  1.645145\n",
              "2471221      197   183933         0.685  ...  4.980367  5.765692  2.834097\n",
              "1513524      609   115660         0.423  ...  6.785480  8.212117 -0.411513\n",
              "13773        569     1100         0.699  ...  7.096012  9.167090  0.351937\n",
              "\n",
              "[5 rows x 14 columns]"
            ]
          },
          "metadata": {
            "tags": []
          },
          "execution_count": 53
        }
      ]
    },
    {
      "cell_type": "code",
      "metadata": {
        "id": "smoking-apparel"
      },
      "source": [
        "# Predictions in the test set\n",
        "X_test_arr = [X_test.user_id, X_test.item_id]\n",
        "y_test_pred = model.predict(X_test_arr, batch_size=2048)"
      ],
      "id": "smoking-apparel",
      "execution_count": 54,
      "outputs": []
    },
    {
      "cell_type": "markdown",
      "metadata": {
        "id": "single-gospel"
      },
      "source": [
        "### Evaluation"
      ],
      "id": "single-gospel"
    },
    {
      "cell_type": "code",
      "metadata": {
        "id": "hired-webcam",
        "colab": {
          "base_uri": "https://localhost:8080/"
        },
        "outputId": "c7f3662e-5e23-4a32-c66a-45c0fa7e0c8c"
      },
      "source": [
        "from sklearn.metrics import mean_squared_error\n",
        "print('Train RMSE:', mean_squared_error(y_train.values, y_train_pred, squared=False))\n",
        "print('Test RMSE:', mean_squared_error(y_test.values, y_test_pred, squared=False))"
      ],
      "id": "hired-webcam",
      "execution_count": 55,
      "outputs": [
        {
          "output_type": "stream",
          "text": [
            "Train RMSE: 0.7415002116331443\n",
            "Test RMSE: 0.8103283677540764\n"
          ],
          "name": "stdout"
        }
      ]
    },
    {
      "cell_type": "code",
      "metadata": {
        "id": "honest-globe"
      },
      "source": [
        "def precision_at_k(model, test_ratings):\n",
        "    precisions = []\n",
        "    # For each user\n",
        "    for user_id, user_test_rating in test_ratings.groupby('user_id'):\n",
        "        # Retrieve the unseen items\n",
        "        user_df = test_ratings[(test_ratings['user_id'] == user_id)]\n",
        "        test_pids = user_df['item_id'].values\n",
        "        relevant_pids = set(user_df.loc[user_df['rating'] > 1, 'item_id'].values)\n",
        "        if len(relevant_pids) == 0:\n",
        "          continue\n",
        "        # Create testing dataframe\n",
        "        test_df = pd.DataFrame({'user_id': user_id, 'item_id': test_pids})\n",
        "        test_set = [test_df.user_id, test_df.item_id]\n",
        "        # Make rating predictions for all items for that user\n",
        "        predictions = model.predict(test_set, batch_size=2048)\n",
        "        # predictions = pred_func(model, user_id, pid_array, train_ratings)\n",
        "        predictions = predictions.reshape(-1)\n",
        "        print(predictions)\n",
        "        return\n",
        "        # Sort the items and het the top k\n",
        "        top_k = predictions > 1.1\n",
        "        top_k_items = set(np.array(test_pids)[top_k])\n",
        "        # Compute precision as per definition\n",
        "        precisions.append(len(top_k_items & relevant_pids) / top_k.sum())\n",
        "    return precisions"
      ],
      "id": "honest-globe",
      "execution_count": 84,
      "outputs": []
    },
    {
      "cell_type": "code",
      "metadata": {
        "id": "committed-trunk"
      },
      "source": [
        "X_test_arr = np.array(X_test_arr)"
      ],
      "id": "committed-trunk",
      "execution_count": 85,
      "outputs": []
    },
    {
      "cell_type": "code",
      "metadata": {
        "id": "modern-denmark"
      },
      "source": [
        "test_ratings = pd.DataFrame({'user_id': X_test_arr[0, :], 'item_id':X_test_arr[1, :], 'rating': y_test})"
      ],
      "id": "modern-denmark",
      "execution_count": 86,
      "outputs": []
    },
    {
      "cell_type": "code",
      "metadata": {
        "id": "asian-divide",
        "colab": {
          "base_uri": "https://localhost:8080/"
        },
        "outputId": "c3c79fb7-342d-44a6-c72d-2a9babfb0364"
      },
      "source": [
        "precisions = precision_at_k(model, test_ratings)"
      ],
      "id": "asian-divide",
      "execution_count": 87,
      "outputs": [
        {
          "output_type": "stream",
          "text": [
            "[1.8319632 1.8353419 1.5447176 1.6889496 1.5982983 2.3718486 2.4288297\n",
            " 2.0616536 2.392511  2.471215  1.4124408 1.9802537 2.1034675 2.3390172\n",
            " 1.90409   1.8940943 2.4867969 1.6175618 2.2137752 2.0278854 2.3129616\n",
            " 1.8327041 2.787715  2.5118775 1.5394747 1.5628588 1.3359337 2.3769794\n",
            " 2.110185  1.8741006 2.3345723 1.9640495 2.1455674 2.3217988 1.8956138\n",
            " 1.5717764 1.7542601 2.3272798 2.3470244 1.8458236 2.2544885 2.300902\n",
            " 1.1315237 1.6625812 1.8931931 1.9837762 2.2323885 2.3165398 1.776222\n",
            " 1.7377578 2.4704955 2.0801885 2.2188945 2.4690342 1.99685   2.0388744\n",
            " 1.9990388 1.6751692 1.9079694 1.7960178 1.5778234 2.100223  2.0912914\n",
            " 2.150073  2.5020318 2.1946099 2.0811243 2.4288626 1.9221835 2.2110083\n",
            " 2.5895607 1.7689724 1.677186  1.4960209 2.5806322 2.230587  1.4539188\n",
            " 2.5815113 2.4950287 2.0409396 1.9277983 1.8538492 2.070396  1.946993\n",
            " 1.7076827 2.6829035 2.5221229 2.6221662 2.3999612 1.9720752 1.9657968\n",
            " 2.298808  2.1126804 1.6315448 2.2935848 1.8456073 2.360573  2.283505\n",
            " 1.9644372 1.7546695 2.556409  2.2104316 1.8683394 1.9325825 2.0772767\n",
            " 1.8054985 1.7287745 1.5923786 2.3851647 1.1644958 2.1475468 2.0985293\n",
            " 2.5255518 1.4454497 1.8191295 2.67416   1.8864071 2.225281  2.0813086\n",
            " 2.1284513 2.3460245 2.1329658 1.8399955 1.7752035 2.3308125 1.8790058\n",
            " 1.7753217 2.1108263 1.9371737 1.6551315 1.7733967 2.1789284 2.2074292\n",
            " 1.4603484 2.4826274 1.7111578 1.9052026 1.6295236 1.787114  2.1449714\n",
            " 2.7153132 2.4623034 2.3416352 2.2831402 1.7814097 2.102732  2.3715935\n",
            " 1.925965  2.5747871 1.5705125 1.7726133 1.8949405 1.852521  1.8224866\n",
            " 2.3032608 2.5889692 1.6885952 2.3170395 2.2062664 1.8383025 2.2825444\n",
            " 1.9799569 2.2942317 1.9928095 2.217105  2.1114244 1.8294309 2.122044\n",
            " 1.7071998 1.9519277 2.3027377 1.7545791 2.4666915 1.9530708 2.2616053\n",
            " 1.6935436 1.991827  2.4881084 1.9921445 2.1442156 1.5026153 2.2340598\n",
            " 2.0091944 1.779063  1.7662735 1.7898474 2.504958  2.2306175 1.8408415\n",
            " 1.9328933 1.5297726 2.0090284 1.637543  1.9857713 1.7154926 1.9382753\n",
            " 1.5537579 2.3840544 2.5711546 2.2920876 1.4992225 1.4620261 2.6164694\n",
            " 1.952735  1.8774805 1.9045135 1.8290318 1.6203228 1.7801185 1.3179182\n",
            " 2.012195  1.8459516 1.962337  2.4060333 2.0679703 1.8253095 1.8003726\n",
            " 1.5227642 2.0457602 1.6988394 2.2967796 1.9565328 1.9937176 1.7058814\n",
            " 2.2000136 1.4721594 2.0779967 1.8832531 1.8002644 2.239325  2.5198226\n",
            " 1.8492916 1.770848  1.9366146 1.6987419 2.4710913]\n"
          ],
          "name": "stdout"
        }
      ]
    },
    {
      "cell_type": "code",
      "metadata": {
        "id": "3WyInXklOgon",
        "outputId": "de566e66-5f6a-445b-9f70-2eae29a65c97",
        "colab": {
          "base_uri": "https://localhost:8080/"
        }
      },
      "source": [
        "print(test_ratings['rating'].min(), test_ratings['rating'].max(), test_ratings['rating'].mean(), test_ratings['rating'].median())"
      ],
      "id": "3WyInXklOgon",
      "execution_count": 88,
      "outputs": [
        {
          "output_type": "stream",
          "text": [
            "1.0 4.999999476084685 1.760884033377153 1.5801457413875906\n"
          ],
          "name": "stdout"
        }
      ]
    },
    {
      "cell_type": "code",
      "metadata": {
        "id": "muslim-sphere",
        "colab": {
          "base_uri": "https://localhost:8080/"
        },
        "outputId": "31fd97fc-3ea6-451f-ce43-a31053a210c3"
      },
      "source": [
        "np.mean(precisions), np.std(precisions)"
      ],
      "id": "muslim-sphere",
      "execution_count": 75,
      "outputs": [
        {
          "output_type": "execute_result",
          "data": {
            "text/plain": [
              "(0.5115955622497848, 0.20145222413770886)"
            ]
          },
          "metadata": {
            "tags": []
          },
          "execution_count": 75
        }
      ]
    },
    {
      "cell_type": "code",
      "metadata": {
        "id": "cosmetic-enhancement"
      },
      "source": [
        "### EXERCISE CELL ###\n",
        "def recall_at_k(model, test_ratings):\n",
        "    recalls = []\n",
        "    for user_id, user_test_rating in tqdm(test_ratings.groupby('user_id')):\n",
        "        # Retrieve the unseen items\n",
        "        user_df = test_ratings[(test_ratings['user_id'] == user_id)]\n",
        "        test_pids = user_df['item_id'].values\n",
        "        relevant_pids = set(user_df.loc[user_df['rating'] > 1, 'item_id'].values)\n",
        "        if len(relevant_pids) == 0:\n",
        "          continue\n",
        "        # Create testing dataframe\n",
        "        test_df = pd.DataFrame({'user_id': user_id, 'item_id': test_pids})\n",
        "        test_set = [test_df.user_id, test_df.item_id]\n",
        "        # Make rating predictions for all items for that user\n",
        "        predictions = model.predict(test_set, batch_size=2048)\n",
        "        # predictions = pred_func(model, user_id, pid_array, train_ratings)\n",
        "        predictions = predictions.reshape(-1)\n",
        "        # Sort the items and het the top k\n",
        "        top_k = predictions > 1.1\n",
        "        top_k_items = set(np.array(test_pids)[top_k])\n",
        "        recalls.append(len(top_k_items & relevant_pids) / len(relevant_pids))\n",
        "    return recalls"
      ],
      "id": "cosmetic-enhancement",
      "execution_count": 65,
      "outputs": []
    },
    {
      "cell_type": "code",
      "metadata": {
        "id": "collected-universal",
        "colab": {
          "base_uri": "https://localhost:8080/"
        },
        "outputId": "55689a99-c67a-4cb7-d2af-4e4f4c9d49c5"
      },
      "source": [
        "recalls = recall_at_k(model, test_ratings)"
      ],
      "id": "collected-universal",
      "execution_count": 66,
      "outputs": [
        {
          "output_type": "stream",
          "text": [
            "100%|██████████| 991/991 [01:01<00:00, 16.15it/s]\n"
          ],
          "name": "stderr"
        }
      ]
    },
    {
      "cell_type": "code",
      "metadata": {
        "id": "hourly-skiing",
        "colab": {
          "base_uri": "https://localhost:8080/"
        },
        "outputId": "c95f87a0-811f-44d0-c24b-c05a3a8d6bb9"
      },
      "source": [
        "np.mean(recalls), np.std(recalls)"
      ],
      "id": "hourly-skiing",
      "execution_count": 67,
      "outputs": [
        {
          "output_type": "execute_result",
          "data": {
            "text/plain": [
              "(0.9586827991338001, 0.1273844540313987)"
            ]
          },
          "metadata": {
            "tags": []
          },
          "execution_count": 67
        }
      ]
    },
    {
      "cell_type": "code",
      "metadata": {
        "id": "answering-drink"
      },
      "source": [
        "### EXERCISE CELL ###\n",
        "def map_at_k(model, test_ratings, k=100):\n",
        "    maps = []\n",
        "    for user_id, user_test_rating in tqdm(test_ratings.groupby('user_id')):\n",
        "        # Retrieve the unseen items\n",
        "        user_df = test_ratings[(test_ratings['user_id'] == user_id)]\n",
        "        test_pids = user_df['item_id'].values\n",
        "        relevant_pids = set(user_df.loc[user_df['rating'] > 1, 'item_id'].values)\n",
        "        if len(relevant_pids) == 0:\n",
        "          continue\n",
        "        # Create testing dataframe\n",
        "        test_df = pd.DataFrame({'user_id': user_id, 'item_id': test_pids})\n",
        "        test_set = [test_df.user_id, test_df.item_id]\n",
        "        # Make rating predictions for all items for that user\n",
        "        predictions = model.predict(test_set, batch_size=2048)\n",
        "        # predictions = pred_func(model, user_id, pid_array, train_ratings)\n",
        "        predictions = predictions.reshape(-1)\n",
        "        partial_maps = []\n",
        "        top_k = list(np.argsort(predictions)[:k])\n",
        "        top_k_items = test_df.iloc[top_k]['item_id'].values\n",
        "        for rank, item_id in enumerate(top_k_items):\n",
        "            if item_id in relevant_pids:\n",
        "                partial_maps.append(len(set(top_k_items[:rank+1]) & relevant_pids) / float(rank+1))\n",
        "        maps.append(.0 if len(partial_maps) == 0 else np.sum(partial_maps) / float(k))\n",
        "    return maps"
      ],
      "id": "answering-drink",
      "execution_count": 68,
      "outputs": []
    },
    {
      "cell_type": "code",
      "metadata": {
        "id": "fantastic-sender",
        "colab": {
          "base_uri": "https://localhost:8080/"
        },
        "outputId": "96a37cdc-e5a8-4980-a217-d2acb74bfc0b"
      },
      "source": [
        "maps = map_at_k(model, test_ratings, k=100)"
      ],
      "id": "fantastic-sender",
      "execution_count": 69,
      "outputs": [
        {
          "output_type": "stream",
          "text": [
            "100%|██████████| 991/991 [01:01<00:00, 15.98it/s]\n"
          ],
          "name": "stderr"
        }
      ]
    },
    {
      "cell_type": "code",
      "metadata": {
        "id": "changing-israel",
        "colab": {
          "base_uri": "https://localhost:8080/"
        },
        "outputId": "8b31938b-c9da-4fc0-ccdd-c340972e1eb6"
      },
      "source": [
        "np.mean(maps), np.std(maps)"
      ],
      "id": "changing-israel",
      "execution_count": 70,
      "outputs": [
        {
          "output_type": "execute_result",
          "data": {
            "text/plain": [
              "(0.21518355576491055, 0.1794875336153824)"
            ]
          },
          "metadata": {
            "tags": []
          },
          "execution_count": 70
        }
      ]
    },
    {
      "cell_type": "code",
      "metadata": {
        "id": "least-brooklyn"
      },
      "source": [
        ""
      ],
      "id": "least-brooklyn",
      "execution_count": null,
      "outputs": []
    }
  ]
}