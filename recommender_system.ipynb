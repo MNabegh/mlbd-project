{
  "nbformat": 4,
  "nbformat_minor": 5,
  "metadata": {
    "kernelspec": {
      "display_name": "Python 3",
      "language": "python",
      "name": "python3"
    },
    "language_info": {
      "codemirror_mode": {
        "name": "ipython",
        "version": 3
      },
      "file_extension": ".py",
      "mimetype": "text/x-python",
      "name": "python",
      "nbconvert_exporter": "python",
      "pygments_lexer": "ipython3",
      "version": "3.7.10"
    },
    "colab": {
      "name": "recommender_system.ipynb",
      "provenance": []
    }
  },
  "cells": [
    {
      "cell_type": "code",
      "metadata": {
        "id": "0VEXgpNp1Cqi"
      },
      "source": [
        "import os\n",
        "\n",
        "path = 'lastfm-dataset-1K'\n",
        "\n",
        "if not os.path.exists(path):\n",
        "\n",
        "  !wget http://mtg.upf.edu/static/datasets/last.fm/lastfm-dataset-1K.tar.gz\n",
        "  !tar -xvzf lastfm-dataset-1K.tar.gz\n"
      ],
      "id": "0VEXgpNp1Cqi",
      "execution_count": 31,
      "outputs": []
    },
    {
      "cell_type": "code",
      "metadata": {
        "colab": {
          "base_uri": "https://localhost:8080/"
        },
        "id": "dHPzdYY01CTs",
        "outputId": "37f85ded-d439-47c6-9fcb-c2f88925fca9"
      },
      "source": [
        "!ls"
      ],
      "id": "dHPzdYY01CTs",
      "execution_count": 32,
      "outputs": [
        {
          "output_type": "stream",
          "text": [
            "drive  lastfm-dataset-1K  lastfm-dataset-1K.tar.gz  sample_data\n"
          ],
          "name": "stdout"
        }
      ]
    },
    {
      "cell_type": "code",
      "metadata": {
        "id": "PQ162BxguWhK",
        "colab": {
          "base_uri": "https://localhost:8080/"
        },
        "outputId": "da10ee60-428b-40fe-d139-fa1c1f996ffb"
      },
      "source": [
        "import os\n",
        "from google.colab import drive\n",
        "drive.mount('/content/drive')"
      ],
      "id": "PQ162BxguWhK",
      "execution_count": 33,
      "outputs": [
        {
          "output_type": "stream",
          "text": [
            "Drive already mounted at /content/drive; to attempt to forcibly remount, call drive.mount(\"/content/drive\", force_remount=True).\n"
          ],
          "name": "stdout"
        }
      ]
    },
    {
      "cell_type": "code",
      "metadata": {
        "id": "IkLzfmKxv1nY",
        "colab": {
          "base_uri": "https://localhost:8080/"
        },
        "outputId": "17452357-2b9d-4516-b787-f0e309eaa7dc"
      },
      "source": [
        "!ls drive/MyDrive/data"
      ],
      "id": "IkLzfmKxv1nY",
      "execution_count": 34,
      "outputs": [
        {
          "output_type": "stream",
          "text": [
            "feature_df_with_emb.csv  spotify_features.csv\n"
          ],
          "name": "stdout"
        }
      ]
    },
    {
      "cell_type": "code",
      "metadata": {
        "id": "legislative-photography",
        "colab": {
          "base_uri": "https://localhost:8080/"
        },
        "outputId": "2bd1da22-7eb4-46a4-cfae-69d50d6d779e"
      },
      "source": [
        "import pandas as pd\n",
        "import matplotlib.pyplot as plt\n",
        "import seaborn as sns\n",
        "from io import StringIO\n",
        "import numpy as np\n",
        "from tqdm import tqdm\n",
        "from sklearn.model_selection import train_test_split\n",
        "from sklearn.metrics import roc_auc_score\n",
        "import scipy.sparse as sp\n",
        "import tensorflow as tf\n",
        "from tqdm import tqdm\n",
        "import pandas as pd\n",
        "import numpy as np\n",
        "\n",
        "from keras.utils.vis_utils import model_to_dot\n",
        "from IPython.display import SVG\n",
        "import matplotlib.pyplot as plt\n",
        "import matplotlib\n",
        "%matplotlib inline\n",
        "\n",
        "import datetime\n",
        "import time \n",
        "import math\n",
        "import os\n",
        "%config Completer.use_jedi = False"
      ],
      "id": "legislative-photography",
      "execution_count": 35,
      "outputs": [
        {
          "output_type": "stream",
          "text": [
            "/usr/local/lib/python3.7/dist-packages/ipykernel_launcher.py:25: UserWarning: Config option `use_jedi` not recognized by `IPCompleter`.\n"
          ],
          "name": "stderr"
        }
      ]
    },
    {
      "cell_type": "code",
      "metadata": {
        "id": "y6JENn92JzyY"
      },
      "source": [
        "path = \"drive/MyDrive/data/feature_df_with_emb.csv\"\n",
        "\n",
        "feature_df_with_emb = pd.read_csv(path)"
      ],
      "id": "y6JENn92JzyY",
      "execution_count": 36,
      "outputs": []
    },
    {
      "cell_type": "code",
      "metadata": {
        "id": "9MPlx151Mo_8",
        "colab": {
          "base_uri": "https://localhost:8080/",
          "height": 496
        },
        "outputId": "22b9285d-e648-43e9-ce25-501a9b4c825c"
      },
      "source": [
        "feature_df_with_emb.head()"
      ],
      "id": "9MPlx151Mo_8",
      "execution_count": 37,
      "outputs": [
        {
          "output_type": "execute_result",
          "data": {
            "text/html": [
              "<div>\n",
              "<style scoped>\n",
              "    .dataframe tbody tr th:only-of-type {\n",
              "        vertical-align: middle;\n",
              "    }\n",
              "\n",
              "    .dataframe tbody tr th {\n",
              "        vertical-align: top;\n",
              "    }\n",
              "\n",
              "    .dataframe thead th {\n",
              "        text-align: right;\n",
              "    }\n",
              "</style>\n",
              "<table border=\"1\" class=\"dataframe\">\n",
              "  <thead>\n",
              "    <tr style=\"text-align: right;\">\n",
              "      <th></th>\n",
              "      <th>Unnamed: 0</th>\n",
              "      <th>artist</th>\n",
              "      <th>track</th>\n",
              "      <th>danceability</th>\n",
              "      <th>energy</th>\n",
              "      <th>key</th>\n",
              "      <th>loudness</th>\n",
              "      <th>mode</th>\n",
              "      <th>speechiness</th>\n",
              "      <th>acousticness</th>\n",
              "      <th>instrumentalness</th>\n",
              "      <th>liveness</th>\n",
              "      <th>valence</th>\n",
              "      <th>tempo</th>\n",
              "      <th>duration_ms</th>\n",
              "      <th>genres</th>\n",
              "      <th>popularity</th>\n",
              "      <th>genres_emb</th>\n",
              "      <th>emb_x</th>\n",
              "      <th>emb_y</th>\n",
              "      <th>emb_z</th>\n",
              "    </tr>\n",
              "  </thead>\n",
              "  <tbody>\n",
              "    <tr>\n",
              "      <th>0</th>\n",
              "      <td>0</td>\n",
              "      <td>坂本龍一</td>\n",
              "      <td>Composition 0919 (Live_2009_4_15)</td>\n",
              "      <td>0.806</td>\n",
              "      <td>0.413</td>\n",
              "      <td>5.0</td>\n",
              "      <td>-12.883</td>\n",
              "      <td>1.0</td>\n",
              "      <td>0.1560</td>\n",
              "      <td>0.987</td>\n",
              "      <td>0.794</td>\n",
              "      <td>0.1130</td>\n",
              "      <td>0.5290</td>\n",
              "      <td>105.089</td>\n",
              "      <td>330253.0</td>\n",
              "      <td>['japanese soundtrack', 'japanese classical', ...</td>\n",
              "      <td>62</td>\n",
              "      <td>[7.3752766  4.8944925  0.94349271]</td>\n",
              "      <td>7.375277</td>\n",
              "      <td>4.894493</td>\n",
              "      <td>0.943493</td>\n",
              "    </tr>\n",
              "    <tr>\n",
              "      <th>1</th>\n",
              "      <td>1</td>\n",
              "      <td>坂本龍一</td>\n",
              "      <td>Hibari (Live_2009_4_15)</td>\n",
              "      <td>0.604</td>\n",
              "      <td>0.283</td>\n",
              "      <td>9.0</td>\n",
              "      <td>-19.811</td>\n",
              "      <td>0.0</td>\n",
              "      <td>0.0583</td>\n",
              "      <td>0.996</td>\n",
              "      <td>0.916</td>\n",
              "      <td>0.1140</td>\n",
              "      <td>0.2700</td>\n",
              "      <td>137.802</td>\n",
              "      <td>540133.0</td>\n",
              "      <td>['japanese soundtrack', 'japanese classical', ...</td>\n",
              "      <td>62</td>\n",
              "      <td>[7.3752766  4.8944925  0.94349271]</td>\n",
              "      <td>7.375277</td>\n",
              "      <td>4.894493</td>\n",
              "      <td>0.943493</td>\n",
              "    </tr>\n",
              "    <tr>\n",
              "      <th>2</th>\n",
              "      <td>2</td>\n",
              "      <td>坂本龍一</td>\n",
              "      <td>To Stanford (Live_2009_4_15)</td>\n",
              "      <td>0.453</td>\n",
              "      <td>0.163</td>\n",
              "      <td>5.0</td>\n",
              "      <td>-20.922</td>\n",
              "      <td>1.0</td>\n",
              "      <td>0.0519</td>\n",
              "      <td>0.990</td>\n",
              "      <td>0.939</td>\n",
              "      <td>0.1010</td>\n",
              "      <td>0.0703</td>\n",
              "      <td>73.926</td>\n",
              "      <td>216853.0</td>\n",
              "      <td>['japanese indie folk', 'japanese soundtrack',...</td>\n",
              "      <td>39</td>\n",
              "      <td>[7.3752766  4.8944925  0.94349271]</td>\n",
              "      <td>7.375277</td>\n",
              "      <td>4.894493</td>\n",
              "      <td>0.943493</td>\n",
              "    </tr>\n",
              "    <tr>\n",
              "      <th>3</th>\n",
              "      <td>3</td>\n",
              "      <td>坂本龍一</td>\n",
              "      <td>Improvisation (Live_2009_4_15)</td>\n",
              "      <td>0.217</td>\n",
              "      <td>0.012</td>\n",
              "      <td>5.0</td>\n",
              "      <td>-36.464</td>\n",
              "      <td>1.0</td>\n",
              "      <td>0.0376</td>\n",
              "      <td>0.991</td>\n",
              "      <td>0.859</td>\n",
              "      <td>0.0866</td>\n",
              "      <td>0.0376</td>\n",
              "      <td>80.714</td>\n",
              "      <td>384707.0</td>\n",
              "      <td>['japanese soundtrack', 'japanese classical', ...</td>\n",
              "      <td>62</td>\n",
              "      <td>[7.3752766  4.8944925  0.94349271]</td>\n",
              "      <td>7.375277</td>\n",
              "      <td>4.894493</td>\n",
              "      <td>0.943493</td>\n",
              "    </tr>\n",
              "    <tr>\n",
              "      <th>4</th>\n",
              "      <td>4</td>\n",
              "      <td>坂本龍一</td>\n",
              "      <td>Glacier (Live_2009_4_15)</td>\n",
              "      <td>0.518</td>\n",
              "      <td>0.213</td>\n",
              "      <td>9.0</td>\n",
              "      <td>-28.790</td>\n",
              "      <td>0.0</td>\n",
              "      <td>0.2090</td>\n",
              "      <td>0.869</td>\n",
              "      <td>0.898</td>\n",
              "      <td>0.1030</td>\n",
              "      <td>0.0920</td>\n",
              "      <td>104.191</td>\n",
              "      <td>580707.0</td>\n",
              "      <td>['japanese soundtrack', 'japanese classical', ...</td>\n",
              "      <td>62</td>\n",
              "      <td>[7.3752766  4.8944925  0.94349271]</td>\n",
              "      <td>7.375277</td>\n",
              "      <td>4.894493</td>\n",
              "      <td>0.943493</td>\n",
              "    </tr>\n",
              "  </tbody>\n",
              "</table>\n",
              "</div>"
            ],
            "text/plain": [
              "   Unnamed: 0 artist  ...     emb_y     emb_z\n",
              "0           0   坂本龍一  ...  4.894493  0.943493\n",
              "1           1   坂本龍一  ...  4.894493  0.943493\n",
              "2           2   坂本龍一  ...  4.894493  0.943493\n",
              "3           3   坂本龍一  ...  4.894493  0.943493\n",
              "4           4   坂本龍一  ...  4.894493  0.943493\n",
              "\n",
              "[5 rows x 21 columns]"
            ]
          },
          "metadata": {
            "tags": []
          },
          "execution_count": 37
        }
      ]
    },
    {
      "cell_type": "code",
      "metadata": {
        "id": "greatest-invitation"
      },
      "source": [
        "# Load the dataset\n",
        "df = pd.read_table('lastfm-dataset-1K/userid-timestamp-artid-artname-traid-traname.tsv', lineterminator='\\n', warn_bad_lines=True, names=['user', 'timestamp', 'artist-id', 'artist', 'song-id', 'song'])\n",
        "df_profile = pd.read_csv('lastfm-dataset-1K/userid-profile.tsv', sep='\\t', error_bad_lines=False, warn_bad_lines=True, skiprows=1, names=['user', 'gender', 'age', 'country', 'signup'])"
      ],
      "id": "greatest-invitation",
      "execution_count": 38,
      "outputs": []
    },
    {
      "cell_type": "code",
      "metadata": {
        "id": "union-season"
      },
      "source": [
        "# Check if some songs share a common ID\n",
        "grouped = df[['song-id', 'song']].groupby(['song-id']).nunique()"
      ],
      "id": "union-season",
      "execution_count": 39,
      "outputs": []
    },
    {
      "cell_type": "code",
      "metadata": {
        "id": "aerial-damages"
      },
      "source": [
        "# Get rows with song names containing multiple rows\n",
        "duplicated = df.loc[df['song-id'].isin(grouped[grouped['song'] > 1].index)]\n",
        "duplicated = duplicated.drop(columns=['user', 'timestamp', 'artist', 'artist-id'])\n",
        "containis_extra_rows = duplicated.apply(lambda x: pd.Series({'id': x[0], 'song': x[1], 'flag':'\\n' in x[1]}), axis=1)\n",
        "containis_extra_rows = containis_extra_rows.loc[containis_extra_rows['flag']]"
      ],
      "id": "aerial-damages",
      "execution_count": 40,
      "outputs": []
    },
    {
      "cell_type": "code",
      "metadata": {
        "id": "smoking-vanilla"
      },
      "source": [
        "# Iterate over those 5k rows to get the extra rows and correct the song name\n",
        "for index, row in containis_extra_rows.iterrows():\n",
        "    row_break = row['song'].split('\\n', 1)\n",
        "    song_name = row_break[0]\n",
        "    df.loc[df['song-id'] == row['id'], 'song'] = song_name\n",
        "    \n",
        "    tsv = StringIO(row_break[1])\n",
        "    df_extra = pd.read_csv(tsv, sep=\"\\t\", warn_bad_lines=True, names=['user', 'timestamp', 'artist-id', 'artist', 'song-id', 'song'])\n",
        "    df = df.append(df_extra, ignore_index=True)"
      ],
      "id": "smoking-vanilla",
      "execution_count": 41,
      "outputs": []
    },
    {
      "cell_type": "markdown",
      "metadata": {
        "id": "green-cloud"
      },
      "source": [
        "### Fix names"
      ],
      "id": "green-cloud"
    },
    {
      "cell_type": "code",
      "metadata": {
        "id": "marked-return"
      },
      "source": [
        "# Check if some songs share a common ID\n",
        "grouped = df[['song-id', 'song']].groupby(['song-id']).nunique()"
      ],
      "id": "marked-return",
      "execution_count": 42,
      "outputs": []
    },
    {
      "cell_type": "code",
      "metadata": {
        "id": "developing-roots",
        "colab": {
          "base_uri": "https://localhost:8080/"
        },
        "outputId": "53dd2e57-e5b3-45d9-dadd-f3fe390245d6"
      },
      "source": [
        "# Check how many ids has more than 1 song name\n",
        "grouped[grouped['song'] > 1].shape[0]"
      ],
      "id": "developing-roots",
      "execution_count": 43,
      "outputs": [
        {
          "output_type": "execute_result",
          "data": {
            "text/plain": [
              "200"
            ]
          },
          "metadata": {
            "tags": []
          },
          "execution_count": 43
        }
      ]
    },
    {
      "cell_type": "code",
      "metadata": {
        "id": "million-deputy"
      },
      "source": [
        "ids_to_be_fixed = grouped[grouped['song'] > 1].index"
      ],
      "id": "million-deputy",
      "execution_count": 44,
      "outputs": []
    },
    {
      "cell_type": "code",
      "metadata": {
        "id": "compact-standing"
      },
      "source": [
        "df = df.set_index('song-id')"
      ],
      "id": "compact-standing",
      "execution_count": 45,
      "outputs": []
    },
    {
      "cell_type": "code",
      "metadata": {
        "id": "waiting-efficiency"
      },
      "source": [
        "map_to_fix = df.groupby(df.index)['song'].head(1)"
      ],
      "id": "waiting-efficiency",
      "execution_count": 46,
      "outputs": []
    },
    {
      "cell_type": "code",
      "metadata": {
        "id": "satellite-chile"
      },
      "source": [
        "df.loc[ids_to_be_fixed, 'song'] = df.loc[ids_to_be_fixed].reset_index()['song-id'].map(lambda x: map_to_fix[x])\n",
        "df = df.reset_index()"
      ],
      "id": "satellite-chile",
      "execution_count": 47,
      "outputs": []
    },
    {
      "cell_type": "markdown",
      "metadata": {
        "id": "experimental-canal"
      },
      "source": [
        "### Create matrix"
      ],
      "id": "experimental-canal"
    },
    {
      "cell_type": "code",
      "metadata": {
        "id": "approved-episode"
      },
      "source": [
        "matrix_init = df.groupby(['user', 'artist', 'song']).count()"
      ],
      "id": "approved-episode",
      "execution_count": 48,
      "outputs": []
    },
    {
      "cell_type": "code",
      "metadata": {
        "id": "streaming-platform"
      },
      "source": [
        "matrix_init = matrix_init['timestamp']"
      ],
      "id": "streaming-platform",
      "execution_count": 49,
      "outputs": []
    },
    {
      "cell_type": "code",
      "metadata": {
        "id": "wired-master"
      },
      "source": [
        "matrix_init = matrix_init.reset_index()"
      ],
      "id": "wired-master",
      "execution_count": 50,
      "outputs": []
    },
    {
      "cell_type": "code",
      "metadata": {
        "id": "peaceful-uzbekistan"
      },
      "source": [
        "def rating_scaler(row):\n",
        "    row_array = np.array(row)\n",
        "    a, new_range= 1, 4\n",
        "    min_, max_ = row_array.min(), row_array.max()\n",
        "    old_range = max_ - min_\n",
        "    \n",
        "    \n",
        "    scaled_row = (new_range * (row_array - min_)) / (old_range + 1e-6)  + a\n",
        "    return pd.Series(scaled_row)"
      ],
      "id": "peaceful-uzbekistan",
      "execution_count": 51,
      "outputs": []
    },
    {
      "cell_type": "code",
      "metadata": {
        "id": "sunrise-article"
      },
      "source": [
        "matrix_init_scaled = matrix_init.groupby('user')['timestamp'].apply(rating_scaler)"
      ],
      "id": "sunrise-article",
      "execution_count": 52,
      "outputs": []
    },
    {
      "cell_type": "code",
      "metadata": {
        "id": "promising-sussex"
      },
      "source": [
        "matrix_init['timestamp'] = matrix_init_scaled.reset_index()['timestamp']"
      ],
      "id": "promising-sussex",
      "execution_count": 53,
      "outputs": []
    },
    {
      "cell_type": "code",
      "metadata": {
        "id": "RegnknnLcdpr"
      },
      "source": [
        "feature_df_with_emb.head()\n",
        "feature_df_with_emb['item'] = feature_df_with_emb.apply(lambda row: row[1]+'-'+row[2], axis=1)"
      ],
      "id": "RegnknnLcdpr",
      "execution_count": 54,
      "outputs": []
    },
    {
      "cell_type": "markdown",
      "metadata": {
        "id": "working-dylan"
      },
      "source": [
        "### Merge data"
      ],
      "id": "working-dylan"
    },
    {
      "cell_type": "code",
      "metadata": {
        "id": "silent-present"
      },
      "source": [
        "matrix_init = matrix_init.rename({'timestamp':'rating', 'song':'track'}, axis=1)"
      ],
      "id": "silent-present",
      "execution_count": 55,
      "outputs": []
    },
    {
      "cell_type": "code",
      "metadata": {
        "id": "potential-replica"
      },
      "source": [
        "matrix_extended = matrix_init.merge(feature_df_with_emb, on=['artist', 'track'])"
      ],
      "id": "potential-replica",
      "execution_count": 56,
      "outputs": []
    },
    {
      "cell_type": "code",
      "metadata": {
        "id": "formal-token",
        "colab": {
          "base_uri": "https://localhost:8080/",
          "height": 666
        },
        "outputId": "8d044c77-ea5a-412b-d0d0-13374ced1f67"
      },
      "source": [
        "matrix_extended.head()"
      ],
      "id": "formal-token",
      "execution_count": 57,
      "outputs": [
        {
          "output_type": "execute_result",
          "data": {
            "text/html": [
              "<div>\n",
              "<style scoped>\n",
              "    .dataframe tbody tr th:only-of-type {\n",
              "        vertical-align: middle;\n",
              "    }\n",
              "\n",
              "    .dataframe tbody tr th {\n",
              "        vertical-align: top;\n",
              "    }\n",
              "\n",
              "    .dataframe thead th {\n",
              "        text-align: right;\n",
              "    }\n",
              "</style>\n",
              "<table border=\"1\" class=\"dataframe\">\n",
              "  <thead>\n",
              "    <tr style=\"text-align: right;\">\n",
              "      <th></th>\n",
              "      <th>user</th>\n",
              "      <th>artist</th>\n",
              "      <th>track</th>\n",
              "      <th>rating</th>\n",
              "      <th>Unnamed: 0</th>\n",
              "      <th>danceability</th>\n",
              "      <th>energy</th>\n",
              "      <th>key</th>\n",
              "      <th>loudness</th>\n",
              "      <th>mode</th>\n",
              "      <th>speechiness</th>\n",
              "      <th>acousticness</th>\n",
              "      <th>instrumentalness</th>\n",
              "      <th>liveness</th>\n",
              "      <th>valence</th>\n",
              "      <th>tempo</th>\n",
              "      <th>duration_ms</th>\n",
              "      <th>genres</th>\n",
              "      <th>popularity</th>\n",
              "      <th>genres_emb</th>\n",
              "      <th>emb_x</th>\n",
              "      <th>emb_y</th>\n",
              "      <th>emb_z</th>\n",
              "      <th>item</th>\n",
              "    </tr>\n",
              "  </thead>\n",
              "  <tbody>\n",
              "    <tr>\n",
              "      <th>0</th>\n",
              "      <td>user_000001</td>\n",
              "      <td>2562</td>\n",
              "      <td>Basin Dub</td>\n",
              "      <td>1.057971</td>\n",
              "      <td>1056</td>\n",
              "      <td>0.644</td>\n",
              "      <td>0.431</td>\n",
              "      <td>11.0</td>\n",
              "      <td>-7.676</td>\n",
              "      <td>1.0</td>\n",
              "      <td>0.206</td>\n",
              "      <td>0.0393</td>\n",
              "      <td>0.3</td>\n",
              "      <td>0.159</td>\n",
              "      <td>0.347</td>\n",
              "      <td>139.998</td>\n",
              "      <td>292769.0</td>\n",
              "      <td>['classic dubstep', 'future garage', 'bass mus...</td>\n",
              "      <td>19</td>\n",
              "      <td>[5.3110935  6.1038699  3.31327275]</td>\n",
              "      <td>5.311094</td>\n",
              "      <td>6.10387</td>\n",
              "      <td>3.313273</td>\n",
              "      <td>2562-Basin Dub</td>\n",
              "    </tr>\n",
              "    <tr>\n",
              "      <th>1</th>\n",
              "      <td>user_000451</td>\n",
              "      <td>2562</td>\n",
              "      <td>Basin Dub</td>\n",
              "      <td>1.045455</td>\n",
              "      <td>1056</td>\n",
              "      <td>0.644</td>\n",
              "      <td>0.431</td>\n",
              "      <td>11.0</td>\n",
              "      <td>-7.676</td>\n",
              "      <td>1.0</td>\n",
              "      <td>0.206</td>\n",
              "      <td>0.0393</td>\n",
              "      <td>0.3</td>\n",
              "      <td>0.159</td>\n",
              "      <td>0.347</td>\n",
              "      <td>139.998</td>\n",
              "      <td>292769.0</td>\n",
              "      <td>['classic dubstep', 'future garage', 'bass mus...</td>\n",
              "      <td>19</td>\n",
              "      <td>[5.3110935  6.1038699  3.31327275]</td>\n",
              "      <td>5.311094</td>\n",
              "      <td>6.10387</td>\n",
              "      <td>3.313273</td>\n",
              "      <td>2562-Basin Dub</td>\n",
              "    </tr>\n",
              "    <tr>\n",
              "      <th>2</th>\n",
              "      <td>user_000471</td>\n",
              "      <td>2562</td>\n",
              "      <td>Basin Dub</td>\n",
              "      <td>1.000000</td>\n",
              "      <td>1056</td>\n",
              "      <td>0.644</td>\n",
              "      <td>0.431</td>\n",
              "      <td>11.0</td>\n",
              "      <td>-7.676</td>\n",
              "      <td>1.0</td>\n",
              "      <td>0.206</td>\n",
              "      <td>0.0393</td>\n",
              "      <td>0.3</td>\n",
              "      <td>0.159</td>\n",
              "      <td>0.347</td>\n",
              "      <td>139.998</td>\n",
              "      <td>292769.0</td>\n",
              "      <td>['classic dubstep', 'future garage', 'bass mus...</td>\n",
              "      <td>19</td>\n",
              "      <td>[5.3110935  6.1038699  3.31327275]</td>\n",
              "      <td>5.311094</td>\n",
              "      <td>6.10387</td>\n",
              "      <td>3.313273</td>\n",
              "      <td>2562-Basin Dub</td>\n",
              "    </tr>\n",
              "    <tr>\n",
              "      <th>3</th>\n",
              "      <td>user_000508</td>\n",
              "      <td>2562</td>\n",
              "      <td>Basin Dub</td>\n",
              "      <td>1.166667</td>\n",
              "      <td>1056</td>\n",
              "      <td>0.644</td>\n",
              "      <td>0.431</td>\n",
              "      <td>11.0</td>\n",
              "      <td>-7.676</td>\n",
              "      <td>1.0</td>\n",
              "      <td>0.206</td>\n",
              "      <td>0.0393</td>\n",
              "      <td>0.3</td>\n",
              "      <td>0.159</td>\n",
              "      <td>0.347</td>\n",
              "      <td>139.998</td>\n",
              "      <td>292769.0</td>\n",
              "      <td>['classic dubstep', 'future garage', 'bass mus...</td>\n",
              "      <td>19</td>\n",
              "      <td>[5.3110935  6.1038699  3.31327275]</td>\n",
              "      <td>5.311094</td>\n",
              "      <td>6.10387</td>\n",
              "      <td>3.313273</td>\n",
              "      <td>2562-Basin Dub</td>\n",
              "    </tr>\n",
              "    <tr>\n",
              "      <th>4</th>\n",
              "      <td>user_000515</td>\n",
              "      <td>2562</td>\n",
              "      <td>Basin Dub</td>\n",
              "      <td>1.027586</td>\n",
              "      <td>1056</td>\n",
              "      <td>0.644</td>\n",
              "      <td>0.431</td>\n",
              "      <td>11.0</td>\n",
              "      <td>-7.676</td>\n",
              "      <td>1.0</td>\n",
              "      <td>0.206</td>\n",
              "      <td>0.0393</td>\n",
              "      <td>0.3</td>\n",
              "      <td>0.159</td>\n",
              "      <td>0.347</td>\n",
              "      <td>139.998</td>\n",
              "      <td>292769.0</td>\n",
              "      <td>['classic dubstep', 'future garage', 'bass mus...</td>\n",
              "      <td>19</td>\n",
              "      <td>[5.3110935  6.1038699  3.31327275]</td>\n",
              "      <td>5.311094</td>\n",
              "      <td>6.10387</td>\n",
              "      <td>3.313273</td>\n",
              "      <td>2562-Basin Dub</td>\n",
              "    </tr>\n",
              "  </tbody>\n",
              "</table>\n",
              "</div>"
            ],
            "text/plain": [
              "          user artist      track  ...    emb_y     emb_z            item\n",
              "0  user_000001   2562  Basin Dub  ...  6.10387  3.313273  2562-Basin Dub\n",
              "1  user_000451   2562  Basin Dub  ...  6.10387  3.313273  2562-Basin Dub\n",
              "2  user_000471   2562  Basin Dub  ...  6.10387  3.313273  2562-Basin Dub\n",
              "3  user_000508   2562  Basin Dub  ...  6.10387  3.313273  2562-Basin Dub\n",
              "4  user_000515   2562  Basin Dub  ...  6.10387  3.313273  2562-Basin Dub\n",
              "\n",
              "[5 rows x 24 columns]"
            ]
          },
          "metadata": {
            "tags": []
          },
          "execution_count": 57
        }
      ]
    },
    {
      "cell_type": "markdown",
      "metadata": {
        "id": "w-BObyTK8dft"
      },
      "source": [
        "### Filter the dataset"
      ],
      "id": "w-BObyTK8dft"
    },
    {
      "cell_type": "code",
      "metadata": {
        "colab": {
          "base_uri": "https://localhost:8080/"
        },
        "id": "bmxgAsts8dSB",
        "outputId": "be9c172e-dea0-4372-b307-c73334747b87"
      },
      "source": [
        "matrix_extended.groupby('user').count()['rating'].describe()"
      ],
      "id": "bmxgAsts8dSB",
      "execution_count": 30,
      "outputs": [
        {
          "output_type": "execute_result",
          "data": {
            "text/plain": [
              "count      992.000000\n",
              "mean      4367.426411\n",
              "std       5152.289753\n",
              "min          1.000000\n",
              "25%       1265.500000\n",
              "50%       2945.000000\n",
              "75%       5524.500000\n",
              "max      65246.000000\n",
              "Name: rating, dtype: float64"
            ]
          },
          "metadata": {
            "tags": []
          },
          "execution_count": 30
        }
      ]
    },
    {
      "cell_type": "code",
      "metadata": {
        "colab": {
          "base_uri": "https://localhost:8080/",
          "height": 265
        },
        "id": "RVJT_7Qi8cyB",
        "outputId": "1cd6dbd5-7ead-489a-bc45-1d4cdc58b1bd"
      },
      "source": [
        "matrix_extended.groupby('user').count()['rating'].plot.hist()\n",
        "plt.yscale('log')\n",
        "plt.show()"
      ],
      "id": "RVJT_7Qi8cyB",
      "execution_count": 58,
      "outputs": [
        {
          "output_type": "display_data",
          "data": {
            "image/png": "[encoded data removed]",
            "text/plain": [
              "<Figure size 432x288 with 1 Axes>"
            ]
          },
          "metadata": {
            "tags": [],
            "needs_background": "light"
          }
        }
      ]
    },
    {
      "cell_type": "code",
      "metadata": {
        "id": "u9l3wRhoGL4i",
        "outputId": "4381fd10-f4ce-4940-b312-016d017e96c9",
        "colab": {
          "base_uri": "https://localhost:8080/"
        }
      },
      "source": [
        "matrix_extended.groupby('item').count()['rating'].describe()"
      ],
      "id": "u9l3wRhoGL4i",
      "execution_count": 60,
      "outputs": [
        {
          "output_type": "execute_result",
          "data": {
            "text/plain": [
              "count    929536.000000\n",
              "mean          4.660914\n",
              "std          10.819621\n",
              "min           1.000000\n",
              "25%           1.000000\n",
              "50%           2.000000\n",
              "75%           4.000000\n",
              "max         346.000000\n",
              "Name: rating, dtype: float64"
            ]
          },
          "metadata": {
            "tags": []
          },
          "execution_count": 60
        }
      ]
    },
    {
      "cell_type": "code",
      "metadata": {
        "colab": {
          "base_uri": "https://localhost:8080/",
          "height": 265
        },
        "id": "EGlGtGXN8cPj",
        "outputId": "51ab1e1b-08d6-4fd5-8f69-866420f75d50"
      },
      "source": [
        "matrix_extended.groupby('item').count()['rating'].plot.hist()\n",
        "plt.yscale('log')\n",
        "plt.show()"
      ],
      "id": "EGlGtGXN8cPj",
      "execution_count": 59,
      "outputs": [
        {
          "output_type": "display_data",
          "data": {
            "image/png": "[encoded data removed]",
            "text/plain": [
              "<Figure size 432x288 with 1 Axes>"
            ]
          },
          "metadata": {
            "tags": [],
            "needs_background": "light"
          }
        }
      ]
    },
    {
      "cell_type": "code",
      "metadata": {
        "colab": {
          "base_uri": "https://localhost:8080/",
          "height": 265
        },
        "id": "O3Mpjco08cCg",
        "outputId": "3760329a-6705-4bb2-8bcc-27375b0dd4a9"
      },
      "source": [
        "matrix_extended['rating'].plot.hist()\n",
        "plt.yscale('log')\n",
        "plt.show()"
      ],
      "id": "O3Mpjco08cCg",
      "execution_count": 61,
      "outputs": [
        {
          "output_type": "display_data",
          "data": {
            "image/png": "[encoded data removed]",
            "text/plain": [
              "<Figure size 432x288 with 1 Axes>"
            ]
          },
          "metadata": {
            "tags": [],
            "needs_background": "light"
          }
        }
      ]
    },
    {
      "cell_type": "code",
      "metadata": {
        "id": "06x7G_3cGW2J"
      },
      "source": [
        "items_app = matrix_extended.groupby('item').count()['rating']\n",
        "items_app = items_app.loc[items_app > 3.99].index\n",
        "matrix_sampled = matrix_extended.copy()\n",
        "matrix_sampled = matrix_sampled.set_index('item')\n",
        "matrix_sampled = matrix_sampled.loc[items_app]\n",
        "matrix_sampled = matrix_sampled.reset_index()\n",
        "matrix_sampled = matrix_sampled.sample(frac=1)"
      ],
      "id": "06x7G_3cGW2J",
      "execution_count": 71,
      "outputs": []
    },
    {
      "cell_type": "code",
      "metadata": {
        "id": "x9MFL9ZoIB-n",
        "outputId": "a2ac48b3-2cf5-4c66-c4da-165aafc991d7",
        "colab": {
          "base_uri": "https://localhost:8080/"
        }
      },
      "source": [
        "matrix_sampled.groupby('item').count()['rating'].describe()"
      ],
      "id": "x9MFL9ZoIB-n",
      "execution_count": 72,
      "outputs": [
        {
          "output_type": "execute_result",
          "data": {
            "text/plain": [
              "count    246166.000000\n",
              "mean         13.687402\n",
              "std          18.169400\n",
              "min           4.000000\n",
              "25%           5.000000\n",
              "50%           8.000000\n",
              "75%          15.000000\n",
              "max         346.000000\n",
              "Name: rating, dtype: float64"
            ]
          },
          "metadata": {
            "tags": []
          },
          "execution_count": 72
        }
      ]
    },
    {
      "cell_type": "markdown",
      "metadata": {
        "id": "tribal-batch"
      },
      "source": [
        "### Sample Users"
      ],
      "id": "tribal-batch"
    },
    {
      "cell_type": "code",
      "metadata": {
        "id": "YRKwgOyJdfQb"
      },
      "source": [
        "# no_users = 200\n",
        "# users_list = matrix_extended.user.unique()\n",
        "# users_sampled = np.random.choice(users_list, replace=False, size=no_users)\n",
        "# matrix_sampled = matrix_extended.copy()\n",
        "# matrix_sampled = matrix_sampled.set_index('user')\n",
        "# matrix_sampled = matrix_sampled.loc[users_sampled]\n",
        "# matrix_sampled = matrix_sampled.reset_index()\n",
        "# matrix_sampled = matrix_sampled.sample(frac=1)\n",
        "# matrix_sampled['item'] = matrix_sampled.apply(lambda row: row[1]+'-'+row[2], axis=1)"
      ],
      "id": "YRKwgOyJdfQb",
      "execution_count": 73,
      "outputs": []
    },
    {
      "cell_type": "code",
      "metadata": {
        "id": "yRJeB1Y_hPM0",
        "colab": {
          "base_uri": "https://localhost:8080/",
          "height": 615
        },
        "outputId": "fe2d3f65-be4a-4d9d-9e52-5a37e4961851"
      },
      "source": [
        "matrix_sampled.head()"
      ],
      "id": "yRJeB1Y_hPM0",
      "execution_count": 74,
      "outputs": [
        {
          "output_type": "execute_result",
          "data": {
            "text/html": [
              "<div>\n",
              "<style scoped>\n",
              "    .dataframe tbody tr th:only-of-type {\n",
              "        vertical-align: middle;\n",
              "    }\n",
              "\n",
              "    .dataframe tbody tr th {\n",
              "        vertical-align: top;\n",
              "    }\n",
              "\n",
              "    .dataframe thead th {\n",
              "        text-align: right;\n",
              "    }\n",
              "</style>\n",
              "<table border=\"1\" class=\"dataframe\">\n",
              "  <thead>\n",
              "    <tr style=\"text-align: right;\">\n",
              "      <th></th>\n",
              "      <th>item</th>\n",
              "      <th>user</th>\n",
              "      <th>artist</th>\n",
              "      <th>track</th>\n",
              "      <th>rating</th>\n",
              "      <th>Unnamed: 0</th>\n",
              "      <th>danceability</th>\n",
              "      <th>energy</th>\n",
              "      <th>key</th>\n",
              "      <th>loudness</th>\n",
              "      <th>mode</th>\n",
              "      <th>speechiness</th>\n",
              "      <th>acousticness</th>\n",
              "      <th>instrumentalness</th>\n",
              "      <th>liveness</th>\n",
              "      <th>valence</th>\n",
              "      <th>tempo</th>\n",
              "      <th>duration_ms</th>\n",
              "      <th>genres</th>\n",
              "      <th>popularity</th>\n",
              "      <th>genres_emb</th>\n",
              "      <th>emb_x</th>\n",
              "      <th>emb_y</th>\n",
              "      <th>emb_z</th>\n",
              "    </tr>\n",
              "  </thead>\n",
              "  <tbody>\n",
              "    <tr>\n",
              "      <th>1904276</th>\n",
              "      <td>Neko Case-That Teenage Feeling</td>\n",
              "      <td>user_000474</td>\n",
              "      <td>Neko Case</td>\n",
              "      <td>That Teenage Feeling</td>\n",
              "      <td>1.000000</td>\n",
              "      <td>65049</td>\n",
              "      <td>0.459</td>\n",
              "      <td>0.672</td>\n",
              "      <td>0.0</td>\n",
              "      <td>-4.673</td>\n",
              "      <td>1.0</td>\n",
              "      <td>0.0265</td>\n",
              "      <td>0.810</td>\n",
              "      <td>0.000466</td>\n",
              "      <td>0.0630</td>\n",
              "      <td>0.184</td>\n",
              "      <td>98.309</td>\n",
              "      <td>162933.0</td>\n",
              "      <td>['new americana', 'canadian indie', 'stomp and...</td>\n",
              "      <td>53</td>\n",
              "      <td>[5.33030975 8.4502195  1.4512068 ]</td>\n",
              "      <td>5.330310</td>\n",
              "      <td>8.450220</td>\n",
              "      <td>1.451207</td>\n",
              "    </tr>\n",
              "    <tr>\n",
              "      <th>2619633</th>\n",
              "      <td>T-Pain-My Place</td>\n",
              "      <td>user_000869</td>\n",
              "      <td>T-Pain</td>\n",
              "      <td>My Place</td>\n",
              "      <td>1.000000</td>\n",
              "      <td>452256</td>\n",
              "      <td>0.754</td>\n",
              "      <td>0.258</td>\n",
              "      <td>6.0</td>\n",
              "      <td>-13.883</td>\n",
              "      <td>1.0</td>\n",
              "      <td>0.0680</td>\n",
              "      <td>0.199</td>\n",
              "      <td>0.000000</td>\n",
              "      <td>0.0762</td>\n",
              "      <td>0.538</td>\n",
              "      <td>121.950</td>\n",
              "      <td>219973.0</td>\n",
              "      <td>['rap', 'dance pop', 'southern hip hop', 'pop'...</td>\n",
              "      <td>83</td>\n",
              "      <td>[4.7759564 7.6096121 3.8800874]</td>\n",
              "      <td>4.775956</td>\n",
              "      <td>7.609612</td>\n",
              "      <td>3.880087</td>\n",
              "    </tr>\n",
              "    <tr>\n",
              "      <th>683591</th>\n",
              "      <td>Dashboard Confessional-Little Bombs</td>\n",
              "      <td>user_000610</td>\n",
              "      <td>Dashboard Confessional</td>\n",
              "      <td>Little Bombs</td>\n",
              "      <td>1.032086</td>\n",
              "      <td>290021</td>\n",
              "      <td>0.497</td>\n",
              "      <td>0.451</td>\n",
              "      <td>1.0</td>\n",
              "      <td>-6.407</td>\n",
              "      <td>1.0</td>\n",
              "      <td>0.0293</td>\n",
              "      <td>0.155</td>\n",
              "      <td>0.000000</td>\n",
              "      <td>0.1270</td>\n",
              "      <td>0.736</td>\n",
              "      <td>147.889</td>\n",
              "      <td>152453.0</td>\n",
              "      <td>['neo mellow', 'pop punk', 'pop rock', 'emo']</td>\n",
              "      <td>62</td>\n",
              "      <td>[6.08791385 9.376354   0.68443023]</td>\n",
              "      <td>6.087914</td>\n",
              "      <td>9.376354</td>\n",
              "      <td>0.684430</td>\n",
              "    </tr>\n",
              "    <tr>\n",
              "      <th>2874244</th>\n",
              "      <td>The Jeff Healey Band-See The Light</td>\n",
              "      <td>user_000016</td>\n",
              "      <td>The Jeff Healey Band</td>\n",
              "      <td>See The Light</td>\n",
              "      <td>1.000000</td>\n",
              "      <td>48500</td>\n",
              "      <td>0.413</td>\n",
              "      <td>0.971</td>\n",
              "      <td>7.0</td>\n",
              "      <td>-5.746</td>\n",
              "      <td>1.0</td>\n",
              "      <td>0.1250</td>\n",
              "      <td>0.111</td>\n",
              "      <td>0.000145</td>\n",
              "      <td>0.3320</td>\n",
              "      <td>0.294</td>\n",
              "      <td>111.938</td>\n",
              "      <td>266933.0</td>\n",
              "      <td>['classic rock', 'electric blues', 'blues rock...</td>\n",
              "      <td>51</td>\n",
              "      <td>[4.528097   7.4739348  0.31085599]</td>\n",
              "      <td>4.528097</td>\n",
              "      <td>7.473935</td>\n",
              "      <td>0.310856</td>\n",
              "    </tr>\n",
              "    <tr>\n",
              "      <th>1755774</th>\n",
              "      <td>Michael Jackson-The Lady In My Life</td>\n",
              "      <td>user_000753</td>\n",
              "      <td>Michael Jackson</td>\n",
              "      <td>The Lady In My Life</td>\n",
              "      <td>1.666667</td>\n",
              "      <td>27538</td>\n",
              "      <td>0.662</td>\n",
              "      <td>0.344</td>\n",
              "      <td>9.0</td>\n",
              "      <td>-13.930</td>\n",
              "      <td>0.0</td>\n",
              "      <td>0.0487</td>\n",
              "      <td>0.369</td>\n",
              "      <td>0.000109</td>\n",
              "      <td>0.0589</td>\n",
              "      <td>0.436</td>\n",
              "      <td>146.016</td>\n",
              "      <td>300107.0</td>\n",
              "      <td>['soul', 'pop', 'r&amp;b']</td>\n",
              "      <td>86</td>\n",
              "      <td>[4.87803435 7.56763685 3.7876339 ]</td>\n",
              "      <td>4.878034</td>\n",
              "      <td>7.567637</td>\n",
              "      <td>3.787634</td>\n",
              "    </tr>\n",
              "  </tbody>\n",
              "</table>\n",
              "</div>"
            ],
            "text/plain": [
              "                                        item         user  ...     emb_y     emb_z\n",
              "1904276       Neko Case-That Teenage Feeling  user_000474  ...  8.450220  1.451207\n",
              "2619633                      T-Pain-My Place  user_000869  ...  7.609612  3.880087\n",
              "683591   Dashboard Confessional-Little Bombs  user_000610  ...  9.376354  0.684430\n",
              "2874244   The Jeff Healey Band-See The Light  user_000016  ...  7.473935  0.310856\n",
              "1755774  Michael Jackson-The Lady In My Life  user_000753  ...  7.567637  3.787634\n",
              "\n",
              "[5 rows x 24 columns]"
            ]
          },
          "metadata": {
            "tags": []
          },
          "execution_count": 74
        }
      ]
    },
    {
      "cell_type": "code",
      "metadata": {
        "id": "GlgOyabZiDQ7"
      },
      "source": [
        "matrix_sampled['user_id'] = matrix_sampled['user'].astype('category').cat.codes\n",
        "matrix_sampled['item_id'] = matrix_sampled['item'].astype('category').cat.codes"
      ],
      "id": "GlgOyabZiDQ7",
      "execution_count": 75,
      "outputs": []
    },
    {
      "cell_type": "code",
      "metadata": {
        "id": "lyric-crash"
      },
      "source": [
        "X = matrix_sampled[['user_id', \n",
        "              'item_id',\n",
        "              'danceability',\n",
        "              'energy',\n",
        "              'speechiness', \n",
        "              'acousticness', \n",
        "              'instrumentalness', \n",
        "              'liveness',\n",
        "              'valence', \n",
        "              'tempo', \n",
        "              'popularity', \n",
        "              'emb_x', \n",
        "              'emb_y',\n",
        "              'emb_z']]\n",
        "y = matrix_sampled['rating']\n",
        "groups = matrix_sampled['user_id']"
      ],
      "id": "lyric-crash",
      "execution_count": 76,
      "outputs": []
    },
    {
      "cell_type": "code",
      "metadata": {
        "id": "divine-boston"
      },
      "source": [
        "# Change splitting to be by index using https://stackoverflow.com/questions/53490497/getting-validation-set-from-train-set-by-using-percentage-from-groupby-in-pand\n",
        "X_train, X_test, y_train, y_test = train_test_split(X, y, test_size=0.2, stratify=groups)"
      ],
      "id": "divine-boston",
      "execution_count": 77,
      "outputs": []
    },
    {
      "cell_type": "code",
      "metadata": {
        "id": "organic-irish"
      },
      "source": [
        "no_users, no_items, no_factors = matrix_sampled['user_id'].nunique(), matrix_sampled['item_id'].nunique(), 100"
      ],
      "id": "organic-irish",
      "execution_count": 78,
      "outputs": []
    },
    {
      "cell_type": "code",
      "metadata": {
        "id": "BzGeolQgIrYM",
        "outputId": "40af2b69-10b6-49e7-cad8-5aacb55f4fb0",
        "colab": {
          "base_uri": "https://localhost:8080/"
        }
      },
      "source": [
        "no_users"
      ],
      "id": "BzGeolQgIrYM",
      "execution_count": 79,
      "outputs": [
        {
          "output_type": "execute_result",
          "data": {
            "text/plain": [
              "991"
            ]
          },
          "metadata": {
            "tags": []
          },
          "execution_count": 79
        }
      ]
    },
    {
      "cell_type": "code",
      "metadata": {
        "id": "oK5iQ0TdIssx",
        "outputId": "ef13fe8b-0322-4870-94ab-3d261b59d5e0",
        "colab": {
          "base_uri": "https://localhost:8080/"
        }
      },
      "source": [
        "no_items"
      ],
      "id": "oK5iQ0TdIssx",
      "execution_count": 80,
      "outputs": [
        {
          "output_type": "execute_result",
          "data": {
            "text/plain": [
              "246166"
            ]
          },
          "metadata": {
            "tags": []
          },
          "execution_count": 80
        }
      ]
    },
    {
      "cell_type": "markdown",
      "metadata": {
        "id": "super-dynamics"
      },
      "source": [
        "### Models"
      ],
      "id": "super-dynamics"
    },
    {
      "cell_type": "code",
      "metadata": {
        "id": "guilty-louisiana"
      },
      "source": [
        "def create_shallow_model(no_factors, no_users, no_items):\n",
        "    # User branch\n",
        "    user_id = tf.keras.layers.Input(shape=[1], name='user_id')\n",
        "    user_matrix = tf.keras.layers.Embedding(no_users+1, no_factors, name='user_matrix')(user_id)\n",
        "    user_vector = tf.keras.layers.Flatten(name='user_vector')(user_matrix)\n",
        "    # Item branch\n",
        "    item_id = tf.keras.layers.Input(shape=[1], name='item_id')\n",
        "    item_matrix = tf.keras.layers.Embedding(no_items+1, no_factors, name='item_matrix')(item_id)\n",
        "    item_vector = tf.keras.layers.Flatten(name='item_vector')(item_matrix)\n",
        "    # Dot product \n",
        "    vectors_product = tf.keras.layers.dot([user_vector, item_vector], axes=1, normalize=False)\n",
        "    # Model definition\n",
        "    model = tf.keras.models.Model(inputs=[user_id, item_id], outputs=[vectors_product], name='shallow_model')\n",
        "    return model"
      ],
      "id": "guilty-louisiana",
      "execution_count": 81,
      "outputs": []
    },
    {
      "cell_type": "code",
      "metadata": {
        "id": "needed-energy"
      },
      "source": [
        "model = create_shallow_model(no_factors, no_users, no_items)"
      ],
      "id": "needed-energy",
      "execution_count": 82,
      "outputs": []
    },
    {
      "cell_type": "code",
      "metadata": {
        "id": "concrete-mediterranean",
        "colab": {
          "base_uri": "https://localhost:8080/"
        },
        "outputId": "d5bd7422-fac2-4d3a-a800-1c3e7f7bb06c"
      },
      "source": [
        "model.summary()"
      ],
      "id": "concrete-mediterranean",
      "execution_count": 83,
      "outputs": [
        {
          "output_type": "stream",
          "text": [
            "Model: \"shallow_model\"\n",
            "__________________________________________________________________________________________________\n",
            "Layer (type)                    Output Shape         Param #     Connected to                     \n",
            "==================================================================================================\n",
            "user_id (InputLayer)            [(None, 1)]          0                                            \n",
            "__________________________________________________________________________________________________\n",
            "item_id (InputLayer)            [(None, 1)]          0                                            \n",
            "__________________________________________________________________________________________________\n",
            "user_matrix (Embedding)         (None, 1, 100)       99200       user_id[0][0]                    \n",
            "__________________________________________________________________________________________________\n",
            "item_matrix (Embedding)         (None, 1, 100)       24616700    item_id[0][0]                    \n",
            "__________________________________________________________________________________________________\n",
            "user_vector (Flatten)           (None, 100)          0           user_matrix[0][0]                \n",
            "__________________________________________________________________________________________________\n",
            "item_vector (Flatten)           (None, 100)          0           item_matrix[0][0]                \n",
            "__________________________________________________________________________________________________\n",
            "dot (Dot)                       (None, 1)            0           user_vector[0][0]                \n",
            "                                                                 item_vector[0][0]                \n",
            "==================================================================================================\n",
            "Total params: 24,715,900\n",
            "Trainable params: 24,715,900\n",
            "Non-trainable params: 0\n",
            "__________________________________________________________________________________________________\n"
          ],
          "name": "stdout"
        }
      ]
    },
    {
      "cell_type": "code",
      "metadata": {
        "id": "million-delaware"
      },
      "source": [
        "def create_deep_model(no_factors, no_users, no_items):\n",
        "    # User branch\n",
        "    user_id = tf.keras.layers.Input(shape=[1], name='user_id')\n",
        "    user_matrix = tf.keras.layers.Embedding(no_users+1, no_factors, name='user_matrix')(user_id)\n",
        "    user_vector = tf.keras.layers.Flatten(name='user_vector')(user_matrix)\n",
        "    # Item branch\n",
        "    item_id = tf.keras.layers.Input(shape=[1], name='item_id')\n",
        "    item_matrix = tf.keras.layers.Embedding(no_items+1, no_factors, name='item_matrix')(item_id)\n",
        "    item_vector = tf.keras.layers.Flatten(name='item_vector')(item_matrix)\n",
        "    # Concantenation\n",
        "    vectors_concat = tf.keras.layers.Concatenate()([user_vector, item_vector])\n",
        "    vectors_concat_dropout = tf.keras.layers.Dropout(0.2)(vectors_concat)\n",
        "    # Backbone \n",
        "    dense_1 = tf.keras.layers.Dense(16,name='fc3')(vectors_concat_dropout)\n",
        "    dropout_1 = tf.keras.layers.Dropout(0.2,name='d3')(dense_1)\n",
        "    dense_2 = tf.keras.layers.Dense(8,name='fc4', activation='relu')(dropout_1)\n",
        "    dense_2_output = tf.keras.layers.Dense(1, activation='relu', name='activation')(dense_2)\n",
        "    # Model definition\n",
        "    model = tf.keras.models.Model(inputs=[user_id, item_id], outputs=[dense_2_output], name='deep_model')\n",
        "    return model"
      ],
      "id": "million-delaware",
      "execution_count": 87,
      "outputs": []
    },
    {
      "cell_type": "code",
      "metadata": {
        "id": "canadian-boulder"
      },
      "source": [
        "model = create_deep_model(no_factors, no_users, no_items)"
      ],
      "id": "canadian-boulder",
      "execution_count": 88,
      "outputs": []
    },
    {
      "cell_type": "markdown",
      "metadata": {
        "id": "minute-manual"
      },
      "source": [
        "### Model training"
      ],
      "id": "minute-manual"
    },
    {
      "cell_type": "code",
      "metadata": {
        "id": "confident-conviction",
        "colab": {
          "base_uri": "https://localhost:8080/"
        },
        "outputId": "454a743e-105d-4196-afb3-e530b2a0516a"
      },
      "source": [
        "# Input-output data definition\n",
        "X_train_arr = [X_train.user_id, X_train.item_id]\n",
        "\n",
        "# Model creation\n",
        "model = create_deep_model(no_factors, no_users, no_items)\n",
        "\n",
        "# Model compiling \n",
        "model.compile(loss=tf.keras.losses.MeanSquaredError())\n",
        "\n",
        "# Model training\n",
        "model.fit(X_train_arr, y_train, epochs=10, batch_size=2048, shuffle=True)"
      ],
      "id": "confident-conviction",
      "execution_count": null,
      "outputs": [
        {
          "output_type": "stream",
          "text": [
            "Epoch 1/10\n",
            " 418/1317 [========>.....................] - ETA: 1:39 - loss: 0.1418"
          ],
          "name": "stdout"
        }
      ]
    },
    {
      "cell_type": "markdown",
      "metadata": {
        "id": "separate-magic"
      },
      "source": [
        "### Prediction"
      ],
      "id": "separate-magic"
    },
    {
      "cell_type": "code",
      "metadata": {
        "id": "atlantic-maria"
      },
      "source": [
        "# Predictions in the training set\n",
        "# X_train = [X_train.user_id, X_train.item_id]\n",
        "y_train_pred = model.predict(X_train_arr, batch_size=2048)"
      ],
      "id": "atlantic-maria",
      "execution_count": null,
      "outputs": []
    },
    {
      "cell_type": "code",
      "metadata": {
        "id": "6IC4nrL_tcJ6"
      },
      "source": [
        "X_test.head()"
      ],
      "id": "6IC4nrL_tcJ6",
      "execution_count": null,
      "outputs": []
    },
    {
      "cell_type": "code",
      "metadata": {
        "id": "smoking-apparel"
      },
      "source": [
        "# Predictions in the test set\n",
        "X_test_arr = [X_test.user_id, X_test.item_id]\n",
        "y_test_pred = model.predict(X_test_arr, batch_size=2048)"
      ],
      "id": "smoking-apparel",
      "execution_count": null,
      "outputs": []
    },
    {
      "cell_type": "markdown",
      "metadata": {
        "id": "single-gospel"
      },
      "source": [
        "### Evaluation"
      ],
      "id": "single-gospel"
    },
    {
      "cell_type": "code",
      "metadata": {
        "id": "hired-webcam"
      },
      "source": [
        "from sklearn.metrics import mean_squared_error\n",
        "print('Train RMSE:', mean_squared_error(y_train.values, y_train_pred, squared=False))\n",
        "print('Test RMSE:', mean_squared_error(y_test.values, y_test_pred, squared=False))"
      ],
      "id": "hired-webcam",
      "execution_count": null,
      "outputs": []
    },
    {
      "cell_type": "code",
      "metadata": {
        "id": "honest-globe"
      },
      "source": [
        "def precision_at_k(model, pred_func, train_ratings, test_ratings, no_users, no_items, k=5):\n",
        "    precisions = []\n",
        "    # For each user\n",
        "    for user_id, user_test_rating in tqdm(test_ratings.groupby('user_id')):\n",
        "        # Retrieve already-seen items\n",
        "        train_pids = train_ratings[train_ratings['user_id'] == user_id]['item_id'].values\n",
        "        # Retrieve the unseen items\n",
        "        user_df = test_ratings[(test_ratings['user_id'] == user_id)]\n",
        "        test_pids = user_df['item_id'].values\n",
        "        relevant_pids = set(user_df.loc[user_df['rating'] > 1, 'item_id'].values)\n",
        "        if len(relevant_pids) == 0:\n",
        "          continue\n",
        "        # Create testing dataframe\n",
        "        test_df = pd.DataFrame({'user_id': user_id, 'item_id': test_pids})\n",
        "        test_set = [test_df.user_id, test_df.item_id]\n",
        "        # Make rating predictions for all items for that user\n",
        "        predictions = model.predict(test_set, batch_size=2048)\n",
        "        # predictions = pred_func(model, user_id, pid_array, train_ratings)\n",
        "        predictions = predictions.reshape(-1)\n",
        "        # Sort the items and het the top k\n",
        "        top_k = np.argsort(predictions)[:k]\n",
        "        top_k_items = set(np.array(test_pids)[top_k])\n",
        "        # Compute precision as per definition\n",
        "        precisions.append(len(top_k_items & relevant_pids) / float(k))\n",
        "    return precisions"
      ],
      "id": "honest-globe",
      "execution_count": null,
      "outputs": []
    },
    {
      "cell_type": "code",
      "metadata": {
        "id": "committed-trunk"
      },
      "source": [
        "X_train_arr = np.array(X_train_arr)\n",
        "X_test_arr = np.array(X_test_arr)"
      ],
      "id": "committed-trunk",
      "execution_count": null,
      "outputs": []
    },
    {
      "cell_type": "code",
      "metadata": {
        "id": "modern-denmark"
      },
      "source": [
        "train_ratings = pd.DataFrame({'user_id': X_train_arr[0, :], 'item_id':X_train_arr[1, :], 'rating': y_train})\n",
        "test_ratings = pd.DataFrame({'user_id': X_test_arr[0, :], 'item_id':X_test_arr[1, :], 'rating': y_test})"
      ],
      "id": "modern-denmark",
      "execution_count": null,
      "outputs": []
    },
    {
      "cell_type": "code",
      "metadata": {
        "id": "asian-divide"
      },
      "source": [
        "precisions = precision_at_k(model, predict_from_latent, train_ratings, test_ratings, no_users, no_items, k=10)"
      ],
      "id": "asian-divide",
      "execution_count": null,
      "outputs": []
    },
    {
      "cell_type": "code",
      "metadata": {
        "id": "muslim-sphere"
      },
      "source": [
        "np.mean(precisions), np.std(precisions)"
      ],
      "id": "muslim-sphere",
      "execution_count": null,
      "outputs": []
    },
    {
      "cell_type": "code",
      "metadata": {
        "id": "SV17MaZa3ss5"
      },
      "source": [
        "(test_ratings.groupby('user_id').count())['item_id'].mean()"
      ],
      "id": "SV17MaZa3ss5",
      "execution_count": null,
      "outputs": []
    },
    {
      "cell_type": "code",
      "metadata": {
        "colab": {
          "base_uri": "https://localhost:8080/"
        },
        "id": "vEDcnIvQ4CYY",
        "outputId": "e270d8e5-6699-4a95-a50a-6585c96d7bc8"
      },
      "source": [
        "np.array(test_pids)[top_k[:10]]"
      ],
      "id": "vEDcnIvQ4CYY",
      "execution_count": 268,
      "outputs": [
        {
          "output_type": "execute_result",
          "data": {
            "text/plain": [
              "array([ 60493,   3390, 155070, 217176, 236222,  84621,  55342,  71947,\n",
              "        61432, 109592], dtype=int32)"
            ]
          },
          "metadata": {
            "tags": []
          },
          "execution_count": 268
        }
      ]
    },
    {
      "cell_type": "code",
      "metadata": {
        "id": "cosmetic-enhancement"
      },
      "source": [
        "### EXERCISE CELL ###\n",
        "def recall_at_k(model, pred_func, train_ratings, test_ratings, no_users, no_items, k=100):\n",
        "    recalls = []\n",
        "    for user_id, user_test_rating in tqdm(test_ratings.groupby('user_id')):\n",
        "        # Retrieve already-seen items\n",
        "        train_pids = train_ratings[train_ratings['user_id'] == user_id]['item_id'].values\n",
        "        # Retrieve the unseen items\n",
        "        user_df = test_ratings[(test_ratings['user_id'] == user_id)]\n",
        "        test_pids = user_df['item_id'].values\n",
        "        relevant_pids = set(user_df.loc[user_df['rating'] > 1, 'item_id'].values)\n",
        "        if len(relevant_pids) == 0:\n",
        "          continue\n",
        "        # Create testing dataframe\n",
        "        test_df = pd.DataFrame({'user_id': user_id, 'item_id': test_pids})\n",
        "        test_set = [test_df.user_id, test_df.item_id]\n",
        "        # Make rating predictions for all items for that user\n",
        "        predictions = model.predict(test_set, batch_size=2048)\n",
        "        # predictions = pred_func(model, user_id, pid_array, train_ratings)\n",
        "        predictions = predictions.reshape(-1)\n",
        "        # Sort the items and het the top k\n",
        "        top_k = np.argsort(predictions)[:k]\n",
        "        top_k_items = set(np.array(test_pids)[top_k])\n",
        "        recalls.append(len(top_k_items & relevant_pids) / len(relevant_pids))\n",
        "    return recalls"
      ],
      "id": "cosmetic-enhancement",
      "execution_count": 274,
      "outputs": []
    },
    {
      "cell_type": "code",
      "metadata": {
        "id": "collected-universal",
        "colab": {
          "base_uri": "https://localhost:8080/"
        },
        "outputId": "e27afd65-27a5-4caa-bbae-4cb457f43132"
      },
      "source": [
        "recalls = recall_at_k(model, predict_from_latent, train_ratings, test_ratings, no_users, no_items, k=10)"
      ],
      "id": "collected-universal",
      "execution_count": 278,
      "outputs": [
        {
          "output_type": "stream",
          "text": [
            "100%|██████████| 200/200 [00:12<00:00, 16.29it/s]\n"
          ],
          "name": "stderr"
        }
      ]
    },
    {
      "cell_type": "code",
      "metadata": {
        "id": "hourly-skiing",
        "colab": {
          "base_uri": "https://localhost:8080/"
        },
        "outputId": "c36a9f96-1373-48d1-b4e7-0685dbd4413c"
      },
      "source": [
        "np.mean(recalls), np.std(recalls)"
      ],
      "id": "hourly-skiing",
      "execution_count": 279,
      "outputs": [
        {
          "output_type": "execute_result",
          "data": {
            "text/plain": [
              "(0.022064475724596837, 0.055463911931586986)"
            ]
          },
          "metadata": {
            "tags": []
          },
          "execution_count": 279
        }
      ]
    },
    {
      "cell_type": "code",
      "metadata": {
        "id": "answering-drink"
      },
      "source": [
        "### EXERCISE CELL ###\n",
        "def map_at_k(model, pred_func, train_ratings, test_ratings, no_users, no_items, k=10):\n",
        "    pid_array = np.arange(no_items, dtype=np.int32)\n",
        "    maps = []\n",
        "    for user_id, user_test_rating in tqdm(test_ratings.groupby('user_id')):\n",
        "        train_pids = train_ratings[train_ratings['user_id'] == user_id]['item_id'].values\n",
        "        test_pids = set(user_test_rating['item_id'].values)\n",
        "        test_set = pd.DataFrame({'user_id': user_id, 'item_id': pid_array})\n",
        "        test_set = [test_set.user_id, test_set.item_id]\n",
        "        # Make rating predictions for all items for that user\n",
        "        predictions = model.predict(test_set, batch_size=2048)\n",
        "        predictions = predictions.reshape(-1)\n",
        "        predictions[train_pids] = - math.inf\n",
        "        partial_maps = []\n",
        "        top_k = list(np.argsort(-predictions)[:k])\n",
        "        for rank, item_id in enumerate(top_k):\n",
        "            if item_id in test_pids:\n",
        "                partial_maps.append(len(set(top_k[:rank+1]) & test_pids) / float(rank+1))\n",
        "        maps.append(.0 if len(partial_maps) == 0 else np.sum(partial_maps) / float(k))\n",
        "    return maps"
      ],
      "id": "answering-drink",
      "execution_count": null,
      "outputs": []
    },
    {
      "cell_type": "code",
      "metadata": {
        "id": "fantastic-sender",
        "colab": {
          "base_uri": "https://localhost:8080/"
        },
        "outputId": "fb63c1a9-1b58-4e41-8c82-9bb38c3bebc1"
      },
      "source": [
        "maps = map_at_k(model, predict_from_latent, train_ratings, test_ratings, no_users, no_items, k=10)"
      ],
      "id": "fantastic-sender",
      "execution_count": null,
      "outputs": [
        {
          "output_type": "stream",
          "text": [
            "100%|██████████| 200/200 [01:07<00:00,  2.96it/s]\n"
          ],
          "name": "stderr"
        }
      ]
    },
    {
      "cell_type": "code",
      "metadata": {
        "id": "changing-israel",
        "colab": {
          "base_uri": "https://localhost:8080/"
        },
        "outputId": "3484a26c-2b0e-423b-fb73-21f9f62cded1"
      },
      "source": [
        "np.mean(maps), np.std(maps)"
      ],
      "id": "changing-israel",
      "execution_count": null,
      "outputs": [
        {
          "output_type": "execute_result",
          "data": {
            "text/plain": [
              "(8.333333333333333e-05, 0.0011755613316388237)"
            ]
          },
          "metadata": {
            "tags": []
          },
          "execution_count": 223
        }
      ]
    },
    {
      "cell_type": "code",
      "metadata": {
        "id": "least-brooklyn"
      },
      "source": [
        ""
      ],
      "id": "least-brooklyn",
      "execution_count": null,
      "outputs": []
    }
  ]
}