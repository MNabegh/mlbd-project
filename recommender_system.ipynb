{
  "nbformat": 4,
  "nbformat_minor": 5,
  "metadata": {
    "kernelspec": {
      "display_name": "Python 3",
      "language": "python",
      "name": "python3"
    },
    "language_info": {
      "codemirror_mode": {
        "name": "ipython",
        "version": 3
      },
      "file_extension": ".py",
      "mimetype": "text/x-python",
      "name": "python",
      "nbconvert_exporter": "python",
      "pygments_lexer": "ipython3",
      "version": "3.7.10"
    },
    "colab": {
      "name": "recommender_system.ipynb",
      "provenance": []
    }
  },
  "cells": [
    {
      "cell_type": "code",
      "metadata": {
        "id": "0VEXgpNp1Cqi"
      },
      "source": [
        "import os\n",
        "\n",
        "path = 'lastfm-dataset-1K'\n",
        "\n",
        "if not os.path.exists(path):\n",
        "\n",
        "  !wget http://mtg.upf.edu/static/datasets/last.fm/lastfm-dataset-1K.tar.gz\n",
        "  !tar -xvzf lastfm-dataset-1K.tar.gz\n"
      ],
      "id": "0VEXgpNp1Cqi",
      "execution_count": 3,
      "outputs": []
    },
    {
      "cell_type": "code",
      "metadata": {
        "colab": {
          "base_uri": "https://localhost:8080/"
        },
        "id": "dHPzdYY01CTs",
        "outputId": "70595273-b513-4fa4-eee1-c7712928a9b0"
      },
      "source": [
        "!ls"
      ],
      "id": "dHPzdYY01CTs",
      "execution_count": 1,
      "outputs": [
        {
          "output_type": "stream",
          "text": [
            "drive  lastfm-dataset-1K  lastfm-dataset-1K.tar.gz  sample_data\n"
          ],
          "name": "stdout"
        }
      ]
    },
    {
      "cell_type": "code",
      "metadata": {
        "id": "PQ162BxguWhK",
        "colab": {
          "base_uri": "https://localhost:8080/"
        },
        "outputId": "46189812-59d9-423f-c9cd-f8316b8d3cf8"
      },
      "source": [
        "import os\n",
        "from google.colab import drive\n",
        "drive.mount('/content/drive')"
      ],
      "id": "PQ162BxguWhK",
      "execution_count": 2,
      "outputs": [
        {
          "output_type": "stream",
          "text": [
            "Drive already mounted at /content/drive; to attempt to forcibly remount, call drive.mount(\"/content/drive\", force_remount=True).\n"
          ],
          "name": "stdout"
        }
      ]
    },
    {
      "cell_type": "code",
      "metadata": {
        "id": "IkLzfmKxv1nY",
        "colab": {
          "base_uri": "https://localhost:8080/"
        },
        "outputId": "7ddfe18e-876c-4cba-e8d6-b5f3d1a8bf28"
      },
      "source": [
        "!ls drive/MyDrive/data"
      ],
      "id": "IkLzfmKxv1nY",
      "execution_count": 4,
      "outputs": [
        {
          "output_type": "stream",
          "text": [
            "feature_df_with_emb.csv  spotify_features.csv\n"
          ],
          "name": "stdout"
        }
      ]
    },
    {
      "cell_type": "code",
      "metadata": {
        "id": "legislative-photography",
        "colab": {
          "base_uri": "https://localhost:8080/"
        },
        "outputId": "02577eb3-9017-4f6b-b9cf-a244a0300dbd"
      },
      "source": [
        "import pandas as pd\n",
        "import matplotlib.pyplot as plt\n",
        "import seaborn as sns\n",
        "from io import StringIO\n",
        "import numpy as np\n",
        "from tqdm import tqdm\n",
        "from sklearn.model_selection import train_test_split\n",
        "from sklearn.metrics import roc_auc_score\n",
        "import scipy.sparse as sp\n",
        "import tensorflow as tf\n",
        "from tqdm import tqdm\n",
        "import pandas as pd\n",
        "import numpy as np\n",
        "\n",
        "from keras.utils.vis_utils import model_to_dot\n",
        "from IPython.display import SVG\n",
        "import matplotlib.pyplot as plt\n",
        "import matplotlib\n",
        "%matplotlib inline\n",
        "\n",
        "import datetime\n",
        "import time \n",
        "import math\n",
        "import os\n",
        "%config Completer.use_jedi = False"
      ],
      "id": "legislative-photography",
      "execution_count": 5,
      "outputs": [
        {
          "output_type": "stream",
          "text": [
            "/usr/local/lib/python3.7/dist-packages/ipykernel_launcher.py:25: UserWarning: Config option `use_jedi` not recognized by `IPCompleter`.\n"
          ],
          "name": "stderr"
        }
      ]
    },
    {
      "cell_type": "code",
      "metadata": {
        "id": "y6JENn92JzyY"
      },
      "source": [
        "path = \"drive/MyDrive/data/feature_df_with_emb.csv\"\n",
        "\n",
        "feature_df_with_emb = pd.read_csv(path)"
      ],
      "id": "y6JENn92JzyY",
      "execution_count": 6,
      "outputs": []
    },
    {
      "cell_type": "code",
      "metadata": {
        "id": "9MPlx151Mo_8",
        "colab": {
          "base_uri": "https://localhost:8080/",
          "height": 496
        },
        "outputId": "c71d5e2c-34e6-412c-95a6-e66c7c8f1e54"
      },
      "source": [
        "feature_df_with_emb.head()"
      ],
      "id": "9MPlx151Mo_8",
      "execution_count": 7,
      "outputs": [
        {
          "output_type": "execute_result",
          "data": {
            "text/html": [
              "<div>\n",
              "<style scoped>\n",
              "    .dataframe tbody tr th:only-of-type {\n",
              "        vertical-align: middle;\n",
              "    }\n",
              "\n",
              "    .dataframe tbody tr th {\n",
              "        vertical-align: top;\n",
              "    }\n",
              "\n",
              "    .dataframe thead th {\n",
              "        text-align: right;\n",
              "    }\n",
              "</style>\n",
              "<table border=\"1\" class=\"dataframe\">\n",
              "  <thead>\n",
              "    <tr style=\"text-align: right;\">\n",
              "      <th></th>\n",
              "      <th>Unnamed: 0</th>\n",
              "      <th>artist</th>\n",
              "      <th>track</th>\n",
              "      <th>danceability</th>\n",
              "      <th>energy</th>\n",
              "      <th>key</th>\n",
              "      <th>loudness</th>\n",
              "      <th>mode</th>\n",
              "      <th>speechiness</th>\n",
              "      <th>acousticness</th>\n",
              "      <th>instrumentalness</th>\n",
              "      <th>liveness</th>\n",
              "      <th>valence</th>\n",
              "      <th>tempo</th>\n",
              "      <th>duration_ms</th>\n",
              "      <th>genres</th>\n",
              "      <th>popularity</th>\n",
              "      <th>genres_emb</th>\n",
              "      <th>emb_x</th>\n",
              "      <th>emb_y</th>\n",
              "      <th>emb_z</th>\n",
              "    </tr>\n",
              "  </thead>\n",
              "  <tbody>\n",
              "    <tr>\n",
              "      <th>0</th>\n",
              "      <td>0</td>\n",
              "      <td>坂本龍一</td>\n",
              "      <td>Composition 0919 (Live_2009_4_15)</td>\n",
              "      <td>0.806</td>\n",
              "      <td>0.413</td>\n",
              "      <td>5.0</td>\n",
              "      <td>-12.883</td>\n",
              "      <td>1.0</td>\n",
              "      <td>0.1560</td>\n",
              "      <td>0.987</td>\n",
              "      <td>0.794</td>\n",
              "      <td>0.1130</td>\n",
              "      <td>0.5290</td>\n",
              "      <td>105.089</td>\n",
              "      <td>330253.0</td>\n",
              "      <td>['japanese soundtrack', 'japanese classical', ...</td>\n",
              "      <td>62</td>\n",
              "      <td>[7.3752766  4.8944925  0.94349271]</td>\n",
              "      <td>7.375277</td>\n",
              "      <td>4.894493</td>\n",
              "      <td>0.943493</td>\n",
              "    </tr>\n",
              "    <tr>\n",
              "      <th>1</th>\n",
              "      <td>1</td>\n",
              "      <td>坂本龍一</td>\n",
              "      <td>Hibari (Live_2009_4_15)</td>\n",
              "      <td>0.604</td>\n",
              "      <td>0.283</td>\n",
              "      <td>9.0</td>\n",
              "      <td>-19.811</td>\n",
              "      <td>0.0</td>\n",
              "      <td>0.0583</td>\n",
              "      <td>0.996</td>\n",
              "      <td>0.916</td>\n",
              "      <td>0.1140</td>\n",
              "      <td>0.2700</td>\n",
              "      <td>137.802</td>\n",
              "      <td>540133.0</td>\n",
              "      <td>['japanese soundtrack', 'japanese classical', ...</td>\n",
              "      <td>62</td>\n",
              "      <td>[7.3752766  4.8944925  0.94349271]</td>\n",
              "      <td>7.375277</td>\n",
              "      <td>4.894493</td>\n",
              "      <td>0.943493</td>\n",
              "    </tr>\n",
              "    <tr>\n",
              "      <th>2</th>\n",
              "      <td>2</td>\n",
              "      <td>坂本龍一</td>\n",
              "      <td>To Stanford (Live_2009_4_15)</td>\n",
              "      <td>0.453</td>\n",
              "      <td>0.163</td>\n",
              "      <td>5.0</td>\n",
              "      <td>-20.922</td>\n",
              "      <td>1.0</td>\n",
              "      <td>0.0519</td>\n",
              "      <td>0.990</td>\n",
              "      <td>0.939</td>\n",
              "      <td>0.1010</td>\n",
              "      <td>0.0703</td>\n",
              "      <td>73.926</td>\n",
              "      <td>216853.0</td>\n",
              "      <td>['japanese indie folk', 'japanese soundtrack',...</td>\n",
              "      <td>39</td>\n",
              "      <td>[7.3752766  4.8944925  0.94349271]</td>\n",
              "      <td>7.375277</td>\n",
              "      <td>4.894493</td>\n",
              "      <td>0.943493</td>\n",
              "    </tr>\n",
              "    <tr>\n",
              "      <th>3</th>\n",
              "      <td>3</td>\n",
              "      <td>坂本龍一</td>\n",
              "      <td>Improvisation (Live_2009_4_15)</td>\n",
              "      <td>0.217</td>\n",
              "      <td>0.012</td>\n",
              "      <td>5.0</td>\n",
              "      <td>-36.464</td>\n",
              "      <td>1.0</td>\n",
              "      <td>0.0376</td>\n",
              "      <td>0.991</td>\n",
              "      <td>0.859</td>\n",
              "      <td>0.0866</td>\n",
              "      <td>0.0376</td>\n",
              "      <td>80.714</td>\n",
              "      <td>384707.0</td>\n",
              "      <td>['japanese soundtrack', 'japanese classical', ...</td>\n",
              "      <td>62</td>\n",
              "      <td>[7.3752766  4.8944925  0.94349271]</td>\n",
              "      <td>7.375277</td>\n",
              "      <td>4.894493</td>\n",
              "      <td>0.943493</td>\n",
              "    </tr>\n",
              "    <tr>\n",
              "      <th>4</th>\n",
              "      <td>4</td>\n",
              "      <td>坂本龍一</td>\n",
              "      <td>Glacier (Live_2009_4_15)</td>\n",
              "      <td>0.518</td>\n",
              "      <td>0.213</td>\n",
              "      <td>9.0</td>\n",
              "      <td>-28.790</td>\n",
              "      <td>0.0</td>\n",
              "      <td>0.2090</td>\n",
              "      <td>0.869</td>\n",
              "      <td>0.898</td>\n",
              "      <td>0.1030</td>\n",
              "      <td>0.0920</td>\n",
              "      <td>104.191</td>\n",
              "      <td>580707.0</td>\n",
              "      <td>['japanese soundtrack', 'japanese classical', ...</td>\n",
              "      <td>62</td>\n",
              "      <td>[7.3752766  4.8944925  0.94349271]</td>\n",
              "      <td>7.375277</td>\n",
              "      <td>4.894493</td>\n",
              "      <td>0.943493</td>\n",
              "    </tr>\n",
              "  </tbody>\n",
              "</table>\n",
              "</div>"
            ],
            "text/plain": [
              "   Unnamed: 0 artist  ...     emb_y     emb_z\n",
              "0           0   坂本龍一  ...  4.894493  0.943493\n",
              "1           1   坂本龍一  ...  4.894493  0.943493\n",
              "2           2   坂本龍一  ...  4.894493  0.943493\n",
              "3           3   坂本龍一  ...  4.894493  0.943493\n",
              "4           4   坂本龍一  ...  4.894493  0.943493\n",
              "\n",
              "[5 rows x 21 columns]"
            ]
          },
          "metadata": {
            "tags": []
          },
          "execution_count": 7
        }
      ]
    },
    {
      "cell_type": "code",
      "metadata": {
        "id": "greatest-invitation"
      },
      "source": [
        "# Load the dataset\n",
        "df = pd.read_table('lastfm-dataset-1K/userid-timestamp-artid-artname-traid-traname.tsv', lineterminator='\\n', warn_bad_lines=True, names=['user', 'timestamp', 'artist-id', 'artist', 'song-id', 'song'])\n",
        "df_profile = pd.read_csv('lastfm-dataset-1K/userid-profile.tsv', sep='\\t', error_bad_lines=False, warn_bad_lines=True, skiprows=1, names=['user', 'gender', 'age', 'country', 'signup'])"
      ],
      "id": "greatest-invitation",
      "execution_count": 8,
      "outputs": []
    },
    {
      "cell_type": "code",
      "metadata": {
        "id": "union-season"
      },
      "source": [
        "# Check if some songs share a common ID\n",
        "grouped = df[['song-id', 'song']].groupby(['song-id']).nunique()"
      ],
      "id": "union-season",
      "execution_count": 9,
      "outputs": []
    },
    {
      "cell_type": "code",
      "metadata": {
        "id": "aerial-damages"
      },
      "source": [
        "# Get rows with song names containing multiple rows\n",
        "duplicated = df.loc[df['song-id'].isin(grouped[grouped['song'] > 1].index)]\n",
        "duplicated = duplicated.drop(columns=['user', 'timestamp', 'artist', 'artist-id'])\n",
        "containis_extra_rows = duplicated.apply(lambda x: pd.Series({'id': x[0], 'song': x[1], 'flag':'\\n' in x[1]}), axis=1)\n",
        "containis_extra_rows = containis_extra_rows.loc[containis_extra_rows['flag']]"
      ],
      "id": "aerial-damages",
      "execution_count": 10,
      "outputs": []
    },
    {
      "cell_type": "code",
      "metadata": {
        "id": "smoking-vanilla"
      },
      "source": [
        "# Iterate over those 5k rows to get the extra rows and correct the song name\n",
        "for index, row in containis_extra_rows.iterrows():\n",
        "    row_break = row['song'].split('\\n', 1)\n",
        "    song_name = row_break[0]\n",
        "    df.loc[df['song-id'] == row['id'], 'song'] = song_name\n",
        "    \n",
        "    tsv = StringIO(row_break[1])\n",
        "    df_extra = pd.read_csv(tsv, sep=\"\\t\", warn_bad_lines=True, names=['user', 'timestamp', 'artist-id', 'artist', 'song-id', 'song'])\n",
        "    df = df.append(df_extra, ignore_index=True)"
      ],
      "id": "smoking-vanilla",
      "execution_count": 11,
      "outputs": []
    },
    {
      "cell_type": "markdown",
      "metadata": {
        "id": "green-cloud"
      },
      "source": [
        "### Fix names"
      ],
      "id": "green-cloud"
    },
    {
      "cell_type": "code",
      "metadata": {
        "id": "marked-return"
      },
      "source": [
        "# Check if some songs share a common ID\n",
        "grouped = df[['song-id', 'song']].groupby(['song-id']).nunique()"
      ],
      "id": "marked-return",
      "execution_count": 12,
      "outputs": []
    },
    {
      "cell_type": "code",
      "metadata": {
        "id": "developing-roots",
        "colab": {
          "base_uri": "https://localhost:8080/"
        },
        "outputId": "9f85e293-cd60-459b-b762-043b639648a6"
      },
      "source": [
        "# Check how many ids has more than 1 song name\n",
        "grouped[grouped['song'] > 1].shape[0]"
      ],
      "id": "developing-roots",
      "execution_count": 13,
      "outputs": [
        {
          "output_type": "execute_result",
          "data": {
            "text/plain": [
              "200"
            ]
          },
          "metadata": {
            "tags": []
          },
          "execution_count": 13
        }
      ]
    },
    {
      "cell_type": "code",
      "metadata": {
        "id": "million-deputy"
      },
      "source": [
        "ids_to_be_fixed = grouped[grouped['song'] > 1].index"
      ],
      "id": "million-deputy",
      "execution_count": 14,
      "outputs": []
    },
    {
      "cell_type": "code",
      "metadata": {
        "id": "compact-standing"
      },
      "source": [
        "df = df.set_index('song-id')"
      ],
      "id": "compact-standing",
      "execution_count": 15,
      "outputs": []
    },
    {
      "cell_type": "code",
      "metadata": {
        "id": "waiting-efficiency"
      },
      "source": [
        "map_to_fix = df.groupby(df.index)['song'].head(1)"
      ],
      "id": "waiting-efficiency",
      "execution_count": 16,
      "outputs": []
    },
    {
      "cell_type": "code",
      "metadata": {
        "id": "satellite-chile"
      },
      "source": [
        "df.loc[ids_to_be_fixed, 'song'] = df.loc[ids_to_be_fixed].reset_index()['song-id'].map(lambda x: map_to_fix[x])\n",
        "df = df.reset_index()"
      ],
      "id": "satellite-chile",
      "execution_count": 17,
      "outputs": []
    },
    {
      "cell_type": "markdown",
      "metadata": {
        "id": "experimental-canal"
      },
      "source": [
        "### Create matrix"
      ],
      "id": "experimental-canal"
    },
    {
      "cell_type": "code",
      "metadata": {
        "id": "approved-episode"
      },
      "source": [
        "matrix_init = df.groupby(['user', 'artist', 'song']).count()"
      ],
      "id": "approved-episode",
      "execution_count": 18,
      "outputs": []
    },
    {
      "cell_type": "code",
      "metadata": {
        "id": "streaming-platform"
      },
      "source": [
        "matrix_init = matrix_init['timestamp']"
      ],
      "id": "streaming-platform",
      "execution_count": 19,
      "outputs": []
    },
    {
      "cell_type": "code",
      "metadata": {
        "id": "wired-master"
      },
      "source": [
        "matrix_init = matrix_init.reset_index()"
      ],
      "id": "wired-master",
      "execution_count": 20,
      "outputs": []
    },
    {
      "cell_type": "code",
      "metadata": {
        "id": "peaceful-uzbekistan"
      },
      "source": [
        "def rating_scaler(row):\n",
        "    row_array = np.array(row)\n",
        "    a, new_range= 1, 4\n",
        "    min_, max_ = row_array.min(), row_array.max()\n",
        "    old_range = max_ - min_\n",
        "    \n",
        "    \n",
        "    scaled_row = (new_range * (row_array - min_)) / (old_range + 1e-6)  + a\n",
        "    return pd.Series(scaled_row)"
      ],
      "id": "peaceful-uzbekistan",
      "execution_count": 21,
      "outputs": []
    },
    {
      "cell_type": "code",
      "metadata": {
        "id": "sunrise-article"
      },
      "source": [
        "matrix_init_scaled = matrix_init.groupby('user')['timestamp'].apply(rating_scaler)"
      ],
      "id": "sunrise-article",
      "execution_count": 22,
      "outputs": []
    },
    {
      "cell_type": "code",
      "metadata": {
        "id": "promising-sussex"
      },
      "source": [
        "matrix_init['timestamp'] = matrix_init_scaled.reset_index()['timestamp']"
      ],
      "id": "promising-sussex",
      "execution_count": 23,
      "outputs": []
    },
    {
      "cell_type": "code",
      "metadata": {
        "id": "RegnknnLcdpr",
        "colab": {
          "base_uri": "https://localhost:8080/",
          "height": 496
        },
        "outputId": "97d5f95e-6a66-458c-b965-a394e6fbd01d"
      },
      "source": [
        "feature_df_with_emb.head()"
      ],
      "id": "RegnknnLcdpr",
      "execution_count": 24,
      "outputs": [
        {
          "output_type": "execute_result",
          "data": {
            "text/html": [
              "<div>\n",
              "<style scoped>\n",
              "    .dataframe tbody tr th:only-of-type {\n",
              "        vertical-align: middle;\n",
              "    }\n",
              "\n",
              "    .dataframe tbody tr th {\n",
              "        vertical-align: top;\n",
              "    }\n",
              "\n",
              "    .dataframe thead th {\n",
              "        text-align: right;\n",
              "    }\n",
              "</style>\n",
              "<table border=\"1\" class=\"dataframe\">\n",
              "  <thead>\n",
              "    <tr style=\"text-align: right;\">\n",
              "      <th></th>\n",
              "      <th>Unnamed: 0</th>\n",
              "      <th>artist</th>\n",
              "      <th>track</th>\n",
              "      <th>danceability</th>\n",
              "      <th>energy</th>\n",
              "      <th>key</th>\n",
              "      <th>loudness</th>\n",
              "      <th>mode</th>\n",
              "      <th>speechiness</th>\n",
              "      <th>acousticness</th>\n",
              "      <th>instrumentalness</th>\n",
              "      <th>liveness</th>\n",
              "      <th>valence</th>\n",
              "      <th>tempo</th>\n",
              "      <th>duration_ms</th>\n",
              "      <th>genres</th>\n",
              "      <th>popularity</th>\n",
              "      <th>genres_emb</th>\n",
              "      <th>emb_x</th>\n",
              "      <th>emb_y</th>\n",
              "      <th>emb_z</th>\n",
              "    </tr>\n",
              "  </thead>\n",
              "  <tbody>\n",
              "    <tr>\n",
              "      <th>0</th>\n",
              "      <td>0</td>\n",
              "      <td>坂本龍一</td>\n",
              "      <td>Composition 0919 (Live_2009_4_15)</td>\n",
              "      <td>0.806</td>\n",
              "      <td>0.413</td>\n",
              "      <td>5.0</td>\n",
              "      <td>-12.883</td>\n",
              "      <td>1.0</td>\n",
              "      <td>0.1560</td>\n",
              "      <td>0.987</td>\n",
              "      <td>0.794</td>\n",
              "      <td>0.1130</td>\n",
              "      <td>0.5290</td>\n",
              "      <td>105.089</td>\n",
              "      <td>330253.0</td>\n",
              "      <td>['japanese soundtrack', 'japanese classical', ...</td>\n",
              "      <td>62</td>\n",
              "      <td>[7.3752766  4.8944925  0.94349271]</td>\n",
              "      <td>7.375277</td>\n",
              "      <td>4.894493</td>\n",
              "      <td>0.943493</td>\n",
              "    </tr>\n",
              "    <tr>\n",
              "      <th>1</th>\n",
              "      <td>1</td>\n",
              "      <td>坂本龍一</td>\n",
              "      <td>Hibari (Live_2009_4_15)</td>\n",
              "      <td>0.604</td>\n",
              "      <td>0.283</td>\n",
              "      <td>9.0</td>\n",
              "      <td>-19.811</td>\n",
              "      <td>0.0</td>\n",
              "      <td>0.0583</td>\n",
              "      <td>0.996</td>\n",
              "      <td>0.916</td>\n",
              "      <td>0.1140</td>\n",
              "      <td>0.2700</td>\n",
              "      <td>137.802</td>\n",
              "      <td>540133.0</td>\n",
              "      <td>['japanese soundtrack', 'japanese classical', ...</td>\n",
              "      <td>62</td>\n",
              "      <td>[7.3752766  4.8944925  0.94349271]</td>\n",
              "      <td>7.375277</td>\n",
              "      <td>4.894493</td>\n",
              "      <td>0.943493</td>\n",
              "    </tr>\n",
              "    <tr>\n",
              "      <th>2</th>\n",
              "      <td>2</td>\n",
              "      <td>坂本龍一</td>\n",
              "      <td>To Stanford (Live_2009_4_15)</td>\n",
              "      <td>0.453</td>\n",
              "      <td>0.163</td>\n",
              "      <td>5.0</td>\n",
              "      <td>-20.922</td>\n",
              "      <td>1.0</td>\n",
              "      <td>0.0519</td>\n",
              "      <td>0.990</td>\n",
              "      <td>0.939</td>\n",
              "      <td>0.1010</td>\n",
              "      <td>0.0703</td>\n",
              "      <td>73.926</td>\n",
              "      <td>216853.0</td>\n",
              "      <td>['japanese indie folk', 'japanese soundtrack',...</td>\n",
              "      <td>39</td>\n",
              "      <td>[7.3752766  4.8944925  0.94349271]</td>\n",
              "      <td>7.375277</td>\n",
              "      <td>4.894493</td>\n",
              "      <td>0.943493</td>\n",
              "    </tr>\n",
              "    <tr>\n",
              "      <th>3</th>\n",
              "      <td>3</td>\n",
              "      <td>坂本龍一</td>\n",
              "      <td>Improvisation (Live_2009_4_15)</td>\n",
              "      <td>0.217</td>\n",
              "      <td>0.012</td>\n",
              "      <td>5.0</td>\n",
              "      <td>-36.464</td>\n",
              "      <td>1.0</td>\n",
              "      <td>0.0376</td>\n",
              "      <td>0.991</td>\n",
              "      <td>0.859</td>\n",
              "      <td>0.0866</td>\n",
              "      <td>0.0376</td>\n",
              "      <td>80.714</td>\n",
              "      <td>384707.0</td>\n",
              "      <td>['japanese soundtrack', 'japanese classical', ...</td>\n",
              "      <td>62</td>\n",
              "      <td>[7.3752766  4.8944925  0.94349271]</td>\n",
              "      <td>7.375277</td>\n",
              "      <td>4.894493</td>\n",
              "      <td>0.943493</td>\n",
              "    </tr>\n",
              "    <tr>\n",
              "      <th>4</th>\n",
              "      <td>4</td>\n",
              "      <td>坂本龍一</td>\n",
              "      <td>Glacier (Live_2009_4_15)</td>\n",
              "      <td>0.518</td>\n",
              "      <td>0.213</td>\n",
              "      <td>9.0</td>\n",
              "      <td>-28.790</td>\n",
              "      <td>0.0</td>\n",
              "      <td>0.2090</td>\n",
              "      <td>0.869</td>\n",
              "      <td>0.898</td>\n",
              "      <td>0.1030</td>\n",
              "      <td>0.0920</td>\n",
              "      <td>104.191</td>\n",
              "      <td>580707.0</td>\n",
              "      <td>['japanese soundtrack', 'japanese classical', ...</td>\n",
              "      <td>62</td>\n",
              "      <td>[7.3752766  4.8944925  0.94349271]</td>\n",
              "      <td>7.375277</td>\n",
              "      <td>4.894493</td>\n",
              "      <td>0.943493</td>\n",
              "    </tr>\n",
              "  </tbody>\n",
              "</table>\n",
              "</div>"
            ],
            "text/plain": [
              "   Unnamed: 0 artist  ...     emb_y     emb_z\n",
              "0           0   坂本龍一  ...  4.894493  0.943493\n",
              "1           1   坂本龍一  ...  4.894493  0.943493\n",
              "2           2   坂本龍一  ...  4.894493  0.943493\n",
              "3           3   坂本龍一  ...  4.894493  0.943493\n",
              "4           4   坂本龍一  ...  4.894493  0.943493\n",
              "\n",
              "[5 rows x 21 columns]"
            ]
          },
          "metadata": {
            "tags": []
          },
          "execution_count": 24
        }
      ]
    },
    {
      "cell_type": "markdown",
      "metadata": {
        "id": "working-dylan"
      },
      "source": [
        "### Merge data"
      ],
      "id": "working-dylan"
    },
    {
      "cell_type": "code",
      "metadata": {
        "id": "silent-present"
      },
      "source": [
        "matrix_init = matrix_init.rename({'timestamp':'rating', 'song':'track'}, axis=1)"
      ],
      "id": "silent-present",
      "execution_count": 25,
      "outputs": []
    },
    {
      "cell_type": "code",
      "metadata": {
        "id": "potential-replica"
      },
      "source": [
        "matrix_extended = matrix_init.merge(feature_df_with_emb, on=['artist', 'track'])"
      ],
      "id": "potential-replica",
      "execution_count": 26,
      "outputs": []
    },
    {
      "cell_type": "code",
      "metadata": {
        "id": "formal-token",
        "colab": {
          "base_uri": "https://localhost:8080/",
          "height": 666
        },
        "outputId": "2cf4f0f4-4889-43d1-9f4c-20096c86a2b9"
      },
      "source": [
        "matrix_extended.head()"
      ],
      "id": "formal-token",
      "execution_count": 27,
      "outputs": [
        {
          "output_type": "execute_result",
          "data": {
            "text/html": [
              "<div>\n",
              "<style scoped>\n",
              "    .dataframe tbody tr th:only-of-type {\n",
              "        vertical-align: middle;\n",
              "    }\n",
              "\n",
              "    .dataframe tbody tr th {\n",
              "        vertical-align: top;\n",
              "    }\n",
              "\n",
              "    .dataframe thead th {\n",
              "        text-align: right;\n",
              "    }\n",
              "</style>\n",
              "<table border=\"1\" class=\"dataframe\">\n",
              "  <thead>\n",
              "    <tr style=\"text-align: right;\">\n",
              "      <th></th>\n",
              "      <th>user</th>\n",
              "      <th>artist</th>\n",
              "      <th>track</th>\n",
              "      <th>rating</th>\n",
              "      <th>Unnamed: 0</th>\n",
              "      <th>danceability</th>\n",
              "      <th>energy</th>\n",
              "      <th>key</th>\n",
              "      <th>loudness</th>\n",
              "      <th>mode</th>\n",
              "      <th>speechiness</th>\n",
              "      <th>acousticness</th>\n",
              "      <th>instrumentalness</th>\n",
              "      <th>liveness</th>\n",
              "      <th>valence</th>\n",
              "      <th>tempo</th>\n",
              "      <th>duration_ms</th>\n",
              "      <th>genres</th>\n",
              "      <th>popularity</th>\n",
              "      <th>genres_emb</th>\n",
              "      <th>emb_x</th>\n",
              "      <th>emb_y</th>\n",
              "      <th>emb_z</th>\n",
              "    </tr>\n",
              "  </thead>\n",
              "  <tbody>\n",
              "    <tr>\n",
              "      <th>0</th>\n",
              "      <td>user_000001</td>\n",
              "      <td>2562</td>\n",
              "      <td>Basin Dub</td>\n",
              "      <td>1.057971</td>\n",
              "      <td>1056</td>\n",
              "      <td>0.644</td>\n",
              "      <td>0.431</td>\n",
              "      <td>11.0</td>\n",
              "      <td>-7.676</td>\n",
              "      <td>1.0</td>\n",
              "      <td>0.206</td>\n",
              "      <td>0.0393</td>\n",
              "      <td>0.3</td>\n",
              "      <td>0.159</td>\n",
              "      <td>0.347</td>\n",
              "      <td>139.998</td>\n",
              "      <td>292769.0</td>\n",
              "      <td>['classic dubstep', 'future garage', 'bass mus...</td>\n",
              "      <td>19</td>\n",
              "      <td>[5.3110935  6.1038699  3.31327275]</td>\n",
              "      <td>5.311094</td>\n",
              "      <td>6.10387</td>\n",
              "      <td>3.313273</td>\n",
              "    </tr>\n",
              "    <tr>\n",
              "      <th>1</th>\n",
              "      <td>user_000451</td>\n",
              "      <td>2562</td>\n",
              "      <td>Basin Dub</td>\n",
              "      <td>1.045455</td>\n",
              "      <td>1056</td>\n",
              "      <td>0.644</td>\n",
              "      <td>0.431</td>\n",
              "      <td>11.0</td>\n",
              "      <td>-7.676</td>\n",
              "      <td>1.0</td>\n",
              "      <td>0.206</td>\n",
              "      <td>0.0393</td>\n",
              "      <td>0.3</td>\n",
              "      <td>0.159</td>\n",
              "      <td>0.347</td>\n",
              "      <td>139.998</td>\n",
              "      <td>292769.0</td>\n",
              "      <td>['classic dubstep', 'future garage', 'bass mus...</td>\n",
              "      <td>19</td>\n",
              "      <td>[5.3110935  6.1038699  3.31327275]</td>\n",
              "      <td>5.311094</td>\n",
              "      <td>6.10387</td>\n",
              "      <td>3.313273</td>\n",
              "    </tr>\n",
              "    <tr>\n",
              "      <th>2</th>\n",
              "      <td>user_000471</td>\n",
              "      <td>2562</td>\n",
              "      <td>Basin Dub</td>\n",
              "      <td>1.000000</td>\n",
              "      <td>1056</td>\n",
              "      <td>0.644</td>\n",
              "      <td>0.431</td>\n",
              "      <td>11.0</td>\n",
              "      <td>-7.676</td>\n",
              "      <td>1.0</td>\n",
              "      <td>0.206</td>\n",
              "      <td>0.0393</td>\n",
              "      <td>0.3</td>\n",
              "      <td>0.159</td>\n",
              "      <td>0.347</td>\n",
              "      <td>139.998</td>\n",
              "      <td>292769.0</td>\n",
              "      <td>['classic dubstep', 'future garage', 'bass mus...</td>\n",
              "      <td>19</td>\n",
              "      <td>[5.3110935  6.1038699  3.31327275]</td>\n",
              "      <td>5.311094</td>\n",
              "      <td>6.10387</td>\n",
              "      <td>3.313273</td>\n",
              "    </tr>\n",
              "    <tr>\n",
              "      <th>3</th>\n",
              "      <td>user_000508</td>\n",
              "      <td>2562</td>\n",
              "      <td>Basin Dub</td>\n",
              "      <td>1.166667</td>\n",
              "      <td>1056</td>\n",
              "      <td>0.644</td>\n",
              "      <td>0.431</td>\n",
              "      <td>11.0</td>\n",
              "      <td>-7.676</td>\n",
              "      <td>1.0</td>\n",
              "      <td>0.206</td>\n",
              "      <td>0.0393</td>\n",
              "      <td>0.3</td>\n",
              "      <td>0.159</td>\n",
              "      <td>0.347</td>\n",
              "      <td>139.998</td>\n",
              "      <td>292769.0</td>\n",
              "      <td>['classic dubstep', 'future garage', 'bass mus...</td>\n",
              "      <td>19</td>\n",
              "      <td>[5.3110935  6.1038699  3.31327275]</td>\n",
              "      <td>5.311094</td>\n",
              "      <td>6.10387</td>\n",
              "      <td>3.313273</td>\n",
              "    </tr>\n",
              "    <tr>\n",
              "      <th>4</th>\n",
              "      <td>user_000515</td>\n",
              "      <td>2562</td>\n",
              "      <td>Basin Dub</td>\n",
              "      <td>1.027586</td>\n",
              "      <td>1056</td>\n",
              "      <td>0.644</td>\n",
              "      <td>0.431</td>\n",
              "      <td>11.0</td>\n",
              "      <td>-7.676</td>\n",
              "      <td>1.0</td>\n",
              "      <td>0.206</td>\n",
              "      <td>0.0393</td>\n",
              "      <td>0.3</td>\n",
              "      <td>0.159</td>\n",
              "      <td>0.347</td>\n",
              "      <td>139.998</td>\n",
              "      <td>292769.0</td>\n",
              "      <td>['classic dubstep', 'future garage', 'bass mus...</td>\n",
              "      <td>19</td>\n",
              "      <td>[5.3110935  6.1038699  3.31327275]</td>\n",
              "      <td>5.311094</td>\n",
              "      <td>6.10387</td>\n",
              "      <td>3.313273</td>\n",
              "    </tr>\n",
              "  </tbody>\n",
              "</table>\n",
              "</div>"
            ],
            "text/plain": [
              "          user artist      track  ...     emb_x    emb_y     emb_z\n",
              "0  user_000001   2562  Basin Dub  ...  5.311094  6.10387  3.313273\n",
              "1  user_000451   2562  Basin Dub  ...  5.311094  6.10387  3.313273\n",
              "2  user_000471   2562  Basin Dub  ...  5.311094  6.10387  3.313273\n",
              "3  user_000508   2562  Basin Dub  ...  5.311094  6.10387  3.313273\n",
              "4  user_000515   2562  Basin Dub  ...  5.311094  6.10387  3.313273\n",
              "\n",
              "[5 rows x 23 columns]"
            ]
          },
          "metadata": {
            "tags": []
          },
          "execution_count": 27
        }
      ]
    },
    {
      "cell_type": "markdown",
      "metadata": {
        "id": "w-BObyTK8dft"
      },
      "source": [
        "### Filter the dataset"
      ],
      "id": "w-BObyTK8dft"
    },
    {
      "cell_type": "code",
      "metadata": {
        "id": "uRoidbNC-kg9"
      },
      "source": [
        "matrix_extended['item'] = matrix_extended.apply(lambda row: row[1]+'-'+row[2], axis=1)"
      ],
      "id": "uRoidbNC-kg9",
      "execution_count": null,
      "outputs": []
    },
    {
      "cell_type": "code",
      "metadata": {
        "id": "bmxgAsts8dSB",
        "outputId": "547c08c1-8012-4a03-a834-7b86e4524c95",
        "colab": {
          "base_uri": "https://localhost:8080/"
        }
      },
      "source": [
        "matrix_extended.groupby('user').count()['rating'].median()"
      ],
      "id": "bmxgAsts8dSB",
      "execution_count": 218,
      "outputs": [
        {
          "output_type": "execute_result",
          "data": {
            "text/plain": [
              "2945.0"
            ]
          },
          "metadata": {
            "tags": []
          },
          "execution_count": 218
        }
      ]
    },
    {
      "cell_type": "code",
      "metadata": {
        "id": "RVJT_7Qi8cyB"
      },
      "source": [
        ""
      ],
      "id": "RVJT_7Qi8cyB",
      "execution_count": null,
      "outputs": []
    },
    {
      "cell_type": "code",
      "metadata": {
        "id": "EGlGtGXN8cPj"
      },
      "source": [
        ""
      ],
      "id": "EGlGtGXN8cPj",
      "execution_count": null,
      "outputs": []
    },
    {
      "cell_type": "code",
      "metadata": {
        "id": "O3Mpjco08cCg"
      },
      "source": [
        ""
      ],
      "id": "O3Mpjco08cCg",
      "execution_count": null,
      "outputs": []
    },
    {
      "cell_type": "markdown",
      "metadata": {
        "id": "v4ZsF8ub8a1D"
      },
      "source": [
        ""
      ],
      "id": "v4ZsF8ub8a1D"
    },
    {
      "cell_type": "markdown",
      "metadata": {
        "id": "tribal-batch"
      },
      "source": [
        "### Sample Users"
      ],
      "id": "tribal-batch"
    },
    {
      "cell_type": "code",
      "metadata": {
        "id": "YRKwgOyJdfQb"
      },
      "source": [
        "no_users = 200\n",
        "users_list = matrix_extended.user.unique()\n",
        "users_sampled = np.random.choice(users_list, replace=False, size=no_users)\n",
        "matrix_sampled = matrix_extended.copy()\n",
        "matrix_sampled = matrix_sampled.set_index('user')\n",
        "matrix_sampled = matrix_sampled.loc[users_sampled]\n",
        "matrix_sampled = matrix_sampled.reset_index()\n",
        "matrix_sampled = matrix_sampled.sample(frac=1)\n",
        "matrix_sampled['item'] = matrix_sampled.apply(lambda row: row[1]+'-'+row[2], axis=1)"
      ],
      "id": "YRKwgOyJdfQb",
      "execution_count": 225,
      "outputs": []
    },
    {
      "cell_type": "code",
      "metadata": {
        "id": "yRJeB1Y_hPM0",
        "colab": {
          "base_uri": "https://localhost:8080/",
          "height": 479
        },
        "outputId": "cb6a9b5f-e05b-4141-a4ae-48ed62b05a7e"
      },
      "source": [
        "matrix_sampled.head()"
      ],
      "id": "yRJeB1Y_hPM0",
      "execution_count": 226,
      "outputs": [
        {
          "output_type": "execute_result",
          "data": {
            "text/html": [
              "<div>\n",
              "<style scoped>\n",
              "    .dataframe tbody tr th:only-of-type {\n",
              "        vertical-align: middle;\n",
              "    }\n",
              "\n",
              "    .dataframe tbody tr th {\n",
              "        vertical-align: top;\n",
              "    }\n",
              "\n",
              "    .dataframe thead th {\n",
              "        text-align: right;\n",
              "    }\n",
              "</style>\n",
              "<table border=\"1\" class=\"dataframe\">\n",
              "  <thead>\n",
              "    <tr style=\"text-align: right;\">\n",
              "      <th></th>\n",
              "      <th>user</th>\n",
              "      <th>artist</th>\n",
              "      <th>track</th>\n",
              "      <th>rating</th>\n",
              "      <th>Unnamed: 0</th>\n",
              "      <th>danceability</th>\n",
              "      <th>energy</th>\n",
              "      <th>key</th>\n",
              "      <th>loudness</th>\n",
              "      <th>mode</th>\n",
              "      <th>speechiness</th>\n",
              "      <th>acousticness</th>\n",
              "      <th>instrumentalness</th>\n",
              "      <th>liveness</th>\n",
              "      <th>valence</th>\n",
              "      <th>tempo</th>\n",
              "      <th>duration_ms</th>\n",
              "      <th>genres</th>\n",
              "      <th>popularity</th>\n",
              "      <th>genres_emb</th>\n",
              "      <th>emb_x</th>\n",
              "      <th>emb_y</th>\n",
              "      <th>emb_z</th>\n",
              "      <th>item</th>\n",
              "    </tr>\n",
              "  </thead>\n",
              "  <tbody>\n",
              "    <tr>\n",
              "      <th>933560</th>\n",
              "      <td>user_000875</td>\n",
              "      <td>Curtis Fuller</td>\n",
              "      <td>Minor Vamp</td>\n",
              "      <td>1.000000</td>\n",
              "      <td>1035028</td>\n",
              "      <td>0.578</td>\n",
              "      <td>0.250</td>\n",
              "      <td>1.0</td>\n",
              "      <td>-19.047</td>\n",
              "      <td>1.0</td>\n",
              "      <td>0.0544</td>\n",
              "      <td>0.8660</td>\n",
              "      <td>0.086300</td>\n",
              "      <td>0.0874</td>\n",
              "      <td>0.702</td>\n",
              "      <td>124.861</td>\n",
              "      <td>313627.0</td>\n",
              "      <td>['hard bop']</td>\n",
              "      <td>30</td>\n",
              "      <td>(3.70538, 5.647046, 0.40997434)</td>\n",
              "      <td>3.705380</td>\n",
              "      <td>5.647046</td>\n",
              "      <td>0.409974</td>\n",
              "      <td>Curtis Fuller-Minor Vamp</td>\n",
              "    </tr>\n",
              "    <tr>\n",
              "      <th>649532</th>\n",
              "      <td>user_000437</td>\n",
              "      <td>Manu Chao</td>\n",
              "      <td>Me Gustas Tu</td>\n",
              "      <td>1.027972</td>\n",
              "      <td>23285</td>\n",
              "      <td>0.657</td>\n",
              "      <td>0.741</td>\n",
              "      <td>11.0</td>\n",
              "      <td>-6.822</td>\n",
              "      <td>0.0</td>\n",
              "      <td>0.0825</td>\n",
              "      <td>0.6630</td>\n",
              "      <td>0.494000</td>\n",
              "      <td>0.2220</td>\n",
              "      <td>0.908</td>\n",
              "      <td>175.949</td>\n",
              "      <td>239987.0</td>\n",
              "      <td>['world', 'latin alternative']</td>\n",
              "      <td>71</td>\n",
              "      <td>[0.93859445 6.3103405  2.30777515]</td>\n",
              "      <td>0.938594</td>\n",
              "      <td>6.310341</td>\n",
              "      <td>2.307775</td>\n",
              "      <td>Manu Chao-Me Gustas Tu</td>\n",
              "    </tr>\n",
              "    <tr>\n",
              "      <th>616620</th>\n",
              "      <td>user_000572</td>\n",
              "      <td>The Undertones</td>\n",
              "      <td>My Perfect Cousin</td>\n",
              "      <td>1.800000</td>\n",
              "      <td>45453</td>\n",
              "      <td>0.509</td>\n",
              "      <td>0.858</td>\n",
              "      <td>9.0</td>\n",
              "      <td>-10.257</td>\n",
              "      <td>1.0</td>\n",
              "      <td>0.0508</td>\n",
              "      <td>0.0038</td>\n",
              "      <td>0.002580</td>\n",
              "      <td>0.0762</td>\n",
              "      <td>0.382</td>\n",
              "      <td>158.627</td>\n",
              "      <td>156360.0</td>\n",
              "      <td>['punk', 'new wave pop', 'new wave', 'northern...</td>\n",
              "      <td>52</td>\n",
              "      <td>[5.66876385 8.4624205  0.53306184]</td>\n",
              "      <td>5.668764</td>\n",
              "      <td>8.462421</td>\n",
              "      <td>0.533062</td>\n",
              "      <td>The Undertones-My Perfect Cousin</td>\n",
              "    </tr>\n",
              "    <tr>\n",
              "      <th>901155</th>\n",
              "      <td>user_000702</td>\n",
              "      <td>Gilbert Bécaud</td>\n",
              "      <td>Nathalie</td>\n",
              "      <td>1.000000</td>\n",
              "      <td>484045</td>\n",
              "      <td>0.422</td>\n",
              "      <td>0.632</td>\n",
              "      <td>9.0</td>\n",
              "      <td>-7.121</td>\n",
              "      <td>0.0</td>\n",
              "      <td>0.0779</td>\n",
              "      <td>0.7490</td>\n",
              "      <td>0.000001</td>\n",
              "      <td>0.5940</td>\n",
              "      <td>0.810</td>\n",
              "      <td>134.715</td>\n",
              "      <td>245213.0</td>\n",
              "      <td>['chanson']</td>\n",
              "      <td>54</td>\n",
              "      <td>(3.4330428, 6.9000406, 2.3754716)</td>\n",
              "      <td>3.433043</td>\n",
              "      <td>6.900041</td>\n",
              "      <td>2.375472</td>\n",
              "      <td>Gilbert Bécaud-Nathalie</td>\n",
              "    </tr>\n",
              "    <tr>\n",
              "      <th>429332</th>\n",
              "      <td>user_000451</td>\n",
              "      <td>Stevie Wonder</td>\n",
              "      <td>That Girl</td>\n",
              "      <td>1.000000</td>\n",
              "      <td>314618</td>\n",
              "      <td>0.792</td>\n",
              "      <td>0.691</td>\n",
              "      <td>6.0</td>\n",
              "      <td>-8.975</td>\n",
              "      <td>1.0</td>\n",
              "      <td>0.0431</td>\n",
              "      <td>0.1020</td>\n",
              "      <td>0.000017</td>\n",
              "      <td>0.0679</td>\n",
              "      <td>0.899</td>\n",
              "      <td>106.979</td>\n",
              "      <td>313840.0</td>\n",
              "      <td>['indie r&amp;b', 'soul', 'motown', 'adult standar...</td>\n",
              "      <td>80</td>\n",
              "      <td>[3.7881843  6.35666815 1.04414575]</td>\n",
              "      <td>3.788184</td>\n",
              "      <td>6.356668</td>\n",
              "      <td>1.044146</td>\n",
              "      <td>Stevie Wonder-That Girl</td>\n",
              "    </tr>\n",
              "  </tbody>\n",
              "</table>\n",
              "</div>"
            ],
            "text/plain": [
              "               user          artist  ...     emb_z                              item\n",
              "933560  user_000875   Curtis Fuller  ...  0.409974          Curtis Fuller-Minor Vamp\n",
              "649532  user_000437       Manu Chao  ...  2.307775            Manu Chao-Me Gustas Tu\n",
              "616620  user_000572  The Undertones  ...  0.533062  The Undertones-My Perfect Cousin\n",
              "901155  user_000702  Gilbert Bécaud  ...  2.375472           Gilbert Bécaud-Nathalie\n",
              "429332  user_000451   Stevie Wonder  ...  1.044146           Stevie Wonder-That Girl\n",
              "\n",
              "[5 rows x 24 columns]"
            ]
          },
          "metadata": {
            "tags": []
          },
          "execution_count": 226
        }
      ]
    },
    {
      "cell_type": "code",
      "metadata": {
        "id": "GlgOyabZiDQ7"
      },
      "source": [
        "matrix_sampled['user_id'] = matrix_sampled['user'].astype('category').cat.codes\n",
        "matrix_sampled['item_id'] = matrix_sampled['item'].astype('category').cat.codes"
      ],
      "id": "GlgOyabZiDQ7",
      "execution_count": 227,
      "outputs": []
    },
    {
      "cell_type": "code",
      "metadata": {
        "id": "lyric-crash"
      },
      "source": [
        "X = matrix_sampled[['user_id', \n",
        "              'item_id',\n",
        "              'danceability',\n",
        "              'energy',\n",
        "              'speechiness', \n",
        "              'acousticness', \n",
        "              'instrumentalness', \n",
        "              'liveness',\n",
        "              'valence', \n",
        "              'tempo', \n",
        "              'popularity', \n",
        "              'emb_x', \n",
        "              'emb_y',\n",
        "              'emb_z']]\n",
        "y = matrix_sampled['rating']\n",
        "groups = matrix_sampled['user_id']"
      ],
      "id": "lyric-crash",
      "execution_count": 228,
      "outputs": []
    },
    {
      "cell_type": "code",
      "metadata": {
        "id": "divine-boston"
      },
      "source": [
        "# Change splitting to be by index using https://stackoverflow.com/questions/53490497/getting-validation-set-from-train-set-by-using-percentage-from-groupby-in-pand\n",
        "X_train, X_test, y_train, y_test = train_test_split(X, y, test_size=0.2, stratify=groups)"
      ],
      "id": "divine-boston",
      "execution_count": 229,
      "outputs": []
    },
    {
      "cell_type": "code",
      "metadata": {
        "id": "organic-irish"
      },
      "source": [
        "no_users, no_items, no_factors = matrix_sampled['user_id'].nunique(), matrix_sampled['item_id'].nunique(), 100"
      ],
      "id": "organic-irish",
      "execution_count": 230,
      "outputs": []
    },
    {
      "cell_type": "markdown",
      "metadata": {
        "id": "super-dynamics"
      },
      "source": [
        "### Models"
      ],
      "id": "super-dynamics"
    },
    {
      "cell_type": "code",
      "metadata": {
        "id": "guilty-louisiana"
      },
      "source": [
        "def create_shallow_model(no_factors, no_users, no_items):\n",
        "    # User branch\n",
        "    user_id = tf.keras.layers.Input(shape=[1], name='user_id')\n",
        "    user_matrix = tf.keras.layers.Embedding(no_users+1, no_factors, name='user_matrix')(user_id)\n",
        "    user_vector = tf.keras.layers.Flatten(name='user_vector')(user_matrix)\n",
        "    # Item branch\n",
        "    item_id = tf.keras.layers.Input(shape=[1], name='item_id')\n",
        "    item_matrix = tf.keras.layers.Embedding(no_items+1, no_factors, name='item_matrix')(item_id)\n",
        "    item_vector = tf.keras.layers.Flatten(name='item_vector')(item_matrix)\n",
        "    # Dot product \n",
        "    vectors_product = tf.keras.layers.dot([user_vector, item_vector], axes=1, normalize=False)\n",
        "    # Model definition\n",
        "    model = tf.keras.models.Model(inputs=[user_id, item_id], outputs=[vectors_product], name='shallow_model')\n",
        "    return model"
      ],
      "id": "guilty-louisiana",
      "execution_count": 231,
      "outputs": []
    },
    {
      "cell_type": "code",
      "metadata": {
        "id": "needed-energy"
      },
      "source": [
        "model = create_shallow_model(no_factors, no_users, no_items)"
      ],
      "id": "needed-energy",
      "execution_count": 232,
      "outputs": []
    },
    {
      "cell_type": "code",
      "metadata": {
        "id": "concrete-mediterranean",
        "colab": {
          "base_uri": "https://localhost:8080/"
        },
        "outputId": "0added9b-be34-43f2-ff04-96b6f3c1c415"
      },
      "source": [
        "model.summary()"
      ],
      "id": "concrete-mediterranean",
      "execution_count": 233,
      "outputs": [
        {
          "output_type": "stream",
          "text": [
            "Model: \"shallow_model\"\n",
            "__________________________________________________________________________________________________\n",
            "Layer (type)                    Output Shape         Param #     Connected to                     \n",
            "==================================================================================================\n",
            "user_id (InputLayer)            [(None, 1)]          0                                            \n",
            "__________________________________________________________________________________________________\n",
            "item_id (InputLayer)            [(None, 1)]          0                                            \n",
            "__________________________________________________________________________________________________\n",
            "user_matrix (Embedding)         (None, 1, 100)       20100       user_id[0][0]                    \n",
            "__________________________________________________________________________________________________\n",
            "item_matrix (Embedding)         (None, 1, 100)       38512500    item_id[0][0]                    \n",
            "__________________________________________________________________________________________________\n",
            "user_vector (Flatten)           (None, 100)          0           user_matrix[0][0]                \n",
            "__________________________________________________________________________________________________\n",
            "item_vector (Flatten)           (None, 100)          0           item_matrix[0][0]                \n",
            "__________________________________________________________________________________________________\n",
            "dot_8 (Dot)                     (None, 1)            0           user_vector[0][0]                \n",
            "                                                                 item_vector[0][0]                \n",
            "==================================================================================================\n",
            "Total params: 38,532,600\n",
            "Trainable params: 38,532,600\n",
            "Non-trainable params: 0\n",
            "__________________________________________________________________________________________________\n"
          ],
          "name": "stdout"
        }
      ]
    },
    {
      "cell_type": "code",
      "metadata": {
        "id": "million-delaware"
      },
      "source": [
        "def create_deep_model(no_factors, no_users, no_items):\n",
        "    # User branch\n",
        "    user_id = tf.keras.layers.Input(shape=[1], name='user_id')\n",
        "    user_matrix = tf.keras.layers.Embedding(no_users+1, no_factors, name='user_matrix')(user_id)\n",
        "    user_vector = tf.keras.layers.Flatten(name='user_vector')(user_matrix)\n",
        "    # Item branch\n",
        "    item_id = tf.keras.layers.Input(shape=[1], name='item_id')\n",
        "    item_matrix = tf.keras.layers.Embedding(no_items+1, no_factors, name='item_matrix')(item_id)\n",
        "    item_vector = tf.keras.layers.Flatten(name='item_vector')(item_matrix)\n",
        "    # Concantenation\n",
        "    vectors_concat = tf.keras.layers.Concatenate()([user_vector, item_vector])\n",
        "    vectors_concat_dropout = tf.keras.layers.Dropout(0.2)(vectors_concat)\n",
        "    # Backbone \n",
        "    dense_1 = tf.keras.layers.Dense(128,name='fc3')(vectors_concat_dropout)\n",
        "    dropout_1 = tf.keras.layers.Dropout(0.2,name='d3')(dense_1)\n",
        "    dense_2 = tf.keras.layers.Dense(8,name='fc4', activation='relu')(dropout_1)\n",
        "    dense_2_output = tf.keras.layers.Dense(1, activation='relu', name='activation')(dense_2)\n",
        "    # Model definition\n",
        "    model = tf.keras.models.Model(inputs=[user_id, item_id], outputs=[dense_2_output], name='deep_model')\n",
        "    return model"
      ],
      "id": "million-delaware",
      "execution_count": 234,
      "outputs": []
    },
    {
      "cell_type": "code",
      "metadata": {
        "id": "canadian-boulder"
      },
      "source": [
        "model = create_deep_model(no_factors, no_users, no_items)"
      ],
      "id": "canadian-boulder",
      "execution_count": 235,
      "outputs": []
    },
    {
      "cell_type": "markdown",
      "metadata": {
        "id": "minute-manual"
      },
      "source": [
        "### Model training"
      ],
      "id": "minute-manual"
    },
    {
      "cell_type": "code",
      "metadata": {
        "id": "confident-conviction",
        "colab": {
          "base_uri": "https://localhost:8080/"
        },
        "outputId": "419fc5bb-f51f-4a7d-d01e-ce4f5f2be5ac"
      },
      "source": [
        "# Input-output data definition\n",
        "X_train_arr = [X_train.user_id, X_train.item_id]\n",
        "\n",
        "# Model creation\n",
        "model = create_deep_model(no_factors, no_users, no_items)\n",
        "\n",
        "# Model compiling \n",
        "model.compile(loss=tf.keras.losses.MeanSquaredError())\n",
        "\n",
        "# Model training\n",
        "model.fit(X_train_arr, y_train, epochs=10, batch_size=2048, shuffle=True)"
      ],
      "id": "confident-conviction",
      "execution_count": 236,
      "outputs": [
        {
          "output_type": "stream",
          "text": [
            "Epoch 1/10\n",
            "379/379 [==============================] - 63s 165ms/step - loss: 0.1018\n",
            "Epoch 2/10\n",
            "379/379 [==============================] - 63s 165ms/step - loss: 0.0854\n",
            "Epoch 3/10\n",
            "379/379 [==============================] - 62s 165ms/step - loss: 0.0806\n",
            "Epoch 4/10\n",
            "379/379 [==============================] - 62s 164ms/step - loss: 0.0734\n",
            "Epoch 5/10\n",
            "379/379 [==============================] - 62s 164ms/step - loss: 0.0674\n",
            "Epoch 6/10\n",
            "379/379 [==============================] - 62s 164ms/step - loss: 0.0631\n",
            "Epoch 7/10\n",
            "379/379 [==============================] - 62s 165ms/step - loss: 0.0602\n",
            "Epoch 8/10\n",
            "379/379 [==============================] - 62s 164ms/step - loss: 0.0580\n",
            "Epoch 9/10\n",
            "379/379 [==============================] - 62s 164ms/step - loss: 0.0562\n",
            "Epoch 10/10\n",
            "379/379 [==============================] - 62s 164ms/step - loss: 0.0546\n"
          ],
          "name": "stdout"
        },
        {
          "output_type": "execute_result",
          "data": {
            "text/plain": [
              "<tensorflow.python.keras.callbacks.History at 0x7f13cc5f5cd0>"
            ]
          },
          "metadata": {
            "tags": []
          },
          "execution_count": 236
        }
      ]
    },
    {
      "cell_type": "markdown",
      "metadata": {
        "id": "separate-magic"
      },
      "source": [
        "### Prediction"
      ],
      "id": "separate-magic"
    },
    {
      "cell_type": "code",
      "metadata": {
        "id": "atlantic-maria"
      },
      "source": [
        "# Predictions in the training set\n",
        "# X_train = [X_train.user_id, X_train.item_id]\n",
        "y_train_pred = model.predict(X_train_arr, batch_size=2048)"
      ],
      "id": "atlantic-maria",
      "execution_count": 237,
      "outputs": []
    },
    {
      "cell_type": "code",
      "metadata": {
        "id": "6IC4nrL_tcJ6",
        "colab": {
          "base_uri": "https://localhost:8080/",
          "height": 204
        },
        "outputId": "db2a1471-1305-4e4d-895b-5f26f7336c3e"
      },
      "source": [
        "X_test.head()"
      ],
      "id": "6IC4nrL_tcJ6",
      "execution_count": 238,
      "outputs": [
        {
          "output_type": "execute_result",
          "data": {
            "text/html": [
              "<div>\n",
              "<style scoped>\n",
              "    .dataframe tbody tr th:only-of-type {\n",
              "        vertical-align: middle;\n",
              "    }\n",
              "\n",
              "    .dataframe tbody tr th {\n",
              "        vertical-align: top;\n",
              "    }\n",
              "\n",
              "    .dataframe thead th {\n",
              "        text-align: right;\n",
              "    }\n",
              "</style>\n",
              "<table border=\"1\" class=\"dataframe\">\n",
              "  <thead>\n",
              "    <tr style=\"text-align: right;\">\n",
              "      <th></th>\n",
              "      <th>user_id</th>\n",
              "      <th>item_id</th>\n",
              "      <th>danceability</th>\n",
              "      <th>energy</th>\n",
              "      <th>speechiness</th>\n",
              "      <th>acousticness</th>\n",
              "      <th>instrumentalness</th>\n",
              "      <th>liveness</th>\n",
              "      <th>valence</th>\n",
              "      <th>tempo</th>\n",
              "      <th>popularity</th>\n",
              "      <th>emb_x</th>\n",
              "      <th>emb_y</th>\n",
              "      <th>emb_z</th>\n",
              "    </tr>\n",
              "  </thead>\n",
              "  <tbody>\n",
              "    <tr>\n",
              "      <th>147544</th>\n",
              "      <td>168</td>\n",
              "      <td>328353</td>\n",
              "      <td>0.462</td>\n",
              "      <td>0.877</td>\n",
              "      <td>0.0414</td>\n",
              "      <td>0.15700</td>\n",
              "      <td>0.000010</td>\n",
              "      <td>0.117</td>\n",
              "      <td>0.885</td>\n",
              "      <td>129.726</td>\n",
              "      <td>50</td>\n",
              "      <td>7.098665</td>\n",
              "      <td>7.336328</td>\n",
              "      <td>2.307446</td>\n",
              "    </tr>\n",
              "    <tr>\n",
              "      <th>319554</th>\n",
              "      <td>32</td>\n",
              "      <td>36140</td>\n",
              "      <td>0.463</td>\n",
              "      <td>0.673</td>\n",
              "      <td>0.9400</td>\n",
              "      <td>0.71600</td>\n",
              "      <td>0.000000</td>\n",
              "      <td>0.960</td>\n",
              "      <td>0.302</td>\n",
              "      <td>76.702</td>\n",
              "      <td>34</td>\n",
              "      <td>7.134524</td>\n",
              "      <td>8.881257</td>\n",
              "      <td>0.943933</td>\n",
              "    </tr>\n",
              "    <tr>\n",
              "      <th>782879</th>\n",
              "      <td>84</td>\n",
              "      <td>208692</td>\n",
              "      <td>0.638</td>\n",
              "      <td>0.955</td>\n",
              "      <td>0.0274</td>\n",
              "      <td>0.00786</td>\n",
              "      <td>0.000128</td>\n",
              "      <td>0.160</td>\n",
              "      <td>0.600</td>\n",
              "      <td>137.987</td>\n",
              "      <td>62</td>\n",
              "      <td>6.133835</td>\n",
              "      <td>6.965524</td>\n",
              "      <td>3.720656</td>\n",
              "    </tr>\n",
              "    <tr>\n",
              "      <th>216677</th>\n",
              "      <td>35</td>\n",
              "      <td>153616</td>\n",
              "      <td>0.749</td>\n",
              "      <td>0.583</td>\n",
              "      <td>0.0942</td>\n",
              "      <td>0.20900</td>\n",
              "      <td>0.003200</td>\n",
              "      <td>0.103</td>\n",
              "      <td>0.897</td>\n",
              "      <td>132.658</td>\n",
              "      <td>46</td>\n",
              "      <td>2.815995</td>\n",
              "      <td>7.732660</td>\n",
              "      <td>2.081691</td>\n",
              "    </tr>\n",
              "    <tr>\n",
              "      <th>843012</th>\n",
              "      <td>26</td>\n",
              "      <td>82378</td>\n",
              "      <td>0.733</td>\n",
              "      <td>0.670</td>\n",
              "      <td>0.1320</td>\n",
              "      <td>0.11900</td>\n",
              "      <td>0.000000</td>\n",
              "      <td>0.442</td>\n",
              "      <td>0.763</td>\n",
              "      <td>86.983</td>\n",
              "      <td>65</td>\n",
              "      <td>4.237202</td>\n",
              "      <td>7.522562</td>\n",
              "      <td>4.379738</td>\n",
              "    </tr>\n",
              "  </tbody>\n",
              "</table>\n",
              "</div>"
            ],
            "text/plain": [
              "        user_id  item_id  danceability  ...     emb_x     emb_y     emb_z\n",
              "147544      168   328353         0.462  ...  7.098665  7.336328  2.307446\n",
              "319554       32    36140         0.463  ...  7.134524  8.881257  0.943933\n",
              "782879       84   208692         0.638  ...  6.133835  6.965524  3.720656\n",
              "216677       35   153616         0.749  ...  2.815995  7.732660  2.081691\n",
              "843012       26    82378         0.733  ...  4.237202  7.522562  4.379738\n",
              "\n",
              "[5 rows x 14 columns]"
            ]
          },
          "metadata": {
            "tags": []
          },
          "execution_count": 238
        }
      ]
    },
    {
      "cell_type": "code",
      "metadata": {
        "id": "smoking-apparel"
      },
      "source": [
        "# Predictions in the test set\n",
        "X_test_arr = [X_test.user_id, X_test.item_id]\n",
        "y_test_pred = model.predict(X_test_arr, batch_size=2048)"
      ],
      "id": "smoking-apparel",
      "execution_count": 239,
      "outputs": []
    },
    {
      "cell_type": "markdown",
      "metadata": {
        "id": "single-gospel"
      },
      "source": [
        "### Evaluation"
      ],
      "id": "single-gospel"
    },
    {
      "cell_type": "code",
      "metadata": {
        "id": "hired-webcam",
        "colab": {
          "base_uri": "https://localhost:8080/"
        },
        "outputId": "a35fa57f-adfe-457c-fbcc-b051f846f324"
      },
      "source": [
        "from sklearn.metrics import mean_squared_error\n",
        "print('Train RMSE:', mean_squared_error(y_train.values, y_train_pred, squared=False))\n",
        "print('Test RMSE:', mean_squared_error(y_test.values, y_test_pred, squared=False))"
      ],
      "id": "hired-webcam",
      "execution_count": 240,
      "outputs": [
        {
          "output_type": "stream",
          "text": [
            "Train RMSE: 0.21970625318146253\n",
            "Test RMSE: 0.32491139547904274\n"
          ],
          "name": "stdout"
        }
      ]
    },
    {
      "cell_type": "code",
      "metadata": {
        "id": "honest-globe"
      },
      "source": [
        "def precision_at_k(model, pred_func, train_ratings, test_ratings, no_users, no_items, k=5):\n",
        "    precisions = []\n",
        "    # For each user\n",
        "    for user_id, user_test_rating in tqdm(test_ratings.groupby('user_id')):\n",
        "        # Retrieve already-seen items\n",
        "        train_pids = train_ratings[train_ratings['user_id'] == user_id]['item_id'].values\n",
        "        # Retrieve the unseen items\n",
        "        user_df = test_ratings[(test_ratings['user_id'] == user_id)]\n",
        "        test_pids = user_df['item_id'].values\n",
        "        relevant_pids = set(user_df.loc[user_df['rating'] > 2.5, 'item_id'].values)\n",
        "        if len(relevant_pids) == 0:\n",
        "          continue\n",
        "        # Create testing dataframe\n",
        "        test_df = pd.DataFrame({'user_id': user_id, 'item_id': test_pids})\n",
        "        test_set = [test_df.user_id, test_df.item_id]\n",
        "        # Make rating predictions for all items for that user\n",
        "        predictions = model.predict(test_set, batch_size=2048)\n",
        "        # predictions = pred_func(model, user_id, pid_array, train_ratings)\n",
        "        predictions = predictions.reshape(-1)\n",
        "        # Sort the items and het the top k\n",
        "        top_k = np.argsort(predictions)[:k]\n",
        "        top_k_items = set(np.array(test_pids)[top_k[:10]])\n",
        "        # Compute precision as per definition\n",
        "        precisions.append(len(top_k_items & relevant_pids) / float(k))\n",
        "    return precisions"
      ],
      "id": "honest-globe",
      "execution_count": 242,
      "outputs": []
    },
    {
      "cell_type": "code",
      "metadata": {
        "id": "committed-trunk"
      },
      "source": [
        "X_train_arr = np.array(X_train_arr)\n",
        "X_test_arr = np.array(X_test_arr)"
      ],
      "id": "committed-trunk",
      "execution_count": 243,
      "outputs": []
    },
    {
      "cell_type": "code",
      "metadata": {
        "id": "modern-denmark"
      },
      "source": [
        "train_ratings = pd.DataFrame({'user_id': X_train_arr[0, :], 'item_id':X_train_arr[1, :], 'rating': y_train})\n",
        "test_ratings = pd.DataFrame({'user_id': X_test_arr[0, :], 'item_id':X_test_arr[1, :], 'rating': y_test})"
      ],
      "id": "modern-denmark",
      "execution_count": 244,
      "outputs": []
    },
    {
      "cell_type": "code",
      "metadata": {
        "id": "asian-divide",
        "colab": {
          "base_uri": "https://localhost:8080/"
        },
        "outputId": "265caabc-8f61-499f-a9e4-2d51a82c0001"
      },
      "source": [
        "precisions = precision_at_k(model, predict_from_latent, train_ratings, test_ratings, no_users, no_items, k=10)"
      ],
      "id": "asian-divide",
      "execution_count": 245,
      "outputs": [
        {
          "output_type": "stream",
          "text": [
            "100%|██████████| 200/200 [00:11<00:00, 17.79it/s]\n"
          ],
          "name": "stderr"
        }
      ]
    },
    {
      "cell_type": "code",
      "metadata": {
        "id": "muslim-sphere",
        "colab": {
          "base_uri": "https://localhost:8080/"
        },
        "outputId": "4082c706-c4c7-43c2-cb2d-f93fbdcc167c"
      },
      "source": [
        "np.mean(precisions), np.std(precisions)"
      ],
      "id": "muslim-sphere",
      "execution_count": 246,
      "outputs": [
        {
          "output_type": "execute_result",
          "data": {
            "text/plain": [
              "(0.004999999999999999, 0.02640496586292477)"
            ]
          },
          "metadata": {
            "tags": []
          },
          "execution_count": 246
        }
      ]
    },
    {
      "cell_type": "code",
      "metadata": {
        "id": "SV17MaZa3ss5",
        "outputId": "6f717150-daa2-4d70-cdaa-ee6e6ce83e0d",
        "colab": {
          "base_uri": "https://localhost:8080/"
        }
      },
      "source": [
        "(test_ratings.groupby('user_id').count())['item_id'].mean()"
      ],
      "id": "SV17MaZa3ss5",
      "execution_count": 247,
      "outputs": [
        {
          "output_type": "execute_result",
          "data": {
            "text/plain": [
              "969.175"
            ]
          },
          "metadata": {
            "tags": []
          },
          "execution_count": 247
        }
      ]
    },
    {
      "cell_type": "code",
      "metadata": {
        "id": "vEDcnIvQ4CYY",
        "outputId": "e00c6aef-bd6c-489d-e10d-ea64a26f4374",
        "colab": {
          "base_uri": "https://localhost:8080/"
        }
      },
      "source": [
        "np.array(test_pids)[top_k[:10]]"
      ],
      "id": "vEDcnIvQ4CYY",
      "execution_count": 162,
      "outputs": [
        {
          "output_type": "execute_result",
          "data": {
            "text/plain": [
              "array([ 60493,   3390, 155070, 217176, 236222,  84621,  55342,  71947,\n",
              "        61432, 109592], dtype=int32)"
            ]
          },
          "metadata": {
            "tags": []
          },
          "execution_count": 162
        }
      ]
    },
    {
      "cell_type": "code",
      "metadata": {
        "id": "cosmetic-enhancement"
      },
      "source": [
        "### EXERCISE CELL ###\n",
        "def recall_at_k(model, pred_func, train_ratings, test_ratings, no_users, no_items, k=5):\n",
        "    recalls = []\n",
        "    for user_id, user_test_rating in tqdm(test_ratings.groupby('user_id')):\n",
        "        # Retrieve already-seen items\n",
        "        train_pids = train_ratings[train_ratings['user_id'] == user_id]['item_id'].values\n",
        "        # Retrieve the unseen items\n",
        "        user_df = test_ratings[(test_ratings['user_id'] == user_id)]\n",
        "        test_pids = user_df['item_id'].values\n",
        "        relevant_pids = set(user_df.loc[user_df['rating'] > 2.5, 'item_id'].values)\n",
        "        if len(relevant_pids) == 0:\n",
        "          continue\n",
        "        # Create testing dataframe\n",
        "        test_df = pd.DataFrame({'user_id': user_id, 'item_id': test_pids})\n",
        "        test_set = [test_df.user_id, test_df.item_id]\n",
        "        # Make rating predictions for all items for that user\n",
        "        predictions = model.predict(test_set, batch_size=2048)\n",
        "        # predictions = pred_func(model, user_id, pid_array, train_ratings)\n",
        "        predictions = predictions.reshape(-1)\n",
        "        # Sort the items and het the top k\n",
        "        top_k = np.argsort(predictions)[:k]\n",
        "        top_k_items = set(np.array(test_pids)[top_k[:10]])\n",
        "        recalls.append(len(top_k_items & relevant_pids) / len(relevant_pids))\n",
        "    return recalls"
      ],
      "id": "cosmetic-enhancement",
      "execution_count": 248,
      "outputs": []
    },
    {
      "cell_type": "code",
      "metadata": {
        "id": "collected-universal",
        "colab": {
          "base_uri": "https://localhost:8080/"
        },
        "outputId": "0b85e28f-05e3-4fa4-e538-91583f463624"
      },
      "source": [
        "recalls = recall_at_k(model, predict_from_latent, train_ratings, test_ratings, no_users, no_items, k=10)"
      ],
      "id": "collected-universal",
      "execution_count": 249,
      "outputs": [
        {
          "output_type": "stream",
          "text": [
            "100%|██████████| 200/200 [00:11<00:00, 17.74it/s]\n"
          ],
          "name": "stderr"
        }
      ]
    },
    {
      "cell_type": "code",
      "metadata": {
        "id": "hourly-skiing",
        "colab": {
          "base_uri": "https://localhost:8080/"
        },
        "outputId": "cc8f1fff-de7a-429b-e5d3-c432013b5cb6"
      },
      "source": [
        "np.mean(recalls), np.std(recalls)"
      ],
      "id": "hourly-skiing",
      "execution_count": 250,
      "outputs": [
        {
          "output_type": "execute_result",
          "data": {
            "text/plain": [
              "(0.007417929292929293, 0.05500871034129213)"
            ]
          },
          "metadata": {
            "tags": []
          },
          "execution_count": 250
        }
      ]
    },
    {
      "cell_type": "code",
      "metadata": {
        "id": "answering-drink"
      },
      "source": [
        "### EXERCISE CELL ###\n",
        "def map_at_k(model, pred_func, train_ratings, test_ratings, no_users, no_items, k=10):\n",
        "    pid_array = np.arange(no_items, dtype=np.int32)\n",
        "    maps = []\n",
        "    for user_id, user_test_rating in tqdm(test_ratings.groupby('user_id')):\n",
        "        train_pids = train_ratings[train_ratings['user_id'] == user_id]['item_id'].values\n",
        "        test_pids = set(user_test_rating['item_id'].values)\n",
        "        test_set = pd.DataFrame({'user_id': user_id, 'item_id': pid_array})\n",
        "        test_set = [test_set.user_id, test_set.item_id]\n",
        "        # Make rating predictions for all items for that user\n",
        "        predictions = model.predict(test_set, batch_size=2048)\n",
        "        predictions = predictions.reshape(-1)\n",
        "        predictions[train_pids] = - math.inf\n",
        "        partial_maps = []\n",
        "        top_k = list(np.argsort(-predictions)[:k])\n",
        "        for rank, item_id in enumerate(top_k):\n",
        "            if item_id in test_pids:\n",
        "                partial_maps.append(len(set(top_k[:rank+1]) & test_pids) / float(rank+1))\n",
        "        maps.append(.0 if len(partial_maps) == 0 else np.sum(partial_maps) / float(k))\n",
        "    return maps"
      ],
      "id": "answering-drink",
      "execution_count": null,
      "outputs": []
    },
    {
      "cell_type": "code",
      "metadata": {
        "id": "fantastic-sender",
        "colab": {
          "base_uri": "https://localhost:8080/"
        },
        "outputId": "fb63c1a9-1b58-4e41-8c82-9bb38c3bebc1"
      },
      "source": [
        "maps = map_at_k(model, predict_from_latent, train_ratings, test_ratings, no_users, no_items, k=10)"
      ],
      "id": "fantastic-sender",
      "execution_count": null,
      "outputs": [
        {
          "output_type": "stream",
          "text": [
            "100%|██████████| 200/200 [01:07<00:00,  2.96it/s]\n"
          ],
          "name": "stderr"
        }
      ]
    },
    {
      "cell_type": "code",
      "metadata": {
        "id": "changing-israel",
        "colab": {
          "base_uri": "https://localhost:8080/"
        },
        "outputId": "3484a26c-2b0e-423b-fb73-21f9f62cded1"
      },
      "source": [
        "np.mean(maps), np.std(maps)"
      ],
      "id": "changing-israel",
      "execution_count": null,
      "outputs": [
        {
          "output_type": "execute_result",
          "data": {
            "text/plain": [
              "(8.333333333333333e-05, 0.0011755613316388237)"
            ]
          },
          "metadata": {
            "tags": []
          },
          "execution_count": 223
        }
      ]
    },
    {
      "cell_type": "code",
      "metadata": {
        "id": "least-brooklyn"
      },
      "source": [
        ""
      ],
      "id": "least-brooklyn",
      "execution_count": null,
      "outputs": []
    }
  ]
}