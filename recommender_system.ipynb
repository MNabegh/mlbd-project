{
  "nbformat": 4,
  "nbformat_minor": 5,
  "metadata": {
    "kernelspec": {
      "display_name": "Python 3",
      "language": "python",
      "name": "python3"
    },
    "language_info": {
      "codemirror_mode": {
        "name": "ipython",
        "version": 3
      },
      "file_extension": ".py",
      "mimetype": "text/x-python",
      "name": "python",
      "nbconvert_exporter": "python",
      "pygments_lexer": "ipython3",
      "version": "3.7.10"
    },
    "colab": {
      "name": "recommender_system.ipynb",
      "provenance": [],
      "include_colab_link": true
    }
  },
  "cells": [
    {
      "cell_type": "markdown",
      "metadata": {
        "id": "view-in-github",
        "colab_type": "text"
      },
      "source": [
        "<a href=\"https://colab.research.google.com/github/MNabegh/mlbd-project/blob/master/recommender_system.ipynb\" target=\"_parent\"><img src=\"https://colab.research.google.com/assets/colab-badge.svg\" alt=\"Open In Colab\"/></a>"
      ]
    },
    {
      "cell_type": "code",
      "metadata": {
        "id": "0VEXgpNp1Cqi"
      },
      "source": [
        "import os\n",
        "\n",
        "path = 'lastfm-dataset-1K'\n",
        "\n",
        "if not os.path.exists(path):\n",
        "\n",
        "  !wget http://mtg.upf.edu/static/datasets/last.fm/lastfm-dataset-1K.tar.gz\n",
        "  !tar -xvzf lastfm-dataset-1K.tar.gz\n"
      ],
      "id": "0VEXgpNp1Cqi",
      "execution_count": 1,
      "outputs": []
    },
    {
      "cell_type": "code",
      "metadata": {
        "colab": {
          "base_uri": "https://localhost:8080/"
        },
        "id": "dHPzdYY01CTs",
        "outputId": "327f877a-5483-4c52-a335-38cbd78fdce3"
      },
      "source": [
        "!ls"
      ],
      "id": "dHPzdYY01CTs",
      "execution_count": 2,
      "outputs": [
        {
          "output_type": "stream",
          "text": [
            "drive  lastfm-dataset-1K  lastfm-dataset-1K.tar.gz  sample_data\n"
          ],
          "name": "stdout"
        }
      ]
    },
    {
      "cell_type": "code",
      "metadata": {
        "id": "PQ162BxguWhK",
        "colab": {
          "base_uri": "https://localhost:8080/"
        },
        "outputId": "39e8e378-5b81-4786-80b4-c545f6ad39a4"
      },
      "source": [
        "import os\n",
        "from google.colab import drive\n",
        "drive.mount('/content/drive')"
      ],
      "id": "PQ162BxguWhK",
      "execution_count": 3,
      "outputs": [
        {
          "output_type": "stream",
          "text": [
            "Drive already mounted at /content/drive; to attempt to forcibly remount, call drive.mount(\"/content/drive\", force_remount=True).\n"
          ],
          "name": "stdout"
        }
      ]
    },
    {
      "cell_type": "code",
      "metadata": {
        "id": "IkLzfmKxv1nY",
        "colab": {
          "base_uri": "https://localhost:8080/"
        },
        "outputId": "eb662287-205a-4857-e768-e2c9e7538a35"
      },
      "source": [
        "!ls drive/MyDrive/data"
      ],
      "id": "IkLzfmKxv1nY",
      "execution_count": 4,
      "outputs": [
        {
          "output_type": "stream",
          "text": [
            "feature_df_with_emb_clean.csv  spotify_features_cleaned.csv\n",
            "feature_df_with_emb.csv        spotify_features.csv\n",
            "genres_3d_mapping.json\n"
          ],
          "name": "stdout"
        }
      ]
    },
    {
      "cell_type": "code",
      "metadata": {
        "id": "legislative-photography",
        "colab": {
          "base_uri": "https://localhost:8080/"
        },
        "outputId": "b6ee4a31-45b3-410f-c470-9c57d66eece6"
      },
      "source": [
        "import pandas as pd\n",
        "import matplotlib.pyplot as plt\n",
        "import seaborn as sns\n",
        "from io import StringIO\n",
        "import numpy as np\n",
        "from tqdm import tqdm\n",
        "from sklearn.model_selection import train_test_split\n",
        "from sklearn.metrics import roc_auc_score\n",
        "import scipy.sparse as sp\n",
        "import tensorflow as tf\n",
        "from tqdm import tqdm\n",
        "import pandas as pd\n",
        "import numpy as np\n",
        "\n",
        "from keras.utils.vis_utils import model_to_dot\n",
        "from IPython.display import SVG\n",
        "import matplotlib.pyplot as plt\n",
        "import matplotlib as mpl\n",
        "mpl.style.use('seaborn')\n",
        "%matplotlib inline\n",
        "\n",
        "import datetime\n",
        "import time \n",
        "import math\n",
        "import os\n",
        "%config Completer.use_jedi = False"
      ],
      "id": "legislative-photography",
      "execution_count": 5,
      "outputs": [
        {
          "output_type": "stream",
          "text": [
            "/usr/local/lib/python3.7/dist-packages/ipykernel_launcher.py:26: UserWarning: Config option `use_jedi` not recognized by `IPCompleter`.\n"
          ],
          "name": "stderr"
        }
      ]
    },
    {
      "cell_type": "code",
      "metadata": {
        "id": "y6JENn92JzyY"
      },
      "source": [
        "path = \"drive/MyDrive/data/feature_df_with_emb_clean.csv\"\n",
        "\n",
        "feature_df_with_emb = pd.read_csv(path)\n",
        "feature_df_with_emb = feature_df_with_emb.drop(columns=['Unnamed: 0', 'genres', 'genres_emb'])\n",
        "feature_df_with_emb = feature_df_with_emb.dropna()"
      ],
      "id": "y6JENn92JzyY",
      "execution_count": 6,
      "outputs": []
    },
    {
      "cell_type": "code",
      "metadata": {
        "id": "9MPlx151Mo_8",
        "colab": {
          "base_uri": "https://localhost:8080/",
          "height": 204
        },
        "outputId": "54ee4e78-21db-4ad4-e260-797b7815fc6b"
      },
      "source": [
        "feature_df_with_emb.head()"
      ],
      "id": "9MPlx151Mo_8",
      "execution_count": 7,
      "outputs": [
        {
          "output_type": "execute_result",
          "data": {
            "text/html": [
              "<div>\n",
              "<style scoped>\n",
              "    .dataframe tbody tr th:only-of-type {\n",
              "        vertical-align: middle;\n",
              "    }\n",
              "\n",
              "    .dataframe tbody tr th {\n",
              "        vertical-align: top;\n",
              "    }\n",
              "\n",
              "    .dataframe thead th {\n",
              "        text-align: right;\n",
              "    }\n",
              "</style>\n",
              "<table border=\"1\" class=\"dataframe\">\n",
              "  <thead>\n",
              "    <tr style=\"text-align: right;\">\n",
              "      <th></th>\n",
              "      <th>artist</th>\n",
              "      <th>track</th>\n",
              "      <th>danceability</th>\n",
              "      <th>energy</th>\n",
              "      <th>key</th>\n",
              "      <th>loudness</th>\n",
              "      <th>mode</th>\n",
              "      <th>speechiness</th>\n",
              "      <th>acousticness</th>\n",
              "      <th>instrumentalness</th>\n",
              "      <th>liveness</th>\n",
              "      <th>valence</th>\n",
              "      <th>tempo</th>\n",
              "      <th>duration_ms</th>\n",
              "      <th>popularity</th>\n",
              "      <th>emb_x</th>\n",
              "      <th>emb_y</th>\n",
              "      <th>emb_z</th>\n",
              "    </tr>\n",
              "  </thead>\n",
              "  <tbody>\n",
              "    <tr>\n",
              "      <th>0</th>\n",
              "      <td>坂本龍一</td>\n",
              "      <td>Composition 0919 (Live_2009_4_15)</td>\n",
              "      <td>0.806</td>\n",
              "      <td>0.413</td>\n",
              "      <td>5.0</td>\n",
              "      <td>-12.883</td>\n",
              "      <td>1.0</td>\n",
              "      <td>0.1560</td>\n",
              "      <td>0.987</td>\n",
              "      <td>0.794</td>\n",
              "      <td>0.1130</td>\n",
              "      <td>0.5290</td>\n",
              "      <td>105.089</td>\n",
              "      <td>330253.0</td>\n",
              "      <td>62</td>\n",
              "      <td>7.375277</td>\n",
              "      <td>4.894493</td>\n",
              "      <td>0.943493</td>\n",
              "    </tr>\n",
              "    <tr>\n",
              "      <th>1</th>\n",
              "      <td>坂本龍一</td>\n",
              "      <td>Hibari (Live_2009_4_15)</td>\n",
              "      <td>0.604</td>\n",
              "      <td>0.283</td>\n",
              "      <td>9.0</td>\n",
              "      <td>-19.811</td>\n",
              "      <td>0.0</td>\n",
              "      <td>0.0583</td>\n",
              "      <td>0.996</td>\n",
              "      <td>0.916</td>\n",
              "      <td>0.1140</td>\n",
              "      <td>0.2700</td>\n",
              "      <td>137.802</td>\n",
              "      <td>540133.0</td>\n",
              "      <td>62</td>\n",
              "      <td>7.375277</td>\n",
              "      <td>4.894493</td>\n",
              "      <td>0.943493</td>\n",
              "    </tr>\n",
              "    <tr>\n",
              "      <th>2</th>\n",
              "      <td>坂本龍一</td>\n",
              "      <td>To Stanford (Live_2009_4_15)</td>\n",
              "      <td>0.453</td>\n",
              "      <td>0.163</td>\n",
              "      <td>5.0</td>\n",
              "      <td>-20.922</td>\n",
              "      <td>1.0</td>\n",
              "      <td>0.0519</td>\n",
              "      <td>0.990</td>\n",
              "      <td>0.939</td>\n",
              "      <td>0.1010</td>\n",
              "      <td>0.0703</td>\n",
              "      <td>73.926</td>\n",
              "      <td>216853.0</td>\n",
              "      <td>39</td>\n",
              "      <td>7.375277</td>\n",
              "      <td>4.894493</td>\n",
              "      <td>0.943493</td>\n",
              "    </tr>\n",
              "    <tr>\n",
              "      <th>3</th>\n",
              "      <td>坂本龍一</td>\n",
              "      <td>Improvisation (Live_2009_4_15)</td>\n",
              "      <td>0.217</td>\n",
              "      <td>0.012</td>\n",
              "      <td>5.0</td>\n",
              "      <td>-36.464</td>\n",
              "      <td>1.0</td>\n",
              "      <td>0.0376</td>\n",
              "      <td>0.991</td>\n",
              "      <td>0.859</td>\n",
              "      <td>0.0866</td>\n",
              "      <td>0.0376</td>\n",
              "      <td>80.714</td>\n",
              "      <td>384707.0</td>\n",
              "      <td>62</td>\n",
              "      <td>7.375277</td>\n",
              "      <td>4.894493</td>\n",
              "      <td>0.943493</td>\n",
              "    </tr>\n",
              "    <tr>\n",
              "      <th>4</th>\n",
              "      <td>坂本龍一</td>\n",
              "      <td>Glacier (Live_2009_4_15)</td>\n",
              "      <td>0.518</td>\n",
              "      <td>0.213</td>\n",
              "      <td>9.0</td>\n",
              "      <td>-28.790</td>\n",
              "      <td>0.0</td>\n",
              "      <td>0.2090</td>\n",
              "      <td>0.869</td>\n",
              "      <td>0.898</td>\n",
              "      <td>0.1030</td>\n",
              "      <td>0.0920</td>\n",
              "      <td>104.191</td>\n",
              "      <td>580707.0</td>\n",
              "      <td>62</td>\n",
              "      <td>7.375277</td>\n",
              "      <td>4.894493</td>\n",
              "      <td>0.943493</td>\n",
              "    </tr>\n",
              "  </tbody>\n",
              "</table>\n",
              "</div>"
            ],
            "text/plain": [
              "  artist                              track  ...     emb_y     emb_z\n",
              "0   坂本龍一  Composition 0919 (Live_2009_4_15)  ...  4.894493  0.943493\n",
              "1   坂本龍一            Hibari (Live_2009_4_15)  ...  4.894493  0.943493\n",
              "2   坂本龍一       To Stanford (Live_2009_4_15)  ...  4.894493  0.943493\n",
              "3   坂本龍一     Improvisation (Live_2009_4_15)  ...  4.894493  0.943493\n",
              "4   坂本龍一           Glacier (Live_2009_4_15)  ...  4.894493  0.943493\n",
              "\n",
              "[5 rows x 18 columns]"
            ]
          },
          "metadata": {
            "tags": []
          },
          "execution_count": 7
        }
      ]
    },
    {
      "cell_type": "code",
      "metadata": {
        "colab": {
          "base_uri": "https://localhost:8080/"
        },
        "id": "pbPM69yFJeLO",
        "outputId": "1685cf01-1f9f-4294-c4ad-80f487c5c767"
      },
      "source": [
        "feature_df_with_emb.isna().sum()"
      ],
      "id": "pbPM69yFJeLO",
      "execution_count": 8,
      "outputs": [
        {
          "output_type": "execute_result",
          "data": {
            "text/plain": [
              "artist              0\n",
              "track               0\n",
              "danceability        0\n",
              "energy              0\n",
              "key                 0\n",
              "loudness            0\n",
              "mode                0\n",
              "speechiness         0\n",
              "acousticness        0\n",
              "instrumentalness    0\n",
              "liveness            0\n",
              "valence             0\n",
              "tempo               0\n",
              "duration_ms         0\n",
              "popularity          0\n",
              "emb_x               0\n",
              "emb_y               0\n",
              "emb_z               0\n",
              "dtype: int64"
            ]
          },
          "metadata": {
            "tags": []
          },
          "execution_count": 8
        }
      ]
    },
    {
      "cell_type": "code",
      "metadata": {
        "id": "greatest-invitation"
      },
      "source": [
        "# Load the dataset\n",
        "df = pd.read_table('lastfm-dataset-1K/userid-timestamp-artid-artname-traid-traname.tsv', lineterminator='\\n', warn_bad_lines=True, names=['user', 'timestamp', 'artist-id', 'artist', 'song-id', 'song'])\n",
        "df_profile = pd.read_csv('lastfm-dataset-1K/userid-profile.tsv', sep='\\t', error_bad_lines=False, warn_bad_lines=True, skiprows=1, names=['user', 'gender', 'age', 'country', 'signup'])"
      ],
      "id": "greatest-invitation",
      "execution_count": 9,
      "outputs": []
    },
    {
      "cell_type": "code",
      "metadata": {
        "id": "union-season"
      },
      "source": [
        "# Check if some songs share a common ID\n",
        "grouped = df[['song-id', 'song']].groupby(['song-id']).nunique()"
      ],
      "id": "union-season",
      "execution_count": 10,
      "outputs": []
    },
    {
      "cell_type": "code",
      "metadata": {
        "id": "aerial-damages"
      },
      "source": [
        "# Get rows with song names containing multiple rows\n",
        "duplicated = df.loc[df['song-id'].isin(grouped[grouped['song'] > 1].index)]\n",
        "duplicated = duplicated.drop(columns=['user', 'timestamp', 'artist', 'artist-id'])\n",
        "containis_extra_rows = duplicated.apply(lambda x: pd.Series({'id': x[0], 'song': x[1], 'flag':'\\n' in x[1]}), axis=1)\n",
        "containis_extra_rows = containis_extra_rows.loc[containis_extra_rows['flag']]"
      ],
      "id": "aerial-damages",
      "execution_count": 11,
      "outputs": []
    },
    {
      "cell_type": "code",
      "metadata": {
        "id": "smoking-vanilla"
      },
      "source": [
        "# Iterate over those 5k rows to get the extra rows and correct the song name\n",
        "for index, row in containis_extra_rows.iterrows():\n",
        "    row_break = row['song'].split('\\n', 1)\n",
        "    song_name = row_break[0]\n",
        "    df.loc[df['song-id'] == row['id'], 'song'] = song_name\n",
        "    \n",
        "    tsv = StringIO(row_break[1])\n",
        "    df_extra = pd.read_csv(tsv, sep=\"\\t\", warn_bad_lines=True, names=['user', 'timestamp', 'artist-id', 'artist', 'song-id', 'song'])\n",
        "    df = df.append(df_extra, ignore_index=True)"
      ],
      "id": "smoking-vanilla",
      "execution_count": 12,
      "outputs": []
    },
    {
      "cell_type": "markdown",
      "metadata": {
        "id": "green-cloud"
      },
      "source": [
        "### Fix names"
      ],
      "id": "green-cloud"
    },
    {
      "cell_type": "code",
      "metadata": {
        "id": "marked-return"
      },
      "source": [
        "# Check if some songs share a common ID\n",
        "grouped = df[['song-id', 'song']].groupby(['song-id']).nunique()"
      ],
      "id": "marked-return",
      "execution_count": 13,
      "outputs": []
    },
    {
      "cell_type": "code",
      "metadata": {
        "id": "developing-roots",
        "colab": {
          "base_uri": "https://localhost:8080/"
        },
        "outputId": "5488698d-9b1d-49d1-e418-c43b835806e8"
      },
      "source": [
        "# Check how many ids has more than 1 song name\n",
        "grouped[grouped['song'] > 1].shape[0]"
      ],
      "id": "developing-roots",
      "execution_count": 14,
      "outputs": [
        {
          "output_type": "execute_result",
          "data": {
            "text/plain": [
              "200"
            ]
          },
          "metadata": {
            "tags": []
          },
          "execution_count": 14
        }
      ]
    },
    {
      "cell_type": "code",
      "metadata": {
        "id": "million-deputy"
      },
      "source": [
        "ids_to_be_fixed = grouped[grouped['song'] > 1].index"
      ],
      "id": "million-deputy",
      "execution_count": 15,
      "outputs": []
    },
    {
      "cell_type": "code",
      "metadata": {
        "id": "compact-standing"
      },
      "source": [
        "df = df.set_index('song-id')"
      ],
      "id": "compact-standing",
      "execution_count": 16,
      "outputs": []
    },
    {
      "cell_type": "code",
      "metadata": {
        "id": "waiting-efficiency"
      },
      "source": [
        "map_to_fix = df.groupby(df.index)['song'].head(1)"
      ],
      "id": "waiting-efficiency",
      "execution_count": 17,
      "outputs": []
    },
    {
      "cell_type": "code",
      "metadata": {
        "id": "satellite-chile"
      },
      "source": [
        "df.loc[ids_to_be_fixed, 'song'] = df.loc[ids_to_be_fixed].reset_index()['song-id'].map(lambda x: map_to_fix[x])\n",
        "df = df.reset_index()"
      ],
      "id": "satellite-chile",
      "execution_count": 18,
      "outputs": []
    },
    {
      "cell_type": "markdown",
      "metadata": {
        "id": "experimental-canal"
      },
      "source": [
        "### Create matrix"
      ],
      "id": "experimental-canal"
    },
    {
      "cell_type": "code",
      "metadata": {
        "id": "approved-episode"
      },
      "source": [
        "matrix_init = df.groupby(['user', 'artist', 'song']).count()"
      ],
      "id": "approved-episode",
      "execution_count": 19,
      "outputs": []
    },
    {
      "cell_type": "code",
      "metadata": {
        "id": "streaming-platform"
      },
      "source": [
        "matrix_init = matrix_init['timestamp']\n",
        "matrix_init = matrix_init.map(lambda x: np.log(x))"
      ],
      "id": "streaming-platform",
      "execution_count": 20,
      "outputs": []
    },
    {
      "cell_type": "code",
      "metadata": {
        "id": "wired-master"
      },
      "source": [
        "matrix_init = matrix_init.reset_index()"
      ],
      "id": "wired-master",
      "execution_count": 21,
      "outputs": []
    },
    {
      "cell_type": "code",
      "metadata": {
        "id": "peaceful-uzbekistan"
      },
      "source": [
        "def rating_scaler(row):\n",
        "    row_array = np.array(row)\n",
        "    lower_bound, new_range= 3, 7\n",
        "    min_, max_ = row_array.min(), row_array.max()\n",
        "    old_range = max_ - min_\n",
        "    \n",
        "    \n",
        "    scaled_row = (new_range * (row_array - min_)) / (old_range + 1e-6)  + lower_bound\n",
        "    scaled_row[scaled_row == 3] = 0\n",
        "    return pd.Series(scaled_row)"
      ],
      "id": "peaceful-uzbekistan",
      "execution_count": 22,
      "outputs": []
    },
    {
      "cell_type": "code",
      "metadata": {
        "id": "sunrise-article"
      },
      "source": [
        "matrix_init_scaled = matrix_init.groupby('user')['timestamp'].apply(rating_scaler)"
      ],
      "id": "sunrise-article",
      "execution_count": 23,
      "outputs": []
    },
    {
      "cell_type": "code",
      "metadata": {
        "id": "promising-sussex"
      },
      "source": [
        "matrix_init['timestamp'] = matrix_init_scaled.reset_index()['timestamp']"
      ],
      "id": "promising-sussex",
      "execution_count": 24,
      "outputs": []
    },
    {
      "cell_type": "code",
      "metadata": {
        "id": "1xz9agnu2Acj",
        "colab": {
          "base_uri": "https://localhost:8080/"
        },
        "outputId": "e2c103f9-c2a8-4bfb-de30-3d1c210ea076"
      },
      "source": [
        "matrix_init['timestamp'].describe()"
      ],
      "id": "1xz9agnu2Acj",
      "execution_count": 25,
      "outputs": [
        {
          "output_type": "execute_result",
          "data": {
            "text/plain": [
              "count    4.613822e+06\n",
              "mean     2.817463e+00\n",
              "std      2.828400e+00\n",
              "min      0.000000e+00\n",
              "25%      0.000000e+00\n",
              "50%      3.937382e+00\n",
              "75%      5.201265e+00\n",
              "max      9.999999e+00\n",
              "Name: timestamp, dtype: float64"
            ]
          },
          "metadata": {
            "tags": []
          },
          "execution_count": 25
        }
      ]
    },
    {
      "cell_type": "code",
      "metadata": {
        "colab": {
          "base_uri": "https://localhost:8080/"
        },
        "id": "H4U2zX1mFFJh",
        "outputId": "4a1ae75e-3d86-4ef4-960b-8116188409b5"
      },
      "source": [
        "(matrix_init['timestamp'] == 0).sum() / matrix_init.shape[0]"
      ],
      "id": "H4U2zX1mFFJh",
      "execution_count": 26,
      "outputs": [
        {
          "output_type": "execute_result",
          "data": {
            "text/plain": [
              "0.47684197613171897"
            ]
          },
          "metadata": {
            "tags": []
          },
          "execution_count": 26
        }
      ]
    },
    {
      "cell_type": "code",
      "metadata": {
        "id": "RegnknnLcdpr"
      },
      "source": [
        "feature_df_with_emb['item'] = feature_df_with_emb.apply(lambda row: row[0]+'-'+row[1], axis=1)"
      ],
      "id": "RegnknnLcdpr",
      "execution_count": 27,
      "outputs": []
    },
    {
      "cell_type": "markdown",
      "metadata": {
        "id": "working-dylan"
      },
      "source": [
        "### Merge data"
      ],
      "id": "working-dylan"
    },
    {
      "cell_type": "code",
      "metadata": {
        "id": "silent-present"
      },
      "source": [
        "matrix_init = matrix_init.rename({'timestamp':'rating', 'song':'track'}, axis=1)"
      ],
      "id": "silent-present",
      "execution_count": 28,
      "outputs": []
    },
    {
      "cell_type": "code",
      "metadata": {
        "id": "potential-replica"
      },
      "source": [
        "matrix_extended = matrix_init.merge(feature_df_with_emb, on=['artist', 'track'])"
      ],
      "id": "potential-replica",
      "execution_count": 29,
      "outputs": []
    },
    {
      "cell_type": "code",
      "metadata": {
        "id": "formal-token",
        "colab": {
          "base_uri": "https://localhost:8080/",
          "height": 374
        },
        "outputId": "ddfc4545-edbf-4ab7-aaee-a741adeb8a8b"
      },
      "source": [
        "matrix_extended.head()"
      ],
      "id": "formal-token",
      "execution_count": 30,
      "outputs": [
        {
          "output_type": "execute_result",
          "data": {
            "text/html": [
              "<div>\n",
              "<style scoped>\n",
              "    .dataframe tbody tr th:only-of-type {\n",
              "        vertical-align: middle;\n",
              "    }\n",
              "\n",
              "    .dataframe tbody tr th {\n",
              "        vertical-align: top;\n",
              "    }\n",
              "\n",
              "    .dataframe thead th {\n",
              "        text-align: right;\n",
              "    }\n",
              "</style>\n",
              "<table border=\"1\" class=\"dataframe\">\n",
              "  <thead>\n",
              "    <tr style=\"text-align: right;\">\n",
              "      <th></th>\n",
              "      <th>user</th>\n",
              "      <th>artist</th>\n",
              "      <th>track</th>\n",
              "      <th>rating</th>\n",
              "      <th>danceability</th>\n",
              "      <th>energy</th>\n",
              "      <th>key</th>\n",
              "      <th>loudness</th>\n",
              "      <th>mode</th>\n",
              "      <th>speechiness</th>\n",
              "      <th>acousticness</th>\n",
              "      <th>instrumentalness</th>\n",
              "      <th>liveness</th>\n",
              "      <th>valence</th>\n",
              "      <th>tempo</th>\n",
              "      <th>duration_ms</th>\n",
              "      <th>popularity</th>\n",
              "      <th>emb_x</th>\n",
              "      <th>emb_y</th>\n",
              "      <th>emb_z</th>\n",
              "      <th>item</th>\n",
              "    </tr>\n",
              "  </thead>\n",
              "  <tbody>\n",
              "    <tr>\n",
              "      <th>0</th>\n",
              "      <td>user_000001</td>\n",
              "      <td>2562</td>\n",
              "      <td>Basin Dub</td>\n",
              "      <td>4.142058</td>\n",
              "      <td>0.644</td>\n",
              "      <td>0.431</td>\n",
              "      <td>11.0</td>\n",
              "      <td>-7.676</td>\n",
              "      <td>1.0</td>\n",
              "      <td>0.206</td>\n",
              "      <td>0.0393</td>\n",
              "      <td>0.3</td>\n",
              "      <td>0.159</td>\n",
              "      <td>0.347</td>\n",
              "      <td>139.998</td>\n",
              "      <td>292769.0</td>\n",
              "      <td>19</td>\n",
              "      <td>5.311094</td>\n",
              "      <td>6.10387</td>\n",
              "      <td>3.313273</td>\n",
              "      <td>2562-Basin Dub</td>\n",
              "    </tr>\n",
              "    <tr>\n",
              "      <th>1</th>\n",
              "      <td>user_000451</td>\n",
              "      <td>2562</td>\n",
              "      <td>Basin Dub</td>\n",
              "      <td>4.080958</td>\n",
              "      <td>0.644</td>\n",
              "      <td>0.431</td>\n",
              "      <td>11.0</td>\n",
              "      <td>-7.676</td>\n",
              "      <td>1.0</td>\n",
              "      <td>0.206</td>\n",
              "      <td>0.0393</td>\n",
              "      <td>0.3</td>\n",
              "      <td>0.159</td>\n",
              "      <td>0.347</td>\n",
              "      <td>139.998</td>\n",
              "      <td>292769.0</td>\n",
              "      <td>19</td>\n",
              "      <td>5.311094</td>\n",
              "      <td>6.10387</td>\n",
              "      <td>3.313273</td>\n",
              "      <td>2562-Basin Dub</td>\n",
              "    </tr>\n",
              "    <tr>\n",
              "      <th>2</th>\n",
              "      <td>user_000471</td>\n",
              "      <td>2562</td>\n",
              "      <td>Basin Dub</td>\n",
              "      <td>0.000000</td>\n",
              "      <td>0.644</td>\n",
              "      <td>0.431</td>\n",
              "      <td>11.0</td>\n",
              "      <td>-7.676</td>\n",
              "      <td>1.0</td>\n",
              "      <td>0.206</td>\n",
              "      <td>0.0393</td>\n",
              "      <td>0.3</td>\n",
              "      <td>0.159</td>\n",
              "      <td>0.347</td>\n",
              "      <td>139.998</td>\n",
              "      <td>292769.0</td>\n",
              "      <td>19</td>\n",
              "      <td>5.311094</td>\n",
              "      <td>6.10387</td>\n",
              "      <td>3.313273</td>\n",
              "      <td>2562-Basin Dub</td>\n",
              "    </tr>\n",
              "    <tr>\n",
              "      <th>3</th>\n",
              "      <td>user_000508</td>\n",
              "      <td>2562</td>\n",
              "      <td>Basin Dub</td>\n",
              "      <td>4.976012</td>\n",
              "      <td>0.644</td>\n",
              "      <td>0.431</td>\n",
              "      <td>11.0</td>\n",
              "      <td>-7.676</td>\n",
              "      <td>1.0</td>\n",
              "      <td>0.206</td>\n",
              "      <td>0.0393</td>\n",
              "      <td>0.3</td>\n",
              "      <td>0.159</td>\n",
              "      <td>0.347</td>\n",
              "      <td>139.998</td>\n",
              "      <td>292769.0</td>\n",
              "      <td>19</td>\n",
              "      <td>5.311094</td>\n",
              "      <td>6.10387</td>\n",
              "      <td>3.313273</td>\n",
              "      <td>2562-Basin Dub</td>\n",
              "    </tr>\n",
              "    <tr>\n",
              "      <th>4</th>\n",
              "      <td>user_000515</td>\n",
              "      <td>2562</td>\n",
              "      <td>Basin Dub</td>\n",
              "      <td>3.973598</td>\n",
              "      <td>0.644</td>\n",
              "      <td>0.431</td>\n",
              "      <td>11.0</td>\n",
              "      <td>-7.676</td>\n",
              "      <td>1.0</td>\n",
              "      <td>0.206</td>\n",
              "      <td>0.0393</td>\n",
              "      <td>0.3</td>\n",
              "      <td>0.159</td>\n",
              "      <td>0.347</td>\n",
              "      <td>139.998</td>\n",
              "      <td>292769.0</td>\n",
              "      <td>19</td>\n",
              "      <td>5.311094</td>\n",
              "      <td>6.10387</td>\n",
              "      <td>3.313273</td>\n",
              "      <td>2562-Basin Dub</td>\n",
              "    </tr>\n",
              "  </tbody>\n",
              "</table>\n",
              "</div>"
            ],
            "text/plain": [
              "          user artist      track  ...    emb_y     emb_z            item\n",
              "0  user_000001   2562  Basin Dub  ...  6.10387  3.313273  2562-Basin Dub\n",
              "1  user_000451   2562  Basin Dub  ...  6.10387  3.313273  2562-Basin Dub\n",
              "2  user_000471   2562  Basin Dub  ...  6.10387  3.313273  2562-Basin Dub\n",
              "3  user_000508   2562  Basin Dub  ...  6.10387  3.313273  2562-Basin Dub\n",
              "4  user_000515   2562  Basin Dub  ...  6.10387  3.313273  2562-Basin Dub\n",
              "\n",
              "[5 rows x 21 columns]"
            ]
          },
          "metadata": {
            "tags": []
          },
          "execution_count": 30
        }
      ]
    },
    {
      "cell_type": "markdown",
      "metadata": {
        "id": "w-BObyTK8dft"
      },
      "source": [
        "### Filter the dataset"
      ],
      "id": "w-BObyTK8dft"
    },
    {
      "cell_type": "code",
      "metadata": {
        "colab": {
          "base_uri": "https://localhost:8080/"
        },
        "id": "bmxgAsts8dSB",
        "outputId": "3ff2b3f6-8c6e-4885-f01a-093ec2690840"
      },
      "source": [
        "matrix_extended.groupby('user').count()['rating'].describe()"
      ],
      "id": "bmxgAsts8dSB",
      "execution_count": 31,
      "outputs": [
        {
          "output_type": "execute_result",
          "data": {
            "text/plain": [
              "count      991.000000\n",
              "mean      3901.116044\n",
              "std       4556.333601\n",
              "min          3.000000\n",
              "25%       1128.000000\n",
              "50%       2654.000000\n",
              "75%       4951.000000\n",
              "max      58844.000000\n",
              "Name: rating, dtype: float64"
            ]
          },
          "metadata": {
            "tags": []
          },
          "execution_count": 31
        }
      ]
    },
    {
      "cell_type": "code",
      "metadata": {
        "colab": {
          "base_uri": "https://localhost:8080/",
          "height": 268
        },
        "id": "RVJT_7Qi8cyB",
        "outputId": "08dfdf80-f830-4251-fe9d-f2d3ecf005b3"
      },
      "source": [
        "matrix_extended.groupby('user').count()['rating'].plot.hist()\n",
        "plt.yscale('log')\n",
        "plt.show()"
      ],
      "id": "RVJT_7Qi8cyB",
      "execution_count": 32,
      "outputs": [
        {
          "output_type": "display_data",
          "data": {
            "image/png": "[encoded data removed]",
            "text/plain": [
              "<Figure size 432x288 with 1 Axes>"
            ]
          },
          "metadata": {
            "tags": [],
            "needs_background": "light"
          }
        }
      ]
    },
    {
      "cell_type": "code",
      "metadata": {
        "colab": {
          "base_uri": "https://localhost:8080/"
        },
        "id": "u9l3wRhoGL4i",
        "outputId": "5da310f2-e355-488f-9e9d-1533c1d455cd"
      },
      "source": [
        "matrix_extended.groupby('item').count()['rating'].describe()"
      ],
      "id": "u9l3wRhoGL4i",
      "execution_count": 33,
      "outputs": [
        {
          "output_type": "execute_result",
          "data": {
            "text/plain": [
              "count    750791.000000\n",
              "mean          5.149244\n",
              "std          11.747020\n",
              "min           1.000000\n",
              "25%           1.000000\n",
              "50%           2.000000\n",
              "75%           4.000000\n",
              "max         346.000000\n",
              "Name: rating, dtype: float64"
            ]
          },
          "metadata": {
            "tags": []
          },
          "execution_count": 33
        }
      ]
    },
    {
      "cell_type": "code",
      "metadata": {
        "colab": {
          "base_uri": "https://localhost:8080/",
          "height": 267
        },
        "id": "EGlGtGXN8cPj",
        "outputId": "590a0cb3-4c96-47de-a3e8-ce39865030a5"
      },
      "source": [
        "matrix_extended.groupby('item').count()['rating'].plot.hist()\n",
        "plt.yscale('log')\n",
        "plt.show()"
      ],
      "id": "EGlGtGXN8cPj",
      "execution_count": 34,
      "outputs": [
        {
          "output_type": "display_data",
          "data": {
            "image/png": "[encoded data removed]",
            "text/plain": [
              "<Figure size 432x288 with 1 Axes>"
            ]
          },
          "metadata": {
            "tags": [],
            "needs_background": "light"
          }
        }
      ]
    },
    {
      "cell_type": "code",
      "metadata": {
        "colab": {
          "base_uri": "https://localhost:8080/",
          "height": 265
        },
        "id": "O3Mpjco08cCg",
        "outputId": "c0cabf27-d042-405e-a561-f346f108376a"
      },
      "source": [
        "matrix_extended['rating'].plot.hist()\n",
        "plt.yscale('log')\n",
        "plt.show()"
      ],
      "id": "O3Mpjco08cCg",
      "execution_count": 234,
      "outputs": [
        {
          "output_type": "display_data",
          "data": {
            "image/png": "[encoded data removed]",
            "text/plain": [
              "<Figure size 432x288 with 1 Axes>"
            ]
          },
          "metadata": {
            "tags": [],
            "needs_background": "light"
          }
        }
      ]
    },
    {
      "cell_type": "code",
      "metadata": {
        "id": "06x7G_3cGW2J"
      },
      "source": [
        "items_app = matrix_extended.groupby('item').count()['rating']\n",
        "items_app = items_app.loc[items_app > 3.99].index\n",
        "matrix_sampled = matrix_extended.copy()\n",
        "matrix_sampled = matrix_sampled.set_index('item')\n",
        "matrix_sampled = matrix_sampled.loc[items_app]\n",
        "matrix_sampled = matrix_sampled.reset_index()\n",
        "matrix_sampled = matrix_sampled.sample(frac=1)"
      ],
      "id": "06x7G_3cGW2J",
      "execution_count": 36,
      "outputs": []
    },
    {
      "cell_type": "code",
      "metadata": {
        "id": "x9MFL9ZoIB-n",
        "colab": {
          "base_uri": "https://localhost:8080/"
        },
        "outputId": "78655299-8ed7-438b-adbf-8d974c33fc56"
      },
      "source": [
        "matrix_sampled.groupby('user').count()['rating'].describe()"
      ],
      "id": "x9MFL9ZoIB-n",
      "execution_count": 37,
      "outputs": [
        {
          "output_type": "execute_result",
          "data": {
            "text/plain": [
              "count      991.000000\n",
              "mean      3130.442987\n",
              "std       3484.796843\n",
              "min          3.000000\n",
              "25%        972.000000\n",
              "50%       2182.000000\n",
              "75%       3987.000000\n",
              "max      44191.000000\n",
              "Name: rating, dtype: float64"
            ]
          },
          "metadata": {
            "tags": []
          },
          "execution_count": 37
        }
      ]
    },
    {
      "cell_type": "markdown",
      "metadata": {
        "id": "tribal-batch"
      },
      "source": [
        "### Sample Users"
      ],
      "id": "tribal-batch"
    },
    {
      "cell_type": "code",
      "metadata": {
        "id": "YRKwgOyJdfQb"
      },
      "source": [
        "# no_users = 200\n",
        "# users_list = matrix_extended.user.unique()\n",
        "# users_sampled = np.random.choice(users_list, replace=False, size=no_users)\n",
        "# matrix_sampled = matrix_extended.copy()\n",
        "# matrix_sampled = matrix_sampled.set_index('user')\n",
        "# matrix_sampled = matrix_sampled.loc[users_sampled]\n",
        "# matrix_sampled = matrix_sampled.reset_index()\n",
        "# matrix_sampled = matrix_sampled.sample(frac=1)\n",
        "# matrix_sampled['item'] = matrix_sampled.apply(lambda row: row[1]+'-'+row[2], axis=1)"
      ],
      "id": "YRKwgOyJdfQb",
      "execution_count": 38,
      "outputs": []
    },
    {
      "cell_type": "code",
      "metadata": {
        "id": "yRJeB1Y_hPM0",
        "colab": {
          "base_uri": "https://localhost:8080/",
          "height": 462
        },
        "outputId": "5c159f76-0642-47a8-bcd1-a0d6d1d9edcc"
      },
      "source": [
        "matrix_sampled.head()"
      ],
      "id": "yRJeB1Y_hPM0",
      "execution_count": 39,
      "outputs": [
        {
          "output_type": "execute_result",
          "data": {
            "text/html": [
              "<div>\n",
              "<style scoped>\n",
              "    .dataframe tbody tr th:only-of-type {\n",
              "        vertical-align: middle;\n",
              "    }\n",
              "\n",
              "    .dataframe tbody tr th {\n",
              "        vertical-align: top;\n",
              "    }\n",
              "\n",
              "    .dataframe thead th {\n",
              "        text-align: right;\n",
              "    }\n",
              "</style>\n",
              "<table border=\"1\" class=\"dataframe\">\n",
              "  <thead>\n",
              "    <tr style=\"text-align: right;\">\n",
              "      <th></th>\n",
              "      <th>item</th>\n",
              "      <th>user</th>\n",
              "      <th>artist</th>\n",
              "      <th>track</th>\n",
              "      <th>rating</th>\n",
              "      <th>danceability</th>\n",
              "      <th>energy</th>\n",
              "      <th>key</th>\n",
              "      <th>loudness</th>\n",
              "      <th>mode</th>\n",
              "      <th>speechiness</th>\n",
              "      <th>acousticness</th>\n",
              "      <th>instrumentalness</th>\n",
              "      <th>liveness</th>\n",
              "      <th>valence</th>\n",
              "      <th>tempo</th>\n",
              "      <th>duration_ms</th>\n",
              "      <th>popularity</th>\n",
              "      <th>emb_x</th>\n",
              "      <th>emb_y</th>\n",
              "      <th>emb_z</th>\n",
              "    </tr>\n",
              "  </thead>\n",
              "  <tbody>\n",
              "    <tr>\n",
              "      <th>24910</th>\n",
              "      <td>A Silver Mt. Zion-13 Angels Standing Guard 'Ro...</td>\n",
              "      <td>user_000793</td>\n",
              "      <td>A Silver Mt. Zion</td>\n",
              "      <td>13 Angels Standing Guard 'Round The Side Of Yo...</td>\n",
              "      <td>4.512691</td>\n",
              "      <td>0.115</td>\n",
              "      <td>0.303</td>\n",
              "      <td>11.0</td>\n",
              "      <td>-13.693</td>\n",
              "      <td>0.0</td>\n",
              "      <td>0.0403</td>\n",
              "      <td>0.96700</td>\n",
              "      <td>0.852000</td>\n",
              "      <td>0.0611</td>\n",
              "      <td>0.039</td>\n",
              "      <td>79.193</td>\n",
              "      <td>442293.0</td>\n",
              "      <td>43</td>\n",
              "      <td>6.522470</td>\n",
              "      <td>6.943111</td>\n",
              "      <td>1.138192</td>\n",
              "    </tr>\n",
              "    <tr>\n",
              "      <th>1450841</th>\n",
              "      <td>Lisa Ekdahl-Papillas Samba</td>\n",
              "      <td>user_000522</td>\n",
              "      <td>Lisa Ekdahl</td>\n",
              "      <td>Papillas Samba</td>\n",
              "      <td>4.748770</td>\n",
              "      <td>0.607</td>\n",
              "      <td>0.316</td>\n",
              "      <td>4.0</td>\n",
              "      <td>-11.665</td>\n",
              "      <td>0.0</td>\n",
              "      <td>0.0298</td>\n",
              "      <td>0.65900</td>\n",
              "      <td>0.000095</td>\n",
              "      <td>0.1230</td>\n",
              "      <td>0.495</td>\n",
              "      <td>109.874</td>\n",
              "      <td>142267.0</td>\n",
              "      <td>53</td>\n",
              "      <td>7.325242</td>\n",
              "      <td>7.102291</td>\n",
              "      <td>2.345108</td>\n",
              "    </tr>\n",
              "    <tr>\n",
              "      <th>983376</th>\n",
              "      <td>Garbage-Temptation Waits</td>\n",
              "      <td>user_000727</td>\n",
              "      <td>Garbage</td>\n",
              "      <td>Temptation Waits</td>\n",
              "      <td>6.004588</td>\n",
              "      <td>0.560</td>\n",
              "      <td>0.876</td>\n",
              "      <td>9.0</td>\n",
              "      <td>-8.183</td>\n",
              "      <td>1.0</td>\n",
              "      <td>0.0435</td>\n",
              "      <td>0.00103</td>\n",
              "      <td>0.014000</td>\n",
              "      <td>0.5510</td>\n",
              "      <td>0.559</td>\n",
              "      <td>127.921</td>\n",
              "      <td>276604.0</td>\n",
              "      <td>64</td>\n",
              "      <td>4.901899</td>\n",
              "      <td>8.086782</td>\n",
              "      <td>1.545952</td>\n",
              "    </tr>\n",
              "    <tr>\n",
              "      <th>1272802</th>\n",
              "      <td>Jonas Brothers-Pushin' Me Away</td>\n",
              "      <td>user_000894</td>\n",
              "      <td>Jonas Brothers</td>\n",
              "      <td>Pushin' Me Away</td>\n",
              "      <td>0.000000</td>\n",
              "      <td>0.473</td>\n",
              "      <td>0.903</td>\n",
              "      <td>7.0</td>\n",
              "      <td>-6.123</td>\n",
              "      <td>1.0</td>\n",
              "      <td>0.0678</td>\n",
              "      <td>0.01450</td>\n",
              "      <td>0.000001</td>\n",
              "      <td>0.1950</td>\n",
              "      <td>0.452</td>\n",
              "      <td>161.956</td>\n",
              "      <td>183120.0</td>\n",
              "      <td>80</td>\n",
              "      <td>5.049340</td>\n",
              "      <td>7.546886</td>\n",
              "      <td>3.666668</td>\n",
              "    </tr>\n",
              "    <tr>\n",
              "      <th>2622497</th>\n",
              "      <td>The Futureheads-Robot</td>\n",
              "      <td>user_000467</td>\n",
              "      <td>The Futureheads</td>\n",
              "      <td>Robot</td>\n",
              "      <td>0.000000</td>\n",
              "      <td>0.433</td>\n",
              "      <td>0.956</td>\n",
              "      <td>9.0</td>\n",
              "      <td>-2.928</td>\n",
              "      <td>1.0</td>\n",
              "      <td>0.1430</td>\n",
              "      <td>0.23100</td>\n",
              "      <td>0.000000</td>\n",
              "      <td>0.0809</td>\n",
              "      <td>0.818</td>\n",
              "      <td>161.485</td>\n",
              "      <td>120973.0</td>\n",
              "      <td>48</td>\n",
              "      <td>5.688332</td>\n",
              "      <td>7.747486</td>\n",
              "      <td>1.911682</td>\n",
              "    </tr>\n",
              "  </tbody>\n",
              "</table>\n",
              "</div>"
            ],
            "text/plain": [
              "                                                      item  ...     emb_z\n",
              "24910    A Silver Mt. Zion-13 Angels Standing Guard 'Ro...  ...  1.138192\n",
              "1450841                         Lisa Ekdahl-Papillas Samba  ...  2.345108\n",
              "983376                            Garbage-Temptation Waits  ...  1.545952\n",
              "1272802                     Jonas Brothers-Pushin' Me Away  ...  3.666668\n",
              "2622497                              The Futureheads-Robot  ...  1.911682\n",
              "\n",
              "[5 rows x 21 columns]"
            ]
          },
          "metadata": {
            "tags": []
          },
          "execution_count": 39
        }
      ]
    },
    {
      "cell_type": "code",
      "metadata": {
        "id": "GlgOyabZiDQ7"
      },
      "source": [
        "matrix_sampled['user_id'] = matrix_sampled['user'].astype('category').cat.codes\n",
        "matrix_sampled['item_id'] = matrix_sampled['item'].astype('category').cat.codes"
      ],
      "id": "GlgOyabZiDQ7",
      "execution_count": 40,
      "outputs": []
    },
    {
      "cell_type": "code",
      "metadata": {
        "id": "eJKdudq4uizF"
      },
      "source": [
        "from random import choices\n",
        "indices_to_upsample = matrix_sampled.index[matrix_sampled['rating'] > 8].tolist()\n",
        "indices_upsampled = choices(indices_to_upsample, k=len(indices_to_upsample) * 5)\n",
        "samples_df = matrix_sampled.loc[indices_upsampled]\n",
        "matrix_sampled = pd.concat([matrix_sampled, samples_df], axis=0)"
      ],
      "id": "eJKdudq4uizF",
      "execution_count": 233,
      "outputs": []
    },
    {
      "cell_type": "code",
      "metadata": {
        "id": "lyric-crash"
      },
      "source": [
        "X = matrix_sampled[['user_id', \n",
        "              'item_id',\n",
        "              'danceability',\n",
        "              'energy',\n",
        "              'speechiness', \n",
        "              'acousticness', \n",
        "              'instrumentalness', \n",
        "              'liveness',\n",
        "              'valence', \n",
        "              'tempo', \n",
        "              'popularity', \n",
        "              'emb_x', \n",
        "              'emb_y',\n",
        "              'emb_z']]\n",
        "y = matrix_sampled['rating']\n",
        "groups = matrix_sampled['user_id']"
      ],
      "id": "lyric-crash",
      "execution_count": 235,
      "outputs": []
    },
    {
      "cell_type": "code",
      "metadata": {
        "id": "divine-boston"
      },
      "source": [
        "# Change splitting to be by index using https://stackoverflow.com/questions/53490497/getting-validation-set-from-train-set-by-using-percentage-from-groupby-in-pand\n",
        "X_train, X_test, y_train, y_test = train_test_split(X, y, test_size=0.2, stratify=groups)"
      ],
      "id": "divine-boston",
      "execution_count": 236,
      "outputs": []
    },
    {
      "cell_type": "code",
      "metadata": {
        "id": "organic-irish"
      },
      "source": [
        "no_users, no_items, no_factors = matrix_sampled['user_id'].nunique(), matrix_sampled['item_id'].nunique(), 100"
      ],
      "id": "organic-irish",
      "execution_count": 237,
      "outputs": []
    },
    {
      "cell_type": "code",
      "metadata": {
        "colab": {
          "base_uri": "https://localhost:8080/"
        },
        "id": "BzGeolQgIrYM",
        "outputId": "4d7a771c-04c8-43b3-c366-1db13714aab6"
      },
      "source": [
        "no_users"
      ],
      "id": "BzGeolQgIrYM",
      "execution_count": 238,
      "outputs": [
        {
          "output_type": "execute_result",
          "data": {
            "text/plain": [
              "991"
            ]
          },
          "metadata": {
            "tags": []
          },
          "execution_count": 238
        }
      ]
    },
    {
      "cell_type": "code",
      "metadata": {
        "colab": {
          "base_uri": "https://localhost:8080/"
        },
        "id": "oK5iQ0TdIssx",
        "outputId": "3645046c-f2e4-43aa-d6f3-00ba6f76be18"
      },
      "source": [
        "no_items"
      ],
      "id": "oK5iQ0TdIssx",
      "execution_count": 239,
      "outputs": [
        {
          "output_type": "execute_result",
          "data": {
            "text/plain": [
              "217058"
            ]
          },
          "metadata": {
            "tags": []
          },
          "execution_count": 239
        }
      ]
    },
    {
      "cell_type": "code",
      "metadata": {
        "colab": {
          "base_uri": "https://localhost:8080/"
        },
        "id": "aHCn-jhE0tNx",
        "outputId": "5bc73584-d29e-4070-d442-0a5f3925328b"
      },
      "source": [
        "X.shape"
      ],
      "id": "aHCn-jhE0tNx",
      "execution_count": 240,
      "outputs": [
        {
          "output_type": "execute_result",
          "data": {
            "text/plain": [
              "(3439054, 14)"
            ]
          },
          "metadata": {
            "tags": []
          },
          "execution_count": 240
        }
      ]
    },
    {
      "cell_type": "markdown",
      "metadata": {
        "id": "super-dynamics"
      },
      "source": [
        "### Models"
      ],
      "id": "super-dynamics"
    },
    {
      "cell_type": "code",
      "metadata": {
        "id": "guilty-louisiana"
      },
      "source": [
        "def create_shallow_model(no_factors, no_users, no_items):\n",
        "    # User branch\n",
        "    user_id = tf.keras.layers.Input(shape=[1], name='user_id')\n",
        "    user_matrix = tf.keras.layers.Embedding(no_users+1, no_factors, name='user_matrix')(user_id)\n",
        "    user_vector = tf.keras.layers.Flatten(name='user_vector')(user_matrix)\n",
        "    # Item branch\n",
        "    item_id = tf.keras.layers.Input(shape=[1], name='item_id')\n",
        "    item_matrix = tf.keras.layers.Embedding(no_items+1, no_factors, name='item_matrix')(item_id)\n",
        "    item_vector = tf.keras.layers.Flatten(name='item_vector')(item_matrix)\n",
        "    # Dot product \n",
        "    vectors_product = tf.keras.layers.dot([user_vector, item_vector], axes=1, normalize=False)\n",
        "    # Model definition\n",
        "    model = tf.keras.models.Model(inputs=[user_id, item_id], outputs=[vectors_product], name='shallow_model')\n",
        "    return model"
      ],
      "id": "guilty-louisiana",
      "execution_count": 241,
      "outputs": []
    },
    {
      "cell_type": "code",
      "metadata": {
        "id": "needed-energy"
      },
      "source": [
        "model = create_shallow_model(no_factors, no_users, no_items)"
      ],
      "id": "needed-energy",
      "execution_count": 242,
      "outputs": []
    },
    {
      "cell_type": "code",
      "metadata": {
        "id": "concrete-mediterranean",
        "colab": {
          "base_uri": "https://localhost:8080/"
        },
        "outputId": "312775e7-b434-46cb-b8cc-142ca01a6986"
      },
      "source": [
        "model.summary()"
      ],
      "id": "concrete-mediterranean",
      "execution_count": 243,
      "outputs": [
        {
          "output_type": "stream",
          "text": [
            "Model: \"shallow_model\"\n",
            "__________________________________________________________________________________________________\n",
            "Layer (type)                    Output Shape         Param #     Connected to                     \n",
            "==================================================================================================\n",
            "user_id (InputLayer)            [(None, 1)]          0                                            \n",
            "__________________________________________________________________________________________________\n",
            "item_id (InputLayer)            [(None, 1)]          0                                            \n",
            "__________________________________________________________________________________________________\n",
            "user_matrix (Embedding)         (None, 1, 100)       99200       user_id[0][0]                    \n",
            "__________________________________________________________________________________________________\n",
            "item_matrix (Embedding)         (None, 1, 100)       21705900    item_id[0][0]                    \n",
            "__________________________________________________________________________________________________\n",
            "user_vector (Flatten)           (None, 100)          0           user_matrix[0][0]                \n",
            "__________________________________________________________________________________________________\n",
            "item_vector (Flatten)           (None, 100)          0           item_matrix[0][0]                \n",
            "__________________________________________________________________________________________________\n",
            "dot_1 (Dot)                     (None, 1)            0           user_vector[0][0]                \n",
            "                                                                 item_vector[0][0]                \n",
            "==================================================================================================\n",
            "Total params: 21,805,100\n",
            "Trainable params: 21,805,100\n",
            "Non-trainable params: 0\n",
            "__________________________________________________________________________________________________\n"
          ],
          "name": "stdout"
        }
      ]
    },
    {
      "cell_type": "code",
      "metadata": {
        "id": "million-delaware"
      },
      "source": [
        "def create_deep_model(no_factors, no_users, no_items):\n",
        "    all_input = tf.keras.layers.Input(shape=[14], name='input')\n",
        "    input_reshaped = tf.keras.layers.Reshape((14,1), input_shape=(14,))(all_input)\n",
        "\n",
        "    # Process input\n",
        "    user_id_vec = tf.keras.layers.Cropping1D(cropping=(0,13))(input_reshaped)\n",
        "    user_id = tf.keras.layers.Reshape((1,), input_shape=(1,1))(user_id_vec)\n",
        "\n",
        "    item_id_vec = tf.keras.layers.Cropping1D(cropping=(1,12))(input_reshaped)\n",
        "    item_id = tf.keras.layers.Reshape((1,), input_shape=(1,1))(item_id_vec)\n",
        "    # User branch\n",
        "    user_matrix = tf.keras.layers.Embedding(no_users+1, no_factors, name='user_matrix')(user_id)\n",
        "    user_vector = tf.keras.layers.Flatten(name='user_vector')(user_matrix)\n",
        "    # Item branch\n",
        "    item_matrix = tf.keras.layers.Embedding(no_items+1, no_factors, name='item_matrix')(item_id)\n",
        "    item_vector = tf.keras.layers.Flatten(name='item_vector')(item_matrix)\n",
        "    # Concantenation\n",
        "    vectors_concat = tf.keras.layers.Concatenate()([user_vector, item_vector])\n",
        "    vectors_concat_dropout = tf.keras.layers.Dropout(0.2)(vectors_concat)\n",
        "    # Backbone \n",
        "    dense_1 = tf.keras.layers.Dense(64,name='fc3')(vectors_concat_dropout)\n",
        "    dropout_1 = tf.keras.layers.Dropout(0.2,name='d3')(dense_1)\n",
        "    dense_2 = tf.keras.layers.Dense(32,name='fc4', activation='relu')(dropout_1)\n",
        "    dropout_2 = tf.keras.layers.Dropout(0.2,name='d4')(dense_2)\n",
        "    dense_3 = tf.keras.layers.Dense(16,name='fc5', activation='relu')(dropout_2)\n",
        "    dropout_3 = tf.keras.layers.Dropout(0.2,name='d5')(dense_3)\n",
        "    dense_4 = tf.keras.layers.Dense(8,name='fc6', activation='relu')(dropout_3)\n",
        "    dense_4_output = tf.keras.layers.Dense(1, activation='relu', name='activation')(dense_4)\n",
        "    # Model definition\n",
        "    model = tf.keras.models.Model(inputs=[all_input], outputs=[dense_4_output], name='deep_model')\n",
        "    return model"
      ],
      "id": "million-delaware",
      "execution_count": 244,
      "outputs": []
    },
    {
      "cell_type": "code",
      "metadata": {
        "id": "TUwPHkkm004I"
      },
      "source": [
        "def create_deep_hybird_model(no_factors, no_users, no_items):\n",
        "    all_input = tf.keras.layers.Input(shape=[14], name='input')\n",
        "    input_reshaped = tf.keras.layers.Reshape((14,1), input_shape=(14,))(all_input)\n",
        "\n",
        "    # Process input\n",
        "    user_id_vec = tf.keras.layers.Cropping1D(cropping=(0,13))(input_reshaped)\n",
        "    user_id = tf.keras.layers.Reshape((1,), input_shape=(1,1))(user_id_vec)\n",
        "\n",
        "    item_id_vec = tf.keras.layers.Cropping1D(cropping=(1,12))(input_reshaped)\n",
        "    item_id = tf.keras.layers.Reshape((1,), input_shape=(1,1))(item_id_vec)\n",
        "\n",
        "    metadata_vec = tf.keras.layers.Cropping1D(cropping=(2,0))(input_reshaped)\n",
        "    metadata = tf.keras.layers.Reshape((12,), input_shape=(12,1))(metadata_vec)\n",
        "\n",
        "    # User branch\n",
        "    user_matrix = tf.keras.layers.Embedding(no_users+1, no_factors, name='user_matrix')(user_id)\n",
        "    user_vector = tf.keras.layers.Flatten(name='user_vector')(user_matrix)\n",
        "    # Item branch\n",
        "    item_matrix = tf.keras.layers.Embedding(no_items+1, no_factors, name='item_matrix')(item_id)\n",
        "    item_vector = tf.keras.layers.Flatten(name='item_vector')(item_matrix)\n",
        "    # Concantenation\n",
        "    vectors_concat = tf.keras.layers.Concatenate()([user_vector, item_vector])\n",
        "    vectors_concat_dropout = tf.keras.layers.Dropout(0.2)(vectors_concat)\n",
        "    # Preprocess metadata\n",
        "    dense_meta_1 = tf.keras.layers.Dense(12,name='fc1')(metadata)\n",
        "    dense_meta_2 = tf.keras.layers.Dense(8,name='fc2')(dense_meta_1)\n",
        "    # Metadata concat\n",
        "    vectors_concat_meta = tf.keras.layers.Concatenate() ([vectors_concat_dropout, dense_meta_2])\n",
        "    # Backbone \n",
        "    dense_1 = tf.keras.layers.Dense(256,name='fc3')(vectors_concat_meta)\n",
        "    dropout_1 = tf.keras.layers.Dropout(0.2,name='d3')(dense_1)\n",
        "    dense_2 = tf.keras.layers.Dense(128,name='fc4', activation='relu')(dropout_1)\n",
        "    dropout_2 = tf.keras.layers.Dropout(0.2,name='d4')(dense_2)\n",
        "    dense_3 = tf.keras.layers.Dense(64,name='fc5', activation='relu')(dropout_2)\n",
        "    dropout_3 = tf.keras.layers.Dropout(0.2,name='d5')(dense_3)\n",
        "    dense_4 = tf.keras.layers.Dense(32,name='fc6', activation='relu')(dropout_3)\n",
        "    dropout_4 = tf.keras.layers.Dropout(0.2,name='d6')(dense_4)\n",
        "    dense_5 = tf.keras.layers.Dense(16,name='fc7', activation='relu')(dropout_4)\n",
        "    dropout_5 = tf.keras.layers.Dropout(0.2,name='d7')(dense_5)\n",
        "    dense_6 = tf.keras.layers.Dense(8,name='fc8', activation='relu')(dropout_5)    \n",
        "    dense_6_output = tf.keras.layers.Dense(1, activation='relu', name='activation')(dense_6)\n",
        "    # Model definition\n",
        "    model = tf.keras.models.Model(inputs=[all_input], outputs=[dense_6_output], name='deep_model')\n",
        "    return model"
      ],
      "id": "TUwPHkkm004I",
      "execution_count": 245,
      "outputs": []
    },
    {
      "cell_type": "code",
      "metadata": {
        "id": "canadian-boulder"
      },
      "source": [
        "model = create_deep_model(no_factors, no_users, no_items)"
      ],
      "id": "canadian-boulder",
      "execution_count": 246,
      "outputs": []
    },
    {
      "cell_type": "code",
      "metadata": {
        "colab": {
          "base_uri": "https://localhost:8080/"
        },
        "id": "ZLjAekay3bs3",
        "outputId": "6122ed3f-4599-4da9-ee34-5162247d1e37"
      },
      "source": [
        "model = create_deep_hybird_model(no_factors, no_users, no_items)\n",
        "model.summary()"
      ],
      "id": "ZLjAekay3bs3",
      "execution_count": 247,
      "outputs": [
        {
          "output_type": "stream",
          "text": [
            "Model: \"deep_model\"\n",
            "__________________________________________________________________________________________________\n",
            "Layer (type)                    Output Shape         Param #     Connected to                     \n",
            "==================================================================================================\n",
            "input (InputLayer)              [(None, 14)]         0                                            \n",
            "__________________________________________________________________________________________________\n",
            "reshape_57 (Reshape)            (None, 14, 1)        0           input[0][0]                      \n",
            "__________________________________________________________________________________________________\n",
            "cropping1d_42 (Cropping1D)      (None, 1, 1)         0           reshape_57[0][0]                 \n",
            "__________________________________________________________________________________________________\n",
            "cropping1d_43 (Cropping1D)      (None, 1, 1)         0           reshape_57[0][0]                 \n",
            "__________________________________________________________________________________________________\n",
            "reshape_58 (Reshape)            (None, 1)            0           cropping1d_42[0][0]              \n",
            "__________________________________________________________________________________________________\n",
            "reshape_59 (Reshape)            (None, 1)            0           cropping1d_43[0][0]              \n",
            "__________________________________________________________________________________________________\n",
            "user_matrix (Embedding)         (None, 1, 100)       99200       reshape_58[0][0]                 \n",
            "__________________________________________________________________________________________________\n",
            "item_matrix (Embedding)         (None, 1, 100)       21705900    reshape_59[0][0]                 \n",
            "__________________________________________________________________________________________________\n",
            "cropping1d_44 (Cropping1D)      (None, 12, 1)        0           reshape_57[0][0]                 \n",
            "__________________________________________________________________________________________________\n",
            "user_vector (Flatten)           (None, 100)          0           user_matrix[0][0]                \n",
            "__________________________________________________________________________________________________\n",
            "item_vector (Flatten)           (None, 100)          0           item_matrix[0][0]                \n",
            "__________________________________________________________________________________________________\n",
            "reshape_60 (Reshape)            (None, 12)           0           cropping1d_44[0][0]              \n",
            "__________________________________________________________________________________________________\n",
            "concatenate_36 (Concatenate)    (None, 200)          0           user_vector[0][0]                \n",
            "                                                                 item_vector[0][0]                \n",
            "__________________________________________________________________________________________________\n",
            "fc1 (Dense)                     (None, 12)           156         reshape_60[0][0]                 \n",
            "__________________________________________________________________________________________________\n",
            "dropout_20 (Dropout)            (None, 200)          0           concatenate_36[0][0]             \n",
            "__________________________________________________________________________________________________\n",
            "fc2 (Dense)                     (None, 8)            104         fc1[0][0]                        \n",
            "__________________________________________________________________________________________________\n",
            "concatenate_37 (Concatenate)    (None, 208)          0           dropout_20[0][0]                 \n",
            "                                                                 fc2[0][0]                        \n",
            "__________________________________________________________________________________________________\n",
            "fc3 (Dense)                     (None, 256)          53504       concatenate_37[0][0]             \n",
            "__________________________________________________________________________________________________\n",
            "d3 (Dropout)                    (None, 256)          0           fc3[0][0]                        \n",
            "__________________________________________________________________________________________________\n",
            "fc4 (Dense)                     (None, 128)          32896       d3[0][0]                         \n",
            "__________________________________________________________________________________________________\n",
            "d4 (Dropout)                    (None, 128)          0           fc4[0][0]                        \n",
            "__________________________________________________________________________________________________\n",
            "fc5 (Dense)                     (None, 64)           8256        d4[0][0]                         \n",
            "__________________________________________________________________________________________________\n",
            "d5 (Dropout)                    (None, 64)           0           fc5[0][0]                        \n",
            "__________________________________________________________________________________________________\n",
            "fc6 (Dense)                     (None, 32)           2080        d5[0][0]                         \n",
            "__________________________________________________________________________________________________\n",
            "d6 (Dropout)                    (None, 32)           0           fc6[0][0]                        \n",
            "__________________________________________________________________________________________________\n",
            "fc7 (Dense)                     (None, 16)           528         d6[0][0]                         \n",
            "__________________________________________________________________________________________________\n",
            "d7 (Dropout)                    (None, 16)           0           fc7[0][0]                        \n",
            "__________________________________________________________________________________________________\n",
            "fc8 (Dense)                     (None, 8)            136         d7[0][0]                         \n",
            "__________________________________________________________________________________________________\n",
            "activation (Dense)              (None, 1)            9           fc8[0][0]                        \n",
            "==================================================================================================\n",
            "Total params: 21,902,769\n",
            "Trainable params: 21,902,769\n",
            "Non-trainable params: 0\n",
            "__________________________________________________________________________________________________\n"
          ],
          "name": "stdout"
        }
      ]
    },
    {
      "cell_type": "markdown",
      "metadata": {
        "id": "minute-manual"
      },
      "source": [
        "### Model training"
      ],
      "id": "minute-manual"
    },
    {
      "cell_type": "code",
      "metadata": {
        "id": "confident-conviction",
        "colab": {
          "base_uri": "https://localhost:8080/"
        },
        "outputId": "f638e799-f95b-4f99-8a3c-e897ef64acae"
      },
      "source": [
        "# Input-output data definition\n",
        " \n",
        "# X_train_arr = X_train.values.tolist()\n",
        "# Try a decaying learning rate\n",
        "\n",
        "lr_schedule = tf.keras.optimizers.schedules.ExponentialDecay(\n",
        "    initial_learning_rate=1e-2,\n",
        "    decay_steps=1500,\n",
        "    decay_rate=0.9)\n",
        "\n",
        "opt = tf.keras.optimizers.RMSprop(learning_rate=lr_schedule)\n",
        "\n",
        "# Model creation\n",
        "model = create_deep_model(no_factors, no_users, no_items)\n",
        "\n",
        "callback = tf.keras.callbacks.EarlyStopping(monitor='loss', patience=2, min_delta=0.2)\n",
        "\n",
        "# Model compiling \n",
        "model.compile(loss=tf.keras.losses.MeanSquaredError(), optimizer=opt)\n",
        "\n",
        "# Model training\n",
        "model.fit(X_train, y_train, epochs=10, callbacks=[callback], batch_size=2048, shuffle=True)"
      ],
      "id": "confident-conviction",
      "execution_count": null,
      "outputs": [
        {
          "output_type": "stream",
          "text": [
            "Epoch 1/10\n",
            "1344/1344 [==============================] - 122s 90ms/step - loss: 8.4045\n",
            "Epoch 2/10\n",
            "1344/1344 [==============================] - 121s 90ms/step - loss: 7.4983\n",
            "Epoch 3/10\n",
            "1344/1344 [==============================] - 121s 90ms/step - loss: 6.9861\n",
            "Epoch 4/10\n",
            " 669/1344 [=============>................] - ETA: 1:01 - loss: 6.6058"
          ],
          "name": "stdout"
        }
      ]
    },
    {
      "cell_type": "markdown",
      "metadata": {
        "id": "separate-magic"
      },
      "source": [
        "### Prediction"
      ],
      "id": "separate-magic"
    },
    {
      "cell_type": "code",
      "metadata": {
        "id": "atlantic-maria"
      },
      "source": [
        "# Predictions in the training set\n",
        "# X_train = [X_train.user_id, X_train.item_id]\n",
        "y_train_pred = model.predict(X_train, batch_size=2048)"
      ],
      "id": "atlantic-maria",
      "execution_count": 249,
      "outputs": []
    },
    {
      "cell_type": "code",
      "metadata": {
        "id": "6IC4nrL_tcJ6",
        "colab": {
          "base_uri": "https://localhost:8080/",
          "height": 204
        },
        "outputId": "b70a566a-fdb3-4414-a874-221b47f6480f"
      },
      "source": [
        "X_test.head()"
      ],
      "id": "6IC4nrL_tcJ6",
      "execution_count": 250,
      "outputs": [
        {
          "output_type": "execute_result",
          "data": {
            "text/html": [
              "<div>\n",
              "<style scoped>\n",
              "    .dataframe tbody tr th:only-of-type {\n",
              "        vertical-align: middle;\n",
              "    }\n",
              "\n",
              "    .dataframe tbody tr th {\n",
              "        vertical-align: top;\n",
              "    }\n",
              "\n",
              "    .dataframe thead th {\n",
              "        text-align: right;\n",
              "    }\n",
              "</style>\n",
              "<table border=\"1\" class=\"dataframe\">\n",
              "  <thead>\n",
              "    <tr style=\"text-align: right;\">\n",
              "      <th></th>\n",
              "      <th>user_id</th>\n",
              "      <th>item_id</th>\n",
              "      <th>danceability</th>\n",
              "      <th>energy</th>\n",
              "      <th>speechiness</th>\n",
              "      <th>acousticness</th>\n",
              "      <th>instrumentalness</th>\n",
              "      <th>liveness</th>\n",
              "      <th>valence</th>\n",
              "      <th>tempo</th>\n",
              "      <th>popularity</th>\n",
              "      <th>emb_x</th>\n",
              "      <th>emb_y</th>\n",
              "      <th>emb_z</th>\n",
              "    </tr>\n",
              "  </thead>\n",
              "  <tbody>\n",
              "    <tr>\n",
              "      <th>2904986</th>\n",
              "      <td>861</td>\n",
              "      <td>201833</td>\n",
              "      <td>0.286</td>\n",
              "      <td>0.990</td>\n",
              "      <td>0.0989</td>\n",
              "      <td>0.000137</td>\n",
              "      <td>0.000160</td>\n",
              "      <td>0.0926</td>\n",
              "      <td>0.4840</td>\n",
              "      <td>147.369</td>\n",
              "      <td>51</td>\n",
              "      <td>5.559157</td>\n",
              "      <td>8.241899</td>\n",
              "      <td>0.516022</td>\n",
              "    </tr>\n",
              "    <tr>\n",
              "      <th>831948</th>\n",
              "      <td>95</td>\n",
              "      <td>59829</td>\n",
              "      <td>0.647</td>\n",
              "      <td>0.582</td>\n",
              "      <td>0.0755</td>\n",
              "      <td>0.410000</td>\n",
              "      <td>0.000002</td>\n",
              "      <td>0.0715</td>\n",
              "      <td>0.9150</td>\n",
              "      <td>167.396</td>\n",
              "      <td>81</td>\n",
              "      <td>4.614431</td>\n",
              "      <td>7.214665</td>\n",
              "      <td>0.552928</td>\n",
              "    </tr>\n",
              "    <tr>\n",
              "      <th>2083922</th>\n",
              "      <td>606</td>\n",
              "      <td>148197</td>\n",
              "      <td>0.556</td>\n",
              "      <td>0.913</td>\n",
              "      <td>0.0437</td>\n",
              "      <td>0.019300</td>\n",
              "      <td>0.000009</td>\n",
              "      <td>0.3460</td>\n",
              "      <td>0.7300</td>\n",
              "      <td>96.184</td>\n",
              "      <td>86</td>\n",
              "      <td>5.475037</td>\n",
              "      <td>7.888066</td>\n",
              "      <td>1.189500</td>\n",
              "    </tr>\n",
              "    <tr>\n",
              "      <th>1698045</th>\n",
              "      <td>629</td>\n",
              "      <td>125004</td>\n",
              "      <td>0.420</td>\n",
              "      <td>0.691</td>\n",
              "      <td>0.0501</td>\n",
              "      <td>0.310000</td>\n",
              "      <td>0.042700</td>\n",
              "      <td>0.1090</td>\n",
              "      <td>0.0383</td>\n",
              "      <td>115.326</td>\n",
              "      <td>80</td>\n",
              "      <td>5.511852</td>\n",
              "      <td>7.928967</td>\n",
              "      <td>1.565430</td>\n",
              "    </tr>\n",
              "    <tr>\n",
              "      <th>1673946</th>\n",
              "      <td>521</td>\n",
              "      <td>123074</td>\n",
              "      <td>0.489</td>\n",
              "      <td>0.913</td>\n",
              "      <td>0.0406</td>\n",
              "      <td>0.007690</td>\n",
              "      <td>0.001600</td>\n",
              "      <td>0.2240</td>\n",
              "      <td>0.7250</td>\n",
              "      <td>129.911</td>\n",
              "      <td>65</td>\n",
              "      <td>5.608908</td>\n",
              "      <td>7.759831</td>\n",
              "      <td>1.461241</td>\n",
              "    </tr>\n",
              "  </tbody>\n",
              "</table>\n",
              "</div>"
            ],
            "text/plain": [
              "         user_id  item_id  danceability  ...     emb_x     emb_y     emb_z\n",
              "2904986      861   201833         0.286  ...  5.559157  8.241899  0.516022\n",
              "831948        95    59829         0.647  ...  4.614431  7.214665  0.552928\n",
              "2083922      606   148197         0.556  ...  5.475037  7.888066  1.189500\n",
              "1698045      629   125004         0.420  ...  5.511852  7.928967  1.565430\n",
              "1673946      521   123074         0.489  ...  5.608908  7.759831  1.461241\n",
              "\n",
              "[5 rows x 14 columns]"
            ]
          },
          "metadata": {
            "tags": []
          },
          "execution_count": 250
        }
      ]
    },
    {
      "cell_type": "code",
      "metadata": {
        "id": "smoking-apparel"
      },
      "source": [
        "# Predictions in the test set\n",
        "# X_test_arr = [X_test.user_id, X_test.item_id]\n",
        "y_test_pred = model.predict(X_test, batch_size=2048)"
      ],
      "id": "smoking-apparel",
      "execution_count": 253,
      "outputs": []
    },
    {
      "cell_type": "markdown",
      "metadata": {
        "id": "single-gospel"
      },
      "source": [
        "### Evaluation"
      ],
      "id": "single-gospel"
    },
    {
      "cell_type": "code",
      "metadata": {
        "id": "hired-webcam",
        "colab": {
          "base_uri": "https://localhost:8080/"
        },
        "outputId": "2b56ada3-bd98-42d0-a506-7c3950a026a9"
      },
      "source": [
        "from sklearn.metrics import mean_squared_error\n",
        "print('Train RMSE:', mean_squared_error(y_train.values, y_train_pred, squared=False))\n",
        "print('Test RMSE:', mean_squared_error(y_test.values, y_test_pred, squared=False))"
      ],
      "id": "hired-webcam",
      "execution_count": 254,
      "outputs": [
        {
          "output_type": "stream",
          "text": [
            "Train RMSE: 2.7295899099986802\n",
            "Test RMSE: 2.8355140902937634\n"
          ],
          "name": "stdout"
        }
      ]
    },
    {
      "cell_type": "code",
      "metadata": {
        "id": "K_Pljoaoz-jo"
      },
      "source": [
        "def get_test_predictions(model, X_test):\n",
        "  predictions_li = []\n",
        "  for user_id, test_user in tqdm(X_test.groupby('user_id'), position=0, leave=True):    \n",
        "    # Retrieve the unseen items\n",
        "    user_df = test_user[['item_id', 'rating']].copy()\n",
        "    test_pids = user_df['item_id'].values\n",
        "    relevant_pids = set(user_df.loc[user_df['rating'] > 1, 'item_id'].values)\n",
        "    if len(relevant_pids) == 0:\n",
        "      continue\n",
        "    # Make rating predictions for all items for that user\n",
        "    predictions = model.predict(test_user.drop(columns=['rating']), batch_size=2048)\n",
        "    # predictions = pred_func(model, user_id, pid_array, train_ratings)\n",
        "    predictions = predictions.reshape(-1)\n",
        "    irrelevant_pids = set(test_pids).difference(relevant_pids)\n",
        "    predictions_relevant = predictions[user_df['rating'] > 2]\n",
        "    predictions_irrelevant = predictions[user_df['rating'] == 0]\n",
        "    predictions_dict = {'user_id': user_id,\n",
        "                        'predictions': predictions,\n",
        "                        'test_pids': test_pids,\n",
        "                        'relevant_pids': relevant_pids,\n",
        "                        'irrelevant_pids': irrelevant_pids,\n",
        "                        'predictions_relevant': predictions_relevant,\n",
        "                        'predictions_irrelevant': predictions_irrelevant}\n",
        "    predictions_li.append(predictions_dict)\n",
        "\n",
        "  return pd.DataFrame(predictions_li)\n"
      ],
      "id": "K_Pljoaoz-jo",
      "execution_count": 258,
      "outputs": []
    },
    {
      "cell_type": "code",
      "metadata": {
        "colab": {
          "base_uri": "https://localhost:8080/",
          "height": 204
        },
        "id": "DWS4A9h4V2Ws",
        "outputId": "f2e6946f-1e5f-48b1-e6ef-91dd03cf05ab"
      },
      "source": [
        "X_test.head()"
      ],
      "id": "DWS4A9h4V2Ws",
      "execution_count": 259,
      "outputs": [
        {
          "output_type": "execute_result",
          "data": {
            "text/html": [
              "<div>\n",
              "<style scoped>\n",
              "    .dataframe tbody tr th:only-of-type {\n",
              "        vertical-align: middle;\n",
              "    }\n",
              "\n",
              "    .dataframe tbody tr th {\n",
              "        vertical-align: top;\n",
              "    }\n",
              "\n",
              "    .dataframe thead th {\n",
              "        text-align: right;\n",
              "    }\n",
              "</style>\n",
              "<table border=\"1\" class=\"dataframe\">\n",
              "  <thead>\n",
              "    <tr style=\"text-align: right;\">\n",
              "      <th></th>\n",
              "      <th>user_id</th>\n",
              "      <th>item_id</th>\n",
              "      <th>danceability</th>\n",
              "      <th>energy</th>\n",
              "      <th>speechiness</th>\n",
              "      <th>acousticness</th>\n",
              "      <th>instrumentalness</th>\n",
              "      <th>liveness</th>\n",
              "      <th>valence</th>\n",
              "      <th>tempo</th>\n",
              "      <th>popularity</th>\n",
              "      <th>emb_x</th>\n",
              "      <th>emb_y</th>\n",
              "      <th>emb_z</th>\n",
              "    </tr>\n",
              "  </thead>\n",
              "  <tbody>\n",
              "    <tr>\n",
              "      <th>2904986</th>\n",
              "      <td>861</td>\n",
              "      <td>201833</td>\n",
              "      <td>0.286</td>\n",
              "      <td>0.990</td>\n",
              "      <td>0.0989</td>\n",
              "      <td>0.000137</td>\n",
              "      <td>0.000160</td>\n",
              "      <td>0.0926</td>\n",
              "      <td>0.4840</td>\n",
              "      <td>147.369</td>\n",
              "      <td>51</td>\n",
              "      <td>5.559157</td>\n",
              "      <td>8.241899</td>\n",
              "      <td>0.516022</td>\n",
              "    </tr>\n",
              "    <tr>\n",
              "      <th>831948</th>\n",
              "      <td>95</td>\n",
              "      <td>59829</td>\n",
              "      <td>0.647</td>\n",
              "      <td>0.582</td>\n",
              "      <td>0.0755</td>\n",
              "      <td>0.410000</td>\n",
              "      <td>0.000002</td>\n",
              "      <td>0.0715</td>\n",
              "      <td>0.9150</td>\n",
              "      <td>167.396</td>\n",
              "      <td>81</td>\n",
              "      <td>4.614431</td>\n",
              "      <td>7.214665</td>\n",
              "      <td>0.552928</td>\n",
              "    </tr>\n",
              "    <tr>\n",
              "      <th>2083922</th>\n",
              "      <td>606</td>\n",
              "      <td>148197</td>\n",
              "      <td>0.556</td>\n",
              "      <td>0.913</td>\n",
              "      <td>0.0437</td>\n",
              "      <td>0.019300</td>\n",
              "      <td>0.000009</td>\n",
              "      <td>0.3460</td>\n",
              "      <td>0.7300</td>\n",
              "      <td>96.184</td>\n",
              "      <td>86</td>\n",
              "      <td>5.475037</td>\n",
              "      <td>7.888066</td>\n",
              "      <td>1.189500</td>\n",
              "    </tr>\n",
              "    <tr>\n",
              "      <th>1698045</th>\n",
              "      <td>629</td>\n",
              "      <td>125004</td>\n",
              "      <td>0.420</td>\n",
              "      <td>0.691</td>\n",
              "      <td>0.0501</td>\n",
              "      <td>0.310000</td>\n",
              "      <td>0.042700</td>\n",
              "      <td>0.1090</td>\n",
              "      <td>0.0383</td>\n",
              "      <td>115.326</td>\n",
              "      <td>80</td>\n",
              "      <td>5.511852</td>\n",
              "      <td>7.928967</td>\n",
              "      <td>1.565430</td>\n",
              "    </tr>\n",
              "    <tr>\n",
              "      <th>1673946</th>\n",
              "      <td>521</td>\n",
              "      <td>123074</td>\n",
              "      <td>0.489</td>\n",
              "      <td>0.913</td>\n",
              "      <td>0.0406</td>\n",
              "      <td>0.007690</td>\n",
              "      <td>0.001600</td>\n",
              "      <td>0.2240</td>\n",
              "      <td>0.7250</td>\n",
              "      <td>129.911</td>\n",
              "      <td>65</td>\n",
              "      <td>5.608908</td>\n",
              "      <td>7.759831</td>\n",
              "      <td>1.461241</td>\n",
              "    </tr>\n",
              "  </tbody>\n",
              "</table>\n",
              "</div>"
            ],
            "text/plain": [
              "         user_id  item_id  danceability  ...     emb_x     emb_y     emb_z\n",
              "2904986      861   201833         0.286  ...  5.559157  8.241899  0.516022\n",
              "831948        95    59829         0.647  ...  4.614431  7.214665  0.552928\n",
              "2083922      606   148197         0.556  ...  5.475037  7.888066  1.189500\n",
              "1698045      629   125004         0.420  ...  5.511852  7.928967  1.565430\n",
              "1673946      521   123074         0.489  ...  5.608908  7.759831  1.461241\n",
              "\n",
              "[5 rows x 14 columns]"
            ]
          },
          "metadata": {
            "tags": []
          },
          "execution_count": 259
        }
      ]
    },
    {
      "cell_type": "code",
      "metadata": {
        "id": "Rhkj5qFG0HsO",
        "colab": {
          "base_uri": "https://localhost:8080/"
        },
        "outputId": "a7f462d9-8ff2-4e0d-a8f9-bf2fc0edb911"
      },
      "source": [
        "# X_test_arr = np.array(X_test_arr)\n",
        "# test_ratings = pd.DataFrame({'user_id': X_test_arr[0, :], 'item_id':X_test_arr[1, :], 'rating': y_test})\n",
        "X_test_copy = X_test.copy()\n",
        "X_test_copy['rating'] = y_test \n",
        "predictions_df = get_test_predictions(model, X_test_copy)"
      ],
      "id": "Rhkj5qFG0HsO",
      "execution_count": 260,
      "outputs": [
        {
          "output_type": "stream",
          "text": [
            "100%|██████████| 990/990 [01:17<00:00, 12.83it/s]\n"
          ],
          "name": "stderr"
        }
      ]
    },
    {
      "cell_type": "code",
      "metadata": {
        "id": "IyGGzKIm3Z-6"
      },
      "source": [
        "def plot_predictions(predictions_df):\n",
        "  pred_arr = [predictions_df[['predictions_relevant']].apply(lambda x: np.hstack(x), axis=0).values.reshape(-1),\n",
        "              predictions_df[['predictions_irrelevant']].apply(lambda x: np.hstack(x), axis=0).values.reshape(-1)]\n",
        "\n",
        "  f, ax = plt.subplots(1, 1)\n",
        "  ax.set_title('Predictions distribution', color='C0')\n",
        "  c = 'red'\n",
        "  bplot = plt.boxplot(pred_arr, labels=['Relevant', 'Irrelevant'], vert=True, patch_artist=True)\n",
        "  # fill with colors\n",
        "  colors = ['C4', 'C2']\n",
        "  for patch, color in zip(bplot['boxes'], colors):\n",
        "    patch.set_facecolor(color)\n",
        "\n",
        "  for median in bplot['medians']:\n",
        "    median.set(color='k', linewidth=1.5)\n",
        "\n",
        "  plt.show()"
      ],
      "id": "IyGGzKIm3Z-6",
      "execution_count": 261,
      "outputs": []
    },
    {
      "cell_type": "code",
      "metadata": {
        "colab": {
          "base_uri": "https://localhost:8080/",
          "height": 336
        },
        "id": "H8pqqFPa4PdW",
        "outputId": "bd032897-8ecd-4555-9da0-84afa7d5eb96"
      },
      "source": [
        "plot_predictions(predictions_df)"
      ],
      "id": "H8pqqFPa4PdW",
      "execution_count": 262,
      "outputs": [
        {
          "output_type": "stream",
          "text": [
            "/usr/local/lib/python3.7/dist-packages/numpy/core/_asarray.py:83: VisibleDeprecationWarning: Creating an ndarray from ragged nested sequences (which is a list-or-tuple of lists-or-tuples-or ndarrays with different lengths or shapes) is deprecated. If you meant to do this, you must specify 'dtype=object' when creating the ndarray\n",
            "  return array(a, dtype, copy=False, order=order)\n"
          ],
          "name": "stderr"
        },
        {
          "output_type": "display_data",
          "data": {
            "image/png": "[encoded data removed]",
            "text/plain": [
              "<Figure size 432x288 with 1 Axes>"
            ]
          },
          "metadata": {
            "tags": [],
            "needs_background": "light"
          }
        }
      ]
    },
    {
      "cell_type": "code",
      "metadata": {
        "id": "honest-globe"
      },
      "source": [
        "def precision_at_k(predictions_df):\n",
        "    precisions = []\n",
        "    # For each user\n",
        "    for row in predictions_df.iterrows():\n",
        "      predictions = row[1][1]\n",
        "      test_pids = row[1][2]\n",
        "      relevant_pids = set(row[1][3])\n",
        "      if len(relevant_pids) == 0:\n",
        "          continue\n",
        "      # Sort the items and het the top k\n",
        "      top_k = predictions > 3\n",
        "      if top_k.sum() == 0:\n",
        "         precisions.append(0)\n",
        "         continue\n",
        "      top_k_items = set(np.array(test_pids)[top_k])\n",
        "      # Compute precision as per definition\n",
        "      precisions.append(len(top_k_items & relevant_pids) / top_k.sum())\n",
        "    return precisions"
      ],
      "id": "honest-globe",
      "execution_count": 269,
      "outputs": []
    },
    {
      "cell_type": "code",
      "metadata": {
        "id": "asian-divide"
      },
      "source": [
        "precisions = precision_at_k(predictions_df)"
      ],
      "id": "asian-divide",
      "execution_count": 270,
      "outputs": []
    },
    {
      "cell_type": "code",
      "metadata": {
        "id": "muslim-sphere",
        "colab": {
          "base_uri": "https://localhost:8080/"
        },
        "outputId": "3bc629ea-0132-4b5d-94b3-c6e4f670d271"
      },
      "source": [
        "np.mean(precisions), np.std(precisions)"
      ],
      "id": "muslim-sphere",
      "execution_count": 271,
      "outputs": [
        {
          "output_type": "execute_result",
          "data": {
            "text/plain": [
              "(0.5364706514363914, 0.19839365576624188)"
            ]
          },
          "metadata": {
            "tags": []
          },
          "execution_count": 271
        }
      ]
    },
    {
      "cell_type": "code",
      "metadata": {
        "id": "cosmetic-enhancement"
      },
      "source": [
        "### EXERCISE CELL ###\n",
        "def recall_at_k(predictions_df):\n",
        "    recalls = []\n",
        "    # For each user\n",
        "    for row in predictions_df.iterrows():\n",
        "      predictions = row[1][1]\n",
        "      test_pids = row[1][2]\n",
        "      relevant_pids = set(row[1][3])\n",
        "      if len(relevant_pids) == 0:\n",
        "          continue\n",
        "      # Sort the items and het the top k\n",
        "      top_k = predictions > 2.5\n",
        "      if top_k.sum() == 0:\n",
        "         recalls.append(0)\n",
        "         continue\n",
        "      top_k_items = set(np.array(test_pids)[top_k])\n",
        "      recalls.append(len(top_k_items & relevant_pids) / len(relevant_pids))\n",
        "    return recalls"
      ],
      "id": "cosmetic-enhancement",
      "execution_count": 272,
      "outputs": []
    },
    {
      "cell_type": "code",
      "metadata": {
        "id": "collected-universal"
      },
      "source": [
        "recalls = recall_at_k(predictions_df)"
      ],
      "id": "collected-universal",
      "execution_count": 273,
      "outputs": []
    },
    {
      "cell_type": "code",
      "metadata": {
        "id": "hourly-skiing",
        "colab": {
          "base_uri": "https://localhost:8080/"
        },
        "outputId": "74d1f36a-f74b-41a8-9a08-7dc25540a05a"
      },
      "source": [
        "np.mean(recalls), np.std(recalls)"
      ],
      "id": "hourly-skiing",
      "execution_count": 274,
      "outputs": [
        {
          "output_type": "execute_result",
          "data": {
            "text/plain": [
              "(0.6942924224989347, 0.30920508696289856)"
            ]
          },
          "metadata": {
            "tags": []
          },
          "execution_count": 274
        }
      ]
    },
    {
      "cell_type": "code",
      "metadata": {
        "id": "answering-drink"
      },
      "source": [
        "### EXERCISE CELL ###\n",
        "def map_at_k(predictions_df, k=100):\n",
        "    maps = []\n",
        "    for row in predictions_df.iterrows():\n",
        "      predictions = row[1][1]\n",
        "      test_pids = row[1][2]\n",
        "      relevant_pids = set(row[1][3])\n",
        "      if len(relevant_pids) == 0:\n",
        "          continue\n",
        "      partial_maps = []\n",
        "      top_k = list(np.argsort(predictions)[:k])\n",
        "      top_k_items = np.array(test_pids)[top_k]\n",
        "      for rank, item_id in enumerate(top_k_items):\n",
        "          if item_id in relevant_pids:\n",
        "              partial_maps.append(len(set(top_k_items[:rank+1]) & relevant_pids) / float(rank+1))\n",
        "      maps.append(.0 if len(partial_maps) == 0 else np.sum(partial_maps) / float(k))\n",
        "    return maps"
      ],
      "id": "answering-drink",
      "execution_count": 275,
      "outputs": []
    },
    {
      "cell_type": "code",
      "metadata": {
        "id": "fantastic-sender"
      },
      "source": [
        "maps = map_at_k(predictions_df, k=100)"
      ],
      "id": "fantastic-sender",
      "execution_count": 276,
      "outputs": []
    },
    {
      "cell_type": "code",
      "metadata": {
        "id": "changing-israel",
        "colab": {
          "base_uri": "https://localhost:8080/"
        },
        "outputId": "67b327e2-b4fd-40ea-d3cc-d5d57b58c11f"
      },
      "source": [
        "np.mean(maps), np.std(maps)"
      ],
      "id": "changing-israel",
      "execution_count": 277,
      "outputs": [
        {
          "output_type": "execute_result",
          "data": {
            "text/plain": [
              "(0.22431068112537797, 0.18257718739644627)"
            ]
          },
          "metadata": {
            "tags": []
          },
          "execution_count": 277
        }
      ]
    },
    {
      "cell_type": "code",
      "metadata": {
        "id": "least-brooklyn"
      },
      "source": [
        ""
      ],
      "id": "least-brooklyn",
      "execution_count": null,
      "outputs": []
    }
  ]
}