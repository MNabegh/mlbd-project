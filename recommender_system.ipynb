{
  "nbformat": 4,
  "nbformat_minor": 5,
  "metadata": {
    "kernelspec": {
      "display_name": "Python 3",
      "language": "python",
      "name": "python3"
    },
    "language_info": {
      "codemirror_mode": {
        "name": "ipython",
        "version": 3
      },
      "file_extension": ".py",
      "mimetype": "text/x-python",
      "name": "python",
      "nbconvert_exporter": "python",
      "pygments_lexer": "ipython3",
      "version": "3.7.10"
    },
    "colab": {
      "name": "recommender_system.ipynb",
      "provenance": []
    }
  },
  "cells": [
    {
      "cell_type": "code",
      "metadata": {
        "id": "0VEXgpNp1Cqi",
        "colab": {
          "base_uri": "https://localhost:8080/"
        },
        "outputId": "3e66ffd2-be51-4bc6-ad7f-f8c40f63c429"
      },
      "source": [
        "import os\n",
        "\n",
        "path = 'lastfm-dataset-1K'\n",
        "\n",
        "if not os.path.exists(path):\n",
        "\n",
        "  !wget http://mtg.upf.edu/static/datasets/last.fm/lastfm-dataset-1K.tar.gz\n",
        "  !tar -xvzf lastfm-dataset-1K.tar.gz\n"
      ],
      "id": "0VEXgpNp1Cqi",
      "execution_count": 1,
      "outputs": [
        {
          "output_type": "stream",
          "text": [
            "--2021-05-30 08:14:51--  http://mtg.upf.edu/static/datasets/last.fm/lastfm-dataset-1K.tar.gz\n",
            "Resolving mtg.upf.edu (mtg.upf.edu)... 84.89.139.55\n",
            "Connecting to mtg.upf.edu (mtg.upf.edu)|84.89.139.55|:80... connected.\n",
            "HTTP request sent, awaiting response... 200 OK\n",
            "Length: 672741554 (642M) [application/x-gzip]\n",
            "Saving to: ‘lastfm-dataset-1K.tar.gz’\n",
            "\n",
            "lastfm-dataset-1K.t 100%[===================>] 641.58M  1.29MB/s    in 9m 35s  \n",
            "\n",
            "2021-05-30 08:24:26 (1.12 MB/s) - ‘lastfm-dataset-1K.tar.gz’ saved [672741554/672741554]\n",
            "\n",
            "lastfm-dataset-1K/\n",
            "lastfm-dataset-1K/userid-profile.tsv\n",
            "lastfm-dataset-1K/README.txt\n",
            "lastfm-dataset-1K/userid-timestamp-artid-artname-traid-traname.tsv\n"
          ],
          "name": "stdout"
        }
      ]
    },
    {
      "cell_type": "code",
      "metadata": {
        "colab": {
          "base_uri": "https://localhost:8080/"
        },
        "id": "dHPzdYY01CTs",
        "outputId": "559f9e18-cfda-4fdf-9b1d-a4e12939ed35"
      },
      "source": [
        "!ls"
      ],
      "id": "dHPzdYY01CTs",
      "execution_count": 2,
      "outputs": [
        {
          "output_type": "stream",
          "text": [
            "lastfm-dataset-1K  lastfm-dataset-1K.tar.gz  sample_data\n"
          ],
          "name": "stdout"
        }
      ]
    },
    {
      "cell_type": "code",
      "metadata": {
        "id": "PQ162BxguWhK",
        "colab": {
          "base_uri": "https://localhost:8080/"
        },
        "outputId": "18ae47f1-f928-47bc-caed-c444d5d49a77"
      },
      "source": [
        "import os\n",
        "from google.colab import drive\n",
        "drive.mount('/content/drive')"
      ],
      "id": "PQ162BxguWhK",
      "execution_count": 3,
      "outputs": [
        {
          "output_type": "stream",
          "text": [
            "Mounted at /content/drive\n"
          ],
          "name": "stdout"
        }
      ]
    },
    {
      "cell_type": "code",
      "metadata": {
        "id": "IkLzfmKxv1nY",
        "colab": {
          "base_uri": "https://localhost:8080/"
        },
        "outputId": "1dad6a64-7711-4588-e57c-5a389e434c37"
      },
      "source": [
        "!ls drive/MyDrive/data"
      ],
      "id": "IkLzfmKxv1nY",
      "execution_count": 4,
      "outputs": [
        {
          "output_type": "stream",
          "text": [
            "feature_df_with_emb.csv  spotify_features.csv\n"
          ],
          "name": "stdout"
        }
      ]
    },
    {
      "cell_type": "code",
      "metadata": {
        "id": "legislative-photography",
        "colab": {
          "base_uri": "https://localhost:8080/"
        },
        "outputId": "c03e531e-b16d-4a80-9e0e-6216fbee97b6"
      },
      "source": [
        "import pandas as pd\n",
        "import matplotlib.pyplot as plt\n",
        "import seaborn as sns\n",
        "from io import StringIO\n",
        "import numpy as np\n",
        "from tqdm import tqdm\n",
        "from sklearn.model_selection import train_test_split\n",
        "from sklearn.metrics import roc_auc_score\n",
        "import scipy.sparse as sp\n",
        "import tensorflow as tf\n",
        "from tqdm import tqdm\n",
        "import pandas as pd\n",
        "import numpy as np\n",
        "\n",
        "from keras.utils.vis_utils import model_to_dot\n",
        "from IPython.display import SVG\n",
        "import matplotlib.pyplot as plt\n",
        "import matplotlib\n",
        "%matplotlib inline\n",
        "\n",
        "import datetime\n",
        "import time \n",
        "import math\n",
        "import os\n",
        "%config Completer.use_jedi = False"
      ],
      "id": "legislative-photography",
      "execution_count": 5,
      "outputs": [
        {
          "output_type": "stream",
          "text": [
            "/usr/local/lib/python3.7/dist-packages/ipykernel_launcher.py:25: UserWarning: Config option `use_jedi` not recognized by `IPCompleter`.\n"
          ],
          "name": "stderr"
        }
      ]
    },
    {
      "cell_type": "code",
      "metadata": {
        "id": "y6JENn92JzyY"
      },
      "source": [
        "path = \"drive/MyDrive/data/feature_df_with_emb.csv\"\n",
        "\n",
        "feature_df_with_emb = pd.read_csv(path)"
      ],
      "id": "y6JENn92JzyY",
      "execution_count": 6,
      "outputs": []
    },
    {
      "cell_type": "code",
      "metadata": {
        "id": "9MPlx151Mo_8",
        "colab": {
          "base_uri": "https://localhost:8080/",
          "height": 496
        },
        "outputId": "2f737574-0e5e-4621-d75c-1e3d307515b7"
      },
      "source": [
        "feature_df_with_emb.head()"
      ],
      "id": "9MPlx151Mo_8",
      "execution_count": 7,
      "outputs": [
        {
          "output_type": "execute_result",
          "data": {
            "text/html": [
              "<div>\n",
              "<style scoped>\n",
              "    .dataframe tbody tr th:only-of-type {\n",
              "        vertical-align: middle;\n",
              "    }\n",
              "\n",
              "    .dataframe tbody tr th {\n",
              "        vertical-align: top;\n",
              "    }\n",
              "\n",
              "    .dataframe thead th {\n",
              "        text-align: right;\n",
              "    }\n",
              "</style>\n",
              "<table border=\"1\" class=\"dataframe\">\n",
              "  <thead>\n",
              "    <tr style=\"text-align: right;\">\n",
              "      <th></th>\n",
              "      <th>Unnamed: 0</th>\n",
              "      <th>artist</th>\n",
              "      <th>track</th>\n",
              "      <th>danceability</th>\n",
              "      <th>energy</th>\n",
              "      <th>key</th>\n",
              "      <th>loudness</th>\n",
              "      <th>mode</th>\n",
              "      <th>speechiness</th>\n",
              "      <th>acousticness</th>\n",
              "      <th>instrumentalness</th>\n",
              "      <th>liveness</th>\n",
              "      <th>valence</th>\n",
              "      <th>tempo</th>\n",
              "      <th>duration_ms</th>\n",
              "      <th>genres</th>\n",
              "      <th>popularity</th>\n",
              "      <th>genres_emb</th>\n",
              "      <th>emb_x</th>\n",
              "      <th>emb_y</th>\n",
              "      <th>emb_z</th>\n",
              "    </tr>\n",
              "  </thead>\n",
              "  <tbody>\n",
              "    <tr>\n",
              "      <th>0</th>\n",
              "      <td>0</td>\n",
              "      <td>坂本龍一</td>\n",
              "      <td>Composition 0919 (Live_2009_4_15)</td>\n",
              "      <td>0.806</td>\n",
              "      <td>0.413</td>\n",
              "      <td>5.0</td>\n",
              "      <td>-12.883</td>\n",
              "      <td>1.0</td>\n",
              "      <td>0.1560</td>\n",
              "      <td>0.987</td>\n",
              "      <td>0.794</td>\n",
              "      <td>0.1130</td>\n",
              "      <td>0.5290</td>\n",
              "      <td>105.089</td>\n",
              "      <td>330253.0</td>\n",
              "      <td>['japanese soundtrack', 'japanese classical', ...</td>\n",
              "      <td>62</td>\n",
              "      <td>[7.3752766  4.8944925  0.94349271]</td>\n",
              "      <td>7.375277</td>\n",
              "      <td>4.894493</td>\n",
              "      <td>0.943493</td>\n",
              "    </tr>\n",
              "    <tr>\n",
              "      <th>1</th>\n",
              "      <td>1</td>\n",
              "      <td>坂本龍一</td>\n",
              "      <td>Hibari (Live_2009_4_15)</td>\n",
              "      <td>0.604</td>\n",
              "      <td>0.283</td>\n",
              "      <td>9.0</td>\n",
              "      <td>-19.811</td>\n",
              "      <td>0.0</td>\n",
              "      <td>0.0583</td>\n",
              "      <td>0.996</td>\n",
              "      <td>0.916</td>\n",
              "      <td>0.1140</td>\n",
              "      <td>0.2700</td>\n",
              "      <td>137.802</td>\n",
              "      <td>540133.0</td>\n",
              "      <td>['japanese soundtrack', 'japanese classical', ...</td>\n",
              "      <td>62</td>\n",
              "      <td>[7.3752766  4.8944925  0.94349271]</td>\n",
              "      <td>7.375277</td>\n",
              "      <td>4.894493</td>\n",
              "      <td>0.943493</td>\n",
              "    </tr>\n",
              "    <tr>\n",
              "      <th>2</th>\n",
              "      <td>2</td>\n",
              "      <td>坂本龍一</td>\n",
              "      <td>To Stanford (Live_2009_4_15)</td>\n",
              "      <td>0.453</td>\n",
              "      <td>0.163</td>\n",
              "      <td>5.0</td>\n",
              "      <td>-20.922</td>\n",
              "      <td>1.0</td>\n",
              "      <td>0.0519</td>\n",
              "      <td>0.990</td>\n",
              "      <td>0.939</td>\n",
              "      <td>0.1010</td>\n",
              "      <td>0.0703</td>\n",
              "      <td>73.926</td>\n",
              "      <td>216853.0</td>\n",
              "      <td>['japanese indie folk', 'japanese soundtrack',...</td>\n",
              "      <td>39</td>\n",
              "      <td>[7.3752766  4.8944925  0.94349271]</td>\n",
              "      <td>7.375277</td>\n",
              "      <td>4.894493</td>\n",
              "      <td>0.943493</td>\n",
              "    </tr>\n",
              "    <tr>\n",
              "      <th>3</th>\n",
              "      <td>3</td>\n",
              "      <td>坂本龍一</td>\n",
              "      <td>Improvisation (Live_2009_4_15)</td>\n",
              "      <td>0.217</td>\n",
              "      <td>0.012</td>\n",
              "      <td>5.0</td>\n",
              "      <td>-36.464</td>\n",
              "      <td>1.0</td>\n",
              "      <td>0.0376</td>\n",
              "      <td>0.991</td>\n",
              "      <td>0.859</td>\n",
              "      <td>0.0866</td>\n",
              "      <td>0.0376</td>\n",
              "      <td>80.714</td>\n",
              "      <td>384707.0</td>\n",
              "      <td>['japanese soundtrack', 'japanese classical', ...</td>\n",
              "      <td>62</td>\n",
              "      <td>[7.3752766  4.8944925  0.94349271]</td>\n",
              "      <td>7.375277</td>\n",
              "      <td>4.894493</td>\n",
              "      <td>0.943493</td>\n",
              "    </tr>\n",
              "    <tr>\n",
              "      <th>4</th>\n",
              "      <td>4</td>\n",
              "      <td>坂本龍一</td>\n",
              "      <td>Glacier (Live_2009_4_15)</td>\n",
              "      <td>0.518</td>\n",
              "      <td>0.213</td>\n",
              "      <td>9.0</td>\n",
              "      <td>-28.790</td>\n",
              "      <td>0.0</td>\n",
              "      <td>0.2090</td>\n",
              "      <td>0.869</td>\n",
              "      <td>0.898</td>\n",
              "      <td>0.1030</td>\n",
              "      <td>0.0920</td>\n",
              "      <td>104.191</td>\n",
              "      <td>580707.0</td>\n",
              "      <td>['japanese soundtrack', 'japanese classical', ...</td>\n",
              "      <td>62</td>\n",
              "      <td>[7.3752766  4.8944925  0.94349271]</td>\n",
              "      <td>7.375277</td>\n",
              "      <td>4.894493</td>\n",
              "      <td>0.943493</td>\n",
              "    </tr>\n",
              "  </tbody>\n",
              "</table>\n",
              "</div>"
            ],
            "text/plain": [
              "   Unnamed: 0 artist  ...     emb_y     emb_z\n",
              "0           0   坂本龍一  ...  4.894493  0.943493\n",
              "1           1   坂本龍一  ...  4.894493  0.943493\n",
              "2           2   坂本龍一  ...  4.894493  0.943493\n",
              "3           3   坂本龍一  ...  4.894493  0.943493\n",
              "4           4   坂本龍一  ...  4.894493  0.943493\n",
              "\n",
              "[5 rows x 21 columns]"
            ]
          },
          "metadata": {
            "tags": []
          },
          "execution_count": 7
        }
      ]
    },
    {
      "cell_type": "code",
      "metadata": {
        "id": "greatest-invitation"
      },
      "source": [
        "# Load the dataset\n",
        "df = pd.read_table('lastfm-dataset-1K/userid-timestamp-artid-artname-traid-traname.tsv', lineterminator='\\n', warn_bad_lines=True, names=['user', 'timestamp', 'artist-id', 'artist', 'song-id', 'song'])\n",
        "df_profile = pd.read_csv('lastfm-dataset-1K/userid-profile.tsv', sep='\\t', error_bad_lines=False, warn_bad_lines=True, skiprows=1, names=['user', 'gender', 'age', 'country', 'signup'])"
      ],
      "id": "greatest-invitation",
      "execution_count": 8,
      "outputs": []
    },
    {
      "cell_type": "code",
      "metadata": {
        "id": "union-season"
      },
      "source": [
        "# Check if some songs share a common ID\n",
        "grouped = df[['song-id', 'song']].groupby(['song-id']).nunique()"
      ],
      "id": "union-season",
      "execution_count": 9,
      "outputs": []
    },
    {
      "cell_type": "code",
      "metadata": {
        "id": "aerial-damages"
      },
      "source": [
        "# Get rows with song names containing multiple rows\n",
        "duplicated = df.loc[df['song-id'].isin(grouped[grouped['song'] > 1].index)]\n",
        "duplicated = duplicated.drop(columns=['user', 'timestamp', 'artist', 'artist-id'])\n",
        "containis_extra_rows = duplicated.apply(lambda x: pd.Series({'id': x[0], 'song': x[1], 'flag':'\\n' in x[1]}), axis=1)\n",
        "containis_extra_rows = containis_extra_rows.loc[containis_extra_rows['flag']]"
      ],
      "id": "aerial-damages",
      "execution_count": 10,
      "outputs": []
    },
    {
      "cell_type": "code",
      "metadata": {
        "id": "smoking-vanilla"
      },
      "source": [
        "# Iterate over those 5k rows to get the extra rows and correct the song name\n",
        "for index, row in containis_extra_rows.iterrows():\n",
        "    row_break = row['song'].split('\\n', 1)\n",
        "    song_name = row_break[0]\n",
        "    df.loc[df['song-id'] == row['id'], 'song'] = song_name\n",
        "    \n",
        "    tsv = StringIO(row_break[1])\n",
        "    df_extra = pd.read_csv(tsv, sep=\"\\t\", warn_bad_lines=True, names=['user', 'timestamp', 'artist-id', 'artist', 'song-id', 'song'])\n",
        "    df = df.append(df_extra, ignore_index=True)"
      ],
      "id": "smoking-vanilla",
      "execution_count": 11,
      "outputs": []
    },
    {
      "cell_type": "markdown",
      "metadata": {
        "id": "green-cloud"
      },
      "source": [
        "### Fix names"
      ],
      "id": "green-cloud"
    },
    {
      "cell_type": "code",
      "metadata": {
        "id": "marked-return"
      },
      "source": [
        "# Check if some songs share a common ID\n",
        "grouped = df[['song-id', 'song']].groupby(['song-id']).nunique()"
      ],
      "id": "marked-return",
      "execution_count": 12,
      "outputs": []
    },
    {
      "cell_type": "code",
      "metadata": {
        "id": "developing-roots",
        "colab": {
          "base_uri": "https://localhost:8080/"
        },
        "outputId": "8c5e6b7d-c81b-4b2e-e639-7c61b507d013"
      },
      "source": [
        "# Check how many ids has more than 1 song name\n",
        "grouped[grouped['song'] > 1].shape[0]"
      ],
      "id": "developing-roots",
      "execution_count": 13,
      "outputs": [
        {
          "output_type": "execute_result",
          "data": {
            "text/plain": [
              "200"
            ]
          },
          "metadata": {
            "tags": []
          },
          "execution_count": 13
        }
      ]
    },
    {
      "cell_type": "code",
      "metadata": {
        "id": "million-deputy"
      },
      "source": [
        "ids_to_be_fixed = grouped[grouped['song'] > 1].index"
      ],
      "id": "million-deputy",
      "execution_count": 14,
      "outputs": []
    },
    {
      "cell_type": "code",
      "metadata": {
        "id": "compact-standing"
      },
      "source": [
        "df = df.set_index('song-id')"
      ],
      "id": "compact-standing",
      "execution_count": 15,
      "outputs": []
    },
    {
      "cell_type": "code",
      "metadata": {
        "id": "waiting-efficiency"
      },
      "source": [
        "map_to_fix = df.groupby(df.index)['song'].head(1)"
      ],
      "id": "waiting-efficiency",
      "execution_count": 16,
      "outputs": []
    },
    {
      "cell_type": "code",
      "metadata": {
        "id": "satellite-chile"
      },
      "source": [
        "df.loc[ids_to_be_fixed, 'song'] = df.loc[ids_to_be_fixed].reset_index()['song-id'].map(lambda x: map_to_fix[x])\n",
        "df = df.reset_index()"
      ],
      "id": "satellite-chile",
      "execution_count": 17,
      "outputs": []
    },
    {
      "cell_type": "markdown",
      "metadata": {
        "id": "experimental-canal"
      },
      "source": [
        "### Create matrix"
      ],
      "id": "experimental-canal"
    },
    {
      "cell_type": "code",
      "metadata": {
        "id": "approved-episode"
      },
      "source": [
        "matrix_init = df.groupby(['user', 'artist', 'song']).count()"
      ],
      "id": "approved-episode",
      "execution_count": 95,
      "outputs": []
    },
    {
      "cell_type": "code",
      "metadata": {
        "id": "streaming-platform"
      },
      "source": [
        "matrix_init = matrix_init['timestamp']\n",
        "matrix_init = matrix_init.map(lambda x: np.log(x))"
      ],
      "id": "streaming-platform",
      "execution_count": 96,
      "outputs": []
    },
    {
      "cell_type": "code",
      "metadata": {
        "id": "wired-master"
      },
      "source": [
        "matrix_init = matrix_init.reset_index()"
      ],
      "id": "wired-master",
      "execution_count": 97,
      "outputs": []
    },
    {
      "cell_type": "code",
      "metadata": {
        "id": "peaceful-uzbekistan"
      },
      "source": [
        "def rating_scaler(row):\n",
        "    row_array = np.array(row)\n",
        "    a, new_range= 1, 4\n",
        "    min_, max_ = row_array.min(), row_array.max()\n",
        "    old_range = max_ - min_\n",
        "    \n",
        "    \n",
        "    scaled_row = (new_range * (row_array - min_)) / (old_range + 1e-6)  + a\n",
        "    return pd.Series(scaled_row)"
      ],
      "id": "peaceful-uzbekistan",
      "execution_count": 98,
      "outputs": []
    },
    {
      "cell_type": "code",
      "metadata": {
        "id": "sunrise-article"
      },
      "source": [
        "matrix_init_scaled = matrix_init.groupby('user')['timestamp'].apply(rating_scaler)"
      ],
      "id": "sunrise-article",
      "execution_count": 99,
      "outputs": []
    },
    {
      "cell_type": "code",
      "metadata": {
        "id": "promising-sussex"
      },
      "source": [
        "matrix_init['timestamp'] = matrix_init_scaled.reset_index()['timestamp']"
      ],
      "id": "promising-sussex",
      "execution_count": 100,
      "outputs": []
    },
    {
      "cell_type": "code",
      "metadata": {
        "id": "1xz9agnu2Acj",
        "outputId": "7859a741-9027-4f50-fc5c-b16ab6278951",
        "colab": {
          "base_uri": "https://localhost:8080/"
        }
      },
      "source": [
        "matrix_init['timestamp'].describe()"
      ],
      "id": "1xz9agnu2Acj",
      "execution_count": 101,
      "outputs": [
        {
          "output_type": "execute_result",
          "data": {
            "text/plain": [
              "count    4.613822e+06\n",
              "mean     1.713137e+00\n",
              "std      8.444994e-01\n",
              "min      1.000000e+00\n",
              "25%      1.000000e+00\n",
              "50%      1.535647e+00\n",
              "75%      2.257866e+00\n",
              "max      4.999999e+00\n",
              "Name: timestamp, dtype: float64"
            ]
          },
          "metadata": {
            "tags": []
          },
          "execution_count": 101
        }
      ]
    },
    {
      "cell_type": "code",
      "metadata": {
        "id": "RegnknnLcdpr"
      },
      "source": [
        "feature_df_with_emb.head()\n",
        "feature_df_with_emb['item'] = feature_df_with_emb.apply(lambda row: row[1]+'-'+row[2], axis=1)"
      ],
      "id": "RegnknnLcdpr",
      "execution_count": 24,
      "outputs": []
    },
    {
      "cell_type": "markdown",
      "metadata": {
        "id": "working-dylan"
      },
      "source": [
        "### Merge data"
      ],
      "id": "working-dylan"
    },
    {
      "cell_type": "code",
      "metadata": {
        "id": "silent-present"
      },
      "source": [
        "matrix_init = matrix_init.rename({'timestamp':'rating', 'song':'track'}, axis=1)"
      ],
      "id": "silent-present",
      "execution_count": 25,
      "outputs": []
    },
    {
      "cell_type": "code",
      "metadata": {
        "id": "potential-replica"
      },
      "source": [
        "matrix_extended = matrix_init.merge(feature_df_with_emb, on=['artist', 'track'])"
      ],
      "id": "potential-replica",
      "execution_count": 26,
      "outputs": []
    },
    {
      "cell_type": "code",
      "metadata": {
        "id": "formal-token",
        "colab": {
          "base_uri": "https://localhost:8080/",
          "height": 0
        },
        "outputId": "9875dcf3-4761-4d2b-e9c0-3046877cc4c1"
      },
      "source": [
        "matrix_extended.head()"
      ],
      "id": "formal-token",
      "execution_count": 27,
      "outputs": [
        {
          "output_type": "execute_result",
          "data": {
            "text/html": [
              "<div>\n",
              "<style scoped>\n",
              "    .dataframe tbody tr th:only-of-type {\n",
              "        vertical-align: middle;\n",
              "    }\n",
              "\n",
              "    .dataframe tbody tr th {\n",
              "        vertical-align: top;\n",
              "    }\n",
              "\n",
              "    .dataframe thead th {\n",
              "        text-align: right;\n",
              "    }\n",
              "</style>\n",
              "<table border=\"1\" class=\"dataframe\">\n",
              "  <thead>\n",
              "    <tr style=\"text-align: right;\">\n",
              "      <th></th>\n",
              "      <th>user</th>\n",
              "      <th>artist</th>\n",
              "      <th>track</th>\n",
              "      <th>rating</th>\n",
              "      <th>Unnamed: 0</th>\n",
              "      <th>danceability</th>\n",
              "      <th>energy</th>\n",
              "      <th>key</th>\n",
              "      <th>loudness</th>\n",
              "      <th>mode</th>\n",
              "      <th>speechiness</th>\n",
              "      <th>acousticness</th>\n",
              "      <th>instrumentalness</th>\n",
              "      <th>liveness</th>\n",
              "      <th>valence</th>\n",
              "      <th>tempo</th>\n",
              "      <th>duration_ms</th>\n",
              "      <th>genres</th>\n",
              "      <th>popularity</th>\n",
              "      <th>genres_emb</th>\n",
              "      <th>emb_x</th>\n",
              "      <th>emb_y</th>\n",
              "      <th>emb_z</th>\n",
              "      <th>item</th>\n",
              "    </tr>\n",
              "  </thead>\n",
              "  <tbody>\n",
              "    <tr>\n",
              "      <th>0</th>\n",
              "      <td>user_000001</td>\n",
              "      <td>2562</td>\n",
              "      <td>Basin Dub</td>\n",
              "      <td>1.652605</td>\n",
              "      <td>1056</td>\n",
              "      <td>0.644</td>\n",
              "      <td>0.431</td>\n",
              "      <td>11.0</td>\n",
              "      <td>-7.676</td>\n",
              "      <td>1.0</td>\n",
              "      <td>0.206</td>\n",
              "      <td>0.0393</td>\n",
              "      <td>0.3</td>\n",
              "      <td>0.159</td>\n",
              "      <td>0.347</td>\n",
              "      <td>139.998</td>\n",
              "      <td>292769.0</td>\n",
              "      <td>['classic dubstep', 'future garage', 'bass mus...</td>\n",
              "      <td>19</td>\n",
              "      <td>[5.3110935  6.1038699  3.31327275]</td>\n",
              "      <td>5.311094</td>\n",
              "      <td>6.10387</td>\n",
              "      <td>3.313273</td>\n",
              "      <td>2562-Basin Dub</td>\n",
              "    </tr>\n",
              "    <tr>\n",
              "      <th>1</th>\n",
              "      <td>user_000451</td>\n",
              "      <td>2562</td>\n",
              "      <td>Basin Dub</td>\n",
              "      <td>1.617691</td>\n",
              "      <td>1056</td>\n",
              "      <td>0.644</td>\n",
              "      <td>0.431</td>\n",
              "      <td>11.0</td>\n",
              "      <td>-7.676</td>\n",
              "      <td>1.0</td>\n",
              "      <td>0.206</td>\n",
              "      <td>0.0393</td>\n",
              "      <td>0.3</td>\n",
              "      <td>0.159</td>\n",
              "      <td>0.347</td>\n",
              "      <td>139.998</td>\n",
              "      <td>292769.0</td>\n",
              "      <td>['classic dubstep', 'future garage', 'bass mus...</td>\n",
              "      <td>19</td>\n",
              "      <td>[5.3110935  6.1038699  3.31327275]</td>\n",
              "      <td>5.311094</td>\n",
              "      <td>6.10387</td>\n",
              "      <td>3.313273</td>\n",
              "      <td>2562-Basin Dub</td>\n",
              "    </tr>\n",
              "    <tr>\n",
              "      <th>2</th>\n",
              "      <td>user_000471</td>\n",
              "      <td>2562</td>\n",
              "      <td>Basin Dub</td>\n",
              "      <td>1.000000</td>\n",
              "      <td>1056</td>\n",
              "      <td>0.644</td>\n",
              "      <td>0.431</td>\n",
              "      <td>11.0</td>\n",
              "      <td>-7.676</td>\n",
              "      <td>1.0</td>\n",
              "      <td>0.206</td>\n",
              "      <td>0.0393</td>\n",
              "      <td>0.3</td>\n",
              "      <td>0.159</td>\n",
              "      <td>0.347</td>\n",
              "      <td>139.998</td>\n",
              "      <td>292769.0</td>\n",
              "      <td>['classic dubstep', 'future garage', 'bass mus...</td>\n",
              "      <td>19</td>\n",
              "      <td>[5.3110935  6.1038699  3.31327275]</td>\n",
              "      <td>5.311094</td>\n",
              "      <td>6.10387</td>\n",
              "      <td>3.313273</td>\n",
              "      <td>2562-Basin Dub</td>\n",
              "    </tr>\n",
              "    <tr>\n",
              "      <th>3</th>\n",
              "      <td>user_000508</td>\n",
              "      <td>2562</td>\n",
              "      <td>Basin Dub</td>\n",
              "      <td>2.129150</td>\n",
              "      <td>1056</td>\n",
              "      <td>0.644</td>\n",
              "      <td>0.431</td>\n",
              "      <td>11.0</td>\n",
              "      <td>-7.676</td>\n",
              "      <td>1.0</td>\n",
              "      <td>0.206</td>\n",
              "      <td>0.0393</td>\n",
              "      <td>0.3</td>\n",
              "      <td>0.159</td>\n",
              "      <td>0.347</td>\n",
              "      <td>139.998</td>\n",
              "      <td>292769.0</td>\n",
              "      <td>['classic dubstep', 'future garage', 'bass mus...</td>\n",
              "      <td>19</td>\n",
              "      <td>[5.3110935  6.1038699  3.31327275]</td>\n",
              "      <td>5.311094</td>\n",
              "      <td>6.10387</td>\n",
              "      <td>3.313273</td>\n",
              "      <td>2562-Basin Dub</td>\n",
              "    </tr>\n",
              "    <tr>\n",
              "      <th>4</th>\n",
              "      <td>user_000515</td>\n",
              "      <td>2562</td>\n",
              "      <td>Basin Dub</td>\n",
              "      <td>1.556342</td>\n",
              "      <td>1056</td>\n",
              "      <td>0.644</td>\n",
              "      <td>0.431</td>\n",
              "      <td>11.0</td>\n",
              "      <td>-7.676</td>\n",
              "      <td>1.0</td>\n",
              "      <td>0.206</td>\n",
              "      <td>0.0393</td>\n",
              "      <td>0.3</td>\n",
              "      <td>0.159</td>\n",
              "      <td>0.347</td>\n",
              "      <td>139.998</td>\n",
              "      <td>292769.0</td>\n",
              "      <td>['classic dubstep', 'future garage', 'bass mus...</td>\n",
              "      <td>19</td>\n",
              "      <td>[5.3110935  6.1038699  3.31327275]</td>\n",
              "      <td>5.311094</td>\n",
              "      <td>6.10387</td>\n",
              "      <td>3.313273</td>\n",
              "      <td>2562-Basin Dub</td>\n",
              "    </tr>\n",
              "  </tbody>\n",
              "</table>\n",
              "</div>"
            ],
            "text/plain": [
              "          user artist      track  ...    emb_y     emb_z            item\n",
              "0  user_000001   2562  Basin Dub  ...  6.10387  3.313273  2562-Basin Dub\n",
              "1  user_000451   2562  Basin Dub  ...  6.10387  3.313273  2562-Basin Dub\n",
              "2  user_000471   2562  Basin Dub  ...  6.10387  3.313273  2562-Basin Dub\n",
              "3  user_000508   2562  Basin Dub  ...  6.10387  3.313273  2562-Basin Dub\n",
              "4  user_000515   2562  Basin Dub  ...  6.10387  3.313273  2562-Basin Dub\n",
              "\n",
              "[5 rows x 24 columns]"
            ]
          },
          "metadata": {
            "tags": []
          },
          "execution_count": 27
        }
      ]
    },
    {
      "cell_type": "markdown",
      "metadata": {
        "id": "w-BObyTK8dft"
      },
      "source": [
        "### Filter the dataset"
      ],
      "id": "w-BObyTK8dft"
    },
    {
      "cell_type": "code",
      "metadata": {
        "colab": {
          "base_uri": "https://localhost:8080/"
        },
        "id": "bmxgAsts8dSB",
        "outputId": "e63afa6e-6240-4b68-bc82-5c74d6646ea6"
      },
      "source": [
        "matrix_extended.groupby('user').count()['rating'].describe()"
      ],
      "id": "bmxgAsts8dSB",
      "execution_count": 28,
      "outputs": [
        {
          "output_type": "execute_result",
          "data": {
            "text/plain": [
              "count      992.000000\n",
              "mean      4367.426411\n",
              "std       5152.289753\n",
              "min          1.000000\n",
              "25%       1265.500000\n",
              "50%       2945.000000\n",
              "75%       5524.500000\n",
              "max      65246.000000\n",
              "Name: rating, dtype: float64"
            ]
          },
          "metadata": {
            "tags": []
          },
          "execution_count": 28
        }
      ]
    },
    {
      "cell_type": "code",
      "metadata": {
        "colab": {
          "base_uri": "https://localhost:8080/",
          "height": 0
        },
        "id": "RVJT_7Qi8cyB",
        "outputId": "c60a613b-774f-450c-f117-c1b6e3cbaeb6"
      },
      "source": [
        "matrix_extended.groupby('user').count()['rating'].plot.hist()\n",
        "plt.yscale('log')\n",
        "plt.show()"
      ],
      "id": "RVJT_7Qi8cyB",
      "execution_count": 29,
      "outputs": [
        {
          "output_type": "display_data",
          "data": {
            "image/png": "[encoded data removed]",
            "text/plain": [
              "<Figure size 432x288 with 1 Axes>"
            ]
          },
          "metadata": {
            "tags": [],
            "needs_background": "light"
          }
        }
      ]
    },
    {
      "cell_type": "code",
      "metadata": {
        "colab": {
          "base_uri": "https://localhost:8080/"
        },
        "id": "u9l3wRhoGL4i",
        "outputId": "f9a01fd7-e6fd-44f9-d1ea-06d17424c18e"
      },
      "source": [
        "matrix_extended.groupby('item').count()['rating'].describe()"
      ],
      "id": "u9l3wRhoGL4i",
      "execution_count": 30,
      "outputs": [
        {
          "output_type": "execute_result",
          "data": {
            "text/plain": [
              "count    929536.000000\n",
              "mean          4.660914\n",
              "std          10.819621\n",
              "min           1.000000\n",
              "25%           1.000000\n",
              "50%           2.000000\n",
              "75%           4.000000\n",
              "max         346.000000\n",
              "Name: rating, dtype: float64"
            ]
          },
          "metadata": {
            "tags": []
          },
          "execution_count": 30
        }
      ]
    },
    {
      "cell_type": "code",
      "metadata": {
        "colab": {
          "base_uri": "https://localhost:8080/",
          "height": 0
        },
        "id": "EGlGtGXN8cPj",
        "outputId": "79c98e72-c9ec-4049-a2f2-f9e81539e86e"
      },
      "source": [
        "matrix_extended.groupby('item').count()['rating'].plot.hist()\n",
        "plt.yscale('log')\n",
        "plt.show()"
      ],
      "id": "EGlGtGXN8cPj",
      "execution_count": 31,
      "outputs": [
        {
          "output_type": "display_data",
          "data": {
            "image/png": "[encoded data removed]",
            "text/plain": [
              "<Figure size 432x288 with 1 Axes>"
            ]
          },
          "metadata": {
            "tags": [],
            "needs_background": "light"
          }
        }
      ]
    },
    {
      "cell_type": "code",
      "metadata": {
        "colab": {
          "base_uri": "https://localhost:8080/",
          "height": 0
        },
        "id": "O3Mpjco08cCg",
        "outputId": "07b142d8-fadf-4b17-a08f-f5e276426b63"
      },
      "source": [
        "matrix_extended['rating'].plot.hist()\n",
        "plt.yscale('log')\n",
        "plt.show()"
      ],
      "id": "O3Mpjco08cCg",
      "execution_count": 32,
      "outputs": [
        {
          "output_type": "display_data",
          "data": {
            "image/png": "[encoded data removed]",
            "text/plain": [
              "<Figure size 432x288 with 1 Axes>"
            ]
          },
          "metadata": {
            "tags": [],
            "needs_background": "light"
          }
        }
      ]
    },
    {
      "cell_type": "code",
      "metadata": {
        "id": "06x7G_3cGW2J"
      },
      "source": [
        "items_app = matrix_extended.groupby('item').count()['rating']\n",
        "items_app = items_app.loc[items_app > 3.99].index\n",
        "matrix_sampled = matrix_extended.copy()\n",
        "matrix_sampled = matrix_sampled.set_index('item')\n",
        "matrix_sampled = matrix_sampled.loc[items_app]\n",
        "matrix_sampled = matrix_sampled.reset_index()\n",
        "matrix_sampled = matrix_sampled.sample(frac=1)"
      ],
      "id": "06x7G_3cGW2J",
      "execution_count": 33,
      "outputs": []
    },
    {
      "cell_type": "code",
      "metadata": {
        "id": "x9MFL9ZoIB-n",
        "colab": {
          "base_uri": "https://localhost:8080/"
        },
        "outputId": "19de9bde-8110-424e-e6e7-af493c1b60af"
      },
      "source": [
        "matrix_sampled.groupby('user').count()['rating'].describe()"
      ],
      "id": "x9MFL9ZoIB-n",
      "execution_count": 34,
      "outputs": [
        {
          "output_type": "execute_result",
          "data": {
            "text/plain": [
              "count      991.000000\n",
              "mean      3399.972755\n",
              "std       3809.005245\n",
              "min          3.000000\n",
              "25%       1064.500000\n",
              "50%       2344.000000\n",
              "75%       4265.000000\n",
              "max      47788.000000\n",
              "Name: rating, dtype: float64"
            ]
          },
          "metadata": {
            "tags": []
          },
          "execution_count": 34
        }
      ]
    },
    {
      "cell_type": "markdown",
      "metadata": {
        "id": "tribal-batch"
      },
      "source": [
        "### Sample Users"
      ],
      "id": "tribal-batch"
    },
    {
      "cell_type": "code",
      "metadata": {
        "id": "YRKwgOyJdfQb"
      },
      "source": [
        "# no_users = 200\n",
        "# users_list = matrix_extended.user.unique()\n",
        "# users_sampled = np.random.choice(users_list, replace=False, size=no_users)\n",
        "# matrix_sampled = matrix_extended.copy()\n",
        "# matrix_sampled = matrix_sampled.set_index('user')\n",
        "# matrix_sampled = matrix_sampled.loc[users_sampled]\n",
        "# matrix_sampled = matrix_sampled.reset_index()\n",
        "# matrix_sampled = matrix_sampled.sample(frac=1)\n",
        "# matrix_sampled['item'] = matrix_sampled.apply(lambda row: row[1]+'-'+row[2], axis=1)"
      ],
      "id": "YRKwgOyJdfQb",
      "execution_count": 35,
      "outputs": []
    },
    {
      "cell_type": "code",
      "metadata": {
        "id": "yRJeB1Y_hPM0",
        "colab": {
          "base_uri": "https://localhost:8080/",
          "height": 0
        },
        "outputId": "5471c811-fa20-47fb-8b32-15171f6f8fa6"
      },
      "source": [
        "matrix_sampled.head()"
      ],
      "id": "yRJeB1Y_hPM0",
      "execution_count": 36,
      "outputs": [
        {
          "output_type": "execute_result",
          "data": {
            "text/html": [
              "<div>\n",
              "<style scoped>\n",
              "    .dataframe tbody tr th:only-of-type {\n",
              "        vertical-align: middle;\n",
              "    }\n",
              "\n",
              "    .dataframe tbody tr th {\n",
              "        vertical-align: top;\n",
              "    }\n",
              "\n",
              "    .dataframe thead th {\n",
              "        text-align: right;\n",
              "    }\n",
              "</style>\n",
              "<table border=\"1\" class=\"dataframe\">\n",
              "  <thead>\n",
              "    <tr style=\"text-align: right;\">\n",
              "      <th></th>\n",
              "      <th>item</th>\n",
              "      <th>user</th>\n",
              "      <th>artist</th>\n",
              "      <th>track</th>\n",
              "      <th>rating</th>\n",
              "      <th>Unnamed: 0</th>\n",
              "      <th>danceability</th>\n",
              "      <th>energy</th>\n",
              "      <th>key</th>\n",
              "      <th>loudness</th>\n",
              "      <th>mode</th>\n",
              "      <th>speechiness</th>\n",
              "      <th>acousticness</th>\n",
              "      <th>instrumentalness</th>\n",
              "      <th>liveness</th>\n",
              "      <th>valence</th>\n",
              "      <th>tempo</th>\n",
              "      <th>duration_ms</th>\n",
              "      <th>genres</th>\n",
              "      <th>popularity</th>\n",
              "      <th>genres_emb</th>\n",
              "      <th>emb_x</th>\n",
              "      <th>emb_y</th>\n",
              "      <th>emb_z</th>\n",
              "    </tr>\n",
              "  </thead>\n",
              "  <tbody>\n",
              "    <tr>\n",
              "      <th>1059749</th>\n",
              "      <td>Fugees-Recharge</td>\n",
              "      <td>user_000078</td>\n",
              "      <td>Fugees</td>\n",
              "      <td>Recharge</td>\n",
              "      <td>1.000000</td>\n",
              "      <td>185198</td>\n",
              "      <td>0.790</td>\n",
              "      <td>0.595</td>\n",
              "      <td>7.0</td>\n",
              "      <td>-12.699</td>\n",
              "      <td>1.0</td>\n",
              "      <td>0.2320</td>\n",
              "      <td>0.00696</td>\n",
              "      <td>0.0000</td>\n",
              "      <td>0.1430</td>\n",
              "      <td>0.466</td>\n",
              "      <td>100.947</td>\n",
              "      <td>310133.0</td>\n",
              "      <td>['rap', 'new jersey rap', 'gangster rap', 'har...</td>\n",
              "      <td>71</td>\n",
              "      <td>[4.23720225 7.5225617  4.3797381 ]</td>\n",
              "      <td>4.237202</td>\n",
              "      <td>7.522562</td>\n",
              "      <td>4.379738</td>\n",
              "    </tr>\n",
              "    <tr>\n",
              "      <th>3208166</th>\n",
              "      <td>Tv On The Radio-Shout Me Out</td>\n",
              "      <td>user_000310</td>\n",
              "      <td>Tv On The Radio</td>\n",
              "      <td>Shout Me Out</td>\n",
              "      <td>4.999998</td>\n",
              "      <td>107435</td>\n",
              "      <td>0.578</td>\n",
              "      <td>0.825</td>\n",
              "      <td>1.0</td>\n",
              "      <td>-6.054</td>\n",
              "      <td>1.0</td>\n",
              "      <td>0.0621</td>\n",
              "      <td>0.00201</td>\n",
              "      <td>0.2380</td>\n",
              "      <td>0.0998</td>\n",
              "      <td>0.503</td>\n",
              "      <td>150.059</td>\n",
              "      <td>255133.0</td>\n",
              "      <td>['alternative dance', 'rock', 'brooklyn indie'...</td>\n",
              "      <td>62</td>\n",
              "      <td>[5.65567525 7.99145075 1.64971625]</td>\n",
              "      <td>5.655675</td>\n",
              "      <td>7.991451</td>\n",
              "      <td>1.649716</td>\n",
              "    </tr>\n",
              "    <tr>\n",
              "      <th>2350438</th>\n",
              "      <td>Saint Etienne-On The Shore</td>\n",
              "      <td>user_000694</td>\n",
              "      <td>Saint Etienne</td>\n",
              "      <td>On The Shore</td>\n",
              "      <td>1.000000</td>\n",
              "      <td>102471</td>\n",
              "      <td>0.794</td>\n",
              "      <td>0.714</td>\n",
              "      <td>2.0</td>\n",
              "      <td>-9.939</td>\n",
              "      <td>1.0</td>\n",
              "      <td>0.1420</td>\n",
              "      <td>0.00389</td>\n",
              "      <td>0.8820</td>\n",
              "      <td>0.0785</td>\n",
              "      <td>0.912</td>\n",
              "      <td>120.008</td>\n",
              "      <td>246440.0</td>\n",
              "      <td>['electronica', 'dream pop', 'electropop', 'br...</td>\n",
              "      <td>50</td>\n",
              "      <td>[6.08057615 7.8415661  1.81277595]</td>\n",
              "      <td>6.080576</td>\n",
              "      <td>7.841566</td>\n",
              "      <td>1.812776</td>\n",
              "    </tr>\n",
              "    <tr>\n",
              "      <th>1563796</th>\n",
              "      <td>Les Négresses Vertes-Face À La Mer (Massive At...</td>\n",
              "      <td>user_000730</td>\n",
              "      <td>Les Négresses Vertes</td>\n",
              "      <td>Face À La Mer (Massive Attack Remix) (Full Ver...</td>\n",
              "      <td>1.000000</td>\n",
              "      <td>2306</td>\n",
              "      <td>0.744</td>\n",
              "      <td>0.604</td>\n",
              "      <td>10.0</td>\n",
              "      <td>-13.558</td>\n",
              "      <td>0.0</td>\n",
              "      <td>0.0884</td>\n",
              "      <td>0.03910</td>\n",
              "      <td>0.1890</td>\n",
              "      <td>0.1880</td>\n",
              "      <td>0.306</td>\n",
              "      <td>176.443</td>\n",
              "      <td>340400.0</td>\n",
              "      <td>['nu jazz', 'trip hop', 'chanson', 'french roc...</td>\n",
              "      <td>45</td>\n",
              "      <td>[3.4129473  6.91451765 2.39292445]</td>\n",
              "      <td>3.412947</td>\n",
              "      <td>6.914518</td>\n",
              "      <td>2.392924</td>\n",
              "    </tr>\n",
              "    <tr>\n",
              "      <th>225531</th>\n",
              "      <td>B.B. King-How Blue Can You Get?</td>\n",
              "      <td>user_000500</td>\n",
              "      <td>B.B. King</td>\n",
              "      <td>How Blue Can You Get?</td>\n",
              "      <td>1.000000</td>\n",
              "      <td>51272</td>\n",
              "      <td>0.498</td>\n",
              "      <td>0.484</td>\n",
              "      <td>7.0</td>\n",
              "      <td>-10.500</td>\n",
              "      <td>1.0</td>\n",
              "      <td>0.0922</td>\n",
              "      <td>0.32300</td>\n",
              "      <td>0.0108</td>\n",
              "      <td>0.7610</td>\n",
              "      <td>0.604</td>\n",
              "      <td>110.541</td>\n",
              "      <td>312027.0</td>\n",
              "      <td>['traditional blues', 'classic rock', 'electri...</td>\n",
              "      <td>67</td>\n",
              "      <td>[4.25285965 7.37293385 0.13626011]</td>\n",
              "      <td>4.252860</td>\n",
              "      <td>7.372934</td>\n",
              "      <td>0.136260</td>\n",
              "    </tr>\n",
              "  </tbody>\n",
              "</table>\n",
              "</div>"
            ],
            "text/plain": [
              "                                                      item  ...     emb_z\n",
              "1059749                                    Fugees-Recharge  ...  4.379738\n",
              "3208166                       Tv On The Radio-Shout Me Out  ...  1.649716\n",
              "2350438                         Saint Etienne-On The Shore  ...  1.812776\n",
              "1563796  Les Négresses Vertes-Face À La Mer (Massive At...  ...  2.392924\n",
              "225531                     B.B. King-How Blue Can You Get?  ...  0.136260\n",
              "\n",
              "[5 rows x 24 columns]"
            ]
          },
          "metadata": {
            "tags": []
          },
          "execution_count": 36
        }
      ]
    },
    {
      "cell_type": "code",
      "metadata": {
        "id": "GlgOyabZiDQ7"
      },
      "source": [
        "matrix_sampled['user_id'] = matrix_sampled['user'].astype('category').cat.codes\n",
        "matrix_sampled['item_id'] = matrix_sampled['item'].astype('category').cat.codes"
      ],
      "id": "GlgOyabZiDQ7",
      "execution_count": 37,
      "outputs": []
    },
    {
      "cell_type": "code",
      "metadata": {
        "id": "lyric-crash"
      },
      "source": [
        "X = matrix_sampled[['user_id', \n",
        "              'item_id',\n",
        "              'danceability',\n",
        "              'energy',\n",
        "              'speechiness', \n",
        "              'acousticness', \n",
        "              'instrumentalness', \n",
        "              'liveness',\n",
        "              'valence', \n",
        "              'tempo', \n",
        "              'popularity', \n",
        "              'emb_x', \n",
        "              'emb_y',\n",
        "              'emb_z']]\n",
        "y = matrix_sampled['rating']\n",
        "groups = matrix_sampled['user_id']"
      ],
      "id": "lyric-crash",
      "execution_count": 38,
      "outputs": []
    },
    {
      "cell_type": "code",
      "metadata": {
        "id": "divine-boston"
      },
      "source": [
        "# Change splitting to be by index using https://stackoverflow.com/questions/53490497/getting-validation-set-from-train-set-by-using-percentage-from-groupby-in-pand\n",
        "X_train, X_test, y_train, y_test = train_test_split(X, y, test_size=0.2, stratify=groups)"
      ],
      "id": "divine-boston",
      "execution_count": 39,
      "outputs": []
    },
    {
      "cell_type": "code",
      "metadata": {
        "id": "organic-irish"
      },
      "source": [
        "no_users, no_items, no_factors = matrix_sampled['user_id'].nunique(), matrix_sampled['item_id'].nunique(), 100"
      ],
      "id": "organic-irish",
      "execution_count": 40,
      "outputs": []
    },
    {
      "cell_type": "code",
      "metadata": {
        "colab": {
          "base_uri": "https://localhost:8080/"
        },
        "id": "BzGeolQgIrYM",
        "outputId": "e21cd49b-3667-4d22-f0bc-6daff9d0e2c9"
      },
      "source": [
        "no_users"
      ],
      "id": "BzGeolQgIrYM",
      "execution_count": 41,
      "outputs": [
        {
          "output_type": "execute_result",
          "data": {
            "text/plain": [
              "991"
            ]
          },
          "metadata": {
            "tags": []
          },
          "execution_count": 41
        }
      ]
    },
    {
      "cell_type": "code",
      "metadata": {
        "colab": {
          "base_uri": "https://localhost:8080/"
        },
        "id": "oK5iQ0TdIssx",
        "outputId": "fdc0a948-1c8b-4f4c-a0e9-4729d08f7513"
      },
      "source": [
        "no_items"
      ],
      "id": "oK5iQ0TdIssx",
      "execution_count": 42,
      "outputs": [
        {
          "output_type": "execute_result",
          "data": {
            "text/plain": [
              "246166"
            ]
          },
          "metadata": {
            "tags": []
          },
          "execution_count": 42
        }
      ]
    },
    {
      "cell_type": "markdown",
      "metadata": {
        "id": "super-dynamics"
      },
      "source": [
        "### Models"
      ],
      "id": "super-dynamics"
    },
    {
      "cell_type": "code",
      "metadata": {
        "id": "guilty-louisiana"
      },
      "source": [
        "def create_shallow_model(no_factors, no_users, no_items):\n",
        "    # User branch\n",
        "    user_id = tf.keras.layers.Input(shape=[1], name='user_id')\n",
        "    user_matrix = tf.keras.layers.Embedding(no_users+1, no_factors, name='user_matrix')(user_id)\n",
        "    user_vector = tf.keras.layers.Flatten(name='user_vector')(user_matrix)\n",
        "    # Item branch\n",
        "    item_id = tf.keras.layers.Input(shape=[1], name='item_id')\n",
        "    item_matrix = tf.keras.layers.Embedding(no_items+1, no_factors, name='item_matrix')(item_id)\n",
        "    item_vector = tf.keras.layers.Flatten(name='item_vector')(item_matrix)\n",
        "    # Dot product \n",
        "    vectors_product = tf.keras.layers.dot([user_vector, item_vector], axes=1, normalize=False)\n",
        "    # Model definition\n",
        "    model = tf.keras.models.Model(inputs=[user_id, item_id], outputs=[vectors_product], name='shallow_model')\n",
        "    return model"
      ],
      "id": "guilty-louisiana",
      "execution_count": 43,
      "outputs": []
    },
    {
      "cell_type": "code",
      "metadata": {
        "id": "needed-energy"
      },
      "source": [
        "model = create_shallow_model(no_factors, no_users, no_items)"
      ],
      "id": "needed-energy",
      "execution_count": 44,
      "outputs": []
    },
    {
      "cell_type": "code",
      "metadata": {
        "id": "concrete-mediterranean",
        "colab": {
          "base_uri": "https://localhost:8080/"
        },
        "outputId": "9b6a96b5-05cf-44d4-c352-b334eeb89643"
      },
      "source": [
        "model.summary()"
      ],
      "id": "concrete-mediterranean",
      "execution_count": 45,
      "outputs": [
        {
          "output_type": "stream",
          "text": [
            "Model: \"shallow_model\"\n",
            "__________________________________________________________________________________________________\n",
            "Layer (type)                    Output Shape         Param #     Connected to                     \n",
            "==================================================================================================\n",
            "user_id (InputLayer)            [(None, 1)]          0                                            \n",
            "__________________________________________________________________________________________________\n",
            "item_id (InputLayer)            [(None, 1)]          0                                            \n",
            "__________________________________________________________________________________________________\n",
            "user_matrix (Embedding)         (None, 1, 100)       99200       user_id[0][0]                    \n",
            "__________________________________________________________________________________________________\n",
            "item_matrix (Embedding)         (None, 1, 100)       24616700    item_id[0][0]                    \n",
            "__________________________________________________________________________________________________\n",
            "user_vector (Flatten)           (None, 100)          0           user_matrix[0][0]                \n",
            "__________________________________________________________________________________________________\n",
            "item_vector (Flatten)           (None, 100)          0           item_matrix[0][0]                \n",
            "__________________________________________________________________________________________________\n",
            "dot (Dot)                       (None, 1)            0           user_vector[0][0]                \n",
            "                                                                 item_vector[0][0]                \n",
            "==================================================================================================\n",
            "Total params: 24,715,900\n",
            "Trainable params: 24,715,900\n",
            "Non-trainable params: 0\n",
            "__________________________________________________________________________________________________\n"
          ],
          "name": "stdout"
        }
      ]
    },
    {
      "cell_type": "code",
      "metadata": {
        "id": "million-delaware"
      },
      "source": [
        "def create_deep_model(no_factors, no_users, no_items):\n",
        "    # User branch\n",
        "    user_id = tf.keras.layers.Input(shape=[1], name='user_id')\n",
        "    user_matrix = tf.keras.layers.Embedding(no_users+1, no_factors, name='user_matrix')(user_id)\n",
        "    user_vector = tf.keras.layers.Flatten(name='user_vector')(user_matrix)\n",
        "    # Item branch\n",
        "    item_id = tf.keras.layers.Input(shape=[1], name='item_id')\n",
        "    item_matrix = tf.keras.layers.Embedding(no_items+1, no_factors, name='item_matrix')(item_id)\n",
        "    item_vector = tf.keras.layers.Flatten(name='item_vector')(item_matrix)\n",
        "    # Concantenation\n",
        "    vectors_concat = tf.keras.layers.Concatenate()([user_vector, item_vector])\n",
        "    vectors_concat_dropout = tf.keras.layers.Dropout(0.2)(vectors_concat)\n",
        "    # Backbone \n",
        "    dense_1 = tf.keras.layers.Dense(64,name='fc3')(vectors_concat_dropout)\n",
        "    dropout_1 = tf.keras.layers.Dropout(0.2,name='d3')(dense_1)\n",
        "    dense_2 = tf.keras.layers.Dense(32,name='fc4', activation='relu')(dropout_1)\n",
        "    dropout_2 = tf.keras.layers.Dropout(0.2,name='d4')(dense_2)\n",
        "    dense_3 = tf.keras.layers.Dense(16,name='fc5', activation='relu')(dropout_2)\n",
        "    dropout_3 = tf.keras.layers.Dropout(0.2,name='d5')(dense_3)\n",
        "    dense_4 = tf.keras.layers.Dense(8,name='fc6', activation='relu')(dropout_3)\n",
        "    dense_4_output = tf.keras.layers.Dense(1, activation='relu', name='activation')(dense_4)\n",
        "    # Model definition\n",
        "    model = tf.keras.models.Model(inputs=[user_id, item_id], outputs=[dense_4_output], name='deep_model')\n",
        "    return model"
      ],
      "id": "million-delaware",
      "execution_count": 46,
      "outputs": []
    },
    {
      "cell_type": "code",
      "metadata": {
        "id": "canadian-boulder"
      },
      "source": [
        "model = create_deep_model(no_factors, no_users, no_items)"
      ],
      "id": "canadian-boulder",
      "execution_count": 47,
      "outputs": []
    },
    {
      "cell_type": "markdown",
      "metadata": {
        "id": "minute-manual"
      },
      "source": [
        "### Model training"
      ],
      "id": "minute-manual"
    },
    {
      "cell_type": "code",
      "metadata": {
        "id": "confident-conviction",
        "colab": {
          "base_uri": "https://localhost:8080/"
        },
        "outputId": "134c75dd-bfff-4895-d7a2-a17919407bd4"
      },
      "source": [
        "# Input-output data definition\n",
        "X_train_arr = [X_train.user_id, X_train.item_id]\n",
        "\n",
        "# Model creation\n",
        "model = create_deep_model(no_factors, no_users, no_items)\n",
        "\n",
        "# Model compiling \n",
        "model.compile(loss=tf.keras.losses.MeanSquaredError())\n",
        "\n",
        "# Model training\n",
        "model.fit(X_train_arr, y_train, epochs=10, batch_size=2048, shuffle=True)"
      ],
      "id": "confident-conviction",
      "execution_count": 48,
      "outputs": [
        {
          "output_type": "stream",
          "text": [
            "Epoch 1/10\n",
            "1317/1317 [==============================] - 138s 104ms/step - loss: 0.7132\n",
            "Epoch 2/10\n",
            "1317/1317 [==============================] - 136s 104ms/step - loss: 0.6305\n",
            "Epoch 3/10\n",
            "1317/1317 [==============================] - 137s 104ms/step - loss: 0.6120\n",
            "Epoch 4/10\n",
            "1317/1317 [==============================] - 137s 104ms/step - loss: 0.5963\n",
            "Epoch 5/10\n",
            "1317/1317 [==============================] - 137s 104ms/step - loss: 0.5835\n",
            "Epoch 6/10\n",
            "1317/1317 [==============================] - 137s 104ms/step - loss: 0.5718\n",
            "Epoch 7/10\n",
            "1317/1317 [==============================] - 137s 104ms/step - loss: 0.5612\n",
            "Epoch 8/10\n",
            "1317/1317 [==============================] - 137s 104ms/step - loss: 0.5521\n",
            "Epoch 9/10\n",
            "1317/1317 [==============================] - 137s 104ms/step - loss: 0.5438\n",
            "Epoch 10/10\n",
            "1317/1317 [==============================] - 137s 104ms/step - loss: 0.5364\n"
          ],
          "name": "stdout"
        },
        {
          "output_type": "execute_result",
          "data": {
            "text/plain": [
              "<tensorflow.python.keras.callbacks.History at 0x7f9ecad299d0>"
            ]
          },
          "metadata": {
            "tags": []
          },
          "execution_count": 48
        }
      ]
    },
    {
      "cell_type": "markdown",
      "metadata": {
        "id": "separate-magic"
      },
      "source": [
        "### Prediction"
      ],
      "id": "separate-magic"
    },
    {
      "cell_type": "code",
      "metadata": {
        "id": "atlantic-maria"
      },
      "source": [
        "# Predictions in the training set\n",
        "# X_train = [X_train.user_id, X_train.item_id]\n",
        "y_train_pred = model.predict(X_train_arr, batch_size=2048)"
      ],
      "id": "atlantic-maria",
      "execution_count": 49,
      "outputs": []
    },
    {
      "cell_type": "code",
      "metadata": {
        "id": "6IC4nrL_tcJ6",
        "colab": {
          "base_uri": "https://localhost:8080/",
          "height": 204
        },
        "outputId": "616ea2a1-43d2-4fa5-f0fc-1a919e05eb67"
      },
      "source": [
        "X_test.head()"
      ],
      "id": "6IC4nrL_tcJ6",
      "execution_count": 50,
      "outputs": [
        {
          "output_type": "execute_result",
          "data": {
            "text/html": [
              "<div>\n",
              "<style scoped>\n",
              "    .dataframe tbody tr th:only-of-type {\n",
              "        vertical-align: middle;\n",
              "    }\n",
              "\n",
              "    .dataframe tbody tr th {\n",
              "        vertical-align: top;\n",
              "    }\n",
              "\n",
              "    .dataframe thead th {\n",
              "        text-align: right;\n",
              "    }\n",
              "</style>\n",
              "<table border=\"1\" class=\"dataframe\">\n",
              "  <thead>\n",
              "    <tr style=\"text-align: right;\">\n",
              "      <th></th>\n",
              "      <th>user_id</th>\n",
              "      <th>item_id</th>\n",
              "      <th>danceability</th>\n",
              "      <th>energy</th>\n",
              "      <th>speechiness</th>\n",
              "      <th>acousticness</th>\n",
              "      <th>instrumentalness</th>\n",
              "      <th>liveness</th>\n",
              "      <th>valence</th>\n",
              "      <th>tempo</th>\n",
              "      <th>popularity</th>\n",
              "      <th>emb_x</th>\n",
              "      <th>emb_y</th>\n",
              "      <th>emb_z</th>\n",
              "    </tr>\n",
              "  </thead>\n",
              "  <tbody>\n",
              "    <tr>\n",
              "      <th>528544</th>\n",
              "      <td>564</td>\n",
              "      <td>38472</td>\n",
              "      <td>0.484</td>\n",
              "      <td>0.0577</td>\n",
              "      <td>0.0344</td>\n",
              "      <td>0.964000</td>\n",
              "      <td>0.000001</td>\n",
              "      <td>0.1540</td>\n",
              "      <td>0.4590</td>\n",
              "      <td>103.293</td>\n",
              "      <td>63</td>\n",
              "      <td>5.873042</td>\n",
              "      <td>8.081335</td>\n",
              "      <td>1.531157</td>\n",
              "    </tr>\n",
              "    <tr>\n",
              "      <th>2144341</th>\n",
              "      <td>389</td>\n",
              "      <td>160432</td>\n",
              "      <td>0.462</td>\n",
              "      <td>0.9100</td>\n",
              "      <td>0.0359</td>\n",
              "      <td>0.000086</td>\n",
              "      <td>0.046900</td>\n",
              "      <td>0.0863</td>\n",
              "      <td>0.6160</td>\n",
              "      <td>155.690</td>\n",
              "      <td>70</td>\n",
              "      <td>5.503772</td>\n",
              "      <td>7.826161</td>\n",
              "      <td>1.485511</td>\n",
              "    </tr>\n",
              "    <tr>\n",
              "      <th>2652579</th>\n",
              "      <td>189</td>\n",
              "      <td>197518</td>\n",
              "      <td>0.301</td>\n",
              "      <td>0.9980</td>\n",
              "      <td>0.1270</td>\n",
              "      <td>0.000075</td>\n",
              "      <td>0.000020</td>\n",
              "      <td>0.3570</td>\n",
              "      <td>0.0499</td>\n",
              "      <td>113.314</td>\n",
              "      <td>7</td>\n",
              "      <td>7.952354</td>\n",
              "      <td>9.167381</td>\n",
              "      <td>-0.507604</td>\n",
              "    </tr>\n",
              "    <tr>\n",
              "      <th>491185</th>\n",
              "      <td>861</td>\n",
              "      <td>35379</td>\n",
              "      <td>0.353</td>\n",
              "      <td>0.8830</td>\n",
              "      <td>0.1500</td>\n",
              "      <td>0.000782</td>\n",
              "      <td>0.000000</td>\n",
              "      <td>0.2480</td>\n",
              "      <td>0.6500</td>\n",
              "      <td>92.634</td>\n",
              "      <td>57</td>\n",
              "      <td>5.683891</td>\n",
              "      <td>7.662214</td>\n",
              "      <td>1.330023</td>\n",
              "    </tr>\n",
              "    <tr>\n",
              "      <th>37148</th>\n",
              "      <td>275</td>\n",
              "      <td>3074</td>\n",
              "      <td>0.734</td>\n",
              "      <td>0.6430</td>\n",
              "      <td>0.0310</td>\n",
              "      <td>0.119000</td>\n",
              "      <td>0.077400</td>\n",
              "      <td>0.1560</td>\n",
              "      <td>0.9190</td>\n",
              "      <td>126.421</td>\n",
              "      <td>56</td>\n",
              "      <td>5.508577</td>\n",
              "      <td>7.457070</td>\n",
              "      <td>1.304209</td>\n",
              "    </tr>\n",
              "  </tbody>\n",
              "</table>\n",
              "</div>"
            ],
            "text/plain": [
              "         user_id  item_id  danceability  ...     emb_x     emb_y     emb_z\n",
              "528544       564    38472         0.484  ...  5.873042  8.081335  1.531157\n",
              "2144341      389   160432         0.462  ...  5.503772  7.826161  1.485511\n",
              "2652579      189   197518         0.301  ...  7.952354  9.167381 -0.507604\n",
              "491185       861    35379         0.353  ...  5.683891  7.662214  1.330023\n",
              "37148        275     3074         0.734  ...  5.508577  7.457070  1.304209\n",
              "\n",
              "[5 rows x 14 columns]"
            ]
          },
          "metadata": {
            "tags": []
          },
          "execution_count": 50
        }
      ]
    },
    {
      "cell_type": "code",
      "metadata": {
        "id": "smoking-apparel"
      },
      "source": [
        "# Predictions in the test set\n",
        "X_test_arr = [X_test.user_id, X_test.item_id]\n",
        "y_test_pred = model.predict(X_test_arr, batch_size=2048)"
      ],
      "id": "smoking-apparel",
      "execution_count": 51,
      "outputs": []
    },
    {
      "cell_type": "markdown",
      "metadata": {
        "id": "single-gospel"
      },
      "source": [
        "### Evaluation"
      ],
      "id": "single-gospel"
    },
    {
      "cell_type": "code",
      "metadata": {
        "id": "hired-webcam",
        "colab": {
          "base_uri": "https://localhost:8080/"
        },
        "outputId": "64a92764-66d5-45a3-d455-5b0603c6ffda"
      },
      "source": [
        "from sklearn.metrics import mean_squared_error\n",
        "print('Train RMSE:', mean_squared_error(y_train.values, y_train_pred, squared=False))\n",
        "print('Test RMSE:', mean_squared_error(y_test.values, y_test_pred, squared=False))"
      ],
      "id": "hired-webcam",
      "execution_count": 52,
      "outputs": [
        {
          "output_type": "stream",
          "text": [
            "Train RMSE: 0.7228441999960579\n",
            "Test RMSE: 0.8075250329882625\n"
          ],
          "name": "stdout"
        }
      ]
    },
    {
      "cell_type": "code",
      "metadata": {
        "id": "K_Pljoaoz-jo"
      },
      "source": [
        "def get_test_predictions(model, test_ratings):\n",
        "  predictions_li = []\n",
        "  for user_id, user_test_rating in tqdm(test_ratings.groupby('user_id'), position=0, leave=True):\n",
        "        # Retrieve the unseen items\n",
        "        user_df = test_ratings[(test_ratings['user_id'] == user_id)]\n",
        "        test_pids = user_df['item_id'].values\n",
        "        relevant_pids = set(user_df.loc[user_df['rating'] > 1, 'item_id'].values)\n",
        "        if len(relevant_pids) == 0:\n",
        "          continue\n",
        "        # Create testing dataframe\n",
        "        test_df = pd.DataFrame({'user_id': user_id, 'item_id': test_pids})\n",
        "        test_set = [test_df.user_id, test_df.item_id]\n",
        "        # Make rating predictions for all items for that user\n",
        "        predictions = model.predict(test_set, batch_size=2048)\n",
        "        # predictions = pred_func(model, user_id, pid_array, train_ratings)\n",
        "        predictions = predictions.reshape(-1)\n",
        "        irrelevant_pids = set(test_pids).difference(relevant_pids)\n",
        "        predictions_relevant = predictions[user_df['rating'] > 1]\n",
        "        predictions_irrelevant = predictions[user_df['rating'] == 1]\n",
        "        predictions_dict = {'user_id': user_id,\n",
        "                            'predictions': predictions,\n",
        "                            'test_pids': test_pids,\n",
        "                            'relevant_pids': relevant_pids,\n",
        "                            'irrelevant_pids': irrelevant_pids,\n",
        "                            'predictions_relevant': predictions_relevant,\n",
        "                            'predictions_irrelevant': predictions_irrelevant}\n",
        "        predictions_li.append(predictions_dict)\n",
        "\n",
        "  return pd.DataFrame(predictions_li)\n"
      ],
      "id": "K_Pljoaoz-jo",
      "execution_count": 144,
      "outputs": []
    },
    {
      "cell_type": "code",
      "metadata": {
        "id": "Rhkj5qFG0HsO",
        "outputId": "12ac1c33-1c90-4fc6-e44a-de30258c10fc",
        "colab": {
          "base_uri": "https://localhost:8080/"
        }
      },
      "source": [
        "X_test_arr = np.array(X_test_arr)\n",
        "test_ratings = pd.DataFrame({'user_id': X_test_arr[0, :], 'item_id':X_test_arr[1, :], 'rating': y_test})\n",
        "predictions_df = get_test_predictions(model, test_ratings)"
      ],
      "id": "Rhkj5qFG0HsO",
      "execution_count": 145,
      "outputs": [
        {
          "output_type": "stream",
          "text": [
            "100%|██████████| 991/991 [01:01<00:00, 16.03it/s]\n"
          ],
          "name": "stderr"
        }
      ]
    },
    {
      "cell_type": "code",
      "metadata": {
        "id": "nSw2Elgq1TEg",
        "outputId": "cdea46f7-0cec-406a-88f9-a4205a8f74fc",
        "colab": {
          "base_uri": "https://localhost:8080/"
        }
      },
      "source": [
        "predictions_df.loc[0, 'predictions']"
      ],
      "id": "nSw2Elgq1TEg",
      "execution_count": 133,
      "outputs": [
        {
          "output_type": "execute_result",
          "data": {
            "text/plain": [
              "array([1.7855494, 1.8012253, 1.9349527, 2.107413 , 2.0764825, 2.0859077,\n",
              "       1.8187356, 2.0910914, 1.8108256, 2.0648923, 1.7424434, 1.7963662,\n",
              "       1.6870184, 1.7402844, 1.7401642, 2.4860175, 2.1383638, 1.8016951,\n",
              "       2.5408595, 2.13191  , 1.9946091, 2.5114336, 2.339808 , 1.7864423,\n",
              "       2.0424352, 1.8036003, 1.8008064, 2.3525774, 2.746745 , 2.0930688,\n",
              "       2.208622 , 2.46319  , 1.3170494, 1.644284 , 2.361813 , 1.7221575,\n",
              "       1.9082398, 1.9296167, 2.4785051, 2.0071716, 1.8343598, 1.735512 ,\n",
              "       2.1122608, 2.2410102, 1.98894  , 2.404959 , 1.998322 , 2.087327 ,\n",
              "       1.946955 , 2.0472658, 1.9835501, 1.7561387, 2.1748564, 1.4185603,\n",
              "       1.7323217, 2.0032191, 2.38165  , 2.3526568, 2.201194 , 2.3699372,\n",
              "       2.0722616, 1.5424293, 2.1098046, 1.4127584, 1.5687667, 1.6875765,\n",
              "       2.0537727, 1.7872354, 1.8099759, 1.9750255, 2.0772395, 1.9269843,\n",
              "       2.0335484, 1.4987793, 1.881941 , 2.0275495, 1.6024481, 1.7391253,\n",
              "       1.7339112, 2.2587628, 2.131493 , 1.7744585, 2.2446795, 1.861484 ,\n",
              "       1.9513648, 1.6752053, 1.7755204, 1.7826028, 1.8413284, 1.9065214,\n",
              "       2.076091 , 1.8967085, 1.728427 , 1.8138473, 1.8957237, 2.038641 ,\n",
              "       2.1527772, 1.3980488, 2.1433897, 2.0173898, 1.7449598, 2.3820078,\n",
              "       1.728998 , 2.4794345, 1.8264837, 1.9121279, 1.6548808, 2.1826358,\n",
              "       2.4068441, 1.6735266, 1.7095233, 2.1029673, 2.2268336, 2.401523 ,\n",
              "       1.6682084, 2.3241148, 1.7503343, 1.3962245, 2.4789023, 1.709571 ,\n",
              "       2.0010962, 1.8265966, 1.6174387, 2.3901043, 2.2338455, 2.1395974,\n",
              "       2.1829212, 2.0687158, 2.0532718, 1.8203527, 2.2208536, 2.6849847,\n",
              "       1.5309412, 1.9892466, 2.2024262, 2.4829545, 2.0857391, 2.0668788,\n",
              "       1.5194343, 2.460494 , 2.0994115, 2.2507415, 1.3549967, 1.6638826,\n",
              "       1.9862845, 1.3733665, 2.2260032, 2.2082968, 1.8970366, 2.3524632,\n",
              "       2.4447284, 1.7802694, 2.7401972, 2.0944805, 1.8867164, 1.4086938,\n",
              "       1.6431317, 1.766535 , 2.0193   , 2.2897844, 2.2940636, 2.3475614,\n",
              "       1.7298948, 2.3941476, 2.1495142, 1.7868919, 1.7035341, 1.7585232,\n",
              "       1.4497517, 1.745051 , 1.7093056, 2.1838121, 1.4999297, 2.0745273,\n",
              "       1.9808171, 2.5514584, 1.6659358, 1.7885544, 2.13801  , 1.9890053,\n",
              "       2.561107 , 1.7484436, 1.4554839, 2.00079  , 2.1299102, 1.8294029,\n",
              "       1.8728001, 1.9738679, 2.4610815, 2.0953486, 2.4173417, 1.6765201,\n",
              "       1.4297636, 1.7433839, 2.4049973, 1.9007528, 1.891901 , 1.8284004,\n",
              "       1.7724233, 1.4595059, 1.7046373, 1.9571805, 2.0445967, 1.6582139,\n",
              "       1.9745905, 2.135931 , 2.2351098, 1.7117949, 2.0979524, 1.423027 ,\n",
              "       2.1291986, 2.504507 , 2.0942428, 2.0238795, 2.2258365, 1.7828015,\n",
              "       2.0918107, 1.4939086, 2.0422623, 1.5125527, 2.3852181, 2.2100048,\n",
              "       1.380012 , 1.9201808, 2.137158 , 2.0045516, 1.6637805, 2.0497658,\n",
              "       1.8444483, 1.9780759, 2.0104136, 1.9021729, 2.1787362, 1.9562798,\n",
              "       2.2820888, 1.872381 ], dtype=float32)"
            ]
          },
          "metadata": {
            "tags": []
          },
          "execution_count": 133
        }
      ]
    },
    {
      "cell_type": "code",
      "metadata": {
        "id": "M3Ovokl_2dsC"
      },
      "source": [
        "# Predictions analysis (Used to debug the recommender system prediction range)\n",
        "predictions_df['mean'] = predictions_df['predictions'].map(lambda a: a.mean())\n",
        "predictions_df['median'] = predictions_df['predictions'].map(lambda a:np.median(a))\n",
        "predictions_df['min'] = predictions_df['predictions'].map(lambda a: a.min())\n",
        "predictions_df['max'] = predictions_df['predictions'].map(lambda a: a.max())\n",
        "predictions_df['25th'] = predictions_df['predictions'].map(lambda a: np.percentile(a, q=25))\n",
        "predictions_df['75th'] = predictions_df['predictions'].map(lambda a: np.percentile(a, q=75))\n",
        "# Predictions relevant analysis (Used to debug the recommender system prediction range)\n",
        "predictions_df['mean_relevant'] = predictions_df['predictions_relevant'].map(lambda a: a.mean())\n",
        "predictions_df['median_relevant'] = predictions_df['predictions_relevant'].map(lambda a:np.median(a))\n",
        "predictions_df['min_relevant'] = predictions_df['predictions_relevant'].map(lambda a: a.min())\n",
        "predictions_df['max_relevant'] = predictions_df['predictions_relevant'].map(lambda a: a.max())\n",
        "predictions_df['25th_relevant'] = predictions_df['predictions_relevant'].map(lambda a: np.percentile(a, q=25))\n",
        "predictions_df['75th_relevant'] = predictions_df['predictions_relevant'].map(lambda a: np.percentile(a, q=75))\n",
        "# Predictions irrelevant analysis (Used to debug the recommender system prediction range)\n",
        "predictions_df['mean_irrelevant'] = predictions_df['predictions_irrelevant'].map(lambda a: a.mean())\n",
        "predictions_df['median_irrelevant'] = predictions_df['predictions_irrelevant'].map(lambda a:np.median(a))\n",
        "predictions_df['min_irrelevant'] = predictions_df['predictions_irrelevant'].map(lambda a: a.min())\n",
        "predictions_df['max_irrelevant'] = predictions_df['predictions_irrelevant'].map(lambda a: a.max())\n",
        "predictions_df['25th_irrelevant'] = predictions_df['predictions_irrelevant'].map(lambda a: np.percentile(a, q=25))\n",
        "predictions_df['75th_irrelevant'] = predictions_df['predictions_irrelevant'].map(lambda a: np.percentile(a, q=75))"
      ],
      "id": "M3Ovokl_2dsC",
      "execution_count": 147,
      "outputs": []
    },
    {
      "cell_type": "code",
      "metadata": {
        "id": "y83n_qWF3f8U",
        "outputId": "72ca3cd9-11c1-49ee-992d-a393472eebad",
        "colab": {
          "base_uri": "https://localhost:8080/"
        }
      },
      "source": [
        "predictions_df['median_relevant'].median()"
      ],
      "id": "y83n_qWF3f8U",
      "execution_count": 151,
      "outputs": [
        {
          "output_type": "execute_result",
          "data": {
            "text/plain": [
              "1.7722660303115845"
            ]
          },
          "metadata": {
            "tags": []
          },
          "execution_count": 151
        }
      ]
    },
    {
      "cell_type": "code",
      "metadata": {
        "id": "honest-globe"
      },
      "source": [
        "def precision_at_k(user_test):\n",
        "    precisions = []\n",
        "    # For each user\n",
        "    for user_id, predictions in tqdm(predictions_df):\n",
        "        # Sort the items and het the top k\n",
        "        top_k = predictions > 1.1\n",
        "        top_k_items = set(np.array(test_pids)[top_k])\n",
        "        # Compute precision as per definition\n",
        "        precisions.append(len(top_k_items & relevant_pids) / top_k.sum())\n",
        "    return precisions"
      ],
      "id": "honest-globe",
      "execution_count": 63,
      "outputs": []
    },
    {
      "cell_type": "code",
      "metadata": {
        "id": "asian-divide",
        "colab": {
          "base_uri": "https://localhost:8080/"
        },
        "outputId": "133ebe4d-a75a-4969-930f-888c7ca131f3"
      },
      "source": [
        "precisions = precision_at_k(model, test_ratings)"
      ],
      "id": "asian-divide",
      "execution_count": 66,
      "outputs": [
        {
          "output_type": "stream",
          "text": [
            "100%|██████████| 991/991 [00:59<00:00, 16.72it/s]\n"
          ],
          "name": "stderr"
        }
      ]
    },
    {
      "cell_type": "code",
      "metadata": {
        "id": "3WyInXklOgon",
        "colab": {
          "base_uri": "https://localhost:8080/"
        },
        "outputId": "aba65690-161a-4aa6-8795-d38f37109eb5"
      },
      "source": [
        "print(test_ratings['rating'].min(), test_ratings['rating'].max(), test_ratings['rating'].mean(), test_ratings['rating'].median())"
      ],
      "id": "3WyInXklOgon",
      "execution_count": 67,
      "outputs": [
        {
          "output_type": "stream",
          "text": [
            "1.0 4.999999410220268 1.763283649950951 1.585403708701425\n"
          ],
          "name": "stdout"
        }
      ]
    },
    {
      "cell_type": "code",
      "metadata": {
        "id": "muslim-sphere",
        "colab": {
          "base_uri": "https://localhost:8080/"
        },
        "outputId": "90dd5ee3-978f-4bed-8bf4-6ab38870ce22"
      },
      "source": [
        "np.mean(precisions), np.std(precisions)"
      ],
      "id": "muslim-sphere",
      "execution_count": 68,
      "outputs": [
        {
          "output_type": "execute_result",
          "data": {
            "text/plain": [
              "(0.5085410770777479, 0.20379579805392506)"
            ]
          },
          "metadata": {
            "tags": []
          },
          "execution_count": 68
        }
      ]
    },
    {
      "cell_type": "code",
      "metadata": {
        "id": "cosmetic-enhancement"
      },
      "source": [
        "### EXERCISE CELL ###\n",
        "def recall_at_k(model, test_ratings):\n",
        "    recalls = []\n",
        "    for user_id, user_test_rating in tqdm(test_ratings.groupby('user_id')):\n",
        "        # Retrieve the unseen items\n",
        "        user_df = test_ratings[(test_ratings['user_id'] == user_id)]\n",
        "        test_pids = user_df['item_id'].values\n",
        "        relevant_pids = set(user_df.loc[user_df['rating'] > 1, 'item_id'].values)\n",
        "        if len(relevant_pids) == 0:\n",
        "          continue\n",
        "        # Create testing dataframe\n",
        "        test_df = pd.DataFrame({'user_id': user_id, 'item_id': test_pids})\n",
        "        test_set = [test_df.user_id, test_df.item_id]\n",
        "        # Make rating predictions for all items for that user\n",
        "        predictions = model.predict(test_set, batch_size=2048)\n",
        "        # predictions = pred_func(model, user_id, pid_array, train_ratings)\n",
        "        predictions = predictions.reshape(-1)\n",
        "        # Sort the items and het the top k\n",
        "        top_k = predictions > 1.1\n",
        "        top_k_items = set(np.array(test_pids)[top_k])\n",
        "        recalls.append(len(top_k_items & relevant_pids) / len(relevant_pids))\n",
        "    return recalls"
      ],
      "id": "cosmetic-enhancement",
      "execution_count": 69,
      "outputs": []
    },
    {
      "cell_type": "code",
      "metadata": {
        "id": "collected-universal",
        "colab": {
          "base_uri": "https://localhost:8080/"
        },
        "outputId": "a365fe1b-685a-4cfd-c985-b82f0ed6a3ee"
      },
      "source": [
        "recalls = recall_at_k(model, test_ratings)"
      ],
      "id": "collected-universal",
      "execution_count": 70,
      "outputs": [
        {
          "output_type": "stream",
          "text": [
            "100%|██████████| 991/991 [00:58<00:00, 16.84it/s]\n"
          ],
          "name": "stderr"
        }
      ]
    },
    {
      "cell_type": "code",
      "metadata": {
        "id": "hourly-skiing",
        "colab": {
          "base_uri": "https://localhost:8080/"
        },
        "outputId": "2bc5a421-5a9c-480e-c565-3013bc43dbde"
      },
      "source": [
        "np.mean(recalls), np.std(recalls)"
      ],
      "id": "hourly-skiing",
      "execution_count": 71,
      "outputs": [
        {
          "output_type": "execute_result",
          "data": {
            "text/plain": [
              "(1.0, 0.0)"
            ]
          },
          "metadata": {
            "tags": []
          },
          "execution_count": 71
        }
      ]
    },
    {
      "cell_type": "code",
      "metadata": {
        "id": "answering-drink"
      },
      "source": [
        "### EXERCISE CELL ###\n",
        "def map_at_k(model, test_ratings, k=100):\n",
        "    maps = []\n",
        "    for user_id, user_test_rating in tqdm(test_ratings.groupby('user_id')):\n",
        "        # Retrieve the unseen items\n",
        "        user_df = test_ratings[(test_ratings['user_id'] == user_id)]\n",
        "        test_pids = user_df['item_id'].values\n",
        "        relevant_pids = set(user_df.loc[user_df['rating'] > 1, 'item_id'].values)\n",
        "        if len(relevant_pids) == 0:\n",
        "          continue\n",
        "        # Create testing dataframe\n",
        "        test_df = pd.DataFrame({'user_id': user_id, 'item_id': test_pids})\n",
        "        test_set = [test_df.user_id, test_df.item_id]\n",
        "        # Make rating predictions for all items for that user\n",
        "        predictions = model.predict(test_set, batch_size=2048)\n",
        "        # predictions = pred_func(model, user_id, pid_array, train_ratings)\n",
        "        predictions = predictions.reshape(-1)\n",
        "        partial_maps = []\n",
        "        top_k = list(np.argsort(predictions)[:k])\n",
        "        top_k_items = test_df.iloc[top_k]['item_id'].values\n",
        "        for rank, item_id in enumerate(top_k_items):\n",
        "            if item_id in relevant_pids:\n",
        "                partial_maps.append(len(set(top_k_items[:rank+1]) & relevant_pids) / float(rank+1))\n",
        "        maps.append(.0 if len(partial_maps) == 0 else np.sum(partial_maps) / float(k))\n",
        "    return maps"
      ],
      "id": "answering-drink",
      "execution_count": 72,
      "outputs": []
    },
    {
      "cell_type": "code",
      "metadata": {
        "id": "fantastic-sender",
        "colab": {
          "base_uri": "https://localhost:8080/"
        },
        "outputId": "525e68c9-88e6-42f1-f421-03e428b5f1f4"
      },
      "source": [
        "maps = map_at_k(model, test_ratings, k=100)"
      ],
      "id": "fantastic-sender",
      "execution_count": 73,
      "outputs": [
        {
          "output_type": "stream",
          "text": [
            "100%|██████████| 991/991 [00:59<00:00, 16.64it/s]\n"
          ],
          "name": "stderr"
        }
      ]
    },
    {
      "cell_type": "code",
      "metadata": {
        "id": "changing-israel",
        "colab": {
          "base_uri": "https://localhost:8080/"
        },
        "outputId": "315e158d-d8b6-4ad6-d7f3-a6a52986e386"
      },
      "source": [
        "np.mean(maps), np.std(maps)"
      ],
      "id": "changing-israel",
      "execution_count": 74,
      "outputs": [
        {
          "output_type": "execute_result",
          "data": {
            "text/plain": [
              "(0.2050060413414224, 0.17361770247594785)"
            ]
          },
          "metadata": {
            "tags": []
          },
          "execution_count": 74
        }
      ]
    },
    {
      "cell_type": "code",
      "metadata": {
        "id": "least-brooklyn"
      },
      "source": [
        ""
      ],
      "id": "least-brooklyn",
      "execution_count": null,
      "outputs": []
    }
  ]
}