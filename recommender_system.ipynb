{
  "nbformat": 4,
  "nbformat_minor": 5,
  "metadata": {
    "kernelspec": {
      "display_name": "Python 3",
      "language": "python",
      "name": "python3"
    },
    "language_info": {
      "codemirror_mode": {
        "name": "ipython",
        "version": 3
      },
      "file_extension": ".py",
      "mimetype": "text/x-python",
      "name": "python",
      "nbconvert_exporter": "python",
      "pygments_lexer": "ipython3",
      "version": "3.7.10"
    },
    "colab": {
      "name": "recommender_system.ipynb",
      "provenance": []
    }
  },
  "cells": [
    {
      "cell_type": "code",
      "metadata": {
        "id": "0VEXgpNp1Cqi",
        "outputId": "988cc881-373b-4c7d-a111-012a29b5b4de",
        "colab": {
          "base_uri": "https://localhost:8080/"
        }
      },
      "source": [
        "import os\n",
        "\n",
        "path = 'lastfm-dataset-1K'\n",
        "\n",
        "if not os.path.exists(path):\n",
        "\n",
        "  !wget http://mtg.upf.edu/static/datasets/last.fm/lastfm-dataset-1K.tar.gz\n",
        "  !tar -xvzf lastfm-dataset-1K.tar.gz\n"
      ],
      "id": "0VEXgpNp1Cqi",
      "execution_count": 1,
      "outputs": [
        {
          "output_type": "stream",
          "text": [
            "--2021-05-27 09:28:10--  http://mtg.upf.edu/static/datasets/last.fm/lastfm-dataset-1K.tar.gz\n",
            "Resolving mtg.upf.edu (mtg.upf.edu)... 84.89.139.55\n",
            "Connecting to mtg.upf.edu (mtg.upf.edu)|84.89.139.55|:80... connected.\n",
            "HTTP request sent, awaiting response... 200 OK\n",
            "Length: 672741554 (642M) [application/x-gzip]\n",
            "Saving to: ‘lastfm-dataset-1K.tar.gz’\n",
            "\n",
            "lastfm-dataset-1K.t 100%[===================>] 641.58M  1.80MB/s    in 7m 43s  \n",
            "\n",
            "2021-05-27 09:35:54 (1.38 MB/s) - ‘lastfm-dataset-1K.tar.gz’ saved [672741554/672741554]\n",
            "\n",
            "lastfm-dataset-1K/\n",
            "lastfm-dataset-1K/userid-profile.tsv\n",
            "lastfm-dataset-1K/README.txt\n",
            "lastfm-dataset-1K/userid-timestamp-artid-artname-traid-traname.tsv\n"
          ],
          "name": "stdout"
        }
      ]
    },
    {
      "cell_type": "code",
      "metadata": {
        "colab": {
          "base_uri": "https://localhost:8080/"
        },
        "id": "dHPzdYY01CTs",
        "outputId": "3d69ece3-cf5e-47d4-994e-e68350a4d6f9"
      },
      "source": [
        "!ls"
      ],
      "id": "dHPzdYY01CTs",
      "execution_count": 2,
      "outputs": [
        {
          "output_type": "stream",
          "text": [
            "lastfm-dataset-1K  lastfm-dataset-1K.tar.gz  sample_data\n"
          ],
          "name": "stdout"
        }
      ]
    },
    {
      "cell_type": "code",
      "metadata": {
        "id": "PQ162BxguWhK",
        "outputId": "72d04057-02ef-4435-a202-b7d5078357b2",
        "colab": {
          "base_uri": "https://localhost:8080/"
        }
      },
      "source": [
        "import os\n",
        "from google.colab import drive\n",
        "drive.mount('/content/drive')"
      ],
      "id": "PQ162BxguWhK",
      "execution_count": 3,
      "outputs": [
        {
          "output_type": "stream",
          "text": [
            "Mounted at /content/drive\n"
          ],
          "name": "stdout"
        }
      ]
    },
    {
      "cell_type": "code",
      "metadata": {
        "id": "IkLzfmKxv1nY",
        "outputId": "20cfb314-339b-4398-e9a7-f10990d6fabd",
        "colab": {
          "base_uri": "https://localhost:8080/"
        }
      },
      "source": [
        "!ls drive/MyDrive/data"
      ],
      "id": "IkLzfmKxv1nY",
      "execution_count": 4,
      "outputs": [
        {
          "output_type": "stream",
          "text": [
            "feature_df_with_emb.csv  spotify_features.csv\n"
          ],
          "name": "stdout"
        }
      ]
    },
    {
      "cell_type": "code",
      "metadata": {
        "id": "legislative-photography",
        "colab": {
          "base_uri": "https://localhost:8080/"
        },
        "outputId": "9140acd4-53fa-45b2-fc33-22f47603a39b"
      },
      "source": [
        "import pandas as pd\n",
        "import matplotlib.pyplot as plt\n",
        "import seaborn as sns\n",
        "from io import StringIO\n",
        "import numpy as np\n",
        "from tqdm import tqdm\n",
        "from sklearn.model_selection import train_test_split\n",
        "from sklearn.metrics import roc_auc_score\n",
        "import scipy.sparse as sp\n",
        "import tensorflow as tf\n",
        "from tqdm import tqdm\n",
        "import pandas as pd\n",
        "import numpy as np\n",
        "\n",
        "from keras.utils.vis_utils import model_to_dot\n",
        "from IPython.display import SVG\n",
        "import matplotlib.pyplot as plt\n",
        "import matplotlib\n",
        "%matplotlib inline\n",
        "\n",
        "import datetime\n",
        "import time \n",
        "import math\n",
        "import os\n",
        "%config Completer.use_jedi = False"
      ],
      "id": "legislative-photography",
      "execution_count": 5,
      "outputs": [
        {
          "output_type": "stream",
          "text": [
            "/usr/local/lib/python3.7/dist-packages/ipykernel_launcher.py:25: UserWarning: Config option `use_jedi` not recognized by `IPCompleter`.\n"
          ],
          "name": "stderr"
        }
      ]
    },
    {
      "cell_type": "code",
      "metadata": {
        "id": "-g1l5OfVyh_u"
      },
      "source": [
        "path = \"drive/MyDrive/data/spotify_features.csv\"\n",
        "\n",
        "spotify_df = pd.read_csv(path, sep=' ', skiprows=4, names=('cola','colb','filename') )"
      ],
      "id": "-g1l5OfVyh_u",
      "execution_count": 6,
      "outputs": []
    },
    {
      "cell_type": "code",
      "metadata": {
        "id": "FuV8MbkzykF_",
        "outputId": "3bef5dc6-acf8-49cc-d24d-06df41c3157c",
        "colab": {
          "base_uri": "https://localhost:8080/",
          "height": 309
        }
      },
      "source": [
        "spotify_df.head()"
      ],
      "id": "FuV8MbkzykF_",
      "execution_count": 7,
      "outputs": [
        {
          "output_type": "execute_result",
          "data": {
            "text/html": [
              "<div>\n",
              "<style scoped>\n",
              "    .dataframe tbody tr th:only-of-type {\n",
              "        vertical-align: middle;\n",
              "    }\n",
              "\n",
              "    .dataframe tbody tr th {\n",
              "        vertical-align: top;\n",
              "    }\n",
              "\n",
              "    .dataframe thead th {\n",
              "        text-align: right;\n",
              "    }\n",
              "</style>\n",
              "<table border=\"1\" class=\"dataframe\">\n",
              "  <thead>\n",
              "    <tr style=\"text-align: right;\">\n",
              "      <th></th>\n",
              "      <th></th>\n",
              "      <th></th>\n",
              "      <th></th>\n",
              "      <th></th>\n",
              "      <th></th>\n",
              "      <th></th>\n",
              "      <th></th>\n",
              "      <th></th>\n",
              "      <th>cola</th>\n",
              "      <th>colb</th>\n",
              "      <th>filename</th>\n",
              "    </tr>\n",
              "  </thead>\n",
              "  <tbody>\n",
              "    <tr>\n",
              "      <th>坂本龍一\\tGlacier</th>\n",
              "      <th>(Live_2009_4_15)\\t0.518\\t0.213\\t9\\t-28.79\\t0\\t0.209\\t0.869\\t0.898\\t0.103\\t0.092\\t104.191\\t580707\\t['japanese</th>\n",
              "      <th>soundtrack',</th>\n",
              "      <th>'japanese</th>\n",
              "      <th>classical',</th>\n",
              "      <th>'anime</th>\n",
              "      <th>score',</th>\n",
              "      <th>'compositional</th>\n",
              "      <th>ambient',</th>\n",
              "      <td>'japanese</td>\n",
              "      <td>contemporary</td>\n",
              "      <td>classical']\\t62</td>\n",
              "    </tr>\n",
              "    <tr>\n",
              "      <th>坂本龍一\\tParolibre</th>\n",
              "      <th>(Live_2009_4_15)\\t0.251\\t0.0904\\t0\\t-16.725\\t1\\t0.0535\\t0.976\\t0.203\\t0.0686\\t0.0399\\t87.304\\t291653\\t['japanese</th>\n",
              "      <th>soundtrack',</th>\n",
              "      <th>'japanese</th>\n",
              "      <th>classical',</th>\n",
              "      <th>'anime</th>\n",
              "      <th>score',</th>\n",
              "      <th>'compositional</th>\n",
              "      <th>ambient',</th>\n",
              "      <td>'japanese</td>\n",
              "      <td>contemporary</td>\n",
              "      <td>classical']\\t62</td>\n",
              "    </tr>\n",
              "    <tr>\n",
              "      <th>坂本龍一\\tBibo</th>\n",
              "      <th>No</th>\n",
              "      <th>Aozora</th>\n",
              "      <th>(Live_2009_4_15)\\t0.203\\t0.0876\\t9\\t-18.973\\t0\\t0.0552\\t0.987\\t0.744\\t0.12\\t0.0857\\t82.751\\t420760\\t['japanese</th>\n",
              "      <th>soundtrack',</th>\n",
              "      <th>'japanese</th>\n",
              "      <th>classical',</th>\n",
              "      <th>'anime</th>\n",
              "      <th>score',</th>\n",
              "      <td>'compositional</td>\n",
              "      <td>ambient',</td>\n",
              "      <td>'japanese</td>\n",
              "    </tr>\n",
              "    <tr>\n",
              "      <th>坂本龍一\\tThe</th>\n",
              "      <th>Last</th>\n",
              "      <th>Emperor</th>\n",
              "      <th>(Theme)\\t0.266\\t0.153\\t4\\t-15.762\\t0\\t0.0389\\t0.952\\t0.0353\\t0.0997\\t0.0914\\t73.699\\t379640\\t['japanese</th>\n",
              "      <th>soundtrack',</th>\n",
              "      <th>'japanese</th>\n",
              "      <th>classical',</th>\n",
              "      <th>'anime</th>\n",
              "      <th>score',</th>\n",
              "      <td>'compositional</td>\n",
              "      <td>ambient',</td>\n",
              "      <td>'japanese</td>\n",
              "    </tr>\n",
              "    <tr>\n",
              "      <th>坂本龍一\\tTibetan</th>\n",
              "      <th>Dance</th>\n",
              "      <th>(Version)\\t0.803\\t0.562\\t5\\t-16.08\\t1\\t0.0396\\t0.163\\t0.913\\t0.277\\t0.964\\t96.921\\t303100\\t['japanese</th>\n",
              "      <th>soundtrack',</th>\n",
              "      <th>'japanese</th>\n",
              "      <th>classical',</th>\n",
              "      <th>'anime</th>\n",
              "      <th>score',</th>\n",
              "      <th>'compositional</th>\n",
              "      <td>ambient',</td>\n",
              "      <td>'japanese</td>\n",
              "      <td>contemporary</td>\n",
              "    </tr>\n",
              "  </tbody>\n",
              "</table>\n",
              "</div>"
            ],
            "text/plain": [
              "                                                                                                                                                                                                                                                       cola  ...         filename\n",
              "坂本龍一\\tGlacier   (Live_2009_4_15)\\t0.518\\t0.213\\t9\\t-28.79\\t0\\t0... soundtrack',                                       'japanese                                          classical',  'anime      score',     'compositional ambient',            'japanese  ...  classical']\\t62\n",
              "坂本龍一\\tParolibre (Live_2009_4_15)\\t0.251\\t0.0904\\t0\\t-16.725\\t1\\... soundtrack',                                       'japanese                                          classical',  'anime      score',     'compositional ambient',            'japanese  ...  classical']\\t62\n",
              "坂本龍一\\tBibo      No                                                 Aozora                                             (Live_2009_4_15)\\t0.203\\t0.0876\\t9\\t-18.973\\t0\\... soundtrack', 'japanese   classical', 'anime         score',         'compositional  ...        'japanese\n",
              "坂本龍一\\tThe       Last                                               Emperor                                            (Theme)\\t0.266\\t0.153\\t4\\t-15.762\\t0\\t0.0389\\t0... soundtrack', 'japanese   classical', 'anime         score',         'compositional  ...        'japanese\n",
              "坂本龍一\\tTibetan   Dance                                              (Version)\\t0.803\\t0.562\\t5\\t-16.08\\t1\\t0.0396\\t... soundtrack',                                       'japanese    classical', 'anime      score',        'compositional       ambient',  ...     contemporary\n",
              "\n",
              "[5 rows x 3 columns]"
            ]
          },
          "metadata": {
            "tags": []
          },
          "execution_count": 7
        }
      ]
    },
    {
      "cell_type": "code",
      "metadata": {
        "id": "y6JENn92JzyY"
      },
      "source": [
        "path = \"drive/MyDrive/data/feature_df_with_emb.csv\"\n",
        "\n",
        "feature_df_with_emb = pd.read_csv(path, sep=' ', skiprows=4, names=('cola','colb','filename') )"
      ],
      "id": "y6JENn92JzyY",
      "execution_count": 8,
      "outputs": []
    },
    {
      "cell_type": "code",
      "metadata": {
        "id": "9MPlx151Mo_8",
        "outputId": "24b84b35-216a-41cd-eb46-5e3d0532b039",
        "colab": {
          "base_uri": "https://localhost:8080/",
          "height": 309
        }
      },
      "source": [
        "feature_df_with_emb.head()"
      ],
      "id": "9MPlx151Mo_8",
      "execution_count": 9,
      "outputs": [
        {
          "output_type": "execute_result",
          "data": {
            "text/html": [
              "<div>\n",
              "<style scoped>\n",
              "    .dataframe tbody tr th:only-of-type {\n",
              "        vertical-align: middle;\n",
              "    }\n",
              "\n",
              "    .dataframe tbody tr th {\n",
              "        vertical-align: top;\n",
              "    }\n",
              "\n",
              "    .dataframe thead th {\n",
              "        text-align: right;\n",
              "    }\n",
              "</style>\n",
              "<table border=\"1\" class=\"dataframe\">\n",
              "  <thead>\n",
              "    <tr style=\"text-align: right;\">\n",
              "      <th></th>\n",
              "      <th></th>\n",
              "      <th></th>\n",
              "      <th></th>\n",
              "      <th></th>\n",
              "      <th></th>\n",
              "      <th></th>\n",
              "      <th></th>\n",
              "      <th></th>\n",
              "      <th></th>\n",
              "      <th></th>\n",
              "      <th></th>\n",
              "      <th></th>\n",
              "      <th>cola</th>\n",
              "      <th>colb</th>\n",
              "      <th>filename</th>\n",
              "    </tr>\n",
              "  </thead>\n",
              "  <tbody>\n",
              "    <tr>\n",
              "      <th>3,坂本龍一,Improvisation</th>\n",
              "      <th>(Live_2009_4_15),0.217,0.012,5.0,-36.464,1.0,0.0376,0.991,0.859,0.0866,0.0376,80.714,384707.0,\"['japanese</th>\n",
              "      <th>soundtrack',</th>\n",
              "      <th>'japanese</th>\n",
              "      <th>classical',</th>\n",
              "      <th>'anime</th>\n",
              "      <th>score',</th>\n",
              "      <th>'compositional</th>\n",
              "      <th>ambient',</th>\n",
              "      <th>'japanese</th>\n",
              "      <th>contemporary</th>\n",
              "      <th>classical']\",62,[7.3752766</th>\n",
              "      <th>NaN</th>\n",
              "      <td>4.8944925</td>\n",
              "      <td>NaN</td>\n",
              "      <td>0.94349271],7.375276599999999,4.8944925,0.9434...</td>\n",
              "    </tr>\n",
              "    <tr>\n",
              "      <th>4,坂本龍一,Glacier</th>\n",
              "      <th>(Live_2009_4_15),0.518,0.213,9.0,-28.79,0.0,0.209,0.869,0.898,0.103,0.092,104.191,580707.0,\"['japanese</th>\n",
              "      <th>soundtrack',</th>\n",
              "      <th>'japanese</th>\n",
              "      <th>classical',</th>\n",
              "      <th>'anime</th>\n",
              "      <th>score',</th>\n",
              "      <th>'compositional</th>\n",
              "      <th>ambient',</th>\n",
              "      <th>'japanese</th>\n",
              "      <th>contemporary</th>\n",
              "      <th>classical']\",62,[7.3752766</th>\n",
              "      <th>NaN</th>\n",
              "      <td>4.8944925</td>\n",
              "      <td>NaN</td>\n",
              "      <td>0.94349271],7.375276599999999,4.8944925,0.9434...</td>\n",
              "    </tr>\n",
              "    <tr>\n",
              "      <th>5,坂本龍一,Parolibre</th>\n",
              "      <th>(Live_2009_4_15),0.251,0.0904,0.0,-16.725,1.0,0.0535,0.976,0.203,0.0686,0.0399,87.304,291653.0,\"['japanese</th>\n",
              "      <th>soundtrack',</th>\n",
              "      <th>'japanese</th>\n",
              "      <th>classical',</th>\n",
              "      <th>'anime</th>\n",
              "      <th>score',</th>\n",
              "      <th>'compositional</th>\n",
              "      <th>ambient',</th>\n",
              "      <th>'japanese</th>\n",
              "      <th>contemporary</th>\n",
              "      <th>classical']\",62,[7.3752766</th>\n",
              "      <th>NaN</th>\n",
              "      <td>4.8944925</td>\n",
              "      <td>NaN</td>\n",
              "      <td>0.94349271],7.375276599999999,4.8944925,0.9434...</td>\n",
              "    </tr>\n",
              "    <tr>\n",
              "      <th>6,坂本龍一,Bibo</th>\n",
              "      <th>No</th>\n",
              "      <th>Aozora</th>\n",
              "      <th>(Live_2009_4_15),0.203,0.0876,9.0,-18.973,0.0,0.0552,0.987,0.744,0.12,0.0857,82.751,420760.0,\"['japanese</th>\n",
              "      <th>soundtrack',</th>\n",
              "      <th>'japanese</th>\n",
              "      <th>classical',</th>\n",
              "      <th>'anime</th>\n",
              "      <th>score',</th>\n",
              "      <th>'compositional</th>\n",
              "      <th>ambient',</th>\n",
              "      <th>'japanese</th>\n",
              "      <th>contemporary</th>\n",
              "      <td>classical']\",62,[7.3752766</td>\n",
              "      <td>NaN</td>\n",
              "      <td>4.8944925</td>\n",
              "    </tr>\n",
              "    <tr>\n",
              "      <th>7,坂本龍一,The</th>\n",
              "      <th>Last</th>\n",
              "      <th>Emperor</th>\n",
              "      <th>(Theme),0.266,0.153,4.0,-15.762,0.0,0.0389,0.952,0.0353,0.0997,0.0914,73.699,379640.0,\"['japanese</th>\n",
              "      <th>soundtrack',</th>\n",
              "      <th>'japanese</th>\n",
              "      <th>classical',</th>\n",
              "      <th>'anime</th>\n",
              "      <th>score',</th>\n",
              "      <th>'compositional</th>\n",
              "      <th>ambient',</th>\n",
              "      <th>'japanese</th>\n",
              "      <th>contemporary</th>\n",
              "      <td>classical']\",62,[7.3752766</td>\n",
              "      <td>NaN</td>\n",
              "      <td>4.8944925</td>\n",
              "    </tr>\n",
              "  </tbody>\n",
              "</table>\n",
              "</div>"
            ],
            "text/plain": [
              "                                                                                                                                                                                                                                                                                               cola  ...                                           filename\n",
              "3,坂本龍一,Improvisation (Live_2009_4_15),0.217,0.012,5.0,-36.464,1.0,0.... soundtrack', 'japanese                                          classical',  'anime    score',     'compositional ambient', 'japanese      contemporary classical']\",62,[7.3752766 NaN                            4.8944925  ...  0.94349271],7.375276599999999,4.8944925,0.9434...\n",
              "4,坂本龍一,Glacier       (Live_2009_4_15),0.518,0.213,9.0,-28.79,0.0,0.2... soundtrack', 'japanese                                          classical',  'anime    score',     'compositional ambient', 'japanese      contemporary classical']\",62,[7.3752766 NaN                            4.8944925  ...  0.94349271],7.375276599999999,4.8944925,0.9434...\n",
              "5,坂本龍一,Parolibre     (Live_2009_4_15),0.251,0.0904,0.0,-16.725,1.0,0... soundtrack', 'japanese                                          classical',  'anime    score',     'compositional ambient', 'japanese      contemporary classical']\",62,[7.3752766 NaN                            4.8944925  ...  0.94349271],7.375276599999999,4.8944925,0.9434...\n",
              "6,坂本龍一,Bibo          No                                                 Aozora       (Live_2009_4_15),0.203,0.0876,9.0,-18.973,0.0,0... soundtrack', 'japanese classical', 'anime         score',   'compositional ambient',    'japanese                  contemporary  classical']\",62,[7.3752766  ...                                          4.8944925\n",
              "7,坂本龍一,The           Last                                               Emperor      (Theme),0.266,0.153,4.0,-15.762,0.0,0.0389,0.95... soundtrack', 'japanese classical', 'anime         score',   'compositional ambient',    'japanese                  contemporary  classical']\",62,[7.3752766  ...                                          4.8944925\n",
              "\n",
              "[5 rows x 3 columns]"
            ]
          },
          "metadata": {
            "tags": []
          },
          "execution_count": 9
        }
      ]
    },
    {
      "cell_type": "code",
      "metadata": {
        "id": "greatest-invitation"
      },
      "source": [
        "# Load the dataset\n",
        "df = pd.read_table('lastfm-dataset-1K/userid-timestamp-artid-artname-traid-traname.tsv', lineterminator='\\n', warn_bad_lines=True, names=['user', 'timestamp', 'artist-id', 'artist', 'song-id', 'song'])\n",
        "df_profile = pd.read_csv('lastfm-dataset-1K/userid-profile.tsv', sep='\\t', error_bad_lines=False, warn_bad_lines=True, skiprows=1, names=['user', 'gender', 'age', 'country', 'signup'])"
      ],
      "id": "greatest-invitation",
      "execution_count": null,
      "outputs": []
    },
    {
      "cell_type": "code",
      "metadata": {
        "id": "union-season"
      },
      "source": [
        "# Check if some songs share a common ID\n",
        "grouped = df[['song-id', 'song']].groupby(['song-id']).nunique()"
      ],
      "id": "union-season",
      "execution_count": null,
      "outputs": []
    },
    {
      "cell_type": "code",
      "metadata": {
        "id": "aerial-damages"
      },
      "source": [
        "# Get rows with song names containing multiple rows\n",
        "duplicated = df.loc[df['song-id'].isin(grouped[grouped['song'] > 1].index)]\n",
        "duplicated = duplicated.drop(columns=['user', 'timestamp', 'artist', 'artist-id'])\n",
        "containis_extra_rows = duplicated.apply(lambda x: pd.Series({'id': x[0], 'song': x[1], 'flag':'\\n' in x[1]}), axis=1)\n",
        "containis_extra_rows = containis_extra_rows.loc[containis_extra_rows['flag']]"
      ],
      "id": "aerial-damages",
      "execution_count": null,
      "outputs": []
    },
    {
      "cell_type": "code",
      "metadata": {
        "id": "smoking-vanilla"
      },
      "source": [
        "# Iterate over those 5k rows to get the extra rows and correct the song name\n",
        "for index, row in containis_extra_rows.iterrows():\n",
        "    row_break = row['song'].split('\\n', 1)\n",
        "    song_name = row_break[0]\n",
        "    df.loc[df['song-id'] == row['id'], 'song'] = song_name\n",
        "    \n",
        "    tsv = StringIO(row_break[1])\n",
        "    df_extra = pd.read_csv(tsv, sep=\"\\t\", warn_bad_lines=True, names=['user', 'timestamp', 'artist-id', 'artist', 'song-id', 'song'])\n",
        "    df = df.append(df_extra, ignore_index=True)"
      ],
      "id": "smoking-vanilla",
      "execution_count": null,
      "outputs": []
    },
    {
      "cell_type": "markdown",
      "metadata": {
        "id": "green-cloud"
      },
      "source": [
        "### Fix names"
      ],
      "id": "green-cloud"
    },
    {
      "cell_type": "code",
      "metadata": {
        "id": "marked-return"
      },
      "source": [
        "# Check if some songs share a common ID\n",
        "grouped = df[['song-id', 'song']].groupby(['song-id']).nunique()"
      ],
      "id": "marked-return",
      "execution_count": null,
      "outputs": []
    },
    {
      "cell_type": "code",
      "metadata": {
        "id": "developing-roots",
        "outputId": "25b703fa-39da-460f-c690-771ea4898418"
      },
      "source": [
        "# Check how many ids has more than 1 song name\n",
        "grouped[grouped['song'] > 1].shape[0]"
      ],
      "id": "developing-roots",
      "execution_count": null,
      "outputs": [
        {
          "output_type": "execute_result",
          "data": {
            "text/plain": [
              "200"
            ]
          },
          "metadata": {
            "tags": []
          },
          "execution_count": 7
        }
      ]
    },
    {
      "cell_type": "code",
      "metadata": {
        "id": "million-deputy"
      },
      "source": [
        "ids_to_be_fixed = grouped[grouped['song'] > 1].index"
      ],
      "id": "million-deputy",
      "execution_count": null,
      "outputs": []
    },
    {
      "cell_type": "code",
      "metadata": {
        "id": "compact-standing"
      },
      "source": [
        "df = df.set_index('song-id')"
      ],
      "id": "compact-standing",
      "execution_count": null,
      "outputs": []
    },
    {
      "cell_type": "code",
      "metadata": {
        "id": "waiting-efficiency"
      },
      "source": [
        "map_to_fix = df.groupby(df.index)['song'].head(1)"
      ],
      "id": "waiting-efficiency",
      "execution_count": null,
      "outputs": []
    },
    {
      "cell_type": "code",
      "metadata": {
        "id": "satellite-chile"
      },
      "source": [
        "df.loc[ids_to_be_fixed, 'song'] = df.loc[ids_to_be_fixed].reset_index()['song-id'].map(lambda x: map_to_fix[x])\n",
        "df = df.reset_index()"
      ],
      "id": "satellite-chile",
      "execution_count": null,
      "outputs": []
    },
    {
      "cell_type": "markdown",
      "metadata": {
        "id": "experimental-canal"
      },
      "source": [
        "### Create matrix"
      ],
      "id": "experimental-canal"
    },
    {
      "cell_type": "code",
      "metadata": {
        "id": "approved-episode"
      },
      "source": [
        "matrix_init = df.groupby(['user', 'song']).count()"
      ],
      "id": "approved-episode",
      "execution_count": null,
      "outputs": []
    },
    {
      "cell_type": "code",
      "metadata": {
        "id": "streaming-platform"
      },
      "source": [
        "matrix_init = matrix_init['timestamp']"
      ],
      "id": "streaming-platform",
      "execution_count": null,
      "outputs": []
    },
    {
      "cell_type": "code",
      "metadata": {
        "id": "wired-master"
      },
      "source": [
        "matrix_init = matrix_init.reset_index()"
      ],
      "id": "wired-master",
      "execution_count": null,
      "outputs": []
    },
    {
      "cell_type": "code",
      "metadata": {
        "id": "peaceful-uzbekistan"
      },
      "source": [
        "def rating_scaler(row):\n",
        "    row_array = np.array(row)\n",
        "    a, new_range= 1, 4\n",
        "    min_, max_ = row_array.min(), row_array.max()\n",
        "    old_range = max_ - min_\n",
        "    \n",
        "    \n",
        "    scaled_row = (new_range * (row_array - min_)) / (old_range + 1e-6)  + a\n",
        "    return pd.Series(scaled_row)"
      ],
      "id": "peaceful-uzbekistan",
      "execution_count": null,
      "outputs": []
    },
    {
      "cell_type": "code",
      "metadata": {
        "id": "sunrise-article"
      },
      "source": [
        "matrix_init_scaled = matrix_init.groupby('user')['timestamp'].apply(rating_scaler)"
      ],
      "id": "sunrise-article",
      "execution_count": null,
      "outputs": []
    },
    {
      "cell_type": "code",
      "metadata": {
        "id": "promising-sussex"
      },
      "source": [
        "matrix_init['timestamp'] = matrix_init_scaled.reset_index()['timestamp']"
      ],
      "id": "promising-sussex",
      "execution_count": null,
      "outputs": []
    },
    {
      "cell_type": "markdown",
      "metadata": {
        "id": "working-dylan"
      },
      "source": [
        "### Sparse matrix"
      ],
      "id": "working-dylan"
    },
    {
      "cell_type": "code",
      "metadata": {
        "id": "heated-eagle"
      },
      "source": [
        "from scipy.sparse import csr_matrix\n",
        "from pandas.api.types import CategoricalDtype"
      ],
      "id": "heated-eagle",
      "execution_count": null,
      "outputs": []
    },
    {
      "cell_type": "code",
      "metadata": {
        "id": "british-position"
      },
      "source": [
        "person_c = CategoricalDtype(sorted(matrix_init.user.unique()), ordered=True)\n",
        "thing_c = CategoricalDtype(sorted(matrix_init.song.unique()), ordered=True)"
      ],
      "id": "british-position",
      "execution_count": null,
      "outputs": []
    },
    {
      "cell_type": "code",
      "metadata": {
        "id": "immediate-hearing"
      },
      "source": [
        "row = matrix_init.user.astype(person_c).cat.codes\n",
        "col = matrix_init.song.astype(thing_c).cat.codes"
      ],
      "id": "immediate-hearing",
      "execution_count": null,
      "outputs": []
    },
    {
      "cell_type": "code",
      "metadata": {
        "id": "silent-present"
      },
      "source": [
        "sparse_matrix = csr_matrix((matrix_init[\"timestamp\"], (row, col)), \\\n",
        "                           shape=(person_c.categories.size, thing_c.categories.size))"
      ],
      "id": "silent-present",
      "execution_count": null,
      "outputs": []
    },
    {
      "cell_type": "code",
      "metadata": {
        "id": "potential-replica"
      },
      "source": [
        "dfs = pd.DataFrame.sparse.from_spmatrix(sparse_matrix, index=person_c.categories, columns=thing_c.categories)"
      ],
      "id": "potential-replica",
      "execution_count": null,
      "outputs": []
    },
    {
      "cell_type": "code",
      "metadata": {
        "id": "formal-token",
        "outputId": "913974f0-31eb-46c3-b34d-5bd0aac5f3e5"
      },
      "source": [
        "matrix_init.head()"
      ],
      "id": "formal-token",
      "execution_count": null,
      "outputs": [
        {
          "output_type": "execute_result",
          "data": {
            "text/html": [
              "<div>\n",
              "<style scoped>\n",
              "    .dataframe tbody tr th:only-of-type {\n",
              "        vertical-align: middle;\n",
              "    }\n",
              "\n",
              "    .dataframe tbody tr th {\n",
              "        vertical-align: top;\n",
              "    }\n",
              "\n",
              "    .dataframe thead th {\n",
              "        text-align: right;\n",
              "    }\n",
              "</style>\n",
              "<table border=\"1\" class=\"dataframe\">\n",
              "  <thead>\n",
              "    <tr style=\"text-align: right;\">\n",
              "      <th></th>\n",
              "      <th>user</th>\n",
              "      <th>song</th>\n",
              "      <th>rating</th>\n",
              "      <th>user_id</th>\n",
              "      <th>item_id</th>\n",
              "    </tr>\n",
              "  </thead>\n",
              "  <tbody>\n",
              "    <tr>\n",
              "      <th>4106948</th>\n",
              "      <td>user_000927</td>\n",
              "      <td>And Some Ya Lose</td>\n",
              "      <td>1.000000</td>\n",
              "      <td>919</td>\n",
              "      <td>72494</td>\n",
              "    </tr>\n",
              "    <tr>\n",
              "      <th>4119740</th>\n",
              "      <td>user_000930</td>\n",
              "      <td>Everloving</td>\n",
              "      <td>1.203390</td>\n",
              "      <td>922</td>\n",
              "      <td>291465</td>\n",
              "    </tr>\n",
              "    <tr>\n",
              "      <th>920321</th>\n",
              "      <td>user_000210</td>\n",
              "      <td>That'S A Touch I Like</td>\n",
              "      <td>1.000000</td>\n",
              "      <td>209</td>\n",
              "      <td>881354</td>\n",
              "    </tr>\n",
              "    <tr>\n",
              "      <th>955355</th>\n",
              "      <td>user_000219</td>\n",
              "      <td>Jagger '67</td>\n",
              "      <td>1.971429</td>\n",
              "      <td>218</td>\n",
              "      <td>467505</td>\n",
              "    </tr>\n",
              "    <tr>\n",
              "      <th>2142830</th>\n",
              "      <td>user_000503</td>\n",
              "      <td>Creatures</td>\n",
              "      <td>1.000000</td>\n",
              "      <td>496</td>\n",
              "      <td>203968</td>\n",
              "    </tr>\n",
              "  </tbody>\n",
              "</table>\n",
              "</div>"
            ],
            "text/plain": [
              "                user                   song    rating  user_id  item_id\n",
              "4106948  user_000927       And Some Ya Lose  1.000000      919    72494\n",
              "4119740  user_000930             Everloving  1.203390      922   291465\n",
              "920321   user_000210  That'S A Touch I Like  1.000000      209   881354\n",
              "955355   user_000219             Jagger '67  1.971429      218   467505\n",
              "2142830  user_000503              Creatures  1.000000      496   203968"
            ]
          },
          "metadata": {
            "tags": []
          },
          "execution_count": 84
        }
      ]
    },
    {
      "cell_type": "markdown",
      "metadata": {
        "id": "tribal-batch"
      },
      "source": [
        "### Another format"
      ],
      "id": "tribal-batch"
    },
    {
      "cell_type": "code",
      "metadata": {
        "id": "generic-walnut"
      },
      "source": [
        "matrix_init['user_id'] = matrix_init['user'].astype('category').cat.codes\n",
        "matrix_init['item_id'] = matrix_init['song'].astype('category').cat.codes"
      ],
      "id": "generic-walnut",
      "execution_count": null,
      "outputs": []
    },
    {
      "cell_type": "code",
      "metadata": {
        "id": "european-nutrition"
      },
      "source": [
        "matrix_init = matrix_init.sample(frac=1)"
      ],
      "id": "european-nutrition",
      "execution_count": null,
      "outputs": []
    },
    {
      "cell_type": "code",
      "metadata": {
        "id": "polyphonic-bacteria"
      },
      "source": [
        "matrix_init = matrix_init.rename({'timestamp':'rating'}, axis=1)"
      ],
      "id": "polyphonic-bacteria",
      "execution_count": null,
      "outputs": []
    },
    {
      "cell_type": "code",
      "metadata": {
        "id": "lyric-crash"
      },
      "source": [
        "X = matrix_init[['user_id', 'item_id']]\n",
        "y = matrix_init['rating']\n",
        "groups = matrix_init['user_id']"
      ],
      "id": "lyric-crash",
      "execution_count": null,
      "outputs": []
    },
    {
      "cell_type": "code",
      "metadata": {
        "id": "divine-boston"
      },
      "source": [
        "# Change splitting to be by index using https://stackoverflow.com/questions/53490497/getting-validation-set-from-train-set-by-using-percentage-from-groupby-in-pand\n",
        "X_train, X_test, y_train, y_test = train_test_split(X, y, test_size=0.2, stratify=groups)"
      ],
      "id": "divine-boston",
      "execution_count": null,
      "outputs": []
    },
    {
      "cell_type": "code",
      "metadata": {
        "id": "organic-irish"
      },
      "source": [
        "no_users, no_items, no_factors = matrix_init['user_id'].nunique(), matrix_init['item_id'].nunique(), 100"
      ],
      "id": "organic-irish",
      "execution_count": null,
      "outputs": []
    },
    {
      "cell_type": "markdown",
      "metadata": {
        "id": "super-dynamics"
      },
      "source": [
        "### Models"
      ],
      "id": "super-dynamics"
    },
    {
      "cell_type": "code",
      "metadata": {
        "id": "guilty-louisiana"
      },
      "source": [
        "def create_shallow_model(no_factors, no_users, no_items):\n",
        "    # User branch\n",
        "    user_id = tf.keras.layers.Input(shape=[1], name='user_id')\n",
        "    user_matrix = tf.keras.layers.Embedding(no_users+1, no_factors, name='user_matrix')(user_id)\n",
        "    user_vector = tf.keras.layers.Flatten(name='user_vector')(user_matrix)\n",
        "    # Item branch\n",
        "    item_id = tf.keras.layers.Input(shape=[1], name='item_id')\n",
        "    item_matrix = tf.keras.layers.Embedding(no_items+1, no_factors, name='item_matrix')(item_id)\n",
        "    item_vector = tf.keras.layers.Flatten(name='item_vector')(item_matrix)\n",
        "    # Dot product \n",
        "    vectors_product = tf.keras.layers.dot([user_vector, item_vector], axes=1, normalize=False)\n",
        "    # Model definition\n",
        "    model = tf.keras.models.Model(inputs=[user_id, item_id], outputs=[vectors_product], name='shallow_model')\n",
        "    return model"
      ],
      "id": "guilty-louisiana",
      "execution_count": null,
      "outputs": []
    },
    {
      "cell_type": "code",
      "metadata": {
        "id": "needed-energy"
      },
      "source": [
        "model = create_shallow_model(no_factors, no_users, no_items)"
      ],
      "id": "needed-energy",
      "execution_count": null,
      "outputs": []
    },
    {
      "cell_type": "code",
      "metadata": {
        "id": "concrete-mediterranean",
        "outputId": "8f3b15eb-78b1-492e-a4f4-d54854371a2e"
      },
      "source": [
        "model.summary()"
      ],
      "id": "concrete-mediterranean",
      "execution_count": null,
      "outputs": [
        {
          "output_type": "stream",
          "text": [
            "Model: \"shallow_model\"\n",
            "__________________________________________________________________________________________________\n",
            "Layer (type)                    Output Shape         Param #     Connected to                     \n",
            "==================================================================================================\n",
            "user_id (InputLayer)            [(None, 1)]          0                                            \n",
            "__________________________________________________________________________________________________\n",
            "item_id (InputLayer)            [(None, 1)]          0                                            \n",
            "__________________________________________________________________________________________________\n",
            "user_matrix (Embedding)         (None, 1, 100)       99300       user_id[0][0]                    \n",
            "__________________________________________________________________________________________________\n",
            "item_matrix (Embedding)         (None, 1, 100)       108392400   item_id[0][0]                    \n",
            "__________________________________________________________________________________________________\n",
            "user_vector (Flatten)           (None, 100)          0           user_matrix[0][0]                \n",
            "__________________________________________________________________________________________________\n",
            "item_vector (Flatten)           (None, 100)          0           item_matrix[0][0]                \n",
            "__________________________________________________________________________________________________\n",
            "dot (Dot)                       (None, 1)            0           user_vector[0][0]                \n",
            "                                                                 item_vector[0][0]                \n",
            "==================================================================================================\n",
            "Total params: 108,491,700\n",
            "Trainable params: 108,491,700\n",
            "Non-trainable params: 0\n",
            "__________________________________________________________________________________________________\n"
          ],
          "name": "stdout"
        }
      ]
    },
    {
      "cell_type": "code",
      "metadata": {
        "id": "million-delaware"
      },
      "source": [
        "def create_deep_model(no_factors, no_users, no_items):\n",
        "    # User branch\n",
        "    user_id = tf.keras.layers.Input(shape=[1], name='user_id')\n",
        "    user_matrix = tf.keras.layers.Embedding(no_users+1, no_factors, name='user_matrix')(user_id)\n",
        "    user_vector = tf.keras.layers.Flatten(name='user_vector')(user_matrix)\n",
        "    # Item branch\n",
        "    item_id = tf.keras.layers.Input(shape=[1], name='item_id')\n",
        "    item_matrix = tf.keras.layers.Embedding(no_items+1, no_factors, name='item_matrix')(item_id)\n",
        "    item_vector = tf.keras.layers.Flatten(name='item_vector')(item_matrix)\n",
        "    # Concantenation\n",
        "    vectors_concat = tf.keras.layers.Concatenate()([user_vector, item_vector])\n",
        "    vectors_concat_dropout = tf.keras.layers.Dropout(0.2)(vectors_concat)\n",
        "    # Backbone \n",
        "    dense_1 = tf.keras.layers.Dense(16,name='fc3')(vectors_concat_dropout)\n",
        "    dropout_1 = tf.keras.layers.Dropout(0.2,name='d3')(dense_1)\n",
        "    dense_2 = tf.keras.layers.Dense(8,name='fc4', activation='relu')(dropout_1)\n",
        "    dense_2_output = tf.keras.layers.Dense(1, activation='relu', name='activation')(dense_2)\n",
        "    # Model definition\n",
        "    model = tf.keras.models.Model(inputs=[user_id, item_id], outputs=[dense_2_output], name='deep_model')\n",
        "    return model"
      ],
      "id": "million-delaware",
      "execution_count": null,
      "outputs": []
    },
    {
      "cell_type": "code",
      "metadata": {
        "id": "canadian-boulder"
      },
      "source": [
        "model = create_deep_model(no_factors, no_users, no_items)"
      ],
      "id": "canadian-boulder",
      "execution_count": null,
      "outputs": []
    },
    {
      "cell_type": "markdown",
      "metadata": {
        "id": "minute-manual"
      },
      "source": [
        "### Model training"
      ],
      "id": "minute-manual"
    },
    {
      "cell_type": "code",
      "metadata": {
        "id": "sufficient-brook",
        "outputId": "dac4c8ef-4f4c-4dde-e176-a5f60638d0f9"
      },
      "source": [
        "y_train.head()"
      ],
      "id": "sufficient-brook",
      "execution_count": null,
      "outputs": [
        {
          "output_type": "execute_result",
          "data": {
            "text/plain": [
              "1615633    1.000000\n",
              "2202736    1.358621\n",
              "262981     1.000000\n",
              "1212865    1.000000\n",
              "2661981    1.000000\n",
              "Name: rating, dtype: float64"
            ]
          },
          "metadata": {
            "tags": []
          },
          "execution_count": 129
        }
      ]
    },
    {
      "cell_type": "code",
      "metadata": {
        "id": "confident-conviction",
        "outputId": "0e52c06f-6473-48e9-c3ec-0cfc42f559f7"
      },
      "source": [
        "# Input-output data definition\n",
        "X_train = [X_train.user_id, X_train.item_id]\n",
        "\n",
        "# Model creation\n",
        "model = create_shallow_model(no_factors, no_users, no_items)\n",
        "\n",
        "# Model compiling \n",
        "model.compile(loss=tf.keras.losses.MeanSquaredError())\n",
        "\n",
        "# Model training\n",
        "model.fit(X_train, y_train, epochs=10, batch_size=2048, shuffle=True)"
      ],
      "id": "confident-conviction",
      "execution_count": null,
      "outputs": [
        {
          "output_type": "stream",
          "text": [
            "Train on 3527750 samples\n",
            "Epoch 1/10\n",
            "3527750/3527750 [==============================] - 562s 159us/sample - loss: 0.9691\n",
            "Epoch 2/10\n",
            "3527750/3527750 [==============================] - 496s 141us/sample - loss: 0.3702\n",
            "Epoch 3/10\n",
            "3527750/3527750 [==============================] - 476s 135us/sample - loss: 0.2204\n",
            "Epoch 4/10\n",
            "3527750/3527750 [==============================] - 488s 138us/sample - loss: 0.1515\n",
            "Epoch 5/10\n",
            "3527750/3527750 [==============================] - 491s 139us/sample - loss: 0.1164\n",
            "Epoch 6/10\n",
            "3527750/3527750 [==============================] - 476s 135us/sample - loss: 0.1004\n",
            "Epoch 7/10\n",
            "3527750/3527750 [==============================] - 471s 134us/sample - loss: 0.0931\n",
            "Epoch 8/10\n",
            "3527750/3527750 [==============================] - 476s 135us/sample - loss: 0.0884\n",
            "Epoch 9/10\n",
            "3527750/3527750 [==============================] - 470s 133us/sample - loss: 0.0848\n",
            "Epoch 10/10\n",
            "3527750/3527750 [==============================] - 461s 131us/sample - loss: 0.0811\n"
          ],
          "name": "stdout"
        },
        {
          "output_type": "execute_result",
          "data": {
            "text/plain": [
              "<tensorflow.python.keras.callbacks.History at 0x7f99d542b410>"
            ]
          },
          "metadata": {
            "tags": []
          },
          "execution_count": 130
        }
      ]
    },
    {
      "cell_type": "markdown",
      "metadata": {
        "id": "separate-magic"
      },
      "source": [
        "### Prediction"
      ],
      "id": "separate-magic"
    },
    {
      "cell_type": "code",
      "metadata": {
        "id": "atlantic-maria"
      },
      "source": [
        "# Predictions in the training set\n",
        "# X_train = [X_train.user_id, X_train.item_id]\n",
        "y_train_pred = model.predict(X_train, batch_size=2048)"
      ],
      "id": "atlantic-maria",
      "execution_count": null,
      "outputs": []
    },
    {
      "cell_type": "code",
      "metadata": {
        "id": "smoking-apparel"
      },
      "source": [
        "# Predictions in the test set\n",
        "X_test = [X_test.user_id, X_test.item_id]\n",
        "y_test_pred = model.predict(X_test, batch_size=2048)"
      ],
      "id": "smoking-apparel",
      "execution_count": null,
      "outputs": []
    },
    {
      "cell_type": "markdown",
      "metadata": {
        "id": "single-gospel"
      },
      "source": [
        "### Evaluation"
      ],
      "id": "single-gospel"
    },
    {
      "cell_type": "code",
      "metadata": {
        "id": "hired-webcam",
        "outputId": "762d832a-0761-49ab-aa07-7c9819525f87"
      },
      "source": [
        "from sklearn.metrics import mean_squared_error\n",
        "print('Train RMSE:', mean_squared_error(y_train.values, y_train_pred, squared=False))\n",
        "print('Test RMSE:', mean_squared_error(y_test.values, y_test_pred, squared=False))"
      ],
      "id": "hired-webcam",
      "execution_count": null,
      "outputs": [
        {
          "output_type": "stream",
          "text": [
            "Train RMSE: 0.27254927709385485\n",
            "Test RMSE: 0.5599868428679718\n"
          ],
          "name": "stdout"
        }
      ]
    },
    {
      "cell_type": "code",
      "metadata": {
        "id": "written-boutique"
      },
      "source": [
        "def predict_from_latent(model, uid, pids, train_ratings=None):\n",
        "    user_vector = model.get_layer('user_matrix').get_weights()[0][uid]\n",
        "    item_vectors = model.get_layer('item_matrix').get_weights()[0][pids]\n",
        "    scores = (np.dot(user_vector, item_vectors.T))\n",
        "    return scores"
      ],
      "id": "written-boutique",
      "execution_count": null,
      "outputs": []
    },
    {
      "cell_type": "code",
      "metadata": {
        "id": "honest-globe"
      },
      "source": [
        "def precision_at_k(model, pred_func, train_ratings, test_ratings, no_users, no_items, k=10):\n",
        "    pid_array = np.arange(no_items, dtype=np.int32)\n",
        "    precisions = []\n",
        "    # For each user\n",
        "    for user_id, user_test_rating in tqdm(test_ratings.groupby('user_id')):\n",
        "        # Retrieve already-seen items\n",
        "        train_pids = train_ratings[train_ratings['user_id'] == user_id]['item_id'].values\n",
        "        # Retrieve the unseen items\n",
        "        test_pids = set(user_test_rating['item_id'].values)\n",
        "        # Make rating predictions for all items for that user\n",
        "        predictions = pred_func(model, user_id, pid_array, train_ratings)\n",
        "        # Force a low rating to already-seen items\n",
        "        predictions[train_pids] = - math.inf\n",
        "        # Sort the items and het the top k\n",
        "        top_k = set(np.argsort(-predictions)[:k])\n",
        "        # Compute precision as per definition\n",
        "        precisions.append(len(top_k & test_pids) / float(k))\n",
        "    return precisions"
      ],
      "id": "honest-globe",
      "execution_count": null,
      "outputs": []
    },
    {
      "cell_type": "code",
      "metadata": {
        "id": "committed-trunk"
      },
      "source": [
        "X_train = np.array(X_train)\n",
        "X_test = np.array(X_test)"
      ],
      "id": "committed-trunk",
      "execution_count": null,
      "outputs": []
    },
    {
      "cell_type": "code",
      "metadata": {
        "id": "modern-denmark"
      },
      "source": [
        "train_ratings = pd.DataFrame({'user_id': X_train[0, :], 'item_id':X_train[1, :], 'rating': y_train})\n",
        "test_ratings = pd.DataFrame({'user_id': X_test[0, :], 'item_id':X_test[1, :], 'rating': y_test})"
      ],
      "id": "modern-denmark",
      "execution_count": null,
      "outputs": []
    },
    {
      "cell_type": "code",
      "metadata": {
        "id": "asian-divide",
        "outputId": "2d2125a0-2afd-4cdc-8b9c-e434d02ac2c6"
      },
      "source": [
        "precisions = precision_at_k(model, predict_from_latent, train_ratings, test_ratings, no_users, no_items, k=10)"
      ],
      "id": "asian-divide",
      "execution_count": null,
      "outputs": [
        {
          "output_type": "stream",
          "text": [
            "100%|██████████| 991/991 [08:23<00:00,  1.97it/s]\n"
          ],
          "name": "stderr"
        }
      ]
    },
    {
      "cell_type": "code",
      "metadata": {
        "id": "muslim-sphere",
        "outputId": "8260b935-955d-4adf-adf9-153ea8d827cc"
      },
      "source": [
        "np.mean(precisions), np.std(precisions)"
      ],
      "id": "muslim-sphere",
      "execution_count": null,
      "outputs": [
        {
          "output_type": "execute_result",
          "data": {
            "text/plain": [
              "(0.0009081735620585267, 0.009486441745303166)"
            ]
          },
          "metadata": {
            "tags": []
          },
          "execution_count": 145
        }
      ]
    },
    {
      "cell_type": "code",
      "metadata": {
        "id": "cosmetic-enhancement"
      },
      "source": [
        "### EXERCISE CELL ###\n",
        "def recall_at_k(model, pred_func, train_ratings, test_ratings, no_users, no_items, k=10):\n",
        "    pid_array = np.arange(no_items, dtype=np.int32)\n",
        "    recalls = []\n",
        "    for user_id, user_test_rating in tqdm(test_ratings.groupby('user_id')):\n",
        "        train_pids = train_ratings[train_ratings['user_id'] == user_id]['item_id'].values\n",
        "        test_pids = set(user_test_rating['item_id'].values)\n",
        "        predictions = pred_func(model, user_id, pid_array, train_ratings)\n",
        "        predictions[train_pids] = - math.inf\n",
        "        top_k = set(np.argsort(-predictions)[:k])\n",
        "        recalls.append(len(top_k & test_pids) / len(test_pids))\n",
        "    return recalls"
      ],
      "id": "cosmetic-enhancement",
      "execution_count": null,
      "outputs": []
    },
    {
      "cell_type": "code",
      "metadata": {
        "id": "collected-universal",
        "outputId": "f7c9d575-0713-47d0-b37f-6a8a7e92e2c4"
      },
      "source": [
        "recalls = recall_at_k(model, predict_from_latent, train_ratings, test_ratings, no_users, no_items, k=10)"
      ],
      "id": "collected-universal",
      "execution_count": null,
      "outputs": [
        {
          "output_type": "stream",
          "text": [
            "100%|██████████| 991/991 [08:04<00:00,  2.05it/s]\n"
          ],
          "name": "stderr"
        }
      ]
    },
    {
      "cell_type": "code",
      "metadata": {
        "id": "hourly-skiing",
        "outputId": "188cc234-b76a-4093-b80c-d2dd884da332"
      },
      "source": [
        "np.mean(recalls), np.std(recalls)"
      ],
      "id": "hourly-skiing",
      "execution_count": null,
      "outputs": [
        {
          "output_type": "execute_result",
          "data": {
            "text/plain": [
              "(9.66411002895107e-06, 0.00013890930996086155)"
            ]
          },
          "metadata": {
            "tags": []
          },
          "execution_count": 149
        }
      ]
    },
    {
      "cell_type": "code",
      "metadata": {
        "id": "answering-drink"
      },
      "source": [
        "### EXERCISE CELL ###\n",
        "def map_at_k(model, pred_func, train_ratings, test_ratings, no_users, no_items, k=10):\n",
        "    pid_array = np.arange(no_items, dtype=np.int32)\n",
        "    maps = []\n",
        "    for user_id, user_test_rating in tqdm(test_ratings.groupby('user_id')):\n",
        "        train_pids = train_ratings[train_ratings['user_id'] == user_id]['item_id'].values\n",
        "        test_pids = set(user_test_rating['item_id'].values)\n",
        "        predictions = pred_func(model, user_id, pid_array, train_ratings)\n",
        "        predictions[train_pids] = - math.inf\n",
        "        partial_maps = []\n",
        "        top_k = list(np.argsort(-predictions)[:k])\n",
        "        for rank, item_id in enumerate(top_k):\n",
        "            if item_id in test_pids:\n",
        "                partial_maps.append(len(set(top_k[:rank+1]) & test_pids) / float(rank+1))\n",
        "        maps.append(.0 if len(partial_maps) == 0 else np.sum(partial_maps) / float(k))\n",
        "    return maps"
      ],
      "id": "answering-drink",
      "execution_count": null,
      "outputs": []
    },
    {
      "cell_type": "code",
      "metadata": {
        "id": "fantastic-sender",
        "outputId": "ed209ed3-78ac-4cd3-b7bb-aa42dfe4d81f"
      },
      "source": [
        "maps = map_at_k(model, predict_from_latent, train_ratings, test_ratings, no_users, no_items, k=10)"
      ],
      "id": "fantastic-sender",
      "execution_count": null,
      "outputs": [
        {
          "output_type": "stream",
          "text": [
            "100%|██████████| 991/991 [07:17<00:00,  2.27it/s]\n"
          ],
          "name": "stderr"
        }
      ]
    },
    {
      "cell_type": "code",
      "metadata": {
        "id": "changing-israel",
        "outputId": "818ef7ff-e714-42d1-ad9f-45bb418569af"
      },
      "source": [
        "np.mean(maps), np.std(maps)"
      ],
      "id": "changing-israel",
      "execution_count": null,
      "outputs": [
        {
          "output_type": "execute_result",
          "data": {
            "text/plain": [
              "(0.000279299408966412, 0.0040065568794788375)"
            ]
          },
          "metadata": {
            "tags": []
          },
          "execution_count": 152
        }
      ]
    },
    {
      "cell_type": "code",
      "metadata": {
        "id": "least-brooklyn"
      },
      "source": [
        ""
      ],
      "id": "least-brooklyn",
      "execution_count": null,
      "outputs": []
    }
  ]
}