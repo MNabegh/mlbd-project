{
  "nbformat": 4,
  "nbformat_minor": 5,
  "metadata": {
    "kernelspec": {
      "display_name": "Python 3",
      "language": "python",
      "name": "python3"
    },
    "language_info": {
      "codemirror_mode": {
        "name": "ipython",
        "version": 3
      },
      "file_extension": ".py",
      "mimetype": "text/x-python",
      "name": "python",
      "nbconvert_exporter": "python",
      "pygments_lexer": "ipython3",
      "version": "3.7.10"
    },
    "colab": {
      "name": "recommender_system.ipynb",
      "provenance": [],
      "include_colab_link": true
    }
  },
  "cells": [
    {
      "cell_type": "markdown",
      "metadata": {
        "id": "view-in-github",
        "colab_type": "text"
      },
      "source": [
        "<a href=\"https://colab.research.google.com/github/MNabegh/mlbd-project/blob/master/recommender_system.ipynb\" target=\"_parent\"><img src=\"https://colab.research.google.com/assets/colab-badge.svg\" alt=\"Open In Colab\"/></a>"
      ]
    },
    {
      "cell_type": "code",
      "metadata": {
        "id": "0VEXgpNp1Cqi"
      },
      "source": [
        "import os\n",
        "\n",
        "path = 'lastfm-dataset-1K'\n",
        "\n",
        "if not os.path.exists(path):\n",
        "\n",
        "  !wget http://mtg.upf.edu/static/datasets/last.fm/lastfm-dataset-1K.tar.gz\n",
        "  !tar -xvzf lastfm-dataset-1K.tar.gz\n"
      ],
      "id": "0VEXgpNp1Cqi",
      "execution_count": 1,
      "outputs": []
    },
    {
      "cell_type": "code",
      "metadata": {
        "colab": {
          "base_uri": "https://localhost:8080/"
        },
        "id": "dHPzdYY01CTs",
        "outputId": "7da0a644-a810-4e31-f438-c5d1499c76b4"
      },
      "source": [
        "!ls"
      ],
      "id": "dHPzdYY01CTs",
      "execution_count": 2,
      "outputs": [
        {
          "output_type": "stream",
          "text": [
            "drive\t\t   lastfm-dataset-1K.tar.gz  sample_data\n",
            "lastfm-dataset-1K  ratings_fig.eps\n"
          ],
          "name": "stdout"
        }
      ]
    },
    {
      "cell_type": "code",
      "metadata": {
        "id": "PQ162BxguWhK",
        "colab": {
          "base_uri": "https://localhost:8080/"
        },
        "outputId": "c5336ee2-e596-40a9-9b75-7cab1f03af1e"
      },
      "source": [
        "import os\n",
        "from google.colab import drive\n",
        "drive.mount('/content/drive')"
      ],
      "id": "PQ162BxguWhK",
      "execution_count": 3,
      "outputs": [
        {
          "output_type": "stream",
          "text": [
            "Drive already mounted at /content/drive; to attempt to forcibly remount, call drive.mount(\"/content/drive\", force_remount=True).\n"
          ],
          "name": "stdout"
        }
      ]
    },
    {
      "cell_type": "code",
      "metadata": {
        "id": "IkLzfmKxv1nY",
        "colab": {
          "base_uri": "https://localhost:8080/"
        },
        "outputId": "b0cb36a9-4975-44fa-9ab7-eeb27d7966a5"
      },
      "source": [
        "!ls drive/MyDrive/data"
      ],
      "id": "IkLzfmKxv1nY",
      "execution_count": 4,
      "outputs": [
        {
          "output_type": "stream",
          "text": [
            "feature_df_with_emb_clean.csv  song_map_reduced.csv\n",
            "feature_df_with_emb.csv        spotify_features_cleaned.csv\n",
            "genres_3d_mapping.json\t       spotify_features.csv\n",
            "genres_map.html\t\t       spotify_uris.csv\n",
            "ratings_fig.eps\t\t       topics_embedded.pkl\n",
            "song_map.csv\t\t       umap.csv\n"
          ],
          "name": "stdout"
        }
      ]
    },
    {
      "cell_type": "code",
      "metadata": {
        "id": "legislative-photography",
        "colab": {
          "base_uri": "https://localhost:8080/"
        },
        "outputId": "d7843eea-110a-4ae7-f9cd-1581042ff9df"
      },
      "source": [
        "import pandas as pd\n",
        "import matplotlib.pyplot as plt\n",
        "import seaborn as sns\n",
        "from io import StringIO\n",
        "import numpy as np\n",
        "from tqdm import tqdm\n",
        "from sklearn.model_selection import train_test_split\n",
        "from sklearn.metrics import roc_auc_score\n",
        "import scipy.sparse as sp\n",
        "import tensorflow as tf\n",
        "from tqdm import tqdm\n",
        "import pandas as pd\n",
        "import numpy as np\n",
        "\n",
        "from keras.utils.vis_utils import model_to_dot\n",
        "from IPython.display import SVG\n",
        "import matplotlib.pyplot as plt\n",
        "import matplotlib as mpl\n",
        "mpl.style.use('seaborn')\n",
        "%matplotlib inline\n",
        "\n",
        "import datetime\n",
        "import time \n",
        "import math\n",
        "import os\n",
        "%config Completer.use_jedi = False"
      ],
      "id": "legislative-photography",
      "execution_count": 5,
      "outputs": [
        {
          "output_type": "stream",
          "text": [
            "/usr/local/lib/python3.7/dist-packages/ipykernel_launcher.py:26: UserWarning: Config option `use_jedi` not recognized by `IPCompleter`.\n"
          ],
          "name": "stderr"
        }
      ]
    },
    {
      "cell_type": "code",
      "metadata": {
        "id": "y6JENn92JzyY"
      },
      "source": [
        "path = \"drive/MyDrive/data/feature_df_with_emb_clean.csv\"\n",
        "\n",
        "feature_df_with_emb = pd.read_csv(path)\n",
        "feature_df_with_emb = feature_df_with_emb.drop(columns=['Unnamed: 0', 'genres', 'genres_emb'])\n",
        "feature_df_with_emb = feature_df_with_emb.dropna()"
      ],
      "id": "y6JENn92JzyY",
      "execution_count": 6,
      "outputs": []
    },
    {
      "cell_type": "code",
      "metadata": {
        "id": "9MPlx151Mo_8",
        "colab": {
          "base_uri": "https://localhost:8080/",
          "height": 204
        },
        "outputId": "7a2081f2-0685-4962-f93f-b77d75a3814d"
      },
      "source": [
        "feature_df_with_emb.head()"
      ],
      "id": "9MPlx151Mo_8",
      "execution_count": 7,
      "outputs": [
        {
          "output_type": "execute_result",
          "data": {
            "text/html": [
              "<div>\n",
              "<style scoped>\n",
              "    .dataframe tbody tr th:only-of-type {\n",
              "        vertical-align: middle;\n",
              "    }\n",
              "\n",
              "    .dataframe tbody tr th {\n",
              "        vertical-align: top;\n",
              "    }\n",
              "\n",
              "    .dataframe thead th {\n",
              "        text-align: right;\n",
              "    }\n",
              "</style>\n",
              "<table border=\"1\" class=\"dataframe\">\n",
              "  <thead>\n",
              "    <tr style=\"text-align: right;\">\n",
              "      <th></th>\n",
              "      <th>artist</th>\n",
              "      <th>track</th>\n",
              "      <th>danceability</th>\n",
              "      <th>energy</th>\n",
              "      <th>key</th>\n",
              "      <th>loudness</th>\n",
              "      <th>mode</th>\n",
              "      <th>speechiness</th>\n",
              "      <th>acousticness</th>\n",
              "      <th>instrumentalness</th>\n",
              "      <th>liveness</th>\n",
              "      <th>valence</th>\n",
              "      <th>tempo</th>\n",
              "      <th>duration_ms</th>\n",
              "      <th>popularity</th>\n",
              "      <th>emb_x</th>\n",
              "      <th>emb_y</th>\n",
              "      <th>emb_z</th>\n",
              "    </tr>\n",
              "  </thead>\n",
              "  <tbody>\n",
              "    <tr>\n",
              "      <th>0</th>\n",
              "      <td>坂本龍一</td>\n",
              "      <td>Composition 0919 (Live_2009_4_15)</td>\n",
              "      <td>0.806</td>\n",
              "      <td>0.413</td>\n",
              "      <td>5.0</td>\n",
              "      <td>-12.883</td>\n",
              "      <td>1.0</td>\n",
              "      <td>0.1560</td>\n",
              "      <td>0.987</td>\n",
              "      <td>0.794</td>\n",
              "      <td>0.1130</td>\n",
              "      <td>0.5290</td>\n",
              "      <td>105.089</td>\n",
              "      <td>330253.0</td>\n",
              "      <td>62</td>\n",
              "      <td>7.375277</td>\n",
              "      <td>4.894493</td>\n",
              "      <td>0.943493</td>\n",
              "    </tr>\n",
              "    <tr>\n",
              "      <th>1</th>\n",
              "      <td>坂本龍一</td>\n",
              "      <td>Hibari (Live_2009_4_15)</td>\n",
              "      <td>0.604</td>\n",
              "      <td>0.283</td>\n",
              "      <td>9.0</td>\n",
              "      <td>-19.811</td>\n",
              "      <td>0.0</td>\n",
              "      <td>0.0583</td>\n",
              "      <td>0.996</td>\n",
              "      <td>0.916</td>\n",
              "      <td>0.1140</td>\n",
              "      <td>0.2700</td>\n",
              "      <td>137.802</td>\n",
              "      <td>540133.0</td>\n",
              "      <td>62</td>\n",
              "      <td>7.375277</td>\n",
              "      <td>4.894493</td>\n",
              "      <td>0.943493</td>\n",
              "    </tr>\n",
              "    <tr>\n",
              "      <th>2</th>\n",
              "      <td>坂本龍一</td>\n",
              "      <td>To Stanford (Live_2009_4_15)</td>\n",
              "      <td>0.453</td>\n",
              "      <td>0.163</td>\n",
              "      <td>5.0</td>\n",
              "      <td>-20.922</td>\n",
              "      <td>1.0</td>\n",
              "      <td>0.0519</td>\n",
              "      <td>0.990</td>\n",
              "      <td>0.939</td>\n",
              "      <td>0.1010</td>\n",
              "      <td>0.0703</td>\n",
              "      <td>73.926</td>\n",
              "      <td>216853.0</td>\n",
              "      <td>39</td>\n",
              "      <td>7.375277</td>\n",
              "      <td>4.894493</td>\n",
              "      <td>0.943493</td>\n",
              "    </tr>\n",
              "    <tr>\n",
              "      <th>3</th>\n",
              "      <td>坂本龍一</td>\n",
              "      <td>Improvisation (Live_2009_4_15)</td>\n",
              "      <td>0.217</td>\n",
              "      <td>0.012</td>\n",
              "      <td>5.0</td>\n",
              "      <td>-36.464</td>\n",
              "      <td>1.0</td>\n",
              "      <td>0.0376</td>\n",
              "      <td>0.991</td>\n",
              "      <td>0.859</td>\n",
              "      <td>0.0866</td>\n",
              "      <td>0.0376</td>\n",
              "      <td>80.714</td>\n",
              "      <td>384707.0</td>\n",
              "      <td>62</td>\n",
              "      <td>7.375277</td>\n",
              "      <td>4.894493</td>\n",
              "      <td>0.943493</td>\n",
              "    </tr>\n",
              "    <tr>\n",
              "      <th>4</th>\n",
              "      <td>坂本龍一</td>\n",
              "      <td>Glacier (Live_2009_4_15)</td>\n",
              "      <td>0.518</td>\n",
              "      <td>0.213</td>\n",
              "      <td>9.0</td>\n",
              "      <td>-28.790</td>\n",
              "      <td>0.0</td>\n",
              "      <td>0.2090</td>\n",
              "      <td>0.869</td>\n",
              "      <td>0.898</td>\n",
              "      <td>0.1030</td>\n",
              "      <td>0.0920</td>\n",
              "      <td>104.191</td>\n",
              "      <td>580707.0</td>\n",
              "      <td>62</td>\n",
              "      <td>7.375277</td>\n",
              "      <td>4.894493</td>\n",
              "      <td>0.943493</td>\n",
              "    </tr>\n",
              "  </tbody>\n",
              "</table>\n",
              "</div>"
            ],
            "text/plain": [
              "  artist                              track  ...     emb_y     emb_z\n",
              "0   坂本龍一  Composition 0919 (Live_2009_4_15)  ...  4.894493  0.943493\n",
              "1   坂本龍一            Hibari (Live_2009_4_15)  ...  4.894493  0.943493\n",
              "2   坂本龍一       To Stanford (Live_2009_4_15)  ...  4.894493  0.943493\n",
              "3   坂本龍一     Improvisation (Live_2009_4_15)  ...  4.894493  0.943493\n",
              "4   坂本龍一           Glacier (Live_2009_4_15)  ...  4.894493  0.943493\n",
              "\n",
              "[5 rows x 18 columns]"
            ]
          },
          "metadata": {
            "tags": []
          },
          "execution_count": 7
        }
      ]
    },
    {
      "cell_type": "code",
      "metadata": {
        "colab": {
          "base_uri": "https://localhost:8080/"
        },
        "id": "pbPM69yFJeLO",
        "outputId": "d513329a-8493-494c-e0b6-ee7aa9d2783d"
      },
      "source": [
        "feature_df_with_emb.isna().sum()"
      ],
      "id": "pbPM69yFJeLO",
      "execution_count": 8,
      "outputs": [
        {
          "output_type": "execute_result",
          "data": {
            "text/plain": [
              "artist              0\n",
              "track               0\n",
              "danceability        0\n",
              "energy              0\n",
              "key                 0\n",
              "loudness            0\n",
              "mode                0\n",
              "speechiness         0\n",
              "acousticness        0\n",
              "instrumentalness    0\n",
              "liveness            0\n",
              "valence             0\n",
              "tempo               0\n",
              "duration_ms         0\n",
              "popularity          0\n",
              "emb_x               0\n",
              "emb_y               0\n",
              "emb_z               0\n",
              "dtype: int64"
            ]
          },
          "metadata": {
            "tags": []
          },
          "execution_count": 8
        }
      ]
    },
    {
      "cell_type": "code",
      "metadata": {
        "id": "greatest-invitation"
      },
      "source": [
        "# Load the dataset\n",
        "df = pd.read_table('lastfm-dataset-1K/userid-timestamp-artid-artname-traid-traname.tsv', lineterminator='\\n', warn_bad_lines=True, names=['user', 'timestamp', 'artist-id', 'artist', 'song-id', 'song'])\n",
        "df_profile = pd.read_csv('lastfm-dataset-1K/userid-profile.tsv', sep='\\t', error_bad_lines=False, warn_bad_lines=True, skiprows=1, names=['user', 'gender', 'age', 'country', 'signup'])"
      ],
      "id": "greatest-invitation",
      "execution_count": 9,
      "outputs": []
    },
    {
      "cell_type": "code",
      "metadata": {
        "id": "union-season"
      },
      "source": [
        "# Check if some songs share a common ID\n",
        "grouped = df[['song-id', 'song']].groupby(['song-id']).nunique()"
      ],
      "id": "union-season",
      "execution_count": 10,
      "outputs": []
    },
    {
      "cell_type": "code",
      "metadata": {
        "id": "aerial-damages"
      },
      "source": [
        "# Get rows with song names containing multiple rows\n",
        "duplicated = df.loc[df['song-id'].isin(grouped[grouped['song'] > 1].index)]\n",
        "duplicated = duplicated.drop(columns=['user', 'timestamp', 'artist', 'artist-id'])\n",
        "containis_extra_rows = duplicated.apply(lambda x: pd.Series({'id': x[0], 'song': x[1], 'flag':'\\n' in x[1]}), axis=1)\n",
        "containis_extra_rows = containis_extra_rows.loc[containis_extra_rows['flag']]"
      ],
      "id": "aerial-damages",
      "execution_count": 11,
      "outputs": []
    },
    {
      "cell_type": "code",
      "metadata": {
        "id": "smoking-vanilla"
      },
      "source": [
        "# Iterate over those 5k rows to get the extra rows and correct the song name\n",
        "for index, row in containis_extra_rows.iterrows():\n",
        "    row_break = row['song'].split('\\n', 1)\n",
        "    song_name = row_break[0]\n",
        "    df.loc[df['song-id'] == row['id'], 'song'] = song_name\n",
        "    \n",
        "    tsv = StringIO(row_break[1])\n",
        "    df_extra = pd.read_csv(tsv, sep=\"\\t\", warn_bad_lines=True, names=['user', 'timestamp', 'artist-id', 'artist', 'song-id', 'song'])\n",
        "    df = df.append(df_extra, ignore_index=True)"
      ],
      "id": "smoking-vanilla",
      "execution_count": 12,
      "outputs": []
    },
    {
      "cell_type": "markdown",
      "metadata": {
        "id": "green-cloud"
      },
      "source": [
        "### Fix names"
      ],
      "id": "green-cloud"
    },
    {
      "cell_type": "code",
      "metadata": {
        "id": "marked-return"
      },
      "source": [
        "# Check if some songs share a common ID\n",
        "grouped = df[['song-id', 'song']].groupby(['song-id']).nunique()"
      ],
      "id": "marked-return",
      "execution_count": 13,
      "outputs": []
    },
    {
      "cell_type": "code",
      "metadata": {
        "id": "developing-roots",
        "colab": {
          "base_uri": "https://localhost:8080/"
        },
        "outputId": "db63d3cf-45e9-4a26-d049-ca67b673b411"
      },
      "source": [
        "# Check how many ids has more than 1 song name\n",
        "grouped[grouped['song'] > 1].shape[0]"
      ],
      "id": "developing-roots",
      "execution_count": 14,
      "outputs": [
        {
          "output_type": "execute_result",
          "data": {
            "text/plain": [
              "200"
            ]
          },
          "metadata": {
            "tags": []
          },
          "execution_count": 14
        }
      ]
    },
    {
      "cell_type": "code",
      "metadata": {
        "id": "million-deputy"
      },
      "source": [
        "ids_to_be_fixed = grouped[grouped['song'] > 1].index"
      ],
      "id": "million-deputy",
      "execution_count": 15,
      "outputs": []
    },
    {
      "cell_type": "code",
      "metadata": {
        "id": "compact-standing"
      },
      "source": [
        "df = df.set_index('song-id')"
      ],
      "id": "compact-standing",
      "execution_count": 16,
      "outputs": []
    },
    {
      "cell_type": "code",
      "metadata": {
        "id": "waiting-efficiency"
      },
      "source": [
        "map_to_fix = df.groupby(df.index)['song'].head(1)"
      ],
      "id": "waiting-efficiency",
      "execution_count": 17,
      "outputs": []
    },
    {
      "cell_type": "code",
      "metadata": {
        "id": "satellite-chile"
      },
      "source": [
        "df.loc[ids_to_be_fixed, 'song'] = df.loc[ids_to_be_fixed].reset_index()['song-id'].map(lambda x: map_to_fix[x])\n",
        "df = df.reset_index()"
      ],
      "id": "satellite-chile",
      "execution_count": 18,
      "outputs": []
    },
    {
      "cell_type": "markdown",
      "metadata": {
        "id": "experimental-canal"
      },
      "source": [
        "### Create matrix"
      ],
      "id": "experimental-canal"
    },
    {
      "cell_type": "code",
      "metadata": {
        "id": "approved-episode"
      },
      "source": [
        "matrix_init = df.groupby(['user', 'artist', 'song']).count()"
      ],
      "id": "approved-episode",
      "execution_count": 19,
      "outputs": []
    },
    {
      "cell_type": "code",
      "metadata": {
        "id": "V3_-het_CITn",
        "outputId": "f6f498f1-4ee1-492e-efd8-2187b7fbd299",
        "colab": {
          "base_uri": "https://localhost:8080/"
        }
      },
      "source": [
        "matrix_init['timestamp'].mean()"
      ],
      "id": "V3_-het_CITn",
      "execution_count": 20,
      "outputs": [
        {
          "output_type": "execute_result",
          "data": {
            "text/plain": [
              "4.143608054233562"
            ]
          },
          "metadata": {
            "tags": []
          },
          "execution_count": 20
        }
      ]
    },
    {
      "cell_type": "code",
      "metadata": {
        "id": "streaming-platform"
      },
      "source": [
        "matrix_init = matrix_init['timestamp']\n",
        "matrix_init = matrix_init.map(lambda x: np.log(x))"
      ],
      "id": "streaming-platform",
      "execution_count": 21,
      "outputs": []
    },
    {
      "cell_type": "code",
      "metadata": {
        "id": "wired-master"
      },
      "source": [
        "matrix_init = matrix_init.reset_index()"
      ],
      "id": "wired-master",
      "execution_count": 22,
      "outputs": []
    },
    {
      "cell_type": "code",
      "metadata": {
        "id": "peaceful-uzbekistan"
      },
      "source": [
        "def rating_scaler(row):\n",
        "    row_array = np.array(row)\n",
        "    lower_bound, new_range= 3, 7\n",
        "    min_, max_ = row_array.min(), row_array.max()\n",
        "    old_range = max_ - min_\n",
        "    \n",
        "    \n",
        "    scaled_row = (new_range * (row_array - min_)) / (old_range + 1e-6)  + lower_bound\n",
        "    scaled_row[scaled_row == -1] = 0\n",
        "    return pd.Series(scaled_row)"
      ],
      "id": "peaceful-uzbekistan",
      "execution_count": 23,
      "outputs": []
    },
    {
      "cell_type": "code",
      "metadata": {
        "id": "jwZGo8Gx4LG8"
      },
      "source": [
        ""
      ],
      "id": "jwZGo8Gx4LG8",
      "execution_count": 23,
      "outputs": []
    },
    {
      "cell_type": "code",
      "metadata": {
        "id": "sunrise-article"
      },
      "source": [
        "matrix_init_scaled = matrix_init.groupby('user')['timestamp'].apply(rating_scaler)"
      ],
      "id": "sunrise-article",
      "execution_count": 24,
      "outputs": []
    },
    {
      "cell_type": "code",
      "metadata": {
        "id": "promising-sussex"
      },
      "source": [
        "matrix_init['timestamp'] = matrix_init_scaled.reset_index()['timestamp']"
      ],
      "id": "promising-sussex",
      "execution_count": 25,
      "outputs": []
    },
    {
      "cell_type": "code",
      "metadata": {
        "id": "1xz9agnu2Acj",
        "colab": {
          "base_uri": "https://localhost:8080/"
        },
        "outputId": "ca1eb087-e2a8-4481-9dbf-002d0c92ed24"
      },
      "source": [
        "matrix_init['timestamp'].describe()"
      ],
      "id": "1xz9agnu2Acj",
      "execution_count": 26,
      "outputs": [
        {
          "output_type": "execute_result",
          "data": {
            "text/plain": [
              "count    4.613822e+06\n",
              "mean     4.247989e+00\n",
              "std      1.477874e+00\n",
              "min      3.000000e+00\n",
              "25%      3.000000e+00\n",
              "50%      3.937382e+00\n",
              "75%      5.201265e+00\n",
              "max      9.999999e+00\n",
              "Name: timestamp, dtype: float64"
            ]
          },
          "metadata": {
            "tags": []
          },
          "execution_count": 26
        }
      ]
    },
    {
      "cell_type": "code",
      "metadata": {
        "colab": {
          "base_uri": "https://localhost:8080/"
        },
        "id": "H4U2zX1mFFJh",
        "outputId": "5794f385-054c-4c12-cafc-5ce9d767ee18"
      },
      "source": [
        "(matrix_init['timestamp'] == 0).sum() / matrix_init.shape[0]"
      ],
      "id": "H4U2zX1mFFJh",
      "execution_count": 27,
      "outputs": [
        {
          "output_type": "execute_result",
          "data": {
            "text/plain": [
              "0.0"
            ]
          },
          "metadata": {
            "tags": []
          },
          "execution_count": 27
        }
      ]
    },
    {
      "cell_type": "code",
      "metadata": {
        "id": "RegnknnLcdpr"
      },
      "source": [
        "feature_df_with_emb['item'] = feature_df_with_emb.apply(lambda row: row[1]+' '+row[0], axis=1)"
      ],
      "id": "RegnknnLcdpr",
      "execution_count": 28,
      "outputs": []
    },
    {
      "cell_type": "code",
      "metadata": {
        "id": "Ilcbgky8mxyH"
      },
      "source": [
        "topics_df = pd.read_pickle('drive/MyDrive/data/topics_embedded.pkl')\n",
        "topics_df[['topic_1', 'topic_2', 'topic_3', 'topic_4', 'topic_5', 'topic_6']] = pd.DataFrame(topics_df['topics'].tolist(), index= topics_df.index)\n",
        "topics_df = topics_df.drop(columns=['Lyrics', 'Lyrics_en', 'topics'])\n",
        "topics_df = topics_df.rename({'Song_Artist':'item'}, axis=1)"
      ],
      "id": "Ilcbgky8mxyH",
      "execution_count": 29,
      "outputs": []
    },
    {
      "cell_type": "code",
      "metadata": {
        "colab": {
          "base_uri": "https://localhost:8080/",
          "height": 204
        },
        "id": "Pj18D6cemzuc",
        "outputId": "43430054-47f0-4c8a-afaa-76688b61f56e"
      },
      "source": [
        "topics_df.head()"
      ],
      "id": "Pj18D6cemzuc",
      "execution_count": 30,
      "outputs": [
        {
          "output_type": "execute_result",
          "data": {
            "text/html": [
              "<div>\n",
              "<style scoped>\n",
              "    .dataframe tbody tr th:only-of-type {\n",
              "        vertical-align: middle;\n",
              "    }\n",
              "\n",
              "    .dataframe tbody tr th {\n",
              "        vertical-align: top;\n",
              "    }\n",
              "\n",
              "    .dataframe thead th {\n",
              "        text-align: right;\n",
              "    }\n",
              "</style>\n",
              "<table border=\"1\" class=\"dataframe\">\n",
              "  <thead>\n",
              "    <tr style=\"text-align: right;\">\n",
              "      <th></th>\n",
              "      <th>item</th>\n",
              "      <th>topic_1</th>\n",
              "      <th>topic_2</th>\n",
              "      <th>topic_3</th>\n",
              "      <th>topic_4</th>\n",
              "      <th>topic_5</th>\n",
              "      <th>topic_6</th>\n",
              "    </tr>\n",
              "  </thead>\n",
              "  <tbody>\n",
              "    <tr>\n",
              "      <th>220800</th>\n",
              "      <td>The Real Thing Kylie Minogue</td>\n",
              "      <td>0.908270</td>\n",
              "      <td>0.016006</td>\n",
              "      <td>0.015615</td>\n",
              "      <td>0.024251</td>\n",
              "      <td>0.019674</td>\n",
              "      <td>0.016184</td>\n",
              "    </tr>\n",
              "    <tr>\n",
              "      <th>220803</th>\n",
              "      <td>I Surrender The Adverts</td>\n",
              "      <td>0.082533</td>\n",
              "      <td>0.075666</td>\n",
              "      <td>0.303093</td>\n",
              "      <td>0.092924</td>\n",
              "      <td>0.151675</td>\n",
              "      <td>0.294109</td>\n",
              "    </tr>\n",
              "    <tr>\n",
              "      <th>220806</th>\n",
              "      <td>Woebegone Anneli Drecker</td>\n",
              "      <td>0.221403</td>\n",
              "      <td>0.041089</td>\n",
              "      <td>0.072499</td>\n",
              "      <td>0.088735</td>\n",
              "      <td>0.032662</td>\n",
              "      <td>0.543613</td>\n",
              "    </tr>\n",
              "    <tr>\n",
              "      <th>220807</th>\n",
              "      <td>Aina Nälkä Sielun Veljet</td>\n",
              "      <td>0.242173</td>\n",
              "      <td>0.342328</td>\n",
              "      <td>0.270193</td>\n",
              "      <td>0.018940</td>\n",
              "      <td>0.025390</td>\n",
              "      <td>0.100976</td>\n",
              "    </tr>\n",
              "    <tr>\n",
              "      <th>220808</th>\n",
              "      <td>Bla Bla Bla Toots &amp; The Maytals</td>\n",
              "      <td>0.681251</td>\n",
              "      <td>0.119072</td>\n",
              "      <td>0.000000</td>\n",
              "      <td>0.017217</td>\n",
              "      <td>0.167817</td>\n",
              "      <td>0.000000</td>\n",
              "    </tr>\n",
              "  </tbody>\n",
              "</table>\n",
              "</div>"
            ],
            "text/plain": [
              "                                   item   topic_1  ...   topic_5   topic_6\n",
              "220800     The Real Thing Kylie Minogue  0.908270  ...  0.019674  0.016184\n",
              "220803          I Surrender The Adverts  0.082533  ...  0.151675  0.294109\n",
              "220806         Woebegone Anneli Drecker  0.221403  ...  0.032662  0.543613\n",
              "220807         Aina Nälkä Sielun Veljet  0.242173  ...  0.025390  0.100976\n",
              "220808  Bla Bla Bla Toots & The Maytals  0.681251  ...  0.167817  0.000000\n",
              "\n",
              "[5 rows x 7 columns]"
            ]
          },
          "metadata": {
            "tags": []
          },
          "execution_count": 30
        }
      ]
    },
    {
      "cell_type": "markdown",
      "metadata": {
        "id": "working-dylan"
      },
      "source": [
        "### Merge data"
      ],
      "id": "working-dylan"
    },
    {
      "cell_type": "code",
      "metadata": {
        "id": "silent-present"
      },
      "source": [
        "matrix_init = matrix_init.rename({'timestamp':'rating', 'song':'track'}, axis=1)"
      ],
      "id": "silent-present",
      "execution_count": 31,
      "outputs": []
    },
    {
      "cell_type": "code",
      "metadata": {
        "colab": {
          "base_uri": "https://localhost:8080/",
          "height": 290
        },
        "id": "-PVh-RlLpxEB",
        "outputId": "422cd020-6284-4d57-8977-f926c1acb01f"
      },
      "source": [
        "matrix_init['rating'].plot.hist()\n",
        "plt.xlabel('Rating')\n",
        "plt.savefig('drive/MyDrive/data/ratings_fig.eps', format='eps')\n",
        "plt.show()"
      ],
      "id": "-PVh-RlLpxEB",
      "execution_count": 32,
      "outputs": [
        {
          "output_type": "display_data",
          "data": {
            "image/png": "[encoded data removed]",
            "text/plain": [
              "<Figure size 432x288 with 1 Axes>"
            ]
          },
          "metadata": {
            "tags": [],
            "needs_background": "light"
          }
        }
      ]
    },
    {
      "cell_type": "code",
      "metadata": {
        "id": "potential-replica"
      },
      "source": [
        "matrix_extended = matrix_init.merge(feature_df_with_emb, on=['artist', 'track'])"
      ],
      "id": "potential-replica",
      "execution_count": 33,
      "outputs": []
    },
    {
      "cell_type": "code",
      "metadata": {
        "id": "formal-token",
        "colab": {
          "base_uri": "https://localhost:8080/",
          "height": 374
        },
        "outputId": "7089ca4c-5c23-4015-f34f-1165ed6ef34f"
      },
      "source": [
        "matrix_extended.head()"
      ],
      "id": "formal-token",
      "execution_count": 34,
      "outputs": [
        {
          "output_type": "execute_result",
          "data": {
            "text/html": [
              "<div>\n",
              "<style scoped>\n",
              "    .dataframe tbody tr th:only-of-type {\n",
              "        vertical-align: middle;\n",
              "    }\n",
              "\n",
              "    .dataframe tbody tr th {\n",
              "        vertical-align: top;\n",
              "    }\n",
              "\n",
              "    .dataframe thead th {\n",
              "        text-align: right;\n",
              "    }\n",
              "</style>\n",
              "<table border=\"1\" class=\"dataframe\">\n",
              "  <thead>\n",
              "    <tr style=\"text-align: right;\">\n",
              "      <th></th>\n",
              "      <th>user</th>\n",
              "      <th>artist</th>\n",
              "      <th>track</th>\n",
              "      <th>rating</th>\n",
              "      <th>danceability</th>\n",
              "      <th>energy</th>\n",
              "      <th>key</th>\n",
              "      <th>loudness</th>\n",
              "      <th>mode</th>\n",
              "      <th>speechiness</th>\n",
              "      <th>acousticness</th>\n",
              "      <th>instrumentalness</th>\n",
              "      <th>liveness</th>\n",
              "      <th>valence</th>\n",
              "      <th>tempo</th>\n",
              "      <th>duration_ms</th>\n",
              "      <th>popularity</th>\n",
              "      <th>emb_x</th>\n",
              "      <th>emb_y</th>\n",
              "      <th>emb_z</th>\n",
              "      <th>item</th>\n",
              "    </tr>\n",
              "  </thead>\n",
              "  <tbody>\n",
              "    <tr>\n",
              "      <th>0</th>\n",
              "      <td>user_000001</td>\n",
              "      <td>2562</td>\n",
              "      <td>Basin Dub</td>\n",
              "      <td>4.142058</td>\n",
              "      <td>0.644</td>\n",
              "      <td>0.431</td>\n",
              "      <td>11.0</td>\n",
              "      <td>-7.676</td>\n",
              "      <td>1.0</td>\n",
              "      <td>0.206</td>\n",
              "      <td>0.0393</td>\n",
              "      <td>0.3</td>\n",
              "      <td>0.159</td>\n",
              "      <td>0.347</td>\n",
              "      <td>139.998</td>\n",
              "      <td>292769.0</td>\n",
              "      <td>19</td>\n",
              "      <td>5.311094</td>\n",
              "      <td>6.10387</td>\n",
              "      <td>3.313273</td>\n",
              "      <td>Basin Dub 2562</td>\n",
              "    </tr>\n",
              "    <tr>\n",
              "      <th>1</th>\n",
              "      <td>user_000451</td>\n",
              "      <td>2562</td>\n",
              "      <td>Basin Dub</td>\n",
              "      <td>4.080958</td>\n",
              "      <td>0.644</td>\n",
              "      <td>0.431</td>\n",
              "      <td>11.0</td>\n",
              "      <td>-7.676</td>\n",
              "      <td>1.0</td>\n",
              "      <td>0.206</td>\n",
              "      <td>0.0393</td>\n",
              "      <td>0.3</td>\n",
              "      <td>0.159</td>\n",
              "      <td>0.347</td>\n",
              "      <td>139.998</td>\n",
              "      <td>292769.0</td>\n",
              "      <td>19</td>\n",
              "      <td>5.311094</td>\n",
              "      <td>6.10387</td>\n",
              "      <td>3.313273</td>\n",
              "      <td>Basin Dub 2562</td>\n",
              "    </tr>\n",
              "    <tr>\n",
              "      <th>2</th>\n",
              "      <td>user_000471</td>\n",
              "      <td>2562</td>\n",
              "      <td>Basin Dub</td>\n",
              "      <td>3.000000</td>\n",
              "      <td>0.644</td>\n",
              "      <td>0.431</td>\n",
              "      <td>11.0</td>\n",
              "      <td>-7.676</td>\n",
              "      <td>1.0</td>\n",
              "      <td>0.206</td>\n",
              "      <td>0.0393</td>\n",
              "      <td>0.3</td>\n",
              "      <td>0.159</td>\n",
              "      <td>0.347</td>\n",
              "      <td>139.998</td>\n",
              "      <td>292769.0</td>\n",
              "      <td>19</td>\n",
              "      <td>5.311094</td>\n",
              "      <td>6.10387</td>\n",
              "      <td>3.313273</td>\n",
              "      <td>Basin Dub 2562</td>\n",
              "    </tr>\n",
              "    <tr>\n",
              "      <th>3</th>\n",
              "      <td>user_000508</td>\n",
              "      <td>2562</td>\n",
              "      <td>Basin Dub</td>\n",
              "      <td>4.976012</td>\n",
              "      <td>0.644</td>\n",
              "      <td>0.431</td>\n",
              "      <td>11.0</td>\n",
              "      <td>-7.676</td>\n",
              "      <td>1.0</td>\n",
              "      <td>0.206</td>\n",
              "      <td>0.0393</td>\n",
              "      <td>0.3</td>\n",
              "      <td>0.159</td>\n",
              "      <td>0.347</td>\n",
              "      <td>139.998</td>\n",
              "      <td>292769.0</td>\n",
              "      <td>19</td>\n",
              "      <td>5.311094</td>\n",
              "      <td>6.10387</td>\n",
              "      <td>3.313273</td>\n",
              "      <td>Basin Dub 2562</td>\n",
              "    </tr>\n",
              "    <tr>\n",
              "      <th>4</th>\n",
              "      <td>user_000515</td>\n",
              "      <td>2562</td>\n",
              "      <td>Basin Dub</td>\n",
              "      <td>3.973598</td>\n",
              "      <td>0.644</td>\n",
              "      <td>0.431</td>\n",
              "      <td>11.0</td>\n",
              "      <td>-7.676</td>\n",
              "      <td>1.0</td>\n",
              "      <td>0.206</td>\n",
              "      <td>0.0393</td>\n",
              "      <td>0.3</td>\n",
              "      <td>0.159</td>\n",
              "      <td>0.347</td>\n",
              "      <td>139.998</td>\n",
              "      <td>292769.0</td>\n",
              "      <td>19</td>\n",
              "      <td>5.311094</td>\n",
              "      <td>6.10387</td>\n",
              "      <td>3.313273</td>\n",
              "      <td>Basin Dub 2562</td>\n",
              "    </tr>\n",
              "  </tbody>\n",
              "</table>\n",
              "</div>"
            ],
            "text/plain": [
              "          user artist      track  ...    emb_y     emb_z            item\n",
              "0  user_000001   2562  Basin Dub  ...  6.10387  3.313273  Basin Dub 2562\n",
              "1  user_000451   2562  Basin Dub  ...  6.10387  3.313273  Basin Dub 2562\n",
              "2  user_000471   2562  Basin Dub  ...  6.10387  3.313273  Basin Dub 2562\n",
              "3  user_000508   2562  Basin Dub  ...  6.10387  3.313273  Basin Dub 2562\n",
              "4  user_000515   2562  Basin Dub  ...  6.10387  3.313273  Basin Dub 2562\n",
              "\n",
              "[5 rows x 21 columns]"
            ]
          },
          "metadata": {
            "tags": []
          },
          "execution_count": 34
        }
      ]
    },
    {
      "cell_type": "markdown",
      "metadata": {
        "id": "w-BObyTK8dft"
      },
      "source": [
        "### Filter the dataset"
      ],
      "id": "w-BObyTK8dft"
    },
    {
      "cell_type": "code",
      "metadata": {
        "colab": {
          "base_uri": "https://localhost:8080/"
        },
        "id": "bmxgAsts8dSB",
        "outputId": "f377612e-f7da-4d6d-c710-c83e898f0dcf"
      },
      "source": [
        "matrix_extended.groupby('user').count()['rating'].describe()"
      ],
      "id": "bmxgAsts8dSB",
      "execution_count": 35,
      "outputs": [
        {
          "output_type": "execute_result",
          "data": {
            "text/plain": [
              "count      991.000000\n",
              "mean      3901.116044\n",
              "std       4556.333601\n",
              "min          3.000000\n",
              "25%       1128.000000\n",
              "50%       2654.000000\n",
              "75%       4951.000000\n",
              "max      58844.000000\n",
              "Name: rating, dtype: float64"
            ]
          },
          "metadata": {
            "tags": []
          },
          "execution_count": 35
        }
      ]
    },
    {
      "cell_type": "code",
      "metadata": {
        "colab": {
          "base_uri": "https://localhost:8080/",
          "height": 268
        },
        "id": "RVJT_7Qi8cyB",
        "outputId": "9db1789b-1a0c-4416-ed3c-fab1f7de14b5"
      },
      "source": [
        "matrix_extended.groupby('user').count()['rating'].plot.hist()\n",
        "plt.yscale('log')\n",
        "plt.show()"
      ],
      "id": "RVJT_7Qi8cyB",
      "execution_count": 36,
      "outputs": [
        {
          "output_type": "display_data",
          "data": {
            "image/png": "[encoded data removed]",
            "text/plain": [
              "<Figure size 432x288 with 1 Axes>"
            ]
          },
          "metadata": {
            "tags": [],
            "needs_background": "light"
          }
        }
      ]
    },
    {
      "cell_type": "code",
      "metadata": {
        "colab": {
          "base_uri": "https://localhost:8080/"
        },
        "id": "u9l3wRhoGL4i",
        "outputId": "58090cf6-c04e-4173-fe7d-ea1c64357368"
      },
      "source": [
        "matrix_extended.groupby('item').count()['rating'].describe()"
      ],
      "id": "u9l3wRhoGL4i",
      "execution_count": 37,
      "outputs": [
        {
          "output_type": "execute_result",
          "data": {
            "text/plain": [
              "count    750791.000000\n",
              "mean          5.149244\n",
              "std          11.747020\n",
              "min           1.000000\n",
              "25%           1.000000\n",
              "50%           2.000000\n",
              "75%           4.000000\n",
              "max         346.000000\n",
              "Name: rating, dtype: float64"
            ]
          },
          "metadata": {
            "tags": []
          },
          "execution_count": 37
        }
      ]
    },
    {
      "cell_type": "code",
      "metadata": {
        "colab": {
          "base_uri": "https://localhost:8080/",
          "height": 267
        },
        "id": "EGlGtGXN8cPj",
        "outputId": "746173d8-7aef-43f4-e19b-e55bab4b934a"
      },
      "source": [
        "matrix_extended.groupby('item').count()['rating'].plot.hist()\n",
        "plt.yscale('log')\n",
        "plt.show()"
      ],
      "id": "EGlGtGXN8cPj",
      "execution_count": 38,
      "outputs": [
        {
          "output_type": "display_data",
          "data": {
            "image/png": "[encoded data removed]",
            "text/plain": [
              "<Figure size 432x288 with 1 Axes>"
            ]
          },
          "metadata": {
            "tags": [],
            "needs_background": "light"
          }
        }
      ]
    },
    {
      "cell_type": "code",
      "metadata": {
        "colab": {
          "base_uri": "https://localhost:8080/",
          "height": 265
        },
        "id": "O3Mpjco08cCg",
        "outputId": "b9788cba-8fec-4591-d08e-b5a0c65e3ebd"
      },
      "source": [
        "matrix_extended['rating'].plot.hist()\n",
        "plt.yscale('log')\n",
        "plt.show()"
      ],
      "id": "O3Mpjco08cCg",
      "execution_count": 39,
      "outputs": [
        {
          "output_type": "display_data",
          "data": {
            "image/png": "[encoded data removed]",
            "text/plain": [
              "<Figure size 432x288 with 1 Axes>"
            ]
          },
          "metadata": {
            "tags": [],
            "needs_background": "light"
          }
        }
      ]
    },
    {
      "cell_type": "code",
      "metadata": {
        "id": "06x7G_3cGW2J"
      },
      "source": [
        "items_app = matrix_extended.groupby('item').count()['rating']\n",
        "items_app = items_app.loc[items_app > 1].index\n",
        "matrix_sampled = matrix_extended.copy()\n",
        "matrix_sampled = matrix_sampled.set_index('item')\n",
        "matrix_sampled = matrix_sampled.loc[items_app]\n",
        "matrix_sampled = matrix_sampled.reset_index()\n",
        "matrix_sampled = matrix_sampled.sample(frac=1)"
      ],
      "id": "06x7G_3cGW2J",
      "execution_count": 54,
      "outputs": []
    },
    {
      "cell_type": "code",
      "metadata": {
        "id": "x9MFL9ZoIB-n",
        "colab": {
          "base_uri": "https://localhost:8080/"
        },
        "outputId": "78bfd569-0a21-4931-c31f-403b2f643cdc"
      },
      "source": [
        "matrix_sampled.groupby('user').count()['rating'].describe()"
      ],
      "id": "x9MFL9ZoIB-n",
      "execution_count": 55,
      "outputs": [
        {
          "output_type": "execute_result",
          "data": {
            "text/plain": [
              "count      991.000000\n",
              "mean      3546.093845\n",
              "std       4052.758702\n",
              "min          3.000000\n",
              "25%       1062.500000\n",
              "50%       2452.000000\n",
              "75%       4496.000000\n",
              "max      52289.000000\n",
              "Name: rating, dtype: float64"
            ]
          },
          "metadata": {
            "tags": []
          },
          "execution_count": 55
        }
      ]
    },
    {
      "cell_type": "code",
      "metadata": {
        "id": "Fa1J689p3mOi",
        "colab": {
          "base_uri": "https://localhost:8080/"
        },
        "outputId": "6b222003-eeff-46d6-c086-4cfbb34560f1"
      },
      "source": [
        "matrix_sampled.groupby('item').count()['rating'].describe()"
      ],
      "id": "Fa1J689p3mOi",
      "execution_count": 56,
      "outputs": [
        {
          "output_type": "execute_result",
          "data": {
            "text/plain": [
              "count    398964.000000\n",
              "mean          8.808261\n",
              "std          15.202336\n",
              "min           2.000000\n",
              "25%           2.000000\n",
              "50%           4.000000\n",
              "75%           9.000000\n",
              "max         346.000000\n",
              "Name: rating, dtype: float64"
            ]
          },
          "metadata": {
            "tags": []
          },
          "execution_count": 56
        }
      ]
    },
    {
      "cell_type": "code",
      "metadata": {
        "id": "tYWZcgEnyASj"
      },
      "source": [
        "matrix_sampled_merged = matrix_sampled.merge(topics_df, on='item')"
      ],
      "id": "tYWZcgEnyASj",
      "execution_count": 57,
      "outputs": []
    },
    {
      "cell_type": "markdown",
      "metadata": {
        "id": "tribal-batch"
      },
      "source": [
        "### Sample Users"
      ],
      "id": "tribal-batch"
    },
    {
      "cell_type": "code",
      "metadata": {
        "id": "YRKwgOyJdfQb"
      },
      "source": [
        "# no_users = 200\n",
        "# users_list = matrix_sampled.user.unique()\n",
        "# users_sampled = np.random.choice(users_list, replace=False, size=no_users)\n",
        "# matrix_sampled_agg = matrix_sampled.copy()\n",
        "# matrix_sampled_agg = matrix_sampled_agg.set_index('user')\n",
        "# matrix_sampled_agg = matrix_sampled_agg.loc[users_sampled]\n",
        "# matrix_sampled_agg = matrix_sampled_agg.reset_index()\n",
        "# matrix_sampled_agg = matrix_sampled_agg.sample(frac=1)"
      ],
      "id": "YRKwgOyJdfQb",
      "execution_count": 58,
      "outputs": []
    },
    {
      "cell_type": "markdown",
      "metadata": {
        "id": "qGp8lrRx2raQ"
      },
      "source": [
        "### Sample items\n"
      ],
      "id": "qGp8lrRx2raQ"
    },
    {
      "cell_type": "code",
      "metadata": {
        "id": "qXvEYoqP2kdR"
      },
      "source": [
        "# no_items = 10000\n",
        "# items_app_count = matrix_sampled_agg.groupby('item').count()['rating'].reset_index()\n",
        "# items_list = items_app_count.loc[items_app_count['rating'] > 8, 'item'].values\n",
        "# items_sampled = np.random.choice(items_list, replace=False, size=no_items)\n",
        "# matrix_sampled_agg = matrix_sampled_agg.set_index('item')\n",
        "# matrix_sampled_agg = matrix_sampled_agg.loc[items_sampled]\n",
        "# matrix_sampled_agg = matrix_sampled_agg.reset_index()\n",
        "# matrix_sampled_agg = matrix_sampled_agg.sample(frac=1)"
      ],
      "id": "qXvEYoqP2kdR",
      "execution_count": 59,
      "outputs": []
    },
    {
      "cell_type": "code",
      "metadata": {
        "id": "GlgOyabZiDQ7"
      },
      "source": [
        "matrix_sampled_merged['user_id'] = matrix_sampled_merged['user'].astype('category').cat.codes\n",
        "matrix_sampled_merged['item_id'] = matrix_sampled_merged['item'].astype('category').cat.codes"
      ],
      "id": "GlgOyabZiDQ7",
      "execution_count": 60,
      "outputs": []
    },
    {
      "cell_type": "code",
      "metadata": {
        "id": "eJKdudq4uizF"
      },
      "source": [
        "# from random import choices\n",
        "# indices_to_upsample = matrix_sampled_agg.index[matrix_sampled_agg['rating'] > 8].tolist()\n",
        "# indices_upsampled = choices(indices_to_upsample, k=len(indices_to_upsample) * 10)\n",
        "# samples_df = matrix_sampled_agg.loc[indices_upsampled]\n",
        "# matrix_sampled_agg = pd.concat([matrix_sampled_agg, samples_df], axis=0)"
      ],
      "id": "eJKdudq4uizF",
      "execution_count": 61,
      "outputs": []
    },
    {
      "cell_type": "code",
      "metadata": {
        "id": "lyric-crash"
      },
      "source": [
        "X = matrix_sampled_merged[['user_id', \n",
        "              'item_id',\n",
        "              'danceability',\n",
        "              'energy',\n",
        "              'speechiness', \n",
        "              'acousticness', \n",
        "              'instrumentalness', \n",
        "              'liveness',\n",
        "              'valence', \n",
        "              'tempo', \n",
        "              'popularity', \n",
        "              'emb_x', \n",
        "              'emb_y',\n",
        "              'emb_z',\n",
        "              'topic_1',\n",
        "              'topic_2',\n",
        "              'topic_3',\n",
        "              'topic_4',\n",
        "              'topic_5',\n",
        "              'topic_6']]\n",
        "y = matrix_sampled_merged['rating']\n",
        "groups = matrix_sampled_merged['user_id']"
      ],
      "id": "lyric-crash",
      "execution_count": 62,
      "outputs": []
    },
    {
      "cell_type": "code",
      "metadata": {
        "id": "u9fH9eU9H24Q",
        "outputId": "53da13bf-561c-441b-8dbe-7de9e5e83979",
        "colab": {
          "base_uri": "https://localhost:8080/"
        }
      },
      "source": [
        "(y == 3).sum() / len(y)"
      ],
      "id": "u9fH9eU9H24Q",
      "execution_count": 63,
      "outputs": [
        {
          "output_type": "execute_result",
          "data": {
            "text/plain": [
              "0.4455289776673297"
            ]
          },
          "metadata": {
            "tags": []
          },
          "execution_count": 63
        }
      ]
    },
    {
      "cell_type": "code",
      "metadata": {
        "id": "divine-boston"
      },
      "source": [
        "# Change splitting to be by index using https://stackoverflow.com/questions/53490497/getting-validation-set-from-train-set-by-using-percentage-from-groupby-in-pand\n",
        "X_train, X_test, y_train, y_test = train_test_split(X, y, test_size=0.2, stratify=groups)"
      ],
      "id": "divine-boston",
      "execution_count": 64,
      "outputs": []
    },
    {
      "cell_type": "code",
      "metadata": {
        "id": "organic-irish"
      },
      "source": [
        "no_users, no_items, no_factors = matrix_sampled_merged['user_id'].nunique(), matrix_sampled_merged['item_id'].nunique(), 100"
      ],
      "id": "organic-irish",
      "execution_count": 65,
      "outputs": []
    },
    {
      "cell_type": "code",
      "metadata": {
        "colab": {
          "base_uri": "https://localhost:8080/"
        },
        "id": "BzGeolQgIrYM",
        "outputId": "db77ebf9-09f7-43c0-ea63-3733742f026c"
      },
      "source": [
        "no_users"
      ],
      "id": "BzGeolQgIrYM",
      "execution_count": 66,
      "outputs": [
        {
          "output_type": "execute_result",
          "data": {
            "text/plain": [
              "991"
            ]
          },
          "metadata": {
            "tags": []
          },
          "execution_count": 66
        }
      ]
    },
    {
      "cell_type": "code",
      "metadata": {
        "colab": {
          "base_uri": "https://localhost:8080/"
        },
        "id": "oK5iQ0TdIssx",
        "outputId": "a2af1b38-90c0-4189-e017-7759a2267d5e"
      },
      "source": [
        "no_items"
      ],
      "id": "oK5iQ0TdIssx",
      "execution_count": 67,
      "outputs": [
        {
          "output_type": "execute_result",
          "data": {
            "text/plain": [
              "252706"
            ]
          },
          "metadata": {
            "tags": []
          },
          "execution_count": 67
        }
      ]
    },
    {
      "cell_type": "code",
      "metadata": {
        "colab": {
          "base_uri": "https://localhost:8080/"
        },
        "id": "aHCn-jhE0tNx",
        "outputId": "5814d0cc-4a67-4f8e-ae4e-703a3422a20a"
      },
      "source": [
        "X.shape"
      ],
      "id": "aHCn-jhE0tNx",
      "execution_count": 68,
      "outputs": [
        {
          "output_type": "execute_result",
          "data": {
            "text/plain": [
              "(2751619, 20)"
            ]
          },
          "metadata": {
            "tags": []
          },
          "execution_count": 68
        }
      ]
    },
    {
      "cell_type": "markdown",
      "metadata": {
        "id": "super-dynamics"
      },
      "source": [
        "### Models"
      ],
      "id": "super-dynamics"
    },
    {
      "cell_type": "code",
      "metadata": {
        "id": "guilty-louisiana"
      },
      "source": [
        "def create_shallow_model(no_factors, no_users, no_items):\n",
        "    # User branch\n",
        "    user_id = tf.keras.layers.Input(shape=[1], name='user_id')\n",
        "    user_matrix = tf.keras.layers.Embedding(no_users+1, no_factors, name='user_matrix')(user_id)\n",
        "    user_vector = tf.keras.layers.Flatten(name='user_vector')(user_matrix)\n",
        "    # Item branch\n",
        "    item_id = tf.keras.layers.Input(shape=[1], name='item_id')\n",
        "    item_matrix = tf.keras.layers.Embedding(no_items+1, no_factors, name='item_matrix')(item_id)\n",
        "    item_vector = tf.keras.layers.Flatten(name='item_vector')(item_matrix)\n",
        "    # Dot product \n",
        "    vectors_product = tf.keras.layers.dot([user_vector, item_vector], axes=1, normalize=False)\n",
        "    # Model definition\n",
        "    model = tf.keras.models.Model(inputs=[user_id, item_id], outputs=[vectors_product], name='shallow_model')\n",
        "    return model"
      ],
      "id": "guilty-louisiana",
      "execution_count": 69,
      "outputs": []
    },
    {
      "cell_type": "code",
      "metadata": {
        "id": "needed-energy"
      },
      "source": [
        "model = create_shallow_model(no_factors, no_users, no_items)"
      ],
      "id": "needed-energy",
      "execution_count": 70,
      "outputs": []
    },
    {
      "cell_type": "code",
      "metadata": {
        "id": "concrete-mediterranean",
        "colab": {
          "base_uri": "https://localhost:8080/"
        },
        "outputId": "8a5998b3-e5fd-4a3d-dddd-ec83269078f4"
      },
      "source": [
        "model.summary()"
      ],
      "id": "concrete-mediterranean",
      "execution_count": 71,
      "outputs": [
        {
          "output_type": "stream",
          "text": [
            "Model: \"shallow_model\"\n",
            "__________________________________________________________________________________________________\n",
            "Layer (type)                    Output Shape         Param #     Connected to                     \n",
            "==================================================================================================\n",
            "user_id (InputLayer)            [(None, 1)]          0                                            \n",
            "__________________________________________________________________________________________________\n",
            "item_id (InputLayer)            [(None, 1)]          0                                            \n",
            "__________________________________________________________________________________________________\n",
            "user_matrix (Embedding)         (None, 1, 100)       99200       user_id[0][0]                    \n",
            "__________________________________________________________________________________________________\n",
            "item_matrix (Embedding)         (None, 1, 100)       25270700    item_id[0][0]                    \n",
            "__________________________________________________________________________________________________\n",
            "user_vector (Flatten)           (None, 100)          0           user_matrix[0][0]                \n",
            "__________________________________________________________________________________________________\n",
            "item_vector (Flatten)           (None, 100)          0           item_matrix[0][0]                \n",
            "__________________________________________________________________________________________________\n",
            "dot (Dot)                       (None, 1)            0           user_vector[0][0]                \n",
            "                                                                 item_vector[0][0]                \n",
            "==================================================================================================\n",
            "Total params: 25,369,900\n",
            "Trainable params: 25,369,900\n",
            "Non-trainable params: 0\n",
            "__________________________________________________________________________________________________\n"
          ],
          "name": "stdout"
        }
      ]
    },
    {
      "cell_type": "code",
      "metadata": {
        "id": "million-delaware"
      },
      "source": [
        "def create_deep_model(no_factors, no_users, no_items):\n",
        "    all_input = tf.keras.layers.Input(shape=[20], name='input')\n",
        "    input_reshaped = tf.keras.layers.Reshape((20,1), input_shape=(20,))(all_input)\n",
        "\n",
        "    # Process input\n",
        "    user_id_vec = tf.keras.layers.Cropping1D(cropping=(0,19))(input_reshaped)\n",
        "    user_id = tf.keras.layers.Reshape((1,), input_shape=(1,1))(user_id_vec)\n",
        "\n",
        "    item_id_vec = tf.keras.layers.Cropping1D(cropping=(1,18))(input_reshaped)\n",
        "    item_id = tf.keras.layers.Reshape((1,), input_shape=(1,1))(item_id_vec)\n",
        "    # User branch\n",
        "    user_matrix = tf.keras.layers.Embedding(no_users+1, no_factors, name='user_matrix')(user_id)\n",
        "    user_vector = tf.keras.layers.Flatten(name='user_vector')(user_matrix)\n",
        "    # Item branch\n",
        "    item_matrix = tf.keras.layers.Embedding(no_items+1, no_factors, name='item_matrix')(item_id)\n",
        "    item_vector = tf.keras.layers.Flatten(name='item_vector')(item_matrix)\n",
        "    # Concantenation\n",
        "    vectors_concat = tf.keras.layers.Concatenate()([user_vector, item_vector])\n",
        "    vectors_concat_dropout = tf.keras.layers.Dropout(0.2)(vectors_concat)\n",
        "    # Backbone \n",
        "    dense_1 = tf.keras.layers.Dense(64,name='fc3')(vectors_concat_dropout)\n",
        "    dropout_1 = tf.keras.layers.Dropout(0.2,name='d3')(dense_1)\n",
        "    dense_2 = tf.keras.layers.Dense(32,name='fc4', activation='relu')(dropout_1)\n",
        "    dropout_2 = tf.keras.layers.Dropout(0.2,name='d4')(dense_2)\n",
        "    dense_3 = tf.keras.layers.Dense(16,name='fc5', activation='relu')(dropout_2)\n",
        "    dropout_3 = tf.keras.layers.Dropout(0.2,name='d5')(dense_3)\n",
        "    dense_4 = tf.keras.layers.Dense(8,name='fc6', activation='relu')(dropout_3)\n",
        "    dense_4_output = tf.keras.layers.Dense(1, activation='relu', name='activation')(dense_4)\n",
        "    # Model definition\n",
        "    model = tf.keras.models.Model(inputs=[all_input], outputs=[dense_4_output], name='deep_model')\n",
        "    return model"
      ],
      "id": "million-delaware",
      "execution_count": 72,
      "outputs": []
    },
    {
      "cell_type": "code",
      "metadata": {
        "id": "TUwPHkkm004I"
      },
      "source": [
        "def create_deep_hybird_model(no_factors, no_users, no_items):\n",
        "    all_input = tf.keras.layers.Input(shape=[20], name='input')\n",
        "    input_reshaped = tf.keras.layers.Reshape((20,1), input_shape=(20,))(all_input)\n",
        "\n",
        "    # Process input\n",
        "    user_id_vec = tf.keras.layers.Cropping1D(cropping=(0,19))(input_reshaped)\n",
        "    user_id = tf.keras.layers.Reshape((1,), input_shape=(1,1))(user_id_vec)\n",
        "\n",
        "    item_id_vec = tf.keras.layers.Cropping1D(cropping=(1,18))(input_reshaped)\n",
        "    item_id = tf.keras.layers.Reshape((1,), input_shape=(1,1))(item_id_vec)\n",
        "\n",
        "    metadata_vec = tf.keras.layers.Cropping1D(cropping=(2,0))(input_reshaped)\n",
        "    metadata = tf.keras.layers.Reshape((18,), input_shape=(18,1))(metadata_vec)\n",
        "\n",
        "    # User branch\n",
        "    user_matrix = tf.keras.layers.Embedding(no_users+1, no_factors, name='user_matrix')(user_id)\n",
        "    user_vector = tf.keras.layers.Flatten(name='user_vector')(user_matrix)\n",
        "    # Item branch\n",
        "    item_matrix = tf.keras.layers.Embedding(no_items+1, no_factors, name='item_matrix')(item_id)\n",
        "    item_vector = tf.keras.layers.Flatten(name='item_vector')(item_matrix)\n",
        "    # Concantenation\n",
        "    vectors_concat = tf.keras.layers.Concatenate()([user_vector, item_vector])\n",
        "    vectors_concat_dropout = tf.keras.layers.Dropout(0.2)(vectors_concat)\n",
        "    # Preprocess metadata\n",
        "    dense_meta_1 = tf.keras.layers.Dense(12,name='fc1')(metadata)\n",
        "    dense_meta_2 = tf.keras.layers.Dense(8,name='fc2')(dense_meta_1)\n",
        "    # Metadata concat\n",
        "    vectors_concat_meta = tf.keras.layers.Concatenate() ([vectors_concat_dropout, dense_meta_2])\n",
        "    # Backbone \n",
        "    dense_1 = tf.keras.layers.Dense(256,name='fc3')(vectors_concat_meta)\n",
        "    dropout_1 = tf.keras.layers.Dropout(0.2,name='d3')(dense_1)\n",
        "    dense_2 = tf.keras.layers.Dense(128,name='fc4', activation='relu')(dropout_1)\n",
        "    dropout_2 = tf.keras.layers.Dropout(0.2,name='d4')(dense_2)\n",
        "    dense_3 = tf.keras.layers.Dense(64,name='fc5', activation='relu')(dropout_2)\n",
        "    dropout_3 = tf.keras.layers.Dropout(0.2,name='d5')(dense_3)\n",
        "    dense_4 = tf.keras.layers.Dense(32,name='fc6', activation='relu')(dropout_3)\n",
        "    dropout_4 = tf.keras.layers.Dropout(0.2,name='d6')(dense_4)\n",
        "    dense_5 = tf.keras.layers.Dense(16,name='fc7', activation='relu')(dropout_4)\n",
        "    dropout_5 = tf.keras.layers.Dropout(0.2,name='d7')(dense_5)\n",
        "    dense_6 = tf.keras.layers.Dense(8,name='fc8', activation='relu')(dropout_5)    \n",
        "    dense_6_output = tf.keras.layers.Dense(1, activation='relu', name='activation')(dense_6)\n",
        "    # Model definition\n",
        "    model = tf.keras.models.Model(inputs=[all_input], outputs=[dense_6_output], name='deep_model')\n",
        "    return model"
      ],
      "id": "TUwPHkkm004I",
      "execution_count": 73,
      "outputs": []
    },
    {
      "cell_type": "code",
      "metadata": {
        "id": "canadian-boulder"
      },
      "source": [
        "model = create_deep_model(no_factors, no_users, no_items)"
      ],
      "id": "canadian-boulder",
      "execution_count": 74,
      "outputs": []
    },
    {
      "cell_type": "code",
      "metadata": {
        "colab": {
          "base_uri": "https://localhost:8080/"
        },
        "id": "ZLjAekay3bs3",
        "outputId": "e5851e40-0d23-4334-f578-f60724533280"
      },
      "source": [
        "model = create_deep_hybird_model(no_factors, no_users, no_items)\n",
        "model.summary()"
      ],
      "id": "ZLjAekay3bs3",
      "execution_count": 76,
      "outputs": [
        {
          "output_type": "stream",
          "text": [
            "Model: \"deep_model\"\n",
            "__________________________________________________________________________________________________\n",
            "Layer (type)                    Output Shape         Param #     Connected to                     \n",
            "==================================================================================================\n",
            "input (InputLayer)              [(None, 20)]         0                                            \n",
            "__________________________________________________________________________________________________\n",
            "reshape_7 (Reshape)             (None, 20, 1)        0           input[0][0]                      \n",
            "__________________________________________________________________________________________________\n",
            "cropping1d_5 (Cropping1D)       (None, 1, 1)         0           reshape_7[0][0]                  \n",
            "__________________________________________________________________________________________________\n",
            "cropping1d_6 (Cropping1D)       (None, 1, 1)         0           reshape_7[0][0]                  \n",
            "__________________________________________________________________________________________________\n",
            "reshape_8 (Reshape)             (None, 1)            0           cropping1d_5[0][0]               \n",
            "__________________________________________________________________________________________________\n",
            "reshape_9 (Reshape)             (None, 1)            0           cropping1d_6[0][0]               \n",
            "__________________________________________________________________________________________________\n",
            "user_matrix (Embedding)         (None, 1, 100)       99200       reshape_8[0][0]                  \n",
            "__________________________________________________________________________________________________\n",
            "item_matrix (Embedding)         (None, 1, 100)       25270700    reshape_9[0][0]                  \n",
            "__________________________________________________________________________________________________\n",
            "cropping1d_7 (Cropping1D)       (None, 18, 1)        0           reshape_7[0][0]                  \n",
            "__________________________________________________________________________________________________\n",
            "user_vector (Flatten)           (None, 100)          0           user_matrix[0][0]                \n",
            "__________________________________________________________________________________________________\n",
            "item_vector (Flatten)           (None, 100)          0           item_matrix[0][0]                \n",
            "__________________________________________________________________________________________________\n",
            "reshape_10 (Reshape)            (None, 18)           0           cropping1d_7[0][0]               \n",
            "__________________________________________________________________________________________________\n",
            "concatenate_3 (Concatenate)     (None, 200)          0           user_vector[0][0]                \n",
            "                                                                 item_vector[0][0]                \n",
            "__________________________________________________________________________________________________\n",
            "fc1 (Dense)                     (None, 12)           228         reshape_10[0][0]                 \n",
            "__________________________________________________________________________________________________\n",
            "dropout_2 (Dropout)             (None, 200)          0           concatenate_3[0][0]              \n",
            "__________________________________________________________________________________________________\n",
            "fc2 (Dense)                     (None, 8)            104         fc1[0][0]                        \n",
            "__________________________________________________________________________________________________\n",
            "concatenate_4 (Concatenate)     (None, 208)          0           dropout_2[0][0]                  \n",
            "                                                                 fc2[0][0]                        \n",
            "__________________________________________________________________________________________________\n",
            "fc3 (Dense)                     (None, 256)          53504       concatenate_4[0][0]              \n",
            "__________________________________________________________________________________________________\n",
            "d3 (Dropout)                    (None, 256)          0           fc3[0][0]                        \n",
            "__________________________________________________________________________________________________\n",
            "fc4 (Dense)                     (None, 128)          32896       d3[0][0]                         \n",
            "__________________________________________________________________________________________________\n",
            "d4 (Dropout)                    (None, 128)          0           fc4[0][0]                        \n",
            "__________________________________________________________________________________________________\n",
            "fc5 (Dense)                     (None, 64)           8256        d4[0][0]                         \n",
            "__________________________________________________________________________________________________\n",
            "d5 (Dropout)                    (None, 64)           0           fc5[0][0]                        \n",
            "__________________________________________________________________________________________________\n",
            "fc6 (Dense)                     (None, 32)           2080        d5[0][0]                         \n",
            "__________________________________________________________________________________________________\n",
            "d6 (Dropout)                    (None, 32)           0           fc6[0][0]                        \n",
            "__________________________________________________________________________________________________\n",
            "fc7 (Dense)                     (None, 16)           528         d6[0][0]                         \n",
            "__________________________________________________________________________________________________\n",
            "d7 (Dropout)                    (None, 16)           0           fc7[0][0]                        \n",
            "__________________________________________________________________________________________________\n",
            "fc8 (Dense)                     (None, 8)            136         d7[0][0]                         \n",
            "__________________________________________________________________________________________________\n",
            "activation (Dense)              (None, 1)            9           fc8[0][0]                        \n",
            "==================================================================================================\n",
            "Total params: 25,467,641\n",
            "Trainable params: 25,467,641\n",
            "Non-trainable params: 0\n",
            "__________________________________________________________________________________________________\n"
          ],
          "name": "stdout"
        }
      ]
    },
    {
      "cell_type": "markdown",
      "metadata": {
        "id": "minute-manual"
      },
      "source": [
        "### Model training"
      ],
      "id": "minute-manual"
    },
    {
      "cell_type": "code",
      "metadata": {
        "id": "confident-conviction",
        "colab": {
          "base_uri": "https://localhost:8080/"
        },
        "outputId": "17cbda14-9e72-49fd-921d-15fc79bcdbe3"
      },
      "source": [
        "# Input-output data definition\n",
        " \n",
        "# X_train_arr = X_train.values.tolist()\n",
        "# Try a decaying learning rate\n",
        "\n",
        "lr_schedule = tf.keras.optimizers.schedules.ExponentialDecay(\n",
        "    initial_learning_rate=1e-2,\n",
        "    decay_steps=1800,\n",
        "    decay_rate=0.1)\n",
        "\n",
        "opt = tf.keras.optimizers.RMSprop()#learning_rate=lr_schedule)\n",
        "\n",
        "# Model creation\n",
        "model = create_deep_hybird_model(no_factors, no_users, no_items)\n",
        "\n",
        "# callback = tf.keras.callbacks.EarlyStopping(monitor='loss', patience=2, min_delta=0.2)model.fit(callbacks=[callback],)\n",
        "\n",
        "# Model compiling \n",
        "model.compile(loss=tf.keras.losses.MeanSquaredError(), optimizer=opt)\n",
        "\n",
        "# Model training\n",
        "model.fit(X_train, y_train, epochs=30, batch_size=2048, shuffle=True)"
      ],
      "id": "confident-conviction",
      "execution_count": 77,
      "outputs": [
        {
          "output_type": "stream",
          "text": [
            "Epoch 1/30\n",
            "1075/1075 [==============================] - 95s 87ms/step - loss: 3.2052\n",
            "Epoch 2/30\n",
            "1075/1075 [==============================] - 89s 83ms/step - loss: 2.1094\n",
            "Epoch 3/30\n",
            "1075/1075 [==============================] - 90s 84ms/step - loss: 1.9639\n",
            "Epoch 4/30\n",
            "1075/1075 [==============================] - 89s 83ms/step - loss: 1.9071\n",
            "Epoch 5/30\n",
            "1075/1075 [==============================] - 89s 83ms/step - loss: 1.8779\n",
            "Epoch 6/30\n",
            "1075/1075 [==============================] - 91s 85ms/step - loss: 1.8502\n",
            "Epoch 7/30\n",
            "1075/1075 [==============================] - 89s 83ms/step - loss: 1.8191\n",
            "Epoch 8/30\n",
            "1075/1075 [==============================] - 97s 90ms/step - loss: 1.7875\n",
            "Epoch 9/30\n",
            "1075/1075 [==============================] - 96s 89ms/step - loss: 1.7533\n",
            "Epoch 10/30\n",
            "1075/1075 [==============================] - 96s 89ms/step - loss: 1.7185\n",
            "Epoch 11/30\n",
            "1075/1075 [==============================] - 95s 89ms/step - loss: 1.6816\n",
            "Epoch 12/30\n",
            "1075/1075 [==============================] - 95s 89ms/step - loss: 1.6435\n",
            "Epoch 13/30\n",
            "1075/1075 [==============================] - 95s 89ms/step - loss: 1.6066\n",
            "Epoch 14/30\n",
            "1075/1075 [==============================] - 95s 88ms/step - loss: 1.5710\n",
            "Epoch 15/30\n",
            "1075/1075 [==============================] - 91s 85ms/step - loss: 1.5399\n",
            "Epoch 16/30\n",
            "1075/1075 [==============================] - 82s 77ms/step - loss: 1.5091\n",
            "Epoch 17/30\n",
            "1075/1075 [==============================] - 81s 75ms/step - loss: 1.4818\n",
            "Epoch 18/30\n",
            "1075/1075 [==============================] - 81s 75ms/step - loss: 1.4563\n",
            "Epoch 19/30\n",
            "1075/1075 [==============================] - 81s 75ms/step - loss: 1.4333\n",
            "Epoch 20/30\n",
            "1075/1075 [==============================] - 80s 75ms/step - loss: 1.4113\n",
            "Epoch 21/30\n",
            "1075/1075 [==============================] - 81s 75ms/step - loss: 1.3905\n",
            "Epoch 22/30\n",
            "1075/1075 [==============================] - 81s 75ms/step - loss: 1.3702\n",
            "Epoch 23/30\n",
            "1075/1075 [==============================] - 80s 74ms/step - loss: 1.3527\n",
            "Epoch 24/30\n",
            "1075/1075 [==============================] - 80s 74ms/step - loss: 1.3356\n",
            "Epoch 25/30\n",
            "1075/1075 [==============================] - 80s 74ms/step - loss: 1.3192\n",
            "Epoch 26/30\n",
            "1075/1075 [==============================] - 80s 75ms/step - loss: 1.3049\n",
            "Epoch 27/30\n",
            "1075/1075 [==============================] - 80s 75ms/step - loss: 1.2903\n",
            "Epoch 28/30\n",
            "1075/1075 [==============================] - 80s 75ms/step - loss: 1.2754\n",
            "Epoch 29/30\n",
            "1075/1075 [==============================] - 80s 75ms/step - loss: 1.2632\n",
            "Epoch 30/30\n",
            "1075/1075 [==============================] - 81s 75ms/step - loss: 1.2482\n"
          ],
          "name": "stdout"
        },
        {
          "output_type": "execute_result",
          "data": {
            "text/plain": [
              "<tensorflow.python.keras.callbacks.History at 0x7fc848acd810>"
            ]
          },
          "metadata": {
            "tags": []
          },
          "execution_count": 77
        }
      ]
    },
    {
      "cell_type": "markdown",
      "metadata": {
        "id": "separate-magic"
      },
      "source": [
        "### Prediction"
      ],
      "id": "separate-magic"
    },
    {
      "cell_type": "code",
      "metadata": {
        "id": "atlantic-maria"
      },
      "source": [
        "# Predictions in the training set\n",
        "# X_train = [X_train.user_id, X_train.item_id]\n",
        "y_train_pred = model.predict(X_train, batch_size=2048)"
      ],
      "id": "atlantic-maria",
      "execution_count": 78,
      "outputs": []
    },
    {
      "cell_type": "code",
      "metadata": {
        "id": "6IC4nrL_tcJ6",
        "colab": {
          "base_uri": "https://localhost:8080/",
          "height": 224
        },
        "outputId": "9b87f9ad-237c-4a30-af2d-2b11d8924c84"
      },
      "source": [
        "X_test.head()"
      ],
      "id": "6IC4nrL_tcJ6",
      "execution_count": 79,
      "outputs": [
        {
          "output_type": "execute_result",
          "data": {
            "text/html": [
              "<div>\n",
              "<style scoped>\n",
              "    .dataframe tbody tr th:only-of-type {\n",
              "        vertical-align: middle;\n",
              "    }\n",
              "\n",
              "    .dataframe tbody tr th {\n",
              "        vertical-align: top;\n",
              "    }\n",
              "\n",
              "    .dataframe thead th {\n",
              "        text-align: right;\n",
              "    }\n",
              "</style>\n",
              "<table border=\"1\" class=\"dataframe\">\n",
              "  <thead>\n",
              "    <tr style=\"text-align: right;\">\n",
              "      <th></th>\n",
              "      <th>user_id</th>\n",
              "      <th>item_id</th>\n",
              "      <th>danceability</th>\n",
              "      <th>energy</th>\n",
              "      <th>speechiness</th>\n",
              "      <th>acousticness</th>\n",
              "      <th>instrumentalness</th>\n",
              "      <th>liveness</th>\n",
              "      <th>valence</th>\n",
              "      <th>tempo</th>\n",
              "      <th>popularity</th>\n",
              "      <th>emb_x</th>\n",
              "      <th>emb_y</th>\n",
              "      <th>emb_z</th>\n",
              "      <th>topic_1</th>\n",
              "      <th>topic_2</th>\n",
              "      <th>topic_3</th>\n",
              "      <th>topic_4</th>\n",
              "      <th>topic_5</th>\n",
              "      <th>topic_6</th>\n",
              "    </tr>\n",
              "  </thead>\n",
              "  <tbody>\n",
              "    <tr>\n",
              "      <th>2305625</th>\n",
              "      <td>286</td>\n",
              "      <td>182783</td>\n",
              "      <td>0.548</td>\n",
              "      <td>0.939</td>\n",
              "      <td>0.0375</td>\n",
              "      <td>0.000033</td>\n",
              "      <td>0.000000</td>\n",
              "      <td>0.105</td>\n",
              "      <td>0.932</td>\n",
              "      <td>97.831</td>\n",
              "      <td>57</td>\n",
              "      <td>6.612877</td>\n",
              "      <td>8.703812</td>\n",
              "      <td>0.159284</td>\n",
              "      <td>0.188944</td>\n",
              "      <td>0.387707</td>\n",
              "      <td>0.102878</td>\n",
              "      <td>0.263077</td>\n",
              "      <td>0.022362</td>\n",
              "      <td>0.035032</td>\n",
              "    </tr>\n",
              "    <tr>\n",
              "      <th>1795256</th>\n",
              "      <td>699</td>\n",
              "      <td>117764</td>\n",
              "      <td>0.414</td>\n",
              "      <td>0.161</td>\n",
              "      <td>0.0318</td>\n",
              "      <td>0.883000</td>\n",
              "      <td>0.000223</td>\n",
              "      <td>0.117</td>\n",
              "      <td>0.423</td>\n",
              "      <td>159.375</td>\n",
              "      <td>85</td>\n",
              "      <td>4.887194</td>\n",
              "      <td>7.649307</td>\n",
              "      <td>0.844728</td>\n",
              "      <td>0.188531</td>\n",
              "      <td>0.031474</td>\n",
              "      <td>0.020742</td>\n",
              "      <td>0.019825</td>\n",
              "      <td>0.088688</td>\n",
              "      <td>0.650740</td>\n",
              "    </tr>\n",
              "    <tr>\n",
              "      <th>2382492</th>\n",
              "      <td>252</td>\n",
              "      <td>4900</td>\n",
              "      <td>0.524</td>\n",
              "      <td>0.558</td>\n",
              "      <td>0.0308</td>\n",
              "      <td>0.065800</td>\n",
              "      <td>0.671000</td>\n",
              "      <td>0.103</td>\n",
              "      <td>0.145</td>\n",
              "      <td>132.049</td>\n",
              "      <td>43</td>\n",
              "      <td>7.614724</td>\n",
              "      <td>7.580137</td>\n",
              "      <td>1.357206</td>\n",
              "      <td>0.413237</td>\n",
              "      <td>0.030928</td>\n",
              "      <td>0.394081</td>\n",
              "      <td>0.026864</td>\n",
              "      <td>0.025925</td>\n",
              "      <td>0.108964</td>\n",
              "    </tr>\n",
              "    <tr>\n",
              "      <th>1962633</th>\n",
              "      <td>226</td>\n",
              "      <td>39217</td>\n",
              "      <td>0.595</td>\n",
              "      <td>0.709</td>\n",
              "      <td>0.0337</td>\n",
              "      <td>0.018700</td>\n",
              "      <td>0.002930</td>\n",
              "      <td>0.131</td>\n",
              "      <td>0.759</td>\n",
              "      <td>145.447</td>\n",
              "      <td>32</td>\n",
              "      <td>6.785480</td>\n",
              "      <td>8.212117</td>\n",
              "      <td>-0.411513</td>\n",
              "      <td>0.052834</td>\n",
              "      <td>0.215678</td>\n",
              "      <td>0.026748</td>\n",
              "      <td>0.239018</td>\n",
              "      <td>0.159947</td>\n",
              "      <td>0.305776</td>\n",
              "    </tr>\n",
              "    <tr>\n",
              "      <th>2033580</th>\n",
              "      <td>571</td>\n",
              "      <td>235352</td>\n",
              "      <td>0.649</td>\n",
              "      <td>0.571</td>\n",
              "      <td>0.0242</td>\n",
              "      <td>0.385000</td>\n",
              "      <td>0.000000</td>\n",
              "      <td>0.135</td>\n",
              "      <td>0.344</td>\n",
              "      <td>78.978</td>\n",
              "      <td>69</td>\n",
              "      <td>5.809994</td>\n",
              "      <td>5.577857</td>\n",
              "      <td>-0.253643</td>\n",
              "      <td>0.101402</td>\n",
              "      <td>0.013793</td>\n",
              "      <td>0.000000</td>\n",
              "      <td>0.000000</td>\n",
              "      <td>0.568102</td>\n",
              "      <td>0.298371</td>\n",
              "    </tr>\n",
              "  </tbody>\n",
              "</table>\n",
              "</div>"
            ],
            "text/plain": [
              "         user_id  item_id  danceability  ...   topic_4   topic_5   topic_6\n",
              "2305625      286   182783         0.548  ...  0.263077  0.022362  0.035032\n",
              "1795256      699   117764         0.414  ...  0.019825  0.088688  0.650740\n",
              "2382492      252     4900         0.524  ...  0.026864  0.025925  0.108964\n",
              "1962633      226    39217         0.595  ...  0.239018  0.159947  0.305776\n",
              "2033580      571   235352         0.649  ...  0.000000  0.568102  0.298371\n",
              "\n",
              "[5 rows x 20 columns]"
            ]
          },
          "metadata": {
            "tags": []
          },
          "execution_count": 79
        }
      ]
    },
    {
      "cell_type": "code",
      "metadata": {
        "id": "smoking-apparel"
      },
      "source": [
        "# Predictions in the test set\n",
        "# X_test_arr = [X_test.user_id, X_test.item_id]\n",
        "y_test_pred = model.predict(X_test, batch_size=2048)"
      ],
      "id": "smoking-apparel",
      "execution_count": 80,
      "outputs": []
    },
    {
      "cell_type": "markdown",
      "metadata": {
        "id": "single-gospel"
      },
      "source": [
        "### Evaluation"
      ],
      "id": "single-gospel"
    },
    {
      "cell_type": "code",
      "metadata": {
        "id": "hired-webcam",
        "colab": {
          "base_uri": "https://localhost:8080/"
        },
        "outputId": "85facb7e-5d86-4b97-c905-14381b2b40c8"
      },
      "source": [
        "from sklearn.metrics import mean_squared_error\n",
        "print('Train RMSE:', mean_squared_error(y_train.values, y_train_pred, squared=False))\n",
        "print('Test RMSE:', mean_squared_error(y_test.values, y_test_pred, squared=False))"
      ],
      "id": "hired-webcam",
      "execution_count": 81,
      "outputs": [
        {
          "output_type": "stream",
          "text": [
            "Train RMSE: 1.1715028659039088\n",
            "Test RMSE: 1.4436997964456328\n"
          ],
          "name": "stdout"
        }
      ]
    },
    {
      "cell_type": "code",
      "metadata": {
        "id": "K_Pljoaoz-jo"
      },
      "source": [
        "def get_test_predictions(model, X_test):\n",
        "  predictions_li = []\n",
        "  for user_id, test_user in tqdm(X_test.groupby('user_id'), position=0, leave=True):    \n",
        "    # Retrieve the unseen items\n",
        "    user_df = test_user[['item_id', 'rating']].copy()\n",
        "    test_pids = user_df['item_id'].values\n",
        "    relevant_pids = set(user_df.loc[user_df['rating'] > 1, 'item_id'].values)\n",
        "    if len(relevant_pids) == 0:\n",
        "      continue\n",
        "    # Make rating predictions for all items for that user\n",
        "    predictions = model.predict(test_user.drop(columns=['rating']), batch_size=2048)\n",
        "    # predictions = pred_func(model, user_id, pid_array, train_ratings)\n",
        "    predictions = predictions.reshape(-1)\n",
        "    irrelevant_pids = set(test_pids).difference(relevant_pids)\n",
        "    predictions_relevant = predictions[user_df['rating'] > 3.5]\n",
        "    predictions_irrelevant = predictions[user_df['rating'] <= 3.5]\n",
        "    predictions_dict = {'user_id': user_id,\n",
        "                        'predictions': predictions,\n",
        "                        'test_pids': test_pids,\n",
        "                        'relevant_pids': relevant_pids,\n",
        "                        'irrelevant_pids': irrelevant_pids,\n",
        "                        'predictions_relevant': predictions_relevant,\n",
        "                        'predictions_irrelevant': predictions_irrelevant}\n",
        "    predictions_li.append(predictions_dict)\n",
        "\n",
        "  return pd.DataFrame(predictions_li)\n"
      ],
      "id": "K_Pljoaoz-jo",
      "execution_count": 84,
      "outputs": []
    },
    {
      "cell_type": "code",
      "metadata": {
        "colab": {
          "base_uri": "https://localhost:8080/",
          "height": 224
        },
        "id": "DWS4A9h4V2Ws",
        "outputId": "718ff1e6-b1b7-49c0-84f5-ef1ebe3d0ba1"
      },
      "source": [
        "X_test.head()"
      ],
      "id": "DWS4A9h4V2Ws",
      "execution_count": 85,
      "outputs": [
        {
          "output_type": "execute_result",
          "data": {
            "text/html": [
              "<div>\n",
              "<style scoped>\n",
              "    .dataframe tbody tr th:only-of-type {\n",
              "        vertical-align: middle;\n",
              "    }\n",
              "\n",
              "    .dataframe tbody tr th {\n",
              "        vertical-align: top;\n",
              "    }\n",
              "\n",
              "    .dataframe thead th {\n",
              "        text-align: right;\n",
              "    }\n",
              "</style>\n",
              "<table border=\"1\" class=\"dataframe\">\n",
              "  <thead>\n",
              "    <tr style=\"text-align: right;\">\n",
              "      <th></th>\n",
              "      <th>user_id</th>\n",
              "      <th>item_id</th>\n",
              "      <th>danceability</th>\n",
              "      <th>energy</th>\n",
              "      <th>speechiness</th>\n",
              "      <th>acousticness</th>\n",
              "      <th>instrumentalness</th>\n",
              "      <th>liveness</th>\n",
              "      <th>valence</th>\n",
              "      <th>tempo</th>\n",
              "      <th>popularity</th>\n",
              "      <th>emb_x</th>\n",
              "      <th>emb_y</th>\n",
              "      <th>emb_z</th>\n",
              "      <th>topic_1</th>\n",
              "      <th>topic_2</th>\n",
              "      <th>topic_3</th>\n",
              "      <th>topic_4</th>\n",
              "      <th>topic_5</th>\n",
              "      <th>topic_6</th>\n",
              "    </tr>\n",
              "  </thead>\n",
              "  <tbody>\n",
              "    <tr>\n",
              "      <th>2305625</th>\n",
              "      <td>286</td>\n",
              "      <td>182783</td>\n",
              "      <td>0.548</td>\n",
              "      <td>0.939</td>\n",
              "      <td>0.0375</td>\n",
              "      <td>0.000033</td>\n",
              "      <td>0.000000</td>\n",
              "      <td>0.105</td>\n",
              "      <td>0.932</td>\n",
              "      <td>97.831</td>\n",
              "      <td>57</td>\n",
              "      <td>6.612877</td>\n",
              "      <td>8.703812</td>\n",
              "      <td>0.159284</td>\n",
              "      <td>0.188944</td>\n",
              "      <td>0.387707</td>\n",
              "      <td>0.102878</td>\n",
              "      <td>0.263077</td>\n",
              "      <td>0.022362</td>\n",
              "      <td>0.035032</td>\n",
              "    </tr>\n",
              "    <tr>\n",
              "      <th>1795256</th>\n",
              "      <td>699</td>\n",
              "      <td>117764</td>\n",
              "      <td>0.414</td>\n",
              "      <td>0.161</td>\n",
              "      <td>0.0318</td>\n",
              "      <td>0.883000</td>\n",
              "      <td>0.000223</td>\n",
              "      <td>0.117</td>\n",
              "      <td>0.423</td>\n",
              "      <td>159.375</td>\n",
              "      <td>85</td>\n",
              "      <td>4.887194</td>\n",
              "      <td>7.649307</td>\n",
              "      <td>0.844728</td>\n",
              "      <td>0.188531</td>\n",
              "      <td>0.031474</td>\n",
              "      <td>0.020742</td>\n",
              "      <td>0.019825</td>\n",
              "      <td>0.088688</td>\n",
              "      <td>0.650740</td>\n",
              "    </tr>\n",
              "    <tr>\n",
              "      <th>2382492</th>\n",
              "      <td>252</td>\n",
              "      <td>4900</td>\n",
              "      <td>0.524</td>\n",
              "      <td>0.558</td>\n",
              "      <td>0.0308</td>\n",
              "      <td>0.065800</td>\n",
              "      <td>0.671000</td>\n",
              "      <td>0.103</td>\n",
              "      <td>0.145</td>\n",
              "      <td>132.049</td>\n",
              "      <td>43</td>\n",
              "      <td>7.614724</td>\n",
              "      <td>7.580137</td>\n",
              "      <td>1.357206</td>\n",
              "      <td>0.413237</td>\n",
              "      <td>0.030928</td>\n",
              "      <td>0.394081</td>\n",
              "      <td>0.026864</td>\n",
              "      <td>0.025925</td>\n",
              "      <td>0.108964</td>\n",
              "    </tr>\n",
              "    <tr>\n",
              "      <th>1962633</th>\n",
              "      <td>226</td>\n",
              "      <td>39217</td>\n",
              "      <td>0.595</td>\n",
              "      <td>0.709</td>\n",
              "      <td>0.0337</td>\n",
              "      <td>0.018700</td>\n",
              "      <td>0.002930</td>\n",
              "      <td>0.131</td>\n",
              "      <td>0.759</td>\n",
              "      <td>145.447</td>\n",
              "      <td>32</td>\n",
              "      <td>6.785480</td>\n",
              "      <td>8.212117</td>\n",
              "      <td>-0.411513</td>\n",
              "      <td>0.052834</td>\n",
              "      <td>0.215678</td>\n",
              "      <td>0.026748</td>\n",
              "      <td>0.239018</td>\n",
              "      <td>0.159947</td>\n",
              "      <td>0.305776</td>\n",
              "    </tr>\n",
              "    <tr>\n",
              "      <th>2033580</th>\n",
              "      <td>571</td>\n",
              "      <td>235352</td>\n",
              "      <td>0.649</td>\n",
              "      <td>0.571</td>\n",
              "      <td>0.0242</td>\n",
              "      <td>0.385000</td>\n",
              "      <td>0.000000</td>\n",
              "      <td>0.135</td>\n",
              "      <td>0.344</td>\n",
              "      <td>78.978</td>\n",
              "      <td>69</td>\n",
              "      <td>5.809994</td>\n",
              "      <td>5.577857</td>\n",
              "      <td>-0.253643</td>\n",
              "      <td>0.101402</td>\n",
              "      <td>0.013793</td>\n",
              "      <td>0.000000</td>\n",
              "      <td>0.000000</td>\n",
              "      <td>0.568102</td>\n",
              "      <td>0.298371</td>\n",
              "    </tr>\n",
              "  </tbody>\n",
              "</table>\n",
              "</div>"
            ],
            "text/plain": [
              "         user_id  item_id  danceability  ...   topic_4   topic_5   topic_6\n",
              "2305625      286   182783         0.548  ...  0.263077  0.022362  0.035032\n",
              "1795256      699   117764         0.414  ...  0.019825  0.088688  0.650740\n",
              "2382492      252     4900         0.524  ...  0.026864  0.025925  0.108964\n",
              "1962633      226    39217         0.595  ...  0.239018  0.159947  0.305776\n",
              "2033580      571   235352         0.649  ...  0.000000  0.568102  0.298371\n",
              "\n",
              "[5 rows x 20 columns]"
            ]
          },
          "metadata": {
            "tags": []
          },
          "execution_count": 85
        }
      ]
    },
    {
      "cell_type": "code",
      "metadata": {
        "id": "Rhkj5qFG0HsO",
        "colab": {
          "base_uri": "https://localhost:8080/"
        },
        "outputId": "61625f26-773d-4335-cd2d-2d5311670274"
      },
      "source": [
        "# X_test_arr = np.array(X_test_arr)\n",
        "# test_ratings = pd.DataFrame({'user_id': X_test_arr[0, :], 'item_id':X_test_arr[1, :], 'rating': y_test})\\item Deep architecture trained on embeddings for the users and items based on ratings for items\n",
        "X_test_copy = X_test.copy()\n",
        "X_test_copy['rating'] = y_test \n",
        "predictions_df = get_test_predictions(model, X_test_copy)"
      ],
      "id": "Rhkj5qFG0HsO",
      "execution_count": 86,
      "outputs": [
        {
          "output_type": "stream",
          "text": [
            "100%|██████████| 990/990 [01:18<00:00, 12.56it/s]\n"
          ],
          "name": "stderr"
        }
      ]
    },
    {
      "cell_type": "code",
      "metadata": {
        "id": "IyGGzKIm3Z-6"
      },
      "source": [
        "def plot_predictions(predictions_df):\n",
        "  pred_arr = [predictions_df[['predictions_relevant']].apply(lambda x: np.hstack(x), axis=0).values.reshape(-1),\n",
        "              predictions_df[['predictions_irrelevant']].apply(lambda x: np.hstack(x), axis=0).values.reshape(-1)]\n",
        "\n",
        "  f, ax = plt.subplots(1, 1)\n",
        "  ax.set_title('Predictions distribution', color='C0')\n",
        "  c = 'red'\n",
        "  bplot = plt.boxplot(pred_arr, labels=['Relevant', 'Irrelevant'], vert=True, patch_artist=True)\n",
        "  # fill with colors\n",
        "  colors = ['C4', 'C2']\n",
        "  for patch, color in zip(bplot['boxes'], colors):\n",
        "    patch.set_facecolor(color)\n",
        "\n",
        "  for median in bplot['medians']:\n",
        "    median.set(color='k', linewidth=1.5)\n",
        "\n",
        "  plt.show()"
      ],
      "id": "IyGGzKIm3Z-6",
      "execution_count": 87,
      "outputs": []
    },
    {
      "cell_type": "code",
      "metadata": {
        "colab": {
          "base_uri": "https://localhost:8080/",
          "height": 336
        },
        "id": "H8pqqFPa4PdW",
        "outputId": "6226260b-261d-467b-b81e-be3f1c20ef17"
      },
      "source": [
        "plot_predictions(predictions_df)"
      ],
      "id": "H8pqqFPa4PdW",
      "execution_count": 88,
      "outputs": [
        {
          "output_type": "stream",
          "text": [
            "/usr/local/lib/python3.7/dist-packages/numpy/core/_asarray.py:83: VisibleDeprecationWarning: Creating an ndarray from ragged nested sequences (which is a list-or-tuple of lists-or-tuples-or ndarrays with different lengths or shapes) is deprecated. If you meant to do this, you must specify 'dtype=object' when creating the ndarray\n",
            "  return array(a, dtype, copy=False, order=order)\n"
          ],
          "name": "stderr"
        },
        {
          "output_type": "display_data",
          "data": {
            "image/png": "[encoded data removed]",
            "text/plain": [
              "<Figure size 432x288 with 1 Axes>"
            ]
          },
          "metadata": {
            "tags": [],
            "needs_background": "light"
          }
        }
      ]
    },
    {
      "cell_type": "code",
      "metadata": {
        "colab": {
          "base_uri": "https://localhost:8080/",
          "height": 479
        },
        "id": "RgqRv6VhayMN",
        "outputId": "2af6ed1e-66f9-4caa-af10-ac7abd1f61fa"
      },
      "source": [
        "matrix_sampled_merged.head()"
      ],
      "id": "RgqRv6VhayMN",
      "execution_count": 89,
      "outputs": [
        {
          "output_type": "execute_result",
          "data": {
            "text/html": [
              "<div>\n",
              "<style scoped>\n",
              "    .dataframe tbody tr th:only-of-type {\n",
              "        vertical-align: middle;\n",
              "    }\n",
              "\n",
              "    .dataframe tbody tr th {\n",
              "        vertical-align: top;\n",
              "    }\n",
              "\n",
              "    .dataframe thead th {\n",
              "        text-align: right;\n",
              "    }\n",
              "</style>\n",
              "<table border=\"1\" class=\"dataframe\">\n",
              "  <thead>\n",
              "    <tr style=\"text-align: right;\">\n",
              "      <th></th>\n",
              "      <th>item</th>\n",
              "      <th>user</th>\n",
              "      <th>artist</th>\n",
              "      <th>track</th>\n",
              "      <th>rating</th>\n",
              "      <th>danceability</th>\n",
              "      <th>energy</th>\n",
              "      <th>key</th>\n",
              "      <th>loudness</th>\n",
              "      <th>mode</th>\n",
              "      <th>speechiness</th>\n",
              "      <th>acousticness</th>\n",
              "      <th>instrumentalness</th>\n",
              "      <th>liveness</th>\n",
              "      <th>valence</th>\n",
              "      <th>tempo</th>\n",
              "      <th>duration_ms</th>\n",
              "      <th>popularity</th>\n",
              "      <th>emb_x</th>\n",
              "      <th>emb_y</th>\n",
              "      <th>emb_z</th>\n",
              "      <th>topic_1</th>\n",
              "      <th>topic_2</th>\n",
              "      <th>topic_3</th>\n",
              "      <th>topic_4</th>\n",
              "      <th>topic_5</th>\n",
              "      <th>topic_6</th>\n",
              "      <th>user_id</th>\n",
              "      <th>item_id</th>\n",
              "    </tr>\n",
              "  </thead>\n",
              "  <tbody>\n",
              "    <tr>\n",
              "      <th>0</th>\n",
              "      <td>It Is Obvious Syd Barrett</td>\n",
              "      <td>user_000681</td>\n",
              "      <td>Syd Barrett</td>\n",
              "      <td>It Is Obvious</td>\n",
              "      <td>3.000000</td>\n",
              "      <td>0.497</td>\n",
              "      <td>0.251</td>\n",
              "      <td>4.0</td>\n",
              "      <td>-15.744</td>\n",
              "      <td>1.0</td>\n",
              "      <td>0.0501</td>\n",
              "      <td>0.243</td>\n",
              "      <td>0.804</td>\n",
              "      <td>0.114</td>\n",
              "      <td>0.543</td>\n",
              "      <td>111.918</td>\n",
              "      <td>174240.0</td>\n",
              "      <td>46</td>\n",
              "      <td>4.893258</td>\n",
              "      <td>7.724682</td>\n",
              "      <td>0.654223</td>\n",
              "      <td>0.125682</td>\n",
              "      <td>0.318987</td>\n",
              "      <td>0.068563</td>\n",
              "      <td>0.036324</td>\n",
              "      <td>0.027943</td>\n",
              "      <td>0.422501</td>\n",
              "      <td>672</td>\n",
              "      <td>107679</td>\n",
              "    </tr>\n",
              "    <tr>\n",
              "      <th>1</th>\n",
              "      <td>It Is Obvious Syd Barrett</td>\n",
              "      <td>user_000359</td>\n",
              "      <td>Syd Barrett</td>\n",
              "      <td>It Is Obvious</td>\n",
              "      <td>4.364713</td>\n",
              "      <td>0.497</td>\n",
              "      <td>0.251</td>\n",
              "      <td>4.0</td>\n",
              "      <td>-15.744</td>\n",
              "      <td>1.0</td>\n",
              "      <td>0.0501</td>\n",
              "      <td>0.243</td>\n",
              "      <td>0.804</td>\n",
              "      <td>0.114</td>\n",
              "      <td>0.543</td>\n",
              "      <td>111.918</td>\n",
              "      <td>174240.0</td>\n",
              "      <td>46</td>\n",
              "      <td>4.893258</td>\n",
              "      <td>7.724682</td>\n",
              "      <td>0.654223</td>\n",
              "      <td>0.125682</td>\n",
              "      <td>0.318987</td>\n",
              "      <td>0.068563</td>\n",
              "      <td>0.036324</td>\n",
              "      <td>0.027943</td>\n",
              "      <td>0.422501</td>\n",
              "      <td>355</td>\n",
              "      <td>107679</td>\n",
              "    </tr>\n",
              "    <tr>\n",
              "      <th>2</th>\n",
              "      <td>It Is Obvious Syd Barrett</td>\n",
              "      <td>user_000861</td>\n",
              "      <td>Syd Barrett</td>\n",
              "      <td>It Is Obvious</td>\n",
              "      <td>5.019987</td>\n",
              "      <td>0.497</td>\n",
              "      <td>0.251</td>\n",
              "      <td>4.0</td>\n",
              "      <td>-15.744</td>\n",
              "      <td>1.0</td>\n",
              "      <td>0.0501</td>\n",
              "      <td>0.243</td>\n",
              "      <td>0.804</td>\n",
              "      <td>0.114</td>\n",
              "      <td>0.543</td>\n",
              "      <td>111.918</td>\n",
              "      <td>174240.0</td>\n",
              "      <td>46</td>\n",
              "      <td>4.893258</td>\n",
              "      <td>7.724682</td>\n",
              "      <td>0.654223</td>\n",
              "      <td>0.125682</td>\n",
              "      <td>0.318987</td>\n",
              "      <td>0.068563</td>\n",
              "      <td>0.036324</td>\n",
              "      <td>0.027943</td>\n",
              "      <td>0.422501</td>\n",
              "      <td>852</td>\n",
              "      <td>107679</td>\n",
              "    </tr>\n",
              "    <tr>\n",
              "      <th>3</th>\n",
              "      <td>It Is Obvious Syd Barrett</td>\n",
              "      <td>user_000774</td>\n",
              "      <td>Syd Barrett</td>\n",
              "      <td>It Is Obvious</td>\n",
              "      <td>3.000000</td>\n",
              "      <td>0.497</td>\n",
              "      <td>0.251</td>\n",
              "      <td>4.0</td>\n",
              "      <td>-15.744</td>\n",
              "      <td>1.0</td>\n",
              "      <td>0.0501</td>\n",
              "      <td>0.243</td>\n",
              "      <td>0.804</td>\n",
              "      <td>0.114</td>\n",
              "      <td>0.543</td>\n",
              "      <td>111.918</td>\n",
              "      <td>174240.0</td>\n",
              "      <td>46</td>\n",
              "      <td>4.893258</td>\n",
              "      <td>7.724682</td>\n",
              "      <td>0.654223</td>\n",
              "      <td>0.125682</td>\n",
              "      <td>0.318987</td>\n",
              "      <td>0.068563</td>\n",
              "      <td>0.036324</td>\n",
              "      <td>0.027943</td>\n",
              "      <td>0.422501</td>\n",
              "      <td>765</td>\n",
              "      <td>107679</td>\n",
              "    </tr>\n",
              "    <tr>\n",
              "      <th>4</th>\n",
              "      <td>It Is Obvious Syd Barrett</td>\n",
              "      <td>user_000705</td>\n",
              "      <td>Syd Barrett</td>\n",
              "      <td>It Is Obvious</td>\n",
              "      <td>4.364713</td>\n",
              "      <td>0.497</td>\n",
              "      <td>0.251</td>\n",
              "      <td>4.0</td>\n",
              "      <td>-15.744</td>\n",
              "      <td>1.0</td>\n",
              "      <td>0.0501</td>\n",
              "      <td>0.243</td>\n",
              "      <td>0.804</td>\n",
              "      <td>0.114</td>\n",
              "      <td>0.543</td>\n",
              "      <td>111.918</td>\n",
              "      <td>174240.0</td>\n",
              "      <td>46</td>\n",
              "      <td>4.893258</td>\n",
              "      <td>7.724682</td>\n",
              "      <td>0.654223</td>\n",
              "      <td>0.125682</td>\n",
              "      <td>0.318987</td>\n",
              "      <td>0.068563</td>\n",
              "      <td>0.036324</td>\n",
              "      <td>0.027943</td>\n",
              "      <td>0.422501</td>\n",
              "      <td>696</td>\n",
              "      <td>107679</td>\n",
              "    </tr>\n",
              "  </tbody>\n",
              "</table>\n",
              "</div>"
            ],
            "text/plain": [
              "                        item         user  ... user_id item_id\n",
              "0  It Is Obvious Syd Barrett  user_000681  ...     672  107679\n",
              "1  It Is Obvious Syd Barrett  user_000359  ...     355  107679\n",
              "2  It Is Obvious Syd Barrett  user_000861  ...     852  107679\n",
              "3  It Is Obvious Syd Barrett  user_000774  ...     765  107679\n",
              "4  It Is Obvious Syd Barrett  user_000705  ...     696  107679\n",
              "\n",
              "[5 rows x 29 columns]"
            ]
          },
          "metadata": {
            "tags": []
          },
          "execution_count": 89
        }
      ]
    },
    {
      "cell_type": "code",
      "metadata": {
        "id": "honest-globe"
      },
      "source": [
        "def precision_at_k(predictions_df):\n",
        "    precisions = []\n",
        "    # For each user\n",
        "    for row in predictions_df.iterrows():\n",
        "      predictions = row[1][1]\n",
        "      test_pids = row[1][2]\n",
        "      relevant_pids = set(row[1][3])\n",
        "      if len(relevant_pids) == 0:\n",
        "          continue\n",
        "      # Sort the items and het the top k\n",
        "      top_k = predictions > 3.5\n",
        "      if top_k.sum() == 0:\n",
        "         precisions.append(0)\n",
        "         continue\n",
        "      top_k_items = set(np.array(test_pids)[top_k])\n",
        "      # Compute precision as per definition\n",
        "      precisions.append(len(top_k_items & relevant_pids) / top_k.sum())\n",
        "    return precisions"
      ],
      "id": "honest-globe",
      "execution_count": 90,
      "outputs": []
    },
    {
      "cell_type": "code",
      "metadata": {
        "id": "asian-divide"
      },
      "source": [
        "precisions = precision_at_k(predictions_df)"
      ],
      "id": "asian-divide",
      "execution_count": 91,
      "outputs": []
    },
    {
      "cell_type": "code",
      "metadata": {
        "id": "muslim-sphere",
        "colab": {
          "base_uri": "https://localhost:8080/"
        },
        "outputId": "89a585a8-d1c8-47bd-8139-99c3aea43a78"
      },
      "source": [
        "np.mean(precisions), np.std(precisions)"
      ],
      "id": "muslim-sphere",
      "execution_count": 92,
      "outputs": [
        {
          "output_type": "execute_result",
          "data": {
            "text/plain": [
              "(0.9661719198492806, 0.12170246414913485)"
            ]
          },
          "metadata": {
            "tags": []
          },
          "execution_count": 92
        }
      ]
    },
    {
      "cell_type": "code",
      "metadata": {
        "id": "cosmetic-enhancement"
      },
      "source": [
        "### EXERCISE CELL ###\n",
        "def recall_at_k(predictions_df):\n",
        "    recalls = []\n",
        "    # For each user\n",
        "    for row in predictions_df.iterrows():\n",
        "      predictions = row[1][1]\n",
        "      test_pids = row[1][2]\n",
        "      relevant_pids = set(row[1][3])\n",
        "      if len(relevant_pids) == 0:\n",
        "          continue\n",
        "      # Sort the items and het the top k\n",
        "      top_k = predictions > 3.5\n",
        "      if top_k.sum() == 0:\n",
        "         recalls.append(0)\n",
        "         continue\n",
        "      top_k_items = set(np.array(test_pids)[top_k])\n",
        "      recalls.append(len(top_k_items & relevant_pids) / len(relevant_pids))\n",
        "    return recalls"
      ],
      "id": "cosmetic-enhancement",
      "execution_count": 93,
      "outputs": []
    },
    {
      "cell_type": "code",
      "metadata": {
        "id": "collected-universal"
      },
      "source": [
        "recalls = recall_at_k(predictions_df)"
      ],
      "id": "collected-universal",
      "execution_count": 94,
      "outputs": []
    },
    {
      "cell_type": "code",
      "metadata": {
        "id": "hourly-skiing",
        "colab": {
          "base_uri": "https://localhost:8080/"
        },
        "outputId": "df676a99-1013-4aac-ba70-8b62ef1d0ea2"
      },
      "source": [
        "np.mean(recalls), np.std(recalls)"
      ],
      "id": "hourly-skiing",
      "execution_count": 95,
      "outputs": [
        {
          "output_type": "execute_result",
          "data": {
            "text/plain": [
              "(0.7251171033975332, 0.267462910585276)"
            ]
          },
          "metadata": {
            "tags": []
          },
          "execution_count": 95
        }
      ]
    },
    {
      "cell_type": "code",
      "metadata": {
        "id": "answering-drink"
      },
      "source": [
        "### EXERCISE CELL ###\n",
        "def map_at_k(predictions_df, k=100):\n",
        "    maps = []\n",
        "    for row in predictions_df.iterrows():\n",
        "      predictions = row[1][1]\n",
        "      test_pids = row[1][2]\n",
        "      relevant_pids = set(row[1][3])\n",
        "      if len(relevant_pids) == 0:\n",
        "          continue\n",
        "      partial_maps = []\n",
        "      top_k = list(np.argsort(predictions)[:k])\n",
        "      top_k_items = np.array(test_pids)[top_k]\n",
        "      for rank, item_id in enumerate(top_k_items):\n",
        "          if item_id in relevant_pids:\n",
        "              partial_maps.append(len(set(top_k_items[:rank+1]) & relevant_pids) / float(rank+1))\n",
        "      maps.append(.0 if len(partial_maps) == 0 else np.sum(partial_maps) / float(k))\n",
        "    return maps"
      ],
      "id": "answering-drink",
      "execution_count": 99,
      "outputs": []
    },
    {
      "cell_type": "code",
      "metadata": {
        "id": "fantastic-sender"
      },
      "source": [
        "maps = map_at_k(predictions_df, k=100)"
      ],
      "id": "fantastic-sender",
      "execution_count": 100,
      "outputs": []
    },
    {
      "cell_type": "code",
      "metadata": {
        "id": "changing-israel",
        "colab": {
          "base_uri": "https://localhost:8080/"
        },
        "outputId": "f6807ad1-4a27-4dd8-aae5-b1e76fc18962"
      },
      "source": [
        "np.mean(maps), np.std(maps)"
      ],
      "id": "changing-israel",
      "execution_count": 101,
      "outputs": [
        {
          "output_type": "execute_result",
          "data": {
            "text/plain": [
              "(0.8939406014856539, 0.2243949239418043)"
            ]
          },
          "metadata": {
            "tags": []
          },
          "execution_count": 101
        }
      ]
    },
    {
      "cell_type": "code",
      "metadata": {
        "id": "xxT_YBMKSrRA"
      },
      "source": [
        "def single_rmse(row):\n",
        "  truth = row['rating']\n",
        "  test = row.drop(labels=['rating']).values.reshape(1, 20)\n",
        "  prediction = model.predict(test, batch_size=2048)[0][0]\n",
        "  return np.sqrt((prediction - truth) ** 2)"
      ],
      "id": "xxT_YBMKSrRA",
      "execution_count": 151,
      "outputs": []
    },
    {
      "cell_type": "code",
      "metadata": {
        "id": "G8NqFbVuTobF"
      },
      "source": [
        "X_test_copy['rmse'] = X_test_copy.apply(single_rmse, axis=1)"
      ],
      "id": "G8NqFbVuTobF",
      "execution_count": null,
      "outputs": []
    },
    {
      "cell_type": "code",
      "metadata": {
        "id": "wl5W7A2QU-ef"
      },
      "source": [
        ""
      ],
      "id": "wl5W7A2QU-ef",
      "execution_count": null,
      "outputs": []
    }
  ]
}