<<<<<<< HEAD






<!DOCTYPE html>
<html lang="en" data-color-mode="auto" data-light-theme="light" data-dark-theme="dark">
  <head>
    <meta charset="utf-8">
  <link rel="dns-prefetch" href="https://github.githubassets.com">
  <link rel="dns-prefetch" href="https://avatars.githubusercontent.com">
  <link rel="dns-prefetch" href="https://github-cloud.s3.amazonaws.com">
  <link rel="dns-prefetch" href="https://user-images.githubusercontent.com/">



  <link crossorigin="anonymous" media="all" integrity="sha512-7KjiGvJiLLy6LJPGf3m67ejAdgQsgDdnxZYoaI6+Agd0ZxHKTCjoKZgaf3PgUjURCcVceAwySJJJWgitRskDiA==" rel="stylesheet" href="https://github.githubassets.com/assets/frameworks-eca8e21af2622cbcba2c93c67f79baed.css" />
    <link crossorigin="anonymous" media="all" integrity="sha512-Z55z4oGXZssrTDMB5yBv/0ytLiKrExFTH/KjNpjJglOIK7/sRWYGJ1lJNxupK8nr3UQCC6yPLX7E1O04YEKbjg==" rel="stylesheet" href="https://github.githubassets.com/assets/behaviors-679e73e2819766cb2b4c3301e7206fff.css" />
    
    
    
    <link crossorigin="anonymous" media="all" integrity="sha512-XBbt6Ri6nSzQk6Z+g/+i6e/5dCmXiPOoglKXPJOBvrrArUzT4yh5W/L1gqEKHfOKW/3iMTcho1nkCtGS5mk3mQ==" rel="stylesheet" href="https://github.githubassets.com/assets/github-5c16ede918ba9d2cd093a67e83ffa2e9.css" />

  <script crossorigin="anonymous" defer="defer" integrity="sha512-CzeY4A6TiG4fGZSWZU8FxmzFFmcQFoPpArF0hkH0/J/S7UL4eed/LKEXMQXfTwiG5yEJBI+9BdKG8KQJNbhcIQ==" type="application/javascript" src="https://github.githubassets.com/assets/environment-0b3798e0.js"></script>
    <script crossorigin="anonymous" defer="defer" integrity="sha512-ymgKJHPO04ImkRAtKz2qN2gw7VG4Uo6NI9usvATL1F8VslBSPv/JKd+GC7mwDXfcwgtsofN7TW5xsyB0uTiDDg==" type="application/javascript" src="https://github.githubassets.com/assets/chunk-frameworks-ca680a24.js"></script>
    <script crossorigin="anonymous" defer="defer" integrity="sha512-zjPv3caclbpqxr5Tg31hke5gxoySA8DMrWqvzgrHoR9Anh+YdmS1dSgG+OrxnU47iZu+76MUXwzWd+drmdgn5Q==" type="application/javascript" src="https://github.githubassets.com/assets/chunk-vendor-ce33efdd.js"></script>
  
  <script crossorigin="anonymous" defer="defer" integrity="sha512-nUeczWhdpdZBG7H0kUE8capBTY4xECDkyK32F8tIVfs55EPfR/jTD7ju3biUAjudGebGzQZLF0G3FpK6zjt6bg==" type="application/javascript" src="https://github.githubassets.com/assets/behaviors-9d479ccd.js"></script>
  
    <script crossorigin="anonymous" defer="defer" integrity="sha512-tjuNQcwhEIXGvVIG4XM/Aj4z+Od+NBRkbgWNwEMjGL3nsnAmdoBdbzsn/WTvl3hk+TPt1D0BvBLHLBPgiwvT2w==" type="application/javascript" data-module-id="./chunk-animate-on-scroll.js" data-src="https://github.githubassets.com/assets/chunk-animate-on-scroll-b63b8d41.js"></script>
    <script crossorigin="anonymous" defer="defer" integrity="sha512-+BKEtK9JkmJ52jKSoX6+SBrGV6kJxB8J/iAPkFQ/oeq8YekNcz7IZlJgM5Tddyx1RrkL3+sdG0tAy3YuFbYqfA==" type="application/javascript" data-module-id="./chunk-codemirror.js" data-src="https://github.githubassets.com/assets/chunk-codemirror-f81284b4.js"></script>
    <script crossorigin="anonymous" defer="defer" integrity="sha512-EKOvqJ9uTatAt87WxU+OSS4mi7gMUszFbGo4aPErQkjpWLXnrPSeZvK5ngU8OYoIoiVOq+v8dA3C6MF/z2d/kA==" type="application/javascript" data-module-id="./chunk-color-modes.js" data-src="https://github.githubassets.com/assets/chunk-color-modes-10a3afa8.js"></script>
    <script crossorigin="anonymous" defer="defer" integrity="sha512-zkYZSjUFqSifB+Lt76jclFMrfqpcPqevT801RZcoBNCZHRTBKcFrW9OyJoPOzKFv+fZVDRnqdqGsuIv5KOIgZg==" type="application/javascript" data-module-id="./chunk-contributions-spider-graph.js" data-src="https://github.githubassets.com/assets/chunk-contributions-spider-graph-ce46194a.js"></script>
    <script crossorigin="anonymous" defer="defer" integrity="sha512-6j/oSF+kbW+yetNPvI684VzAu9pzug6Vj2h+3u1LdCuRhR4jnuiHZfeQKls3nxcT/S3H+oIt7FtigE/aeoj+gg==" type="application/javascript" data-module-id="./chunk-drag-drop.js" data-src="https://github.githubassets.com/assets/chunk-drag-drop-ea3fe848.js"></script>
    <script crossorigin="anonymous" defer="defer" integrity="sha512-N+ziqJjVMfWiqeVHdayDHpNRlG5HsF+cgV+pFnMDoTJuvBzgw+ndsepe4NcKAxIS3WMvzMaQcYmd2vrIaoAJVg==" type="application/javascript" data-module-id="./chunk-edit.js" data-src="https://github.githubassets.com/assets/chunk-edit-37ece2a8.js"></script>
    <script crossorigin="anonymous" defer="defer" integrity="sha512-aiqMIGGZGo8AQMjcoImKPMTsZVVRl6htCSY7BpRmpGPG/AF+Wq+P/Oj/dthWQOIk9cCNMPEas7O2zAR6oqn0tA==" type="application/javascript" data-module-id="./chunk-emoji-picker-element.js" data-src="https://github.githubassets.com/assets/chunk-emoji-picker-element-6a2a8c20.js"></script>
    <script crossorigin="anonymous" defer="defer" integrity="sha512-7o8WoXZcP71e0YBbF1az3Rj9iGr3Irk3kb7Yq1/ZQETySta8pQLfupQJ7yiswg+sN1HTqszDMbp1vcPHFgp7gw==" type="application/javascript" data-module-id="./chunk-filter-input.js" data-src="https://github.githubassets.com/assets/chunk-filter-input-ee8f16a1.js"></script>
    <script crossorigin="anonymous" defer="defer" integrity="sha512-XwuQdORq1W9Z+a/i72pH+NfR1rhwlGdxIlaIBbTciscGc/+McxMNLixGBp8e6Td4W1zzHvQ1Jyryl5gUfEr76g==" type="application/javascript" data-module-id="./chunk-insights-graph.js" data-src="https://github.githubassets.com/assets/chunk-insights-graph-5f0b9074.js"></script>
    <script crossorigin="anonymous" defer="defer" integrity="sha512-Y+VVFzGHo9J5bf4Mrn+RGrh1+IExdybA3C1QqPha3UwkV9RZ75jZgV4DsujViAF0iT9OrLYYHvPk9V6QiXjp3g==" type="application/javascript" data-module-id="./chunk-invitations.js" data-src="https://github.githubassets.com/assets/chunk-invitations-63e55517.js"></script>
    <script crossorigin="anonymous" defer="defer" integrity="sha512-mMOvER8Uml4WMYbXv8BaahVq9eF1v5Hu7M9/3oPlOFPmTJGH+TmvcRPt8fddj86urb+Ri+vlqotFspA/4STDsQ==" type="application/javascript" data-module-id="./chunk-jump-to.js" data-src="https://github.githubassets.com/assets/chunk-jump-to-98c3af11.js"></script>
    <script crossorigin="anonymous" defer="defer" integrity="sha512-supZkxo+OPYLNtLXxI+e1dkCqVySu4FOWX1fiVVFs2ZggygppNsEz4F9wVp4YtH2TjFsZW8r/75uDUhPneO2sA==" type="application/javascript" data-module-id="./chunk-notification-list-focus.js" data-src="https://github.githubassets.com/assets/chunk-notification-list-focus-b2ea5993.js"></script>
    <script crossorigin="anonymous" defer="defer" integrity="sha512-ma0OOy3nj0c1cqBx0BkcmIFsLqcSZ+MIukQxyEFM/OWTzZpG+QMgOoWPAHZz43M6fyjAUG1jH6c/6LPiiKPCyw==" type="application/javascript" data-module-id="./chunk-profile-pins-element.js" data-src="https://github.githubassets.com/assets/chunk-profile-pins-element-99ad0e3b.js"></script>
    <script crossorigin="anonymous" defer="defer" integrity="sha512-zh+tYYvd4W00us1O4PkhmKsl/CzInIyrdoMqV2xqC7XPu06UEHfEMJfOiwidJ5f80SwrdGWogWFuJzLHwRbRgA==" type="application/javascript" data-module-id="./chunk-ref-selector.js" data-src="https://github.githubassets.com/assets/chunk-ref-selector-ce1fad61.js"></script>
    <script crossorigin="anonymous" defer="defer" integrity="sha512-Zii9oRdZ6q2QDNjL5A+me7jwJjMLvs1NiQNHmajUZnn4t9shcBDb4F8l/PQZW26eYfe5065oM7lIOSmbMinA7Q==" type="application/javascript" data-module-id="./chunk-responsive-underlinenav.js" data-src="https://github.githubassets.com/assets/chunk-responsive-underlinenav-6628bda1.js"></script>
    <script crossorigin="anonymous" defer="defer" integrity="sha512-9WNXtB07IyWypiPmkuucspwog4mme9q5GKGMSgd7FI0DPimmg/pEw+aaAofFV1vuWMt9I8H5QpsVtlbHGg1YBA==" type="application/javascript" data-module-id="./chunk-runner-groups.js" data-src="https://github.githubassets.com/assets/chunk-runner-groups-f56357b4.js"></script>
    <script crossorigin="anonymous" defer="defer" integrity="sha512-fIq9Mn7jY/bHQXnsmh+VejpDnaO+d/FDxsp+4CuZtdNLrLuO+dQCjh+m6Yd8GCYD2Cy6DWbCEyM+mH2dkB2H9A==" type="application/javascript" data-module-id="./chunk-sortable-behavior.js" data-src="https://github.githubassets.com/assets/chunk-sortable-behavior-7c8abd32.js"></script>
    <script crossorigin="anonymous" defer="defer" integrity="sha512-WK8VXw3lfUQ/VRW0zlgKPhcMUqH0uTnB/KzePUPdZhCm/HpxfXXHKTGvj5C0Oex7+zbIM2ECzULbtTCT4ug3yg==" type="application/javascript" data-module-id="./chunk-toast.js" data-src="https://github.githubassets.com/assets/chunk-toast-58af155f.js"></script>
    <script crossorigin="anonymous" defer="defer" integrity="sha512-vgHJEmEJxNmHucGbVY8bEUoOYo5/ZwpQ69rU8Dld89daWJ54uad9lNptxq32F8pnbHhdngw9lohNEbMbjmj5AQ==" type="application/javascript" data-module-id="./chunk-tweetsodium.js" data-src="https://github.githubassets.com/assets/chunk-tweetsodium-be01c912.js"></script>
    <script crossorigin="anonymous" defer="defer" integrity="sha512-aSxfTHAZj9wv7n08DxgAKkNg7jhiTo4yKKbDqLGxcDxUk/al571Y2ZSsOmLJ0Vh8cuAL8tW+JgX1t0JeKfyfaA==" type="application/javascript" data-module-id="./chunk-user-status-submit.js" data-src="https://github.githubassets.com/assets/chunk-user-status-submit-692c5f4c.js"></script>
  
  <script crossorigin="anonymous" defer="defer" integrity="sha512-MZY3iKlrpiRKoSpYzv0cJ7gDw2iYVhJekDwhYdtMouyBu0vFTQy4/wQ8qQVnfqcF5/WrBQd7TdVy845gueq4AQ==" type="application/javascript" src="https://github.githubassets.com/assets/repositories-31963788.js"></script>
<script crossorigin="anonymous" defer="defer" integrity="sha512-IbXPPM6HmPrCi6MHC94z7SkbyNgGxcS2W+v2sgPJZ3oQmPxeKc8B12gGFbGBpRif5CIwz4XsZ/pLA3creTH05Q==" type="application/javascript" src="https://github.githubassets.com/assets/diffs-21b5cf3c.js"></script>

  <meta name="viewport" content="width=device-width">
  
  <title>mlbd-project/explanatory_analysis.ipynb at e73b5b48da5836b1dfc12c5c5aa297783d20fed4 · MNabegh/mlbd-project</title>
    <meta name="description" content="Contribute to MNabegh/mlbd-project development by creating an account on GitHub.">
    <link rel="search" type="application/opensearchdescription+xml" href="/opensearch.xml" title="GitHub">
  <link rel="fluid-icon" href="https://github.com/fluidicon.png" title="GitHub">
  <meta property="fb:app_id" content="1401488693436528">
  <meta name="apple-itunes-app" content="app-id=1477376905" />
    <meta name="twitter:image:src" content="https://avatars.githubusercontent.com/u/21170083?s=400&amp;v=4" /><meta name="twitter:site" content="@github" /><meta name="twitter:card" content="summary" /><meta name="twitter:title" content="MNabegh/mlbd-project" /><meta name="twitter:description" content="Contribute to MNabegh/mlbd-project development by creating an account on GitHub." />
    <meta property="og:image" content="https://avatars.githubusercontent.com/u/21170083?s=400&amp;v=4" /><meta property="og:image:alt" content="Contribute to MNabegh/mlbd-project development by creating an account on GitHub." /><meta property="og:site_name" content="GitHub" /><meta property="og:type" content="object" /><meta property="og:title" content="MNabegh/mlbd-project" /><meta property="og:url" content="https://github.com/MNabegh/mlbd-project" /><meta property="og:description" content="Contribute to MNabegh/mlbd-project development by creating an account on GitHub." />



    

  <link rel="assets" href="https://github.githubassets.com/">
    <link rel="shared-web-socket" href="wss://alive.github.com/_sockets/u/22446733/ws?session=eyJ2IjoiVjMiLCJ1IjoyMjQ0NjczMywicyI6NjkwOTg4MDY3LCJjIjo5NDY3MjY3NDksInQiOjE2MjAyMDE3MTZ9--e325690a54bc5c6ebe2972f4b972813c7da9ba048d9ed01617d8dbad1ed2d3ac" data-refresh-url="/_alive" data-session-id="aea468d16b2cba84c3e77fb7f05ea9019b29fbe8bd4990f273231fb3c5d25d44">
    <link rel="shared-web-socket-src" href="/socket-worker-3f088aa2.js">
  <link rel="sudo-modal" href="/sessions/sudo_modal">

  <meta name="request-id" content="8036:118A:5BF7AB:60416F:609250C8" data-pjax-transient="true" /><meta name="html-safe-nonce" content="978b3ddeb0ef80dde1fe6e6fc8fae4bb24be0cfc2e5bced04bfc838542274246" data-pjax-transient="true" /><meta name="visitor-payload" content="eyJyZWZlcnJlciI6Imh0dHBzOi8vZ2l0aHViLmNvbS9NTmFiZWdoL21sYmQtcHJvamVjdC90cmVlL2U3M2I1YjQ4ZGE1ODM2YjFkZmMxMmM1YzVhYTI5Nzc4M2QyMGZlZDQiLCJyZXF1ZXN0X2lkIjoiODAzNjoxMThBOjVCRjdBQjo2MDQxNkY6NjA5MjUwQzgiLCJ2aXNpdG9yX2lkIjoiMTU3MDY5MTYwNTAxNDIzNzEyNSIsInJlZ2lvbl9lZGdlIjoiZnJhIiwicmVnaW9uX3JlbmRlciI6ImlhZCJ9" data-pjax-transient="true" /><meta name="visitor-hmac" content="ad89a27bff6b499f52c50dfe62f718eeacfa1a860e1fea3ed357ff0e5fc040f6" data-pjax-transient="true" />

    <meta name="hovercard-subject-tag" content="repository:363179807" data-pjax-transient>


  <meta name="github-keyboard-shortcuts" content="repository,source-code" data-pjax-transient="true" />

  

  <meta name="selected-link" value="repo_source" data-pjax-transient>

    <meta name="google-site-verification" content="c1kuD-K2HIVF635lypcsWPoD4kilo5-jA_wBFyT4uMY">
  <meta name="google-site-verification" content="KT5gs8h0wvaagLKAVWq8bbeNwnZZK1r1XQysX3xurLU">
  <meta name="google-site-verification" content="ZzhVyEFwb7w3e0-uOTltm8Jsck2F5StVihD0exw2fsA">
  <meta name="google-site-verification" content="GXs5KoUUkNCoaAZn7wPN-t01Pywp9M3sEjnt_3_ZWPc">

  <meta name="octolytics-host" content="collector.githubapp.com" /><meta name="octolytics-app-id" content="github" /><meta name="octolytics-event-url" content="https://collector.githubapp.com/github-external/browser_event" /><meta name="octolytics-actor-id" content="22446733" /><meta name="octolytics-actor-login" content="GuilhemSicard" /><meta name="octolytics-actor-hash" content="f3c009d9c9bd30f1fb9142c63d4dead92c9f286d5a0c5fcc5989199be235528c" />

  <meta name="analytics-location" content="/&lt;user-name&gt;/&lt;repo-name&gt;/blob/show" data-pjax-transient="true" />

  



  <meta name="optimizely-datafile" content="{&quot;version&quot;: &quot;4&quot;, &quot;rollouts&quot;: [], &quot;typedAudiences&quot;: [], &quot;anonymizeIP&quot;: true, &quot;projectId&quot;: &quot;16737760170&quot;, &quot;variables&quot;: [], &quot;featureFlags&quot;: [], &quot;experiments&quot;: [{&quot;status&quot;: &quot;Running&quot;, &quot;audienceIds&quot;: [], &quot;variations&quot;: [{&quot;variables&quot;: [], &quot;id&quot;: &quot;20106410318&quot;, &quot;key&quot;: &quot;en&quot;}, {&quot;variables&quot;: [], &quot;id&quot;: &quot;20122000362&quot;, &quot;key&quot;: &quot;ko&quot;}], &quot;id&quot;: &quot;20121990335&quot;, &quot;key&quot;: &quot;ko_homepage_translation&quot;, &quot;layerId&quot;: &quot;20100420349&quot;, &quot;trafficAllocation&quot;: [{&quot;entityId&quot;: &quot;20106410318&quot;, &quot;endOfRange&quot;: 5000}, {&quot;entityId&quot;: &quot;20122000362&quot;, &quot;endOfRange&quot;: 10000}], &quot;forcedVariations&quot;: {}}, {&quot;status&quot;: &quot;Running&quot;, &quot;audienceIds&quot;: [], &quot;variations&quot;: [{&quot;variables&quot;: [], &quot;id&quot;: &quot;20236992340&quot;, &quot;key&quot;: &quot;usd&quot;}, {&quot;variables&quot;: [], &quot;id&quot;: &quot;20184442182&quot;, &quot;key&quot;: &quot;localized_currency&quot;}], &quot;id&quot;: &quot;20233233507&quot;, &quot;key&quot;: &quot;local_currency_pricing&quot;, &quot;layerId&quot;: &quot;20212472765&quot;, &quot;trafficAllocation&quot;: [{&quot;entityId&quot;: &quot;20184442182&quot;, &quot;endOfRange&quot;: 5000}, {&quot;entityId&quot;: &quot;20236992340&quot;, &quot;endOfRange&quot;: 10000}], &quot;forcedVariations&quot;: {&quot;667685045.1617740930&quot;: &quot;localized_currency&quot;}}], &quot;audiences&quot;: [{&quot;conditions&quot;: &quot;[\&quot;or\&quot;, {\&quot;match\&quot;: \&quot;exact\&quot;, \&quot;name\&quot;: \&quot;$opt_dummy_attribute\&quot;, \&quot;type\&quot;: \&quot;custom_attribute\&quot;, \&quot;value\&quot;: \&quot;$opt_dummy_value\&quot;}]&quot;, &quot;id&quot;: &quot;$opt_dummy_audience&quot;, &quot;name&quot;: &quot;Optimizely-Generated Audience for Backwards Compatibility&quot;}], &quot;groups&quot;: [], &quot;attributes&quot;: [{&quot;id&quot;: &quot;16822470375&quot;, &quot;key&quot;: &quot;user_id&quot;}, {&quot;id&quot;: &quot;17143601254&quot;, &quot;key&quot;: &quot;spammy&quot;}, {&quot;id&quot;: &quot;18175660309&quot;, &quot;key&quot;: &quot;organization_plan&quot;}, {&quot;id&quot;: &quot;18813001570&quot;, &quot;key&quot;: &quot;is_logged_in&quot;}, {&quot;id&quot;: &quot;19073851829&quot;, &quot;key&quot;: &quot;geo&quot;}, {&quot;id&quot;: &quot;20175462351&quot;, &quot;key&quot;: &quot;requestedCurrency&quot;}], &quot;botFiltering&quot;: false, &quot;accountId&quot;: &quot;16737760170&quot;, &quot;events&quot;: [{&quot;experimentIds&quot;: [], &quot;id&quot;: &quot;17911811441&quot;, &quot;key&quot;: &quot;hydro_click.dashboard.teacher_toolbox_cta&quot;}, {&quot;experimentIds&quot;: [], &quot;id&quot;: &quot;18124116703&quot;, &quot;key&quot;: &quot;submit.organizations.complete_sign_up&quot;}, {&quot;experimentIds&quot;: [], &quot;id&quot;: &quot;18145892387&quot;, &quot;key&quot;: &quot;no_metric.tracked_outside_of_optimizely&quot;}, {&quot;experimentIds&quot;: [], &quot;id&quot;: &quot;18178755568&quot;, &quot;key&quot;: &quot;click.org_onboarding_checklist.add_repo&quot;}, {&quot;experimentIds&quot;: [], &quot;id&quot;: &quot;18180553241&quot;, &quot;key&quot;: &quot;submit.repository_imports.create&quot;}, {&quot;experimentIds&quot;: [], &quot;id&quot;: &quot;18186103728&quot;, &quot;key&quot;: &quot;click.help.learn_more_about_repository_creation&quot;}, {&quot;experimentIds&quot;: [], &quot;id&quot;: &quot;18188530140&quot;, &quot;key&quot;: &quot;test_event.do_not_use_in_production&quot;}, {&quot;experimentIds&quot;: [], &quot;id&quot;: &quot;18191963644&quot;, &quot;key&quot;: &quot;click.empty_org_repo_cta.transfer_repository&quot;}, {&quot;experimentIds&quot;: [], &quot;id&quot;: &quot;18195612788&quot;, &quot;key&quot;: &quot;click.empty_org_repo_cta.import_repository&quot;}, {&quot;experimentIds&quot;: [], &quot;id&quot;: &quot;18210945499&quot;, &quot;key&quot;: &quot;click.org_onboarding_checklist.invite_members&quot;}, {&quot;experimentIds&quot;: [], &quot;id&quot;: &quot;18211063248&quot;, &quot;key&quot;: &quot;click.empty_org_repo_cta.create_repository&quot;}, {&quot;experimentIds&quot;: [], &quot;id&quot;: &quot;18215721889&quot;, &quot;key&quot;: &quot;click.org_onboarding_checklist.update_profile&quot;}, {&quot;experimentIds&quot;: [], &quot;id&quot;: &quot;18224360785&quot;, &quot;key&quot;: &quot;click.org_onboarding_checklist.dismiss&quot;}, {&quot;experimentIds&quot;: [], &quot;id&quot;: &quot;18234832286&quot;, &quot;key&quot;: &quot;submit.organization_activation.complete&quot;}, {&quot;experimentIds&quot;: [], &quot;id&quot;: &quot;18252392383&quot;, &quot;key&quot;: &quot;submit.org_repository.create&quot;}, {&quot;experimentIds&quot;: [], &quot;id&quot;: &quot;18257551537&quot;, &quot;key&quot;: &quot;submit.org_member_invitation.create&quot;}, {&quot;experimentIds&quot;: [], &quot;id&quot;: &quot;18259522260&quot;, &quot;key&quot;: &quot;submit.organization_profile.update&quot;}, {&quot;experimentIds&quot;: [], &quot;id&quot;: &quot;18564603625&quot;, &quot;key&quot;: &quot;view.classroom_select_organization&quot;}, {&quot;experimentIds&quot;: [], &quot;id&quot;: &quot;18568612016&quot;, &quot;key&quot;: &quot;click.classroom_sign_in_click&quot;}, {&quot;experimentIds&quot;: [], &quot;id&quot;: &quot;18572592540&quot;, &quot;key&quot;: &quot;view.classroom_name&quot;}, {&quot;experimentIds&quot;: [], &quot;id&quot;: &quot;18574203855&quot;, &quot;key&quot;: &quot;click.classroom_create_organization&quot;}, {&quot;experimentIds&quot;: [], &quot;id&quot;: &quot;18582053415&quot;, &quot;key&quot;: &quot;click.classroom_select_organization&quot;}, {&quot;experimentIds&quot;: [], &quot;id&quot;: &quot;18589463420&quot;, &quot;key&quot;: &quot;click.classroom_create_classroom&quot;}, {&quot;experimentIds&quot;: [], &quot;id&quot;: &quot;18591323364&quot;, &quot;key&quot;: &quot;click.classroom_create_first_classroom&quot;}, {&quot;experimentIds&quot;: [], &quot;id&quot;: &quot;18591652321&quot;, &quot;key&quot;: &quot;click.classroom_grant_access&quot;}, {&quot;experimentIds&quot;: [], &quot;id&quot;: &quot;18607131425&quot;, &quot;key&quot;: &quot;view.classroom_creation&quot;}, {&quot;experimentIds&quot;: [], &quot;id&quot;: &quot;18831680583&quot;, &quot;key&quot;: &quot;upgrade_account_plan&quot;}, {&quot;experimentIds&quot;: [], &quot;id&quot;: &quot;19064064515&quot;, &quot;key&quot;: &quot;click.signup&quot;}, {&quot;experimentIds&quot;: [], &quot;id&quot;: &quot;19075373687&quot;, &quot;key&quot;: &quot;click.view_account_billing_page&quot;}, {&quot;experimentIds&quot;: [], &quot;id&quot;: &quot;19077355841&quot;, &quot;key&quot;: &quot;click.dismiss_signup_prompt&quot;}, {&quot;experimentIds&quot;: [], &quot;id&quot;: &quot;19079713938&quot;, &quot;key&quot;: &quot;click.contact_sales&quot;}, {&quot;experimentIds&quot;: [], &quot;id&quot;: &quot;19120963070&quot;, &quot;key&quot;: &quot;click.compare_account_plans&quot;}, {&quot;experimentIds&quot;: [&quot;20233233507&quot;], &quot;id&quot;: &quot;19151690317&quot;, &quot;key&quot;: &quot;click.upgrade_account_cta&quot;}, {&quot;experimentIds&quot;: [], &quot;id&quot;: &quot;19424193129&quot;, &quot;key&quot;: &quot;click.open_account_switcher&quot;}, {&quot;experimentIds&quot;: [], &quot;id&quot;: &quot;19520330825&quot;, &quot;key&quot;: &quot;click.visit_account_profile&quot;}, {&quot;experimentIds&quot;: [], &quot;id&quot;: &quot;19540970635&quot;, &quot;key&quot;: &quot;click.switch_account_context&quot;}, {&quot;experimentIds&quot;: [&quot;20121990335&quot;], &quot;id&quot;: &quot;19730198868&quot;, &quot;key&quot;: &quot;submit.homepage_signup&quot;}, {&quot;experimentIds&quot;: [&quot;20121990335&quot;], &quot;id&quot;: &quot;19820830627&quot;, &quot;key&quot;: &quot;click.homepage_signup&quot;}, {&quot;experimentIds&quot;: [], &quot;id&quot;: &quot;19988571001&quot;, &quot;key&quot;: &quot;click.create_enterprise_trial&quot;}, {&quot;experimentIds&quot;: [&quot;20233233507&quot;], &quot;id&quot;: &quot;20036538294&quot;, &quot;key&quot;: &quot;click.create_organization_team&quot;}, {&quot;experimentIds&quot;: [], &quot;id&quot;: &quot;20040653299&quot;, &quot;key&quot;: &quot;click.input_enterprise_trial_form&quot;}, {&quot;experimentIds&quot;: [&quot;20233233507&quot;], &quot;id&quot;: &quot;20062030003&quot;, &quot;key&quot;: &quot;click.continue_with_team&quot;}, {&quot;experimentIds&quot;: [], &quot;id&quot;: &quot;20068947153&quot;, &quot;key&quot;: &quot;click.create_organization_free&quot;}, {&quot;experimentIds&quot;: [], &quot;id&quot;: &quot;20086636658&quot;, &quot;key&quot;: &quot;click.signup_continue.username&quot;}, {&quot;experimentIds&quot;: [], &quot;id&quot;: &quot;20091648988&quot;, &quot;key&quot;: &quot;click.signup_continue.create_account&quot;}, {&quot;experimentIds&quot;: [], &quot;id&quot;: &quot;20103637615&quot;, &quot;key&quot;: &quot;click.signup_continue.email&quot;}, {&quot;experimentIds&quot;: [], &quot;id&quot;: &quot;20111574253&quot;, &quot;key&quot;: &quot;click.signup_continue.password&quot;}, {&quot;experimentIds&quot;: [&quot;20233233507&quot;], &quot;id&quot;: &quot;20120044111&quot;, &quot;key&quot;: &quot;view.pricing_page&quot;}, {&quot;experimentIds&quot;: [&quot;20121990335&quot;, &quot;20233233507&quot;], &quot;id&quot;: &quot;20152062109&quot;, &quot;key&quot;: &quot;submit.create_account&quot;}, {&quot;experimentIds&quot;: [&quot;20233233507&quot;], &quot;id&quot;: &quot;20165800992&quot;, &quot;key&quot;: &quot;submit.upgrade_payment_form&quot;}, {&quot;experimentIds&quot;: [&quot;20233233507&quot;], &quot;id&quot;: &quot;20171520319&quot;, &quot;key&quot;: &quot;submit.create_organization&quot;}, {&quot;experimentIds&quot;: [], &quot;id&quot;: &quot;20227443657&quot;, &quot;key&quot;: &quot;submit.verify_primary_user_email&quot;}], &quot;revision&quot;: &quot;639&quot;}" />
  <!-- To prevent page flashing, the optimizely JS needs to be loaded in the
    <head> tag before the DOM renders -->
  <script crossorigin="anonymous" defer="defer" integrity="sha512-h+L2E3+/Ei0Emmka3ANzyCF3rZ0Z7t0E5E7ECcc7qFQLoTI2NEYaRwLozQex4mO+guLDpdDwa/YMJxYjWSBNEg==" type="application/javascript" src="https://github.githubassets.com/assets/optimizely-87e2f613.js"></script>



  

      <meta name="hostname" content="github.com">
    <meta name="user-login" content="GuilhemSicard">


      <meta name="expected-hostname" content="github.com">

      <meta name="js-proxy-site-detection-payload" content="YmMwMWFlNWJiOTkyNWY5NTUxZGU1ZjdiNjc2NzlkNmY2ODAzODdiYmM5OGY4ODhlMDY3NGEzOTQyZGY3NTFmZHx7InJlbW90ZV9hZGRyZXNzIjoiMTg1LjI1LjE5Mi4xNTAiLCJyZXF1ZXN0X2lkIjoiODAzNjoxMThBOjVCRjdBQjo2MDQxNkY6NjA5MjUwQzgiLCJ0aW1lc3RhbXAiOjE2MjAyMDE3MTYsImhvc3QiOiJnaXRodWIuY29tIn0=">

    <meta name="enabled-features" content="MARKETPLACE_PENDING_INSTALLATIONS,AUTOCOMPLETE_EMOJIS_IN_MARKDOWN_EDITOR,GITHUB_TOKEN_PERMISSION,ACTIONS_CONCURRENCY_UI">

  <meta http-equiv="x-pjax-version" content="c4ec526c42f9925c02376cee016897adc532d0c5724b4a3c57c5a055f3e9f32a">
  

    
  <meta name="go-import" content="github.com/MNabegh/mlbd-project git https://github.com/MNabegh/mlbd-project.git">

  <meta name="octolytics-dimension-user_id" content="21170083" /><meta name="octolytics-dimension-user_login" content="MNabegh" /><meta name="octolytics-dimension-repository_id" content="363179807" /><meta name="octolytics-dimension-repository_nwo" content="MNabegh/mlbd-project" /><meta name="octolytics-dimension-repository_public" content="false" /><meta name="octolytics-dimension-repository_is_fork" content="false" /><meta name="octolytics-dimension-repository_network_root_id" content="363179807" /><meta name="octolytics-dimension-repository_network_root_nwo" content="MNabegh/mlbd-project" />



    <link rel="canonical" href="https://github.com/MNabegh/mlbd-project/blob/e73b5b48da5836b1dfc12c5c5aa297783d20fed4/explanatory_analysis.ipynb" data-pjax-transient>


  <meta name="browser-stats-url" content="https://api.github.com/_private/browser/stats">

  <meta name="browser-errors-url" content="https://api.github.com/_private/browser/errors">

  <meta name="browser-optimizely-client-errors-url" content="https://api.github.com/_private/browser/optimizely_client/errors">

  <link rel="mask-icon" href="https://github.githubassets.com/pinned-octocat.svg" color="#000000">
  <link rel="alternate icon" class="js-site-favicon" type="image/png" href="https://github.githubassets.com/favicons/favicon.png">
  <link rel="icon" class="js-site-favicon" type="image/svg+xml" href="https://github.githubassets.com/favicons/favicon.svg">

<meta name="theme-color" content="#1e2327">
<meta name="color-scheme" content="light dark" />


  <link rel="manifest" href="/manifest.json" crossOrigin="use-credentials">

  </head>

  <body class="logged-in env-production page-responsive page-blob" style="word-wrap: break-word;">
    

    <div class="position-relative js-header-wrapper ">
      <a href="#start-of-content" class="p-3 color-bg-info-inverse color-text-white show-on-focus js-skip-to-content">Skip to content</a>
      <span class="progress-pjax-loader width-full js-pjax-loader-bar Progress position-fixed">
    <span style="background-color: #79b8ff;width: 0%;" class="Progress-item progress-pjax-loader-bar "></span>
</span>      
      


            <header class="Header js-details-container Details px-3 px-md-4 px-lg-5 flex-wrap flex-md-nowrap" role="banner" >
    <div class="Header-item mt-n1 mb-n1  d-none d-md-flex">
      <a class="Header-link " href="https://github.com/" data-hotkey="g d"
  aria-label="Homepage " data-ga-click="Header, go to dashboard, icon:logo">
  <svg class="octicon octicon-mark-github v-align-middle" height="32" viewBox="0 0 16 16" version="1.1" width="32" aria-hidden="true"><path fill-rule="evenodd" d="M8 0C3.58 0 0 3.58 0 8c0 3.54 2.29 6.53 5.47 7.59.4.07.55-.17.55-.38 0-.19-.01-.82-.01-1.49-2.01.37-2.53-.49-2.69-.94-.09-.23-.48-.94-.82-1.13-.28-.15-.68-.52-.01-.53.63-.01 1.08.58 1.23.82.72 1.21 1.87.87 2.33.66.07-.52.28-.87.51-1.07-1.78-.2-3.64-.89-3.64-3.95 0-.87.31-1.59.82-2.15-.08-.2-.36-1.02.08-2.12 0 0 .67-.21 2.2.82.64-.18 1.32-.27 2-.27.68 0 1.36.09 2 .27 1.53-1.04 2.2-.82 2.2-.82.44 1.1.16 1.92.08 2.12.51.56.82 1.27.82 2.15 0 3.07-1.87 3.75-3.65 3.95.29.25.54.73.54 1.48 0 1.07-.01 1.93-.01 2.2 0 .21.15.46.55.38A8.013 8.013 0 0016 8c0-4.42-3.58-8-8-8z"></path></svg>
</a>

    </div>

    <div class="Header-item d-md-none">
      <button class="Header-link btn-link js-details-target" type="button" aria-label="Toggle navigation" aria-expanded="false">
        <svg height="24" class="octicon octicon-three-bars" viewBox="0 0 16 16" version="1.1" width="24" aria-hidden="true"><path fill-rule="evenodd" d="M1 2.75A.75.75 0 011.75 2h12.5a.75.75 0 110 1.5H1.75A.75.75 0 011 2.75zm0 5A.75.75 0 011.75 7h12.5a.75.75 0 110 1.5H1.75A.75.75 0 011 7.75zM1.75 12a.75.75 0 100 1.5h12.5a.75.75 0 100-1.5H1.75z"></path></svg>
      </button>
    </div>

    <div class="Header-item Header-item--full flex-column flex-md-row width-full flex-order-2 flex-md-order-none mr-0 mr-md-3 mt-3 mt-md-0 Details-content--hidden-not-important d-md-flex">
          <div class="header-search flex-auto js-site-search position-relative flex-self-stretch flex-md-self-auto mb-3 mb-md-0 mr-0 mr-md-3 scoped-search site-scoped-search js-jump-to"
  role="combobox"
  aria-owns="jump-to-results"
  aria-label="Search or jump to"
  aria-haspopup="listbox"
  aria-expanded="false"
>
  <div class="position-relative">
    <!-- '"` --><!-- </textarea></xmp> --></option></form><form class="js-site-search-form" role="search" aria-label="Site" data-scope-type="Repository" data-scope-id="363179807" data-scoped-search-url="/MNabegh/mlbd-project/search" data-owner-scoped-search-url="/users/MNabegh/search" data-unscoped-search-url="/search" action="/MNabegh/mlbd-project/search" accept-charset="UTF-8" method="get">
      <label class="form-control input-sm header-search-wrapper p-0 js-chromeless-input-container header-search-wrapper-jump-to position-relative d-flex flex-justify-between flex-items-center">
        <input type="text"
          class="form-control input-sm header-search-input jump-to-field js-jump-to-field js-site-search-focus js-site-search-field is-clearable"
          data-hotkey="s,/"
          name="q"
          value=""
          placeholder="Search or jump to…"
          data-unscoped-placeholder="Search or jump to…"
          data-scoped-placeholder="Search or jump to…"
          autocapitalize="off"
          aria-autocomplete="list"
          aria-controls="jump-to-results"
          aria-label="Search or jump to…"
          data-jump-to-suggestions-path="/_graphql/GetSuggestedNavigationDestinations"
          spellcheck="false"
          autocomplete="off"
          >
          <input type="hidden" value="loUwcrscziZrT2daCs2ERRZo4JL1pXO156/33284IdrwOI3Bd+uH6pPjXZLvfwsbONt8FI7xcPV5nybxPiEHaA==" data-csrf="true" class="js-data-jump-to-suggestions-path-csrf" />
          <input type="hidden" class="js-site-search-type-field" name="type" >
            <img src="https://github.githubassets.com/images/search-key-slash.svg" alt="" class="mr-2 header-search-key-slash">

            <div class="Box position-absolute overflow-hidden d-none jump-to-suggestions js-jump-to-suggestions-container">
              
<ul class="d-none js-jump-to-suggestions-template-container">
  

<li class="d-flex flex-justify-start flex-items-center p-0 f5 navigation-item js-navigation-item js-jump-to-suggestion" role="option">
  <a tabindex="-1" class="no-underline d-flex flex-auto flex-items-center jump-to-suggestions-path js-jump-to-suggestion-path js-navigation-open p-2" href="" data-item-type="suggestion">
    <div class="jump-to-octicon js-jump-to-octicon flex-shrink-0 mr-2 text-center d-none">
      <svg height="16" width="16" class="octicon octicon-repo flex-shrink-0 js-jump-to-octicon-repo d-none" title="Repository" aria-label="Repository" viewBox="0 0 16 16" version="1.1" role="img"><path fill-rule="evenodd" d="M2 2.5A2.5 2.5 0 014.5 0h8.75a.75.75 0 01.75.75v12.5a.75.75 0 01-.75.75h-2.5a.75.75 0 110-1.5h1.75v-2h-8a1 1 0 00-.714 1.7.75.75 0 01-1.072 1.05A2.495 2.495 0 012 11.5v-9zm10.5-1V9h-8c-.356 0-.694.074-1 .208V2.5a1 1 0 011-1h8zM5 12.25v3.25a.25.25 0 00.4.2l1.45-1.087a.25.25 0 01.3 0L8.6 15.7a.25.25 0 00.4-.2v-3.25a.25.25 0 00-.25-.25h-3.5a.25.25 0 00-.25.25z"></path></svg>
      <svg height="16" width="16" class="octicon octicon-project flex-shrink-0 js-jump-to-octicon-project d-none" title="Project" aria-label="Project" viewBox="0 0 16 16" version="1.1" role="img"><path fill-rule="evenodd" d="M1.75 0A1.75 1.75 0 000 1.75v12.5C0 15.216.784 16 1.75 16h12.5A1.75 1.75 0 0016 14.25V1.75A1.75 1.75 0 0014.25 0H1.75zM1.5 1.75a.25.25 0 01.25-.25h12.5a.25.25 0 01.25.25v12.5a.25.25 0 01-.25.25H1.75a.25.25 0 01-.25-.25V1.75zM11.75 3a.75.75 0 00-.75.75v7.5a.75.75 0 001.5 0v-7.5a.75.75 0 00-.75-.75zm-8.25.75a.75.75 0 011.5 0v5.5a.75.75 0 01-1.5 0v-5.5zM8 3a.75.75 0 00-.75.75v3.5a.75.75 0 001.5 0v-3.5A.75.75 0 008 3z"></path></svg>
      <svg height="16" width="16" class="octicon octicon-search flex-shrink-0 js-jump-to-octicon-search d-none" title="Search" aria-label="Search" viewBox="0 0 16 16" version="1.1" role="img"><path fill-rule="evenodd" d="M11.5 7a4.499 4.499 0 11-8.998 0A4.499 4.499 0 0111.5 7zm-.82 4.74a6 6 0 111.06-1.06l3.04 3.04a.75.75 0 11-1.06 1.06l-3.04-3.04z"></path></svg>
    </div>

    <img class="avatar mr-2 flex-shrink-0 js-jump-to-suggestion-avatar d-none" alt="" aria-label="Team" src="" width="28" height="28">

    <div class="jump-to-suggestion-name js-jump-to-suggestion-name flex-auto overflow-hidden text-left no-wrap css-truncate css-truncate-target">
    </div>

    <div class="border rounded-1 flex-shrink-0 color-bg-tertiary px-1 color-text-tertiary ml-1 f6 d-none js-jump-to-badge-search">
      <span class="js-jump-to-badge-search-text-default d-none" aria-label="in this repository">
        In this repository
      </span>
      <span class="js-jump-to-badge-search-text-global d-none" aria-label="in all of GitHub">
        All GitHub
      </span>
      <span aria-hidden="true" class="d-inline-block ml-1 v-align-middle">↵</span>
    </div>

    <div aria-hidden="true" class="border rounded-1 flex-shrink-0 color-bg-tertiary px-1 color-text-tertiary ml-1 f6 d-none d-on-nav-focus js-jump-to-badge-jump">
      Jump to
      <span class="d-inline-block ml-1 v-align-middle">↵</span>
    </div>
  </a>
</li>

</ul>

<ul class="d-none js-jump-to-no-results-template-container">
  <li class="d-flex flex-justify-center flex-items-center f5 d-none js-jump-to-suggestion p-2">
    <span class="color-text-secondary">No suggested jump to results</span>
  </li>
</ul>

<ul id="jump-to-results" role="listbox" class="p-0 m-0 js-navigation-container jump-to-suggestions-results-container js-jump-to-suggestions-results-container">
  

<li class="d-flex flex-justify-start flex-items-center p-0 f5 navigation-item js-navigation-item js-jump-to-scoped-search d-none" role="option">
  <a tabindex="-1" class="no-underline d-flex flex-auto flex-items-center jump-to-suggestions-path js-jump-to-suggestion-path js-navigation-open p-2" href="" data-item-type="scoped_search">
    <div class="jump-to-octicon js-jump-to-octicon flex-shrink-0 mr-2 text-center d-none">
      <svg height="16" width="16" class="octicon octicon-repo flex-shrink-0 js-jump-to-octicon-repo d-none" title="Repository" aria-label="Repository" viewBox="0 0 16 16" version="1.1" role="img"><path fill-rule="evenodd" d="M2 2.5A2.5 2.5 0 014.5 0h8.75a.75.75 0 01.75.75v12.5a.75.75 0 01-.75.75h-2.5a.75.75 0 110-1.5h1.75v-2h-8a1 1 0 00-.714 1.7.75.75 0 01-1.072 1.05A2.495 2.495 0 012 11.5v-9zm10.5-1V9h-8c-.356 0-.694.074-1 .208V2.5a1 1 0 011-1h8zM5 12.25v3.25a.25.25 0 00.4.2l1.45-1.087a.25.25 0 01.3 0L8.6 15.7a.25.25 0 00.4-.2v-3.25a.25.25 0 00-.25-.25h-3.5a.25.25 0 00-.25.25z"></path></svg>
      <svg height="16" width="16" class="octicon octicon-project flex-shrink-0 js-jump-to-octicon-project d-none" title="Project" aria-label="Project" viewBox="0 0 16 16" version="1.1" role="img"><path fill-rule="evenodd" d="M1.75 0A1.75 1.75 0 000 1.75v12.5C0 15.216.784 16 1.75 16h12.5A1.75 1.75 0 0016 14.25V1.75A1.75 1.75 0 0014.25 0H1.75zM1.5 1.75a.25.25 0 01.25-.25h12.5a.25.25 0 01.25.25v12.5a.25.25 0 01-.25.25H1.75a.25.25 0 01-.25-.25V1.75zM11.75 3a.75.75 0 00-.75.75v7.5a.75.75 0 001.5 0v-7.5a.75.75 0 00-.75-.75zm-8.25.75a.75.75 0 011.5 0v5.5a.75.75 0 01-1.5 0v-5.5zM8 3a.75.75 0 00-.75.75v3.5a.75.75 0 001.5 0v-3.5A.75.75 0 008 3z"></path></svg>
      <svg height="16" width="16" class="octicon octicon-search flex-shrink-0 js-jump-to-octicon-search d-none" title="Search" aria-label="Search" viewBox="0 0 16 16" version="1.1" role="img"><path fill-rule="evenodd" d="M11.5 7a4.499 4.499 0 11-8.998 0A4.499 4.499 0 0111.5 7zm-.82 4.74a6 6 0 111.06-1.06l3.04 3.04a.75.75 0 11-1.06 1.06l-3.04-3.04z"></path></svg>
    </div>

    <img class="avatar mr-2 flex-shrink-0 js-jump-to-suggestion-avatar d-none" alt="" aria-label="Team" src="" width="28" height="28">

    <div class="jump-to-suggestion-name js-jump-to-suggestion-name flex-auto overflow-hidden text-left no-wrap css-truncate css-truncate-target">
    </div>

    <div class="border rounded-1 flex-shrink-0 color-bg-tertiary px-1 color-text-tertiary ml-1 f6 d-none js-jump-to-badge-search">
      <span class="js-jump-to-badge-search-text-default d-none" aria-label="in this repository">
        In this repository
      </span>
      <span class="js-jump-to-badge-search-text-global d-none" aria-label="in all of GitHub">
        All GitHub
      </span>
      <span aria-hidden="true" class="d-inline-block ml-1 v-align-middle">↵</span>
    </div>

    <div aria-hidden="true" class="border rounded-1 flex-shrink-0 color-bg-tertiary px-1 color-text-tertiary ml-1 f6 d-none d-on-nav-focus js-jump-to-badge-jump">
      Jump to
      <span class="d-inline-block ml-1 v-align-middle">↵</span>
    </div>
  </a>
</li>

  

<li class="d-flex flex-justify-start flex-items-center p-0 f5 navigation-item js-navigation-item js-jump-to-owner-scoped-search d-none" role="option">
  <a tabindex="-1" class="no-underline d-flex flex-auto flex-items-center jump-to-suggestions-path js-jump-to-suggestion-path js-navigation-open p-2" href="" data-item-type="owner_scoped_search">
    <div class="jump-to-octicon js-jump-to-octicon flex-shrink-0 mr-2 text-center d-none">
      <svg height="16" width="16" class="octicon octicon-repo flex-shrink-0 js-jump-to-octicon-repo d-none" title="Repository" aria-label="Repository" viewBox="0 0 16 16" version="1.1" role="img"><path fill-rule="evenodd" d="M2 2.5A2.5 2.5 0 014.5 0h8.75a.75.75 0 01.75.75v12.5a.75.75 0 01-.75.75h-2.5a.75.75 0 110-1.5h1.75v-2h-8a1 1 0 00-.714 1.7.75.75 0 01-1.072 1.05A2.495 2.495 0 012 11.5v-9zm10.5-1V9h-8c-.356 0-.694.074-1 .208V2.5a1 1 0 011-1h8zM5 12.25v3.25a.25.25 0 00.4.2l1.45-1.087a.25.25 0 01.3 0L8.6 15.7a.25.25 0 00.4-.2v-3.25a.25.25 0 00-.25-.25h-3.5a.25.25 0 00-.25.25z"></path></svg>
      <svg height="16" width="16" class="octicon octicon-project flex-shrink-0 js-jump-to-octicon-project d-none" title="Project" aria-label="Project" viewBox="0 0 16 16" version="1.1" role="img"><path fill-rule="evenodd" d="M1.75 0A1.75 1.75 0 000 1.75v12.5C0 15.216.784 16 1.75 16h12.5A1.75 1.75 0 0016 14.25V1.75A1.75 1.75 0 0014.25 0H1.75zM1.5 1.75a.25.25 0 01.25-.25h12.5a.25.25 0 01.25.25v12.5a.25.25 0 01-.25.25H1.75a.25.25 0 01-.25-.25V1.75zM11.75 3a.75.75 0 00-.75.75v7.5a.75.75 0 001.5 0v-7.5a.75.75 0 00-.75-.75zm-8.25.75a.75.75 0 011.5 0v5.5a.75.75 0 01-1.5 0v-5.5zM8 3a.75.75 0 00-.75.75v3.5a.75.75 0 001.5 0v-3.5A.75.75 0 008 3z"></path></svg>
      <svg height="16" width="16" class="octicon octicon-search flex-shrink-0 js-jump-to-octicon-search d-none" title="Search" aria-label="Search" viewBox="0 0 16 16" version="1.1" role="img"><path fill-rule="evenodd" d="M11.5 7a4.499 4.499 0 11-8.998 0A4.499 4.499 0 0111.5 7zm-.82 4.74a6 6 0 111.06-1.06l3.04 3.04a.75.75 0 11-1.06 1.06l-3.04-3.04z"></path></svg>
    </div>

    <img class="avatar mr-2 flex-shrink-0 js-jump-to-suggestion-avatar d-none" alt="" aria-label="Team" src="" width="28" height="28">

    <div class="jump-to-suggestion-name js-jump-to-suggestion-name flex-auto overflow-hidden text-left no-wrap css-truncate css-truncate-target">
    </div>

    <div class="border rounded-1 flex-shrink-0 color-bg-tertiary px-1 color-text-tertiary ml-1 f6 d-none js-jump-to-badge-search">
      <span class="js-jump-to-badge-search-text-default d-none" aria-label="in this user">
        In this user
      </span>
      <span class="js-jump-to-badge-search-text-global d-none" aria-label="in all of GitHub">
        All GitHub
      </span>
      <span aria-hidden="true" class="d-inline-block ml-1 v-align-middle">↵</span>
    </div>

    <div aria-hidden="true" class="border rounded-1 flex-shrink-0 color-bg-tertiary px-1 color-text-tertiary ml-1 f6 d-none d-on-nav-focus js-jump-to-badge-jump">
      Jump to
      <span class="d-inline-block ml-1 v-align-middle">↵</span>
    </div>
  </a>
</li>

  

<li class="d-flex flex-justify-start flex-items-center p-0 f5 navigation-item js-navigation-item js-jump-to-global-search d-none" role="option">
  <a tabindex="-1" class="no-underline d-flex flex-auto flex-items-center jump-to-suggestions-path js-jump-to-suggestion-path js-navigation-open p-2" href="" data-item-type="global_search">
    <div class="jump-to-octicon js-jump-to-octicon flex-shrink-0 mr-2 text-center d-none">
      <svg height="16" width="16" class="octicon octicon-repo flex-shrink-0 js-jump-to-octicon-repo d-none" title="Repository" aria-label="Repository" viewBox="0 0 16 16" version="1.1" role="img"><path fill-rule="evenodd" d="M2 2.5A2.5 2.5 0 014.5 0h8.75a.75.75 0 01.75.75v12.5a.75.75 0 01-.75.75h-2.5a.75.75 0 110-1.5h1.75v-2h-8a1 1 0 00-.714 1.7.75.75 0 01-1.072 1.05A2.495 2.495 0 012 11.5v-9zm10.5-1V9h-8c-.356 0-.694.074-1 .208V2.5a1 1 0 011-1h8zM5 12.25v3.25a.25.25 0 00.4.2l1.45-1.087a.25.25 0 01.3 0L8.6 15.7a.25.25 0 00.4-.2v-3.25a.25.25 0 00-.25-.25h-3.5a.25.25 0 00-.25.25z"></path></svg>
      <svg height="16" width="16" class="octicon octicon-project flex-shrink-0 js-jump-to-octicon-project d-none" title="Project" aria-label="Project" viewBox="0 0 16 16" version="1.1" role="img"><path fill-rule="evenodd" d="M1.75 0A1.75 1.75 0 000 1.75v12.5C0 15.216.784 16 1.75 16h12.5A1.75 1.75 0 0016 14.25V1.75A1.75 1.75 0 0014.25 0H1.75zM1.5 1.75a.25.25 0 01.25-.25h12.5a.25.25 0 01.25.25v12.5a.25.25 0 01-.25.25H1.75a.25.25 0 01-.25-.25V1.75zM11.75 3a.75.75 0 00-.75.75v7.5a.75.75 0 001.5 0v-7.5a.75.75 0 00-.75-.75zm-8.25.75a.75.75 0 011.5 0v5.5a.75.75 0 01-1.5 0v-5.5zM8 3a.75.75 0 00-.75.75v3.5a.75.75 0 001.5 0v-3.5A.75.75 0 008 3z"></path></svg>
      <svg height="16" width="16" class="octicon octicon-search flex-shrink-0 js-jump-to-octicon-search d-none" title="Search" aria-label="Search" viewBox="0 0 16 16" version="1.1" role="img"><path fill-rule="evenodd" d="M11.5 7a4.499 4.499 0 11-8.998 0A4.499 4.499 0 0111.5 7zm-.82 4.74a6 6 0 111.06-1.06l3.04 3.04a.75.75 0 11-1.06 1.06l-3.04-3.04z"></path></svg>
    </div>

    <img class="avatar mr-2 flex-shrink-0 js-jump-to-suggestion-avatar d-none" alt="" aria-label="Team" src="" width="28" height="28">

    <div class="jump-to-suggestion-name js-jump-to-suggestion-name flex-auto overflow-hidden text-left no-wrap css-truncate css-truncate-target">
    </div>

    <div class="border rounded-1 flex-shrink-0 color-bg-tertiary px-1 color-text-tertiary ml-1 f6 d-none js-jump-to-badge-search">
      <span class="js-jump-to-badge-search-text-default d-none" aria-label="in this repository">
        In this repository
      </span>
      <span class="js-jump-to-badge-search-text-global d-none" aria-label="in all of GitHub">
        All GitHub
      </span>
      <span aria-hidden="true" class="d-inline-block ml-1 v-align-middle">↵</span>
    </div>

    <div aria-hidden="true" class="border rounded-1 flex-shrink-0 color-bg-tertiary px-1 color-text-tertiary ml-1 f6 d-none d-on-nav-focus js-jump-to-badge-jump">
      Jump to
      <span class="d-inline-block ml-1 v-align-middle">↵</span>
    </div>
  </a>
</li>


    <li class="d-flex flex-justify-center flex-items-center p-0 f5 js-jump-to-suggestion">
      <svg style="box-sizing: content-box; color: var(--color-icon-primary);" viewBox="0 0 16 16" fill="none" width="32" height="32" class="m-3 anim-rotate">
  <circle cx="8" cy="8" r="7" stroke="currentColor" stroke-opacity="0.25" stroke-width="2" vector-effect="non-scaling-stroke" />
  <path d="M15 8a7.002 7.002 0 00-7-7" stroke="currentColor" stroke-width="2" stroke-linecap="round" vector-effect="non-scaling-stroke" />
</svg>
    </li>
</ul>

            </div>
      </label>
</form>  </div>
</div>

        <nav class="d-flex flex-column flex-md-row flex-self-stretch flex-md-self-auto" aria-label="Global">
      <a class="Header-link py-md-3 d-block d-md-none py-2 border-top border-md-top-0 border-white-fade-15" data-ga-click="Header, click, Nav menu - item:dashboard:user" aria-label="Dashboard" href="/dashboard">
        Dashboard
</a>
    <a class="js-selected-navigation-item Header-link mt-md-n3 mb-md-n3 py-2 py-md-3 mr-0 mr-md-3 border-top border-md-top-0 border-white-fade-15" data-hotkey="g p" data-ga-click="Header, click, Nav menu - item:pulls context:user" aria-label="Pull requests you created" data-selected-links="/pulls /pulls/assigned /pulls/mentioned /pulls" href="/pulls">
        Pull<span class="d-inline d-md-none d-lg-inline"> request</span>s
</a>
    <a class="js-selected-navigation-item Header-link mt-md-n3 mb-md-n3 py-2 py-md-3 mr-0 mr-md-3 border-top border-md-top-0 border-white-fade-15" data-hotkey="g i" data-ga-click="Header, click, Nav menu - item:issues context:user" aria-label="Issues you created" data-selected-links="/issues /issues/assigned /issues/mentioned /issues" href="/issues">
      Issues
</a>
      <div class="d-flex position-relative">
        <a class="js-selected-navigation-item Header-link flex-auto mt-md-n3 mb-md-n3 py-2 py-md-3 mr-0 mr-md-3 border-top border-md-top-0 border-white-fade-15" data-ga-click="Header, click, Nav menu - item:marketplace context:user" data-octo-click="marketplace_click" data-octo-dimensions="location:nav_bar" data-selected-links=" /marketplace" href="/marketplace">
          Marketplace
</a>      </div>

    <a class="js-selected-navigation-item Header-link mt-md-n3 mb-md-n3 py-2 py-md-3 mr-0 mr-md-3 border-top border-md-top-0 border-white-fade-15" data-ga-click="Header, click, Nav menu - item:explore" data-selected-links="/explore /trending /trending/developers /integrations /integrations/feature/code /integrations/feature/collaborate /integrations/feature/ship showcases showcases_search showcases_landing /explore" href="/explore">
      Explore
</a>
    <a class="js-selected-navigation-item Header-link d-block d-md-none py-2 py-md-3 border-top border-md-top-0 border-white-fade-15" data-ga-click="Header, click, Nav menu - item:workspaces context:user" data-selected-links="/codespaces /codespaces" href="/codespaces">
      Codespaces
</a>
      <a class="js-selected-navigation-item Header-link d-block d-md-none py-2 py-md-3 border-top border-md-top-0 border-white-fade-15" data-ga-click="Header, click, Nav menu - item:Sponsors" data-hydro-click="{&quot;event_type&quot;:&quot;sponsors.button_click&quot;,&quot;payload&quot;:{&quot;button&quot;:&quot;HEADER_SPONSORS_DASHBOARD&quot;,&quot;sponsorable_login&quot;:&quot;GuilhemSicard&quot;,&quot;originating_url&quot;:&quot;https://github.com/MNabegh/mlbd-project/blob/e73b5b48da5836b1dfc12c5c5aa297783d20fed4/explanatory_analysis.ipynb&quot;,&quot;user_id&quot;:22446733}}" data-hydro-click-hmac="d3e5e5fa5e97bc58c75668fc154c49f28aaa54aa8d2f7410c776ef846fba9661" data-selected-links=" /sponsors/accounts" href="/sponsors/accounts">Sponsors</a>

    <a class="Header-link d-block d-md-none mr-0 mr-md-3 py-2 py-md-3 border-top border-md-top-0 border-white-fade-15" href="/settings/profile">
      Settings
</a>
    <a class="Header-link d-block d-md-none mr-0 mr-md-3 py-2 py-md-3 border-top border-md-top-0 border-white-fade-15" href="/GuilhemSicard">
      <img class="avatar avatar-user" src="https://avatars.githubusercontent.com/u/22446733?s=40&amp;v=4" width="20" height="20" alt="@GuilhemSicard" />
      GuilhemSicard
</a>
    <!-- '"` --><!-- </textarea></xmp> --></option></form><form action="/logout" accept-charset="UTF-8" method="post"><input type="hidden" name="authenticity_token" value="v6SEasmowLJDhmoxFNtyHCAftVa1khaB361NlecgdLGmf85gyFk31kZULWhb2o1B2MW3PhyoSsZ4l5md01RDbg==" />
      <button type="submit" class="Header-link mr-0 mr-md-3 py-2 py-md-3 border-top border-md-top-0 border-white-fade-15 d-md-none btn-link d-block width-full text-left" data-ga-click="Header, sign out, icon:logout" style="padding-left: 2px;">
        <svg class="octicon octicon-sign-out v-align-middle" viewBox="0 0 16 16" version="1.1" width="16" height="16" aria-hidden="true"><path fill-rule="evenodd" d="M2 2.75C2 1.784 2.784 1 3.75 1h2.5a.75.75 0 010 1.5h-2.5a.25.25 0 00-.25.25v10.5c0 .138.112.25.25.25h2.5a.75.75 0 010 1.5h-2.5A1.75 1.75 0 012 13.25V2.75zm10.44 4.5H6.75a.75.75 0 000 1.5h5.69l-1.97 1.97a.75.75 0 101.06 1.06l3.25-3.25a.75.75 0 000-1.06l-3.25-3.25a.75.75 0 10-1.06 1.06l1.97 1.97z"></path></svg>
        Sign out
      </button>
</form></nav>

    </div>

    <div class="Header-item Header-item--full flex-justify-center d-md-none position-relative">
        <a class="Header-link " href="https://github.com/" data-hotkey="g d"
  aria-label="Homepage " data-ga-click="Header, go to dashboard, icon:logo">
  <svg class="octicon octicon-mark-github v-align-middle" height="32" viewBox="0 0 16 16" version="1.1" width="32" aria-hidden="true"><path fill-rule="evenodd" d="M8 0C3.58 0 0 3.58 0 8c0 3.54 2.29 6.53 5.47 7.59.4.07.55-.17.55-.38 0-.19-.01-.82-.01-1.49-2.01.37-2.53-.49-2.69-.94-.09-.23-.48-.94-.82-1.13-.28-.15-.68-.52-.01-.53.63-.01 1.08.58 1.23.82.72 1.21 1.87.87 2.33.66.07-.52.28-.87.51-1.07-1.78-.2-3.64-.89-3.64-3.95 0-.87.31-1.59.82-2.15-.08-.2-.36-1.02.08-2.12 0 0 .67-.21 2.2.82.64-.18 1.32-.27 2-.27.68 0 1.36.09 2 .27 1.53-1.04 2.2-.82 2.2-.82.44 1.1.16 1.92.08 2.12.51.56.82 1.27.82 2.15 0 3.07-1.87 3.75-3.65 3.95.29.25.54.73.54 1.48 0 1.07-.01 1.93-.01 2.2 0 .21.15.46.55.38A8.013 8.013 0 0016 8c0-4.42-3.58-8-8-8z"></path></svg>
</a>

    </div>

    <div class="Header-item mr-0 mr-md-3 flex-order-1 flex-md-order-none">
        


      <notification-indicator
        class="js-socket-channel"
        data-test-selector="notifications-indicator"
        data-channel="eyJjIjoibm90aWZpY2F0aW9uLWNoYW5nZWQ6MjI0NDY3MzMiLCJ0IjoxNjIwMjAxNzE2fQ==--3c4bf8f0e377de223f9476dea5986a0d0ba508c9c2024d4f28f67cb282a90ef7">
        <a href="/notifications"
          class="Header-link notification-indicator position-relative tooltipped tooltipped-sw"
          
          aria-label="You have no unread notifications"
          data-hotkey="g n"
          data-ga-click="Header, go to notifications, icon:read"
          data-target="notification-indicator.link">
          <span class="mail-status  " data-target="notification-indicator.modifier"></span>
          <svg class="octicon octicon-bell" viewBox="0 0 16 16" version="1.1" width="16" height="16" aria-hidden="true"><path d="M8 16a2 2 0 001.985-1.75c.017-.137-.097-.25-.235-.25h-3.5c-.138 0-.252.113-.235.25A2 2 0 008 16z"></path><path fill-rule="evenodd" d="M8 1.5A3.5 3.5 0 004.5 5v2.947c0 .346-.102.683-.294.97l-1.703 2.556a.018.018 0 00-.003.01l.001.006c0 .002.002.004.004.006a.017.017 0 00.006.004l.007.001h10.964l.007-.001a.016.016 0 00.006-.004.016.016 0 00.004-.006l.001-.007a.017.017 0 00-.003-.01l-1.703-2.554a1.75 1.75 0 01-.294-.97V5A3.5 3.5 0 008 1.5zM3 5a5 5 0 0110 0v2.947c0 .05.015.098.042.139l1.703 2.555A1.518 1.518 0 0113.482 13H2.518a1.518 1.518 0 01-1.263-2.36l1.703-2.554A.25.25 0 003 7.947V5z"></path></svg>
        </a>
      </notification-indicator>

    </div>


    <div class="Header-item position-relative d-none d-md-flex">
        <details class="details-overlay details-reset js-header-promo-toggle">
  <summary class="Header-link"
      aria-label="Create new…"
      data-ga-click="Header, create new, icon:add">
      <svg class="octicon octicon-plus" viewBox="0 0 16 16" version="1.1" width="16" height="16" aria-hidden="true"><path fill-rule="evenodd" d="M7.75 2a.75.75 0 01.75.75V7h4.25a.75.75 0 110 1.5H8.5v4.25a.75.75 0 11-1.5 0V8.5H2.75a.75.75 0 010-1.5H7V2.75A.75.75 0 017.75 2z"></path></svg> <span class="dropdown-caret"></span>
  </summary>
  <details-menu class="dropdown-menu dropdown-menu-sw">
    
<a role="menuitem" class="dropdown-item" href="/new" data-ga-click="Header, create new repository">
  New repository
</a>

  <a role="menuitem" class="dropdown-item" href="/new/import" data-ga-click="Header, import a repository">
    Import repository
  </a>

<a role="menuitem" class="dropdown-item" href="https://gist.github.com/" data-ga-click="Header, create new gist">
  New gist
</a>

  <a role="menuitem" class="dropdown-item" href="/organizations/new" data-ga-click="Header, create new organization">
    New organization
  </a>


  <div role="none" class="dropdown-divider"></div>
  <div class="dropdown-header">
    <span title="MNabegh/mlbd-project">This repository</span>
  </div>
    <a role="menuitem" class="dropdown-item" href="/MNabegh/mlbd-project/issues/new/choose" data-ga-click="Header, create new issue" data-skip-pjax>
      New issue
    </a>


  </details-menu>
</details>

    </div>

    <div class="Header-item position-relative mr-0 d-none d-md-flex">
        
  <details class="details-overlay details-reset js-header-promo-toggle js-feature-preview-indicator-container" data-feature-preview-indicator-src="/users/GuilhemSicard/feature_preview/indicator_check">

  <summary class="Header-link"
    aria-label="View profile and more"
    data-ga-click="Header, show menu, icon:avatar">
    <img src="https://avatars.githubusercontent.com/u/22446733?s=60&amp;v=4" alt="@GuilhemSicard" size="20" height="20" width="20" class="avatar-user avatar avatar-small "></img>
      <span class="feature-preview-indicator js-feature-preview-indicator" style="top: 1px;" hidden></span>
    <span class="dropdown-caret"></span>
  </summary>
  <details-menu class="dropdown-menu dropdown-menu-sw" style="width: 180px" 
      src="/users/22446733/menu" preload>
      <include-fragment>
        <p class="text-center mt-3" data-hide-on-error>
          <svg style="box-sizing: content-box; color: var(--color-icon-primary);" viewBox="0 0 16 16" fill="none" width="32" height="32" class="anim-rotate">
  <circle cx="8" cy="8" r="7" stroke="currentColor" stroke-opacity="0.25" stroke-width="2" vector-effect="non-scaling-stroke" />
  <path d="M15 8a7.002 7.002 0 00-7-7" stroke="currentColor" stroke-width="2" stroke-linecap="round" vector-effect="non-scaling-stroke" />
</svg>
        </p>
        <p class="ml-1 mb-2 mt-2 color-text-primary" data-show-on-error>
          <svg class="octicon octicon-alert" viewBox="0 0 16 16" version="1.1" width="16" height="16" aria-hidden="true"><path fill-rule="evenodd" d="M8.22 1.754a.25.25 0 00-.44 0L1.698 13.132a.25.25 0 00.22.368h12.164a.25.25 0 00.22-.368L8.22 1.754zm-1.763-.707c.659-1.234 2.427-1.234 3.086 0l6.082 11.378A1.75 1.75 0 0114.082 15H1.918a1.75 1.75 0 01-1.543-2.575L6.457 1.047zM9 11a1 1 0 11-2 0 1 1 0 012 0zm-.25-5.25a.75.75 0 00-1.5 0v2.5a.75.75 0 001.5 0v-2.5z"></path></svg>
          Sorry, something went wrong.
        </p>
      </include-fragment>
  </details-menu>
</details>

    </div>
        <div class="Header-item position-relative m-0 js-notice js-header-color-modes-promo" hidden>
      <!-- '"` --><!-- </textarea></xmp> --></option></form><form class="js-notice-dismiss" action="/settings/dismiss-notice/header_color_modes_banner_ga" accept-charset="UTF-8" method="post"><input type="hidden" name="authenticity_token" value="cmP6ereRZ4jjplb0PZinUfnRGncmxx6IeqRm2CXgZpqxFprzUawOofiZOL3Jbm9XDnOqROp7cGYwnT4IMlTWfA==" />
        <div class="Popover right-0 top-0 mt-4">
          <div class="Popover-message Popover-message--top-right text-left p-4 mt-3 Box color-shadow-large" style="width: 300px;">
            <h3 class="h4 color-text-primary d-flex flex-items-center">
              <span class="d-inline-flex circle flex-justify-center flex-items-center mr-2 flex-shrink-0" style="width:24px;height:24px;background-color:#2F363D;">
                <svg width="12" height="12" viewBox="0 0 12 12" fill="none" aria-hidden="true" xmlns="http://www.w3.org/2000/svg">
                  <path fill-rule="evenodd" clip-rule="evenodd" d="M2.7333 7.4723C5.35283 7.4723 7.47638 5.34874 7.47638 2.72921C7.47638 2.18992 7.38638 1.67166 7.22058 1.18862C7.15675 1.00267 7.31726 0.808797 7.50472 0.868038C9.64461 1.54431 11.1959 3.54549 11.1959 5.90898C11.1959 8.8282 8.82936 11.1947 5.91014 11.1947C3.54494 11.1947 1.54257 9.6412 0.86773 7.49891C0.808663 7.3114 1.00269 7.15107 1.18857 7.21507C1.67279 7.38178 2.19247 7.4723 2.7333 7.4723Z" fill="#FFDF5D"></path>
                </svg>
              </span>
              <span class="ml-1">Dark mode is here!</span>
            </h3>
            <p class="mt-3 mb-0 text-small color-text-primary">
              Go to <a href="/settings/appearance?header_to_settings=1" class="text-bold">Settings &rarr; Appearance</a> to choose your theme preference.
            </p>
            <button type="submit" class="btn mt-3">
              Ok, got it
            </button>
          </div>
        </div>
</form>    </div>

</header>

            
    </div>

  <div id="start-of-content" class="show-on-focus"></div>





    <div data-pjax-replace id="js-flash-container">


  <template class="js-flash-template">
    <div class="flash flash-full  {{ className }}">
  <div class=" px-2" >
    <button class="flash-close js-flash-close" type="button" aria-label="Dismiss this message">
      <svg class="octicon octicon-x" viewBox="0 0 16 16" version="1.1" width="16" height="16" aria-hidden="true"><path fill-rule="evenodd" d="M3.72 3.72a.75.75 0 011.06 0L8 6.94l3.22-3.22a.75.75 0 111.06 1.06L9.06 8l3.22 3.22a.75.75 0 11-1.06 1.06L8 9.06l-3.22 3.22a.75.75 0 01-1.06-1.06L6.94 8 3.72 4.78a.75.75 0 010-1.06z"></path></svg>
    </button>
    
      <div>{{ message }}</div>

  </div>
</div>
  </template>
</div>


    

  <include-fragment class="js-notification-shelf-include-fragment" data-base-src="https://github.com/notifications/beta/shelf"></include-fragment>




  <div
    class="application-main "
    data-commit-hovercards-enabled
    data-discussion-hovercards-enabled
    data-issue-and-pr-hovercards-enabled
  >
        <div itemscope itemtype="http://schema.org/SoftwareSourceCode" class="">
    <main id="js-repo-pjax-container" data-pjax-container >
      

      




  


  <div class="color-bg-secondary pt-3 hide-full-screen mb-5">

      <div class="d-flex mb-3 px-3 px-md-4 px-lg-5">

        <div class="flex-auto min-width-0 width-fit mr-3">
            <h1 class=" d-flex flex-wrap flex-items-center break-word f3 text-normal">
    <svg class="octicon octicon-lock color-text-secondary mr-2" viewBox="0 0 16 16" version="1.1" width="16" height="16" aria-hidden="true"><path fill-rule="evenodd" d="M4 4v2h-.25A1.75 1.75 0 002 7.75v5.5c0 .966.784 1.75 1.75 1.75h8.5A1.75 1.75 0 0014 13.25v-5.5A1.75 1.75 0 0012.25 6H12V4a4 4 0 10-8 0zm6.5 2V4a2.5 2.5 0 00-5 0v2h5zM12 7.5h.25a.25.25 0 01.25.25v5.5a.25.25 0 01-.25.25h-8.5a.25.25 0 01-.25-.25v-5.5a.25.25 0 01.25-.25H12z"></path></svg>
  <span class="author flex-self-stretch" itemprop="author">
    <a class="url fn" rel="author" data-hovercard-type="user" data-hovercard-url="/users/MNabegh/hovercard" data-octo-click="hovercard-link-click" data-octo-dimensions="link_type:self" href="/MNabegh">MNabegh</a>
  </span>
  <span class="mx-1 flex-self-stretch color-text-secondary">/</span>
  <strong itemprop="name" class="mr-2 flex-self-stretch">
    <a data-pjax="#js-repo-pjax-container" href="/MNabegh/mlbd-project">mlbd-project</a>
  </strong>
  <span class="Label Label--secondary v-align-middle ">Private</span>
</h1>


        </div>

          <ul class="pagehead-actions flex-shrink-0 d-none d-md-inline" style="padding: 2px 0;">

  <li>
        <notifications-list-subscription-form class="f5 position-relative d-flex">
      <details
        class="details-reset details-overlay f5 position-relative"
        data-target="notifications-list-subscription-form.details"
        data-action="toggle:notifications-list-subscription-form#detailsToggled"
      >

      <summary class="btn btn-sm rounded-right-0" data-hydro-click="{&quot;event_type&quot;:&quot;repository.click&quot;,&quot;payload&quot;:{&quot;target&quot;:&quot;WATCH_BUTTON&quot;,&quot;repository_id&quot;:363179807,&quot;originating_url&quot;:&quot;https://github.com/MNabegh/mlbd-project/blob/e73b5b48da5836b1dfc12c5c5aa297783d20fed4/explanatory_analysis.ipynb&quot;,&quot;user_id&quot;:22446733}}" data-hydro-click-hmac="9a63f772f09d31aa8d4511fe64d9e2427b60a49b31c4b123daf51e57bf770b20" data-ga-click="Repository, click Watch settings, action:blob#show" aria-label="Notifications settings">
          <span data-menu-button>
            <span
              hidden
              
              data-target="notifications-list-subscription-form.unwatchButtonCopy"
            >
              <svg class="octicon octicon-eye" height="16" viewBox="0 0 16 16" version="1.1" width="16" aria-hidden="true"><path fill-rule="evenodd" d="M1.679 7.932c.412-.621 1.242-1.75 2.366-2.717C5.175 4.242 6.527 3.5 8 3.5c1.473 0 2.824.742 3.955 1.715 1.124.967 1.954 2.096 2.366 2.717a.119.119 0 010 .136c-.412.621-1.242 1.75-2.366 2.717C10.825 11.758 9.473 12.5 8 12.5c-1.473 0-2.824-.742-3.955-1.715C2.92 9.818 2.09 8.69 1.679 8.068a.119.119 0 010-.136zM8 2c-1.981 0-3.67.992-4.933 2.078C1.797 5.169.88 6.423.43 7.1a1.619 1.619 0 000 1.798c.45.678 1.367 1.932 2.637 3.024C4.329 13.008 6.019 14 8 14c1.981 0 3.67-.992 4.933-2.078 1.27-1.091 2.187-2.345 2.637-3.023a1.619 1.619 0 000-1.798c-.45-.678-1.367-1.932-2.637-3.023C11.671 2.992 9.981 2 8 2zm0 8a2 2 0 100-4 2 2 0 000 4z"></path></svg>
              Unwatch
            </span>
            <span
              hidden
              
              data-target="notifications-list-subscription-form.stopIgnoringButtonCopy"
            >
              <svg class="octicon octicon-bell-slash" height="16" viewBox="0 0 16 16" version="1.1" width="16" aria-hidden="true"><path fill-rule="evenodd" d="M8 1.5c-.997 0-1.895.416-2.534 1.086A.75.75 0 014.38 1.55 5 5 0 0113 5v2.373a.75.75 0 01-1.5 0V5A3.5 3.5 0 008 1.5zM4.182 4.31L1.19 2.143a.75.75 0 10-.88 1.214L3 5.305v2.642a.25.25 0 01-.042.139L1.255 10.64A1.518 1.518 0 002.518 13h11.108l1.184.857a.75.75 0 10.88-1.214l-1.375-.996a1.196 1.196 0 00-.013-.01L4.198 4.321a.733.733 0 00-.016-.011zm7.373 7.19L4.5 6.391v1.556c0 .346-.102.683-.294.97l-1.703 2.556a.018.018 0 00-.003.01.015.015 0 00.005.012.017.017 0 00.006.004l.007.001h9.037zM8 16a2 2 0 001.985-1.75c.017-.137-.097-.25-.235-.25h-3.5c-.138 0-.252.113-.235.25A2 2 0 008 16z"></path></svg>
              Stop ignoring
            </span>
            <span
              
              
              data-target="notifications-list-subscription-form.watchButtonCopy"
            >
              <svg class="octicon octicon-eye" height="16" viewBox="0 0 16 16" version="1.1" width="16" aria-hidden="true"><path fill-rule="evenodd" d="M1.679 7.932c.412-.621 1.242-1.75 2.366-2.717C5.175 4.242 6.527 3.5 8 3.5c1.473 0 2.824.742 3.955 1.715 1.124.967 1.954 2.096 2.366 2.717a.119.119 0 010 .136c-.412.621-1.242 1.75-2.366 2.717C10.825 11.758 9.473 12.5 8 12.5c-1.473 0-2.824-.742-3.955-1.715C2.92 9.818 2.09 8.69 1.679 8.068a.119.119 0 010-.136zM8 2c-1.981 0-3.67.992-4.933 2.078C1.797 5.169.88 6.423.43 7.1a1.619 1.619 0 000 1.798c.45.678 1.367 1.932 2.637 3.024C4.329 13.008 6.019 14 8 14c1.981 0 3.67-.992 4.933-2.078 1.27-1.091 2.187-2.345 2.637-3.023a1.619 1.619 0 000-1.798c-.45-.678-1.367-1.932-2.637-3.023C11.671 2.992 9.981 2 8 2zm0 8a2 2 0 100-4 2 2 0 000 4z"></path></svg>
              Watch
            </span>
          </span>
          <span class="dropdown-caret"></span>
</summary>
        <details-menu
          class="SelectMenu  "
          role="menu"
          data-target="notifications-list-subscription-form.menu"
          
        >
          <div class="SelectMenu-modal notifications-component-menu-modal">
            <header class="SelectMenu-header">
              <h3 class="SelectMenu-title">Notifications</h3>
              <button class="SelectMenu-closeButton" type="button" aria-label="Close menu" data-action="click:notifications-list-subscription-form#closeMenu">
                <svg class="octicon octicon-x" viewBox="0 0 16 16" version="1.1" width="16" height="16" aria-hidden="true"><path fill-rule="evenodd" d="M3.72 3.72a.75.75 0 011.06 0L8 6.94l3.22-3.22a.75.75 0 111.06 1.06L9.06 8l3.22 3.22a.75.75 0 11-1.06 1.06L8 9.06l-3.22 3.22a.75.75 0 01-1.06-1.06L6.94 8 3.72 4.78a.75.75 0 010-1.06z"></path></svg>
              </button>
            </header>

            <div class="SelectMenu-list">
              <form data-target="notifications-list-subscription-form.form" data-action="submit:notifications-list-subscription-form#submitForm" action="/notifications/subscribe" accept-charset="UTF-8" method="post"><input type="hidden" name="authenticity_token" value="Td4I7/z6kOtmdWBvytPzOoKBV7dFvpZ6QcHnp2eyxg1gGhCzU3j2b/E1BFtjeHCW1ix8zZQYt/6k8uqTHG3Dqw==" />

                <input type="hidden" name="repository_id" value="363179807">

                <button
                  type="submit"
                  name="do"
                  value="included"
                  class="SelectMenu-item flex-items-start"
                  role="menuitemradio"
                  aria-checked="true"
                  data-targets="notifications-list-subscription-form.subscriptionButtons"
                  
                >
                  <span class="f5">
                    <svg class="octicon octicon-check SelectMenu-icon SelectMenu-icon--check" height="16" viewBox="0 0 16 16" version="1.1" width="16" aria-hidden="true"><path fill-rule="evenodd" d="M13.78 4.22a.75.75 0 010 1.06l-7.25 7.25a.75.75 0 01-1.06 0L2.22 9.28a.75.75 0 011.06-1.06L6 10.94l6.72-6.72a.75.75 0 011.06 0z"></path></svg>
                  </span>
                  <div>
                    <div class="f5 text-bold">
                      Participating and @mentions
                    </div>
                    <div class="text-small color-text-secondary text-normal pb-1">
                      Only receive notifications from this repository when participating or @mentioned.
                    </div>
                  </div>
                </button>

                <button
                  type="submit"
                  name="do"
                  value="subscribed"
                  class="SelectMenu-item flex-items-start"
                  role="menuitemradio"
                  aria-checked="false"
                  data-targets="notifications-list-subscription-form.subscriptionButtons"
                >
                  <span class="f5">
                    <svg class="octicon octicon-check SelectMenu-icon SelectMenu-icon--check" height="16" viewBox="0 0 16 16" version="1.1" width="16" aria-hidden="true"><path fill-rule="evenodd" d="M13.78 4.22a.75.75 0 010 1.06l-7.25 7.25a.75.75 0 01-1.06 0L2.22 9.28a.75.75 0 011.06-1.06L6 10.94l6.72-6.72a.75.75 0 011.06 0z"></path></svg>
                  </span>
                  <div>
                    <div class="f5 text-bold">
                      All Activity
                    </div>
                    <div class="text-small color-text-secondary text-normal pb-1">
                      Notified of all notifications on this repository.
                    </div>
                  </div>
                </button>

                <button
                  type="submit"
                  name="do"
                  value="ignore"
                  class="SelectMenu-item flex-items-start"
                  role="menuitemradio"
                  aria-checked="false"
                  data-targets="notifications-list-subscription-form.subscriptionButtons"
                >
                  <span class="f5">
                    <svg class="octicon octicon-check SelectMenu-icon SelectMenu-icon--check" height="16" viewBox="0 0 16 16" version="1.1" width="16" aria-hidden="true"><path fill-rule="evenodd" d="M13.78 4.22a.75.75 0 010 1.06l-7.25 7.25a.75.75 0 01-1.06 0L2.22 9.28a.75.75 0 011.06-1.06L6 10.94l6.72-6.72a.75.75 0 011.06 0z"></path></svg>
                  </span>
                  <div>
                    <div class="f5 text-bold">
                      Ignore
                    </div>
                    <div class="text-small color-text-secondary text-normal pb-1">
                      Never be notified.
                    </div>
                  </div>
                </button>
</form>
              <button
                class="SelectMenu-item flex-items-start pr-3"
                type="button"
                role="menuitemradio"
                data-target="notifications-list-subscription-form.customButton"
                data-action="click:notifications-list-subscription-form#openCustomDialog"
                aria-haspopup="true"
                aria-checked="false"
                
              >
                <span class="f5">
                  <svg class="octicon octicon-check SelectMenu-icon SelectMenu-icon--check" height="16" viewBox="0 0 16 16" version="1.1" width="16" aria-hidden="true"><path fill-rule="evenodd" d="M13.78 4.22a.75.75 0 010 1.06l-7.25 7.25a.75.75 0 01-1.06 0L2.22 9.28a.75.75 0 011.06-1.06L6 10.94l6.72-6.72a.75.75 0 011.06 0z"></path></svg>
                </span>
                <div>
                  <div class="d-flex flex-items-start flex-justify-between">
                    <div class="f5 text-bold">Custom</div>
                    <div class="f5 pr-1">
                      <svg class="octicon octicon-arrow-right" height="16" viewBox="0 0 16 16" version="1.1" width="16" aria-hidden="true"><path fill-rule="evenodd" d="M8.22 2.97a.75.75 0 011.06 0l4.25 4.25a.75.75 0 010 1.06l-4.25 4.25a.75.75 0 01-1.06-1.06l2.97-2.97H3.75a.75.75 0 010-1.5h7.44L8.22 4.03a.75.75 0 010-1.06z"></path></svg>
                    </div>
                  </div>
                  <div class="text-small color-text-secondary text-normal pb-1">
                    Select events you want to be notified of in addition to participating and @mentions.
                  </div>
                </div>
              </button>
            </div>
          </div>
        </details-menu>

        <details-dialog class="notifications-component-dialog " data-target="notifications-list-subscription-form.customDialog" hidden>
          <div class="SelectMenu-modal notifications-component-dialog-modal overflow-visible">
            <form data-target="notifications-list-subscription-form.customform" data-action="submit:notifications-list-subscription-form#submitCustomForm" action="/notifications/subscribe" accept-charset="UTF-8" method="post"><input type="hidden" name="authenticity_token" value="7ZsMnw/TytPBlKeMNe2TNiXVdA+GkzM5973VaEdjtl3AXxTDoFGsV1bUw7icRhCacXhfdVc1Er0SjthcPLyz+w==" />

              <input type="hidden" name="repository_id" value="363179807">

              <header class="d-sm-none SelectMenu-header pb-0 border-bottom-0 px-2 px-sm-3">
                <h1 class="f3 SelectMenu-title d-inline-flex">
                  <button
                    class="color-bg-primary border-0 px-2 py-0 m-0 Link--secondary f5"
                    aria-label="Return to menu"
                    type="button"
                    data-action="click:notifications-list-subscription-form#closeCustomDialog"
                  >
                    <svg style="" class="octicon octicon-arrow-left" height="16" viewBox="0 0 16 16" version="1.1" width="16" aria-hidden="true"><path fill-rule="evenodd" d="M7.78 12.53a.75.75 0 01-1.06 0L2.47 8.28a.75.75 0 010-1.06l4.25-4.25a.75.75 0 011.06 1.06L4.81 7h7.44a.75.75 0 010 1.5H4.81l2.97 2.97a.75.75 0 010 1.06z"></path></svg>
                  </button>
                  Custom
                </h3>
              </header>

              <header class="d-none d-sm-flex flex-items-start pt-1">
                <button
                  class="border-0 px-2 pt-1 m-0 Link--secondary f5"
                  style="background-color: transparent;"
                  aria-label="Return to menu"
                  type="button"
                  data-action="click:notifications-list-subscription-form#closeCustomDialog"
                >
                  <svg style="position: relative; left: 2px; top: 1px" class="octicon octicon-arrow-left" height="16" viewBox="0 0 16 16" version="1.1" width="16" aria-hidden="true"><path fill-rule="evenodd" d="M7.78 12.53a.75.75 0 01-1.06 0L2.47 8.28a.75.75 0 010-1.06l4.25-4.25a.75.75 0 011.06 1.06L4.81 7h7.44a.75.75 0 010 1.5H4.81l2.97 2.97a.75.75 0 010 1.06z"></path></svg>
                </button>

                <h1 class="pt-1 pr-4 pb-0 pl-0 f5 text-bold">
                  Custom
                </h1>
              </header>

              <fieldset>
                <legend>
                  <div class="text-small color-text-secondary pt-0 pr-3 pb-3 pl-6 pl-sm-5 border-bottom mb-3">
                    Select events you want to be notified of in addition to participating and @mentions.
                  </div>
                </legend>
                  <div class="form-checkbox mr-3 ml-6 ml-sm-5 mb-2 mt-0">
                    <label class="f5 text-normal">
                      <input
                        type="checkbox"
                        name="thread_types[]"
                        value="Issue"
                        data-targets="notifications-list-subscription-form.threadTypeCheckboxes"
                        data-action="change:notifications-list-subscription-form#threadTypeCheckboxesUpdated"
                        
                      >
                      Issues
                    </label>

                  </div>
                  <div class="form-checkbox mr-3 ml-6 ml-sm-5 mb-2 mt-0">
                    <label class="f5 text-normal">
                      <input
                        type="checkbox"
                        name="thread_types[]"
                        value="PullRequest"
                        data-targets="notifications-list-subscription-form.threadTypeCheckboxes"
                        data-action="change:notifications-list-subscription-form#threadTypeCheckboxesUpdated"
                        
                      >
                      Pull requests
                    </label>

                  </div>
                  <div class="form-checkbox mr-3 ml-6 ml-sm-5 mb-2 mt-0">
                    <label class="f5 text-normal">
                      <input
                        type="checkbox"
                        name="thread_types[]"
                        value="Release"
                        data-targets="notifications-list-subscription-form.threadTypeCheckboxes"
                        data-action="change:notifications-list-subscription-form#threadTypeCheckboxesUpdated"
                        
                      >
                      Releases
                    </label>

                  </div>
                  <div class="form-checkbox mr-3 ml-6 ml-sm-5 mb-2 mt-0">
                    <label class="f5 text-normal">
                      <input
                        type="checkbox"
                        name="thread_types[]"
                        value="Discussion"
                        data-targets="notifications-list-subscription-form.threadTypeCheckboxes"
                        data-action="change:notifications-list-subscription-form#threadTypeCheckboxesUpdated"
                        
                      >
                      Discussions
                    </label>

                      <span
                        class="tooltipped tooltipped-nw mr-2 p-1 float-right"
                        
                        aria-label="Discussions are not enabled for this repo">
                        <svg class="octicon octicon-info color-icon-secondary" height="16" viewBox="0 0 16 16" version="1.1" width="16" aria-hidden="true"><path fill-rule="evenodd" d="M8 1.5a6.5 6.5 0 100 13 6.5 6.5 0 000-13zM0 8a8 8 0 1116 0A8 8 0 010 8zm6.5-.25A.75.75 0 017.25 7h1a.75.75 0 01.75.75v2.75h.25a.75.75 0 010 1.5h-2a.75.75 0 010-1.5h.25v-2h-.25a.75.75 0 01-.75-.75zM8 6a1 1 0 100-2 1 1 0 000 2z"></path></svg>
                      </span>
                  </div>
              </fieldset>
              <div class="pt-2 pb-3 px-3 d-flex flex-justify-start flex-row-reverse">
                <button
                  type="submit"
                  name="do"
                  value="custom"
                  class="btn btn-sm btn-primary ml-2"
                  data-target="notifications-list-subscription-form.customSubmit"
                  disabled
                >Apply</button>

                <button
                  class="btn btn-sm"
                  type="button"
                  data-action="click:notifications-list-subscription-form#resetForm"
                  data-close-dialog="">Cancel</button>
              </div>
</form>          </div>
        </details-dialog>
        <div class="notifications-component-dialog-overlay"></div>
      </details>
        <a class="social-count"
          href="/MNabegh/mlbd-project/watchers"
          aria-label="1 user is watching this repository"
          data-target="notifications-list-subscription-form.socialCount"
        >
          1
        </a>
    </notifications-list-subscription-form>



  </li>

  <li>
        <div class="d-block js-toggler-container js-social-container starring-container ">
    <form class="starred js-social-form" action="/MNabegh/mlbd-project/unstar" accept-charset="UTF-8" method="post"><input type="hidden" name="authenticity_token" value="uavCVHZt4OBUP0tXcXp0CENoM0L/J76aABkZOCrdx3LUwP1qlfEAyNlqezxAGGf615CmyesYWFmPArcF+Fm+kw==" />
      <input type="hidden" name="context" value="repository">
      <button type="submit" class="btn btn-sm btn-with-count  js-toggler-target" aria-label="Unstar this repository" title="Unstar MNabegh/mlbd-project" data-hydro-click="{&quot;event_type&quot;:&quot;repository.click&quot;,&quot;payload&quot;:{&quot;target&quot;:&quot;UNSTAR_BUTTON&quot;,&quot;repository_id&quot;:363179807,&quot;originating_url&quot;:&quot;https://github.com/MNabegh/mlbd-project/blob/e73b5b48da5836b1dfc12c5c5aa297783d20fed4/explanatory_analysis.ipynb&quot;,&quot;user_id&quot;:22446733}}" data-hydro-click-hmac="ec44357b862a0182d8baf9e7eaf2b610fc8816d06dac9020b298b3175b0c5693" data-ga-click="Repository, click unstar button, action:blob#show; text:Unstar">        <svg class="octicon octicon-star-fill mr-1" height="16" viewBox="0 0 16 16" version="1.1" width="16" aria-hidden="true"><path fill-rule="evenodd" d="M8 .25a.75.75 0 01.673.418l1.882 3.815 4.21.612a.75.75 0 01.416 1.279l-3.046 2.97.719 4.192a.75.75 0 01-1.088.791L8 12.347l-3.766 1.98a.75.75 0 01-1.088-.79l.72-4.194L.818 6.374a.75.75 0 01.416-1.28l4.21-.611L7.327.668A.75.75 0 018 .25z"></path></svg>
        <span>
          Unstar
</span></button>        <a class="social-count js-social-count" href="/MNabegh/mlbd-project/stargazers"
           aria-label="0 users starred this repository">
           0
        </a>
</form>
    <form class="unstarred js-social-form" action="/MNabegh/mlbd-project/star" accept-charset="UTF-8" method="post"><input type="hidden" name="authenticity_token" value="xy4UrjJvChQMPV/5rByW1CVOZdiNlq3PJiNGqctANjDInpWvC14fZk2Obe3izjt2EoLKtmYyEJteSoisULgvfQ==" />
      <input type="hidden" name="context" value="repository">
      <button type="submit" class="btn btn-sm btn-with-count  js-toggler-target" aria-label="Unstar this repository" title="Star MNabegh/mlbd-project" data-hydro-click="{&quot;event_type&quot;:&quot;repository.click&quot;,&quot;payload&quot;:{&quot;target&quot;:&quot;STAR_BUTTON&quot;,&quot;repository_id&quot;:363179807,&quot;originating_url&quot;:&quot;https://github.com/MNabegh/mlbd-project/blob/e73b5b48da5836b1dfc12c5c5aa297783d20fed4/explanatory_analysis.ipynb&quot;,&quot;user_id&quot;:22446733}}" data-hydro-click-hmac="1caeacabd6bc01a653a76fb3273f45127d5d2cbdb2a1b63c518fe15d6dcdc3da" data-ga-click="Repository, click star button, action:blob#show; text:Star">        <svg class="octicon octicon-star mr-1" height="16" viewBox="0 0 16 16" version="1.1" width="16" aria-hidden="true"><path fill-rule="evenodd" d="M8 .25a.75.75 0 01.673.418l1.882 3.815 4.21.612a.75.75 0 01.416 1.279l-3.046 2.97.719 4.192a.75.75 0 01-1.088.791L8 12.347l-3.766 1.98a.75.75 0 01-1.088-.79l.72-4.194L.818 6.374a.75.75 0 01.416-1.28l4.21-.611L7.327.668A.75.75 0 018 .25zm0 2.445L6.615 5.5a.75.75 0 01-.564.41l-3.097.45 2.24 2.184a.75.75 0 01.216.664l-.528 3.084 2.769-1.456a.75.75 0 01.698 0l2.77 1.456-.53-3.084a.75.75 0 01.216-.664l2.24-2.183-3.096-.45a.75.75 0 01-.564-.41L8 2.694v.001z"></path></svg>
        <span>
          Star
</span></button>        <a class="social-count js-social-count" href="/MNabegh/mlbd-project/stargazers"
           aria-label="0 users starred this repository">
          0
        </a>
</form>  </div>

  </li>

  <li>
            <div class="float-left">
              <details class="details-reset details-overlay details-overlay-dark " >
                      <summary
                    class="btn btn-sm btn-with-count"
                    title="Fork your own copy of MNabegh/mlbd-project to your account"
                    data-hydro-click="{&quot;event_type&quot;:&quot;repository.click&quot;,&quot;payload&quot;:{&quot;target&quot;:&quot;FORK_BUTTON&quot;,&quot;repository_id&quot;:363179807,&quot;originating_url&quot;:&quot;https://github.com/MNabegh/mlbd-project/blob/e73b5b48da5836b1dfc12c5c5aa297783d20fed4/explanatory_analysis.ipynb&quot;,&quot;user_id&quot;:22446733}}" data-hydro-click-hmac="92463c2b9062d0b689aa97a32f562b0fca8eb445f71250025187989c8eaff60f" data-ga-click="Repository, show fork modal, action:blob#show; text:Fork">
                    <svg class="octicon octicon-repo-forked" viewBox="0 0 16 16" version="1.1" width="16" height="16" aria-hidden="true"><path fill-rule="evenodd" d="M5 3.25a.75.75 0 11-1.5 0 .75.75 0 011.5 0zm0 2.122a2.25 2.25 0 10-1.5 0v.878A2.25 2.25 0 005.75 8.5h1.5v2.128a2.251 2.251 0 101.5 0V8.5h1.5a2.25 2.25 0 002.25-2.25v-.878a2.25 2.25 0 10-1.5 0v.878a.75.75 0 01-.75.75h-4.5A.75.75 0 015 6.25v-.878zm3.75 7.378a.75.75 0 11-1.5 0 .75.75 0 011.5 0zm3-8.75a.75.75 0 100-1.5.75.75 0 000 1.5z"></path></svg>
                    Fork
                  </summary>

  <details-dialog
    class="Box d-flex flex-column anim-fade-in fast Box--overlay "
      aria-label="Fork mlbd-project"
      src="/MNabegh/mlbd-project/fork?fragment=1"
      preload
    >
    <div class="Box-header">
      <button class="Box-btn-octicon btn-octicon float-right" type="button" aria-label="Close dialog" data-close-dialog>
        <svg class="octicon octicon-x" height="16" viewBox="0 0 16 16" version="1.1" width="16" aria-hidden="true"><path fill-rule="evenodd" d="M3.72 3.72a.75.75 0 011.06 0L8 6.94l3.22-3.22a.75.75 0 111.06 1.06L9.06 8l3.22 3.22a.75.75 0 11-1.06 1.06L8 9.06l-3.22 3.22a.75.75 0 01-1.06-1.06L6.94 8 3.72 4.78a.75.75 0 010-1.06z"></path></svg>
      </button>
      <h1 class="Box-title">Fork mlbd-project</h1>
    </div>
      
                <div class="text-center overflow-auto">
                  <include-fragment>
                    <div class="octocat-spinner my-5" aria-label="Loading..."></div>
                    <p class="f5 color-text-secondary">If this dialog fails to load, you can visit <a href="/MNabegh/mlbd-project/fork">the fork page</a> directly.</p>
                  </include-fragment>
                </div>

  </details-dialog>
</details>
            </div>

      <a href="/MNabegh/mlbd-project/network/members" class="social-count"
         aria-label="0 users forked this repository">
        0
      </a>
  </li>
</ul>

      </div>
        

  <nav data-pjax="#js-repo-pjax-container" aria-label="Repository" class="js-repo-nav js-sidenav-container-pjax js-responsive-underlinenav overflow-hidden UnderlineNav px-3 px-md-4 px-lg-5 color-bg-secondary">

    <ul class="UnderlineNav-body list-style-none ">
        <li class="d-flex">
  <a href="/MNabegh/mlbd-project" data-tab-item="i0code-tab" data-selected-links="repo_source repo_downloads repo_commits repo_releases repo_tags repo_branches repo_packages repo_deployments /MNabegh/mlbd-project" data-hotkey="g c" data-ga-click="Repository, Navigation click, Code tab" aria-current="page" class="UnderlineNav-item hx_underlinenav-item no-wrap js-responsive-underlinenav-item selected ">
    
                  <svg class="octicon octicon-code UnderlineNav-octicon d-none d-sm-inline" height="16" viewBox="0 0 16 16" version="1.1" width="16" aria-hidden="true"><path fill-rule="evenodd" d="M4.72 3.22a.75.75 0 011.06 1.06L2.06 8l3.72 3.72a.75.75 0 11-1.06 1.06L.47 8.53a.75.75 0 010-1.06l4.25-4.25zm6.56 0a.75.75 0 10-1.06 1.06L13.94 8l-3.72 3.72a.75.75 0 101.06 1.06l4.25-4.25a.75.75 0 000-1.06l-4.25-4.25z"></path></svg>
          <span data-content="Code">Code</span>
            <span title="Not available" class="Counter "></span>

    
</a></li>
        <li class="d-flex">
  <a href="/MNabegh/mlbd-project/issues" data-tab-item="i1issues-tab" data-selected-links="repo_issues repo_labels repo_milestones /MNabegh/mlbd-project/issues" data-hotkey="g i" data-ga-click="Repository, Navigation click, Issues tab" class="UnderlineNav-item hx_underlinenav-item no-wrap js-responsive-underlinenav-item ">
    
                  <svg class="octicon octicon-issue-opened UnderlineNav-octicon d-none d-sm-inline" height="16" viewBox="0 0 16 16" version="1.1" width="16" aria-hidden="true"><path fill-rule="evenodd" d="M8 1.5a6.5 6.5 0 100 13 6.5 6.5 0 000-13zM0 8a8 8 0 1116 0A8 8 0 010 8zm9 3a1 1 0 11-2 0 1 1 0 012 0zm-.25-6.25a.75.75 0 00-1.5 0v3.5a.75.75 0 001.5 0v-3.5z"></path></svg>
          <span data-content="Issues">Issues</span>
            <span title="0" hidden="hidden" class="Counter ">0</span>

    
</a></li>
        <li class="d-flex">
  <a href="/MNabegh/mlbd-project/pulls" data-tab-item="i2pull-requests-tab" data-selected-links="repo_pulls checks /MNabegh/mlbd-project/pulls" data-hotkey="g p" data-ga-click="Repository, Navigation click, Pull requests tab" class="UnderlineNav-item hx_underlinenav-item no-wrap js-responsive-underlinenav-item ">
    
                  <svg class="octicon octicon-git-pull-request UnderlineNav-octicon d-none d-sm-inline" height="16" viewBox="0 0 16 16" version="1.1" width="16" aria-hidden="true"><path fill-rule="evenodd" d="M7.177 3.073L9.573.677A.25.25 0 0110 .854v4.792a.25.25 0 01-.427.177L7.177 3.427a.25.25 0 010-.354zM3.75 2.5a.75.75 0 100 1.5.75.75 0 000-1.5zm-2.25.75a2.25 2.25 0 113 2.122v5.256a2.251 2.251 0 11-1.5 0V5.372A2.25 2.25 0 011.5 3.25zM11 2.5h-1V4h1a1 1 0 011 1v5.628a2.251 2.251 0 101.5 0V5A2.5 2.5 0 0011 2.5zm1 10.25a.75.75 0 111.5 0 .75.75 0 01-1.5 0zM3.75 12a.75.75 0 100 1.5.75.75 0 000-1.5z"></path></svg>
          <span data-content="Pull requests">Pull requests</span>
            <span title="0" hidden="hidden" class="Counter ">0</span>

    
</a></li>
        <li class="d-flex">
  <a href="/MNabegh/mlbd-project/actions" data-tab-item="i3actions-tab" data-selected-links="repo_actions /MNabegh/mlbd-project/actions" data-hotkey="g a" data-ga-click="Repository, Navigation click, Actions tab" class="UnderlineNav-item hx_underlinenav-item no-wrap js-responsive-underlinenav-item ">
    
                  <svg class="octicon octicon-play UnderlineNav-octicon d-none d-sm-inline" height="16" viewBox="0 0 16 16" version="1.1" width="16" aria-hidden="true"><path fill-rule="evenodd" d="M1.5 8a6.5 6.5 0 1113 0 6.5 6.5 0 01-13 0zM8 0a8 8 0 100 16A8 8 0 008 0zM6.379 5.227A.25.25 0 006 5.442v5.117a.25.25 0 00.379.214l4.264-2.559a.25.25 0 000-.428L6.379 5.227z"></path></svg>
          <span data-content="Actions">Actions</span>
            <span title="Not available" class="Counter "></span>

    
</a></li>
        <li class="d-flex">
  <a href="/MNabegh/mlbd-project/projects" data-tab-item="i4projects-tab" data-selected-links="repo_projects new_repo_project repo_project /MNabegh/mlbd-project/projects" data-hotkey="g b" data-ga-click="Repository, Navigation click, Projects tab" class="UnderlineNav-item hx_underlinenav-item no-wrap js-responsive-underlinenav-item ">
    
                  <svg class="octicon octicon-project UnderlineNav-octicon d-none d-sm-inline" height="16" viewBox="0 0 16 16" version="1.1" width="16" aria-hidden="true"><path fill-rule="evenodd" d="M1.75 0A1.75 1.75 0 000 1.75v12.5C0 15.216.784 16 1.75 16h12.5A1.75 1.75 0 0016 14.25V1.75A1.75 1.75 0 0014.25 0H1.75zM1.5 1.75a.25.25 0 01.25-.25h12.5a.25.25 0 01.25.25v12.5a.25.25 0 01-.25.25H1.75a.25.25 0 01-.25-.25V1.75zM11.75 3a.75.75 0 00-.75.75v7.5a.75.75 0 001.5 0v-7.5a.75.75 0 00-.75-.75zm-8.25.75a.75.75 0 011.5 0v5.5a.75.75 0 01-1.5 0v-5.5zM8 3a.75.75 0 00-.75.75v3.5a.75.75 0 001.5 0v-3.5A.75.75 0 008 3z"></path></svg>
          <span data-content="Projects">Projects</span>
            <span title="1" class="Counter ">1</span>

    
</a></li>
        <li class="d-flex">
  <a href="/MNabegh/mlbd-project/wiki" data-tab-item="i5wiki-tab" data-selected-links="repo_wiki /MNabegh/mlbd-project/wiki" data-hotkey="g w" data-ga-click="Repository, Navigation click, Wikis tab" class="UnderlineNav-item hx_underlinenav-item no-wrap js-responsive-underlinenav-item ">
    
                  <svg class="octicon octicon-book UnderlineNav-octicon d-none d-sm-inline" height="16" viewBox="0 0 16 16" version="1.1" width="16" aria-hidden="true"><path fill-rule="evenodd" d="M0 1.75A.75.75 0 01.75 1h4.253c1.227 0 2.317.59 3 1.501A3.744 3.744 0 0111.006 1h4.245a.75.75 0 01.75.75v10.5a.75.75 0 01-.75.75h-4.507a2.25 2.25 0 00-1.591.659l-.622.621a.75.75 0 01-1.06 0l-.622-.621A2.25 2.25 0 005.258 13H.75a.75.75 0 01-.75-.75V1.75zm8.755 3a2.25 2.25 0 012.25-2.25H14.5v9h-3.757c-.71 0-1.4.201-1.992.572l.004-7.322zm-1.504 7.324l.004-5.073-.002-2.253A2.25 2.25 0 005.003 2.5H1.5v9h3.757a3.75 3.75 0 011.994.574z"></path></svg>
          <span data-content="Wiki">Wiki</span>
            <span title="Not available" class="Counter "></span>

    
</a></li>
        <li class="d-flex">
  <a href="/MNabegh/mlbd-project/security" data-tab-item="i6security-tab" data-selected-links="security overview alerts policy token_scanning code_scanning /MNabegh/mlbd-project/security" data-hotkey="g s" data-ga-click="Repository, Navigation click, Security tab" class="UnderlineNav-item hx_underlinenav-item no-wrap js-responsive-underlinenav-item ">
    
                  <svg class="octicon octicon-shield UnderlineNav-octicon d-none d-sm-inline" height="16" viewBox="0 0 16 16" version="1.1" width="16" aria-hidden="true"><path fill-rule="evenodd" d="M7.467.133a1.75 1.75 0 011.066 0l5.25 1.68A1.75 1.75 0 0115 3.48V7c0 1.566-.32 3.182-1.303 4.682-.983 1.498-2.585 2.813-5.032 3.855a1.7 1.7 0 01-1.33 0c-2.447-1.042-4.049-2.357-5.032-3.855C1.32 10.182 1 8.566 1 7V3.48a1.75 1.75 0 011.217-1.667l5.25-1.68zm.61 1.429a.25.25 0 00-.153 0l-5.25 1.68a.25.25 0 00-.174.238V7c0 1.358.275 2.666 1.057 3.86.784 1.194 2.121 2.34 4.366 3.297a.2.2 0 00.154 0c2.245-.956 3.582-2.104 4.366-3.298C13.225 9.666 13.5 8.36 13.5 7V3.48a.25.25 0 00-.174-.237l-5.25-1.68zM9 10.5a1 1 0 11-2 0 1 1 0 012 0zm-.25-5.75a.75.75 0 10-1.5 0v3a.75.75 0 001.5 0v-3z"></path></svg>
          <span data-content="Security">Security</span>
            <include-fragment src="/MNabegh/mlbd-project/security/overall-count" accept="text/fragment+html"></include-fragment>

    
</a></li>
        <li class="d-flex">
  <a href="/MNabegh/mlbd-project/pulse" data-tab-item="i7insights-tab" data-selected-links="repo_graphs repo_contributors dependency_graph dependabot_updates pulse people community /MNabegh/mlbd-project/pulse" data-ga-click="Repository, Navigation click, Insights tab" class="UnderlineNav-item hx_underlinenav-item no-wrap js-responsive-underlinenav-item ">
    
                  <svg class="octicon octicon-graph UnderlineNav-octicon d-none d-sm-inline" height="16" viewBox="0 0 16 16" version="1.1" width="16" aria-hidden="true"><path fill-rule="evenodd" d="M1.5 1.75a.75.75 0 00-1.5 0v12.5c0 .414.336.75.75.75h14.5a.75.75 0 000-1.5H1.5V1.75zm14.28 2.53a.75.75 0 00-1.06-1.06L10 7.94 7.53 5.47a.75.75 0 00-1.06 0L3.22 8.72a.75.75 0 001.06 1.06L7 7.06l2.47 2.47a.75.75 0 001.06 0l5.25-5.25z"></path></svg>
          <span data-content="Insights">Insights</span>
            <span title="Not available" class="Counter "></span>

    
</a></li>
</ul>
      <div style="visibility:hidden;" class="UnderlineNav-actions  js-responsive-underlinenav-overflow position-absolute pr-3 pr-md-4 pr-lg-5 right-0">      <details class="details-overlay details-reset position-relative">
  <summary role="button">          <div class="UnderlineNav-item mr-0 border-0">
            <svg class="octicon octicon-kebab-horizontal" viewBox="0 0 16 16" version="1.1" width="16" height="16" aria-hidden="true"><path d="M8 9a1.5 1.5 0 100-3 1.5 1.5 0 000 3zM1.5 9a1.5 1.5 0 100-3 1.5 1.5 0 000 3zm13 0a1.5 1.5 0 100-3 1.5 1.5 0 000 3z"></path></svg>
            <span class="sr-only">More</span>
          </div>
</summary>
  <div>          <details-menu role="menu" class="dropdown-menu dropdown-menu-sw ">
  
            <ul>
                <li data-menu-item="i0code-tab" hidden>
                  <a role="menuitem" class="js-selected-navigation-item dropdown-item" data-selected-links=" /MNabegh/mlbd-project" href="/MNabegh/mlbd-project">
                    Code
</a>                </li>
                <li data-menu-item="i1issues-tab" hidden>
                  <a role="menuitem" class="js-selected-navigation-item dropdown-item" data-selected-links=" /MNabegh/mlbd-project/issues" href="/MNabegh/mlbd-project/issues">
                    Issues
</a>                </li>
                <li data-menu-item="i2pull-requests-tab" hidden>
                  <a role="menuitem" class="js-selected-navigation-item dropdown-item" data-selected-links=" /MNabegh/mlbd-project/pulls" href="/MNabegh/mlbd-project/pulls">
                    Pull requests
</a>                </li>
                <li data-menu-item="i3actions-tab" hidden>
                  <a role="menuitem" class="js-selected-navigation-item dropdown-item" data-selected-links=" /MNabegh/mlbd-project/actions" href="/MNabegh/mlbd-project/actions">
                    Actions
</a>                </li>
                <li data-menu-item="i4projects-tab" hidden>
                  <a role="menuitem" class="js-selected-navigation-item dropdown-item" data-selected-links=" /MNabegh/mlbd-project/projects" href="/MNabegh/mlbd-project/projects">
                    Projects
</a>                </li>
                <li data-menu-item="i5wiki-tab" hidden>
                  <a role="menuitem" class="js-selected-navigation-item dropdown-item" data-selected-links=" /MNabegh/mlbd-project/wiki" href="/MNabegh/mlbd-project/wiki">
                    Wiki
</a>                </li>
                <li data-menu-item="i6security-tab" hidden>
                  <a role="menuitem" class="js-selected-navigation-item dropdown-item" data-selected-links=" /MNabegh/mlbd-project/security" href="/MNabegh/mlbd-project/security">
                    Security
</a>                </li>
                <li data-menu-item="i7insights-tab" hidden>
                  <a role="menuitem" class="js-selected-navigation-item dropdown-item" data-selected-links=" /MNabegh/mlbd-project/pulse" href="/MNabegh/mlbd-project/pulse">
                    Insights
</a>                </li>
            </ul>

</details-menu></div>
</details></div>
</nav>

  </div>


<div class="container-xl clearfix new-discussion-timeline px-3 px-md-4 px-lg-5">
  <div id="repo-content-pjax-container" class="repository-content " >

    
      
    
<div>
  


    <a class="d-none js-permalink-shortcut" data-hotkey="y" href="/MNabegh/mlbd-project/blob/e73b5b48da5836b1dfc12c5c5aa297783d20fed4/explanatory_analysis.ipynb">Permalink</a>

    <!-- blob contrib key: blob_contributors:v22:39abde292676a736a9d350e378475c8c0f264c0db7b337c6171293996d3e4ddb -->

    <div class="d-flex flex-items-start flex-shrink-0 pb-3 flex-wrap flex-md-nowrap flex-justify-between flex-md-justify-start">
      
<div class="position-relative">
  <details class="details-reset details-overlay mr-0 mb-0 " id="branch-select-menu">
    <summary class="btn css-truncate"
            data-hotkey="w"
            title="Switch branches or tags">
      <svg class="octicon octicon-git-branch text-gray" height="16" viewBox="0 0 16 16" version="1.1" width="16" aria-hidden="true"><path fill-rule="evenodd" d="M11.75 2.5a.75.75 0 100 1.5.75.75 0 000-1.5zm-2.25.75a2.25 2.25 0 113 2.122V6A2.5 2.5 0 0110 8.5H6a1 1 0 00-1 1v1.128a2.251 2.251 0 11-1.5 0V5.372a2.25 2.25 0 111.5 0v1.836A2.492 2.492 0 016 7h4a1 1 0 001-1v-.628A2.25 2.25 0 019.5 3.25zM4.25 12a.75.75 0 100 1.5.75.75 0 000-1.5zM3.5 3.25a.75.75 0 111.5 0 .75.75 0 01-1.5 0z"></path></svg>
      <span class="css-truncate-target" data-menu-button>e73b5b48da</span>
      <span class="dropdown-caret"></span>
    </summary>

      
<div class="SelectMenu">
  <div class="SelectMenu-modal">
    <header class="SelectMenu-header">
      <span class="SelectMenu-title">Switch branches/tags</span>
      <button class="SelectMenu-closeButton" type="button" data-toggle-for="branch-select-menu"><svg aria-label="Close menu" aria-hidden="false" class="octicon octicon-x" height="16" viewBox="0 0 16 16" version="1.1" width="16" aria-hidden="true"><path fill-rule="evenodd" d="M3.72 3.72a.75.75 0 011.06 0L8 6.94l3.22-3.22a.75.75 0 111.06 1.06L9.06 8l3.22 3.22a.75.75 0 11-1.06 1.06L8 9.06l-3.22 3.22a.75.75 0 01-1.06-1.06L6.94 8 3.72 4.78a.75.75 0 010-1.06z"></path></svg></button>
    </header>

    <input-demux data-action="tab-container-change:input-demux#storeInput tab-container-changed:input-demux#updateInput">
      <tab-container class="d-flex flex-column js-branches-tags-tabs" style="min-height: 0;">
        <div class="SelectMenu-filter">
          <input data-target="input-demux.source"
                 id="context-commitish-filter-field"
                 class="SelectMenu-input form-control"
                 aria-owns="ref-list-branches"
                 data-controls-ref-menu-id="ref-list-branches"
                 autofocus
                 autocomplete="off"
                 aria-label="Find or create a branch…"
                 placeholder="Find or create a branch…"
                 type="text"
          >
        </div>

        <div class="SelectMenu-tabs" role="tablist" data-target="input-demux.control" >
          <button class="SelectMenu-tab" type="button" role="tab" aria-selected="true">Branches</button>
          <button class="SelectMenu-tab" type="button" role="tab">Tags</button>
        </div>

        <div role="tabpanel" id="ref-list-branches" data-filter-placeholder="Find or create a branch…" class="d-flex flex-column flex-auto overflow-auto" tabindex="">
          <ref-selector
            type="branch"
            data-targets="input-demux.sinks"
            data-action="
              input-entered:ref-selector#inputEntered
              tab-selected:ref-selector#tabSelected
              focus-list:ref-selector#focusFirstListMember
            "
            query-endpoint="/MNabegh/mlbd-project/refs"
            current-user-can-push
            cache-key="v0:1619796659.49581"
            current-committish="ZTczYjViNDhkYTU4MzZiMWRmYzEyYzVjNWFhMjk3NzgzZDIwZmVkNA=="
            default-branch="bWFzdGVy"
            name-with-owner="TU5hYmVnaC9tbGJkLXByb2plY3Q="
          >

              <template data-target="ref-selector.noMatchTemplate">
    <!-- '"` --><!-- </textarea></xmp> --></option></form><form action="/MNabegh/mlbd-project/branches" accept-charset="UTF-8" method="post"><input type="hidden" name="authenticity_token" value="l5kHXSOBzk8DAg9mr+VTQ8/Ul3b4OOLUE1VOlw0BwHDv0pxE2otlTPyEodSs2vnd7ikVU7eaB2uQ86vEGODSfA==" />
      <input type="hidden" name="name" value="{{ refName }}">
      <input type="hidden" name="branch"  value="e73b5b48da5836b1dfc12c5c5aa297783d20fed4">
      <input type="hidden" name="path_binary" value="ZXhwbGFuYXRvcnlfYW5hbHlzaXMuaXB5bmI=">

      <button class="SelectMenu-item break-word" type="submit" role="menuitem" data-index="{{ index }}">
        <svg class="octicon octicon-git-branch SelectMenu-icon flex-self-baseline" viewBox="0 0 16 16" version="1.1" width="16" height="16" aria-hidden="true"><path fill-rule="evenodd" d="M11.75 2.5a.75.75 0 100 1.5.75.75 0 000-1.5zm-2.25.75a2.25 2.25 0 113 2.122V6A2.5 2.5 0 0110 8.5H6a1 1 0 00-1 1v1.128a2.251 2.251 0 11-1.5 0V5.372a2.25 2.25 0 111.5 0v1.836A2.492 2.492 0 016 7h4a1 1 0 001-1v-.628A2.25 2.25 0 019.5 3.25zM4.25 12a.75.75 0 100 1.5.75.75 0 000-1.5zM3.5 3.25a.75.75 0 111.5 0 .75.75 0 01-1.5 0z"></path></svg>
        <div>
          <span class="text-bold">Create branch: {{ refName }}</span>
          <span class="color-text-tertiary">from ‘e73b5b4’</span>
        </div>
      </button>
</form></template>


            <!-- TODO: this max-height is necessary or else the branch list won't scroll.  why? -->
            <div data-target="ref-selector.listContainer" role="menu" class="SelectMenu-list " style="max-height: 330px">
              <div class="SelectMenu-loading pt-3 pb-0" aria-label="Menu is loading">
                <svg style="box-sizing: content-box; color: var(--color-icon-primary);" viewBox="0 0 16 16" fill="none" width="32" height="32" class="anim-rotate">
  <circle cx="8" cy="8" r="7" stroke="currentColor" stroke-opacity="0.25" stroke-width="2" vector-effect="non-scaling-stroke" />
  <path d="M15 8a7.002 7.002 0 00-7-7" stroke="currentColor" stroke-width="2" stroke-linecap="round" vector-effect="non-scaling-stroke" />
</svg>
              </div>
            </div>

              <template data-target="ref-selector.itemTemplate">
  <a href="https://github.com/MNabegh/mlbd-project/blob/{{ urlEncodedRefName }}/explanatory_analysis.ipynb" class="SelectMenu-item" role="menuitemradio" rel="nofollow" aria-checked="{{ isCurrent }}" data-index="{{ index }}">
    <svg class="octicon octicon-check SelectMenu-icon SelectMenu-icon--check" viewBox="0 0 16 16" version="1.1" width="16" height="16" aria-hidden="true"><path fill-rule="evenodd" d="M13.78 4.22a.75.75 0 010 1.06l-7.25 7.25a.75.75 0 01-1.06 0L2.22 9.28a.75.75 0 011.06-1.06L6 10.94l6.72-6.72a.75.75 0 011.06 0z"></path></svg>
    <span class="flex-1 css-truncate css-truncate-overflow {{ isFilteringClass }}">{{ refName }}</span>
    <span hidden="{{ isNotDefault }}" class="Label Label--secondary flex-self-start">default</span>
  </a>
</template>


              <footer class="SelectMenu-footer"><a href="/MNabegh/mlbd-project/branches">View all branches</a></footer>
          </ref-selector>

        </div>

        <div role="tabpanel" id="tags-menu" data-filter-placeholder="Find a tag" class="d-flex flex-column flex-auto overflow-auto" tabindex="" hidden>
          <ref-selector
            type="tag"
            data-action="
              input-entered:ref-selector#inputEntered
              tab-selected:ref-selector#tabSelected
              focus-list:ref-selector#focusFirstListMember
            "
            data-targets="input-demux.sinks"
            query-endpoint="/MNabegh/mlbd-project/refs"
            cache-key="v0:1619796659.49581"
            current-committish="ZTczYjViNDhkYTU4MzZiMWRmYzEyYzVjNWFhMjk3NzgzZDIwZmVkNA=="
            default-branch="bWFzdGVy"
            name-with-owner="TU5hYmVnaC9tbGJkLXByb2plY3Q="
          >

            <template data-target="ref-selector.noMatchTemplate">
              <div class="SelectMenu-message" data-index="{{ index }}">Nothing to show</div>
            </template>

              <template data-target="ref-selector.itemTemplate">
  <a href="https://github.com/MNabegh/mlbd-project/blob/{{ urlEncodedRefName }}/explanatory_analysis.ipynb" class="SelectMenu-item" role="menuitemradio" rel="nofollow" aria-checked="{{ isCurrent }}" data-index="{{ index }}">
    <svg class="octicon octicon-check SelectMenu-icon SelectMenu-icon--check" viewBox="0 0 16 16" version="1.1" width="16" height="16" aria-hidden="true"><path fill-rule="evenodd" d="M13.78 4.22a.75.75 0 010 1.06l-7.25 7.25a.75.75 0 01-1.06 0L2.22 9.28a.75.75 0 011.06-1.06L6 10.94l6.72-6.72a.75.75 0 011.06 0z"></path></svg>
    <span class="flex-1 css-truncate css-truncate-overflow {{ isFilteringClass }}">{{ refName }}</span>
    <span hidden="{{ isNotDefault }}" class="Label Label--secondary flex-self-start">default</span>
  </a>
</template>


            <div data-target="ref-selector.listContainer" role="menu" class="SelectMenu-list" style="max-height: 330px">
              <div class="SelectMenu-loading pt-3 pb-0" aria-label="Menu is loading">
                <svg style="box-sizing: content-box; color: var(--color-icon-primary);" viewBox="0 0 16 16" fill="none" width="32" height="32" class="anim-rotate">
  <circle cx="8" cy="8" r="7" stroke="currentColor" stroke-opacity="0.25" stroke-width="2" vector-effect="non-scaling-stroke" />
  <path d="M15 8a7.002 7.002 0 00-7-7" stroke="currentColor" stroke-width="2" stroke-linecap="round" vector-effect="non-scaling-stroke" />
</svg>
              </div>
            </div>
              <footer class="SelectMenu-footer"><a href="/MNabegh/mlbd-project/tags">View all tags</a></footer>
          </ref-selector>
        </div>
      </tab-container>
    </input-demux>
  </div>
</div>

  </details>

</div>

      <h2 id="blob-path" class="breadcrumb flex-auto flex-self-center min-width-0 text-normal mx-2 width-full width-md-auto flex-order-1 flex-md-order-none mt-3 mt-md-0">
        <span class="js-repo-root text-bold"><span class="js-path-segment d-inline-block wb-break-all"><a data-pjax="true" rel="nofollow" href="/MNabegh/mlbd-project/tree/e73b5b48da5836b1dfc12c5c5aa297783d20fed4"><span>mlbd-project</span></a></span></span><span class="separator">/</span><strong class="final-path">explanatory_analysis.ipynb</strong>
      </h2>
      <a href="/MNabegh/mlbd-project/find/e73b5b48da5836b1dfc12c5c5aa297783d20fed4"
            class="js-pjax-capture-input btn mr-2 d-none d-md-block"
            data-pjax
            data-hotkey="t">
        Go to file
      </a>

      <details id="blob-more-options-details" class="details-overlay details-reset position-relative">
  <summary role="button" class="btn ">          <svg aria-label="More options" class="octicon octicon-kebab-horizontal" height="16" viewBox="0 0 16 16" version="1.1" width="16" role="img"><path d="M8 9a1.5 1.5 0 100-3 1.5 1.5 0 000 3zM1.5 9a1.5 1.5 0 100-3 1.5 1.5 0 000 3zm13 0a1.5 1.5 0 100-3 1.5 1.5 0 000 3z"></path></svg>
</summary>
  <div>          <ul class="dropdown-menu dropdown-menu-sw">
            <li class="d-block d-md-none">
              <a class="dropdown-item d-flex flex-items-baseline" data-hydro-click="{&quot;event_type&quot;:&quot;repository.click&quot;,&quot;payload&quot;:{&quot;target&quot;:&quot;FIND_FILE_BUTTON&quot;,&quot;repository_id&quot;:363179807,&quot;originating_url&quot;:&quot;https://github.com/MNabegh/mlbd-project/blob/e73b5b48da5836b1dfc12c5c5aa297783d20fed4/explanatory_analysis.ipynb&quot;,&quot;user_id&quot;:22446733}}" data-hydro-click-hmac="1d71664c3b4ca2d6c48d100145fd1248588bb4a14af54450b2d3914fb8dc6026" data-ga-click="Repository, find file, location:repo overview" data-hotkey="t" data-pjax="true" href="/MNabegh/mlbd-project/find/e73b5b48da5836b1dfc12c5c5aa297783d20fed4">
                <span class="flex-auto">Go to file</span>
                <span class="text-small color-text-secondary" aria-hidden="true">T</span>
</a>            </li>
            <li data-toggle-for="blob-more-options-details">
              <button type="button" data-toggle-for="jumpto-line-details-dialog" class="btn-link dropdown-item">
                <span class="d-flex flex-items-baseline">
                  <span class="flex-auto">Go to line</span>
                  <span class="text-small color-text-secondary" aria-hidden="true">L</span>
                </span>
              </button>
            </li>
            <li class="dropdown-divider" role="none"></li>
            <li>
              <clipboard-copy value="explanatory_analysis.ipynb" class="dropdown-item cursor-pointer" data-toggle-for="blob-more-options-details">
                Copy path
              </clipboard-copy>
            </li>
            <li>
              <clipboard-copy value="https://github.com/MNabegh/mlbd-project/blob/e73b5b48da5836b1dfc12c5c5aa297783d20fed4/explanatory_analysis.ipynb" class="dropdown-item cursor-pointer" data-toggle-for="blob-more-options-details" >
                <span class="d-flex flex-items-baseline">
                  <span class="flex-auto">Copy permalink</span>
                </span>
              </clipboard-copy>
            </li>
          </ul>
</div>
</details>    </div>



    <div class="Box d-flex flex-column flex-shrink-0 mb-3">
      <include-fragment src="/MNabegh/mlbd-project/contributors/e73b5b48da5836b1dfc12c5c5aa297783d20fed4/explanatory_analysis.ipynb" class="commit-loader">
        <div class="Box-header Box-header--blue d-flex flex-items-center">
          <div class="Skeleton avatar avatar-user flex-shrink-0 ml-n1 mr-n1 mt-n1 mb-n1" style="width:24px;height:24px;"></div>
          <div class="Skeleton Skeleton--text col-5 ml-2">&nbsp;</div>
        </div>

        <div class="Box-body d-flex flex-items-center" >
          <div class="Skeleton Skeleton--text col-1">&nbsp;</div>
          <span class="color-text-danger h6 loader-error">Cannot retrieve contributors at this time</span>
        </div>
</include-fragment>    </div>




      







  
    <div data-target="readme-toc.content" class="Box mt-3 position-relative
    ">
      
  <div
    class="Box-header py-2 pr-2 d-flex flex-shrink-0 flex-md-row flex-items-center"
    
  >


  <div class="text-mono f6 flex-auto pr-3 flex-order-2 flex-md-order-1">

      1013 lines (1013 sloc)
      <span class="file-info-divider"></span>
    136 KB
  </div>

  <div class="d-flex py-1 py-md-0 flex-auto flex-order-1 flex-md-order-2 flex-sm-grow-0 flex-justify-between hide-sm hide-md">
      <div class="BtnGroup">
        <a class="btn btn-sm BtnGroup-item tooltipped tooltipped tooltipped-n source "
          href="/MNabegh/mlbd-project/blob/e73b5b48da5836b1dfc12c5c5aa297783d20fed4/explanatory_analysis.ipynb?short_path=323c747" aria-label="Display the source blob">
          <svg class="octicon octicon-code" viewBox="0 0 16 16" version="1.1" width="16" height="16" aria-hidden="true"><path fill-rule="evenodd" d="M4.72 3.22a.75.75 0 011.06 1.06L2.06 8l3.72 3.72a.75.75 0 11-1.06 1.06L.47 8.53a.75.75 0 010-1.06l4.25-4.25zm6.56 0a.75.75 0 10-1.06 1.06L13.94 8l-3.72 3.72a.75.75 0 101.06 1.06l4.25-4.25a.75.75 0 000-1.06l-4.25-4.25z"></path></svg>
        </a>
        <a class="btn btn-sm BtnGroup-item tooltipped tooltipped-n rendered selected"
          href="/MNabegh/mlbd-project/blob/e73b5b48da5836b1dfc12c5c5aa297783d20fed4/explanatory_analysis.ipynb" aria-label="Display the rendered blob">
          <svg class="octicon octicon-file" viewBox="0 0 16 16" version="1.1" width="16" height="16" aria-hidden="true"><path fill-rule="evenodd" d="M3.75 1.5a.25.25 0 00-.25.25v11.5c0 .138.112.25.25.25h8.5a.25.25 0 00.25-.25V6H9.75A1.75 1.75 0 018 4.25V1.5H3.75zm5.75.56v2.19c0 .138.112.25.25.25h2.19L9.5 2.06zM2 1.75C2 .784 2.784 0 3.75 0h5.086c.464 0 .909.184 1.237.513l3.414 3.414c.329.328.513.773.513 1.237v8.086A1.75 1.75 0 0112.25 15h-8.5A1.75 1.75 0 012 13.25V1.75z"></path></svg>
        </a>
      </div>

    <div class="BtnGroup">
      <a href="/MNabegh/mlbd-project/raw/e73b5b48da5836b1dfc12c5c5aa297783d20fed4/explanatory_analysis.ipynb" id="raw-url" role="button" class="btn-sm btn BtnGroup-item ">Raw</a>
        <a href="/MNabegh/mlbd-project/blame/e73b5b48da5836b1dfc12c5c5aa297783d20fed4/explanatory_analysis.ipynb" data-hotkey="b" role="button" class="js-update-url-with-hash btn-sm btn BtnGroup-item ">Blame</a>
    </div>

    <div>
          <button class="btn-octicon disabled tooltipped tooltipped-nw js-remove-unless-platform"
             data-platforms="windows,mac" type="button"  disabled
             aria-label="You must be on a branch to open this file in GitHub Desktop">
              <svg class="octicon octicon-device-desktop" viewBox="0 0 16 16" version="1.1" width="16" height="16" aria-hidden="true"><path fill-rule="evenodd" d="M1.75 2.5h12.5a.25.25 0 01.25.25v7.5a.25.25 0 01-.25.25H1.75a.25.25 0 01-.25-.25v-7.5a.25.25 0 01.25-.25zM14.25 1H1.75A1.75 1.75 0 000 2.75v7.5C0 11.216.784 12 1.75 12h3.727c-.1 1.041-.52 1.872-1.292 2.757A.75.75 0 004.75 16h6.5a.75.75 0 00.565-1.243c-.772-.885-1.193-1.716-1.292-2.757h3.727A1.75 1.75 0 0016 10.25v-7.5A1.75 1.75 0 0014.25 1zM9.018 12H6.982a5.72 5.72 0 01-.765 2.5h3.566a5.72 5.72 0 01-.765-2.5z"></path></svg>
          </button>

          <a href="/login?return_to=%2FMNabegh%2Fmlbd-project%2Fblob%2Fe73b5b48da5836b1dfc12c5c5aa297783d20fed4%2Fexplanatory_analysis.ipynb" class="btn-octicon disabled tooltipped tooltipped-nw"
            aria-label="You must be on a branch to make or propose changes to this file">
            <svg class="octicon octicon-pencil" height="16" viewBox="0 0 16 16" version="1.1" width="16" aria-hidden="true"><path fill-rule="evenodd" d="M11.013 1.427a1.75 1.75 0 012.474 0l1.086 1.086a1.75 1.75 0 010 2.474l-8.61 8.61c-.21.21-.47.364-.756.445l-3.251.93a.75.75 0 01-.927-.928l.929-3.25a1.75 1.75 0 01.445-.758l8.61-8.61zm1.414 1.06a.25.25 0 00-.354 0L10.811 3.75l1.439 1.44 1.263-1.263a.25.25 0 000-.354l-1.086-1.086zM11.189 6.25L9.75 4.81l-6.286 6.287a.25.25 0 00-.064.108l-.558 1.953 1.953-.558a.249.249 0 00.108-.064l6.286-6.286z"></path></svg>
          </a>
          <a href="/login?return_to=%2FMNabegh%2Fmlbd-project%2Fblob%2Fe73b5b48da5836b1dfc12c5c5aa297783d20fed4%2Fexplanatory_analysis.ipynb" class="btn-octicon btn-octicon-danger disabled tooltipped tooltipped-nw"
            aria-label="You must be on a branch to make or propose changes to this file">
            <svg class="octicon octicon-trash" viewBox="0 0 16 16" version="1.1" width="16" height="16" aria-hidden="true"><path fill-rule="evenodd" d="M6.5 1.75a.25.25 0 01.25-.25h2.5a.25.25 0 01.25.25V3h-3V1.75zm4.5 0V3h2.25a.75.75 0 010 1.5H2.75a.75.75 0 010-1.5H5V1.75C5 .784 5.784 0 6.75 0h2.5C10.216 0 11 .784 11 1.75zM4.496 6.675a.75.75 0 10-1.492.15l.66 6.6A1.75 1.75 0 005.405 15h5.19c.9 0 1.652-.681 1.741-1.576l.66-6.6a.75.75 0 00-1.492-.149l-.66 6.6a.25.25 0 01-.249.225h-5.19a.25.25 0 01-.249-.225l-.66-6.6z"></path></svg>
          </a>
    </div>
  </div>

    <div class="d-flex hide-lg hide-xl flex-order-2 flex-grow-0">
      <details class="dropdown details-reset details-overlay d-inline-block">
        <summary class="btn-octicon" aria-haspopup="true" aria-label="possible actions">
          <svg height="16" class="octicon octicon-kebab-horizontal" viewBox="0 0 16 16" version="1.1" width="16" aria-hidden="true"><path d="M8 9a1.5 1.5 0 100-3 1.5 1.5 0 000 3zM1.5 9a1.5 1.5 0 100-3 1.5 1.5 0 000 3zm13 0a1.5 1.5 0 100-3 1.5 1.5 0 000 3z"></path></svg>
        </summary>

        <ul class="dropdown-menu dropdown-menu-sw">
            <li>
            </li>
          <li>
            <a class="dropdown-item" href="/MNabegh/mlbd-project/raw/e73b5b48da5836b1dfc12c5c5aa297783d20fed4/explanatory_analysis.ipynb">
              View raw
            </a>
          </li>
            <li>
              <a class="dropdown-item" href="/MNabegh/mlbd-project/blame/e73b5b48da5836b1dfc12c5c5aa297783d20fed4/explanatory_analysis.ipynb">
                View blame
              </a>
            </li>

        </ul>
      </details>
    </div>
</div>


      
  <div itemprop="text" class="Box-body p-0 blob-wrapper data type-jupyter-notebook  gist-border-0">
      
  <div class="render-wrapper ">
    <div class="render-container is-render-pending js-render-target  "
      data-identity="3977e0c3-d99c-4816-8794-cd7e0bb31403"
      data-host="https://render.githubusercontent.com"
      data-type="ipynb">
      <svg style="box-sizing: content-box; color: var(--color-icon-primary);" viewBox="0 0 16 16" fill="none" width="64" height="64" class="octospinner mx-auto anim-rotate">
  <circle cx="8" cy="8" r="7" stroke="currentColor" stroke-opacity="0.25" stroke-width="2" vector-effect="non-scaling-stroke" />
  <path d="M15 8a7.002 7.002 0 00-7-7" stroke="currentColor" stroke-width="2" stroke-linecap="round" vector-effect="non-scaling-stroke" />
</svg>
      <div class="render-viewer-error">Sorry, something went wrong. <a href="https://github.com/MNabegh/mlbd-project/blob/e73b5b48da5836b1dfc12c5c5aa297783d20fed4/explanatory_analysis.ipynb">Reload?</a></div>
      <div class="render-viewer-fatal">Sorry, we cannot display this file.</div>
      <div class="render-viewer-invalid">Sorry, this file is invalid so it cannot be displayed.</div>
      <iframe class="render-viewer " src="https://render.githubusercontent.com/view/ipynb?color_mode=auto&amp;commit=e73b5b48da5836b1dfc12c5c5aa297783d20fed4&amp;enc_url=68747470733a2f2f7261772e67697468756275736572636f6e74656e742e636f6d2f4d4e61626567682f6d6c62642d70726f6a6563742f653733623562343864613538333662316466633132633563356161323937373833643230666564342f6578706c616e61746f72795f616e616c797369732e6970796e623f746f6b656e3d41464c4946444b4f55494c4b4c49335441444d4953435441534a495441&amp;nwo=MNabegh%2Fmlbd-project&amp;path=explanatory_analysis.ipynb&amp;repository_id=363179807&amp;repository_type=Repository#3977e0c3-d99c-4816-8794-cd7e0bb31403" sandbox="allow-scripts allow-same-origin allow-top-navigation" title="File display">
          Viewer requires iframe.
      </iframe>
    </div>
  </div>

  </div>

    </div>


  

  <details class="details-reset details-overlay details-overlay-dark" id="jumpto-line-details-dialog">
    <summary data-hotkey="l" aria-label="Jump to line"></summary>
    <details-dialog class="Box Box--overlay d-flex flex-column anim-fade-in fast linejump" aria-label="Jump to line">
      <!-- '"` --><!-- </textarea></xmp> --></option></form><form class="js-jump-to-line-form Box-body d-flex" action="" accept-charset="UTF-8" method="get">
        <input class="form-control flex-auto mr-3 linejump-input js-jump-to-line-field" type="text" placeholder="Jump to line&hellip;" aria-label="Jump to line" autofocus>
        <button type="submit" class="btn" data-close-dialog>Go</button>
</form>    </details-dialog>
  </details>


</div>



  </div>
</div>

    </main>
  </div>

  </div>

          
<div class="footer container-xl width-full p-responsive" role="contentinfo">
  <div class="position-relative d-flex flex-row-reverse flex-lg-row flex-wrap flex-lg-nowrap flex-justify-center flex-lg-justify-between pt-6 pb-2 mt-6 f6 color-text-secondary border-top color-border-secondary ">
    <ul class="list-style-none d-flex flex-wrap col-12 col-lg-5 flex-justify-center flex-lg-justify-between mb-2 mb-lg-0">
      <li class="mr-3 mr-lg-0">&copy; 2021 GitHub, Inc.</li>
        <li class="mr-3 mr-lg-0"><a href="https://docs.github.com/en/github/site-policy/github-terms-of-service" data-ga-click="Footer, go to terms, text:terms">Terms</a></li>
        <li class="mr-3 mr-lg-0"><a href="https://docs.github.com/en/github/site-policy/github-privacy-statement" data-ga-click="Footer, go to privacy, text:privacy">Privacy</a></li>
        <li class="mr-3 mr-lg-0"><a data-ga-click="Footer, go to security, text:security" href="https://github.com/security">Security</a></li>
        <li class="mr-3 mr-lg-0"><a href="https://www.githubstatus.com/" data-ga-click="Footer, go to status, text:status">Status</a></li>
        <li><a data-ga-click="Footer, go to help, text:Docs" href="https://docs.github.com">Docs</a></li>
    </ul>

    <a aria-label="Homepage" title="GitHub" class="footer-octicon d-none d-lg-block mx-lg-4" href="https://github.com">
      <svg height="24" class="octicon octicon-mark-github" viewBox="0 0 16 16" version="1.1" width="24" aria-hidden="true"><path fill-rule="evenodd" d="M8 0C3.58 0 0 3.58 0 8c0 3.54 2.29 6.53 5.47 7.59.4.07.55-.17.55-.38 0-.19-.01-.82-.01-1.49-2.01.37-2.53-.49-2.69-.94-.09-.23-.48-.94-.82-1.13-.28-.15-.68-.52-.01-.53.63-.01 1.08.58 1.23.82.72 1.21 1.87.87 2.33.66.07-.52.28-.87.51-1.07-1.78-.2-3.64-.89-3.64-3.95 0-.87.31-1.59.82-2.15-.08-.2-.36-1.02.08-2.12 0 0 .67-.21 2.2.82.64-.18 1.32-.27 2-.27.68 0 1.36.09 2 .27 1.53-1.04 2.2-.82 2.2-.82.44 1.1.16 1.92.08 2.12.51.56.82 1.27.82 2.15 0 3.07-1.87 3.75-3.65 3.95.29.25.54.73.54 1.48 0 1.07-.01 1.93-.01 2.2 0 .21.15.46.55.38A8.013 8.013 0 0016 8c0-4.42-3.58-8-8-8z"></path></svg>
</a>
    <ul class="list-style-none d-flex flex-wrap col-12 col-lg-5 flex-justify-center flex-lg-justify-between mb-2 mb-lg-0">
        <li class="mr-3 mr-lg-0"><a href="https://support.github.com" data-ga-click="Footer, go to contact, text:contact">Contact GitHub</a></li>
        <li class="mr-3 mr-lg-0"><a href="https://github.com/pricing" data-ga-click="Footer, go to Pricing, text:Pricing">Pricing</a></li>
      <li class="mr-3 mr-lg-0"><a href="https://docs.github.com" data-ga-click="Footer, go to api, text:api">API</a></li>
      <li class="mr-3 mr-lg-0"><a href="https://services.github.com" data-ga-click="Footer, go to training, text:training">Training</a></li>
        <li class="mr-3 mr-lg-0"><a href="https://github.blog" data-ga-click="Footer, go to blog, text:blog">Blog</a></li>
        <li><a data-ga-click="Footer, go to about, text:about" href="https://github.com/about">About</a></li>
    </ul>
  </div>
  <div class="d-flex flex-justify-center pb-6">
    <span class="f6 color-text-tertiary"></span>
  </div>

  
</div>



  <div id="ajax-error-message" class="ajax-error-message flash flash-error" hidden>
    <svg class="octicon octicon-alert" viewBox="0 0 16 16" version="1.1" width="16" height="16" aria-hidden="true"><path fill-rule="evenodd" d="M8.22 1.754a.25.25 0 00-.44 0L1.698 13.132a.25.25 0 00.22.368h12.164a.25.25 0 00.22-.368L8.22 1.754zm-1.763-.707c.659-1.234 2.427-1.234 3.086 0l6.082 11.378A1.75 1.75 0 0114.082 15H1.918a1.75 1.75 0 01-1.543-2.575L6.457 1.047zM9 11a1 1 0 11-2 0 1 1 0 012 0zm-.25-5.25a.75.75 0 00-1.5 0v2.5a.75.75 0 001.5 0v-2.5z"></path></svg>
    <button type="button" class="flash-close js-ajax-error-dismiss" aria-label="Dismiss error">
      <svg class="octicon octicon-x" viewBox="0 0 16 16" version="1.1" width="16" height="16" aria-hidden="true"><path fill-rule="evenodd" d="M3.72 3.72a.75.75 0 011.06 0L8 6.94l3.22-3.22a.75.75 0 111.06 1.06L9.06 8l3.22 3.22a.75.75 0 11-1.06 1.06L8 9.06l-3.22 3.22a.75.75 0 01-1.06-1.06L6.94 8 3.72 4.78a.75.75 0 010-1.06z"></path></svg>
    </button>
    You can’t perform that action at this time.
  </div>

  <div class="js-stale-session-flash flash flash-warn flash-banner" hidden
    >
    <svg class="octicon octicon-alert" viewBox="0 0 16 16" version="1.1" width="16" height="16" aria-hidden="true"><path fill-rule="evenodd" d="M8.22 1.754a.25.25 0 00-.44 0L1.698 13.132a.25.25 0 00.22.368h12.164a.25.25 0 00.22-.368L8.22 1.754zm-1.763-.707c.659-1.234 2.427-1.234 3.086 0l6.082 11.378A1.75 1.75 0 0114.082 15H1.918a1.75 1.75 0 01-1.543-2.575L6.457 1.047zM9 11a1 1 0 11-2 0 1 1 0 012 0zm-.25-5.25a.75.75 0 00-1.5 0v2.5a.75.75 0 001.5 0v-2.5z"></path></svg>
    <span class="js-stale-session-flash-signed-in" hidden>You signed in with another tab or window. <a href="">Reload</a> to refresh your session.</span>
    <span class="js-stale-session-flash-signed-out" hidden>You signed out in another tab or window. <a href="">Reload</a> to refresh your session.</span>
  </div>
    <template id="site-details-dialog">
  <details class="details-reset details-overlay details-overlay-dark lh-default color-text-primary hx_rsm" open>
    <summary role="button" aria-label="Close dialog"></summary>
    <details-dialog class="Box Box--overlay d-flex flex-column anim-fade-in fast hx_rsm-dialog hx_rsm-modal">
      <button class="Box-btn-octicon m-0 btn-octicon position-absolute right-0 top-0" type="button" aria-label="Close dialog" data-close-dialog>
        <svg class="octicon octicon-x" viewBox="0 0 16 16" version="1.1" width="16" height="16" aria-hidden="true"><path fill-rule="evenodd" d="M3.72 3.72a.75.75 0 011.06 0L8 6.94l3.22-3.22a.75.75 0 111.06 1.06L9.06 8l3.22 3.22a.75.75 0 11-1.06 1.06L8 9.06l-3.22 3.22a.75.75 0 01-1.06-1.06L6.94 8 3.72 4.78a.75.75 0 010-1.06z"></path></svg>
      </button>
      <div class="octocat-spinner my-6 js-details-dialog-spinner"></div>
    </details-dialog>
  </details>
</template>

    <div class="Popover js-hovercard-content position-absolute" style="display: none; outline: none;" tabindex="0">
  <div class="Popover-message Popover-message--bottom-left Popover-message--large Box color-shadow-large" style="width:360px;">
  </div>
</div>




  </body>
</html>

=======
{
 "cells": [
  {
   "cell_type": "code",
   "execution_count": 1,
   "metadata": {},
   "outputs": [],
   "source": [
    "import pandas as pd\n",
    "import matplotlib.pyplot as plt\n",
    "import seaborn as sns"
   ]
  },
  {
   "cell_type": "code",
   "execution_count": 2,
   "metadata": {},
   "outputs": [],
   "source": [
    "df = pd.read_csv('lastfm-dataset-1K/userid-timestamp-artid-artname-traid-traname.tsv', error_bad_lines=False, warn_bad_lines=True, sep='\\t', names=['user', 'timestamp', 'artist-id', 'artist', 'song-id', 'song'])\n",
    "df_profile = pd.read_csv('lastfm-dataset-1K/userid-profile.tsv', sep='\\t', error_bad_lines=False, warn_bad_lines=True, skiprows=1, names=['user', 'gender', 'age', 'country', 'signup'])"
   ]
  },
  {
   "cell_type": "code",
   "execution_count": 3,
   "metadata": {},
   "outputs": [
    {
     "data": {
      "text/html": [
       "<div>\n",
       "<style scoped>\n",
       "    .dataframe tbody tr th:only-of-type {\n",
       "        vertical-align: middle;\n",
       "    }\n",
       "\n",
       "    .dataframe tbody tr th {\n",
       "        vertical-align: top;\n",
       "    }\n",
       "\n",
       "    .dataframe thead th {\n",
       "        text-align: right;\n",
       "    }\n",
       "</style>\n",
       "<table border=\"1\" class=\"dataframe\">\n",
       "  <thead>\n",
       "    <tr style=\"text-align: right;\">\n",
       "      <th></th>\n",
       "      <th>user</th>\n",
       "      <th>timestamp</th>\n",
       "      <th>artist-id</th>\n",
       "      <th>artist</th>\n",
       "      <th>song-id</th>\n",
       "      <th>song</th>\n",
       "    </tr>\n",
       "  </thead>\n",
       "  <tbody>\n",
       "    <tr>\n",
       "      <th>0</th>\n",
       "      <td>user_000001</td>\n",
       "      <td>2009-05-04T23:08:57Z</td>\n",
       "      <td>f1b1cf71-bd35-4e99-8624-24a6e15f133a</td>\n",
       "      <td>Deep Dish</td>\n",
       "      <td>NaN</td>\n",
       "      <td>Fuck Me Im Famous (Pacha Ibiza)-09-28-2007</td>\n",
       "    </tr>\n",
       "    <tr>\n",
       "      <th>1</th>\n",
       "      <td>user_000001</td>\n",
       "      <td>2009-05-04T13:54:10Z</td>\n",
       "      <td>a7f7df4a-77d8-4f12-8acd-5c60c93f4de8</td>\n",
       "      <td>坂本龍一</td>\n",
       "      <td>NaN</td>\n",
       "      <td>Composition 0919 (Live_2009_4_15)</td>\n",
       "    </tr>\n",
       "    <tr>\n",
       "      <th>2</th>\n",
       "      <td>user_000001</td>\n",
       "      <td>2009-05-04T13:52:04Z</td>\n",
       "      <td>a7f7df4a-77d8-4f12-8acd-5c60c93f4de8</td>\n",
       "      <td>坂本龍一</td>\n",
       "      <td>NaN</td>\n",
       "      <td>Mc2 (Live_2009_4_15)</td>\n",
       "    </tr>\n",
       "    <tr>\n",
       "      <th>3</th>\n",
       "      <td>user_000001</td>\n",
       "      <td>2009-05-04T13:42:52Z</td>\n",
       "      <td>a7f7df4a-77d8-4f12-8acd-5c60c93f4de8</td>\n",
       "      <td>坂本龍一</td>\n",
       "      <td>NaN</td>\n",
       "      <td>Hibari (Live_2009_4_15)</td>\n",
       "    </tr>\n",
       "    <tr>\n",
       "      <th>4</th>\n",
       "      <td>user_000001</td>\n",
       "      <td>2009-05-04T13:42:11Z</td>\n",
       "      <td>a7f7df4a-77d8-4f12-8acd-5c60c93f4de8</td>\n",
       "      <td>坂本龍一</td>\n",
       "      <td>NaN</td>\n",
       "      <td>Mc1 (Live_2009_4_15)</td>\n",
       "    </tr>\n",
       "  </tbody>\n",
       "</table>\n",
       "</div>"
      ],
      "text/plain": [
       "          user             timestamp                             artist-id  \\\n",
       "0  user_000001  2009-05-04T23:08:57Z  f1b1cf71-bd35-4e99-8624-24a6e15f133a   \n",
       "1  user_000001  2009-05-04T13:54:10Z  a7f7df4a-77d8-4f12-8acd-5c60c93f4de8   \n",
       "2  user_000001  2009-05-04T13:52:04Z  a7f7df4a-77d8-4f12-8acd-5c60c93f4de8   \n",
       "3  user_000001  2009-05-04T13:42:52Z  a7f7df4a-77d8-4f12-8acd-5c60c93f4de8   \n",
       "4  user_000001  2009-05-04T13:42:11Z  a7f7df4a-77d8-4f12-8acd-5c60c93f4de8   \n",
       "\n",
       "      artist song-id                                        song  \n",
       "0  Deep Dish     NaN  Fuck Me Im Famous (Pacha Ibiza)-09-28-2007  \n",
       "1       坂本龍一     NaN           Composition 0919 (Live_2009_4_15)  \n",
       "2       坂本龍一     NaN                        Mc2 (Live_2009_4_15)  \n",
       "3       坂本龍一     NaN                     Hibari (Live_2009_4_15)  \n",
       "4       坂本龍一     NaN                        Mc1 (Live_2009_4_15)  "
      ]
     },
     "execution_count": 3,
     "metadata": {},
     "output_type": "execute_result"
    }
   ],
   "source": [
    "df.head()"
   ]
  },
  {
   "cell_type": "code",
   "execution_count": 4,
   "metadata": {},
   "outputs": [
    {
     "data": {
      "text/html": [
       "<div>\n",
       "<style scoped>\n",
       "    .dataframe tbody tr th:only-of-type {\n",
       "        vertical-align: middle;\n",
       "    }\n",
       "\n",
       "    .dataframe tbody tr th {\n",
       "        vertical-align: top;\n",
       "    }\n",
       "\n",
       "    .dataframe thead th {\n",
       "        text-align: right;\n",
       "    }\n",
       "</style>\n",
       "<table border=\"1\" class=\"dataframe\">\n",
       "  <thead>\n",
       "    <tr style=\"text-align: right;\">\n",
       "      <th></th>\n",
       "      <th>user</th>\n",
       "      <th>gender</th>\n",
       "      <th>age</th>\n",
       "      <th>country</th>\n",
       "      <th>signup</th>\n",
       "    </tr>\n",
       "  </thead>\n",
       "  <tbody>\n",
       "    <tr>\n",
       "      <th>0</th>\n",
       "      <td>user_000001</td>\n",
       "      <td>m</td>\n",
       "      <td>NaN</td>\n",
       "      <td>Japan</td>\n",
       "      <td>Aug 13, 2006</td>\n",
       "    </tr>\n",
       "    <tr>\n",
       "      <th>1</th>\n",
       "      <td>user_000002</td>\n",
       "      <td>f</td>\n",
       "      <td>NaN</td>\n",
       "      <td>Peru</td>\n",
       "      <td>Feb 24, 2006</td>\n",
       "    </tr>\n",
       "    <tr>\n",
       "      <th>2</th>\n",
       "      <td>user_000003</td>\n",
       "      <td>m</td>\n",
       "      <td>22.0</td>\n",
       "      <td>United States</td>\n",
       "      <td>Oct 30, 2005</td>\n",
       "    </tr>\n",
       "    <tr>\n",
       "      <th>3</th>\n",
       "      <td>user_000004</td>\n",
       "      <td>f</td>\n",
       "      <td>NaN</td>\n",
       "      <td>NaN</td>\n",
       "      <td>Apr 26, 2006</td>\n",
       "    </tr>\n",
       "    <tr>\n",
       "      <th>4</th>\n",
       "      <td>user_000005</td>\n",
       "      <td>m</td>\n",
       "      <td>NaN</td>\n",
       "      <td>Bulgaria</td>\n",
       "      <td>Jun 29, 2006</td>\n",
       "    </tr>\n",
       "  </tbody>\n",
       "</table>\n",
       "</div>"
      ],
      "text/plain": [
       "          user gender   age        country        signup\n",
       "0  user_000001      m   NaN          Japan  Aug 13, 2006\n",
       "1  user_000002      f   NaN           Peru  Feb 24, 2006\n",
       "2  user_000003      m  22.0  United States  Oct 30, 2005\n",
       "3  user_000004      f   NaN            NaN  Apr 26, 2006\n",
       "4  user_000005      m   NaN       Bulgaria  Jun 29, 2006"
      ]
     },
     "execution_count": 4,
     "metadata": {},
     "output_type": "execute_result"
    }
   ],
   "source": [
    "df_profile.head()"
   ]
  },
  {
   "cell_type": "code",
   "execution_count": 5,
   "metadata": {},
   "outputs": [
    {
     "data": {
      "text/html": [
       "<div>\n",
       "<style scoped>\n",
       "    .dataframe tbody tr th:only-of-type {\n",
       "        vertical-align: middle;\n",
       "    }\n",
       "\n",
       "    .dataframe tbody tr th {\n",
       "        vertical-align: top;\n",
       "    }\n",
       "\n",
       "    .dataframe thead tr th {\n",
       "        text-align: left;\n",
       "    }\n",
       "\n",
       "    .dataframe thead tr:last-of-type th {\n",
       "        text-align: right;\n",
       "    }\n",
       "</style>\n",
       "<table border=\"1\" class=\"dataframe\">\n",
       "  <thead>\n",
       "    <tr>\n",
       "      <th></th>\n",
       "      <th colspan=\"2\" halign=\"left\">song</th>\n",
       "    </tr>\n",
       "    <tr>\n",
       "      <th></th>\n",
       "      <th>nunique</th>\n",
       "      <th>count</th>\n",
       "    </tr>\n",
       "    <tr>\n",
       "      <th>user</th>\n",
       "      <th></th>\n",
       "      <th></th>\n",
       "    </tr>\n",
       "  </thead>\n",
       "  <tbody>\n",
       "    <tr>\n",
       "      <th>user_000001</th>\n",
       "      <td>3092</td>\n",
       "      <td>16685</td>\n",
       "    </tr>\n",
       "    <tr>\n",
       "      <th>user_000002</th>\n",
       "      <td>8129</td>\n",
       "      <td>57438</td>\n",
       "    </tr>\n",
       "    <tr>\n",
       "      <th>user_000003</th>\n",
       "      <td>4565</td>\n",
       "      <td>19494</td>\n",
       "    </tr>\n",
       "    <tr>\n",
       "      <th>user_000004</th>\n",
       "      <td>5974</td>\n",
       "      <td>18411</td>\n",
       "    </tr>\n",
       "    <tr>\n",
       "      <th>user_000005</th>\n",
       "      <td>1974</td>\n",
       "      <td>20341</td>\n",
       "    </tr>\n",
       "    <tr>\n",
       "      <th>...</th>\n",
       "      <td>...</td>\n",
       "      <td>...</td>\n",
       "    </tr>\n",
       "    <tr>\n",
       "      <th>user_000996</th>\n",
       "      <td>432</td>\n",
       "      <td>4940</td>\n",
       "    </tr>\n",
       "    <tr>\n",
       "      <th>user_000997</th>\n",
       "      <td>810</td>\n",
       "      <td>9506</td>\n",
       "    </tr>\n",
       "    <tr>\n",
       "      <th>user_000998</th>\n",
       "      <td>5741</td>\n",
       "      <td>34149</td>\n",
       "    </tr>\n",
       "    <tr>\n",
       "      <th>user_000999</th>\n",
       "      <td>2547</td>\n",
       "      <td>31415</td>\n",
       "    </tr>\n",
       "    <tr>\n",
       "      <th>user_001000</th>\n",
       "      <td>5095</td>\n",
       "      <td>18373</td>\n",
       "    </tr>\n",
       "  </tbody>\n",
       "</table>\n",
       "<p>992 rows × 2 columns</p>\n",
       "</div>"
      ],
      "text/plain": [
       "               song       \n",
       "            nunique  count\n",
       "user                      \n",
       "user_000001    3092  16685\n",
       "user_000002    8129  57438\n",
       "user_000003    4565  19494\n",
       "user_000004    5974  18411\n",
       "user_000005    1974  20341\n",
       "...             ...    ...\n",
       "user_000996     432   4940\n",
       "user_000997     810   9506\n",
       "user_000998    5741  34149\n",
       "user_000999    2547  31415\n",
       "user_001000    5095  18373\n",
       "\n",
       "[992 rows x 2 columns]"
      ]
     },
     "execution_count": 5,
     "metadata": {},
     "output_type": "execute_result"
    }
   ],
   "source": [
    "# Check if the same user has the same song entered multiple times\n",
    "df[['user', 'song']].groupby('user').agg({'count', 'nunique'})"
   ]
  },
  {
   "cell_type": "code",
   "execution_count": 6,
   "metadata": {
    "scrolled": true
   },
   "outputs": [
    {
     "data": {
      "text/plain": [
       "Music                               70\n",
       "Gum                                 63\n",
       "Mario Basanov & Vidis ‘Test’        52\n",
       "Child Song                          45\n",
       "Hibari                              42\n",
       "                                    ..\n",
       "Memento Mori                         1\n",
       "This Is Noraneko                     1\n",
       "Blue Minor                           1\n",
       "What Else Is There? (Radio Edit)     1\n",
       "The Hole                             1\n",
       "Name: song, Length: 3092, dtype: int64"
      ]
     },
     "execution_count": 6,
     "metadata": {},
     "output_type": "execute_result"
    }
   ],
   "source": [
    "# Display songs of user_1\n",
    "user_1 = df.loc[df['user'] == 'user_000001', 'song']\n",
    "user_1.value_counts()"
   ]
  },
  {
   "cell_type": "code",
   "execution_count": 7,
   "metadata": {},
   "outputs": [],
   "source": [
    "df['timestamp'] = pd.to_datetime(df['timestamp'])"
   ]
  },
  {
   "cell_type": "code",
   "execution_count": 8,
   "metadata": {
    "scrolled": true
   },
   "outputs": [
    {
     "name": "stderr",
     "output_type": "stream",
     "text": [
      "/home/nabegh/Anaconda3/envs/kaggle/lib/python3.7/site-packages/ipykernel_launcher.py:1: FutureWarning: Treating datetime data as categorical rather than numeric in `.describe` is deprecated and will be removed in a future version of pandas. Specify `datetime_is_numeric=True` to silence this warning and adopt the future behavior now.\n",
      "  \"\"\"Entry point for launching an IPython kernel.\n"
     ]
    },
    {
     "data": {
      "text/html": [
       "<div>\n",
       "<style scoped>\n",
       "    .dataframe tbody tr th:only-of-type {\n",
       "        vertical-align: middle;\n",
       "    }\n",
       "\n",
       "    .dataframe tbody tr th {\n",
       "        vertical-align: top;\n",
       "    }\n",
       "\n",
       "    .dataframe thead th {\n",
       "        text-align: right;\n",
       "    }\n",
       "</style>\n",
       "<table border=\"1\" class=\"dataframe\">\n",
       "  <thead>\n",
       "    <tr style=\"text-align: right;\">\n",
       "      <th></th>\n",
       "      <th>user</th>\n",
       "      <th>timestamp</th>\n",
       "      <th>artist-id</th>\n",
       "      <th>artist</th>\n",
       "      <th>song-id</th>\n",
       "      <th>song</th>\n",
       "    </tr>\n",
       "  </thead>\n",
       "  <tbody>\n",
       "    <tr>\n",
       "      <th>count</th>\n",
       "      <td>19098862</td>\n",
       "      <td>19098862</td>\n",
       "      <td>18498009</td>\n",
       "      <td>19098862</td>\n",
       "      <td>16936136</td>\n",
       "      <td>19098850</td>\n",
       "    </tr>\n",
       "    <tr>\n",
       "      <th>unique</th>\n",
       "      <td>992</td>\n",
       "      <td>17454739</td>\n",
       "      <td>107295</td>\n",
       "      <td>173923</td>\n",
       "      <td>960402</td>\n",
       "      <td>1083480</td>\n",
       "    </tr>\n",
       "    <tr>\n",
       "      <th>top</th>\n",
       "      <td>user_000949</td>\n",
       "      <td>2009-02-26 21:29:15+00:00</td>\n",
       "      <td>a74b1b7f-71a5-4011-9441-d0b5e4122711</td>\n",
       "      <td>Radiohead</td>\n",
       "      <td>db16d0b3-b8ce-4aa8-a11a-e4d53cc7f8a6</td>\n",
       "      <td>Intro</td>\n",
       "    </tr>\n",
       "    <tr>\n",
       "      <th>freq</th>\n",
       "      <td>183103</td>\n",
       "      <td>248</td>\n",
       "      <td>115099</td>\n",
       "      <td>115099</td>\n",
       "      <td>3991</td>\n",
       "      <td>17561</td>\n",
       "    </tr>\n",
       "    <tr>\n",
       "      <th>first</th>\n",
       "      <td>NaN</td>\n",
       "      <td>2005-02-14 00:00:07+00:00</td>\n",
       "      <td>NaN</td>\n",
       "      <td>NaN</td>\n",
       "      <td>NaN</td>\n",
       "      <td>NaN</td>\n",
       "    </tr>\n",
       "    <tr>\n",
       "      <th>last</th>\n",
       "      <td>NaN</td>\n",
       "      <td>2013-09-29 18:32:04+00:00</td>\n",
       "      <td>NaN</td>\n",
       "      <td>NaN</td>\n",
       "      <td>NaN</td>\n",
       "      <td>NaN</td>\n",
       "    </tr>\n",
       "  </tbody>\n",
       "</table>\n",
       "</div>"
      ],
      "text/plain": [
       "               user                  timestamp  \\\n",
       "count      19098862                   19098862   \n",
       "unique          992                   17454739   \n",
       "top     user_000949  2009-02-26 21:29:15+00:00   \n",
       "freq         183103                        248   \n",
       "first           NaN  2005-02-14 00:00:07+00:00   \n",
       "last            NaN  2013-09-29 18:32:04+00:00   \n",
       "\n",
       "                                   artist-id     artist  \\\n",
       "count                               18498009   19098862   \n",
       "unique                                107295     173923   \n",
       "top     a74b1b7f-71a5-4011-9441-d0b5e4122711  Radiohead   \n",
       "freq                                  115099     115099   \n",
       "first                                    NaN        NaN   \n",
       "last                                     NaN        NaN   \n",
       "\n",
       "                                     song-id      song  \n",
       "count                               16936136  19098850  \n",
       "unique                                960402   1083480  \n",
       "top     db16d0b3-b8ce-4aa8-a11a-e4d53cc7f8a6     Intro  \n",
       "freq                                    3991     17561  \n",
       "first                                    NaN       NaN  \n",
       "last                                     NaN       NaN  "
      ]
     },
     "execution_count": 8,
     "metadata": {},
     "output_type": "execute_result"
    }
   ],
   "source": [
    "df.describe(include='all')"
   ]
  },
  {
   "cell_type": "markdown",
   "metadata": {},
   "source": [
    "### <font color=\"red\"> Note </font>\n",
    "\n",
    "We have some missing data especially in the id columns that we have to investigate."
   ]
  },
  {
   "cell_type": "code",
   "execution_count": 9,
   "metadata": {},
   "outputs": [
    {
     "data": {
      "image/png": "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\n",
      "text/plain": [
       "<Figure size 864x720 with 1 Axes>"
      ]
     },
     "metadata": {
      "needs_background": "light"
     },
     "output_type": "display_data"
    }
   ],
   "source": [
    "plt.figure(figsize=(12,10))\n",
    "df['timestamp'].dt.strftime('%Y-%m').value_counts(sort=False).sort_index().plot()\n",
    "plt.show()"
   ]
  },
  {
   "cell_type": "code",
   "execution_count": 10,
   "metadata": {},
   "outputs": [
    {
     "data": {
      "text/html": [
       "<div>\n",
       "<style scoped>\n",
       "    .dataframe tbody tr th:only-of-type {\n",
       "        vertical-align: middle;\n",
       "    }\n",
       "\n",
       "    .dataframe tbody tr th {\n",
       "        vertical-align: top;\n",
       "    }\n",
       "\n",
       "    .dataframe thead th {\n",
       "        text-align: right;\n",
       "    }\n",
       "</style>\n",
       "<table border=\"1\" class=\"dataframe\">\n",
       "  <thead>\n",
       "    <tr style=\"text-align: right;\">\n",
       "      <th></th>\n",
       "      <th>song</th>\n",
       "    </tr>\n",
       "    <tr>\n",
       "      <th>song-id</th>\n",
       "      <th></th>\n",
       "    </tr>\n",
       "  </thead>\n",
       "  <tbody>\n",
       "    <tr>\n",
       "      <th>283faa4b-4138-43b0-9bbd-d5caa2caeaa2</th>\n",
       "      <td>8</td>\n",
       "    </tr>\n",
       "    <tr>\n",
       "      <th>4517e130-602c-4c63-b34f-cd6679eb0c46</th>\n",
       "      <td>9</td>\n",
       "    </tr>\n",
       "    <tr>\n",
       "      <th>b9a47440-c0c4-495d-a2d5-433c3fff63aa</th>\n",
       "      <td>8</td>\n",
       "    </tr>\n",
       "  </tbody>\n",
       "</table>\n",
       "</div>"
      ],
      "text/plain": [
       "                                      song\n",
       "song-id                                   \n",
       "283faa4b-4138-43b0-9bbd-d5caa2caeaa2     8\n",
       "4517e130-602c-4c63-b34f-cd6679eb0c46     9\n",
       "b9a47440-c0c4-495d-a2d5-433c3fff63aa     8"
      ]
     },
     "execution_count": 10,
     "metadata": {},
     "output_type": "execute_result"
    }
   ],
   "source": [
    "# Check if some songs share a common ID\n",
    "grouped = df[['song-id', 'song']].groupby(['song-id']).nunique()\n",
    "grouped[grouped['song'] > 3].head()"
   ]
  },
  {
   "cell_type": "code",
   "execution_count": 11,
   "metadata": {
    "scrolled": true
   },
   "outputs": [
    {
     "data": {
      "text/plain": [
       "2967164     Open Quotes\\nuser_000149\\t2008-12-18T22:32:07Z...\n",
       "2967204     Open Quotes\\nuser_000149\\t2008-12-18T20:25:32Z...\n",
       "3004684     Open Quotes\\nuser_000149\\t2008-06-01T23:38:32Z...\n",
       "3007671     Open Quotes\\nuser_000149\\t2008-05-14T02:57:09Z...\n",
       "3008807     Open Quotes\\nuser_000149\\t2007-02-28T10:33:20Z...\n",
       "3015157     Open Quotes\\nuser_000149\\t2006-08-05T19:38:27Z...\n",
       "3017068     Open Quotes\\nuser_000149\\t2006-06-07T10:45:49Z...\n",
       "12657141    Open Quotes\\nuser_000684\\t2009-01-31T10:38:23Z...\n",
       "Name: song, dtype: object"
      ]
     },
     "execution_count": 11,
     "metadata": {},
     "output_type": "execute_result"
    }
   ],
   "source": [
    "df.loc[df['song-id'] == '283faa4b-4138-43b0-9bbd-d5caa2caeaa2', 'song']"
   ]
  },
  {
   "cell_type": "code",
   "execution_count": 12,
   "metadata": {},
   "outputs": [
    {
     "data": {
      "text/plain": [
       "1942654     Unquiet Slumbers For The Sleepers...\\nuser_000...\n",
       "1972760     Unquiet Slumbers For The Sleepers...\\nuser_000...\n",
       "6611481     Unquiet Slumbers For The Sleepers...\\nuser_000...\n",
       "11424559    Unquiet Slumbers For The Sleepers...\\nuser_000...\n",
       "12902538    Unquiet Slumbers For The Sleepers...\\nuser_000...\n",
       "12905225    Unquiet Slumbers For The Sleepers...\\nuser_000...\n",
       "12935043    Unquiet Slumbers For The Sleepers...\\nuser_000...\n",
       "12948394    Unquiet Slumbers For The Sleepers...\\nuser_000...\n",
       "13227544    Unquiet Slumbers For The Sleepers...\\nuser_000...\n",
       "Name: song, dtype: object"
      ]
     },
     "execution_count": 12,
     "metadata": {},
     "output_type": "execute_result"
    }
   ],
   "source": [
    "df.loc[df['song-id'] == '4517e130-602c-4c63-b34f-cd6679eb0c46', 'song']"
   ]
  },
  {
   "cell_type": "code",
   "execution_count": 13,
   "metadata": {},
   "outputs": [
    {
     "data": {
      "text/plain": [
       "3714166    Kill 'Em All...\\nuser_000188\\t2008-12-02T10:58...\n",
       "3720556    Kill 'Em All...\\nuser_000188\\t2008-04-13T17:32...\n",
       "7052003    Kill 'Em All...\\nuser_000361\\t2007-10-12T02:15...\n",
       "7052004    Kill 'Em All...\\nuser_000361\\t2007-10-11T00:16...\n",
       "7055719    Kill 'Em All...\\nuser_000361\\t2007-08-09T06:37...\n",
       "7057113    Kill 'Em All...\\nuser_000361\\t2007-07-27T03:49...\n",
       "7058931    Kill 'Em All...\\nuser_000361\\t2007-06-16T10:22...\n",
       "7060157    Kill 'Em All...\\nuser_000361\\t2007-05-26T11:30...\n",
       "Name: song, dtype: object"
      ]
     },
     "execution_count": 13,
     "metadata": {},
     "output_type": "execute_result"
    }
   ],
   "source": [
    "df.loc[df['song-id'] == 'b9a47440-c0c4-495d-a2d5-433c3fff63aa', 'song']"
   ]
  },
  {
   "cell_type": "markdown",
   "metadata": {},
   "source": [
    "### <font color=\"red\"> Note </font>\n",
    "\n",
    "The song names that share the same id are just unclean example with another user data concatenated to it."
   ]
  },
  {
   "cell_type": "code",
   "execution_count": 14,
   "metadata": {},
   "outputs": [
    {
     "name": "stderr",
     "output_type": "stream",
     "text": [
      "/home/nabegh/Anaconda3/envs/kaggle/lib/python3.7/site-packages/seaborn/distributions.py:2557: FutureWarning: `distplot` is a deprecated function and will be removed in a future version. Please adapt your code to use either `displot` (a figure-level function with similar flexibility) or `histplot` (an axes-level function for histograms).\n",
      "  warnings.warn(msg, FutureWarning)\n"
     ]
    },
    {
     "data": {
      "image/png": "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\n",
      "text/plain": [
       "<Figure size 432x288 with 1 Axes>"
      ]
     },
     "metadata": {
      "needs_background": "light"
     },
     "output_type": "display_data"
    }
   ],
   "source": [
    "g1 = sns.distplot(df['song-id'].value_counts())\n",
    "g1.set(xlabel='#song-occ', title='PDF of number of plays for each song')\n",
    "plt.show()"
   ]
  },
  {
   "cell_type": "code",
   "execution_count": 15,
   "metadata": {},
   "outputs": [
    {
     "name": "stdout",
     "output_type": "stream",
     "text": [
      "Ratio of songs that only appear once 0.27\n"
     ]
    }
   ],
   "source": [
    "print(\"Ratio of songs that only appear once {:.2f}\".format((df['song-id'].value_counts() == 1).sum() / 960402))"
   ]
  },
  {
   "cell_type": "code",
   "execution_count": 16,
   "metadata": {},
   "outputs": [
    {
     "data": {
      "image/png": "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\n",
      "text/plain": [
       "<Figure size 864x720 with 1 Axes>"
      ]
     },
     "metadata": {
      "needs_background": "light"
     },
     "output_type": "display_data"
    }
   ],
   "source": [
    "plt.figure(figsize=(12,10))\n",
    "df_profile['country'].value_counts().head(50).plot(kind='bar')\n",
    "plt.show()"
   ]
  },
  {
   "cell_type": "code",
   "execution_count": 17,
   "metadata": {},
   "outputs": [
    {
     "data": {
      "text/plain": [
       "<AxesSubplot:>"
      ]
     },
     "execution_count": 17,
     "metadata": {},
     "output_type": "execute_result"
    },
    {
     "data": {
      "image/png": "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\n",
      "text/plain": [
       "<Figure size 864x720 with 1 Axes>"
      ]
     },
     "metadata": {
      "needs_background": "light"
     },
     "output_type": "display_data"
    }
   ],
   "source": [
    "age = df_profile['age'][(df_profile['age'] > 0) & (df_profile['age'] < 120)]\n",
    "plt.figure(figsize=(12,10))\n",
    "pd.cut(age, bins=range(0,120,10)).value_counts(sort=False).sort_index().plot(kind='bar')"
   ]
  },
  {
   "cell_type": "code",
   "execution_count": 18,
   "metadata": {},
   "outputs": [
    {
     "data": {
      "text/plain": [
       "<AxesSubplot:>"
      ]
     },
     "execution_count": 18,
     "metadata": {},
     "output_type": "execute_result"
    },
    {
     "data": {
      "image/png": "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\n",
      "text/plain": [
       "<Figure size 864x720 with 1 Axes>"
      ]
     },
     "metadata": {
      "needs_background": "light"
     },
     "output_type": "display_data"
    }
   ],
   "source": [
    "plt.figure(figsize=(12,10))\n",
    "df_profile['gender'].value_counts(dropna=False).plot(kind='bar')"
   ]
  },
  {
   "cell_type": "code",
   "execution_count": 9,
   "metadata": {},
   "outputs": [],
   "source": [
    "import spotipy \n",
    "from spotipy.oauth2 import SpotifyClientCredentials\n",
    "\n",
    "client_id = '***'\n",
    "client_secret = '***'\n",
    "\n",
    "client_credentials_manager = SpotifyClientCredentials(client_id=client_id,\n",
    "                                                      client_secret=client_secret)\n",
    "sp = spotipy.Spotify(client_credentials_manager=client_credentials_manager)"
   ]
  },
  {
   "cell_type": "code",
   "execution_count": 35,
   "metadata": {},
   "outputs": [],
   "source": [
    "def extract_spotify_id(x):\n",
    "    q = 'artist:{} track:{}'.format(x[3], x[5])\n",
    "    results = sp.search(q=q, limit=1, type='track')\n",
    "    track_id = results['tracks']['items']\n",
    "    if len(track_id)==1:\n",
    "        return results['tracks']['items'][0]['uri']\n",
    "    else:\n",
    "        return None\n",
    "    \n",
    "df['spotify_id'] = df.apply(extract_spotify_id, axis=1)"
   ]
  },
  {
   "cell_type": "code",
   "execution_count": 51,
   "metadata": {},
   "outputs": [],
   "source": [
    "new_features = df['spotify_id'].apply(lambda x: sp.audio_features(x) if x != None else None)"
   ]
  },
  {
   "cell_type": "code",
   "execution_count": 52,
   "metadata": {
    "tags": []
   },
   "outputs": [
    {
     "data": {
      "text/plain": [
       "0                                                    None\n",
       "1                                                    None\n",
       "2                                                    None\n",
       "3                                                    None\n",
       "4                                                    None\n",
       "                              ...                        \n",
       "4995    [{'danceability': 0.688, 'energy': 0.642, 'key...\n",
       "4996                                                 None\n",
       "4997    [{'danceability': 0.707, 'energy': 0.987, 'key...\n",
       "4998    [{'danceability': 0.692, 'energy': 0.989, 'key...\n",
       "4999    [{'danceability': 0.707, 'energy': 0.987, 'key...\n",
       "Name: spotify_id, Length: 5000, dtype: object"
      ]
     },
     "execution_count": 52,
     "metadata": {},
     "output_type": "execute_result"
    }
   ],
   "source": [
    "new_features"
   ]
  },
  {
   "cell_type": "markdown",
   "metadata": {},
   "source": [
    "By using the spotify API, we find interesting features for different songs that could help us to investigate the user behaviour. We have $\\frac{2}{5}$ of the data that could not be found in the spotify database. We are confident that by refining the search, we will be able to find a bigger chunk of hits in the spotify database."
   ]
  }
 ],
 "metadata": {
  "kernelspec": {
   "display_name": "Python 3",
   "language": "python",
   "name": "python3"
  },
  "language_info": {
   "codemirror_mode": {
    "name": "ipython",
    "version": 3
   },
   "file_extension": ".py",
   "mimetype": "text/x-python",
   "name": "python",
   "nbconvert_exporter": "python",
   "pygments_lexer": "ipython3",
   "version": "3.7.6"
  }
 },
 "nbformat": 4,
 "nbformat_minor": 5
}
>>>>>>> 0dcfeff5f7a123cfaf37fa2daa8a8b0ecf9e503a
