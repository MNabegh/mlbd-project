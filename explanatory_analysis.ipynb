{
 "cells": [
  {
   "cell_type": "code",
   "execution_count": 1,
   "metadata": {},
   "outputs": [],
   "source": [
    "import pandas as pd\n",
    "import matplotlib.pyplot as plt\n",
    "import seaborn as sns"
   ]
  },
  {
   "cell_type": "code",
   "execution_count": 2,
   "metadata": {},
   "outputs": [],
   "source": [
    "df = pd.read_csv('lastfm-dataset-1K/userid-timestamp-artid-artname-traid-traname.tsv', error_bad_lines=False, warn_bad_lines=True, sep='\\t', names=['user', 'timestamp', 'artist-id', 'artist', 'song-id', 'song'])\n",
    "df_profile = pd.read_csv('lastfm-dataset-1K/userid-profile.tsv', sep='\\t', error_bad_lines=False, warn_bad_lines=True, skiprows=1, names=['user', 'gender', 'age', 'country', 'signup'])"
   ]
  },
  {
   "cell_type": "code",
   "execution_count": 3,
   "metadata": {},
   "outputs": [
    {
     "data": {
      "text/html": [
       "<div>\n",
       "<style scoped>\n",
       "    .dataframe tbody tr th:only-of-type {\n",
       "        vertical-align: middle;\n",
       "    }\n",
       "\n",
       "    .dataframe tbody tr th {\n",
       "        vertical-align: top;\n",
       "    }\n",
       "\n",
       "    .dataframe thead th {\n",
       "        text-align: right;\n",
       "    }\n",
       "</style>\n",
       "<table border=\"1\" class=\"dataframe\">\n",
       "  <thead>\n",
       "    <tr style=\"text-align: right;\">\n",
       "      <th></th>\n",
       "      <th>user</th>\n",
       "      <th>timestamp</th>\n",
       "      <th>artist-id</th>\n",
       "      <th>artist</th>\n",
       "      <th>song-id</th>\n",
       "      <th>song</th>\n",
       "    </tr>\n",
       "  </thead>\n",
       "  <tbody>\n",
       "    <tr>\n",
       "      <th>0</th>\n",
       "      <td>user_000001</td>\n",
       "      <td>2009-05-04T23:08:57Z</td>\n",
       "      <td>f1b1cf71-bd35-4e99-8624-24a6e15f133a</td>\n",
       "      <td>Deep Dish</td>\n",
       "      <td>NaN</td>\n",
       "      <td>Fuck Me Im Famous (Pacha Ibiza)-09-28-2007</td>\n",
       "    </tr>\n",
       "    <tr>\n",
       "      <th>1</th>\n",
       "      <td>user_000001</td>\n",
       "      <td>2009-05-04T13:54:10Z</td>\n",
       "      <td>a7f7df4a-77d8-4f12-8acd-5c60c93f4de8</td>\n",
       "      <td>坂本龍一</td>\n",
       "      <td>NaN</td>\n",
       "      <td>Composition 0919 (Live_2009_4_15)</td>\n",
       "    </tr>\n",
       "    <tr>\n",
       "      <th>2</th>\n",
       "      <td>user_000001</td>\n",
       "      <td>2009-05-04T13:52:04Z</td>\n",
       "      <td>a7f7df4a-77d8-4f12-8acd-5c60c93f4de8</td>\n",
       "      <td>坂本龍一</td>\n",
       "      <td>NaN</td>\n",
       "      <td>Mc2 (Live_2009_4_15)</td>\n",
       "    </tr>\n",
       "    <tr>\n",
       "      <th>3</th>\n",
       "      <td>user_000001</td>\n",
       "      <td>2009-05-04T13:42:52Z</td>\n",
       "      <td>a7f7df4a-77d8-4f12-8acd-5c60c93f4de8</td>\n",
       "      <td>坂本龍一</td>\n",
       "      <td>NaN</td>\n",
       "      <td>Hibari (Live_2009_4_15)</td>\n",
       "    </tr>\n",
       "    <tr>\n",
       "      <th>4</th>\n",
       "      <td>user_000001</td>\n",
       "      <td>2009-05-04T13:42:11Z</td>\n",
       "      <td>a7f7df4a-77d8-4f12-8acd-5c60c93f4de8</td>\n",
       "      <td>坂本龍一</td>\n",
       "      <td>NaN</td>\n",
       "      <td>Mc1 (Live_2009_4_15)</td>\n",
       "    </tr>\n",
       "  </tbody>\n",
       "</table>\n",
       "</div>"
      ],
      "text/plain": [
       "          user             timestamp                             artist-id  \\\n",
       "0  user_000001  2009-05-04T23:08:57Z  f1b1cf71-bd35-4e99-8624-24a6e15f133a   \n",
       "1  user_000001  2009-05-04T13:54:10Z  a7f7df4a-77d8-4f12-8acd-5c60c93f4de8   \n",
       "2  user_000001  2009-05-04T13:52:04Z  a7f7df4a-77d8-4f12-8acd-5c60c93f4de8   \n",
       "3  user_000001  2009-05-04T13:42:52Z  a7f7df4a-77d8-4f12-8acd-5c60c93f4de8   \n",
       "4  user_000001  2009-05-04T13:42:11Z  a7f7df4a-77d8-4f12-8acd-5c60c93f4de8   \n",
       "\n",
       "      artist song-id                                        song  \n",
       "0  Deep Dish     NaN  Fuck Me Im Famous (Pacha Ibiza)-09-28-2007  \n",
       "1       坂本龍一     NaN           Composition 0919 (Live_2009_4_15)  \n",
       "2       坂本龍一     NaN                        Mc2 (Live_2009_4_15)  \n",
       "3       坂本龍一     NaN                     Hibari (Live_2009_4_15)  \n",
       "4       坂本龍一     NaN                        Mc1 (Live_2009_4_15)  "
      ]
     },
     "execution_count": 3,
     "metadata": {},
     "output_type": "execute_result"
    }
   ],
   "source": [
    "df.head()"
   ]
  },
  {
   "cell_type": "code",
   "execution_count": 4,
   "metadata": {},
   "outputs": [
    {
     "data": {
      "text/html": [
       "<div>\n",
       "<style scoped>\n",
       "    .dataframe tbody tr th:only-of-type {\n",
       "        vertical-align: middle;\n",
       "    }\n",
       "\n",
       "    .dataframe tbody tr th {\n",
       "        vertical-align: top;\n",
       "    }\n",
       "\n",
       "    .dataframe thead th {\n",
       "        text-align: right;\n",
       "    }\n",
       "</style>\n",
       "<table border=\"1\" class=\"dataframe\">\n",
       "  <thead>\n",
       "    <tr style=\"text-align: right;\">\n",
       "      <th></th>\n",
       "      <th>user</th>\n",
       "      <th>gender</th>\n",
       "      <th>age</th>\n",
       "      <th>country</th>\n",
       "      <th>signup</th>\n",
       "    </tr>\n",
       "  </thead>\n",
       "  <tbody>\n",
       "    <tr>\n",
       "      <th>0</th>\n",
       "      <td>user_000001</td>\n",
       "      <td>m</td>\n",
       "      <td>NaN</td>\n",
       "      <td>Japan</td>\n",
       "      <td>Aug 13, 2006</td>\n",
       "    </tr>\n",
       "    <tr>\n",
       "      <th>1</th>\n",
       "      <td>user_000002</td>\n",
       "      <td>f</td>\n",
       "      <td>NaN</td>\n",
       "      <td>Peru</td>\n",
       "      <td>Feb 24, 2006</td>\n",
       "    </tr>\n",
       "    <tr>\n",
       "      <th>2</th>\n",
       "      <td>user_000003</td>\n",
       "      <td>m</td>\n",
       "      <td>22.0</td>\n",
       "      <td>United States</td>\n",
       "      <td>Oct 30, 2005</td>\n",
       "    </tr>\n",
       "    <tr>\n",
       "      <th>3</th>\n",
       "      <td>user_000004</td>\n",
       "      <td>f</td>\n",
       "      <td>NaN</td>\n",
       "      <td>NaN</td>\n",
       "      <td>Apr 26, 2006</td>\n",
       "    </tr>\n",
       "    <tr>\n",
       "      <th>4</th>\n",
       "      <td>user_000005</td>\n",
       "      <td>m</td>\n",
       "      <td>NaN</td>\n",
       "      <td>Bulgaria</td>\n",
       "      <td>Jun 29, 2006</td>\n",
       "    </tr>\n",
       "  </tbody>\n",
       "</table>\n",
       "</div>"
      ],
      "text/plain": [
       "          user gender   age        country        signup\n",
       "0  user_000001      m   NaN          Japan  Aug 13, 2006\n",
       "1  user_000002      f   NaN           Peru  Feb 24, 2006\n",
       "2  user_000003      m  22.0  United States  Oct 30, 2005\n",
       "3  user_000004      f   NaN            NaN  Apr 26, 2006\n",
       "4  user_000005      m   NaN       Bulgaria  Jun 29, 2006"
      ]
     },
     "execution_count": 4,
     "metadata": {},
     "output_type": "execute_result"
    }
   ],
   "source": [
    "df_profile.head()"
   ]
  },
  {
   "cell_type": "code",
   "execution_count": 5,
   "metadata": {},
   "outputs": [
    {
     "data": {
      "text/html": [
       "<div>\n",
       "<style scoped>\n",
       "    .dataframe tbody tr th:only-of-type {\n",
       "        vertical-align: middle;\n",
       "    }\n",
       "\n",
       "    .dataframe tbody tr th {\n",
       "        vertical-align: top;\n",
       "    }\n",
       "\n",
       "    .dataframe thead tr th {\n",
       "        text-align: left;\n",
       "    }\n",
       "\n",
       "    .dataframe thead tr:last-of-type th {\n",
       "        text-align: right;\n",
       "    }\n",
       "</style>\n",
       "<table border=\"1\" class=\"dataframe\">\n",
       "  <thead>\n",
       "    <tr>\n",
       "      <th></th>\n",
       "      <th colspan=\"2\" halign=\"left\">song</th>\n",
       "    </tr>\n",
       "    <tr>\n",
       "      <th></th>\n",
       "      <th>nunique</th>\n",
       "      <th>count</th>\n",
       "    </tr>\n",
       "    <tr>\n",
       "      <th>user</th>\n",
       "      <th></th>\n",
       "      <th></th>\n",
       "    </tr>\n",
       "  </thead>\n",
       "  <tbody>\n",
       "    <tr>\n",
       "      <th>user_000001</th>\n",
       "      <td>3092</td>\n",
       "      <td>16685</td>\n",
       "    </tr>\n",
       "    <tr>\n",
       "      <th>user_000002</th>\n",
       "      <td>8129</td>\n",
       "      <td>57438</td>\n",
       "    </tr>\n",
       "    <tr>\n",
       "      <th>user_000003</th>\n",
       "      <td>4565</td>\n",
       "      <td>19494</td>\n",
       "    </tr>\n",
       "    <tr>\n",
       "      <th>user_000004</th>\n",
       "      <td>5974</td>\n",
       "      <td>18411</td>\n",
       "    </tr>\n",
       "    <tr>\n",
       "      <th>user_000005</th>\n",
       "      <td>1974</td>\n",
       "      <td>20341</td>\n",
       "    </tr>\n",
       "    <tr>\n",
       "      <th>...</th>\n",
       "      <td>...</td>\n",
       "      <td>...</td>\n",
       "    </tr>\n",
       "    <tr>\n",
       "      <th>user_000996</th>\n",
       "      <td>432</td>\n",
       "      <td>4940</td>\n",
       "    </tr>\n",
       "    <tr>\n",
       "      <th>user_000997</th>\n",
       "      <td>810</td>\n",
       "      <td>9506</td>\n",
       "    </tr>\n",
       "    <tr>\n",
       "      <th>user_000998</th>\n",
       "      <td>5741</td>\n",
       "      <td>34149</td>\n",
       "    </tr>\n",
       "    <tr>\n",
       "      <th>user_000999</th>\n",
       "      <td>2547</td>\n",
       "      <td>31415</td>\n",
       "    </tr>\n",
       "    <tr>\n",
       "      <th>user_001000</th>\n",
       "      <td>5095</td>\n",
       "      <td>18373</td>\n",
       "    </tr>\n",
       "  </tbody>\n",
       "</table>\n",
       "<p>992 rows × 2 columns</p>\n",
       "</div>"
      ],
      "text/plain": [
       "               song       \n",
       "            nunique  count\n",
       "user                      \n",
       "user_000001    3092  16685\n",
       "user_000002    8129  57438\n",
       "user_000003    4565  19494\n",
       "user_000004    5974  18411\n",
       "user_000005    1974  20341\n",
       "...             ...    ...\n",
       "user_000996     432   4940\n",
       "user_000997     810   9506\n",
       "user_000998    5741  34149\n",
       "user_000999    2547  31415\n",
       "user_001000    5095  18373\n",
       "\n",
       "[992 rows x 2 columns]"
      ]
     },
     "execution_count": 5,
     "metadata": {},
     "output_type": "execute_result"
    }
   ],
   "source": [
    "# Check if the same user has the same song entered multiple times\n",
    "df[['user', 'song']].groupby('user').agg({'count', 'nunique'})"
   ]
  },
  {
   "cell_type": "code",
   "execution_count": 6,
   "metadata": {
    "scrolled": true
   },
   "outputs": [
    {
     "data": {
      "text/plain": [
       "Music                               70\n",
       "Gum                                 63\n",
       "Mario Basanov & Vidis ‘Test’        52\n",
       "Child Song                          45\n",
       "Hibari                              42\n",
       "                                    ..\n",
       "Memento Mori                         1\n",
       "This Is Noraneko                     1\n",
       "Blue Minor                           1\n",
       "What Else Is There? (Radio Edit)     1\n",
       "The Hole                             1\n",
       "Name: song, Length: 3092, dtype: int64"
      ]
     },
     "execution_count": 6,
     "metadata": {},
     "output_type": "execute_result"
    }
   ],
   "source": [
    "# Display songs of user_1\n",
    "user_1 = df.loc[df['user'] == 'user_000001', 'song']\n",
    "user_1.value_counts()"
   ]
  },
  {
   "cell_type": "code",
   "execution_count": 7,
   "metadata": {},
   "outputs": [],
   "source": [
    "df['timestamp'] = pd.to_datetime(df['timestamp'])"
   ]
  },
  {
   "cell_type": "code",
   "execution_count": 8,
   "metadata": {
    "scrolled": true
   },
   "outputs": [
    {
     "name": "stderr",
     "output_type": "stream",
     "text": [
      "/home/nabegh/Anaconda3/envs/kaggle/lib/python3.7/site-packages/ipykernel_launcher.py:1: FutureWarning: Treating datetime data as categorical rather than numeric in `.describe` is deprecated and will be removed in a future version of pandas. Specify `datetime_is_numeric=True` to silence this warning and adopt the future behavior now.\n",
      "  \"\"\"Entry point for launching an IPython kernel.\n"
     ]
    },
    {
     "data": {
      "text/html": [
       "<div>\n",
       "<style scoped>\n",
       "    .dataframe tbody tr th:only-of-type {\n",
       "        vertical-align: middle;\n",
       "    }\n",
       "\n",
       "    .dataframe tbody tr th {\n",
       "        vertical-align: top;\n",
       "    }\n",
       "\n",
       "    .dataframe thead th {\n",
       "        text-align: right;\n",
       "    }\n",
       "</style>\n",
       "<table border=\"1\" class=\"dataframe\">\n",
       "  <thead>\n",
       "    <tr style=\"text-align: right;\">\n",
       "      <th></th>\n",
       "      <th>user</th>\n",
       "      <th>timestamp</th>\n",
       "      <th>artist-id</th>\n",
       "      <th>artist</th>\n",
       "      <th>song-id</th>\n",
       "      <th>song</th>\n",
       "    </tr>\n",
       "  </thead>\n",
       "  <tbody>\n",
       "    <tr>\n",
       "      <th>count</th>\n",
       "      <td>19098862</td>\n",
       "      <td>19098862</td>\n",
       "      <td>18498009</td>\n",
       "      <td>19098862</td>\n",
       "      <td>16936136</td>\n",
       "      <td>19098850</td>\n",
       "    </tr>\n",
       "    <tr>\n",
       "      <th>unique</th>\n",
       "      <td>992</td>\n",
       "      <td>17454739</td>\n",
       "      <td>107295</td>\n",
       "      <td>173923</td>\n",
       "      <td>960402</td>\n",
       "      <td>1083480</td>\n",
       "    </tr>\n",
       "    <tr>\n",
       "      <th>top</th>\n",
       "      <td>user_000949</td>\n",
       "      <td>2009-02-26 21:29:15+00:00</td>\n",
       "      <td>a74b1b7f-71a5-4011-9441-d0b5e4122711</td>\n",
       "      <td>Radiohead</td>\n",
       "      <td>db16d0b3-b8ce-4aa8-a11a-e4d53cc7f8a6</td>\n",
       "      <td>Intro</td>\n",
       "    </tr>\n",
       "    <tr>\n",
       "      <th>freq</th>\n",
       "      <td>183103</td>\n",
       "      <td>248</td>\n",
       "      <td>115099</td>\n",
       "      <td>115099</td>\n",
       "      <td>3991</td>\n",
       "      <td>17561</td>\n",
       "    </tr>\n",
       "    <tr>\n",
       "      <th>first</th>\n",
       "      <td>NaN</td>\n",
       "      <td>2005-02-14 00:00:07+00:00</td>\n",
       "      <td>NaN</td>\n",
       "      <td>NaN</td>\n",
       "      <td>NaN</td>\n",
       "      <td>NaN</td>\n",
       "    </tr>\n",
       "    <tr>\n",
       "      <th>last</th>\n",
       "      <td>NaN</td>\n",
       "      <td>2013-09-29 18:32:04+00:00</td>\n",
       "      <td>NaN</td>\n",
       "      <td>NaN</td>\n",
       "      <td>NaN</td>\n",
       "      <td>NaN</td>\n",
       "    </tr>\n",
       "  </tbody>\n",
       "</table>\n",
       "</div>"
      ],
      "text/plain": [
       "               user                  timestamp  \\\n",
       "count      19098862                   19098862   \n",
       "unique          992                   17454739   \n",
       "top     user_000949  2009-02-26 21:29:15+00:00   \n",
       "freq         183103                        248   \n",
       "first           NaN  2005-02-14 00:00:07+00:00   \n",
       "last            NaN  2013-09-29 18:32:04+00:00   \n",
       "\n",
       "                                   artist-id     artist  \\\n",
       "count                               18498009   19098862   \n",
       "unique                                107295     173923   \n",
       "top     a74b1b7f-71a5-4011-9441-d0b5e4122711  Radiohead   \n",
       "freq                                  115099     115099   \n",
       "first                                    NaN        NaN   \n",
       "last                                     NaN        NaN   \n",
       "\n",
       "                                     song-id      song  \n",
       "count                               16936136  19098850  \n",
       "unique                                960402   1083480  \n",
       "top     db16d0b3-b8ce-4aa8-a11a-e4d53cc7f8a6     Intro  \n",
       "freq                                    3991     17561  \n",
       "first                                    NaN       NaN  \n",
       "last                                     NaN       NaN  "
      ]
     },
     "execution_count": 8,
     "metadata": {},
     "output_type": "execute_result"
    }
   ],
   "source": [
    "df.describe(include='all')"
   ]
  },
  {
   "cell_type": "markdown",
   "metadata": {},
   "source": [
    "### <font color=\"red\"> Note </font>\n",
    "\n",
    "We have some missing data especially in the id columns that we have to investigate."
   ]
  },
  {
   "cell_type": "code",
   "execution_count": 9,
   "metadata": {},
   "outputs": [
    {
     "data": {
      "image/png": "[encoded data removed]",
      "text/plain": [
       "<Figure size 864x720 with 1 Axes>"
      ]
     },
     "metadata": {
      "needs_background": "light"
     },
     "output_type": "display_data"
    }
   ],
   "source": [
    "plt.figure(figsize=(12,10))\n",
    "df['timestamp'].dt.strftime('%Y-%m').value_counts(sort=False).sort_index().plot()\n",
    "plt.show()"
   ]
  },
  {
   "cell_type": "code",
   "execution_count": 10,
   "metadata": {},
   "outputs": [
    {
     "data": {
      "text/html": [
       "<div>\n",
       "<style scoped>\n",
       "    .dataframe tbody tr th:only-of-type {\n",
       "        vertical-align: middle;\n",
       "    }\n",
       "\n",
       "    .dataframe tbody tr th {\n",
       "        vertical-align: top;\n",
       "    }\n",
       "\n",
       "    .dataframe thead th {\n",
       "        text-align: right;\n",
       "    }\n",
       "</style>\n",
       "<table border=\"1\" class=\"dataframe\">\n",
       "  <thead>\n",
       "    <tr style=\"text-align: right;\">\n",
       "      <th></th>\n",
       "      <th>song</th>\n",
       "    </tr>\n",
       "    <tr>\n",
       "      <th>song-id</th>\n",
       "      <th></th>\n",
       "    </tr>\n",
       "  </thead>\n",
       "  <tbody>\n",
       "    <tr>\n",
       "      <th>283faa4b-4138-43b0-9bbd-d5caa2caeaa2</th>\n",
       "      <td>8</td>\n",
       "    </tr>\n",
       "    <tr>\n",
       "      <th>4517e130-602c-4c63-b34f-cd6679eb0c46</th>\n",
       "      <td>9</td>\n",
       "    </tr>\n",
       "    <tr>\n",
       "      <th>b9a47440-c0c4-495d-a2d5-433c3fff63aa</th>\n",
       "      <td>8</td>\n",
       "    </tr>\n",
       "  </tbody>\n",
       "</table>\n",
       "</div>"
      ],
      "text/plain": [
       "                                      song\n",
       "song-id                                   \n",
       "283faa4b-4138-43b0-9bbd-d5caa2caeaa2     8\n",
       "4517e130-602c-4c63-b34f-cd6679eb0c46     9\n",
       "b9a47440-c0c4-495d-a2d5-433c3fff63aa     8"
      ]
     },
     "execution_count": 10,
     "metadata": {},
     "output_type": "execute_result"
    }
   ],
   "source": [
    "# Check if some songs share a common ID\n",
    "grouped = df[['song-id', 'song']].groupby(['song-id']).nunique()\n",
    "grouped[grouped['song'] > 3].head()"
   ]
  },
  {
   "cell_type": "code",
   "execution_count": 11,
   "metadata": {
    "scrolled": true
   },
   "outputs": [
    {
     "data": {
      "text/plain": [
       "2967164     Open Quotes\\nuser_000149\\t2008-12-18T22:32:07Z...\n",
       "2967204     Open Quotes\\nuser_000149\\t2008-12-18T20:25:32Z...\n",
       "3004684     Open Quotes\\nuser_000149\\t2008-06-01T23:38:32Z...\n",
       "3007671     Open Quotes\\nuser_000149\\t2008-05-14T02:57:09Z...\n",
       "3008807     Open Quotes\\nuser_000149\\t2007-02-28T10:33:20Z...\n",
       "3015157     Open Quotes\\nuser_000149\\t2006-08-05T19:38:27Z...\n",
       "3017068     Open Quotes\\nuser_000149\\t2006-06-07T10:45:49Z...\n",
       "12657141    Open Quotes\\nuser_000684\\t2009-01-31T10:38:23Z...\n",
       "Name: song, dtype: object"
      ]
     },
     "execution_count": 11,
     "metadata": {},
     "output_type": "execute_result"
    }
   ],
   "source": [
    "df.loc[df['song-id'] == '283faa4b-4138-43b0-9bbd-d5caa2caeaa2', 'song']"
   ]
  },
  {
   "cell_type": "code",
   "execution_count": 12,
   "metadata": {},
   "outputs": [
    {
     "data": {
      "text/plain": [
       "1942654     Unquiet Slumbers For The Sleepers...\\nuser_000...\n",
       "1972760     Unquiet Slumbers For The Sleepers...\\nuser_000...\n",
       "6611481     Unquiet Slumbers For The Sleepers...\\nuser_000...\n",
       "11424559    Unquiet Slumbers For The Sleepers...\\nuser_000...\n",
       "12902538    Unquiet Slumbers For The Sleepers...\\nuser_000...\n",
       "12905225    Unquiet Slumbers For The Sleepers...\\nuser_000...\n",
       "12935043    Unquiet Slumbers For The Sleepers...\\nuser_000...\n",
       "12948394    Unquiet Slumbers For The Sleepers...\\nuser_000...\n",
       "13227544    Unquiet Slumbers For The Sleepers...\\nuser_000...\n",
       "Name: song, dtype: object"
      ]
     },
     "execution_count": 12,
     "metadata": {},
     "output_type": "execute_result"
    }
   ],
   "source": [
    "df.loc[df['song-id'] == '4517e130-602c-4c63-b34f-cd6679eb0c46', 'song']"
   ]
  },
  {
   "cell_type": "code",
   "execution_count": 13,
   "metadata": {},
   "outputs": [
    {
     "data": {
      "text/plain": [
       "3714166    Kill 'Em All...\\nuser_000188\\t2008-12-02T10:58...\n",
       "3720556    Kill 'Em All...\\nuser_000188\\t2008-04-13T17:32...\n",
       "7052003    Kill 'Em All...\\nuser_000361\\t2007-10-12T02:15...\n",
       "7052004    Kill 'Em All...\\nuser_000361\\t2007-10-11T00:16...\n",
       "7055719    Kill 'Em All...\\nuser_000361\\t2007-08-09T06:37...\n",
       "7057113    Kill 'Em All...\\nuser_000361\\t2007-07-27T03:49...\n",
       "7058931    Kill 'Em All...\\nuser_000361\\t2007-06-16T10:22...\n",
       "7060157    Kill 'Em All...\\nuser_000361\\t2007-05-26T11:30...\n",
       "Name: song, dtype: object"
      ]
     },
     "execution_count": 13,
     "metadata": {},
     "output_type": "execute_result"
    }
   ],
   "source": [
    "df.loc[df['song-id'] == 'b9a47440-c0c4-495d-a2d5-433c3fff63aa', 'song']"
   ]
  },
  {
   "cell_type": "markdown",
   "metadata": {},
   "source": [
    "### <font color=\"red\"> Note </font>\n",
    "\n",
    "The song names that share the same id are just unclean example with another user data concatenated to it."
   ]
  },
  {
   "cell_type": "code",
   "execution_count": 14,
   "metadata": {},
   "outputs": [
    {
     "name": "stderr",
     "output_type": "stream",
     "text": [
      "/home/nabegh/Anaconda3/envs/kaggle/lib/python3.7/site-packages/seaborn/distributions.py:2557: FutureWarning: `distplot` is a deprecated function and will be removed in a future version. Please adapt your code to use either `displot` (a figure-level function with similar flexibility) or `histplot` (an axes-level function for histograms).\n",
      "  warnings.warn(msg, FutureWarning)\n"
     ]
    },
    {
     "data": {
      "image/png": "[encoded data removed]",
      "text/plain": [
       "<Figure size 432x288 with 1 Axes>"
      ]
     },
     "metadata": {
      "needs_background": "light"
     },
     "output_type": "display_data"
    }
   ],
   "source": [
    "g1 = sns.distplot(df['song-id'].value_counts())\n",
    "g1.set(xlabel='#song-occ', title='PDF of number of plays for each song')\n",
    "plt.show()"
   ]
  },
  {
   "cell_type": "code",
   "execution_count": 15,
   "metadata": {},
   "outputs": [
    {
     "name": "stdout",
     "output_type": "stream",
     "text": [
      "Ratio of songs that only appear once 0.27\n"
     ]
    }
   ],
   "source": [
    "print(\"Ratio of songs that only appear once {:.2f}\".format((df['song-id'].value_counts() == 1).sum() / 960402))"
   ]
  },
  {
   "cell_type": "code",
   "execution_count": 16,
   "metadata": {},
   "outputs": [
    {
     "data": {
      "image/png": "[encoded data removed]",
      "text/plain": [
       "<Figure size 864x720 with 1 Axes>"
      ]
     },
     "metadata": {
      "needs_background": "light"
     },
     "output_type": "display_data"
    }
   ],
   "source": [
    "plt.figure(figsize=(12,10))\n",
    "df_profile['country'].value_counts().head(50).plot(kind='bar')\n",
    "plt.show()"
   ]
  },
  {
   "cell_type": "code",
   "execution_count": 17,
   "metadata": {},
   "outputs": [
    {
     "data": {
      "text/plain": [
       "<AxesSubplot:>"
      ]
     },
     "execution_count": 17,
     "metadata": {},
     "output_type": "execute_result"
    },
    {
     "data": {
      "image/png": "[encoded data removed]",
      "text/plain": [
       "<Figure size 864x720 with 1 Axes>"
      ]
     },
     "metadata": {
      "needs_background": "light"
     },
     "output_type": "display_data"
    }
   ],
   "source": [
    "age = df_profile['age'][(df_profile['age'] > 0) & (df_profile['age'] < 120)]\n",
    "plt.figure(figsize=(12,10))\n",
    "pd.cut(age, bins=range(0,120,10)).value_counts(sort=False).sort_index().plot(kind='bar')"
   ]
  },
  {
   "cell_type": "code",
   "execution_count": 18,
   "metadata": {},
   "outputs": [
    {
     "data": {
      "text/plain": [
       "<AxesSubplot:>"
      ]
     },
     "execution_count": 18,
     "metadata": {},
     "output_type": "execute_result"
    },
    {
     "data": {
      "image/png": "[encoded data removed]",
      "text/plain": [
       "<Figure size 864x720 with 1 Axes>"
      ]
     },
     "metadata": {
      "needs_background": "light"
     },
     "output_type": "display_data"
    }
   ],
   "source": [
    "plt.figure(figsize=(12,10))\n",
    "df_profile['gender'].value_counts(dropna=False).plot(kind='bar')"
   ]
  },
  {
   "cell_type": "code",
   "execution_count": 9,
   "metadata": {},
   "outputs": [],
   "source": [
    "import spotipy \n",
    "from spotipy.oauth2 import SpotifyClientCredentials\n",
    "\n",
    "client_id = '***'\n",
    "client_secret = '***'\n",
    "\n",
    "client_credentials_manager = SpotifyClientCredentials(client_id=client_id,\n",
    "                                                      client_secret=client_secret)\n",
    "sp = spotipy.Spotify(client_credentials_manager=client_credentials_manager)"
   ]
  },
  {
   "cell_type": "code",
   "execution_count": 35,
   "metadata": {},
   "outputs": [],
   "source": [
    "def extract_spotify_id(x):\n",
    "    q = 'artist:{} track:{}'.format(x[3], x[5])\n",
    "    results = sp.search(q=q, limit=1, type='track')\n",
    "    track_id = results['tracks']['items']\n",
    "    if len(track_id)==1:\n",
    "        return results['tracks']['items'][0]['uri']\n",
    "    else:\n",
    "        return None\n",
    "    \n",
    "df['spotify_id'] = df.apply(extract_spotify_id, axis=1)"
   ]
  },
  {
   "cell_type": "code",
   "execution_count": 51,
   "metadata": {},
   "outputs": [],
   "source": [
    "new_features = df['spotify_id'].apply(lambda x: sp.audio_features(x) if x != None else None)"
   ]
  },
  {
   "cell_type": "code",
   "execution_count": 52,
   "metadata": {
    "tags": []
   },
   "outputs": [
    {
     "data": {
      "text/plain": [
       "0                                                    None\n",
       "1                                                    None\n",
       "2                                                    None\n",
       "3                                                    None\n",
       "4                                                    None\n",
       "                              ...                        \n",
       "4995    [{'danceability': 0.688, 'energy': 0.642, 'key...\n",
       "4996                                                 None\n",
       "4997    [{'danceability': 0.707, 'energy': 0.987, 'key...\n",
       "4998    [{'danceability': 0.692, 'energy': 0.989, 'key...\n",
       "4999    [{'danceability': 0.707, 'energy': 0.987, 'key...\n",
       "Name: spotify_id, Length: 5000, dtype: object"
      ]
     },
     "execution_count": 52,
     "metadata": {},
     "output_type": "execute_result"
    }
   ],
   "source": [
    "new_features"
   ]
  },
  {
   "cell_type": "markdown",
   "metadata": {},
   "source": [
    "By using the spotify API, we find interesting features for different songs that could help us to investigate the user behaviour. We have $\\frac{2}{5}$ of the data that could not be found in the spotify database. We are confident that by refining the search, we will be able to find a bigger chunk of hits in the spotify database."
   ]
  }
 ],
 "metadata": {
  "kernelspec": {
   "display_name": "Python 3",
   "language": "python",
   "name": "python3"
  },
  "language_info": {
   "codemirror_mode": {
    "name": "ipython",
    "version": 3
   },
   "file_extension": ".py",
   "mimetype": "text/x-python",
   "name": "python",
   "nbconvert_exporter": "python",
   "pygments_lexer": "ipython3",
   "version": "3.7.6"
  }
 },
 "nbformat": 4,
 "nbformat_minor": 5
}
