{
 "cells": [
  {
   "cell_type": "code",
   "execution_count": 1,
   "id": "legislative-photography",
   "metadata": {},
   "outputs": [],
   "source": [
    "import pandas as pd\n",
    "import matplotlib.pyplot as plt\n",
    "import seaborn as sns\n",
    "from io import StringIO\n",
    "import numpy as np\n",
    "%config Completer.use_jedi = False"
   ]
  },
  {
   "cell_type": "code",
   "execution_count": 2,
   "id": "acting-creek",
   "metadata": {},
   "outputs": [],
   "source": [
    "# Load the dataset\n",
    "df = pd.read_table('lastfm-dataset-1K/userid-timestamp-artid-artname-traid-traname.tsv', lineterminator='\\n', warn_bad_lines=True, names=['user', 'timestamp', 'artist-id', 'artist', 'song-id', 'song'])\n",
    "df_profile = pd.read_csv('lastfm-dataset-1K/userid-profile.tsv', sep='\\t', error_bad_lines=False, warn_bad_lines=True, skiprows=1, names=['user', 'gender', 'age', 'country', 'signup'])"
   ]
  },
  {
   "cell_type": "code",
   "execution_count": null,
   "id": "sorted-amount",
   "metadata": {},
   "outputs": [],
   "source": [
    "df.head()"
   ]
  },
  {
   "cell_type": "code",
   "execution_count": null,
   "id": "female-terminology",
   "metadata": {},
   "outputs": [],
   "source": [
    "# Check if the same user has the same song entered multiple times\n",
    "df[['user', 'song', 'song-id']].groupby('user').agg({'count', 'nunique'})"
   ]
  },
  {
   "cell_type": "code",
   "execution_count": null,
   "id": "fossil-cooking",
   "metadata": {},
   "outputs": [],
   "source": [
    "# Identify missing data percentage from each column\n",
    "percent_missing = df.isnull().sum() * 100 / len(df)\n",
    "missing_value_df = pd.DataFrame({'column_name': df.columns,\n",
    "                                 'percent_missing': percent_missing})"
   ]
  },
  {
   "cell_type": "code",
   "execution_count": null,
   "id": "measured-makeup",
   "metadata": {},
   "outputs": [],
   "source": [
    "missing_value_df"
   ]
  },
  {
   "cell_type": "code",
   "execution_count": 3,
   "id": "proper-silver",
   "metadata": {},
   "outputs": [],
   "source": [
    "# Check if some songs share a common ID\n",
    "grouped = df[['song-id', 'song']].groupby(['song-id']).nunique()"
   ]
  },
  {
   "cell_type": "code",
   "execution_count": null,
   "id": "innocent-output",
   "metadata": {},
   "outputs": [],
   "source": [
    "# Check how many ids has more than 2 different song names\n",
    "grouped[grouped['song'] > 2].shape[0]"
   ]
  },
  {
   "cell_type": "code",
   "execution_count": null,
   "id": "tested-chemistry",
   "metadata": {},
   "outputs": [],
   "source": [
    "# Check how many ids has more than 1 song name\n",
    "grouped[grouped['song'] > 1].shape[0]"
   ]
  },
  {
   "cell_type": "code",
   "execution_count": null,
   "id": "recorded-surfing",
   "metadata": {
    "scrolled": true
   },
   "outputs": [],
   "source": [
    "# Print examples of ids has more than 2 song names\n",
    "grouped[grouped['song'] > 2]"
   ]
  },
  {
   "cell_type": "code",
   "execution_count": null,
   "id": "hired-clothing",
   "metadata": {
    "scrolled": true
   },
   "outputs": [],
   "source": [
    "# Print examples of ids has 2 song names\n",
    "grouped[grouped['song'] > 1]"
   ]
  },
  {
   "cell_type": "code",
   "execution_count": null,
   "id": "aware-documentation",
   "metadata": {},
   "outputs": [],
   "source": [
    "# Check an example of groups with more than 2 song names\n",
    "df.loc[df['song-id'] == '4517e130-602c-4c63-b34f-cd6679eb0c46', 'song'].map(lambda x: x)"
   ]
  },
  {
   "cell_type": "code",
   "execution_count": null,
   "id": "burning-model",
   "metadata": {},
   "outputs": [],
   "source": [
    "# Check an example of groups with 2 song names\n",
    "df.loc[df['song-id'] == 'f9e33eac-6977-4808-9edc-74f71a8de78a', 'song']"
   ]
  },
  {
   "cell_type": "markdown",
   "id": "thorough-petite",
   "metadata": {},
   "source": [
    "### Problems:\n",
    "\n",
    "1. Inconsistency in the song names\n",
    "1. Rows that have been appended to other rows"
   ]
  },
  {
   "cell_type": "code",
   "execution_count": 6,
   "id": "aerial-damages",
   "metadata": {},
   "outputs": [],
   "source": [
    "# Get rows with song names containing multiple rows\n",
    "duplicated = df.loc[df['song-id'].isin(grouped[grouped['song'] > 1].index)]\n",
    "duplicated = duplicated.drop(columns=['user', 'timestamp', 'artist', 'artist-id'])\n",
    "containis_extra_rows = duplicated.apply(lambda x: pd.Series({'id': x[0], 'song': x[1], 'flag':'\\n' in x[1]}), axis=1)\n",
    "containis_extra_rows = containis_extra_rows.loc[containis_extra_rows['flag']]"
   ]
  },
  {
   "cell_type": "code",
   "execution_count": 7,
   "id": "smoking-vanilla",
   "metadata": {},
   "outputs": [],
   "source": [
    "# Iterate over those 5k rows to get the extra rows and correct the song name\n",
    "for index, row in containis_extra_rows.iterrows():\n",
    "    row_break = row['song'].split('\\n', 1)\n",
    "    song_name = row_break[0]\n",
    "    df.loc[df['song-id'] == row['id'], 'song'] = song_name\n",
    "    \n",
    "    tsv = StringIO(row_break[1])\n",
    "    df_extra = pd.read_csv(tsv, sep=\"\\t\", warn_bad_lines=True, names=['user', 'timestamp', 'artist-id', 'artist', 'song-id', 'song'])\n",
    "    df = df.append(df_extra, ignore_index=True)"
   ]
  },
  {
   "cell_type": "code",
   "execution_count": 8,
   "id": "foreign-winning",
   "metadata": {},
   "outputs": [],
   "source": [
    "# Now we save the full data as a check point\n",
    "df.to_parquet('lastfm-dataset-1K/df_full.parquet.gzip', compression='gzip')"
   ]
  },
  {
   "cell_type": "code",
   "execution_count": 3,
   "id": "greatest-invitation",
   "metadata": {},
   "outputs": [],
   "source": [
    "df = pd.read_parquet('lastfm-dataset-1K/df_full.parquet.gzip')"
   ]
  },
  {
   "cell_type": "code",
   "execution_count": 4,
   "id": "reasonable-gossip",
   "metadata": {},
   "outputs": [
    {
     "data": {
      "text/html": [
       "<div>\n",
       "<style scoped>\n",
       "    .dataframe tbody tr th:only-of-type {\n",
       "        vertical-align: middle;\n",
       "    }\n",
       "\n",
       "    .dataframe tbody tr th {\n",
       "        vertical-align: top;\n",
       "    }\n",
       "\n",
       "    .dataframe thead th {\n",
       "        text-align: right;\n",
       "    }\n",
       "</style>\n",
       "<table border=\"1\" class=\"dataframe\">\n",
       "  <thead>\n",
       "    <tr style=\"text-align: right;\">\n",
       "      <th></th>\n",
       "      <th>column_name</th>\n",
       "      <th>percent_missing</th>\n",
       "    </tr>\n",
       "  </thead>\n",
       "  <tbody>\n",
       "    <tr>\n",
       "      <th>user</th>\n",
       "      <td>user</td>\n",
       "      <td>0.000000</td>\n",
       "    </tr>\n",
       "    <tr>\n",
       "      <th>timestamp</th>\n",
       "      <td>timestamp</td>\n",
       "      <td>0.000000</td>\n",
       "    </tr>\n",
       "    <tr>\n",
       "      <th>artist-id</th>\n",
       "      <td>artist-id</td>\n",
       "      <td>3.145175</td>\n",
       "    </tr>\n",
       "    <tr>\n",
       "      <th>artist</th>\n",
       "      <td>artist</td>\n",
       "      <td>0.000000</td>\n",
       "    </tr>\n",
       "    <tr>\n",
       "      <th>song-id</th>\n",
       "      <td>song-id</td>\n",
       "      <td>11.324443</td>\n",
       "    </tr>\n",
       "    <tr>\n",
       "      <th>song</th>\n",
       "      <td>song</td>\n",
       "      <td>0.000073</td>\n",
       "    </tr>\n",
       "  </tbody>\n",
       "</table>\n",
       "</div>"
      ],
      "text/plain": [
       "          column_name  percent_missing\n",
       "user             user         0.000000\n",
       "timestamp   timestamp         0.000000\n",
       "artist-id   artist-id         3.145175\n",
       "artist         artist         0.000000\n",
       "song-id       song-id        11.324443\n",
       "song             song         0.000073"
      ]
     },
     "execution_count": 4,
     "metadata": {},
     "output_type": "execute_result"
    }
   ],
   "source": [
    "# Adding the new rows we recount the missing values\n",
    "percent_missing = df.isnull().sum() * 100 / len(df)\n",
    "missing_value_df = pd.DataFrame({'column_name': df.columns,\n",
    "                                 'percent_missing': percent_missing})\n",
    "missing_value_df"
   ]
  },
  {
   "cell_type": "code",
   "execution_count": 6,
   "id": "union-season",
   "metadata": {},
   "outputs": [],
   "source": [
    "df = df.drop_duplicates()"
   ]
  },
  {
   "cell_type": "markdown",
   "id": "green-cloud",
   "metadata": {},
   "source": [
    "### Fix names"
   ]
  },
  {
   "cell_type": "code",
   "execution_count": null,
   "id": "marked-return",
   "metadata": {},
   "outputs": [],
   "source": [
    "df_names = df.groupby('song-id').head(1).dropna()\n",
    "df = df.drop(columns='song').merge(df_names, on='song-id', how='left')"
   ]
  },
  {
   "cell_type": "markdown",
   "id": "experimental-canal",
   "metadata": {},
   "source": [
    "### Create matrix"
   ]
  },
  {
   "cell_type": "code",
   "execution_count": null,
   "id": "instructional-visibility",
   "metadata": {},
   "outputs": [],
   "source": [
    "df_play_count = df.groupby(['user', 'song']).count()"
   ]
  },
  {
   "cell_type": "code",
   "execution_count": null,
   "id": "remarkable-facility",
   "metadata": {},
   "outputs": [],
   "source": []
  },
  {
   "cell_type": "markdown",
   "id": "valid-battery",
   "metadata": {},
   "source": [
    "### Filling NA values:\n",
    "We will check if the songs corresponding to missing ids exist somewhere else"
   ]
  },
  {
   "cell_type": "code",
   "execution_count": null,
   "id": "august-librarian",
   "metadata": {},
   "outputs": [],
   "source": [
    "df.head()"
   ]
  },
  {
   "cell_type": "code",
   "execution_count": null,
   "id": "royal-setting",
   "metadata": {},
   "outputs": [],
   "source": [
    "df_songs_names = df[['artist', 'song', 'song-id']].groupby(['artist', 'song-id']).head(1)\n",
    "df_songs_names = df_songs_names.dropna().set_index(['artist', 'song'])"
   ]
  },
  {
   "cell_type": "code",
   "execution_count": null,
   "id": "parallel-safety",
   "metadata": {},
   "outputs": [],
   "source": [
    "df_songs_names.head()"
   ]
  },
  {
   "cell_type": "code",
   "execution_count": null,
   "id": "distributed-minister",
   "metadata": {},
   "outputs": [],
   "source": [
    "def map_to_song_id(row):\n",
    "    return df_songs_names.loc[row[3], row[5]] if (row[3], row[5]) in df_songs_names.index else np.nan"
   ]
  },
  {
   "cell_type": "code",
   "execution_count": null,
   "id": "extensive-saturn",
   "metadata": {
    "scrolled": true
   },
   "outputs": [],
   "source": [
    "df.loc[df['song-id'].isnull(), 'song-id'] = df.loc[df['song-id'].isnull()].apply(map_to_song_id, axis=1)"
   ]
  },
  {
   "cell_type": "code",
   "execution_count": null,
   "id": "rubber-baltimore",
   "metadata": {},
   "outputs": [],
   "source": [
    "# Adding the new rows we recount the missing values\n",
    "percent_missing = df.isnull().sum() * 100 / len(df)\n",
    "missing_value_df = pd.DataFrame({'column_name': df.columns,\n",
    "                                 'percent_missing': percent_missing})\n",
    "missing_value_df"
   ]
  },
  {
   "cell_type": "code",
   "execution_count": null,
   "id": "public-communication",
   "metadata": {},
   "outputs": [],
   "source": [
    "songs_missing_id = df.loc[df['song-id'].isnull(), 'song']"
   ]
  },
  {
   "cell_type": "code",
   "execution_count": null,
   "id": "saving-wound",
   "metadata": {},
   "outputs": [],
   "source": [
    "songs_missing_id_set = set(songs_missing_id)\n",
    "songs_map = set(df_songs_names.index)"
   ]
  },
  {
   "cell_type": "code",
   "execution_count": null,
   "id": "radio-voltage",
   "metadata": {},
   "outputs": [],
   "source": [
    "songs_missing_id_set & songs_map"
   ]
  },
  {
   "cell_type": "code",
   "execution_count": null,
   "id": "military-worker",
   "metadata": {},
   "outputs": [],
   "source": [
    "df[df['song'] == 'Hibari (Live_2009_4_15)']"
   ]
  },
  {
   "cell_type": "code",
   "execution_count": null,
   "id": "boxed-cradle",
   "metadata": {},
   "outputs": [],
   "source": [
    "df_songs_names.loc['Who Told You']"
   ]
  },
  {
   "cell_type": "code",
   "execution_count": null,
   "id": "fabulous-blond",
   "metadata": {},
   "outputs": [],
   "source": [
    "grouped_songs = df[['song-id', 'song']].groupby(['song']).nunique()"
   ]
  },
  {
   "cell_type": "code",
   "execution_count": null,
   "id": "european-wrestling",
   "metadata": {},
   "outputs": [],
   "source": [
    "# Check how many ids has more than 2 different song names\n",
    "grouped_songs[grouped_songs['song-id'] > 3].shape[0]"
   ]
  },
  {
   "cell_type": "code",
   "execution_count": null,
   "id": "peaceful-arlington",
   "metadata": {
    "scrolled": true
   },
   "outputs": [],
   "source": [
    "# look at some examples of same song names with different ids\n",
    "grouped_songs[grouped_songs['song-id'] > 3]"
   ]
  },
  {
   "cell_type": "code",
   "execution_count": null,
   "id": "informal-coral",
   "metadata": {},
   "outputs": [],
   "source": [
    "df.loc[df['song'] == 'Alvorada']"
   ]
  },
  {
   "cell_type": "code",
   "execution_count": null,
   "id": "accomplished-following",
   "metadata": {},
   "outputs": [],
   "source": [
    "df.loc[df['song-id'] == 'bc07ec39-8f80-4d33-8cbe-fc575d459fbf', 'song']"
   ]
  },
  {
   "cell_type": "code",
   "execution_count": null,
   "id": "hawaiian-leather",
   "metadata": {},
   "outputs": [],
   "source": [
    "df.loc[df['song-id'].isnull()]"
   ]
  },
  {
   "cell_type": "code",
   "execution_count": null,
   "id": "nonprofit-portuguese",
   "metadata": {},
   "outputs": [],
   "source": [
    "k = df.loc[df['song-id'].isnull()].loc[19098818].to_numpy().tolist()"
   ]
  },
  {
   "cell_type": "code",
   "execution_count": null,
   "id": "ancient-weekly",
   "metadata": {},
   "outputs": [],
   "source": [
    "k[3], k[5]"
   ]
  },
  {
   "cell_type": "code",
   "execution_count": null,
   "id": "located-rendering",
   "metadata": {},
   "outputs": [],
   "source": [
    "df_songs_names[k[3], k[5]]"
   ]
  },
  {
   "cell_type": "code",
   "execution_count": null,
   "id": "patent-lucas",
   "metadata": {},
   "outputs": [],
   "source": [
    "df_songs_names.index"
   ]
  },
  {
   "cell_type": "code",
   "execution_count": null,
   "id": "short-implement",
   "metadata": {},
   "outputs": [],
   "source": []
  }
 ],
 "metadata": {
  "kernelspec": {
   "display_name": "Python 3",
   "language": "python",
   "name": "python3"
  },
  "language_info": {
   "codemirror_mode": {
    "name": "ipython",
    "version": 3
   },
   "file_extension": ".py",
   "mimetype": "text/x-python",
   "name": "python",
   "nbconvert_exporter": "python",
   "pygments_lexer": "ipython3",
   "version": "3.7.10"
  }
 },
 "nbformat": 4,
 "nbformat_minor": 5
}
