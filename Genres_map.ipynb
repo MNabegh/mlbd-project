{
 "cells": [
  {
   "cell_type": "code",
   "execution_count": 1,
   "id": "f2f7a0f0-1ce7-4eac-9567-20ed64b768a6",
   "metadata": {
    "executionInfo": {
     "elapsed": 21741,
     "status": "ok",
     "timestamp": 1623251627506,
     "user": {
      "displayName": "Max Stieber",
      "photoUrl": "",
      "userId": "06134571999466142767"
     },
     "user_tz": -120
    },
    "id": "f2f7a0f0-1ce7-4eac-9567-20ed64b768a6"
   },
   "outputs": [
    {
     "name": "stdout",
     "output_type": "stream",
     "text": [
      "INFO:tensorflow:Enabling eager execution\n",
      "INFO:tensorflow:Enabling v2 tensorshape\n",
      "INFO:tensorflow:Enabling resource variables\n",
      "INFO:tensorflow:Enabling tensor equality\n",
      "INFO:tensorflow:Enabling control flow v2\n"
     ]
    }
   ],
   "source": [
    "import pandas as pd\n",
    "import matplotlib.pyplot as plt\n",
    "import seaborn as sns\n",
    "from tqdm import tqdm\n",
    "import re\n",
    "from collections import Counter\n",
    "import seaborn as sns\n",
    "import plotly.express as px\n",
    "import typing\n",
    "from sklearn.preprocessing import MinMaxScaler, StandardScaler\n",
    "import umap\n",
    "import numpy as np\n",
    "from collections import defaultdict\n",
    "from itertools import permutations\n",
    "import networkx as nx\n",
    "from networkx.algorithms.community.centrality import girvan_newman\n",
    "import itertools\n",
    "from networkx import edge_betweenness_centrality as betweenness\n",
    "from networkx.algorithms.centrality import betweenness_centrality\n",
    "from networkx.algorithms.link_analysis.pagerank_alg import pagerank\n",
    "from networkx.algorithms.shortest_paths.generic import shortest_path_length, has_path, shortest_path\n",
    "from networkx.algorithms.shortest_paths.weighted import all_pairs_dijkstra_path_length\n",
    "from networkx.generators.ego import ego_graph\n",
    "from sklearn.metrics import pairwise_distances"
   ]
  },
  {
   "cell_type": "code",
   "execution_count": 4,
   "id": "WT4rjJnyrLgX",
   "metadata": {
    "executionInfo": {
     "elapsed": 9552,
     "status": "ok",
     "timestamp": 1623251637050,
     "user": {
      "displayName": "Max Stieber",
      "photoUrl": "",
      "userId": "06134571999466142767"
     },
     "user_tz": -120
    },
    "id": "WT4rjJnyrLgX"
   },
   "outputs": [],
   "source": [
    "df_features = pd.read_csv('/content/drive/MyDrive/MLBD/data/spotify_features_cleaned.csv', index_col='Unnamed: 0')\n",
    "df_features = df_features.dropna().reset_index(drop=True)\n",
    "df_features.loc[:,'genres'] = df_features['genres'].apply(lambda x: x.strip(\"][\").replace(\"'\",\"\").split(\", \"))"
   ]
  },
  {
   "cell_type": "code",
   "execution_count": 5,
   "id": "55cc0d77-4485-4faf-9466-e15ec62e89fe",
   "metadata": {
    "colab": {
     "base_uri": "https://localhost:8080/",
     "height": 908
    },
    "executionInfo": {
     "elapsed": 19,
     "status": "ok",
     "timestamp": 1623251637051,
     "user": {
      "displayName": "Max Stieber",
      "photoUrl": "",
      "userId": "06134571999466142767"
     },
     "user_tz": -120
    },
    "id": "55cc0d77-4485-4faf-9466-e15ec62e89fe",
    "outputId": "34bf3bb4-53e2-4690-a435-96e610d20421"
   },
   "outputs": [
    {
     "data": {
      "text/html": [
       "<div>\n",
       "<style scoped>\n",
       "    .dataframe tbody tr th:only-of-type {\n",
       "        vertical-align: middle;\n",
       "    }\n",
       "\n",
       "    .dataframe tbody tr th {\n",
       "        vertical-align: top;\n",
       "    }\n",
       "\n",
       "    .dataframe thead th {\n",
       "        text-align: right;\n",
       "    }\n",
       "</style>\n",
       "<table border=\"1\" class=\"dataframe\">\n",
       "  <thead>\n",
       "    <tr style=\"text-align: right;\">\n",
       "      <th></th>\n",
       "      <th>artist</th>\n",
       "      <th>track</th>\n",
       "      <th>danceability</th>\n",
       "      <th>energy</th>\n",
       "      <th>key</th>\n",
       "      <th>loudness</th>\n",
       "      <th>mode</th>\n",
       "      <th>speechiness</th>\n",
       "      <th>acousticness</th>\n",
       "      <th>instrumentalness</th>\n",
       "      <th>liveness</th>\n",
       "      <th>valence</th>\n",
       "      <th>tempo</th>\n",
       "      <th>duration_ms</th>\n",
       "      <th>genres</th>\n",
       "      <th>popularity</th>\n",
       "    </tr>\n",
       "  </thead>\n",
       "  <tbody>\n",
       "    <tr>\n",
       "      <th>0</th>\n",
       "      <td>坂本龍一</td>\n",
       "      <td>Composition 0919 (Live_2009_4_15)</td>\n",
       "      <td>0.806</td>\n",
       "      <td>0.413</td>\n",
       "      <td>5.0</td>\n",
       "      <td>-12.883</td>\n",
       "      <td>1.0</td>\n",
       "      <td>0.1560</td>\n",
       "      <td>0.987</td>\n",
       "      <td>0.794000</td>\n",
       "      <td>0.1130</td>\n",
       "      <td>0.5290</td>\n",
       "      <td>105.089</td>\n",
       "      <td>330253.0</td>\n",
       "      <td>[japanese soundtrack, japanese classical, anim...</td>\n",
       "      <td>62</td>\n",
       "    </tr>\n",
       "    <tr>\n",
       "      <th>1</th>\n",
       "      <td>坂本龍一</td>\n",
       "      <td>Hibari (Live_2009_4_15)</td>\n",
       "      <td>0.604</td>\n",
       "      <td>0.283</td>\n",
       "      <td>9.0</td>\n",
       "      <td>-19.811</td>\n",
       "      <td>0.0</td>\n",
       "      <td>0.0583</td>\n",
       "      <td>0.996</td>\n",
       "      <td>0.916000</td>\n",
       "      <td>0.1140</td>\n",
       "      <td>0.2700</td>\n",
       "      <td>137.802</td>\n",
       "      <td>540133.0</td>\n",
       "      <td>[japanese soundtrack, japanese classical, anim...</td>\n",
       "      <td>62</td>\n",
       "    </tr>\n",
       "    <tr>\n",
       "      <th>2</th>\n",
       "      <td>坂本龍一</td>\n",
       "      <td>To Stanford (Live_2009_4_15)</td>\n",
       "      <td>0.453</td>\n",
       "      <td>0.163</td>\n",
       "      <td>5.0</td>\n",
       "      <td>-20.922</td>\n",
       "      <td>1.0</td>\n",
       "      <td>0.0519</td>\n",
       "      <td>0.990</td>\n",
       "      <td>0.939000</td>\n",
       "      <td>0.1010</td>\n",
       "      <td>0.0703</td>\n",
       "      <td>73.926</td>\n",
       "      <td>216853.0</td>\n",
       "      <td>[japanese indie folk, japanese soundtrack, jap...</td>\n",
       "      <td>39</td>\n",
       "    </tr>\n",
       "    <tr>\n",
       "      <th>3</th>\n",
       "      <td>坂本龍一</td>\n",
       "      <td>Improvisation (Live_2009_4_15)</td>\n",
       "      <td>0.217</td>\n",
       "      <td>0.012</td>\n",
       "      <td>5.0</td>\n",
       "      <td>-36.464</td>\n",
       "      <td>1.0</td>\n",
       "      <td>0.0376</td>\n",
       "      <td>0.991</td>\n",
       "      <td>0.859000</td>\n",
       "      <td>0.0866</td>\n",
       "      <td>0.0376</td>\n",
       "      <td>80.714</td>\n",
       "      <td>384707.0</td>\n",
       "      <td>[japanese soundtrack, japanese classical, anim...</td>\n",
       "      <td>62</td>\n",
       "    </tr>\n",
       "    <tr>\n",
       "      <th>4</th>\n",
       "      <td>坂本龍一</td>\n",
       "      <td>Glacier (Live_2009_4_15)</td>\n",
       "      <td>0.518</td>\n",
       "      <td>0.213</td>\n",
       "      <td>9.0</td>\n",
       "      <td>-28.790</td>\n",
       "      <td>0.0</td>\n",
       "      <td>0.2090</td>\n",
       "      <td>0.869</td>\n",
       "      <td>0.898000</td>\n",
       "      <td>0.1030</td>\n",
       "      <td>0.0920</td>\n",
       "      <td>104.191</td>\n",
       "      <td>580707.0</td>\n",
       "      <td>[japanese soundtrack, japanese classical, anim...</td>\n",
       "      <td>62</td>\n",
       "    </tr>\n",
       "    <tr>\n",
       "      <th>...</th>\n",
       "      <td>...</td>\n",
       "      <td>...</td>\n",
       "      <td>...</td>\n",
       "      <td>...</td>\n",
       "      <td>...</td>\n",
       "      <td>...</td>\n",
       "      <td>...</td>\n",
       "      <td>...</td>\n",
       "      <td>...</td>\n",
       "      <td>...</td>\n",
       "      <td>...</td>\n",
       "      <td>...</td>\n",
       "      <td>...</td>\n",
       "      <td>...</td>\n",
       "      <td>...</td>\n",
       "      <td>...</td>\n",
       "    </tr>\n",
       "    <tr>\n",
       "      <th>967212</th>\n",
       "      <td>Burlap To Cashmere</td>\n",
       "      <td>Mansions</td>\n",
       "      <td>0.583</td>\n",
       "      <td>0.640</td>\n",
       "      <td>0.0</td>\n",
       "      <td>-7.256</td>\n",
       "      <td>1.0</td>\n",
       "      <td>0.0375</td>\n",
       "      <td>0.169</td>\n",
       "      <td>0.000002</td>\n",
       "      <td>0.1540</td>\n",
       "      <td>0.5230</td>\n",
       "      <td>92.976</td>\n",
       "      <td>238293.0</td>\n",
       "      <td>[christian music, acoustic rock, deep christia...</td>\n",
       "      <td>30</td>\n",
       "    </tr>\n",
       "    <tr>\n",
       "      <th>967213</th>\n",
       "      <td>Vashti Bunyan</td>\n",
       "      <td>Find My Heart Again</td>\n",
       "      <td>0.425</td>\n",
       "      <td>0.153</td>\n",
       "      <td>7.0</td>\n",
       "      <td>-18.232</td>\n",
       "      <td>1.0</td>\n",
       "      <td>0.0405</td>\n",
       "      <td>0.987</td>\n",
       "      <td>0.000214</td>\n",
       "      <td>0.1130</td>\n",
       "      <td>0.5900</td>\n",
       "      <td>172.509</td>\n",
       "      <td>121480.0</td>\n",
       "      <td>[british folk, new weird america, freak folk, ...</td>\n",
       "      <td>55</td>\n",
       "    </tr>\n",
       "    <tr>\n",
       "      <th>967214</th>\n",
       "      <td>Vetiver</td>\n",
       "      <td>No One Word (Us29D0600003)</td>\n",
       "      <td>0.511</td>\n",
       "      <td>0.261</td>\n",
       "      <td>4.0</td>\n",
       "      <td>-15.861</td>\n",
       "      <td>1.0</td>\n",
       "      <td>0.0326</td>\n",
       "      <td>0.623</td>\n",
       "      <td>0.842000</td>\n",
       "      <td>0.1060</td>\n",
       "      <td>0.4300</td>\n",
       "      <td>126.318</td>\n",
       "      <td>373187.0</td>\n",
       "      <td>[stomp and holler, indie folk, freak folk]</td>\n",
       "      <td>47</td>\n",
       "    </tr>\n",
       "    <tr>\n",
       "      <th>967215</th>\n",
       "      <td>Req</td>\n",
       "      <td>Dharmas</td>\n",
       "      <td>0.713</td>\n",
       "      <td>0.329</td>\n",
       "      <td>1.0</td>\n",
       "      <td>-15.611</td>\n",
       "      <td>1.0</td>\n",
       "      <td>0.5100</td>\n",
       "      <td>0.125</td>\n",
       "      <td>0.000002</td>\n",
       "      <td>0.0399</td>\n",
       "      <td>0.4980</td>\n",
       "      <td>106.309</td>\n",
       "      <td>308267.0</td>\n",
       "      <td>[deep idm, trip hop]</td>\n",
       "      <td>12</td>\n",
       "    </tr>\n",
       "    <tr>\n",
       "      <th>967216</th>\n",
       "      <td>Dj Vadim</td>\n",
       "      <td>Friction</td>\n",
       "      <td>0.847</td>\n",
       "      <td>0.745</td>\n",
       "      <td>7.0</td>\n",
       "      <td>-7.422</td>\n",
       "      <td>1.0</td>\n",
       "      <td>0.3920</td>\n",
       "      <td>0.133</td>\n",
       "      <td>0.000001</td>\n",
       "      <td>0.1930</td>\n",
       "      <td>0.7140</td>\n",
       "      <td>89.588</td>\n",
       "      <td>255747.0</td>\n",
       "      <td>[turntablism, downtempo, trip hop, scratch, el...</td>\n",
       "      <td>47</td>\n",
       "    </tr>\n",
       "  </tbody>\n",
       "</table>\n",
       "<p>967217 rows × 16 columns</p>\n",
       "</div>"
      ],
      "text/plain": [
       "                    artist  ... popularity\n",
       "0                     坂本龍一  ...         62\n",
       "1                     坂本龍一  ...         62\n",
       "2                     坂本龍一  ...         39\n",
       "3                     坂本龍一  ...         62\n",
       "4                     坂本龍一  ...         62\n",
       "...                    ...  ...        ...\n",
       "967212  Burlap To Cashmere  ...         30\n",
       "967213       Vashti Bunyan  ...         55\n",
       "967214             Vetiver  ...         47\n",
       "967215                 Req  ...         12\n",
       "967216            Dj Vadim  ...         47\n",
       "\n",
       "[967217 rows x 16 columns]"
      ]
     },
     "execution_count": 5,
     "metadata": {
      "tags": []
     },
     "output_type": "execute_result"
    }
   ],
   "source": [
    "df_features"
   ]
  },
  {
   "cell_type": "markdown",
   "id": "3b36d606-0541-4644-8a52-6ccff45934ad",
   "metadata": {
    "id": "3b36d606-0541-4644-8a52-6ccff45934ad"
   },
   "source": [
    "## Create graph of the genres\n",
    "We create a graph of the different genres assigned to the tracks. We create it by creating and edge between every genre that appears in the same song. We experienced that a log normalized weighted graph works best. Therefore, we defined the weight between every edge in the following way: $W(A,B)\\ =\\ (\\log(\\sum_{(A,B)\\in S_i, \\forall i} 1))^{-1}$ where $A$ and $B$ are two different genres and $S_i$ is the set of genres of a song $i$."
   ]
  },
  {
   "cell_type": "code",
   "execution_count": 6,
   "id": "4d915644-7538-450f-9b7f-f4f2c9c8f2e6",
   "metadata": {
    "executionInfo": {
     "elapsed": 107201,
     "status": "ok",
     "timestamp": 1623251744242,
     "user": {
      "displayName": "Max Stieber",
      "photoUrl": "",
      "userId": "06134571999466142767"
     },
     "user_tz": -120
    },
    "id": "4d915644-7538-450f-9b7f-f4f2c9c8f2e6"
   },
   "outputs": [],
   "source": [
    "graph_dict_basis = defaultdict(int)\n",
    "genres_appear = defaultdict(int)\n",
    "single_genres_list = [] \n",
    "for key, row in df_features.iterrows():\n",
    "    genres = row['genres']\n",
    "    if (len(genres) == 1) & (genres[0] != ''):\n",
    "      single_genres_list.append(genres[0])\n",
    "    for pair in permutations(genres, 2):\n",
    "        one, two = sorted(pair)\n",
    "        genres_appear[one] += 1\n",
    "        genres_appear[two] += 1\n",
    "        graph_dict_basis[one, two] += 1"
   ]
  },
  {
   "cell_type": "code",
   "execution_count": 7,
   "id": "n3ntGde11Vap",
   "metadata": {
    "executionInfo": {
     "elapsed": 32,
     "status": "ok",
     "timestamp": 1623251744244,
     "user": {
      "displayName": "Max Stieber",
      "photoUrl": "",
      "userId": "06134571999466142767"
     },
     "user_tz": -120
    },
    "id": "n3ntGde11Vap"
   },
   "outputs": [],
   "source": [
    "graph_list = []\n",
    "for (a,b) in graph_dict_basis.keys():\n",
    "  graph_list.append(a)\n",
    "  graph_list.append(b)\n",
    "graph_set = set(graph_list)\n",
    "\n",
    "single_genres_set = set(single_genres_list)\n",
    "\n",
    "not_in_graph_set = single_genres_set.difference(graph_set)"
   ]
  },
  {
   "cell_type": "code",
   "execution_count": 8,
   "id": "TrAjpPgq7nGx",
   "metadata": {
    "colab": {
     "base_uri": "https://localhost:8080/"
    },
    "executionInfo": {
     "elapsed": 27,
     "status": "ok",
     "timestamp": 1623251744245,
     "user": {
      "displayName": "Max Stieber",
      "photoUrl": "",
      "userId": "06134571999466142767"
     },
     "user_tz": -120
    },
    "id": "TrAjpPgq7nGx",
    "outputId": "703665c7-c430-46cb-84cf-319e71c29521"
   },
   "outputs": [
    {
     "data": {
      "text/plain": [
       "4534"
      ]
     },
     "execution_count": 8,
     "metadata": {
      "tags": []
     },
     "output_type": "execute_result"
    }
   ],
   "source": [
    "len(graph_set)"
   ]
  },
  {
   "cell_type": "code",
   "execution_count": 9,
   "id": "aFhDoCyKtp-f",
   "metadata": {
    "colab": {
     "base_uri": "https://localhost:8080/"
    },
    "executionInfo": {
     "elapsed": 18,
     "status": "ok",
     "timestamp": 1623251745233,
     "user": {
      "displayName": "Max Stieber",
      "photoUrl": "",
      "userId": "06134571999466142767"
     },
     "user_tz": -120
    },
    "id": "aFhDoCyKtp-f",
    "outputId": "0bcd4357-5c54-44cf-cf80-f16643233205"
   },
   "outputs": [
    {
     "name": "stdout",
     "output_type": "stream",
     "text": [
      "There are 224 genres of songs that are not in the graph and can therefore not be mapped. We will loose those songs.\n"
     ]
    }
   ],
   "source": [
    "print(f\"There are {len(not_in_graph_set)} genres of songs that are not in the graph and can therefore not be mapped. We will loose those songs.\")"
   ]
  },
  {
   "cell_type": "code",
   "execution_count": 10,
   "id": "4dcbc578-b9a2-44c0-aec0-f2a6499159ee",
   "metadata": {
    "executionInfo": {
     "elapsed": 15,
     "status": "ok",
     "timestamp": 1623251745235,
     "user": {
      "displayName": "Max Stieber",
      "photoUrl": "",
      "userId": "06134571999466142767"
     },
     "user_tz": -120
    },
    "id": "4dcbc578-b9a2-44c0-aec0-f2a6499159ee"
   },
   "outputs": [],
   "source": [
    "log_normalized_graph_dict = {}\n",
    "for (one, two), item in graph_dict_basis.items():\n",
    "    log_normalized_graph_dict[one, two] = 1/np.log(item)"
   ]
  },
  {
   "cell_type": "code",
   "execution_count": 11,
   "id": "d1ca31f8-bfd2-480a-bf35-70fe78a5336c",
   "metadata": {
    "executionInfo": {
     "elapsed": 16,
     "status": "ok",
     "timestamp": 1623251745237,
     "user": {
      "displayName": "Max Stieber",
      "photoUrl": "",
      "userId": "06134571999466142767"
     },
     "user_tz": -120
    },
    "id": "d1ca31f8-bfd2-480a-bf35-70fe78a5336c"
   },
   "outputs": [],
   "source": [
    "def prep_gephi_graph(graph_dict, fileName):\n",
    "    \"For some graph exploration with Gephi, we outputed the graph in a certain csv format\"\n",
    "    genres_graph = pd.DataFrame.from_dict(graph_dict, orient='index').reset_index()\n",
    "    genres_graph[['Source', 'Target']] = genres_graph['index'].tolist()\n",
    "    genres_graph = genres_graph.drop(columns='index').rename(columns={0:'weight'})\n",
    "    genres_graph.to_csv(f'umap_results/{fileName}', index=False)\n",
    "    \n",
    "def prep_nx_graph(graph_dict):\n",
    "    \"\"\"Prepare the Graph with the networkx library from the dictionary we created\"\"\"\n",
    "    genres_graph = pd.DataFrame.from_dict(graph_dict, orient='index').reset_index()\n",
    "    genres_graph[['source', 'target']] = genres_graph['index'].tolist()\n",
    "    genres_graph = genres_graph.drop(columns='index').rename(columns={0:'weight'})\n",
    "    G = nx.from_pandas_edgelist(genres_graph, 'source', 'target', 'weight')\n",
    "    return G"
   ]
  },
  {
   "cell_type": "code",
   "execution_count": 12,
   "id": "e25c6ac7-9615-4a4f-b650-cafdc68ab1ec",
   "metadata": {
    "executionInfo": {
     "elapsed": 1186,
     "status": "ok",
     "timestamp": 1623251746409,
     "user": {
      "displayName": "Max Stieber",
      "photoUrl": "",
      "userId": "06134571999466142767"
     },
     "user_tz": -120
    },
    "id": "e25c6ac7-9615-4a4f-b650-cafdc68ab1ec"
   },
   "outputs": [],
   "source": [
    "G_log = prep_nx_graph(log_normalized_graph_dict)"
   ]
  },
  {
   "cell_type": "code",
   "execution_count": null,
   "id": "adbf7cc8-371e-4666-aba8-61f0b3a4b8ad",
   "metadata": {
    "id": "adbf7cc8-371e-4666-aba8-61f0b3a4b8ad"
   },
   "outputs": [],
   "source": [
    "centrality_G_log = betweenness_centrality(G_log, weight='weight')"
   ]
  },
  {
   "cell_type": "code",
   "execution_count": null,
   "id": "cee71239-fe64-458b-b936-1884c78d5ece",
   "metadata": {
    "id": "cee71239-fe64-458b-b936-1884c78d5ece"
   },
   "outputs": [],
   "source": [
    "centrality_list = [[c[0],c[1]] for c in centrality_G_log.items()]"
   ]
  },
  {
   "cell_type": "code",
   "execution_count": null,
   "id": "0f0c8583-3baf-4281-a80a-34843a10ed33",
   "metadata": {
    "id": "0f0c8583-3baf-4281-a80a-34843a10ed33"
   },
   "outputs": [],
   "source": [
    "centrality_df = pd.DataFrame(centrality_list, columns=['genre', 'G_log']).set_index('genre')"
   ]
  },
  {
   "cell_type": "code",
   "execution_count": null,
   "id": "39f15420-9a2c-4aea-a4c3-4def44b0fa73",
   "metadata": {
    "colab": {
     "base_uri": "https://localhost:8080/",
     "height": 709
    },
    "executionInfo": {
     "elapsed": 855,
     "status": "ok",
     "timestamp": 1622570183929,
     "user": {
      "displayName": "Max Stieber",
      "photoUrl": "",
      "userId": "06134571999466142767"
     },
     "user_tz": -120
    },
    "id": "39f15420-9a2c-4aea-a4c3-4def44b0fa73",
    "outputId": "150cc6c6-57e9-4e82-ed61-cf59312ba9f5"
   },
   "outputs": [
    {
     "data": {
      "image/png": "[encoded data removed]",
      "text/plain": [
       "<Figure size 1080x720 with 1 Axes>"
      ]
     },
     "metadata": {
      "needs_background": "light",
      "tags": []
     },
     "output_type": "display_data"
    }
   ],
   "source": [
    "centrality_df['G_log'].sort_values(ascending=False).head(50).plot.bar(figsize=(15,10))\n",
    "plt.show()"
   ]
  },
  {
   "cell_type": "code",
   "execution_count": 13,
   "id": "973a72a0-713a-4745-b74d-d1c5120ec858",
   "metadata": {
    "executionInfo": {
     "elapsed": 1903931,
     "status": "ok",
     "timestamp": 1623253650333,
     "user": {
      "displayName": "Max Stieber",
      "photoUrl": "",
      "userId": "06134571999466142767"
     },
     "user_tz": -120
    },
    "id": "973a72a0-713a-4745-b74d-d1c5120ec858"
   },
   "outputs": [],
   "source": [
    "def create_genres_mapping(super_genres, G):\n",
    "    genres_mapping = {}\n",
    "    for i, source in enumerate(G.nodes):\n",
    "        genre = ''\n",
    "        min_path_length = np.inf\n",
    "        for super_g in super_genres:\n",
    "            if has_path(G, source=source, target=super_g):\n",
    "                sh_path = shortest_path_length(G, source=source, target=super_g, weight='weight')\n",
    "            if sh_path < min_path_length:\n",
    "                genre = super_g\n",
    "                min_path_length = sh_path\n",
    "        genres_mapping[source] = genre\n",
    "    return genres_mapping\n",
    "    \n",
    "super_genres = ['pop', 'rock', 'electronica', 'hip hop', 'classical', 'jazz', 'folk', 'metal', 'experimental']\n",
    "genres_mapping_norm = create_genres_mapping(super_genres, G_log)"
   ]
  },
  {
   "cell_type": "code",
   "execution_count": 14,
   "id": "96231c33-6ac2-4dc1-bf3d-40c977b8f2e0",
   "metadata": {
    "executionInfo": {
     "elapsed": 1116836,
     "status": "ok",
     "timestamp": 1623254767147,
     "user": {
      "displayName": "Max Stieber",
      "photoUrl": "",
      "userId": "06134571999466142767"
     },
     "user_tz": -120
    },
    "id": "96231c33-6ac2-4dc1-bf3d-40c977b8f2e0"
   },
   "outputs": [],
   "source": [
    "all_shortest_paths_log = dict(all_pairs_dijkstra_path_length(G_log, cutoff=None, weight='weight'))"
   ]
  },
  {
   "cell_type": "code",
   "execution_count": 15,
   "id": "b54ae229-dae4-4f3c-8419-776bcffdd21a",
   "metadata": {
    "executionInfo": {
     "elapsed": 26,
     "status": "ok",
     "timestamp": 1623254767159,
     "user": {
      "displayName": "Max Stieber",
      "photoUrl": "",
      "userId": "06134571999466142767"
     },
     "user_tz": -120
    },
    "id": "b54ae229-dae4-4f3c-8419-776bcffdd21a"
   },
   "outputs": [],
   "source": [
    "def create_distance_matrix(all_shortest_paths):\n",
    "    mapping = {}\n",
    "    inverse_mapping = {}\n",
    "    for i, (key, item) in enumerate(sorted(all_shortest_paths.items())):\n",
    "        mapping[key] = i\n",
    "        inverse_mapping[i] = key\n",
    "        \n",
    "    length = len(list(set(all_shortest_paths.keys())))\n",
    "    distance_matrix = np.full((length, length), np.inf)\n",
    "    max_value = 0\n",
    "    for key1, item1 in all_shortest_paths.items():\n",
    "        for key2, item2 in item1.items():\n",
    "            distance_matrix[mapping[key1], mapping[key2]] = item2\n",
    "            if item2 > max_value:\n",
    "                max_value = item2\n",
    "    distance_matrix = np.where(distance_matrix==np.inf, max_value*10, distance_matrix) \n",
    "    return distance_matrix, mapping, inverse_mapping"
   ]
  },
  {
   "cell_type": "code",
   "execution_count": 16,
   "id": "073ed9b2-0f64-4e33-89cb-43c17c933998",
   "metadata": {
    "executionInfo": {
     "elapsed": 9725,
     "status": "ok",
     "timestamp": 1623254776867,
     "user": {
      "displayName": "Max Stieber",
      "photoUrl": "",
      "userId": "06134571999466142767"
     },
     "user_tz": -120
    },
    "id": "073ed9b2-0f64-4e33-89cb-43c17c933998"
   },
   "outputs": [],
   "source": [
    "dm_log, mapping_log, inverse_mapping_log = create_distance_matrix(all_shortest_paths_log)"
   ]
  },
  {
   "cell_type": "code",
   "execution_count": 17,
   "id": "a2519955-7de6-4291-b0de-a50d9994a9fa",
   "metadata": {
    "colab": {
     "base_uri": "https://localhost:8080/"
    },
    "executionInfo": {
     "elapsed": 20676,
     "status": "ok",
     "timestamp": 1623254797534,
     "user": {
      "displayName": "Max Stieber",
      "photoUrl": "",
      "userId": "06134571999466142767"
     },
     "user_tz": -120
    },
    "id": "a2519955-7de6-4291-b0de-a50d9994a9fa",
    "outputId": "035bc542-4f9e-4a3e-861c-4d89750ee8f9"
   },
   "outputs": [
    {
     "name": "stderr",
     "output_type": "stream",
     "text": [
      "/usr/local/lib/python3.7/dist-packages/umap/umap_.py:1736: UserWarning:\n",
      "\n",
      "using precomputed metric; transform will be unavailable for new data and inverse_transform will be unavailable for all data\n",
      "\n"
     ]
    }
   ],
   "source": [
    "fit = umap.UMAP(metric='precomputed')\n",
    "u_log = fit.fit_transform(dm_log)"
   ]
  },
  {
   "cell_type": "code",
   "execution_count": 18,
   "id": "3a0b6312-e5e5-41b8-a31e-1f6e7c1b46e3",
   "metadata": {
    "executionInfo": {
     "elapsed": 24,
     "status": "ok",
     "timestamp": 1623254797538,
     "user": {
      "displayName": "Max Stieber",
      "photoUrl": "",
      "userId": "06134571999466142767"
     },
     "user_tz": -120
    },
    "id": "3a0b6312-e5e5-41b8-a31e-1f6e7c1b46e3"
   },
   "outputs": [],
   "source": [
    "genre_names = np.expand_dims(np.array(sorted(all_shortest_paths_log.keys())), axis=1)\n",
    "df_umap = pd.DataFrame(np.concatenate((genre_names, u_log), axis=1) , columns=['genre', 'emb1', 'emb2'])\n",
    "for col in ['emb1', 'emb2']:\n",
    "    df_umap[col] = pd.to_numeric(df_umap[col])\n",
    "    \n",
    "df_umap['supergenre'] = df_umap['genre'].map(genres_mapping_norm)"
   ]
  },
  {
   "cell_type": "code",
   "execution_count": 2,
   "id": "fb6733fa-b8dc-4d75-85ff-92574afee28b",
   "metadata": {},
   "outputs": [],
   "source": [
    "df_umap = pd.read_csv('umap.csv')"
   ]
  },
  {
   "cell_type": "code",
   "execution_count": 6,
   "id": "9fe0bd13-35c8-4ae2-b4c2-beb280e30b19",
   "metadata": {
    "colab": {
     "base_uri": "https://localhost:8080/",
     "height": 1000
    },
    "executionInfo": {
     "elapsed": 2360,
     "status": "error",
     "timestamp": 1623254800877,
     "user": {
      "displayName": "Max Stieber",
      "photoUrl": "",
      "userId": "06134571999466142767"
     },
     "user_tz": -120
    },
    "id": "9fe0bd13-35c8-4ae2-b4c2-beb280e30b19",
    "outputId": "01acecc2-2d8d-4d79-af01-199e45e0d496"
   },
   "outputs": [
    {
     "data": {
      "application/vnd.plotly.v1+json": {
       "config": {
        "plotlyServerURL": "https://plot.ly"
       },
       "data": [
        {
         "customdata": [
          [
           "\"australian childrens music\""
          ],
          [
           "afghan pop"
          ],
          [
           "afghan traditional"
          ],
          [
           "afro dancehall"
          ],
          [
           "aggro chileno"
          ],
          [
           "alabama rap"
          ],
          [
           "alpine yodeling"
          ],
          [
           "alt z"
          ],
          [
           "ambient worship"
          ],
          [
           "argentine alternative rock"
          ],
          [
           "argentine hardcore"
          ],
          [
           "argentine indie rock"
          ],
          [
           "argentine punk"
          ],
          [
           "argentine reggae"
          ],
          [
           "argentine rock"
          ],
          [
           "argentine telepop"
          ],
          [
           "arkansas indie"
          ],
          [
           "arpa paraguaya"
          ],
          [
           "australian dance"
          ],
          [
           "australian house"
          ],
          [
           "australian pop"
          ],
          [
           "australian r&b"
          ],
          [
           "australian singer-songwriter"
          ],
          [
           "australian talent show"
          ],
          [
           "azonto"
          ],
          [
           "bachata"
          ],
          [
           "bachata dominicana"
          ],
          [
           "baja indie"
          ],
          [
           "banda"
          ],
          [
           "banda caliente"
          ],
          [
           "banda carnavalera"
          ],
          [
           "barbadian pop"
          ],
          [
           "bass house"
          ],
          [
           "bass trap"
          ],
          [
           "bassline"
          ],
          [
           "bedroom soul"
          ],
          [
           "belgian dance"
          ],
          [
           "belgian pop"
          ],
          [
           "bhajan"
          ],
          [
           "bhangra"
          ],
          [
           "big room"
          ],
          [
           "blues latinoamericano"
          ],
          [
           "blues mexicano"
          ],
          [
           "bogor indie"
          ],
          [
           "bolero"
          ],
          [
           "bolivian rock"
          ],
          [
           "bongo flava"
          ],
          [
           "boy band"
          ],
          [
           "brisbane indie"
          ],
          [
           "broadway"
          ],
          [
           "brostep"
          ],
          [
           "bubblegum dance"
          ],
          [
           "canadian latin"
          ],
          [
           "cancion infantil latinoamericana"
          ],
          [
           "cancion melodica"
          ],
          [
           "cantaditas"
          ],
          [
           "cantautor"
          ],
          [
           "cantautor catala"
          ],
          [
           "canto popular uruguayo"
          ],
          [
           "carnaval"
          ],
          [
           "carnaval cadiz"
          ],
          [
           "catalan folk"
          ],
          [
           "cedm"
          ],
          [
           "cha-cha-cha"
          ],
          [
           "chamame"
          ],
          [
           "champeta"
          ],
          [
           "channel pop"
          ],
          [
           "charango"
          ],
          [
           "chilean hardcore"
          ],
          [
           "chilean rock"
          ],
          [
           "chilena"
          ],
          [
           "chinese electropop"
          ],
          [
           "chinese hip hop"
          ],
          [
           "chinese idol pop"
          ],
          [
           "christian uplift"
          ],
          [
           "chutney"
          ],
          [
           "classic bangla pop"
          ],
          [
           "classic bhangra"
          ],
          [
           "classic bollywood"
          ],
          [
           "classic colombian pop"
          ],
          [
           "classic greek pop"
          ],
          [
           "classic hardstyle"
          ],
          [
           "classic indo pop"
          ],
          [
           "classic kollywood"
          ],
          [
           "classic pakistani pop"
          ],
          [
           "classic peruvian pop"
          ],
          [
           "classic punjabi pop"
          ],
          [
           "classic sinhala pop"
          ],
          [
           "classic swedish pop"
          ],
          [
           "classic tollywood"
          ],
          [
           "classic venezuelan pop"
          ],
          [
           "colombian pop"
          ],
          [
           "colombian rock"
          ],
          [
           "combos nacionales"
          ],
          [
           "comedia"
          ],
          [
           "concepcion indie"
          ],
          [
           "corrido"
          ],
          [
           "corridos tumbados"
          ],
          [
           "cuarteto"
          ],
          [
           "cuatro puertorriqueno"
          ],
          [
           "cuatro venezolano"
          ],
          [
           "cueca chilena"
          ],
          [
           "cumbia"
          ],
          [
           "cumbia colombiana regia"
          ],
          [
           "cumbia ecuatoriana"
          ],
          [
           "cumbia funk"
          ],
          [
           "cumbia lagunera"
          ],
          [
           "cumbia paraguaya"
          ],
          [
           "cumbia pop"
          ],
          [
           "cumbia salvadorena"
          ],
          [
           "cumbia santafesina"
          ],
          [
           "cumbia sonidera"
          ],
          [
           "cumbia villera"
          ],
          [
           "dakke dak"
          ],
          [
           "dance pop"
          ],
          [
           "dancehall"
          ],
          [
           "dangdut"
          ],
          [
           "dangdut koplo"
          ],
          [
           "danish pop"
          ],
          [
           "dansband"
          ],
          [
           "dansktop"
          ],
          [
           "danspunk"
          ],
          [
           "dark progressive house"
          ],
          [
           "deep dance pop"
          ],
          [
           "deep deep house"
          ],
          [
           "deep funk ostentacao"
          ],
          [
           "deep hardcore"
          ],
          [
           "deep latin alternative"
          ],
          [
           "deep latin christian"
          ],
          [
           "deep pop edm"
          ],
          [
           "deep progressive house"
          ],
          [
           "deep progressive trance"
          ],
          [
           "deep regional mexican"
          ],
          [
           "deep talent show"
          ],
          [
           "deep tech house"
          ],
          [
           "deep tropical house"
          ],
          [
           "deep uplifting trance"
          ],
          [
           "dembow"
          ],
          [
           "desi hip hop"
          ],
          [
           "desi pop"
          ],
          [
           "desi trap"
          ],
          [
           "disco polo"
          ],
          [
           "disney"
          ],
          [
           "disney norsk"
          ],
          [
           "diva house"
          ],
          [
           "dominican pop"
          ],
          [
           "dream trance"
          ],
          [
           "dreamo"
          ],
          [
           "dubstep"
          ],
          [
           "dubstep product"
          ],
          [
           "duranguense"
          ],
          [
           "dutch edm"
          ],
          [
           "dutch house"
          ],
          [
           "dutch trance"
          ],
          [
           "ecuadorian pop"
          ],
          [
           "edm"
          ],
          [
           "electro latino"
          ],
          [
           "electronic trap"
          ],
          [
           "enka"
          ],
          [
           "euphoric hardstyle"
          ],
          [
           "eurodance"
          ],
          [
           "europop"
          ],
          [
           "fan chant"
          ],
          [
           "filmi"
          ],
          [
           "filthstep"
          ],
          [
           "finnish edm"
          ],
          [
           "folclor colombiano"
          ],
          [
           "folclore jujeno"
          ],
          [
           "folclore santiagueno"
          ],
          [
           "folclore tucumano"
          ],
          [
           "folk-pop"
          ],
          [
           "folklore argentino"
          ],
          [
           "folklore boliviano"
          ],
          [
           "folklore cuyano"
          ],
          [
           "folklore ecuatoriano"
          ],
          [
           "folklore surero"
          ],
          [
           "folklore venezolano"
          ],
          [
           "folklore veracruzano"
          ],
          [
           "football"
          ],
          [
           "french reggae"
          ],
          [
           "future funk"
          ],
          [
           "future house"
          ],
          [
           "g-house"
          ],
          [
           "gaita zuliana"
          ],
          [
           "galician rock"
          ],
          [
           "gamelan"
          ],
          [
           "gaming dubstep"
          ],
          [
           "garage house"
          ],
          [
           "gauze pop"
          ],
          [
           "georgian alternative"
          ],
          [
           "georgian electronic"
          ],
          [
           "german soundtrack"
          ],
          [
           "ghanaian hip hop"
          ],
          [
           "ghanaian pop"
          ],
          [
           "ghazal"
          ],
          [
           "girl group"
          ],
          [
           "glee club"
          ],
          [
           "glitter trance"
          ],
          [
           "greek drill"
          ],
          [
           "greek hip hop"
          ],
          [
           "greek pop"
          ],
          [
           "greek underground rap"
          ],
          [
           "greenlandic pop"
          ],
          [
           "grime"
          ],
          [
           "grupera"
          ],
          [
           "gruperas inmortales"
          ],
          [
           "guadalajara indie"
          ],
          [
           "guaracha"
          ],
          [
           "guitarra argentina"
          ],
          [
           "gujarati garba"
          ],
          [
           "gujarati pop"
          ],
          [
           "hands up"
          ],
          [
           "happy hardcore"
          ],
          [
           "hard dance"
          ],
          [
           "hard house"
          ],
          [
           "hard rock mexicano"
          ],
          [
           "hard techno"
          ],
          [
           "hardcore punk espanol"
          ],
          [
           "haryanvi pop"
          ],
          [
           "hawaiian"
          ],
          [
           "hindi hip hop"
          ],
          [
           "hindi worship"
          ],
          [
           "hiplife"
          ],
          [
           "hollywood"
          ],
          [
           "hopebeat"
          ],
          [
           "house"
          ],
          [
           "huayno popular"
          ],
          [
           "hyperpop"
          ],
          [
           "hypnosis mic"
          ],
          [
           "idol"
          ],
          [
           "indie cafe pop"
          ],
          [
           "indie extremena"
          ],
          [
           "indie platense"
          ],
          [
           "indie poptimism"
          ],
          [
           "indie psych-pop"
          ],
          [
           "indie rock mexicano"
          ],
          [
           "indie rock peruano"
          ],
          [
           "indie salvadoreno"
          ],
          [
           "indie valenciana"
          ],
          [
           "indiecoustica"
          ],
          [
           "indonesian city pop"
          ],
          [
           "indonesian pop punk"
          ],
          [
           "instrumental grime"
          ],
          [
           "italian disco"
          ],
          [
           "italian jazz fusion"
          ],
          [
           "italian tech house"
          ],
          [
           "italian trance"
          ],
          [
           "italo dance"
          ],
          [
           "j-division"
          ],
          [
           "j-indie"
          ],
          [
           "japanese folk"
          ],
          [
           "japanese indie folk"
          ],
          [
           "japanese singer-songwriter"
          ],
          [
           "javanese gamelan"
          ],
          [
           "jawaiian"
          ],
          [
           "jazz chileno"
          ],
          [
           "jazz tico"
          ],
          [
           "jumpstyle"
          ],
          [
           "jumptek"
          ],
          [
           "k-pop"
          ],
          [
           "k-pop boy group"
          ],
          [
           "k-pop girl group"
          ],
          [
           "kannada pop"
          ],
          [
           "kentucky hip hop"
          ],
          [
           "kollywood"
          ],
          [
           "korean ost"
          ],
          [
           "korean pop"
          ],
          [
           "kosovan folk"
          ],
          [
           "kosovan pop"
          ],
          [
           "la pop"
          ],
          [
           "laiko"
          ],
          [
           "latin"
          ],
          [
           "latin afrobeat"
          ],
          [
           "latin arena pop"
          ],
          [
           "latin funk"
          ],
          [
           "latin pop"
          ],
          [
           "latin rock"
          ],
          [
           "latin talent show"
          ],
          [
           "latin viral pop"
          ],
          [
           "latincore"
          ],
          [
           "latino comedy"
          ],
          [
           "lds youth"
          ],
          [
           "little rock indie"
          ],
          [
           "lo-fi cover"
          ],
          [
           "london rap"
          ],
          [
           "macedonian electronic"
          ],
          [
           "malayalam pop"
          ],
          [
           "manele"
          ],
          [
           "mantra"
          ],
          [
           "mariachi"
          ],
          [
           "melbourne bounce international"
          ],
          [
           "melodic dubstep"
          ],
          [
           "merengue"
          ],
          [
           "merengue tipico"
          ],
          [
           "merida indie"
          ],
          [
           "mestissatge"
          ],
          [
           "mexican hip hop"
          ],
          [
           "mexican indie"
          ],
          [
           "mexican pop"
          ],
          [
           "mexican pop punk"
          ],
          [
           "mexican post-rock"
          ],
          [
           "mexican rock"
          ],
          [
           "mexican son"
          ],
          [
           "mexican traditional"
          ],
          [
           "mgpjr"
          ],
          [
           "military band"
          ],
          [
           "minecraft"
          ],
          [
           "mississippi indie"
          ],
          [
           "modern bollywood"
          ],
          [
           "modern enka"
          ],
          [
           "modern salsa"
          ],
          [
           "moldovan pop"
          ],
          [
           "mollywood"
          ],
          [
           "moombahton"
          ],
          [
           "morelos indie"
          ],
          [
           "movie tunes"
          ],
          [
           "murcia indie"
          ],
          [
           "murga"
          ],
          [
           "musica andina"
          ],
          [
           "musica andina colombiana"
          ],
          [
           "musica ayacuchana"
          ],
          [
           "musica blumenauense"
          ],
          [
           "musica canaria"
          ],
          [
           "musica catalana"
          ],
          [
           "musica colombiana instrumental"
          ],
          [
           "musica costarricense"
          ],
          [
           "musica goiana"
          ],
          [
           "musica indigena latinoamericana"
          ],
          [
           "musica indigena mexicana"
          ],
          [
           "musica istmena"
          ],
          [
           "musica llanera"
          ],
          [
           "musica mallorquina"
          ],
          [
           "musica maringaense"
          ],
          [
           "musica menorquina"
          ],
          [
           "musica nicaraguense"
          ],
          [
           "musica para ninos"
          ],
          [
           "musica popular colombiana"
          ],
          [
           "musica popular uruguaya"
          ],
          [
           "musica purepecha"
          ],
          [
           "musica tropical guatemalteca"
          ],
          [
           "musica valenciana"
          ],
          [
           "musica yucateca"
          ],
          [
           "musical advocacy"
          ],
          [
           "musique comorienne"
          ],
          [
           "musique traditionnelle comorienne"
          ],
          [
           "muzica copii"
          ],
          [
           "muzica etno"
          ],
          [
           "música pitiusa"
          ],
          [
           "naat"
          ],
          [
           "nagpuri pop"
          ],
          [
           "nasheed"
          ],
          [
           "neo-singer-songwriter"
          ],
          [
           "nigerian hip hop"
          ],
          [
           "nightcore"
          ],
          [
           "nisiotika"
          ],
          [
           "norteno"
          ],
          [
           "nova canco"
          ],
          [
           "nueva cancion"
          ],
          [
           "nueva ola chilena"
          ],
          [
           "nueva trova chilena"
          ],
          [
           "nuevo flamenco"
          ],
          [
           "nuevo folklore mexicano"
          ],
          [
           "nuevo regional mexicano"
          ],
          [
           "nursery"
          ],
          [
           "nyc pop"
          ],
          [
           "nz hip hop"
          ],
          [
           "oaxaca indie"
          ],
          [
           "oberkrainer"
          ],
          [
           "oktoberfest"
          ],
          [
           "pakistani pop"
          ],
          [
           "panamanian indie"
          ],
          [
           "panamanian pop"
          ],
          [
           "panamanian rock"
          ],
          [
           "paraguayan rock"
          ],
          [
           "partyschlager"
          ],
          [
           "perreo"
          ],
          [
           "polca paraguaya"
          ],
          [
           "pop"
          ],
          [
           "pop argentino"
          ],
          [
           "pop chileno"
          ],
          [
           "pop costarricense"
          ],
          [
           "pop dance"
          ],
          [
           "pop edm"
          ],
          [
           "pop electronico"
          ],
          [
           "pop flamenco"
          ],
          [
           "pop house"
          ],
          [
           "pop peruano"
          ],
          [
           "pop reggaeton"
          ],
          [
           "pop romantico"
          ],
          [
           "pop soul"
          ],
          [
           "pop venezolano"
          ],
          [
           "post-punk argentina"
          ],
          [
           "post-teen pop"
          ],
          [
           "progressive electro house"
          ],
          [
           "progressive house"
          ],
          [
           "progressive trance"
          ],
          [
           "progressive trance house"
          ],
          [
           "progressive uplifting trance"
          ],
          [
           "puerto rican indie"
          ],
          [
           "puerto rican rock"
          ],
          [
           "punjabi folk"
          ],
          [
           "punjabi hip hop"
          ],
          [
           "punjabi pop"
          ],
          [
           "punk catala"
          ],
          [
           "punk chileno"
          ],
          [
           "punk colombiano"
          ],
          [
           "punk galego"
          ],
          [
           "punk urbano"
          ],
          [
           "rabindra sangeet"
          ],
          [
           "ranchera"
          ],
          [
           "rap conciencia"
          ],
          [
           "rap dominicano"
          ],
          [
           "rap galego"
          ],
          [
           "rebetiko"
          ],
          [
           "reggae en espanol"
          ],
          [
           "reggaeton colombiano"
          ],
          [
           "reggaeton flow"
          ],
          [
           "regional mexican"
          ],
          [
           "reunion pop"
          ],
          [
           "riddim"
          ],
          [
           "riddim dubstep"
          ],
          [
           "rkt"
          ],
          [
           "rock alternativo espanol"
          ],
          [
           "rock catala"
          ],
          [
           "rock en espanol"
          ],
          [
           "rock nacional"
          ],
          [
           "rock nica"
          ],
          [
           "rock urbano mexicano"
          ],
          [
           "rock uruguayo"
          ],
          [
           "romanian house"
          ],
          [
           "romanian indie"
          ],
          [
           "romanian pop"
          ],
          [
           "rosario indie"
          ],
          [
           "russian dance"
          ],
          [
           "russian edm"
          ],
          [
           "russian emo"
          ],
          [
           "russian screamo"
          ],
          [
           "russian trance"
          ],
          [
           "salay"
          ],
          [
           "salsa"
          ],
          [
           "salsa choke"
          ],
          [
           "salsa colombiana"
          ],
          [
           "salsa peruana"
          ],
          [
           "salsa puertorriquena"
          ],
          [
           "scandinavian r&b"
          ],
          [
           "scandipop"
          ],
          [
           "sega"
          ],
          [
           "sega mauricien"
          ],
          [
           "serbian electronic"
          ],
          [
           "shaabi"
          ],
          [
           "shoegaze chileno"
          ],
          [
           "shojo"
          ],
          [
           "show tunes"
          ],
          [
           "sierreno"
          ],
          [
           "sinhala pop"
          ],
          [
           "ska argentino"
          ],
          [
           "ska catala"
          ],
          [
           "ska chileno"
          ],
          [
           "skansk musik"
          ],
          [
           "sky room"
          ],
          [
           "slap house"
          ],
          [
           "soca"
          ],
          [
           "social media pop"
          ],
          [
           "son jarocho"
          ],
          [
           "south carolina hip hop"
          ],
          [
           "sovietwave"
          ],
          [
           "spanish folk metal"
          ],
          [
           "spanish folk rock"
          ],
          [
           "spanish new wave"
          ],
          [
           "spanish pop"
          ],
          [
           "spanish pop rock"
          ],
          [
           "spanish punk"
          ],
          [
           "spanish reggae"
          ],
          [
           "spanish rock"
          ],
          [
           "spanish synthpop"
          ],
          [
           "stockholm indie"
          ],
          [
           "strut"
          ],
          [
           "sufi"
          ],
          [
           "swedish alternative rock"
          ],
          [
           "swedish blues"
          ],
          [
           "swedish country"
          ],
          [
           "swedish dancehall"
          ],
          [
           "swedish eurodance"
          ],
          [
           "swedish gangsta rap"
          ],
          [
           "swedish idol pop"
          ],
          [
           "swedish indie pop"
          ],
          [
           "swedish pop"
          ],
          [
           "swedish pop rap"
          ],
          [
           "swedish soul"
          ],
          [
           "swedish trap pop"
          ],
          [
           "tagalog worship"
          ],
          [
           "talent show"
          ],
          [
           "tamaulipas indie"
          ],
          [
           "tamaulipas rap"
          ],
          [
           "tamborazo"
          ],
          [
           "tamil devotional"
          ],
          [
           "tamil pop"
          ],
          [
           "taraneem"
          ],
          [
           "tatar folk"
          ],
          [
           "tatar pop"
          ],
          [
           "tech trance"
          ],
          [
           "tecnobanda"
          ],
          [
           "teen pop"
          ],
          [
           "tejano"
          ],
          [
           "telugu devotional"
          ],
          [
           "tex-mex"
          ],
          [
           "tollywood"
          ],
          [
           "trance"
          ],
          [
           "trap baiano"
          ],
          [
           "trap boricua"
          ],
          [
           "tribal house"
          ],
          [
           "trio huasteco"
          ],
          [
           "tropical"
          ],
          [
           "tropical house"
          ],
          [
           "trova"
          ],
          [
           "trova mexicana"
          ],
          [
           "uk alternative pop"
          ],
          [
           "uk contemporary r&b"
          ],
          [
           "uk dance"
          ],
          [
           "uk pop"
          ],
          [
           "ukulele"
          ],
          [
           "uplifting trance"
          ],
          [
           "v-pop"
          ],
          [
           "vallenato"
          ],
          [
           "vallenato moderno"
          ],
          [
           "vapor pop"
          ],
          [
           "venezuelan indie"
          ],
          [
           "venezuelan metal"
          ],
          [
           "venezuelan rock"
          ],
          [
           "veracruz indie"
          ],
          [
           "vietnamese bolero"
          ],
          [
           "vietnamese pop"
          ],
          [
           "viral pop"
          ],
          [
           "vocal trance"
          ],
          [
           "volksmusik"
          ],
          [
           "volkstumliche musik"
          ],
          [
           "zamba"
          ],
          [
           "zillertal"
          ],
          [
           "zimdancehall"
          ]
         ],
         "hovertemplate": "supergenre=pop<br>emb1=%{x}<br>emb2=%{y}<br>genre=%{customdata[0]}<extra></extra>",
         "legendgroup": "pop",
         "marker": {
          "color": "#636efa",
          "size": 6,
          "symbol": "circle"
         },
         "mode": "markers",
         "name": "pop",
         "showlegend": true,
         "type": "scattergl",
         "x": [
          2.1684184,
          7.235958,
          7.230788700000001,
          -0.26221764,
          -4.7227535000000005,
          0.71372443,
          7.929775699999999,
          1.5312028999999998,
          2.4167693,
          -4.6234307,
          -4.585527,
          -4.7476587,
          -4.626278,
          -4.494646,
          -4.558664299999999,
          -4.549313,
          1.0939401000000002,
          -4.845287,
          1.7678541,
          1.8710146,
          1.8308697,
          1.8256414,
          2.1736834,
          1.4441304,
          -0.3866815999999999,
          -3.9677165,
          -3.937053,
          -4.3744917,
          -4.251888,
          -4.2242475,
          -4.2940674,
          1.196827,
          -0.16955526,
          0.27501395,
          -0.22284581,
          1.1816466,
          0.39511603,
          1.1950438,
          7.272489999999999,
          7.3811364,
          -0.047264818,
          -4.5235996,
          -4.3062706,
          5.3451014,
          -4.064468,
          -4.348625,
          -0.41061485,
          1.305488,
          1.9410104,
          3.929762600000001,
          -0.122926414,
          1.1134761999999998,
          1.258239,
          -4.6672244,
          -4.238367,
          -4.193933,
          -4.452123599999999,
          -4.4344983,
          -4.5950875,
          -0.5789270000000001,
          -4.575783299999999,
          -4.440050599999999,
          2.461652,
          -3.6547105,
          -4.7984805,
          -3.9970205,
          1.5781677,
          -4.710355,
          -4.703428700000001,
          -4.698523000000001,
          -4.2083025,
          1.2867942,
          0.8233745000000001,
          1.295479,
          6.5490623,
          7.323967,
          7.311542500000001,
          7.4526143,
          7.274416,
          -3.763443,
          1.2927394,
          -0.7070925,
          8.626778,
          7.3074207,
          7.318302,
          -3.784039,
          7.376892999999999,
          5.3945856,
          4.4555354000000005,
          7.3269944,
          -4.189882,
          -3.9486911,
          -4.2507043,
          -3.7118013,
          -4.390130999999999,
          -4.7191253,
          -4.249396,
          -4.275254,
          -4.614976,
          -3.6561377,
          -3.8203552,
          5.318346,
          -3.7389143,
          -4.1306458,
          -3.9551048,
          -4.007274,
          -3.9195316,
          -4.6065516,
          -4.59497,
          -4.437823000000001,
          -4.6308656,
          -3.899794,
          -4.611804,
          1.0125877,
          1.2690537,
          -0.36666298,
          8.6187315,
          8.618041,
          2.427696,
          4.504351,
          2.4448060000000003,
          4.5367265,
          0.014660255,
          1.3446568,
          -0.08892763,
          -0.09744502,
          -0.64682466,
          -4.436678400000001,
          -3.9592628,
          6.642442699999999,
          -0.024394974,
          0.15266314,
          -4.224404,
          1.0629352,
          0.005847848,
          -0.06829177,
          0.052383386,
          -3.985864,
          7.363784,
          7.327758999999999,
          7.376255,
          2.5245132000000003,
          3.908622,
          4.115057,
          0.31221506,
          -3.9631689,
          0.52051634,
          5.051493,
          -0.2102796,
          -0.11979026,
          -4.1626544,
          -0.06288265,
          -0.0162690539999999,
          0.14677969,
          -4.147437,
          0.0051216274,
          -4.3674026,
          -0.0936572,
          5.3035793,
          -0.6654441,
          0.817543,
          1.2186213,
          5.3030715,
          7.297719,
          -0.02199388,
          0.6535677,
          -3.7997847,
          -4.804613,
          -4.700717,
          -4.7172160000000005,
          2.9528904,
          -4.8008595000000005,
          -4.688261499999999,
          -4.4771113,
          -3.979414,
          -4.797208,
          -3.9990566,
          -4.325229,
          5.307859,
          6.3937683,
          0.88728446,
          -0.013779405,
          -0.0939843059999999,
          -4.1200557,
          -4.210563,
          5.2794456,
          -0.24108145,
          0.17841938,
          1.3813243,
          -0.10633719,
          -0.033028945,
          3.9356241,
          -0.37623647,
          -0.24187459,
          7.2796183,
          1.2375826,
          1.3190379,
          0.13848086,
          0.06505367,
          1.2184649,
          1.2883652,
          4.5123014,
          2.4477065,
          -0.2274899,
          -4.191924,
          -4.1951785,
          -4.329551,
          1.1981913999999998,
          -4.6908917,
          7.294672999999999,
          7.2868104,
          0.70534575,
          -0.6236513000000001,
          0.3060704,
          0.27291924,
          -4.419766,
          0.17030518,
          -4.29041,
          7.346031699999999,
          -0.45474583,
          7.2722216,
          7.3029323,
          -0.23418346,
          3.9398878,
          2.1385813,
          0.0508016529999999,
          -4.6997633,
          0.55454105,
          5.3561206,
          1.4476228,
          1.9315455,
          -4.2748666,
          -4.6246,
          2.190419,
          -4.236305000000001,
          -4.3648267,
          -3.9410436,
          -4.2622733,
          -4.525847,
          3.1081707,
          8.662339,
          5.3070626,
          -0.21192698,
          2.3786392000000003,
          2.3398297,
          0.17731479,
          0.32131973,
          0.9418859,
          5.353128,
          6.488275499999999,
          6.0416117,
          6.4639883000000005,
          6.412912400000001,
          5.3056717,
          -0.4123734999999999,
          -4.599784400000001,
          0.9546377,
          0.33544752,
          0.30726606,
          1.3130832,
          1.3518324,
          1.39973,
          7.1495757,
          1.2473531,
          7.304782400000001,
          1.3791758,
          1.3374121,
          5.3333917,
          5.404571499999999,
          1.1181711,
          1.276419,
          -4.0227213,
          -4.2532015,
          -4.168976,
          -4.3457300000000005,
          -4.101471,
          -4.46191,
          -4.076196,
          -4.0748444,
          -4.4931507,
          4.1467160000000005,
          1.5469863,
          1.1285324,
          -0.044042047,
          -0.23676948,
          0.02107848,
          7.269512700000001,
          2.5240085,
          7.319595,
          -4.1317773,
          1.011126,
          -0.03342611,
          -3.9889977,
          -4.044088,
          -4.4397106,
          -4.50122,
          -4.1533623,
          -4.3476954,
          -4.161356,
          -4.400963,
          -4.341785400000001,
          -4.3301463,
          -4.383443,
          5.399830000000001,
          0.1614602999999999,
          3.88651,
          1.8514477,
          4.907369999999999,
          7.3177614,
          5.308392,
          -3.8291774,
          2.3208218,
          7.296458,
          0.23533264,
          -4.3603973,
          3.9219255,
          -4.54832,
          -4.3256874000000005,
          -4.728676,
          -3.8005958,
          -4.5502400000000005,
          -4.487015,
          -4.4820843,
          -4.370664,
          -3.74741,
          0.933389,
          0.15153651,
          -4.590269999999999,
          -4.367589,
          -4.37839,
          -4.2075505,
          -4.469243,
          1.4266306,
          -4.4850707000000005,
          0.86405313,
          -4.506401,
          -3.9766166,
          -4.3542676,
          -4.3893585,
          -3.9125102,
          -4.3068695,
          -4.0878487,
          1.1631917,
          5.4197903,
          5.397628299999999,
          2.434623,
          2.5532506,
          -4.3936324,
          7.3397336,
          0.16706519,
          7.2643204,
          2.8092132000000003,
          1.2061019,
          0.7172076999999999,
          1.2413588,
          -4.2455997000000005,
          -4.5998116,
          -4.6137233,
          -4.567787,
          -4.616574,
          -4.687172400000001,
          -4.545116,
          -4.2893157,
          2.1720648,
          1.0769907,
          -0.37451655,
          -4.5236144,
          8.037499,
          1.1731995000000002,
          7.299995399999999,
          -0.45767403,
          -0.4574755,
          -0.44964623,
          -4.632552,
          1.0950273,
          -3.9343343,
          -4.8640018,
          1.2712287,
          -4.4494967,
          -4.4564605,
          1.0496978,
          -0.03508195,
          -0.034156762,
          -4.179521,
          -4.6599345,
          0.6322564,
          -3.8210118,
          -4.163988,
          -4.495785,
          1.104849,
          -4.11383,
          -4.567890599999999,
          1.3465229,
          -0.03658421,
          0.08441119,
          0.107321784,
          0.060748737,
          0.11301762,
          -4.1461444,
          -4.095078,
          7.4143043,
          7.3348284,
          7.3420005,
          -4.2858553,
          -4.7312827,
          -4.245478599999999,
          -4.2693973,
          -4.227821,
          7.290793400000001,
          -4.1905284,
          -4.0541883,
          -3.9897144,
          -4.1981660000000005,
          1.2609883999999998,
          -4.46441,
          -4.053693,
          -3.9026656,
          -4.208160400000001,
          0.28055564,
          -0.3699859,
          -0.19889204,
          -4.6542096,
          -4.4685655,
          -4.422845400000001,
          -4.379245,
          -4.595665,
          0.9222328000000002,
          -4.358016,
          -4.3988414,
          2.5208213,
          2.4754338,
          2.5319548,
          -4.5352407,
          0.10685078,
          -0.048974954,
          5.2901816,
          5.3029660000000005,
          0.0989155,
          -4.6595907,
          -3.7053974,
          -4.033548000000001,
          -3.763502,
          -3.7948325,
          -3.7609289,
          4.3961043,
          1.805746,
          0.2965156,
          0.2857072,
          0.09398742,
          6.1701684000000006,
          -4.6249123,
          5.3464932,
          3.9409256,
          -4.211647,
          5.387461,
          -4.501052,
          -4.38279,
          -4.602786,
          4.5740620000000005,
          -0.10226825,
          0.0062059714,
          -0.3959517,
          1.28361,
          -4.4352217000000005,
          1.1125556,
          0.38055158,
          5.031983,
          -4.5091767,
          -4.3622665000000005,
          -4.3328137,
          -4.309716000000001,
          -4.2546797,
          -4.132951,
          -4.4588237,
          -4.304342299999999,
          4.4176583,
          1.3952153,
          7.256025999999999,
          4.5276494000000005,
          4.5250874,
          4.4506207,
          4.5061054,
          1.1418109,
          4.571767299999999,
          1.3802739,
          4.4295673,
          4.469344,
          4.5072956,
          4.4206305,
          4.5203037,
          3.9341185,
          1.294924,
          -4.389572,
          -0.40016338,
          -4.3338757,
          7.2516446,
          7.3173165,
          7.293421700000001,
          5.2974825,
          5.3108144,
          0.10653107,
          -4.218246499999999,
          1.3208951,
          -4.2019815000000005,
          6.859704,
          -4.199187,
          7.306740799999999,
          0.17984487,
          1.2515577,
          -3.8940074,
          0.18373859,
          -4.103916000000001,
          -3.887698,
          0.07945259,
          -4.6421742,
          -4.558651,
          1.6262757,
          1.008775,
          -0.044684134,
          1.1026791,
          -0.41173112,
          0.1562266,
          5.4733067,
          -3.8543484,
          -3.8985844,
          2.0437028,
          -4.2798266,
          1.304253,
          -4.2258510000000005,
          -4.2343802,
          5.503680999999999,
          5.487971,
          1.8160057,
          0.09563561,
          8.019689,
          8.011280000000001,
          -4.792779,
          8.015928,
          0.24844208
         ],
         "xaxis": "x",
         "y": [
          7.158625,
          0.68788934,
          0.69579613,
          2.8535252,
          5.460435,
          8.470381,
          5.7472396,
          7.277055000000001,
          5.908669000000001,
          5.2474723,
          5.1063547,
          5.2540727,
          5.107999,
          5.211822,
          5.158592,
          5.180559,
          7.7087593,
          5.333001599999999,
          7.136375999999999,
          7.0361270000000005,
          7.212299000000001,
          7.099023299999999,
          7.18682,
          7.364528999999999,
          2.9110222,
          4.672907,
          4.654344999999999,
          5.0575275,
          4.278327,
          4.296027,
          4.271775,
          7.620711999999999,
          5.856164,
          5.9709053,
          6.0891695,
          7.6495023,
          6.766709,
          6.688457499999999,
          0.798136,
          0.68905926,
          6.4486237,
          5.234072,
          5.163245,
          3.599326,
          4.3668847,
          5.180542,
          2.9573185,
          7.5544906,
          7.152137799999999,
          3.17751,
          6.277476999999999,
          7.068022999999999,
          7.546602,
          5.368778,
          4.5844684,
          5.073903,
          5.6910844,
          6.0597425000000005,
          5.5106660000000005,
          5.1074553,
          6.0196567000000005,
          6.0229387,
          5.978592,
          4.235396,
          5.429732,
          4.6886907,
          7.3482156,
          5.446225599999999,
          5.370891,
          5.349227,
          4.342975599999999,
          7.978849,
          8.029563000000001,
          7.992788000000001,
          7.78693,
          0.7197795,
          0.7571244,
          0.6162404,
          0.7798888,
          4.461046700000001,
          6.950055,
          5.222674400000001,
          11.74714,
          0.74216825,
          0.7182071,
          5.472862999999999,
          0.6961871999999999,
          3.614224,
          3.8681555,
          0.7313288,
          4.8002143,
          4.681274,
          4.9018345000000005,
          4.3417325,
          5.1750984,
          5.3990297,
          4.276718,
          4.29946,
          5.075387,
          4.289687000000001,
          4.490321,
          3.6280453,
          4.4640565,
          5.0349755,
          4.3272195,
          4.886585,
          4.4874363,
          5.1919804,
          5.1143913,
          5.3190136,
          5.177377,
          4.494335,
          5.131621400000001,
          6.9902415,
          7.4791293,
          3.047679,
          11.739349,
          11.738807,
          7.597127400000001,
          3.8441448,
          7.5933695,
          3.8883853,
          6.5483603,
          7.2747235,
          6.4458165,
          6.000453,
          5.1099706,
          5.120088,
          4.6308455,
          5.8414545,
          6.5574164,
          6.6031770000000005,
          4.3075223,
          7.692882000000001,
          6.318314,
          6.453665,
          6.621909,
          4.649155599999999,
          0.6973758000000001,
          0.7261432,
          0.6839764,
          8.952538,
          3.134912,
          3.3745480000000003,
          6.2970138,
          4.643716,
          6.770183,
          7.302480999999999,
          6.110869,
          6.1612678,
          4.351529,
          6.37199,
          6.331731,
          6.6863685,
          4.7593474,
          6.3882923,
          5.192762999999999,
          6.133915,
          3.575597,
          5.2227488,
          6.812312,
          7.0673423,
          3.560067,
          0.7833629,
          6.373244000000001,
          6.862940299999999,
          4.4612680000000005,
          5.408684,
          5.351996400000001,
          5.3949733,
          6.1913047,
          5.416561,
          5.447894,
          5.190849,
          4.325247,
          5.429675,
          4.6695566,
          4.670675800000001,
          3.5755427,
          3.9788747,
          6.7797065000000005,
          6.362527,
          6.670068,
          4.691077,
          5.791625499999999,
          3.598142,
          6.134561,
          6.1942806,
          5.658038,
          6.5403910000000005,
          6.4864154,
          2.542228,
          2.9738822,
          2.8310997,
          0.7745956,
          7.4631057,
          7.474985,
          6.688544,
          6.3604417,
          6.8763046,
          6.930958,
          3.709099,
          7.608409,
          6.0013657,
          4.341283,
          4.320757,
          5.146192,
          7.545513000000001,
          5.389459,
          0.77309346,
          0.78135794,
          6.803918,
          5.076745,
          6.6914372,
          6.673408,
          5.1218143,
          6.5687940000000005,
          5.9201417,
          0.7140435,
          3.3785825,
          0.78597367,
          0.75348884,
          2.846727,
          3.14798,
          6.861144,
          6.1801276,
          5.483352,
          7.88951,
          3.6579704,
          7.4354224,
          7.1127405,
          5.5369887,
          5.2285657,
          6.7747016,
          5.176305,
          5.2558537,
          5.4021454,
          5.137955000000001,
          5.7668386,
          6.249875,
          11.780919,
          3.538326,
          6.096356,
          5.715132,
          5.6416817,
          6.1768775,
          6.661548,
          6.900589,
          3.6419165,
          5.918629,
          5.80284,
          5.874329599999999,
          5.758296499999999,
          3.6201515,
          3.4651825,
          5.4536123,
          7.697952000000001,
          6.7781963,
          6.7862053,
          8.427126,
          8.409042999999999,
          8.488942999999999,
          0.89527375,
          7.574112400000001,
          0.74329776,
          8.47945,
          8.473875999999999,
          3.661655,
          3.61261,
          7.679854,
          6.940238000000001,
          4.735231400000001,
          5.0729227,
          4.7903824,
          5.051302400000001,
          4.720951599999999,
          5.3825192,
          4.4075356,
          4.7847543,
          5.0538870000000005,
          8.030942,
          7.392997999999999,
          7.671145,
          6.4148245,
          6.0392013,
          6.553381,
          0.77851367,
          8.858489,
          0.73919797,
          4.331657,
          7.087435,
          6.313178,
          4.635212999999999,
          4.7210956,
          5.144635,
          6.065442,
          5.084502,
          5.094143,
          4.7795177,
          5.03737,
          5.1494527,
          5.175701,
          4.429979,
          3.5818908,
          6.6908317,
          3.2049139,
          7.1991878,
          7.379451299999999,
          0.7483531,
          3.5861945,
          4.493166400000001,
          8.577097,
          0.74870414,
          6.200495200000001,
          5.1314917,
          3.1598723,
          5.772729,
          5.170234,
          5.5007644,
          4.4898076,
          5.5112305,
          5.1112720000000005,
          5.4268413,
          6.078027,
          4.4392333,
          7.6704855,
          6.620590700000001,
          5.341022,
          4.4585376,
          4.4588223,
          4.85885,
          5.8349066,
          7.231547,
          5.7126565000000005,
          7.578691,
          5.752447,
          4.375564,
          5.204609400000001,
          4.483121,
          4.617268599999999,
          6.1399407,
          4.5574484,
          7.6547446,
          3.5909128,
          3.598125,
          8.756655,
          8.8907,
          5.500408999999999,
          0.70041305,
          6.183446400000001,
          0.69787145,
          6.235203299999999,
          7.492518400000001,
          6.790166,
          6.974893600000001,
          4.389387,
          5.4601073,
          5.4402633,
          5.2689962,
          5.43058,
          6.222850299999999,
          5.2433295,
          4.276027,
          7.131506,
          7.6358023,
          3.4879413,
          5.245290799999999,
          5.8407507,
          7.109503,
          0.74543834,
          2.9683971,
          2.9517496,
          2.9650388,
          5.096432,
          7.425183,
          4.9211574,
          5.3805256,
          7.4598913,
          5.152476999999999,
          5.396336,
          7.593763,
          6.4479413,
          6.468974,
          5.3884478,
          6.181118,
          6.743099000000001,
          5.4134727,
          4.732182,
          5.168226,
          7.7005386,
          4.7417955,
          5.242205,
          7.547724,
          6.419015,
          6.631382,
          6.702461200000001,
          6.6231356,
          6.7033725,
          4.989839,
          5.035043,
          0.67866874,
          0.723532,
          0.71991944,
          5.9927254,
          5.4815803,
          4.883327,
          5.7824802,
          5.7537146,
          0.7688687,
          4.3774548,
          5.017021,
          4.618878400000001,
          6.032751599999999,
          6.956015600000001,
          5.2473392,
          4.633374,
          4.9198356,
          4.355751000000001,
          6.8193850000000005,
          3.082158,
          6.1218586,
          5.0895348,
          5.7052283,
          6.0705934,
          5.2279654,
          5.2760763,
          7.6443925,
          5.1496067000000005,
          5.2370005,
          8.864207,
          8.741189,
          8.852056,
          5.2546926,
          6.818119500000001,
          6.593101,
          3.5765133,
          3.570698,
          6.689969500000001,
          5.456208,
          4.3160715,
          4.647004,
          4.356930999999999,
          4.4765882,
          4.4106107,
          3.8511846,
          7.071166000000001,
          6.801839999999999,
          6.830631,
          6.6624255,
          1.3663388,
          5.387449,
          3.6504166,
          3.1651373,
          4.352750299999999,
          3.614885,
          5.1856995,
          6.006608,
          5.319916,
          3.6794853,
          6.4364758,
          6.456171,
          2.9856408,
          7.501448,
          4.514508,
          7.769949400000001,
          6.6509132,
          9.147788,
          5.7517495,
          5.578129,
          5.562359,
          5.376057,
          5.7404003,
          5.2017717,
          5.712079,
          5.417518599999999,
          4.142812999999999,
          7.1826057,
          0.78500926,
          4.0149236,
          3.825267,
          3.8134456,
          3.758591000000001,
          6.9761896,
          3.711535,
          7.023292999999999,
          4.129883,
          3.7953472,
          3.688858,
          3.7476249,
          3.7054548,
          3.1665878,
          7.5099382,
          5.1659207,
          3.0224013,
          4.2172985,
          0.8008536,
          0.7333086999999999,
          0.7566369000000001,
          3.5673132000000005,
          3.556303,
          6.675421000000001,
          4.327073599999999,
          7.501396700000001,
          4.658643,
          1.2245573,
          4.4874144,
          0.7505669,
          6.6469564,
          7.567062400000001,
          4.9269110000000005,
          6.240071,
          4.3032007000000005,
          4.512528,
          6.3874846,
          5.427302,
          5.5160913,
          6.9949265,
          7.269419999999999,
          6.16068,
          7.285602000000001,
          3.3958476,
          6.6895947,
          3.5179877,
          4.717191000000001,
          4.7125673,
          6.856928,
          5.050457,
          7.517177999999999,
          4.9643826,
          4.7864738,
          3.5051513,
          3.5126529000000004,
          7.224359,
          6.719585400000001,
          5.819581,
          5.813038,
          5.3983555,
          5.794102,
          5.786303
         ],
         "yaxis": "y"
        },
        {
         "customdata": [
          [
           "\"black n roll\""
          ],
          [
           "\"death n roll\""
          ],
          [
           "adoracao"
          ],
          [
           "alt-idol"
          ],
          [
           "ambient black metal"
          ],
          [
           "american grindcore"
          ],
          [
           "american melodeath"
          ],
          [
           "anime latino"
          ],
          [
           "antideutsche"
          ],
          [
           "argentine heavy metal"
          ],
          [
           "argentine metal"
          ],
          [
           "atmospheric black metal"
          ],
          [
           "atmospheric doom"
          ],
          [
           "australian black metal"
          ],
          [
           "australian death metal"
          ],
          [
           "australian metal"
          ],
          [
           "australian thrash metal"
          ],
          [
           "austrian black metal"
          ],
          [
           "austrian metal"
          ],
          [
           "autonomous black metal"
          ],
          [
           "avant-garde black metal"
          ],
          [
           "avant-garde metal"
          ],
          [
           "balkan folk metal"
          ],
          [
           "balkan trap"
          ],
          [
           "baltic black metal"
          ],
          [
           "baltic folk"
          ],
          [
           "baltic post-punk"
          ],
          [
           "bayerischer rap"
          ],
          [
           "belarusian hip hop"
          ],
          [
           "belarusian metal"
          ],
          [
           "belfast metal"
          ],
          [
           "belgian black metal"
          ],
          [
           "belgian death metal"
          ],
          [
           "belgian hardcore"
          ],
          [
           "belgian metal"
          ],
          [
           "birmingham metal"
          ],
          [
           "black death"
          ],
          [
           "black metal"
          ],
          [
           "black noise"
          ],
          [
           "black speed metal"
          ],
          [
           "black thrash"
          ],
          [
           "blackened crust"
          ],
          [
           "blackened deathcore"
          ],
          [
           "blackgaze"
          ],
          [
           "bolivian metal"
          ],
          [
           "brazilian black metal"
          ],
          [
           "brazilian blues"
          ],
          [
           "brazilian death metal"
          ],
          [
           "brazilian doom metal"
          ],
          [
           "brazilian gospel"
          ],
          [
           "brazilian grindcore"
          ],
          [
           "brazilian hardcore"
          ],
          [
           "brazilian heavy metal"
          ],
          [
           "brazilian metal"
          ],
          [
           "brazilian metalcore"
          ],
          [
           "brazilian power metal"
          ],
          [
           "brazilian progressive metal"
          ],
          [
           "brazilian punk"
          ],
          [
           "british black metal"
          ],
          [
           "british death metal"
          ],
          [
           "british grindcore"
          ],
          [
           "british power metal"
          ],
          [
           "brutal death metal"
          ],
          [
           "brutal deathcore"
          ],
          [
           "buffalo ny metal"
          ],
          [
           "bulgarian hip hop"
          ],
          [
           "bulgarian indie"
          ],
          [
           "bulgarian metal"
          ],
          [
           "bulgarian pop"
          ],
          [
           "bulgarian rock"
          ],
          [
           "california hardcore"
          ],
          [
           "canadian black metal"
          ],
          [
           "canadian metal"
          ],
          [
           "canadian metalcore"
          ],
          [
           "cante alentejano"
          ],
          [
           "caribbean metal"
          ],
          [
           "cascadian black metal"
          ],
          [
           "cavernous death metal"
          ],
          [
           "celtic metal"
          ],
          [
           "chalga"
          ],
          [
           "chaotic black metal"
          ],
          [
           "charred death"
          ],
          [
           "chicago pop punk"
          ],
          [
           "chilean black metal"
          ],
          [
           "chilean metal"
          ],
          [
           "christian deathcore"
          ],
          [
           "christian hardcore"
          ],
          [
           "christian metal"
          ],
          [
           "christian metalcore"
          ],
          [
           "christian power metal"
          ],
          [
           "christian symphonic metal"
          ],
          [
           "christian thrash metal"
          ],
          [
           "classic bulgarian pop"
          ],
          [
           "classic finnish pop"
          ],
          [
           "classic finnish rock"
          ],
          [
           "classic iskelma"
          ],
          [
           "classic portuguese pop"
          ],
          [
           "classic romanian pop"
          ],
          [
           "classic schlager"
          ],
          [
           "cologne indie"
          ],
          [
           "colombian black metal"
          ],
          [
           "colombian death metal"
          ],
          [
           "comic metal"
          ],
          [
           "cosmic black metal"
          ],
          [
           "crossover thrash"
          ],
          [
           "cryptic black metal"
          ],
          [
           "cyber metal"
          ],
          [
           "cybergrind"
          ],
          [
           "czech metal"
          ],
          [
           "czsk black metal"
          ],
          [
           "dainuojamoji poezija"
          ],
          [
           "danish black metal"
          ],
          [
           "danish death metal"
          ],
          [
           "danish metal"
          ],
          [
           "danish post-punk"
          ],
          [
           "danish rock"
          ],
          [
           "dark black metal"
          ],
          [
           "dark rock"
          ],
          [
           "death doom"
          ],
          [
           "death metal"
          ],
          [
           "deathcore"
          ],
          [
           "deathgrind"
          ],
          [
           "deathrash"
          ],
          [
           "deathstep"
          ],
          [
           "deep folk metal"
          ],
          [
           "deep german indie"
          ],
          [
           "deep german punk"
          ],
          [
           "deep melodic death metal"
          ],
          [
           "deep melodic hard rock"
          ],
          [
           "deep melodic metalcore"
          ],
          [
           "deep metalcore"
          ],
          [
           "deep symphonic black metal"
          ],
          [
           "denver metal"
          ],
          [
           "depressive black metal"
          ],
          [
           "discofox"
          ],
          [
           "djent"
          ],
          [
           "doom metal"
          ],
          [
           "dungeon synth"
          ],
          [
           "dutch black metal"
          ],
          [
           "dutch death metal"
          ],
          [
           "dutch metal"
          ],
          [
           "dutch punk"
          ],
          [
           "edinburgh metal"
          ],
          [
           "elektropunk"
          ],
          [
           "epic black metal"
          ],
          [
           "epic doom"
          ],
          [
           "estonian metal"
          ],
          [
           "estonian rock"
          ],
          [
           "eurovision"
          ],
          [
           "euskal metal"
          ],
          [
           "experimental black metal"
          ],
          [
           "fallen angel"
          ],
          [
           "faroese folk"
          ],
          [
           "faroese pop"
          ],
          [
           "faroese rock"
          ],
          [
           "finnish alternative rock"
          ],
          [
           "finnish black metal"
          ],
          [
           "finnish blues"
          ],
          [
           "finnish dance pop"
          ],
          [
           "finnish death metal"
          ],
          [
           "finnish doom metal"
          ],
          [
           "finnish hard rock"
          ],
          [
           "finnish hardcore"
          ],
          [
           "finnish heavy metal"
          ],
          [
           "finnish hip hop"
          ],
          [
           "finnish indie"
          ],
          [
           "finnish melodeath"
          ],
          [
           "finnish metal"
          ],
          [
           "finnish metalcore"
          ],
          [
           "finnish new wave"
          ],
          [
           "finnish pop"
          ],
          [
           "finnish pop punk"
          ],
          [
           "finnish power metal"
          ],
          [
           "finnish progressive metal"
          ],
          [
           "finnish progressive rock"
          ],
          [
           "finnish psychedelic rock"
          ],
          [
           "finnish punk"
          ],
          [
           "finnish reggae"
          ],
          [
           "finnish tango"
          ],
          [
           "finnish trap"
          ],
          [
           "finnish worship"
          ],
          [
           "florida death metal"
          ],
          [
           "folk black metal"
          ],
          [
           "folk metal"
          ],
          [
           "folk metal latinoamericano"
          ],
          [
           "french black metal"
          ],
          [
           "french death metal"
          ],
          [
           "french metal"
          ],
          [
           "funeral doom"
          ],
          [
           "future rock"
          ],
          [
           "german alternative rap"
          ],
          [
           "german black metal"
          ],
          [
           "german boom bap"
          ],
          [
           "german country"
          ],
          [
           "german death metal"
          ],
          [
           "german hard rock"
          ],
          [
           "german heavy metal"
          ],
          [
           "german indie"
          ],
          [
           "german indie folk"
          ],
          [
           "german indie pop"
          ],
          [
           "german indie rock"
          ],
          [
           "german jazz rap"
          ],
          [
           "german melodeath"
          ],
          [
           "german metal"
          ],
          [
           "german metalcore"
          ],
          [
           "german oi"
          ],
          [
           "german pagan metal"
          ],
          [
           "german pop rock"
          ],
          [
           "german post-hardcore"
          ],
          [
           "german post-punk"
          ],
          [
           "german power metal"
          ],
          [
           "german punk"
          ],
          [
           "german punk rock"
          ],
          [
           "german rock"
          ],
          [
           "german ska"
          ],
          [
           "german street punk"
          ],
          [
           "german thrash metal"
          ],
          [
           "goregrind"
          ],
          [
           "gothenburg metal"
          ],
          [
           "gothic alternative"
          ],
          [
           "gothic black metal"
          ],
          [
           "gothic doom"
          ],
          [
           "gothic metal"
          ],
          [
           "gothic symphonic metal"
          ],
          [
           "gotico brasileiro"
          ],
          [
           "greek black metal"
          ],
          [
           "greek metal"
          ],
          [
           "grim death metal"
          ],
          [
           "grindcore"
          ],
          [
           "grisly death metal"
          ],
          [
           "groove metal"
          ],
          [
           "hamburg hip hop"
          ],
          [
           "hamburg indie"
          ],
          [
           "hamburger schule"
          ],
          [
           "heavy gothic rock"
          ],
          [
           "hip hop tuga"
          ],
          [
           "humppa"
          ],
          [
           "hungarian black metal"
          ],
          [
           "hurdy-gurdy"
          ],
          [
           "icelandic black metal"
          ],
          [
           "idol rock"
          ],
          [
           "indian metal"
          ],
          [
           "indonesian black metal"
          ],
          [
           "indonesian death metal"
          ],
          [
           "indonesian experimental"
          ],
          [
           "indonesian metal"
          ],
          [
           "industrial black metal"
          ],
          [
           "instrumental black metal"
          ],
          [
           "instrumental djent"
          ],
          [
           "irish black metal"
          ],
          [
           "irish death metal"
          ],
          [
           "irish metal"
          ],
          [
           "iskelma"
          ],
          [
           "israeli metal"
          ],
          [
           "italian black metal"
          ],
          [
           "italian death metal"
          ],
          [
           "italian doom metal"
          ],
          [
           "italian folk metal"
          ],
          [
           "italian gothic metal"
          ],
          [
           "italian hardcore"
          ],
          [
           "italian heavy metal"
          ],
          [
           "italian metal"
          ],
          [
           "italian post-rock"
          ],
          [
           "italian power metal"
          ],
          [
           "italian progressive metal"
          ],
          [
           "italian punk"
          ],
          [
           "italian stoner rock"
          ],
          [
           "italogaze"
          ],
          [
           "japanese black metal"
          ],
          [
           "japanese death metal"
          ],
          [
           "japanese hardcore"
          ],
          [
           "japanese heavy metal"
          ],
          [
           "japanese power metal"
          ],
          [
           "jazz metal"
          ],
          [
           "kabarett"
          ],
          [
           "karneval"
          ],
          [
           "kavkaz"
          ],
          [
           "kawaii metal"
          ],
          [
           "kentucky metal"
          ],
          [
           "kolsche karneval"
          ],
          [
           "korean metal"
          ],
          [
           "latin metal"
          ],
          [
           "latvian folk"
          ],
          [
           "latvian metal"
          ],
          [
           "liechtenstein"
          ],
          [
           "liedermacher"
          ],
          [
           "lithuanian folk"
          ],
          [
           "lithuanian indie"
          ],
          [
           "lithuanian jazz"
          ],
          [
           "lithuanian metal"
          ],
          [
           "lithuanian pop"
          ],
          [
           "lithuanian rock"
          ],
          [
           "louisiana metal"
          ],
          [
           "lovecraftian metal"
          ],
          [
           "lowlands hardcore"
          ],
          [
           "luxembourgian metal"
          ],
          [
           "macedonian pop"
          ],
          [
           "maltese metal"
          ],
          [
           "maltese pop"
          ],
          [
           "mathcore"
          ],
          [
           "medieval rock"
          ],
          [
           "melodic black metal"
          ],
          [
           "melodic death metal"
          ],
          [
           "melodic deathcore"
          ],
          [
           "melodic doom"
          ],
          [
           "melodic groove metal"
          ],
          [
           "melodic hard rock"
          ],
          [
           "melodic metal"
          ],
          [
           "melodic metalcore"
          ],
          [
           "melodic power metal"
          ],
          [
           "melodic progressive metal"
          ],
          [
           "melodic thrash"
          ],
          [
           "metal"
          ],
          [
           "metal baiano"
          ],
          [
           "metal balear"
          ],
          [
           "metal catala"
          ],
          [
           "metal catarinense"
          ],
          [
           "metal cearense"
          ],
          [
           "metal colombiano"
          ],
          [
           "metal galego"
          ],
          [
           "metal gaucho"
          ],
          [
           "metal gotico"
          ],
          [
           "metal mineiro"
          ],
          [
           "metal noir quebecois"
          ],
          [
           "metal nortista"
          ],
          [
           "metal paranaense"
          ],
          [
           "metal piauiense"
          ],
          [
           "metal salvadoreno"
          ],
          [
           "metalcore"
          ],
          [
           "metalcore espanol"
          ],
          [
           "metallic hardcore"
          ],
          [
           "mexican death metal"
          ],
          [
           "mexican metal"
          ],
          [
           "mexican thrash metal"
          ],
          [
           "minneapolis metal"
          ],
          [
           "modern hard rock"
          ],
          [
           "mongolian pop"
          ],
          [
           "montenegrin pop"
          ],
          [
           "musica andorra"
          ],
          [
           "musica de intervencao"
          ],
          [
           "musica portuguesa contemporanea"
          ],
          [
           "musica sul-mato-grossense"
          ],
          [
           "musiikkia lapsille"
          ],
          [
           "muzica usoara"
          ],
          [
           "necrogrind"
          ],
          [
           "neo classical metal"
          ],
          [
           "neo-crust"
          ],
          [
           "neo-trad doom metal"
          ],
          [
           "neo-trad metal"
          ],
          [
           "neue deutsche harte"
          ],
          [
           "new wave of osdm"
          ],
          [
           "new wave of speed metal"
          ],
          [
           "new wave of thrash metal"
          ],
          [
           "new york death metal"
          ],
          [
           "nordic folk metal"
          ],
          [
           "nordnorsk musikk"
          ],
          [
           "north carolina emo"
          ],
          [
           "norwegian black metal"
          ],
          [
           "norwegian death metal"
          ],
          [
           "norwegian doom metal"
          ],
          [
           "norwegian metal"
          ],
          [
           "nwobhm"
          ],
          [
           "nwocr"
          ],
          [
           "nwothm"
          ],
          [
           "old school thrash"
          ],
          [
           "oldschool deutschrap"
          ],
          [
           "opera metal"
          ],
          [
           "oriental metal"
          ],
          [
           "ostrock"
          ],
          [
           "oulu indie"
          ],
          [
           "oulu metal"
          ],
          [
           "pagan black metal"
          ],
          [
           "peruvian death metal"
          ],
          [
           "peruvian metal"
          ],
          [
           "pirate"
          ],
          [
           "pittsburgh metal"
          ],
          [
           "poezja spiewana"
          ],
          [
           "polish alternative rock"
          ],
          [
           "polish black metal"
          ],
          [
           "polish blues"
          ],
          [
           "polish death metal"
          ],
          [
           "polish folk metal"
          ],
          [
           "polish hardcore"
          ],
          [
           "polish metal"
          ],
          [
           "polish post-punk"
          ],
          [
           "polish punk"
          ],
          [
           "polish reggae"
          ],
          [
           "polish rock"
          ],
          [
           "polish thrash metal"
          ],
          [
           "pornogrind"
          ],
          [
           "portland metal"
          ],
          [
           "portuguese black metal"
          ],
          [
           "portuguese death metal"
          ],
          [
           "portuguese folk"
          ],
          [
           "portuguese indie"
          ],
          [
           "portuguese indie rock"
          ],
          [
           "portuguese metal"
          ],
          [
           "portuguese rock"
          ],
          [
           "post-black metal"
          ],
          [
           "post-punk brasileiro"
          ],
          [
           "power metal"
          ],
          [
           "power thrash"
          ],
          [
           "powerviolence"
          ],
          [
           "prog metal"
          ],
          [
           "progressive alternative"
          ],
          [
           "progressive black metal"
          ],
          [
           "progressive death metal"
          ],
          [
           "progressive deathcore"
          ],
          [
           "progressive doom"
          ],
          [
           "progressive groove metal"
          ],
          [
           "progressive metal"
          ],
          [
           "progressive metalcore"
          ],
          [
           "progressive power metal"
          ],
          [
           "progressive technical death metal"
          ],
          [
           "progressive thrash"
          ],
          [
           "puerto rican metal"
          ],
          [
           "punk rock italiano"
          ],
          [
           "punk tuga"
          ],
          [
           "quebec death metal"
          ],
          [
           "rap metal espanol"
          ],
          [
           "rap portuense"
          ],
          [
           "rap tuga underground"
          ],
          [
           "rautalanka"
          ],
          [
           "raw black metal"
          ],
          [
           "rock brasiliense"
          ],
          [
           "rock caipira"
          ],
          [
           "rock en asturiano"
          ],
          [
           "rock gospel brasileiro"
          ],
          [
           "rock sul-mato-grossense"
          ],
          [
           "romanian black metal"
          ],
          [
           "romanian metal"
          ],
          [
           "romanian rap"
          ],
          [
           "romanian rock"
          ],
          [
           "russian black metal"
          ],
          [
           "russian dance pop"
          ],
          [
           "russian death metal"
          ],
          [
           "russian folk metal"
          ],
          [
           "russian folk rock"
          ],
          [
           "russian gangster rap"
          ],
          [
           "russian heavy metal"
          ],
          [
           "russian metal"
          ],
          [
           "russian metalcore"
          ],
          [
           "russian nu metal"
          ],
          [
           "russian pop"
          ],
          [
           "russian power metal"
          ],
          [
           "russian punk rock"
          ],
          [
           "saxony metal"
          ],
          [
           "schlager"
          ],
          [
           "sci-fi metal"
          ],
          [
           "scottish metal"
          ],
          [
           "seattle metal"
          ],
          [
           "serbian metal"
          ],
          [
           "shred"
          ],
          [
           "sinaloa indie"
          ],
          [
           "slam death metal"
          ],
          [
           "slavic folk metal"
          ],
          [
           "slavic metal"
          ],
          [
           "slayer"
          ],
          [
           "slovak metal"
          ],
          [
           "sotalaulut"
          ],
          [
           "south african punk"
          ],
          [
           "south asian metal"
          ],
          [
           "south carolina metal"
          ],
          [
           "southern metal"
          ],
          [
           "spanish black metal"
          ],
          [
           "spanish death metal"
          ],
          [
           "spanish metal"
          ],
          [
           "spanish prog"
          ],
          [
           "speed metal"
          ],
          [
           "stuttgart indie"
          ],
          [
           "sung poetry"
          ],
          [
           "suomi rock"
          ],
          [
           "suomirap"
          ],
          [
           "swedish black metal"
          ],
          [
           "swedish death metal"
          ],
          [
           "swedish doom metal"
          ],
          [
           "swedish grindcore"
          ],
          [
           "swedish heavy metal"
          ],
          [
           "swedish melodeath"
          ],
          [
           "swedish metal"
          ],
          [
           "swedish power metal"
          ],
          [
           "swedish progressive metal"
          ],
          [
           "swiss black metal"
          ],
          [
           "swiss metal"
          ],
          [
           "swiss punk"
          ],
          [
           "symphonic black metal"
          ],
          [
           "symphonic death metal"
          ],
          [
           "symphonic melodic death metal"
          ],
          [
           "symphonic metal"
          ],
          [
           "symphonic power metal"
          ],
          [
           "taiwan metal"
          ],
          [
           "tavern"
          ],
          [
           "technical black metal"
          ],
          [
           "technical brutal death metal"
          ],
          [
           "technical death metal"
          ],
          [
           "technical deathcore"
          ],
          [
           "technical grindcore"
          ],
          [
           "technical groove metal"
          ],
          [
           "technical melodic death metal"
          ],
          [
           "technical thrash"
          ],
          [
           "tennessee metal"
          ],
          [
           "texas hardcore"
          ],
          [
           "thrash core"
          ],
          [
           "thrash metal"
          ],
          [
           "thrash-groove metal"
          ],
          [
           "tolkien metal"
          ],
          [
           "trancecore"
          ],
          [
           "tribute"
          ],
          [
           "turbo folk"
          ],
          [
           "turkish black metal"
          ],
          [
           "turkish metal"
          ],
          [
           "uk doom metal"
          ],
          [
           "uk stoner rock"
          ],
          [
           "ukrainian black metal"
          ],
          [
           "ukrainian metal"
          ],
          [
           "us power metal"
          ],
          [
           "usbm"
          ],
          [
           "vancouver metal"
          ],
          [
           "varmland rock"
          ],
          [
           "viking black metal"
          ],
          [
           "viking metal"
          ],
          [
           "vintage finnish jazz"
          ],
          [
           "virginia metal"
          ],
          [
           "virginia punk"
          ],
          [
           "visual kei"
          ],
          [
           "voidgaze"
          ],
          [
           "voidgrind"
          ],
          [
           "volkspop"
          ],
          [
           "war metal"
          ],
          [
           "west virginia metal"
          ],
          [
           "wisconsin metal"
          ]
         ],
         "hovertemplate": "supergenre=metal<br>emb1=%{x}<br>emb2=%{y}<br>genre=%{customdata[0]}<extra></extra>",
         "legendgroup": "metal",
         "marker": {
          "color": "#EF553B",
          "size": 6,
          "symbol": "circle"
         },
         "mode": "markers",
         "name": "metal",
         "showlegend": true,
         "type": "scattergl",
         "x": [
          5.988472499999999,
          5.646631,
          5.328977,
          6.684783500000001,
          6.204014,
          5.824081,
          5.8100104,
          6.7836742,
          8.197218,
          -4.596965,
          -4.68696,
          6.209333,
          5.1843224,
          6.1859536,
          5.9414663,
          6.019002,
          5.972453,
          6.0887694,
          5.9993057,
          6.1361523,
          6.233111,
          6.356329,
          6.2426176,
          7.569666000000001,
          5.8872495,
          2.707717,
          2.8706367000000004,
          8.289522999999999,
          6.191075,
          6.064775,
          5.080498,
          6.150264,
          6.0330863,
          5.660583,
          6.0432606,
          5.679458,
          6.0444765,
          6.046698999999999,
          5.9889436,
          5.9664497,
          6.0031857,
          5.9795647,
          5.6194234000000005,
          6.181655,
          5.2243876,
          5.571324,
          0.29819766,
          5.711013,
          5.732614,
          5.348028,
          0.3908100999999999,
          0.4369212999999999,
          5.4346066,
          5.3856087,
          0.42069063,
          5.1543584000000005,
          5.1354027,
          0.48566112,
          5.699032,
          5.7811580000000005,
          5.858846,
          5.066549,
          5.8997746,
          5.6082153,
          5.5669484,
          3.905123,
          3.9739976,
          6.149223,
          3.976389,
          3.9293404,
          5.6272807,
          5.3840694,
          5.3766165,
          5.4199038,
          0.93512356,
          5.951278,
          6.1439010000000005,
          5.913972,
          5.6192985,
          3.860356,
          6.1511664,
          5.968244,
          5.6399364,
          -4.70331,
          -4.766099,
          5.9149084,
          5.895321,
          6.034256500000001,
          5.7618904,
          5.019972,
          5.2992697,
          6.121005,
          3.9521186,
          4.7847395,
          4.815256,
          4.802026000000001,
          0.9361091,
          2.5959060000000003,
          8.019833,
          8.220753,
          6.138967500000001,
          6.111408,
          4.445682499999999,
          6.2035275,
          5.625394,
          6.0738688,
          5.8187050000000005,
          5.713415,
          5.6570425,
          5.4519324000000005,
          2.6167595,
          5.884343,
          5.494619,
          5.514761,
          2.5540214,
          2.8506315,
          6.081311,
          5.088068499999999,
          5.668794,
          5.7526470000000005,
          5.6113667000000005,
          5.916982,
          5.532795,
          5.408004,
          5.7351418,
          8.199733,
          8.205356,
          5.6536465,
          4.889375,
          5.388298000000001,
          5.443643,
          5.7834167,
          5.9197974,
          6.158674,
          7.994699499999999,
          5.302544999999999,
          5.36555,
          5.3193790000000005,
          5.7295485,
          5.77223,
          5.191569,
          2.5434375,
          5.1345806,
          8.255158999999999,
          6.016164,
          5.383756,
          5.8254676,
          5.717421,
          4.459318,
          4.566317,
          6.095991000000001,
          5.100828599999999,
          5.0942755,
          5.105755,
          5.069713,
          4.859956700000001,
          5.973375,
          4.8615785,
          4.88068,
          5.3122635,
          5.392952999999999,
          4.994391,
          4.8885574,
          5.0101657,
          4.860489,
          4.8558183,
          5.317309,
          5.0936294,
          5.18574,
          4.8341866,
          4.8386655,
          4.954789599999999,
          5.0365663,
          5.1580887,
          4.853113700000001,
          5.3929033,
          4.9010596,
          4.862099,
          4.794486,
          4.925508,
          4.885614,
          5.7750053,
          5.8310294,
          5.735874,
          5.7046824,
          6.146583000000001,
          5.6736193,
          5.867614700000001,
          5.485427,
          5.231706,
          8.233024,
          6.17033,
          8.255777,
          8.083446499999999,
          5.793313,
          5.150933,
          5.284307,
          8.239907,
          8.191016000000001,
          8.179057,
          8.204525,
          8.232991,
          5.55954,
          5.3516755,
          5.657708599999999,
          8.003755,
          5.6164083,
          8.162343,
          5.6244082,
          8.219944,
          5.116091,
          8.186858,
          8.201654,
          8.134068,
          0.009618303,
          8.150105,
          5.424614,
          5.951492,
          5.6135206,
          4.967387,
          5.412825,
          5.40681,
          5.276054,
          5.192236,
          5.4705114,
          5.711058599999999,
          5.70987,
          5.758138,
          5.931288,
          5.7356997000000005,
          5.3403473,
          8.219732,
          8.200262,
          8.215147,
          5.2610316,
          5.2454114,
          4.817869,
          6.245828,
          5.2941675,
          5.9606304,
          6.7774057,
          6.8935027,
          6.4188447,
          6.408566,
          6.4437,
          6.4227953,
          6.018737000000001,
          6.164363400000001,
          5.2078023,
          5.753046,
          5.5991397,
          5.715647,
          4.8300376,
          5.8625307,
          5.203852,
          5.263046,
          5.119048,
          4.923844,
          5.198332,
          5.800294999999999,
          4.9693723,
          5.059892700000001,
          5.0703583,
          4.969459,
          5.0128903,
          5.873804,
          5.0906305,
          6.154386,
          6.3518014,
          5.457735,
          5.7317376,
          6.763611999999999,
          6.8010383,
          5.2060156,
          8.137463,
          8.128963,
          6.1531205,
          5.6783056,
          5.7676870000000005,
          8.117279,
          5.9547663,
          5.1575017,
          5.9040303,
          5.8955045,
          5.0684834,
          8.158014,
          2.7139032000000003,
          2.6182308,
          2.6777115,
          5.7760086,
          2.7359123,
          2.797969,
          5.2081375,
          5.40987,
          5.6112432,
          6.1876626,
          4.5063014,
          5.8991050000000005,
          4.522522,
          5.5477004,
          6.438197,
          5.7727084,
          5.476639700000001,
          5.6770873,
          5.437398,
          5.411168,
          4.9122580000000005,
          4.962376,
          5.6024218,
          4.984418,
          4.9847794,
          5.303757,
          5.496044599999999,
          5.6012373,
          4.999028,
          5.071057,
          5.2077527,
          0.37484357,
          6.189982,
          6.084074,
          5.7764845000000005,
          5.2441096,
          5.457201,
          5.781019000000001,
          5.388780000000001,
          5.063775,
          5.707732,
          6.142213,
          5.538682499999999,
          5.1351886,
          5.583107,
          5.505975,
          5.551916599999999,
          5.3619013,
          5.2839255,
          4.870546,
          6.1917114,
          7.559723,
          5.446642400000001,
          0.92500645,
          5.2800183,
          0.31343883,
          4.836257499999999,
          2.5745788,
          5.9431305,
          4.9066553,
          5.6754985,
          5.3711150000000005,
          5.097506,
          5.4459195,
          5.571729,
          5.897096599999999,
          5.3708324,
          5.896386,
          5.651414,
          5.524696400000001,
          5.215214,
          6.0228043,
          5.9649754,
          5.251776,
          5.9059467,
          5.197813,
          4.885301999999999,
          5.208963400000001,
          5.4081655,
          8.232693,
          5.1213145,
          5.945941400000001,
          8.133441,
          4.839205000000001,
          5.359682599999999,
          6.094821,
          6.0466433,
          6.072521,
          5.1249523,
          6.0410347,
          2.4102077,
          2.370723,
          5.9121227,
          2.3997216,
          5.8347254,
          6.013294999999999,
          2.4220028,
          5.7843847,
          2.3716310000000003,
          2.4414241000000003,
          2.3611796000000003,
          2.3589900000000004,
          5.802877,
          6.0132203,
          5.573514,
          5.3114014,
          5.391714,
          0.9227688,
          0.8342874,
          5.276109,
          5.294461,
          5.2828045,
          6.1251435,
          5.443245,
          4.9935684,
          5.276523,
          5.7850623,
          4.947521,
          4.9374566,
          5.9696593,
          5.548993,
          5.638968,
          5.2777824,
          5.2727094,
          4.942808599999999,
          5.565142,
          5.0054865,
          5.8509803,
          5.311914,
          5.9480195,
          5.933,
          5.352521,
          5.733789,
          4.922497,
          5.2950935,
          5.2655125,
          4.924015,
          6.059557,
          0.5159703,
          0.34362614,
          -4.2219186,
          5.376462999999999,
          0.30299163,
          6.247237,
          6.191742400000001,
          5.1515293,
          2.548714,
          6.0491185,
          4.556574299999999,
          5.861326999999999,
          5.9077816,
          6.26005,
          6.225755,
          6.2554584,
          6.241077400000001,
          6.2869660000000005,
          6.2835474,
          6.073637000000001,
          6.2577243,
          6.2596903,
          5.786556200000001,
          8.0197735,
          5.8441706,
          5.0590005,
          5.198641,
          5.1046042,
          4.7666273,
          5.550971499999999,
          5.94168,
          5.757368,
          6.0456448,
          5.076812,
          5.626501599999999,
          4.7565556,
          4.8806095,
          5.70982,
          5.871981,
          5.1513567,
          6.169668700000001,
          5.918166,
          4.992762,
          4.9324107,
          5.341328,
          8.242459,
          2.4627597000000003,
          4.8540306,
          4.8985653,
          5.9926367,
          5.623168,
          5.435105999999999,
          5.958642,
          5.0406637000000005,
          5.583581400000001,
          5.643936599999999,
          5.0853047,
          5.360486,
          5.957234,
          5.9154477,
          5.984355,
          5.886414,
          5.38363,
          5.364651,
          5.05489,
          4.9831853,
          5.935374,
          5.7325506,
          6.076258999999999,
          5.8776197,
          5.8570895,
          5.736283,
          5.9247556,
          5.52911,
          5.8176527,
          5.312001,
          5.5695143,
          5.6046830000000005,
          5.6486654000000005,
          5.360158,
          5.366406,
          5.8084620000000005,
          5.4273705,
          4.4345455000000005,
          7.5541024,
          6.3029623,
          6.322432,
          5.282409,
          4.4121003,
          6.115465599999999,
          6.1237125,
          5.1337895,
          6.1636405,
          5.1732736,
          4.558892,
          5.910435,
          5.790714299999999,
          4.792474299999999,
          5.670318,
          5.2703986,
          6.77625,
          6.185922,
          5.9170074,
          8.107087,
          6.0570580000000005,
          5.6529136,
          5.4738994000000005
         ],
         "xaxis": "x",
         "y": [
          9.55039,
          9.177352,
          8.79454,
          6.204817299999999,
          9.717338,
          8.297168,
          8.833262,
          6.3440075,
          5.988876,
          5.069933,
          5.151536,
          9.718837,
          9.666297,
          9.342155,
          8.9553795,
          8.984608999999999,
          9.2398615,
          9.693896,
          9.71508,
          9.777192,
          9.449239,
          9.221089,
          9.788418,
          4.460927,
          10.127249,
          10.295735,
          10.220227,
          5.9331994,
          11.521775,
          10.372411,
          9.303252,
          9.608352,
          8.796173,
          7.289449,
          8.830569,
          8.796997,
          9.285533,
          9.558344,
          9.597385,
          9.410063,
          9.43762,
          9.609522,
          8.117973,
          9.605118,
          8.760974000000001,
          8.924339999999999,
          0.037562087,
          8.912085000000001,
          8.915701,
          8.849157,
          0.14032844,
          0.1544201,
          8.924161999999999,
          8.898954,
          0.15185072,
          9.062587,
          9.091765,
          0.18643968,
          9.394962,
          8.9325905,
          8.924325,
          9.17972,
          8.951857,
          8.179872999999999,
          8.705964,
          9.261243,
          9.252644,
          9.7539425,
          9.248782,
          9.262668,
          7.164600999999999,
          9.242048,
          8.75793,
          8.385211,
          0.9091698,
          7.9405775,
          9.591042,
          9.00429,
          9.893859,
          9.232762,
          9.65897,
          9.59822,
          7.056285400000001,
          5.4832206,
          5.489180999999999,
          7.951598599999999,
          7.961549300000001,
          8.011106,
          7.8731284,
          9.283384,
          9.18331,
          8.066441000000001,
          9.2565,
          10.734129,
          10.663857,
          10.716759,
          0.8802620999999999,
          8.883813,
          5.81882,
          6.0088196,
          9.534385,
          9.505767,
          8.173263,
          9.66997,
          7.582147,
          9.857067,
          9.527573,
          8.013853999999998,
          10.046038,
          9.609114,
          10.260529,
          9.785786,
          9.160915,
          9.057968,
          7.5775437,
          7.441708,
          9.564087,
          9.827276,
          9.199648,
          8.994833999999999,
          8.098817,
          8.811192,
          8.964236,
          7.722427000000001,
          9.979108,
          5.9889736,
          6.000371,
          9.820307,
          8.803471,
          7.419727000000001,
          7.407113000000001,
          9.460371,
          8.815844,
          9.598109,
          5.811851,
          8.0075035,
          9.286794,
          4.881951,
          7.19223,
          8.962643,
          9.498342,
          4.9669824,
          9.0153675,
          6.0548935,
          9.747472,
          9.386425,
          10.044599,
          9.976524,
          9.1308,
          8.912067,
          9.645553,
          9.5695,
          9.412329,
          9.399955,
          9.404346,
          10.593586,
          9.544054,
          10.612307,
          10.625628,
          9.961833,
          9.562811,
          9.905934,
          10.574502,
          10.270646,
          10.669173,
          10.600524,
          9.937036,
          10.258545,
          10.097058,
          10.649963,
          10.657318,
          10.523702,
          9.578818,
          10.107706,
          10.564414,
          9.453136,
          10.583507,
          10.655738,
          10.73173,
          10.585261,
          10.59714,
          8.963287,
          10.002267,
          9.999555,
          9.958365,
          9.435108,
          8.908953,
          9.094917,
          9.671433,
          9.331067,
          5.9799128,
          9.631312,
          5.949819000000001,
          5.880766,
          9.033293,
          8.728191,
          9.102873,
          6.029779,
          6.052724,
          6.0104675,
          5.9939923,
          5.969503,
          9.781267,
          9.307415,
          8.058755999999999,
          6.0896115,
          9.847629,
          5.977558599999999,
          8.008529,
          5.9720883,
          9.276351,
          6.027546,
          6.008808,
          5.981209,
          3.4266086,
          6.0122647,
          9.092664,
          8.848461,
          9.497314,
          7.6073685,
          9.653034,
          9.666632,
          9.595256,
          9.60472,
          9.574979,
          9.677665,
          9.708221,
          9.17297,
          8.703924,
          9.513685,
          8.486889999999999,
          5.975937999999999,
          5.9926157,
          6.006771,
          9.729159,
          9.755751,
          10.695695,
          9.674747,
          4.5558763,
          9.899253,
          6.2930613,
          1.1205035,
          8.991054,
          9.06535,
          8.970642999999999,
          8.997192,
          9.621879,
          9.643022,
          7.948948,
          9.995523,
          9.689504,
          9.942918,
          10.672767,
          9.633348,
          9.506119,
          9.410342,
          9.426352,
          9.35337,
          9.604653,
          6.951432700000001,
          9.38963,
          9.444804,
          9.486262,
          9.400194,
          9.3936405,
          6.6914663,
          8.782067,
          9.605328,
          9.373137,
          8.860436,
          6.892429400000001,
          6.243608999999999,
          6.288538,
          7.9637785,
          5.936703700000001,
          5.991809,
          11.4766,
          8.691322,
          9.483455,
          5.993083,
          8.846457000000001,
          8.895847,
          10.112258,
          10.135737,
          9.490559,
          5.93538,
          10.295966,
          10.275335,
          10.303301,
          10.099701,
          10.284765,
          10.285889,
          8.460357,
          9.489365,
          7.1125965,
          9.435435,
          9.070548,
          8.947014,
          9.090517,
          7.861911,
          6.8307004,
          9.622388,
          9.687685,
          8.164937,
          9.47473,
          8.508453,
          8.799141,
          9.319311,
          8.064729,
          9.347093,
          9.2482605,
          8.989188,
          9.278322,
          8.8422985,
          9.253658,
          8.936721,
          9.078701,
          0.11926359,
          9.503522,
          9.27765,
          8.887953999999999,
          9.35021,
          8.880195,
          9.093777,
          8.879843,
          9.13372,
          9.013061,
          8.029902,
          7.8612475,
          8.899907,
          7.1629686,
          8.976988,
          8.992137,
          8.924963,
          9.074142,
          8.800436999999999,
          11.4973755,
          4.487387,
          9.455475,
          0.92672485,
          9.667373,
          0.05195969,
          10.662939,
          8.854174,
          8.637013,
          9.2267,
          7.031553,
          9.426889,
          9.270244,
          5.676295,
          8.939163,
          9.400362,
          8.963104,
          8.978273,
          9.9513035,
          3.5293007000000003,
          7.624263000000001,
          9.673685,
          9.586198,
          9.643004,
          9.634113,
          9.049163,
          8.806284,
          9.22385,
          8.963558,
          5.978145,
          9.551894,
          9.375489,
          5.968151,
          10.622572,
          9.823127,
          9.820102,
          9.28216,
          9.331811,
          9.189834,
          9.2765255,
          10.229119,
          10.184706,
          9.394316,
          10.250226,
          9.190263,
          9.86999,
          10.175444,
          9.223833,
          10.204324,
          10.240541,
          10.17484,
          10.189189,
          9.181873,
          8.771038,
          9.126583,
          9.702819,
          9.626207,
          0.8577207,
          0.87001246,
          9.714128,
          9.701858,
          9.678398,
          9.572579,
          9.509438,
          9.335924,
          9.110902,
          7.917233,
          9.113068,
          8.998122,
          9.743436,
          9.324691,
          8.220575,
          9.662732,
          8.799159,
          9.166904,
          7.9337163,
          9.245744,
          9.134372,
          9.336009,
          7.926536,
          6.601859599999999,
          9.337035,
          8.902739,
          9.002678,
          9.708375,
          9.770307,
          10.46128,
          9.7704525,
          0.21604884,
          0.06730616,
          5.872257,
          8.824622999999999,
          0.048279107,
          9.66109,
          9.847994,
          8.732712,
          8.85025,
          9.961117,
          9.265896,
          9.188233,
          10.233288,
          11.460416,
          11.4913025,
          11.472631,
          11.370604,
          11.413629,
          11.453555,
          11.372756,
          11.471486,
          11.488689,
          9.0587225,
          5.831055999999999,
          9.460353,
          9.133038,
          9.092379,
          9.558559,
          8.337336,
          8.991336,
          8.933511,
          10.068571,
          10.004579,
          9.487466,
          9.70418,
          10.7667,
          7.9382296,
          8.005875,
          9.017932,
          8.344824000000001,
          9.599947,
          8.976935000000001,
          9.035691,
          8.95875,
          9.118852,
          5.9342937,
          10.243444,
          10.618737,
          10.608485,
          9.61642,
          9.4405575,
          9.454463,
          8.654456,
          9.295156,
          9.504741,
          9.475891,
          9.324158,
          9.355533,
          9.485574,
          9.473567999999998,
          9.330513,
          9.66568,
          9.608503,
          9.741087,
          9.525782,
          9.35877,
          9.715507,
          9.94195,
          9.545126,
          8.961687,
          8.905673,
          8.476184,
          8.797018,
          9.085291,
          8.9652605,
          9.041345,
          8.006113000000001,
          7.3903666,
          7.0143905,
          9.016453,
          9.700965,
          9.656741,
          7.7558293,
          8.039017,
          4.450876999999999,
          0.32615605,
          0.33885324,
          8.996478999999999,
          8.611541,
          9.948737,
          9.919835,
          9.118296,
          9.598778,
          8.68562,
          4.198653,
          9.849598,
          9.959331,
          10.730812,
          8.724598,
          7.227362599999999,
          6.189432599999999,
          9.660466,
          8.950273,
          6.006685,
          9.49328,
          7.9461594,
          8.9328375
         ],
         "yaxis": "y"
        },
        {
         "customdata": [
          [
           "\"british childrens music\""
          ],
          [
           "\"canadian childrens music\""
          ],
          [
           "\"childrens folk\""
          ],
          [
           "\"childrens music\""
          ],
          [
           "\"childrens story\""
          ],
          [
           "\"nz childrens music\""
          ],
          [
           "\"preschool childrens music\""
          ],
          [
           "\"womens music\""
          ],
          [
           "acoustic blues"
          ],
          [
           "acoustic guitar cover"
          ],
          [
           "acoustic pop"
          ],
          [
           "alberta country"
          ],
          [
           "alternative americana"
          ],
          [
           "alternative ccm"
          ],
          [
           "alternative country"
          ],
          [
           "alternative roots rock"
          ],
          [
           "american folk revival"
          ],
          [
           "american primitive"
          ],
          [
           "ann arbor indie"
          ],
          [
           "appalachian folk"
          ],
          [
           "arkansas country"
          ],
          [
           "asheville indie"
          ],
          [
           "austin americana"
          ],
          [
           "austin singer-songwriter"
          ],
          [
           "australian americana"
          ],
          [
           "australian blues"
          ],
          [
           "australian country"
          ],
          [
           "bakersfield sound"
          ],
          [
           "banjo"
          ],
          [
           "bardcore"
          ],
          [
           "barrelhouse piano"
          ],
          [
           "basque folk"
          ],
          [
           "bluegrass"
          ],
          [
           "bluegrass fiddle"
          ],
          [
           "bluegrass gospel"
          ],
          [
           "blues band"
          ],
          [
           "boston folk"
          ],
          [
           "bothy ballad"
          ],
          [
           "breton folk"
          ],
          [
           "british country"
          ],
          [
           "british folk"
          ],
          [
           "british singer-songwriter"
          ],
          [
           "buffalo ny indie"
          ],
          [
           "bury st edmunds indie"
          ],
          [
           "calming instrumental"
          ],
          [
           "canadian americana"
          ],
          [
           "canadian contemporary country"
          ],
          [
           "canadian country"
          ],
          [
           "canadian folk"
          ],
          [
           "canadian indie"
          ],
          [
           "canadian indie folk"
          ],
          [
           "canadian indigenous"
          ],
          [
           "canadian pop"
          ],
          [
           "canadian singer-songwriter"
          ],
          [
           "cancion infantil mexicana"
          ],
          [
           "cape breton indie"
          ],
          [
           "cartoon"
          ],
          [
           "celtic"
          ],
          [
           "celtic harp"
          ],
          [
           "chamber folk"
          ],
          [
           "chattanooga indie"
          ],
          [
           "christian indie"
          ],
          [
           "cinematic post-rock"
          ],
          [
           "classic country pop"
          ],
          [
           "classic uk pop"
          ],
          [
           "clawhammer banjo"
          ],
          [
           "concertina"
          ],
          [
           "contemporary country"
          ],
          [
           "contemporary folk"
          ],
          [
           "cosmic american"
          ],
          [
           "country"
          ],
          [
           "country blues"
          ],
          [
           "country boogie"
          ],
          [
           "country dawn"
          ],
          [
           "country gospel"
          ],
          [
           "country pop"
          ],
          [
           "country road"
          ],
          [
           "country rock"
          ],
          [
           "covertrance"
          ],
          [
           "cowboy western"
          ],
          [
           "cymraeg"
          ],
          [
           "dallas indie"
          ],
          [
           "deep contemporary country"
          ],
          [
           "deep delta blues"
          ],
          [
           "deep groove house"
          ],
          [
           "deep indie rock"
          ],
          [
           "deep motown"
          ],
          [
           "deep new americana"
          ],
          [
           "delta blues"
          ],
          [
           "denton tx indie"
          ],
          [
           "desert blues"
          ],
          [
           "devon indie"
          ],
          [
           "east anglia indie"
          ],
          [
           "easy listening"
          ],
          [
           "eau claire indie"
          ],
          [
           "ectofolk"
          ],
          [
           "fingerstyle"
          ],
          [
           "folk"
          ],
          [
           "folk punk"
          ],
          [
           "gaita"
          ],
          [
           "galego"
          ],
          [
           "galician folk"
          ],
          [
           "geek folk"
          ],
          [
           "gnawa"
          ],
          [
           "gothic americana"
          ],
          [
           "halifax indie"
          ],
          [
           "hammered dulcimer"
          ],
          [
           "honky tonk"
          ],
          [
           "honky-tonk piano"
          ],
          [
           "hula"
          ],
          [
           "icelandic rock"
          ],
          [
           "icelandic traditional"
          ],
          [
           "indiana indie"
          ],
          [
           "indie anthem-folk"
          ],
          [
           "indie folk"
          ],
          [
           "instrumental acoustic guitar"
          ],
          [
           "inuit traditional"
          ],
          [
           "iowa indie"
          ],
          [
           "irish accordion"
          ],
          [
           "irish ballad"
          ],
          [
           "irish banjo"
          ],
          [
           "irish contemporary classical"
          ],
          [
           "irish country"
          ],
          [
           "irish dance"
          ],
          [
           "irish experimental"
          ],
          [
           "irish fiddle"
          ],
          [
           "irish flute"
          ],
          [
           "irish folk"
          ],
          [
           "irish gaelic folk"
          ],
          [
           "irish neo-traditional"
          ],
          [
           "irish pop"
          ],
          [
           "irish pub song"
          ],
          [
           "irish singer-songwriter"
          ],
          [
           "italian blues"
          ],
          [
           "jamgrass"
          ],
          [
           "jig and reel"
          ],
          [
           "jug band"
          ],
          [
           "kelowna bc indie"
          ],
          [
           "kentucky indie"
          ],
          [
           "kentucky mountain folk"
          ],
          [
           "kentucky roots"
          ],
          [
           "kindie rock"
          ],
          [
           "lancaster pa indie"
          ],
          [
           "lebanese pop"
          ],
          [
           "lexington ky indie"
          ],
          [
           "lilith"
          ],
          [
           "london on indie"
          ],
          [
           "malian blues"
          ],
          [
           "malian traditional"
          ],
          [
           "mande pop"
          ],
          [
           "mandolin"
          ],
          [
           "manitoba country"
          ],
          [
           "manitoba indie"
          ],
          [
           "melancholia"
          ],
          [
           "memphis americana"
          ],
          [
           "michigan folk"
          ],
          [
           "michigan indie"
          ],
          [
           "modern country rock"
          ],
          [
           "modern folk rock"
          ],
          [
           "modern old-time"
          ],
          [
           "modern southern rock"
          ],
          [
           "modern uplift"
          ],
          [
           "motown"
          ],
          [
           "mountain dulcimer"
          ],
          [
           "music box"
          ],
          [
           "musica folk asturiana"
          ],
          [
           "musikkorps"
          ],
          [
           "nashville americana"
          ],
          [
           "nashville singer-songwriter"
          ],
          [
           "nashville sound"
          ],
          [
           "native american"
          ],
          [
           "native american contemporary"
          ],
          [
           "native american flute"
          ],
          [
           "native american spiritual"
          ],
          [
           "navajo"
          ],
          [
           "neo-pagan"
          ],
          [
           "neo-traditional bluegrass"
          ],
          [
           "new americana"
          ],
          [
           "new england americana"
          ],
          [
           "new mexico music"
          ],
          [
           "newfoundland indie"
          ],
          [
           "nl folk"
          ],
          [
           "nordic post-rock"
          ],
          [
           "north carolina indie"
          ],
          [
           "north carolina roots"
          ],
          [
           "northumbrian folk"
          ],
          [
           "novelty"
          ],
          [
           "nz pop"
          ],
          [
           "nz singer-songwriter"
          ],
          [
           "old west"
          ],
          [
           "old-time"
          ],
          [
           "ottawa indie"
          ],
          [
           "outlaw country"
          ],
          [
           "pei indie"
          ],
          [
           "persian pop"
          ],
          [
           "persian rock"
          ],
          [
           "piedmont blues"
          ],
          [
           "polka"
          ],
          [
           "pop quebecois"
          ],
          [
           "portland indie"
          ],
          [
           "powwow"
          ],
          [
           "progressive bluegrass"
          ],
          [
           "protest folk"
          ],
          [
           "psychedelic folk"
          ],
          [
           "psychedelic folk rock"
          ],
          [
           "queer country"
          ],
          [
           "red dirt"
          ],
          [
           "romantico"
          ],
          [
           "roots americana"
          ],
          [
           "roots rock"
          ],
          [
           "roots worship"
          ],
          [
           "santa fe indie"
          ],
          [
           "saskatchewan indie"
          ],
          [
           "scottish americana"
          ],
          [
           "scottish fiddle"
          ],
          [
           "scottish folk"
          ],
          [
           "scottish gaelic folk"
          ],
          [
           "sesame street"
          ],
          [
           "shanty"
          ],
          [
           "singaporean mandopop"
          ],
          [
           "singaporean pop"
          ],
          [
           "singaporean singer-songwriter"
          ],
          [
           "singer-songwriter"
          ],
          [
           "skiffle"
          ],
          [
           "slack-key guitar"
          ],
          [
           "south carolina indie"
          ],
          [
           "southern americana"
          ],
          [
           "southern gospel"
          ],
          [
           "spanish folk"
          ],
          [
           "speed garage"
          ],
          [
           "spirituals"
          ],
          [
           "stl indie"
          ],
          [
           "stomp and flutter"
          ],
          [
           "stomp and holler"
          ],
          [
           "string band"
          ],
          [
           "string folk"
          ],
          [
           "swamp pop"
          ],
          [
           "swiss country"
          ],
          [
           "texas blues"
          ],
          [
           "texas country"
          ],
          [
           "toronto indie"
          ],
          [
           "traditional bluegrass"
          ],
          [
           "traditional blues"
          ],
          [
           "traditional british folk"
          ],
          [
           "traditional country"
          ],
          [
           "traditional english folk"
          ],
          [
           "traditional folk"
          ],
          [
           "traditional irish singing"
          ],
          [
           "trikiti"
          ],
          [
           "truck-driving country"
          ],
          [
           "tucson indie"
          ],
          [
           "uilleann pipes"
          ],
          [
           "uk americana"
          ],
          [
           "utah indie"
          ],
          [
           "vancouver indie"
          ],
          [
           "vbs"
          ],
          [
           "vintage country folk"
          ],
          [
           "vintage gospel"
          ],
          [
           "vintage old-time"
          ],
          [
           "vintage western"
          ],
          [
           "vocal harmony group"
          ],
          [
           "waiata mo tamariki"
          ],
          [
           "washboard"
          ],
          [
           "western americana"
          ],
          [
           "western swing"
          ],
          [
           "yodeling"
          ],
          [
           "yorkshire folk"
          ],
          [
           "zydeco"
          ]
         ],
         "hovertemplate": "supergenre=folk<br>emb1=%{x}<br>emb2=%{y}<br>genre=%{customdata[0]}<extra></extra>",
         "legendgroup": "folk",
         "marker": {
          "color": "#00cc96",
          "size": 6,
          "symbol": "circle"
         },
         "mode": "markers",
         "name": "folk",
         "showlegend": true,
         "type": "scattergl",
         "x": [
          2.859061,
          2.7981126,
          2.76955,
          2.7782078,
          2.8367107000000003,
          2.8622484,
          2.737818,
          3.1518822,
          3.2285411,
          4.270174,
          3.0256197,
          3.0187732999999994,
          3.517042,
          3.4624546,
          3.4787437999999997,
          3.5979323,
          3.5603259,
          3.6938093,
          3.7422647000000007,
          3.526603,
          3.238571,
          3.6421766,
          3.417027,
          3.2498150000000003,
          3.073862,
          3.4488008000000003,
          2.9114175,
          3.2235167,
          3.6962538,
          5.055517,
          3.1227865,
          -4.130311,
          3.6351824,
          3.7277894,
          3.616261,
          3.2583091,
          3.191439,
          4.321333,
          4.4745812,
          3.6242995,
          4.082797,
          3.3630636,
          3.1481552,
          3.4425375,
          4.3989983,
          3.4100676,
          3.0304704,
          3.040236,
          4.379142,
          3.7230937000000006,
          3.548838,
          3.2825668,
          2.9216597,
          3.3003370000000003,
          -4.524253400000001,
          3.576142,
          2.889651,
          4.477820400000001,
          4.394751,
          3.204753,
          3.3669727,
          6.555235000000001,
          4.6193967,
          3.189376,
          3.089839200000001,
          3.6323643,
          4.536395,
          3.0395827,
          3.2703784,
          3.438532,
          3.1616206,
          3.2325778,
          3.5449834000000005,
          3.1081252,
          3.5189512,
          3.0817263,
          3.0626452,
          3.340986,
          2.2675965,
          3.2940874,
          3.885238,
          3.4743316,
          3.1117187000000004,
          3.2670348,
          0.0022573913,
          3.371797,
          2.1827810000000003,
          3.574284,
          3.2327614,
          3.9248583,
          1.0259455,
          3.9057293,
          3.477414,
          2.7715564,
          3.493489,
          3.139538,
          3.6770704,
          3.3453977,
          4.832321,
          4.434685,
          -4.1645856,
          -4.1231837,
          4.669624,
          1.0746011999999998,
          4.1003237,
          3.7809772000000006,
          4.2202435,
          3.253699,
          2.775464,
          -0.4173210999999999,
          4.334171,
          3.7854118,
          4.9473414,
          3.2943108,
          3.4588730000000005,
          3.6239648,
          2.6210883,
          3.5360687000000004,
          4.5088763,
          4.4863977,
          4.4289117,
          4.470737000000001,
          4.45524,
          4.521217299999999,
          4.4394116,
          4.5102487,
          4.421996,
          4.513283299999999,
          4.432233,
          4.497863300000001,
          3.2372682,
          4.5176945,
          3.0853033,
          3.6210845,
          3.5394902000000004,
          4.55617,
          3.2691042,
          3.695894,
          3.3302774,
          3.5736227,
          3.2757862,
          2.7946868,
          3.4249818,
          6.149406,
          4.4861445,
          3.1211102000000004,
          3.6985505,
          1.063173,
          0.95024234,
          1.0990007,
          3.6917145,
          3.047672,
          4.027101,
          3.4612086000000004,
          3.4929914,
          3.6719158,
          3.7289288,
          3.0680928,
          3.6084123,
          3.6713922,
          3.4977024,
          3.5309987,
          2.1422882000000003,
          3.6438684,
          4.4409103,
          4.468824,
          3.290007,
          3.4680698,
          3.4743699999999995,
          3.193667,
          3.3981636,
          3.2812755,
          3.4652948,
          3.3745294,
          3.4176002,
          4.299785,
          3.648549,
          3.5102594,
          3.401079,
          3.225545,
          3.7918246,
          4.4933496,
          5.1440535,
          3.5285910000000005,
          3.54436,
          4.143904,
          3.1011965,
          2.910201,
          2.8503768,
          2.786318,
          3.6276364,
          3.5024211000000003,
          3.3199803999999995,
          3.1433887,
          3.2723224,
          3.3637192,
          3.2222621,
          3.2845783,
          4.5400147,
          3.5237190000000003,
          3.358708,
          3.6913705,
          3.4482708,
          3.8216772,
          3.3203814,
          3.1714919,
          3.3557242999999994,
          2.7522342,
          3.3723238,
          3.4480019,
          6.5712676,
          3.0129626,
          3.5658607000000004,
          3.888536,
          4.438974,
          4.4275427,
          4.4893813,
          2.8537796,
          4.5668254,
          3.2730458,
          3.226141,
          3.233879,
          3.2976832000000003,
          2.9707289,
          -0.44769743,
          3.1605716,
          3.491546,
          3.2981603,
          -4.153254,
          0.019371122,
          3.1651290000000003,
          3.469707,
          3.3489678,
          3.5684066,
          3.6628416,
          4.235691,
          3.056111,
          3.692371,
          3.2486916,
          3.3810036,
          3.3957343,
          3.6674898,
          3.2388442000000004,
          4.198106299999999,
          3.3932095,
          3.9659438,
          3.478311,
          4.4766974,
          -4.1224513,
          3.4803188,
          3.5890374,
          4.432779,
          3.5968199,
          3.195231,
          3.5115223,
          2.7844355,
          3.5282135,
          3.4315958,
          3.5096392999999995,
          3.4230752,
          3.0752787999999995,
          2.8966308,
          3.2149117,
          3.6229413,
          3.4087052000000004,
          3.3003705,
          4.0141478,
          3.02874
         ],
         "xaxis": "x",
         "y": [
          5.533934599999999,
          5.6068425,
          5.6213417,
          5.637851,
          5.662568,
          5.9680824,
          5.683661,
          5.6773715,
          4.233671,
          1.9051439,
          6.135448,
          5.299521,
          5.9498053,
          5.706704,
          5.7586956,
          5.752765,
          4.5811005,
          5.0648665,
          6.9975224,
          4.3724313,
          5.2625175,
          6.1481667,
          5.5703235,
          5.569703,
          5.420585,
          5.5911083,
          5.3342404000000005,
          5.175826,
          4.4022727,
          4.7042484,
          4.1658306000000005,
          6.2158284,
          4.3933372,
          4.401622,
          4.393488400000001,
          4.7641506,
          5.8369904,
          4.8315473,
          4.7634053,
          5.858363,
          4.966928,
          6.171039599999999,
          5.7968216,
          6.533616,
          2.265226,
          5.832277,
          5.283423,
          5.4340873,
          5.3430653,
          6.259138,
          6.046093,
          5.6845145,
          5.8801856,
          5.665311,
          5.7921824,
          6.3100224,
          5.5677433,
          4.744239,
          4.4338636,
          6.361415,
          5.348435,
          7.837026600000001,
          6.265149,
          5.290253,
          5.0242724,
          4.3085403,
          4.752283599999999,
          5.2109933,
          5.568651,
          5.357075,
          5.1367764000000005,
          4.2698197,
          4.411198000000001,
          5.275932,
          4.3662167,
          5.1537194,
          5.2512336,
          5.2138395,
          5.822365799999999,
          4.85351,
          5.2312818,
          5.803159,
          5.2900167,
          4.359424,
          6.2507153,
          6.544992,
          3.793117,
          5.902501999999999,
          4.258125,
          6.076766,
          2.8429232000000004,
          5.0589523000000005,
          6.5420237,
          3.2961059,
          6.1813216,
          5.714565,
          4.8799220000000005,
          5.376052400000001,
          6.634939699999999,
          4.7586308,
          6.1584287,
          6.2050540000000005,
          4.822422,
          2.7528875,
          6.012645200000001,
          6.2772713,
          4.459031,
          4.740454,
          3.4135754,
          3.4011228,
          5.992687,
          2.4503603,
          7.230971,
          6.12639,
          6.1006794,
          4.7730665,
          6.225813,
          6.1442190000000005,
          4.7426796,
          4.805153400000001,
          4.7060447,
          4.7563977,
          4.717441,
          4.77366,
          4.7466493,
          4.7722387,
          4.678385,
          4.791628,
          4.7337940000000005,
          4.7739234,
          6.3259172,
          4.804543499999999,
          6.23188,
          4.9828277000000005,
          4.81047,
          4.8015037000000005,
          4.2823877,
          6.336069599999999,
          5.282916,
          4.4091253,
          5.1445518,
          5.623259,
          6.24078,
          1.3230485,
          5.7046165,
          5.8115973,
          6.2755556,
          2.8495023,
          2.875446,
          2.8486805,
          4.391214,
          5.3570023,
          6.6281023,
          6.3560925,
          5.578366,
          6.8576508,
          7.005,
          5.188956,
          6.190881299999999,
          4.5006037,
          5.42461,
          6.605396300000001,
          3.8599212,
          4.5643806,
          2.3769212000000004,
          4.7398596,
          5.274883999999999,
          5.7738333,
          5.681312,
          5.1613693,
          5.139929,
          5.5113053,
          5.0274153,
          5.203039,
          5.156061599999999,
          4.504683,
          4.3980837,
          5.753403700000001,
          5.770955000000001,
          5.072560299999999,
          6.123412999999999,
          5.048405000000001,
          3.8731148,
          5.989582,
          5.817603,
          4.951005,
          5.230459,
          5.9054294,
          5.9973083,
          3.4151673,
          4.4083915000000005,
          6.037602400000001,
          5.2955914,
          5.6750317,
          5.2415504,
          5.2268360000000005,
          4.2818594,
          5.1782684,
          5.3982835,
          6.187687,
          5.3534665,
          4.4616337,
          4.737824400000001,
          5.2556148,
          5.343585,
          5.6356416,
          5.3176427,
          3.3285356,
          5.431491,
          5.5308557,
          7.830175,
          6.053683299999999,
          5.9479885,
          6.658453999999999,
          4.687649700000001,
          4.766577,
          4.794691,
          5.6122627,
          4.917258,
          5.6113324,
          5.646281200000001,
          5.673978,
          5.557711599999999,
          4.679654599999999,
          3.4122856,
          6.0968294,
          5.631078,
          3.3151135000000003,
          6.1901426,
          6.1450367,
          4.179448000000001,
          6.566499,
          6.1387773,
          6.3067546,
          4.3937683,
          4.473212999999999,
          4.61806,
          4.469534400000001,
          4.350072,
          5.3493385,
          5.745555,
          4.404937,
          4.297758999999999,
          4.914815,
          4.6014585,
          5.0669627,
          4.370597,
          4.7996593,
          6.2236485,
          5.416604,
          5.639806299999999,
          4.782624,
          5.893371599999999,
          6.003856,
          6.571875,
          5.6049404,
          4.287451,
          4.1663947,
          4.347822,
          4.583444999999999,
          3.7379553,
          5.981932,
          4.320303400000001,
          6.107303,
          4.6546926,
          4.6214957000000005,
          5.078291,
          4.543627
         ],
         "yaxis": "y"
        },
        {
         "customdata": [
          [
           "\"canzone dautore\""
          ],
          [
           "acousmatic"
          ],
          [
           "aggrotech"
          ],
          [
           "alternative emo"
          ],
          [
           "ambient fusion"
          ],
          [
           "ambient industrial"
          ],
          [
           "american 21st century classical"
          ],
          [
           "american post-rock"
          ],
          [
           "american shoegaze"
          ],
          [
           "anime"
          ],
          [
           "anime score"
          ],
          [
           "argentine indie"
          ],
          [
           "art punk"
          ],
          [
           "atmospheric post-rock"
          ],
          [
           "audiophile vocal"
          ],
          [
           "australian experimental"
          ],
          [
           "australian post-punk"
          ],
          [
           "australian post-rock"
          ],
          [
           "austrian punk"
          ],
          [
           "background music"
          ],
          [
           "balkan hip hop"
          ],
          [
           "bangladeshi rock"
          ],
          [
           "basel indie"
          ],
          [
           "beat poetry"
          ],
          [
           "bedroom pop"
          ],
          [
           "belgian contemporary classical"
          ],
          [
           "belgian experimental"
          ],
          [
           "belgian new wave"
          ],
          [
           "belgian post-rock"
          ],
          [
           "belgian stoner rock"
          ],
          [
           "bergamo indie"
          ],
          [
           "berlin school"
          ],
          [
           "bern indie"
          ],
          [
           "blackened hardcore"
          ],
          [
           "bleep techno"
          ],
          [
           "bosnian indie"
          ],
          [
           "boston electronic"
          ],
          [
           "bouzouki"
          ],
          [
           "bow pop"
          ],
          [
           "bristol indie"
          ],
          [
           "british experimental"
          ],
          [
           "british industrial"
          ],
          [
           "british post-rock"
          ],
          [
           "c-pop"
          ],
          [
           "c86"
          ],
          [
           "canadian post-hardcore"
          ],
          [
           "canadian post-rock"
          ],
          [
           "canadian psychedelic"
          ],
          [
           "canadian psychedelic rock"
          ],
          [
           "canadian rockabilly"
          ],
          [
           "canterbury scene"
          ],
          [
           "canti alpini"
          ],
          [
           "cantopop"
          ],
          [
           "canzone genovese"
          ],
          [
           "carnatic"
          ],
          [
           "cello"
          ],
          [
           "chaotic hardcore"
          ],
          [
           "charlotte nc indie"
          ],
          [
           "chicago hardcore"
          ],
          [
           "chicago punk"
          ],
          [
           "chinderlieder"
          ],
          [
           "chinese experimental"
          ],
          [
           "chinese indie"
          ],
          [
           "chinese indie pop"
          ],
          [
           "chinese indie rock"
          ],
          [
           "chinese post-punk"
          ],
          [
           "chinese post-rock"
          ],
          [
           "chinese punk"
          ],
          [
           "chinese traditional"
          ],
          [
           "christchurch indie"
          ],
          [
           "classic anime"
          ],
          [
           "classic cantopop"
          ],
          [
           "classic city pop"
          ],
          [
           "classic czech pop"
          ],
          [
           "classic israeli pop"
          ],
          [
           "classic italian folk pop"
          ],
          [
           "classic italian pop"
          ],
          [
           "classic j-pop"
          ],
          [
           "classic j-rock"
          ],
          [
           "classic latvian pop"
          ],
          [
           "classic mandopop"
          ],
          [
           "classical percussion"
          ],
          [
           "classify"
          ],
          [
           "cleveland indie"
          ],
          [
           "coldwave"
          ],
          [
           "collage pop"
          ],
          [
           "compositional ambient"
          ],
          [
           "corrosion"
          ],
          [
           "cosmic post-rock"
          ],
          [
           "croatian hip hop"
          ],
          [
           "croatian indie"
          ],
          [
           "croatian metal"
          ],
          [
           "croatian pop"
          ],
          [
           "croatian rock"
          ],
          [
           "czech contemporary classical"
          ],
          [
           "czech folk"
          ],
          [
           "czech indie"
          ],
          [
           "czech pop"
          ],
          [
           "czech punk"
          ],
          [
           "czech rock"
          ],
          [
           "danish electro"
          ],
          [
           "dark ambient"
          ],
          [
           "dark electro"
          ],
          [
           "dark electro-industrial"
          ],
          [
           "dark folk"
          ],
          [
           "dark jazz"
          ],
          [
           "dark wave"
          ],
          [
           "dc indie"
          ],
          [
           "death industrial"
          ],
          [
           "deathrock"
          ],
          [
           "deep hardcore punk"
          ],
          [
           "deep indie singer-songwriter"
          ],
          [
           "deep neofolk"
          ],
          [
           "deep orgcore"
          ],
          [
           "deep psychobilly"
          ],
          [
           "deep space rock"
          ],
          [
           "denpa-kei"
          ],
          [
           "detske pisnicky"
          ],
          [
           "diy emo"
          ],
          [
           "dortmund indie"
          ],
          [
           "dream pop"
          ],
          [
           "drone"
          ],
          [
           "drone folk"
          ],
          [
           "drone metal"
          ],
          [
           "drone psych"
          ],
          [
           "drone rock"
          ],
          [
           "dronescape"
          ],
          [
           "dub metal"
          ],
          [
           "dublin indie"
          ],
          [
           "duduk"
          ],
          [
           "dunedin sound"
          ],
          [
           "dusseldorf electronic"
          ],
          [
           "dutch folk"
          ],
          [
           "dutch stoner rock"
          ],
          [
           "early french punk"
          ],
          [
           "ebm"
          ],
          [
           "electro-industrial"
          ],
          [
           "electroacoustic improvisation"
          ],
          [
           "electronica argentina"
          ],
          [
           "emo mexicano"
          ],
          [
           "emo punk"
          ],
          [
           "emocore"
          ],
          [
           "emoviolence"
          ],
          [
           "entehno"
          ],
          [
           "estonian electronic"
          ],
          [
           "estonian indie"
          ],
          [
           "exotica"
          ],
          [
           "experimental"
          ],
          [
           "experimental ambient"
          ],
          [
           "experimental big band"
          ],
          [
           "experimental classical"
          ],
          [
           "experimental dub"
          ],
          [
           "experimental electronic"
          ],
          [
           "experimental folk"
          ],
          [
           "experimental guitar"
          ],
          [
           "experimental indie"
          ],
          [
           "experimental indie rock"
          ],
          [
           "experimental psych"
          ],
          [
           "experimental rock"
          ],
          [
           "field recording"
          ],
          [
           "finnish folk"
          ],
          [
           "finnish post-punk"
          ],
          [
           "firenze indie"
          ],
          [
           "focus"
          ],
          [
           "folk rock italiano"
          ],
          [
           "fourth world"
          ],
          [
           "frankfurt indie"
          ],
          [
           "freak folk"
          ],
          [
           "freakbeat"
          ],
          [
           "free folk"
          ],
          [
           "free improvisation"
          ],
          [
           "french folk"
          ],
          [
           "french post-punk"
          ],
          [
           "french post-rock"
          ],
          [
           "french stoner rock"
          ],
          [
           "futurepop"
          ],
          [
           "gaian doom"
          ],
          [
           "garage psych"
          ],
          [
           "garage punk"
          ],
          [
           "gbvfi"
          ],
          [
           "german prog"
          ],
          [
           "german shoegaze"
          ],
          [
           "german stoner rock"
          ],
          [
           "gothic rock"
          ],
          [
           "grave wave"
          ],
          [
           "greek contemporary classical"
          ],
          [
           "greek guitar"
          ],
          [
           "guidance"
          ],
          [
           "gundam"
          ],
          [
           "guzheng"
          ],
          [
           "gypsy punk"
          ],
          [
           "hardcore punk"
          ],
          [
           "hauntology"
          ],
          [
           "hawaiian indie"
          ],
          [
           "hawaiian punk"
          ],
          [
           "heavy psych"
          ],
          [
           "hong kong hip hop"
          ],
          [
           "hong kong indie"
          ],
          [
           "hong kong rock"
          ],
          [
           "hong kong tv drama"
          ],
          [
           "icelandic choir"
          ],
          [
           "icelandic classical"
          ],
          [
           "idol kayo"
          ],
          [
           "indie emo rock"
          ],
          [
           "indie folk italiano"
          ],
          [
           "indie fuzzpop"
          ],
          [
           "indie liguria"
          ],
          [
           "indie psychedelic rock"
          ],
          [
           "indie punk"
          ],
          [
           "indie rock italiano"
          ],
          [
           "indie shoegaze"
          ],
          [
           "indonesian shoegaze"
          ],
          [
           "indonesian worship"
          ],
          [
           "industrial"
          ],
          [
           "industrial hip hop"
          ],
          [
           "industrial noise"
          ],
          [
           "industrial rock"
          ],
          [
           "instrumental post-rock"
          ],
          [
           "instrumental stoner rock"
          ],
          [
           "iranian experimental"
          ],
          [
           "israeli mediterranean"
          ],
          [
           "israeli rock"
          ],
          [
           "italian adult pop"
          ],
          [
           "italian alternative"
          ],
          [
           "italian emo"
          ],
          [
           "italian folk"
          ],
          [
           "italian hip hop"
          ],
          [
           "italian indie pop"
          ],
          [
           "italian industrial"
          ],
          [
           "italian new wave"
          ],
          [
           "italian occult psychedelia"
          ],
          [
           "italian pop"
          ],
          [
           "italian pop punk"
          ],
          [
           "italian pop rock"
          ],
          [
           "italian post punk"
          ],
          [
           "italian post-hardcore"
          ],
          [
           "italian progressive rock"
          ],
          [
           "italian reggae"
          ],
          [
           "italian underground hip hop"
          ],
          [
           "j-metal"
          ],
          [
           "j-pixie"
          ],
          [
           "j-poprock"
          ],
          [
           "japanese alternative rock"
          ],
          [
           "japanese classical"
          ],
          [
           "japanese contemporary classical"
          ],
          [
           "japanese disney"
          ],
          [
           "japanese emo"
          ],
          [
           "japanese experimental"
          ],
          [
           "japanese garage rock"
          ],
          [
           "japanese house"
          ],
          [
           "japanese indie rock"
          ],
          [
           "japanese math rock"
          ],
          [
           "japanese metalcore"
          ],
          [
           "japanese new wave"
          ],
          [
           "japanese piano"
          ],
          [
           "japanese post-hardcore"
          ],
          [
           "japanese post-punk"
          ],
          [
           "japanese post-rock"
          ],
          [
           "japanese prog"
          ],
          [
           "japanese psychedelic"
          ],
          [
           "japanese psychedelic rock"
          ],
          [
           "japanese soundtrack"
          ],
          [
           "japanese vgm"
          ],
          [
           "japanoise"
          ],
          [
           "jazz harp"
          ],
          [
           "jazzcore"
          ],
          [
           "kc indie"
          ],
          [
           "klapa"
          ],
          [
           "krautrock"
          ],
          [
           "kyushu indie"
          ],
          [
           "laboratorio"
          ],
          [
           "language"
          ],
          [
           "latin american heavy psych"
          ],
          [
           "latin shoegaze"
          ],
          [
           "latvian hip hop"
          ],
          [
           "latvian indie"
          ],
          [
           "latvian pop"
          ],
          [
           "latvian rock"
          ],
          [
           "leipzig indie"
          ],
          [
           "lesen"
          ],
          [
           "lo-fi"
          ],
          [
           "lo-fi indie"
          ],
          [
           "london indie"
          ],
          [
           "louisville underground"
          ],
          [
           "lowercase"
          ],
          [
           "macedonian indie"
          ],
          [
           "macross"
          ],
          [
           "maine indie"
          ],
          [
           "malaysian mandopop"
          ],
          [
           "mandible"
          ],
          [
           "mandopop"
          ],
          [
           "martial industrial"
          ],
          [
           "massage"
          ],
          [
           "math rock"
          ],
          [
           "medieval folk"
          ],
          [
           "melbourne indie"
          ],
          [
           "microtonal"
          ],
          [
           "midwest emo"
          ],
          [
           "milan indie"
          ],
          [
           "milwaukee indie"
          ],
          [
           "minimal synth"
          ],
          [
           "minimal wave"
          ],
          [
           "minimalism"
          ],
          [
           "mizrahi"
          ],
          [
           "mluvene slovo"
          ],
          [
           "modern cello"
          ],
          [
           "modern jangle pop"
          ],
          [
           "montana indie"
          ],
          [
           "montana roots"
          ],
          [
           "moog"
          ],
          [
           "mundart"
          ],
          [
           "musica calabrese"
          ],
          [
           "musica etnica"
          ],
          [
           "musica lombarda"
          ],
          [
           "musica occitana"
          ],
          [
           "musica per bambini"
          ],
          [
           "musica piemonteisa"
          ],
          [
           "musica roraimense"
          ],
          [
           "musica sarda"
          ],
          [
           "musique concrete"
          ],
          [
           "nashville indie"
          ],
          [
           "neo-progressive"
          ],
          [
           "neo-psychedelic"
          ],
          [
           "neoclassical darkwave"
          ],
          [
           "neofolk"
          ],
          [
           "neue deutsche todeskunst"
          ],
          [
           "neue deutsche welle"
          ],
          [
           "new beat"
          ],
          [
           "new brunswick indie"
          ],
          [
           "new england experimental"
          ],
          [
           "new hampshire indie"
          ],
          [
           "new isolationism"
          ],
          [
           "new weird america"
          ],
          [
           "new weird finland"
          ],
          [
           "nice indie"
          ],
          [
           "nightrun"
          ],
          [
           "no wave"
          ],
          [
           "noise"
          ],
          [
           "noise punk"
          ],
          [
           "noise rock"
          ],
          [
           "noisecore"
          ],
          [
           "nordic folk"
          ],
          [
           "normal indie"
          ],
          [
           "norwegian alternative rock"
          ],
          [
           "norwegian contemporary jazz"
          ],
          [
           "nu age"
          ],
          [
           "okinawan pop"
          ],
          [
           "oklahoma country"
          ],
          [
           "olympia wa indie"
          ],
          [
           "orebro indie"
          ],
          [
           "organic ambient"
          ],
          [
           "oshare kei"
          ],
          [
           "oslo indie"
          ],
          [
           "outsider"
          ],
          [
           "outsider house"
          ],
          [
           "paracana"
          ],
          [
           "philly indie"
          ],
          [
           "pipa"
          ],
          [
           "plunderphonics"
          ],
          [
           "pokemon"
          ],
          [
           "polish ambient"
          ],
          [
           "polish folk"
          ],
          [
           "pop virale italiano"
          ],
          [
           "popgaze"
          ],
          [
           "portland punk"
          ],
          [
           "portuguese experimental"
          ],
          [
           "portuguese post-rock"
          ],
          [
           "post-doom metal"
          ],
          [
           "post-hardcore"
          ],
          [
           "post-metal"
          ],
          [
           "post-post-hardcore"
          ],
          [
           "post-punk"
          ],
          [
           "post-rock"
          ],
          [
           "power electronics"
          ],
          [
           "power noise"
          ],
          [
           "progressive post-hardcore"
          ],
          [
           "proto-techno"
          ],
          [
           "psych gaze"
          ],
          [
           "psychedelic doom"
          ],
          [
           "psychedelic jazz fusion"
          ],
          [
           "psychedelic space rock"
          ],
          [
           "psychobilly"
          ],
          [
           "r&b italiano"
          ],
          [
           "raga rock"
          ],
          [
           "rap napoletano"
          ],
          [
           "rap tunisien"
          ],
          [
           "rhythm game"
          ],
          [
           "riot grrrl"
          ],
          [
           "ritual ambient"
          ],
          [
           "rock gotico"
          ],
          [
           "rock in opposition"
          ],
          [
           "rock noise"
          ],
          [
           "rock progresivo mexicano"
          ],
          [
           "rock progressif francais"
          ],
          [
           "rome indie"
          ],
          [
           "rune folk"
          ],
          [
           "russian hardcore"
          ],
          [
           "russian oi"
          ],
          [
           "russian pop punk"
          ],
          [
           "russian post-rock"
          ],
          [
           "russian punk"
          ],
          [
           "russian shoegaze"
          ],
          [
           "russian ska"
          ],
          [
           "sami"
          ],
          [
           "schweizer rap"
          ],
          [
           "screamo"
          ],
          [
           "screamocore"
          ],
          [
           "seiyu"
          ],
          [
           "serbian alternative rock"
          ],
          [
           "serbian hip hop"
          ],
          [
           "serbian indie"
          ],
          [
           "shamisen"
          ],
          [
           "singaporean indie"
          ],
          [
           "singaporean metal"
          ],
          [
           "singaporean punk"
          ],
          [
           "sitar"
          ],
          [
           "skramz"
          ],
          [
           "slovak folk"
          ],
          [
           "slovak pop"
          ],
          [
           "slovak rock"
          ],
          [
           "slovenian indie"
          ],
          [
           "slovenian pop"
          ],
          [
           "slovenian rock"
          ],
          [
           "slowcore"
          ],
          [
           "song poem"
          ],
          [
           "sound art"
          ],
          [
           "sound collage"
          ],
          [
           "sound team"
          ],
          [
           "southeast asian post-rock"
          ],
          [
           "southern china indie"
          ],
          [
           "soviet synthpop"
          ],
          [
           "space age pop"
          ],
          [
           "space rock"
          ],
          [
           "spanish experimental"
          ],
          [
           "spanish post-punk"
          ],
          [
           "spanish post-rock"
          ],
          [
           "spanish progressive rock"
          ],
          [
           "spiritual jazz"
          ],
          [
           "steampunk"
          ],
          [
           "street punk"
          ],
          [
           "super sentai"
          ],
          [
           "svensk indie"
          ],
          [
           "swancore"
          ],
          [
           "swansea indie"
          ],
          [
           "swedish emo"
          ],
          [
           "swedish experimental"
          ],
          [
           "swedish hardcore"
          ],
          [
           "swedish post-hardcore"
          ],
          [
           "swedish psychedelic rock"
          ],
          [
           "swedish rock-and-roll"
          ],
          [
           "swing italiano"
          ],
          [
           "swiss alternative rock"
          ],
          [
           "swiss experimental"
          ],
          [
           "swiss folk"
          ],
          [
           "swiss hip hop"
          ],
          [
           "swiss indie"
          ],
          [
           "swiss indie folk"
          ],
          [
           "swiss reggae"
          ],
          [
           "swiss rock"
          ],
          [
           "synth punk"
          ],
          [
           "taiko"
          ],
          [
           "taiwan campus folk"
          ],
          [
           "taiwan hip hop"
          ],
          [
           "taiwan idol pop"
          ],
          [
           "taiwan indie"
          ],
          [
           "taiwan pop"
          ],
          [
           "taiwan singer-songwriter"
          ],
          [
           "tampa indie"
          ],
          [
           "tape club"
          ],
          [
           "tarantella"
          ],
          [
           "techno kayo"
          ],
          [
           "tennessee experimental"
          ],
          [
           "texas punk"
          ],
          [
           "touken ranbu"
          ],
          [
           "turin indie"
          ],
          [
           "twee indie pop"
          ],
          [
           "twee pop"
          ],
          [
           "tzadik"
          ],
          [
           "uk dub"
          ],
          [
           "uk noise rock"
          ],
          [
           "uk post-metal"
          ],
          [
           "uk post-punk"
          ],
          [
           "ukhc"
          ],
          [
           "ukrainian pop"
          ],
          [
           "umea hardcore"
          ],
          [
           "uppsala indie"
          ],
          [
           "uruguayan indie"
          ],
          [
           "utah metal"
          ],
          [
           "vegan straight edge"
          ],
          [
           "vermont indie"
          ],
          [
           "viking folk"
          ],
          [
           "vintage chinese pop"
          ],
          [
           "west virginia indie"
          ],
          [
           "witch house"
          ],
          [
           "yoga"
          ],
          [
           "yugoslav new wave"
          ],
          [
           "yugoslav rock"
          ],
          [
           "zeuhl"
          ],
          [
           "zolo"
          ]
         ],
         "hovertemplate": "supergenre=experimental<br>emb1=%{x}<br>emb2=%{y}<br>genre=%{customdata[0]}<extra></extra>",
         "legendgroup": "experimental",
         "marker": {
          "color": "#ab63fa",
          "size": 6,
          "symbol": "circle"
         },
         "mode": "markers",
         "name": "experimental",
         "showlegend": true,
         "type": "scattergl",
         "x": [
          7.430097,
          3.2649307,
          5.511415,
          5.035923,
          4.061996,
          5.109318,
          3.5770690000000003,
          4.7524953000000005,
          3.5333476000000004,
          6.7801,
          6.722985,
          -4.6445947,
          4.334717299999999,
          4.7454753,
          2.8905687,
          1.602274,
          4.5877833,
          4.735812999999999,
          4.553831,
          1.8774377,
          7.5824637,
          4.614302599999999,
          9.101284,
          0.2874720999999999,
          3.7772586,
          3.6074674,
          4.4570556,
          5.658347,
          4.754872,
          4.4127645,
          7.469133,
          4.184262,
          4.4083285000000005,
          5.275622,
          4.3652773,
          7.578740600000001,
          1.5446464,
          1.2826117,
          4.1429486,
          3.4541410000000003,
          4.943417,
          5.020053400000001,
          4.4056787,
          8.640919,
          3.6789863,
          5.088298,
          4.494221,
          4.263992,
          3.5784432999999995,
          4.460776,
          4.1306167,
          7.425202,
          8.614024,
          7.407717699999999,
          6.684528,
          5.801384,
          5.450650700000001,
          4.6617265,
          5.2746353,
          5.2595882000000005,
          9.140072,
          8.579783,
          8.617558500000001,
          8.575219,
          8.586363,
          8.589682,
          8.555531,
          8.460169,
          3.4606755,
          3.8523197,
          6.727622,
          8.616291,
          6.671932000000001,
          6.114994,
          6.642609599999999,
          7.373936,
          7.420597,
          6.711047,
          5.9082627,
          3.1071615,
          8.635374,
          3.4124053,
          4.3828573,
          3.8736017,
          5.318436,
          3.5856948,
          3.6969678,
          5.4209347,
          4.450238,
          7.5794854,
          7.5608225,
          7.570525599999999,
          7.583011,
          7.595645399999999,
          3.60588,
          6.112259,
          6.087611,
          6.092668,
          6.1013203,
          6.109594,
          5.5311656,
          5.117760700000001,
          5.535091400000001,
          5.439962,
          5.2868547,
          4.985231,
          5.4449906,
          4.463362999999999,
          5.177976,
          5.4169,
          5.3918195,
          9.10416,
          4.919082,
          5.0973024,
          4.34998,
          4.262073,
          6.765436599999999,
          6.1224337,
          5.030942,
          8.018158,
          3.580159,
          1.6369336,
          3.7105865,
          5.301377,
          3.527683,
          3.8435683,
          5.1451125,
          4.950335,
          3.7482893,
          5.938399,
          3.775571,
          2.159322,
          5.37746,
          4.3183784,
          5.378663,
          5.4757233,
          5.464966,
          1.6667892,
          -4.294106,
          5.2631373,
          4.973358,
          5.006685,
          5.182062999999999,
          1.3221953000000002,
          3.4696755,
          3.426527,
          2.9436069,
          4.5949993,
          1.689489,
          2.5300958,
          3.964883,
          -0.21058734,
          1.4426593,
          3.4912016,
          1.8232094,
          4.166844,
          4.2215447,
          3.3944193999999994,
          4.6297684,
          1.6492711,
          5.179062999999999,
          4.847309,
          7.301458999999999,
          1.9305624,
          7.420955,
          1.5907613,
          5.4137115,
          3.5991660000000003,
          3.7603495,
          3.547334,
          2.7335844,
          5.323731400000001,
          5.326618,
          4.6282544,
          4.3093877,
          5.501506299999999,
          5.269424400000001,
          3.7751274,
          4.6763453,
          3.9125607,
          4.138031,
          3.500544,
          4.3887987,
          5.370502,
          2.615518,
          1.3187643999999998,
          1.2884663,
          7.5927367,
          6.7473410000000005,
          3.489435,
          6.9935026,
          5.4738903,
          4.1523056,
          4.5302258,
          4.6484237,
          4.4867864,
          8.633344000000001,
          8.603330999999999,
          8.567705,
          8.564974000000001,
          5.219283,
          3.956017,
          6.701689699999999,
          4.939694,
          7.430393,
          3.791661,
          7.463436,
          3.8881414,
          4.2965064,
          7.4328156,
          3.475275,
          4.765278299999999,
          0.041722603,
          5.219151999999999,
          1.3242973999999998,
          5.1707196,
          5.3684273000000005,
          4.752831,
          4.365696,
          5.101419,
          6.7085724,
          6.646428,
          7.418640600000001,
          7.396870599999999,
          5.349737999999999,
          7.2184157,
          7.480766,
          7.459637,
          5.3084583,
          7.297203,
          3.1933317000000003,
          7.448311,
          7.445031599999999,
          7.377547,
          5.5018353,
          5.3107104000000005,
          4.2552023000000005,
          7.4273443,
          7.4777436,
          6.777001400000001,
          6.7675467000000005,
          6.748109299999999,
          6.565401,
          6.636821,
          6.7107315000000005,
          6.765822,
          5.8354983,
          3.383863,
          6.66975,
          1.5019408,
          6.574375,
          4.8534408,
          6.796436999999999,
          6.795768700000001,
          1.6006806,
          5.7225127,
          6.1405015,
          5.527065,
          4.8164415,
          4.910410400000001,
          5.1266823,
          6.609242,
          6.7086820000000005,
          4.7809567,
          2.5411634,
          5.2072678,
          4.9151444,
          7.576207000000001,
          4.123526999999999,
          6.7006493,
          3.2577214,
          7.623125999999999,
          4.288479,
          -4.682611,
          3.131605,
          3.0707664,
          3.086471,
          3.064857,
          5.348538400000001,
          8.846835,
          3.8724222,
          3.8387103,
          4.2894177,
          4.486408,
          1.6296239,
          7.479897999999999,
          6.6900325,
          3.6784704,
          8.618147,
          1.5719074,
          8.635375999999999,
          5.288443599999999,
          4.432493,
          4.611682,
          5.3009357,
          3.5751786,
          3.3911753,
          4.9307823,
          7.479269500000001,
          4.850905,
          5.206898000000001,
          5.257061,
          3.5739684,
          6.6427684000000005,
          6.101882499999999,
          5.50223,
          3.755525,
          4.812732,
          4.796903599999999,
          2.956408,
          9.139178,
          7.345569,
          7.090670599999999,
          7.430575,
          5.3832865,
          7.4463944,
          7.3643193,
          4.2168307,
          7.3762984,
          3.2458522000000003,
          3.907072,
          4.2070556,
          3.7248752,
          5.333158999999999,
          5.2835307,
          5.39496,
          7.8801723,
          5.5039563,
          3.6429052,
          1.5435929,
          5.2795467,
          4.877063,
          3.6094937000000007,
          4.801191,
          5.421053400000001,
          4.095409399999999,
          4.635918599999999,
          5.068376,
          4.468407599999999,
          4.4462805,
          5.656062599999999,
          5.2518477,
          5.236143599999999,
          5.762808000000001,
          5.68314,
          1.6360416000000002,
          6.7760973,
          3.320232,
          3.9663548,
          4.3856697,
          4.1798825,
          6.768085000000001,
          5.106937,
          4.3046184,
          1.0337667,
          4.007094,
          4.160704,
          3.4865453,
          1.1690421,
          6.7734485,
          1.5823648,
          5.3604894,
          7.5050893,
          3.444861,
          4.86585,
          1.5859146000000002,
          4.454793,
          5.258463,
          4.71632,
          5.2780905,
          5.1615095,
          4.443852,
          4.6773343,
          5.132621,
          5.450257,
          5.1021113,
          5.610999,
          3.5557617999999995,
          4.3991942,
          1.8825182,
          4.1530676,
          4.3699675,
          7.495492,
          6.2951183,
          7.4921637,
          7.476338,
          6.7899923,
          3.9902008,
          4.9397907,
          5.491845,
          4.4513907,
          4.4143667,
          1.7533523999999998,
          4.203968499999999,
          7.453348599999999,
          5.3189754,
          6.28868,
          6.3099704,
          6.235899,
          4.7288146,
          6.256558,
          3.49594,
          6.249919,
          5.2436132,
          9.137486,
          5.242135500000001,
          5.1487155,
          6.747484,
          7.568604,
          7.5901685,
          7.6062574,
          6.71513,
          4.748664,
          5.2024584,
          4.7722690000000005,
          6.3871384,
          5.3325167,
          6.115625,
          6.1206656,
          6.106802,
          5.3723083,
          5.3527045,
          5.3671317,
          3.6999407,
          4.244044000000001,
          1.6122214,
          1.9199986,
          6.71893,
          4.758409,
          8.562408,
          2.9502542000000003,
          2.9265107999999995,
          4.335702400000001,
          1.5939363000000002,
          -4.455883,
          4.713401999999999,
          4.7012043,
          2.612436,
          5.702383,
          5.5784400000000005,
          6.7665243,
          4.4305330000000005,
          5.049252500000001,
          3.7517655,
          5.1408277,
          5.2102637000000005,
          5.680934,
          5.5047793,
          4.385715,
          3.8072278,
          7.427887400000001,
          9.108648,
          2.5964296,
          9.138657,
          9.136005,
          9.124618,
          9.11851,
          -0.23956452,
          9.124152,
          4.277991,
          6.2603,
          8.652391,
          8.6027155,
          8.620964,
          8.601333,
          8.619866,
          8.6156435,
          5.383074,
          3.702292700000001,
          7.137038,
          5.9888625,
          4.1474767,
          5.185033,
          6.734729300000001,
          7.447503999999999,
          3.719295,
          3.7600381,
          3.337412,
          -0.1702323999999999,
          4.265171499999999,
          5.278328,
          4.3303432,
          5.461214,
          6.138858,
          5.582885299999999,
          4.543801,
          -4.481945,
          5.458483,
          5.5951867,
          3.7036002,
          5.247288,
          8.648197,
          4.42841,
          2.7798266,
          4.5548997,
          7.5509334,
          7.556396,
          4.2482767,
          4.305939
         ],
         "xaxis": "x",
         "y": [
          2.6409402,
          2.303784,
          5.522032,
          7.2155976,
          5.381026,
          5.457487,
          2.2439032,
          6.2736855,
          7.251312299999999,
          5.714797,
          5.714141000000001,
          5.231242,
          6.2271504,
          6.201321599999999,
          2.9185839,
          5.133937,
          6.1393814,
          6.1906056,
          6.235266,
          4.981669999999999,
          4.4276605,
          6.766263499999999,
          3.1461217,
          7.7283893,
          6.704138799999999,
          2.2661104,
          5.894757,
          5.4906707,
          6.182282,
          8.642024000000001,
          2.6998935,
          5.4502172,
          6.3109927,
          8.394605,
          5.85168,
          4.441122,
          5.075697,
          6.9571204,
          2.3033168,
          7.1610155,
          5.6434965,
          5.6100426,
          6.406771,
          7.582008999999999,
          7.147713700000001,
          7.3425264000000015,
          6.299254,
          5.695393599999999,
          6.586263000000001,
          6.1485868,
          5.610758000000001,
          2.622644,
          7.5659246,
          2.6623495,
          1.3506435,
          5.12613,
          7.651608500000001,
          7.152013,
          6.9280057,
          6.931468499999999,
          3.063187,
          7.5407166,
          7.579824400000001,
          7.6051145,
          7.5512257,
          7.548615,
          7.522375,
          7.4366302,
          2.2296376,
          7.0302186,
          5.771641000000001,
          7.559102,
          5.969216,
          4.9947934,
          4.7683935,
          2.6624525,
          2.6794844,
          5.858187,
          5.8086343000000005,
          10.114788,
          7.5798783,
          2.1881952,
          2.2605193,
          6.9734106,
          5.2899194000000005,
          6.670159,
          2.3596091,
          5.042171,
          6.348217,
          4.440789,
          4.445765,
          4.449763,
          4.447519000000001,
          4.421242,
          1.9625452,
          5.001814,
          5.0117035,
          5.0043893,
          4.977017,
          4.999095,
          5.4143457,
          5.407742,
          5.4387126,
          5.4907330000000005,
          4.644207,
          5.6097302,
          5.16565,
          6.934736,
          5.584322,
          5.1063504,
          6.936609700000001,
          3.0796204,
          5.7311254,
          7.185255499999999,
          6.144657,
          8.464011,
          5.8494167,
          5.015035,
          7.3776073,
          6.0121083,
          6.967291400000001,
          5.172433,
          5.180433799999999,
          8.519445,
          6.511515599999999,
          6.9328227,
          5.232945,
          5.6852694,
          6.9710160000000005,
          1.0803056,
          7.096027,
          5.886339700000001,
          4.8658695,
          8.564133,
          5.2122827,
          5.5419,
          5.541239,
          5.189742,
          5.2675433,
          7.3137393,
          7.236845,
          7.2145686,
          7.3655214,
          6.905661599999999,
          7.288591999999999,
          7.280578,
          3.2388268,
          5.698371,
          5.059597,
          2.6667323,
          2.4702687,
          3.1052043,
          5.286366,
          6.4127245,
          5.072857,
          6.5612330000000005,
          6.614896300000001,
          6.484911,
          6.2674603,
          5.1185884,
          4.194764,
          10.629641,
          2.9017832,
          4.9652023000000005,
          2.6365125,
          5.2686195,
          6.6107320000000005,
          6.642361999999999,
          5.289471,
          6.416139599999999,
          2.5538278,
          4.782021,
          5.2791405,
          6.5269723,
          8.539602,
          5.461671,
          8.514827,
          6.9270744,
          6.640216400000001,
          6.9672074,
          5.4821625,
          7.212778,
          8.5601,
          5.1315875,
          6.826177599999999,
          6.902453,
          6.934934599999999,
          4.42815,
          5.7120147,
          2.1953611,
          4.512514599999999,
          6.962414,
          5.965325,
          7.133211,
          7.337700999999999,
          8.656317,
          7.5790915,
          7.564299,
          7.5284705,
          7.578645699999999,
          4.309756299999999,
          2.476282,
          5.901390599999999,
          7.233664999999999,
          2.751626,
          7.162389999999999,
          2.6785965,
          6.8988495,
          7.005594,
          2.6989777000000004,
          7.2310905,
          6.1732326,
          3.2858899,
          5.5789247,
          5.751069,
          5.5680190000000005,
          5.592578,
          6.226693,
          8.617144999999999,
          5.211223599999999,
          4.727732,
          4.760066,
          2.6651838,
          2.7548316,
          7.399850999999999,
          2.3968306,
          2.659509,
          2.6733902,
          5.802119,
          2.9430387,
          6.282343,
          2.6638668,
          2.6818829,
          2.6654859,
          5.0419784000000005,
          7.382978,
          5.4466176,
          2.7163663,
          2.6483505000000003,
          6.25525,
          5.8110766,
          5.914877,
          6.0535183,
          5.5666685,
          5.6318707,
          5.670567,
          6.661050299999999,
          2.7091074,
          6.0155783,
          5.268276,
          6.061357,
          6.727361,
          6.20394,
          6.167928,
          5.1869106,
          6.8183303,
          6.081960700000001,
          6.3557024,
          6.339816000000001,
          6.2798305,
          6.2269144,
          5.584553,
          5.619472,
          6.4337425,
          2.6228914,
          6.095824,
          7.214722599999999,
          4.445979,
          5.4990625,
          5.9359407,
          2.9951901000000003,
          4.404378400000001,
          8.395605999999999,
          5.1947317,
          10.121305,
          10.147047,
          10.143245,
          10.151881,
          4.892453700000001,
          5.1142597,
          7.0114546,
          6.888671,
          6.958417999999999,
          6.774403599999999,
          5.1188607,
          4.4713,
          5.832077,
          6.3691206,
          7.566461,
          5.199969,
          7.583945799999999,
          5.480914599999999,
          2.2447987,
          6.996292,
          4.733667,
          7.271366,
          2.305041,
          7.3166413,
          2.6583312,
          7.1910586,
          5.546451,
          5.463434,
          2.1485388,
          4.7781587,
          4.9998345,
          5.1701283,
          7.098855,
          6.114145,
          6.124135,
          3.352264,
          3.0649097000000003,
          2.6375610000000003,
          2.241466,
          2.6391912,
          4.8077865,
          2.678968,
          2.5660768,
          5.573523000000001,
          2.5851233,
          2.2773273,
          6.788317,
          5.545942,
          6.7450576,
          4.8290744000000005,
          5.1849356,
          5.021032,
          5.9023046,
          5.535232,
          6.611273,
          5.085887400000001,
          7.398152,
          5.626116000000001,
          6.4019365,
          10.510399,
          5.071535,
          5.6509914000000006,
          5.971392,
          5.7417307,
          6.63864,
          6.604968,
          7.8498755,
          4.197767,
          3.741802,
          3.5550747000000005,
          3.5825474,
          5.0972695,
          5.988876,
          5.2695203,
          6.854386999999999,
          8.607531,
          5.4526095,
          6.2181115,
          3.9696136,
          6.07953,
          5.800962,
          6.4561377,
          6.860485000000001,
          2.2428138,
          5.4841223,
          5.7536545,
          5.160223,
          4.8313713,
          2.6732645,
          6.839294000000001,
          6.7493157,
          5.1937737,
          6.332342,
          8.425736,
          7.075211,
          8.459833999999999,
          7.408947500000001,
          6.2241893,
          6.2997494000000005,
          5.5612288,
          5.5293975,
          7.437739,
          5.7156267,
          6.8923125,
          8.583875,
          3.0630956,
          8.302494,
          6.1291976,
          2.6510127,
          1.5035104,
          2.6782234000000003,
          2.6557355,
          5.8824553,
          6.811154400000001,
          5.6535053,
          5.5055614,
          6.00256,
          6.577799000000001,
          5.0265374000000005,
          5.557576999999999,
          2.6824596,
          4.726114,
          11.519781,
          11.537012,
          11.527753,
          6.2197456,
          11.491219,
          7.223545599999999,
          11.507885,
          4.338854,
          3.066333,
          7.475303599999999,
          7.3939843,
          5.7094607,
          4.4435687,
          4.46129,
          4.411598000000001,
          5.696929,
          6.180004599999999,
          5.265497,
          6.196394000000001,
          1.4467438,
          7.303531599999999,
          5.002008999999999,
          4.97735,
          4.9943833,
          5.556738,
          5.590529,
          5.581554,
          6.7685537,
          6.138099,
          5.1492953,
          5.775434,
          5.6422358,
          6.1740637000000005,
          7.5255466,
          10.197156,
          3.2983387000000004,
          8.500373,
          5.1742454,
          5.686235,
          6.2684526,
          6.271828,
          2.6063745,
          5.1274915,
          6.768144,
          5.7687616,
          4.193503,
          7.4253535,
          7.170297,
          7.362551,
          5.2825847,
          7.067465299999999,
          7.095925,
          4.3276057,
          5.231371,
          2.6786492,
          3.090535,
          2.7308066,
          3.064294,
          3.0674102000000003,
          3.0787554,
          3.077441,
          3.1159225,
          3.0762560000000003,
          6.2983246,
          1.7682262999999998,
          7.5994773,
          7.549991,
          7.568701,
          7.5715747,
          7.5687704,
          7.563846000000001,
          7.67347,
          7.11028,
          2.2993083,
          5.8989944,
          6.114148999999999,
          6.7670007,
          5.7575383,
          2.6711867,
          7.0148845,
          7.1995196,
          2.3750389,
          3.1805463,
          6.8032,
          8.423973,
          6.0984,
          7.6213417,
          11.408215,
          7.1078978,
          4.0312414,
          5.2902374000000005,
          8.083857,
          7.135064,
          7.1263146,
          4.475968,
          7.594091400000001,
          8.532389,
          6.779259,
          2.122551,
          4.4538884,
          4.455689,
          5.576494,
          5.8620553
         ],
         "yaxis": "y"
        },
        {
         "customdata": [
          [
           "\"childrens choir\""
          ],
          [
           "\"mens choir\""
          ],
          [
           "\"quartetto darchi\""
          ],
          [
           "21st century classical"
          ],
          [
           "a cappella"
          ],
          [
           "afrikaans folk"
          ],
          [
           "american choir"
          ],
          [
           "american classical piano"
          ],
          [
           "american contemporary classical"
          ],
          [
           "american early music"
          ],
          [
           "american modern classical"
          ],
          [
           "american orchestra"
          ],
          [
           "american romanticism"
          ],
          [
           "anadolu rock"
          ],
          [
           "andalusian classical"
          ],
          [
           "anglican liturgy"
          ],
          [
           "arabesk"
          ],
          [
           "argentine ambient"
          ],
          [
           "ars subtilior"
          ],
          [
           "art song"
          ],
          [
           "asmr"
          ],
          [
           "australian choir"
          ],
          [
           "australian classical"
          ],
          [
           "australian classical piano"
          ],
          [
           "austrian choir"
          ],
          [
           "austrian classical piano"
          ],
          [
           "austrian contemporary classical"
          ],
          [
           "austrian orchestra"
          ],
          [
           "austrian stoner rock"
          ],
          [
           "austro-german modernism"
          ],
          [
           "autoharp"
          ],
          [
           "avant-garde"
          ],
          [
           "azeri pop"
          ],
          [
           "azeri traditional"
          ],
          [
           "background piano"
          ],
          [
           "baglama"
          ],
          [
           "bajki"
          ],
          [
           "balalaika"
          ],
          [
           "balfolk"
          ],
          [
           "balinese traditional"
          ],
          [
           "balkan classical piano"
          ],
          [
           "ballet class"
          ],
          [
           "baltic choir"
          ],
          [
           "baltic classical"
          ],
          [
           "bandoneon"
          ],
          [
           "barockinterpreten"
          ],
          [
           "baroque"
          ],
          [
           "baroque brass"
          ],
          [
           "baroque cello"
          ],
          [
           "baroque ensemble"
          ],
          [
           "baroque singing"
          ],
          [
           "baroque violin"
          ],
          [
           "baroque woodwind"
          ],
          [
           "belgian classical piano"
          ],
          [
           "binaural"
          ],
          [
           "bohemian baroque"
          ],
          [
           "bornehistorier"
          ],
          [
           "bornesange"
          ],
          [
           "boy pop"
          ],
          [
           "boy soprano"
          ],
          [
           "bozlak"
          ],
          [
           "brain waves"
          ],
          [
           "brass ensemble"
          ],
          [
           "brass quintet"
          ],
          [
           "brazilian classical"
          ],
          [
           "brazilian classical piano"
          ],
          [
           "brazilian percussion"
          ],
          [
           "british choir"
          ],
          [
           "british classical piano"
          ],
          [
           "british contemporary classical"
          ],
          [
           "british modern classical"
          ],
          [
           "british orchestra"
          ],
          [
           "british soundtrack"
          ],
          [
           "byzantine"
          ],
          [
           "cabaret"
          ],
          [
           "cambridge choir"
          ],
          [
           "canadian choir"
          ],
          [
           "canadian classical"
          ],
          [
           "canadian classical piano"
          ],
          [
           "canadian contemporary r&b"
          ],
          [
           "canadian soundtrack"
          ],
          [
           "cantautora argentina"
          ],
          [
           "canto a tenore"
          ],
          [
           "canzone napoletana"
          ],
          [
           "cardiff indie"
          ],
          [
           "cathedral choir"
          ],
          [
           "caucasian classical"
          ],
          [
           "caucasian classical piano"
          ],
          [
           "caucasian folk"
          ],
          [
           "central asian folk"
          ],
          [
           "chamber choir"
          ],
          [
           "chamber ensemble"
          ],
          [
           "chamber orchestra"
          ],
          [
           "chant religieux"
          ],
          [
           "chill guitar"
          ],
          [
           "chinese classical"
          ],
          [
           "chinese classical performance"
          ],
          [
           "chinese classical piano"
          ],
          [
           "chinese soundtrack"
          ],
          [
           "choral"
          ],
          [
           "christian a cappella"
          ],
          [
           "classic azeri pop"
          ],
          [
           "classic persian pop"
          ],
          [
           "classic soundtrack"
          ],
          [
           "classic turkish pop"
          ],
          [
           "classical"
          ],
          [
           "classical baritone"
          ],
          [
           "classical bass"
          ],
          [
           "classical bassoon"
          ],
          [
           "classical cello"
          ],
          [
           "classical clarinet"
          ],
          [
           "classical contralto"
          ],
          [
           "classical countertenor"
          ],
          [
           "classical era"
          ],
          [
           "classical flute"
          ],
          [
           "classical guitar"
          ],
          [
           "classical guitar duo"
          ],
          [
           "classical guitar quartet"
          ],
          [
           "classical harp"
          ],
          [
           "classical horn"
          ],
          [
           "classical jazz fusion"
          ],
          [
           "classical mandolin"
          ],
          [
           "classical mezzo-soprano"
          ],
          [
           "classical oboe"
          ],
          [
           "classical organ"
          ],
          [
           "classical performance"
          ],
          [
           "classical piano"
          ],
          [
           "classical piano duo"
          ],
          [
           "classical piano trio"
          ],
          [
           "classical saxophone quartet"
          ],
          [
           "classical soprano"
          ],
          [
           "classical string trio"
          ],
          [
           "classical tenor"
          ],
          [
           "classical trombone"
          ],
          [
           "classical tuba"
          ],
          [
           "cocuk masallari"
          ],
          [
           "college a cappella"
          ],
          [
           "college marching band"
          ],
          [
           "concert band"
          ],
          [
           "contemporary choir"
          ],
          [
           "contemporary classical"
          ],
          [
           "contemporary classical piano"
          ],
          [
           "contrabass"
          ],
          [
           "convent"
          ],
          [
           "corsican folk"
          ],
          [
           "czech classical"
          ],
          [
           "czech classical piano"
          ],
          [
           "danish choir"
          ],
          [
           "danish classical"
          ],
          [
           "danish contemporary classical"
          ],
          [
           "deep soundtrack"
          ],
          [
           "deep turkish pop"
          ],
          [
           "detskie rasskazy"
          ],
          [
           "disney dansk"
          ],
          [
           "dutch classical piano"
          ],
          [
           "dutch contemporary classical"
          ],
          [
           "early american folk"
          ],
          [
           "early avant garde"
          ],
          [
           "early modern classical"
          ],
          [
           "early music"
          ],
          [
           "early music choir"
          ],
          [
           "early music ensemble"
          ],
          [
           "early romantic era"
          ],
          [
           "electroacoustic composition"
          ],
          [
           "english baroque"
          ],
          [
           "english renaissance"
          ],
          [
           "environmental"
          ],
          [
           "epicore"
          ],
          [
           "estonian folk"
          ],
          [
           "estonian pop"
          ],
          [
           "family gospel"
          ],
          [
           "final fantasy"
          ],
          [
           "finnish choir"
          ],
          [
           "finnish classical"
          ],
          [
           "finnish contemporary classical"
          ],
          [
           "fisarmonica"
          ],
          [
           "folk siciliana"
          ],
          [
           "franco-flemish school"
          ],
          [
           "french baroque"
          ],
          [
           "french classical piano"
          ],
          [
           "french contemporary classical"
          ],
          [
           "french opera"
          ],
          [
           "french orchestra"
          ],
          [
           "french renaissance"
          ],
          [
           "french romanticism"
          ],
          [
           "french soundtrack"
          ],
          [
           "french worship"
          ],
          [
           "galante era"
          ],
          [
           "gay chorus"
          ],
          [
           "georgian folk"
          ],
          [
           "georgian polyphony"
          ],
          [
           "german baroque"
          ],
          [
           "german choir"
          ],
          [
           "german classical piano"
          ],
          [
           "german contemporary classical"
          ],
          [
           "german opera"
          ],
          [
           "german orchestra"
          ],
          [
           "german renaissance"
          ],
          [
           "german romanticism"
          ],
          [
           "german show tunes"
          ],
          [
           "ghanaian traditional"
          ],
          [
           "glass"
          ],
          [
           "gospel italiano"
          ],
          [
           "gregorian chant"
          ],
          [
           "guitar case"
          ],
          [
           "guitarra clasica"
          ],
          [
           "gypsy"
          ],
          [
           "halloween"
          ],
          [
           "hard motivation"
          ],
          [
           "harp"
          ],
          [
           "harpsichord"
          ],
          [
           "historic classical performance"
          ],
          [
           "historic orchestral performance"
          ],
          [
           "historic piano performance"
          ],
          [
           "historic string quartet"
          ],
          [
           "historical keyboard"
          ],
          [
           "historically informed performance"
          ],
          [
           "horror synth"
          ],
          [
           "hungarian choir"
          ],
          [
           "hungarian classical performance"
          ],
          [
           "hungarian classical piano"
          ],
          [
           "hungarian contemporary classical"
          ],
          [
           "ilahiler"
          ],
          [
           "impressionism"
          ],
          [
           "indie game soundtrack"
          ],
          [
           "indie napoletano"
          ],
          [
           "irish classical"
          ],
          [
           "israeli classical"
          ],
          [
           "israeli classical piano"
          ],
          [
           "israeli folk"
          ],
          [
           "italian baritone"
          ],
          [
           "italian baroque"
          ],
          [
           "italian baroque ensemble"
          ],
          [
           "italian bass"
          ],
          [
           "italian choir"
          ],
          [
           "italian classical guitar"
          ],
          [
           "italian classical piano"
          ],
          [
           "italian contemporary classical"
          ],
          [
           "italian library music"
          ],
          [
           "italian mezzo-soprano"
          ],
          [
           "italian opera"
          ],
          [
           "italian orchestra"
          ],
          [
           "italian renaissance"
          ],
          [
           "italian romanticism"
          ],
          [
           "italian soprano"
          ],
          [
           "italian soundtrack"
          ],
          [
           "italian tenor"
          ],
          [
           "italian violin"
          ],
          [
           "japanese classical performance"
          ],
          [
           "japanese classical piano"
          ],
          [
           "japanese guitar"
          ],
          [
           "japanese orchestra"
          ],
          [
           "jewish pop"
          ],
          [
           "joropo"
          ],
          [
           "judaica"
          ],
          [
           "karadeniz pop"
          ],
          [
           "karadeniz turkuleri"
          ],
          [
           "klezmer"
          ],
          [
           "komedi"
          ],
          [
           "kora"
          ],
          [
           "korean classical performance"
          ],
          [
           "korean classical piano"
          ],
          [
           "koto"
          ],
          [
           "kurdish folk"
          ],
          [
           "kurdish pop"
          ],
          [
           "late romantic era"
          ],
          [
           "latin american classical piano"
          ],
          [
           "latin classical"
          ],
          [
           "latin soundtrack"
          ],
          [
           "lds"
          ],
          [
           "limerick indie"
          ],
          [
           "louvor"
          ],
          [
           "lullaby"
          ],
          [
           "lute"
          ],
          [
           "madrigal"
          ],
          [
           "marching band"
          ],
          [
           "marimba"
          ],
          [
           "medieval"
          ],
          [
           "medieval ensemble"
          ],
          [
           "mexican classical"
          ],
          [
           "middle earth"
          ],
          [
           "mindfulness"
          ],
          [
           "minnesang"
          ],
          [
           "modern performance"
          ],
          [
           "modern string quartet"
          ],
          [
           "motivation"
          ],
          [
           "musica antigua"
          ],
          [
           "musica de fondo"
          ],
          [
           "musica sinfonica"
          ],
          [
           "musique ancienne"
          ],
          [
           "muzica populara"
          ],
          [
           "muziek voor kinderen"
          ],
          [
           "neo-traditional country"
          ],
          [
           "neoclassicism"
          ],
          [
           "new zealand classical"
          ],
          [
           "nordic classical piano"
          ],
          [
           "nordic contemporary classical"
          ],
          [
           "nordic orchestra"
          ],
          [
           "nordic soundtrack"
          ],
          [
           "north dakota indie"
          ],
          [
           "norwegian choir"
          ],
          [
           "norwegian classical"
          ],
          [
           "nuevo folklore argentino"
          ],
          [
           "nuevo tango"
          ],
          [
           "oceania soundtrack"
          ],
          [
           "opera"
          ],
          [
           "opera chorus"
          ],
          [
           "operatic pop"
          ],
          [
           "operetta"
          ],
          [
           "orchestra"
          ],
          [
           "orchestral performance"
          ],
          [
           "oriental classical"
          ],
          [
           "orkney and shetland folk"
          ],
          [
           "orquesta tipica"
          ],
          [
           "orthodox chant"
          ],
          [
           "oxford choir"
          ],
          [
           "oyun havasi"
          ],
          [
           "panpipe"
          ],
          [
           "pasodobles"
          ],
          [
           "pianissimo"
          ],
          [
           "poetry"
          ],
          [
           "polish choir"
          ],
          [
           "polish classical"
          ],
          [
           "polish classical piano"
          ],
          [
           "polish contemporary classical"
          ],
          [
           "polyphonies corses"
          ],
          [
           "polyphony"
          ],
          [
           "pony"
          ],
          [
           "pop violin"
          ],
          [
           "portuguese early music"
          ],
          [
           "post-minimalism"
          ],
          [
           "post-romantic era"
          ],
          [
           "prepared piano"
          ],
          [
           "quatuor a cordes"
          ],
          [
           "radio symphony"
          ],
          [
           "recorder"
          ],
          [
           "reiki"
          ],
          [
           "renaissance"
          ],
          [
           "ringtone"
          ],
          [
           "romanian classical piano"
          ],
          [
           "romanian folk"
          ],
          [
           "rosary"
          ],
          [
           "russian choir"
          ],
          [
           "russian classical piano"
          ],
          [
           "russian contemporary classical"
          ],
          [
           "russian folk"
          ],
          [
           "russian modern classical"
          ],
          [
           "russian orchestra"
          ],
          [
           "russian romance"
          ],
          [
           "russian romanticism"
          ],
          [
           "salsa venezolana"
          ],
          [
           "school choir"
          ],
          [
           "school ensemble"
          ],
          [
           "scorecore"
          ],
          [
           "serialism"
          ],
          [
           "shush"
          ],
          [
           "sleep"
          ],
          [
           "sound"
          ],
          [
           "soundtrack"
          ],
          [
           "spa"
          ],
          [
           "spanish baroque"
          ],
          [
           "spanish classical"
          ],
          [
           "spanish classical piano"
          ],
          [
           "spanish renaissance"
          ],
          [
           "speedrun"
          ],
          [
           "steelpan"
          ],
          [
           "streichquartett"
          ],
          [
           "string orchestra"
          ],
          [
           "string quartet"
          ],
          [
           "sufi chant"
          ],
          [
           "swedish choir"
          ],
          [
           "swedish classical"
          ],
          [
           "swedish contemporary classical"
          ],
          [
           "swiss classical piano"
          ],
          [
           "syro-aramaic chant"
          ],
          [
           "taiwan classical performance"
          ],
          [
           "tango"
          ],
          [
           "tango cancion"
          ],
          [
           "theme"
          ],
          [
           "therapy"
          ],
          [
           "theremin"
          ],
          [
           "tin pan alley"
          ],
          [
           "trecento"
          ],
          [
           "troubadour"
          ],
          [
           "trouvere"
          ],
          [
           "tulum"
          ],
          [
           "turkish alternative"
          ],
          [
           "turkish alternative rock"
          ],
          [
           "turkish classical"
          ],
          [
           "turkish classical performance"
          ],
          [
           "turkish folk"
          ],
          [
           "turkish jazz"
          ],
          [
           "turkish modern jazz"
          ],
          [
           "turkish pop"
          ],
          [
           "turkish psych"
          ],
          [
           "turkish punk"
          ],
          [
           "turkish reggae"
          ],
          [
           "turkish rock"
          ],
          [
           "turkish singer-songwriter"
          ],
          [
           "turkish soundtrack"
          ],
          [
           "turkish trap pop"
          ],
          [
           "ukrainian choir"
          ],
          [
           "ukrainian classical"
          ],
          [
           "ukrainian classical piano"
          ],
          [
           "university choir"
          ],
          [
           "uwielbienie"
          ],
          [
           "vgm instrumental"
          ],
          [
           "victorian britain"
          ],
          [
           "video game music"
          ],
          [
           "vietnamese traditional"
          ],
          [
           "vintage classical singing"
          ],
          [
           "vintage italian pop"
          ],
          [
           "vintage italian soundtrack"
          ],
          [
           "vintage tango"
          ],
          [
           "viola"
          ],
          [
           "viola da gamba"
          ],
          [
           "violin"
          ],
          [
           "vocal ensemble"
          ],
          [
           "water"
          ],
          [
           "welsh choir"
          ],
          [
           "welsh folk"
          ],
          [
           "west end"
          ],
          [
           "white noise"
          ],
          [
           "wind ensemble"
          ],
          [
           "wind quintet"
          ],
          [
           "wind symphony"
          ],
          [
           "yiddish folk"
          ],
          [
           "yoik"
          ],
          [
           "youth orchestra"
          ],
          [
           "zen"
          ],
          [
           "zither"
          ]
         ],
         "hovertemplate": "supergenre=classical<br>emb1=%{x}<br>emb2=%{y}<br>genre=%{customdata[0]}<extra></extra>",
         "legendgroup": "classical",
         "marker": {
          "color": "#FFA15A",
          "size": 6,
          "symbol": "circle"
         },
         "mode": "markers",
         "name": "classical",
         "showlegend": true,
         "type": "scattergl",
         "x": [
          3.9932845,
          4.2026687,
          3.6311977,
          3.6236274,
          3.1315389,
          3.8541532,
          4.088712,
          4.056617299999999,
          3.4415433,
          3.9697783,
          3.6850348,
          3.914172,
          3.912694,
          6.295336,
          4.134332700000001,
          4.0203037,
          6.274003,
          3.9282975,
          3.950387,
          4.148493,
          4.7080684,
          4.008184,
          3.7680387,
          3.9376285,
          4.0575485,
          3.7756305,
          3.4342504000000003,
          4.047271299999999,
          6.309743,
          3.5437517,
          3.3804405,
          3.3879633,
          6.256677,
          6.3533626,
          3.5018230000000004,
          6.2886486,
          3.797946,
          6.584467,
          5.104083999999999,
          2.459189,
          3.6647375,
          3.9955676,
          3.6080456,
          3.5739458,
          2.0341868,
          3.9865906,
          3.89515,
          3.8230858,
          3.893128,
          4.0015044,
          4.065509,
          3.9302237,
          3.9499047,
          3.8489742,
          4.793913,
          3.887642,
          4.151722400000001,
          4.1443114,
          3.9475687000000006,
          3.9369724,
          6.2653136,
          4.7696977,
          3.5477626000000004,
          3.5369737,
          1.5220978,
          3.4908955,
          1.0916353,
          3.9727345,
          3.6815271,
          3.6756663,
          3.9018013,
          3.7549956,
          3.965246,
          3.6748726,
          3.0734873,
          3.9794455,
          3.7686632000000007,
          4.0522633,
          3.846901,
          3.7669055,
          4.059293299999999,
          1.9076601,
          7.1860194,
          4.3727875,
          4.0662146,
          4.0096674,
          3.7896411,
          3.7343755,
          3.9673922,
          6.320239,
          3.848346700000001,
          3.7849832,
          3.7066998,
          3.8488083,
          4.196026,
          3.6047378,
          3.6282377,
          3.636712,
          3.7615697,
          4.081791399999999,
          3.2106602000000004,
          6.333038,
          6.3695297,
          3.858919,
          6.3007016,
          3.8773897000000006,
          4.1298747,
          4.1911254,
          3.8811958,
          3.8357778,
          2.8173227,
          3.8919542,
          3.9337177,
          3.7859569,
          3.9153695,
          4.226588700000001,
          3.8082075,
          2.3901331000000003,
          4.0553784,
          3.7488854,
          2.3722694,
          3.6685903,
          4.07842,
          3.840445,
          3.9512293,
          4.0124927,
          3.6854146,
          3.6743162,
          3.7353752,
          3.7073734,
          4.103923,
          3.6051226,
          4.255408999999999,
          3.7439456,
          3.7731512,
          6.313111,
          3.1601388,
          3.8670642,
          3.8969142,
          3.5947762,
          3.4801676,
          3.5140023,
          3.745415,
          6.643903999999999,
          3.9079695,
          3.9932947,
          3.8456378,
          3.6697862,
          3.7671916,
          3.9215903,
          3.8911612,
          6.30605,
          3.784936,
          4.153017500000001,
          3.6285203,
          3.5390153,
          3.7446673,
          3.505317,
          3.6112208,
          3.925917,
          3.9216237,
          4.0258775,
          3.7433023,
          3.2782028,
          3.8702044,
          3.9803386,
          4.7171636,
          3.9910705,
          2.4388835,
          2.3910558,
          3.2038953,
          4.1828775,
          3.6116815,
          3.5996053,
          3.874473000000001,
          4.289082,
          4.2743998,
          3.930462,
          3.9114325,
          3.6128278,
          3.805006,
          3.9345758,
          3.973832,
          3.938977,
          4.009557,
          3.806039,
          3.79645,
          3.8602948,
          4.1605563,
          3.8950505,
          3.9244106,
          3.9101942,
          4.0297947,
          3.8102741,
          3.4578333,
          3.9323845,
          3.9156935,
          3.8667178,
          3.850851,
          3.9910004,
          3.8255134,
          3.7956023,
          3.8642142,
          3.8265874,
          3.906515,
          4.204924,
          7.112284700000001,
          3.8966048,
          3.771306,
          4.1831055,
          3.8043318,
          4.186772,
          3.860726600000001,
          3.8550174,
          3.820408,
          3.717472,
          3.9436553,
          3.8299031,
          3.9558833,
          3.8669727,
          3.777014700000001,
          3.4769375,
          6.314726,
          3.5950284,
          4.123087399999999,
          7.155815,
          3.6614058,
          3.8595855,
          3.8398874,
          6.9749293,
          4.0801797,
          3.900275,
          3.9059126,
          4.1229362,
          3.9250991,
          4.1562414,
          3.7588902,
          3.4043300000000003,
          3.8618305,
          4.115025,
          4.1132736,
          3.9817336,
          3.9151418,
          4.129631,
          4.1907783,
          3.8743644,
          4.261313,
          3.9432478,
          4.0352135,
          3.9377916,
          4.089568,
          3.9466927,
          3.9186008,
          4.291812,
          3.9793365,
          6.303059999999999,
          6.2922482,
          6.9399667,
          4.206736599999999,
          1.0415006,
          3.874583,
          3.802744600000001,
          3.1974518,
          6.313452,
          6.2646120000000005,
          4.110387,
          3.8586044,
          1.9451486,
          3.870998600000001,
          3.2262514,
          0.6811866,
          3.2024,
          4.791279299999999,
          3.9100838,
          3.9309378,
          3.8095968,
          4.015746,
          4.0182824,
          4.0485644,
          2.0776367,
          4.081362,
          4.6760817,
          3.9690235,
          3.5543027,
          3.7879686,
          3.9286873,
          4.0774040000000005,
          4.0310564,
          1.0296278,
          4.011192299999999,
          2.5838635,
          2.4208899,
          4.3013806,
          3.6163468,
          3.8850417,
          3.5986620000000005,
          5.17103,
          3.9770603,
          5.0547333,
          4.0883910000000006,
          5.848021,
          3.8643055,
          1.8977892,
          1.9777061,
          4.044849,
          4.2032228,
          4.112685,
          4.350299,
          4.1811385,
          3.9388094,
          3.8979695,
          6.041537,
          4.1038938,
          1.9520217,
          3.6925097,
          3.914708,
          6.3255854000000005,
          2.5945268,
          4.118489,
          3.9161038,
          0.23723528,
          3.9187396,
          3.740014,
          3.8925693,
          3.8107514,
          3.8995554,
          3.9394686,
          6.2095013,
          4.1488190000000005,
          3.9045324,
          3.6779559,
          3.593952,
          3.4664888,
          3.843416,
          3.896312,
          3.9837215,
          4.7655725,
          3.9450958,
          3.776843,
          3.835765,
          2.5717435,
          6.6096435,
          3.7983165,
          3.69011,
          3.614482,
          6.560708,
          3.7390478,
          3.748813,
          6.528455,
          3.7699656,
          3.4797046000000003,
          4.783201,
          2.0213153000000004,
          3.9811203,
          3.4673731,
          4.712475,
          4.805751,
          4.7615027,
          3.9011638,
          4.665535,
          4.004686,
          4.1346297,
          3.6863706,
          3.9182956,
          4.001452,
          3.5052533,
          3.758378500000001,
          3.6518238,
          3.7801988,
          4.1517706,
          3.9716916,
          3.7285051,
          3.853282,
          3.876222,
          3.8347206,
          3.7946658,
          1.9428247,
          1.9106072,
          3.909574,
          4.666025599999999,
          3.1556904,
          2.7109072,
          3.9907453,
          4.006462,
          3.9972615,
          6.299946299999999,
          6.359143,
          6.3222427,
          6.337471,
          3.6706314,
          6.296522599999999,
          6.2886677,
          6.3005323,
          6.303726999999999,
          6.3471293,
          6.3536625,
          6.308968,
          6.306696400000001,
          6.3062906,
          6.2853146,
          6.316666000000001,
          3.788043,
          3.689738,
          3.7454665,
          3.986436,
          3.817915,
          4.034301,
          3.993926,
          4.0390825,
          4.0058517,
          4.264421,
          4.069995,
          3.8664463,
          1.9127251,
          3.837901,
          4.0372663,
          4.160953,
          3.928843,
          4.755406400000001,
          4.2218337,
          4.23309,
          3.9459534,
          4.7477317,
          3.903382,
          3.8386385,
          3.863756,
          6.946221400000001,
          5.229234,
          3.476052,
          4.6247015,
          3.8243306000000006
         ],
         "xaxis": "x",
         "y": [
          2.358233,
          1.8886123,
          1.3200912,
          2.2742684,
          3.2405617,
          1.3061461,
          0.9738134,
          1.1376339,
          2.209605,
          0.6516038000000001,
          1.4026457,
          1.2330388,
          0.9783892,
          0.33582175,
          0.52295464,
          0.74323684,
          0.35602146,
          2.616177,
          0.6448656,
          1.2034409,
          1.9169563000000005,
          1.4091792,
          1.2434442,
          1.6593072,
          1.2897475,
          1.1130928999999998,
          2.1358545,
          1.3365079,
          0.34281576,
          1.5897675,
          2.301645,
          2.16603,
          11.414894,
          0.32018068,
          1.3777628999999998,
          0.33927748,
          2.486724,
          4.0660157,
          4.108999,
          2.2861001,
          1.0653656,
          1.248446,
          1.5400559,
          1.9502742,
          1.6055191999999998,
          0.75478214,
          0.8192707,
          0.9058591,
          0.7983302,
          0.8300816999999999,
          0.82054275,
          0.9866481,
          0.8714483000000001,
          1.186914,
          1.985012,
          0.8784863000000002,
          2.8087099,
          2.8004029,
          2.6235192000000005,
          2.544481,
          0.28964055,
          1.9450374,
          1.7212023999999997,
          1.6977043,
          0.8737345,
          1.1915209,
          0.4626083,
          0.6545305,
          1.1254863000000002,
          2.3331807,
          1.1527666,
          1.184595,
          2.525289,
          1.4246079,
          3.342149,
          0.7282933000000001,
          1.2026772,
          2.6795545,
          0.9762696,
          0.99844474,
          2.6700664,
          1.465013,
          2.3644,
          1.6079761,
          1.0008999,
          0.7107269,
          1.2520563999999998,
          1.056631,
          0.65797025,
          0.33602363,
          0.7998835,
          1.0149455,
          1.1474783000000002,
          2.4551792000000003,
          1.4709383,
          0.95459694,
          1.0401201999999998,
          1.0409349,
          1.0213145,
          0.72968173,
          3.210424,
          0.3209097,
          0.39676788,
          2.5852711,
          0.37244037,
          1.1936166,
          1.3193437,
          1.2950058,
          0.8898748,
          1.0399276,
          2.3392766,
          1.211154,
          0.8472101000000001,
          1.1314512,
          0.9848429,
          1.4702325,
          1.2374661,
          2.7001886,
          0.9134571,
          1.0897636,
          2.829747,
          4.2200727,
          1.3022412,
          1.1120209,
          0.91482186,
          1.3483398000000002,
          1.1227413,
          1.2146013,
          1.1243852,
          2.32032,
          1.3318864,
          2.0167904,
          1.4957631,
          1.1495094,
          1.329898,
          0.32496515,
          3.2442330000000004,
          1.0238818,
          1.0476233,
          1.4085209,
          2.0841181,
          2.0769954,
          4.195711,
          7.727771799999999,
          0.5942856,
          1.2104499,
          1.1520925,
          1.077707,
          1.3227131,
          0.7791245,
          2.580553,
          0.34474614,
          1.2987291,
          2.825717,
          1.1469638,
          2.0380805,
          4.3822227,
          1.4294701,
          1.3843925,
          0.76570696,
          0.62883484,
          0.59654677,
          1.1773597,
          2.3079386000000004,
          0.9169736,
          0.7038460999999999,
          1.9597449,
          2.6500046000000004,
          7.028826700000001,
          6.9891877,
          3.2709246,
          2.8129654,
          2.0375686,
          1.3409127,
          1.5730003,
          1.2469176000000002,
          1.5389745,
          0.67771995,
          0.83294576,
          1.2619126,
          2.5183322,
          1.3199823,
          1.2875533,
          0.5891524,
          1.3849459,
          2.5138226,
          2.4620697,
          1.0368279,
          1.8693552,
          0.5755428000000001,
          0.5925158,
          0.99361074,
          1.1771165,
          1.0985979,
          2.0829964,
          1.206344,
          1.299993,
          0.958963,
          1.1661025,
          3.1678097000000003,
          2.0187945,
          1.1952833,
          0.73475313,
          2.3959935000000003,
          2.5777726000000003,
          1.417769,
          4.482042,
          2.5383835,
          1.0736523,
          1.2483345,
          1.0011623,
          1.2913039,
          1.2646515,
          1.1301,
          1.1751881000000002,
          1.0586137,
          0.8724124,
          2.6189678,
          1.2002779,
          1.2137085,
          1.1950011,
          2.1256704,
          0.397147,
          1.3235997,
          2.768982,
          2.340962,
          1.1172786,
          1.2895843,
          1.2440776000000002,
          4.486374400000001,
          1.311281,
          0.8823396000000001,
          0.8407450999999999,
          1.30146,
          0.70198786,
          1.3012908,
          1.1937311000000002,
          2.109152,
          2.620178,
          1.3509032,
          1.3635285,
          1.2279327,
          0.66362906,
          1.3730632,
          1.3292481000000005,
          2.5273347000000004,
          1.574662,
          0.989225,
          1.069866,
          1.0461167,
          1.1476524,
          1.0082843,
          3.2739613,
          1.5202316,
          3.2927697,
          0.31384936,
          0.3433649,
          4.486954,
          1.4503386,
          2.7730923,
          1.1931676000000002,
          1.2381417,
          2.326304,
          0.3457118,
          0.38367143,
          1.298778,
          1.1492277,
          1.2707913,
          2.6078842,
          3.1659740000000003,
          6.5509224,
          3.24676,
          1.9225138,
          0.74963725,
          0.6098601,
          1.0333632,
          2.6333663,
          0.58351254,
          0.6093688,
          1.1976831,
          2.7557373,
          1.9728317,
          0.63416547,
          2.1999223,
          2.0788534,
          1.0982529,
          0.6577887,
          1.0807683,
          0.61345774,
          0.7997954,
          8.816355999999999,
          4.8674335,
          1.0573615,
          1.2719173,
          1.4386283000000002,
          1.4365286,
          3.2671294,
          1.5405779,
          3.3100120000000004,
          1.4817401,
          3.3578165,
          1.2257782,
          1.4563834999999998,
          1.4305093,
          2.4545536,
          1.390166,
          1.355523,
          1.8368307,
          1.2930583,
          1.422089,
          1.1630518,
          0.92595136,
          1.3110971000000002,
          1.4562469,
          1.3557787,
          0.6352914000000001,
          0.2998116,
          8.827366,
          1.3942487,
          1.0474254,
          7.749060000000001,
          2.4021227,
          1.2023731000000002,
          1.1970633,
          2.2720473,
          0.58959347,
          0.63039696,
          5.534907,
          2.1105561,
          0.6392519,
          2.3065963,
          1.3591228000000002,
          2.1156318,
          1.3428327,
          1.3977308000000002,
          0.7988774000000001,
          1.9940503,
          0.59377706,
          1.063726,
          1.0750245,
          8.832351,
          7.747683500000001,
          1.2233934,
          1.2619774,
          1.3963159,
          4.081718,
          1.3346579,
          1.3494332,
          4.0802693,
          1.3895464,
          1.0730497,
          1.9946351,
          1.3960608,
          2.6260905,
          2.0055077,
          1.9073668,
          2.0009754,
          1.9795,
          2.552302,
          1.9247599,
          0.8847902,
          1.3770678,
          1.2588905,
          0.6123172,
          2.6323667,
          2.1672072,
          1.376608,
          1.20782,
          1.8281258,
          0.54942775,
          1.2677847,
          1.51728,
          1.1850516000000002,
          1.1427671,
          1.2010986,
          1.1042979,
          1.4950186,
          1.4502354,
          2.5361876,
          1.9259558,
          2.9896095000000003,
          3.103153,
          0.5714397,
          0.60290724,
          0.6149179,
          0.34335682,
          0.29889503,
          0.32572052,
          0.550623,
          1.284882,
          0.32843167,
          0.43537235,
          0.3625498,
          0.33573896,
          0.39070812,
          0.30648723,
          0.35606194,
          0.33102825,
          0.34819943,
          0.4208548,
          0.34101284,
          0.7460772,
          1.2266796,
          1.1054823,
          0.69158936,
          2.4264474,
          2.6682189,
          1.2584171,
          2.7185783,
          1.660017,
          1.560784,
          1.3065944,
          2.5760763,
          1.4405332,
          1.2206343000000002,
          0.7947510999999999,
          1.5399944,
          0.55665636,
          1.9622896,
          1.8236754,
          1.0717188999999998,
          3.1836078,
          1.9688826,
          1.2111709,
          1.1950766000000002,
          1.0854508,
          4.528787,
          4.345805,
          1.2841107,
          1.8738549,
          2.6262386
         ],
         "yaxis": "y"
        },
        {
         "customdata": [
          [
           "\"jackin house\""
          ],
          [
           "\"womens choir\""
          ],
          [
           "8-bit"
          ],
          [
           "abstract"
          ],
          [
           "abstract beats"
          ],
          [
           "abstract idm"
          ],
          [
           "abstractro"
          ],
          [
           "acid house"
          ],
          [
           "acid idm"
          ],
          [
           "acid jazz"
          ],
          [
           "acid techno"
          ],
          [
           "acid trance"
          ],
          [
           "african gospel"
          ],
          [
           "african percussion"
          ],
          [
           "afro house"
          ],
          [
           "afro psych"
          ],
          [
           "afrobeat"
          ],
          [
           "afrobeat fusion"
          ],
          [
           "afroswing"
          ],
          [
           "ai"
          ],
          [
           "albanian pop"
          ],
          [
           "alternative dance"
          ],
          [
           "ambient"
          ],
          [
           "ambient dub techno"
          ],
          [
           "ambient folk"
          ],
          [
           "ambient house"
          ],
          [
           "ambient idm"
          ],
          [
           "ambient pop"
          ],
          [
           "ambient psychill"
          ],
          [
           "ambient techno"
          ],
          [
           "ambient trance"
          ],
          [
           "arab alternative"
          ],
          [
           "arab electronic"
          ],
          [
           "arab groove"
          ],
          [
           "arab pop"
          ],
          [
           "art pop"
          ],
          [
           "atlanta indie"
          ],
          [
           "atmosphere"
          ],
          [
           "atmospheric dnb"
          ],
          [
           "aussietronica"
          ],
          [
           "australian alternative pop"
          ],
          [
           "australian ambient"
          ],
          [
           "australian electropop"
          ],
          [
           "australian indie"
          ],
          [
           "australian trap"
          ],
          [
           "austrian dnb"
          ],
          [
           "austrian indie"
          ],
          [
           "austrian pop"
          ],
          [
           "auteur-compositeur-interprete quebecois"
          ],
          [
           "azeri rap"
          ],
          [
           "azontobeats"
          ],
          [
           "balafon"
          ],
          [
           "balearic"
          ],
          [
           "balkan brass"
          ],
          [
           "baltimore indie"
          ],
          [
           "bansuri"
          ],
          [
           "bard"
          ],
          [
           "bass music"
          ],
          [
           "batida"
          ],
          [
           "belarusian electronic"
          ],
          [
           "belarusian indie"
          ],
          [
           "belarusian pop"
          ],
          [
           "belarusian punk"
          ],
          [
           "belarusian rock"
          ],
          [
           "belgian blues"
          ],
          [
           "belgian edm"
          ],
          [
           "belgian electronic"
          ],
          [
           "belgian indie"
          ],
          [
           "belgian indie rock"
          ],
          [
           "belgian rock"
          ],
          [
           "belgian singer-songwriter"
          ],
          [
           "belgian techno"
          ],
          [
           "belly dance"
          ],
          [
           "benga"
          ],
          [
           "bergen indie"
          ],
          [
           "big beat"
          ],
          [
           "bitpop"
          ],
          [
           "bmore"
          ],
          [
           "bossa nova cover"
          ],
          [
           "bouncy house"
          ],
          [
           "braindance"
          ],
          [
           "brazilian bass"
          ],
          [
           "brazilian dnb"
          ],
          [
           "brazilian edm"
          ],
          [
           "brazilian house"
          ],
          [
           "brazilian techno"
          ],
          [
           "breakbeat"
          ],
          [
           "breakcore"
          ],
          [
           "breaks"
          ],
          [
           "brega funk"
          ],
          [
           "bristol electronic"
          ],
          [
           "british soul"
          ],
          [
           "broken beat"
          ],
          [
           "bubble trance"
          ],
          [
           "bulgarian electronic"
          ],
          [
           "bulgarian folk"
          ],
          [
           "burkinabe traditional"
          ],
          [
           "burundian pop"
          ],
          [
           "burundian traditional"
          ],
          [
           "c64"
          ],
          [
           "canadian electronic"
          ],
          [
           "canadian electropop"
          ],
          [
           "canadian experimental"
          ],
          [
           "canadian house"
          ],
          [
           "canadian post-punk"
          ],
          [
           "cante flamenco"
          ],
          [
           "cape verdean folk"
          ],
          [
           "caracas indie"
          ],
          [
           "carnatic vocal"
          ],
          [
           "chaabi algerien"
          ],
          [
           "chamber pop"
          ],
          [
           "chamber psych"
          ],
          [
           "chanson"
          ],
          [
           "chanson paillarde"
          ],
          [
           "chanson quebecois"
          ],
          [
           "chanson virale"
          ],
          [
           "chennai indie"
          ],
          [
           "chicago house"
          ],
          [
           "chicha"
          ],
          [
           "chilean indie"
          ],
          [
           "chill lounge"
          ],
          [
           "chill out"
          ],
          [
           "chillhop"
          ],
          [
           "chillstep"
          ],
          [
           "chillwave"
          ],
          [
           "chiptune"
          ],
          [
           "cimbalom"
          ],
          [
           "cinematic dubstep"
          ],
          [
           "circuit"
          ],
          [
           "classic afrobeat"
          ],
          [
           "classic arab pop"
          ],
          [
           "classic belgian pop"
          ],
          [
           "classic dubstep"
          ],
          [
           "classic eurovision"
          ],
          [
           "classic french pop"
          ],
          [
           "classic house"
          ],
          [
           "classic icelandic pop"
          ],
          [
           "classic k-pop"
          ],
          [
           "classic moroccan pop"
          ],
          [
           "classic norwegian pop"
          ],
          [
           "classic progressive house"
          ],
          [
           "classic russian pop"
          ],
          [
           "classic russian rock"
          ],
          [
           "cologne electronic"
          ],
          [
           "colombian electronic"
          ],
          [
           "commons"
          ],
          [
           "complextro"
          ],
          [
           "congolese gospel"
          ],
          [
           "copla"
          ],
          [
           "country quebecois"
          ],
          [
           "coverchill"
          ],
          [
           "croatian electronic"
          ],
          [
           "cuban electronic"
          ],
          [
           "cumbia chilena"
          ],
          [
           "cumbia peruana"
          ],
          [
           "cumbia uruguaya"
          ],
          [
           "cypriot pop"
          ],
          [
           "czech electronic"
          ],
          [
           "czech hip hop"
          ],
          [
           "czsk hip hop"
          ],
          [
           "czsk reggae"
          ],
          [
           "dabke"
          ],
          [
           "dance-punk"
          ],
          [
           "danish alternative rock"
          ],
          [
           "danish electronic"
          ],
          [
           "danish electropop"
          ],
          [
           "danish experimental"
          ],
          [
           "danish indie"
          ],
          [
           "danish techno"
          ],
          [
           "danseband"
          ],
          [
           "darbuka"
          ],
          [
           "dark disco"
          ],
          [
           "dark hardcore"
          ],
          [
           "dark psytrance"
          ],
          [
           "dark techno"
          ],
          [
           "darkstep"
          ],
          [
           "darksynth"
          ],
          [
           "deconstructed club"
          ],
          [
           "deep ambient"
          ],
          [
           "deep breakcore"
          ],
          [
           "deep chill"
          ],
          [
           "deep chill-out"
          ],
          [
           "deep darkpsy"
          ],
          [
           "deep disco house"
          ],
          [
           "deep dnb"
          ],
          [
           "deep downtempo fusion"
          ],
          [
           "deep dubstep"
          ],
          [
           "deep euro house"
          ],
          [
           "deep filthstep"
          ],
          [
           "deep funk house"
          ],
          [
           "deep gothic post-punk"
          ],
          [
           "deep happy hardcore"
          ],
          [
           "deep hardtechno"
          ],
          [
           "deep house"
          ],
          [
           "deep idm"
          ],
          [
           "deep italo disco"
          ],
          [
           "deep liquid"
          ],
          [
           "deep liquid bass"
          ],
          [
           "deep minimal techno"
          ],
          [
           "deep neo-synthpop"
          ],
          [
           "deep psytrance"
          ],
          [
           "deep rai"
          ],
          [
           "deep soul house"
          ],
          [
           "deep techno"
          ],
          [
           "deep vocal house"
          ],
          [
           "demoscene"
          ],
          [
           "dessin anime"
          ],
          [
           "destroy techno"
          ],
          [
           "detroit house"
          ],
          [
           "detroit indie"
          ],
          [
           "detroit techno"
          ],
          [
           "dhrupad"
          ],
          [
           "digital hardcore"
          ],
          [
           "disco house"
          ],
          [
           "djembe"
          ],
          [
           "doomcore"
          ],
          [
           "downtempo"
          ],
          [
           "downtempo bass"
          ],
          [
           "downtempo fusion"
          ],
          [
           "drama"
          ],
          [
           "drift"
          ],
          [
           "drill and bass"
          ],
          [
           "drone ambient"
          ],
          [
           "drum and bass"
          ],
          [
           "drumfunk"
          ],
          [
           "dub techno"
          ],
          [
           "dubsteppe"
          ],
          [
           "dusseldorf indie"
          ],
          [
           "dutch dnb"
          ],
          [
           "dutch experimental"
          ],
          [
           "dutch experimental electronic"
          ],
          [
           "dutch tech house"
          ],
          [
           "edmonton indie"
          ],
          [
           "egyptian pop"
          ],
          [
           "egyptian traditional"
          ],
          [
           "electra"
          ],
          [
           "electro house"
          ],
          [
           "electro jazz"
          ],
          [
           "electro swing"
          ],
          [
           "electro trash"
          ],
          [
           "electro-pop francais"
          ],
          [
           "electroclash"
          ],
          [
           "electrofox"
          ],
          [
           "electronica"
          ],
          [
           "electronica chilena"
          ],
          [
           "electronica peruana"
          ],
          [
           "electropop"
          ],
          [
           "electropowerpop"
          ],
          [
           "essex indie"
          ],
          [
           "etherpop"
          ],
          [
           "ethnomusicology"
          ],
          [
           "ethnotronica"
          ],
          [
           "euro hi-nrg"
          ],
          [
           "eurobeat"
          ],
          [
           "euskal musica"
          ],
          [
           "euskal rock"
          ],
          [
           "eventyr"
          ],
          [
           "experimental bass"
          ],
          [
           "experimental house"
          ],
          [
           "experimental jazz"
          ],
          [
           "experimental poetry"
          ],
          [
           "experimental pop"
          ],
          [
           "experimental r&b"
          ],
          [
           "experimental synth"
          ],
          [
           "experimental techno"
          ],
          [
           "experimental vocal"
          ],
          [
           "fake"
          ],
          [
           "fidget house"
          ],
          [
           "filter house"
          ],
          [
           "finnish electro"
          ],
          [
           "finnish electronic"
          ],
          [
           "finnish experimental"
          ],
          [
           "finnish jazz"
          ],
          [
           "finnish modern jazz"
          ],
          [
           "finnish techno"
          ],
          [
           "flamenco"
          ],
          [
           "flamenco fusion"
          ],
          [
           "flamenco urbano"
          ],
          [
           "flemish folk"
          ],
          [
           "float house"
          ],
          [
           "fluxwork"
          ],
          [
           "focus beats"
          ],
          [
           "focus trance"
          ],
          [
           "folclor afrocolombiano"
          ],
          [
           "folklore chileno"
          ],
          [
           "folklore peruano"
          ],
          [
           "folktronica"
          ],
          [
           "footwork"
          ],
          [
           "forest psy"
          ],
          [
           "francoton"
          ],
          [
           "frankfurt electronic"
          ],
          [
           "french dnb"
          ],
          [
           "french folk pop"
          ],
          [
           "french garage rock"
          ],
          [
           "french indie folk"
          ],
          [
           "french indie pop"
          ],
          [
           "french indietronica"
          ],
          [
           "french movie tunes"
          ],
          [
           "french pop"
          ],
          [
           "french psychedelic"
          ],
          [
           "french punk"
          ],
          [
           "french rock"
          ],
          [
           "french shoegaze"
          ],
          [
           "french synthpop"
          ],
          [
           "french tech house"
          ],
          [
           "french techno"
          ],
          [
           "frenchcore"
          ],
          [
           "full on"
          ],
          [
           "funk carioca"
          ],
          [
           "funk mexicano"
          ],
          [
           "funky breaks"
          ],
          [
           "funky house"
          ],
          [
           "funky tech house"
          ],
          [
           "future ambient"
          ],
          [
           "future bass"
          ],
          [
           "future garage"
          ],
          [
           "gabba"
          ],
          [
           "gaming edm"
          ],
          [
           "garage rock mexicano"
          ],
          [
           "garifuna folk"
          ],
          [
           "georgian pop"
          ],
          [
           "german dance"
          ],
          [
           "german dnb"
          ],
          [
           "german electronica"
          ],
          [
           "german house"
          ],
          [
           "german post-rock"
          ],
          [
           "german tech house"
          ],
          [
           "german techno"
          ],
          [
           "german trance"
          ],
          [
           "ghent indie"
          ],
          [
           "ghoststep"
          ],
          [
           "glitch"
          ],
          [
           "glitch beats"
          ],
          [
           "glitch hop"
          ],
          [
           "glitch pop"
          ],
          [
           "goa psytrance"
          ],
          [
           "gothenburg indie"
          ],
          [
           "gotlandsk musik"
          ],
          [
           "greek house"
          ],
          [
           "greek indie"
          ],
          [
           "greek indie rock"
          ],
          [
           "greek swing"
          ],
          [
           "greek techno"
          ],
          [
           "griot"
          ],
          [
           "groove room"
          ],
          [
           "guatemalan pop"
          ],
          [
           "guided meditation"
          ],
          [
           "guinean pop"
          ],
          [
           "gumbe"
          ],
          [
           "gypsy fusion"
          ],
          [
           "haitian dance"
          ],
          [
           "haitian gospel"
          ],
          [
           "halftime dnb"
          ],
          [
           "hamburg electronic"
          ],
          [
           "hamilton on indie"
          ],
          [
           "hangpan"
          ],
          [
           "hard trance"
          ],
          [
           "hardcore breaks"
          ],
          [
           "hardcore techno"
          ],
          [
           "hardstyle"
          ],
          [
           "hi-tech"
          ],
          [
           "highlife"
          ],
          [
           "hindi indie"
          ],
          [
           "hindustani classical"
          ],
          [
           "hindustani instrumental"
          ],
          [
           "hindustani vocal"
          ],
          [
           "hip hop galsen"
          ],
          [
           "hip-hop experimental"
          ],
          [
           "histoire pour enfants"
          ],
          [
           "hokkaido indie"
          ],
          [
           "house argentino"
          ],
          [
           "hungarian folk"
          ],
          [
           "hungarian techno"
          ],
          [
           "hypnosis"
          ],
          [
           "icelandic electronic"
          ],
          [
           "icelandic experimental"
          ],
          [
           "icelandic folk"
          ],
          [
           "icelandic indie"
          ],
          [
           "icelandic metal"
          ],
          [
           "icelandic pop"
          ],
          [
           "icelandic singer-songwriter"
          ],
          [
           "igbo traditional"
          ],
          [
           "illbient"
          ],
          [
           "indian classical"
          ],
          [
           "indian electronic"
          ],
          [
           "indian folk"
          ],
          [
           "indian fusion"
          ],
          [
           "indian indie"
          ],
          [
           "indian instrumental rock"
          ],
          [
           "indian percussion"
          ],
          [
           "indian rock"
          ],
          [
           "indie electronica"
          ],
          [
           "indie electropop"
          ],
          [
           "indie folk argentino"
          ],
          [
           "indie siciliano"
          ],
          [
           "indie soul"
          ],
          [
           "indietronica"
          ],
          [
           "industrial hardcore"
          ],
          [
           "industrial techno"
          ],
          [
           "intelligent dance music"
          ],
          [
           "iranian metal"
          ],
          [
           "irish electronic"
          ],
          [
           "irish hip hop"
          ],
          [
           "irish techno"
          ],
          [
           "irish underground rap"
          ],
          [
           "israeli indie"
          ],
          [
           "israeli singer-songwriter"
          ],
          [
           "israeli techno"
          ],
          [
           "italian electronica"
          ],
          [
           "italian experimental"
          ],
          [
           "italian lounge"
          ],
          [
           "italian techno"
          ],
          [
           "j-acoustic"
          ],
          [
           "j-ambient"
          ],
          [
           "j-idol"
          ],
          [
           "j-pop girl group"
          ],
          [
           "j-punk"
          ],
          [
           "j-rap"
          ],
          [
           "j-rock"
          ],
          [
           "jacksonville indie"
          ],
          [
           "japanese alternative pop"
          ],
          [
           "japanese beats"
          ],
          [
           "japanese chillhop"
          ],
          [
           "japanese dream pop"
          ],
          [
           "japanese electronic"
          ],
          [
           "japanese electropop"
          ],
          [
           "japanese girl punk"
          ],
          [
           "japanese idm"
          ],
          [
           "japanese indie pop"
          ],
          [
           "japanese instrumental"
          ],
          [
           "japanese jazz fusion"
          ],
          [
           "japanese jazztronica"
          ],
          [
           "japanese old school hip hop"
          ],
          [
           "japanese pop punk"
          ],
          [
           "japanese punk rock"
          ],
          [
           "japanese techno"
          ],
          [
           "japanese traditional"
          ],
          [
           "japanese vocal jazz"
          ],
          [
           "jaw harp"
          ],
          [
           "jazz house"
          ],
          [
           "jazztronica"
          ],
          [
           "jazzy dnb"
          ],
          [
           "jersey club"
          ],
          [
           "jordanian pop"
          ],
          [
           "juju"
          ],
          [
           "jump up"
          ],
          [
           "jungle"
          ],
          [
           "kaseko"
          ],
          [
           "kawaii future bass"
          ],
          [
           "kayokyoku"
          ],
          [
           "kenyan pop"
          ],
          [
           "khaliji"
          ],
          [
           "kids hip hop"
          ],
          [
           "kirtan"
          ],
          [
           "kizomba"
          ],
          [
           "kizomba antigas"
          ],
          [
           "kleinkunst"
          ],
          [
           "kompa"
          ],
          [
           "korean instrumental"
          ],
          [
           "kuduro antigo"
          ],
          [
           "kundalini"
          ],
          [
           "latin alternative"
          ],
          [
           "latin house"
          ],
          [
           "latin ska"
          ],
          [
           "latin surf rock"
          ],
          [
           "latin tech house"
          ],
          [
           "latintronica"
          ],
          [
           "latinx alternative"
          ],
          [
           "leipzig electronic"
          ],
          [
           "liquid funk"
          ],
          [
           "lithuanian electronic"
          ],
          [
           "lithuanian hip hop"
          ],
          [
           "livetronica"
          ],
          [
           "lo-fi beats"
          ],
          [
           "lo-fi house"
          ],
          [
           "lounge house"
          ],
          [
           "macedonian folk"
          ],
          [
           "mainland se asia metal"
          ],
          [
           "makossa"
          ],
          [
           "malagasy folk"
          ],
          [
           "malagasy pop"
          ],
          [
           "manchester hip hop"
          ],
          [
           "marathi traditional"
          ],
          [
           "marrabenta"
          ],
          [
           "mashup"
          ],
          [
           "mathgrind"
          ],
          [
           "mbalax"
          ],
          [
           "mbira"
          ],
          [
           "meditation"
          ],
          [
           "melbourne bounce"
          ],
          [
           "melodic techno"
          ],
          [
           "melodipop"
          ],
          [
           "metropopolis"
          ],
          [
           "mexican edm"
          ],
          [
           "mexican electronic"
          ],
          [
           "mexican experimental"
          ],
          [
           "microhouse"
          ],
          [
           "midwest americana"
          ],
          [
           "minimal dnb"
          ],
          [
           "minimal dub"
          ],
          [
           "minimal dubstep"
          ],
          [
           "minimal tech house"
          ],
          [
           "minimal techno"
          ],
          [
           "minneapolis indie"
          ],
          [
           "modern dream pop"
          ],
          [
           "modern electroacoustic"
          ],
          [
           "modular synth"
          ],
          [
           "modular techno"
          ],
          [
           "mongolian folk"
          ],
          [
           "monterrey indie"
          ],
          [
           "moorish traditional"
          ],
          [
           "morna"
          ],
          [
           "moroccan traditional"
          ],
          [
           "multidisciplinary"
          ],
          [
           "munich electronic"
          ],
          [
           "munich indie"
          ],
          [
           "musica afroperuana"
          ],
          [
           "musica angolana"
          ],
          [
           "musica aragonesa"
          ],
          [
           "musica brasiliense"
          ],
          [
           "musica cabo-verdiana"
          ],
          [
           "musica hondurena"
          ],
          [
           "musica mocambicana"
          ],
          [
           "musica prehispanica"
          ],
          [
           "musique guadeloupe"
          ],
          [
           "musique mandingue"
          ],
          [
           "musique peule"
          ],
          [
           "musique pour enfants"
          ],
          [
           "musique touareg"
          ],
          [
           "musique traditionnelle congolaise"
          ],
          [
           "nantes indie"
          ],
          [
           "narodna muzika"
          ],
          [
           "nederlandse hardstyle"
          ],
          [
           "neo-classical"
          ],
          [
           "neo-kraut"
          ],
          [
           "neo-synthpop"
          ],
          [
           "neotango"
          ],
          [
           "neurofunk"
          ],
          [
           "neurostep"
          ],
          [
           "new delhi indie"
          ],
          [
           "new french touch"
          ],
          [
           "new orleans indie"
          ],
          [
           "new rave"
          ],
          [
           "new tribe"
          ],
          [
           "ngoni"
          ],
          [
           "ninja"
          ],
          [
           "nintendocore"
          ],
          [
           "nitzhonot"
          ],
          [
           "noel quebecois"
          ],
          [
           "nordic ambient"
          ],
          [
           "norsk lovsang"
          ],
          [
           "norske viser"
          ],
          [
           "norwegian experimental"
          ],
          [
           "norwegian folk rock"
          ],
          [
           "norwegian gospel"
          ],
          [
           "norwegian house"
          ],
          [
           "norwegian indie"
          ],
          [
           "norwegian pop"
          ],
          [
           "norwegian psychedelic"
          ],
          [
           "norwegian singer-songwriter"
          ],
          [
           "norwegian space disco"
          ],
          [
           "norwegian techno"
          ],
          [
           "nottingham indie"
          ],
          [
           "nouvelle chanson francaise"
          ],
          [
           "nu disco"
          ],
          [
           "nu gaze"
          ],
          [
           "nu jazz"
          ],
          [
           "nu skool breaks"
          ],
          [
           "nu-cumbia"
          ],
          [
           "nubian traditional"
          ],
          [
           "nz dnb"
          ],
          [
           "nz electronic"
          ],
          [
           "nz reggae"
          ],
          [
           "okinawan folk"
          ],
          [
           "old school hard trance"
          ],
          [
           "old school uk hip hop"
          ],
          [
           "organic electronic"
          ],
          [
           "organic house"
          ],
          [
           "pakistani folk"
          ],
          [
           "persian alternative"
          ],
          [
           "persian electronic"
          ],
          [
           "peruvian indie"
          ],
          [
           "pittsburgh indie"
          ],
          [
           "polish electronica"
          ],
          [
           "polish experimental"
          ],
          [
           "polish experimental electronic"
          ],
          [
           "polish indie"
          ],
          [
           "polish indie rock"
          ],
          [
           "polish noise rock"
          ],
          [
           "polish post-rock"
          ],
          [
           "polish synthpop"
          ],
          [
           "polish techno"
          ],
          [
           "pop ambient"
          ],
          [
           "pop teen brasileiro"
          ],
          [
           "popwave"
          ],
          [
           "porro"
          ],
          [
           "portuguese techno"
          ],
          [
           "poznan indie"
          ],
          [
           "progressive breaks"
          ],
          [
           "progressive psytrance"
          ],
          [
           "psybass"
          ],
          [
           "psybreaks"
          ],
          [
           "psychedelic pop"
          ],
          [
           "psychedelic trance"
          ],
          [
           "psychill"
          ],
          [
           "psychokore"
          ],
          [
           "psydub"
          ],
          [
           "psytech"
          ],
          [
           "puglia indie"
          ],
          [
           "punk euskera"
          ],
          [
           "punk melodico chileno"
          ],
          [
           "punta"
          ],
          [
           "punta rock"
          ],
          [
           "purple sound"
          ],
          [
           "pygmy music"
          ],
          [
           "qawwali"
          ],
          [
           "queercore"
          ],
          [
           "ragga jungle"
          ],
          [
           "rajasthani folk"
          ],
          [
           "rajasthani pop"
          ],
          [
           "rap antillais"
          ],
          [
           "rap chileno"
          ],
          [
           "rap euskera"
          ],
          [
           "rap marseille"
          ],
          [
           "rap underground espanol"
          ],
          [
           "rave"
          ],
          [
           "raw techno"
          ],
          [
           "rawstyle"
          ],
          [
           "reggae peruano"
          ],
          [
           "relaxative"
          ],
          [
           "rennes indie"
          ],
          [
           "retro soul"
          ],
          [
           "rhode island indie"
          ],
          [
           "rock alternatif francais"
          ],
          [
           "rock chapin"
          ],
          [
           "rock mineiro"
          ],
          [
           "rogaland indie"
          ],
          [
           "rogaland musikk"
          ],
          [
           "romanian electronic"
          ],
          [
           "rumba"
          ],
          [
           "rumba catalana"
          ],
          [
           "rumba congolaise"
          ],
          [
           "russelater"
          ],
          [
           "russian alternative rock"
          ],
          [
           "russian dnb"
          ],
          [
           "russian electronic"
          ],
          [
           "russian emo rap"
          ],
          [
           "russian experimental electronic"
          ],
          [
           "russian hip hop"
          ],
          [
           "russian indie"
          ],
          [
           "russian indie rock"
          ],
          [
           "russian jazz"
          ],
          [
           "russian old school hip hop"
          ],
          [
           "russian post-punk"
          ],
          [
           "russian reggae"
          ],
          [
           "russian rock"
          ],
          [
           "russian synthpop"
          ],
          [
           "russian techno"
          ],
          [
           "russian thrash metal"
          ],
          [
           "russian trap"
          ],
          [
           "russian underground rap"
          ],
          [
           "ruta destroy"
          ],
          [
           "ryukyu ongaku"
          ],
          [
           "salzburg indie"
          ],
          [
           "sambass"
          ],
          [
           "san antonio indie"
          ],
          [
           "sarangi"
          ],
          [
           "sarod"
          ],
          [
           "schranz"
          ],
          [
           "scottish electronic"
          ],
          [
           "scottish hip hop"
          ],
          [
           "scottish techno"
          ],
          [
           "scratch"
          ],
          [
           "sefardi"
          ],
          [
           "semba"
          ],
          [
           "senegalese traditional"
          ],
          [
           "serbian folk"
          ],
          [
           "sevdah"
          ],
          [
           "sevillanas"
          ],
          [
           "shakuhachi"
          ],
          [
           "shamanic"
          ],
          [
           "shehnai"
          ],
          [
           "shimmer pop"
          ],
          [
           "shimmer psych"
          ],
          [
           "siberian folk"
          ],
          [
           "sierra leonean pop"
          ],
          [
           "singing bowl"
          ],
          [
           "slovak electronic"
          ],
          [
           "slovak hip hop"
          ],
          [
           "slovenian electronic"
          ],
          [
           "solipsynthm"
          ],
          [
           "somatik techno"
          ],
          [
           "soukous"
          ],
          [
           "soulful house"
          ],
          [
           "south african alternative"
          ],
          [
           "south african choral"
          ],
          [
           "south african deep house"
          ],
          [
           "south african electronic"
          ],
          [
           "south african house"
          ],
          [
           "south african modern jazz"
          ],
          [
           "south sudanese pop"
          ],
          [
           "space ambient"
          ],
          [
           "spacewave"
          ],
          [
           "spanish electronic"
          ],
          [
           "spanish electropop"
          ],
          [
           "spanish hip hop"
          ],
          [
           "spanish techno"
          ],
          [
           "speedcore"
          ],
          [
           "stateside dnb"
          ],
          [
           "substep"
          ],
          [
           "sungura"
          ],
          [
           "sunnlensk tonlist"
          ],
          [
           "suomisaundi"
          ],
          [
           "swedish electronic"
          ],
          [
           "swedish electropop"
          ],
          [
           "swedish house"
          ],
          [
           "swedish indie folk"
          ],
          [
           "swedish post-punk"
          ],
          [
           "swedish singer-songwriter"
          ],
          [
           "swedish synth"
          ],
          [
           "swedish synthpop"
          ],
          [
           "swedish techno"
          ],
          [
           "swiss house"
          ],
          [
           "swiss jazz"
          ],
          [
           "swiss techno"
          ],
          [
           "synthwave"
          ],
          [
           "synthwave brasileiro"
          ],
          [
           "syrian pop"
          ],
          [
           "taiwan experimental"
          ],
          [
           "tanzanian pop"
          ],
          [
           "tanzanian traditional"
          ],
          [
           "tassie indie"
          ],
          [
           "tech house"
          ],
          [
           "techno"
          ],
          [
           "techno argentina"
          ],
          [
           "tekk"
          ],
          [
           "tekno"
          ],
          [
           "terrorcore"
          ],
          [
           "thai metal"
          ],
          [
           "thai rock"
          ],
          [
           "throat singing"
          ],
          [
           "tibetan pop"
          ],
          [
           "tibetan traditional"
          ],
          [
           "tijuana electronic"
          ],
          [
           "tone"
          ],
          [
           "trance brasileiro"
          ],
          [
           "trance mexicano"
          ],
          [
           "traprun"
          ],
          [
           "trip hop"
          ],
          [
           "tuareg guitar"
          ],
          [
           "turkish edm"
          ],
          [
           "turkish electronic"
          ],
          [
           "turkish instrumental"
          ],
          [
           "tuvan folk"
          ],
          [
           "twin cities indie"
          ],
          [
           "twoubadou"
          ],
          [
           "uk dancehall"
          ],
          [
           "uk dnb"
          ],
          [
           "uk drill"
          ],
          [
           "uk experimental electronic"
          ],
          [
           "uk funky"
          ],
          [
           "uk hip hop"
          ],
          [
           "uk house"
          ],
          [
           "uk tech house"
          ],
          [
           "ukg revival"
          ],
          [
           "ukrainian electronic"
          ],
          [
           "ukrainian experimental"
          ],
          [
           "ukrainian rock"
          ],
          [
           "uptempo hardcore"
          ],
          [
           "vapor soul"
          ],
          [
           "vapor twitch"
          ],
          [
           "variete francaise"
          ],
          [
           "venezuelan hip hop"
          ],
          [
           "via"
          ],
          [
           "vienna indie"
          ],
          [
           "vintage radio show"
          ],
          [
           "vlaamse cabaret"
          ],
          [
           "vlaamse kinderliedje"
          ],
          [
           "vlaamse rap"
          ],
          [
           "vocal house"
          ],
          [
           "vogue"
          ],
          [
           "warm drone"
          ],
          [
           "warrington indie"
          ],
          [
           "wassoulou"
          ],
          [
           "weightless"
          ],
          [
           "weirdcore"
          ],
          [
           "west african jazz"
          ],
          [
           "west-vlaamse hip hop"
          ],
          [
           "western saharan folk"
          ],
          [
           "wonky"
          ],
          [
           "world"
          ],
          [
           "world chill"
          ],
          [
           "world devotional"
          ],
          [
           "world fusion"
          ],
          [
           "xhosa"
          ],
          [
           "xtra raw"
          ],
          [
           "ye ye"
          ],
          [
           "zambian hip hop"
          ],
          [
           "zim hip hop"
          ],
          [
           "zim urban groove"
          ],
          [
           "zouk"
          ],
          [
           "zouk riddim"
          ]
         ],
         "hovertemplate": "supergenre=electronica<br>emb1=%{x}<br>emb2=%{y}<br>genre=%{customdata[0]}<extra></extra>",
         "legendgroup": "electronica",
         "marker": {
          "color": "#19d3f3",
          "size": 6,
          "symbol": "circle"
         },
         "mode": "markers",
         "name": "electronica",
         "showlegend": true,
         "type": "scattergl",
         "x": [
          0.1395231,
          2.375617,
          5.565639,
          1.2082924,
          0.024021886,
          1.1639608,
          0.90486383,
          0.9505106,
          1.0750699,
          1.1389805,
          0.9712841,
          0.4577245,
          0.85770947,
          1.015447,
          0.33097667,
          1.1903975,
          1.2725173,
          1.21905,
          -0.16727109,
          2.509193,
          2.0275276,
          2.3615794,
          1.4816132,
          1.0565975,
          3.3640556000000004,
          0.9580494,
          1.2902161,
          1.2830653,
          0.9194629,
          1.1393955,
          0.91841936,
          5.915149700000001,
          0.55525047,
          6.164664,
          6.1723094000000005,
          3.0379748,
          3.7301621,
          4.8063507,
          -0.079158634,
          1.9428385,
          1.6955353,
          1.6291653999999998,
          2.1992755,
          2.2114522,
          -0.089241,
          -0.118443154,
          3.573881,
          3.509643,
          4.6592035,
          -0.8288383,
          0.7694095999999999,
          0.9678569,
          1.8171345,
          7.094655,
          3.2956939,
          6.5639460000000005,
          6.3032613,
          0.3766098,
          1.0888788,
          6.338582499999999,
          6.3245735,
          6.303883,
          6.343735,
          6.328037999999999,
          1.7846806,
          1.7910413,
          1.7416619999999998,
          1.7391505,
          1.771462,
          1.764403,
          6.4051347000000005,
          0.6963835,
          6.097001000000001,
          0.88418955,
          5.836166400000001,
          0.49511042,
          6.031708999999999,
          0.7970316999999999,
          0.6785753000000001,
          -0.5391083999999999,
          1.0733534,
          -0.0068745733999999,
          -0.06891223,
          0.070786506,
          0.99008775,
          0.8241475,
          0.06707961,
          1.0102549,
          -0.012971466,
          1.078908,
          0.15071622,
          1.3458183,
          0.49209282,
          0.43456548,
          0.5926629,
          2.4053411,
          0.9965582,
          1.0227928,
          1.0196321,
          3.0195796,
          0.45896918,
          2.4246964,
          1.6023493,
          0.2683110999999999,
          2.7950253,
          -4.674649700000001,
          0.882116,
          -4.272368,
          6.723121000000001,
          5.914680000000001,
          3.4947102,
          3.6217341,
          6.4525023,
          6.4987526,
          4.6437035,
          6.4158025,
          6.916640299999999,
          0.72847015,
          -3.760837,
          -4.602448000000001,
          0.82264197,
          0.8155908000000001,
          0.019251255,
          0.20020041,
          2.746651,
          5.5554223,
          7.127391,
          0.41809413,
          0.24800573,
          1.1373216999999998,
          5.9226027000000006,
          1.8168528,
          0.17674306,
          6.088341000000001,
          6.4554725,
          0.22188951,
          2.2425787,
          0.42659226,
          6.272221,
          5.880171,
          0.4803630999999999,
          6.215053599999999,
          6.2455683,
          0.99603397,
          0.932394,
          4.081133400000001,
          -0.06609579,
          0.9416504,
          -4.6492796,
          6.432136,
          0.67829096,
          1.8515095,
          0.18039826,
          -4.595749,
          -3.785131,
          -4.6137385,
          1.3708280000000002,
          1.1229591,
          6.443973000000001,
          6.409155999999999,
          6.1128955000000005,
          6.212031,
          2.8358397,
          3.03273,
          1.1165545,
          1.1317492,
          1.0352442,
          2.802637,
          0.9967196,
          5.8625703,
          6.013063400000001,
          1.5455571,
          -0.61290354,
          0.64813596,
          0.82571685,
          -0.066294454,
          1.430592,
          1.2258321,
          1.6154316999999998,
          1.0644506,
          0.8998972,
          6.374768,
          0.659866,
          0.58106977,
          -0.050606687,
          0.7094059,
          0.1562377,
          0.7628246999999999,
          0.78942096,
          0.27251515,
          2.8836713,
          -0.63802844,
          0.7387569,
          0.28578696,
          1.1514938,
          2.3363976,
          0.0157749989999999,
          -0.0116298539999999,
          0.6085941999999999,
          2.4290798,
          0.6102327,
          -0.19256057,
          0.80630535,
          0.978031,
          0.23587695,
          3.0477996,
          6.457404599999999,
          1.0312581,
          0.8674527,
          2.4844072,
          0.91503745,
          6.5970807,
          6.394596,
          0.18157119,
          1.0054759,
          -0.64689606,
          0.75742954,
          0.81300116,
          0.94719136,
          -0.19115297,
          1.6468835,
          0.998088,
          1.6539717,
          -0.13326472,
          -0.11201928,
          1.0780808000000002,
          -0.13478324,
          1.1477128,
          -0.04926706,
          1.6522628,
          4.931616,
          0.3666281,
          2.8919246,
          6.1873612,
          5.9399114,
          1.0232306,
          0.011591347,
          0.71964264,
          0.82548124,
          2.4025812,
          2.0396988,
          2.3574011,
          2.2064133,
          1.0243943000000002,
          1.1061311000000005,
          -3.4718947,
          1.8403069,
          2.7527263,
          2.6054688,
          2.8042727000000003,
          1.1955341,
          0.7942234,
          0.22480145,
          6.6762886,
          -4.372853,
          -4.291195,
          5.895455999999999,
          0.4330529,
          0.87111604,
          0.74486446,
          3.203061,
          2.6832385,
          2.4746518,
          1.3489565,
          1.2333405000000002,
          2.478751700000001,
          -0.53017956,
          0.19424571,
          1.7132272000000002,
          4.825206,
          0.5916583000000001,
          1.3497397,
          4.7608120000000005,
          4.7466297,
          1.2585031,
          -4.655778400000001,
          -4.639801,
          -4.6730323,
          1.7983668000000002,
          0.9120873,
          1.1306322,
          0.0066531132999999,
          0.7094942,
          -3.8965256,
          -4.615596,
          0.8834139000000001,
          2.4094617,
          0.38480523,
          0.6566366,
          6.436844000000001,
          0.8525495999999999,
          -0.122219555,
          6.3439293,
          6.358242,
          4.703663,
          6.3610783,
          6.378674500000001,
          0.746347,
          6.4226527,
          6.3835144,
          6.344744,
          6.352333,
          2.3810709,
          6.3988814000000005,
          0.97746515,
          1.4672048,
          -0.6579729,
          0.64076823,
          1.0751743,
          -4.36042,
          1.5651522,
          0.20108084,
          0.22682184,
          1.3666502,
          0.43430626,
          0.34047028,
          -0.63564503,
          0.00021471693,
          -4.3841476,
          0.9041252,
          0.85227025,
          0.5289245,
          -0.040504687,
          1.2884225,
          0.756367,
          1.2842383,
          0.80174446,
          0.6829271,
          0.4100152,
          1.7550366000000002,
          0.3298092999999999,
          1.2284959999999998,
          1.2514789,
          0.49896774,
          1.4084351000000002,
          0.6937584,
          2.3105006,
          4.490247,
          0.5595456999999999,
          1.5755624,
          1.6157648999999998,
          1.6029751,
          0.96102524,
          0.95767075,
          0.586691,
          -4.4657755,
          5.059108999999999,
          0.97514015,
          1.0138248,
          7.0923295,
          0.7505503000000001,
          0.95095754,
          0.39973187,
          0.6391331,
          2.506523,
          5.221914,
          0.45871994,
          -0.38004315,
          -0.511861,
          -0.6789433000000001,
          0.6625209,
          1.0072331,
          6.9168363,
          6.6423335,
          6.61305,
          6.799440400000001,
          0.49883488,
          0.86216915,
          6.4205613,
          6.6488943,
          0.92957854,
          7.1988864,
          0.43383884,
          5.0786858,
          1.9092135,
          2.3496490000000003,
          2.2563941,
          2.2503362,
          5.906741,
          2.222261,
          2.2562962000000004,
          1.013514,
          0.77430713,
          6.6445537,
          6.8506026,
          7.126750500000001,
          6.890316499999999,
          6.882489,
          6.9232830000000005,
          6.641247,
          6.9311867,
          1.1933753,
          1.7647626,
          0.7341375,
          6.561430499999999,
          1.0510981,
          2.437768,
          -0.63458836,
          0.9591062,
          1.0865773,
          6.1332474,
          -0.56534857,
          -0.053388447,
          0.93208545,
          -0.085316926,
          1.4476101,
          6.743092,
          0.79782575,
          -3.8103225,
          1.4846933999999998,
          0.74659157,
          0.82501936,
          6.4517217,
          1.3673805,
          6.4481316,
          6.480706,
          6.713092,
          6.3039203,
          6.6744776,
          2.3852832000000004,
          2.5096245,
          0.068404496,
          0.05598713,
          6.1946287,
          1.3702875,
          6.3222466,
          6.6758647,
          1.2600147,
          1.3670499,
          6.659826299999999,
          6.1907697,
          6.1653786,
          0.2585184,
          6.641636,
          6.700963499999999,
          1.2079704,
          6.3739605,
          0.7335718000000001,
          2.416282,
          0.77795565,
          0.77435154,
          -0.11535903,
          0.16239132,
          6.177242,
          1.0750196,
          -0.16976719,
          -0.15428059,
          -0.58807355,
          0.036521867,
          6.443985,
          0.90089464,
          5.8883605,
          0.016442925,
          5.13006,
          0.69943464,
          0.7059346,
          1.7934542000000002,
          0.7353272,
          1.5469649,
          1.0395696,
          5.113168,
          -4.3071365,
          0.19875097,
          -4.1524663,
          -4.3043666,
          0.2699176,
          -3.7927399,
          -4.420510299999999,
          0.8235574000000001,
          -0.06028914,
          1.2188461000000002,
          2.700969,
          0.75900614,
          0.01773619,
          0.65819716,
          1.8771459,
          7.217459,
          1.0076061,
          0.87226266,
          1.056747,
          1.0789913,
          -0.17675422,
          6.8061156,
          1.0410025,
          1.6949048,
          5.43558,
          1.0175431,
          1.1041331,
          5.0781245,
          0.025455939,
          0.8562134,
          0.7586814000000001,
          2.326195,
          0.5934687,
          1.0707568,
          1.3137435,
          1.0490539,
          2.9626358,
          0.31449002,
          0.8929103,
          0.14167225,
          0.7505212,
          0.8610558,
          3.0091066000000004,
          3.2799440000000004,
          1.6304495,
          1.1484016,
          0.8675094999999999,
          2.3805485,
          -4.31136,
          1.025093,
          0.81317437,
          6.444468,
          0.6742418,
          1.0464096,
          1.5349792,
          -3.552168,
          0.76082045,
          -4.3990736,
          0.8806572,
          0.84354985,
          0.8542873,
          1.0124729,
          5.023841,
          0.6188614,
          0.9834115,
          0.98659635,
          6.4711957,
          1.0166051,
          0.9859365,
          6.2877727,
          7.4480114,
          -0.5883156999999999,
          1.5637293,
          2.7060707,
          2.4438455,
          1.7637082,
          -0.09319371,
          -0.13686557,
          6.8750525,
          1.5563656,
          6.8543270000000005,
          2.5109928,
          5.157984,
          1.011246,
          0.7032964,
          5.480636,
          0.6339768,
          4.6483383,
          1.5094658,
          5.893504,
          5.883564499999999,
          5.7779584,
          5.829448999999999,
          5.8812776,
          0.08329039,
          5.829609400000001,
          5.8365464000000005,
          5.767812,
          5.7993927,
          1.7680552,
          1.8393602,
          3.3958445,
          6.390077,
          1.8245524,
          3.4448104,
          0.72131985,
          0.27124748,
          0.73594147,
          5.933622,
          -0.14148153,
          -0.16361295,
          -0.40592647,
          6.424405999999999,
          0.40286842,
          0.49908698,
          0.84434867,
          0.81491953,
          7.2652617,
          6.1741257,
          0.8188065,
          -4.431879,
          1.7767238999999997,
          0.71234244,
          0.82017595,
          1.3654848,
          2.344278,
          2.3743582,
          2.3832166,
          2.3622234,
          2.4551713,
          0.93818563,
          1.1080703,
          1.097257,
          1.7926767,
          -3.8427105,
          0.87929857,
          2.3609562000000004,
          0.86587346,
          0.6370686,
          0.7004967,
          0.22011094,
          3.2126656,
          0.653871,
          0.85933435,
          -0.80650914,
          0.90295595,
          0.5977555,
          -3.8282676,
          -4.334448,
          -4.662815,
          0.9090045,
          0.9204734,
          0.4053653,
          1.1887116000000002,
          7.2156982,
          3.8352447,
          -0.17495729,
          6.627373,
          6.661287299999999,
          0.6015484,
          -4.481446,
          -4.2462626,
          6.508536,
          -4.030594000000001,
          0.14918664,
          0.81361437,
          -0.6683076,
          -3.8375828,
          -0.56010395,
          6.397241,
          1.8084596,
          4.238045,
          6.416641,
          -4.449515,
          0.6590765000000001,
          5.864774,
          5.854499,
          0.49604428,
          -4.63794,
          -4.593182,
          0.8180819,
          0.8098574000000001,
          6.278881500000001,
          -0.10994154,
          6.194922,
          6.1812406,
          1.4772142,
          6.2081230000000005,
          6.2774653,
          6.2851467,
          6.1977660000000006,
          6.2529287,
          6.2565637,
          6.230222,
          6.2354746,
          6.187341,
          1.0140976000000002,
          1.4305903,
          6.2046475,
          6.2065907,
          0.8857195999999999,
          6.39737,
          2.3118882000000003,
          0.3271511,
          8.12909,
          6.622435,
          6.615173,
          0.79004544,
          0.9243806999999998,
          0.5620807,
          0.9261796,
          0.81903,
          6.264757599999999,
          0.89297223,
          0.9687524,
          7.4147797,
          7.379699700000001,
          -4.660668,
          6.3645377,
          5.1363,
          6.6548753,
          3.2109923,
          3.0101476000000003,
          2.4197404,
          0.86445534,
          5.1877894,
          -0.074382134,
          6.4249945,
          0.82976943,
          2.3575535,
          6.174846,
          0.8826288,
          0.24710344,
          0.7125611999999999,
          1.0866578000000002,
          0.3795002,
          0.6832071999999999,
          0.3585519,
          1.2162079,
          0.3905079999999999,
          1.6341643,
          1.0849231,
          1.1935563,
          -4.3563895,
          -4.008973999999999,
          0.6851951999999999,
          -0.6563273000000001,
          -0.11439587,
          0.26114768,
          1.1127039,
          2.269124,
          0.6458399,
          0.82040215,
          2.1800303,
          0.037465405,
          4.506836,
          4.574819000000001,
          4.5022793,
          5.522938,
          2.3253825,
          0.84900135,
          0.16039084,
          2.080189,
          5.4309306,
          1.6935539000000002,
          0.4670657,
          6.190224,
          2.7270014,
          0.61562514,
          1.1386359,
          0.8116028000000001,
          0.7426520000000001,
          0.85385627,
          0.9032342,
          -0.718015,
          -0.4697827,
          -0.61334926,
          0.96186924,
          -0.22125264,
          2.411639,
          5.0321736,
          5.071064499999999,
          1.3640871,
          5.082976,
          0.64969206,
          0.63713664,
          0.39608535,
          0.8354939,
          0.97913617,
          0.58225936,
          6.0992565,
          6.1986003,
          2.4359057,
          3.1557465,
          0.7884116999999999,
          -0.16256084,
          -0.12793288,
          -0.11643389,
          1.1865842,
          0.19909373,
          -0.15752777,
          0.11330251,
          0.4485517,
          -0.1639305,
          0.06446138,
          0.54301775,
          6.225643,
          -0.67335975,
          1.9923692,
          0.4908108,
          6.435798999999999,
          -4.020469,
          6.238233,
          3.6726408,
          -0.21073236,
          1.8800269,
          1.8403133000000005,
          1.7589145,
          0.23996937,
          0.20112464,
          1.6114656,
          3.0486298,
          1.0483065,
          0.32549974,
          1.0233026,
          1.0146772,
          1.8050042,
          0.99400276,
          0.4835514,
          1.0312343000000002,
          6.4321012,
          5.1308117,
          6.3345017,
          1.1475813,
          -0.6975131999999999,
          6.4807625,
          0.7057418000000001,
          1.2022405,
          1.1652662,
          0.6493220999999999,
          0.6180185
         ],
         "xaxis": "x",
         "y": [
          6.190214599999999,
          6.440167400000001,
          7.762,
          5.36397,
          7.613266499999999,
          5.47681,
          5.9527470000000005,
          5.961444999999999,
          5.565073,
          4.8570676,
          5.8870635,
          6.620777,
          2.6467755,
          3.673744,
          5.8321066,
          3.0468905,
          3.1262574,
          3.3881120000000005,
          5.9375515,
          6.8222466,
          2.8366194,
          6.657750599999999,
          5.214985400000001,
          5.652993700000001,
          6.2624245,
          5.173094,
          5.5465837,
          5.455757599999999,
          4.564414,
          5.5746293,
          4.723925,
          1.1741207,
          6.102832,
          1.2462223999999995,
          1.3149292,
          6.5285720000000005,
          6.6440682,
          2.0268867,
          5.1222706,
          7.058801700000001,
          6.838598299999999,
          5.112888,
          6.819126,
          7.1387186,
          5.223294999999999,
          5.1433334,
          6.3390484,
          6.3317760000000005,
          5.2942204,
          3.5089455000000003,
          2.6947548,
          3.014605,
          6.415785,
          4.481063,
          6.7712455,
          1.4445738,
          11.446271,
          5.5401416,
          5.43752,
          11.443937,
          11.472207,
          11.488967,
          11.385957,
          11.371163,
          6.0962763,
          6.435974,
          6.180862,
          6.1695156,
          6.095514,
          6.109721700000001,
          4.10308,
          6.225771,
          1.338623,
          2.692735,
          3.534971,
          5.080203,
          6.4916224,
          5.3401666,
          4.9067717,
          5.084423999999999,
          5.4758945,
          6.2180114,
          5.11546,
          5.9965763,
          5.755428299999999,
          6.1397114,
          5.1324615,
          5.481577,
          5.151358,
          0.13771899,
          5.3571777,
          7.386886599999999,
          5.2261496,
          6.7062445,
          6.1004086,
          6.432156,
          3.2626622000000003,
          2.9446425,
          3.66972,
          7.299198,
          6.1467667,
          6.7684880000000005,
          5.318249,
          6.169277,
          6.749472,
          6.201835,
          3.001755,
          5.0314093,
          1.3272898000000002,
          1.6374921999999998,
          6.4168067,
          6.616422,
          4.048839,
          4.120638,
          5.2774105,
          4.046093,
          1.0545502,
          6.147256,
          5.066514499999999,
          5.399257700000001,
          5.135432700000001,
          5.129800299999999,
          7.612661999999999,
          5.705092,
          6.8323584,
          7.5756416,
          4.494821,
          5.567643,
          6.2388177,
          3.034795,
          1.4381137,
          6.052729,
          5.5797777,
          3.7787023,
          4.09391,
          6.1761336,
          6.3693647,
          5.2572002,
          1.4214,
          3.4679174,
          6.213925,
          11.443309,
          11.465137,
          5.8217587,
          5.8672,
          2.7779014,
          6.341586599999999,
          2.639082,
          6.164689,
          4.079226,
          4.9078946,
          6.4855704,
          6.210955599999999,
          5.284214,
          5.3372927,
          5.2874007,
          6.895034299999999,
          5.299591,
          4.1932144000000005,
          4.2127995,
          4.992100700000001,
          1.3331885,
          6.7966880000000005,
          7.3062797,
          5.797380400000001,
          5.8350706,
          5.771012000000001,
          7.137778999999999,
          5.7952185,
          3.4929008,
          1.3787689,
          6.2478848,
          5.021194,
          4.500862000000001,
          6.0736513,
          5.1879053,
          6.5096955,
          5.554705599999999,
          5.138038,
          5.45166,
          5.121003,
          1.5496813,
          4.52998,
          6.0263615,
          5.2278404,
          5.120346,
          5.396095,
          5.959219,
          5.220903400000001,
          6.135191000000001,
          6.942060000000001,
          5.142317,
          6.184281,
          6.0421586,
          5.4942627,
          5.9016123,
          5.1614485,
          5.121201,
          6.062313,
          6.758530599999999,
          4.574949299999999,
          5.192825,
          5.925886,
          5.878429,
          6.283674,
          7.273461999999999,
          4.0277314,
          6.390343,
          5.934117,
          6.7640185,
          6.0379596,
          1.389646,
          6.067068,
          6.2144556,
          3.7072744,
          5.003978,
          5.059906,
          5.007634599999999,
          4.55114,
          5.193975,
          5.1120257,
          5.5233235,
          5.162531,
          5.17662,
          5.1707315000000005,
          5.6830225,
          5.134445,
          5.49545,
          5.1958976,
          5.0511885,
          5.7090797,
          6.1797385,
          6.734091,
          1.3145132,
          1.0199829,
          5.912804,
          6.324097599999999,
          4.978832,
          5.132162,
          6.737696000000001,
          6.7596855,
          6.7365456,
          6.639100999999999,
          5.6065316,
          5.8250910000000005,
          5.6627746,
          6.971256299999999,
          6.834906599999999,
          6.84345,
          6.312989,
          2.9389057000000003,
          6.083507,
          6.233386,
          5.9331713,
          5.305479,
          5.4965873,
          3.4555829,
          5.5272593,
          5.918669,
          5.023872,
          2.1720555,
          6.5035458,
          6.6044292,
          5.144149,
          6.0823426,
          6.4183445,
          5.0767083,
          6.1186485,
          6.4306602,
          10.635451,
          5.278374,
          5.4127088,
          10.554889,
          10.546155,
          5.3905015,
          6.181108999999999,
          6.131283799999999,
          6.1942363,
          6.1144047,
          5.8691587,
          5.6028786,
          7.5958743,
          6.0844994,
          4.8886476,
          5.310874,
          2.9607334,
          6.4265265,
          5.505234,
          4.499992400000001,
          3.9913642,
          6.1602163,
          5.146938,
          4.057985,
          4.0420675,
          5.2598395,
          4.139521,
          4.104832,
          5.007193,
          4.0689907,
          4.147469,
          4.0350366,
          4.0835915,
          6.7109704,
          4.111288,
          5.994074,
          6.203023,
          4.937171,
          4.530242400000001,
          0.1287125,
          5.214734,
          3.7493474,
          6.189867,
          6.1939754,
          5.77787,
          5.6712394,
          5.526907,
          5.0294685,
          6.218547,
          5.20762,
          2.833242,
          5.9023585,
          6.675369,
          5.2544656,
          5.7031846,
          5.940437,
          5.671133,
          6.0780582,
          6.256055,
          6.642595299999999,
          6.189245,
          5.576174,
          5.396254,
          5.7846093000000005,
          5.492562,
          5.723532700000001,
          4.546969,
          6.576145599999999,
          4.0028853,
          6.0547104,
          6.836306,
          6.8086,
          6.816960000000001,
          5.82066,
          2.9150970000000003,
          6.335361499999999,
          5.1355543,
          2.0427055,
          2.9011014,
          2.8829796,
          4.4904137,
          3.0120065,
          2.6222372000000003,
          5.523902,
          6.1587133000000005,
          6.7902412,
          2.043831,
          6.696081,
          5.0822268,
          5.0408916,
          5.064441,
          4.5368657,
          2.9043996,
          1.04997,
          1.380668,
          1.3517615,
          1.243481,
          2.9480734,
          5.226458,
          4.0597434,
          6.026212999999999,
          5.916572,
          8.805361,
          6.1209383,
          2.060257,
          6.1492605000000005,
          6.529311,
          6.365480000000001,
          6.309189,
          9.788551,
          6.4169540000000005,
          6.4480260000000005,
          2.8632083,
          5.2162313,
          1.3587446,
          1.107153,
          0.90896165,
          1.0738132,
          1.0861245000000002,
          1.0551909,
          1.3617051000000002,
          1.0546453000000002,
          5.583449,
          6.868278500000001,
          5.099958999999999,
          1.7495264,
          7.581962599999999,
          6.7108817,
          5.0221887,
          5.986374,
          5.58098,
          1.5153631,
          5.119869,
          5.693955,
          5.9981923,
          5.8274255,
          3.2308753,
          4.691461,
          5.976275,
          5.5788083,
          5.390801000000001,
          5.0123334,
          5.9768105,
          4.232163,
          5.359389299999999,
          6.034895,
          6.095489499999999,
          6.1295075,
          5.9713817,
          6.0233693,
          6.672316,
          6.698432400000001,
          7.6394405,
          7.5433493,
          6.0307207,
          5.283493,
          5.9894586,
          6.0918220000000005,
          5.332788,
          5.365333000000001,
          5.674899,
          5.838321700000001,
          5.833122299999999,
          7.256552,
          6.005371,
          6.0625954,
          5.683232299999999,
          1.6665738999999995,
          5.0431867,
          6.412403,
          5.749164,
          5.0173635,
          5.172130999999999,
          6.2657075,
          1.2892506,
          3.0018306,
          5.202458,
          5.1784005,
          5.122062000000001,
          7.587428999999999,
          4.204126400000001,
          2.7343454,
          1.513041,
          7.597779300000001,
          2.0489610000000003,
          3.0352964,
          3.0462906000000003,
          6.0830135,
          3.0290517999999995,
          5.078801,
          5.3891563,
          2.0725074,
          5.153919999999999,
          6.1575274,
          5.3844028,
          5.2295547,
          6.201986,
          5.625549299999999,
          5.1129665,
          5.987277,
          5.105235,
          5.538228,
          10.289357,
          4.8349686,
          7.580241,
          5.706279,
          6.4630704,
          4.461017,
          5.594755999999999,
          2.7055638,
          2.950086,
          2.947058,
          5.595347,
          1.2436887,
          2.96956,
          6.1380897,
          7.5320582,
          2.9094791,
          2.9154441,
          2.0881171000000003,
          6.2679787000000005,
          5.963384,
          5.1572556,
          6.680846000000001,
          4.590908,
          5.699485299999999,
          5.361292,
          5.7603574,
          6.529562,
          5.498373,
          6.0032787,
          5.3681035,
          5.9519105,
          6.011703,
          6.633177000000001,
          7.134367,
          5.115697,
          5.455133999999999,
          5.967053400000001,
          6.4117184,
          5.093566,
          2.9335325,
          2.9368894,
          1.2999889,
          5.522463,
          5.8201275,
          5.886169000000001,
          5.5647855,
          3.0351074,
          5.41352,
          4.9240537,
          2.9691486,
          2.8088405,
          2.972599,
          2.1473472,
          3.1408,
          2.8306918,
          2.8652394,
          4.1001883,
          2.887726,
          2.9410694,
          4.076521,
          4.457148999999999,
          5.0826235,
          5.131637,
          6.748937,
          6.7880993,
          1.7416677,
          5.167632,
          5.1269345,
          1.0900458999999998,
          6.2613053,
          4.529547,
          6.735932400000001,
          2.0838735,
          2.8795787999999995,
          5.227183999999999,
          7.725063,
          4.5256620000000005,
          5.2364435,
          5.2849836,
          3.4118335,
          3.4930813,
          3.585539,
          3.5171409,
          3.4526343,
          6.2693157,
          3.4971526,
          3.4587145,
          3.6011605,
          3.5016491000000003,
          6.3866625,
          6.4358788,
          6.3160267,
          4.054977399999999,
          6.4746723,
          7.215289999999999,
          5.0963097,
          5.1633515,
          5.043813,
          1.0154414,
          5.1285496,
          5.080936,
          3.5797315000000003,
          1.5735595,
          6.6856914000000005,
          5.3299365,
          5.9936666,
          6.053726999999999,
          0.76971996,
          1.5303454,
          6.077588,
          5.336255599999999,
          6.246792299999999,
          5.079839,
          5.244868299999999,
          5.334459,
          10.178296,
          10.204871,
          10.204306,
          10.184624,
          10.157947,
          5.7758617,
          5.6635914000000005,
          0.11399842,
          6.411948000000001,
          4.906895,
          6.0223427,
          10.226468,
          4.630946,
          4.514872,
          5.020869,
          5.134956,
          6.7177663,
          4.5125012,
          4.5506682000000005,
          3.783638700000001,
          4.6040096,
          4.5596404,
          5.5794015,
          5.466408299999999,
          5.294907,
          2.8612580000000003,
          2.8656354,
          5.5358220000000005,
          2.9233290000000003,
          0.8259715,
          6.7343535,
          5.1064050000000005,
          1.3661252000000002,
          1.3647764,
          3.1719902,
          5.3571167,
          5.474122,
          3.8425283,
          5.0775456,
          5.1395555,
          6.053564499999999,
          5.1034865,
          5.3657336,
          4.961874,
          4.0546165,
          3.4141119,
          6.708647999999999,
          4.040526399999999,
          5.124841,
          0.2955975999999999,
          3.4853203,
          3.485027,
          5.417111,
          6.1453433,
          6.143252400000001,
          2.6732376,
          6.0070143,
          11.460881,
          5.111139,
          11.491299,
          11.558646,
          5.3076487,
          11.502946,
          11.469093,
          11.465232,
          11.43833,
          11.483533,
          11.4344015,
          11.465192,
          11.46763,
          11.529407,
          5.899836,
          5.317146,
          11.527483,
          11.529607,
          5.1560044000000005,
          1.6207709,
          6.763272,
          5.0597706,
          6.017681,
          1.3660755,
          1.3837379,
          6.079909,
          5.4338713,
          5.5092697,
          5.8409452,
          5.1843953,
          0.32279748,
          2.9965918,
          2.8393555,
          4.463049400000001,
          4.477328,
          6.177866000000001,
          1.6380576,
          2.066365,
          1.3674859,
          6.735488,
          6.7424273,
          6.4235725,
          2.9061575,
          2.0363858,
          5.106953,
          4.193609,
          6.0146155,
          6.745744,
          11.499268,
          2.7222006000000003,
          6.1133914,
          5.0421143,
          2.8989503,
          5.7396145,
          5.038608999999999,
          5.7515893,
          3.397989700000001,
          5.7953496,
          4.987601799999999,
          6.2565117,
          5.5407720000000005,
          5.328221,
          5.116639,
          5.911374,
          5.013008599999999,
          5.174452,
          5.587396599999999,
          2.9474478,
          6.476291000000001,
          4.5200276,
          6.016292,
          6.723858,
          6.422003299999999,
          4.114274,
          3.8796747,
          3.9896157,
          5.4724526,
          6.690810000000001,
          6.033588,
          6.278121,
          2.8358216,
          5.512133,
          6.420893700000001,
          5.1118245,
          1.3168703000000002,
          6.4730215,
          2.6783588,
          2.918059,
          4.906404,
          6.0568376,
          5.9780436,
          5.974186,
          4.5821404,
          5.043885,
          5.0182133,
          5.6142306,
          8.652269,
          6.402938400000001,
          2.072515,
          2.0956407,
          5.3253900000000005,
          2.073125,
          4.507999,
          4.559533999999999,
          5.9103565,
          5.2075343,
          2.8654785,
          6.310997,
          0.89167356,
          0.69678146,
          6.4149,
          6.899469,
          2.9939976,
          5.987449,
          5.195787999999999,
          5.952634,
          5.4076085,
          6.1363897000000005,
          5.862565,
          6.2025995,
          6.182815,
          6.00358,
          5.182647,
          5.275796400000001,
          11.477943,
          4.976719,
          6.8194056,
          5.6158156,
          4.0423856,
          5.122120400000001,
          11.455456,
          6.32739,
          5.1937532,
          5.973118,
          6.0122633,
          6.132759,
          6.146664,
          6.1708946,
          5.145794400000001,
          6.5136185,
          2.8965268,
          5.529118,
          5.504623400000001,
          2.9031130000000003,
          6.11178,
          2.8560066,
          5.5142093,
          2.9100244,
          1.6424141,
          2.0873559,
          1.3787957,
          3.0052638,
          5.0508165,
          4.0220766,
          8.095866000000001,
          3.0174959,
          2.9722474,
          3.0927854,
          3.1607177
         ],
         "yaxis": "y"
        },
        {
         "customdata": [
          [
           "\"punk n roll\""
          ],
          [
           "aarhus indie"
          ],
          [
           "aberdeen indie"
          ],
          [
           "acid rock"
          ],
          [
           "acoustic punk"
          ],
          [
           "acoustic rock"
          ],
          [
           "action rock"
          ],
          [
           "adoracion"
          ],
          [
           "adventista"
          ],
          [
           "african rock"
          ],
          [
           "afrikaans"
          ],
          [
           "alabama indie"
          ],
          [
           "alabama metal"
          ],
          [
           "alaska indie"
          ],
          [
           "albany ny indie"
          ],
          [
           "album rock"
          ],
          [
           "albuquerque indie"
          ],
          [
           "algerian folk"
          ],
          [
           "alternative hardcore"
          ],
          [
           "alternative metal"
          ],
          [
           "alternative pop"
          ],
          [
           "alternative pop rock"
          ],
          [
           "alternative rock"
          ],
          [
           "american metalcore"
          ],
          [
           "american oi"
          ],
          [
           "anarcho-punk"
          ],
          [
           "animal singing"
          ],
          [
           "anime rock"
          ],
          [
           "anthem emo"
          ],
          [
           "anthem worship"
          ],
          [
           "anti-folk"
          ],
          [
           "antiviral pop"
          ],
          [
           "arabic hip hop"
          ],
          [
           "arizona punk"
          ],
          [
           "arkansas metal"
          ],
          [
           "art rock"
          ],
          [
           "asbury park indie"
          ],
          [
           "athens indie"
          ],
          [
           "atlanta metal"
          ],
          [
           "atlanta punk"
          ],
          [
           "atmospheric post-metal"
          ],
          [
           "atmospheric sludge"
          ],
          [
           "auckland indie"
          ],
          [
           "aussie emo"
          ],
          [
           "austin rock"
          ],
          [
           "austindie"
          ],
          [
           "australian alternative rock"
          ],
          [
           "australian comedy"
          ],
          [
           "australian garage punk"
          ],
          [
           "australian hardcore"
          ],
          [
           "australian indie folk"
          ],
          [
           "australian indie rock"
          ],
          [
           "australian indigenous"
          ],
          [
           "australian metalcore"
          ],
          [
           "australian psych"
          ],
          [
           "australian reggae fusion"
          ],
          [
           "australian rock"
          ],
          [
           "australian shoegaze"
          ],
          [
           "australian ska"
          ],
          [
           "austrian hip hop"
          ],
          [
           "austropop"
          ],
          [
           "avant-rock"
          ],
          [
           "backing track"
          ],
          [
           "bagpipe"
          ],
          [
           "bagpipe marching band"
          ],
          [
           "bahamian folk"
          ],
          [
           "bangladeshi hip hop"
          ],
          [
           "baptist gospel"
          ],
          [
           "barbershop"
          ],
          [
           "barnemusikk"
          ],
          [
           "baroque pop"
          ],
          [
           "bath indie"
          ],
          [
           "baton rouge indie"
          ],
          [
           "bay area indie"
          ],
          [
           "beach music"
          ],
          [
           "beat italiano"
          ],
          [
           "beatdown"
          ],
          [
           "beatlesque"
          ],
          [
           "birmingham hip hop"
          ],
          [
           "birmingham indie"
          ],
          [
           "black punk"
          ],
          [
           "black sludge"
          ],
          [
           "blasmusik"
          ],
          [
           "blues"
          ],
          [
           "blues rock"
          ],
          [
           "blues-rock guitar"
          ],
          [
           "boogie-woogie"
          ],
          [
           "boston hardcore"
          ],
          [
           "boston indie"
          ],
          [
           "boston metal"
          ],
          [
           "boston punk"
          ],
          [
           "boston rock"
          ],
          [
           "brazilian ccm"
          ],
          [
           "brazilian emo"
          ],
          [
           "brazilian groove metal"
          ],
          [
           "brazilian indie"
          ],
          [
           "brazilian post-hardcore"
          ],
          [
           "brazilian post-rock"
          ],
          [
           "brazilian punk rock"
          ],
          [
           "brazilian reggae"
          ],
          [
           "brazilian rock"
          ],
          [
           "brazilian stoner rock"
          ],
          [
           "brazilian surf rock"
          ],
          [
           "brazilian thrash metal"
          ],
          [
           "brighton indie"
          ],
          [
           "brill building pop"
          ],
          [
           "british alternative rock"
          ],
          [
           "british blues"
          ],
          [
           "british comedy"
          ],
          [
           "british electroacoustic"
          ],
          [
           "british indie rock"
          ],
          [
           "british invasion"
          ],
          [
           "british math rock"
          ],
          [
           "britpop"
          ],
          [
           "brooklyn indie"
          ],
          [
           "bubblegrunge"
          ],
          [
           "bubblegum pop"
          ],
          [
           "bush ballad"
          ],
          [
           "cajun"
          ],
          [
           "calgary indie"
          ],
          [
           "cambridgeshire indie"
          ],
          [
           "canadian blues"
          ],
          [
           "canadian ccm"
          ],
          [
           "canadian celtic"
          ],
          [
           "canadian comedy"
          ],
          [
           "canadian garage rock"
          ],
          [
           "canadian hardcore"
          ],
          [
           "canadian pop punk"
          ],
          [
           "canadian punk"
          ],
          [
           "canadian rock"
          ],
          [
           "canadian shoegaze"
          ],
          [
           "canadian stoner rock"
          ],
          [
           "canberra indie"
          ],
          [
           "candy pop"
          ],
          [
           "cape breton folk"
          ],
          [
           "cape town indie"
          ],
          [
           "ccm"
          ],
          [
           "ceilidh"
          ],
          [
           "celtic punk"
          ],
          [
           "celtic rock"
          ],
          [
           "chakra"
          ],
          [
           "channel islands indie"
          ],
          [
           "chapman stick"
          ],
          [
           "charlottesville indie"
          ],
          [
           "chicago blues"
          ],
          [
           "chicago indie"
          ],
          [
           "chicano punk"
          ],
          [
           "christelijk"
          ],
          [
           "christian alternative rock"
          ],
          [
           "christian dance"
          ],
          [
           "christian hard rock"
          ],
          [
           "christian music"
          ],
          [
           "christian pop"
          ],
          [
           "christian punk"
          ],
          [
           "christian relaxative"
          ],
          [
           "christian rock"
          ],
          [
           "christmas product"
          ],
          [
           "cincinnati indie"
          ],
          [
           "circus"
          ],
          [
           "classic canadian rock"
          ],
          [
           "classic danish pop"
          ],
          [
           "classic danish rock"
          ],
          [
           "classic dutch pop"
          ],
          [
           "classic garage rock"
          ],
          [
           "classic girl group"
          ],
          [
           "classic greek rock"
          ],
          [
           "classic hungarian pop"
          ],
          [
           "classic hungarian rock"
          ],
          [
           "classic nz country"
          ],
          [
           "classic nz pop"
          ],
          [
           "classic opm"
          ],
          [
           "classic praise"
          ],
          [
           "classic psychedelic rock"
          ],
          [
           "classic rock"
          ],
          [
           "classic soul"
          ],
          [
           "clean comedy"
          ],
          [
           "cleveland metal"
          ],
          [
           "cologne hip hop"
          ],
          [
           "columbus ohio indie"
          ],
          [
           "comedienne"
          ],
          [
           "comedy rock"
          ],
          [
           "comic"
          ],
          [
           "connecticut hardcore"
          ],
          [
           "connecticut indie"
          ],
          [
           "cork indie"
          ],
          [
           "cornwall indie"
          ],
          [
           "coventry indie"
          ],
          [
           "cowpunk"
          ],
          [
           "crack rock steady"
          ],
          [
           "crossover prog"
          ],
          [
           "crust punk"
          ],
          [
           "cyberpunk"
          ],
          [
           "d-beat"
          ],
          [
           "dalarna indie"
          ],
          [
           "dance rock"
          ],
          [
           "danish hip hop"
          ],
          [
           "danish punk"
          ],
          [
           "dark cabaret"
          ],
          [
           "dark clubbing"
          ],
          [
           "dark post-punk"
          ],
          [
           "dayton indie"
          ],
          [
           "dc hardcore"
          ],
          [
           "deathgrass"
          ],
          [
           "deep acoustic pop"
          ],
          [
           "deep ccm"
          ],
          [
           "deep christian rock"
          ],
          [
           "deep classic garage rock"
          ],
          [
           "deep disco"
          ],
          [
           "deep freestyle"
          ],
          [
           "deep german hip hop"
          ],
          [
           "deep indie pop"
          ],
          [
           "deep new wave"
          ],
          [
           "deep northern soul"
          ],
          [
           "deep pop emo"
          ],
          [
           "deep power-pop punk"
          ],
          [
           "deep punk rock"
          ],
          [
           "deep ragga"
          ],
          [
           "deep soft rock"
          ],
          [
           "deep surf music"
          ],
          [
           "deep underground hip hop"
          ],
          [
           "delaware indie"
          ],
          [
           "denver indie"
          ],
          [
           "derby indie"
          ],
          [
           "detroit rock"
          ],
          [
           "didgeridoo"
          ],
          [
           "disco"
          ],
          [
           "dissonant death metal"
          ],
          [
           "diy pop punk"
          ],
          [
           "doo-wop"
          ],
          [
           "double drumming"
          ],
          [
           "doujin"
          ],
          [
           "dreamgaze"
          ],
          [
           "dub punk"
          ],
          [
           "duluth indie"
          ],
          [
           "dundee indie"
          ],
          [
           "dunedin indie"
          ],
          [
           "dutch americana"
          ],
          [
           "dutch blues"
          ],
          [
           "dutch cabaret"
          ],
          [
           "dutch indie"
          ],
          [
           "dutch indie rock"
          ],
          [
           "dutch pop"
          ],
          [
           "dutch prog"
          ],
          [
           "dutch punk rock"
          ],
          [
           "dutch rap pop"
          ],
          [
           "dutch rock"
          ],
          [
           "dutch singer-songwriter"
          ],
          [
           "early reggae"
          ],
          [
           "early synthpop"
          ],
          [
           "early us punk"
          ],
          [
           "easycore"
          ],
          [
           "edinburgh indie"
          ],
          [
           "el paso indie"
          ],
          [
           "electric blues"
          ],
          [
           "electronic rock"
          ],
          [
           "electronicore"
          ],
          [
           "elephant 6"
          ],
          [
           "emo"
          ],
          [
           "english indie rock"
          ],
          [
           "erhu"
          ],
          [
           "ethereal gothic"
          ],
          [
           "ethereal wave"
          ],
          [
           "euroska"
          ],
          [
           "experimental percussion"
          ],
          [
           "fast melodic punk"
          ],
          [
           "florida hardcore"
          ],
          [
           "flute rock"
          ],
          [
           "folk rock"
          ],
          [
           "fort wayne indie"
          ],
          [
           "fort worth indie"
          ],
          [
           "freestyle"
          ],
          [
           "french experimental rock"
          ],
          [
           "french hardcore"
          ],
          [
           "french oi"
          ],
          [
           "friese muziek"
          ],
          [
           "funk metal"
          ],
          [
           "funk rock"
          ],
          [
           "gainesville indie"
          ],
          [
           "galician indie"
          ],
          [
           "garage pop"
          ],
          [
           "garage punk blues"
          ],
          [
           "garage rock"
          ],
          [
           "garage rock revival"
          ],
          [
           "geek rock"
          ],
          [
           "german alternative rock"
          ],
          [
           "german blues"
          ],
          [
           "german ccm"
          ],
          [
           "german drill"
          ],
          [
           "german hardcore"
          ],
          [
           "german hip hop"
          ],
          [
           "german literature"
          ],
          [
           "german r&b"
          ],
          [
           "german reggae"
          ],
          [
           "german rockabilly"
          ],
          [
           "german trap"
          ],
          [
           "german worship"
          ],
          [
           "glam metal"
          ],
          [
           "glam punk"
          ],
          [
           "glam rock"
          ],
          [
           "goa trance"
          ],
          [
           "gospel blues"
          ],
          [
           "gothabilly"
          ],
          [
           "gothic post-punk"
          ],
          [
           "granada indie"
          ],
          [
           "grand rapids indie"
          ],
          [
           "grebo"
          ],
          [
           "greek psychedelic rock"
          ],
          [
           "grunge"
          ],
          [
           "grunge pop"
          ],
          [
           "grunge revival"
          ],
          [
           "grunneger muziek"
          ],
          [
           "gymcore"
          ],
          [
           "h8000"
          ],
          [
           "hampton roads indie"
          ],
          [
           "hard alternative"
          ],
          [
           "hard chime"
          ],
          [
           "hard glam"
          ],
          [
           "hard rock"
          ],
          [
           "hard stoner rock"
          ],
          [
           "hardcore"
          ],
          [
           "hardvapour"
          ],
          [
           "harmonica blues"
          ],
          [
           "healing"
          ],
          [
           "heartland rock"
          ],
          [
           "heavy alternative"
          ],
          [
           "hi-nrg"
          ],
          [
           "hoerspiel"
          ],
          [
           "horror punk"
          ],
          [
           "horror punk brasileiro"
          ],
          [
           "hull indie"
          ],
          [
           "hungarian indie"
          ],
          [
           "hungarian metal"
          ],
          [
           "hungarian pop"
          ],
          [
           "hungarian punk"
          ],
          [
           "hungarian rock"
          ],
          [
           "icelandic hip hop"
          ],
          [
           "idaho indie"
          ],
          [
           "igbo worship"
          ],
          [
           "indie canario"
          ],
          [
           "indie cantabria"
          ],
          [
           "indie catala"
          ],
          [
           "indie dream pop"
          ],
          [
           "indie emo"
          ],
          [
           "indie garage rock"
          ],
          [
           "indie pop"
          ],
          [
           "indie pop rock"
          ],
          [
           "indie quebecois"
          ],
          [
           "indie rock"
          ],
          [
           "indie rockism"
          ],
          [
           "indie singer-songwriter"
          ],
          [
           "indie surf"
          ],
          [
           "indie veneto"
          ],
          [
           "indonesian ska"
          ],
          [
           "indorock"
          ],
          [
           "industrial metal"
          ],
          [
           "indy indie"
          ],
          [
           "instrumental bluegrass"
          ],
          [
           "instrumental death metal"
          ],
          [
           "instrumental math rock"
          ],
          [
           "instrumental progressive metal"
          ],
          [
           "instrumental rock"
          ],
          [
           "instrumental surf"
          ],
          [
           "irish experimental electronic"
          ],
          [
           "irish indie"
          ],
          [
           "irish indie rock"
          ],
          [
           "irish rebel song"
          ],
          [
           "irish rock"
          ],
          [
           "isle of man indie"
          ],
          [
           "isle of wight indie"
          ],
          [
           "israeli punk"
          ],
          [
           "italian gothic"
          ],
          [
           "italian modern prog"
          ],
          [
           "italian ska"
          ],
          [
           "j-core"
          ],
          [
           "jam band"
          ],
          [
           "jamtronica"
          ],
          [
           "jangle pop"
          ],
          [
           "jangle rock"
          ],
          [
           "japanese rockabilly"
          ],
          [
           "japanese shoegaze"
          ],
          [
           "japanese ska"
          ],
          [
           "jazz rock"
          ],
          [
           "junior songfestival"
          ],
          [
           "k-rock"
          ],
          [
           "kabyle"
          ],
          [
           "kalmar indie"
          ],
          [
           "kansas indie"
          ],
          [
           "kent indie"
          ],
          [
           "kentucky punk"
          ],
          [
           "kindermusik"
          ],
          [
           "kingston on indie"
          ],
          [
           "kiwi rock"
          ],
          [
           "kleine hoerspiel"
          ],
          [
           "knoxville indie"
          ],
          [
           "korean hardcore"
          ],
          [
           "korean punk"
          ],
          [
           "korean worship"
          ],
          [
           "kundiman"
          ],
          [
           "kurdish hip hop"
          ],
          [
           "la indie"
          ],
          [
           "lafayette indie"
          ],
          [
           "lancashire indie"
          ],
          [
           "latin christian"
          ],
          [
           "latin worship"
          ],
          [
           "lawrence ks indie"
          ],
          [
           "leeds indie"
          ],
          [
           "leicester indie"
          ],
          [
           "levenslied"
          ],
          [
           "liverpool indie"
          ],
          [
           "lo star"
          ],
          [
           "lo-fi emo"
          ],
          [
           "long island punk"
          ],
          [
           "louisiana blues"
          ],
          [
           "louisville indie"
          ],
          [
           "lund indie"
          ],
          [
           "madchester"
          ],
          [
           "magyar alternative"
          ],
          [
           "magyar mulatos"
          ],
          [
           "makina"
          ],
          [
           "malay rap"
          ],
          [
           "malaysian hip hop"
          ],
          [
           "malaysian indie"
          ],
          [
           "malmo indie"
          ],
          [
           "manchester indie"
          ],
          [
           "maracatu"
          ],
          [
           "mariachi cristiano"
          ],
          [
           "math pop"
          ],
          [
           "medway sound"
          ],
          [
           "mellow gold"
          ],
          [
           "melodic hardcore"
          ],
          [
           "memphis blues"
          ],
          [
           "memphis indie"
          ],
          [
           "mento"
          ],
          [
           "merseybeat"
          ],
          [
           "messianic praise"
          ],
          [
           "metal guitar"
          ],
          [
           "mexican classic rock"
          ],
          [
           "mexican rock-and-roll"
          ],
          [
           "miami indie"
          ],
          [
           "miami metal"
          ],
          [
           "minneapolis punk"
          ],
          [
           "minneapolis sound"
          ],
          [
           "missouri indie"
          ],
          [
           "mod revival"
          ],
          [
           "modern alternative rock"
          ],
          [
           "modern blues"
          ],
          [
           "modern blues rock"
          ],
          [
           "modern indie pop"
          ],
          [
           "modern mod"
          ],
          [
           "modern power pop"
          ],
          [
           "modern progressive rock"
          ],
          [
           "modern psychedelic folk"
          ],
          [
           "modern rock"
          ],
          [
           "modern ska punk"
          ],
          [
           "moroccan pop"
          ],
          [
           "music hall"
          ],
          [
           "musica catarinense"
          ],
          [
           "musica eletronica brasileira"
          ],
          [
           "musicas espiritas"
          ],
          [
           "nederpop"
          ],
          [
           "neo mellow"
          ],
          [
           "neo metal"
          ],
          [
           "neo-industrial rock"
          ],
          [
           "neo-rockabilly"
          ],
          [
           "neo-trad prog"
          ],
          [
           "neon pop punk"
          ],
          [
           "neue volksmusik"
          ],
          [
           "new age"
          ],
          [
           "new age piano"
          ],
          [
           "new comedy"
          ],
          [
           "new england emo"
          ],
          [
           "new england metal"
          ],
          [
           "new jersey hardcore"
          ],
          [
           "new jersey indie"
          ],
          [
           "new jersey punk"
          ],
          [
           "new orleans blues"
          ],
          [
           "new romantic"
          ],
          [
           "new wave"
          ],
          [
           "new wave of glam metal"
          ],
          [
           "new wave pop"
          ],
          [
           "newcastle indie"
          ],
          [
           "noise pop"
          ],
          [
           "nordnorsk ponk"
          ],
          [
           "nordnorsk rap"
          ],
          [
           "norman ok indie"
          ],
          [
           "norrbotten indie"
          ],
          [
           "north carolina metal"
          ],
          [
           "north east england indie"
          ],
          [
           "northamptonshire indie"
          ],
          [
           "northern irish indie"
          ],
          [
           "northern irish punk"
          ],
          [
           "norwegian americana"
          ],
          [
           "norwegian blues"
          ],
          [
           "norwegian country"
          ],
          [
           "norwegian hardcore"
          ],
          [
           "norwegian prog"
          ],
          [
           "norwegian punk"
          ],
          [
           "norwegian punk rock"
          ],
          [
           "norwegian rock"
          ],
          [
           "novo rock gaucho"
          ],
          [
           "nu metal"
          ],
          [
           "nu-metalcore"
          ],
          [
           "nueva ola peruana"
          ],
          [
           "ny roots"
          ],
          [
           "nyc metal"
          ],
          [
           "nyhc"
          ],
          [
           "nz christian"
          ],
          [
           "nz folk"
          ],
          [
           "nz hardcore"
          ],
          [
           "nz indie"
          ],
          [
           "nz metal"
          ],
          [
           "nz punk"
          ],
          [
           "oakland indie"
          ],
          [
           "oc indie"
          ],
          [
           "ohio indie"
          ],
          [
           "oi"
          ],
          [
           "ok indie"
          ],
          [
           "okc indie"
          ],
          [
           "old school nederhop"
          ],
          [
           "old-time fiddle"
          ],
          [
           "omaha indie"
          ],
          [
           "ontario indie"
          ],
          [
           "opm"
          ],
          [
           "oratory"
          ],
          [
           "orgcore"
          ],
          [
           "otacore"
          ],
          [
           "oth indie"
          ],
          [
           "oxford indie"
          ],
          [
           "paisley underground"
          ],
          [
           "palm desert scene"
          ],
          [
           "parody"
          ],
          [
           "pennsylvania hardcore"
          ],
          [
           "permanent wave"
          ],
          [
           "perth indie"
          ],
          [
           "peruvian punk"
          ],
          [
           "peruvian rock"
          ],
          [
           "philly soul"
          ],
          [
           "piano cover"
          ],
          [
           "piano rock"
          ],
          [
           "pibroch"
          ],
          [
           "pinoy hip hop"
          ],
          [
           "pinoy indie"
          ],
          [
           "pinoy reggae"
          ],
          [
           "pinoy rock"
          ],
          [
           "piratenmuziek"
          ],
          [
           "pittsburgh rock"
          ],
          [
           "pixie"
          ],
          [
           "polish prog"
          ],
          [
           "polish psychedelia"
          ],
          [
           "pop emo"
          ],
          [
           "pop folk"
          ],
          [
           "pop punk"
          ],
          [
           "pop rock"
          ],
          [
           "portuguese jazz"
          ],
          [
           "post-grunge"
          ],
          [
           "post-screamo"
          ],
          [
           "power blues-rock"
          ],
          [
           "power pop"
          ],
          [
           "power-pop punk"
          ],
          [
           "pre-war blues"
          ],
          [
           "prog quebec"
          ],
          [
           "progressive rock"
          ],
          [
           "progressive sludge"
          ],
          [
           "protopunk"
          ],
          [
           "psalmen"
          ],
          [
           "psicodelia brasileira"
          ],
          [
           "psychedelic blues-rock"
          ],
          [
           "psychedelic punk"
          ],
          [
           "psychedelic rock"
          ],
          [
           "psychedelic soul"
          ],
          [
           "pub rock"
          ],
          [
           "punk"
          ],
          [
           "punk blues"
          ],
          [
           "punk mexicano"
          ],
          [
           "punk ska"
          ],
          [
           "quebec indie"
          ],
          [
           "quebec punk"
          ],
          [
           "r&b brasileiro"
          ],
          [
           "rai"
          ],
          [
           "rap algerien"
          ],
          [
           "rap gaucho"
          ],
          [
           "rap maroc"
          ],
          [
           "rap metal"
          ],
          [
           "rap metalcore"
          ],
          [
           "rap rock"
          ],
          [
           "reading"
          ],
          [
           "reading indie"
          ],
          [
           "rebel blues"
          ],
          [
           "reggae catala"
          ],
          [
           "reggae cristao"
          ],
          [
           "reggae fusion"
          ],
          [
           "reggae gaucho"
          ],
          [
           "reggae maghreb"
          ],
          [
           "reggae rock"
          ],
          [
           "reggae tico"
          ],
          [
           "reggae tuga"
          ],
          [
           "retro metal"
          ],
          [
           "rhythm and blues"
          ],
          [
           "rhythm and boogie"
          ],
          [
           "rif"
          ],
          [
           "rochester ny indie"
          ],
          [
           "rock"
          ],
          [
           "rock abc paulista"
          ],
          [
           "rock andaluz"
          ],
          [
           "rock cristiano"
          ],
          [
           "rock curitibano"
          ],
          [
           "rock drums"
          ],
          [
           "rock goiano"
          ],
          [
           "rock independant francais"
          ],
          [
           "rock keyboard"
          ],
          [
           "rock of gibraltar"
          ],
          [
           "rock paraibano"
          ],
          [
           "rock potiguar"
          ],
          [
           "rock quebecois"
          ],
          [
           "rock steady"
          ],
          [
           "rock-and-roll"
          ],
          [
           "rockabilly"
          ],
          [
           "rockabilly en espanol"
          ],
          [
           "rotterdam indie"
          ],
          [
           "russian ccm"
          ],
          [
           "sacramento indie"
          ],
          [
           "sacred steel"
          ],
          [
           "san diego indie"
          ],
          [
           "san marcos tx indie"
          ],
          [
           "scottish indie"
          ],
          [
           "scottish indie folk"
          ],
          [
           "scottish indie rock"
          ],
          [
           "scottish new wave"
          ],
          [
           "scottish rock"
          ],
          [
           "scottish singer-songwriter"
          ],
          [
           "scottish smallpipe"
          ],
          [
           "seattle indie"
          ],
          [
           "sheffield indie"
          ],
          [
           "shiver pop"
          ],
          [
           "shoegaze"
          ],
          [
           "ska"
          ],
          [
           "ska espanol"
          ],
          [
           "ska jazz"
          ],
          [
           "ska mexicano"
          ],
          [
           "ska punk"
          ],
          [
           "ska revival"
          ],
          [
           "skate punk"
          ],
          [
           "skinhead oi"
          ],
          [
           "slash punk"
          ],
          [
           "slc indie"
          ],
          [
           "sleaze rock"
          ],
          [
           "sludge metal"
          ],
          [
           "sludgecore"
          ],
          [
           "small room"
          ],
          [
           "socal indie"
          ],
          [
           "socal pop punk"
          ],
          [
           "soda pop"
          ],
          [
           "soft rock"
          ],
          [
           "sophisti-pop"
          ],
          [
           "soul blues"
          ],
          [
           "south african metal"
          ],
          [
           "south african rock"
          ],
          [
           "south dakota indie"
          ],
          [
           "southampton indie"
          ],
          [
           "southern rock"
          ],
          [
           "spanish indie folk"
          ],
          [
           "spanish indie pop"
          ],
          [
           "spanish invasion"
          ],
          [
           "spanish modern rock"
          ],
          [
           "spanish noise pop"
          ],
          [
           "spanish psychedelic rock"
          ],
          [
           "spanish rockabilly"
          ],
          [
           "spanish stoner rock"
          ],
          [
           "springfield mo indie"
          ],
          [
           "steel guitar"
          ],
          [
           "stomp and whittle"
          ],
          [
           "stomp pop"
          ],
          [
           "stoner metal"
          ],
          [
           "stoner rock"
          ],
          [
           "straight edge"
          ],
          [
           "streektaal"
          ],
          [
           "street punk espanol"
          ],
          [
           "sunshine pop"
          ],
          [
           "supergroup"
          ],
          [
           "surf music"
          ],
          [
           "surf punk"
          ],
          [
           "surinamese pop"
          ],
          [
           "swamp blues"
          ],
          [
           "swamp rock"
          ],
          [
           "swedish americana"
          ],
          [
           "swedish garage rock"
          ],
          [
           "swedish hard rock"
          ],
          [
           "swedish indie rock"
          ],
          [
           "swedish melodic rock"
          ],
          [
           "swedish metalcore"
          ],
          [
           "swedish prog"
          ],
          [
           "swedish punk"
          ],
          [
           "swedish rockabilly"
          ],
          [
           "swedish stoner rock"
          ],
          [
           "swiss pop"
          ],
          [
           "swiss worship"
          ],
          [
           "symphonic rock"
          ],
          [
           "synth funk"
          ],
          [
           "synthesizer"
          ],
          [
           "synthetic classical"
          ],
          [
           "synthpop"
          ],
          [
           "tagalog rap"
          ],
          [
           "tempe indie"
          ],
          [
           "texas metal"
          ],
          [
           "texas pop punk"
          ],
          [
           "tibetan mantra"
          ],
          [
           "trad quebecois"
          ],
          [
           "traditional rockabilly"
          ],
          [
           "traditional scottish folk"
          ],
          [
           "traditional ska"
          ],
          [
           "traditional southern folk"
          ],
          [
           "transpop"
          ],
          [
           "trash rock"
          ],
          [
           "triangle indie"
          ],
          [
           "trinidadian reggae"
          ],
          [
           "trondersk musikk"
          ],
          [
           "tulsa indie"
          ],
          [
           "turkish hip hop"
          ],
          [
           "turkish trap"
          ],
          [
           "uk beatdown"
          ],
          [
           "uk diy punk"
          ],
          [
           "uk garage"
          ],
          [
           "uk metalcore"
          ],
          [
           "uk pop punk"
          ],
          [
           "uk post-hardcore"
          ],
          [
           "uk post-punk revival"
          ],
          [
           "uk reggae"
          ],
          [
           "uk rockabilly"
          ],
          [
           "uk worship"
          ],
          [
           "uk82"
          ],
          [
           "umea indie"
          ],
          [
           "unblack metal"
          ],
          [
           "underground power pop"
          ],
          [
           "vancouver punk"
          ],
          [
           "vaporwave"
          ],
          [
           "veena"
          ],
          [
           "vegas indie"
          ],
          [
           "vgm remix"
          ],
          [
           "victoria bc indie"
          ],
          [
           "vintage dutch pop"
          ],
          [
           "vintage reggae"
          ],
          [
           "vintage rockabilly"
          ],
          [
           "virginia indie"
          ],
          [
           "vocaloid"
          ],
          [
           "washington indie"
          ],
          [
           "wellington indie"
          ],
          [
           "welsh hip hop"
          ],
          [
           "welsh indie"
          ],
          [
           "welsh metal"
          ],
          [
           "welsh rock"
          ],
          [
           "west yorkshire indie"
          ],
          [
           "western mass indie"
          ],
          [
           "windsor on indie"
          ],
          [
           "worcester ma indie"
          ],
          [
           "world meditation"
          ],
          [
           "world worship"
          ],
          [
           "worship"
          ],
          [
           "wrestling"
          ],
          [
           "wyoming indie"
          ],
          [
           "yacht rock"
          ],
          [
           "york indie"
          ]
         ],
         "hovertemplate": "supergenre=rock<br>emb1=%{x}<br>emb2=%{y}<br>genre=%{customdata[0]}<extra></extra>",
         "legendgroup": "rock",
         "marker": {
          "color": "#FF6692",
          "size": 6,
          "symbol": "circle"
         },
         "mode": "markers",
         "name": "rock",
         "showlegend": true,
         "type": "scattergl",
         "x": [
          5.1909623,
          2.9705107,
          3.2557757,
          3.6562498,
          4.5066733,
          4.217821,
          4.966305999999999,
          6.588386,
          6.579615,
          4.923123400000001,
          4.818109,
          4.3560004,
          5.3441525,
          3.0492246,
          3.1418085,
          3.739539,
          3.6012230000000005,
          5.822058999999999,
          5.501448,
          5.0856,
          3.955866,
          4.893941000000001,
          3.7624435,
          5.5324965,
          5.5234947,
          5.650238,
          4.1687975,
          6.724626,
          5.0732713,
          6.6334643,
          3.8000247,
          6.0924625,
          5.792013,
          5.2071185,
          5.468117,
          4.0131736,
          5.1926093,
          3.5435462,
          5.0981565,
          4.0849414,
          5.245134999999999,
          5.2315483,
          3.660701,
          2.3870578,
          3.648121,
          3.6369371,
          2.3374326,
          2.781397,
          4.0260935,
          5.144275700000001,
          2.896414,
          2.3401282,
          2.3524847,
          5.402814,
          3.4403307,
          -0.14755186,
          2.4711235,
          3.51385,
          -0.11141767,
          5.61479,
          7.932207000000001,
          4.8068266,
          3.2818274,
          3.709625,
          3.7511973,
          3.2069817000000005,
          3.3840628,
          6.583855000000001,
          3.2478740000000004,
          5.84909,
          3.6285264,
          3.5729449,
          2.9781978,
          3.6508656,
          2.3281415,
          4.122701999999999,
          5.571943,
          3.6516252,
          -0.12230997,
          3.158225,
          5.244067,
          5.1793003,
          3.651465,
          3.1795726,
          3.4197013,
          3.091577,
          2.9271154,
          5.5769835,
          4.006878,
          5.457662,
          5.3195477,
          4.0361104,
          6.2651167,
          0.60044813,
          5.439825,
          0.7831352,
          0.5189369,
          0.8055019,
          0.4500411,
          0.5414486,
          0.5775964,
          0.55890775,
          0.5278845999999999,
          5.361748,
          2.6562352,
          2.6706538,
          4.5030694,
          3.649171,
          4.2667584000000005,
          3.4647026,
          2.9877830000000003,
          3.5125945,
          4.5377445,
          3.15389,
          3.4285822,
          3.8985918,
          2.98646,
          2.9452830000000003,
          3.0576844,
          3.7552078,
          2.9831848,
          3.3978674,
          6.4302545,
          4.5726113,
          4.189274,
          4.130383999999999,
          5.3476605,
          5.2155933,
          5.27827,
          3.742724,
          3.7896426,
          5.0614977,
          2.5970185000000003,
          2.9776697,
          4.5387900000000005,
          4.7218595,
          6.558528,
          3.6712525,
          4.503401,
          4.510194,
          4.940613,
          2.9060583,
          4.599236,
          3.6304963,
          3.2145138,
          3.5959432,
          5.552178,
          6.602523,
          6.505523999999999,
          2.48219,
          6.224739,
          6.5735884,
          6.5672820000000005,
          6.234626,
          6.595805,
          6.3673415,
          4.134502,
          3.2275527000000004,
          4.845950599999999,
          3.5644116,
          2.4317174,
          2.4796994,
          2.566404,
          3.7523003,
          2.3487842,
          3.8879478,
          7.2027946,
          7.1774770000000006,
          2.8360405,
          2.7982400000000003,
          2.9946427000000004,
          6.62804,
          3.745534,
          3.4826653,
          2.1914597,
          4.182119,
          5.102784,
          -0.6597155,
          4.0087094,
          4.211695,
          4.4090414,
          4.270955000000001,
          5.548535,
          3.1895208,
          3.192962,
          3.206229,
          2.9709914,
          4.196907,
          5.393456,
          4.1822457,
          5.684291,
          5.430535,
          5.6604714000000005,
          4.4948263,
          3.5590918,
          2.4404628,
          2.7668915000000003,
          5.9643707,
          1.5946848,
          5.401049,
          3.930794,
          5.074634,
          4.329392400000001,
          3.0022619,
          6.613365700000001,
          6.453951999999999,
          3.7545104,
          2.0368094,
          2.5346782,
          -0.8031225000000001,
          4.159882,
          3.683149,
          2.3238957,
          4.824027500000001,
          5.1097445,
          5.093149700000001,
          -0.3084752999999999,
          3.1950102000000005,
          4.3797927,
          4.992152,
          5.096307,
          3.7940292,
          4.663019,
          3.777981,
          2.4374592,
          2.042045,
          5.643406400000001,
          5.216252,
          2.671144,
          3.6790574,
          4.5676246,
          3.4821157,
          5.585853,
          3.674467,
          3.173835,
          3.6935964,
          2.5070124,
          3.075162,
          2.4463964,
          2.4848459,
          2.5344102000000004,
          2.4561672000000003,
          2.732178,
          2.4556506,
          2.4225736,
          2.4332716,
          2.46838,
          -0.14550085,
          3.7131996,
          4.7892265,
          5.0443050000000005,
          3.562033,
          4.788246,
          3.2333663,
          3.9309616,
          5.2770433,
          3.639837,
          4.982061,
          3.2457023,
          3.7488973,
          5.4018197,
          5.3814783,
          5.912077,
          3.2118134,
          5.242066400000001,
          5.9433527,
          4.138421,
          3.4008408,
          4.120479,
          4.9469447,
          2.5540626,
          4.6799417000000005,
          5.5945497,
          6.3175125,
          2.4627244,
          4.897085,
          2.095953,
          5.088379,
          -4.506405,
          4.144959,
          4.243985,
          3.9175038,
          3.794596700000001,
          3.7274082,
          8.114205,
          3.413647,
          6.465913,
          -0.7530979,
          5.621171,
          -0.74962777,
          8.912753,
          9.132689,
          -0.6878099,
          2.9617403,
          -0.8001971,
          6.468647499999999,
          4.8245583,
          5.040988400000001,
          3.676955,
          0.6669901999999999,
          3.2250476000000003,
          4.3666525,
          5.351954,
          -4.5605917,
          5.172642,
          3.1265373,
          4.055152,
          4.261315,
          3.2514741000000003,
          3.0912662,
          2.4784658,
          5.4807725,
          5.3327480000000005,
          4.890815,
          5.1719136,
          3.650002,
          4.7939596,
          5.079598000000001,
          4.3971615,
          5.574875,
          3.541907,
          3.206197,
          4.9457564000000005,
          3.4025426,
          5.389278400000001,
          2.5881376,
          8.916243,
          4.6220684,
          0.3867231,
          2.9738114,
          7.1837645000000006,
          6.861986,
          7.2065344,
          7.185312,
          7.141433,
          4.822726,
          3.6355877,
          -0.16893977,
          -4.487458,
          -4.514016000000001,
          -4.436848599999999,
          3.4801283,
          4.969987000000001,
          4.0137540000000005,
          3.5105263999999994,
          3.3479495000000004,
          4.5746,
          3.591221,
          3.284994,
          3.5848646,
          4.183506,
          5.913849,
          -0.0843273999999999,
          2.7393742000000003,
          5.4615307,
          3.5641832,
          3.6988075,
          4.737405,
          4.7028565,
          4.930872,
          4.569932,
          4.324003,
          2.0698774,
          3.05552,
          3.084649,
          4.4511905,
          3.152597,
          3.608177200000001,
          3.1169703,
          5.2139215,
          5.066389599999999,
          4.1848035,
          5.931001,
          5.2690835,
          3.4634160000000005,
          3.4020548,
          3.8185258,
          3.3999581,
          6.707559,
          6.183716,
          0.0034629887,
          4.047365,
          2.46521,
          5.645539299999999,
          5.809991,
          4.50108,
          4.5064816,
          4.148798,
          4.2610035,
          8.914547,
          3.6725228,
          3.2098312,
          8.914835,
          3.9247563,
          5.594106,
          5.5893120000000005,
          6.575203,
          2.9552083,
          -0.80198467,
          3.4912593000000003,
          2.9289405,
          3.2037718,
          6.543981,
          6.5665164,
          4.8337007000000005,
          2.8466985,
          3.1008508,
          2.5204644,
          3.1481478,
          3.8994405,
          4.226854,
          5.2283697,
          2.9772336,
          3.4757937999999995,
          3.3308778,
          3.211862,
          7.182790299999999,
          7.2058277,
          5.286587,
          1.6484096,
          1.2422712,
          1.3041425,
          4.4428864,
          3.1293347,
          0.74894226,
          6.561626,
          4.595591000000001,
          4.0129695,
          3.314375,
          5.295153599999999,
          3.1655912,
          4.258390400000001,
          -0.026950337,
          3.0320067,
          6.5741935,
          4.791504,
          3.4506273000000003,
          -4.210988,
          3.3327944,
          5.1827164,
          4.528636,
          2.0786002,
          3.4659333,
          4.477722,
          3.2838156,
          3.263909,
          3.84137,
          3.497686100000001,
          3.8863418,
          3.8426993,
          4.1673083,
          3.512299,
          3.2574098,
          5.1853385,
          5.795484,
          4.261824,
          0.5559504,
          0.78671175,
          4.925503,
          2.6005218,
          2.8885167000000003,
          6.4023075,
          5.485489,
          2.966268,
          4.225846,
          5.0307074,
          7.844313,
          4.840184,
          4.699637,
          4.221356,
          5.069507,
          5.4629593000000005,
          5.1645650000000005,
          3.5195693999999995,
          5.094964,
          2.9116473,
          3.6128347,
          3.808027,
          4.7663975,
          2.9510398,
          4.5938787,
          3.7087839,
          5.5192957,
          5.519121599999999,
          5.346979,
          4.9435935,
          5.467557,
          2.93447,
          3.5137146,
          3.2372124,
          5.1086416,
          5.775218,
          3.2470195,
          5.870811,
          5.3287260000000005,
          5.7555146,
          5.8772144,
          5.2377834000000005,
          5.811671700000001,
          0.5478341,
          5.203224700000001,
          5.4568343,
          -3.690631,
          3.5370445,
          5.256881,
          5.479377,
          6.5219355000000006,
          3.7148762,
          3.4420104,
          3.6231441,
          2.723468,
          3.528115,
          3.519083,
          3.837733,
          3.749656,
          5.5786176,
          4.386059,
          3.680745,
          2.4142773,
          3.7392356,
          3.4768484,
          3.5142741,
          2.9368572,
          4.277872,
          5.1258883,
          6.613966499999999,
          3.2000751,
          3.352421,
          3.8264184,
          4.392342,
          4.4090295,
          5.407751,
          3.1980503,
          2.4498348,
          -3.7238264,
          -3.7493353,
          2.0922625,
          4.8597145,
          3.3123524,
          3.686782,
          3.008241,
          2.9079192000000003,
          2.906516,
          2.9346151000000003,
          2.701913,
          4.187802,
          4.982540599999999,
          4.191361,
          4.163325,
          4.8911114,
          3.5598543,
          5.05773,
          3.0437024,
          0.9281629,
          5.006621400000001,
          5.5436015,
          3.2164044,
          3.9123688,
          5.005646700000001,
          3.196255,
          4.2574935,
          4.128301,
          5.217009,
          3.7601852,
          6.564089999999999,
          1.0842406999999998,
          3.8241348,
          4.4419656,
          3.8394446,
          2.1092536,
          4.6384454,
          5.127064,
          4.184834,
          -3.5407948,
          5.173704,
          3.6405988,
          5.254844,
          0.5798143,
          5.821836,
          5.798411,
          0.6457278000000001,
          5.810964,
          5.055803,
          5.0232253,
          4.9537463,
          8.90726,
          3.5499017,
          3.7827637,
          -4.3767004,
          0.48737365,
          -0.46807334,
          0.6299716999999999,
          5.772540599999999,
          -0.3168775,
          0.60104066,
          0.55947626,
          4.404057,
          2.4788415,
          2.961978,
          5.845863,
          5.0861893,
          3.5579453,
          0.5039539000000001,
          -4.62524,
          6.375602,
          0.4090264,
          3.348164,
          0.5559053,
          6.248709,
          3.7641,
          2.9952564,
          0.70277905,
          0.5193614000000001,
          4.584094,
          -0.17584191,
          2.8877467999999995,
          3.0205998,
          -4.175265,
          2.5072048,
          6.619387,
          4.343895400000001,
          3.375925,
          3.9533708,
          3.075741,
          3.4598224,
          3.3837485000000003,
          3.1970348,
          3.5417943,
          3.3035767,
          3.796669,
          4.613921599999999,
          3.6029592,
          3.2490342,
          3.407969,
          3.4834797,
          -0.10400183,
          -4.2497773,
          -0.16078863,
          -3.540227,
          5.19241,
          -0.05200814,
          5.1481633,
          5.5397873,
          5.2833285000000005,
          3.4109244,
          4.805153,
          5.2057543,
          5.301807,
          3.779534,
          3.857603,
          5.126154,
          2.628341,
          3.2432666,
          3.5077748,
          2.406477,
          4.9705358,
          4.885619,
          5.080377599999999,
          3.3257377,
          3.351507,
          -4.5226765,
          -4.5207047,
          -4.2248025,
          -4.5204887000000005,
          -4.5216837,
          4.365271599999999,
          -4.4785953,
          4.371389,
          3.6866796,
          3.3774824,
          3.308905600000001,
          3.459333,
          4.5005946,
          4.442951,
          5.580294,
          2.4742866,
          5.893888,
          3.4379368,
          3.599815,
          4.288656700000001,
          4.32276,
          -0.5810549,
          3.1378112,
          3.4254725,
          4.558882700000001,
          4.4932313,
          4.773333999999999,
          4.4551597,
          4.816342400000001,
          5.4612856,
          4.1900344,
          4.587195400000001,
          3.0395637000000004,
          4.3902636,
          9.096415,
          6.639359,
          4.145711,
          2.0426295,
          4.2536545,
          1.5109982,
          3.6432314,
          2.979986,
          3.317179,
          5.186007,
          4.9608483,
          5.1097684,
          4.5853662,
          2.94602,
          3.7072592,
          -0.03343841,
          3.2482936,
          3.7729805,
          4.132732,
          4.178343,
          2.5608609,
          5.863659999999999,
          3.2286735,
          -0.82583636,
          -0.79559433,
          5.536205000000001,
          5.546213,
          -0.17111243,
          5.4406447,
          4.851775,
          4.6687016,
          3.5692966,
          -0.2812199999999999,
          3.032832,
          6.5918636,
          5.6149793,
          4.456207,
          6.25384,
          3.8961222,
          5.256469999999999,
          3.447108,
          6.683233,
          2.8704484,
          6.5786185,
          2.8157144,
          2.5411506,
          -0.21545918,
          2.9582767000000003,
          3.5661845000000003,
          6.705508,
          3.4743972000000003,
          3.5787745,
          4.274897599999999,
          3.2681400000000003,
          5.153121499999999,
          3.231129,
          2.991268,
          3.8281615,
          4.9770637,
          4.9694405,
          4.971765,
          6.604605,
          6.576936999999999,
          5.06321,
          5.073332,
          3.269166,
          3.2852788
         ],
         "xaxis": "x",
         "y": [
          6.5960054,
          7.3848753,
          6.654804,
          5.41744,
          6.718264,
          6.9367647,
          6.6308703,
          7.8270845,
          7.7294884,
          7.927625,
          7.926011999999999,
          7.421272800000001,
          8.103757,
          5.923504,
          5.7603893,
          5.4568233,
          6.4660150000000005,
          1.7831538,
          7.044642,
          8.268245,
          6.946503599999999,
          7.432044500000001,
          6.7863940000000005,
          7.756089999999999,
          6.6884174,
          6.8613005000000005,
          6.970546700000001,
          5.832065,
          7.215923299999999,
          7.844046,
          6.594983999999999,
          5.5090203,
          2.0042355,
          6.827689599999999,
          8.417961,
          5.7926226,
          6.9233522,
          6.384951999999999,
          8.375515,
          6.5724325,
          8.438512,
          8.452752,
          7.142935799999999,
          7.228742,
          6.5194936,
          6.558905,
          7.303739500000001,
          7.1437306,
          6.579438000000001,
          7.1033864,
          6.1932473,
          7.216181,
          7.2036386,
          8.081119000000001,
          7.1937046,
          3.4662652,
          7.1441765,
          7.2568693,
          3.4636223,
          6.709321000000001,
          5.947932,
          7.8611746,
          4.744331400000001,
          5.295975,
          5.0496907,
          4.134034,
          4.972919999999999,
          7.809027,
          3.303542,
          3.4538012000000005,
          6.365384,
          6.2295833,
          6.3511868,
          6.657912700000001,
          3.8521323,
          5.484453,
          7.1361327,
          5.5378857,
          6.019846,
          6.7807355,
          6.9238253,
          8.478236,
          5.5535994,
          4.2702230000000005,
          4.9426703000000005,
          4.329351,
          4.111895,
          7.1462270000000006,
          6.7988605,
          8.217804,
          6.8949413,
          6.8092117,
          8.019442999999999,
          0.2544426,
          8.83151,
          0.3739372,
          0.22046767,
          0.36029586,
          0.17005664,
          0.3485446,
          0.24128398,
          0.19463302,
          0.19242725,
          8.855441,
          6.764625,
          4.1182556,
          7.162129400000001,
          5.186031,
          7.957859,
          2.2164667,
          6.737011,
          4.9801064,
          7.060168300000001,
          6.5305867,
          6.7011924,
          6.8410583,
          4.783966,
          5.4248047,
          4.514391000000001,
          6.485657,
          6.726617999999999,
          4.790781,
          7.832248,
          4.9290657,
          8.024163,
          6.1119156,
          6.84391,
          7.018877499999999,
          6.8720927,
          6.1829085,
          6.7459493,
          8.629875,
          7.0902970000000005,
          6.1300273,
          4.8615084,
          7.833717,
          7.805950599999999,
          5.1625175,
          4.8517904000000005,
          4.907233,
          2.1252975,
          6.0348754,
          7.781989599999999,
          6.127917,
          4.363582599999999,
          6.3623433,
          7.053991000000001,
          7.8634644,
          7.8440094,
          6.016227,
          7.8928885,
          7.825266,
          7.828592299999999,
          7.863436,
          7.7804117,
          7.8627815,
          6.977539999999999,
          6.081905,
          2.449873,
          5.6054606,
          7.610817999999999,
          7.577755499999999,
          4.924229599999999,
          5.291995,
          3.821004,
          5.353729,
          8.840755999999999,
          8.833098,
          6.263569,
          6.2475734,
          5.8177032,
          7.797386,
          5.34006,
          5.185835,
          3.7912958,
          7.9720073,
          8.237927,
          3.3596587,
          6.7056537,
          7.983663000000001,
          8.082552,
          7.973647,
          7.273219999999999,
          6.505907499999999,
          6.140477,
          5.868369,
          6.7049365000000005,
          6.338492,
          6.746245399999999,
          5.534822,
          7.038474000000001,
          5.643887,
          7.0084944,
          4.0351586,
          6.047156299999999,
          7.6104245,
          7.485020599999999,
          5.2098227,
          6.5276794,
          5.090531299999999,
          6.9853344,
          6.961638499999999,
          6.0741153,
          6.3599224,
          7.826053,
          7.877861999999999,
          5.383676,
          3.8312933,
          5.557304,
          3.5821674,
          6.627110000000001,
          5.9318290000000005,
          3.8323023,
          7.432044,
          6.855534,
          6.6439724,
          3.142341,
          5.378210500000001,
          7.3914413,
          8.203066,
          6.966455000000001,
          6.993674799999999,
          7.343418600000001,
          5.493265,
          7.168461,
          3.8684998,
          8.783278999999999,
          6.978824,
          4.1046176,
          6.0998654000000005,
          8.658108,
          7.2559533,
          6.817711,
          6.6469665,
          6.562301,
          7.0659757,
          4.8445883,
          4.7549505,
          4.926578500000001,
          4.8731475,
          4.973579,
          4.891848599999999,
          4.9892473,
          4.91032,
          4.8845353,
          4.916103,
          4.889616999999999,
          3.1873436,
          5.933985,
          6.609033999999999,
          7.1876783,
          6.600662700000001,
          7.408882000000001,
          4.5607104000000005,
          6.352882,
          6.7526660000000005,
          6.7794704,
          7.261371,
          6.633771,
          4.0836515,
          4.948028599999999,
          4.95886,
          6.541239,
          2.6253583,
          6.948771499999999,
          7.702285300000001,
          5.5032587,
          5.231612,
          6.2240505,
          7.403962599999999,
          5.554759,
          6.919974000000001,
          7.144417999999999,
          4.0484896,
          4.9125147,
          8.118561,
          4.168746499999999,
          6.832422,
          5.7750607,
          6.551253,
          6.1877947,
          6.516748000000001,
          6.6041455,
          7.026444000000001,
          5.9785433,
          4.887896,
          7.855529300000001,
          3.5100362,
          7.2543993,
          3.4827147000000003,
          5.0813904,
          3.0733953,
          3.4088686000000004,
          4.601464,
          3.559889,
          7.847585700000001,
          8.549696,
          6.856464,
          5.6265593,
          4.5154014,
          4.2853923,
          6.1523094,
          5.2272463,
          5.884978,
          6.820410000000001,
          6.606693300000001,
          5.478162,
          6.775125,
          6.084021,
          6.166550599999999,
          4.8859086,
          7.984455599999999,
          7.242151,
          7.229706,
          8.085697999999999,
          6.588398,
          8.459934,
          8.814461,
          8.591446000000001,
          7.1654353,
          6.903881500000001,
          4.33183,
          2.0920577,
          5.377051,
          8.008544,
          5.651155999999999,
          5.0792785,
          6.261033,
          0.1162972,
          6.672941000000001,
          8.821205,
          8.859689,
          8.842925,
          8.83356,
          8.851353999999999,
          8.016124000000001,
          6.6816783,
          3.1817265,
          5.8246503,
          5.8073688,
          6.001404,
          7.2190647,
          7.2591276,
          6.698234599999999,
          6.569681599999999,
          7.110589500000001,
          5.3720684,
          6.704794000000001,
          6.6223893,
          6.501256,
          7.2413697,
          6.579274000000001,
          3.2784574,
          4.8563843,
          5.560152,
          6.440906,
          4.4454975,
          8.043814,
          7.103741599999999,
          7.740553999999999,
          7.655108,
          7.3433175,
          6.0508065,
          6.214238,
          6.3215837,
          4.8829637,
          6.2450895,
          5.084243,
          6.5299006,
          7.0268817,
          9.477009,
          5.5227900000000005,
          6.564095,
          6.965294,
          4.921775299999999,
          5.0430894,
          6.8471303,
          6.5286145,
          6.054331299999999,
          6.0446453,
          3.2585738,
          5.5386,
          4.896831,
          7.2597437,
          1.7857331000000003,
          3.9490874,
          7.0509086,
          6.4454064,
          6.373958999999999,
          5.079481,
          6.086295,
          7.0387607,
          5.080255999999999,
          6.881964999999999,
          7.221616,
          7.191056,
          7.810692299999999,
          5.8614335,
          3.5611940000000004,
          6.636247,
          6.173442,
          6.224427700000001,
          7.82557,
          7.8457875,
          7.171057000000001,
          6.7637696,
          6.7333765,
          4.9050303,
          6.751865,
          6.658594,
          6.988314599999999,
          7.1849265,
          4.361389599999999,
          6.1104684,
          7.0599084,
          6.524352,
          8.8319435,
          8.850280999999999,
          6.949106,
          8.103933999999999,
          8.368573,
          8.339375,
          4.198869999999999,
          6.625903,
          0.28199098,
          7.843314,
          7.095888599999999,
          6.466937000000001,
          5.339956,
          7.147948700000001,
          4.2506948,
          6.6253242,
          3.2333586,
          4.682197,
          7.826125599999999,
          8.374243,
          5.295071,
          4.4674726,
          5.421448000000001,
          8.225530000000001,
          6.872906,
          4.014176399999999,
          6.669215,
          6.3752255,
          6.734132000000001,
          4.664249,
          6.1767716,
          6.538682499999999,
          6.6320662,
          6.80632,
          5.5618963,
          6.6789913,
          6.755205999999999,
          6.814210000000001,
          1.8527579,
          7.9829326,
          0.25236443,
          0.34497,
          2.2714543,
          4.9292684,
          6.2364435,
          4.1867356,
          5.5964227,
          4.603626,
          5.57754,
          7.485484,
          5.9968114,
          2.3459716,
          2.5953228,
          8.024865,
          7.326264,
          8.322569999999999,
          6.9981503,
          6.727728999999999,
          6.815694000000001,
          4.1530814,
          5.8737545,
          5.988528700000001,
          8.462033,
          5.858833,
          7.1874886,
          6.815612299999999,
          3.5394876,
          3.5023654000000004,
          3.6343925,
          3.7490377,
          8.284295,
          6.765401400000001,
          7.1230226,
          6.8259277,
          6.6118493,
          3.5765888999999995,
          4.624528400000001,
          3.4819307,
          6.7056823,
          3.5878103,
          3.5400367,
          6.600199000000001,
          3.5475023,
          0.22157387,
          8.304955,
          7.9199967,
          5.4835987,
          4.8666196,
          8.273821,
          7.074004,
          7.766064,
          7.0340023,
          7.1637363,
          7.139382,
          7.2062182,
          7.137181,
          6.547128,
          6.783251,
          6.8498197,
          6.742113000000001,
          6.955715,
          6.5502925,
          4.7904196,
          4.399628599999999,
          6.5515585,
          6.066044000000001,
          5.901581,
          7.981876,
          6.926706299999999,
          5.7217917,
          6.148031700000001,
          6.179714700000001,
          6.684923599999999,
          8.527335,
          8.052096,
          7.103387,
          6.1938806,
          7.2010026,
          5.4584737,
          5.4275723,
          3.8360689,
          2.6704476,
          6.059589,
          5.333550499999999,
          5.9743466,
          5.999174,
          6.014428,
          5.9857507000000005,
          4.904991000000001,
          6.387201999999999,
          7.499635700000001,
          5.5822763,
          5.540945,
          7.467471000000001,
          6.4263926,
          7.314705,
          6.1160445,
          0.86679184,
          7.994008,
          7.780397,
          4.6477265,
          6.748147,
          6.900648599999999,
          4.1956053,
          5.462692,
          5.501768599999999,
          8.437771000000001,
          5.4297247,
          7.848591000000001,
          0.7561755,
          5.3136153,
          6.754589,
          5.35832,
          3.7469926,
          6.3738675,
          6.8256707,
          6.396975,
          5.2275662,
          6.902515400000001,
          6.422119,
          6.9096465,
          0.23513667,
          1.7970388,
          1.8481396,
          0.30398723,
          1.8917894,
          8.184578,
          8.17048,
          8.159466,
          5.08437,
          7.111582,
          6.2612762,
          6.0891933,
          0.22330062,
          3.152256,
          0.27939543,
          1.8649335,
          3.2868707,
          8.692566000000001,
          0.37049142,
          8.620716,
          3.9112473,
          4.6433625,
          1.7043203999999998,
          7.157963799999999,
          6.177846,
          0.20094292,
          6.116802,
          7.8976083,
          0.14529797,
          5.4910316,
          0.14712933,
          4.0782110000000005,
          5.828965,
          5.1684470000000005,
          0.3301937,
          0.19081984,
          5.439000599999999,
          3.171558,
          4.412719999999999,
          4.6328273,
          4.7049665,
          4.9256477,
          7.7987094,
          7.3903227,
          4.8693147,
          7.03618,
          6.130519400000001,
          6.6708694,
          6.470171,
          6.554712299999999,
          5.9875484000000005,
          6.5113125,
          5.183768,
          5.0373387,
          6.847233,
          6.439737,
          6.506656,
          7.191203999999999,
          3.2481215,
          5.660777599999999,
          3.3800259,
          5.232206,
          6.846450999999999,
          3.2944057,
          6.889170599999999,
          6.77026,
          6.8402734,
          7.218436200000001,
          8.49156,
          8.497819,
          8.40056,
          6.8795285,
          7.0493345000000005,
          6.9425435,
          4.048456,
          5.4774103,
          5.837024,
          3.7886577,
          7.913402599999999,
          7.9603,
          7.408330999999999,
          6.355601,
          5.236303299999999,
          5.76438,
          5.7894177,
          5.562855,
          5.7862735,
          5.8297563,
          8.720153999999999,
          5.65608,
          8.722612,
          6.6908417,
          4.820641,
          6.40738,
          6.608952499999999,
          8.626716,
          8.616617,
          7.181945,
          4.87873,
          6.5602617,
          5.20247,
          5.9132953,
          7.3101726,
          7.3541064,
          5.104533,
          4.5203085,
          5.2701015,
          3.9527028,
          4.127806,
          8.4306345,
          4.0984225,
          8.61445,
          8.294684,
          5.542999299999999,
          3.9342165,
          4.683881,
          8.613752999999999,
          3.1151383,
          7.800885000000001,
          5.501456,
          3.9355583,
          5.200673,
          5.281058,
          5.874120700000001,
          5.9895372,
          6.282441599999999,
          8.537777,
          7.109383,
          2.0818164,
          5.3242908,
          4.563348,
          5.1041837,
          3.332027,
          4.2566440000000005,
          6.8407173,
          6.447249,
          7.0328507,
          5.463814299999999,
          3.4888422,
          6.8003445000000005,
          3.5258968,
          3.515515,
          7.095016,
          6.7425995,
          5.967166000000001,
          7.846934299999999,
          7.220834700000001,
          7.246736999999999,
          6.734851400000001,
          3.1111937000000003,
          4.625935,
          7.813652499999999,
          6.8543825,
          4.120329,
          8.559773,
          6.764209299999999,
          6.875509700000001,
          6.9161215,
          1.3592447,
          6.9940743,
          5.807293,
          6.758592999999999,
          4.999278,
          3.124617,
          4.612044999999999,
          6.7241774,
          5.8080325,
          6.6514416,
          7.136375,
          7.9575186,
          6.589362,
          8.221447999999999,
          6.480890799999999,
          6.781766999999999,
          6.941047,
          8.652137,
          7.2613387,
          2.1624215,
          7.8145213,
          7.8164916,
          8.262678999999999,
          6.8773026,
          5.309207,
          6.5093174000000005
         ],
         "yaxis": "y"
        },
        {
         "customdata": [
          [
           "48g"
          ],
          [
           "abstract hip hop"
          ],
          [
           "african reggae"
          ],
          [
           "afro r&b"
          ],
          [
           "afrofuturism"
          ],
          [
           "alberta hip hop"
          ],
          [
           "alte"
          ],
          [
           "alternative hip hop"
          ],
          [
           "alternative r&b"
          ],
          [
           "ambeat"
          ],
          [
           "argentine hip hop"
          ],
          [
           "asian american hip hop"
          ],
          [
           "atl hip hop"
          ],
          [
           "atl trap"
          ],
          [
           "australian hip hop"
          ],
          [
           "australian techno"
          ],
          [
           "australian underground hip hop"
          ],
          [
           "bahai"
          ],
          [
           "bahamian pop"
          ],
          [
           "baltimore hip hop"
          ],
          [
           "baton rouge rap"
          ],
          [
           "battle rap"
          ],
          [
           "bay area hip hop"
          ],
          [
           "bboy"
          ],
          [
           "bc underground hip hop"
          ],
          [
           "beatboxing"
          ],
          [
           "beats"
          ],
          [
           "bemani"
          ],
          [
           "birmingham grime"
          ],
          [
           "black comedy"
          ],
          [
           "boom bap"
          ],
          [
           "boston hip hop"
          ],
          [
           "bounce"
          ],
          [
           "bronx hip hop"
          ],
          [
           "brooklyn drill"
          ],
          [
           "buffalo hip hop"
          ],
          [
           "cali rap"
          ],
          [
           "canadian hip hop"
          ],
          [
           "canadian old school hip hop"
          ],
          [
           "canadian trap"
          ],
          [
           "canadian underground hip hop"
          ],
          [
           "chicago bop"
          ],
          [
           "chicago drill"
          ],
          [
           "chicago rap"
          ],
          [
           "chicano rap"
          ],
          [
           "chill r&b"
          ],
          [
           "chinese viral pop"
          ],
          [
           "chip hop"
          ],
          [
           "chopped and screwed"
          ],
          [
           "christian hip hop"
          ],
          [
           "christian trap"
          ],
          [
           "cincinnati rap"
          ],
          [
           "classic indonesian rock"
          ],
          [
           "classic luk thung"
          ],
          [
           "classic malaysian pop"
          ],
          [
           "classic thai pop"
          ],
          [
           "colombian hip hop"
          ],
          [
           "comedy"
          ],
          [
           "comedy rap"
          ],
          [
           "conscious hip hop"
          ],
          [
           "cook islands pop"
          ],
          [
           "country rap"
          ],
          [
           "crunk"
          ],
          [
           "cuban alternative"
          ],
          [
           "dark trap"
          ],
          [
           "deep comedy"
          ],
          [
           "deep east coast hip hop"
          ],
          [
           "deep eurodance"
          ],
          [
           "deep flow"
          ],
          [
           "deep funk"
          ],
          [
           "deep g funk"
          ],
          [
           "deep southern trap"
          ],
          [
           "deep swedish rock"
          ],
          [
           "detroit hip hop"
          ],
          [
           "detroit trap"
          ],
          [
           "dfw rap"
          ],
          [
           "dirty south rap"
          ],
          [
           "dirty texas rap"
          ],
          [
           "dmv rap"
          ],
          [
           "dresden indie"
          ],
          [
           "drill"
          ],
          [
           "dub"
          ],
          [
           "dub poetry"
          ],
          [
           "dub product"
          ],
          [
           "dub reggae"
          ],
          [
           "dutch hip hop"
          ],
          [
           "dutch r&b"
          ],
          [
           "dutch underground hip hop"
          ],
          [
           "east coast hip hop"
          ],
          [
           "east coast reggae"
          ],
          [
           "electro"
          ],
          [
           "electro dub"
          ],
          [
           "emo rap"
          ],
          [
           "escape room"
          ],
          [
           "estonian hip hop"
          ],
          [
           "experimental hip hop"
          ],
          [
           "fijian pop"
          ],
          [
           "flick hop"
          ],
          [
           "flint hip hop"
          ],
          [
           "florida rap"
          ],
          [
           "frauenrap"
          ],
          [
           "french dub"
          ],
          [
           "french hip hop"
          ],
          [
           "funana"
          ],
          [
           "futuristic swag"
          ],
          [
           "g funk"
          ],
          [
           "gangster rap"
          ],
          [
           "german pop"
          ],
          [
           "german singer-songwriter"
          ],
          [
           "german underground rap"
          ],
          [
           "ghettotech"
          ],
          [
           "glitchcore"
          ],
          [
           "golden age hip hop"
          ],
          [
           "gospel r&b"
          ],
          [
           "gospel rap"
          ],
          [
           "gospel reggae"
          ],
          [
           "gothenburg hip hop"
          ],
          [
           "greek downtempo"
          ],
          [
           "hardcore hip hop"
          ],
          [
           "harlem hip hop"
          ],
          [
           "hawaiian hip hop"
          ],
          [
           "hip hop"
          ],
          [
           "hip hop cubano"
          ],
          [
           "hip hop quebecois"
          ],
          [
           "hip house"
          ],
          [
           "hip pop"
          ],
          [
           "horrorcore"
          ],
          [
           "houston rap"
          ],
          [
           "hyphy"
          ],
          [
           "indiana hip hop"
          ],
          [
           "indie hip hop"
          ],
          [
           "indie pop rap"
          ],
          [
           "indie r&b"
          ],
          [
           "indonesian alternative rock"
          ],
          [
           "indonesian edm"
          ],
          [
           "indonesian hardcore"
          ],
          [
           "indonesian hip hop"
          ],
          [
           "indonesian indie"
          ],
          [
           "indonesian indie pop"
          ],
          [
           "indonesian pop"
          ],
          [
           "indonesian psychedelia"
          ],
          [
           "indonesian r&b"
          ],
          [
           "indonesian reggae"
          ],
          [
           "indonesian rock"
          ],
          [
           "israeli hip hop"
          ],
          [
           "italo house"
          ],
          [
           "j-pop"
          ],
          [
           "j-pop boy group"
          ],
          [
           "j-reggae"
          ],
          [
           "japanese boom bap"
          ],
          [
           "japanese chill rap"
          ],
          [
           "japanese dance pop"
          ],
          [
           "japanese edm"
          ],
          [
           "japanese r&b"
          ],
          [
           "japanese underground rap"
          ],
          [
           "jazz boom bap"
          ],
          [
           "jazz rap"
          ],
          [
           "jewish hip hop"
          ],
          [
           "k-indie"
          ],
          [
           "k-rap"
          ],
          [
           "kaneka"
          ],
          [
           "kansas city hip hop"
          ],
          [
           "kansas hip hop"
          ],
          [
           "kazakh pop"
          ],
          [
           "kids dance party"
          ],
          [
           "korean dream pop"
          ],
          [
           "korean indie folk"
          ],
          [
           "korean indie rock"
          ],
          [
           "korean old school hip hop"
          ],
          [
           "korean r&b"
          ],
          [
           "korean trap"
          ],
          [
           "korean underground rap"
          ],
          [
           "latin hip hop"
          ],
          [
           "lgbtq+ hip hop"
          ],
          [
           "lo-fi chill"
          ],
          [
           "lo-fi jazzhop"
          ],
          [
           "lovers rock"
          ],
          [
           "maine hip hop"
          ],
          [
           "malaysian pop"
          ],
          [
           "melodic rap"
          ],
          [
           "meme rap"
          ],
          [
           "memphis hip hop"
          ],
          [
           "miami bass"
          ],
          [
           "miami hip hop"
          ],
          [
           "military rap"
          ],
          [
           "milwaukee hip hop"
          ],
          [
           "minnesota hip hop"
          ],
          [
           "mississippi hip hop"
          ],
          [
           "modern alternative pop"
          ],
          [
           "modern reggae"
          ],
          [
           "montreal indie"
          ],
          [
           "musique mariage algerien"
          ],
          [
           "nashville hip hop"
          ],
          [
           "native american hip hop"
          ],
          [
           "neo r&b"
          ],
          [
           "neo soul"
          ],
          [
           "nerdcore"
          ],
          [
           "new jack smooth"
          ],
          [
           "new jack swing"
          ],
          [
           "new jersey rap"
          ],
          [
           "new orleans rap"
          ],
          [
           "nigerian pop"
          ],
          [
           "nordic house"
          ],
          [
           "norrlandsk hip hop"
          ],
          [
           "north carolina hip hop"
          ],
          [
           "norwegian hip hop"
          ],
          [
           "norwegian pop rap"
          ],
          [
           "nu electro"
          ],
          [
           "nyahbinghi"
          ],
          [
           "nyc rap"
          ],
          [
           "oakland hip hop"
          ],
          [
           "oc rap"
          ],
          [
           "ohio hip hop"
          ],
          [
           "old school dancehall"
          ],
          [
           "old school hip hop"
          ],
          [
           "old school rap francais"
          ],
          [
           "one-person band"
          ],
          [
           "ottawa rap"
          ],
          [
           "outer hip hop"
          ],
          [
           "p funk"
          ],
          [
           "peruvian hip hop"
          ],
          [
           "philly rap"
          ],
          [
           "phonk"
          ],
          [
           "pittsburgh rap"
          ],
          [
           "png pop"
          ],
          [
           "polish alternative rap"
          ],
          [
           "polish hip hop"
          ],
          [
           "political hip hop"
          ],
          [
           "polynesian hip hop"
          ],
          [
           "polynesian pop"
          ],
          [
           "pop r&b"
          ],
          [
           "pop rap"
          ],
          [
           "pop urbaine"
          ],
          [
           "popping"
          ],
          [
           "portland hip hop"
          ],
          [
           "post-disco"
          ],
          [
           "prank"
          ],
          [
           "proto-rap"
          ],
          [
           "psychedelic hip hop"
          ],
          [
           "puerto rican pop"
          ],
          [
           "queens hip hop"
          ],
          [
           "quiet storm"
          ],
          [
           "r&b"
          ],
          [
           "r&b argentino"
          ],
          [
           "rap"
          ],
          [
           "rap boricua"
          ],
          [
           "rap calme"
          ],
          [
           "rap conscient"
          ],
          [
           "rap cristiano"
          ],
          [
           "rap francais"
          ],
          [
           "rap inde"
          ],
          [
           "rap kreyol"
          ],
          [
           "rap latina"
          ],
          [
           "rap lyonnais"
          ],
          [
           "rap montrealais"
          ],
          [
           "rap regio"
          ],
          [
           "rap underground colombiano"
          ],
          [
           "rap underground mexicano"
          ],
          [
           "redneck"
          ],
          [
           "reggae"
          ],
          [
           "reggae cover"
          ],
          [
           "reggaeton"
          ],
          [
           "rhode island rap"
          ],
          [
           "ritmo kombina"
          ],
          [
           "rock kapak"
          ],
          [
           "roots reggae"
          ],
          [
           "sacramento hip hop"
          ],
          [
           "sad rap"
          ],
          [
           "samoan pop"
          ],
          [
           "san antonio rap"
          ],
          [
           "san diego rap"
          ],
          [
           "scam rap"
          ],
          [
           "scream rap"
          ],
          [
           "seattle hip hop"
          ],
          [
           "shibuya-kei"
          ],
          [
           "singaporean hip hop"
          ],
          [
           "slam poetry"
          ],
          [
           "slow game"
          ],
          [
           "smooth soul"
          ],
          [
           "solomon islands pop"
          ],
          [
           "soul flow"
          ],
          [
           "southern hip hop"
          ],
          [
           "spanish indie rock"
          ],
          [
           "spiritual hip hop"
          ],
          [
           "spoken word"
          ],
          [
           "st louis rap"
          ],
          [
           "sudanese pop"
          ],
          [
           "swedish folk pop"
          ],
          [
           "swedish hip hop"
          ],
          [
           "swedish pop punk"
          ],
          [
           "swedish reggae"
          ],
          [
           "swedish underground rap"
          ],
          [
           "tahitian"
          ],
          [
           "tamburica"
          ],
          [
           "tennessee hip hop"
          ],
          [
           "texas latin rap"
          ],
          [
           "thai hip hop"
          ],
          [
           "thai idol"
          ],
          [
           "thai indie"
          ],
          [
           "thai indie pop"
          ],
          [
           "thai indie rock"
          ],
          [
           "thai pop"
          ],
          [
           "toronto rap"
          ],
          [
           "traditional funk"
          ],
          [
           "traditional soul"
          ],
          [
           "trap"
          ],
          [
           "trap argentino"
          ],
          [
           "trap latino"
          ],
          [
           "trap mexicano"
          ],
          [
           "trap queen"
          ],
          [
           "trap soul"
          ],
          [
           "turntablism"
          ],
          [
           "uk alternative hip hop"
          ],
          [
           "underground boom bap"
          ],
          [
           "underground hip hop"
          ],
          [
           "underground rap"
          ],
          [
           "upstate ny rap"
          ],
          [
           "urban contemporary"
          ],
          [
           "vapor trap"
          ],
          [
           "viral rap"
          ],
          [
           "viral trap"
          ],
          [
           "virgin islands reggae"
          ],
          [
           "virginia hip hop"
          ],
          [
           "wave"
          ],
          [
           "west australian hip hop"
          ],
          [
           "west coast rap"
          ],
          [
           "west coast reggae"
          ],
          [
           "west coast trap"
          ],
          [
           "winnipeg hip hop"
          ],
          [
           "wu fam"
          ]
         ],
         "hovertemplate": "supergenre=hip hop<br>emb1=%{x}<br>emb2=%{y}<br>genre=%{customdata[0]}<extra></extra>",
         "legendgroup": "hip hop",
         "marker": {
          "color": "#B6E880",
          "size": 6,
          "symbol": "circle"
         },
         "mode": "markers",
         "name": "hip hop",
         "showlegend": true,
         "type": "scattergl",
         "x": [
          6.550619999999999,
          0.11956416,
          0.44533482,
          0.24857536,
          2.592931,
          0.12910926,
          1.0865017,
          0.29221937,
          0.9657738,
          0.08268332,
          -3.8201005,
          0.1860844,
          0.74308676,
          0.70214295,
          0.6360437,
          1.0456231,
          0.56896585,
          0.19730243,
          0.6537993000000001,
          0.42310244,
          0.5798071,
          0.44613913,
          0.42933652,
          1.7187706000000005,
          0.14519002,
          0.40578017,
          0.14206043,
          6.2275815,
          -0.27936366,
          4.0514426,
          0.3923244999999999,
          0.29264224,
          0.64981693,
          0.3063885,
          0.63584167,
          0.53811187,
          0.46619803,
          0.2627092,
          0.23162004,
          0.50223786,
          0.39299095,
          0.68695796,
          0.56582737,
          0.5549786,
          0.52015716,
          0.743084,
          0.70711446,
          0.15257247,
          0.6703368000000001,
          6.4997325,
          6.5292225,
          0.33366928,
          8.589402999999999,
          -0.13979104,
          1.119823,
          -0.16050304,
          0.42284387,
          4.1712036,
          4.185120599999999,
          0.20808782,
          -0.41269147,
          0.6922857,
          0.62971264,
          -4.243312,
          0.6600686,
          4.187299299999999,
          0.4287202999999999,
          -0.25600177,
          5.7294855,
          1.7569867,
          0.42605972,
          0.6149600000000001,
          0.1918539,
          0.552688,
          0.5381929,
          0.665358,
          0.6693863,
          0.5995391,
          0.5236779,
          8.206750999999999,
          0.5370378,
          -0.23216353,
          -0.22870393,
          -0.20477885,
          -0.23971495,
          2.3908722,
          0.2081645,
          0.16954224,
          0.33416915,
          -0.28670356,
          1.0430993,
          -0.16093001,
          0.63015175,
          0.42405668,
          0.6569724,
          0.22762088,
          -0.4139017,
          0.10085334,
          0.5800974,
          0.5698430999999999,
          8.164003,
          -0.17097878,
          6.520089,
          -0.2627111,
          0.75545865,
          0.45674247,
          0.5508534,
          8.200236,
          8.229671000000002,
          -0.8058841,
          1.0215104,
          0.53411967,
          0.40723115,
          0.99776256,
          0.21529849,
          -0.26779798,
          4.542697,
          1.5636386,
          0.3741618,
          0.5084206,
          0.13774857,
          0.5723698,
          0.0605748,
          6.506213,
          0.636518,
          0.9264464,
          0.53977704,
          0.63533837,
          0.43619922,
          0.54597235,
          0.38447845,
          0.60550827,
          2.1577597,
          8.633196,
          0.9251171,
          0.42609277,
          0.43489373,
          8.630883,
          8.633610000000001,
          8.644141000000001,
          8.633512,
          8.6223,
          8.6338825,
          8.630925,
          4.107603500000001,
          0.50960726,
          6.633297,
          6.642744,
          6.5425167,
          0.302845,
          6.286682,
          6.2706537,
          6.5212235,
          6.4327803,
          0.2592157,
          0.09023566,
          0.14287145,
          7.074949,
          1.2544591,
          1.2567416,
          -0.36825594,
          0.7124395,
          0.43400773,
          0.4897117,
          2.649759,
          1.2959288,
          0.7238001000000001,
          1.2953181,
          1.3269774,
          1.2656596000000002,
          1.2454411,
          1.2846566,
          -3.8974915,
          0.15423022,
          0.779709,
          0.00910411,
          -0.2917126,
          0.1717682,
          1.2083892,
          0.73936826,
          0.6211007,
          0.71135044,
          0.6560088000000001,
          0.7945161999999999,
          0.7129789000000001,
          1.0296925,
          0.18503816,
          0.52170855,
          0.87053746,
          -0.30382028,
          0.78737175,
          0.64606297,
          0.66537994,
          0.67892504,
          0.92271924,
          1.0321634,
          4.2455,
          0.7088466999999999,
          1.0506477,
          0.5270303000000001,
          0.6932494,
          1.076646,
          5.576173000000001,
          4.825842400000001,
          0.5377713000000001,
          5.7171526,
          5.715602,
          0.64660627,
          -0.26947448,
          0.62625176,
          0.4577917,
          0.6595956999999999,
          0.61138713,
          -0.3215540999999999,
          0.5519556999999999,
          6.5317802,
          3.0617154,
          0.27144396,
          0.2353272,
          2.0401807,
          -3.8555758,
          0.23849496,
          0.6212941999999999,
          0.7004486999999999,
          -0.3811776,
          2.2910264,
          2.3163674,
          0.18964258,
          0.34726346,
          -0.3735739,
          0.9510462,
          0.6771484999999999,
          6.544931,
          2.0018606,
          0.25969508,
          1.9917771,
          4.1833797,
          0.51403695,
          0.44986612,
          -3.954218,
          0.47761956,
          2.0887094,
          1.0035812,
          -3.823928,
          0.6419012,
          -3.8798304,
          6.561349000000001,
          6.5251675,
          6.5268254,
          6.5255747,
          6.522665,
          0.85763496,
          -3.9649339,
          6.4986935,
          6.5300055,
          0.73098457,
          0.46759447,
          -4.151818799999999,
          0.71725214,
          -0.21219105,
          -0.23403521,
          -3.9056408,
          0.13560408,
          8.236717,
          1.1278366000000002,
          -0.25824428,
          0.45724028,
          0.74504495,
          -0.3967835999999999,
          4.288057299999999,
          0.44272536,
          0.4824958,
          0.6268975999999999,
          0.17871857,
          6.189625299999999,
          1.0561075,
          0.22883411,
          0.5616896,
          0.88706833,
          -0.3714009,
          0.48445475,
          0.6676367,
          -4.515658999999999,
          0.09801382,
          0.24584776,
          0.71382934,
          0.4987677,
          2.3329988,
          4.556686,
          4.575201,
          4.541861,
          4.537609,
          -0.4017963,
          7.5739436,
          0.71012455,
          0.53970987,
          -0.17131156,
          -0.1729977,
          -0.21506149,
          -0.21190114,
          -0.2267061,
          -0.18370019,
          0.47079125,
          1.7982541,
          1.8620081,
          0.638286,
          -3.8274052,
          -3.877064700000001,
          0.7790175,
          0.68683445,
          0.7013588000000001,
          0.26136535,
          -0.17294495,
          0.3514109,
          0.56701183,
          0.17159508,
          0.5770794,
          1.0717431999999998,
          0.60530376,
          0.7204432,
          0.70238173,
          -0.27015916,
          0.843939,
          0.55820507,
          0.5914031999999999,
          0.4401947,
          -0.33227804,
          0.4524577,
          0.15876377,
          0.34454608
         ],
         "xaxis": "x",
         "y": [
          5.991924,
          8.219892999999999,
          2.9309814,
          8.202437,
          2.6899147,
          7.9853754,
          7.699682000000001,
          8.240246,
          7.819926299999999,
          7.830251,
          4.930019000000001,
          7.890927,
          8.543584,
          8.672400999999999,
          7.9959297,
          6.349130000000001,
          7.973122,
          8.1173,
          8.665037,
          8.513274000000001,
          8.7232,
          8.292925,
          8.85505,
          3.5527728,
          8.171407,
          8.305694,
          7.9236197,
          5.991396,
          6.1705794,
          8.068988000000001,
          8.369102999999999,
          8.251021000000001,
          8.706116999999999,
          8.285075,
          8.441343,
          8.359307000000001,
          8.738664,
          8.211322000000001,
          8.204288,
          8.328714,
          8.271053,
          8.559676,
          8.55425,
          8.527708,
          8.580668,
          8.393373,
          8.91269,
          8.252017,
          8.753368,
          7.880602400000001,
          7.8593917,
          8.269784,
          11.717357000000002,
          8.64277,
          8.389546000000001,
          8.680403,
          8.382308,
          8.0240755,
          8.016859,
          8.2282095,
          3.5342987,
          8.890087,
          8.613868,
          5.176234,
          8.449713000000001,
          8.025793,
          8.328342999999998,
          3.1286094,
          3.480022,
          3.5617212999999994,
          8.791586,
          8.71072,
          8.26602,
          8.691661999999999,
          8.73039,
          8.678233,
          8.714342,
          8.747272,
          8.1543665,
          5.9511175000000005,
          8.576171,
          3.0977752,
          3.0612724,
          3.0560577,
          3.1902974,
          4.889303,
          7.997956299999999,
          8.028812,
          8.292028,
          3.0928183,
          6.378535299999999,
          3.0690389,
          8.464267999999999,
          8.201874,
          8.614386,
          8.169835,
          3.5383892,
          8.296156,
          8.738348,
          8.445967999999999,
          5.962255,
          3.0800533,
          3.8382134,
          3.0987398999999995,
          8.571347,
          8.783472,
          8.636802000000001,
          5.9828258000000005,
          6.015197799999999,
          3.6267273,
          6.277463,
          8.210147000000001,
          8.268424000000001,
          7.6752815,
          8.167291,
          3.0973864,
          3.6725008,
          6.8204117,
          8.332825999999999,
          8.385325,
          8.277222,
          8.337576,
          8.205721,
          3.8495166,
          6.5761080000000005,
          7.979516499999999,
          8.821533,
          8.731057,
          8.83422,
          8.247451,
          8.3340435,
          8.300492,
          3.7916806,
          11.749872,
          8.065973,
          8.840506,
          8.842267,
          11.745559,
          11.752216,
          11.764965,
          11.750435,
          11.746704,
          11.756095,
          11.749498,
          2.2449334,
          6.521397599999999,
          5.902710400000001,
          5.9274015,
          5.908320400000001,
          8.175794999999999,
          5.945943,
          5.9581623,
          5.889243,
          5.9053555,
          8.114051,
          7.839589999999999,
          7.9548416,
          4.4678435,
          8.567668,
          8.528697,
          3.5154681000000005,
          8.333866,
          8.114483,
          8.345084,
          5.699591000000001,
          8.500744000000001,
          8.650516,
          8.498804,
          8.547609,
          8.504526,
          8.527139,
          8.555927,
          5.029387,
          8.060277000000001,
          8.400214,
          7.6029205,
          3.1144133,
          8.230017,
          8.386424,
          8.579735000000001,
          8.468838,
          8.589580999999999,
          7.7936106,
          8.445738,
          8.908063,
          7.772324,
          8.222567,
          8.549837,
          8.327075,
          3.099884,
          5.116429,
          8.321927,
          8.78978,
          8.890129,
          7.837962599999999,
          7.756771,
          7.9496207,
          8.5499115,
          7.716698599999999,
          8.418565,
          8.442152,
          7.668439,
          3.6101172,
          3.6296606,
          8.283707000000001,
          3.496611,
          3.4661214,
          7.327966,
          3.1202931,
          8.429053,
          8.684351,
          8.516946,
          8.563717,
          3.0906754000000003,
          8.103062,
          3.8420954,
          6.87675,
          8.234259,
          8.27165,
          3.6278136,
          5.1293774,
          8.338471,
          8.629371,
          8.402847999999999,
          3.4820786,
          10.074564,
          10.058708,
          8.252597999999999,
          8.409302,
          3.580058,
          7.911956299999999,
          8.317553,
          3.7939072,
          3.7603183,
          8.209759,
          3.7884874,
          8.038441,
          7.921815400000001,
          8.268751,
          4.68471,
          8.340974000000001,
          3.8708265,
          7.836426299999999,
          4.94355,
          8.475653999999999,
          4.968203,
          3.7818098,
          3.828724,
          7.865296400000001,
          3.8283424,
          3.8320372,
          8.181526,
          5.2018156,
          3.8891516,
          3.82957,
          8.215288000000001,
          8.357377,
          5.0863733,
          8.902997000000001,
          3.1126451,
          3.105763,
          4.981796299999999,
          8.296398,
          6.016615,
          8.409286,
          3.1136413,
          8.800494,
          8.439411999999999,
          3.549644,
          7.9662137,
          8.890888,
          8.592792999999999,
          8.464466,
          8.241468,
          5.9507527,
          8.418859,
          7.8410883,
          8.62814,
          7.413022,
          3.5190725,
          8.351417,
          8.568773,
          5.7083497,
          8.287355999999999,
          7.898242999999999,
          8.401846,
          8.176755,
          10.108649,
          3.6960318,
          3.8312883,
          3.740698000000001,
          3.6877077000000007,
          3.5594826,
          4.474353,
          8.624797000000001,
          8.619498,
          8.659282000000001,
          8.617078,
          8.672682,
          8.664585,
          8.663364999999999,
          8.665092999999999,
          8.246306,
          3.5885901,
          3.5192158,
          8.525789,
          4.921732,
          4.9220643,
          8.233811,
          8.254147,
          8.3789,
          7.877865299999999,
          5.797125299999999,
          8.269599000000001,
          8.386887,
          8.267288,
          8.354341999999999,
          7.729311500000001,
          8.496459,
          8.575119,
          8.64672,
          3.0955968,
          8.153453,
          8.463001,
          8.008941,
          8.785223,
          3.2419953,
          8.8103,
          8.260862,
          8.320874
         ],
         "yaxis": "y"
        },
        {
         "customdata": [
          [
           "accordeon"
          ],
          [
           "accordion"
          ],
          [
           "adult standards"
          ],
          [
           "african electronic"
          ],
          [
           "african-american classical"
          ],
          [
           "afro soul"
          ],
          [
           "afro-cuban percussion"
          ],
          [
           "afro-cuban traditional"
          ],
          [
           "afro-funk"
          ],
          [
           "afrobeat brasileiro"
          ],
          [
           "afrofuturismo brasileiro"
          ],
          [
           "afropop"
          ],
          [
           "amapiano"
          ],
          [
           "amharic pop"
          ],
          [
           "ancient mediterranean"
          ],
          [
           "arab folk"
          ],
          [
           "arabic jazz"
          ],
          [
           "argentine jazz"
          ],
          [
           "armenian folk"
          ],
          [
           "armenian hip hop"
          ],
          [
           "armenian pop"
          ],
          [
           "asakaa"
          ],
          [
           "australian jazz"
          ],
          [
           "austrian jazz"
          ],
          [
           "avant-garde jazz"
          ],
          [
           "axe"
          ],
          [
           "background jazz"
          ],
          [
           "baiao"
          ],
          [
           "baithak gana"
          ],
          [
           "bal-musette"
          ],
          [
           "ballroom"
          ],
          [
           "bandolim"
          ],
          [
           "barnmusik"
          ],
          [
           "bass trip"
          ],
          [
           "bebop"
          ],
          [
           "belgian jazz"
          ],
          [
           "belgian modern jazz"
          ],
          [
           "beninese pop"
          ],
          [
           "big band"
          ],
          [
           "bolero cubano"
          ],
          [
           "bolero mexicano"
          ],
          [
           "bomba y plena"
          ],
          [
           "boogaloo"
          ],
          [
           "boogie"
          ],
          [
           "boom bap brasileiro"
          ],
          [
           "bossa nova"
          ],
          [
           "bossa nova jazz"
          ],
          [
           "brass band"
          ],
          [
           "brass band brasileiro"
          ],
          [
           "brazilian boogie"
          ],
          [
           "brazilian contemporary classical"
          ],
          [
           "brazilian experimental"
          ],
          [
           "brazilian hip hop"
          ],
          [
           "brazilian indie rock"
          ],
          [
           "brazilian jazz"
          ],
          [
           "brazilian modern jazz"
          ],
          [
           "brazilian rockabilly"
          ],
          [
           "brazilian ska"
          ],
          [
           "brazilian soul"
          ],
          [
           "brega"
          ],
          [
           "brit funk"
          ],
          [
           "british brass band"
          ],
          [
           "british dance band"
          ],
          [
           "british jazz"
          ],
          [
           "burkinabe pop"
          ],
          [
           "calypso"
          ],
          [
           "canadian modern jazz"
          ],
          [
           "carimbo"
          ],
          [
           "carnatic instrumental"
          ],
          [
           "charanga"
          ],
          [
           "chicago soul"
          ],
          [
           "chinese jazz"
          ],
          [
           "choro"
          ],
          [
           "choro contemporaneo"
          ],
          [
           "christmas instrumental"
          ],
          [
           "city pop"
          ],
          [
           "classic australian country"
          ],
          [
           "classic japanese jazz"
          ],
          [
           "classic polish pop"
          ],
          [
           "classical accordion"
          ],
          [
           "classical saxophone"
          ],
          [
           "classical trumpet"
          ],
          [
           "coco"
          ],
          [
           "contemporary gospel"
          ],
          [
           "contemporary jazz"
          ],
          [
           "contemporary post-bop"
          ],
          [
           "contemporary vocal jazz"
          ],
          [
           "cool jazz"
          ],
          [
           "coupe-decale"
          ],
          [
           "cuban rumba"
          ],
          [
           "cubaton"
          ],
          [
           "danish folk"
          ],
          [
           "danish jazz"
          ],
          [
           "danish pop rock"
          ],
          [
           "danish singer-songwriter"
          ],
          [
           "deep adult standards"
          ],
          [
           "deep brazilian pop"
          ],
          [
           "deep free jazz"
          ],
          [
           "deep jazz fusion"
          ],
          [
           "deep r&b"
          ],
          [
           "deep smooth jazz"
          ],
          [
           "deep smooth r&b"
          ],
          [
           "deep southern soul"
          ],
          [
           "deep vocal jazz"
          ],
          [
           "dinner jazz"
          ],
          [
           "dixieland"
          ],
          [
           "dragspel"
          ],
          [
           "dub brasileiro"
          ],
          [
           "dutch jazz"
          ],
          [
           "eastern bloc groove"
          ],
          [
           "ecm-style jazz"
          ],
          [
           "electric bass"
          ],
          [
           "ethio-jazz"
          ],
          [
           "ethiopian pop"
          ],
          [
           "ethiopian traditional"
          ],
          [
           "eugene indie"
          ],
          [
           "fado"
          ],
          [
           "fado antigo"
          ],
          [
           "fado de coimbra"
          ],
          [
           "fado instrumental"
          ],
          [
           "festigal"
          ],
          [
           "finnish soul"
          ],
          [
           "flamenco guitar"
          ],
          [
           "folclore portugues"
          ],
          [
           "folclore salteno"
          ],
          [
           "folk brasileiro"
          ],
          [
           "folkmusik"
          ],
          [
           "forro"
          ],
          [
           "forro instrumental"
          ],
          [
           "forro tradicional"
          ],
          [
           "free jazz"
          ],
          [
           "french jazz"
          ],
          [
           "funk"
          ],
          [
           "funk das antigas"
          ],
          [
           "funk melody"
          ],
          [
           "funk ostentacao"
          ],
          [
           "funk pop"
          ],
          [
           "galician jazz"
          ],
          [
           "german jazz"
          ],
          [
           "ghanaian alternative"
          ],
          [
           "go-go"
          ],
          [
           "gospel"
          ],
          [
           "gospel singers"
          ],
          [
           "gospel soul"
          ],
          [
           "greek folk"
          ],
          [
           "guitarra portuguesa"
          ],
          [
           "gypsy jazz"
          ],
          [
           "hammond organ"
          ],
          [
           "hard bop"
          ],
          [
           "hard rock brasileiro"
          ],
          [
           "hardingfele"
          ],
          [
           "harlem renaissance"
          ],
          [
           "harmonica jazz"
          ],
          [
           "harmonikka"
          ],
          [
           "icelandic jazz"
          ],
          [
           "indian instrumental"
          ],
          [
           "indian jazz"
          ],
          [
           "indian violin"
          ],
          [
           "indie curitibano"
          ],
          [
           "indie jazz"
          ],
          [
           "indonesian jazz"
          ],
          [
           "instrumental funk"
          ],
          [
           "instrumental soul"
          ],
          [
           "israeli jazz"
          ],
          [
           "israeli pop"
          ],
          [
           "italian contemporary jazz"
          ],
          [
           "italian jazz"
          ],
          [
           "japanese blues"
          ],
          [
           "japanese jazz"
          ],
          [
           "japanese soul"
          ],
          [
           "japanese worship"
          ],
          [
           "jazz"
          ],
          [
           "jazz accordion"
          ],
          [
           "jazz blues"
          ],
          [
           "jazz brass"
          ],
          [
           "jazz caraibes"
          ],
          [
           "jazz catala"
          ],
          [
           "jazz clarinet"
          ],
          [
           "jazz colombiano"
          ],
          [
           "jazz composition"
          ],
          [
           "jazz cubano"
          ],
          [
           "jazz double bass"
          ],
          [
           "jazz drums"
          ],
          [
           "jazz flute"
          ],
          [
           "jazz funk"
          ],
          [
           "jazz fusion"
          ],
          [
           "jazz guitar"
          ],
          [
           "jazz mexicano"
          ],
          [
           "jazz orchestra"
          ],
          [
           "jazz organ"
          ],
          [
           "jazz piano"
          ],
          [
           "jazz pop"
          ],
          [
           "jazz puertorriqueno"
          ],
          [
           "jazz quartet"
          ],
          [
           "jazz saxophone"
          ],
          [
           "jazz trio"
          ],
          [
           "jazz trombone"
          ],
          [
           "jazz trumpet"
          ],
          [
           "jazz tuba"
          ],
          [
           "jazz venezolano"
          ],
          [
           "jazz vibraphone"
          ],
          [
           "jazz violin"
          ],
          [
           "jovem guarda"
          ],
          [
           "jump blues"
          ],
          [
           "khaleeji iraqi"
          ],
          [
           "korean jazz"
          ],
          [
           "kritika"
          ],
          [
           "kwaito"
          ],
          [
           "latin jazz"
          ],
          [
           "lebanese indie"
          ],
          [
           "library music"
          ],
          [
           "light music"
          ],
          [
           "lo-fi brasileiro"
          ],
          [
           "lounge"
          ],
          [
           "mallet"
          ],
          [
           "mambo"
          ],
          [
           "manguebeat"
          ],
          [
           "maskandi"
          ],
          [
           "memphis soul"
          ],
          [
           "mevlevi sufi"
          ],
          [
           "mgp"
          ],
          [
           "middle eastern traditional"
          ],
          [
           "modern big band"
          ],
          [
           "modern chamber music"
          ],
          [
           "modern free jazz"
          ],
          [
           "modern funk"
          ],
          [
           "modern jazz piano"
          ],
          [
           "modern jazz trio"
          ],
          [
           "modern swing"
          ],
          [
           "mpb"
          ],
          [
           "musica alagoana"
          ],
          [
           "musica baiana"
          ],
          [
           "musica cearense"
          ],
          [
           "musica gaucha tradicionalista"
          ],
          [
           "musica infantil"
          ],
          [
           "musica juiz-forana"
          ],
          [
           "musica maranhense"
          ],
          [
           "musica para criancas"
          ],
          [
           "musica paraibana"
          ],
          [
           "musica popular amazonense"
          ],
          [
           "musica popular mineira"
          ],
          [
           "musica popular paraense"
          ],
          [
           "musica potiguar"
          ],
          [
           "musica tradicional cubana"
          ],
          [
           "musica triste brasileira"
          ],
          [
           "musik anak-anak"
          ],
          [
           "naija worship"
          ],
          [
           "neapolitan funk"
          ],
          [
           "neo soul-jazz"
          ],
          [
           "neo-psicodelia brasileira"
          ],
          [
           "new orleans funk"
          ],
          [
           "new orleans jazz"
          ],
          [
           "northern soul"
          ],
          [
           "norwegian folk"
          ],
          [
           "norwegian jazz"
          ],
          [
           "nova mpb"
          ],
          [
           "nova musica amazonense"
          ],
          [
           "nova musica paulista"
          ],
          [
           "nova musica pernambucana"
          ],
          [
           "nyckelharpa"
          ],
          [
           "oud"
          ],
          [
           "pagode"
          ],
          [
           "pagode baiano"
          ],
          [
           "pagode novo"
          ],
          [
           "palestinian pop"
          ],
          [
           "partido alto"
          ],
          [
           "persian neo-traditional"
          ],
          [
           "persian traditional"
          ],
          [
           "piano blues"
          ],
          [
           "piano mpb"
          ],
          [
           "polish alternative"
          ],
          [
           "polish free jazz"
          ],
          [
           "polish jazz"
          ],
          [
           "polish modern jazz"
          ],
          [
           "polish pop"
          ],
          [
           "pop lgbtq+ brasileira"
          ],
          [
           "pop nacional"
          ],
          [
           "pop nacional antigas"
          ],
          [
           "pop rock brasileiro"
          ],
          [
           "pops orchestra"
          ],
          [
           "portuguese pop"
          ],
          [
           "post-disco soul"
          ],
          [
           "praise"
          ],
          [
           "progressive jazz fusion"
          ],
          [
           "puerto rican folk"
          ],
          [
           "ragtime"
          ],
          [
           "rap df"
          ],
          [
           "rap maromba"
          ],
          [
           "rap nacional antigo"
          ],
          [
           "rare groove"
          ],
          [
           "rock alternativo brasileiro"
          ],
          [
           "rock baiano"
          ],
          [
           "rock cearense"
          ],
          [
           "rock gaucho"
          ],
          [
           "rock nacional brasileiro"
          ],
          [
           "rock piauiense"
          ],
          [
           "roda de samba"
          ],
          [
           "salsa cubana"
          ],
          [
           "salsa international"
          ],
          [
           "samba"
          ],
          [
           "samba de roda"
          ],
          [
           "samba moderno"
          ],
          [
           "samba paulista"
          ],
          [
           "samba reggae"
          ],
          [
           "samba-enredo"
          ],
          [
           "samba-jazz"
          ],
          [
           "samba-rock"
          ],
          [
           "sanfona"
          ],
          [
           "santur"
          ],
          [
           "saxophone trio"
          ],
          [
           "scottish jazz"
          ],
          [
           "second line"
          ],
          [
           "sertanejo"
          ],
          [
           "sertanejo pop"
          ],
          [
           "sertanejo tradicional"
          ],
          [
           "sertanejo universitario"
          ],
          [
           "smooth jazz"
          ],
          [
           "smooth saxophone"
          ],
          [
           "son cubano"
          ],
          [
           "son cubano clasico"
          ],
          [
           "soul"
          ],
          [
           "soul jazz"
          ],
          [
           "souldies"
          ],
          [
           "south african gospel"
          ],
          [
           "south african hip hop"
          ],
          [
           "south african jazz"
          ],
          [
           "south african pop"
          ],
          [
           "south african pop dance"
          ],
          [
           "southern soul"
          ],
          [
           "southern soul blues"
          ],
          [
           "spanish jazz"
          ],
          [
           "spytrack"
          ],
          [
           "straight-ahead jazz"
          ],
          [
           "street band"
          ],
          [
           "stride"
          ],
          [
           "svensk progg"
          ],
          [
           "swedish fiddle"
          ],
          [
           "swedish jazz"
          ],
          [
           "swing"
          ],
          [
           "swing revival"
          ],
          [
           "szanty"
          ],
          [
           "tabla"
          ],
          [
           "tar"
          ],
          [
           "tecnobrega"
          ],
          [
           "thai traditional"
          ],
          [
           "timba"
          ],
          [
           "tipico"
          ],
          [
           "torch song"
          ],
          [
           "trad jazz catala"
          ],
          [
           "trap brasileiro"
          ],
          [
           "trio cubano"
          ],
          [
           "trombone brasileiro"
          ],
          [
           "tropicalia"
          ],
          [
           "turkish experimental"
          ],
          [
           "ugandan pop"
          ],
          [
           "uk contemporary jazz"
          ],
          [
           "umbanda"
          ],
          [
           "vaudeville"
          ],
          [
           "velha guarda"
          ],
          [
           "vintage chanson"
          ],
          [
           "vintage french electronic"
          ],
          [
           "vintage hollywood"
          ],
          [
           "vintage jazz"
          ],
          [
           "vintage norwegian pop"
          ],
          [
           "vintage schlager"
          ],
          [
           "vintage swedish pop"
          ],
          [
           "vintage swing"
          ],
          [
           "viola caipira"
          ],
          [
           "violao"
          ],
          [
           "violao classico"
          ],
          [
           "visor"
          ],
          [
           "vocal jazz"
          ],
          [
           "zouglou"
          ]
         ],
         "hovertemplate": "supergenre=jazz<br>emb1=%{x}<br>emb2=%{y}<br>genre=%{customdata[0]}<extra></extra>",
         "legendgroup": "jazz",
         "marker": {
          "color": "#FF97FF",
          "size": 6,
          "symbol": "circle"
         },
         "mode": "markers",
         "name": "jazz",
         "showlegend": true,
         "type": "scattergl",
         "x": [
          2.1687224,
          2.1308234,
          2.7001784,
          -3.6298904,
          2.446971,
          1.0507255,
          -3.5738432,
          -3.5406618,
          1.1294931,
          0.96078056,
          0.7176424,
          0.97624606,
          1.0136445,
          1.2356191,
          6.017503,
          6.0363684,
          6.120387,
          2.0602162,
          5.951889,
          5.931711,
          5.9265413,
          0.941363,
          2.3028347,
          2.2909408,
          2.535031,
          1.0898428,
          2.2650871,
          1.1347622,
          2.423858,
          2.183473,
          2.750089200000001,
          1.0719683,
          4.502807,
          2.0979087000000005,
          2.2943559,
          2.4193175,
          2.2816873,
          1.135568,
          2.4711306,
          -3.6707754,
          -4.0670586,
          -3.6791725,
          -3.6475472,
          1.9998176,
          0.60112745,
          1.0901352,
          1.1796112,
          1.9402432,
          1.0728626,
          1.1204932,
          1.4873514,
          1.1608406999999998,
          0.6192011,
          0.7227433000000001,
          1.2199183,
          1.2899145,
          0.4310412999999999,
          0.57735556,
          1.0069337,
          0.9720614,
          1.7851284,
          3.7513568,
          2.6039228,
          2.0835464,
          -3.6176095,
          2.6419537,
          2.249372,
          1.0061117,
          6.644932700000001,
          -3.616375,
          2.2119749,
          2.3955128,
          1.099934,
          1.0969377,
          2.6195211,
          6.1766176,
          2.984895,
          2.441492,
          2.4288545,
          2.1351795,
          2.3808022,
          2.4338722,
          0.8374471,
          2.5470915,
          2.294907,
          2.239661,
          2.6611044,
          2.2837498,
          0.9000059000000001,
          -3.5914228,
          -3.5832307,
          5.15764,
          2.3992226000000003,
          2.463007,
          2.4149718,
          2.7419055,
          1.0151225,
          2.5100024,
          2.2650745,
          2.2343411,
          2.1086743,
          2.2438104,
          2.2166740000000003,
          2.5639763,
          2.6343765,
          2.4945388,
          2.2023427000000004,
          0.76231456,
          2.5207245,
          2.4343657000000003,
          2.4193797000000004,
          2.3086636,
          1.3577483,
          1.2293701,
          1.2720153,
          2.5792072,
          0.9569535,
          0.94019884,
          0.9372194,
          0.9165796,
          6.6424227,
          1.8208144,
          -4.67096,
          0.9391756,
          2.0590324,
          0.673667,
          4.977178599999999,
          1.1375363,
          1.1452221000000002,
          1.169036,
          2.5747137,
          2.2781065,
          1.8826907,
          1.0639684,
          1.0927083,
          0.69290245,
          1.0883598,
          2.2161422,
          2.3956707,
          0.0964324,
          1.977255,
          2.5386229,
          1.3200037,
          2.0628276000000003,
          6.043579599999999,
          0.93258774,
          2.3301878,
          1.9633515,
          2.2967253,
          0.49959633,
          5.104941,
          2.4599936,
          2.4202747,
          5.1104627,
          2.0879362,
          6.6435943,
          6.5968122000000005,
          6.6458397,
          0.7969964,
          1.8758818,
          8.632244,
          1.8152223000000005,
          1.9711277,
          2.2577972,
          6.671911200000001,
          2.1353998,
          2.370438,
          6.456332,
          6.111491,
          6.241293,
          0.11683907,
          2.2464678,
          2.1357162,
          2.6272151000000004,
          2.4732826,
          -3.423993,
          2.2484481,
          2.5918932,
          2.3545482000000004,
          2.3807282,
          -3.5250595,
          2.3253236,
          2.229817,
          2.1042080000000003,
          2.0011063,
          2.198778,
          2.2471273,
          2.39298,
          2.421927,
          2.1202226000000004,
          2.2643318,
          2.6126807,
          -3.5824964,
          2.264562,
          2.2557902000000003,
          2.3293072999999995,
          2.6213906,
          2.2683413,
          2.3630335,
          -3.4434354,
          2.1914377,
          2.3784645,
          0.9452818,
          2.6878285,
          6.0110703,
          2.6998494,
          6.0312386,
          1.0311276,
          -3.5948296,
          5.9923267,
          2.8413372000000003,
          2.7732668,
          0.9285222,
          2.8152204,
          2.2243476,
          -3.6146948,
          0.80400634,
          1.1233805,
          2.2286599,
          6.584303,
          2.4795241000000003,
          6.0009074,
          2.408715,
          2.083641,
          2.5882285,
          1.7487646,
          2.2172775,
          2.3864245,
          2.513953,
          0.94700354,
          1.1043797,
          1.0226067,
          0.77940315,
          0.7474995,
          0.82882744,
          0.8798284,
          1.0222802,
          0.872727,
          0.9790141,
          1.0575851,
          1.1111265,
          1.0400665999999998,
          1.0018451,
          -3.6096208,
          0.89013594,
          0.045690708,
          2.541732,
          2.3151772,
          2.2759356,
          0.69341177,
          1.989873,
          2.4243019,
          2.201231,
          5.169673,
          2.5439885,
          0.8236515999999999,
          1.0507869,
          0.8382878,
          0.77412534,
          5.0616693,
          5.990999700000001,
          1.077976,
          1.1218146999999998,
          1.0639716,
          6.042813,
          1.1241508,
          6.0351195,
          6.060357,
          2.8191938,
          2.6184304,
          2.3824728,
          2.3994052000000003,
          2.432936,
          2.4053829,
          2.3929012000000003,
          0.96788126,
          1.0350606,
          0.97282267,
          0.5583859999999999,
          2.8563297000000003,
          0.9679826,
          2.017999,
          2.547823,
          5.258348000000001,
          -3.700379,
          2.4506752,
          0.6301939000000001,
          0.7008621,
          0.6541541000000001,
          1.9544958,
          0.57945883,
          0.93053055,
          0.61282027,
          0.6098523,
          0.5905845999999999,
          0.55974746,
          1.0721606,
          -3.569768,
          -3.705899,
          1.0346705,
          0.90312034,
          1.0518233,
          1.0194976,
          1.1296767,
          1.0470889,
          1.163454,
          0.96599495,
          1.1687407,
          6.073974,
          2.1730318,
          2.7680016,
          2.0166001,
          0.99009645,
          1.0230571,
          0.93453115,
          0.9879597,
          2.0991037,
          2.045315,
          -3.6266136,
          -3.5680356,
          2.2141407,
          2.1436596000000003,
          2.1870747,
          1.1169801,
          0.736716,
          1.1530428,
          1.0294926,
          1.033635,
          2.2032049,
          2.241751,
          2.1861353,
          2.8939545,
          2.2676969,
          1.9766078,
          2.407417,
          4.593587,
          5.103461,
          4.2059517,
          2.528582,
          2.4781938,
          2.4346488,
          6.6075006,
          6.046841000000001,
          1.063117,
          2.369192,
          -3.5878968,
          -3.6858988,
          2.8654578,
          2.4794817000000005,
          0.70092994,
          -3.6512823,
          0.76231027,
          0.9695488,
          6.3057194,
          4.4639225,
          2.008446,
          1.0173329,
          2.4629328,
          1.0744853,
          3.0431435,
          3.3633702000000003,
          2.999862,
          2.4539886,
          5.863828,
          3.1578848,
          4.397322,
          3.1533356,
          0.92660654,
          1.1745712,
          1.2120011999999998,
          4.5094023000000005,
          2.5242214,
          0.9719787
         ],
         "xaxis": "x",
         "y": [
          1.9821829,
          1.8435944,
          3.4535484,
          4.2011595,
          3.1006994,
          3.035644,
          4.1580496,
          4.1501145,
          2.990914,
          0.6848416,
          0.32437345,
          2.8655455,
          3.0394013,
          3.0102108,
          1.0518991000000002,
          1.0152829,
          1.236049,
          1.7008928,
          1.0102268,
          1.0268031,
          1.0435995999999998,
          2.8146672,
          3.0509667,
          2.883432,
          2.6090372000000004,
          0.08172405,
          2.7513642000000003,
          0.43739408,
          4.827033999999999,
          2.0085433,
          3.2777123,
          0.4410365,
          3.807005,
          2.9710696,
          2.9080827,
          2.94185,
          3.4155061,
          2.924755,
          3.1298842,
          4.2046022,
          4.322705,
          4.303411,
          4.244936,
          3.843767,
          0.2378788,
          0.5784064999999999,
          0.6729782,
          3.2848365,
          0.5771394,
          0.8406606,
          0.90362746,
          0.8151733,
          0.26551095,
          0.34337214,
          0.66127455,
          0.87279737,
          0.12848334,
          0.24746475,
          0.50003004,
          0.50226295,
          3.622177,
          2.676911,
          3.227703,
          2.9363806,
          4.2078004,
          3.4477012000000005,
          2.8203995,
          0.3731236,
          1.378823,
          4.1938944,
          3.779187,
          2.8429267000000005,
          0.3968893,
          0.40709496,
          3.3179474,
          5.796643700000001,
          4.9123425,
          2.744225,
          10.228465,
          1.8432102,
          2.6888437,
          2.8849002999999995,
          0.34066406,
          3.6287959,
          2.7560966,
          2.8024685000000003,
          3.2284067000000003,
          2.830149,
          2.8644881,
          4.1802177,
          4.193413,
          4.1579924,
          2.6564815,
          7.6221337,
          7.6022205,
          3.36217,
          0.4734529,
          2.634347,
          2.839923,
          2.973162,
          3.307613,
          2.7779372,
          3.802254,
          3.1493900000000004,
          3.5486364000000004,
          3.1880727,
          1.8959079,
          0.38834363,
          2.6095114,
          10.243795,
          2.6295497,
          2.7804067000000003,
          3.0628195,
          3.02281,
          3.0439568,
          3.2431307,
          0.77994514,
          0.8365481,
          0.816547,
          0.8716801,
          4.7425528,
          3.4137588,
          6.202761,
          0.84274316,
          1.6958945,
          0.2970714,
          4.0461273,
          0.3259652,
          0.31290063,
          0.34931502,
          2.6148257000000004,
          2.3593664,
          3.6237578,
          0.13086955,
          0.16298212,
          0.23582701,
          0.11742236,
          2.8415248,
          2.8917363,
          2.7727084,
          3.673466200000001,
          3.608984200000001,
          3.0240119,
          3.6128929,
          0.9749226,
          0.85219747,
          2.460325,
          3.2358735,
          2.8456705,
          0.22056507,
          4.1522455,
          3.2683022,
          2.9750445,
          4.1255293,
          3.2035341,
          1.3699358999999998,
          1.383578,
          1.369347,
          0.35838184,
          3.0553172,
          11.7522335,
          3.4143410000000003,
          3.5157592000000006,
          2.7855952,
          4.738857299999999,
          1.8612897,
          2.7566404,
          5.723273000000001,
          5.734374,
          5.876692,
          3.3360540000000003,
          2.8496459,
          1.8638145,
          3.5138977,
          2.9206114,
          4.064446,
          2.8563874,
          3.1218553,
          2.6995075,
          2.527524,
          4.124962,
          2.7140388,
          2.750722,
          2.8698914,
          3.171148,
          2.8289285,
          2.818413,
          2.6243715,
          3.039778,
          3.0950174,
          2.934797,
          3.220867,
          4.1801586,
          2.8982055,
          2.778136,
          2.8406932,
          3.1811528,
          2.9544413,
          2.9673522,
          4.07304,
          2.9232974,
          2.4917884,
          0.4895889,
          3.8344646,
          1.0073166999999998,
          3.221782,
          0.9418574,
          3.0262082,
          4.188098,
          1.064325,
          3.1691706,
          3.215455,
          0.5302635,
          3.2853048,
          2.8632846,
          4.215128,
          0.35756254,
          3.031618,
          3.7193072,
          0.7614758,
          3.1737158,
          1.0151011,
          2.9311116000000004,
          3.0566516,
          2.5194895,
          3.539283,
          2.8253956,
          2.7089229,
          3.1856925,
          0.37344062,
          0.47468087,
          0.50239265,
          0.33266884,
          0.32131246,
          0.36752468,
          0.3858714,
          0.36828232,
          0.33282775,
          0.5377725,
          0.53197443,
          0.5959181,
          0.32684156,
          0.47666782,
          4.16087,
          0.5050846,
          3.2876627,
          3.593548,
          5.60203,
          2.7963934,
          0.34464166,
          3.4626942,
          3.13343,
          3.834258,
          4.1130557,
          2.6501873,
          0.3787957,
          0.5483621,
          0.35388154,
          0.34654412,
          4.0898414,
          1.0135367,
          0.24171029,
          0.15466711,
          0.33067855,
          1.0186522,
          0.36632589,
          0.9647748,
          0.9465051,
          3.969299,
          3.1668540000000003,
          10.167693,
          2.6952271,
          2.6172945,
          2.6240916000000003,
          10.198572,
          0.49880233,
          0.15968138,
          0.41450438,
          0.22704914,
          3.3929374,
          1.00227,
          3.8103905,
          3.5247414,
          6.078503,
          4.3243575,
          3.141297,
          0.25971237,
          0.2785616,
          0.28764254,
          3.3193538,
          0.24343565,
          0.4287722,
          0.25700095,
          0.2662989,
          0.24542557,
          0.22050221,
          0.42273006,
          4.169736,
          4.322743,
          0.4292069999999999,
          0.5373383,
          0.39032105,
          0.16956578,
          0.20785493,
          0.42907715,
          0.7960782,
          0.4302205,
          0.40577605,
          0.945697,
          2.9546278,
          3.3040802000000005,
          3.3010019999999995,
          0.14311847,
          0.11809479,
          0.119351454,
          0.11300828,
          3.2182827,
          3.1143217,
          4.1971517,
          4.144625,
          3.661334,
          3.0206754,
          3.7879188,
          2.8973143,
          0.57960904,
          3.024635,
          3.0850217,
          3.0428517000000004,
          3.7500362,
          3.7501085,
          2.8657963,
          3.2363727000000004,
          2.8574994,
          3.3011909,
          2.988388,
          3.919154,
          4.14551,
          3.5650084000000004,
          3.1590986,
          3.1899333,
          10.207659,
          1.3758415000000002,
          0.96902937,
          0.2372694,
          2.74997,
          4.194124700000001,
          4.295814,
          3.36267,
          3.1224997,
          0.32057855,
          4.1935716,
          0.33021036,
          0.54675686,
          0.34167045,
          3.6701853,
          3.075807,
          0.37777144,
          3.1627240000000003,
          0.39330897,
          3.3322392,
          3.046656,
          3.3806033,
          3.1098826,
          3.4819183,
          3.4135296000000004,
          3.7814205,
          4.195543,
          0.35175428,
          0.6065568,
          0.6876909000000001,
          3.8165052,
          3.143269,
          2.9248774
         ],
         "yaxis": "y"
        }
       ],
       "layout": {
        "height": 800,
        "legend": {
         "title": {
          "text": "supergenre"
         },
         "tracegroupgap": 0
        },
        "margin": {
         "t": 60
        },
        "template": {
         "data": {
          "bar": [
           {
            "error_x": {
             "color": "#2a3f5f"
            },
            "error_y": {
             "color": "#2a3f5f"
            },
            "marker": {
             "line": {
              "color": "#E5ECF6",
              "width": 0.5
             }
            },
            "type": "bar"
           }
          ],
          "barpolar": [
           {
            "marker": {
             "line": {
              "color": "#E5ECF6",
              "width": 0.5
             }
            },
            "type": "barpolar"
           }
          ],
          "carpet": [
           {
            "aaxis": {
             "endlinecolor": "#2a3f5f",
             "gridcolor": "white",
             "linecolor": "white",
             "minorgridcolor": "white",
             "startlinecolor": "#2a3f5f"
            },
            "baxis": {
             "endlinecolor": "#2a3f5f",
             "gridcolor": "white",
             "linecolor": "white",
             "minorgridcolor": "white",
             "startlinecolor": "#2a3f5f"
            },
            "type": "carpet"
           }
          ],
          "choropleth": [
           {
            "colorbar": {
             "outlinewidth": 0,
             "ticks": ""
            },
            "type": "choropleth"
           }
          ],
          "contour": [
           {
            "colorbar": {
             "outlinewidth": 0,
             "ticks": ""
            },
            "colorscale": [
             [
              0,
              "#0d0887"
             ],
             [
              0.1111111111111111,
              "#46039f"
             ],
             [
              0.2222222222222222,
              "#7201a8"
             ],
             [
              0.3333333333333333,
              "#9c179e"
             ],
             [
              0.4444444444444444,
              "#bd3786"
             ],
             [
              0.5555555555555556,
              "#d8576b"
             ],
             [
              0.6666666666666666,
              "#ed7953"
             ],
             [
              0.7777777777777778,
              "#fb9f3a"
             ],
             [
              0.8888888888888888,
              "#fdca26"
             ],
             [
              1,
              "#f0f921"
             ]
            ],
            "type": "contour"
           }
          ],
          "contourcarpet": [
           {
            "colorbar": {
             "outlinewidth": 0,
             "ticks": ""
            },
            "type": "contourcarpet"
           }
          ],
          "heatmap": [
           {
            "colorbar": {
             "outlinewidth": 0,
             "ticks": ""
            },
            "colorscale": [
             [
              0,
              "#0d0887"
             ],
             [
              0.1111111111111111,
              "#46039f"
             ],
             [
              0.2222222222222222,
              "#7201a8"
             ],
             [
              0.3333333333333333,
              "#9c179e"
             ],
             [
              0.4444444444444444,
              "#bd3786"
             ],
             [
              0.5555555555555556,
              "#d8576b"
             ],
             [
              0.6666666666666666,
              "#ed7953"
             ],
             [
              0.7777777777777778,
              "#fb9f3a"
             ],
             [
              0.8888888888888888,
              "#fdca26"
             ],
             [
              1,
              "#f0f921"
             ]
            ],
            "type": "heatmap"
           }
          ],
          "heatmapgl": [
           {
            "colorbar": {
             "outlinewidth": 0,
             "ticks": ""
            },
            "colorscale": [
             [
              0,
              "#0d0887"
             ],
             [
              0.1111111111111111,
              "#46039f"
             ],
             [
              0.2222222222222222,
              "#7201a8"
             ],
             [
              0.3333333333333333,
              "#9c179e"
             ],
             [
              0.4444444444444444,
              "#bd3786"
             ],
             [
              0.5555555555555556,
              "#d8576b"
             ],
             [
              0.6666666666666666,
              "#ed7953"
             ],
             [
              0.7777777777777778,
              "#fb9f3a"
             ],
             [
              0.8888888888888888,
              "#fdca26"
             ],
             [
              1,
              "#f0f921"
             ]
            ],
            "type": "heatmapgl"
           }
          ],
          "histogram": [
           {
            "marker": {
             "colorbar": {
              "outlinewidth": 0,
              "ticks": ""
             }
            },
            "type": "histogram"
           }
          ],
          "histogram2d": [
           {
            "colorbar": {
             "outlinewidth": 0,
             "ticks": ""
            },
            "colorscale": [
             [
              0,
              "#0d0887"
             ],
             [
              0.1111111111111111,
              "#46039f"
             ],
             [
              0.2222222222222222,
              "#7201a8"
             ],
             [
              0.3333333333333333,
              "#9c179e"
             ],
             [
              0.4444444444444444,
              "#bd3786"
             ],
             [
              0.5555555555555556,
              "#d8576b"
             ],
             [
              0.6666666666666666,
              "#ed7953"
             ],
             [
              0.7777777777777778,
              "#fb9f3a"
             ],
             [
              0.8888888888888888,
              "#fdca26"
             ],
             [
              1,
              "#f0f921"
             ]
            ],
            "type": "histogram2d"
           }
          ],
          "histogram2dcontour": [
           {
            "colorbar": {
             "outlinewidth": 0,
             "ticks": ""
            },
            "colorscale": [
             [
              0,
              "#0d0887"
             ],
             [
              0.1111111111111111,
              "#46039f"
             ],
             [
              0.2222222222222222,
              "#7201a8"
             ],
             [
              0.3333333333333333,
              "#9c179e"
             ],
             [
              0.4444444444444444,
              "#bd3786"
             ],
             [
              0.5555555555555556,
              "#d8576b"
             ],
             [
              0.6666666666666666,
              "#ed7953"
             ],
             [
              0.7777777777777778,
              "#fb9f3a"
             ],
             [
              0.8888888888888888,
              "#fdca26"
             ],
             [
              1,
              "#f0f921"
             ]
            ],
            "type": "histogram2dcontour"
           }
          ],
          "mesh3d": [
           {
            "colorbar": {
             "outlinewidth": 0,
             "ticks": ""
            },
            "type": "mesh3d"
           }
          ],
          "parcoords": [
           {
            "line": {
             "colorbar": {
              "outlinewidth": 0,
              "ticks": ""
             }
            },
            "type": "parcoords"
           }
          ],
          "pie": [
           {
            "automargin": true,
            "type": "pie"
           }
          ],
          "scatter": [
           {
            "marker": {
             "colorbar": {
              "outlinewidth": 0,
              "ticks": ""
             }
            },
            "type": "scatter"
           }
          ],
          "scatter3d": [
           {
            "line": {
             "colorbar": {
              "outlinewidth": 0,
              "ticks": ""
             }
            },
            "marker": {
             "colorbar": {
              "outlinewidth": 0,
              "ticks": ""
             }
            },
            "type": "scatter3d"
           }
          ],
          "scattercarpet": [
           {
            "marker": {
             "colorbar": {
              "outlinewidth": 0,
              "ticks": ""
             }
            },
            "type": "scattercarpet"
           }
          ],
          "scattergeo": [
           {
            "marker": {
             "colorbar": {
              "outlinewidth": 0,
              "ticks": ""
             }
            },
            "type": "scattergeo"
           }
          ],
          "scattergl": [
           {
            "marker": {
             "colorbar": {
              "outlinewidth": 0,
              "ticks": ""
             }
            },
            "type": "scattergl"
           }
          ],
          "scattermapbox": [
           {
            "marker": {
             "colorbar": {
              "outlinewidth": 0,
              "ticks": ""
             }
            },
            "type": "scattermapbox"
           }
          ],
          "scatterpolar": [
           {
            "marker": {
             "colorbar": {
              "outlinewidth": 0,
              "ticks": ""
             }
            },
            "type": "scatterpolar"
           }
          ],
          "scatterpolargl": [
           {
            "marker": {
             "colorbar": {
              "outlinewidth": 0,
              "ticks": ""
             }
            },
            "type": "scatterpolargl"
           }
          ],
          "scatterternary": [
           {
            "marker": {
             "colorbar": {
              "outlinewidth": 0,
              "ticks": ""
             }
            },
            "type": "scatterternary"
           }
          ],
          "surface": [
           {
            "colorbar": {
             "outlinewidth": 0,
             "ticks": ""
            },
            "colorscale": [
             [
              0,
              "#0d0887"
             ],
             [
              0.1111111111111111,
              "#46039f"
             ],
             [
              0.2222222222222222,
              "#7201a8"
             ],
             [
              0.3333333333333333,
              "#9c179e"
             ],
             [
              0.4444444444444444,
              "#bd3786"
             ],
             [
              0.5555555555555556,
              "#d8576b"
             ],
             [
              0.6666666666666666,
              "#ed7953"
             ],
             [
              0.7777777777777778,
              "#fb9f3a"
             ],
             [
              0.8888888888888888,
              "#fdca26"
             ],
             [
              1,
              "#f0f921"
             ]
            ],
            "type": "surface"
           }
          ],
          "table": [
           {
            "cells": {
             "fill": {
              "color": "#EBF0F8"
             },
             "line": {
              "color": "white"
             }
            },
            "header": {
             "fill": {
              "color": "#C8D4E3"
             },
             "line": {
              "color": "white"
             }
            },
            "type": "table"
           }
          ]
         },
         "layout": {
          "annotationdefaults": {
           "arrowcolor": "#2a3f5f",
           "arrowhead": 0,
           "arrowwidth": 1
          },
          "autotypenumbers": "strict",
          "coloraxis": {
           "colorbar": {
            "outlinewidth": 0,
            "ticks": ""
           }
          },
          "colorscale": {
           "diverging": [
            [
             0,
             "#8e0152"
            ],
            [
             0.1,
             "#c51b7d"
            ],
            [
             0.2,
             "#de77ae"
            ],
            [
             0.3,
             "#f1b6da"
            ],
            [
             0.4,
             "#fde0ef"
            ],
            [
             0.5,
             "#f7f7f7"
            ],
            [
             0.6,
             "#e6f5d0"
            ],
            [
             0.7,
             "#b8e186"
            ],
            [
             0.8,
             "#7fbc41"
            ],
            [
             0.9,
             "#4d9221"
            ],
            [
             1,
             "#276419"
            ]
           ],
           "sequential": [
            [
             0,
             "#0d0887"
            ],
            [
             0.1111111111111111,
             "#46039f"
            ],
            [
             0.2222222222222222,
             "#7201a8"
            ],
            [
             0.3333333333333333,
             "#9c179e"
            ],
            [
             0.4444444444444444,
             "#bd3786"
            ],
            [
             0.5555555555555556,
             "#d8576b"
            ],
            [
             0.6666666666666666,
             "#ed7953"
            ],
            [
             0.7777777777777778,
             "#fb9f3a"
            ],
            [
             0.8888888888888888,
             "#fdca26"
            ],
            [
             1,
             "#f0f921"
            ]
           ],
           "sequentialminus": [
            [
             0,
             "#0d0887"
            ],
            [
             0.1111111111111111,
             "#46039f"
            ],
            [
             0.2222222222222222,
             "#7201a8"
            ],
            [
             0.3333333333333333,
             "#9c179e"
            ],
            [
             0.4444444444444444,
             "#bd3786"
            ],
            [
             0.5555555555555556,
             "#d8576b"
            ],
            [
             0.6666666666666666,
             "#ed7953"
            ],
            [
             0.7777777777777778,
             "#fb9f3a"
            ],
            [
             0.8888888888888888,
             "#fdca26"
            ],
            [
             1,
             "#f0f921"
            ]
           ]
          },
          "colorway": [
           "#636efa",
           "#EF553B",
           "#00cc96",
           "#ab63fa",
           "#FFA15A",
           "#19d3f3",
           "#FF6692",
           "#B6E880",
           "#FF97FF",
           "#FECB52"
          ],
          "font": {
           "color": "#2a3f5f"
          },
          "geo": {
           "bgcolor": "white",
           "lakecolor": "white",
           "landcolor": "#E5ECF6",
           "showlakes": true,
           "showland": true,
           "subunitcolor": "white"
          },
          "hoverlabel": {
           "align": "left"
          },
          "hovermode": "closest",
          "mapbox": {
           "style": "light"
          },
          "paper_bgcolor": "white",
          "plot_bgcolor": "#E5ECF6",
          "polar": {
           "angularaxis": {
            "gridcolor": "white",
            "linecolor": "white",
            "ticks": ""
           },
           "bgcolor": "#E5ECF6",
           "radialaxis": {
            "gridcolor": "white",
            "linecolor": "white",
            "ticks": ""
           }
          },
          "scene": {
           "xaxis": {
            "backgroundcolor": "#E5ECF6",
            "gridcolor": "white",
            "gridwidth": 2,
            "linecolor": "white",
            "showbackground": true,
            "ticks": "",
            "zerolinecolor": "white"
           },
           "yaxis": {
            "backgroundcolor": "#E5ECF6",
            "gridcolor": "white",
            "gridwidth": 2,
            "linecolor": "white",
            "showbackground": true,
            "ticks": "",
            "zerolinecolor": "white"
           },
           "zaxis": {
            "backgroundcolor": "#E5ECF6",
            "gridcolor": "white",
            "gridwidth": 2,
            "linecolor": "white",
            "showbackground": true,
            "ticks": "",
            "zerolinecolor": "white"
           }
          },
          "shapedefaults": {
           "line": {
            "color": "#2a3f5f"
           }
          },
          "ternary": {
           "aaxis": {
            "gridcolor": "white",
            "linecolor": "white",
            "ticks": ""
           },
           "baxis": {
            "gridcolor": "white",
            "linecolor": "white",
            "ticks": ""
           },
           "bgcolor": "#E5ECF6",
           "caxis": {
            "gridcolor": "white",
            "linecolor": "white",
            "ticks": ""
           }
          },
          "title": {
           "x": 0.05
          },
          "xaxis": {
           "automargin": true,
           "gridcolor": "white",
           "linecolor": "white",
           "ticks": "",
           "title": {
            "standoff": 15
           },
           "zerolinecolor": "white",
           "zerolinewidth": 2
          },
          "yaxis": {
           "automargin": true,
           "gridcolor": "white",
           "linecolor": "white",
           "ticks": "",
           "title": {
            "standoff": 15
           },
           "zerolinecolor": "white",
           "zerolinewidth": 2
          }
         }
        },
        "width": 1000,
        "xaxis": {
         "anchor": "y",
         "autorange": true,
         "domain": [
          0,
          1
         ],
         "range": [
          -5.727238601577564,
          10.003308801577564
         ],
         "title": {
          "text": "emb1"
         },
         "type": "linear"
        },
        "yaxis": {
         "anchor": "x",
         "autorange": true,
         "domain": [
          0,
          1
         ],
         "range": [
          -0.698274855118926,
          12.516755942118927
         ],
         "title": {
          "text": "emb2"
         },
         "type": "linear"
        }
       }
      },
      "image/png": "[encoded data removed]",
      "text/html": [
       "<div>                            <div id=\"767cb342-4a48-4b3b-a7e0-5d8f0d886434\" class=\"plotly-graph-div\" style=\"height:800px; width:1000px;\"></div>            <script type=\"text/javascript\">                require([\"plotly\"], function(Plotly) {                    window.PLOTLYENV=window.PLOTLYENV || {};                                    if (document.getElementById(\"767cb342-4a48-4b3b-a7e0-5d8f0d886434\")) {                    Plotly.newPlot(                        \"767cb342-4a48-4b3b-a7e0-5d8f0d886434\",                        [{\"customdata\": [[\"\\\"australian childrens music\\\"\"], [\"afghan pop\"], [\"afghan traditional\"], [\"afro dancehall\"], [\"aggro chileno\"], [\"alabama rap\"], [\"alpine yodeling\"], [\"alt z\"], [\"ambient worship\"], [\"argentine alternative rock\"], [\"argentine hardcore\"], [\"argentine indie rock\"], [\"argentine punk\"], [\"argentine reggae\"], [\"argentine rock\"], [\"argentine telepop\"], [\"arkansas indie\"], [\"arpa paraguaya\"], [\"australian dance\"], [\"australian house\"], [\"australian pop\"], [\"australian r&b\"], [\"australian singer-songwriter\"], [\"australian talent show\"], [\"azonto\"], [\"bachata\"], [\"bachata dominicana\"], [\"baja indie\"], [\"banda\"], [\"banda caliente\"], [\"banda carnavalera\"], [\"barbadian pop\"], [\"bass house\"], [\"bass trap\"], [\"bassline\"], [\"bedroom soul\"], [\"belgian dance\"], [\"belgian pop\"], [\"bhajan\"], [\"bhangra\"], [\"big room\"], [\"blues latinoamericano\"], [\"blues mexicano\"], [\"bogor indie\"], [\"bolero\"], [\"bolivian rock\"], [\"bongo flava\"], [\"boy band\"], [\"brisbane indie\"], [\"broadway\"], [\"brostep\"], [\"bubblegum dance\"], [\"canadian latin\"], [\"cancion infantil latinoamericana\"], [\"cancion melodica\"], [\"cantaditas\"], [\"cantautor\"], [\"cantautor catala\"], [\"canto popular uruguayo\"], [\"carnaval\"], [\"carnaval cadiz\"], [\"catalan folk\"], [\"cedm\"], [\"cha-cha-cha\"], [\"chamame\"], [\"champeta\"], [\"channel pop\"], [\"charango\"], [\"chilean hardcore\"], [\"chilean rock\"], [\"chilena\"], [\"chinese electropop\"], [\"chinese hip hop\"], [\"chinese idol pop\"], [\"christian uplift\"], [\"chutney\"], [\"classic bangla pop\"], [\"classic bhangra\"], [\"classic bollywood\"], [\"classic colombian pop\"], [\"classic greek pop\"], [\"classic hardstyle\"], [\"classic indo pop\"], [\"classic kollywood\"], [\"classic pakistani pop\"], [\"classic peruvian pop\"], [\"classic punjabi pop\"], [\"classic sinhala pop\"], [\"classic swedish pop\"], [\"classic tollywood\"], [\"classic venezuelan pop\"], [\"colombian pop\"], [\"colombian rock\"], [\"combos nacionales\"], [\"comedia\"], [\"concepcion indie\"], [\"corrido\"], [\"corridos tumbados\"], [\"cuarteto\"], [\"cuatro puertorriqueno\"], [\"cuatro venezolano\"], [\"cueca chilena\"], [\"cumbia\"], [\"cumbia colombiana regia\"], [\"cumbia ecuatoriana\"], [\"cumbia funk\"], [\"cumbia lagunera\"], [\"cumbia paraguaya\"], [\"cumbia pop\"], [\"cumbia salvadorena\"], [\"cumbia santafesina\"], [\"cumbia sonidera\"], [\"cumbia villera\"], [\"dakke dak\"], [\"dance pop\"], [\"dancehall\"], [\"dangdut\"], [\"dangdut koplo\"], [\"danish pop\"], [\"dansband\"], [\"dansktop\"], [\"danspunk\"], [\"dark progressive house\"], [\"deep dance pop\"], [\"deep deep house\"], [\"deep funk ostentacao\"], [\"deep hardcore\"], [\"deep latin alternative\"], [\"deep latin christian\"], [\"deep pop edm\"], [\"deep progressive house\"], [\"deep progressive trance\"], [\"deep regional mexican\"], [\"deep talent show\"], [\"deep tech house\"], [\"deep tropical house\"], [\"deep uplifting trance\"], [\"dembow\"], [\"desi hip hop\"], [\"desi pop\"], [\"desi trap\"], [\"disco polo\"], [\"disney\"], [\"disney norsk\"], [\"diva house\"], [\"dominican pop\"], [\"dream trance\"], [\"dreamo\"], [\"dubstep\"], [\"dubstep product\"], [\"duranguense\"], [\"dutch edm\"], [\"dutch house\"], [\"dutch trance\"], [\"ecuadorian pop\"], [\"edm\"], [\"electro latino\"], [\"electronic trap\"], [\"enka\"], [\"euphoric hardstyle\"], [\"eurodance\"], [\"europop\"], [\"fan chant\"], [\"filmi\"], [\"filthstep\"], [\"finnish edm\"], [\"folclor colombiano\"], [\"folclore jujeno\"], [\"folclore santiagueno\"], [\"folclore tucumano\"], [\"folk-pop\"], [\"folklore argentino\"], [\"folklore boliviano\"], [\"folklore cuyano\"], [\"folklore ecuatoriano\"], [\"folklore surero\"], [\"folklore venezolano\"], [\"folklore veracruzano\"], [\"football\"], [\"french reggae\"], [\"future funk\"], [\"future house\"], [\"g-house\"], [\"gaita zuliana\"], [\"galician rock\"], [\"gamelan\"], [\"gaming dubstep\"], [\"garage house\"], [\"gauze pop\"], [\"georgian alternative\"], [\"georgian electronic\"], [\"german soundtrack\"], [\"ghanaian hip hop\"], [\"ghanaian pop\"], [\"ghazal\"], [\"girl group\"], [\"glee club\"], [\"glitter trance\"], [\"greek drill\"], [\"greek hip hop\"], [\"greek pop\"], [\"greek underground rap\"], [\"greenlandic pop\"], [\"grime\"], [\"grupera\"], [\"gruperas inmortales\"], [\"guadalajara indie\"], [\"guaracha\"], [\"guitarra argentina\"], [\"gujarati garba\"], [\"gujarati pop\"], [\"hands up\"], [\"happy hardcore\"], [\"hard dance\"], [\"hard house\"], [\"hard rock mexicano\"], [\"hard techno\"], [\"hardcore punk espanol\"], [\"haryanvi pop\"], [\"hawaiian\"], [\"hindi hip hop\"], [\"hindi worship\"], [\"hiplife\"], [\"hollywood\"], [\"hopebeat\"], [\"house\"], [\"huayno popular\"], [\"hyperpop\"], [\"hypnosis mic\"], [\"idol\"], [\"indie cafe pop\"], [\"indie extremena\"], [\"indie platense\"], [\"indie poptimism\"], [\"indie psych-pop\"], [\"indie rock mexicano\"], [\"indie rock peruano\"], [\"indie salvadoreno\"], [\"indie valenciana\"], [\"indiecoustica\"], [\"indonesian city pop\"], [\"indonesian pop punk\"], [\"instrumental grime\"], [\"italian disco\"], [\"italian jazz fusion\"], [\"italian tech house\"], [\"italian trance\"], [\"italo dance\"], [\"j-division\"], [\"j-indie\"], [\"japanese folk\"], [\"japanese indie folk\"], [\"japanese singer-songwriter\"], [\"javanese gamelan\"], [\"jawaiian\"], [\"jazz chileno\"], [\"jazz tico\"], [\"jumpstyle\"], [\"jumptek\"], [\"k-pop\"], [\"k-pop boy group\"], [\"k-pop girl group\"], [\"kannada pop\"], [\"kentucky hip hop\"], [\"kollywood\"], [\"korean ost\"], [\"korean pop\"], [\"kosovan folk\"], [\"kosovan pop\"], [\"la pop\"], [\"laiko\"], [\"latin\"], [\"latin afrobeat\"], [\"latin arena pop\"], [\"latin funk\"], [\"latin pop\"], [\"latin rock\"], [\"latin talent show\"], [\"latin viral pop\"], [\"latincore\"], [\"latino comedy\"], [\"lds youth\"], [\"little rock indie\"], [\"lo-fi cover\"], [\"london rap\"], [\"macedonian electronic\"], [\"malayalam pop\"], [\"manele\"], [\"mantra\"], [\"mariachi\"], [\"melbourne bounce international\"], [\"melodic dubstep\"], [\"merengue\"], [\"merengue tipico\"], [\"merida indie\"], [\"mestissatge\"], [\"mexican hip hop\"], [\"mexican indie\"], [\"mexican pop\"], [\"mexican pop punk\"], [\"mexican post-rock\"], [\"mexican rock\"], [\"mexican son\"], [\"mexican traditional\"], [\"mgpjr\"], [\"military band\"], [\"minecraft\"], [\"mississippi indie\"], [\"modern bollywood\"], [\"modern enka\"], [\"modern salsa\"], [\"moldovan pop\"], [\"mollywood\"], [\"moombahton\"], [\"morelos indie\"], [\"movie tunes\"], [\"murcia indie\"], [\"murga\"], [\"musica andina\"], [\"musica andina colombiana\"], [\"musica ayacuchana\"], [\"musica blumenauense\"], [\"musica canaria\"], [\"musica catalana\"], [\"musica colombiana instrumental\"], [\"musica costarricense\"], [\"musica goiana\"], [\"musica indigena latinoamericana\"], [\"musica indigena mexicana\"], [\"musica istmena\"], [\"musica llanera\"], [\"musica mallorquina\"], [\"musica maringaense\"], [\"musica menorquina\"], [\"musica nicaraguense\"], [\"musica para ninos\"], [\"musica popular colombiana\"], [\"musica popular uruguaya\"], [\"musica purepecha\"], [\"musica tropical guatemalteca\"], [\"musica valenciana\"], [\"musica yucateca\"], [\"musical advocacy\"], [\"musique comorienne\"], [\"musique traditionnelle comorienne\"], [\"muzica copii\"], [\"muzica etno\"], [\"m\\u00fasica pitiusa\"], [\"naat\"], [\"nagpuri pop\"], [\"nasheed\"], [\"neo-singer-songwriter\"], [\"nigerian hip hop\"], [\"nightcore\"], [\"nisiotika\"], [\"norteno\"], [\"nova canco\"], [\"nueva cancion\"], [\"nueva ola chilena\"], [\"nueva trova chilena\"], [\"nuevo flamenco\"], [\"nuevo folklore mexicano\"], [\"nuevo regional mexicano\"], [\"nursery\"], [\"nyc pop\"], [\"nz hip hop\"], [\"oaxaca indie\"], [\"oberkrainer\"], [\"oktoberfest\"], [\"pakistani pop\"], [\"panamanian indie\"], [\"panamanian pop\"], [\"panamanian rock\"], [\"paraguayan rock\"], [\"partyschlager\"], [\"perreo\"], [\"polca paraguaya\"], [\"pop\"], [\"pop argentino\"], [\"pop chileno\"], [\"pop costarricense\"], [\"pop dance\"], [\"pop edm\"], [\"pop electronico\"], [\"pop flamenco\"], [\"pop house\"], [\"pop peruano\"], [\"pop reggaeton\"], [\"pop romantico\"], [\"pop soul\"], [\"pop venezolano\"], [\"post-punk argentina\"], [\"post-teen pop\"], [\"progressive electro house\"], [\"progressive house\"], [\"progressive trance\"], [\"progressive trance house\"], [\"progressive uplifting trance\"], [\"puerto rican indie\"], [\"puerto rican rock\"], [\"punjabi folk\"], [\"punjabi hip hop\"], [\"punjabi pop\"], [\"punk catala\"], [\"punk chileno\"], [\"punk colombiano\"], [\"punk galego\"], [\"punk urbano\"], [\"rabindra sangeet\"], [\"ranchera\"], [\"rap conciencia\"], [\"rap dominicano\"], [\"rap galego\"], [\"rebetiko\"], [\"reggae en espanol\"], [\"reggaeton colombiano\"], [\"reggaeton flow\"], [\"regional mexican\"], [\"reunion pop\"], [\"riddim\"], [\"riddim dubstep\"], [\"rkt\"], [\"rock alternativo espanol\"], [\"rock catala\"], [\"rock en espanol\"], [\"rock nacional\"], [\"rock nica\"], [\"rock urbano mexicano\"], [\"rock uruguayo\"], [\"romanian house\"], [\"romanian indie\"], [\"romanian pop\"], [\"rosario indie\"], [\"russian dance\"], [\"russian edm\"], [\"russian emo\"], [\"russian screamo\"], [\"russian trance\"], [\"salay\"], [\"salsa\"], [\"salsa choke\"], [\"salsa colombiana\"], [\"salsa peruana\"], [\"salsa puertorriquena\"], [\"scandinavian r&b\"], [\"scandipop\"], [\"sega\"], [\"sega mauricien\"], [\"serbian electronic\"], [\"shaabi\"], [\"shoegaze chileno\"], [\"shojo\"], [\"show tunes\"], [\"sierreno\"], [\"sinhala pop\"], [\"ska argentino\"], [\"ska catala\"], [\"ska chileno\"], [\"skansk musik\"], [\"sky room\"], [\"slap house\"], [\"soca\"], [\"social media pop\"], [\"son jarocho\"], [\"south carolina hip hop\"], [\"sovietwave\"], [\"spanish folk metal\"], [\"spanish folk rock\"], [\"spanish new wave\"], [\"spanish pop\"], [\"spanish pop rock\"], [\"spanish punk\"], [\"spanish reggae\"], [\"spanish rock\"], [\"spanish synthpop\"], [\"stockholm indie\"], [\"strut\"], [\"sufi\"], [\"swedish alternative rock\"], [\"swedish blues\"], [\"swedish country\"], [\"swedish dancehall\"], [\"swedish eurodance\"], [\"swedish gangsta rap\"], [\"swedish idol pop\"], [\"swedish indie pop\"], [\"swedish pop\"], [\"swedish pop rap\"], [\"swedish soul\"], [\"swedish trap pop\"], [\"tagalog worship\"], [\"talent show\"], [\"tamaulipas indie\"], [\"tamaulipas rap\"], [\"tamborazo\"], [\"tamil devotional\"], [\"tamil pop\"], [\"taraneem\"], [\"tatar folk\"], [\"tatar pop\"], [\"tech trance\"], [\"tecnobanda\"], [\"teen pop\"], [\"tejano\"], [\"telugu devotional\"], [\"tex-mex\"], [\"tollywood\"], [\"trance\"], [\"trap baiano\"], [\"trap boricua\"], [\"tribal house\"], [\"trio huasteco\"], [\"tropical\"], [\"tropical house\"], [\"trova\"], [\"trova mexicana\"], [\"uk alternative pop\"], [\"uk contemporary r&b\"], [\"uk dance\"], [\"uk pop\"], [\"ukulele\"], [\"uplifting trance\"], [\"v-pop\"], [\"vallenato\"], [\"vallenato moderno\"], [\"vapor pop\"], [\"venezuelan indie\"], [\"venezuelan metal\"], [\"venezuelan rock\"], [\"veracruz indie\"], [\"vietnamese bolero\"], [\"vietnamese pop\"], [\"viral pop\"], [\"vocal trance\"], [\"volksmusik\"], [\"volkstumliche musik\"], [\"zamba\"], [\"zillertal\"], [\"zimdancehall\"]], \"hovertemplate\": \"supergenre=pop<br>emb1=%{x}<br>emb2=%{y}<br>genre=%{customdata[0]}<extra></extra>\", \"legendgroup\": \"pop\", \"marker\": {\"color\": \"#636efa\", \"size\": 6, \"symbol\": \"circle\"}, \"mode\": \"markers\", \"name\": \"pop\", \"showlegend\": true, \"type\": \"scattergl\", \"x\": [2.1684184, 7.235958, 7.230788700000001, -0.26221764, -4.7227535000000005, 0.71372443, 7.929775699999999, 1.5312028999999998, 2.4167693, -4.6234307, -4.585527, -4.7476587, -4.626278, -4.494646, -4.558664299999999, -4.549313, 1.0939401000000002, -4.845287, 1.7678541, 1.8710146, 1.8308697, 1.8256414, 2.1736834, 1.4441304, -0.3866815999999999, -3.9677165, -3.937053, -4.3744917, -4.251888, -4.2242475, -4.2940674, 1.196827, -0.16955526, 0.27501395, -0.22284581, 1.1816466, 0.39511603, 1.1950438, 7.272489999999999, 7.3811364, -0.047264818, -4.5235996, -4.3062706, 5.3451014, -4.064468, -4.348625, -0.41061485, 1.305488, 1.9410104, 3.929762600000001, -0.122926414, 1.1134761999999998, 1.258239, -4.6672244, -4.238367, -4.193933, -4.452123599999999, -4.4344983, -4.5950875, -0.5789270000000001, -4.575783299999999, -4.440050599999999, 2.461652, -3.6547105, -4.7984805, -3.9970205, 1.5781677, -4.710355, -4.703428700000001, -4.698523000000001, -4.2083025, 1.2867942, 0.8233745000000001, 1.295479, 6.5490623, 7.323967, 7.311542500000001, 7.4526143, 7.274416, -3.763443, 1.2927394, -0.7070925, 8.626778, 7.3074207, 7.318302, -3.784039, 7.376892999999999, 5.3945856, 4.4555354000000005, 7.3269944, -4.189882, -3.9486911, -4.2507043, -3.7118013, -4.390130999999999, -4.7191253, -4.249396, -4.275254, -4.614976, -3.6561377, -3.8203552, 5.318346, -3.7389143, -4.1306458, -3.9551048, -4.007274, -3.9195316, -4.6065516, -4.59497, -4.437823000000001, -4.6308656, -3.899794, -4.611804, 1.0125877, 1.2690537, -0.36666298, 8.6187315, 8.618041, 2.427696, 4.504351, 2.4448060000000003, 4.5367265, 0.014660255, 1.3446568, -0.08892763, -0.09744502, -0.64682466, -4.436678400000001, -3.9592628, 6.642442699999999, -0.024394974, 0.15266314, -4.224404, 1.0629352, 0.005847848, -0.06829177, 0.052383386, -3.985864, 7.363784, 7.327758999999999, 7.376255, 2.5245132000000003, 3.908622, 4.115057, 0.31221506, -3.9631689, 0.52051634, 5.051493, -0.2102796, -0.11979026, -4.1626544, -0.06288265, -0.0162690539999999, 0.14677969, -4.147437, 0.0051216274, -4.3674026, -0.0936572, 5.3035793, -0.6654441, 0.817543, 1.2186213, 5.3030715, 7.297719, -0.02199388, 0.6535677, -3.7997847, -4.804613, -4.700717, -4.7172160000000005, 2.9528904, -4.8008595000000005, -4.688261499999999, -4.4771113, -3.979414, -4.797208, -3.9990566, -4.325229, 5.307859, 6.3937683, 0.88728446, -0.013779405, -0.0939843059999999, -4.1200557, -4.210563, 5.2794456, -0.24108145, 0.17841938, 1.3813243, -0.10633719, -0.033028945, 3.9356241, -0.37623647, -0.24187459, 7.2796183, 1.2375826, 1.3190379, 0.13848086, 0.06505367, 1.2184649, 1.2883652, 4.5123014, 2.4477065, -0.2274899, -4.191924, -4.1951785, -4.329551, 1.1981913999999998, -4.6908917, 7.294672999999999, 7.2868104, 0.70534575, -0.6236513000000001, 0.3060704, 0.27291924, -4.419766, 0.17030518, -4.29041, 7.346031699999999, -0.45474583, 7.2722216, 7.3029323, -0.23418346, 3.9398878, 2.1385813, 0.0508016529999999, -4.6997633, 0.55454105, 5.3561206, 1.4476228, 1.9315455, -4.2748666, -4.6246, 2.190419, -4.236305000000001, -4.3648267, -3.9410436, -4.2622733, -4.525847, 3.1081707, 8.662339, 5.3070626, -0.21192698, 2.3786392000000003, 2.3398297, 0.17731479, 0.32131973, 0.9418859, 5.353128, 6.488275499999999, 6.0416117, 6.4639883000000005, 6.412912400000001, 5.3056717, -0.4123734999999999, -4.599784400000001, 0.9546377, 0.33544752, 0.30726606, 1.3130832, 1.3518324, 1.39973, 7.1495757, 1.2473531, 7.304782400000001, 1.3791758, 1.3374121, 5.3333917, 5.404571499999999, 1.1181711, 1.276419, -4.0227213, -4.2532015, -4.168976, -4.3457300000000005, -4.101471, -4.46191, -4.076196, -4.0748444, -4.4931507, 4.1467160000000005, 1.5469863, 1.1285324, -0.044042047, -0.23676948, 0.02107848, 7.269512700000001, 2.5240085, 7.319595, -4.1317773, 1.011126, -0.03342611, -3.9889977, -4.044088, -4.4397106, -4.50122, -4.1533623, -4.3476954, -4.161356, -4.400963, -4.341785400000001, -4.3301463, -4.383443, 5.399830000000001, 0.1614602999999999, 3.88651, 1.8514477, 4.907369999999999, 7.3177614, 5.308392, -3.8291774, 2.3208218, 7.296458, 0.23533264, -4.3603973, 3.9219255, -4.54832, -4.3256874000000005, -4.728676, -3.8005958, -4.5502400000000005, -4.487015, -4.4820843, -4.370664, -3.74741, 0.933389, 0.15153651, -4.590269999999999, -4.367589, -4.37839, -4.2075505, -4.469243, 1.4266306, -4.4850707000000005, 0.86405313, -4.506401, -3.9766166, -4.3542676, -4.3893585, -3.9125102, -4.3068695, -4.0878487, 1.1631917, 5.4197903, 5.397628299999999, 2.434623, 2.5532506, -4.3936324, 7.3397336, 0.16706519, 7.2643204, 2.8092132000000003, 1.2061019, 0.7172076999999999, 1.2413588, -4.2455997000000005, -4.5998116, -4.6137233, -4.567787, -4.616574, -4.687172400000001, -4.545116, -4.2893157, 2.1720648, 1.0769907, -0.37451655, -4.5236144, 8.037499, 1.1731995000000002, 7.299995399999999, -0.45767403, -0.4574755, -0.44964623, -4.632552, 1.0950273, -3.9343343, -4.8640018, 1.2712287, -4.4494967, -4.4564605, 1.0496978, -0.03508195, -0.034156762, -4.179521, -4.6599345, 0.6322564, -3.8210118, -4.163988, -4.495785, 1.104849, -4.11383, -4.567890599999999, 1.3465229, -0.03658421, 0.08441119, 0.107321784, 0.060748737, 0.11301762, -4.1461444, -4.095078, 7.4143043, 7.3348284, 7.3420005, -4.2858553, -4.7312827, -4.245478599999999, -4.2693973, -4.227821, 7.290793400000001, -4.1905284, -4.0541883, -3.9897144, -4.1981660000000005, 1.2609883999999998, -4.46441, -4.053693, -3.9026656, -4.208160400000001, 0.28055564, -0.3699859, -0.19889204, -4.6542096, -4.4685655, -4.422845400000001, -4.379245, -4.595665, 0.9222328000000002, -4.358016, -4.3988414, 2.5208213, 2.4754338, 2.5319548, -4.5352407, 0.10685078, -0.048974954, 5.2901816, 5.3029660000000005, 0.0989155, -4.6595907, -3.7053974, -4.033548000000001, -3.763502, -3.7948325, -3.7609289, 4.3961043, 1.805746, 0.2965156, 0.2857072, 0.09398742, 6.1701684000000006, -4.6249123, 5.3464932, 3.9409256, -4.211647, 5.387461, -4.501052, -4.38279, -4.602786, 4.5740620000000005, -0.10226825, 0.0062059714, -0.3959517, 1.28361, -4.4352217000000005, 1.1125556, 0.38055158, 5.031983, -4.5091767, -4.3622665000000005, -4.3328137, -4.309716000000001, -4.2546797, -4.132951, -4.4588237, -4.304342299999999, 4.4176583, 1.3952153, 7.256025999999999, 4.5276494000000005, 4.5250874, 4.4506207, 4.5061054, 1.1418109, 4.571767299999999, 1.3802739, 4.4295673, 4.469344, 4.5072956, 4.4206305, 4.5203037, 3.9341185, 1.294924, -4.389572, -0.40016338, -4.3338757, 7.2516446, 7.3173165, 7.293421700000001, 5.2974825, 5.3108144, 0.10653107, -4.218246499999999, 1.3208951, -4.2019815000000005, 6.859704, -4.199187, 7.306740799999999, 0.17984487, 1.2515577, -3.8940074, 0.18373859, -4.103916000000001, -3.887698, 0.07945259, -4.6421742, -4.558651, 1.6262757, 1.008775, -0.044684134, 1.1026791, -0.41173112, 0.1562266, 5.4733067, -3.8543484, -3.8985844, 2.0437028, -4.2798266, 1.304253, -4.2258510000000005, -4.2343802, 5.503680999999999, 5.487971, 1.8160057, 0.09563561, 8.019689, 8.011280000000001, -4.792779, 8.015928, 0.24844208], \"xaxis\": \"x\", \"y\": [7.158625, 0.68788934, 0.69579613, 2.8535252, 5.460435, 8.470381, 5.7472396, 7.277055000000001, 5.908669000000001, 5.2474723, 5.1063547, 5.2540727, 5.107999, 5.211822, 5.158592, 5.180559, 7.7087593, 5.333001599999999, 7.136375999999999, 7.0361270000000005, 7.212299000000001, 7.099023299999999, 7.18682, 7.364528999999999, 2.9110222, 4.672907, 4.654344999999999, 5.0575275, 4.278327, 4.296027, 4.271775, 7.620711999999999, 5.856164, 5.9709053, 6.0891695, 7.6495023, 6.766709, 6.688457499999999, 0.798136, 0.68905926, 6.4486237, 5.234072, 5.163245, 3.599326, 4.3668847, 5.180542, 2.9573185, 7.5544906, 7.152137799999999, 3.17751, 6.277476999999999, 7.068022999999999, 7.546602, 5.368778, 4.5844684, 5.073903, 5.6910844, 6.0597425000000005, 5.5106660000000005, 5.1074553, 6.0196567000000005, 6.0229387, 5.978592, 4.235396, 5.429732, 4.6886907, 7.3482156, 5.446225599999999, 5.370891, 5.349227, 4.342975599999999, 7.978849, 8.029563000000001, 7.992788000000001, 7.78693, 0.7197795, 0.7571244, 0.6162404, 0.7798888, 4.461046700000001, 6.950055, 5.222674400000001, 11.74714, 0.74216825, 0.7182071, 5.472862999999999, 0.6961871999999999, 3.614224, 3.8681555, 0.7313288, 4.8002143, 4.681274, 4.9018345000000005, 4.3417325, 5.1750984, 5.3990297, 4.276718, 4.29946, 5.075387, 4.289687000000001, 4.490321, 3.6280453, 4.4640565, 5.0349755, 4.3272195, 4.886585, 4.4874363, 5.1919804, 5.1143913, 5.3190136, 5.177377, 4.494335, 5.131621400000001, 6.9902415, 7.4791293, 3.047679, 11.739349, 11.738807, 7.597127400000001, 3.8441448, 7.5933695, 3.8883853, 6.5483603, 7.2747235, 6.4458165, 6.000453, 5.1099706, 5.120088, 4.6308455, 5.8414545, 6.5574164, 6.6031770000000005, 4.3075223, 7.692882000000001, 6.318314, 6.453665, 6.621909, 4.649155599999999, 0.6973758000000001, 0.7261432, 0.6839764, 8.952538, 3.134912, 3.3745480000000003, 6.2970138, 4.643716, 6.770183, 7.302480999999999, 6.110869, 6.1612678, 4.351529, 6.37199, 6.331731, 6.6863685, 4.7593474, 6.3882923, 5.192762999999999, 6.133915, 3.575597, 5.2227488, 6.812312, 7.0673423, 3.560067, 0.7833629, 6.373244000000001, 6.862940299999999, 4.4612680000000005, 5.408684, 5.351996400000001, 5.3949733, 6.1913047, 5.416561, 5.447894, 5.190849, 4.325247, 5.429675, 4.6695566, 4.670675800000001, 3.5755427, 3.9788747, 6.7797065000000005, 6.362527, 6.670068, 4.691077, 5.791625499999999, 3.598142, 6.134561, 6.1942806, 5.658038, 6.5403910000000005, 6.4864154, 2.542228, 2.9738822, 2.8310997, 0.7745956, 7.4631057, 7.474985, 6.688544, 6.3604417, 6.8763046, 6.930958, 3.709099, 7.608409, 6.0013657, 4.341283, 4.320757, 5.146192, 7.545513000000001, 5.389459, 0.77309346, 0.78135794, 6.803918, 5.076745, 6.6914372, 6.673408, 5.1218143, 6.5687940000000005, 5.9201417, 0.7140435, 3.3785825, 0.78597367, 0.75348884, 2.846727, 3.14798, 6.861144, 6.1801276, 5.483352, 7.88951, 3.6579704, 7.4354224, 7.1127405, 5.5369887, 5.2285657, 6.7747016, 5.176305, 5.2558537, 5.4021454, 5.137955000000001, 5.7668386, 6.249875, 11.780919, 3.538326, 6.096356, 5.715132, 5.6416817, 6.1768775, 6.661548, 6.900589, 3.6419165, 5.918629, 5.80284, 5.874329599999999, 5.758296499999999, 3.6201515, 3.4651825, 5.4536123, 7.697952000000001, 6.7781963, 6.7862053, 8.427126, 8.409042999999999, 8.488942999999999, 0.89527375, 7.574112400000001, 0.74329776, 8.47945, 8.473875999999999, 3.661655, 3.61261, 7.679854, 6.940238000000001, 4.735231400000001, 5.0729227, 4.7903824, 5.051302400000001, 4.720951599999999, 5.3825192, 4.4075356, 4.7847543, 5.0538870000000005, 8.030942, 7.392997999999999, 7.671145, 6.4148245, 6.0392013, 6.553381, 0.77851367, 8.858489, 0.73919797, 4.331657, 7.087435, 6.313178, 4.635212999999999, 4.7210956, 5.144635, 6.065442, 5.084502, 5.094143, 4.7795177, 5.03737, 5.1494527, 5.175701, 4.429979, 3.5818908, 6.6908317, 3.2049139, 7.1991878, 7.379451299999999, 0.7483531, 3.5861945, 4.493166400000001, 8.577097, 0.74870414, 6.200495200000001, 5.1314917, 3.1598723, 5.772729, 5.170234, 5.5007644, 4.4898076, 5.5112305, 5.1112720000000005, 5.4268413, 6.078027, 4.4392333, 7.6704855, 6.620590700000001, 5.341022, 4.4585376, 4.4588223, 4.85885, 5.8349066, 7.231547, 5.7126565000000005, 7.578691, 5.752447, 4.375564, 5.204609400000001, 4.483121, 4.617268599999999, 6.1399407, 4.5574484, 7.6547446, 3.5909128, 3.598125, 8.756655, 8.8907, 5.500408999999999, 0.70041305, 6.183446400000001, 0.69787145, 6.235203299999999, 7.492518400000001, 6.790166, 6.974893600000001, 4.389387, 5.4601073, 5.4402633, 5.2689962, 5.43058, 6.222850299999999, 5.2433295, 4.276027, 7.131506, 7.6358023, 3.4879413, 5.245290799999999, 5.8407507, 7.109503, 0.74543834, 2.9683971, 2.9517496, 2.9650388, 5.096432, 7.425183, 4.9211574, 5.3805256, 7.4598913, 5.152476999999999, 5.396336, 7.593763, 6.4479413, 6.468974, 5.3884478, 6.181118, 6.743099000000001, 5.4134727, 4.732182, 5.168226, 7.7005386, 4.7417955, 5.242205, 7.547724, 6.419015, 6.631382, 6.702461200000001, 6.6231356, 6.7033725, 4.989839, 5.035043, 0.67866874, 0.723532, 0.71991944, 5.9927254, 5.4815803, 4.883327, 5.7824802, 5.7537146, 0.7688687, 4.3774548, 5.017021, 4.618878400000001, 6.032751599999999, 6.956015600000001, 5.2473392, 4.633374, 4.9198356, 4.355751000000001, 6.8193850000000005, 3.082158, 6.1218586, 5.0895348, 5.7052283, 6.0705934, 5.2279654, 5.2760763, 7.6443925, 5.1496067000000005, 5.2370005, 8.864207, 8.741189, 8.852056, 5.2546926, 6.818119500000001, 6.593101, 3.5765133, 3.570698, 6.689969500000001, 5.456208, 4.3160715, 4.647004, 4.356930999999999, 4.4765882, 4.4106107, 3.8511846, 7.071166000000001, 6.801839999999999, 6.830631, 6.6624255, 1.3663388, 5.387449, 3.6504166, 3.1651373, 4.352750299999999, 3.614885, 5.1856995, 6.006608, 5.319916, 3.6794853, 6.4364758, 6.456171, 2.9856408, 7.501448, 4.514508, 7.769949400000001, 6.6509132, 9.147788, 5.7517495, 5.578129, 5.562359, 5.376057, 5.7404003, 5.2017717, 5.712079, 5.417518599999999, 4.142812999999999, 7.1826057, 0.78500926, 4.0149236, 3.825267, 3.8134456, 3.758591000000001, 6.9761896, 3.711535, 7.023292999999999, 4.129883, 3.7953472, 3.688858, 3.7476249, 3.7054548, 3.1665878, 7.5099382, 5.1659207, 3.0224013, 4.2172985, 0.8008536, 0.7333086999999999, 0.7566369000000001, 3.5673132000000005, 3.556303, 6.675421000000001, 4.327073599999999, 7.501396700000001, 4.658643, 1.2245573, 4.4874144, 0.7505669, 6.6469564, 7.567062400000001, 4.9269110000000005, 6.240071, 4.3032007000000005, 4.512528, 6.3874846, 5.427302, 5.5160913, 6.9949265, 7.269419999999999, 6.16068, 7.285602000000001, 3.3958476, 6.6895947, 3.5179877, 4.717191000000001, 4.7125673, 6.856928, 5.050457, 7.517177999999999, 4.9643826, 4.7864738, 3.5051513, 3.5126529000000004, 7.224359, 6.719585400000001, 5.819581, 5.813038, 5.3983555, 5.794102, 5.786303], \"yaxis\": \"y\"}, {\"customdata\": [[\"\\\"black n roll\\\"\"], [\"\\\"death n roll\\\"\"], [\"adoracao\"], [\"alt-idol\"], [\"ambient black metal\"], [\"american grindcore\"], [\"american melodeath\"], [\"anime latino\"], [\"antideutsche\"], [\"argentine heavy metal\"], [\"argentine metal\"], [\"atmospheric black metal\"], [\"atmospheric doom\"], [\"australian black metal\"], [\"australian death metal\"], [\"australian metal\"], [\"australian thrash metal\"], [\"austrian black metal\"], [\"austrian metal\"], [\"autonomous black metal\"], [\"avant-garde black metal\"], [\"avant-garde metal\"], [\"balkan folk metal\"], [\"balkan trap\"], [\"baltic black metal\"], [\"baltic folk\"], [\"baltic post-punk\"], [\"bayerischer rap\"], [\"belarusian hip hop\"], [\"belarusian metal\"], [\"belfast metal\"], [\"belgian black metal\"], [\"belgian death metal\"], [\"belgian hardcore\"], [\"belgian metal\"], [\"birmingham metal\"], [\"black death\"], [\"black metal\"], [\"black noise\"], [\"black speed metal\"], [\"black thrash\"], [\"blackened crust\"], [\"blackened deathcore\"], [\"blackgaze\"], [\"bolivian metal\"], [\"brazilian black metal\"], [\"brazilian blues\"], [\"brazilian death metal\"], [\"brazilian doom metal\"], [\"brazilian gospel\"], [\"brazilian grindcore\"], [\"brazilian hardcore\"], [\"brazilian heavy metal\"], [\"brazilian metal\"], [\"brazilian metalcore\"], [\"brazilian power metal\"], [\"brazilian progressive metal\"], [\"brazilian punk\"], [\"british black metal\"], [\"british death metal\"], [\"british grindcore\"], [\"british power metal\"], [\"brutal death metal\"], [\"brutal deathcore\"], [\"buffalo ny metal\"], [\"bulgarian hip hop\"], [\"bulgarian indie\"], [\"bulgarian metal\"], [\"bulgarian pop\"], [\"bulgarian rock\"], [\"california hardcore\"], [\"canadian black metal\"], [\"canadian metal\"], [\"canadian metalcore\"], [\"cante alentejano\"], [\"caribbean metal\"], [\"cascadian black metal\"], [\"cavernous death metal\"], [\"celtic metal\"], [\"chalga\"], [\"chaotic black metal\"], [\"charred death\"], [\"chicago pop punk\"], [\"chilean black metal\"], [\"chilean metal\"], [\"christian deathcore\"], [\"christian hardcore\"], [\"christian metal\"], [\"christian metalcore\"], [\"christian power metal\"], [\"christian symphonic metal\"], [\"christian thrash metal\"], [\"classic bulgarian pop\"], [\"classic finnish pop\"], [\"classic finnish rock\"], [\"classic iskelma\"], [\"classic portuguese pop\"], [\"classic romanian pop\"], [\"classic schlager\"], [\"cologne indie\"], [\"colombian black metal\"], [\"colombian death metal\"], [\"comic metal\"], [\"cosmic black metal\"], [\"crossover thrash\"], [\"cryptic black metal\"], [\"cyber metal\"], [\"cybergrind\"], [\"czech metal\"], [\"czsk black metal\"], [\"dainuojamoji poezija\"], [\"danish black metal\"], [\"danish death metal\"], [\"danish metal\"], [\"danish post-punk\"], [\"danish rock\"], [\"dark black metal\"], [\"dark rock\"], [\"death doom\"], [\"death metal\"], [\"deathcore\"], [\"deathgrind\"], [\"deathrash\"], [\"deathstep\"], [\"deep folk metal\"], [\"deep german indie\"], [\"deep german punk\"], [\"deep melodic death metal\"], [\"deep melodic hard rock\"], [\"deep melodic metalcore\"], [\"deep metalcore\"], [\"deep symphonic black metal\"], [\"denver metal\"], [\"depressive black metal\"], [\"discofox\"], [\"djent\"], [\"doom metal\"], [\"dungeon synth\"], [\"dutch black metal\"], [\"dutch death metal\"], [\"dutch metal\"], [\"dutch punk\"], [\"edinburgh metal\"], [\"elektropunk\"], [\"epic black metal\"], [\"epic doom\"], [\"estonian metal\"], [\"estonian rock\"], [\"eurovision\"], [\"euskal metal\"], [\"experimental black metal\"], [\"fallen angel\"], [\"faroese folk\"], [\"faroese pop\"], [\"faroese rock\"], [\"finnish alternative rock\"], [\"finnish black metal\"], [\"finnish blues\"], [\"finnish dance pop\"], [\"finnish death metal\"], [\"finnish doom metal\"], [\"finnish hard rock\"], [\"finnish hardcore\"], [\"finnish heavy metal\"], [\"finnish hip hop\"], [\"finnish indie\"], [\"finnish melodeath\"], [\"finnish metal\"], [\"finnish metalcore\"], [\"finnish new wave\"], [\"finnish pop\"], [\"finnish pop punk\"], [\"finnish power metal\"], [\"finnish progressive metal\"], [\"finnish progressive rock\"], [\"finnish psychedelic rock\"], [\"finnish punk\"], [\"finnish reggae\"], [\"finnish tango\"], [\"finnish trap\"], [\"finnish worship\"], [\"florida death metal\"], [\"folk black metal\"], [\"folk metal\"], [\"folk metal latinoamericano\"], [\"french black metal\"], [\"french death metal\"], [\"french metal\"], [\"funeral doom\"], [\"future rock\"], [\"german alternative rap\"], [\"german black metal\"], [\"german boom bap\"], [\"german country\"], [\"german death metal\"], [\"german hard rock\"], [\"german heavy metal\"], [\"german indie\"], [\"german indie folk\"], [\"german indie pop\"], [\"german indie rock\"], [\"german jazz rap\"], [\"german melodeath\"], [\"german metal\"], [\"german metalcore\"], [\"german oi\"], [\"german pagan metal\"], [\"german pop rock\"], [\"german post-hardcore\"], [\"german post-punk\"], [\"german power metal\"], [\"german punk\"], [\"german punk rock\"], [\"german rock\"], [\"german ska\"], [\"german street punk\"], [\"german thrash metal\"], [\"goregrind\"], [\"gothenburg metal\"], [\"gothic alternative\"], [\"gothic black metal\"], [\"gothic doom\"], [\"gothic metal\"], [\"gothic symphonic metal\"], [\"gotico brasileiro\"], [\"greek black metal\"], [\"greek metal\"], [\"grim death metal\"], [\"grindcore\"], [\"grisly death metal\"], [\"groove metal\"], [\"hamburg hip hop\"], [\"hamburg indie\"], [\"hamburger schule\"], [\"heavy gothic rock\"], [\"hip hop tuga\"], [\"humppa\"], [\"hungarian black metal\"], [\"hurdy-gurdy\"], [\"icelandic black metal\"], [\"idol rock\"], [\"indian metal\"], [\"indonesian black metal\"], [\"indonesian death metal\"], [\"indonesian experimental\"], [\"indonesian metal\"], [\"industrial black metal\"], [\"instrumental black metal\"], [\"instrumental djent\"], [\"irish black metal\"], [\"irish death metal\"], [\"irish metal\"], [\"iskelma\"], [\"israeli metal\"], [\"italian black metal\"], [\"italian death metal\"], [\"italian doom metal\"], [\"italian folk metal\"], [\"italian gothic metal\"], [\"italian hardcore\"], [\"italian heavy metal\"], [\"italian metal\"], [\"italian post-rock\"], [\"italian power metal\"], [\"italian progressive metal\"], [\"italian punk\"], [\"italian stoner rock\"], [\"italogaze\"], [\"japanese black metal\"], [\"japanese death metal\"], [\"japanese hardcore\"], [\"japanese heavy metal\"], [\"japanese power metal\"], [\"jazz metal\"], [\"kabarett\"], [\"karneval\"], [\"kavkaz\"], [\"kawaii metal\"], [\"kentucky metal\"], [\"kolsche karneval\"], [\"korean metal\"], [\"latin metal\"], [\"latvian folk\"], [\"latvian metal\"], [\"liechtenstein\"], [\"liedermacher\"], [\"lithuanian folk\"], [\"lithuanian indie\"], [\"lithuanian jazz\"], [\"lithuanian metal\"], [\"lithuanian pop\"], [\"lithuanian rock\"], [\"louisiana metal\"], [\"lovecraftian metal\"], [\"lowlands hardcore\"], [\"luxembourgian metal\"], [\"macedonian pop\"], [\"maltese metal\"], [\"maltese pop\"], [\"mathcore\"], [\"medieval rock\"], [\"melodic black metal\"], [\"melodic death metal\"], [\"melodic deathcore\"], [\"melodic doom\"], [\"melodic groove metal\"], [\"melodic hard rock\"], [\"melodic metal\"], [\"melodic metalcore\"], [\"melodic power metal\"], [\"melodic progressive metal\"], [\"melodic thrash\"], [\"metal\"], [\"metal baiano\"], [\"metal balear\"], [\"metal catala\"], [\"metal catarinense\"], [\"metal cearense\"], [\"metal colombiano\"], [\"metal galego\"], [\"metal gaucho\"], [\"metal gotico\"], [\"metal mineiro\"], [\"metal noir quebecois\"], [\"metal nortista\"], [\"metal paranaense\"], [\"metal piauiense\"], [\"metal salvadoreno\"], [\"metalcore\"], [\"metalcore espanol\"], [\"metallic hardcore\"], [\"mexican death metal\"], [\"mexican metal\"], [\"mexican thrash metal\"], [\"minneapolis metal\"], [\"modern hard rock\"], [\"mongolian pop\"], [\"montenegrin pop\"], [\"musica andorra\"], [\"musica de intervencao\"], [\"musica portuguesa contemporanea\"], [\"musica sul-mato-grossense\"], [\"musiikkia lapsille\"], [\"muzica usoara\"], [\"necrogrind\"], [\"neo classical metal\"], [\"neo-crust\"], [\"neo-trad doom metal\"], [\"neo-trad metal\"], [\"neue deutsche harte\"], [\"new wave of osdm\"], [\"new wave of speed metal\"], [\"new wave of thrash metal\"], [\"new york death metal\"], [\"nordic folk metal\"], [\"nordnorsk musikk\"], [\"north carolina emo\"], [\"norwegian black metal\"], [\"norwegian death metal\"], [\"norwegian doom metal\"], [\"norwegian metal\"], [\"nwobhm\"], [\"nwocr\"], [\"nwothm\"], [\"old school thrash\"], [\"oldschool deutschrap\"], [\"opera metal\"], [\"oriental metal\"], [\"ostrock\"], [\"oulu indie\"], [\"oulu metal\"], [\"pagan black metal\"], [\"peruvian death metal\"], [\"peruvian metal\"], [\"pirate\"], [\"pittsburgh metal\"], [\"poezja spiewana\"], [\"polish alternative rock\"], [\"polish black metal\"], [\"polish blues\"], [\"polish death metal\"], [\"polish folk metal\"], [\"polish hardcore\"], [\"polish metal\"], [\"polish post-punk\"], [\"polish punk\"], [\"polish reggae\"], [\"polish rock\"], [\"polish thrash metal\"], [\"pornogrind\"], [\"portland metal\"], [\"portuguese black metal\"], [\"portuguese death metal\"], [\"portuguese folk\"], [\"portuguese indie\"], [\"portuguese indie rock\"], [\"portuguese metal\"], [\"portuguese rock\"], [\"post-black metal\"], [\"post-punk brasileiro\"], [\"power metal\"], [\"power thrash\"], [\"powerviolence\"], [\"prog metal\"], [\"progressive alternative\"], [\"progressive black metal\"], [\"progressive death metal\"], [\"progressive deathcore\"], [\"progressive doom\"], [\"progressive groove metal\"], [\"progressive metal\"], [\"progressive metalcore\"], [\"progressive power metal\"], [\"progressive technical death metal\"], [\"progressive thrash\"], [\"puerto rican metal\"], [\"punk rock italiano\"], [\"punk tuga\"], [\"quebec death metal\"], [\"rap metal espanol\"], [\"rap portuense\"], [\"rap tuga underground\"], [\"rautalanka\"], [\"raw black metal\"], [\"rock brasiliense\"], [\"rock caipira\"], [\"rock en asturiano\"], [\"rock gospel brasileiro\"], [\"rock sul-mato-grossense\"], [\"romanian black metal\"], [\"romanian metal\"], [\"romanian rap\"], [\"romanian rock\"], [\"russian black metal\"], [\"russian dance pop\"], [\"russian death metal\"], [\"russian folk metal\"], [\"russian folk rock\"], [\"russian gangster rap\"], [\"russian heavy metal\"], [\"russian metal\"], [\"russian metalcore\"], [\"russian nu metal\"], [\"russian pop\"], [\"russian power metal\"], [\"russian punk rock\"], [\"saxony metal\"], [\"schlager\"], [\"sci-fi metal\"], [\"scottish metal\"], [\"seattle metal\"], [\"serbian metal\"], [\"shred\"], [\"sinaloa indie\"], [\"slam death metal\"], [\"slavic folk metal\"], [\"slavic metal\"], [\"slayer\"], [\"slovak metal\"], [\"sotalaulut\"], [\"south african punk\"], [\"south asian metal\"], [\"south carolina metal\"], [\"southern metal\"], [\"spanish black metal\"], [\"spanish death metal\"], [\"spanish metal\"], [\"spanish prog\"], [\"speed metal\"], [\"stuttgart indie\"], [\"sung poetry\"], [\"suomi rock\"], [\"suomirap\"], [\"swedish black metal\"], [\"swedish death metal\"], [\"swedish doom metal\"], [\"swedish grindcore\"], [\"swedish heavy metal\"], [\"swedish melodeath\"], [\"swedish metal\"], [\"swedish power metal\"], [\"swedish progressive metal\"], [\"swiss black metal\"], [\"swiss metal\"], [\"swiss punk\"], [\"symphonic black metal\"], [\"symphonic death metal\"], [\"symphonic melodic death metal\"], [\"symphonic metal\"], [\"symphonic power metal\"], [\"taiwan metal\"], [\"tavern\"], [\"technical black metal\"], [\"technical brutal death metal\"], [\"technical death metal\"], [\"technical deathcore\"], [\"technical grindcore\"], [\"technical groove metal\"], [\"technical melodic death metal\"], [\"technical thrash\"], [\"tennessee metal\"], [\"texas hardcore\"], [\"thrash core\"], [\"thrash metal\"], [\"thrash-groove metal\"], [\"tolkien metal\"], [\"trancecore\"], [\"tribute\"], [\"turbo folk\"], [\"turkish black metal\"], [\"turkish metal\"], [\"uk doom metal\"], [\"uk stoner rock\"], [\"ukrainian black metal\"], [\"ukrainian metal\"], [\"us power metal\"], [\"usbm\"], [\"vancouver metal\"], [\"varmland rock\"], [\"viking black metal\"], [\"viking metal\"], [\"vintage finnish jazz\"], [\"virginia metal\"], [\"virginia punk\"], [\"visual kei\"], [\"voidgaze\"], [\"voidgrind\"], [\"volkspop\"], [\"war metal\"], [\"west virginia metal\"], [\"wisconsin metal\"]], \"hovertemplate\": \"supergenre=metal<br>emb1=%{x}<br>emb2=%{y}<br>genre=%{customdata[0]}<extra></extra>\", \"legendgroup\": \"metal\", \"marker\": {\"color\": \"#EF553B\", \"size\": 6, \"symbol\": \"circle\"}, \"mode\": \"markers\", \"name\": \"metal\", \"showlegend\": true, \"type\": \"scattergl\", \"x\": [5.988472499999999, 5.646631, 5.328977, 6.684783500000001, 6.204014, 5.824081, 5.8100104, 6.7836742, 8.197218, -4.596965, -4.68696, 6.209333, 5.1843224, 6.1859536, 5.9414663, 6.019002, 5.972453, 6.0887694, 5.9993057, 6.1361523, 6.233111, 6.356329, 6.2426176, 7.569666000000001, 5.8872495, 2.707717, 2.8706367000000004, 8.289522999999999, 6.191075, 6.064775, 5.080498, 6.150264, 6.0330863, 5.660583, 6.0432606, 5.679458, 6.0444765, 6.046698999999999, 5.9889436, 5.9664497, 6.0031857, 5.9795647, 5.6194234000000005, 6.181655, 5.2243876, 5.571324, 0.29819766, 5.711013, 5.732614, 5.348028, 0.3908100999999999, 0.4369212999999999, 5.4346066, 5.3856087, 0.42069063, 5.1543584000000005, 5.1354027, 0.48566112, 5.699032, 5.7811580000000005, 5.858846, 5.066549, 5.8997746, 5.6082153, 5.5669484, 3.905123, 3.9739976, 6.149223, 3.976389, 3.9293404, 5.6272807, 5.3840694, 5.3766165, 5.4199038, 0.93512356, 5.951278, 6.1439010000000005, 5.913972, 5.6192985, 3.860356, 6.1511664, 5.968244, 5.6399364, -4.70331, -4.766099, 5.9149084, 5.895321, 6.034256500000001, 5.7618904, 5.019972, 5.2992697, 6.121005, 3.9521186, 4.7847395, 4.815256, 4.802026000000001, 0.9361091, 2.5959060000000003, 8.019833, 8.220753, 6.138967500000001, 6.111408, 4.445682499999999, 6.2035275, 5.625394, 6.0738688, 5.8187050000000005, 5.713415, 5.6570425, 5.4519324000000005, 2.6167595, 5.884343, 5.494619, 5.514761, 2.5540214, 2.8506315, 6.081311, 5.088068499999999, 5.668794, 5.7526470000000005, 5.6113667000000005, 5.916982, 5.532795, 5.408004, 5.7351418, 8.199733, 8.205356, 5.6536465, 4.889375, 5.388298000000001, 5.443643, 5.7834167, 5.9197974, 6.158674, 7.994699499999999, 5.302544999999999, 5.36555, 5.3193790000000005, 5.7295485, 5.77223, 5.191569, 2.5434375, 5.1345806, 8.255158999999999, 6.016164, 5.383756, 5.8254676, 5.717421, 4.459318, 4.566317, 6.095991000000001, 5.100828599999999, 5.0942755, 5.105755, 5.069713, 4.859956700000001, 5.973375, 4.8615785, 4.88068, 5.3122635, 5.392952999999999, 4.994391, 4.8885574, 5.0101657, 4.860489, 4.8558183, 5.317309, 5.0936294, 5.18574, 4.8341866, 4.8386655, 4.954789599999999, 5.0365663, 5.1580887, 4.853113700000001, 5.3929033, 4.9010596, 4.862099, 4.794486, 4.925508, 4.885614, 5.7750053, 5.8310294, 5.735874, 5.7046824, 6.146583000000001, 5.6736193, 5.867614700000001, 5.485427, 5.231706, 8.233024, 6.17033, 8.255777, 8.083446499999999, 5.793313, 5.150933, 5.284307, 8.239907, 8.191016000000001, 8.179057, 8.204525, 8.232991, 5.55954, 5.3516755, 5.657708599999999, 8.003755, 5.6164083, 8.162343, 5.6244082, 8.219944, 5.116091, 8.186858, 8.201654, 8.134068, 0.009618303, 8.150105, 5.424614, 5.951492, 5.6135206, 4.967387, 5.412825, 5.40681, 5.276054, 5.192236, 5.4705114, 5.711058599999999, 5.70987, 5.758138, 5.931288, 5.7356997000000005, 5.3403473, 8.219732, 8.200262, 8.215147, 5.2610316, 5.2454114, 4.817869, 6.245828, 5.2941675, 5.9606304, 6.7774057, 6.8935027, 6.4188447, 6.408566, 6.4437, 6.4227953, 6.018737000000001, 6.164363400000001, 5.2078023, 5.753046, 5.5991397, 5.715647, 4.8300376, 5.8625307, 5.203852, 5.263046, 5.119048, 4.923844, 5.198332, 5.800294999999999, 4.9693723, 5.059892700000001, 5.0703583, 4.969459, 5.0128903, 5.873804, 5.0906305, 6.154386, 6.3518014, 5.457735, 5.7317376, 6.763611999999999, 6.8010383, 5.2060156, 8.137463, 8.128963, 6.1531205, 5.6783056, 5.7676870000000005, 8.117279, 5.9547663, 5.1575017, 5.9040303, 5.8955045, 5.0684834, 8.158014, 2.7139032000000003, 2.6182308, 2.6777115, 5.7760086, 2.7359123, 2.797969, 5.2081375, 5.40987, 5.6112432, 6.1876626, 4.5063014, 5.8991050000000005, 4.522522, 5.5477004, 6.438197, 5.7727084, 5.476639700000001, 5.6770873, 5.437398, 5.411168, 4.9122580000000005, 4.962376, 5.6024218, 4.984418, 4.9847794, 5.303757, 5.496044599999999, 5.6012373, 4.999028, 5.071057, 5.2077527, 0.37484357, 6.189982, 6.084074, 5.7764845000000005, 5.2441096, 5.457201, 5.781019000000001, 5.388780000000001, 5.063775, 5.707732, 6.142213, 5.538682499999999, 5.1351886, 5.583107, 5.505975, 5.551916599999999, 5.3619013, 5.2839255, 4.870546, 6.1917114, 7.559723, 5.446642400000001, 0.92500645, 5.2800183, 0.31343883, 4.836257499999999, 2.5745788, 5.9431305, 4.9066553, 5.6754985, 5.3711150000000005, 5.097506, 5.4459195, 5.571729, 5.897096599999999, 5.3708324, 5.896386, 5.651414, 5.524696400000001, 5.215214, 6.0228043, 5.9649754, 5.251776, 5.9059467, 5.197813, 4.885301999999999, 5.208963400000001, 5.4081655, 8.232693, 5.1213145, 5.945941400000001, 8.133441, 4.839205000000001, 5.359682599999999, 6.094821, 6.0466433, 6.072521, 5.1249523, 6.0410347, 2.4102077, 2.370723, 5.9121227, 2.3997216, 5.8347254, 6.013294999999999, 2.4220028, 5.7843847, 2.3716310000000003, 2.4414241000000003, 2.3611796000000003, 2.3589900000000004, 5.802877, 6.0132203, 5.573514, 5.3114014, 5.391714, 0.9227688, 0.8342874, 5.276109, 5.294461, 5.2828045, 6.1251435, 5.443245, 4.9935684, 5.276523, 5.7850623, 4.947521, 4.9374566, 5.9696593, 5.548993, 5.638968, 5.2777824, 5.2727094, 4.942808599999999, 5.565142, 5.0054865, 5.8509803, 5.311914, 5.9480195, 5.933, 5.352521, 5.733789, 4.922497, 5.2950935, 5.2655125, 4.924015, 6.059557, 0.5159703, 0.34362614, -4.2219186, 5.376462999999999, 0.30299163, 6.247237, 6.191742400000001, 5.1515293, 2.548714, 6.0491185, 4.556574299999999, 5.861326999999999, 5.9077816, 6.26005, 6.225755, 6.2554584, 6.241077400000001, 6.2869660000000005, 6.2835474, 6.073637000000001, 6.2577243, 6.2596903, 5.786556200000001, 8.0197735, 5.8441706, 5.0590005, 5.198641, 5.1046042, 4.7666273, 5.550971499999999, 5.94168, 5.757368, 6.0456448, 5.076812, 5.626501599999999, 4.7565556, 4.8806095, 5.70982, 5.871981, 5.1513567, 6.169668700000001, 5.918166, 4.992762, 4.9324107, 5.341328, 8.242459, 2.4627597000000003, 4.8540306, 4.8985653, 5.9926367, 5.623168, 5.435105999999999, 5.958642, 5.0406637000000005, 5.583581400000001, 5.643936599999999, 5.0853047, 5.360486, 5.957234, 5.9154477, 5.984355, 5.886414, 5.38363, 5.364651, 5.05489, 4.9831853, 5.935374, 5.7325506, 6.076258999999999, 5.8776197, 5.8570895, 5.736283, 5.9247556, 5.52911, 5.8176527, 5.312001, 5.5695143, 5.6046830000000005, 5.6486654000000005, 5.360158, 5.366406, 5.8084620000000005, 5.4273705, 4.4345455000000005, 7.5541024, 6.3029623, 6.322432, 5.282409, 4.4121003, 6.115465599999999, 6.1237125, 5.1337895, 6.1636405, 5.1732736, 4.558892, 5.910435, 5.790714299999999, 4.792474299999999, 5.670318, 5.2703986, 6.77625, 6.185922, 5.9170074, 8.107087, 6.0570580000000005, 5.6529136, 5.4738994000000005], \"xaxis\": \"x\", \"y\": [9.55039, 9.177352, 8.79454, 6.204817299999999, 9.717338, 8.297168, 8.833262, 6.3440075, 5.988876, 5.069933, 5.151536, 9.718837, 9.666297, 9.342155, 8.9553795, 8.984608999999999, 9.2398615, 9.693896, 9.71508, 9.777192, 9.449239, 9.221089, 9.788418, 4.460927, 10.127249, 10.295735, 10.220227, 5.9331994, 11.521775, 10.372411, 9.303252, 9.608352, 8.796173, 7.289449, 8.830569, 8.796997, 9.285533, 9.558344, 9.597385, 9.410063, 9.43762, 9.609522, 8.117973, 9.605118, 8.760974000000001, 8.924339999999999, 0.037562087, 8.912085000000001, 8.915701, 8.849157, 0.14032844, 0.1544201, 8.924161999999999, 8.898954, 0.15185072, 9.062587, 9.091765, 0.18643968, 9.394962, 8.9325905, 8.924325, 9.17972, 8.951857, 8.179872999999999, 8.705964, 9.261243, 9.252644, 9.7539425, 9.248782, 9.262668, 7.164600999999999, 9.242048, 8.75793, 8.385211, 0.9091698, 7.9405775, 9.591042, 9.00429, 9.893859, 9.232762, 9.65897, 9.59822, 7.056285400000001, 5.4832206, 5.489180999999999, 7.951598599999999, 7.961549300000001, 8.011106, 7.8731284, 9.283384, 9.18331, 8.066441000000001, 9.2565, 10.734129, 10.663857, 10.716759, 0.8802620999999999, 8.883813, 5.81882, 6.0088196, 9.534385, 9.505767, 8.173263, 9.66997, 7.582147, 9.857067, 9.527573, 8.013853999999998, 10.046038, 9.609114, 10.260529, 9.785786, 9.160915, 9.057968, 7.5775437, 7.441708, 9.564087, 9.827276, 9.199648, 8.994833999999999, 8.098817, 8.811192, 8.964236, 7.722427000000001, 9.979108, 5.9889736, 6.000371, 9.820307, 8.803471, 7.419727000000001, 7.407113000000001, 9.460371, 8.815844, 9.598109, 5.811851, 8.0075035, 9.286794, 4.881951, 7.19223, 8.962643, 9.498342, 4.9669824, 9.0153675, 6.0548935, 9.747472, 9.386425, 10.044599, 9.976524, 9.1308, 8.912067, 9.645553, 9.5695, 9.412329, 9.399955, 9.404346, 10.593586, 9.544054, 10.612307, 10.625628, 9.961833, 9.562811, 9.905934, 10.574502, 10.270646, 10.669173, 10.600524, 9.937036, 10.258545, 10.097058, 10.649963, 10.657318, 10.523702, 9.578818, 10.107706, 10.564414, 9.453136, 10.583507, 10.655738, 10.73173, 10.585261, 10.59714, 8.963287, 10.002267, 9.999555, 9.958365, 9.435108, 8.908953, 9.094917, 9.671433, 9.331067, 5.9799128, 9.631312, 5.949819000000001, 5.880766, 9.033293, 8.728191, 9.102873, 6.029779, 6.052724, 6.0104675, 5.9939923, 5.969503, 9.781267, 9.307415, 8.058755999999999, 6.0896115, 9.847629, 5.977558599999999, 8.008529, 5.9720883, 9.276351, 6.027546, 6.008808, 5.981209, 3.4266086, 6.0122647, 9.092664, 8.848461, 9.497314, 7.6073685, 9.653034, 9.666632, 9.595256, 9.60472, 9.574979, 9.677665, 9.708221, 9.17297, 8.703924, 9.513685, 8.486889999999999, 5.975937999999999, 5.9926157, 6.006771, 9.729159, 9.755751, 10.695695, 9.674747, 4.5558763, 9.899253, 6.2930613, 1.1205035, 8.991054, 9.06535, 8.970642999999999, 8.997192, 9.621879, 9.643022, 7.948948, 9.995523, 9.689504, 9.942918, 10.672767, 9.633348, 9.506119, 9.410342, 9.426352, 9.35337, 9.604653, 6.951432700000001, 9.38963, 9.444804, 9.486262, 9.400194, 9.3936405, 6.6914663, 8.782067, 9.605328, 9.373137, 8.860436, 6.892429400000001, 6.243608999999999, 6.288538, 7.9637785, 5.936703700000001, 5.991809, 11.4766, 8.691322, 9.483455, 5.993083, 8.846457000000001, 8.895847, 10.112258, 10.135737, 9.490559, 5.93538, 10.295966, 10.275335, 10.303301, 10.099701, 10.284765, 10.285889, 8.460357, 9.489365, 7.1125965, 9.435435, 9.070548, 8.947014, 9.090517, 7.861911, 6.8307004, 9.622388, 9.687685, 8.164937, 9.47473, 8.508453, 8.799141, 9.319311, 8.064729, 9.347093, 9.2482605, 8.989188, 9.278322, 8.8422985, 9.253658, 8.936721, 9.078701, 0.11926359, 9.503522, 9.27765, 8.887953999999999, 9.35021, 8.880195, 9.093777, 8.879843, 9.13372, 9.013061, 8.029902, 7.8612475, 8.899907, 7.1629686, 8.976988, 8.992137, 8.924963, 9.074142, 8.800436999999999, 11.4973755, 4.487387, 9.455475, 0.92672485, 9.667373, 0.05195969, 10.662939, 8.854174, 8.637013, 9.2267, 7.031553, 9.426889, 9.270244, 5.676295, 8.939163, 9.400362, 8.963104, 8.978273, 9.9513035, 3.5293007000000003, 7.624263000000001, 9.673685, 9.586198, 9.643004, 9.634113, 9.049163, 8.806284, 9.22385, 8.963558, 5.978145, 9.551894, 9.375489, 5.968151, 10.622572, 9.823127, 9.820102, 9.28216, 9.331811, 9.189834, 9.2765255, 10.229119, 10.184706, 9.394316, 10.250226, 9.190263, 9.86999, 10.175444, 9.223833, 10.204324, 10.240541, 10.17484, 10.189189, 9.181873, 8.771038, 9.126583, 9.702819, 9.626207, 0.8577207, 0.87001246, 9.714128, 9.701858, 9.678398, 9.572579, 9.509438, 9.335924, 9.110902, 7.917233, 9.113068, 8.998122, 9.743436, 9.324691, 8.220575, 9.662732, 8.799159, 9.166904, 7.9337163, 9.245744, 9.134372, 9.336009, 7.926536, 6.601859599999999, 9.337035, 8.902739, 9.002678, 9.708375, 9.770307, 10.46128, 9.7704525, 0.21604884, 0.06730616, 5.872257, 8.824622999999999, 0.048279107, 9.66109, 9.847994, 8.732712, 8.85025, 9.961117, 9.265896, 9.188233, 10.233288, 11.460416, 11.4913025, 11.472631, 11.370604, 11.413629, 11.453555, 11.372756, 11.471486, 11.488689, 9.0587225, 5.831055999999999, 9.460353, 9.133038, 9.092379, 9.558559, 8.337336, 8.991336, 8.933511, 10.068571, 10.004579, 9.487466, 9.70418, 10.7667, 7.9382296, 8.005875, 9.017932, 8.344824000000001, 9.599947, 8.976935000000001, 9.035691, 8.95875, 9.118852, 5.9342937, 10.243444, 10.618737, 10.608485, 9.61642, 9.4405575, 9.454463, 8.654456, 9.295156, 9.504741, 9.475891, 9.324158, 9.355533, 9.485574, 9.473567999999998, 9.330513, 9.66568, 9.608503, 9.741087, 9.525782, 9.35877, 9.715507, 9.94195, 9.545126, 8.961687, 8.905673, 8.476184, 8.797018, 9.085291, 8.9652605, 9.041345, 8.006113000000001, 7.3903666, 7.0143905, 9.016453, 9.700965, 9.656741, 7.7558293, 8.039017, 4.450876999999999, 0.32615605, 0.33885324, 8.996478999999999, 8.611541, 9.948737, 9.919835, 9.118296, 9.598778, 8.68562, 4.198653, 9.849598, 9.959331, 10.730812, 8.724598, 7.227362599999999, 6.189432599999999, 9.660466, 8.950273, 6.006685, 9.49328, 7.9461594, 8.9328375], \"yaxis\": \"y\"}, {\"customdata\": [[\"\\\"british childrens music\\\"\"], [\"\\\"canadian childrens music\\\"\"], [\"\\\"childrens folk\\\"\"], [\"\\\"childrens music\\\"\"], [\"\\\"childrens story\\\"\"], [\"\\\"nz childrens music\\\"\"], [\"\\\"preschool childrens music\\\"\"], [\"\\\"womens music\\\"\"], [\"acoustic blues\"], [\"acoustic guitar cover\"], [\"acoustic pop\"], [\"alberta country\"], [\"alternative americana\"], [\"alternative ccm\"], [\"alternative country\"], [\"alternative roots rock\"], [\"american folk revival\"], [\"american primitive\"], [\"ann arbor indie\"], [\"appalachian folk\"], [\"arkansas country\"], [\"asheville indie\"], [\"austin americana\"], [\"austin singer-songwriter\"], [\"australian americana\"], [\"australian blues\"], [\"australian country\"], [\"bakersfield sound\"], [\"banjo\"], [\"bardcore\"], [\"barrelhouse piano\"], [\"basque folk\"], [\"bluegrass\"], [\"bluegrass fiddle\"], [\"bluegrass gospel\"], [\"blues band\"], [\"boston folk\"], [\"bothy ballad\"], [\"breton folk\"], [\"british country\"], [\"british folk\"], [\"british singer-songwriter\"], [\"buffalo ny indie\"], [\"bury st edmunds indie\"], [\"calming instrumental\"], [\"canadian americana\"], [\"canadian contemporary country\"], [\"canadian country\"], [\"canadian folk\"], [\"canadian indie\"], [\"canadian indie folk\"], [\"canadian indigenous\"], [\"canadian pop\"], [\"canadian singer-songwriter\"], [\"cancion infantil mexicana\"], [\"cape breton indie\"], [\"cartoon\"], [\"celtic\"], [\"celtic harp\"], [\"chamber folk\"], [\"chattanooga indie\"], [\"christian indie\"], [\"cinematic post-rock\"], [\"classic country pop\"], [\"classic uk pop\"], [\"clawhammer banjo\"], [\"concertina\"], [\"contemporary country\"], [\"contemporary folk\"], [\"cosmic american\"], [\"country\"], [\"country blues\"], [\"country boogie\"], [\"country dawn\"], [\"country gospel\"], [\"country pop\"], [\"country road\"], [\"country rock\"], [\"covertrance\"], [\"cowboy western\"], [\"cymraeg\"], [\"dallas indie\"], [\"deep contemporary country\"], [\"deep delta blues\"], [\"deep groove house\"], [\"deep indie rock\"], [\"deep motown\"], [\"deep new americana\"], [\"delta blues\"], [\"denton tx indie\"], [\"desert blues\"], [\"devon indie\"], [\"east anglia indie\"], [\"easy listening\"], [\"eau claire indie\"], [\"ectofolk\"], [\"fingerstyle\"], [\"folk\"], [\"folk punk\"], [\"gaita\"], [\"galego\"], [\"galician folk\"], [\"geek folk\"], [\"gnawa\"], [\"gothic americana\"], [\"halifax indie\"], [\"hammered dulcimer\"], [\"honky tonk\"], [\"honky-tonk piano\"], [\"hula\"], [\"icelandic rock\"], [\"icelandic traditional\"], [\"indiana indie\"], [\"indie anthem-folk\"], [\"indie folk\"], [\"instrumental acoustic guitar\"], [\"inuit traditional\"], [\"iowa indie\"], [\"irish accordion\"], [\"irish ballad\"], [\"irish banjo\"], [\"irish contemporary classical\"], [\"irish country\"], [\"irish dance\"], [\"irish experimental\"], [\"irish fiddle\"], [\"irish flute\"], [\"irish folk\"], [\"irish gaelic folk\"], [\"irish neo-traditional\"], [\"irish pop\"], [\"irish pub song\"], [\"irish singer-songwriter\"], [\"italian blues\"], [\"jamgrass\"], [\"jig and reel\"], [\"jug band\"], [\"kelowna bc indie\"], [\"kentucky indie\"], [\"kentucky mountain folk\"], [\"kentucky roots\"], [\"kindie rock\"], [\"lancaster pa indie\"], [\"lebanese pop\"], [\"lexington ky indie\"], [\"lilith\"], [\"london on indie\"], [\"malian blues\"], [\"malian traditional\"], [\"mande pop\"], [\"mandolin\"], [\"manitoba country\"], [\"manitoba indie\"], [\"melancholia\"], [\"memphis americana\"], [\"michigan folk\"], [\"michigan indie\"], [\"modern country rock\"], [\"modern folk rock\"], [\"modern old-time\"], [\"modern southern rock\"], [\"modern uplift\"], [\"motown\"], [\"mountain dulcimer\"], [\"music box\"], [\"musica folk asturiana\"], [\"musikkorps\"], [\"nashville americana\"], [\"nashville singer-songwriter\"], [\"nashville sound\"], [\"native american\"], [\"native american contemporary\"], [\"native american flute\"], [\"native american spiritual\"], [\"navajo\"], [\"neo-pagan\"], [\"neo-traditional bluegrass\"], [\"new americana\"], [\"new england americana\"], [\"new mexico music\"], [\"newfoundland indie\"], [\"nl folk\"], [\"nordic post-rock\"], [\"north carolina indie\"], [\"north carolina roots\"], [\"northumbrian folk\"], [\"novelty\"], [\"nz pop\"], [\"nz singer-songwriter\"], [\"old west\"], [\"old-time\"], [\"ottawa indie\"], [\"outlaw country\"], [\"pei indie\"], [\"persian pop\"], [\"persian rock\"], [\"piedmont blues\"], [\"polka\"], [\"pop quebecois\"], [\"portland indie\"], [\"powwow\"], [\"progressive bluegrass\"], [\"protest folk\"], [\"psychedelic folk\"], [\"psychedelic folk rock\"], [\"queer country\"], [\"red dirt\"], [\"romantico\"], [\"roots americana\"], [\"roots rock\"], [\"roots worship\"], [\"santa fe indie\"], [\"saskatchewan indie\"], [\"scottish americana\"], [\"scottish fiddle\"], [\"scottish folk\"], [\"scottish gaelic folk\"], [\"sesame street\"], [\"shanty\"], [\"singaporean mandopop\"], [\"singaporean pop\"], [\"singaporean singer-songwriter\"], [\"singer-songwriter\"], [\"skiffle\"], [\"slack-key guitar\"], [\"south carolina indie\"], [\"southern americana\"], [\"southern gospel\"], [\"spanish folk\"], [\"speed garage\"], [\"spirituals\"], [\"stl indie\"], [\"stomp and flutter\"], [\"stomp and holler\"], [\"string band\"], [\"string folk\"], [\"swamp pop\"], [\"swiss country\"], [\"texas blues\"], [\"texas country\"], [\"toronto indie\"], [\"traditional bluegrass\"], [\"traditional blues\"], [\"traditional british folk\"], [\"traditional country\"], [\"traditional english folk\"], [\"traditional folk\"], [\"traditional irish singing\"], [\"trikiti\"], [\"truck-driving country\"], [\"tucson indie\"], [\"uilleann pipes\"], [\"uk americana\"], [\"utah indie\"], [\"vancouver indie\"], [\"vbs\"], [\"vintage country folk\"], [\"vintage gospel\"], [\"vintage old-time\"], [\"vintage western\"], [\"vocal harmony group\"], [\"waiata mo tamariki\"], [\"washboard\"], [\"western americana\"], [\"western swing\"], [\"yodeling\"], [\"yorkshire folk\"], [\"zydeco\"]], \"hovertemplate\": \"supergenre=folk<br>emb1=%{x}<br>emb2=%{y}<br>genre=%{customdata[0]}<extra></extra>\", \"legendgroup\": \"folk\", \"marker\": {\"color\": \"#00cc96\", \"size\": 6, \"symbol\": \"circle\"}, \"mode\": \"markers\", \"name\": \"folk\", \"showlegend\": true, \"type\": \"scattergl\", \"x\": [2.859061, 2.7981126, 2.76955, 2.7782078, 2.8367107000000003, 2.8622484, 2.737818, 3.1518822, 3.2285411, 4.270174, 3.0256197, 3.0187732999999994, 3.517042, 3.4624546, 3.4787437999999997, 3.5979323, 3.5603259, 3.6938093, 3.7422647000000007, 3.526603, 3.238571, 3.6421766, 3.417027, 3.2498150000000003, 3.073862, 3.4488008000000003, 2.9114175, 3.2235167, 3.6962538, 5.055517, 3.1227865, -4.130311, 3.6351824, 3.7277894, 3.616261, 3.2583091, 3.191439, 4.321333, 4.4745812, 3.6242995, 4.082797, 3.3630636, 3.1481552, 3.4425375, 4.3989983, 3.4100676, 3.0304704, 3.040236, 4.379142, 3.7230937000000006, 3.548838, 3.2825668, 2.9216597, 3.3003370000000003, -4.524253400000001, 3.576142, 2.889651, 4.477820400000001, 4.394751, 3.204753, 3.3669727, 6.555235000000001, 4.6193967, 3.189376, 3.089839200000001, 3.6323643, 4.536395, 3.0395827, 3.2703784, 3.438532, 3.1616206, 3.2325778, 3.5449834000000005, 3.1081252, 3.5189512, 3.0817263, 3.0626452, 3.340986, 2.2675965, 3.2940874, 3.885238, 3.4743316, 3.1117187000000004, 3.2670348, 0.0022573913, 3.371797, 2.1827810000000003, 3.574284, 3.2327614, 3.9248583, 1.0259455, 3.9057293, 3.477414, 2.7715564, 3.493489, 3.139538, 3.6770704, 3.3453977, 4.832321, 4.434685, -4.1645856, -4.1231837, 4.669624, 1.0746011999999998, 4.1003237, 3.7809772000000006, 4.2202435, 3.253699, 2.775464, -0.4173210999999999, 4.334171, 3.7854118, 4.9473414, 3.2943108, 3.4588730000000005, 3.6239648, 2.6210883, 3.5360687000000004, 4.5088763, 4.4863977, 4.4289117, 4.470737000000001, 4.45524, 4.521217299999999, 4.4394116, 4.5102487, 4.421996, 4.513283299999999, 4.432233, 4.497863300000001, 3.2372682, 4.5176945, 3.0853033, 3.6210845, 3.5394902000000004, 4.55617, 3.2691042, 3.695894, 3.3302774, 3.5736227, 3.2757862, 2.7946868, 3.4249818, 6.149406, 4.4861445, 3.1211102000000004, 3.6985505, 1.063173, 0.95024234, 1.0990007, 3.6917145, 3.047672, 4.027101, 3.4612086000000004, 3.4929914, 3.6719158, 3.7289288, 3.0680928, 3.6084123, 3.6713922, 3.4977024, 3.5309987, 2.1422882000000003, 3.6438684, 4.4409103, 4.468824, 3.290007, 3.4680698, 3.4743699999999995, 3.193667, 3.3981636, 3.2812755, 3.4652948, 3.3745294, 3.4176002, 4.299785, 3.648549, 3.5102594, 3.401079, 3.225545, 3.7918246, 4.4933496, 5.1440535, 3.5285910000000005, 3.54436, 4.143904, 3.1011965, 2.910201, 2.8503768, 2.786318, 3.6276364, 3.5024211000000003, 3.3199803999999995, 3.1433887, 3.2723224, 3.3637192, 3.2222621, 3.2845783, 4.5400147, 3.5237190000000003, 3.358708, 3.6913705, 3.4482708, 3.8216772, 3.3203814, 3.1714919, 3.3557242999999994, 2.7522342, 3.3723238, 3.4480019, 6.5712676, 3.0129626, 3.5658607000000004, 3.888536, 4.438974, 4.4275427, 4.4893813, 2.8537796, 4.5668254, 3.2730458, 3.226141, 3.233879, 3.2976832000000003, 2.9707289, -0.44769743, 3.1605716, 3.491546, 3.2981603, -4.153254, 0.019371122, 3.1651290000000003, 3.469707, 3.3489678, 3.5684066, 3.6628416, 4.235691, 3.056111, 3.692371, 3.2486916, 3.3810036, 3.3957343, 3.6674898, 3.2388442000000004, 4.198106299999999, 3.3932095, 3.9659438, 3.478311, 4.4766974, -4.1224513, 3.4803188, 3.5890374, 4.432779, 3.5968199, 3.195231, 3.5115223, 2.7844355, 3.5282135, 3.4315958, 3.5096392999999995, 3.4230752, 3.0752787999999995, 2.8966308, 3.2149117, 3.6229413, 3.4087052000000004, 3.3003705, 4.0141478, 3.02874], \"xaxis\": \"x\", \"y\": [5.533934599999999, 5.6068425, 5.6213417, 5.637851, 5.662568, 5.9680824, 5.683661, 5.6773715, 4.233671, 1.9051439, 6.135448, 5.299521, 5.9498053, 5.706704, 5.7586956, 5.752765, 4.5811005, 5.0648665, 6.9975224, 4.3724313, 5.2625175, 6.1481667, 5.5703235, 5.569703, 5.420585, 5.5911083, 5.3342404000000005, 5.175826, 4.4022727, 4.7042484, 4.1658306000000005, 6.2158284, 4.3933372, 4.401622, 4.393488400000001, 4.7641506, 5.8369904, 4.8315473, 4.7634053, 5.858363, 4.966928, 6.171039599999999, 5.7968216, 6.533616, 2.265226, 5.832277, 5.283423, 5.4340873, 5.3430653, 6.259138, 6.046093, 5.6845145, 5.8801856, 5.665311, 5.7921824, 6.3100224, 5.5677433, 4.744239, 4.4338636, 6.361415, 5.348435, 7.837026600000001, 6.265149, 5.290253, 5.0242724, 4.3085403, 4.752283599999999, 5.2109933, 5.568651, 5.357075, 5.1367764000000005, 4.2698197, 4.411198000000001, 5.275932, 4.3662167, 5.1537194, 5.2512336, 5.2138395, 5.822365799999999, 4.85351, 5.2312818, 5.803159, 5.2900167, 4.359424, 6.2507153, 6.544992, 3.793117, 5.902501999999999, 4.258125, 6.076766, 2.8429232000000004, 5.0589523000000005, 6.5420237, 3.2961059, 6.1813216, 5.714565, 4.8799220000000005, 5.376052400000001, 6.634939699999999, 4.7586308, 6.1584287, 6.2050540000000005, 4.822422, 2.7528875, 6.012645200000001, 6.2772713, 4.459031, 4.740454, 3.4135754, 3.4011228, 5.992687, 2.4503603, 7.230971, 6.12639, 6.1006794, 4.7730665, 6.225813, 6.1442190000000005, 4.7426796, 4.805153400000001, 4.7060447, 4.7563977, 4.717441, 4.77366, 4.7466493, 4.7722387, 4.678385, 4.791628, 4.7337940000000005, 4.7739234, 6.3259172, 4.804543499999999, 6.23188, 4.9828277000000005, 4.81047, 4.8015037000000005, 4.2823877, 6.336069599999999, 5.282916, 4.4091253, 5.1445518, 5.623259, 6.24078, 1.3230485, 5.7046165, 5.8115973, 6.2755556, 2.8495023, 2.875446, 2.8486805, 4.391214, 5.3570023, 6.6281023, 6.3560925, 5.578366, 6.8576508, 7.005, 5.188956, 6.190881299999999, 4.5006037, 5.42461, 6.605396300000001, 3.8599212, 4.5643806, 2.3769212000000004, 4.7398596, 5.274883999999999, 5.7738333, 5.681312, 5.1613693, 5.139929, 5.5113053, 5.0274153, 5.203039, 5.156061599999999, 4.504683, 4.3980837, 5.753403700000001, 5.770955000000001, 5.072560299999999, 6.123412999999999, 5.048405000000001, 3.8731148, 5.989582, 5.817603, 4.951005, 5.230459, 5.9054294, 5.9973083, 3.4151673, 4.4083915000000005, 6.037602400000001, 5.2955914, 5.6750317, 5.2415504, 5.2268360000000005, 4.2818594, 5.1782684, 5.3982835, 6.187687, 5.3534665, 4.4616337, 4.737824400000001, 5.2556148, 5.343585, 5.6356416, 5.3176427, 3.3285356, 5.431491, 5.5308557, 7.830175, 6.053683299999999, 5.9479885, 6.658453999999999, 4.687649700000001, 4.766577, 4.794691, 5.6122627, 4.917258, 5.6113324, 5.646281200000001, 5.673978, 5.557711599999999, 4.679654599999999, 3.4122856, 6.0968294, 5.631078, 3.3151135000000003, 6.1901426, 6.1450367, 4.179448000000001, 6.566499, 6.1387773, 6.3067546, 4.3937683, 4.473212999999999, 4.61806, 4.469534400000001, 4.350072, 5.3493385, 5.745555, 4.404937, 4.297758999999999, 4.914815, 4.6014585, 5.0669627, 4.370597, 4.7996593, 6.2236485, 5.416604, 5.639806299999999, 4.782624, 5.893371599999999, 6.003856, 6.571875, 5.6049404, 4.287451, 4.1663947, 4.347822, 4.583444999999999, 3.7379553, 5.981932, 4.320303400000001, 6.107303, 4.6546926, 4.6214957000000005, 5.078291, 4.543627], \"yaxis\": \"y\"}, {\"customdata\": [[\"\\\"canzone dautore\\\"\"], [\"acousmatic\"], [\"aggrotech\"], [\"alternative emo\"], [\"ambient fusion\"], [\"ambient industrial\"], [\"american 21st century classical\"], [\"american post-rock\"], [\"american shoegaze\"], [\"anime\"], [\"anime score\"], [\"argentine indie\"], [\"art punk\"], [\"atmospheric post-rock\"], [\"audiophile vocal\"], [\"australian experimental\"], [\"australian post-punk\"], [\"australian post-rock\"], [\"austrian punk\"], [\"background music\"], [\"balkan hip hop\"], [\"bangladeshi rock\"], [\"basel indie\"], [\"beat poetry\"], [\"bedroom pop\"], [\"belgian contemporary classical\"], [\"belgian experimental\"], [\"belgian new wave\"], [\"belgian post-rock\"], [\"belgian stoner rock\"], [\"bergamo indie\"], [\"berlin school\"], [\"bern indie\"], [\"blackened hardcore\"], [\"bleep techno\"], [\"bosnian indie\"], [\"boston electronic\"], [\"bouzouki\"], [\"bow pop\"], [\"bristol indie\"], [\"british experimental\"], [\"british industrial\"], [\"british post-rock\"], [\"c-pop\"], [\"c86\"], [\"canadian post-hardcore\"], [\"canadian post-rock\"], [\"canadian psychedelic\"], [\"canadian psychedelic rock\"], [\"canadian rockabilly\"], [\"canterbury scene\"], [\"canti alpini\"], [\"cantopop\"], [\"canzone genovese\"], [\"carnatic\"], [\"cello\"], [\"chaotic hardcore\"], [\"charlotte nc indie\"], [\"chicago hardcore\"], [\"chicago punk\"], [\"chinderlieder\"], [\"chinese experimental\"], [\"chinese indie\"], [\"chinese indie pop\"], [\"chinese indie rock\"], [\"chinese post-punk\"], [\"chinese post-rock\"], [\"chinese punk\"], [\"chinese traditional\"], [\"christchurch indie\"], [\"classic anime\"], [\"classic cantopop\"], [\"classic city pop\"], [\"classic czech pop\"], [\"classic israeli pop\"], [\"classic italian folk pop\"], [\"classic italian pop\"], [\"classic j-pop\"], [\"classic j-rock\"], [\"classic latvian pop\"], [\"classic mandopop\"], [\"classical percussion\"], [\"classify\"], [\"cleveland indie\"], [\"coldwave\"], [\"collage pop\"], [\"compositional ambient\"], [\"corrosion\"], [\"cosmic post-rock\"], [\"croatian hip hop\"], [\"croatian indie\"], [\"croatian metal\"], [\"croatian pop\"], [\"croatian rock\"], [\"czech contemporary classical\"], [\"czech folk\"], [\"czech indie\"], [\"czech pop\"], [\"czech punk\"], [\"czech rock\"], [\"danish electro\"], [\"dark ambient\"], [\"dark electro\"], [\"dark electro-industrial\"], [\"dark folk\"], [\"dark jazz\"], [\"dark wave\"], [\"dc indie\"], [\"death industrial\"], [\"deathrock\"], [\"deep hardcore punk\"], [\"deep indie singer-songwriter\"], [\"deep neofolk\"], [\"deep orgcore\"], [\"deep psychobilly\"], [\"deep space rock\"], [\"denpa-kei\"], [\"detske pisnicky\"], [\"diy emo\"], [\"dortmund indie\"], [\"dream pop\"], [\"drone\"], [\"drone folk\"], [\"drone metal\"], [\"drone psych\"], [\"drone rock\"], [\"dronescape\"], [\"dub metal\"], [\"dublin indie\"], [\"duduk\"], [\"dunedin sound\"], [\"dusseldorf electronic\"], [\"dutch folk\"], [\"dutch stoner rock\"], [\"early french punk\"], [\"ebm\"], [\"electro-industrial\"], [\"electroacoustic improvisation\"], [\"electronica argentina\"], [\"emo mexicano\"], [\"emo punk\"], [\"emocore\"], [\"emoviolence\"], [\"entehno\"], [\"estonian electronic\"], [\"estonian indie\"], [\"exotica\"], [\"experimental\"], [\"experimental ambient\"], [\"experimental big band\"], [\"experimental classical\"], [\"experimental dub\"], [\"experimental electronic\"], [\"experimental folk\"], [\"experimental guitar\"], [\"experimental indie\"], [\"experimental indie rock\"], [\"experimental psych\"], [\"experimental rock\"], [\"field recording\"], [\"finnish folk\"], [\"finnish post-punk\"], [\"firenze indie\"], [\"focus\"], [\"folk rock italiano\"], [\"fourth world\"], [\"frankfurt indie\"], [\"freak folk\"], [\"freakbeat\"], [\"free folk\"], [\"free improvisation\"], [\"french folk\"], [\"french post-punk\"], [\"french post-rock\"], [\"french stoner rock\"], [\"futurepop\"], [\"gaian doom\"], [\"garage psych\"], [\"garage punk\"], [\"gbvfi\"], [\"german prog\"], [\"german shoegaze\"], [\"german stoner rock\"], [\"gothic rock\"], [\"grave wave\"], [\"greek contemporary classical\"], [\"greek guitar\"], [\"guidance\"], [\"gundam\"], [\"guzheng\"], [\"gypsy punk\"], [\"hardcore punk\"], [\"hauntology\"], [\"hawaiian indie\"], [\"hawaiian punk\"], [\"heavy psych\"], [\"hong kong hip hop\"], [\"hong kong indie\"], [\"hong kong rock\"], [\"hong kong tv drama\"], [\"icelandic choir\"], [\"icelandic classical\"], [\"idol kayo\"], [\"indie emo rock\"], [\"indie folk italiano\"], [\"indie fuzzpop\"], [\"indie liguria\"], [\"indie psychedelic rock\"], [\"indie punk\"], [\"indie rock italiano\"], [\"indie shoegaze\"], [\"indonesian shoegaze\"], [\"indonesian worship\"], [\"industrial\"], [\"industrial hip hop\"], [\"industrial noise\"], [\"industrial rock\"], [\"instrumental post-rock\"], [\"instrumental stoner rock\"], [\"iranian experimental\"], [\"israeli mediterranean\"], [\"israeli rock\"], [\"italian adult pop\"], [\"italian alternative\"], [\"italian emo\"], [\"italian folk\"], [\"italian hip hop\"], [\"italian indie pop\"], [\"italian industrial\"], [\"italian new wave\"], [\"italian occult psychedelia\"], [\"italian pop\"], [\"italian pop punk\"], [\"italian pop rock\"], [\"italian post punk\"], [\"italian post-hardcore\"], [\"italian progressive rock\"], [\"italian reggae\"], [\"italian underground hip hop\"], [\"j-metal\"], [\"j-pixie\"], [\"j-poprock\"], [\"japanese alternative rock\"], [\"japanese classical\"], [\"japanese contemporary classical\"], [\"japanese disney\"], [\"japanese emo\"], [\"japanese experimental\"], [\"japanese garage rock\"], [\"japanese house\"], [\"japanese indie rock\"], [\"japanese math rock\"], [\"japanese metalcore\"], [\"japanese new wave\"], [\"japanese piano\"], [\"japanese post-hardcore\"], [\"japanese post-punk\"], [\"japanese post-rock\"], [\"japanese prog\"], [\"japanese psychedelic\"], [\"japanese psychedelic rock\"], [\"japanese soundtrack\"], [\"japanese vgm\"], [\"japanoise\"], [\"jazz harp\"], [\"jazzcore\"], [\"kc indie\"], [\"klapa\"], [\"krautrock\"], [\"kyushu indie\"], [\"laboratorio\"], [\"language\"], [\"latin american heavy psych\"], [\"latin shoegaze\"], [\"latvian hip hop\"], [\"latvian indie\"], [\"latvian pop\"], [\"latvian rock\"], [\"leipzig indie\"], [\"lesen\"], [\"lo-fi\"], [\"lo-fi indie\"], [\"london indie\"], [\"louisville underground\"], [\"lowercase\"], [\"macedonian indie\"], [\"macross\"], [\"maine indie\"], [\"malaysian mandopop\"], [\"mandible\"], [\"mandopop\"], [\"martial industrial\"], [\"massage\"], [\"math rock\"], [\"medieval folk\"], [\"melbourne indie\"], [\"microtonal\"], [\"midwest emo\"], [\"milan indie\"], [\"milwaukee indie\"], [\"minimal synth\"], [\"minimal wave\"], [\"minimalism\"], [\"mizrahi\"], [\"mluvene slovo\"], [\"modern cello\"], [\"modern jangle pop\"], [\"montana indie\"], [\"montana roots\"], [\"moog\"], [\"mundart\"], [\"musica calabrese\"], [\"musica etnica\"], [\"musica lombarda\"], [\"musica occitana\"], [\"musica per bambini\"], [\"musica piemonteisa\"], [\"musica roraimense\"], [\"musica sarda\"], [\"musique concrete\"], [\"nashville indie\"], [\"neo-progressive\"], [\"neo-psychedelic\"], [\"neoclassical darkwave\"], [\"neofolk\"], [\"neue deutsche todeskunst\"], [\"neue deutsche welle\"], [\"new beat\"], [\"new brunswick indie\"], [\"new england experimental\"], [\"new hampshire indie\"], [\"new isolationism\"], [\"new weird america\"], [\"new weird finland\"], [\"nice indie\"], [\"nightrun\"], [\"no wave\"], [\"noise\"], [\"noise punk\"], [\"noise rock\"], [\"noisecore\"], [\"nordic folk\"], [\"normal indie\"], [\"norwegian alternative rock\"], [\"norwegian contemporary jazz\"], [\"nu age\"], [\"okinawan pop\"], [\"oklahoma country\"], [\"olympia wa indie\"], [\"orebro indie\"], [\"organic ambient\"], [\"oshare kei\"], [\"oslo indie\"], [\"outsider\"], [\"outsider house\"], [\"paracana\"], [\"philly indie\"], [\"pipa\"], [\"plunderphonics\"], [\"pokemon\"], [\"polish ambient\"], [\"polish folk\"], [\"pop virale italiano\"], [\"popgaze\"], [\"portland punk\"], [\"portuguese experimental\"], [\"portuguese post-rock\"], [\"post-doom metal\"], [\"post-hardcore\"], [\"post-metal\"], [\"post-post-hardcore\"], [\"post-punk\"], [\"post-rock\"], [\"power electronics\"], [\"power noise\"], [\"progressive post-hardcore\"], [\"proto-techno\"], [\"psych gaze\"], [\"psychedelic doom\"], [\"psychedelic jazz fusion\"], [\"psychedelic space rock\"], [\"psychobilly\"], [\"r&b italiano\"], [\"raga rock\"], [\"rap napoletano\"], [\"rap tunisien\"], [\"rhythm game\"], [\"riot grrrl\"], [\"ritual ambient\"], [\"rock gotico\"], [\"rock in opposition\"], [\"rock noise\"], [\"rock progresivo mexicano\"], [\"rock progressif francais\"], [\"rome indie\"], [\"rune folk\"], [\"russian hardcore\"], [\"russian oi\"], [\"russian pop punk\"], [\"russian post-rock\"], [\"russian punk\"], [\"russian shoegaze\"], [\"russian ska\"], [\"sami\"], [\"schweizer rap\"], [\"screamo\"], [\"screamocore\"], [\"seiyu\"], [\"serbian alternative rock\"], [\"serbian hip hop\"], [\"serbian indie\"], [\"shamisen\"], [\"singaporean indie\"], [\"singaporean metal\"], [\"singaporean punk\"], [\"sitar\"], [\"skramz\"], [\"slovak folk\"], [\"slovak pop\"], [\"slovak rock\"], [\"slovenian indie\"], [\"slovenian pop\"], [\"slovenian rock\"], [\"slowcore\"], [\"song poem\"], [\"sound art\"], [\"sound collage\"], [\"sound team\"], [\"southeast asian post-rock\"], [\"southern china indie\"], [\"soviet synthpop\"], [\"space age pop\"], [\"space rock\"], [\"spanish experimental\"], [\"spanish post-punk\"], [\"spanish post-rock\"], [\"spanish progressive rock\"], [\"spiritual jazz\"], [\"steampunk\"], [\"street punk\"], [\"super sentai\"], [\"svensk indie\"], [\"swancore\"], [\"swansea indie\"], [\"swedish emo\"], [\"swedish experimental\"], [\"swedish hardcore\"], [\"swedish post-hardcore\"], [\"swedish psychedelic rock\"], [\"swedish rock-and-roll\"], [\"swing italiano\"], [\"swiss alternative rock\"], [\"swiss experimental\"], [\"swiss folk\"], [\"swiss hip hop\"], [\"swiss indie\"], [\"swiss indie folk\"], [\"swiss reggae\"], [\"swiss rock\"], [\"synth punk\"], [\"taiko\"], [\"taiwan campus folk\"], [\"taiwan hip hop\"], [\"taiwan idol pop\"], [\"taiwan indie\"], [\"taiwan pop\"], [\"taiwan singer-songwriter\"], [\"tampa indie\"], [\"tape club\"], [\"tarantella\"], [\"techno kayo\"], [\"tennessee experimental\"], [\"texas punk\"], [\"touken ranbu\"], [\"turin indie\"], [\"twee indie pop\"], [\"twee pop\"], [\"tzadik\"], [\"uk dub\"], [\"uk noise rock\"], [\"uk post-metal\"], [\"uk post-punk\"], [\"ukhc\"], [\"ukrainian pop\"], [\"umea hardcore\"], [\"uppsala indie\"], [\"uruguayan indie\"], [\"utah metal\"], [\"vegan straight edge\"], [\"vermont indie\"], [\"viking folk\"], [\"vintage chinese pop\"], [\"west virginia indie\"], [\"witch house\"], [\"yoga\"], [\"yugoslav new wave\"], [\"yugoslav rock\"], [\"zeuhl\"], [\"zolo\"]], \"hovertemplate\": \"supergenre=experimental<br>emb1=%{x}<br>emb2=%{y}<br>genre=%{customdata[0]}<extra></extra>\", \"legendgroup\": \"experimental\", \"marker\": {\"color\": \"#ab63fa\", \"size\": 6, \"symbol\": \"circle\"}, \"mode\": \"markers\", \"name\": \"experimental\", \"showlegend\": true, \"type\": \"scattergl\", \"x\": [7.430097, 3.2649307, 5.511415, 5.035923, 4.061996, 5.109318, 3.5770690000000003, 4.7524953000000005, 3.5333476000000004, 6.7801, 6.722985, -4.6445947, 4.334717299999999, 4.7454753, 2.8905687, 1.602274, 4.5877833, 4.735812999999999, 4.553831, 1.8774377, 7.5824637, 4.614302599999999, 9.101284, 0.2874720999999999, 3.7772586, 3.6074674, 4.4570556, 5.658347, 4.754872, 4.4127645, 7.469133, 4.184262, 4.4083285000000005, 5.275622, 4.3652773, 7.578740600000001, 1.5446464, 1.2826117, 4.1429486, 3.4541410000000003, 4.943417, 5.020053400000001, 4.4056787, 8.640919, 3.6789863, 5.088298, 4.494221, 4.263992, 3.5784432999999995, 4.460776, 4.1306167, 7.425202, 8.614024, 7.407717699999999, 6.684528, 5.801384, 5.450650700000001, 4.6617265, 5.2746353, 5.2595882000000005, 9.140072, 8.579783, 8.617558500000001, 8.575219, 8.586363, 8.589682, 8.555531, 8.460169, 3.4606755, 3.8523197, 6.727622, 8.616291, 6.671932000000001, 6.114994, 6.642609599999999, 7.373936, 7.420597, 6.711047, 5.9082627, 3.1071615, 8.635374, 3.4124053, 4.3828573, 3.8736017, 5.318436, 3.5856948, 3.6969678, 5.4209347, 4.450238, 7.5794854, 7.5608225, 7.570525599999999, 7.583011, 7.595645399999999, 3.60588, 6.112259, 6.087611, 6.092668, 6.1013203, 6.109594, 5.5311656, 5.117760700000001, 5.535091400000001, 5.439962, 5.2868547, 4.985231, 5.4449906, 4.463362999999999, 5.177976, 5.4169, 5.3918195, 9.10416, 4.919082, 5.0973024, 4.34998, 4.262073, 6.765436599999999, 6.1224337, 5.030942, 8.018158, 3.580159, 1.6369336, 3.7105865, 5.301377, 3.527683, 3.8435683, 5.1451125, 4.950335, 3.7482893, 5.938399, 3.775571, 2.159322, 5.37746, 4.3183784, 5.378663, 5.4757233, 5.464966, 1.6667892, -4.294106, 5.2631373, 4.973358, 5.006685, 5.182062999999999, 1.3221953000000002, 3.4696755, 3.426527, 2.9436069, 4.5949993, 1.689489, 2.5300958, 3.964883, -0.21058734, 1.4426593, 3.4912016, 1.8232094, 4.166844, 4.2215447, 3.3944193999999994, 4.6297684, 1.6492711, 5.179062999999999, 4.847309, 7.301458999999999, 1.9305624, 7.420955, 1.5907613, 5.4137115, 3.5991660000000003, 3.7603495, 3.547334, 2.7335844, 5.323731400000001, 5.326618, 4.6282544, 4.3093877, 5.501506299999999, 5.269424400000001, 3.7751274, 4.6763453, 3.9125607, 4.138031, 3.500544, 4.3887987, 5.370502, 2.615518, 1.3187643999999998, 1.2884663, 7.5927367, 6.7473410000000005, 3.489435, 6.9935026, 5.4738903, 4.1523056, 4.5302258, 4.6484237, 4.4867864, 8.633344000000001, 8.603330999999999, 8.567705, 8.564974000000001, 5.219283, 3.956017, 6.701689699999999, 4.939694, 7.430393, 3.791661, 7.463436, 3.8881414, 4.2965064, 7.4328156, 3.475275, 4.765278299999999, 0.041722603, 5.219151999999999, 1.3242973999999998, 5.1707196, 5.3684273000000005, 4.752831, 4.365696, 5.101419, 6.7085724, 6.646428, 7.418640600000001, 7.396870599999999, 5.349737999999999, 7.2184157, 7.480766, 7.459637, 5.3084583, 7.297203, 3.1933317000000003, 7.448311, 7.445031599999999, 7.377547, 5.5018353, 5.3107104000000005, 4.2552023000000005, 7.4273443, 7.4777436, 6.777001400000001, 6.7675467000000005, 6.748109299999999, 6.565401, 6.636821, 6.7107315000000005, 6.765822, 5.8354983, 3.383863, 6.66975, 1.5019408, 6.574375, 4.8534408, 6.796436999999999, 6.795768700000001, 1.6006806, 5.7225127, 6.1405015, 5.527065, 4.8164415, 4.910410400000001, 5.1266823, 6.609242, 6.7086820000000005, 4.7809567, 2.5411634, 5.2072678, 4.9151444, 7.576207000000001, 4.123526999999999, 6.7006493, 3.2577214, 7.623125999999999, 4.288479, -4.682611, 3.131605, 3.0707664, 3.086471, 3.064857, 5.348538400000001, 8.846835, 3.8724222, 3.8387103, 4.2894177, 4.486408, 1.6296239, 7.479897999999999, 6.6900325, 3.6784704, 8.618147, 1.5719074, 8.635375999999999, 5.288443599999999, 4.432493, 4.611682, 5.3009357, 3.5751786, 3.3911753, 4.9307823, 7.479269500000001, 4.850905, 5.206898000000001, 5.257061, 3.5739684, 6.6427684000000005, 6.101882499999999, 5.50223, 3.755525, 4.812732, 4.796903599999999, 2.956408, 9.139178, 7.345569, 7.090670599999999, 7.430575, 5.3832865, 7.4463944, 7.3643193, 4.2168307, 7.3762984, 3.2458522000000003, 3.907072, 4.2070556, 3.7248752, 5.333158999999999, 5.2835307, 5.39496, 7.8801723, 5.5039563, 3.6429052, 1.5435929, 5.2795467, 4.877063, 3.6094937000000007, 4.801191, 5.421053400000001, 4.095409399999999, 4.635918599999999, 5.068376, 4.468407599999999, 4.4462805, 5.656062599999999, 5.2518477, 5.236143599999999, 5.762808000000001, 5.68314, 1.6360416000000002, 6.7760973, 3.320232, 3.9663548, 4.3856697, 4.1798825, 6.768085000000001, 5.106937, 4.3046184, 1.0337667, 4.007094, 4.160704, 3.4865453, 1.1690421, 6.7734485, 1.5823648, 5.3604894, 7.5050893, 3.444861, 4.86585, 1.5859146000000002, 4.454793, 5.258463, 4.71632, 5.2780905, 5.1615095, 4.443852, 4.6773343, 5.132621, 5.450257, 5.1021113, 5.610999, 3.5557617999999995, 4.3991942, 1.8825182, 4.1530676, 4.3699675, 7.495492, 6.2951183, 7.4921637, 7.476338, 6.7899923, 3.9902008, 4.9397907, 5.491845, 4.4513907, 4.4143667, 1.7533523999999998, 4.203968499999999, 7.453348599999999, 5.3189754, 6.28868, 6.3099704, 6.235899, 4.7288146, 6.256558, 3.49594, 6.249919, 5.2436132, 9.137486, 5.242135500000001, 5.1487155, 6.747484, 7.568604, 7.5901685, 7.6062574, 6.71513, 4.748664, 5.2024584, 4.7722690000000005, 6.3871384, 5.3325167, 6.115625, 6.1206656, 6.106802, 5.3723083, 5.3527045, 5.3671317, 3.6999407, 4.244044000000001, 1.6122214, 1.9199986, 6.71893, 4.758409, 8.562408, 2.9502542000000003, 2.9265107999999995, 4.335702400000001, 1.5939363000000002, -4.455883, 4.713401999999999, 4.7012043, 2.612436, 5.702383, 5.5784400000000005, 6.7665243, 4.4305330000000005, 5.049252500000001, 3.7517655, 5.1408277, 5.2102637000000005, 5.680934, 5.5047793, 4.385715, 3.8072278, 7.427887400000001, 9.108648, 2.5964296, 9.138657, 9.136005, 9.124618, 9.11851, -0.23956452, 9.124152, 4.277991, 6.2603, 8.652391, 8.6027155, 8.620964, 8.601333, 8.619866, 8.6156435, 5.383074, 3.702292700000001, 7.137038, 5.9888625, 4.1474767, 5.185033, 6.734729300000001, 7.447503999999999, 3.719295, 3.7600381, 3.337412, -0.1702323999999999, 4.265171499999999, 5.278328, 4.3303432, 5.461214, 6.138858, 5.582885299999999, 4.543801, -4.481945, 5.458483, 5.5951867, 3.7036002, 5.247288, 8.648197, 4.42841, 2.7798266, 4.5548997, 7.5509334, 7.556396, 4.2482767, 4.305939], \"xaxis\": \"x\", \"y\": [2.6409402, 2.303784, 5.522032, 7.2155976, 5.381026, 5.457487, 2.2439032, 6.2736855, 7.251312299999999, 5.714797, 5.714141000000001, 5.231242, 6.2271504, 6.201321599999999, 2.9185839, 5.133937, 6.1393814, 6.1906056, 6.235266, 4.981669999999999, 4.4276605, 6.766263499999999, 3.1461217, 7.7283893, 6.704138799999999, 2.2661104, 5.894757, 5.4906707, 6.182282, 8.642024000000001, 2.6998935, 5.4502172, 6.3109927, 8.394605, 5.85168, 4.441122, 5.075697, 6.9571204, 2.3033168, 7.1610155, 5.6434965, 5.6100426, 6.406771, 7.582008999999999, 7.147713700000001, 7.3425264000000015, 6.299254, 5.695393599999999, 6.586263000000001, 6.1485868, 5.610758000000001, 2.622644, 7.5659246, 2.6623495, 1.3506435, 5.12613, 7.651608500000001, 7.152013, 6.9280057, 6.931468499999999, 3.063187, 7.5407166, 7.579824400000001, 7.6051145, 7.5512257, 7.548615, 7.522375, 7.4366302, 2.2296376, 7.0302186, 5.771641000000001, 7.559102, 5.969216, 4.9947934, 4.7683935, 2.6624525, 2.6794844, 5.858187, 5.8086343000000005, 10.114788, 7.5798783, 2.1881952, 2.2605193, 6.9734106, 5.2899194000000005, 6.670159, 2.3596091, 5.042171, 6.348217, 4.440789, 4.445765, 4.449763, 4.447519000000001, 4.421242, 1.9625452, 5.001814, 5.0117035, 5.0043893, 4.977017, 4.999095, 5.4143457, 5.407742, 5.4387126, 5.4907330000000005, 4.644207, 5.6097302, 5.16565, 6.934736, 5.584322, 5.1063504, 6.936609700000001, 3.0796204, 5.7311254, 7.185255499999999, 6.144657, 8.464011, 5.8494167, 5.015035, 7.3776073, 6.0121083, 6.967291400000001, 5.172433, 5.180433799999999, 8.519445, 6.511515599999999, 6.9328227, 5.232945, 5.6852694, 6.9710160000000005, 1.0803056, 7.096027, 5.886339700000001, 4.8658695, 8.564133, 5.2122827, 5.5419, 5.541239, 5.189742, 5.2675433, 7.3137393, 7.236845, 7.2145686, 7.3655214, 6.905661599999999, 7.288591999999999, 7.280578, 3.2388268, 5.698371, 5.059597, 2.6667323, 2.4702687, 3.1052043, 5.286366, 6.4127245, 5.072857, 6.5612330000000005, 6.614896300000001, 6.484911, 6.2674603, 5.1185884, 4.194764, 10.629641, 2.9017832, 4.9652023000000005, 2.6365125, 5.2686195, 6.6107320000000005, 6.642361999999999, 5.289471, 6.416139599999999, 2.5538278, 4.782021, 5.2791405, 6.5269723, 8.539602, 5.461671, 8.514827, 6.9270744, 6.640216400000001, 6.9672074, 5.4821625, 7.212778, 8.5601, 5.1315875, 6.826177599999999, 6.902453, 6.934934599999999, 4.42815, 5.7120147, 2.1953611, 4.512514599999999, 6.962414, 5.965325, 7.133211, 7.337700999999999, 8.656317, 7.5790915, 7.564299, 7.5284705, 7.578645699999999, 4.309756299999999, 2.476282, 5.901390599999999, 7.233664999999999, 2.751626, 7.162389999999999, 2.6785965, 6.8988495, 7.005594, 2.6989777000000004, 7.2310905, 6.1732326, 3.2858899, 5.5789247, 5.751069, 5.5680190000000005, 5.592578, 6.226693, 8.617144999999999, 5.211223599999999, 4.727732, 4.760066, 2.6651838, 2.7548316, 7.399850999999999, 2.3968306, 2.659509, 2.6733902, 5.802119, 2.9430387, 6.282343, 2.6638668, 2.6818829, 2.6654859, 5.0419784000000005, 7.382978, 5.4466176, 2.7163663, 2.6483505000000003, 6.25525, 5.8110766, 5.914877, 6.0535183, 5.5666685, 5.6318707, 5.670567, 6.661050299999999, 2.7091074, 6.0155783, 5.268276, 6.061357, 6.727361, 6.20394, 6.167928, 5.1869106, 6.8183303, 6.081960700000001, 6.3557024, 6.339816000000001, 6.2798305, 6.2269144, 5.584553, 5.619472, 6.4337425, 2.6228914, 6.095824, 7.214722599999999, 4.445979, 5.4990625, 5.9359407, 2.9951901000000003, 4.404378400000001, 8.395605999999999, 5.1947317, 10.121305, 10.147047, 10.143245, 10.151881, 4.892453700000001, 5.1142597, 7.0114546, 6.888671, 6.958417999999999, 6.774403599999999, 5.1188607, 4.4713, 5.832077, 6.3691206, 7.566461, 5.199969, 7.583945799999999, 5.480914599999999, 2.2447987, 6.996292, 4.733667, 7.271366, 2.305041, 7.3166413, 2.6583312, 7.1910586, 5.546451, 5.463434, 2.1485388, 4.7781587, 4.9998345, 5.1701283, 7.098855, 6.114145, 6.124135, 3.352264, 3.0649097000000003, 2.6375610000000003, 2.241466, 2.6391912, 4.8077865, 2.678968, 2.5660768, 5.573523000000001, 2.5851233, 2.2773273, 6.788317, 5.545942, 6.7450576, 4.8290744000000005, 5.1849356, 5.021032, 5.9023046, 5.535232, 6.611273, 5.085887400000001, 7.398152, 5.626116000000001, 6.4019365, 10.510399, 5.071535, 5.6509914000000006, 5.971392, 5.7417307, 6.63864, 6.604968, 7.8498755, 4.197767, 3.741802, 3.5550747000000005, 3.5825474, 5.0972695, 5.988876, 5.2695203, 6.854386999999999, 8.607531, 5.4526095, 6.2181115, 3.9696136, 6.07953, 5.800962, 6.4561377, 6.860485000000001, 2.2428138, 5.4841223, 5.7536545, 5.160223, 4.8313713, 2.6732645, 6.839294000000001, 6.7493157, 5.1937737, 6.332342, 8.425736, 7.075211, 8.459833999999999, 7.408947500000001, 6.2241893, 6.2997494000000005, 5.5612288, 5.5293975, 7.437739, 5.7156267, 6.8923125, 8.583875, 3.0630956, 8.302494, 6.1291976, 2.6510127, 1.5035104, 2.6782234000000003, 2.6557355, 5.8824553, 6.811154400000001, 5.6535053, 5.5055614, 6.00256, 6.577799000000001, 5.0265374000000005, 5.557576999999999, 2.6824596, 4.726114, 11.519781, 11.537012, 11.527753, 6.2197456, 11.491219, 7.223545599999999, 11.507885, 4.338854, 3.066333, 7.475303599999999, 7.3939843, 5.7094607, 4.4435687, 4.46129, 4.411598000000001, 5.696929, 6.180004599999999, 5.265497, 6.196394000000001, 1.4467438, 7.303531599999999, 5.002008999999999, 4.97735, 4.9943833, 5.556738, 5.590529, 5.581554, 6.7685537, 6.138099, 5.1492953, 5.775434, 5.6422358, 6.1740637000000005, 7.5255466, 10.197156, 3.2983387000000004, 8.500373, 5.1742454, 5.686235, 6.2684526, 6.271828, 2.6063745, 5.1274915, 6.768144, 5.7687616, 4.193503, 7.4253535, 7.170297, 7.362551, 5.2825847, 7.067465299999999, 7.095925, 4.3276057, 5.231371, 2.6786492, 3.090535, 2.7308066, 3.064294, 3.0674102000000003, 3.0787554, 3.077441, 3.1159225, 3.0762560000000003, 6.2983246, 1.7682262999999998, 7.5994773, 7.549991, 7.568701, 7.5715747, 7.5687704, 7.563846000000001, 7.67347, 7.11028, 2.2993083, 5.8989944, 6.114148999999999, 6.7670007, 5.7575383, 2.6711867, 7.0148845, 7.1995196, 2.3750389, 3.1805463, 6.8032, 8.423973, 6.0984, 7.6213417, 11.408215, 7.1078978, 4.0312414, 5.2902374000000005, 8.083857, 7.135064, 7.1263146, 4.475968, 7.594091400000001, 8.532389, 6.779259, 2.122551, 4.4538884, 4.455689, 5.576494, 5.8620553], \"yaxis\": \"y\"}, {\"customdata\": [[\"\\\"childrens choir\\\"\"], [\"\\\"mens choir\\\"\"], [\"\\\"quartetto darchi\\\"\"], [\"21st century classical\"], [\"a cappella\"], [\"afrikaans folk\"], [\"american choir\"], [\"american classical piano\"], [\"american contemporary classical\"], [\"american early music\"], [\"american modern classical\"], [\"american orchestra\"], [\"american romanticism\"], [\"anadolu rock\"], [\"andalusian classical\"], [\"anglican liturgy\"], [\"arabesk\"], [\"argentine ambient\"], [\"ars subtilior\"], [\"art song\"], [\"asmr\"], [\"australian choir\"], [\"australian classical\"], [\"australian classical piano\"], [\"austrian choir\"], [\"austrian classical piano\"], [\"austrian contemporary classical\"], [\"austrian orchestra\"], [\"austrian stoner rock\"], [\"austro-german modernism\"], [\"autoharp\"], [\"avant-garde\"], [\"azeri pop\"], [\"azeri traditional\"], [\"background piano\"], [\"baglama\"], [\"bajki\"], [\"balalaika\"], [\"balfolk\"], [\"balinese traditional\"], [\"balkan classical piano\"], [\"ballet class\"], [\"baltic choir\"], [\"baltic classical\"], [\"bandoneon\"], [\"barockinterpreten\"], [\"baroque\"], [\"baroque brass\"], [\"baroque cello\"], [\"baroque ensemble\"], [\"baroque singing\"], [\"baroque violin\"], [\"baroque woodwind\"], [\"belgian classical piano\"], [\"binaural\"], [\"bohemian baroque\"], [\"bornehistorier\"], [\"bornesange\"], [\"boy pop\"], [\"boy soprano\"], [\"bozlak\"], [\"brain waves\"], [\"brass ensemble\"], [\"brass quintet\"], [\"brazilian classical\"], [\"brazilian classical piano\"], [\"brazilian percussion\"], [\"british choir\"], [\"british classical piano\"], [\"british contemporary classical\"], [\"british modern classical\"], [\"british orchestra\"], [\"british soundtrack\"], [\"byzantine\"], [\"cabaret\"], [\"cambridge choir\"], [\"canadian choir\"], [\"canadian classical\"], [\"canadian classical piano\"], [\"canadian contemporary r&b\"], [\"canadian soundtrack\"], [\"cantautora argentina\"], [\"canto a tenore\"], [\"canzone napoletana\"], [\"cardiff indie\"], [\"cathedral choir\"], [\"caucasian classical\"], [\"caucasian classical piano\"], [\"caucasian folk\"], [\"central asian folk\"], [\"chamber choir\"], [\"chamber ensemble\"], [\"chamber orchestra\"], [\"chant religieux\"], [\"chill guitar\"], [\"chinese classical\"], [\"chinese classical performance\"], [\"chinese classical piano\"], [\"chinese soundtrack\"], [\"choral\"], [\"christian a cappella\"], [\"classic azeri pop\"], [\"classic persian pop\"], [\"classic soundtrack\"], [\"classic turkish pop\"], [\"classical\"], [\"classical baritone\"], [\"classical bass\"], [\"classical bassoon\"], [\"classical cello\"], [\"classical clarinet\"], [\"classical contralto\"], [\"classical countertenor\"], [\"classical era\"], [\"classical flute\"], [\"classical guitar\"], [\"classical guitar duo\"], [\"classical guitar quartet\"], [\"classical harp\"], [\"classical horn\"], [\"classical jazz fusion\"], [\"classical mandolin\"], [\"classical mezzo-soprano\"], [\"classical oboe\"], [\"classical organ\"], [\"classical performance\"], [\"classical piano\"], [\"classical piano duo\"], [\"classical piano trio\"], [\"classical saxophone quartet\"], [\"classical soprano\"], [\"classical string trio\"], [\"classical tenor\"], [\"classical trombone\"], [\"classical tuba\"], [\"cocuk masallari\"], [\"college a cappella\"], [\"college marching band\"], [\"concert band\"], [\"contemporary choir\"], [\"contemporary classical\"], [\"contemporary classical piano\"], [\"contrabass\"], [\"convent\"], [\"corsican folk\"], [\"czech classical\"], [\"czech classical piano\"], [\"danish choir\"], [\"danish classical\"], [\"danish contemporary classical\"], [\"deep soundtrack\"], [\"deep turkish pop\"], [\"detskie rasskazy\"], [\"disney dansk\"], [\"dutch classical piano\"], [\"dutch contemporary classical\"], [\"early american folk\"], [\"early avant garde\"], [\"early modern classical\"], [\"early music\"], [\"early music choir\"], [\"early music ensemble\"], [\"early romantic era\"], [\"electroacoustic composition\"], [\"english baroque\"], [\"english renaissance\"], [\"environmental\"], [\"epicore\"], [\"estonian folk\"], [\"estonian pop\"], [\"family gospel\"], [\"final fantasy\"], [\"finnish choir\"], [\"finnish classical\"], [\"finnish contemporary classical\"], [\"fisarmonica\"], [\"folk siciliana\"], [\"franco-flemish school\"], [\"french baroque\"], [\"french classical piano\"], [\"french contemporary classical\"], [\"french opera\"], [\"french orchestra\"], [\"french renaissance\"], [\"french romanticism\"], [\"french soundtrack\"], [\"french worship\"], [\"galante era\"], [\"gay chorus\"], [\"georgian folk\"], [\"georgian polyphony\"], [\"german baroque\"], [\"german choir\"], [\"german classical piano\"], [\"german contemporary classical\"], [\"german opera\"], [\"german orchestra\"], [\"german renaissance\"], [\"german romanticism\"], [\"german show tunes\"], [\"ghanaian traditional\"], [\"glass\"], [\"gospel italiano\"], [\"gregorian chant\"], [\"guitar case\"], [\"guitarra clasica\"], [\"gypsy\"], [\"halloween\"], [\"hard motivation\"], [\"harp\"], [\"harpsichord\"], [\"historic classical performance\"], [\"historic orchestral performance\"], [\"historic piano performance\"], [\"historic string quartet\"], [\"historical keyboard\"], [\"historically informed performance\"], [\"horror synth\"], [\"hungarian choir\"], [\"hungarian classical performance\"], [\"hungarian classical piano\"], [\"hungarian contemporary classical\"], [\"ilahiler\"], [\"impressionism\"], [\"indie game soundtrack\"], [\"indie napoletano\"], [\"irish classical\"], [\"israeli classical\"], [\"israeli classical piano\"], [\"israeli folk\"], [\"italian baritone\"], [\"italian baroque\"], [\"italian baroque ensemble\"], [\"italian bass\"], [\"italian choir\"], [\"italian classical guitar\"], [\"italian classical piano\"], [\"italian contemporary classical\"], [\"italian library music\"], [\"italian mezzo-soprano\"], [\"italian opera\"], [\"italian orchestra\"], [\"italian renaissance\"], [\"italian romanticism\"], [\"italian soprano\"], [\"italian soundtrack\"], [\"italian tenor\"], [\"italian violin\"], [\"japanese classical performance\"], [\"japanese classical piano\"], [\"japanese guitar\"], [\"japanese orchestra\"], [\"jewish pop\"], [\"joropo\"], [\"judaica\"], [\"karadeniz pop\"], [\"karadeniz turkuleri\"], [\"klezmer\"], [\"komedi\"], [\"kora\"], [\"korean classical performance\"], [\"korean classical piano\"], [\"koto\"], [\"kurdish folk\"], [\"kurdish pop\"], [\"late romantic era\"], [\"latin american classical piano\"], [\"latin classical\"], [\"latin soundtrack\"], [\"lds\"], [\"limerick indie\"], [\"louvor\"], [\"lullaby\"], [\"lute\"], [\"madrigal\"], [\"marching band\"], [\"marimba\"], [\"medieval\"], [\"medieval ensemble\"], [\"mexican classical\"], [\"middle earth\"], [\"mindfulness\"], [\"minnesang\"], [\"modern performance\"], [\"modern string quartet\"], [\"motivation\"], [\"musica antigua\"], [\"musica de fondo\"], [\"musica sinfonica\"], [\"musique ancienne\"], [\"muzica populara\"], [\"muziek voor kinderen\"], [\"neo-traditional country\"], [\"neoclassicism\"], [\"new zealand classical\"], [\"nordic classical piano\"], [\"nordic contemporary classical\"], [\"nordic orchestra\"], [\"nordic soundtrack\"], [\"north dakota indie\"], [\"norwegian choir\"], [\"norwegian classical\"], [\"nuevo folklore argentino\"], [\"nuevo tango\"], [\"oceania soundtrack\"], [\"opera\"], [\"opera chorus\"], [\"operatic pop\"], [\"operetta\"], [\"orchestra\"], [\"orchestral performance\"], [\"oriental classical\"], [\"orkney and shetland folk\"], [\"orquesta tipica\"], [\"orthodox chant\"], [\"oxford choir\"], [\"oyun havasi\"], [\"panpipe\"], [\"pasodobles\"], [\"pianissimo\"], [\"poetry\"], [\"polish choir\"], [\"polish classical\"], [\"polish classical piano\"], [\"polish contemporary classical\"], [\"polyphonies corses\"], [\"polyphony\"], [\"pony\"], [\"pop violin\"], [\"portuguese early music\"], [\"post-minimalism\"], [\"post-romantic era\"], [\"prepared piano\"], [\"quatuor a cordes\"], [\"radio symphony\"], [\"recorder\"], [\"reiki\"], [\"renaissance\"], [\"ringtone\"], [\"romanian classical piano\"], [\"romanian folk\"], [\"rosary\"], [\"russian choir\"], [\"russian classical piano\"], [\"russian contemporary classical\"], [\"russian folk\"], [\"russian modern classical\"], [\"russian orchestra\"], [\"russian romance\"], [\"russian romanticism\"], [\"salsa venezolana\"], [\"school choir\"], [\"school ensemble\"], [\"scorecore\"], [\"serialism\"], [\"shush\"], [\"sleep\"], [\"sound\"], [\"soundtrack\"], [\"spa\"], [\"spanish baroque\"], [\"spanish classical\"], [\"spanish classical piano\"], [\"spanish renaissance\"], [\"speedrun\"], [\"steelpan\"], [\"streichquartett\"], [\"string orchestra\"], [\"string quartet\"], [\"sufi chant\"], [\"swedish choir\"], [\"swedish classical\"], [\"swedish contemporary classical\"], [\"swiss classical piano\"], [\"syro-aramaic chant\"], [\"taiwan classical performance\"], [\"tango\"], [\"tango cancion\"], [\"theme\"], [\"therapy\"], [\"theremin\"], [\"tin pan alley\"], [\"trecento\"], [\"troubadour\"], [\"trouvere\"], [\"tulum\"], [\"turkish alternative\"], [\"turkish alternative rock\"], [\"turkish classical\"], [\"turkish classical performance\"], [\"turkish folk\"], [\"turkish jazz\"], [\"turkish modern jazz\"], [\"turkish pop\"], [\"turkish psych\"], [\"turkish punk\"], [\"turkish reggae\"], [\"turkish rock\"], [\"turkish singer-songwriter\"], [\"turkish soundtrack\"], [\"turkish trap pop\"], [\"ukrainian choir\"], [\"ukrainian classical\"], [\"ukrainian classical piano\"], [\"university choir\"], [\"uwielbienie\"], [\"vgm instrumental\"], [\"victorian britain\"], [\"video game music\"], [\"vietnamese traditional\"], [\"vintage classical singing\"], [\"vintage italian pop\"], [\"vintage italian soundtrack\"], [\"vintage tango\"], [\"viola\"], [\"viola da gamba\"], [\"violin\"], [\"vocal ensemble\"], [\"water\"], [\"welsh choir\"], [\"welsh folk\"], [\"west end\"], [\"white noise\"], [\"wind ensemble\"], [\"wind quintet\"], [\"wind symphony\"], [\"yiddish folk\"], [\"yoik\"], [\"youth orchestra\"], [\"zen\"], [\"zither\"]], \"hovertemplate\": \"supergenre=classical<br>emb1=%{x}<br>emb2=%{y}<br>genre=%{customdata[0]}<extra></extra>\", \"legendgroup\": \"classical\", \"marker\": {\"color\": \"#FFA15A\", \"size\": 6, \"symbol\": \"circle\"}, \"mode\": \"markers\", \"name\": \"classical\", \"showlegend\": true, \"type\": \"scattergl\", \"x\": [3.9932845, 4.2026687, 3.6311977, 3.6236274, 3.1315389, 3.8541532, 4.088712, 4.056617299999999, 3.4415433, 3.9697783, 3.6850348, 3.914172, 3.912694, 6.295336, 4.134332700000001, 4.0203037, 6.274003, 3.9282975, 3.950387, 4.148493, 4.7080684, 4.008184, 3.7680387, 3.9376285, 4.0575485, 3.7756305, 3.4342504000000003, 4.047271299999999, 6.309743, 3.5437517, 3.3804405, 3.3879633, 6.256677, 6.3533626, 3.5018230000000004, 6.2886486, 3.797946, 6.584467, 5.104083999999999, 2.459189, 3.6647375, 3.9955676, 3.6080456, 3.5739458, 2.0341868, 3.9865906, 3.89515, 3.8230858, 3.893128, 4.0015044, 4.065509, 3.9302237, 3.9499047, 3.8489742, 4.793913, 3.887642, 4.151722400000001, 4.1443114, 3.9475687000000006, 3.9369724, 6.2653136, 4.7696977, 3.5477626000000004, 3.5369737, 1.5220978, 3.4908955, 1.0916353, 3.9727345, 3.6815271, 3.6756663, 3.9018013, 3.7549956, 3.965246, 3.6748726, 3.0734873, 3.9794455, 3.7686632000000007, 4.0522633, 3.846901, 3.7669055, 4.059293299999999, 1.9076601, 7.1860194, 4.3727875, 4.0662146, 4.0096674, 3.7896411, 3.7343755, 3.9673922, 6.320239, 3.848346700000001, 3.7849832, 3.7066998, 3.8488083, 4.196026, 3.6047378, 3.6282377, 3.636712, 3.7615697, 4.081791399999999, 3.2106602000000004, 6.333038, 6.3695297, 3.858919, 6.3007016, 3.8773897000000006, 4.1298747, 4.1911254, 3.8811958, 3.8357778, 2.8173227, 3.8919542, 3.9337177, 3.7859569, 3.9153695, 4.226588700000001, 3.8082075, 2.3901331000000003, 4.0553784, 3.7488854, 2.3722694, 3.6685903, 4.07842, 3.840445, 3.9512293, 4.0124927, 3.6854146, 3.6743162, 3.7353752, 3.7073734, 4.103923, 3.6051226, 4.255408999999999, 3.7439456, 3.7731512, 6.313111, 3.1601388, 3.8670642, 3.8969142, 3.5947762, 3.4801676, 3.5140023, 3.745415, 6.643903999999999, 3.9079695, 3.9932947, 3.8456378, 3.6697862, 3.7671916, 3.9215903, 3.8911612, 6.30605, 3.784936, 4.153017500000001, 3.6285203, 3.5390153, 3.7446673, 3.505317, 3.6112208, 3.925917, 3.9216237, 4.0258775, 3.7433023, 3.2782028, 3.8702044, 3.9803386, 4.7171636, 3.9910705, 2.4388835, 2.3910558, 3.2038953, 4.1828775, 3.6116815, 3.5996053, 3.874473000000001, 4.289082, 4.2743998, 3.930462, 3.9114325, 3.6128278, 3.805006, 3.9345758, 3.973832, 3.938977, 4.009557, 3.806039, 3.79645, 3.8602948, 4.1605563, 3.8950505, 3.9244106, 3.9101942, 4.0297947, 3.8102741, 3.4578333, 3.9323845, 3.9156935, 3.8667178, 3.850851, 3.9910004, 3.8255134, 3.7956023, 3.8642142, 3.8265874, 3.906515, 4.204924, 7.112284700000001, 3.8966048, 3.771306, 4.1831055, 3.8043318, 4.186772, 3.860726600000001, 3.8550174, 3.820408, 3.717472, 3.9436553, 3.8299031, 3.9558833, 3.8669727, 3.777014700000001, 3.4769375, 6.314726, 3.5950284, 4.123087399999999, 7.155815, 3.6614058, 3.8595855, 3.8398874, 6.9749293, 4.0801797, 3.900275, 3.9059126, 4.1229362, 3.9250991, 4.1562414, 3.7588902, 3.4043300000000003, 3.8618305, 4.115025, 4.1132736, 3.9817336, 3.9151418, 4.129631, 4.1907783, 3.8743644, 4.261313, 3.9432478, 4.0352135, 3.9377916, 4.089568, 3.9466927, 3.9186008, 4.291812, 3.9793365, 6.303059999999999, 6.2922482, 6.9399667, 4.206736599999999, 1.0415006, 3.874583, 3.802744600000001, 3.1974518, 6.313452, 6.2646120000000005, 4.110387, 3.8586044, 1.9451486, 3.870998600000001, 3.2262514, 0.6811866, 3.2024, 4.791279299999999, 3.9100838, 3.9309378, 3.8095968, 4.015746, 4.0182824, 4.0485644, 2.0776367, 4.081362, 4.6760817, 3.9690235, 3.5543027, 3.7879686, 3.9286873, 4.0774040000000005, 4.0310564, 1.0296278, 4.011192299999999, 2.5838635, 2.4208899, 4.3013806, 3.6163468, 3.8850417, 3.5986620000000005, 5.17103, 3.9770603, 5.0547333, 4.0883910000000006, 5.848021, 3.8643055, 1.8977892, 1.9777061, 4.044849, 4.2032228, 4.112685, 4.350299, 4.1811385, 3.9388094, 3.8979695, 6.041537, 4.1038938, 1.9520217, 3.6925097, 3.914708, 6.3255854000000005, 2.5945268, 4.118489, 3.9161038, 0.23723528, 3.9187396, 3.740014, 3.8925693, 3.8107514, 3.8995554, 3.9394686, 6.2095013, 4.1488190000000005, 3.9045324, 3.6779559, 3.593952, 3.4664888, 3.843416, 3.896312, 3.9837215, 4.7655725, 3.9450958, 3.776843, 3.835765, 2.5717435, 6.6096435, 3.7983165, 3.69011, 3.614482, 6.560708, 3.7390478, 3.748813, 6.528455, 3.7699656, 3.4797046000000003, 4.783201, 2.0213153000000004, 3.9811203, 3.4673731, 4.712475, 4.805751, 4.7615027, 3.9011638, 4.665535, 4.004686, 4.1346297, 3.6863706, 3.9182956, 4.001452, 3.5052533, 3.758378500000001, 3.6518238, 3.7801988, 4.1517706, 3.9716916, 3.7285051, 3.853282, 3.876222, 3.8347206, 3.7946658, 1.9428247, 1.9106072, 3.909574, 4.666025599999999, 3.1556904, 2.7109072, 3.9907453, 4.006462, 3.9972615, 6.299946299999999, 6.359143, 6.3222427, 6.337471, 3.6706314, 6.296522599999999, 6.2886677, 6.3005323, 6.303726999999999, 6.3471293, 6.3536625, 6.308968, 6.306696400000001, 6.3062906, 6.2853146, 6.316666000000001, 3.788043, 3.689738, 3.7454665, 3.986436, 3.817915, 4.034301, 3.993926, 4.0390825, 4.0058517, 4.264421, 4.069995, 3.8664463, 1.9127251, 3.837901, 4.0372663, 4.160953, 3.928843, 4.755406400000001, 4.2218337, 4.23309, 3.9459534, 4.7477317, 3.903382, 3.8386385, 3.863756, 6.946221400000001, 5.229234, 3.476052, 4.6247015, 3.8243306000000006], \"xaxis\": \"x\", \"y\": [2.358233, 1.8886123, 1.3200912, 2.2742684, 3.2405617, 1.3061461, 0.9738134, 1.1376339, 2.209605, 0.6516038000000001, 1.4026457, 1.2330388, 0.9783892, 0.33582175, 0.52295464, 0.74323684, 0.35602146, 2.616177, 0.6448656, 1.2034409, 1.9169563000000005, 1.4091792, 1.2434442, 1.6593072, 1.2897475, 1.1130928999999998, 2.1358545, 1.3365079, 0.34281576, 1.5897675, 2.301645, 2.16603, 11.414894, 0.32018068, 1.3777628999999998, 0.33927748, 2.486724, 4.0660157, 4.108999, 2.2861001, 1.0653656, 1.248446, 1.5400559, 1.9502742, 1.6055191999999998, 0.75478214, 0.8192707, 0.9058591, 0.7983302, 0.8300816999999999, 0.82054275, 0.9866481, 0.8714483000000001, 1.186914, 1.985012, 0.8784863000000002, 2.8087099, 2.8004029, 2.6235192000000005, 2.544481, 0.28964055, 1.9450374, 1.7212023999999997, 1.6977043, 0.8737345, 1.1915209, 0.4626083, 0.6545305, 1.1254863000000002, 2.3331807, 1.1527666, 1.184595, 2.525289, 1.4246079, 3.342149, 0.7282933000000001, 1.2026772, 2.6795545, 0.9762696, 0.99844474, 2.6700664, 1.465013, 2.3644, 1.6079761, 1.0008999, 0.7107269, 1.2520563999999998, 1.056631, 0.65797025, 0.33602363, 0.7998835, 1.0149455, 1.1474783000000002, 2.4551792000000003, 1.4709383, 0.95459694, 1.0401201999999998, 1.0409349, 1.0213145, 0.72968173, 3.210424, 0.3209097, 0.39676788, 2.5852711, 0.37244037, 1.1936166, 1.3193437, 1.2950058, 0.8898748, 1.0399276, 2.3392766, 1.211154, 0.8472101000000001, 1.1314512, 0.9848429, 1.4702325, 1.2374661, 2.7001886, 0.9134571, 1.0897636, 2.829747, 4.2200727, 1.3022412, 1.1120209, 0.91482186, 1.3483398000000002, 1.1227413, 1.2146013, 1.1243852, 2.32032, 1.3318864, 2.0167904, 1.4957631, 1.1495094, 1.329898, 0.32496515, 3.2442330000000004, 1.0238818, 1.0476233, 1.4085209, 2.0841181, 2.0769954, 4.195711, 7.727771799999999, 0.5942856, 1.2104499, 1.1520925, 1.077707, 1.3227131, 0.7791245, 2.580553, 0.34474614, 1.2987291, 2.825717, 1.1469638, 2.0380805, 4.3822227, 1.4294701, 1.3843925, 0.76570696, 0.62883484, 0.59654677, 1.1773597, 2.3079386000000004, 0.9169736, 0.7038460999999999, 1.9597449, 2.6500046000000004, 7.028826700000001, 6.9891877, 3.2709246, 2.8129654, 2.0375686, 1.3409127, 1.5730003, 1.2469176000000002, 1.5389745, 0.67771995, 0.83294576, 1.2619126, 2.5183322, 1.3199823, 1.2875533, 0.5891524, 1.3849459, 2.5138226, 2.4620697, 1.0368279, 1.8693552, 0.5755428000000001, 0.5925158, 0.99361074, 1.1771165, 1.0985979, 2.0829964, 1.206344, 1.299993, 0.958963, 1.1661025, 3.1678097000000003, 2.0187945, 1.1952833, 0.73475313, 2.3959935000000003, 2.5777726000000003, 1.417769, 4.482042, 2.5383835, 1.0736523, 1.2483345, 1.0011623, 1.2913039, 1.2646515, 1.1301, 1.1751881000000002, 1.0586137, 0.8724124, 2.6189678, 1.2002779, 1.2137085, 1.1950011, 2.1256704, 0.397147, 1.3235997, 2.768982, 2.340962, 1.1172786, 1.2895843, 1.2440776000000002, 4.486374400000001, 1.311281, 0.8823396000000001, 0.8407450999999999, 1.30146, 0.70198786, 1.3012908, 1.1937311000000002, 2.109152, 2.620178, 1.3509032, 1.3635285, 1.2279327, 0.66362906, 1.3730632, 1.3292481000000005, 2.5273347000000004, 1.574662, 0.989225, 1.069866, 1.0461167, 1.1476524, 1.0082843, 3.2739613, 1.5202316, 3.2927697, 0.31384936, 0.3433649, 4.486954, 1.4503386, 2.7730923, 1.1931676000000002, 1.2381417, 2.326304, 0.3457118, 0.38367143, 1.298778, 1.1492277, 1.2707913, 2.6078842, 3.1659740000000003, 6.5509224, 3.24676, 1.9225138, 0.74963725, 0.6098601, 1.0333632, 2.6333663, 0.58351254, 0.6093688, 1.1976831, 2.7557373, 1.9728317, 0.63416547, 2.1999223, 2.0788534, 1.0982529, 0.6577887, 1.0807683, 0.61345774, 0.7997954, 8.816355999999999, 4.8674335, 1.0573615, 1.2719173, 1.4386283000000002, 1.4365286, 3.2671294, 1.5405779, 3.3100120000000004, 1.4817401, 3.3578165, 1.2257782, 1.4563834999999998, 1.4305093, 2.4545536, 1.390166, 1.355523, 1.8368307, 1.2930583, 1.422089, 1.1630518, 0.92595136, 1.3110971000000002, 1.4562469, 1.3557787, 0.6352914000000001, 0.2998116, 8.827366, 1.3942487, 1.0474254, 7.749060000000001, 2.4021227, 1.2023731000000002, 1.1970633, 2.2720473, 0.58959347, 0.63039696, 5.534907, 2.1105561, 0.6392519, 2.3065963, 1.3591228000000002, 2.1156318, 1.3428327, 1.3977308000000002, 0.7988774000000001, 1.9940503, 0.59377706, 1.063726, 1.0750245, 8.832351, 7.747683500000001, 1.2233934, 1.2619774, 1.3963159, 4.081718, 1.3346579, 1.3494332, 4.0802693, 1.3895464, 1.0730497, 1.9946351, 1.3960608, 2.6260905, 2.0055077, 1.9073668, 2.0009754, 1.9795, 2.552302, 1.9247599, 0.8847902, 1.3770678, 1.2588905, 0.6123172, 2.6323667, 2.1672072, 1.376608, 1.20782, 1.8281258, 0.54942775, 1.2677847, 1.51728, 1.1850516000000002, 1.1427671, 1.2010986, 1.1042979, 1.4950186, 1.4502354, 2.5361876, 1.9259558, 2.9896095000000003, 3.103153, 0.5714397, 0.60290724, 0.6149179, 0.34335682, 0.29889503, 0.32572052, 0.550623, 1.284882, 0.32843167, 0.43537235, 0.3625498, 0.33573896, 0.39070812, 0.30648723, 0.35606194, 0.33102825, 0.34819943, 0.4208548, 0.34101284, 0.7460772, 1.2266796, 1.1054823, 0.69158936, 2.4264474, 2.6682189, 1.2584171, 2.7185783, 1.660017, 1.560784, 1.3065944, 2.5760763, 1.4405332, 1.2206343000000002, 0.7947510999999999, 1.5399944, 0.55665636, 1.9622896, 1.8236754, 1.0717188999999998, 3.1836078, 1.9688826, 1.2111709, 1.1950766000000002, 1.0854508, 4.528787, 4.345805, 1.2841107, 1.8738549, 2.6262386], \"yaxis\": \"y\"}, {\"customdata\": [[\"\\\"jackin house\\\"\"], [\"\\\"womens choir\\\"\"], [\"8-bit\"], [\"abstract\"], [\"abstract beats\"], [\"abstract idm\"], [\"abstractro\"], [\"acid house\"], [\"acid idm\"], [\"acid jazz\"], [\"acid techno\"], [\"acid trance\"], [\"african gospel\"], [\"african percussion\"], [\"afro house\"], [\"afro psych\"], [\"afrobeat\"], [\"afrobeat fusion\"], [\"afroswing\"], [\"ai\"], [\"albanian pop\"], [\"alternative dance\"], [\"ambient\"], [\"ambient dub techno\"], [\"ambient folk\"], [\"ambient house\"], [\"ambient idm\"], [\"ambient pop\"], [\"ambient psychill\"], [\"ambient techno\"], [\"ambient trance\"], [\"arab alternative\"], [\"arab electronic\"], [\"arab groove\"], [\"arab pop\"], [\"art pop\"], [\"atlanta indie\"], [\"atmosphere\"], [\"atmospheric dnb\"], [\"aussietronica\"], [\"australian alternative pop\"], [\"australian ambient\"], [\"australian electropop\"], [\"australian indie\"], [\"australian trap\"], [\"austrian dnb\"], [\"austrian indie\"], [\"austrian pop\"], [\"auteur-compositeur-interprete quebecois\"], [\"azeri rap\"], [\"azontobeats\"], [\"balafon\"], [\"balearic\"], [\"balkan brass\"], [\"baltimore indie\"], [\"bansuri\"], [\"bard\"], [\"bass music\"], [\"batida\"], [\"belarusian electronic\"], [\"belarusian indie\"], [\"belarusian pop\"], [\"belarusian punk\"], [\"belarusian rock\"], [\"belgian blues\"], [\"belgian edm\"], [\"belgian electronic\"], [\"belgian indie\"], [\"belgian indie rock\"], [\"belgian rock\"], [\"belgian singer-songwriter\"], [\"belgian techno\"], [\"belly dance\"], [\"benga\"], [\"bergen indie\"], [\"big beat\"], [\"bitpop\"], [\"bmore\"], [\"bossa nova cover\"], [\"bouncy house\"], [\"braindance\"], [\"brazilian bass\"], [\"brazilian dnb\"], [\"brazilian edm\"], [\"brazilian house\"], [\"brazilian techno\"], [\"breakbeat\"], [\"breakcore\"], [\"breaks\"], [\"brega funk\"], [\"bristol electronic\"], [\"british soul\"], [\"broken beat\"], [\"bubble trance\"], [\"bulgarian electronic\"], [\"bulgarian folk\"], [\"burkinabe traditional\"], [\"burundian pop\"], [\"burundian traditional\"], [\"c64\"], [\"canadian electronic\"], [\"canadian electropop\"], [\"canadian experimental\"], [\"canadian house\"], [\"canadian post-punk\"], [\"cante flamenco\"], [\"cape verdean folk\"], [\"caracas indie\"], [\"carnatic vocal\"], [\"chaabi algerien\"], [\"chamber pop\"], [\"chamber psych\"], [\"chanson\"], [\"chanson paillarde\"], [\"chanson quebecois\"], [\"chanson virale\"], [\"chennai indie\"], [\"chicago house\"], [\"chicha\"], [\"chilean indie\"], [\"chill lounge\"], [\"chill out\"], [\"chillhop\"], [\"chillstep\"], [\"chillwave\"], [\"chiptune\"], [\"cimbalom\"], [\"cinematic dubstep\"], [\"circuit\"], [\"classic afrobeat\"], [\"classic arab pop\"], [\"classic belgian pop\"], [\"classic dubstep\"], [\"classic eurovision\"], [\"classic french pop\"], [\"classic house\"], [\"classic icelandic pop\"], [\"classic k-pop\"], [\"classic moroccan pop\"], [\"classic norwegian pop\"], [\"classic progressive house\"], [\"classic russian pop\"], [\"classic russian rock\"], [\"cologne electronic\"], [\"colombian electronic\"], [\"commons\"], [\"complextro\"], [\"congolese gospel\"], [\"copla\"], [\"country quebecois\"], [\"coverchill\"], [\"croatian electronic\"], [\"cuban electronic\"], [\"cumbia chilena\"], [\"cumbia peruana\"], [\"cumbia uruguaya\"], [\"cypriot pop\"], [\"czech electronic\"], [\"czech hip hop\"], [\"czsk hip hop\"], [\"czsk reggae\"], [\"dabke\"], [\"dance-punk\"], [\"danish alternative rock\"], [\"danish electronic\"], [\"danish electropop\"], [\"danish experimental\"], [\"danish indie\"], [\"danish techno\"], [\"danseband\"], [\"darbuka\"], [\"dark disco\"], [\"dark hardcore\"], [\"dark psytrance\"], [\"dark techno\"], [\"darkstep\"], [\"darksynth\"], [\"deconstructed club\"], [\"deep ambient\"], [\"deep breakcore\"], [\"deep chill\"], [\"deep chill-out\"], [\"deep darkpsy\"], [\"deep disco house\"], [\"deep dnb\"], [\"deep downtempo fusion\"], [\"deep dubstep\"], [\"deep euro house\"], [\"deep filthstep\"], [\"deep funk house\"], [\"deep gothic post-punk\"], [\"deep happy hardcore\"], [\"deep hardtechno\"], [\"deep house\"], [\"deep idm\"], [\"deep italo disco\"], [\"deep liquid\"], [\"deep liquid bass\"], [\"deep minimal techno\"], [\"deep neo-synthpop\"], [\"deep psytrance\"], [\"deep rai\"], [\"deep soul house\"], [\"deep techno\"], [\"deep vocal house\"], [\"demoscene\"], [\"dessin anime\"], [\"destroy techno\"], [\"detroit house\"], [\"detroit indie\"], [\"detroit techno\"], [\"dhrupad\"], [\"digital hardcore\"], [\"disco house\"], [\"djembe\"], [\"doomcore\"], [\"downtempo\"], [\"downtempo bass\"], [\"downtempo fusion\"], [\"drama\"], [\"drift\"], [\"drill and bass\"], [\"drone ambient\"], [\"drum and bass\"], [\"drumfunk\"], [\"dub techno\"], [\"dubsteppe\"], [\"dusseldorf indie\"], [\"dutch dnb\"], [\"dutch experimental\"], [\"dutch experimental electronic\"], [\"dutch tech house\"], [\"edmonton indie\"], [\"egyptian pop\"], [\"egyptian traditional\"], [\"electra\"], [\"electro house\"], [\"electro jazz\"], [\"electro swing\"], [\"electro trash\"], [\"electro-pop francais\"], [\"electroclash\"], [\"electrofox\"], [\"electronica\"], [\"electronica chilena\"], [\"electronica peruana\"], [\"electropop\"], [\"electropowerpop\"], [\"essex indie\"], [\"etherpop\"], [\"ethnomusicology\"], [\"ethnotronica\"], [\"euro hi-nrg\"], [\"eurobeat\"], [\"euskal musica\"], [\"euskal rock\"], [\"eventyr\"], [\"experimental bass\"], [\"experimental house\"], [\"experimental jazz\"], [\"experimental poetry\"], [\"experimental pop\"], [\"experimental r&b\"], [\"experimental synth\"], [\"experimental techno\"], [\"experimental vocal\"], [\"fake\"], [\"fidget house\"], [\"filter house\"], [\"finnish electro\"], [\"finnish electronic\"], [\"finnish experimental\"], [\"finnish jazz\"], [\"finnish modern jazz\"], [\"finnish techno\"], [\"flamenco\"], [\"flamenco fusion\"], [\"flamenco urbano\"], [\"flemish folk\"], [\"float house\"], [\"fluxwork\"], [\"focus beats\"], [\"focus trance\"], [\"folclor afrocolombiano\"], [\"folklore chileno\"], [\"folklore peruano\"], [\"folktronica\"], [\"footwork\"], [\"forest psy\"], [\"francoton\"], [\"frankfurt electronic\"], [\"french dnb\"], [\"french folk pop\"], [\"french garage rock\"], [\"french indie folk\"], [\"french indie pop\"], [\"french indietronica\"], [\"french movie tunes\"], [\"french pop\"], [\"french psychedelic\"], [\"french punk\"], [\"french rock\"], [\"french shoegaze\"], [\"french synthpop\"], [\"french tech house\"], [\"french techno\"], [\"frenchcore\"], [\"full on\"], [\"funk carioca\"], [\"funk mexicano\"], [\"funky breaks\"], [\"funky house\"], [\"funky tech house\"], [\"future ambient\"], [\"future bass\"], [\"future garage\"], [\"gabba\"], [\"gaming edm\"], [\"garage rock mexicano\"], [\"garifuna folk\"], [\"georgian pop\"], [\"german dance\"], [\"german dnb\"], [\"german electronica\"], [\"german house\"], [\"german post-rock\"], [\"german tech house\"], [\"german techno\"], [\"german trance\"], [\"ghent indie\"], [\"ghoststep\"], [\"glitch\"], [\"glitch beats\"], [\"glitch hop\"], [\"glitch pop\"], [\"goa psytrance\"], [\"gothenburg indie\"], [\"gotlandsk musik\"], [\"greek house\"], [\"greek indie\"], [\"greek indie rock\"], [\"greek swing\"], [\"greek techno\"], [\"griot\"], [\"groove room\"], [\"guatemalan pop\"], [\"guided meditation\"], [\"guinean pop\"], [\"gumbe\"], [\"gypsy fusion\"], [\"haitian dance\"], [\"haitian gospel\"], [\"halftime dnb\"], [\"hamburg electronic\"], [\"hamilton on indie\"], [\"hangpan\"], [\"hard trance\"], [\"hardcore breaks\"], [\"hardcore techno\"], [\"hardstyle\"], [\"hi-tech\"], [\"highlife\"], [\"hindi indie\"], [\"hindustani classical\"], [\"hindustani instrumental\"], [\"hindustani vocal\"], [\"hip hop galsen\"], [\"hip-hop experimental\"], [\"histoire pour enfants\"], [\"hokkaido indie\"], [\"house argentino\"], [\"hungarian folk\"], [\"hungarian techno\"], [\"hypnosis\"], [\"icelandic electronic\"], [\"icelandic experimental\"], [\"icelandic folk\"], [\"icelandic indie\"], [\"icelandic metal\"], [\"icelandic pop\"], [\"icelandic singer-songwriter\"], [\"igbo traditional\"], [\"illbient\"], [\"indian classical\"], [\"indian electronic\"], [\"indian folk\"], [\"indian fusion\"], [\"indian indie\"], [\"indian instrumental rock\"], [\"indian percussion\"], [\"indian rock\"], [\"indie electronica\"], [\"indie electropop\"], [\"indie folk argentino\"], [\"indie siciliano\"], [\"indie soul\"], [\"indietronica\"], [\"industrial hardcore\"], [\"industrial techno\"], [\"intelligent dance music\"], [\"iranian metal\"], [\"irish electronic\"], [\"irish hip hop\"], [\"irish techno\"], [\"irish underground rap\"], [\"israeli indie\"], [\"israeli singer-songwriter\"], [\"israeli techno\"], [\"italian electronica\"], [\"italian experimental\"], [\"italian lounge\"], [\"italian techno\"], [\"j-acoustic\"], [\"j-ambient\"], [\"j-idol\"], [\"j-pop girl group\"], [\"j-punk\"], [\"j-rap\"], [\"j-rock\"], [\"jacksonville indie\"], [\"japanese alternative pop\"], [\"japanese beats\"], [\"japanese chillhop\"], [\"japanese dream pop\"], [\"japanese electronic\"], [\"japanese electropop\"], [\"japanese girl punk\"], [\"japanese idm\"], [\"japanese indie pop\"], [\"japanese instrumental\"], [\"japanese jazz fusion\"], [\"japanese jazztronica\"], [\"japanese old school hip hop\"], [\"japanese pop punk\"], [\"japanese punk rock\"], [\"japanese techno\"], [\"japanese traditional\"], [\"japanese vocal jazz\"], [\"jaw harp\"], [\"jazz house\"], [\"jazztronica\"], [\"jazzy dnb\"], [\"jersey club\"], [\"jordanian pop\"], [\"juju\"], [\"jump up\"], [\"jungle\"], [\"kaseko\"], [\"kawaii future bass\"], [\"kayokyoku\"], [\"kenyan pop\"], [\"khaliji\"], [\"kids hip hop\"], [\"kirtan\"], [\"kizomba\"], [\"kizomba antigas\"], [\"kleinkunst\"], [\"kompa\"], [\"korean instrumental\"], [\"kuduro antigo\"], [\"kundalini\"], [\"latin alternative\"], [\"latin house\"], [\"latin ska\"], [\"latin surf rock\"], [\"latin tech house\"], [\"latintronica\"], [\"latinx alternative\"], [\"leipzig electronic\"], [\"liquid funk\"], [\"lithuanian electronic\"], [\"lithuanian hip hop\"], [\"livetronica\"], [\"lo-fi beats\"], [\"lo-fi house\"], [\"lounge house\"], [\"macedonian folk\"], [\"mainland se asia metal\"], [\"makossa\"], [\"malagasy folk\"], [\"malagasy pop\"], [\"manchester hip hop\"], [\"marathi traditional\"], [\"marrabenta\"], [\"mashup\"], [\"mathgrind\"], [\"mbalax\"], [\"mbira\"], [\"meditation\"], [\"melbourne bounce\"], [\"melodic techno\"], [\"melodipop\"], [\"metropopolis\"], [\"mexican edm\"], [\"mexican electronic\"], [\"mexican experimental\"], [\"microhouse\"], [\"midwest americana\"], [\"minimal dnb\"], [\"minimal dub\"], [\"minimal dubstep\"], [\"minimal tech house\"], [\"minimal techno\"], [\"minneapolis indie\"], [\"modern dream pop\"], [\"modern electroacoustic\"], [\"modular synth\"], [\"modular techno\"], [\"mongolian folk\"], [\"monterrey indie\"], [\"moorish traditional\"], [\"morna\"], [\"moroccan traditional\"], [\"multidisciplinary\"], [\"munich electronic\"], [\"munich indie\"], [\"musica afroperuana\"], [\"musica angolana\"], [\"musica aragonesa\"], [\"musica brasiliense\"], [\"musica cabo-verdiana\"], [\"musica hondurena\"], [\"musica mocambicana\"], [\"musica prehispanica\"], [\"musique guadeloupe\"], [\"musique mandingue\"], [\"musique peule\"], [\"musique pour enfants\"], [\"musique touareg\"], [\"musique traditionnelle congolaise\"], [\"nantes indie\"], [\"narodna muzika\"], [\"nederlandse hardstyle\"], [\"neo-classical\"], [\"neo-kraut\"], [\"neo-synthpop\"], [\"neotango\"], [\"neurofunk\"], [\"neurostep\"], [\"new delhi indie\"], [\"new french touch\"], [\"new orleans indie\"], [\"new rave\"], [\"new tribe\"], [\"ngoni\"], [\"ninja\"], [\"nintendocore\"], [\"nitzhonot\"], [\"noel quebecois\"], [\"nordic ambient\"], [\"norsk lovsang\"], [\"norske viser\"], [\"norwegian experimental\"], [\"norwegian folk rock\"], [\"norwegian gospel\"], [\"norwegian house\"], [\"norwegian indie\"], [\"norwegian pop\"], [\"norwegian psychedelic\"], [\"norwegian singer-songwriter\"], [\"norwegian space disco\"], [\"norwegian techno\"], [\"nottingham indie\"], [\"nouvelle chanson francaise\"], [\"nu disco\"], [\"nu gaze\"], [\"nu jazz\"], [\"nu skool breaks\"], [\"nu-cumbia\"], [\"nubian traditional\"], [\"nz dnb\"], [\"nz electronic\"], [\"nz reggae\"], [\"okinawan folk\"], [\"old school hard trance\"], [\"old school uk hip hop\"], [\"organic electronic\"], [\"organic house\"], [\"pakistani folk\"], [\"persian alternative\"], [\"persian electronic\"], [\"peruvian indie\"], [\"pittsburgh indie\"], [\"polish electronica\"], [\"polish experimental\"], [\"polish experimental electronic\"], [\"polish indie\"], [\"polish indie rock\"], [\"polish noise rock\"], [\"polish post-rock\"], [\"polish synthpop\"], [\"polish techno\"], [\"pop ambient\"], [\"pop teen brasileiro\"], [\"popwave\"], [\"porro\"], [\"portuguese techno\"], [\"poznan indie\"], [\"progressive breaks\"], [\"progressive psytrance\"], [\"psybass\"], [\"psybreaks\"], [\"psychedelic pop\"], [\"psychedelic trance\"], [\"psychill\"], [\"psychokore\"], [\"psydub\"], [\"psytech\"], [\"puglia indie\"], [\"punk euskera\"], [\"punk melodico chileno\"], [\"punta\"], [\"punta rock\"], [\"purple sound\"], [\"pygmy music\"], [\"qawwali\"], [\"queercore\"], [\"ragga jungle\"], [\"rajasthani folk\"], [\"rajasthani pop\"], [\"rap antillais\"], [\"rap chileno\"], [\"rap euskera\"], [\"rap marseille\"], [\"rap underground espanol\"], [\"rave\"], [\"raw techno\"], [\"rawstyle\"], [\"reggae peruano\"], [\"relaxative\"], [\"rennes indie\"], [\"retro soul\"], [\"rhode island indie\"], [\"rock alternatif francais\"], [\"rock chapin\"], [\"rock mineiro\"], [\"rogaland indie\"], [\"rogaland musikk\"], [\"romanian electronic\"], [\"rumba\"], [\"rumba catalana\"], [\"rumba congolaise\"], [\"russelater\"], [\"russian alternative rock\"], [\"russian dnb\"], [\"russian electronic\"], [\"russian emo rap\"], [\"russian experimental electronic\"], [\"russian hip hop\"], [\"russian indie\"], [\"russian indie rock\"], [\"russian jazz\"], [\"russian old school hip hop\"], [\"russian post-punk\"], [\"russian reggae\"], [\"russian rock\"], [\"russian synthpop\"], [\"russian techno\"], [\"russian thrash metal\"], [\"russian trap\"], [\"russian underground rap\"], [\"ruta destroy\"], [\"ryukyu ongaku\"], [\"salzburg indie\"], [\"sambass\"], [\"san antonio indie\"], [\"sarangi\"], [\"sarod\"], [\"schranz\"], [\"scottish electronic\"], [\"scottish hip hop\"], [\"scottish techno\"], [\"scratch\"], [\"sefardi\"], [\"semba\"], [\"senegalese traditional\"], [\"serbian folk\"], [\"sevdah\"], [\"sevillanas\"], [\"shakuhachi\"], [\"shamanic\"], [\"shehnai\"], [\"shimmer pop\"], [\"shimmer psych\"], [\"siberian folk\"], [\"sierra leonean pop\"], [\"singing bowl\"], [\"slovak electronic\"], [\"slovak hip hop\"], [\"slovenian electronic\"], [\"solipsynthm\"], [\"somatik techno\"], [\"soukous\"], [\"soulful house\"], [\"south african alternative\"], [\"south african choral\"], [\"south african deep house\"], [\"south african electronic\"], [\"south african house\"], [\"south african modern jazz\"], [\"south sudanese pop\"], [\"space ambient\"], [\"spacewave\"], [\"spanish electronic\"], [\"spanish electropop\"], [\"spanish hip hop\"], [\"spanish techno\"], [\"speedcore\"], [\"stateside dnb\"], [\"substep\"], [\"sungura\"], [\"sunnlensk tonlist\"], [\"suomisaundi\"], [\"swedish electronic\"], [\"swedish electropop\"], [\"swedish house\"], [\"swedish indie folk\"], [\"swedish post-punk\"], [\"swedish singer-songwriter\"], [\"swedish synth\"], [\"swedish synthpop\"], [\"swedish techno\"], [\"swiss house\"], [\"swiss jazz\"], [\"swiss techno\"], [\"synthwave\"], [\"synthwave brasileiro\"], [\"syrian pop\"], [\"taiwan experimental\"], [\"tanzanian pop\"], [\"tanzanian traditional\"], [\"tassie indie\"], [\"tech house\"], [\"techno\"], [\"techno argentina\"], [\"tekk\"], [\"tekno\"], [\"terrorcore\"], [\"thai metal\"], [\"thai rock\"], [\"throat singing\"], [\"tibetan pop\"], [\"tibetan traditional\"], [\"tijuana electronic\"], [\"tone\"], [\"trance brasileiro\"], [\"trance mexicano\"], [\"traprun\"], [\"trip hop\"], [\"tuareg guitar\"], [\"turkish edm\"], [\"turkish electronic\"], [\"turkish instrumental\"], [\"tuvan folk\"], [\"twin cities indie\"], [\"twoubadou\"], [\"uk dancehall\"], [\"uk dnb\"], [\"uk drill\"], [\"uk experimental electronic\"], [\"uk funky\"], [\"uk hip hop\"], [\"uk house\"], [\"uk tech house\"], [\"ukg revival\"], [\"ukrainian electronic\"], [\"ukrainian experimental\"], [\"ukrainian rock\"], [\"uptempo hardcore\"], [\"vapor soul\"], [\"vapor twitch\"], [\"variete francaise\"], [\"venezuelan hip hop\"], [\"via\"], [\"vienna indie\"], [\"vintage radio show\"], [\"vlaamse cabaret\"], [\"vlaamse kinderliedje\"], [\"vlaamse rap\"], [\"vocal house\"], [\"vogue\"], [\"warm drone\"], [\"warrington indie\"], [\"wassoulou\"], [\"weightless\"], [\"weirdcore\"], [\"west african jazz\"], [\"west-vlaamse hip hop\"], [\"western saharan folk\"], [\"wonky\"], [\"world\"], [\"world chill\"], [\"world devotional\"], [\"world fusion\"], [\"xhosa\"], [\"xtra raw\"], [\"ye ye\"], [\"zambian hip hop\"], [\"zim hip hop\"], [\"zim urban groove\"], [\"zouk\"], [\"zouk riddim\"]], \"hovertemplate\": \"supergenre=electronica<br>emb1=%{x}<br>emb2=%{y}<br>genre=%{customdata[0]}<extra></extra>\", \"legendgroup\": \"electronica\", \"marker\": {\"color\": \"#19d3f3\", \"size\": 6, \"symbol\": \"circle\"}, \"mode\": \"markers\", \"name\": \"electronica\", \"showlegend\": true, \"type\": \"scattergl\", \"x\": [0.1395231, 2.375617, 5.565639, 1.2082924, 0.024021886, 1.1639608, 0.90486383, 0.9505106, 1.0750699, 1.1389805, 0.9712841, 0.4577245, 0.85770947, 1.015447, 0.33097667, 1.1903975, 1.2725173, 1.21905, -0.16727109, 2.509193, 2.0275276, 2.3615794, 1.4816132, 1.0565975, 3.3640556000000004, 0.9580494, 1.2902161, 1.2830653, 0.9194629, 1.1393955, 0.91841936, 5.915149700000001, 0.55525047, 6.164664, 6.1723094000000005, 3.0379748, 3.7301621, 4.8063507, -0.079158634, 1.9428385, 1.6955353, 1.6291653999999998, 2.1992755, 2.2114522, -0.089241, -0.118443154, 3.573881, 3.509643, 4.6592035, -0.8288383, 0.7694095999999999, 0.9678569, 1.8171345, 7.094655, 3.2956939, 6.5639460000000005, 6.3032613, 0.3766098, 1.0888788, 6.338582499999999, 6.3245735, 6.303883, 6.343735, 6.328037999999999, 1.7846806, 1.7910413, 1.7416619999999998, 1.7391505, 1.771462, 1.764403, 6.4051347000000005, 0.6963835, 6.097001000000001, 0.88418955, 5.836166400000001, 0.49511042, 6.031708999999999, 0.7970316999999999, 0.6785753000000001, -0.5391083999999999, 1.0733534, -0.0068745733999999, -0.06891223, 0.070786506, 0.99008775, 0.8241475, 0.06707961, 1.0102549, -0.012971466, 1.078908, 0.15071622, 1.3458183, 0.49209282, 0.43456548, 0.5926629, 2.4053411, 0.9965582, 1.0227928, 1.0196321, 3.0195796, 0.45896918, 2.4246964, 1.6023493, 0.2683110999999999, 2.7950253, -4.674649700000001, 0.882116, -4.272368, 6.723121000000001, 5.914680000000001, 3.4947102, 3.6217341, 6.4525023, 6.4987526, 4.6437035, 6.4158025, 6.916640299999999, 0.72847015, -3.760837, -4.602448000000001, 0.82264197, 0.8155908000000001, 0.019251255, 0.20020041, 2.746651, 5.5554223, 7.127391, 0.41809413, 0.24800573, 1.1373216999999998, 5.9226027000000006, 1.8168528, 0.17674306, 6.088341000000001, 6.4554725, 0.22188951, 2.2425787, 0.42659226, 6.272221, 5.880171, 0.4803630999999999, 6.215053599999999, 6.2455683, 0.99603397, 0.932394, 4.081133400000001, -0.06609579, 0.9416504, -4.6492796, 6.432136, 0.67829096, 1.8515095, 0.18039826, -4.595749, -3.785131, -4.6137385, 1.3708280000000002, 1.1229591, 6.443973000000001, 6.409155999999999, 6.1128955000000005, 6.212031, 2.8358397, 3.03273, 1.1165545, 1.1317492, 1.0352442, 2.802637, 0.9967196, 5.8625703, 6.013063400000001, 1.5455571, -0.61290354, 0.64813596, 0.82571685, -0.066294454, 1.430592, 1.2258321, 1.6154316999999998, 1.0644506, 0.8998972, 6.374768, 0.659866, 0.58106977, -0.050606687, 0.7094059, 0.1562377, 0.7628246999999999, 0.78942096, 0.27251515, 2.8836713, -0.63802844, 0.7387569, 0.28578696, 1.1514938, 2.3363976, 0.0157749989999999, -0.0116298539999999, 0.6085941999999999, 2.4290798, 0.6102327, -0.19256057, 0.80630535, 0.978031, 0.23587695, 3.0477996, 6.457404599999999, 1.0312581, 0.8674527, 2.4844072, 0.91503745, 6.5970807, 6.394596, 0.18157119, 1.0054759, -0.64689606, 0.75742954, 0.81300116, 0.94719136, -0.19115297, 1.6468835, 0.998088, 1.6539717, -0.13326472, -0.11201928, 1.0780808000000002, -0.13478324, 1.1477128, -0.04926706, 1.6522628, 4.931616, 0.3666281, 2.8919246, 6.1873612, 5.9399114, 1.0232306, 0.011591347, 0.71964264, 0.82548124, 2.4025812, 2.0396988, 2.3574011, 2.2064133, 1.0243943000000002, 1.1061311000000005, -3.4718947, 1.8403069, 2.7527263, 2.6054688, 2.8042727000000003, 1.1955341, 0.7942234, 0.22480145, 6.6762886, -4.372853, -4.291195, 5.895455999999999, 0.4330529, 0.87111604, 0.74486446, 3.203061, 2.6832385, 2.4746518, 1.3489565, 1.2333405000000002, 2.478751700000001, -0.53017956, 0.19424571, 1.7132272000000002, 4.825206, 0.5916583000000001, 1.3497397, 4.7608120000000005, 4.7466297, 1.2585031, -4.655778400000001, -4.639801, -4.6730323, 1.7983668000000002, 0.9120873, 1.1306322, 0.0066531132999999, 0.7094942, -3.8965256, -4.615596, 0.8834139000000001, 2.4094617, 0.38480523, 0.6566366, 6.436844000000001, 0.8525495999999999, -0.122219555, 6.3439293, 6.358242, 4.703663, 6.3610783, 6.378674500000001, 0.746347, 6.4226527, 6.3835144, 6.344744, 6.352333, 2.3810709, 6.3988814000000005, 0.97746515, 1.4672048, -0.6579729, 0.64076823, 1.0751743, -4.36042, 1.5651522, 0.20108084, 0.22682184, 1.3666502, 0.43430626, 0.34047028, -0.63564503, 0.00021471693, -4.3841476, 0.9041252, 0.85227025, 0.5289245, -0.040504687, 1.2884225, 0.756367, 1.2842383, 0.80174446, 0.6829271, 0.4100152, 1.7550366000000002, 0.3298092999999999, 1.2284959999999998, 1.2514789, 0.49896774, 1.4084351000000002, 0.6937584, 2.3105006, 4.490247, 0.5595456999999999, 1.5755624, 1.6157648999999998, 1.6029751, 0.96102524, 0.95767075, 0.586691, -4.4657755, 5.059108999999999, 0.97514015, 1.0138248, 7.0923295, 0.7505503000000001, 0.95095754, 0.39973187, 0.6391331, 2.506523, 5.221914, 0.45871994, -0.38004315, -0.511861, -0.6789433000000001, 0.6625209, 1.0072331, 6.9168363, 6.6423335, 6.61305, 6.799440400000001, 0.49883488, 0.86216915, 6.4205613, 6.6488943, 0.92957854, 7.1988864, 0.43383884, 5.0786858, 1.9092135, 2.3496490000000003, 2.2563941, 2.2503362, 5.906741, 2.222261, 2.2562962000000004, 1.013514, 0.77430713, 6.6445537, 6.8506026, 7.126750500000001, 6.890316499999999, 6.882489, 6.9232830000000005, 6.641247, 6.9311867, 1.1933753, 1.7647626, 0.7341375, 6.561430499999999, 1.0510981, 2.437768, -0.63458836, 0.9591062, 1.0865773, 6.1332474, -0.56534857, -0.053388447, 0.93208545, -0.085316926, 1.4476101, 6.743092, 0.79782575, -3.8103225, 1.4846933999999998, 0.74659157, 0.82501936, 6.4517217, 1.3673805, 6.4481316, 6.480706, 6.713092, 6.3039203, 6.6744776, 2.3852832000000004, 2.5096245, 0.068404496, 0.05598713, 6.1946287, 1.3702875, 6.3222466, 6.6758647, 1.2600147, 1.3670499, 6.659826299999999, 6.1907697, 6.1653786, 0.2585184, 6.641636, 6.700963499999999, 1.2079704, 6.3739605, 0.7335718000000001, 2.416282, 0.77795565, 0.77435154, -0.11535903, 0.16239132, 6.177242, 1.0750196, -0.16976719, -0.15428059, -0.58807355, 0.036521867, 6.443985, 0.90089464, 5.8883605, 0.016442925, 5.13006, 0.69943464, 0.7059346, 1.7934542000000002, 0.7353272, 1.5469649, 1.0395696, 5.113168, -4.3071365, 0.19875097, -4.1524663, -4.3043666, 0.2699176, -3.7927399, -4.420510299999999, 0.8235574000000001, -0.06028914, 1.2188461000000002, 2.700969, 0.75900614, 0.01773619, 0.65819716, 1.8771459, 7.217459, 1.0076061, 0.87226266, 1.056747, 1.0789913, -0.17675422, 6.8061156, 1.0410025, 1.6949048, 5.43558, 1.0175431, 1.1041331, 5.0781245, 0.025455939, 0.8562134, 0.7586814000000001, 2.326195, 0.5934687, 1.0707568, 1.3137435, 1.0490539, 2.9626358, 0.31449002, 0.8929103, 0.14167225, 0.7505212, 0.8610558, 3.0091066000000004, 3.2799440000000004, 1.6304495, 1.1484016, 0.8675094999999999, 2.3805485, -4.31136, 1.025093, 0.81317437, 6.444468, 0.6742418, 1.0464096, 1.5349792, -3.552168, 0.76082045, -4.3990736, 0.8806572, 0.84354985, 0.8542873, 1.0124729, 5.023841, 0.6188614, 0.9834115, 0.98659635, 6.4711957, 1.0166051, 0.9859365, 6.2877727, 7.4480114, -0.5883156999999999, 1.5637293, 2.7060707, 2.4438455, 1.7637082, -0.09319371, -0.13686557, 6.8750525, 1.5563656, 6.8543270000000005, 2.5109928, 5.157984, 1.011246, 0.7032964, 5.480636, 0.6339768, 4.6483383, 1.5094658, 5.893504, 5.883564499999999, 5.7779584, 5.829448999999999, 5.8812776, 0.08329039, 5.829609400000001, 5.8365464000000005, 5.767812, 5.7993927, 1.7680552, 1.8393602, 3.3958445, 6.390077, 1.8245524, 3.4448104, 0.72131985, 0.27124748, 0.73594147, 5.933622, -0.14148153, -0.16361295, -0.40592647, 6.424405999999999, 0.40286842, 0.49908698, 0.84434867, 0.81491953, 7.2652617, 6.1741257, 0.8188065, -4.431879, 1.7767238999999997, 0.71234244, 0.82017595, 1.3654848, 2.344278, 2.3743582, 2.3832166, 2.3622234, 2.4551713, 0.93818563, 1.1080703, 1.097257, 1.7926767, -3.8427105, 0.87929857, 2.3609562000000004, 0.86587346, 0.6370686, 0.7004967, 0.22011094, 3.2126656, 0.653871, 0.85933435, -0.80650914, 0.90295595, 0.5977555, -3.8282676, -4.334448, -4.662815, 0.9090045, 0.9204734, 0.4053653, 1.1887116000000002, 7.2156982, 3.8352447, -0.17495729, 6.627373, 6.661287299999999, 0.6015484, -4.481446, -4.2462626, 6.508536, -4.030594000000001, 0.14918664, 0.81361437, -0.6683076, -3.8375828, -0.56010395, 6.397241, 1.8084596, 4.238045, 6.416641, -4.449515, 0.6590765000000001, 5.864774, 5.854499, 0.49604428, -4.63794, -4.593182, 0.8180819, 0.8098574000000001, 6.278881500000001, -0.10994154, 6.194922, 6.1812406, 1.4772142, 6.2081230000000005, 6.2774653, 6.2851467, 6.1977660000000006, 6.2529287, 6.2565637, 6.230222, 6.2354746, 6.187341, 1.0140976000000002, 1.4305903, 6.2046475, 6.2065907, 0.8857195999999999, 6.39737, 2.3118882000000003, 0.3271511, 8.12909, 6.622435, 6.615173, 0.79004544, 0.9243806999999998, 0.5620807, 0.9261796, 0.81903, 6.264757599999999, 0.89297223, 0.9687524, 7.4147797, 7.379699700000001, -4.660668, 6.3645377, 5.1363, 6.6548753, 3.2109923, 3.0101476000000003, 2.4197404, 0.86445534, 5.1877894, -0.074382134, 6.4249945, 0.82976943, 2.3575535, 6.174846, 0.8826288, 0.24710344, 0.7125611999999999, 1.0866578000000002, 0.3795002, 0.6832071999999999, 0.3585519, 1.2162079, 0.3905079999999999, 1.6341643, 1.0849231, 1.1935563, -4.3563895, -4.008973999999999, 0.6851951999999999, -0.6563273000000001, -0.11439587, 0.26114768, 1.1127039, 2.269124, 0.6458399, 0.82040215, 2.1800303, 0.037465405, 4.506836, 4.574819000000001, 4.5022793, 5.522938, 2.3253825, 0.84900135, 0.16039084, 2.080189, 5.4309306, 1.6935539000000002, 0.4670657, 6.190224, 2.7270014, 0.61562514, 1.1386359, 0.8116028000000001, 0.7426520000000001, 0.85385627, 0.9032342, -0.718015, -0.4697827, -0.61334926, 0.96186924, -0.22125264, 2.411639, 5.0321736, 5.071064499999999, 1.3640871, 5.082976, 0.64969206, 0.63713664, 0.39608535, 0.8354939, 0.97913617, 0.58225936, 6.0992565, 6.1986003, 2.4359057, 3.1557465, 0.7884116999999999, -0.16256084, -0.12793288, -0.11643389, 1.1865842, 0.19909373, -0.15752777, 0.11330251, 0.4485517, -0.1639305, 0.06446138, 0.54301775, 6.225643, -0.67335975, 1.9923692, 0.4908108, 6.435798999999999, -4.020469, 6.238233, 3.6726408, -0.21073236, 1.8800269, 1.8403133000000005, 1.7589145, 0.23996937, 0.20112464, 1.6114656, 3.0486298, 1.0483065, 0.32549974, 1.0233026, 1.0146772, 1.8050042, 0.99400276, 0.4835514, 1.0312343000000002, 6.4321012, 5.1308117, 6.3345017, 1.1475813, -0.6975131999999999, 6.4807625, 0.7057418000000001, 1.2022405, 1.1652662, 0.6493220999999999, 0.6180185], \"xaxis\": \"x\", \"y\": [6.190214599999999, 6.440167400000001, 7.762, 5.36397, 7.613266499999999, 5.47681, 5.9527470000000005, 5.961444999999999, 5.565073, 4.8570676, 5.8870635, 6.620777, 2.6467755, 3.673744, 5.8321066, 3.0468905, 3.1262574, 3.3881120000000005, 5.9375515, 6.8222466, 2.8366194, 6.657750599999999, 5.214985400000001, 5.652993700000001, 6.2624245, 5.173094, 5.5465837, 5.455757599999999, 4.564414, 5.5746293, 4.723925, 1.1741207, 6.102832, 1.2462223999999995, 1.3149292, 6.5285720000000005, 6.6440682, 2.0268867, 5.1222706, 7.058801700000001, 6.838598299999999, 5.112888, 6.819126, 7.1387186, 5.223294999999999, 5.1433334, 6.3390484, 6.3317760000000005, 5.2942204, 3.5089455000000003, 2.6947548, 3.014605, 6.415785, 4.481063, 6.7712455, 1.4445738, 11.446271, 5.5401416, 5.43752, 11.443937, 11.472207, 11.488967, 11.385957, 11.371163, 6.0962763, 6.435974, 6.180862, 6.1695156, 6.095514, 6.109721700000001, 4.10308, 6.225771, 1.338623, 2.692735, 3.534971, 5.080203, 6.4916224, 5.3401666, 4.9067717, 5.084423999999999, 5.4758945, 6.2180114, 5.11546, 5.9965763, 5.755428299999999, 6.1397114, 5.1324615, 5.481577, 5.151358, 0.13771899, 5.3571777, 7.386886599999999, 5.2261496, 6.7062445, 6.1004086, 6.432156, 3.2626622000000003, 2.9446425, 3.66972, 7.299198, 6.1467667, 6.7684880000000005, 5.318249, 6.169277, 6.749472, 6.201835, 3.001755, 5.0314093, 1.3272898000000002, 1.6374921999999998, 6.4168067, 6.616422, 4.048839, 4.120638, 5.2774105, 4.046093, 1.0545502, 6.147256, 5.066514499999999, 5.399257700000001, 5.135432700000001, 5.129800299999999, 7.612661999999999, 5.705092, 6.8323584, 7.5756416, 4.494821, 5.567643, 6.2388177, 3.034795, 1.4381137, 6.052729, 5.5797777, 3.7787023, 4.09391, 6.1761336, 6.3693647, 5.2572002, 1.4214, 3.4679174, 6.213925, 11.443309, 11.465137, 5.8217587, 5.8672, 2.7779014, 6.341586599999999, 2.639082, 6.164689, 4.079226, 4.9078946, 6.4855704, 6.210955599999999, 5.284214, 5.3372927, 5.2874007, 6.895034299999999, 5.299591, 4.1932144000000005, 4.2127995, 4.992100700000001, 1.3331885, 6.7966880000000005, 7.3062797, 5.797380400000001, 5.8350706, 5.771012000000001, 7.137778999999999, 5.7952185, 3.4929008, 1.3787689, 6.2478848, 5.021194, 4.500862000000001, 6.0736513, 5.1879053, 6.5096955, 5.554705599999999, 5.138038, 5.45166, 5.121003, 1.5496813, 4.52998, 6.0263615, 5.2278404, 5.120346, 5.396095, 5.959219, 5.220903400000001, 6.135191000000001, 6.942060000000001, 5.142317, 6.184281, 6.0421586, 5.4942627, 5.9016123, 5.1614485, 5.121201, 6.062313, 6.758530599999999, 4.574949299999999, 5.192825, 5.925886, 5.878429, 6.283674, 7.273461999999999, 4.0277314, 6.390343, 5.934117, 6.7640185, 6.0379596, 1.389646, 6.067068, 6.2144556, 3.7072744, 5.003978, 5.059906, 5.007634599999999, 4.55114, 5.193975, 5.1120257, 5.5233235, 5.162531, 5.17662, 5.1707315000000005, 5.6830225, 5.134445, 5.49545, 5.1958976, 5.0511885, 5.7090797, 6.1797385, 6.734091, 1.3145132, 1.0199829, 5.912804, 6.324097599999999, 4.978832, 5.132162, 6.737696000000001, 6.7596855, 6.7365456, 6.639100999999999, 5.6065316, 5.8250910000000005, 5.6627746, 6.971256299999999, 6.834906599999999, 6.84345, 6.312989, 2.9389057000000003, 6.083507, 6.233386, 5.9331713, 5.305479, 5.4965873, 3.4555829, 5.5272593, 5.918669, 5.023872, 2.1720555, 6.5035458, 6.6044292, 5.144149, 6.0823426, 6.4183445, 5.0767083, 6.1186485, 6.4306602, 10.635451, 5.278374, 5.4127088, 10.554889, 10.546155, 5.3905015, 6.181108999999999, 6.131283799999999, 6.1942363, 6.1144047, 5.8691587, 5.6028786, 7.5958743, 6.0844994, 4.8886476, 5.310874, 2.9607334, 6.4265265, 5.505234, 4.499992400000001, 3.9913642, 6.1602163, 5.146938, 4.057985, 4.0420675, 5.2598395, 4.139521, 4.104832, 5.007193, 4.0689907, 4.147469, 4.0350366, 4.0835915, 6.7109704, 4.111288, 5.994074, 6.203023, 4.937171, 4.530242400000001, 0.1287125, 5.214734, 3.7493474, 6.189867, 6.1939754, 5.77787, 5.6712394, 5.526907, 5.0294685, 6.218547, 5.20762, 2.833242, 5.9023585, 6.675369, 5.2544656, 5.7031846, 5.940437, 5.671133, 6.0780582, 6.256055, 6.642595299999999, 6.189245, 5.576174, 5.396254, 5.7846093000000005, 5.492562, 5.723532700000001, 4.546969, 6.576145599999999, 4.0028853, 6.0547104, 6.836306, 6.8086, 6.816960000000001, 5.82066, 2.9150970000000003, 6.335361499999999, 5.1355543, 2.0427055, 2.9011014, 2.8829796, 4.4904137, 3.0120065, 2.6222372000000003, 5.523902, 6.1587133000000005, 6.7902412, 2.043831, 6.696081, 5.0822268, 5.0408916, 5.064441, 4.5368657, 2.9043996, 1.04997, 1.380668, 1.3517615, 1.243481, 2.9480734, 5.226458, 4.0597434, 6.026212999999999, 5.916572, 8.805361, 6.1209383, 2.060257, 6.1492605000000005, 6.529311, 6.365480000000001, 6.309189, 9.788551, 6.4169540000000005, 6.4480260000000005, 2.8632083, 5.2162313, 1.3587446, 1.107153, 0.90896165, 1.0738132, 1.0861245000000002, 1.0551909, 1.3617051000000002, 1.0546453000000002, 5.583449, 6.868278500000001, 5.099958999999999, 1.7495264, 7.581962599999999, 6.7108817, 5.0221887, 5.986374, 5.58098, 1.5153631, 5.119869, 5.693955, 5.9981923, 5.8274255, 3.2308753, 4.691461, 5.976275, 5.5788083, 5.390801000000001, 5.0123334, 5.9768105, 4.232163, 5.359389299999999, 6.034895, 6.095489499999999, 6.1295075, 5.9713817, 6.0233693, 6.672316, 6.698432400000001, 7.6394405, 7.5433493, 6.0307207, 5.283493, 5.9894586, 6.0918220000000005, 5.332788, 5.365333000000001, 5.674899, 5.838321700000001, 5.833122299999999, 7.256552, 6.005371, 6.0625954, 5.683232299999999, 1.6665738999999995, 5.0431867, 6.412403, 5.749164, 5.0173635, 5.172130999999999, 6.2657075, 1.2892506, 3.0018306, 5.202458, 5.1784005, 5.122062000000001, 7.587428999999999, 4.204126400000001, 2.7343454, 1.513041, 7.597779300000001, 2.0489610000000003, 3.0352964, 3.0462906000000003, 6.0830135, 3.0290517999999995, 5.078801, 5.3891563, 2.0725074, 5.153919999999999, 6.1575274, 5.3844028, 5.2295547, 6.201986, 5.625549299999999, 5.1129665, 5.987277, 5.105235, 5.538228, 10.289357, 4.8349686, 7.580241, 5.706279, 6.4630704, 4.461017, 5.594755999999999, 2.7055638, 2.950086, 2.947058, 5.595347, 1.2436887, 2.96956, 6.1380897, 7.5320582, 2.9094791, 2.9154441, 2.0881171000000003, 6.2679787000000005, 5.963384, 5.1572556, 6.680846000000001, 4.590908, 5.699485299999999, 5.361292, 5.7603574, 6.529562, 5.498373, 6.0032787, 5.3681035, 5.9519105, 6.011703, 6.633177000000001, 7.134367, 5.115697, 5.455133999999999, 5.967053400000001, 6.4117184, 5.093566, 2.9335325, 2.9368894, 1.2999889, 5.522463, 5.8201275, 5.886169000000001, 5.5647855, 3.0351074, 5.41352, 4.9240537, 2.9691486, 2.8088405, 2.972599, 2.1473472, 3.1408, 2.8306918, 2.8652394, 4.1001883, 2.887726, 2.9410694, 4.076521, 4.457148999999999, 5.0826235, 5.131637, 6.748937, 6.7880993, 1.7416677, 5.167632, 5.1269345, 1.0900458999999998, 6.2613053, 4.529547, 6.735932400000001, 2.0838735, 2.8795787999999995, 5.227183999999999, 7.725063, 4.5256620000000005, 5.2364435, 5.2849836, 3.4118335, 3.4930813, 3.585539, 3.5171409, 3.4526343, 6.2693157, 3.4971526, 3.4587145, 3.6011605, 3.5016491000000003, 6.3866625, 6.4358788, 6.3160267, 4.054977399999999, 6.4746723, 7.215289999999999, 5.0963097, 5.1633515, 5.043813, 1.0154414, 5.1285496, 5.080936, 3.5797315000000003, 1.5735595, 6.6856914000000005, 5.3299365, 5.9936666, 6.053726999999999, 0.76971996, 1.5303454, 6.077588, 5.336255599999999, 6.246792299999999, 5.079839, 5.244868299999999, 5.334459, 10.178296, 10.204871, 10.204306, 10.184624, 10.157947, 5.7758617, 5.6635914000000005, 0.11399842, 6.411948000000001, 4.906895, 6.0223427, 10.226468, 4.630946, 4.514872, 5.020869, 5.134956, 6.7177663, 4.5125012, 4.5506682000000005, 3.783638700000001, 4.6040096, 4.5596404, 5.5794015, 5.466408299999999, 5.294907, 2.8612580000000003, 2.8656354, 5.5358220000000005, 2.9233290000000003, 0.8259715, 6.7343535, 5.1064050000000005, 1.3661252000000002, 1.3647764, 3.1719902, 5.3571167, 5.474122, 3.8425283, 5.0775456, 5.1395555, 6.053564499999999, 5.1034865, 5.3657336, 4.961874, 4.0546165, 3.4141119, 6.708647999999999, 4.040526399999999, 5.124841, 0.2955975999999999, 3.4853203, 3.485027, 5.417111, 6.1453433, 6.143252400000001, 2.6732376, 6.0070143, 11.460881, 5.111139, 11.491299, 11.558646, 5.3076487, 11.502946, 11.469093, 11.465232, 11.43833, 11.483533, 11.4344015, 11.465192, 11.46763, 11.529407, 5.899836, 5.317146, 11.527483, 11.529607, 5.1560044000000005, 1.6207709, 6.763272, 5.0597706, 6.017681, 1.3660755, 1.3837379, 6.079909, 5.4338713, 5.5092697, 5.8409452, 5.1843953, 0.32279748, 2.9965918, 2.8393555, 4.463049400000001, 4.477328, 6.177866000000001, 1.6380576, 2.066365, 1.3674859, 6.735488, 6.7424273, 6.4235725, 2.9061575, 2.0363858, 5.106953, 4.193609, 6.0146155, 6.745744, 11.499268, 2.7222006000000003, 6.1133914, 5.0421143, 2.8989503, 5.7396145, 5.038608999999999, 5.7515893, 3.397989700000001, 5.7953496, 4.987601799999999, 6.2565117, 5.5407720000000005, 5.328221, 5.116639, 5.911374, 5.013008599999999, 5.174452, 5.587396599999999, 2.9474478, 6.476291000000001, 4.5200276, 6.016292, 6.723858, 6.422003299999999, 4.114274, 3.8796747, 3.9896157, 5.4724526, 6.690810000000001, 6.033588, 6.278121, 2.8358216, 5.512133, 6.420893700000001, 5.1118245, 1.3168703000000002, 6.4730215, 2.6783588, 2.918059, 4.906404, 6.0568376, 5.9780436, 5.974186, 4.5821404, 5.043885, 5.0182133, 5.6142306, 8.652269, 6.402938400000001, 2.072515, 2.0956407, 5.3253900000000005, 2.073125, 4.507999, 4.559533999999999, 5.9103565, 5.2075343, 2.8654785, 6.310997, 0.89167356, 0.69678146, 6.4149, 6.899469, 2.9939976, 5.987449, 5.195787999999999, 5.952634, 5.4076085, 6.1363897000000005, 5.862565, 6.2025995, 6.182815, 6.00358, 5.182647, 5.275796400000001, 11.477943, 4.976719, 6.8194056, 5.6158156, 4.0423856, 5.122120400000001, 11.455456, 6.32739, 5.1937532, 5.973118, 6.0122633, 6.132759, 6.146664, 6.1708946, 5.145794400000001, 6.5136185, 2.8965268, 5.529118, 5.504623400000001, 2.9031130000000003, 6.11178, 2.8560066, 5.5142093, 2.9100244, 1.6424141, 2.0873559, 1.3787957, 3.0052638, 5.0508165, 4.0220766, 8.095866000000001, 3.0174959, 2.9722474, 3.0927854, 3.1607177], \"yaxis\": \"y\"}, {\"customdata\": [[\"\\\"punk n roll\\\"\"], [\"aarhus indie\"], [\"aberdeen indie\"], [\"acid rock\"], [\"acoustic punk\"], [\"acoustic rock\"], [\"action rock\"], [\"adoracion\"], [\"adventista\"], [\"african rock\"], [\"afrikaans\"], [\"alabama indie\"], [\"alabama metal\"], [\"alaska indie\"], [\"albany ny indie\"], [\"album rock\"], [\"albuquerque indie\"], [\"algerian folk\"], [\"alternative hardcore\"], [\"alternative metal\"], [\"alternative pop\"], [\"alternative pop rock\"], [\"alternative rock\"], [\"american metalcore\"], [\"american oi\"], [\"anarcho-punk\"], [\"animal singing\"], [\"anime rock\"], [\"anthem emo\"], [\"anthem worship\"], [\"anti-folk\"], [\"antiviral pop\"], [\"arabic hip hop\"], [\"arizona punk\"], [\"arkansas metal\"], [\"art rock\"], [\"asbury park indie\"], [\"athens indie\"], [\"atlanta metal\"], [\"atlanta punk\"], [\"atmospheric post-metal\"], [\"atmospheric sludge\"], [\"auckland indie\"], [\"aussie emo\"], [\"austin rock\"], [\"austindie\"], [\"australian alternative rock\"], [\"australian comedy\"], [\"australian garage punk\"], [\"australian hardcore\"], [\"australian indie folk\"], [\"australian indie rock\"], [\"australian indigenous\"], [\"australian metalcore\"], [\"australian psych\"], [\"australian reggae fusion\"], [\"australian rock\"], [\"australian shoegaze\"], [\"australian ska\"], [\"austrian hip hop\"], [\"austropop\"], [\"avant-rock\"], [\"backing track\"], [\"bagpipe\"], [\"bagpipe marching band\"], [\"bahamian folk\"], [\"bangladeshi hip hop\"], [\"baptist gospel\"], [\"barbershop\"], [\"barnemusikk\"], [\"baroque pop\"], [\"bath indie\"], [\"baton rouge indie\"], [\"bay area indie\"], [\"beach music\"], [\"beat italiano\"], [\"beatdown\"], [\"beatlesque\"], [\"birmingham hip hop\"], [\"birmingham indie\"], [\"black punk\"], [\"black sludge\"], [\"blasmusik\"], [\"blues\"], [\"blues rock\"], [\"blues-rock guitar\"], [\"boogie-woogie\"], [\"boston hardcore\"], [\"boston indie\"], [\"boston metal\"], [\"boston punk\"], [\"boston rock\"], [\"brazilian ccm\"], [\"brazilian emo\"], [\"brazilian groove metal\"], [\"brazilian indie\"], [\"brazilian post-hardcore\"], [\"brazilian post-rock\"], [\"brazilian punk rock\"], [\"brazilian reggae\"], [\"brazilian rock\"], [\"brazilian stoner rock\"], [\"brazilian surf rock\"], [\"brazilian thrash metal\"], [\"brighton indie\"], [\"brill building pop\"], [\"british alternative rock\"], [\"british blues\"], [\"british comedy\"], [\"british electroacoustic\"], [\"british indie rock\"], [\"british invasion\"], [\"british math rock\"], [\"britpop\"], [\"brooklyn indie\"], [\"bubblegrunge\"], [\"bubblegum pop\"], [\"bush ballad\"], [\"cajun\"], [\"calgary indie\"], [\"cambridgeshire indie\"], [\"canadian blues\"], [\"canadian ccm\"], [\"canadian celtic\"], [\"canadian comedy\"], [\"canadian garage rock\"], [\"canadian hardcore\"], [\"canadian pop punk\"], [\"canadian punk\"], [\"canadian rock\"], [\"canadian shoegaze\"], [\"canadian stoner rock\"], [\"canberra indie\"], [\"candy pop\"], [\"cape breton folk\"], [\"cape town indie\"], [\"ccm\"], [\"ceilidh\"], [\"celtic punk\"], [\"celtic rock\"], [\"chakra\"], [\"channel islands indie\"], [\"chapman stick\"], [\"charlottesville indie\"], [\"chicago blues\"], [\"chicago indie\"], [\"chicano punk\"], [\"christelijk\"], [\"christian alternative rock\"], [\"christian dance\"], [\"christian hard rock\"], [\"christian music\"], [\"christian pop\"], [\"christian punk\"], [\"christian relaxative\"], [\"christian rock\"], [\"christmas product\"], [\"cincinnati indie\"], [\"circus\"], [\"classic canadian rock\"], [\"classic danish pop\"], [\"classic danish rock\"], [\"classic dutch pop\"], [\"classic garage rock\"], [\"classic girl group\"], [\"classic greek rock\"], [\"classic hungarian pop\"], [\"classic hungarian rock\"], [\"classic nz country\"], [\"classic nz pop\"], [\"classic opm\"], [\"classic praise\"], [\"classic psychedelic rock\"], [\"classic rock\"], [\"classic soul\"], [\"clean comedy\"], [\"cleveland metal\"], [\"cologne hip hop\"], [\"columbus ohio indie\"], [\"comedienne\"], [\"comedy rock\"], [\"comic\"], [\"connecticut hardcore\"], [\"connecticut indie\"], [\"cork indie\"], [\"cornwall indie\"], [\"coventry indie\"], [\"cowpunk\"], [\"crack rock steady\"], [\"crossover prog\"], [\"crust punk\"], [\"cyberpunk\"], [\"d-beat\"], [\"dalarna indie\"], [\"dance rock\"], [\"danish hip hop\"], [\"danish punk\"], [\"dark cabaret\"], [\"dark clubbing\"], [\"dark post-punk\"], [\"dayton indie\"], [\"dc hardcore\"], [\"deathgrass\"], [\"deep acoustic pop\"], [\"deep ccm\"], [\"deep christian rock\"], [\"deep classic garage rock\"], [\"deep disco\"], [\"deep freestyle\"], [\"deep german hip hop\"], [\"deep indie pop\"], [\"deep new wave\"], [\"deep northern soul\"], [\"deep pop emo\"], [\"deep power-pop punk\"], [\"deep punk rock\"], [\"deep ragga\"], [\"deep soft rock\"], [\"deep surf music\"], [\"deep underground hip hop\"], [\"delaware indie\"], [\"denver indie\"], [\"derby indie\"], [\"detroit rock\"], [\"didgeridoo\"], [\"disco\"], [\"dissonant death metal\"], [\"diy pop punk\"], [\"doo-wop\"], [\"double drumming\"], [\"doujin\"], [\"dreamgaze\"], [\"dub punk\"], [\"duluth indie\"], [\"dundee indie\"], [\"dunedin indie\"], [\"dutch americana\"], [\"dutch blues\"], [\"dutch cabaret\"], [\"dutch indie\"], [\"dutch indie rock\"], [\"dutch pop\"], [\"dutch prog\"], [\"dutch punk rock\"], [\"dutch rap pop\"], [\"dutch rock\"], [\"dutch singer-songwriter\"], [\"early reggae\"], [\"early synthpop\"], [\"early us punk\"], [\"easycore\"], [\"edinburgh indie\"], [\"el paso indie\"], [\"electric blues\"], [\"electronic rock\"], [\"electronicore\"], [\"elephant 6\"], [\"emo\"], [\"english indie rock\"], [\"erhu\"], [\"ethereal gothic\"], [\"ethereal wave\"], [\"euroska\"], [\"experimental percussion\"], [\"fast melodic punk\"], [\"florida hardcore\"], [\"flute rock\"], [\"folk rock\"], [\"fort wayne indie\"], [\"fort worth indie\"], [\"freestyle\"], [\"french experimental rock\"], [\"french hardcore\"], [\"french oi\"], [\"friese muziek\"], [\"funk metal\"], [\"funk rock\"], [\"gainesville indie\"], [\"galician indie\"], [\"garage pop\"], [\"garage punk blues\"], [\"garage rock\"], [\"garage rock revival\"], [\"geek rock\"], [\"german alternative rock\"], [\"german blues\"], [\"german ccm\"], [\"german drill\"], [\"german hardcore\"], [\"german hip hop\"], [\"german literature\"], [\"german r&b\"], [\"german reggae\"], [\"german rockabilly\"], [\"german trap\"], [\"german worship\"], [\"glam metal\"], [\"glam punk\"], [\"glam rock\"], [\"goa trance\"], [\"gospel blues\"], [\"gothabilly\"], [\"gothic post-punk\"], [\"granada indie\"], [\"grand rapids indie\"], [\"grebo\"], [\"greek psychedelic rock\"], [\"grunge\"], [\"grunge pop\"], [\"grunge revival\"], [\"grunneger muziek\"], [\"gymcore\"], [\"h8000\"], [\"hampton roads indie\"], [\"hard alternative\"], [\"hard chime\"], [\"hard glam\"], [\"hard rock\"], [\"hard stoner rock\"], [\"hardcore\"], [\"hardvapour\"], [\"harmonica blues\"], [\"healing\"], [\"heartland rock\"], [\"heavy alternative\"], [\"hi-nrg\"], [\"hoerspiel\"], [\"horror punk\"], [\"horror punk brasileiro\"], [\"hull indie\"], [\"hungarian indie\"], [\"hungarian metal\"], [\"hungarian pop\"], [\"hungarian punk\"], [\"hungarian rock\"], [\"icelandic hip hop\"], [\"idaho indie\"], [\"igbo worship\"], [\"indie canario\"], [\"indie cantabria\"], [\"indie catala\"], [\"indie dream pop\"], [\"indie emo\"], [\"indie garage rock\"], [\"indie pop\"], [\"indie pop rock\"], [\"indie quebecois\"], [\"indie rock\"], [\"indie rockism\"], [\"indie singer-songwriter\"], [\"indie surf\"], [\"indie veneto\"], [\"indonesian ska\"], [\"indorock\"], [\"industrial metal\"], [\"indy indie\"], [\"instrumental bluegrass\"], [\"instrumental death metal\"], [\"instrumental math rock\"], [\"instrumental progressive metal\"], [\"instrumental rock\"], [\"instrumental surf\"], [\"irish experimental electronic\"], [\"irish indie\"], [\"irish indie rock\"], [\"irish rebel song\"], [\"irish rock\"], [\"isle of man indie\"], [\"isle of wight indie\"], [\"israeli punk\"], [\"italian gothic\"], [\"italian modern prog\"], [\"italian ska\"], [\"j-core\"], [\"jam band\"], [\"jamtronica\"], [\"jangle pop\"], [\"jangle rock\"], [\"japanese rockabilly\"], [\"japanese shoegaze\"], [\"japanese ska\"], [\"jazz rock\"], [\"junior songfestival\"], [\"k-rock\"], [\"kabyle\"], [\"kalmar indie\"], [\"kansas indie\"], [\"kent indie\"], [\"kentucky punk\"], [\"kindermusik\"], [\"kingston on indie\"], [\"kiwi rock\"], [\"kleine hoerspiel\"], [\"knoxville indie\"], [\"korean hardcore\"], [\"korean punk\"], [\"korean worship\"], [\"kundiman\"], [\"kurdish hip hop\"], [\"la indie\"], [\"lafayette indie\"], [\"lancashire indie\"], [\"latin christian\"], [\"latin worship\"], [\"lawrence ks indie\"], [\"leeds indie\"], [\"leicester indie\"], [\"levenslied\"], [\"liverpool indie\"], [\"lo star\"], [\"lo-fi emo\"], [\"long island punk\"], [\"louisiana blues\"], [\"louisville indie\"], [\"lund indie\"], [\"madchester\"], [\"magyar alternative\"], [\"magyar mulatos\"], [\"makina\"], [\"malay rap\"], [\"malaysian hip hop\"], [\"malaysian indie\"], [\"malmo indie\"], [\"manchester indie\"], [\"maracatu\"], [\"mariachi cristiano\"], [\"math pop\"], [\"medway sound\"], [\"mellow gold\"], [\"melodic hardcore\"], [\"memphis blues\"], [\"memphis indie\"], [\"mento\"], [\"merseybeat\"], [\"messianic praise\"], [\"metal guitar\"], [\"mexican classic rock\"], [\"mexican rock-and-roll\"], [\"miami indie\"], [\"miami metal\"], [\"minneapolis punk\"], [\"minneapolis sound\"], [\"missouri indie\"], [\"mod revival\"], [\"modern alternative rock\"], [\"modern blues\"], [\"modern blues rock\"], [\"modern indie pop\"], [\"modern mod\"], [\"modern power pop\"], [\"modern progressive rock\"], [\"modern psychedelic folk\"], [\"modern rock\"], [\"modern ska punk\"], [\"moroccan pop\"], [\"music hall\"], [\"musica catarinense\"], [\"musica eletronica brasileira\"], [\"musicas espiritas\"], [\"nederpop\"], [\"neo mellow\"], [\"neo metal\"], [\"neo-industrial rock\"], [\"neo-rockabilly\"], [\"neo-trad prog\"], [\"neon pop punk\"], [\"neue volksmusik\"], [\"new age\"], [\"new age piano\"], [\"new comedy\"], [\"new england emo\"], [\"new england metal\"], [\"new jersey hardcore\"], [\"new jersey indie\"], [\"new jersey punk\"], [\"new orleans blues\"], [\"new romantic\"], [\"new wave\"], [\"new wave of glam metal\"], [\"new wave pop\"], [\"newcastle indie\"], [\"noise pop\"], [\"nordnorsk ponk\"], [\"nordnorsk rap\"], [\"norman ok indie\"], [\"norrbotten indie\"], [\"north carolina metal\"], [\"north east england indie\"], [\"northamptonshire indie\"], [\"northern irish indie\"], [\"northern irish punk\"], [\"norwegian americana\"], [\"norwegian blues\"], [\"norwegian country\"], [\"norwegian hardcore\"], [\"norwegian prog\"], [\"norwegian punk\"], [\"norwegian punk rock\"], [\"norwegian rock\"], [\"novo rock gaucho\"], [\"nu metal\"], [\"nu-metalcore\"], [\"nueva ola peruana\"], [\"ny roots\"], [\"nyc metal\"], [\"nyhc\"], [\"nz christian\"], [\"nz folk\"], [\"nz hardcore\"], [\"nz indie\"], [\"nz metal\"], [\"nz punk\"], [\"oakland indie\"], [\"oc indie\"], [\"ohio indie\"], [\"oi\"], [\"ok indie\"], [\"okc indie\"], [\"old school nederhop\"], [\"old-time fiddle\"], [\"omaha indie\"], [\"ontario indie\"], [\"opm\"], [\"oratory\"], [\"orgcore\"], [\"otacore\"], [\"oth indie\"], [\"oxford indie\"], [\"paisley underground\"], [\"palm desert scene\"], [\"parody\"], [\"pennsylvania hardcore\"], [\"permanent wave\"], [\"perth indie\"], [\"peruvian punk\"], [\"peruvian rock\"], [\"philly soul\"], [\"piano cover\"], [\"piano rock\"], [\"pibroch\"], [\"pinoy hip hop\"], [\"pinoy indie\"], [\"pinoy reggae\"], [\"pinoy rock\"], [\"piratenmuziek\"], [\"pittsburgh rock\"], [\"pixie\"], [\"polish prog\"], [\"polish psychedelia\"], [\"pop emo\"], [\"pop folk\"], [\"pop punk\"], [\"pop rock\"], [\"portuguese jazz\"], [\"post-grunge\"], [\"post-screamo\"], [\"power blues-rock\"], [\"power pop\"], [\"power-pop punk\"], [\"pre-war blues\"], [\"prog quebec\"], [\"progressive rock\"], [\"progressive sludge\"], [\"protopunk\"], [\"psalmen\"], [\"psicodelia brasileira\"], [\"psychedelic blues-rock\"], [\"psychedelic punk\"], [\"psychedelic rock\"], [\"psychedelic soul\"], [\"pub rock\"], [\"punk\"], [\"punk blues\"], [\"punk mexicano\"], [\"punk ska\"], [\"quebec indie\"], [\"quebec punk\"], [\"r&b brasileiro\"], [\"rai\"], [\"rap algerien\"], [\"rap gaucho\"], [\"rap maroc\"], [\"rap metal\"], [\"rap metalcore\"], [\"rap rock\"], [\"reading\"], [\"reading indie\"], [\"rebel blues\"], [\"reggae catala\"], [\"reggae cristao\"], [\"reggae fusion\"], [\"reggae gaucho\"], [\"reggae maghreb\"], [\"reggae rock\"], [\"reggae tico\"], [\"reggae tuga\"], [\"retro metal\"], [\"rhythm and blues\"], [\"rhythm and boogie\"], [\"rif\"], [\"rochester ny indie\"], [\"rock\"], [\"rock abc paulista\"], [\"rock andaluz\"], [\"rock cristiano\"], [\"rock curitibano\"], [\"rock drums\"], [\"rock goiano\"], [\"rock independant francais\"], [\"rock keyboard\"], [\"rock of gibraltar\"], [\"rock paraibano\"], [\"rock potiguar\"], [\"rock quebecois\"], [\"rock steady\"], [\"rock-and-roll\"], [\"rockabilly\"], [\"rockabilly en espanol\"], [\"rotterdam indie\"], [\"russian ccm\"], [\"sacramento indie\"], [\"sacred steel\"], [\"san diego indie\"], [\"san marcos tx indie\"], [\"scottish indie\"], [\"scottish indie folk\"], [\"scottish indie rock\"], [\"scottish new wave\"], [\"scottish rock\"], [\"scottish singer-songwriter\"], [\"scottish smallpipe\"], [\"seattle indie\"], [\"sheffield indie\"], [\"shiver pop\"], [\"shoegaze\"], [\"ska\"], [\"ska espanol\"], [\"ska jazz\"], [\"ska mexicano\"], [\"ska punk\"], [\"ska revival\"], [\"skate punk\"], [\"skinhead oi\"], [\"slash punk\"], [\"slc indie\"], [\"sleaze rock\"], [\"sludge metal\"], [\"sludgecore\"], [\"small room\"], [\"socal indie\"], [\"socal pop punk\"], [\"soda pop\"], [\"soft rock\"], [\"sophisti-pop\"], [\"soul blues\"], [\"south african metal\"], [\"south african rock\"], [\"south dakota indie\"], [\"southampton indie\"], [\"southern rock\"], [\"spanish indie folk\"], [\"spanish indie pop\"], [\"spanish invasion\"], [\"spanish modern rock\"], [\"spanish noise pop\"], [\"spanish psychedelic rock\"], [\"spanish rockabilly\"], [\"spanish stoner rock\"], [\"springfield mo indie\"], [\"steel guitar\"], [\"stomp and whittle\"], [\"stomp pop\"], [\"stoner metal\"], [\"stoner rock\"], [\"straight edge\"], [\"streektaal\"], [\"street punk espanol\"], [\"sunshine pop\"], [\"supergroup\"], [\"surf music\"], [\"surf punk\"], [\"surinamese pop\"], [\"swamp blues\"], [\"swamp rock\"], [\"swedish americana\"], [\"swedish garage rock\"], [\"swedish hard rock\"], [\"swedish indie rock\"], [\"swedish melodic rock\"], [\"swedish metalcore\"], [\"swedish prog\"], [\"swedish punk\"], [\"swedish rockabilly\"], [\"swedish stoner rock\"], [\"swiss pop\"], [\"swiss worship\"], [\"symphonic rock\"], [\"synth funk\"], [\"synthesizer\"], [\"synthetic classical\"], [\"synthpop\"], [\"tagalog rap\"], [\"tempe indie\"], [\"texas metal\"], [\"texas pop punk\"], [\"tibetan mantra\"], [\"trad quebecois\"], [\"traditional rockabilly\"], [\"traditional scottish folk\"], [\"traditional ska\"], [\"traditional southern folk\"], [\"transpop\"], [\"trash rock\"], [\"triangle indie\"], [\"trinidadian reggae\"], [\"trondersk musikk\"], [\"tulsa indie\"], [\"turkish hip hop\"], [\"turkish trap\"], [\"uk beatdown\"], [\"uk diy punk\"], [\"uk garage\"], [\"uk metalcore\"], [\"uk pop punk\"], [\"uk post-hardcore\"], [\"uk post-punk revival\"], [\"uk reggae\"], [\"uk rockabilly\"], [\"uk worship\"], [\"uk82\"], [\"umea indie\"], [\"unblack metal\"], [\"underground power pop\"], [\"vancouver punk\"], [\"vaporwave\"], [\"veena\"], [\"vegas indie\"], [\"vgm remix\"], [\"victoria bc indie\"], [\"vintage dutch pop\"], [\"vintage reggae\"], [\"vintage rockabilly\"], [\"virginia indie\"], [\"vocaloid\"], [\"washington indie\"], [\"wellington indie\"], [\"welsh hip hop\"], [\"welsh indie\"], [\"welsh metal\"], [\"welsh rock\"], [\"west yorkshire indie\"], [\"western mass indie\"], [\"windsor on indie\"], [\"worcester ma indie\"], [\"world meditation\"], [\"world worship\"], [\"worship\"], [\"wrestling\"], [\"wyoming indie\"], [\"yacht rock\"], [\"york indie\"]], \"hovertemplate\": \"supergenre=rock<br>emb1=%{x}<br>emb2=%{y}<br>genre=%{customdata[0]}<extra></extra>\", \"legendgroup\": \"rock\", \"marker\": {\"color\": \"#FF6692\", \"size\": 6, \"symbol\": \"circle\"}, \"mode\": \"markers\", \"name\": \"rock\", \"showlegend\": true, \"type\": \"scattergl\", \"x\": [5.1909623, 2.9705107, 3.2557757, 3.6562498, 4.5066733, 4.217821, 4.966305999999999, 6.588386, 6.579615, 4.923123400000001, 4.818109, 4.3560004, 5.3441525, 3.0492246, 3.1418085, 3.739539, 3.6012230000000005, 5.822058999999999, 5.501448, 5.0856, 3.955866, 4.893941000000001, 3.7624435, 5.5324965, 5.5234947, 5.650238, 4.1687975, 6.724626, 5.0732713, 6.6334643, 3.8000247, 6.0924625, 5.792013, 5.2071185, 5.468117, 4.0131736, 5.1926093, 3.5435462, 5.0981565, 4.0849414, 5.245134999999999, 5.2315483, 3.660701, 2.3870578, 3.648121, 3.6369371, 2.3374326, 2.781397, 4.0260935, 5.144275700000001, 2.896414, 2.3401282, 2.3524847, 5.402814, 3.4403307, -0.14755186, 2.4711235, 3.51385, -0.11141767, 5.61479, 7.932207000000001, 4.8068266, 3.2818274, 3.709625, 3.7511973, 3.2069817000000005, 3.3840628, 6.583855000000001, 3.2478740000000004, 5.84909, 3.6285264, 3.5729449, 2.9781978, 3.6508656, 2.3281415, 4.122701999999999, 5.571943, 3.6516252, -0.12230997, 3.158225, 5.244067, 5.1793003, 3.651465, 3.1795726, 3.4197013, 3.091577, 2.9271154, 5.5769835, 4.006878, 5.457662, 5.3195477, 4.0361104, 6.2651167, 0.60044813, 5.439825, 0.7831352, 0.5189369, 0.8055019, 0.4500411, 0.5414486, 0.5775964, 0.55890775, 0.5278845999999999, 5.361748, 2.6562352, 2.6706538, 4.5030694, 3.649171, 4.2667584000000005, 3.4647026, 2.9877830000000003, 3.5125945, 4.5377445, 3.15389, 3.4285822, 3.8985918, 2.98646, 2.9452830000000003, 3.0576844, 3.7552078, 2.9831848, 3.3978674, 6.4302545, 4.5726113, 4.189274, 4.130383999999999, 5.3476605, 5.2155933, 5.27827, 3.742724, 3.7896426, 5.0614977, 2.5970185000000003, 2.9776697, 4.5387900000000005, 4.7218595, 6.558528, 3.6712525, 4.503401, 4.510194, 4.940613, 2.9060583, 4.599236, 3.6304963, 3.2145138, 3.5959432, 5.552178, 6.602523, 6.505523999999999, 2.48219, 6.224739, 6.5735884, 6.5672820000000005, 6.234626, 6.595805, 6.3673415, 4.134502, 3.2275527000000004, 4.845950599999999, 3.5644116, 2.4317174, 2.4796994, 2.566404, 3.7523003, 2.3487842, 3.8879478, 7.2027946, 7.1774770000000006, 2.8360405, 2.7982400000000003, 2.9946427000000004, 6.62804, 3.745534, 3.4826653, 2.1914597, 4.182119, 5.102784, -0.6597155, 4.0087094, 4.211695, 4.4090414, 4.270955000000001, 5.548535, 3.1895208, 3.192962, 3.206229, 2.9709914, 4.196907, 5.393456, 4.1822457, 5.684291, 5.430535, 5.6604714000000005, 4.4948263, 3.5590918, 2.4404628, 2.7668915000000003, 5.9643707, 1.5946848, 5.401049, 3.930794, 5.074634, 4.329392400000001, 3.0022619, 6.613365700000001, 6.453951999999999, 3.7545104, 2.0368094, 2.5346782, -0.8031225000000001, 4.159882, 3.683149, 2.3238957, 4.824027500000001, 5.1097445, 5.093149700000001, -0.3084752999999999, 3.1950102000000005, 4.3797927, 4.992152, 5.096307, 3.7940292, 4.663019, 3.777981, 2.4374592, 2.042045, 5.643406400000001, 5.216252, 2.671144, 3.6790574, 4.5676246, 3.4821157, 5.585853, 3.674467, 3.173835, 3.6935964, 2.5070124, 3.075162, 2.4463964, 2.4848459, 2.5344102000000004, 2.4561672000000003, 2.732178, 2.4556506, 2.4225736, 2.4332716, 2.46838, -0.14550085, 3.7131996, 4.7892265, 5.0443050000000005, 3.562033, 4.788246, 3.2333663, 3.9309616, 5.2770433, 3.639837, 4.982061, 3.2457023, 3.7488973, 5.4018197, 5.3814783, 5.912077, 3.2118134, 5.242066400000001, 5.9433527, 4.138421, 3.4008408, 4.120479, 4.9469447, 2.5540626, 4.6799417000000005, 5.5945497, 6.3175125, 2.4627244, 4.897085, 2.095953, 5.088379, -4.506405, 4.144959, 4.243985, 3.9175038, 3.794596700000001, 3.7274082, 8.114205, 3.413647, 6.465913, -0.7530979, 5.621171, -0.74962777, 8.912753, 9.132689, -0.6878099, 2.9617403, -0.8001971, 6.468647499999999, 4.8245583, 5.040988400000001, 3.676955, 0.6669901999999999, 3.2250476000000003, 4.3666525, 5.351954, -4.5605917, 5.172642, 3.1265373, 4.055152, 4.261315, 3.2514741000000003, 3.0912662, 2.4784658, 5.4807725, 5.3327480000000005, 4.890815, 5.1719136, 3.650002, 4.7939596, 5.079598000000001, 4.3971615, 5.574875, 3.541907, 3.206197, 4.9457564000000005, 3.4025426, 5.389278400000001, 2.5881376, 8.916243, 4.6220684, 0.3867231, 2.9738114, 7.1837645000000006, 6.861986, 7.2065344, 7.185312, 7.141433, 4.822726, 3.6355877, -0.16893977, -4.487458, -4.514016000000001, -4.436848599999999, 3.4801283, 4.969987000000001, 4.0137540000000005, 3.5105263999999994, 3.3479495000000004, 4.5746, 3.591221, 3.284994, 3.5848646, 4.183506, 5.913849, -0.0843273999999999, 2.7393742000000003, 5.4615307, 3.5641832, 3.6988075, 4.737405, 4.7028565, 4.930872, 4.569932, 4.324003, 2.0698774, 3.05552, 3.084649, 4.4511905, 3.152597, 3.608177200000001, 3.1169703, 5.2139215, 5.066389599999999, 4.1848035, 5.931001, 5.2690835, 3.4634160000000005, 3.4020548, 3.8185258, 3.3999581, 6.707559, 6.183716, 0.0034629887, 4.047365, 2.46521, 5.645539299999999, 5.809991, 4.50108, 4.5064816, 4.148798, 4.2610035, 8.914547, 3.6725228, 3.2098312, 8.914835, 3.9247563, 5.594106, 5.5893120000000005, 6.575203, 2.9552083, -0.80198467, 3.4912593000000003, 2.9289405, 3.2037718, 6.543981, 6.5665164, 4.8337007000000005, 2.8466985, 3.1008508, 2.5204644, 3.1481478, 3.8994405, 4.226854, 5.2283697, 2.9772336, 3.4757937999999995, 3.3308778, 3.211862, 7.182790299999999, 7.2058277, 5.286587, 1.6484096, 1.2422712, 1.3041425, 4.4428864, 3.1293347, 0.74894226, 6.561626, 4.595591000000001, 4.0129695, 3.314375, 5.295153599999999, 3.1655912, 4.258390400000001, -0.026950337, 3.0320067, 6.5741935, 4.791504, 3.4506273000000003, -4.210988, 3.3327944, 5.1827164, 4.528636, 2.0786002, 3.4659333, 4.477722, 3.2838156, 3.263909, 3.84137, 3.497686100000001, 3.8863418, 3.8426993, 4.1673083, 3.512299, 3.2574098, 5.1853385, 5.795484, 4.261824, 0.5559504, 0.78671175, 4.925503, 2.6005218, 2.8885167000000003, 6.4023075, 5.485489, 2.966268, 4.225846, 5.0307074, 7.844313, 4.840184, 4.699637, 4.221356, 5.069507, 5.4629593000000005, 5.1645650000000005, 3.5195693999999995, 5.094964, 2.9116473, 3.6128347, 3.808027, 4.7663975, 2.9510398, 4.5938787, 3.7087839, 5.5192957, 5.519121599999999, 5.346979, 4.9435935, 5.467557, 2.93447, 3.5137146, 3.2372124, 5.1086416, 5.775218, 3.2470195, 5.870811, 5.3287260000000005, 5.7555146, 5.8772144, 5.2377834000000005, 5.811671700000001, 0.5478341, 5.203224700000001, 5.4568343, -3.690631, 3.5370445, 5.256881, 5.479377, 6.5219355000000006, 3.7148762, 3.4420104, 3.6231441, 2.723468, 3.528115, 3.519083, 3.837733, 3.749656, 5.5786176, 4.386059, 3.680745, 2.4142773, 3.7392356, 3.4768484, 3.5142741, 2.9368572, 4.277872, 5.1258883, 6.613966499999999, 3.2000751, 3.352421, 3.8264184, 4.392342, 4.4090295, 5.407751, 3.1980503, 2.4498348, -3.7238264, -3.7493353, 2.0922625, 4.8597145, 3.3123524, 3.686782, 3.008241, 2.9079192000000003, 2.906516, 2.9346151000000003, 2.701913, 4.187802, 4.982540599999999, 4.191361, 4.163325, 4.8911114, 3.5598543, 5.05773, 3.0437024, 0.9281629, 5.006621400000001, 5.5436015, 3.2164044, 3.9123688, 5.005646700000001, 3.196255, 4.2574935, 4.128301, 5.217009, 3.7601852, 6.564089999999999, 1.0842406999999998, 3.8241348, 4.4419656, 3.8394446, 2.1092536, 4.6384454, 5.127064, 4.184834, -3.5407948, 5.173704, 3.6405988, 5.254844, 0.5798143, 5.821836, 5.798411, 0.6457278000000001, 5.810964, 5.055803, 5.0232253, 4.9537463, 8.90726, 3.5499017, 3.7827637, -4.3767004, 0.48737365, -0.46807334, 0.6299716999999999, 5.772540599999999, -0.3168775, 0.60104066, 0.55947626, 4.404057, 2.4788415, 2.961978, 5.845863, 5.0861893, 3.5579453, 0.5039539000000001, -4.62524, 6.375602, 0.4090264, 3.348164, 0.5559053, 6.248709, 3.7641, 2.9952564, 0.70277905, 0.5193614000000001, 4.584094, -0.17584191, 2.8877467999999995, 3.0205998, -4.175265, 2.5072048, 6.619387, 4.343895400000001, 3.375925, 3.9533708, 3.075741, 3.4598224, 3.3837485000000003, 3.1970348, 3.5417943, 3.3035767, 3.796669, 4.613921599999999, 3.6029592, 3.2490342, 3.407969, 3.4834797, -0.10400183, -4.2497773, -0.16078863, -3.540227, 5.19241, -0.05200814, 5.1481633, 5.5397873, 5.2833285000000005, 3.4109244, 4.805153, 5.2057543, 5.301807, 3.779534, 3.857603, 5.126154, 2.628341, 3.2432666, 3.5077748, 2.406477, 4.9705358, 4.885619, 5.080377599999999, 3.3257377, 3.351507, -4.5226765, -4.5207047, -4.2248025, -4.5204887000000005, -4.5216837, 4.365271599999999, -4.4785953, 4.371389, 3.6866796, 3.3774824, 3.308905600000001, 3.459333, 4.5005946, 4.442951, 5.580294, 2.4742866, 5.893888, 3.4379368, 3.599815, 4.288656700000001, 4.32276, -0.5810549, 3.1378112, 3.4254725, 4.558882700000001, 4.4932313, 4.773333999999999, 4.4551597, 4.816342400000001, 5.4612856, 4.1900344, 4.587195400000001, 3.0395637000000004, 4.3902636, 9.096415, 6.639359, 4.145711, 2.0426295, 4.2536545, 1.5109982, 3.6432314, 2.979986, 3.317179, 5.186007, 4.9608483, 5.1097684, 4.5853662, 2.94602, 3.7072592, -0.03343841, 3.2482936, 3.7729805, 4.132732, 4.178343, 2.5608609, 5.863659999999999, 3.2286735, -0.82583636, -0.79559433, 5.536205000000001, 5.546213, -0.17111243, 5.4406447, 4.851775, 4.6687016, 3.5692966, -0.2812199999999999, 3.032832, 6.5918636, 5.6149793, 4.456207, 6.25384, 3.8961222, 5.256469999999999, 3.447108, 6.683233, 2.8704484, 6.5786185, 2.8157144, 2.5411506, -0.21545918, 2.9582767000000003, 3.5661845000000003, 6.705508, 3.4743972000000003, 3.5787745, 4.274897599999999, 3.2681400000000003, 5.153121499999999, 3.231129, 2.991268, 3.8281615, 4.9770637, 4.9694405, 4.971765, 6.604605, 6.576936999999999, 5.06321, 5.073332, 3.269166, 3.2852788], \"xaxis\": \"x\", \"y\": [6.5960054, 7.3848753, 6.654804, 5.41744, 6.718264, 6.9367647, 6.6308703, 7.8270845, 7.7294884, 7.927625, 7.926011999999999, 7.421272800000001, 8.103757, 5.923504, 5.7603893, 5.4568233, 6.4660150000000005, 1.7831538, 7.044642, 8.268245, 6.946503599999999, 7.432044500000001, 6.7863940000000005, 7.756089999999999, 6.6884174, 6.8613005000000005, 6.970546700000001, 5.832065, 7.215923299999999, 7.844046, 6.594983999999999, 5.5090203, 2.0042355, 6.827689599999999, 8.417961, 5.7926226, 6.9233522, 6.384951999999999, 8.375515, 6.5724325, 8.438512, 8.452752, 7.142935799999999, 7.228742, 6.5194936, 6.558905, 7.303739500000001, 7.1437306, 6.579438000000001, 7.1033864, 6.1932473, 7.216181, 7.2036386, 8.081119000000001, 7.1937046, 3.4662652, 7.1441765, 7.2568693, 3.4636223, 6.709321000000001, 5.947932, 7.8611746, 4.744331400000001, 5.295975, 5.0496907, 4.134034, 4.972919999999999, 7.809027, 3.303542, 3.4538012000000005, 6.365384, 6.2295833, 6.3511868, 6.657912700000001, 3.8521323, 5.484453, 7.1361327, 5.5378857, 6.019846, 6.7807355, 6.9238253, 8.478236, 5.5535994, 4.2702230000000005, 4.9426703000000005, 4.329351, 4.111895, 7.1462270000000006, 6.7988605, 8.217804, 6.8949413, 6.8092117, 8.019442999999999, 0.2544426, 8.83151, 0.3739372, 0.22046767, 0.36029586, 0.17005664, 0.3485446, 0.24128398, 0.19463302, 0.19242725, 8.855441, 6.764625, 4.1182556, 7.162129400000001, 5.186031, 7.957859, 2.2164667, 6.737011, 4.9801064, 7.060168300000001, 6.5305867, 6.7011924, 6.8410583, 4.783966, 5.4248047, 4.514391000000001, 6.485657, 6.726617999999999, 4.790781, 7.832248, 4.9290657, 8.024163, 6.1119156, 6.84391, 7.018877499999999, 6.8720927, 6.1829085, 6.7459493, 8.629875, 7.0902970000000005, 6.1300273, 4.8615084, 7.833717, 7.805950599999999, 5.1625175, 4.8517904000000005, 4.907233, 2.1252975, 6.0348754, 7.781989599999999, 6.127917, 4.363582599999999, 6.3623433, 7.053991000000001, 7.8634644, 7.8440094, 6.016227, 7.8928885, 7.825266, 7.828592299999999, 7.863436, 7.7804117, 7.8627815, 6.977539999999999, 6.081905, 2.449873, 5.6054606, 7.610817999999999, 7.577755499999999, 4.924229599999999, 5.291995, 3.821004, 5.353729, 8.840755999999999, 8.833098, 6.263569, 6.2475734, 5.8177032, 7.797386, 5.34006, 5.185835, 3.7912958, 7.9720073, 8.237927, 3.3596587, 6.7056537, 7.983663000000001, 8.082552, 7.973647, 7.273219999999999, 6.505907499999999, 6.140477, 5.868369, 6.7049365000000005, 6.338492, 6.746245399999999, 5.534822, 7.038474000000001, 5.643887, 7.0084944, 4.0351586, 6.047156299999999, 7.6104245, 7.485020599999999, 5.2098227, 6.5276794, 5.090531299999999, 6.9853344, 6.961638499999999, 6.0741153, 6.3599224, 7.826053, 7.877861999999999, 5.383676, 3.8312933, 5.557304, 3.5821674, 6.627110000000001, 5.9318290000000005, 3.8323023, 7.432044, 6.855534, 6.6439724, 3.142341, 5.378210500000001, 7.3914413, 8.203066, 6.966455000000001, 6.993674799999999, 7.343418600000001, 5.493265, 7.168461, 3.8684998, 8.783278999999999, 6.978824, 4.1046176, 6.0998654000000005, 8.658108, 7.2559533, 6.817711, 6.6469665, 6.562301, 7.0659757, 4.8445883, 4.7549505, 4.926578500000001, 4.8731475, 4.973579, 4.891848599999999, 4.9892473, 4.91032, 4.8845353, 4.916103, 4.889616999999999, 3.1873436, 5.933985, 6.609033999999999, 7.1876783, 6.600662700000001, 7.408882000000001, 4.5607104000000005, 6.352882, 6.7526660000000005, 6.7794704, 7.261371, 6.633771, 4.0836515, 4.948028599999999, 4.95886, 6.541239, 2.6253583, 6.948771499999999, 7.702285300000001, 5.5032587, 5.231612, 6.2240505, 7.403962599999999, 5.554759, 6.919974000000001, 7.144417999999999, 4.0484896, 4.9125147, 8.118561, 4.168746499999999, 6.832422, 5.7750607, 6.551253, 6.1877947, 6.516748000000001, 6.6041455, 7.026444000000001, 5.9785433, 4.887896, 7.855529300000001, 3.5100362, 7.2543993, 3.4827147000000003, 5.0813904, 3.0733953, 3.4088686000000004, 4.601464, 3.559889, 7.847585700000001, 8.549696, 6.856464, 5.6265593, 4.5154014, 4.2853923, 6.1523094, 5.2272463, 5.884978, 6.820410000000001, 6.606693300000001, 5.478162, 6.775125, 6.084021, 6.166550599999999, 4.8859086, 7.984455599999999, 7.242151, 7.229706, 8.085697999999999, 6.588398, 8.459934, 8.814461, 8.591446000000001, 7.1654353, 6.903881500000001, 4.33183, 2.0920577, 5.377051, 8.008544, 5.651155999999999, 5.0792785, 6.261033, 0.1162972, 6.672941000000001, 8.821205, 8.859689, 8.842925, 8.83356, 8.851353999999999, 8.016124000000001, 6.6816783, 3.1817265, 5.8246503, 5.8073688, 6.001404, 7.2190647, 7.2591276, 6.698234599999999, 6.569681599999999, 7.110589500000001, 5.3720684, 6.704794000000001, 6.6223893, 6.501256, 7.2413697, 6.579274000000001, 3.2784574, 4.8563843, 5.560152, 6.440906, 4.4454975, 8.043814, 7.103741599999999, 7.740553999999999, 7.655108, 7.3433175, 6.0508065, 6.214238, 6.3215837, 4.8829637, 6.2450895, 5.084243, 6.5299006, 7.0268817, 9.477009, 5.5227900000000005, 6.564095, 6.965294, 4.921775299999999, 5.0430894, 6.8471303, 6.5286145, 6.054331299999999, 6.0446453, 3.2585738, 5.5386, 4.896831, 7.2597437, 1.7857331000000003, 3.9490874, 7.0509086, 6.4454064, 6.373958999999999, 5.079481, 6.086295, 7.0387607, 5.080255999999999, 6.881964999999999, 7.221616, 7.191056, 7.810692299999999, 5.8614335, 3.5611940000000004, 6.636247, 6.173442, 6.224427700000001, 7.82557, 7.8457875, 7.171057000000001, 6.7637696, 6.7333765, 4.9050303, 6.751865, 6.658594, 6.988314599999999, 7.1849265, 4.361389599999999, 6.1104684, 7.0599084, 6.524352, 8.8319435, 8.850280999999999, 6.949106, 8.103933999999999, 8.368573, 8.339375, 4.198869999999999, 6.625903, 0.28199098, 7.843314, 7.095888599999999, 6.466937000000001, 5.339956, 7.147948700000001, 4.2506948, 6.6253242, 3.2333586, 4.682197, 7.826125599999999, 8.374243, 5.295071, 4.4674726, 5.421448000000001, 8.225530000000001, 6.872906, 4.014176399999999, 6.669215, 6.3752255, 6.734132000000001, 4.664249, 6.1767716, 6.538682499999999, 6.6320662, 6.80632, 5.5618963, 6.6789913, 6.755205999999999, 6.814210000000001, 1.8527579, 7.9829326, 0.25236443, 0.34497, 2.2714543, 4.9292684, 6.2364435, 4.1867356, 5.5964227, 4.603626, 5.57754, 7.485484, 5.9968114, 2.3459716, 2.5953228, 8.024865, 7.326264, 8.322569999999999, 6.9981503, 6.727728999999999, 6.815694000000001, 4.1530814, 5.8737545, 5.988528700000001, 8.462033, 5.858833, 7.1874886, 6.815612299999999, 3.5394876, 3.5023654000000004, 3.6343925, 3.7490377, 8.284295, 6.765401400000001, 7.1230226, 6.8259277, 6.6118493, 3.5765888999999995, 4.624528400000001, 3.4819307, 6.7056823, 3.5878103, 3.5400367, 6.600199000000001, 3.5475023, 0.22157387, 8.304955, 7.9199967, 5.4835987, 4.8666196, 8.273821, 7.074004, 7.766064, 7.0340023, 7.1637363, 7.139382, 7.2062182, 7.137181, 6.547128, 6.783251, 6.8498197, 6.742113000000001, 6.955715, 6.5502925, 4.7904196, 4.399628599999999, 6.5515585, 6.066044000000001, 5.901581, 7.981876, 6.926706299999999, 5.7217917, 6.148031700000001, 6.179714700000001, 6.684923599999999, 8.527335, 8.052096, 7.103387, 6.1938806, 7.2010026, 5.4584737, 5.4275723, 3.8360689, 2.6704476, 6.059589, 5.333550499999999, 5.9743466, 5.999174, 6.014428, 5.9857507000000005, 4.904991000000001, 6.387201999999999, 7.499635700000001, 5.5822763, 5.540945, 7.467471000000001, 6.4263926, 7.314705, 6.1160445, 0.86679184, 7.994008, 7.780397, 4.6477265, 6.748147, 6.900648599999999, 4.1956053, 5.462692, 5.501768599999999, 8.437771000000001, 5.4297247, 7.848591000000001, 0.7561755, 5.3136153, 6.754589, 5.35832, 3.7469926, 6.3738675, 6.8256707, 6.396975, 5.2275662, 6.902515400000001, 6.422119, 6.9096465, 0.23513667, 1.7970388, 1.8481396, 0.30398723, 1.8917894, 8.184578, 8.17048, 8.159466, 5.08437, 7.111582, 6.2612762, 6.0891933, 0.22330062, 3.152256, 0.27939543, 1.8649335, 3.2868707, 8.692566000000001, 0.37049142, 8.620716, 3.9112473, 4.6433625, 1.7043203999999998, 7.157963799999999, 6.177846, 0.20094292, 6.116802, 7.8976083, 0.14529797, 5.4910316, 0.14712933, 4.0782110000000005, 5.828965, 5.1684470000000005, 0.3301937, 0.19081984, 5.439000599999999, 3.171558, 4.412719999999999, 4.6328273, 4.7049665, 4.9256477, 7.7987094, 7.3903227, 4.8693147, 7.03618, 6.130519400000001, 6.6708694, 6.470171, 6.554712299999999, 5.9875484000000005, 6.5113125, 5.183768, 5.0373387, 6.847233, 6.439737, 6.506656, 7.191203999999999, 3.2481215, 5.660777599999999, 3.3800259, 5.232206, 6.846450999999999, 3.2944057, 6.889170599999999, 6.77026, 6.8402734, 7.218436200000001, 8.49156, 8.497819, 8.40056, 6.8795285, 7.0493345000000005, 6.9425435, 4.048456, 5.4774103, 5.837024, 3.7886577, 7.913402599999999, 7.9603, 7.408330999999999, 6.355601, 5.236303299999999, 5.76438, 5.7894177, 5.562855, 5.7862735, 5.8297563, 8.720153999999999, 5.65608, 8.722612, 6.6908417, 4.820641, 6.40738, 6.608952499999999, 8.626716, 8.616617, 7.181945, 4.87873, 6.5602617, 5.20247, 5.9132953, 7.3101726, 7.3541064, 5.104533, 4.5203085, 5.2701015, 3.9527028, 4.127806, 8.4306345, 4.0984225, 8.61445, 8.294684, 5.542999299999999, 3.9342165, 4.683881, 8.613752999999999, 3.1151383, 7.800885000000001, 5.501456, 3.9355583, 5.200673, 5.281058, 5.874120700000001, 5.9895372, 6.282441599999999, 8.537777, 7.109383, 2.0818164, 5.3242908, 4.563348, 5.1041837, 3.332027, 4.2566440000000005, 6.8407173, 6.447249, 7.0328507, 5.463814299999999, 3.4888422, 6.8003445000000005, 3.5258968, 3.515515, 7.095016, 6.7425995, 5.967166000000001, 7.846934299999999, 7.220834700000001, 7.246736999999999, 6.734851400000001, 3.1111937000000003, 4.625935, 7.813652499999999, 6.8543825, 4.120329, 8.559773, 6.764209299999999, 6.875509700000001, 6.9161215, 1.3592447, 6.9940743, 5.807293, 6.758592999999999, 4.999278, 3.124617, 4.612044999999999, 6.7241774, 5.8080325, 6.6514416, 7.136375, 7.9575186, 6.589362, 8.221447999999999, 6.480890799999999, 6.781766999999999, 6.941047, 8.652137, 7.2613387, 2.1624215, 7.8145213, 7.8164916, 8.262678999999999, 6.8773026, 5.309207, 6.5093174000000005], \"yaxis\": \"y\"}, {\"customdata\": [[\"48g\"], [\"abstract hip hop\"], [\"african reggae\"], [\"afro r&b\"], [\"afrofuturism\"], [\"alberta hip hop\"], [\"alte\"], [\"alternative hip hop\"], [\"alternative r&b\"], [\"ambeat\"], [\"argentine hip hop\"], [\"asian american hip hop\"], [\"atl hip hop\"], [\"atl trap\"], [\"australian hip hop\"], [\"australian techno\"], [\"australian underground hip hop\"], [\"bahai\"], [\"bahamian pop\"], [\"baltimore hip hop\"], [\"baton rouge rap\"], [\"battle rap\"], [\"bay area hip hop\"], [\"bboy\"], [\"bc underground hip hop\"], [\"beatboxing\"], [\"beats\"], [\"bemani\"], [\"birmingham grime\"], [\"black comedy\"], [\"boom bap\"], [\"boston hip hop\"], [\"bounce\"], [\"bronx hip hop\"], [\"brooklyn drill\"], [\"buffalo hip hop\"], [\"cali rap\"], [\"canadian hip hop\"], [\"canadian old school hip hop\"], [\"canadian trap\"], [\"canadian underground hip hop\"], [\"chicago bop\"], [\"chicago drill\"], [\"chicago rap\"], [\"chicano rap\"], [\"chill r&b\"], [\"chinese viral pop\"], [\"chip hop\"], [\"chopped and screwed\"], [\"christian hip hop\"], [\"christian trap\"], [\"cincinnati rap\"], [\"classic indonesian rock\"], [\"classic luk thung\"], [\"classic malaysian pop\"], [\"classic thai pop\"], [\"colombian hip hop\"], [\"comedy\"], [\"comedy rap\"], [\"conscious hip hop\"], [\"cook islands pop\"], [\"country rap\"], [\"crunk\"], [\"cuban alternative\"], [\"dark trap\"], [\"deep comedy\"], [\"deep east coast hip hop\"], [\"deep eurodance\"], [\"deep flow\"], [\"deep funk\"], [\"deep g funk\"], [\"deep southern trap\"], [\"deep swedish rock\"], [\"detroit hip hop\"], [\"detroit trap\"], [\"dfw rap\"], [\"dirty south rap\"], [\"dirty texas rap\"], [\"dmv rap\"], [\"dresden indie\"], [\"drill\"], [\"dub\"], [\"dub poetry\"], [\"dub product\"], [\"dub reggae\"], [\"dutch hip hop\"], [\"dutch r&b\"], [\"dutch underground hip hop\"], [\"east coast hip hop\"], [\"east coast reggae\"], [\"electro\"], [\"electro dub\"], [\"emo rap\"], [\"escape room\"], [\"estonian hip hop\"], [\"experimental hip hop\"], [\"fijian pop\"], [\"flick hop\"], [\"flint hip hop\"], [\"florida rap\"], [\"frauenrap\"], [\"french dub\"], [\"french hip hop\"], [\"funana\"], [\"futuristic swag\"], [\"g funk\"], [\"gangster rap\"], [\"german pop\"], [\"german singer-songwriter\"], [\"german underground rap\"], [\"ghettotech\"], [\"glitchcore\"], [\"golden age hip hop\"], [\"gospel r&b\"], [\"gospel rap\"], [\"gospel reggae\"], [\"gothenburg hip hop\"], [\"greek downtempo\"], [\"hardcore hip hop\"], [\"harlem hip hop\"], [\"hawaiian hip hop\"], [\"hip hop\"], [\"hip hop cubano\"], [\"hip hop quebecois\"], [\"hip house\"], [\"hip pop\"], [\"horrorcore\"], [\"houston rap\"], [\"hyphy\"], [\"indiana hip hop\"], [\"indie hip hop\"], [\"indie pop rap\"], [\"indie r&b\"], [\"indonesian alternative rock\"], [\"indonesian edm\"], [\"indonesian hardcore\"], [\"indonesian hip hop\"], [\"indonesian indie\"], [\"indonesian indie pop\"], [\"indonesian pop\"], [\"indonesian psychedelia\"], [\"indonesian r&b\"], [\"indonesian reggae\"], [\"indonesian rock\"], [\"israeli hip hop\"], [\"italo house\"], [\"j-pop\"], [\"j-pop boy group\"], [\"j-reggae\"], [\"japanese boom bap\"], [\"japanese chill rap\"], [\"japanese dance pop\"], [\"japanese edm\"], [\"japanese r&b\"], [\"japanese underground rap\"], [\"jazz boom bap\"], [\"jazz rap\"], [\"jewish hip hop\"], [\"k-indie\"], [\"k-rap\"], [\"kaneka\"], [\"kansas city hip hop\"], [\"kansas hip hop\"], [\"kazakh pop\"], [\"kids dance party\"], [\"korean dream pop\"], [\"korean indie folk\"], [\"korean indie rock\"], [\"korean old school hip hop\"], [\"korean r&b\"], [\"korean trap\"], [\"korean underground rap\"], [\"latin hip hop\"], [\"lgbtq+ hip hop\"], [\"lo-fi chill\"], [\"lo-fi jazzhop\"], [\"lovers rock\"], [\"maine hip hop\"], [\"malaysian pop\"], [\"melodic rap\"], [\"meme rap\"], [\"memphis hip hop\"], [\"miami bass\"], [\"miami hip hop\"], [\"military rap\"], [\"milwaukee hip hop\"], [\"minnesota hip hop\"], [\"mississippi hip hop\"], [\"modern alternative pop\"], [\"modern reggae\"], [\"montreal indie\"], [\"musique mariage algerien\"], [\"nashville hip hop\"], [\"native american hip hop\"], [\"neo r&b\"], [\"neo soul\"], [\"nerdcore\"], [\"new jack smooth\"], [\"new jack swing\"], [\"new jersey rap\"], [\"new orleans rap\"], [\"nigerian pop\"], [\"nordic house\"], [\"norrlandsk hip hop\"], [\"north carolina hip hop\"], [\"norwegian hip hop\"], [\"norwegian pop rap\"], [\"nu electro\"], [\"nyahbinghi\"], [\"nyc rap\"], [\"oakland hip hop\"], [\"oc rap\"], [\"ohio hip hop\"], [\"old school dancehall\"], [\"old school hip hop\"], [\"old school rap francais\"], [\"one-person band\"], [\"ottawa rap\"], [\"outer hip hop\"], [\"p funk\"], [\"peruvian hip hop\"], [\"philly rap\"], [\"phonk\"], [\"pittsburgh rap\"], [\"png pop\"], [\"polish alternative rap\"], [\"polish hip hop\"], [\"political hip hop\"], [\"polynesian hip hop\"], [\"polynesian pop\"], [\"pop r&b\"], [\"pop rap\"], [\"pop urbaine\"], [\"popping\"], [\"portland hip hop\"], [\"post-disco\"], [\"prank\"], [\"proto-rap\"], [\"psychedelic hip hop\"], [\"puerto rican pop\"], [\"queens hip hop\"], [\"quiet storm\"], [\"r&b\"], [\"r&b argentino\"], [\"rap\"], [\"rap boricua\"], [\"rap calme\"], [\"rap conscient\"], [\"rap cristiano\"], [\"rap francais\"], [\"rap inde\"], [\"rap kreyol\"], [\"rap latina\"], [\"rap lyonnais\"], [\"rap montrealais\"], [\"rap regio\"], [\"rap underground colombiano\"], [\"rap underground mexicano\"], [\"redneck\"], [\"reggae\"], [\"reggae cover\"], [\"reggaeton\"], [\"rhode island rap\"], [\"ritmo kombina\"], [\"rock kapak\"], [\"roots reggae\"], [\"sacramento hip hop\"], [\"sad rap\"], [\"samoan pop\"], [\"san antonio rap\"], [\"san diego rap\"], [\"scam rap\"], [\"scream rap\"], [\"seattle hip hop\"], [\"shibuya-kei\"], [\"singaporean hip hop\"], [\"slam poetry\"], [\"slow game\"], [\"smooth soul\"], [\"solomon islands pop\"], [\"soul flow\"], [\"southern hip hop\"], [\"spanish indie rock\"], [\"spiritual hip hop\"], [\"spoken word\"], [\"st louis rap\"], [\"sudanese pop\"], [\"swedish folk pop\"], [\"swedish hip hop\"], [\"swedish pop punk\"], [\"swedish reggae\"], [\"swedish underground rap\"], [\"tahitian\"], [\"tamburica\"], [\"tennessee hip hop\"], [\"texas latin rap\"], [\"thai hip hop\"], [\"thai idol\"], [\"thai indie\"], [\"thai indie pop\"], [\"thai indie rock\"], [\"thai pop\"], [\"toronto rap\"], [\"traditional funk\"], [\"traditional soul\"], [\"trap\"], [\"trap argentino\"], [\"trap latino\"], [\"trap mexicano\"], [\"trap queen\"], [\"trap soul\"], [\"turntablism\"], [\"uk alternative hip hop\"], [\"underground boom bap\"], [\"underground hip hop\"], [\"underground rap\"], [\"upstate ny rap\"], [\"urban contemporary\"], [\"vapor trap\"], [\"viral rap\"], [\"viral trap\"], [\"virgin islands reggae\"], [\"virginia hip hop\"], [\"wave\"], [\"west australian hip hop\"], [\"west coast rap\"], [\"west coast reggae\"], [\"west coast trap\"], [\"winnipeg hip hop\"], [\"wu fam\"]], \"hovertemplate\": \"supergenre=hip hop<br>emb1=%{x}<br>emb2=%{y}<br>genre=%{customdata[0]}<extra></extra>\", \"legendgroup\": \"hip hop\", \"marker\": {\"color\": \"#B6E880\", \"size\": 6, \"symbol\": \"circle\"}, \"mode\": \"markers\", \"name\": \"hip hop\", \"showlegend\": true, \"type\": \"scattergl\", \"x\": [6.550619999999999, 0.11956416, 0.44533482, 0.24857536, 2.592931, 0.12910926, 1.0865017, 0.29221937, 0.9657738, 0.08268332, -3.8201005, 0.1860844, 0.74308676, 0.70214295, 0.6360437, 1.0456231, 0.56896585, 0.19730243, 0.6537993000000001, 0.42310244, 0.5798071, 0.44613913, 0.42933652, 1.7187706000000005, 0.14519002, 0.40578017, 0.14206043, 6.2275815, -0.27936366, 4.0514426, 0.3923244999999999, 0.29264224, 0.64981693, 0.3063885, 0.63584167, 0.53811187, 0.46619803, 0.2627092, 0.23162004, 0.50223786, 0.39299095, 0.68695796, 0.56582737, 0.5549786, 0.52015716, 0.743084, 0.70711446, 0.15257247, 0.6703368000000001, 6.4997325, 6.5292225, 0.33366928, 8.589402999999999, -0.13979104, 1.119823, -0.16050304, 0.42284387, 4.1712036, 4.185120599999999, 0.20808782, -0.41269147, 0.6922857, 0.62971264, -4.243312, 0.6600686, 4.187299299999999, 0.4287202999999999, -0.25600177, 5.7294855, 1.7569867, 0.42605972, 0.6149600000000001, 0.1918539, 0.552688, 0.5381929, 0.665358, 0.6693863, 0.5995391, 0.5236779, 8.206750999999999, 0.5370378, -0.23216353, -0.22870393, -0.20477885, -0.23971495, 2.3908722, 0.2081645, 0.16954224, 0.33416915, -0.28670356, 1.0430993, -0.16093001, 0.63015175, 0.42405668, 0.6569724, 0.22762088, -0.4139017, 0.10085334, 0.5800974, 0.5698430999999999, 8.164003, -0.17097878, 6.520089, -0.2627111, 0.75545865, 0.45674247, 0.5508534, 8.200236, 8.229671000000002, -0.8058841, 1.0215104, 0.53411967, 0.40723115, 0.99776256, 0.21529849, -0.26779798, 4.542697, 1.5636386, 0.3741618, 0.5084206, 0.13774857, 0.5723698, 0.0605748, 6.506213, 0.636518, 0.9264464, 0.53977704, 0.63533837, 0.43619922, 0.54597235, 0.38447845, 0.60550827, 2.1577597, 8.633196, 0.9251171, 0.42609277, 0.43489373, 8.630883, 8.633610000000001, 8.644141000000001, 8.633512, 8.6223, 8.6338825, 8.630925, 4.107603500000001, 0.50960726, 6.633297, 6.642744, 6.5425167, 0.302845, 6.286682, 6.2706537, 6.5212235, 6.4327803, 0.2592157, 0.09023566, 0.14287145, 7.074949, 1.2544591, 1.2567416, -0.36825594, 0.7124395, 0.43400773, 0.4897117, 2.649759, 1.2959288, 0.7238001000000001, 1.2953181, 1.3269774, 1.2656596000000002, 1.2454411, 1.2846566, -3.8974915, 0.15423022, 0.779709, 0.00910411, -0.2917126, 0.1717682, 1.2083892, 0.73936826, 0.6211007, 0.71135044, 0.6560088000000001, 0.7945161999999999, 0.7129789000000001, 1.0296925, 0.18503816, 0.52170855, 0.87053746, -0.30382028, 0.78737175, 0.64606297, 0.66537994, 0.67892504, 0.92271924, 1.0321634, 4.2455, 0.7088466999999999, 1.0506477, 0.5270303000000001, 0.6932494, 1.076646, 5.576173000000001, 4.825842400000001, 0.5377713000000001, 5.7171526, 5.715602, 0.64660627, -0.26947448, 0.62625176, 0.4577917, 0.6595956999999999, 0.61138713, -0.3215540999999999, 0.5519556999999999, 6.5317802, 3.0617154, 0.27144396, 0.2353272, 2.0401807, -3.8555758, 0.23849496, 0.6212941999999999, 0.7004486999999999, -0.3811776, 2.2910264, 2.3163674, 0.18964258, 0.34726346, -0.3735739, 0.9510462, 0.6771484999999999, 6.544931, 2.0018606, 0.25969508, 1.9917771, 4.1833797, 0.51403695, 0.44986612, -3.954218, 0.47761956, 2.0887094, 1.0035812, -3.823928, 0.6419012, -3.8798304, 6.561349000000001, 6.5251675, 6.5268254, 6.5255747, 6.522665, 0.85763496, -3.9649339, 6.4986935, 6.5300055, 0.73098457, 0.46759447, -4.151818799999999, 0.71725214, -0.21219105, -0.23403521, -3.9056408, 0.13560408, 8.236717, 1.1278366000000002, -0.25824428, 0.45724028, 0.74504495, -0.3967835999999999, 4.288057299999999, 0.44272536, 0.4824958, 0.6268975999999999, 0.17871857, 6.189625299999999, 1.0561075, 0.22883411, 0.5616896, 0.88706833, -0.3714009, 0.48445475, 0.6676367, -4.515658999999999, 0.09801382, 0.24584776, 0.71382934, 0.4987677, 2.3329988, 4.556686, 4.575201, 4.541861, 4.537609, -0.4017963, 7.5739436, 0.71012455, 0.53970987, -0.17131156, -0.1729977, -0.21506149, -0.21190114, -0.2267061, -0.18370019, 0.47079125, 1.7982541, 1.8620081, 0.638286, -3.8274052, -3.877064700000001, 0.7790175, 0.68683445, 0.7013588000000001, 0.26136535, -0.17294495, 0.3514109, 0.56701183, 0.17159508, 0.5770794, 1.0717431999999998, 0.60530376, 0.7204432, 0.70238173, -0.27015916, 0.843939, 0.55820507, 0.5914031999999999, 0.4401947, -0.33227804, 0.4524577, 0.15876377, 0.34454608], \"xaxis\": \"x\", \"y\": [5.991924, 8.219892999999999, 2.9309814, 8.202437, 2.6899147, 7.9853754, 7.699682000000001, 8.240246, 7.819926299999999, 7.830251, 4.930019000000001, 7.890927, 8.543584, 8.672400999999999, 7.9959297, 6.349130000000001, 7.973122, 8.1173, 8.665037, 8.513274000000001, 8.7232, 8.292925, 8.85505, 3.5527728, 8.171407, 8.305694, 7.9236197, 5.991396, 6.1705794, 8.068988000000001, 8.369102999999999, 8.251021000000001, 8.706116999999999, 8.285075, 8.441343, 8.359307000000001, 8.738664, 8.211322000000001, 8.204288, 8.328714, 8.271053, 8.559676, 8.55425, 8.527708, 8.580668, 8.393373, 8.91269, 8.252017, 8.753368, 7.880602400000001, 7.8593917, 8.269784, 11.717357000000002, 8.64277, 8.389546000000001, 8.680403, 8.382308, 8.0240755, 8.016859, 8.2282095, 3.5342987, 8.890087, 8.613868, 5.176234, 8.449713000000001, 8.025793, 8.328342999999998, 3.1286094, 3.480022, 3.5617212999999994, 8.791586, 8.71072, 8.26602, 8.691661999999999, 8.73039, 8.678233, 8.714342, 8.747272, 8.1543665, 5.9511175000000005, 8.576171, 3.0977752, 3.0612724, 3.0560577, 3.1902974, 4.889303, 7.997956299999999, 8.028812, 8.292028, 3.0928183, 6.378535299999999, 3.0690389, 8.464267999999999, 8.201874, 8.614386, 8.169835, 3.5383892, 8.296156, 8.738348, 8.445967999999999, 5.962255, 3.0800533, 3.8382134, 3.0987398999999995, 8.571347, 8.783472, 8.636802000000001, 5.9828258000000005, 6.015197799999999, 3.6267273, 6.277463, 8.210147000000001, 8.268424000000001, 7.6752815, 8.167291, 3.0973864, 3.6725008, 6.8204117, 8.332825999999999, 8.385325, 8.277222, 8.337576, 8.205721, 3.8495166, 6.5761080000000005, 7.979516499999999, 8.821533, 8.731057, 8.83422, 8.247451, 8.3340435, 8.300492, 3.7916806, 11.749872, 8.065973, 8.840506, 8.842267, 11.745559, 11.752216, 11.764965, 11.750435, 11.746704, 11.756095, 11.749498, 2.2449334, 6.521397599999999, 5.902710400000001, 5.9274015, 5.908320400000001, 8.175794999999999, 5.945943, 5.9581623, 5.889243, 5.9053555, 8.114051, 7.839589999999999, 7.9548416, 4.4678435, 8.567668, 8.528697, 3.5154681000000005, 8.333866, 8.114483, 8.345084, 5.699591000000001, 8.500744000000001, 8.650516, 8.498804, 8.547609, 8.504526, 8.527139, 8.555927, 5.029387, 8.060277000000001, 8.400214, 7.6029205, 3.1144133, 8.230017, 8.386424, 8.579735000000001, 8.468838, 8.589580999999999, 7.7936106, 8.445738, 8.908063, 7.772324, 8.222567, 8.549837, 8.327075, 3.099884, 5.116429, 8.321927, 8.78978, 8.890129, 7.837962599999999, 7.756771, 7.9496207, 8.5499115, 7.716698599999999, 8.418565, 8.442152, 7.668439, 3.6101172, 3.6296606, 8.283707000000001, 3.496611, 3.4661214, 7.327966, 3.1202931, 8.429053, 8.684351, 8.516946, 8.563717, 3.0906754000000003, 8.103062, 3.8420954, 6.87675, 8.234259, 8.27165, 3.6278136, 5.1293774, 8.338471, 8.629371, 8.402847999999999, 3.4820786, 10.074564, 10.058708, 8.252597999999999, 8.409302, 3.580058, 7.911956299999999, 8.317553, 3.7939072, 3.7603183, 8.209759, 3.7884874, 8.038441, 7.921815400000001, 8.268751, 4.68471, 8.340974000000001, 3.8708265, 7.836426299999999, 4.94355, 8.475653999999999, 4.968203, 3.7818098, 3.828724, 7.865296400000001, 3.8283424, 3.8320372, 8.181526, 5.2018156, 3.8891516, 3.82957, 8.215288000000001, 8.357377, 5.0863733, 8.902997000000001, 3.1126451, 3.105763, 4.981796299999999, 8.296398, 6.016615, 8.409286, 3.1136413, 8.800494, 8.439411999999999, 3.549644, 7.9662137, 8.890888, 8.592792999999999, 8.464466, 8.241468, 5.9507527, 8.418859, 7.8410883, 8.62814, 7.413022, 3.5190725, 8.351417, 8.568773, 5.7083497, 8.287355999999999, 7.898242999999999, 8.401846, 8.176755, 10.108649, 3.6960318, 3.8312883, 3.740698000000001, 3.6877077000000007, 3.5594826, 4.474353, 8.624797000000001, 8.619498, 8.659282000000001, 8.617078, 8.672682, 8.664585, 8.663364999999999, 8.665092999999999, 8.246306, 3.5885901, 3.5192158, 8.525789, 4.921732, 4.9220643, 8.233811, 8.254147, 8.3789, 7.877865299999999, 5.797125299999999, 8.269599000000001, 8.386887, 8.267288, 8.354341999999999, 7.729311500000001, 8.496459, 8.575119, 8.64672, 3.0955968, 8.153453, 8.463001, 8.008941, 8.785223, 3.2419953, 8.8103, 8.260862, 8.320874], \"yaxis\": \"y\"}, {\"customdata\": [[\"accordeon\"], [\"accordion\"], [\"adult standards\"], [\"african electronic\"], [\"african-american classical\"], [\"afro soul\"], [\"afro-cuban percussion\"], [\"afro-cuban traditional\"], [\"afro-funk\"], [\"afrobeat brasileiro\"], [\"afrofuturismo brasileiro\"], [\"afropop\"], [\"amapiano\"], [\"amharic pop\"], [\"ancient mediterranean\"], [\"arab folk\"], [\"arabic jazz\"], [\"argentine jazz\"], [\"armenian folk\"], [\"armenian hip hop\"], [\"armenian pop\"], [\"asakaa\"], [\"australian jazz\"], [\"austrian jazz\"], [\"avant-garde jazz\"], [\"axe\"], [\"background jazz\"], [\"baiao\"], [\"baithak gana\"], [\"bal-musette\"], [\"ballroom\"], [\"bandolim\"], [\"barnmusik\"], [\"bass trip\"], [\"bebop\"], [\"belgian jazz\"], [\"belgian modern jazz\"], [\"beninese pop\"], [\"big band\"], [\"bolero cubano\"], [\"bolero mexicano\"], [\"bomba y plena\"], [\"boogaloo\"], [\"boogie\"], [\"boom bap brasileiro\"], [\"bossa nova\"], [\"bossa nova jazz\"], [\"brass band\"], [\"brass band brasileiro\"], [\"brazilian boogie\"], [\"brazilian contemporary classical\"], [\"brazilian experimental\"], [\"brazilian hip hop\"], [\"brazilian indie rock\"], [\"brazilian jazz\"], [\"brazilian modern jazz\"], [\"brazilian rockabilly\"], [\"brazilian ska\"], [\"brazilian soul\"], [\"brega\"], [\"brit funk\"], [\"british brass band\"], [\"british dance band\"], [\"british jazz\"], [\"burkinabe pop\"], [\"calypso\"], [\"canadian modern jazz\"], [\"carimbo\"], [\"carnatic instrumental\"], [\"charanga\"], [\"chicago soul\"], [\"chinese jazz\"], [\"choro\"], [\"choro contemporaneo\"], [\"christmas instrumental\"], [\"city pop\"], [\"classic australian country\"], [\"classic japanese jazz\"], [\"classic polish pop\"], [\"classical accordion\"], [\"classical saxophone\"], [\"classical trumpet\"], [\"coco\"], [\"contemporary gospel\"], [\"contemporary jazz\"], [\"contemporary post-bop\"], [\"contemporary vocal jazz\"], [\"cool jazz\"], [\"coupe-decale\"], [\"cuban rumba\"], [\"cubaton\"], [\"danish folk\"], [\"danish jazz\"], [\"danish pop rock\"], [\"danish singer-songwriter\"], [\"deep adult standards\"], [\"deep brazilian pop\"], [\"deep free jazz\"], [\"deep jazz fusion\"], [\"deep r&b\"], [\"deep smooth jazz\"], [\"deep smooth r&b\"], [\"deep southern soul\"], [\"deep vocal jazz\"], [\"dinner jazz\"], [\"dixieland\"], [\"dragspel\"], [\"dub brasileiro\"], [\"dutch jazz\"], [\"eastern bloc groove\"], [\"ecm-style jazz\"], [\"electric bass\"], [\"ethio-jazz\"], [\"ethiopian pop\"], [\"ethiopian traditional\"], [\"eugene indie\"], [\"fado\"], [\"fado antigo\"], [\"fado de coimbra\"], [\"fado instrumental\"], [\"festigal\"], [\"finnish soul\"], [\"flamenco guitar\"], [\"folclore portugues\"], [\"folclore salteno\"], [\"folk brasileiro\"], [\"folkmusik\"], [\"forro\"], [\"forro instrumental\"], [\"forro tradicional\"], [\"free jazz\"], [\"french jazz\"], [\"funk\"], [\"funk das antigas\"], [\"funk melody\"], [\"funk ostentacao\"], [\"funk pop\"], [\"galician jazz\"], [\"german jazz\"], [\"ghanaian alternative\"], [\"go-go\"], [\"gospel\"], [\"gospel singers\"], [\"gospel soul\"], [\"greek folk\"], [\"guitarra portuguesa\"], [\"gypsy jazz\"], [\"hammond organ\"], [\"hard bop\"], [\"hard rock brasileiro\"], [\"hardingfele\"], [\"harlem renaissance\"], [\"harmonica jazz\"], [\"harmonikka\"], [\"icelandic jazz\"], [\"indian instrumental\"], [\"indian jazz\"], [\"indian violin\"], [\"indie curitibano\"], [\"indie jazz\"], [\"indonesian jazz\"], [\"instrumental funk\"], [\"instrumental soul\"], [\"israeli jazz\"], [\"israeli pop\"], [\"italian contemporary jazz\"], [\"italian jazz\"], [\"japanese blues\"], [\"japanese jazz\"], [\"japanese soul\"], [\"japanese worship\"], [\"jazz\"], [\"jazz accordion\"], [\"jazz blues\"], [\"jazz brass\"], [\"jazz caraibes\"], [\"jazz catala\"], [\"jazz clarinet\"], [\"jazz colombiano\"], [\"jazz composition\"], [\"jazz cubano\"], [\"jazz double bass\"], [\"jazz drums\"], [\"jazz flute\"], [\"jazz funk\"], [\"jazz fusion\"], [\"jazz guitar\"], [\"jazz mexicano\"], [\"jazz orchestra\"], [\"jazz organ\"], [\"jazz piano\"], [\"jazz pop\"], [\"jazz puertorriqueno\"], [\"jazz quartet\"], [\"jazz saxophone\"], [\"jazz trio\"], [\"jazz trombone\"], [\"jazz trumpet\"], [\"jazz tuba\"], [\"jazz venezolano\"], [\"jazz vibraphone\"], [\"jazz violin\"], [\"jovem guarda\"], [\"jump blues\"], [\"khaleeji iraqi\"], [\"korean jazz\"], [\"kritika\"], [\"kwaito\"], [\"latin jazz\"], [\"lebanese indie\"], [\"library music\"], [\"light music\"], [\"lo-fi brasileiro\"], [\"lounge\"], [\"mallet\"], [\"mambo\"], [\"manguebeat\"], [\"maskandi\"], [\"memphis soul\"], [\"mevlevi sufi\"], [\"mgp\"], [\"middle eastern traditional\"], [\"modern big band\"], [\"modern chamber music\"], [\"modern free jazz\"], [\"modern funk\"], [\"modern jazz piano\"], [\"modern jazz trio\"], [\"modern swing\"], [\"mpb\"], [\"musica alagoana\"], [\"musica baiana\"], [\"musica cearense\"], [\"musica gaucha tradicionalista\"], [\"musica infantil\"], [\"musica juiz-forana\"], [\"musica maranhense\"], [\"musica para criancas\"], [\"musica paraibana\"], [\"musica popular amazonense\"], [\"musica popular mineira\"], [\"musica popular paraense\"], [\"musica potiguar\"], [\"musica tradicional cubana\"], [\"musica triste brasileira\"], [\"musik anak-anak\"], [\"naija worship\"], [\"neapolitan funk\"], [\"neo soul-jazz\"], [\"neo-psicodelia brasileira\"], [\"new orleans funk\"], [\"new orleans jazz\"], [\"northern soul\"], [\"norwegian folk\"], [\"norwegian jazz\"], [\"nova mpb\"], [\"nova musica amazonense\"], [\"nova musica paulista\"], [\"nova musica pernambucana\"], [\"nyckelharpa\"], [\"oud\"], [\"pagode\"], [\"pagode baiano\"], [\"pagode novo\"], [\"palestinian pop\"], [\"partido alto\"], [\"persian neo-traditional\"], [\"persian traditional\"], [\"piano blues\"], [\"piano mpb\"], [\"polish alternative\"], [\"polish free jazz\"], [\"polish jazz\"], [\"polish modern jazz\"], [\"polish pop\"], [\"pop lgbtq+ brasileira\"], [\"pop nacional\"], [\"pop nacional antigas\"], [\"pop rock brasileiro\"], [\"pops orchestra\"], [\"portuguese pop\"], [\"post-disco soul\"], [\"praise\"], [\"progressive jazz fusion\"], [\"puerto rican folk\"], [\"ragtime\"], [\"rap df\"], [\"rap maromba\"], [\"rap nacional antigo\"], [\"rare groove\"], [\"rock alternativo brasileiro\"], [\"rock baiano\"], [\"rock cearense\"], [\"rock gaucho\"], [\"rock nacional brasileiro\"], [\"rock piauiense\"], [\"roda de samba\"], [\"salsa cubana\"], [\"salsa international\"], [\"samba\"], [\"samba de roda\"], [\"samba moderno\"], [\"samba paulista\"], [\"samba reggae\"], [\"samba-enredo\"], [\"samba-jazz\"], [\"samba-rock\"], [\"sanfona\"], [\"santur\"], [\"saxophone trio\"], [\"scottish jazz\"], [\"second line\"], [\"sertanejo\"], [\"sertanejo pop\"], [\"sertanejo tradicional\"], [\"sertanejo universitario\"], [\"smooth jazz\"], [\"smooth saxophone\"], [\"son cubano\"], [\"son cubano clasico\"], [\"soul\"], [\"soul jazz\"], [\"souldies\"], [\"south african gospel\"], [\"south african hip hop\"], [\"south african jazz\"], [\"south african pop\"], [\"south african pop dance\"], [\"southern soul\"], [\"southern soul blues\"], [\"spanish jazz\"], [\"spytrack\"], [\"straight-ahead jazz\"], [\"street band\"], [\"stride\"], [\"svensk progg\"], [\"swedish fiddle\"], [\"swedish jazz\"], [\"swing\"], [\"swing revival\"], [\"szanty\"], [\"tabla\"], [\"tar\"], [\"tecnobrega\"], [\"thai traditional\"], [\"timba\"], [\"tipico\"], [\"torch song\"], [\"trad jazz catala\"], [\"trap brasileiro\"], [\"trio cubano\"], [\"trombone brasileiro\"], [\"tropicalia\"], [\"turkish experimental\"], [\"ugandan pop\"], [\"uk contemporary jazz\"], [\"umbanda\"], [\"vaudeville\"], [\"velha guarda\"], [\"vintage chanson\"], [\"vintage french electronic\"], [\"vintage hollywood\"], [\"vintage jazz\"], [\"vintage norwegian pop\"], [\"vintage schlager\"], [\"vintage swedish pop\"], [\"vintage swing\"], [\"viola caipira\"], [\"violao\"], [\"violao classico\"], [\"visor\"], [\"vocal jazz\"], [\"zouglou\"]], \"hovertemplate\": \"supergenre=jazz<br>emb1=%{x}<br>emb2=%{y}<br>genre=%{customdata[0]}<extra></extra>\", \"legendgroup\": \"jazz\", \"marker\": {\"color\": \"#FF97FF\", \"size\": 6, \"symbol\": \"circle\"}, \"mode\": \"markers\", \"name\": \"jazz\", \"showlegend\": true, \"type\": \"scattergl\", \"x\": [2.1687224, 2.1308234, 2.7001784, -3.6298904, 2.446971, 1.0507255, -3.5738432, -3.5406618, 1.1294931, 0.96078056, 0.7176424, 0.97624606, 1.0136445, 1.2356191, 6.017503, 6.0363684, 6.120387, 2.0602162, 5.951889, 5.931711, 5.9265413, 0.941363, 2.3028347, 2.2909408, 2.535031, 1.0898428, 2.2650871, 1.1347622, 2.423858, 2.183473, 2.750089200000001, 1.0719683, 4.502807, 2.0979087000000005, 2.2943559, 2.4193175, 2.2816873, 1.135568, 2.4711306, -3.6707754, -4.0670586, -3.6791725, -3.6475472, 1.9998176, 0.60112745, 1.0901352, 1.1796112, 1.9402432, 1.0728626, 1.1204932, 1.4873514, 1.1608406999999998, 0.6192011, 0.7227433000000001, 1.2199183, 1.2899145, 0.4310412999999999, 0.57735556, 1.0069337, 0.9720614, 1.7851284, 3.7513568, 2.6039228, 2.0835464, -3.6176095, 2.6419537, 2.249372, 1.0061117, 6.644932700000001, -3.616375, 2.2119749, 2.3955128, 1.099934, 1.0969377, 2.6195211, 6.1766176, 2.984895, 2.441492, 2.4288545, 2.1351795, 2.3808022, 2.4338722, 0.8374471, 2.5470915, 2.294907, 2.239661, 2.6611044, 2.2837498, 0.9000059000000001, -3.5914228, -3.5832307, 5.15764, 2.3992226000000003, 2.463007, 2.4149718, 2.7419055, 1.0151225, 2.5100024, 2.2650745, 2.2343411, 2.1086743, 2.2438104, 2.2166740000000003, 2.5639763, 2.6343765, 2.4945388, 2.2023427000000004, 0.76231456, 2.5207245, 2.4343657000000003, 2.4193797000000004, 2.3086636, 1.3577483, 1.2293701, 1.2720153, 2.5792072, 0.9569535, 0.94019884, 0.9372194, 0.9165796, 6.6424227, 1.8208144, -4.67096, 0.9391756, 2.0590324, 0.673667, 4.977178599999999, 1.1375363, 1.1452221000000002, 1.169036, 2.5747137, 2.2781065, 1.8826907, 1.0639684, 1.0927083, 0.69290245, 1.0883598, 2.2161422, 2.3956707, 0.0964324, 1.977255, 2.5386229, 1.3200037, 2.0628276000000003, 6.043579599999999, 0.93258774, 2.3301878, 1.9633515, 2.2967253, 0.49959633, 5.104941, 2.4599936, 2.4202747, 5.1104627, 2.0879362, 6.6435943, 6.5968122000000005, 6.6458397, 0.7969964, 1.8758818, 8.632244, 1.8152223000000005, 1.9711277, 2.2577972, 6.671911200000001, 2.1353998, 2.370438, 6.456332, 6.111491, 6.241293, 0.11683907, 2.2464678, 2.1357162, 2.6272151000000004, 2.4732826, -3.423993, 2.2484481, 2.5918932, 2.3545482000000004, 2.3807282, -3.5250595, 2.3253236, 2.229817, 2.1042080000000003, 2.0011063, 2.198778, 2.2471273, 2.39298, 2.421927, 2.1202226000000004, 2.2643318, 2.6126807, -3.5824964, 2.264562, 2.2557902000000003, 2.3293072999999995, 2.6213906, 2.2683413, 2.3630335, -3.4434354, 2.1914377, 2.3784645, 0.9452818, 2.6878285, 6.0110703, 2.6998494, 6.0312386, 1.0311276, -3.5948296, 5.9923267, 2.8413372000000003, 2.7732668, 0.9285222, 2.8152204, 2.2243476, -3.6146948, 0.80400634, 1.1233805, 2.2286599, 6.584303, 2.4795241000000003, 6.0009074, 2.408715, 2.083641, 2.5882285, 1.7487646, 2.2172775, 2.3864245, 2.513953, 0.94700354, 1.1043797, 1.0226067, 0.77940315, 0.7474995, 0.82882744, 0.8798284, 1.0222802, 0.872727, 0.9790141, 1.0575851, 1.1111265, 1.0400665999999998, 1.0018451, -3.6096208, 0.89013594, 0.045690708, 2.541732, 2.3151772, 2.2759356, 0.69341177, 1.989873, 2.4243019, 2.201231, 5.169673, 2.5439885, 0.8236515999999999, 1.0507869, 0.8382878, 0.77412534, 5.0616693, 5.990999700000001, 1.077976, 1.1218146999999998, 1.0639716, 6.042813, 1.1241508, 6.0351195, 6.060357, 2.8191938, 2.6184304, 2.3824728, 2.3994052000000003, 2.432936, 2.4053829, 2.3929012000000003, 0.96788126, 1.0350606, 0.97282267, 0.5583859999999999, 2.8563297000000003, 0.9679826, 2.017999, 2.547823, 5.258348000000001, -3.700379, 2.4506752, 0.6301939000000001, 0.7008621, 0.6541541000000001, 1.9544958, 0.57945883, 0.93053055, 0.61282027, 0.6098523, 0.5905845999999999, 0.55974746, 1.0721606, -3.569768, -3.705899, 1.0346705, 0.90312034, 1.0518233, 1.0194976, 1.1296767, 1.0470889, 1.163454, 0.96599495, 1.1687407, 6.073974, 2.1730318, 2.7680016, 2.0166001, 0.99009645, 1.0230571, 0.93453115, 0.9879597, 2.0991037, 2.045315, -3.6266136, -3.5680356, 2.2141407, 2.1436596000000003, 2.1870747, 1.1169801, 0.736716, 1.1530428, 1.0294926, 1.033635, 2.2032049, 2.241751, 2.1861353, 2.8939545, 2.2676969, 1.9766078, 2.407417, 4.593587, 5.103461, 4.2059517, 2.528582, 2.4781938, 2.4346488, 6.6075006, 6.046841000000001, 1.063117, 2.369192, -3.5878968, -3.6858988, 2.8654578, 2.4794817000000005, 0.70092994, -3.6512823, 0.76231027, 0.9695488, 6.3057194, 4.4639225, 2.008446, 1.0173329, 2.4629328, 1.0744853, 3.0431435, 3.3633702000000003, 2.999862, 2.4539886, 5.863828, 3.1578848, 4.397322, 3.1533356, 0.92660654, 1.1745712, 1.2120011999999998, 4.5094023000000005, 2.5242214, 0.9719787], \"xaxis\": \"x\", \"y\": [1.9821829, 1.8435944, 3.4535484, 4.2011595, 3.1006994, 3.035644, 4.1580496, 4.1501145, 2.990914, 0.6848416, 0.32437345, 2.8655455, 3.0394013, 3.0102108, 1.0518991000000002, 1.0152829, 1.236049, 1.7008928, 1.0102268, 1.0268031, 1.0435995999999998, 2.8146672, 3.0509667, 2.883432, 2.6090372000000004, 0.08172405, 2.7513642000000003, 0.43739408, 4.827033999999999, 2.0085433, 3.2777123, 0.4410365, 3.807005, 2.9710696, 2.9080827, 2.94185, 3.4155061, 2.924755, 3.1298842, 4.2046022, 4.322705, 4.303411, 4.244936, 3.843767, 0.2378788, 0.5784064999999999, 0.6729782, 3.2848365, 0.5771394, 0.8406606, 0.90362746, 0.8151733, 0.26551095, 0.34337214, 0.66127455, 0.87279737, 0.12848334, 0.24746475, 0.50003004, 0.50226295, 3.622177, 2.676911, 3.227703, 2.9363806, 4.2078004, 3.4477012000000005, 2.8203995, 0.3731236, 1.378823, 4.1938944, 3.779187, 2.8429267000000005, 0.3968893, 0.40709496, 3.3179474, 5.796643700000001, 4.9123425, 2.744225, 10.228465, 1.8432102, 2.6888437, 2.8849002999999995, 0.34066406, 3.6287959, 2.7560966, 2.8024685000000003, 3.2284067000000003, 2.830149, 2.8644881, 4.1802177, 4.193413, 4.1579924, 2.6564815, 7.6221337, 7.6022205, 3.36217, 0.4734529, 2.634347, 2.839923, 2.973162, 3.307613, 2.7779372, 3.802254, 3.1493900000000004, 3.5486364000000004, 3.1880727, 1.8959079, 0.38834363, 2.6095114, 10.243795, 2.6295497, 2.7804067000000003, 3.0628195, 3.02281, 3.0439568, 3.2431307, 0.77994514, 0.8365481, 0.816547, 0.8716801, 4.7425528, 3.4137588, 6.202761, 0.84274316, 1.6958945, 0.2970714, 4.0461273, 0.3259652, 0.31290063, 0.34931502, 2.6148257000000004, 2.3593664, 3.6237578, 0.13086955, 0.16298212, 0.23582701, 0.11742236, 2.8415248, 2.8917363, 2.7727084, 3.673466200000001, 3.608984200000001, 3.0240119, 3.6128929, 0.9749226, 0.85219747, 2.460325, 3.2358735, 2.8456705, 0.22056507, 4.1522455, 3.2683022, 2.9750445, 4.1255293, 3.2035341, 1.3699358999999998, 1.383578, 1.369347, 0.35838184, 3.0553172, 11.7522335, 3.4143410000000003, 3.5157592000000006, 2.7855952, 4.738857299999999, 1.8612897, 2.7566404, 5.723273000000001, 5.734374, 5.876692, 3.3360540000000003, 2.8496459, 1.8638145, 3.5138977, 2.9206114, 4.064446, 2.8563874, 3.1218553, 2.6995075, 2.527524, 4.124962, 2.7140388, 2.750722, 2.8698914, 3.171148, 2.8289285, 2.818413, 2.6243715, 3.039778, 3.0950174, 2.934797, 3.220867, 4.1801586, 2.8982055, 2.778136, 2.8406932, 3.1811528, 2.9544413, 2.9673522, 4.07304, 2.9232974, 2.4917884, 0.4895889, 3.8344646, 1.0073166999999998, 3.221782, 0.9418574, 3.0262082, 4.188098, 1.064325, 3.1691706, 3.215455, 0.5302635, 3.2853048, 2.8632846, 4.215128, 0.35756254, 3.031618, 3.7193072, 0.7614758, 3.1737158, 1.0151011, 2.9311116000000004, 3.0566516, 2.5194895, 3.539283, 2.8253956, 2.7089229, 3.1856925, 0.37344062, 0.47468087, 0.50239265, 0.33266884, 0.32131246, 0.36752468, 0.3858714, 0.36828232, 0.33282775, 0.5377725, 0.53197443, 0.5959181, 0.32684156, 0.47666782, 4.16087, 0.5050846, 3.2876627, 3.593548, 5.60203, 2.7963934, 0.34464166, 3.4626942, 3.13343, 3.834258, 4.1130557, 2.6501873, 0.3787957, 0.5483621, 0.35388154, 0.34654412, 4.0898414, 1.0135367, 0.24171029, 0.15466711, 0.33067855, 1.0186522, 0.36632589, 0.9647748, 0.9465051, 3.969299, 3.1668540000000003, 10.167693, 2.6952271, 2.6172945, 2.6240916000000003, 10.198572, 0.49880233, 0.15968138, 0.41450438, 0.22704914, 3.3929374, 1.00227, 3.8103905, 3.5247414, 6.078503, 4.3243575, 3.141297, 0.25971237, 0.2785616, 0.28764254, 3.3193538, 0.24343565, 0.4287722, 0.25700095, 0.2662989, 0.24542557, 0.22050221, 0.42273006, 4.169736, 4.322743, 0.4292069999999999, 0.5373383, 0.39032105, 0.16956578, 0.20785493, 0.42907715, 0.7960782, 0.4302205, 0.40577605, 0.945697, 2.9546278, 3.3040802000000005, 3.3010019999999995, 0.14311847, 0.11809479, 0.119351454, 0.11300828, 3.2182827, 3.1143217, 4.1971517, 4.144625, 3.661334, 3.0206754, 3.7879188, 2.8973143, 0.57960904, 3.024635, 3.0850217, 3.0428517000000004, 3.7500362, 3.7501085, 2.8657963, 3.2363727000000004, 2.8574994, 3.3011909, 2.988388, 3.919154, 4.14551, 3.5650084000000004, 3.1590986, 3.1899333, 10.207659, 1.3758415000000002, 0.96902937, 0.2372694, 2.74997, 4.194124700000001, 4.295814, 3.36267, 3.1224997, 0.32057855, 4.1935716, 0.33021036, 0.54675686, 0.34167045, 3.6701853, 3.075807, 0.37777144, 3.1627240000000003, 0.39330897, 3.3322392, 3.046656, 3.3806033, 3.1098826, 3.4819183, 3.4135296000000004, 3.7814205, 4.195543, 0.35175428, 0.6065568, 0.6876909000000001, 3.8165052, 3.143269, 2.9248774], \"yaxis\": \"y\"}],                        {\"height\": 800, \"legend\": {\"title\": {\"text\": \"supergenre\"}, \"tracegroupgap\": 0}, \"margin\": {\"t\": 60}, \"template\": {\"data\": {\"bar\": [{\"error_x\": {\"color\": \"#2a3f5f\"}, \"error_y\": {\"color\": \"#2a3f5f\"}, \"marker\": {\"line\": {\"color\": \"#E5ECF6\", \"width\": 0.5}}, \"type\": \"bar\"}], \"barpolar\": [{\"marker\": {\"line\": {\"color\": \"#E5ECF6\", \"width\": 0.5}}, \"type\": \"barpolar\"}], \"carpet\": [{\"aaxis\": {\"endlinecolor\": \"#2a3f5f\", \"gridcolor\": \"white\", \"linecolor\": \"white\", \"minorgridcolor\": \"white\", \"startlinecolor\": \"#2a3f5f\"}, \"baxis\": {\"endlinecolor\": \"#2a3f5f\", \"gridcolor\": \"white\", \"linecolor\": \"white\", \"minorgridcolor\": \"white\", \"startlinecolor\": \"#2a3f5f\"}, \"type\": \"carpet\"}], \"choropleth\": [{\"colorbar\": {\"outlinewidth\": 0, \"ticks\": \"\"}, \"type\": \"choropleth\"}], \"contour\": [{\"colorbar\": {\"outlinewidth\": 0, \"ticks\": \"\"}, \"colorscale\": [[0.0, \"#0d0887\"], [0.1111111111111111, \"#46039f\"], [0.2222222222222222, \"#7201a8\"], [0.3333333333333333, \"#9c179e\"], [0.4444444444444444, \"#bd3786\"], [0.5555555555555556, \"#d8576b\"], [0.6666666666666666, \"#ed7953\"], [0.7777777777777778, \"#fb9f3a\"], [0.8888888888888888, \"#fdca26\"], [1.0, \"#f0f921\"]], \"type\": \"contour\"}], \"contourcarpet\": [{\"colorbar\": {\"outlinewidth\": 0, \"ticks\": \"\"}, \"type\": \"contourcarpet\"}], \"heatmap\": [{\"colorbar\": {\"outlinewidth\": 0, \"ticks\": \"\"}, \"colorscale\": [[0.0, \"#0d0887\"], [0.1111111111111111, \"#46039f\"], [0.2222222222222222, \"#7201a8\"], [0.3333333333333333, \"#9c179e\"], [0.4444444444444444, \"#bd3786\"], [0.5555555555555556, \"#d8576b\"], [0.6666666666666666, \"#ed7953\"], [0.7777777777777778, \"#fb9f3a\"], [0.8888888888888888, \"#fdca26\"], [1.0, \"#f0f921\"]], \"type\": \"heatmap\"}], \"heatmapgl\": [{\"colorbar\": {\"outlinewidth\": 0, \"ticks\": \"\"}, \"colorscale\": [[0.0, \"#0d0887\"], [0.1111111111111111, \"#46039f\"], [0.2222222222222222, \"#7201a8\"], [0.3333333333333333, \"#9c179e\"], [0.4444444444444444, \"#bd3786\"], [0.5555555555555556, \"#d8576b\"], [0.6666666666666666, \"#ed7953\"], [0.7777777777777778, \"#fb9f3a\"], [0.8888888888888888, \"#fdca26\"], [1.0, \"#f0f921\"]], \"type\": \"heatmapgl\"}], \"histogram\": [{\"marker\": {\"colorbar\": {\"outlinewidth\": 0, \"ticks\": \"\"}}, \"type\": \"histogram\"}], \"histogram2d\": [{\"colorbar\": {\"outlinewidth\": 0, \"ticks\": \"\"}, \"colorscale\": [[0.0, \"#0d0887\"], [0.1111111111111111, \"#46039f\"], [0.2222222222222222, \"#7201a8\"], [0.3333333333333333, \"#9c179e\"], [0.4444444444444444, \"#bd3786\"], [0.5555555555555556, \"#d8576b\"], [0.6666666666666666, \"#ed7953\"], [0.7777777777777778, \"#fb9f3a\"], [0.8888888888888888, \"#fdca26\"], [1.0, \"#f0f921\"]], \"type\": \"histogram2d\"}], \"histogram2dcontour\": [{\"colorbar\": {\"outlinewidth\": 0, \"ticks\": \"\"}, \"colorscale\": [[0.0, \"#0d0887\"], [0.1111111111111111, \"#46039f\"], [0.2222222222222222, \"#7201a8\"], [0.3333333333333333, \"#9c179e\"], [0.4444444444444444, \"#bd3786\"], [0.5555555555555556, \"#d8576b\"], [0.6666666666666666, \"#ed7953\"], [0.7777777777777778, \"#fb9f3a\"], [0.8888888888888888, \"#fdca26\"], [1.0, \"#f0f921\"]], \"type\": \"histogram2dcontour\"}], \"mesh3d\": [{\"colorbar\": {\"outlinewidth\": 0, \"ticks\": \"\"}, \"type\": \"mesh3d\"}], \"parcoords\": [{\"line\": {\"colorbar\": {\"outlinewidth\": 0, \"ticks\": \"\"}}, \"type\": \"parcoords\"}], \"pie\": [{\"automargin\": true, \"type\": \"pie\"}], \"scatter\": [{\"marker\": {\"colorbar\": {\"outlinewidth\": 0, \"ticks\": \"\"}}, \"type\": \"scatter\"}], \"scatter3d\": [{\"line\": {\"colorbar\": {\"outlinewidth\": 0, \"ticks\": \"\"}}, \"marker\": {\"colorbar\": {\"outlinewidth\": 0, \"ticks\": \"\"}}, \"type\": \"scatter3d\"}], \"scattercarpet\": [{\"marker\": {\"colorbar\": {\"outlinewidth\": 0, \"ticks\": \"\"}}, \"type\": \"scattercarpet\"}], \"scattergeo\": [{\"marker\": {\"colorbar\": {\"outlinewidth\": 0, \"ticks\": \"\"}}, \"type\": \"scattergeo\"}], \"scattergl\": [{\"marker\": {\"colorbar\": {\"outlinewidth\": 0, \"ticks\": \"\"}}, \"type\": \"scattergl\"}], \"scattermapbox\": [{\"marker\": {\"colorbar\": {\"outlinewidth\": 0, \"ticks\": \"\"}}, \"type\": \"scattermapbox\"}], \"scatterpolar\": [{\"marker\": {\"colorbar\": {\"outlinewidth\": 0, \"ticks\": \"\"}}, \"type\": \"scatterpolar\"}], \"scatterpolargl\": [{\"marker\": {\"colorbar\": {\"outlinewidth\": 0, \"ticks\": \"\"}}, \"type\": \"scatterpolargl\"}], \"scatterternary\": [{\"marker\": {\"colorbar\": {\"outlinewidth\": 0, \"ticks\": \"\"}}, \"type\": \"scatterternary\"}], \"surface\": [{\"colorbar\": {\"outlinewidth\": 0, \"ticks\": \"\"}, \"colorscale\": [[0.0, \"#0d0887\"], [0.1111111111111111, \"#46039f\"], [0.2222222222222222, \"#7201a8\"], [0.3333333333333333, \"#9c179e\"], [0.4444444444444444, \"#bd3786\"], [0.5555555555555556, \"#d8576b\"], [0.6666666666666666, \"#ed7953\"], [0.7777777777777778, \"#fb9f3a\"], [0.8888888888888888, \"#fdca26\"], [1.0, \"#f0f921\"]], \"type\": \"surface\"}], \"table\": [{\"cells\": {\"fill\": {\"color\": \"#EBF0F8\"}, \"line\": {\"color\": \"white\"}}, \"header\": {\"fill\": {\"color\": \"#C8D4E3\"}, \"line\": {\"color\": \"white\"}}, \"type\": \"table\"}]}, \"layout\": {\"annotationdefaults\": {\"arrowcolor\": \"#2a3f5f\", \"arrowhead\": 0, \"arrowwidth\": 1}, \"autotypenumbers\": \"strict\", \"coloraxis\": {\"colorbar\": {\"outlinewidth\": 0, \"ticks\": \"\"}}, \"colorscale\": {\"diverging\": [[0, \"#8e0152\"], [0.1, \"#c51b7d\"], [0.2, \"#de77ae\"], [0.3, \"#f1b6da\"], [0.4, \"#fde0ef\"], [0.5, \"#f7f7f7\"], [0.6, \"#e6f5d0\"], [0.7, \"#b8e186\"], [0.8, \"#7fbc41\"], [0.9, \"#4d9221\"], [1, \"#276419\"]], \"sequential\": [[0.0, \"#0d0887\"], [0.1111111111111111, \"#46039f\"], [0.2222222222222222, \"#7201a8\"], [0.3333333333333333, \"#9c179e\"], [0.4444444444444444, \"#bd3786\"], [0.5555555555555556, \"#d8576b\"], [0.6666666666666666, \"#ed7953\"], [0.7777777777777778, \"#fb9f3a\"], [0.8888888888888888, \"#fdca26\"], [1.0, \"#f0f921\"]], \"sequentialminus\": [[0.0, \"#0d0887\"], [0.1111111111111111, \"#46039f\"], [0.2222222222222222, \"#7201a8\"], [0.3333333333333333, \"#9c179e\"], [0.4444444444444444, \"#bd3786\"], [0.5555555555555556, \"#d8576b\"], [0.6666666666666666, \"#ed7953\"], [0.7777777777777778, \"#fb9f3a\"], [0.8888888888888888, \"#fdca26\"], [1.0, \"#f0f921\"]]}, \"colorway\": [\"#636efa\", \"#EF553B\", \"#00cc96\", \"#ab63fa\", \"#FFA15A\", \"#19d3f3\", \"#FF6692\", \"#B6E880\", \"#FF97FF\", \"#FECB52\"], \"font\": {\"color\": \"#2a3f5f\"}, \"geo\": {\"bgcolor\": \"white\", \"lakecolor\": \"white\", \"landcolor\": \"#E5ECF6\", \"showlakes\": true, \"showland\": true, \"subunitcolor\": \"white\"}, \"hoverlabel\": {\"align\": \"left\"}, \"hovermode\": \"closest\", \"mapbox\": {\"style\": \"light\"}, \"paper_bgcolor\": \"white\", \"plot_bgcolor\": \"#E5ECF6\", \"polar\": {\"angularaxis\": {\"gridcolor\": \"white\", \"linecolor\": \"white\", \"ticks\": \"\"}, \"bgcolor\": \"#E5ECF6\", \"radialaxis\": {\"gridcolor\": \"white\", \"linecolor\": \"white\", \"ticks\": \"\"}}, \"scene\": {\"xaxis\": {\"backgroundcolor\": \"#E5ECF6\", \"gridcolor\": \"white\", \"gridwidth\": 2, \"linecolor\": \"white\", \"showbackground\": true, \"ticks\": \"\", \"zerolinecolor\": \"white\"}, \"yaxis\": {\"backgroundcolor\": \"#E5ECF6\", \"gridcolor\": \"white\", \"gridwidth\": 2, \"linecolor\": \"white\", \"showbackground\": true, \"ticks\": \"\", \"zerolinecolor\": \"white\"}, \"zaxis\": {\"backgroundcolor\": \"#E5ECF6\", \"gridcolor\": \"white\", \"gridwidth\": 2, \"linecolor\": \"white\", \"showbackground\": true, \"ticks\": \"\", \"zerolinecolor\": \"white\"}}, \"shapedefaults\": {\"line\": {\"color\": \"#2a3f5f\"}}, \"ternary\": {\"aaxis\": {\"gridcolor\": \"white\", \"linecolor\": \"white\", \"ticks\": \"\"}, \"baxis\": {\"gridcolor\": \"white\", \"linecolor\": \"white\", \"ticks\": \"\"}, \"bgcolor\": \"#E5ECF6\", \"caxis\": {\"gridcolor\": \"white\", \"linecolor\": \"white\", \"ticks\": \"\"}}, \"title\": {\"x\": 0.05}, \"xaxis\": {\"automargin\": true, \"gridcolor\": \"white\", \"linecolor\": \"white\", \"ticks\": \"\", \"title\": {\"standoff\": 15}, \"zerolinecolor\": \"white\", \"zerolinewidth\": 2}, \"yaxis\": {\"automargin\": true, \"gridcolor\": \"white\", \"linecolor\": \"white\", \"ticks\": \"\", \"title\": {\"standoff\": 15}, \"zerolinecolor\": \"white\", \"zerolinewidth\": 2}}}, \"width\": 1000, \"xaxis\": {\"anchor\": \"y\", \"domain\": [0.0, 1.0], \"title\": {\"text\": \"emb1\"}}, \"yaxis\": {\"anchor\": \"x\", \"domain\": [0.0, 1.0], \"title\": {\"text\": \"emb2\"}}},                        {\"responsive\": true}                    ).then(function(){\n",
       "                            \n",
       "var gd = document.getElementById('767cb342-4a48-4b3b-a7e0-5d8f0d886434');\n",
       "var x = new MutationObserver(function (mutations, observer) {{\n",
       "        var display = window.getComputedStyle(gd).display;\n",
       "        if (!display || display === 'none') {{\n",
       "            console.log([gd, 'removed!']);\n",
       "            Plotly.purge(gd);\n",
       "            observer.disconnect();\n",
       "        }}\n",
       "}});\n",
       "\n",
       "// Listen for the removal of the full notebook cells\n",
       "var notebookContainer = gd.closest('#notebook-container');\n",
       "if (notebookContainer) {{\n",
       "    x.observe(notebookContainer, {childList: true});\n",
       "}}\n",
       "\n",
       "// Listen for the clearing of the current output cell\n",
       "var outputEl = gd.closest('.output');\n",
       "if (outputEl) {{\n",
       "    x.observe(outputEl, {childList: true});\n",
       "}}\n",
       "\n",
       "                        })                };                });            </script>        </div>"
      ]
     },
     "metadata": {},
     "output_type": "display_data"
    }
   ],
   "source": [
    "fig = px.scatter(df_umap, x='emb1', y='emb2', hover_data=['genre'], color='supergenre', width=1000, height=800)\n",
    "fig.update_traces(marker=dict(size=6),\n",
    "                  selector=dict(mode='markers'))\n",
    "fig.show()\n",
    "fig.write_html('umap_results/genres_map.html')\n",
    "fig.write_image('umap_results/genres_map.pdf')"
   ]
  },
  {
   "cell_type": "code",
   "execution_count": null,
   "id": "663e010a-7395-4c19-82c5-fb918dda7f03",
   "metadata": {
    "executionInfo": {
     "elapsed": 251,
     "status": "aborted",
     "timestamp": 1623254800870,
     "user": {
      "displayName": "Max Stieber",
      "photoUrl": "",
      "userId": "06134571999466142767"
     },
     "user_tz": -120
    },
    "id": "663e010a-7395-4c19-82c5-fb918dda7f03"
   },
   "outputs": [],
   "source": [
    "fit = umap.UMAP(metric='precomputed', n_components=3)\n",
    "u_log_3_dim = fit.fit_transform(dm_log)"
   ]
  },
  {
   "cell_type": "code",
   "execution_count": null,
   "id": "77808f11-5c1d-434a-8e9f-b1e25cb9e8cd",
   "metadata": {
    "executionInfo": {
     "elapsed": 255,
     "status": "aborted",
     "timestamp": 1623254800874,
     "user": {
      "displayName": "Max Stieber",
      "photoUrl": "",
      "userId": "06134571999466142767"
     },
     "user_tz": -120
    },
    "id": "77808f11-5c1d-434a-8e9f-b1e25cb9e8cd"
   },
   "outputs": [],
   "source": [
    "genre_names = np.expand_dims(np.array(sorted(all_shortest_paths_log.keys())), axis=1)\n",
    "df_umap_3d = pd.DataFrame(np.concatenate((genre_names, u_log_3_dim), axis=1) , columns=['genre', 'emb1', 'emb2', 'emb3'])\n",
    "for col in ['emb1', 'emb2', 'emb3']:\n",
    "    df_umap_3d[col] = pd.to_numeric(df_umap_3d[col])\n",
    "    \n",
    "df_umap_3d['supergenre'] = df_umap_3d['genre'].map(genres_mapping_norm)"
   ]
  },
  {
   "cell_type": "code",
   "execution_count": null,
   "id": "5b466dc2-58a5-45b5-8f84-d89037787c3f",
   "metadata": {
    "executionInfo": {
     "elapsed": 255,
     "status": "aborted",
     "timestamp": 1623254800875,
     "user": {
      "displayName": "Max Stieber",
      "photoUrl": "",
      "userId": "06134571999466142767"
     },
     "user_tz": -120
    },
    "id": "5b466dc2-58a5-45b5-8f84-d89037787c3f"
   },
   "outputs": [],
   "source": [
    "fig_3d = px.scatter_3d(\n",
    "    df_umap_3d, x='emb1', y='emb2', z='emb3',\n",
    "    color='supergenre', labels={'color': 'supergenre'},\n",
    "    \n",
    ")\n",
    "fig_3d.update_traces(marker_size=3)\n",
    "fig_3d.show(renderer=\"colab\")"
   ]
  },
  {
   "cell_type": "code",
   "execution_count": null,
   "id": "6e2d433e-1824-4632-8f26-506377a89c80",
   "metadata": {
    "id": "6e2d433e-1824-4632-8f26-506377a89c80"
   },
   "outputs": [],
   "source": [
    "genres_emb = {}\n",
    "for index, row in df_umap_3d.iterrows():\n",
    "    genres_emb[row['genre']] = (row['emb1'], row['emb2'], row['emb3'])"
   ]
  },
  {
   "cell_type": "code",
   "execution_count": null,
   "id": "d204e249-960d-4098-8f9c-170209a6e512",
   "metadata": {
    "id": "d204e249-960d-4098-8f9c-170209a6e512"
   },
   "outputs": [],
   "source": [
    "import json\n",
    "with open('../data/genres_3d_mapping.json', 'w') as f:\n",
    "    json.dump(genres_emb, f)"
   ]
  },
  {
   "cell_type": "code",
   "execution_count": null,
   "id": "jg0CoqaDnLsq",
   "metadata": {
    "id": "jg0CoqaDnLsq"
   },
   "outputs": [],
   "source": [
    "import json\n",
    "with open('/content/drive/MyDrive/MLBD/data/genres_3d_mapping.json') as f:\n",
    "  genres_emb = json.load(f)"
   ]
  },
  {
   "cell_type": "code",
   "execution_count": null,
   "id": "0531062c-f198-481b-b89d-df693a5cf33f",
   "metadata": {
    "id": "0531062c-f198-481b-b89d-df693a5cf33f"
   },
   "outputs": [],
   "source": [
    "def genres2embedding(genres):\n",
    "    def extract_embeddings(genres):\n",
    "        embeddings = []\n",
    "        for genre in genres:\n",
    "            if genre in genres_emb:\n",
    "                emb = genres_emb[genre]\n",
    "                embeddings.append(emb)\n",
    "            else:\n",
    "                print(f'{genre} is not in our embedding')\n",
    "        return np.array(embeddings)\n",
    "    if len(genres) > 1:\n",
    "        embeddings = extract_embeddings(genres)\n",
    "        dist = pairwise_distances(embeddings)\n",
    "        dist[dist == 0] = np.inf\n",
    "        ind1, ind2 = np.unravel_index(np.argmin(dist), dist.shape)\n",
    "        return np.mean(embeddings[(ind1, ind2), :], axis=0)\n",
    "    elif (len(genres) == 1) & (genres[0] != ''):\n",
    "        if genres[0] in genres_emb:\n",
    "            return genres_emb[genres[0]]\n",
    "        else:\n",
    "            print(f'{genres[0]} is not in among the embeddings.')\n",
    "    else:\n",
    "        return None"
   ]
  },
  {
   "cell_type": "code",
   "execution_count": null,
   "id": "e2ef3bdf-a563-47bd-8f1b-b6b662702082",
   "metadata": {
    "colab": {
     "base_uri": "https://localhost:8080/"
    },
    "executionInfo": {
     "elapsed": 216100,
     "status": "ok",
     "timestamp": 1622406339534,
     "user": {
      "displayName": "Max Stieber",
      "photoUrl": "",
      "userId": "06134571999466142767"
     },
     "user_tz": -120
    },
    "id": "e2ef3bdf-a563-47bd-8f1b-b6b662702082",
    "outputId": "5de08296-3071-420b-8d61-a47fc6d714c0"
   },
   "outputs": [],
   "source": [
    "df_features['genres_emb'] = df_features['genres'].apply(lambda x: genres2embedding(x))"
   ]
  },
  {
   "cell_type": "code",
   "execution_count": null,
   "id": "63b0aa07-c884-4a2c-90bb-53d302647ea8",
   "metadata": {
    "id": "63b0aa07-c884-4a2c-90bb-53d302647ea8"
   },
   "outputs": [],
   "source": [
    "array_exploded = [np.array([None, None, None]) if row is None else row for row in df_features['genres_emb'].to_list()]\n",
    "df_features[['emb_x', 'emb_y', 'emb_z']] = pd.DataFrame(array_exploded)"
   ]
  },
  {
   "cell_type": "code",
   "execution_count": null,
   "id": "401edef9-7a5b-4839-9712-b62f19cadf77",
   "metadata": {
    "id": "401edef9-7a5b-4839-9712-b62f19cadf77"
   },
   "outputs": [],
   "source": [
    "df_features.to_csv('../data/feature_df_with_emb.csv')"
   ]
  },
  {
   "cell_type": "code",
   "execution_count": null,
   "id": "6uB4kj--n--V",
   "metadata": {
    "id": "6uB4kj--n--V"
   },
   "outputs": [],
   "source": [
    "df_features.to_csv('/content/drive/MyDrive/MLBD/data/feature_df_with_emb_clean.csv')"
   ]
  },
  {
   "cell_type": "code",
   "execution_count": null,
   "id": "3a821668-8fe1-43f7-97e0-12d7624eff32",
   "metadata": {
    "id": "3a821668-8fe1-43f7-97e0-12d7624eff32"
   },
   "outputs": [],
   "source": [
    "df_features = pd.read_csv('../data/feature_df_with_emb.csv', index_col='Unnamed: 0')"
   ]
  },
  {
   "cell_type": "code",
   "execution_count": null,
   "id": "2v7o1L0noWup",
   "metadata": {
    "id": "2v7o1L0noWup"
   },
   "outputs": [],
   "source": [
    "df_features = pd.read_csv('/content/drive/MyDrive/MLBD/data/feature_df_with_emb_clean.csv', index_col='Unnamed: 0')"
   ]
  },
  {
   "cell_type": "code",
   "execution_count": null,
   "id": "JieF2eN7IKo3",
   "metadata": {
    "colab": {
     "base_uri": "https://localhost:8080/",
     "height": 34
    },
    "executionInfo": {
     "elapsed": 235,
     "status": "ok",
     "timestamp": 1622563413922,
     "user": {
      "displayName": "Max Stieber",
      "photoUrl": "",
      "userId": "06134571999466142767"
     },
     "user_tz": -120
    },
    "id": "JieF2eN7IKo3",
    "outputId": "0df77761-722a-41be-f76e-b0c64a9d47e7"
   },
   "outputs": [
    {
     "data": {
      "application/vnd.google.colaboratory.intrinsic+json": {
       "type": "string"
      },
      "text/plain": [
       "\"['rock', 'funk metal', 'funk rock', 'alternative rock', 'permanent wave']\""
      ]
     },
     "execution_count": 29,
     "metadata": {
      "tags": []
     },
     "output_type": "execute_result"
    }
   ],
   "source": [
    "df_features.iloc[[5331, 6930]]['genres'].iloc[1]"
   ]
  },
  {
   "cell_type": "markdown",
   "id": "81ea4c63-6555-4d50-b26e-33e3b53f4671",
   "metadata": {
    "id": "81ea4c63-6555-4d50-b26e-33e3b53f4671"
   },
   "source": [
    "## Create an embedding of the genres"
   ]
  },
  {
   "cell_type": "code",
   "execution_count": null,
   "id": "828ffaac-0308-4cd6-bb29-c40f383d7f19",
   "metadata": {
    "id": "828ffaac-0308-4cd6-bb29-c40f383d7f19"
   },
   "outputs": [],
   "source": [
    "umap_features = df_features[['danceability',\n",
    "                             'energy',\n",
    "                             'speechiness', \n",
    "                             'acousticness', \n",
    "                             'instrumentalness', \n",
    "                             'liveness',\n",
    "                             'valence', \n",
    "                             'tempo', \n",
    "                             'popularity', \n",
    "                             'emb_x', \n",
    "                             'emb_y',\n",
    "                             'emb_z']]"
   ]
  },
  {
   "cell_type": "code",
   "execution_count": null,
   "id": "ztDaNzyhViyP",
   "metadata": {
    "id": "ztDaNzyhViyP"
   },
   "outputs": [],
   "source": [
    "umap_features = umap_features.dropna()"
   ]
  },
  {
   "cell_type": "code",
   "execution_count": null,
   "id": "9KgDU13_fzhG",
   "metadata": {
    "id": "9KgDU13_fzhG"
   },
   "outputs": [],
   "source": [
    "numerical_columns = umap_features.select_dtypes(include=['float','int']).columns\n",
    "umap_features[numerical_columns] = MinMaxScaler().fit_transform(umap_features[numerical_columns].values)"
   ]
  },
  {
   "cell_type": "code",
   "execution_count": null,
   "id": "rVN_IxNoI55D",
   "metadata": {
    "id": "rVN_IxNoI55D"
   },
   "outputs": [],
   "source": [
    "umap_features_fit = umap_features.iloc[np.random.choice(len(umap_features), 600000, replace=False)]"
   ]
  },
  {
   "cell_type": "code",
   "execution_count": null,
   "id": "w--jLqcrzVMs",
   "metadata": {
    "colab": {
     "base_uri": "https://localhost:8080/",
     "height": 805
    },
    "executionInfo": {
     "elapsed": 2878,
     "status": "ok",
     "timestamp": 1622493725284,
     "user": {
      "displayName": "Max Stieber",
      "photoUrl": "",
      "userId": "06134571999466142767"
     },
     "user_tz": -120
    },
    "id": "w--jLqcrzVMs",
    "outputId": "7bdc85a4-5537-4ed8-e0d6-32bb76a7ed7a"
   },
   "outputs": [
    {
     "data": {
      "image/png": "[encoded data removed]",
      "text/plain": [
       "<Figure size 1440x1080 with 12 Axes>"
      ]
     },
     "metadata": {
      "needs_background": "light",
      "tags": []
     },
     "output_type": "display_data"
    }
   ],
   "source": [
    "umap_features.hist(figsize=(20,15))\n",
    "plt.show()"
   ]
  },
  {
   "cell_type": "code",
   "execution_count": null,
   "id": "doYgEaC2ThXq",
   "metadata": {
    "id": "doYgEaC2ThXq"
   },
   "outputs": [],
   "source": [
    "reducer = umap.UMAP(metric='correlation', low_memory=True)\n",
    "model = reducer.fit(umap_features_fit.values)"
   ]
  },
  {
   "cell_type": "code",
   "execution_count": null,
   "id": "TX-JgMKtsHjV",
   "metadata": {
    "id": "TX-JgMKtsHjV"
   },
   "outputs": [],
   "source": [
    "song_map = model.transform(umap_features)"
   ]
  },
  {
   "cell_type": "code",
   "execution_count": null,
   "id": "MqF4ZXhiIPrn",
   "metadata": {
    "id": "MqF4ZXhiIPrn"
   },
   "outputs": [],
   "source": [
    "umap_features[['song_emb_x', 'song_emb_y']] = song_map"
   ]
  },
  {
   "cell_type": "code",
   "execution_count": null,
   "id": "bEemDI4wI0_I",
   "metadata": {
    "id": "bEemDI4wI0_I"
   },
   "outputs": [],
   "source": [
    "song_map = umap_features[['song_emb_x', 'song_emb_y']].merge(df_features, left_index=True, right_index=True)"
   ]
  },
  {
   "cell_type": "code",
   "execution_count": null,
   "id": "HsA5dX5JMIpr",
   "metadata": {
    "id": "HsA5dX5JMIpr"
   },
   "outputs": [],
   "source": [
    "song_map"
   ]
  },
  {
   "cell_type": "code",
   "execution_count": null,
   "id": "LmCfrFVX_-E8",
   "metadata": {
    "id": "LmCfrFVX_-E8"
   },
   "outputs": [],
   "source": [
    "df_songs = pd.read_csv('/content/drive/MyDrive/MLBD/data/spotify_uris.csv')\n",
    "df_songs"
   ]
  },
  {
   "cell_type": "code",
   "execution_count": null,
   "id": "UsWVZp8XB0Xr",
   "metadata": {
    "id": "UsWVZp8XB0Xr"
   },
   "outputs": [],
   "source": [
    "df_songs['track + artist'] = df_songs['track'] + df_songs['artist']\n",
    "song_map['track + artist'] = song_map['track'] + song_map['artist']\n",
    "song_map = song_map.merge(df_songs[['track_id', 'album_id', 'track + artist']], how='left', left_on='track + artist', right_on='track + artist')"
   ]
  },
  {
   "cell_type": "code",
   "execution_count": null,
   "id": "OUyFVGVjCog3",
   "metadata": {
    "id": "OUyFVGVjCog3"
   },
   "outputs": [],
   "source": [
    "song_map"
   ]
  },
  {
   "cell_type": "code",
   "execution_count": null,
   "id": "s1QggxRwd_kg",
   "metadata": {
    "id": "s1QggxRwd_kg"
   },
   "outputs": [],
   "source": [
    "song_map.drop(columns='track + artist').to_csv('/content/drive/MyDrive/MLBD/data/song_map_corr.csv')"
   ]
  },
  {
   "cell_type": "code",
   "execution_count": null,
   "id": "coOBPYKZJ6aJ",
   "metadata": {
    "id": "coOBPYKZJ6aJ"
   },
   "outputs": [],
   "source": [
    "song_map['supergenre'] = song_map['genre'].map(genres_mapping_norm)"
   ]
  },
  {
   "cell_type": "code",
   "execution_count": null,
   "id": "Wgm1rIRi5zcv",
   "metadata": {
    "colab": {
     "base_uri": "https://localhost:8080/"
    },
    "executionInfo": {
     "elapsed": 25,
     "status": "ok",
     "timestamp": 1622410489466,
     "user": {
      "displayName": "Max Stieber",
      "photoUrl": "",
      "userId": "06134571999466142767"
     },
     "user_tz": -120
    },
    "id": "Wgm1rIRi5zcv",
    "outputId": "aca4a121-1693-48b4-e51a-96aac32395ad"
   },
   "outputs": [
    {
     "data": {
      "text/html": [
       "<div>\n",
       "<style scoped>\n",
       "    .dataframe tbody tr th:only-of-type {\n",
       "        vertical-align: middle;\n",
       "    }\n",
       "\n",
       "    .dataframe tbody tr th {\n",
       "        vertical-align: top;\n",
       "    }\n",
       "\n",
       "    .dataframe thead th {\n",
       "        text-align: right;\n",
       "    }\n",
       "</style>\n",
       "<table border=\"1\" class=\"dataframe\">\n",
       "  <thead>\n",
       "    <tr style=\"text-align: right;\">\n",
       "      <th></th>\n",
       "      <th>song_emb_x</th>\n",
       "      <th>song_emb_y</th>\n",
       "      <th>artist</th>\n",
       "      <th>track</th>\n",
       "      <th>danceability</th>\n",
       "      <th>energy</th>\n",
       "      <th>key</th>\n",
       "      <th>loudness</th>\n",
       "      <th>mode</th>\n",
       "      <th>speechiness</th>\n",
       "      <th>acousticness</th>\n",
       "      <th>instrumentalness</th>\n",
       "      <th>liveness</th>\n",
       "      <th>valence</th>\n",
       "      <th>tempo</th>\n",
       "      <th>duration_ms</th>\n",
       "      <th>genres</th>\n",
       "      <th>popularity</th>\n",
       "      <th>genres_emb</th>\n",
       "      <th>emb_x</th>\n",
       "      <th>emb_y</th>\n",
       "      <th>emb_z</th>\n",
       "    </tr>\n",
       "  </thead>\n",
       "  <tbody>\n",
       "    <tr>\n",
       "      <th>0</th>\n",
       "      <td>1.902900</td>\n",
       "      <td>-2.337135</td>\n",
       "      <td>坂本龍一</td>\n",
       "      <td>Composition 0919 (Live_2009_4_15)</td>\n",
       "      <td>0.806</td>\n",
       "      <td>0.413</td>\n",
       "      <td>5.0</td>\n",
       "      <td>-12.883</td>\n",
       "      <td>1.0</td>\n",
       "      <td>0.1560</td>\n",
       "      <td>0.98700</td>\n",
       "      <td>0.794000</td>\n",
       "      <td>0.1130</td>\n",
       "      <td>0.5290</td>\n",
       "      <td>105.089</td>\n",
       "      <td>330253.0</td>\n",
       "      <td>[japanese soundtrack, japanese classical, anim...</td>\n",
       "      <td>62</td>\n",
       "      <td>[7.375276599999999, 4.8944925, 0.9434927099999...</td>\n",
       "      <td>7.375277</td>\n",
       "      <td>4.894493</td>\n",
       "      <td>0.943493</td>\n",
       "    </tr>\n",
       "    <tr>\n",
       "      <th>1</th>\n",
       "      <td>3.213105</td>\n",
       "      <td>10.087118</td>\n",
       "      <td>坂本龍一</td>\n",
       "      <td>Hibari (Live_2009_4_15)</td>\n",
       "      <td>0.604</td>\n",
       "      <td>0.283</td>\n",
       "      <td>9.0</td>\n",
       "      <td>-19.811</td>\n",
       "      <td>0.0</td>\n",
       "      <td>0.0583</td>\n",
       "      <td>0.99600</td>\n",
       "      <td>0.916000</td>\n",
       "      <td>0.1140</td>\n",
       "      <td>0.2700</td>\n",
       "      <td>137.802</td>\n",
       "      <td>540133.0</td>\n",
       "      <td>[japanese soundtrack, japanese classical, anim...</td>\n",
       "      <td>62</td>\n",
       "      <td>[7.375276599999999, 4.8944925, 0.9434927099999...</td>\n",
       "      <td>7.375277</td>\n",
       "      <td>4.894493</td>\n",
       "      <td>0.943493</td>\n",
       "    </tr>\n",
       "    <tr>\n",
       "      <th>2</th>\n",
       "      <td>3.130475</td>\n",
       "      <td>10.416649</td>\n",
       "      <td>坂本龍一</td>\n",
       "      <td>To Stanford (Live_2009_4_15)</td>\n",
       "      <td>0.453</td>\n",
       "      <td>0.163</td>\n",
       "      <td>5.0</td>\n",
       "      <td>-20.922</td>\n",
       "      <td>1.0</td>\n",
       "      <td>0.0519</td>\n",
       "      <td>0.99000</td>\n",
       "      <td>0.939000</td>\n",
       "      <td>0.1010</td>\n",
       "      <td>0.0703</td>\n",
       "      <td>73.926</td>\n",
       "      <td>216853.0</td>\n",
       "      <td>[japanese indie folk, japanese soundtrack, jap...</td>\n",
       "      <td>39</td>\n",
       "      <td>[7.375276599999999, 4.8944925, 0.9434927099999...</td>\n",
       "      <td>7.375277</td>\n",
       "      <td>4.894493</td>\n",
       "      <td>0.943493</td>\n",
       "    </tr>\n",
       "    <tr>\n",
       "      <th>3</th>\n",
       "      <td>3.186497</td>\n",
       "      <td>10.799794</td>\n",
       "      <td>坂本龍一</td>\n",
       "      <td>Improvisation (Live_2009_4_15)</td>\n",
       "      <td>0.217</td>\n",
       "      <td>0.012</td>\n",
       "      <td>5.0</td>\n",
       "      <td>-36.464</td>\n",
       "      <td>1.0</td>\n",
       "      <td>0.0376</td>\n",
       "      <td>0.99100</td>\n",
       "      <td>0.859000</td>\n",
       "      <td>0.0866</td>\n",
       "      <td>0.0376</td>\n",
       "      <td>80.714</td>\n",
       "      <td>384707.0</td>\n",
       "      <td>[japanese soundtrack, japanese classical, anim...</td>\n",
       "      <td>62</td>\n",
       "      <td>[7.375276599999999, 4.8944925, 0.9434927099999...</td>\n",
       "      <td>7.375277</td>\n",
       "      <td>4.894493</td>\n",
       "      <td>0.943493</td>\n",
       "    </tr>\n",
       "    <tr>\n",
       "      <th>4</th>\n",
       "      <td>3.154623</td>\n",
       "      <td>10.302559</td>\n",
       "      <td>坂本龍一</td>\n",
       "      <td>Glacier (Live_2009_4_15)</td>\n",
       "      <td>0.518</td>\n",
       "      <td>0.213</td>\n",
       "      <td>9.0</td>\n",
       "      <td>-28.790</td>\n",
       "      <td>0.0</td>\n",
       "      <td>0.2090</td>\n",
       "      <td>0.86900</td>\n",
       "      <td>0.898000</td>\n",
       "      <td>0.1030</td>\n",
       "      <td>0.0920</td>\n",
       "      <td>104.191</td>\n",
       "      <td>580707.0</td>\n",
       "      <td>[japanese soundtrack, japanese classical, anim...</td>\n",
       "      <td>62</td>\n",
       "      <td>[7.375276599999999, 4.8944925, 0.9434927099999...</td>\n",
       "      <td>7.375277</td>\n",
       "      <td>4.894493</td>\n",
       "      <td>0.943493</td>\n",
       "    </tr>\n",
       "    <tr>\n",
       "      <th>...</th>\n",
       "      <td>...</td>\n",
       "      <td>...</td>\n",
       "      <td>...</td>\n",
       "      <td>...</td>\n",
       "      <td>...</td>\n",
       "      <td>...</td>\n",
       "      <td>...</td>\n",
       "      <td>...</td>\n",
       "      <td>...</td>\n",
       "      <td>...</td>\n",
       "      <td>...</td>\n",
       "      <td>...</td>\n",
       "      <td>...</td>\n",
       "      <td>...</td>\n",
       "      <td>...</td>\n",
       "      <td>...</td>\n",
       "      <td>...</td>\n",
       "      <td>...</td>\n",
       "      <td>...</td>\n",
       "      <td>...</td>\n",
       "      <td>...</td>\n",
       "      <td>...</td>\n",
       "    </tr>\n",
       "    <tr>\n",
       "      <th>662599</th>\n",
       "      <td>6.720860</td>\n",
       "      <td>11.313569</td>\n",
       "      <td>Ace Of Base</td>\n",
       "      <td>Whenever You'Re Near Me (Strobe'S Radio Remix)</td>\n",
       "      <td>0.626</td>\n",
       "      <td>0.863</td>\n",
       "      <td>0.0</td>\n",
       "      <td>-4.625</td>\n",
       "      <td>1.0</td>\n",
       "      <td>0.0362</td>\n",
       "      <td>0.08620</td>\n",
       "      <td>0.000841</td>\n",
       "      <td>0.0793</td>\n",
       "      <td>0.6360</td>\n",
       "      <td>97.067</td>\n",
       "      <td>211453.0</td>\n",
       "      <td>[dance pop, eurodance, europop, bubblegum danc...</td>\n",
       "      <td>68</td>\n",
       "      <td>[6.1338348, 6.96552385, 3.72065555]</td>\n",
       "      <td>6.133835</td>\n",
       "      <td>6.965524</td>\n",
       "      <td>3.720656</td>\n",
       "    </tr>\n",
       "    <tr>\n",
       "      <th>662601</th>\n",
       "      <td>11.325897</td>\n",
       "      <td>-3.707465</td>\n",
       "      <td>Ultrabeat</td>\n",
       "      <td>Better Than Life (Radio Edit)</td>\n",
       "      <td>0.535</td>\n",
       "      <td>0.988</td>\n",
       "      <td>10.0</td>\n",
       "      <td>-9.423</td>\n",
       "      <td>0.0</td>\n",
       "      <td>0.0690</td>\n",
       "      <td>0.00486</td>\n",
       "      <td>0.000295</td>\n",
       "      <td>0.3770</td>\n",
       "      <td>0.5620</td>\n",
       "      <td>142.074</td>\n",
       "      <td>192013.0</td>\n",
       "      <td>[eurodance, hardcore techno, bouncy house]</td>\n",
       "      <td>54</td>\n",
       "      <td>[5.460743, 5.192393, 4.009093999999999]</td>\n",
       "      <td>5.460743</td>\n",
       "      <td>5.192393</td>\n",
       "      <td>4.009094</td>\n",
       "    </tr>\n",
       "    <tr>\n",
       "      <th>662602</th>\n",
       "      <td>17.894558</td>\n",
       "      <td>-0.056764</td>\n",
       "      <td>O-Zone</td>\n",
       "      <td>Dragostea Din Tei (Dj Aligator Vs. Js Jay Edit)</td>\n",
       "      <td>0.812</td>\n",
       "      <td>0.968</td>\n",
       "      <td>0.0</td>\n",
       "      <td>-3.758</td>\n",
       "      <td>1.0</td>\n",
       "      <td>0.0421</td>\n",
       "      <td>0.16100</td>\n",
       "      <td>0.000000</td>\n",
       "      <td>0.0661</td>\n",
       "      <td>0.7060</td>\n",
       "      <td>130.093</td>\n",
       "      <td>213920.0</td>\n",
       "      <td>[moldovan pop, europop, bubblegum dance, eurod...</td>\n",
       "      <td>62</td>\n",
       "      <td>[6.1338348, 6.96552385, 3.72065555]</td>\n",
       "      <td>6.133835</td>\n",
       "      <td>6.965524</td>\n",
       "      <td>3.720656</td>\n",
       "    </tr>\n",
       "    <tr>\n",
       "      <th>662603</th>\n",
       "      <td>17.894527</td>\n",
       "      <td>-0.056764</td>\n",
       "      <td>O-Zone</td>\n",
       "      <td>Dragostea Din Teï (Dj Ross Radio Edit)</td>\n",
       "      <td>0.812</td>\n",
       "      <td>0.968</td>\n",
       "      <td>0.0</td>\n",
       "      <td>-3.758</td>\n",
       "      <td>1.0</td>\n",
       "      <td>0.0421</td>\n",
       "      <td>0.16100</td>\n",
       "      <td>0.000000</td>\n",
       "      <td>0.0661</td>\n",
       "      <td>0.7060</td>\n",
       "      <td>130.093</td>\n",
       "      <td>213920.0</td>\n",
       "      <td>[moldovan pop, europop, bubblegum dance, eurod...</td>\n",
       "      <td>62</td>\n",
       "      <td>[6.1338348, 6.96552385, 3.72065555]</td>\n",
       "      <td>6.133835</td>\n",
       "      <td>6.965524</td>\n",
       "      <td>3.720656</td>\n",
       "    </tr>\n",
       "    <tr>\n",
       "      <th>662605</th>\n",
       "      <td>9.196423</td>\n",
       "      <td>-0.368902</td>\n",
       "      <td>Infernal</td>\n",
       "      <td>Cheap Trick Kinda Girl</td>\n",
       "      <td>0.715</td>\n",
       "      <td>0.928</td>\n",
       "      <td>5.0</td>\n",
       "      <td>-4.126</td>\n",
       "      <td>0.0</td>\n",
       "      <td>0.0551</td>\n",
       "      <td>0.05070</td>\n",
       "      <td>0.002370</td>\n",
       "      <td>0.3440</td>\n",
       "      <td>0.5900</td>\n",
       "      <td>132.055</td>\n",
       "      <td>200533.0</td>\n",
       "      <td>[europop, bubblegum dance, eurodance]</td>\n",
       "      <td>53</td>\n",
       "      <td>[6.1338348, 6.96552385, 3.72065555]</td>\n",
       "      <td>6.133835</td>\n",
       "      <td>6.965524</td>\n",
       "      <td>3.720656</td>\n",
       "    </tr>\n",
       "  </tbody>\n",
       "</table>\n",
       "<p>600000 rows × 22 columns</p>\n",
       "</div>"
      ],
      "text/plain": [
       "        song_emb_x  song_emb_y       artist  ...     emb_x     emb_y     emb_z\n",
       "0         1.902900   -2.337135         坂本龍一  ...  7.375277  4.894493  0.943493\n",
       "1         3.213105   10.087118         坂本龍一  ...  7.375277  4.894493  0.943493\n",
       "2         3.130475   10.416649         坂本龍一  ...  7.375277  4.894493  0.943493\n",
       "3         3.186497   10.799794         坂本龍一  ...  7.375277  4.894493  0.943493\n",
       "4         3.154623   10.302559         坂本龍一  ...  7.375277  4.894493  0.943493\n",
       "...            ...         ...          ...  ...       ...       ...       ...\n",
       "662599    6.720860   11.313569  Ace Of Base  ...  6.133835  6.965524  3.720656\n",
       "662601   11.325897   -3.707465    Ultrabeat  ...  5.460743  5.192393  4.009094\n",
       "662602   17.894558   -0.056764       O-Zone  ...  6.133835  6.965524  3.720656\n",
       "662603   17.894527   -0.056764       O-Zone  ...  6.133835  6.965524  3.720656\n",
       "662605    9.196423   -0.368902     Infernal  ...  6.133835  6.965524  3.720656\n",
       "\n",
       "[600000 rows x 22 columns]"
      ]
     },
     "execution_count": 48,
     "metadata": {
      "tags": []
     },
     "output_type": "execute_result"
    }
   ],
   "source": [
    "song_map"
   ]
  },
  {
   "cell_type": "code",
   "execution_count": null,
   "id": "c86YtxfuH5IY",
   "metadata": {
    "colab": {
     "base_uri": "https://localhost:8080/",
     "height": 818,
     "output_embedded_package_id": "1dtlYoziSOPHUPuWBPrPJ-0bAUJTtIR2i"
    },
    "executionInfo": {
     "elapsed": 15545,
     "status": "ok",
     "timestamp": 1622409412393,
     "user": {
      "displayName": "Max Stieber",
      "photoUrl": "",
      "userId": "06134571999466142767"
     },
     "user_tz": -120
    },
    "id": "c86YtxfuH5IY",
    "outputId": "73947015-2bd8-430b-c401-b712b3497877"
   },
   "outputs": [
    {
     "data": {
      "text/plain": [
       "Output hidden; open in https://colab.research.google.com to view."
      ]
     },
     "metadata": {},
     "output_type": "display_data"
    }
   ],
   "source": [
    "fig = px.scatter(song_map.iloc[:100000], x='song_emb_x', y='song_emb_y', hover_data=['genres', 'track', 'artist'], color='valence', width=1000, height=800)\n",
    "fig.show(renderer=\"colab\")"
   ]
  },
  {
   "cell_type": "code",
   "execution_count": null,
   "id": "85edf3db-8798-43d8-a713-3ba6d6eafe5b",
   "metadata": {
    "id": "85edf3db-8798-43d8-a713-3ba6d6eafe5b"
   },
   "outputs": [],
   "source": [
    "df = pd.concat([df_features.iloc[:len(embedding)], pd.DataFrame(embedding, columns=['emb_x', 'emb_y'])], axis=1)\n"
   ]
  },
  {
   "cell_type": "code",
   "execution_count": null,
   "id": "1175d249-fc69-43ba-962a-68562eebf4ff",
   "metadata": {
    "id": "1175d249-fc69-43ba-962a-68562eebf4ff"
   },
   "outputs": [],
   "source": [
    "for feature in tqdm(df.columns[df.dtypes=='float64']):\n",
    "    fig = px.scatter(df, x='emb_x', y='emb_y', hover_data=['genres', 'artist', 'track'], color=feature)\n",
    "    fig.write_html(f'{feature}.html')"
   ]
  }
 ],
 "metadata": {
  "colab": {
   "name": "recommender_track_based_v4.ipynb",
   "provenance": [],
   "toc_visible": true
  },
  "kernelspec": {
   "display_name": "Python 3",
   "language": "python",
   "name": "python3"
  },
  "language_info": {
   "codemirror_mode": {
    "name": "ipython",
    "version": 3
   },
   "file_extension": ".py",
   "mimetype": "text/x-python",
   "name": "python",
   "nbconvert_exporter": "python",
   "pygments_lexer": "ipython3",
   "version": "3.9.2"
  }
 },
 "nbformat": 4,
 "nbformat_minor": 5
}
